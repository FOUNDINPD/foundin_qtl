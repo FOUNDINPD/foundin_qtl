{
 "cells": [
  {
   "cell_type": "markdown",
   "id": "cc8f2358",
   "metadata": {},
   "source": [
    "#### Notebook to plot expression by genotypes for eQTL result\n",
    "ie visualize genotype's effect on expression for specific variant(s)"
   ]
  },
  {
   "cell_type": "code",
   "execution_count": 1,
   "id": "23211da1",
   "metadata": {},
   "outputs": [
    {
     "name": "stdout",
     "output_type": "stream",
     "text": [
      "Fri Aug  6 10:20:08 UTC 2021\n"
     ]
    }
   ],
   "source": [
    "!date"
   ]
  },
  {
   "cell_type": "markdown",
   "id": "8615262c",
   "metadata": {},
   "source": [
    "#### import libraries and set notebook variables"
   ]
  },
  {
   "cell_type": "code",
   "execution_count": 2,
   "id": "ff42d7e5",
   "metadata": {},
   "outputs": [
    {
     "name": "stdout",
     "output_type": "stream",
     "text": [
      "Warning: 'rfunc' cannot be imported. R and the 'rpy2' Python package are needed.\n",
      "PyTorch 1.9.0\n",
      "Pandas 1.3.0\n"
     ]
    }
   ],
   "source": [
    "import pandas as pd\n",
    "import torch\n",
    "import tensorqtl.tensorqtl as tensorqtl\n",
    "from tensorqtl.tensorqtl import genotypeio\n",
    "print('PyTorch {}'.format(torch.__version__))\n",
    "print('Pandas {}'.format(pd.__version__))\n",
    "import seaborn as sns\n",
    "import matplotlib.pyplot as plt"
   ]
  },
  {
   "cell_type": "code",
   "execution_count": 3,
   "id": "b1fdd5db",
   "metadata": {
    "tags": [
     "parameters"
    ]
   },
   "outputs": [],
   "source": [
    "# parameters\n",
    "cohort = 'foundin'\n",
    "version = 'amppdv1'\n",
    "day = 'da65'\n",
    "cell_type = 'DA'\n",
    "# gene_name = 'TRIM72'\n",
    "# gene_id = 'ENSG00000177238.13'\n",
    "# variant = 'rs11150601'\n",
    "# interaction_term = 'ImmatureDopaminergicNeurons'\n",
    "gene_name = 'KANSL1'\n",
    "gene_id = 'ENSG00000120071.14'\n",
    "variant = 'rs62053943'\n",
    "interaction_term = None\n",
    "term_file = '/home/jupyter/foundin/eqtl/sample_info/foundin_rnab_sample_info.csv'\n",
    "# interaction_term = 'DAn'\n",
    "# term_file = '/home/jupyter/foundin/eqtl/sample_info/foundin_rnab_sample_info.csv'\n",
    "# interaction_term = 'GRS'\n",
    "# term_file = '/home/jupyter/ppmi/sample_info/ppmi.grs.scaled.csv'"
   ]
  },
  {
   "cell_type": "code",
   "execution_count": 4,
   "id": "1793a25a",
   "metadata": {},
   "outputs": [],
   "source": [
    "# naming\n",
    "cohort_version = f'{cohort}.{version}'\n",
    "cohort_set = f'{cohort}.{day}.{cell_type}'\n",
    "\n",
    "if interaction_term == '':\n",
    "    interaction_term = None\n",
    "    term_file = None\n",
    "\n",
    "# directories\n",
    "home_dir = f'/home/jupyter'\n",
    "wrk_dir = f'/{home_dir}/sceqtl'\n",
    "geno_dir = f'{wrk_dir}/genotypes'\n",
    "quants_dir = f'{wrk_dir}/quants'\n",
    "\n",
    "# input files\n",
    "# expr_files = {visit: f'{expr_dir}/{cohort}.{tissue}{visit}.norm.adj.bed.gz' for visit in visits}\n",
    "quants_bed_file = f'{quants_dir}/{cohort_set}.scaled.adj.bed.gz'\n",
    "bfile_prefix_path = f'{geno_dir}/{cohort_version}.bfile'\n",
    "gencode_pkl = f'{quants_dir}/gencode_v29.lncipedia_v5_2_hc.annotation.pkl'\n",
    "\n",
    "# output files\n"
   ]
  },
  {
   "cell_type": "markdown",
   "id": "1eaac28e",
   "metadata": {},
   "source": [
    "#### load plink bfiles"
   ]
  },
  {
   "cell_type": "code",
   "execution_count": 5,
   "id": "b3eb6b51",
   "metadata": {},
   "outputs": [
    {
     "name": "stderr",
     "output_type": "stream",
     "text": [
      "Mapping files: 100%|██████████| 3/3 [00:12<00:00,  4.12s/it]\n"
     ]
    },
    {
     "name": "stdout",
     "output_type": "stream",
     "text": [
      "CPU times: user 1min 8s, sys: 3.93 s, total: 1min 12s\n",
      "Wall time: 1min 4s\n"
     ]
    }
   ],
   "source": [
    "%%time\n",
    "\n",
    "# pr = genotypeio.PlinkReader(bfile_prefix_path, select_samples=phenotype_df.columns)\n",
    "pr = genotypeio.PlinkReader(bfile_prefix_path)\n",
    "genotype_df = pr.load_genotypes()\n",
    "variant_df = pr.bim.set_index('snp')[['chrom', 'pos']]"
   ]
  },
  {
   "cell_type": "code",
   "execution_count": 6,
   "id": "d173ed9e",
   "metadata": {},
   "outputs": [],
   "source": [
    "# display(genotype_df.head())\n",
    "# display(variant_df.head())"
   ]
  },
  {
   "cell_type": "markdown",
   "id": "911bff32",
   "metadata": {},
   "source": [
    "#### load phenotypes and covariates (if needed)"
   ]
  },
  {
   "cell_type": "code",
   "execution_count": 7,
   "id": "07bffd79",
   "metadata": {},
   "outputs": [
    {
     "name": "stdout",
     "output_type": "stream",
     "text": [
      "phenotype_df (11006, 83)\n",
      "phenotype_pos_df (11006, 2)\n",
      "CPU times: user 287 ms, sys: 3.19 ms, total: 290 ms\n",
      "Wall time: 290 ms\n"
     ]
    }
   ],
   "source": [
    "%%time\n",
    "\n",
    "phenotype_df, phenotype_pos_df = tensorqtl.read_phenotype_bed(quants_bed_file)\n",
    "print(f'phenotype_df {phenotype_df.shape}')\n",
    "print(f'phenotype_pos_df {phenotype_pos_df.shape}')"
   ]
  },
  {
   "cell_type": "code",
   "execution_count": 8,
   "id": "efca1263",
   "metadata": {},
   "outputs": [],
   "source": [
    "# display(phenotype_df.head())\n",
    "# display(phenotype_pos_df.head())"
   ]
  },
  {
   "cell_type": "code",
   "execution_count": 9,
   "id": "545e10b4",
   "metadata": {},
   "outputs": [],
   "source": [
    "if not interaction_term is None:\n",
    "    covs_df = pd.read_csv(term_file, index_col=0)\n",
    "    print(f'covariates_df {covs_df.shape}')\n",
    "    # go ahead and subset to specified term of interest\n",
    "    # have two different covariate and interaction term formats to deal with\n",
    "    try:\n",
    "        term_df = covs_df.loc[(covs_df['day'] == day) & \n",
    "                              (covs_df['sampleid'].isin(phenotype_df.columns)), \n",
    "                              ['day', 'sampleid', interaction_term]]\n",
    "    except:\n",
    "        term_df = covs_df.loc[(covs_df.index.isin(phenotype_df.columns)), \n",
    "                              [interaction_term]].copy()\n",
    "        term_df['day'] = visit_name\n",
    "        term_df['sampleid'] = term_df.index\n",
    "    print(f'term_df {term_df.shape}')\n",
    "#     display(term_df.head())\n",
    "else:\n",
    "    term_df = None"
   ]
  },
  {
   "cell_type": "markdown",
   "id": "91631ca9",
   "metadata": {},
   "source": [
    "#### subset dataframes to relevant features and transpose"
   ]
  },
  {
   "cell_type": "code",
   "execution_count": 10,
   "id": "89c339d3",
   "metadata": {},
   "outputs": [
    {
     "name": "stdout",
     "output_type": "stream",
     "text": [
      "(83, 1)\n"
     ]
    }
   ],
   "source": [
    "gene_pheno_df = phenotype_df.loc[phenotype_df.index == gene_name].T\n",
    "print(gene_pheno_df.shape)\n",
    "# display(gene_pheno_df.head())"
   ]
  },
  {
   "cell_type": "code",
   "execution_count": 11,
   "id": "4963d145",
   "metadata": {},
   "outputs": [
    {
     "name": "stdout",
     "output_type": "stream",
     "text": [
      "(119, 1)\n"
     ]
    }
   ],
   "source": [
    "variant_geno_df = genotype_df.loc[genotype_df.index == variant].T\n",
    "print(variant_geno_df.shape)\n",
    "# display(variant_geno_df.head())"
   ]
  },
  {
   "cell_type": "markdown",
   "id": "8e2f1539",
   "metadata": {},
   "source": [
    "#### merge the data frames"
   ]
  },
  {
   "cell_type": "code",
   "execution_count": 12,
   "id": "9fce02c4",
   "metadata": {},
   "outputs": [
    {
     "name": "stdout",
     "output_type": "stream",
     "text": [
      "(79, 2)\n",
      "(79, 2)\n"
     ]
    }
   ],
   "source": [
    "merged_df = variant_geno_df.merge(gene_pheno_df, how='inner', \n",
    "                                  left_index=True, right_index=True)\n",
    "print(merged_df.shape)\n",
    "if not term_df is None:\n",
    "    merged_df = merged_df.merge(term_df, how='inner', left_index=True, right_on='sampleid')\n",
    "\n",
    "print(merged_df.shape)\n",
    "# display(merged_df.head())"
   ]
  },
  {
   "cell_type": "markdown",
   "id": "4ac21b98",
   "metadata": {},
   "source": [
    "#### generate the plot(s)"
   ]
  },
  {
   "cell_type": "code",
   "execution_count": 13,
   "id": "342508e2",
   "metadata": {},
   "outputs": [
    {
     "data": {
      "image/png": "[encoded data removed]",
      "text/plain": [
       "<Figure size 648x648 with 1 Axes>"
      ]
     },
     "metadata": {
      "needs_background": "light"
     },
     "output_type": "display_data"
    }
   ],
   "source": [
    "# plot typical expression by genotype plot\n",
    "plt.figure(figsize=(9,9))\n",
    "sns.boxenplot(x=variant, y=gene_name, scale='exponential', \n",
    "              data=merged_df, k_depth='trustworthy')\n",
    "\n",
    "grsplt = sns.stripplot(x=variant, y=gene_name, data=merged_df, alpha=0.75, \n",
    "                       jitter=True, color='darkgrey')\n",
    "loc, labels = plt.xticks()\n",
    "grsplt.set_xticklabels(labels)\n",
    "plt.title(f'{gene_name} expression by {variant} genotype', fontsize='large') \n",
    "plt.xlabel('Genotype')\n",
    "plt.ylabel('Expression')\n",
    "plt.show()"
   ]
  },
  {
   "cell_type": "code",
   "execution_count": 14,
   "id": "7cb2e0ec",
   "metadata": {},
   "outputs": [],
   "source": [
    "if not interaction_term is None:\n",
    "    plt.figure(figsize=(9,9))\n",
    "    sns.lmplot(x=interaction_term, \n",
    "               y=gene_name, hue=variant, \n",
    "               palette=\"dark\", height=12, data=merged_df)\n",
    "    plt.title(f'{gene_name} expression by {variant} genotype and {interaction_term} interaction', \n",
    "              fontsize='large') \n",
    "    plt.xlabel(f'{interaction_term}')\n",
    "    plt.ylabel('Expression')\n",
    "    plt.show()"
   ]
  },
  {
   "cell_type": "code",
   "execution_count": null,
   "id": "f01c69bd",
   "metadata": {},
   "outputs": [],
   "source": []
  }
 ],
 "metadata": {
  "environment": {
   "name": "pytorch-gpu.1-9.m75",
   "type": "gcloud",
   "uri": "gcr.io/deeplearning-platform-release/pytorch-gpu.1-9:m75"
  },
  "kernelspec": {
   "display_name": "Python 3",
   "language": "python",
   "name": "python3"
  },
  "language_info": {
   "codemirror_mode": {
    "name": "ipython",
    "version": 3
   },
   "file_extension": ".py",
   "mimetype": "text/x-python",
   "name": "python",
   "nbconvert_exporter": "python",
   "pygments_lexer": "ipython3",
   "version": "3.7.10"
  },
  "widgets": {
   "application/vnd.jupyter.widget-state+json": {
    "state": {},
    "version_major": 2,
    "version_minor": 0
   }
  }
 },
 "nbformat": 4,
 "nbformat_minor": 5
}
