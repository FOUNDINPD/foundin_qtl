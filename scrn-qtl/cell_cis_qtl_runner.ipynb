{
 "cells": [
  {
   "cell_type": "markdown",
   "metadata": {},
   "source": [
    "## Notebook to runner for FOUNDIN-PD running SCRN eQTL analysis by cell-type via papermill"
   ]
  },
  {
   "cell_type": "code",
   "execution_count": 1,
   "metadata": {},
   "outputs": [
    {
     "name": "stdout",
     "output_type": "stream",
     "text": [
      "Thu Aug  5 15:39:29 UTC 2021\n"
     ]
    }
   ],
   "source": [
    "!date"
   ]
  },
  {
   "cell_type": "markdown",
   "metadata": {},
   "source": [
    "#### import libraries"
   ]
  },
  {
   "cell_type": "code",
   "execution_count": 2,
   "metadata": {},
   "outputs": [
    {
     "name": "stderr",
     "output_type": "stream",
     "text": [
      "/opt/conda/lib/python3.7/site-packages/papermill/iorw.py:50: FutureWarning: pyarrow.HadoopFileSystem is deprecated as of 2.0.0, please use pyarrow.fs.HadoopFileSystem instead.\n",
      "  from pyarrow import HadoopFileSystem\n"
     ]
    }
   ],
   "source": [
    "import pandas as pd\n",
    "import os\n",
    "import papermill as pm\n",
    "import shutil"
   ]
  },
  {
   "cell_type": "code",
   "execution_count": 3,
   "metadata": {},
   "outputs": [],
   "source": [
    "# base notebook to be run per tuple iteration\n",
    "base_notebook = '/home/jupyter/notebooks/cell_cis_qtl_tensorqtl.ipynb'\n",
    "\n",
    "# output path for the generated notebooks\n",
    "out_nb_dir = '/home/jupyter/notebooks'\n",
    "final_out_nb_dir = '/home/jupyter/notebooks/pm_gend_nbs'\n",
    "\n",
    "# setup iteration tuples\n",
    "cohort = 'foundin'\n",
    "version = 'amppdv1'\n",
    "cell_types = ['iDA', 'DA', 'PFPP', 'eNP', 'ElC', 'lNP', 'NlC']\n",
    "day = 'da65'\n",
    "quant_type = 'scrn'"
   ]
  },
  {
   "cell_type": "markdown",
   "metadata": {},
   "source": [
    "#### iterate over the tuples running the notebook per tuple"
   ]
  },
  {
   "cell_type": "code",
   "execution_count": 4,
   "metadata": {},
   "outputs": [
    {
     "name": "stdout",
     "output_type": "stream",
     "text": [
      "{'cohort': 'foundin', 'version': 'amppdv1', 'cell_type': 'iDA', 'day': 'da65', 'quant_type': 'scrn'}\n",
      "/home/jupyter/notebooks/foundin.da65.iDA.cis_qtl.ipynb\n"
     ]
    },
    {
     "data": {
      "application/vnd.jupyter.widget-view+json": {
       "model_id": "cf1053b298224eebb1d873aff9dc30c2",
       "version_major": 2,
       "version_minor": 0
      },
      "text/plain": [
       "Executing:   0%|          | 0/43 [00:00<?, ?cell/s]"
      ]
     },
     "metadata": {},
     "output_type": "display_data"
    },
    {
     "name": "stdout",
     "output_type": "stream",
     "text": [
      "{'cohort': 'foundin', 'version': 'amppdv1', 'cell_type': 'DA', 'day': 'da65', 'quant_type': 'scrn'}\n",
      "/home/jupyter/notebooks/foundin.da65.DA.cis_qtl.ipynb\n"
     ]
    },
    {
     "data": {
      "application/vnd.jupyter.widget-view+json": {
       "model_id": "54688d2b86a347f09c5167efb650d9da",
       "version_major": 2,
       "version_minor": 0
      },
      "text/plain": [
       "Executing:   0%|          | 0/43 [00:00<?, ?cell/s]"
      ]
     },
     "metadata": {},
     "output_type": "display_data"
    },
    {
     "name": "stdout",
     "output_type": "stream",
     "text": [
      "{'cohort': 'foundin', 'version': 'amppdv1', 'cell_type': 'PFPP', 'day': 'da65', 'quant_type': 'scrn'}\n",
      "/home/jupyter/notebooks/foundin.da65.PFPP.cis_qtl.ipynb\n"
     ]
    },
    {
     "data": {
      "application/vnd.jupyter.widget-view+json": {
       "model_id": "c6aa76bda27643fcafcd6b75a41192df",
       "version_major": 2,
       "version_minor": 0
      },
      "text/plain": [
       "Executing:   0%|          | 0/43 [00:00<?, ?cell/s]"
      ]
     },
     "metadata": {},
     "output_type": "display_data"
    },
    {
     "name": "stdout",
     "output_type": "stream",
     "text": [
      "{'cohort': 'foundin', 'version': 'amppdv1', 'cell_type': 'eNP', 'day': 'da65', 'quant_type': 'scrn'}\n",
      "/home/jupyter/notebooks/foundin.da65.eNP.cis_qtl.ipynb\n"
     ]
    },
    {
     "data": {
      "application/vnd.jupyter.widget-view+json": {
       "model_id": "b85bffb2dec149dbad2c3f892865f5a9",
       "version_major": 2,
       "version_minor": 0
      },
      "text/plain": [
       "Executing:   0%|          | 0/43 [00:00<?, ?cell/s]"
      ]
     },
     "metadata": {},
     "output_type": "display_data"
    },
    {
     "name": "stdout",
     "output_type": "stream",
     "text": [
      "{'cohort': 'foundin', 'version': 'amppdv1', 'cell_type': 'ElC', 'day': 'da65', 'quant_type': 'scrn'}\n",
      "/home/jupyter/notebooks/foundin.da65.ElC.cis_qtl.ipynb\n"
     ]
    },
    {
     "data": {
      "application/vnd.jupyter.widget-view+json": {
       "model_id": "b2a7c75416634de398dc554d1a557fdb",
       "version_major": 2,
       "version_minor": 0
      },
      "text/plain": [
       "Executing:   0%|          | 0/43 [00:00<?, ?cell/s]"
      ]
     },
     "metadata": {},
     "output_type": "display_data"
    },
    {
     "name": "stdout",
     "output_type": "stream",
     "text": [
      "{'cohort': 'foundin', 'version': 'amppdv1', 'cell_type': 'lNP', 'day': 'da65', 'quant_type': 'scrn'}\n",
      "/home/jupyter/notebooks/foundin.da65.lNP.cis_qtl.ipynb\n"
     ]
    },
    {
     "data": {
      "application/vnd.jupyter.widget-view+json": {
       "model_id": "83974d7d88714c3dae53f66c8241e793",
       "version_major": 2,
       "version_minor": 0
      },
      "text/plain": [
       "Executing:   0%|          | 0/43 [00:00<?, ?cell/s]"
      ]
     },
     "metadata": {},
     "output_type": "display_data"
    },
    {
     "name": "stdout",
     "output_type": "stream",
     "text": [
      "{'cohort': 'foundin', 'version': 'amppdv1', 'cell_type': 'NlC', 'day': 'da65', 'quant_type': 'scrn'}\n",
      "/home/jupyter/notebooks/foundin.da65.NlC.cis_qtl.ipynb\n"
     ]
    },
    {
     "data": {
      "application/vnd.jupyter.widget-view+json": {
       "model_id": "2ad894dc3f01401584e1df59b639262f",
       "version_major": 2,
       "version_minor": 0
      },
      "text/plain": [
       "Executing:   0%|          | 0/43 [00:00<?, ?cell/s]"
      ]
     },
     "metadata": {},
     "output_type": "display_data"
    },
    {
     "name": "stdout",
     "output_type": "stream",
     "text": [
      "CPU times: user 33.3 s, sys: 3.7 s, total: 37 s\n",
      "Wall time: 5h 30min 31s\n"
     ]
    }
   ],
   "source": [
    "%%time\n",
    "# make sure the notebook output dir exists\n",
    "os.makedirs(out_nb_dir, exist_ok=True)\n",
    "\n",
    "for cell_type in cell_types:\n",
    "    param_dict = {'cohort': cohort, 'version': version, \n",
    "                  'cell_type': cell_type, 'day': day, \n",
    "                  'quant_type': quant_type}\n",
    "    out_notebook = f'{out_nb_dir}/{cohort}.{day}.{cell_type}.cis_qtl.ipynb'\n",
    "    print(param_dict)\n",
    "    print(out_notebook)\n",
    "    pm.execute_notebook(input_path=base_notebook, output_path=out_notebook, \n",
    "                        parameters=param_dict)"
   ]
  },
  {
   "cell_type": "markdown",
   "metadata": {},
   "source": [
    "#### since I had to reference a local modified tensoreQTL, import used relative path, so have to generated the papermill notebook in a specific path, once done move to a pm_gen'd path"
   ]
  },
  {
   "cell_type": "code",
   "execution_count": 5,
   "metadata": {},
   "outputs": [],
   "source": [
    "for cell_type in cell_types:\n",
    "    gend_out_notebook = f'{out_nb_dir}/{cohort}.{day}.{cell_type}.cis_qtl.ipynb'\n",
    "    gend_final_notebook = f'{final_out_nb_dir}/{cohort}.{day}.{cell_type}.cis_qtl.ipynb'\n",
    "    shutil.move(gend_out_notebook, gend_final_notebook)"
   ]
  }
 ],
 "metadata": {
  "environment": {
   "name": "pytorch-gpu.1-9.m75",
   "type": "gcloud",
   "uri": "gcr.io/deeplearning-platform-release/pytorch-gpu.1-9:m75"
  },
  "kernelspec": {
   "display_name": "Python 3",
   "language": "python",
   "name": "python3"
  },
  "language_info": {
   "codemirror_mode": {
    "name": "ipython",
    "version": 3
   },
   "file_extension": ".py",
   "mimetype": "text/x-python",
   "name": "python",
   "nbconvert_exporter": "python",
   "pygments_lexer": "ipython3",
   "version": "3.7.10"
  },
  "widgets": {
   "application/vnd.jupyter.widget-state+json": {
    "state": {
     "056bc080fb78449387f46d7f41a33e8a": {
      "model_module": "@jupyter-widgets/controls",
      "model_module_version": "1.5.0",
      "model_name": "FloatProgressModel",
      "state": {
       "bar_style": "success",
       "layout": "IPY_MODEL_8ae667a4658c415584ca352bf17c74ab",
       "max": 43,
       "style": "IPY_MODEL_c9f78f5bd9c14405a6f0e679264d39a1",
       "value": 43
      }
     },
     "0778480bd3b84dd9a857bd0710e56835": {
      "model_module": "@jupyter-widgets/base",
      "model_module_version": "1.2.0",
      "model_name": "LayoutModel",
      "state": {}
     },
     "139ad84eec7a491ab0f8f511fa9414c9": {
      "model_module": "@jupyter-widgets/controls",
      "model_module_version": "1.5.0",
      "model_name": "HTMLModel",
      "state": {
       "layout": "IPY_MODEL_260aca06d394473988abe6a47c1afc4a",
       "style": "IPY_MODEL_b16ddcacfe624b0cb1a10f52891df29e",
       "value": "Executing: 100%"
      }
     },
     "170ca24e3e954befb347619dbfe64c34": {
      "model_module": "@jupyter-widgets/base",
      "model_module_version": "1.2.0",
      "model_name": "LayoutModel",
      "state": {}
     },
     "23ab9309487642249d3d2e6278f5fb76": {
      "model_module": "@jupyter-widgets/controls",
      "model_module_version": "1.5.0",
      "model_name": "DescriptionStyleModel",
      "state": {
       "description_width": ""
      }
     },
     "260aca06d394473988abe6a47c1afc4a": {
      "model_module": "@jupyter-widgets/base",
      "model_module_version": "1.2.0",
      "model_name": "LayoutModel",
      "state": {}
     },
     "2aff2860777d42e39e335d554262bde5": {
      "model_module": "@jupyter-widgets/controls",
      "model_module_version": "1.5.0",
      "model_name": "HTMLModel",
      "state": {
       "layout": "IPY_MODEL_584569da480443898988dd0a425ab579",
       "style": "IPY_MODEL_5323d7642a554b1eb1a35d0e79afae11",
       "value": "Executing: 100%"
      }
     },
     "32a6a8d3e902404a999987f4c0704dc6": {
      "model_module": "@jupyter-widgets/controls",
      "model_module_version": "1.5.0",
      "model_name": "DescriptionStyleModel",
      "state": {
       "description_width": ""
      }
     },
     "3d21133a5fc2434299bb5ab5f6074de8": {
      "model_module": "@jupyter-widgets/base",
      "model_module_version": "1.2.0",
      "model_name": "LayoutModel",
      "state": {}
     },
     "40fa0df4f9ad44f9acff3961f7bf3179": {
      "model_module": "@jupyter-widgets/controls",
      "model_module_version": "1.5.0",
      "model_name": "ProgressStyleModel",
      "state": {
       "description_width": ""
      }
     },
     "485ef08099364bffaa2d9e7b259309c6": {
      "model_module": "@jupyter-widgets/base",
      "model_module_version": "1.2.0",
      "model_name": "LayoutModel",
      "state": {}
     },
     "4bf0d8468b6e44b9996997a579554350": {
      "model_module": "@jupyter-widgets/controls",
      "model_module_version": "1.5.0",
      "model_name": "HBoxModel",
      "state": {
       "children": [
        "IPY_MODEL_bd5459b1a09141b1a85c8f8310455035",
        "IPY_MODEL_9552e8e2e9514608a6ae402233475fac",
        "IPY_MODEL_4d26c917734f4f36b4ec5e4f99afabd5"
       ],
       "layout": "IPY_MODEL_0778480bd3b84dd9a857bd0710e56835"
      }
     },
     "4d26c917734f4f36b4ec5e4f99afabd5": {
      "model_module": "@jupyter-widgets/controls",
      "model_module_version": "1.5.0",
      "model_name": "HTMLModel",
      "state": {
       "layout": "IPY_MODEL_7e6bfd46e3ef4ab2b2d5ed7672b5b226",
       "style": "IPY_MODEL_32a6a8d3e902404a999987f4c0704dc6",
       "value": " 43/43 [2:17:50&lt;00:00, 42.44s/cell]"
      }
     },
     "5323d7642a554b1eb1a35d0e79afae11": {
      "model_module": "@jupyter-widgets/controls",
      "model_module_version": "1.5.0",
      "model_name": "DescriptionStyleModel",
      "state": {
       "description_width": ""
      }
     },
     "584569da480443898988dd0a425ab579": {
      "model_module": "@jupyter-widgets/base",
      "model_module_version": "1.2.0",
      "model_name": "LayoutModel",
      "state": {}
     },
     "59d27ee513384e1da3a8b76b78ef1848": {
      "model_module": "@jupyter-widgets/base",
      "model_module_version": "1.2.0",
      "model_name": "LayoutModel",
      "state": {}
     },
     "732d62b3305d464186b81111c3031c89": {
      "model_module": "@jupyter-widgets/controls",
      "model_module_version": "1.5.0",
      "model_name": "FloatProgressModel",
      "state": {
       "bar_style": "success",
       "layout": "IPY_MODEL_dac32e816c0e48d7aae26317b5838597",
       "max": 43,
       "style": "IPY_MODEL_40fa0df4f9ad44f9acff3961f7bf3179",
       "value": 43
      }
     },
     "7e6bfd46e3ef4ab2b2d5ed7672b5b226": {
      "model_module": "@jupyter-widgets/base",
      "model_module_version": "1.2.0",
      "model_name": "LayoutModel",
      "state": {}
     },
     "881abac7a92d443ca1e1abae268788cf": {
      "model_module": "@jupyter-widgets/controls",
      "model_module_version": "1.5.0",
      "model_name": "HBoxModel",
      "state": {
       "children": [
        "IPY_MODEL_139ad84eec7a491ab0f8f511fa9414c9",
        "IPY_MODEL_732d62b3305d464186b81111c3031c89",
        "IPY_MODEL_d28c3fa9f66240e1844e3437109667ca"
       ],
       "layout": "IPY_MODEL_a838e574de754e68a1943b938e96d4b0"
      }
     },
     "8ae667a4658c415584ca352bf17c74ab": {
      "model_module": "@jupyter-widgets/base",
      "model_module_version": "1.2.0",
      "model_name": "LayoutModel",
      "state": {}
     },
     "8dfd076c079e4a64af9292b390f1972e": {
      "model_module": "@jupyter-widgets/controls",
      "model_module_version": "1.5.0",
      "model_name": "DescriptionStyleModel",
      "state": {
       "description_width": ""
      }
     },
     "9552e8e2e9514608a6ae402233475fac": {
      "model_module": "@jupyter-widgets/controls",
      "model_module_version": "1.5.0",
      "model_name": "FloatProgressModel",
      "state": {
       "bar_style": "success",
       "layout": "IPY_MODEL_3d21133a5fc2434299bb5ab5f6074de8",
       "max": 43,
       "style": "IPY_MODEL_fca00d94b9fa46a0a62476975a386fac",
       "value": 43
      }
     },
     "a838e574de754e68a1943b938e96d4b0": {
      "model_module": "@jupyter-widgets/base",
      "model_module_version": "1.2.0",
      "model_name": "LayoutModel",
      "state": {}
     },
     "a8431ca4e8dd4de7be97da784f9a9b13": {
      "model_module": "@jupyter-widgets/controls",
      "model_module_version": "1.5.0",
      "model_name": "HBoxModel",
      "state": {
       "children": [
        "IPY_MODEL_2aff2860777d42e39e335d554262bde5",
        "IPY_MODEL_056bc080fb78449387f46d7f41a33e8a",
        "IPY_MODEL_d424d2979baa446bba0eab5fdedafead"
       ],
       "layout": "IPY_MODEL_485ef08099364bffaa2d9e7b259309c6"
      }
     },
     "b16ddcacfe624b0cb1a10f52891df29e": {
      "model_module": "@jupyter-widgets/controls",
      "model_module_version": "1.5.0",
      "model_name": "DescriptionStyleModel",
      "state": {
       "description_width": ""
      }
     },
     "bd5459b1a09141b1a85c8f8310455035": {
      "model_module": "@jupyter-widgets/controls",
      "model_module_version": "1.5.0",
      "model_name": "HTMLModel",
      "state": {
       "layout": "IPY_MODEL_dbfad1f408cc4bc98489dc8737926c91",
       "style": "IPY_MODEL_23ab9309487642249d3d2e6278f5fb76",
       "value": "Executing: 100%"
      }
     },
     "c9f78f5bd9c14405a6f0e679264d39a1": {
      "model_module": "@jupyter-widgets/controls",
      "model_module_version": "1.5.0",
      "model_name": "ProgressStyleModel",
      "state": {
       "description_width": ""
      }
     },
     "d28c3fa9f66240e1844e3437109667ca": {
      "model_module": "@jupyter-widgets/controls",
      "model_module_version": "1.5.0",
      "model_name": "HTMLModel",
      "state": {
       "layout": "IPY_MODEL_59d27ee513384e1da3a8b76b78ef1848",
       "style": "IPY_MODEL_8dfd076c079e4a64af9292b390f1972e",
       "value": " 43/43 [2:14:12&lt;00:00, 42.37s/cell]"
      }
     },
     "d424d2979baa446bba0eab5fdedafead": {
      "model_module": "@jupyter-widgets/controls",
      "model_module_version": "1.5.0",
      "model_name": "HTMLModel",
      "state": {
       "layout": "IPY_MODEL_170ca24e3e954befb347619dbfe64c34",
       "style": "IPY_MODEL_e01e083e0d744986a75185a587990b99",
       "value": " 43/43 [2:14:05&lt;00:00, 40.12s/cell]"
      }
     },
     "dac32e816c0e48d7aae26317b5838597": {
      "model_module": "@jupyter-widgets/base",
      "model_module_version": "1.2.0",
      "model_name": "LayoutModel",
      "state": {}
     },
     "dbfad1f408cc4bc98489dc8737926c91": {
      "model_module": "@jupyter-widgets/base",
      "model_module_version": "1.2.0",
      "model_name": "LayoutModel",
      "state": {}
     },
     "e01e083e0d744986a75185a587990b99": {
      "model_module": "@jupyter-widgets/controls",
      "model_module_version": "1.5.0",
      "model_name": "DescriptionStyleModel",
      "state": {
       "description_width": ""
      }
     },
     "fca00d94b9fa46a0a62476975a386fac": {
      "model_module": "@jupyter-widgets/controls",
      "model_module_version": "1.5.0",
      "model_name": "ProgressStyleModel",
      "state": {
       "description_width": ""
      }
     }
    },
    "version_major": 2,
    "version_minor": 0
   }
  }
 },
 "nbformat": 4,
 "nbformat_minor": 4
}
