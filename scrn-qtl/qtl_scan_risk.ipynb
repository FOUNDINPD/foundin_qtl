{
 "cells": [
  {
   "cell_type": "markdown",
   "metadata": {},
   "source": [
    "## Notebook to scan PD risk and QTL results for colocalization"
   ]
  },
  {
   "cell_type": "code",
   "execution_count": null,
   "metadata": {},
   "outputs": [],
   "source": [
    "!date"
   ]
  },
  {
   "cell_type": "markdown",
   "metadata": {},
   "source": [
    "#### import libraries and set notebook variables"
   ]
  },
  {
   "cell_type": "code",
   "execution_count": null,
   "metadata": {},
   "outputs": [],
   "source": [
    "import pandas as pd\n",
    "import numpy as np\n",
    "import os\n",
    "import statsmodels.api as sm\n",
    "import statsmodels.formula.api as smf\n",
    "import statsmodels.stats.multitest as smm\n",
    "import concurrent.futures\n",
    "import seaborn as sns\n",
    "import matplotlib.pyplot as plt"
   ]
  },
  {
   "cell_type": "code",
   "execution_count": null,
   "metadata": {
    "tags": [
     "parameters"
    ]
   },
   "outputs": [],
   "source": [
    "# parameters\n",
    "cohort = 'foundin'\n",
    "day = 'da65'\n",
    "cell_type = 'iDA'"
   ]
  },
  {
   "cell_type": "code",
   "execution_count": null,
   "metadata": {},
   "outputs": [],
   "source": [
    "# naming\n",
    "cohort_set = f'{cohort}.{day}.{cell_type}'\n",
    "\n",
    "# directories\n",
    "home_dir = '/home/jupyter'\n",
    "wrk_dir = f'{home_dir}/sceqtl'\n",
    "quants_dir = f'{wrk_dir}/quants'\n",
    "tensorqtl_dir = f'{wrk_dir}/tensorqtl'\n",
    "results_dir = f'{wrk_dir}/results'\n",
    "gwas_dir = f'{wrk_dir}/public'\n",
    "\n",
    "# input files\n",
    "gencode_pkl = f'{quants_dir}/gencode_v29.lncipedia_v5_2_hc.annotation.pkl'\n",
    "qtl_results_file = f'{tensorqtl_dir}/{cohort_set}.cis.map.csv'\n",
    "meta5_st2_clean_file = f'{gwas_dir}/pd.table_s2.clean.txt'\n",
    "meta5_stats_file = f'{gwas_dir}/pdmeta_sumstats_hg38.h5'\n",
    "\n",
    "# output files\n",
    "\n",
    "# constant values\n",
    "autosomes = [str(x) for x in list(range(1,23))]\n",
    "alpha_value = 0.05\n",
    "cpu_count = len(os.sched_getaffinity(0))"
   ]
  },
  {
   "cell_type": "markdown",
   "metadata": {},
   "source": [
    "#### analysis functions"
   ]
  },
  {
   "cell_type": "code",
   "execution_count": null,
   "metadata": {},
   "outputs": [],
   "source": [
    "# functions to run the linear regression\n",
    "def reg_model(y, x):\n",
    "    Xb = sm.add_constant(x)\n",
    "    reg_model = sm.OLS(y, Xb).fit()\n",
    "    return reg_model\n",
    "\n",
    "def regress_scores_keep(this_df, verbose=False):\n",
    "    ret_value = False\n",
    "    # run the regression, mixed effects model with day as random effect\n",
    "    this_formula = 'gwas_score_abs ~ qtl_score_abs'\n",
    "    result = smf.ols(this_formula, data=this_df).fit()\n",
    "#     result = reg_model(this_df['gwas_score_abs'], this_df['qtl_score_abs'])\n",
    "    if verbose:\n",
    "        print(result.summary())\n",
    "    term = 'qtl_score_abs'\n",
    "    return [result.params[term], result.bse[term], result.rsquared_adj,\n",
    "            result.params.shape[0], result.pvalues[term]]\n",
    "\n",
    "def create_merged_df_to_regress(qtl_df, pheno_id, gwas_df):\n",
    "    pheno_df = qtl_df.loc[qtl_df['phenotype_id'] == pheno_id]\n",
    "    merged_df = pheno_df.merge(gwas_df, how='inner', \n",
    "                               left_on='variant_id', right_on='SNP')\n",
    "    # will test regression on absolute score instead of say p-value\n",
    "    merged_df['gwas_score_abs'] = np.abs(merged_df['b']/merged_df['se'])\n",
    "    merged_df['qtl_score_abs'] = np.abs(merged_df['slope']/merged_df['slope_se'])\n",
    "\n",
    "    # for regression will only consider variants that are nominally\n",
    "    # significant in gwas or qtl\n",
    "    df_to_return = merged_df.loc[(merged_df['pval_nominal'] < alpha_value) | \n",
    "                                 (merged_df['p'] < alpha_value)]\n",
    "    #     print(pheno_df.shape, merged_df.shape, alpha_df.shape)\n",
    "    return df_to_return\n",
    "\n",
    "def load_chrom_result(chrom, in_dir, cohort_set, variants_df):\n",
    "    # have to do pass to find all phenos to possible capture\n",
    "    df_to_return = None\n",
    "    phenos_oi = []\n",
    "    chrom_file = f'{in_dir}/{cohort_set}.cis_qtl_pairs.chr{chrom}.parquet'\n",
    "    chrom_qtl_df = pd.read_parquet(chrom_file)\n",
    "    oi_chrom_qtl_df = chrom_qtl_df.loc[chrom_qtl_df['pval_nominal'] < max_pvalue]\n",
    "    oi_results = oi_chrom_qtl_df.loc[oi_chrom_qtl_df['variant_id'].isin(variants_oi_df['SNP'])]\n",
    "    phenos_oi = phenos_oi + list(oi_results['phenotype_id'].unique())\n",
    "\n",
    "    # do pass to keep results that belong those phenos\n",
    "    possible_results_oi = chrom_qtl_df.loc[chrom_qtl_df['phenotype_id'].isin(phenos_oi)].copy()\n",
    "    df_to_return = pd.concat([df_to_return, possible_results_oi])\n",
    "    return phenos_oi, df_to_return\n",
    "\n",
    "def process_regression_check(chrom: str, in_dir: str, cohort: str, \n",
    "                             gwas_df: pd.DataFrame, \n",
    "                             variants_df: pd.DataFrame) -> pd.DataFrame:\n",
    "    results_to_keep = None\n",
    "    phenos_oi, results_to_test = load_chrom_result(chrom, in_dir, cohort, variants_df)\n",
    "    print(f'chr {chrom} shape {results_to_test.shape}')\n",
    "    # display(results_to_test.sample(5))\n",
    "\n",
    "    # test the GWAS~QTL regression for possible significance\n",
    "    for phenotype_id in phenos_oi:\n",
    "        alpha_df = create_merged_df_to_regress(results_to_test, phenotype_id, gwas_df)\n",
    "        \n",
    "        # ['coef', 'stderr', 'r2adj', term_cnt', 'p-value']\n",
    "        ret_vals = regress_scores_keep(alpha_df)\n",
    "        # must have postive coefficient and nomically significant p-value\n",
    "        if ret_vals[0] > 0 and ret_vals[4] < alpha_value:\n",
    "            results_to_keep = pd.concat([results_to_keep, alpha_df])\n",
    "            \n",
    "    return results_to_keep"
   ]
  },
  {
   "cell_type": "markdown",
   "metadata": {},
   "source": [
    "#### load the gencode annotations"
   ]
  },
  {
   "cell_type": "code",
   "execution_count": null,
   "metadata": {},
   "outputs": [],
   "source": [
    "%%time\n",
    "gencode_df = pd.read_pickle(gencode_pkl)\n",
    "# drop the ont and tag columns\n",
    "discard_cols = gencode_df.columns[(gencode_df.columns.str.startswith('ont:')) |\n",
    "                                (gencode_df.columns.str.startswith('tag:'))]\n",
    "gencode_df.drop(columns=discard_cols, inplace=True)\n",
    "# should only be autosomal but sometimes annotation quirks allow in others, so force\n",
    "gencode_df = gencode_df.loc[(gencode_df['seqname'].str.startswith('chr')) & \n",
    "                           (~gencode_df['seqname'].isin(['chrX','chrY','chrM']))]\n",
    "# every now and again having problem with mics_RNA genes mapping every chrom so drop\n",
    "gencode_df = gencode_df.loc[~gencode_df['gene_type'].isin(['misc_RNA'])]\n",
    "print(gencode_df.shape)\n",
    "display(gencode_df.head())"
   ]
  },
  {
   "cell_type": "markdown",
   "metadata": {},
   "source": [
    "#### load the risk variants of interest"
   ]
  },
  {
   "cell_type": "code",
   "execution_count": null,
   "metadata": {},
   "outputs": [],
   "source": [
    "%%time\n",
    "variants_oi_df = pd.read_csv(meta5_st2_clean_file, sep='\\t')\n",
    "print(variants_oi_df.shape)\n",
    "variants_oi_df.head()"
   ]
  },
  {
   "cell_type": "markdown",
   "metadata": {
    "papermill": {
     "duration": 0.011883,
     "end_time": "2021-06-24T22:33:59.038114",
     "exception": false,
     "start_time": "2021-06-24T22:33:59.026231",
     "status": "completed"
    },
    "tags": []
   },
   "source": [
    "#### load the full gwas summary stats"
   ]
  },
  {
   "cell_type": "code",
   "execution_count": null,
   "metadata": {
    "execution": {
     "iopub.execute_input": "2021-06-24T22:33:59.064270Z",
     "iopub.status.busy": "2021-06-24T22:33:59.063748Z",
     "iopub.status.idle": "2021-06-24T22:34:26.888066Z",
     "shell.execute_reply": "2021-06-24T22:34:26.887533Z"
    },
    "papermill": {
     "duration": 27.839467,
     "end_time": "2021-06-24T22:34:26.888216",
     "exception": false,
     "start_time": "2021-06-24T22:33:59.048749",
     "status": "completed"
    },
    "tags": []
   },
   "outputs": [],
   "source": [
    "%%time\n",
    "gwas_stats_df = pd.read_hdf(meta5_stats_file)\n",
    "print(gwas_stats_df.shape)\n",
    "display(gwas_stats_df.sample(5))"
   ]
  },
  {
   "cell_type": "markdown",
   "metadata": {},
   "source": [
    "#### load the QTL results"
   ]
  },
  {
   "cell_type": "code",
   "execution_count": null,
   "metadata": {},
   "outputs": [],
   "source": [
    "qtl_df = pd.read_csv(qtl_results_file)\n",
    "print(qtl_df.shape)\n",
    "number_genes = len(qtl_df['phenotype_id'].unique())\n",
    "print(f'qtl for {number_genes} genes')\n",
    "qtl_df.head()"
   ]
  },
  {
   "cell_type": "markdown",
   "metadata": {},
   "source": [
    "#### grab the max pval_nominal and max pval_beta"
   ]
  },
  {
   "cell_type": "code",
   "execution_count": null,
   "metadata": {},
   "outputs": [],
   "source": [
    "sig_df = qtl_df.loc[qtl_df['bh_fdr'] < alpha_value]\n",
    "feature_cnt = len(sig_df['phenotype_id'].unique())\n",
    "print(f'sig shape is {sig_df.shape} for {feature_cnt} features')\n",
    "\n",
    "max_pvalue = sig_df['pval_nominal'].max()\n",
    "print(f'max p-value: {max_pvalue}')\n",
    "max_pvalue = 0.001\n",
    "print(f'hardcoded max p-value: {max_pvalue}')"
   ]
  },
  {
   "cell_type": "markdown",
   "metadata": {},
   "source": [
    "#### see if any of the top significant results happen to be risk independent variants"
   ]
  },
  {
   "cell_type": "code",
   "execution_count": null,
   "metadata": {},
   "outputs": [],
   "source": [
    "def check_qtls_for_variants(qtl_df, variants_df):\n",
    "    qtl_variants_oi_df = qtl_df.loc[qtl_df['variant_id'].isin(variants_df['SNP'])]\n",
    "    print(qtl_variants_oi_df.shape)\n",
    "    this_cnt = len(qtl_variants_oi_df['variant_id'].unique())\n",
    "    print(f'variants {this_cnt}')\n",
    "    print(qtl_variants_oi_df['variant_id'].unique())\n",
    "    oi_genes = qtl_variants_oi_df['phenotype_id'].unique()\n",
    "    this_cnt = len(oi_genes)\n",
    "    print(f'genes {this_cnt}')\n",
    "    print(oi_genes)\n",
    "    return qtl_variants_oi_df"
   ]
  },
  {
   "cell_type": "code",
   "execution_count": null,
   "metadata": {},
   "outputs": [],
   "source": [
    "risk_genes = check_qtls_for_variants(qtl_df, variants_oi_df)\n",
    "if len(risk_genes) > 0:\n",
    "    display(risk_genes.head())"
   ]
  },
  {
   "cell_type": "markdown",
   "metadata": {},
   "source": [
    "#### now load rest of results and see if risk index variants are QTL"
   ]
  },
  {
   "cell_type": "code",
   "execution_count": null,
   "metadata": {},
   "outputs": [],
   "source": [
    "import warnings\n",
    "# warnings.filterwarnings(action='once')\n",
    "warnings.filterwarnings('ignore')"
   ]
  },
  {
   "cell_type": "code",
   "execution_count": null,
   "metadata": {},
   "outputs": [],
   "source": [
    "%%time\n",
    "\n",
    "fs_list = []\n",
    "lm_results = []\n",
    "with concurrent.futures.ProcessPoolExecutor() as ppe:\n",
    "    for chrom in autosomes:\n",
    "        fs_list.append(ppe.submit(process_regression_check, chrom, \n",
    "                                  tensorqtl_dir, cohort_set, \n",
    "                                  gwas_stats_df, variants_oi_df))"
   ]
  },
  {
   "cell_type": "code",
   "execution_count": null,
   "metadata": {},
   "outputs": [],
   "source": [
    "for future in concurrent.futures.as_completed(fs_list):\n",
    "    lm_results.append(future.result())\n",
    "\n",
    "# flatten the list\n",
    "results_to_keep = pd.concat([item for item in lm_results])"
   ]
  },
  {
   "cell_type": "code",
   "execution_count": null,
   "metadata": {},
   "outputs": [],
   "source": [
    "print(results_to_keep.shape)\n",
    "display(results_to_keep.sample(5))"
   ]
  },
  {
   "cell_type": "code",
   "execution_count": null,
   "metadata": {},
   "outputs": [],
   "source": [
    "print(len(results_to_keep['phenotype_id'].unique()))\n",
    "print(results_to_keep['phenotype_id'].unique())"
   ]
  },
  {
   "cell_type": "code",
   "execution_count": null,
   "metadata": {},
   "outputs": [],
   "source": [
    "genes_kept  = gencode_df.loc[gencode_df['gene_name'].isin(results_to_keep['phenotype_id']), \n",
    "                             ['gene_id']]['gene_id'].unique()\n",
    "print(len(genes_kept))\n",
    "print(genes_kept)"
   ]
  },
  {
   "cell_type": "code",
   "execution_count": null,
   "metadata": {},
   "outputs": [],
   "source": [
    "import random\n",
    "phenotype_id = random.choice(results_to_keep['phenotype_id'].unique())\n",
    "print(phenotype_id)"
   ]
  },
  {
   "cell_type": "code",
   "execution_count": null,
   "metadata": {},
   "outputs": [],
   "source": [
    "gencode_df.loc[gencode_df['gene_name'] == phenotype_id, \n",
    "               ['gene_id']]['gene_id'].unique()"
   ]
  },
  {
   "cell_type": "code",
   "execution_count": null,
   "metadata": {},
   "outputs": [],
   "source": [
    "# phenotype_id = 'ENSG00000143537.13'\n",
    "# phenotype_id = 'ENSG00000164733.20'\n",
    "temp = results_to_keep.loc[results_to_keep['phenotype_id'] == phenotype_id]\n",
    "print(temp.shape)\n",
    "display(temp.head())"
   ]
  },
  {
   "cell_type": "code",
   "execution_count": null,
   "metadata": {},
   "outputs": [],
   "source": [
    "sns.lmplot(x='gwas_score_abs', y='qtl_score_abs', data=temp)"
   ]
  },
  {
   "cell_type": "code",
   "execution_count": null,
   "metadata": {},
   "outputs": [],
   "source": [
    "sns.relplot(x='gwas_score_abs', \n",
    "            y='qtl_score_abs', \n",
    "            alpha=.5, palette=\"dark\", \n",
    "            height=12, data=temp) "
   ]
  },
  {
   "cell_type": "code",
   "execution_count": null,
   "metadata": {},
   "outputs": [],
   "source": [
    "this_formula = 'gwas_score_abs ~ qtl_score_abs'\n",
    "result = reg_model(temp['gwas_score_abs'].fillna(0), temp['qtl_score_abs'].fillna(0))\n",
    "print(result.summary())"
   ]
  },
  {
   "cell_type": "code",
   "execution_count": null,
   "metadata": {},
   "outputs": [],
   "source": [
    "term = 'qtl_score_abs'\n",
    "print(['feature', 'coef', 'stderr', 'r2adj', 'term_cnt', 'p-value'])\n",
    "print(result.params[term], result.bse[term], result.rsquared_adj,\n",
    "      result.params.shape[0], result.pvalues[term])"
   ]
  },
  {
   "cell_type": "code",
   "execution_count": null,
   "metadata": {},
   "outputs": [],
   "source": [
    "this_formula = 'gwas_score_abs ~ qtl_score_abs'\n",
    "reg_model = smf.ols(this_formula, data=temp).fit()\n",
    "print(reg_model.summary())"
   ]
  },
  {
   "cell_type": "code",
   "execution_count": null,
   "metadata": {},
   "outputs": [],
   "source": []
  }
 ],
 "metadata": {
  "environment": {
   "name": "pytorch-gpu.1-9.m75",
   "type": "gcloud",
   "uri": "gcr.io/deeplearning-platform-release/pytorch-gpu.1-9:m75"
  },
  "kernelspec": {
   "display_name": "Python 3",
   "language": "python",
   "name": "python3"
  },
  "language_info": {
   "codemirror_mode": {
    "name": "ipython",
    "version": 3
   },
   "file_extension": ".py",
   "mimetype": "text/x-python",
   "name": "python",
   "nbconvert_exporter": "python",
   "pygments_lexer": "ipython3",
   "version": "3.7.10"
  },
  "widgets": {
   "application/vnd.jupyter.widget-state+json": {
    "state": {},
    "version_major": 2,
    "version_minor": 0
   }
  }
 },
 "nbformat": 4,
 "nbformat_minor": 4
}
