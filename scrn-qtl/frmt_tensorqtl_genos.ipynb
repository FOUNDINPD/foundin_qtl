{
 "cells": [
  {
   "cell_type": "markdown",
   "metadata": {},
   "source": [
    "#### Notebook to format genotypes for use with tensorQTL\n",
    "\n",
    "typically store wgs genotypes by chromosome in vcf or plink2 pfiles\n",
    "tensorQTL using plink1 bfiles, so convert, also since small cohort go ahead and merge from per chromosome to genome"
   ]
  },
  {
   "cell_type": "code",
   "execution_count": 1,
   "metadata": {},
   "outputs": [
    {
     "name": "stdout",
     "output_type": "stream",
     "text": [
      "Thu Aug  5 02:26:02 UTC 2021\n"
     ]
    }
   ],
   "source": [
    "!date"
   ]
  },
  {
   "cell_type": "markdown",
   "metadata": {},
   "source": [
    "#### import libraries and set notebook variables"
   ]
  },
  {
   "cell_type": "code",
   "execution_count": 2,
   "metadata": {},
   "outputs": [],
   "source": [
    "import concurrent.futures\n",
    "import os\n",
    "import pandas as pd"
   ]
  },
  {
   "cell_type": "code",
   "execution_count": 3,
   "metadata": {},
   "outputs": [],
   "source": [
    "# parameters\n",
    "cohort = 'foundin'\n",
    "amp_abbr = 'PP'\n",
    "version = 'amppdv1'\n",
    "\n",
    "# naming\n",
    "cohort_version = f'{cohort}.{version}'\n",
    "\n",
    "# directories\n",
    "wrk_dir = f'/home/jupyter/sceqtl'\n",
    "geno_dir = f'{wrk_dir}/genotypes'\n",
    "quants_dir = f'{wrk_dir}/quants'\n",
    "info_dir = f'{wrk_dir}/sample_info'\n",
    "public_dir = f'{wrk_dir}/public'\n",
    "\n",
    "# input files\n",
    "pfiles = '{genodir}/{cohortversion}.chr{chr}'\n",
    "gwas_results_file = f'{public_dir}/pd_meta5v2_cojo_results.jma.cojo.csv'\n",
    "\n",
    "# output files\n",
    "genome_bfile = f'{geno_dir}/{cohort_version}.bfile'\n",
    "risk_bfile = f'{geno_dir}/{cohort_version}.risk.bfile'\n",
    "chr_detected_out_file = '{exprdir}/{cohortbuild}.detected.genes.chr{chr}'\n",
    "risk_variants_file = f'{public_dir}/pd.risk.variants'\n",
    "\n",
    "# constant values\n",
    "autosomes = [str(x) for x in list(range(1,23))]\n",
    "max_dist = 1000000\n",
    "capture_out = !(nproc)\n",
    "max_threads = int(capture_out[0])\n",
    "alpha_value = 0.05\n",
    "max_feature_cnt_parallel_load = 20000"
   ]
  },
  {
   "cell_type": "markdown",
   "metadata": {},
   "source": [
    "#### utility functions"
   ]
  },
  {
   "cell_type": "code",
   "execution_count": 4,
   "metadata": {},
   "outputs": [],
   "source": [
    "def run_bash_cmd(this_cmd):\n",
    "    !{this_cmd}"
   ]
  },
  {
   "cell_type": "markdown",
   "metadata": {},
   "source": [
    "#### convert from plink2 pfiles to plink bfiles"
   ]
  },
  {
   "cell_type": "code",
   "execution_count": 5,
   "metadata": {},
   "outputs": [],
   "source": [
    "with concurrent.futures.ProcessPoolExecutor() as ppe:\n",
    "    for chrom in autosomes:\n",
    "        this_pfile = pfiles.format(genodir=geno_dir, cohortversion=cohort_version, chr=chrom)\n",
    "        this_cmd = f'plink2 --pfile {this_pfile} --make-bed --out {this_pfile}.bfile --silent'\n",
    "#         print(this_cmd)\n",
    "        ppe.submit(run_bash_cmd, this_cmd)    "
   ]
  },
  {
   "cell_type": "code",
   "execution_count": 6,
   "metadata": {},
   "outputs": [
    {
     "name": "stdout",
     "output_type": "stream",
     "text": [
      "Warning: First fileset to be merged contains duplicate variant ID(s).  Variants\n",
      "with matching IDs are all merged together; if this is not what you want (e.g.\n",
      "you have a bunch of novel variants, all with ID \".\"), assign distinct IDs to\n",
      "them (with e.g. --set-missing-var-ids) before rerunning this merge.\n",
      "Warning: Unusually long variant ID(s) present.  PLINK 1.9 does not scale well\n",
      "to length-80+ variant IDs; consider using a different naming scheme for long\n",
      "indels and the like.\n",
      "Error: 6239 variants with 3+ alleles present.\n",
      "* If you believe this is due to strand inconsistency, try --flip with\n",
      "  /home/jupyter/sceqtl/genotypes/foundin.amppdv1.bfile-merge.missnp.\n",
      "  (Warning: if this seems to work, strand errors involving SNPs with A/T or C/G\n",
      "  alleles probably remain in your data.  If LD between nearby SNPs is high,\n",
      "  --flip-scan should detect them.)\n",
      "* If you are dealing with genuine multiallelic variants, we recommend exporting\n",
      "  that subset of the data to VCF (via e.g. '--recode vcf'), merging with\n",
      "  another tool/script, and then importing the result; PLINK is not yet suited\n",
      "  to handling them.\n",
      "See https://www.cog-genomics.org/plink/1.9/data#merge3 for more discussion.\n",
      "removing problem variants and retrying merge\n",
      "Warning: Unusually long variant ID(s) present.  PLINK 1.9 does not scale well\n",
      "to length-80+ variant IDs; consider using a different naming scheme for long\n",
      "indels and the like.\n",
      "Warning: Variants 'rs941806216' and 'rs201771422' have the same position.\n",
      "Warning: Variants 'rs76022438' and 'chr1:1367615:ATG:A' have the same position.\n",
      "Warning: Variants 'rs565688981' and 'rs113466973' have the same position.\n",
      "9451 more same-position warnings: see log file.\n"
     ]
    }
   ],
   "source": [
    "# merge the files into a single plink binary set\n",
    "\n",
    "def frmt_merge_list_file(geno_dir, cohort_version, autosomes):\n",
    "    merge_file_set = f'{geno_dir}/bfile_merge-list.txt'\n",
    "    with open(merge_file_set, 'w') as file_handler:\n",
    "        for chrom in autosomes:\n",
    "            this_pfile = pfiles.format(genodir=geno_dir, cohortversion=cohort_version, chr=chrom)\n",
    "            file_handler.write(f'{this_pfile}.bfile\\n')\n",
    "    return merge_file_set\n",
    "\n",
    "def run_plink_bfile_merge(merge_file_set, genome_bfile):\n",
    "    this_cmd = f'plink --merge-list {merge_file_set} --make-bed --allow-no-sex \\\n",
    "    --silent --out {genome_bfile} --maf 0.01 --geno 0.05 --hwe 0.000001'\n",
    "    !{this_cmd}\n",
    "\n",
    "# merge the per chrom bfiles into a genome bfile\n",
    "merge_file_set = frmt_merge_list_file(geno_dir, cohort_version, autosomes)\n",
    "run_plink_bfile_merge(merge_file_set, genome_bfile)\n",
    "\n",
    "# if there was a missnp problem remove those variant and re-attemp merge\n",
    "if os.path.exists(f'{genome_bfile}-merge.missnp'):\n",
    "    print('removing problem variants and retrying merge')\n",
    "    with concurrent.futures.ProcessPoolExecutor() as ppe:\n",
    "        for chrom in autosomes:\n",
    "            this_pfile = pfiles.format(genodir=geno_dir, cohortversion=cohort_version, chr=chrom)\n",
    "            this_cmd = f'plink2 --pfile {this_pfile} --make-bed --out {this_pfile}.bfile \\\n",
    "--silent --exclude {genome_bfile}-merge.missnp'\n",
    "    #         print(this_cmd)\n",
    "            ppe.submit(run_bash_cmd, this_cmd)           \n",
    "\n",
    "    # try the merge again\n",
    "    merge_file_set = frmt_merge_list_file(geno_dir, cohort_version, autosomes)\n",
    "    run_plink_bfile_merge(merge_file_set, genome_bfile)"
   ]
  },
  {
   "cell_type": "code",
   "execution_count": 7,
   "metadata": {},
   "outputs": [
    {
     "name": "stdout",
     "output_type": "stream",
     "text": [
      "/home/jupyter/sceqtl/genotypes/foundin.amppdv1.bfile-merge.missnp\n",
      "/home/jupyter/sceqtl/genotypes/foundin.amppdv1.bfile.bed\n",
      "/home/jupyter/sceqtl/genotypes/foundin.amppdv1.bfile.bim\n",
      "/home/jupyter/sceqtl/genotypes/foundin.amppdv1.bfile.fam\n",
      "/home/jupyter/sceqtl/genotypes/foundin.amppdv1.bfile.log\n",
      "PLINK v1.90b6.21 64-bit (19 Oct 2020)\n",
      "Options in effect:\n",
      "  --allow-no-sex\n",
      "  --geno 0.05\n",
      "  --hwe 0.000001\n",
      "  --maf 0.01\n",
      "  --make-bed\n",
      "  --merge-list /home/jupyter/sceqtl/genotypes/bfile_merge-list.txt\n",
      "  --out /home/jupyter/sceqtl/genotypes/foundin.amppdv1.bfile\n",
      "  --silent\n",
      "--hwe: 15 variants removed due to Hardy-Weinberg exact test.\n",
      "6980472 variants removed due to minor allele threshold(s)\n",
      "(--maf/--max-maf/--mac/--max-mac).\n",
      "8697174 variants and 119 people pass filters and QC.\n",
      "Note: No phenotypes present.\n",
      "--make-bed to /home/jupyter/sceqtl/genotypes/foundin.amppdv1.bfile.bed +\n",
      "/home/jupyter/sceqtl/genotypes/foundin.amppdv1.bfile.bim +\n",
      "/home/jupyter/sceqtl/genotypes/foundin.amppdv1.bfile.fam ... done.\n",
      "\n",
      "End time: Thu Aug  5 02:48:24 2021\n"
     ]
    }
   ],
   "source": [
    "!ls {genome_bfile}*\n",
    "!head {genome_bfile}.log\n",
    "!tail {genome_bfile}.log"
   ]
  },
  {
   "cell_type": "markdown",
   "metadata": {},
   "source": [
    "#### IDs used in analysis will be prefixed 'PPMI' so change AMP-PD 'PPs'"
   ]
  },
  {
   "cell_type": "code",
   "execution_count": null,
   "metadata": {},
   "outputs": [],
   "source": [
    "# read fam file and replace IDs\n",
    "fam_df = pd.read_csv(f'{genome_bfile}.fam', sep='\\s+', header=None)\n",
    "print(fam_df.shape)\n",
    "# display(fam_df.head())\n",
    "# do the replace\n",
    "fam_df[0] = fam_df[1] = fam_df[0].str.replace('PP-', 'PPMI')\n",
    "print(fam_df.shape)\n",
    "# display(fam_df.head())\n",
    "# write corrected file\n",
    "fam_df.to_csv(f'{genome_bfile}.fam', header=False, index=False, sep=' ')"
   ]
  },
  {
   "cell_type": "markdown",
   "metadata": {},
   "source": [
    "#### subset genome bfile to just the risk index variants"
   ]
  },
  {
   "cell_type": "code",
   "execution_count": 9,
   "metadata": {},
   "outputs": [
    {
     "name": "stdout",
     "output_type": "stream",
     "text": [
      "(115, 14)\n"
     ]
    },
    {
     "data": {
      "text/html": [
       "<div>\n",
       "<style scoped>\n",
       "    .dataframe tbody tr th:only-of-type {\n",
       "        vertical-align: middle;\n",
       "    }\n",
       "\n",
       "    .dataframe tbody tr th {\n",
       "        vertical-align: top;\n",
       "    }\n",
       "\n",
       "    .dataframe thead th {\n",
       "        text-align: right;\n",
       "    }\n",
       "</style>\n",
       "<table border=\"1\" class=\"dataframe\">\n",
       "  <thead>\n",
       "    <tr style=\"text-align: right;\">\n",
       "      <th></th>\n",
       "      <th>Chr</th>\n",
       "      <th>SNP</th>\n",
       "      <th>bp</th>\n",
       "      <th>refA</th>\n",
       "      <th>freq</th>\n",
       "      <th>b</th>\n",
       "      <th>se</th>\n",
       "      <th>p</th>\n",
       "      <th>n</th>\n",
       "      <th>freq_geno</th>\n",
       "      <th>bJ</th>\n",
       "      <th>bJ_se</th>\n",
       "      <th>pJ</th>\n",
       "      <th>LD_r</th>\n",
       "    </tr>\n",
       "  </thead>\n",
       "  <tbody>\n",
       "    <tr>\n",
       "      <th>0</th>\n",
       "      <td>10</td>\n",
       "      <td>rs72840788</td>\n",
       "      <td>119656173</td>\n",
       "      <td>A</td>\n",
       "      <td>0.2155</td>\n",
       "      <td>0.0763</td>\n",
       "      <td>0.0113</td>\n",
       "      <td>1.456080e-11</td>\n",
       "      <td>1730210.0</td>\n",
       "      <td>0.213533</td>\n",
       "      <td>0.084061</td>\n",
       "      <td>0.011320</td>\n",
       "      <td>1.122400e-13</td>\n",
       "      <td>-0.064738</td>\n",
       "    </tr>\n",
       "    <tr>\n",
       "      <th>1</th>\n",
       "      <td>10</td>\n",
       "      <td>rs117896735</td>\n",
       "      <td>119776815</td>\n",
       "      <td>A</td>\n",
       "      <td>0.0166</td>\n",
       "      <td>0.4354</td>\n",
       "      <td>0.0394</td>\n",
       "      <td>2.173630e-28</td>\n",
       "      <td>1473810.0</td>\n",
       "      <td>0.015191</td>\n",
       "      <td>0.452913</td>\n",
       "      <td>0.039472</td>\n",
       "      <td>1.777340e-30</td>\n",
       "      <td>0.000000</td>\n",
       "    </tr>\n",
       "    <tr>\n",
       "      <th>2</th>\n",
       "      <td>10</td>\n",
       "      <td>rs896435</td>\n",
       "      <td>15515407</td>\n",
       "      <td>T</td>\n",
       "      <td>0.6892</td>\n",
       "      <td>0.0735</td>\n",
       "      <td>0.0101</td>\n",
       "      <td>3.407500e-13</td>\n",
       "      <td>1715830.0</td>\n",
       "      <td>0.688791</td>\n",
       "      <td>0.073500</td>\n",
       "      <td>0.010100</td>\n",
       "      <td>3.410280e-13</td>\n",
       "      <td>0.000000</td>\n",
       "    </tr>\n",
       "    <tr>\n",
       "      <th>3</th>\n",
       "      <td>10</td>\n",
       "      <td>rs10748818</td>\n",
       "      <td>102255522</td>\n",
       "      <td>A</td>\n",
       "      <td>0.8514</td>\n",
       "      <td>-0.0790</td>\n",
       "      <td>0.0130</td>\n",
       "      <td>1.225100e-09</td>\n",
       "      <td>1588080.0</td>\n",
       "      <td>0.854401</td>\n",
       "      <td>-0.079000</td>\n",
       "      <td>0.013000</td>\n",
       "      <td>1.225630e-09</td>\n",
       "      <td>0.000000</td>\n",
       "    </tr>\n",
       "    <tr>\n",
       "      <th>4</th>\n",
       "      <td>11</td>\n",
       "      <td>rs3802920</td>\n",
       "      <td>133917106</td>\n",
       "      <td>T</td>\n",
       "      <td>0.2054</td>\n",
       "      <td>0.1073</td>\n",
       "      <td>0.0117</td>\n",
       "      <td>4.689110e-20</td>\n",
       "      <td>1721930.0</td>\n",
       "      <td>0.206198</td>\n",
       "      <td>0.107300</td>\n",
       "      <td>0.011700</td>\n",
       "      <td>4.698750e-20</td>\n",
       "      <td>0.000000</td>\n",
       "    </tr>\n",
       "  </tbody>\n",
       "</table>\n",
       "</div>"
      ],
      "text/plain": [
       "   Chr          SNP         bp refA    freq       b      se             p  \\\n",
       "0   10   rs72840788  119656173    A  0.2155  0.0763  0.0113  1.456080e-11   \n",
       "1   10  rs117896735  119776815    A  0.0166  0.4354  0.0394  2.173630e-28   \n",
       "2   10     rs896435   15515407    T  0.6892  0.0735  0.0101  3.407500e-13   \n",
       "3   10   rs10748818  102255522    A  0.8514 -0.0790  0.0130  1.225100e-09   \n",
       "4   11    rs3802920  133917106    T  0.2054  0.1073  0.0117  4.689110e-20   \n",
       "\n",
       "           n  freq_geno        bJ     bJ_se            pJ      LD_r  \n",
       "0  1730210.0   0.213533  0.084061  0.011320  1.122400e-13 -0.064738  \n",
       "1  1473810.0   0.015191  0.452913  0.039472  1.777340e-30  0.000000  \n",
       "2  1715830.0   0.688791  0.073500  0.010100  3.410280e-13  0.000000  \n",
       "3  1588080.0   0.854401 -0.079000  0.013000  1.225630e-09  0.000000  \n",
       "4  1721930.0   0.206198  0.107300  0.011700  4.698750e-20  0.000000  "
      ]
     },
     "metadata": {},
     "output_type": "display_data"
    }
   ],
   "source": [
    "gwas_df = pd.read_csv(gwas_results_file)\n",
    "print(gwas_df.shape)\n",
    "display(gwas_df.head())"
   ]
  },
  {
   "cell_type": "code",
   "execution_count": 10,
   "metadata": {},
   "outputs": [
    {
     "name": "stdout",
     "output_type": "stream",
     "text": [
      "(8697174, 6)\n"
     ]
    },
    {
     "data": {
      "text/html": [
       "<div>\n",
       "<style scoped>\n",
       "    .dataframe tbody tr th:only-of-type {\n",
       "        vertical-align: middle;\n",
       "    }\n",
       "\n",
       "    .dataframe tbody tr th {\n",
       "        vertical-align: top;\n",
       "    }\n",
       "\n",
       "    .dataframe thead th {\n",
       "        text-align: right;\n",
       "    }\n",
       "</style>\n",
       "<table border=\"1\" class=\"dataframe\">\n",
       "  <thead>\n",
       "    <tr style=\"text-align: right;\">\n",
       "      <th></th>\n",
       "      <th>0</th>\n",
       "      <th>1</th>\n",
       "      <th>2</th>\n",
       "      <th>3</th>\n",
       "      <th>4</th>\n",
       "      <th>5</th>\n",
       "    </tr>\n",
       "  </thead>\n",
       "  <tbody>\n",
       "    <tr>\n",
       "      <th>0</th>\n",
       "      <td>1</td>\n",
       "      <td>rs201234755</td>\n",
       "      <td>0</td>\n",
       "      <td>766399</td>\n",
       "      <td>G</td>\n",
       "      <td>GAATA</td>\n",
       "    </tr>\n",
       "    <tr>\n",
       "      <th>1</th>\n",
       "      <td>1</td>\n",
       "      <td>rs142559957</td>\n",
       "      <td>0</td>\n",
       "      <td>769257</td>\n",
       "      <td>A</td>\n",
       "      <td>G</td>\n",
       "    </tr>\n",
       "    <tr>\n",
       "      <th>2</th>\n",
       "      <td>1</td>\n",
       "      <td>rs78250985</td>\n",
       "      <td>0</td>\n",
       "      <td>772506</td>\n",
       "      <td>C</td>\n",
       "      <td>G</td>\n",
       "    </tr>\n",
       "    <tr>\n",
       "      <th>3</th>\n",
       "      <td>1</td>\n",
       "      <td>rs958827772</td>\n",
       "      <td>0</td>\n",
       "      <td>772587</td>\n",
       "      <td>T</td>\n",
       "      <td>C</td>\n",
       "    </tr>\n",
       "    <tr>\n",
       "      <th>4</th>\n",
       "      <td>1</td>\n",
       "      <td>rs866924320</td>\n",
       "      <td>0</td>\n",
       "      <td>773628</td>\n",
       "      <td>A</td>\n",
       "      <td>T</td>\n",
       "    </tr>\n",
       "  </tbody>\n",
       "</table>\n",
       "</div>"
      ],
      "text/plain": [
       "   0            1  2       3  4      5\n",
       "0  1  rs201234755  0  766399  G  GAATA\n",
       "1  1  rs142559957  0  769257  A      G\n",
       "2  1   rs78250985  0  772506  C      G\n",
       "3  1  rs958827772  0  772587  T      C\n",
       "4  1  rs866924320  0  773628  A      T"
      ]
     },
     "metadata": {},
     "output_type": "display_data"
    },
    {
     "name": "stdout",
     "output_type": "stream",
     "text": [
      "found 104 in both bfile and gwas\n",
      "here are the missing variants\n",
      "{'rs181609621', 'rs199461', 'rs9468195', 'rs114138760', 'rs74751235', 'rs3794253', 'rs35749011', 'rs79956144', 'rs12502292', 'rs62465432', 'rs144755950'}\n"
     ]
    }
   ],
   "source": [
    "# how many of the gwas variants are in the bfiles\n",
    "bim_df = pd.read_csv(f'{genome_bfile}.bim', header=None, sep='\\s+')\n",
    "print(bim_df.shape)\n",
    "display(bim_df.head())\n",
    "\n",
    "variant_intersect = set(gwas_df['SNP']) & set(bim_df[1])\n",
    "print(f'found {len(variant_intersect)} in both bfile and gwas')\n",
    "missing_variants = set(gwas_df['SNP']) - set(bim_df[1])\n",
    "print('here are the missing variants')\n",
    "print(missing_variants)"
   ]
  },
  {
   "cell_type": "code",
   "execution_count": 11,
   "metadata": {},
   "outputs": [
    {
     "name": "stdout",
     "output_type": "stream",
     "text": [
      "plink --bfile /home/jupyter/sceqtl/genotypes/foundin.amppdv1.bfile --make-bed --out /home/jupyter/sceqtl/genotypes/foundin.amppdv1.risk.bfile --silent --extract /home/jupyter/sceqtl/public/pd.risk.variants\n"
     ]
    }
   ],
   "source": [
    "pd.DataFrame(data=variant_intersect).to_csv(risk_variants_file, index=False, header=False)\n",
    "this_cmd = f'plink --bfile {genome_bfile} --make-bed --out {risk_bfile} \\\n",
    "--silent --extract {risk_variants_file}'\n",
    "print(this_cmd)\n",
    "!{this_cmd}"
   ]
  },
  {
   "cell_type": "code",
   "execution_count": null,
   "metadata": {},
   "outputs": [],
   "source": []
  }
 ],
 "metadata": {
  "environment": {
   "name": "pytorch-gpu.1-9.m75",
   "type": "gcloud",
   "uri": "gcr.io/deeplearning-platform-release/pytorch-gpu.1-9:m75"
  },
  "kernelspec": {
   "display_name": "Python 3",
   "language": "python",
   "name": "python3"
  },
  "language_info": {
   "codemirror_mode": {
    "name": "ipython",
    "version": 3
   },
   "file_extension": ".py",
   "mimetype": "text/x-python",
   "name": "python",
   "nbconvert_exporter": "python",
   "pygments_lexer": "ipython3",
   "version": "3.7.10"
  },
  "widgets": {
   "application/vnd.jupyter.widget-state+json": {
    "state": {},
    "version_major": 2,
    "version_minor": 0
   }
  }
 },
 "nbformat": 4,
 "nbformat_minor": 4
}
