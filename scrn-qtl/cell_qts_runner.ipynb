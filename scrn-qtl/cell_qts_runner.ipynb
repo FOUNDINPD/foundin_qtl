{
 "cells": [
  {
   "cell_type": "markdown",
   "metadata": {},
   "source": [
    "## Notebook to runner for FOUNDIN-PD differentiation day SCRN and PD risk QTS analysis via papermill"
   ]
  },
  {
   "cell_type": "code",
   "execution_count": 1,
   "metadata": {},
   "outputs": [
    {
     "name": "stdout",
     "output_type": "stream",
     "text": [
      "Thu Jul 22 22:39:45 UTC 2021\n"
     ]
    }
   ],
   "source": [
    "!date"
   ]
  },
  {
   "cell_type": "markdown",
   "metadata": {},
   "source": [
    "#### import libraries"
   ]
  },
  {
   "cell_type": "code",
   "execution_count": 2,
   "metadata": {},
   "outputs": [],
   "source": [
    "import os\n",
    "import papermill as pm"
   ]
  },
  {
   "cell_type": "code",
   "execution_count": 3,
   "metadata": {},
   "outputs": [],
   "source": [
    "# base notebook to be run per tuple iteration\n",
    "base_notebook = '/home/jupyter/notebooks/day_eqts.ipynb'\n",
    "\n",
    "# output path for the generated notebooks\n",
    "out_nb_dir = f'/home/jupyter/notebooks/pm_gend_nbs'\n",
    "\n",
    "# setup iteration tuples\n",
    "cohort = 'foundin'\n",
    "days = ['da0', 'da25', 'da65']"
   ]
  },
  {
   "cell_type": "markdown",
   "metadata": {},
   "source": [
    "#### iterate over the tuples running the notebook per tuple"
   ]
  },
  {
   "cell_type": "code",
   "execution_count": 4,
   "metadata": {},
   "outputs": [
    {
     "name": "stdout",
     "output_type": "stream",
     "text": [
      "{'cohort': 'foundin', 'day': 'da0'}\n",
      "/home/jupyter/notebooks/pm_gend_nbs/foundin_da0_eqts.ipynb\n"
     ]
    },
    {
     "data": {
      "application/vnd.jupyter.widget-view+json": {
       "model_id": "4621aee14f5a4fd8b6d88716db0342b0",
       "version_major": 2,
       "version_minor": 0
      },
      "text/plain": [
       "Executing:   0%|          | 0/40 [00:00<?, ?cell/s]"
      ]
     },
     "metadata": {},
     "output_type": "display_data"
    },
    {
     "name": "stdout",
     "output_type": "stream",
     "text": [
      "{'cohort': 'foundin', 'day': 'da25'}\n",
      "/home/jupyter/notebooks/pm_gend_nbs/foundin_da25_eqts.ipynb\n"
     ]
    },
    {
     "data": {
      "application/vnd.jupyter.widget-view+json": {
       "model_id": "4f509525a6a34cf2812964947bc9b24f",
       "version_major": 2,
       "version_minor": 0
      },
      "text/plain": [
       "Executing:   0%|          | 0/40 [00:00<?, ?cell/s]"
      ]
     },
     "metadata": {},
     "output_type": "display_data"
    },
    {
     "name": "stdout",
     "output_type": "stream",
     "text": [
      "{'cohort': 'foundin', 'day': 'da65'}\n",
      "/home/jupyter/notebooks/pm_gend_nbs/foundin_da65_eqts.ipynb\n"
     ]
    },
    {
     "data": {
      "application/vnd.jupyter.widget-view+json": {
       "model_id": "936318737a9646758269e6f7ea26ac8a",
       "version_major": 2,
       "version_minor": 0
      },
      "text/plain": [
       "Executing:   0%|          | 0/40 [00:00<?, ?cell/s]"
      ]
     },
     "metadata": {},
     "output_type": "display_data"
    },
    {
     "name": "stdout",
     "output_type": "stream",
     "text": [
      "CPU times: user 6.28 s, sys: 217 ms, total: 6.49 s\n",
      "Wall time: 11min 53s\n"
     ]
    }
   ],
   "source": [
    "%%time\n",
    "# make sure the notebook output dir exists\n",
    "os.makedirs(out_nb_dir, exist_ok=True)\n",
    "\n",
    "for day in days:\n",
    "    # before running prep notebook make expr data for the cohort and visit\n",
    "    param_dict = {'cohort': cohort, 'day': day}\n",
    "    out_notebook = f'{out_nb_dir}/{cohort}_{day}_eqts.ipynb'\n",
    "    print(param_dict)\n",
    "    print(out_notebook)\n",
    "    pm.execute_notebook(input_path=base_notebook, output_path=out_notebook, \n",
    "                        parameters=param_dict)            "
   ]
  },
  {
   "cell_type": "code",
   "execution_count": null,
   "metadata": {},
   "outputs": [],
   "source": []
  }
 ],
 "metadata": {
  "environment": {
   "kernel": "python3",
   "name": "pytorch-gpu.1-9.m82",
   "type": "gcloud",
   "uri": "gcr.io/deeplearning-platform-release/pytorch-gpu.1-9:m82"
  },
  "kernelspec": {
   "display_name": "Python 3",
   "language": "python",
   "name": "python3"
  },
  "language_info": {
   "codemirror_mode": {
    "name": "ipython",
    "version": 3
   },
   "file_extension": ".py",
   "mimetype": "text/x-python",
   "name": "python",
   "nbconvert_exporter": "python",
   "pygments_lexer": "ipython3",
   "version": "3.7.10"
  },
  "widgets": {
   "application/vnd.jupyter.widget-state+json": {
    "state": {
     "06a0cc91d9ad423ea9c0b1d7ae9d5e97": {
      "model_module": "@jupyter-widgets/base",
      "model_module_version": "1.2.0",
      "model_name": "LayoutModel",
      "state": {}
     },
     "0ffd77aab0ba4fe19a09f2f1946e1d57": {
      "model_module": "@jupyter-widgets/controls",
      "model_module_version": "1.5.0",
      "model_name": "HTMLModel",
      "state": {
       "layout": "IPY_MODEL_499723b0b6dc423fa9923add727b7372",
       "style": "IPY_MODEL_2aff20256d504a159b8f24059452d51d",
       "value": "Executing: 100%"
      }
     },
     "1975a69c61334637a8e338d2f7f39ac7": {
      "model_module": "@jupyter-widgets/base",
      "model_module_version": "1.2.0",
      "model_name": "LayoutModel",
      "state": {}
     },
     "2aff20256d504a159b8f24059452d51d": {
      "model_module": "@jupyter-widgets/controls",
      "model_module_version": "1.5.0",
      "model_name": "DescriptionStyleModel",
      "state": {
       "description_width": ""
      }
     },
     "2f139065c8b742e693dad1da91febbfd": {
      "model_module": "@jupyter-widgets/base",
      "model_module_version": "1.2.0",
      "model_name": "LayoutModel",
      "state": {}
     },
     "35c0d6061ebd46feb7971612290d22d5": {
      "model_module": "@jupyter-widgets/controls",
      "model_module_version": "1.5.0",
      "model_name": "FloatProgressModel",
      "state": {
       "bar_style": "success",
       "layout": "IPY_MODEL_3c4d6f9e6d6a4108b8090339158ae73c",
       "max": 40,
       "style": "IPY_MODEL_a980db609e1d424088f92559333aeefc",
       "value": 40
      }
     },
     "36ea504a431742818c6a2b04fe596f41": {
      "model_module": "@jupyter-widgets/controls",
      "model_module_version": "1.5.0",
      "model_name": "HTMLModel",
      "state": {
       "layout": "IPY_MODEL_1975a69c61334637a8e338d2f7f39ac7",
       "style": "IPY_MODEL_389fa4512a2e4fe1acd0d07fea9d613b",
       "value": " 40/40 [04:07&lt;00:00,  7.93s/cell]"
      }
     },
     "389fa4512a2e4fe1acd0d07fea9d613b": {
      "model_module": "@jupyter-widgets/controls",
      "model_module_version": "1.5.0",
      "model_name": "DescriptionStyleModel",
      "state": {
       "description_width": ""
      }
     },
     "3a2c72072b5f4756964f57fcbe9fbcf9": {
      "model_module": "@jupyter-widgets/base",
      "model_module_version": "1.2.0",
      "model_name": "LayoutModel",
      "state": {}
     },
     "3c4d6f9e6d6a4108b8090339158ae73c": {
      "model_module": "@jupyter-widgets/base",
      "model_module_version": "1.2.0",
      "model_name": "LayoutModel",
      "state": {}
     },
     "421ac3d47edb47e081a7cfe16e1968fb": {
      "model_module": "@jupyter-widgets/controls",
      "model_module_version": "1.5.0",
      "model_name": "HTMLModel",
      "state": {
       "layout": "IPY_MODEL_591706b98657451b9c508302aef2fc8f",
       "style": "IPY_MODEL_bf7b25a3ab444190be9b137bc5da53db",
       "value": "Executing: 100%"
      }
     },
     "4621aee14f5a4fd8b6d88716db0342b0": {
      "model_module": "@jupyter-widgets/controls",
      "model_module_version": "1.5.0",
      "model_name": "HBoxModel",
      "state": {
       "children": [
        "IPY_MODEL_421ac3d47edb47e081a7cfe16e1968fb",
        "IPY_MODEL_cfd1afc00cd94fe28df84cc358830873",
        "IPY_MODEL_5137cb9905e8401a83cb38f427d4df57"
       ],
       "layout": "IPY_MODEL_06a0cc91d9ad423ea9c0b1d7ae9d5e97"
      }
     },
     "499723b0b6dc423fa9923add727b7372": {
      "model_module": "@jupyter-widgets/base",
      "model_module_version": "1.2.0",
      "model_name": "LayoutModel",
      "state": {}
     },
     "4b0bfd3392f848e09227de80edbf881d": {
      "model_module": "@jupyter-widgets/controls",
      "model_module_version": "1.5.0",
      "model_name": "DescriptionStyleModel",
      "state": {
       "description_width": ""
      }
     },
     "4f509525a6a34cf2812964947bc9b24f": {
      "model_module": "@jupyter-widgets/controls",
      "model_module_version": "1.5.0",
      "model_name": "HBoxModel",
      "state": {
       "children": [
        "IPY_MODEL_6db3a163a00d43358823390b9a242511",
        "IPY_MODEL_d32c300b440343aeb47ef8d2ec060639",
        "IPY_MODEL_36ea504a431742818c6a2b04fe596f41"
       ],
       "layout": "IPY_MODEL_6c39ab86c06f481f8fee044b2c9152f1"
      }
     },
     "5137cb9905e8401a83cb38f427d4df57": {
      "model_module": "@jupyter-widgets/controls",
      "model_module_version": "1.5.0",
      "model_name": "HTMLModel",
      "state": {
       "layout": "IPY_MODEL_cf7da9c7597341188960d781ba431747",
       "style": "IPY_MODEL_f6a49573d4ee47f2895a54ae4f804289",
       "value": " 40/40 [04:00&lt;00:00,  7.78s/cell]"
      }
     },
     "591706b98657451b9c508302aef2fc8f": {
      "model_module": "@jupyter-widgets/base",
      "model_module_version": "1.2.0",
      "model_name": "LayoutModel",
      "state": {}
     },
     "6b77a2259de14dd1bd6b9c02b69ced5a": {
      "model_module": "@jupyter-widgets/controls",
      "model_module_version": "1.5.0",
      "model_name": "ProgressStyleModel",
      "state": {
       "description_width": ""
      }
     },
     "6c39ab86c06f481f8fee044b2c9152f1": {
      "model_module": "@jupyter-widgets/base",
      "model_module_version": "1.2.0",
      "model_name": "LayoutModel",
      "state": {}
     },
     "6db3a163a00d43358823390b9a242511": {
      "model_module": "@jupyter-widgets/controls",
      "model_module_version": "1.5.0",
      "model_name": "HTMLModel",
      "state": {
       "layout": "IPY_MODEL_b0e1452755e64e04b3cc912f733b4c51",
       "style": "IPY_MODEL_4b0bfd3392f848e09227de80edbf881d",
       "value": "Executing: 100%"
      }
     },
     "77a5d645d80745fe943bf103a78d122d": {
      "model_module": "@jupyter-widgets/controls",
      "model_module_version": "1.5.0",
      "model_name": "DescriptionStyleModel",
      "state": {
       "description_width": ""
      }
     },
     "8a3891c8faa24cfb9d0e5e0589d99498": {
      "model_module": "@jupyter-widgets/controls",
      "model_module_version": "1.5.0",
      "model_name": "ProgressStyleModel",
      "state": {
       "description_width": ""
      }
     },
     "936318737a9646758269e6f7ea26ac8a": {
      "model_module": "@jupyter-widgets/controls",
      "model_module_version": "1.5.0",
      "model_name": "HBoxModel",
      "state": {
       "children": [
        "IPY_MODEL_0ffd77aab0ba4fe19a09f2f1946e1d57",
        "IPY_MODEL_35c0d6061ebd46feb7971612290d22d5",
        "IPY_MODEL_cc25ac2e540b426ba8fbf5d94c23dda5"
       ],
       "layout": "IPY_MODEL_3a2c72072b5f4756964f57fcbe9fbcf9"
      }
     },
     "a980db609e1d424088f92559333aeefc": {
      "model_module": "@jupyter-widgets/controls",
      "model_module_version": "1.5.0",
      "model_name": "ProgressStyleModel",
      "state": {
       "description_width": ""
      }
     },
     "b0e1452755e64e04b3cc912f733b4c51": {
      "model_module": "@jupyter-widgets/base",
      "model_module_version": "1.2.0",
      "model_name": "LayoutModel",
      "state": {}
     },
     "b20e69df09284bbf819b9fe60cebaa40": {
      "model_module": "@jupyter-widgets/base",
      "model_module_version": "1.2.0",
      "model_name": "LayoutModel",
      "state": {}
     },
     "bf7b25a3ab444190be9b137bc5da53db": {
      "model_module": "@jupyter-widgets/controls",
      "model_module_version": "1.5.0",
      "model_name": "DescriptionStyleModel",
      "state": {
       "description_width": ""
      }
     },
     "cc25ac2e540b426ba8fbf5d94c23dda5": {
      "model_module": "@jupyter-widgets/controls",
      "model_module_version": "1.5.0",
      "model_name": "HTMLModel",
      "state": {
       "layout": "IPY_MODEL_f92f02d6b10f42c39b548b42b9d6655f",
       "style": "IPY_MODEL_77a5d645d80745fe943bf103a78d122d",
       "value": " 40/40 [03:45&lt;00:00,  7.27s/cell]"
      }
     },
     "cf7da9c7597341188960d781ba431747": {
      "model_module": "@jupyter-widgets/base",
      "model_module_version": "1.2.0",
      "model_name": "LayoutModel",
      "state": {}
     },
     "cfd1afc00cd94fe28df84cc358830873": {
      "model_module": "@jupyter-widgets/controls",
      "model_module_version": "1.5.0",
      "model_name": "FloatProgressModel",
      "state": {
       "bar_style": "success",
       "layout": "IPY_MODEL_b20e69df09284bbf819b9fe60cebaa40",
       "max": 40,
       "style": "IPY_MODEL_6b77a2259de14dd1bd6b9c02b69ced5a",
       "value": 40
      }
     },
     "d32c300b440343aeb47ef8d2ec060639": {
      "model_module": "@jupyter-widgets/controls",
      "model_module_version": "1.5.0",
      "model_name": "FloatProgressModel",
      "state": {
       "bar_style": "success",
       "layout": "IPY_MODEL_2f139065c8b742e693dad1da91febbfd",
       "max": 40,
       "style": "IPY_MODEL_8a3891c8faa24cfb9d0e5e0589d99498",
       "value": 40
      }
     },
     "f6a49573d4ee47f2895a54ae4f804289": {
      "model_module": "@jupyter-widgets/controls",
      "model_module_version": "1.5.0",
      "model_name": "DescriptionStyleModel",
      "state": {
       "description_width": ""
      }
     },
     "f92f02d6b10f42c39b548b42b9d6655f": {
      "model_module": "@jupyter-widgets/base",
      "model_module_version": "1.2.0",
      "model_name": "LayoutModel",
      "state": {}
     }
    },
    "version_major": 2,
    "version_minor": 0
   }
  }
 },
 "nbformat": 4,
 "nbformat_minor": 4
}
