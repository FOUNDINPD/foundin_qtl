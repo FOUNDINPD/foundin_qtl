{
 "cells": [
  {
   "cell_type": "markdown",
   "metadata": {},
   "source": [
    "## Notebook to runner for FOUNDIN-PD SCRN eQTL result for a specific gene prep via papermill"
   ]
  },
  {
   "cell_type": "code",
   "execution_count": null,
   "metadata": {},
   "outputs": [],
   "source": [
    "!date"
   ]
  },
  {
   "cell_type": "markdown",
   "metadata": {},
   "source": [
    "#### import libraries"
   ]
  },
  {
   "cell_type": "code",
   "execution_count": null,
   "metadata": {},
   "outputs": [],
   "source": [
    "import pandas as pd\n",
    "import os\n",
    "import papermill as pm"
   ]
  },
  {
   "cell_type": "code",
   "execution_count": null,
   "metadata": {},
   "outputs": [],
   "source": [
    "# base notebook to be run per tuple iteration\n",
    "base_notebook = '/home/jupyter/notebooks/gene_specific_eqtl_results.ipynb'\n",
    "\n",
    "out_nb_dir = f'/home/jupyter/notebooks/pm_gend_nbs'\n",
    "\n",
    "# setup iteration tuples\n",
    "cohort = 'foundin'\n",
    "cell_types = ['iDA', 'DA', 'lNP']\n",
    "genes = ['KANSL1-AS1', 'lnc-SBDS-15', 'NUPL2', 'ARIH2', 'CCAR2',\n",
    "         'KANSL1', 'FAM215B', 'BCL7C', 'TUFM', 'SGF29','BIN3', 'lnc-NSF-2']"
   ]
  },
  {
   "cell_type": "markdown",
   "metadata": {},
   "source": [
    "#### iterate over the tuples running the notebook per tuple"
   ]
  },
  {
   "cell_type": "code",
   "execution_count": null,
   "metadata": {},
   "outputs": [],
   "source": [
    "%%time\n",
    "\n",
    "# make sure the notebook output dir exists\n",
    "os.makedirs(out_nb_dir, exist_ok=True)\n",
    "for gene in genes:\n",
    "    param_dict = {'cohort': cohort, 'gene': gene, 'cell_types': cell_types}\n",
    "    out_notebook = f'{out_nb_dir}/{cohort}.{gene}.specific_eqtl_results.ipynb'\n",
    "    print(param_dict)\n",
    "    print(out_notebook)\n",
    "    try:\n",
    "        pm.execute_notebook(input_path=base_notebook, output_path=out_notebook, \n",
    "                            parameters=param_dict)\n",
    "    except:\n",
    "        print(f'{cohort}.{gene} encountered an error continuing on next')                "
   ]
  },
  {
   "cell_type": "code",
   "execution_count": null,
   "metadata": {},
   "outputs": [],
   "source": []
  }
 ],
 "metadata": {
  "environment": {
   "kernel": "python3",
   "name": "pytorch-gpu.1-9.m82",
   "type": "gcloud",
   "uri": "gcr.io/deeplearning-platform-release/pytorch-gpu.1-9:m82"
  },
  "kernelspec": {
   "display_name": "Python 3",
   "language": "python",
   "name": "python3"
  },
  "language_info": {
   "codemirror_mode": {
    "name": "ipython",
    "version": 3
   },
   "file_extension": ".py",
   "mimetype": "text/x-python",
   "name": "python",
   "nbconvert_exporter": "python",
   "pygments_lexer": "ipython3",
   "version": "3.7.10"
  },
  "widgets": {
   "application/vnd.jupyter.widget-state+json": {
    "state": {
     "012abc9521454b94b17974ae4e06fb38": {
      "model_module": "@jupyter-widgets/controls",
      "model_module_version": "1.5.0",
      "model_name": "FloatProgressModel",
      "state": {
       "bar_style": "success",
       "layout": "IPY_MODEL_5a4da548e103427eb1d09f422f18a0be",
       "max": 36,
       "style": "IPY_MODEL_a50666fd32d848f6b88b55f7d1d754f2",
       "value": 36
      }
     },
     "03a72ac84cc14a7f92231403d76f12ed": {
      "model_module": "@jupyter-widgets/base",
      "model_module_version": "1.2.0",
      "model_name": "LayoutModel",
      "state": {}
     },
     "070f049f07fa4043b2cfe05f388ba13d": {
      "model_module": "@jupyter-widgets/controls",
      "model_module_version": "1.5.0",
      "model_name": "DescriptionStyleModel",
      "state": {
       "description_width": ""
      }
     },
     "10c6961949a5465aac5160865a3b892c": {
      "model_module": "@jupyter-widgets/controls",
      "model_module_version": "1.5.0",
      "model_name": "DescriptionStyleModel",
      "state": {
       "description_width": ""
      }
     },
     "23d4a6bca55b42e29df085a403d9b910": {
      "model_module": "@jupyter-widgets/controls",
      "model_module_version": "1.5.0",
      "model_name": "HTMLModel",
      "state": {
       "layout": "IPY_MODEL_4deecbaecf3e454cb81405dc41a7bbdd",
       "style": "IPY_MODEL_65a21d3c8e2645848a72e7e488a4b568",
       "value": " 36/36 [01:22&lt;00:00,  2.60cell/s]"
      }
     },
     "337cbf54c9c6425e9cc9745f8d8cb2e0": {
      "model_module": "@jupyter-widgets/controls",
      "model_module_version": "1.5.0",
      "model_name": "HTMLModel",
      "state": {
       "layout": "IPY_MODEL_b5b6dccfaac34f3cbbc050c2a9ca8a81",
       "style": "IPY_MODEL_070f049f07fa4043b2cfe05f388ba13d",
       "value": "Executing:  61%"
      }
     },
     "4579a95612b546f7af394cc92963b1b7": {
      "model_module": "@jupyter-widgets/base",
      "model_module_version": "1.2.0",
      "model_name": "LayoutModel",
      "state": {}
     },
     "4deecbaecf3e454cb81405dc41a7bbdd": {
      "model_module": "@jupyter-widgets/base",
      "model_module_version": "1.2.0",
      "model_name": "LayoutModel",
      "state": {}
     },
     "59c2327b03d244638f89e8d4689edbfc": {
      "model_module": "@jupyter-widgets/controls",
      "model_module_version": "1.5.0",
      "model_name": "HTMLModel",
      "state": {
       "layout": "IPY_MODEL_4579a95612b546f7af394cc92963b1b7",
       "style": "IPY_MODEL_d75738426b1e4328ba0503e0b32181be",
       "value": " 22/36 [01:03&lt;00:28,  2.05s/cell]"
      }
     },
     "5a4da548e103427eb1d09f422f18a0be": {
      "model_module": "@jupyter-widgets/base",
      "model_module_version": "1.2.0",
      "model_name": "LayoutModel",
      "state": {}
     },
     "65a21d3c8e2645848a72e7e488a4b568": {
      "model_module": "@jupyter-widgets/controls",
      "model_module_version": "1.5.0",
      "model_name": "DescriptionStyleModel",
      "state": {
       "description_width": ""
      }
     },
     "6d0f22cb7216439b8dd7e18148399960": {
      "model_module": "@jupyter-widgets/base",
      "model_module_version": "1.2.0",
      "model_name": "LayoutModel",
      "state": {}
     },
     "78e7755666734324892ada624259ab16": {
      "model_module": "@jupyter-widgets/controls",
      "model_module_version": "1.5.0",
      "model_name": "HBoxModel",
      "state": {
       "children": [
        "IPY_MODEL_337cbf54c9c6425e9cc9745f8d8cb2e0",
        "IPY_MODEL_ef305bffb9a04187abfb2d720f991041",
        "IPY_MODEL_59c2327b03d244638f89e8d4689edbfc"
       ],
       "layout": "IPY_MODEL_a9753c63f04a49f28c1dc04843bd6ca8"
      }
     },
     "9e9c83c2a6fa4e47a6a5f35b746f08b3": {
      "model_module": "@jupyter-widgets/base",
      "model_module_version": "1.2.0",
      "model_name": "LayoutModel",
      "state": {}
     },
     "a50666fd32d848f6b88b55f7d1d754f2": {
      "model_module": "@jupyter-widgets/controls",
      "model_module_version": "1.5.0",
      "model_name": "ProgressStyleModel",
      "state": {
       "description_width": ""
      }
     },
     "a9753c63f04a49f28c1dc04843bd6ca8": {
      "model_module": "@jupyter-widgets/base",
      "model_module_version": "1.2.0",
      "model_name": "LayoutModel",
      "state": {}
     },
     "b5b6dccfaac34f3cbbc050c2a9ca8a81": {
      "model_module": "@jupyter-widgets/base",
      "model_module_version": "1.2.0",
      "model_name": "LayoutModel",
      "state": {}
     },
     "c2000f45d6684ba4905bc15cd545305a": {
      "model_module": "@jupyter-widgets/controls",
      "model_module_version": "1.5.0",
      "model_name": "ProgressStyleModel",
      "state": {
       "description_width": ""
      }
     },
     "d75738426b1e4328ba0503e0b32181be": {
      "model_module": "@jupyter-widgets/controls",
      "model_module_version": "1.5.0",
      "model_name": "DescriptionStyleModel",
      "state": {
       "description_width": ""
      }
     },
     "d78197dc656f44fe85a3ba9058963cee": {
      "model_module": "@jupyter-widgets/controls",
      "model_module_version": "1.5.0",
      "model_name": "HTMLModel",
      "state": {
       "layout": "IPY_MODEL_9e9c83c2a6fa4e47a6a5f35b746f08b3",
       "style": "IPY_MODEL_10c6961949a5465aac5160865a3b892c",
       "value": "Executing: 100%"
      }
     },
     "d92eeecd4db64b8a91cd4d5ffe2a9d2a": {
      "model_module": "@jupyter-widgets/controls",
      "model_module_version": "1.5.0",
      "model_name": "HBoxModel",
      "state": {
       "children": [
        "IPY_MODEL_d78197dc656f44fe85a3ba9058963cee",
        "IPY_MODEL_012abc9521454b94b17974ae4e06fb38",
        "IPY_MODEL_23d4a6bca55b42e29df085a403d9b910"
       ],
       "layout": "IPY_MODEL_03a72ac84cc14a7f92231403d76f12ed"
      }
     },
     "ef305bffb9a04187abfb2d720f991041": {
      "model_module": "@jupyter-widgets/controls",
      "model_module_version": "1.5.0",
      "model_name": "FloatProgressModel",
      "state": {
       "bar_style": "danger",
       "layout": "IPY_MODEL_6d0f22cb7216439b8dd7e18148399960",
       "max": 36,
       "style": "IPY_MODEL_c2000f45d6684ba4905bc15cd545305a",
       "value": 22
      }
     }
    },
    "version_major": 2,
    "version_minor": 0
   }
  }
 },
 "nbformat": 4,
 "nbformat_minor": 4
}
