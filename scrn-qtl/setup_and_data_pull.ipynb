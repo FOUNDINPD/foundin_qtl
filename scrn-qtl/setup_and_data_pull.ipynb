{
 "cells": [
  {
   "cell_type": "markdown",
   "metadata": {},
   "source": [
    "## Notebook to do any additional setup on instance and pull input data for analysis"
   ]
  },
  {
   "cell_type": "code",
   "execution_count": 1,
   "metadata": {},
   "outputs": [
    {
     "name": "stdout",
     "output_type": "stream",
     "text": [
      "Tue Aug  3 22:37:16 UTC 2021\n"
     ]
    }
   ],
   "source": [
    "!date"
   ]
  },
  {
   "cell_type": "code",
   "execution_count": 2,
   "metadata": {},
   "outputs": [],
   "source": [
    "import os"
   ]
  },
  {
   "cell_type": "code",
   "execution_count": 4,
   "metadata": {},
   "outputs": [],
   "source": [
    "# parameter variables\n",
    "cohort = 'foundin'\n",
    "version = 'amppdv1'\n",
    "cohort_version = f'{cohort}.{version}'\n",
    "quant_type = 'scrn'\n",
    "\n",
    "# directories for initial setup\n",
    "home_dir = '/home/jupyter'\n",
    "nbs_dir = '/home/jupyter/notebooks'\n",
    "wrk_dir = f'/home/jupyter/sceqtl'\n",
    "geno_dir = f'{wrk_dir}/genotypes'\n",
    "quants_dir = f'{wrk_dir}/quants'\n",
    "info_dir = f'{wrk_dir}/sample_info'\n",
    "public_dir = f'{wrk_dir}/public'\n",
    "\n",
    "# input data\n",
    "data_bucket = 'gs://foundin-processed-assay'\n",
    "qtl_bucket_path = f'{data_bucket}/analysis/sceqtl'\n",
    "nbs_bucket_path = f'{qtl_bucket_path}/notebooks'\n",
    "genos_bucket_path = f'gs://foundin-processed-assay/analysis/eqtl/genotypes/{cohort_version}.chr*'\n",
    "quants_bucket_path = 'gs://foundin-processed-assay/analysis/scrn_eqtl/\\\n",
    "Matrix_AvgGeneExpressionSampleBroadCellTypeCluster_NormRNA_18Nov2020.txt'\n",
    "quants_local_file = f'{quants_dir}/{quant_type}.avgnormbroad.csv'\n",
    "features_bucket_path = 'gs://foundin-processed-assay/analysis/eqtl/expression/\\\n",
    "gencode_v29.lncipedia_v5_2_hc.annotation.pkl'\n",
    "tissue_genes_bckt_path = 'gs://foundin-processed-assay/analysis/eqtl/expression/\\\n",
    "tissue_category_rna_brain_Tissue.tsv'\n",
    "# fasta_index_bucket_path = 'gs://gcp-public-data--broad-references/hg38/v0/\\\n",
    "# Homo_sapiens_assembly38.fasta.fai'\n",
    "sample_info_bckt_path = f'{qtl_bucket_path}/sample_info'\n",
    "# gwas_results_bckt_path = f'{qtl_bucket_path}/gwas/pd_meta5v2_cojo_results.jma.cojo.csv'\n",
    "gwas_results_bckt_path = 'gs://foundin-processed-assay/analysis/eqtl/gwas'"
   ]
  },
  {
   "cell_type": "code",
   "execution_count": 4,
   "metadata": {},
   "outputs": [],
   "source": [
    "# make the dirs\n",
    "os.makedirs(wrk_dir, exist_ok=True)\n",
    "os.makedirs(geno_dir, exist_ok=True)\n",
    "os.makedirs(quants_dir, exist_ok=True)\n",
    "os.makedirs(info_dir, exist_ok=True)\n",
    "os.makedirs(public_dir, exist_ok=True)"
   ]
  },
  {
   "cell_type": "markdown",
   "metadata": {},
   "source": [
    "#### mirror down input data from the input buckets"
   ]
  },
  {
   "cell_type": "code",
   "execution_count": 5,
   "metadata": {},
   "outputs": [
    {
     "name": "stdout",
     "output_type": "stream",
     "text": [
      "gsutil -mq cp -P gs://foundin-processed-assay/analysis/eqtl/genotypes/foundin.amppdv1.chr* /home/jupyter/sceqtl/genotypes/\n",
      "total 16G\n",
      "-rw-r--r-- 1 jupyter jupyter 1.3K Aug  3 22:37 foundin.amppdv1.chr1.log\n",
      "-rw-r--r-- 1 jupyter jupyter  14M Aug  3 22:37 foundin.amppdv1.chr1.pgen\n",
      "-rw-r--r-- 1 jupyter jupyter 3.2K Aug  3 22:37 foundin.amppdv1.chr1.psam\n",
      "-rw-r--r-- 1 jupyter jupyter 1.2G Aug  3 22:37 foundin.amppdv1.chr1.pvar\n",
      "-rw-r--r-- 1 jupyter jupyter 1.3K Aug  3 22:37 foundin.amppdv1.chr10.log\n",
      "-rw-r--r-- 1 jupyter jupyter 9.2M Aug  3 22:37 foundin.amppdv1.chr10.pgen\n",
      "-rw-r--r-- 1 jupyter jupyter 3.2K Aug  3 22:37 foundin.amppdv1.chr10.psam\n",
      "-rw-r--r-- 1 jupyter jupyter 763M Aug  3 22:37 foundin.amppdv1.chr10.pvar\n",
      "-rw-r--r-- 1 jupyter jupyter 1.3K Aug  3 22:37 foundin.amppdv1.chr11.log\n",
      "-rw-r--r-- 1 jupyter jupyter 9.0M Aug  3 22:37 foundin.amppdv1.chr11.pgen\n",
      "-rw-r--r-- 1 jupyter jupyter 3.2K Aug  3 22:37 foundin.amppdv1.chr11.psam\n",
      "-rw-r--r-- 1 jupyter jupyter 801M Aug  3 22:37 foundin.amppdv1.chr11.pvar\n",
      "-rw-r--r-- 1 jupyter jupyter 1.3K Aug  3 22:37 foundin.amppdv1.chr12.log\n",
      "-rw-r--r-- 1 jupyter jupyter 8.7M Aug  3 22:37 foundin.amppdv1.chr12.pgen\n",
      "-rw-r--r-- 1 jupyter jupyter 3.2K Aug  3 22:37 foundin.amppdv1.chr12.psam\n",
      "-rw-r--r-- 1 jupyter jupyter 789M Aug  3 22:37 foundin.amppdv1.chr12.pvar\n",
      "-rw-r--r-- 1 jupyter jupyter 1.3K Aug  3 22:37 foundin.amppdv1.chr13.log\n",
      "-rw-r--r-- 1 jupyter jupyter 6.7M Aug  3 22:37 foundin.amppdv1.chr13.pgen\n",
      "-rw-r--r-- 1 jupyter jupyter 3.2K Aug  3 22:37 foundin.amppdv1.chr13.psam\n",
      "-rw-r--r-- 1 jupyter jupyter 491M Aug  3 22:37 foundin.amppdv1.chr13.pvar\n",
      "-rw-r--r-- 1 jupyter jupyter 1.3K Aug  3 22:37 foundin.amppdv1.chr14.log\n",
      "-rw-r--r-- 1 jupyter jupyter 5.9M Aug  3 22:37 foundin.amppdv1.chr14.pgen\n",
      "-rw-r--r-- 1 jupyter jupyter 3.2K Aug  3 22:37 foundin.amppdv1.chr14.psam\n",
      "-rw-r--r-- 1 jupyter jupyter 538M Aug  3 22:37 foundin.amppdv1.chr14.pvar\n",
      "-rw-r--r-- 1 jupyter jupyter 1.3K Aug  3 22:37 foundin.amppdv1.chr15.log\n",
      "-rw-r--r-- 1 jupyter jupyter 5.1M Aug  3 22:37 foundin.amppdv1.chr15.pgen\n",
      "-rw-r--r-- 1 jupyter jupyter 3.2K Aug  3 22:37 foundin.amppdv1.chr15.psam\n",
      "-rw-r--r-- 1 jupyter jupyter 490M Aug  3 22:37 foundin.amppdv1.chr15.pvar\n",
      "-rw-r--r-- 1 jupyter jupyter 1.3K Aug  3 22:37 foundin.amppdv1.chr16.log\n",
      "-rw-r--r-- 1 jupyter jupyter 5.6M Aug  3 22:37 foundin.amppdv1.chr16.pgen\n",
      "-rw-r--r-- 1 jupyter jupyter 3.2K Aug  3 22:37 foundin.amppdv1.chr16.psam\n",
      "-rw-r--r-- 1 jupyter jupyter 559M Aug  3 22:37 foundin.amppdv1.chr16.pvar\n",
      "-rw-r--r-- 1 jupyter jupyter 1.3K Aug  3 22:37 foundin.amppdv1.chr17.log\n",
      "-rw-r--r-- 1 jupyter jupyter 4.9M Aug  3 22:37 foundin.amppdv1.chr17.pgen\n",
      "-rw-r--r-- 1 jupyter jupyter 3.2K Aug  3 22:37 foundin.amppdv1.chr17.psam\n",
      "-rw-r--r-- 1 jupyter jupyter 508M Aug  3 22:37 foundin.amppdv1.chr17.pvar\n",
      "-rw-r--r-- 1 jupyter jupyter 1.3K Aug  3 22:37 foundin.amppdv1.chr18.log\n",
      "-rw-r--r-- 1 jupyter jupyter 5.2M Aug  3 22:37 foundin.amppdv1.chr18.pgen\n",
      "-rw-r--r-- 1 jupyter jupyter 3.2K Aug  3 22:37 foundin.amppdv1.chr18.psam\n",
      "-rw-r--r-- 1 jupyter jupyter 436M Aug  3 22:37 foundin.amppdv1.chr18.pvar\n",
      "-rw-r--r-- 1 jupyter jupyter 1.3K Aug  3 22:37 foundin.amppdv1.chr19.log\n",
      "-rw-r--r-- 1 jupyter jupyter 4.0M Aug  3 22:37 foundin.amppdv1.chr19.pgen\n",
      "-rw-r--r-- 1 jupyter jupyter 3.2K Aug  3 22:37 foundin.amppdv1.chr19.psam\n",
      "-rw-r--r-- 1 jupyter jupyter 436M Aug  3 22:37 foundin.amppdv1.chr19.pvar\n",
      "-rw-r--r-- 1 jupyter jupyter 1.3K Aug  3 22:37 foundin.amppdv1.chr2.log\n",
      "-rw-r--r-- 1 jupyter jupyter  16M Aug  3 22:37 foundin.amppdv1.chr2.pgen\n",
      "-rw-r--r-- 1 jupyter jupyter 3.2K Aug  3 22:37 foundin.amppdv1.chr2.psam\n",
      "-rw-r--r-- 1 jupyter jupyter 1.4G Aug  3 22:37 foundin.amppdv1.chr2.pvar\n",
      "-rw-r--r-- 1 jupyter jupyter 1.3K Aug  3 22:37 foundin.amppdv1.chr20.log\n",
      "-rw-r--r-- 1 jupyter jupyter 4.1M Aug  3 22:37 foundin.amppdv1.chr20.pgen\n",
      "-rw-r--r-- 1 jupyter jupyter 3.2K Aug  3 22:37 foundin.amppdv1.chr20.psam\n",
      "-rw-r--r-- 1 jupyter jupyter 345M Aug  3 22:37 foundin.amppdv1.chr20.pvar\n",
      "-rw-r--r-- 1 jupyter jupyter 1.3K Aug  3 22:37 foundin.amppdv1.chr21.log\n",
      "-rw-r--r-- 1 jupyter jupyter 2.5M Aug  3 22:37 foundin.amppdv1.chr21.pgen\n",
      "-rw-r--r-- 1 jupyter jupyter 3.2K Aug  3 22:37 foundin.amppdv1.chr21.psam\n",
      "-rw-r--r-- 1 jupyter jupyter 208M Aug  3 22:37 foundin.amppdv1.chr21.pvar\n",
      "-rw-r--r-- 1 jupyter jupyter 1.3K Aug  3 22:37 foundin.amppdv1.chr22.log\n",
      "-rw-r--r-- 1 jupyter jupyter 2.4M Aug  3 22:37 foundin.amppdv1.chr22.pgen\n",
      "-rw-r--r-- 1 jupyter jupyter 3.2K Aug  3 22:37 foundin.amppdv1.chr22.psam\n",
      "-rw-r--r-- 1 jupyter jupyter 228M Aug  3 22:37 foundin.amppdv1.chr22.pvar\n",
      "-rw-r--r-- 1 jupyter jupyter 1.3K Aug  3 22:37 foundin.amppdv1.chr3.log\n",
      "-rw-r--r-- 1 jupyter jupyter  13M Aug  3 22:37 foundin.amppdv1.chr3.pgen\n",
      "-rw-r--r-- 1 jupyter jupyter 3.2K Aug  3 22:37 foundin.amppdv1.chr3.psam\n",
      "-rw-r--r-- 1 jupyter jupyter 1.2G Aug  3 22:37 foundin.amppdv1.chr3.pvar\n",
      "-rw-r--r-- 1 jupyter jupyter 1.3K Aug  3 22:37 foundin.amppdv1.chr4.log\n",
      "-rw-r--r-- 1 jupyter jupyter  14M Aug  3 22:37 foundin.amppdv1.chr4.pgen\n",
      "-rw-r--r-- 1 jupyter jupyter 3.2K Aug  3 22:37 foundin.amppdv1.chr4.psam\n",
      "-rw-r--r-- 1 jupyter jupyter 1.1G Aug  3 22:37 foundin.amppdv1.chr4.pvar\n",
      "-rw-r--r-- 1 jupyter jupyter 1.3K Aug  3 22:37 foundin.amppdv1.chr5.log\n",
      "-rw-r--r-- 1 jupyter jupyter  12M Aug  3 22:37 foundin.amppdv1.chr5.pgen\n",
      "-rw-r--r-- 1 jupyter jupyter 3.2K Aug  3 22:37 foundin.amppdv1.chr5.psam\n",
      "-rw-r--r-- 1 jupyter jupyter 949M Aug  3 22:37 foundin.amppdv1.chr5.pvar\n",
      "-rw-r--r-- 1 jupyter jupyter 1.3K Aug  3 22:37 foundin.amppdv1.chr6.log\n",
      "-rw-r--r-- 1 jupyter jupyter  13M Aug  3 22:37 foundin.amppdv1.chr6.pgen\n",
      "-rw-r--r-- 1 jupyter jupyter 3.2K Aug  3 22:37 foundin.amppdv1.chr6.psam\n",
      "-rw-r--r-- 1 jupyter jupyter 959M Aug  3 22:37 foundin.amppdv1.chr6.pvar\n",
      "-rw-r--r-- 1 jupyter jupyter 1.3K Aug  3 22:37 foundin.amppdv1.chr7.log\n",
      "-rw-r--r-- 1 jupyter jupyter  11M Aug  3 22:37 foundin.amppdv1.chr7.pgen\n",
      "-rw-r--r-- 1 jupyter jupyter 3.2K Aug  3 22:37 foundin.amppdv1.chr7.psam\n",
      "-rw-r--r-- 1 jupyter jupyter 915M Aug  3 22:37 foundin.amppdv1.chr7.pvar\n",
      "-rw-r--r-- 1 jupyter jupyter 1.3K Aug  3 22:37 foundin.amppdv1.chr8.log\n",
      "-rw-r--r-- 1 jupyter jupyter  10M Aug  3 22:37 foundin.amppdv1.chr8.pgen\n",
      "-rw-r--r-- 1 jupyter jupyter 3.2K Aug  3 22:37 foundin.amppdv1.chr8.psam\n",
      "-rw-r--r-- 1 jupyter jupyter 849M Aug  3 22:37 foundin.amppdv1.chr8.pvar\n",
      "-rw-r--r-- 1 jupyter jupyter 1.3K Aug  3 22:37 foundin.amppdv1.chr9.log\n",
      "-rw-r--r-- 1 jupyter jupyter 7.8M Aug  3 22:37 foundin.amppdv1.chr9.pgen\n",
      "-rw-r--r-- 1 jupyter jupyter 3.2K Aug  3 22:37 foundin.amppdv1.chr9.psam\n",
      "-rw-r--r-- 1 jupyter jupyter 622M Aug  3 22:37 foundin.amppdv1.chr9.pvar\n",
      "-rw-r--r-- 1 jupyter jupyter 1.3K Aug  3 22:37 foundin.amppdv1.chrX.log\n",
      "-rw-r--r-- 1 jupyter jupyter 5.3M Aug  3 22:37 foundin.amppdv1.chrX.pgen\n",
      "-rw-r--r-- 1 jupyter jupyter 3.2K Aug  3 22:37 foundin.amppdv1.chrX.psam\n",
      "-rw-r--r-- 1 jupyter jupyter 283M Aug  3 22:37 foundin.amppdv1.chrX.pvar\n"
     ]
    }
   ],
   "source": [
    "# pull genotypes to local disk\n",
    "this_cmd = f'gsutil -mq cp -P {genos_bucket_path} {geno_dir}/'\n",
    "print(this_cmd)\n",
    "!{this_cmd}\n",
    "!ls -lh {geno_dir}"
   ]
  },
  {
   "cell_type": "markdown",
   "metadata": {},
   "source": [
    "#### pull quantified features to local disk"
   ]
  },
  {
   "cell_type": "code",
   "execution_count": 5,
   "metadata": {},
   "outputs": [
    {
     "name": "stdout",
     "output_type": "stream",
     "text": [
      "gsutil -mq cp -P gs://foundin-processed-assay/analysis/scrn_eqtl/Matrix_AvgGeneExpressionSampleBroadCellTypeCluster_NormRNA_18Nov2020.txt /home/jupyter/sceqtl/quants/sc.avgnormbroad.csv\n"
     ]
    }
   ],
   "source": [
    "this_cmd = f'gsutil -mq cp -P {quants_bucket_path} {quants_local_file}'\n",
    "print(this_cmd)\n",
    "!{this_cmd}"
   ]
  },
  {
   "cell_type": "markdown",
   "metadata": {},
   "source": [
    "#### pull genome fasta index file"
   ]
  },
  {
   "cell_type": "code",
   "execution_count": 9,
   "metadata": {},
   "outputs": [],
   "source": [
    "# this_cmd = f'gsutil -mq cp -P {fasta_index_bucket_path} {quants_dir}/'\n",
    "# print(this_cmd)\n",
    "# !{this_cmd}"
   ]
  },
  {
   "cell_type": "markdown",
   "metadata": {},
   "source": [
    "#### pull features annotation file"
   ]
  },
  {
   "cell_type": "code",
   "execution_count": 6,
   "metadata": {},
   "outputs": [
    {
     "name": "stdout",
     "output_type": "stream",
     "text": [
      "gsutil -mq cp -P gs://foundin-processed-assay/analysis/eqtl/expression/gencode_v29.lncipedia_v5_2_hc.annotation.pkl /home/jupyter/sceqtl/quants/\n",
      "gsutil -mq cp -P gs://foundin-processed-assay/analysis/eqtl/expression/tissue_category_rna_brain_Tissue.tsv /home/jupyter/sceqtl/quants/\n",
      "total 1.7G\n",
      "-rw-r--r-- 1 jupyter jupyter 1.5G Oct  1  2020 gencode_v29.lncipedia_v5_2_hc.annotation.pkl\n",
      "-rw-r--r-- 1 jupyter jupyter 277M Aug  4 20:50 sc.avgnormbroad.csv\n",
      "-rw-r--r-- 1 jupyter jupyter 5.5M Feb 18 17:24 tissue_category_rna_brain_Tissue.tsv\n"
     ]
    }
   ],
   "source": [
    "this_cmd = f'gsutil -mq cp -P {features_bucket_path} {quants_dir}/'\n",
    "print(this_cmd)\n",
    "!{this_cmd}\n",
    "\n",
    "this_cmd = f'gsutil -mq cp -P {tissue_genes_bckt_path} {quants_dir}/'\n",
    "print(this_cmd)\n",
    "!{this_cmd}\n",
    "\n",
    "!ls -lh {quants_dir}"
   ]
  },
  {
   "cell_type": "markdown",
   "metadata": {},
   "source": [
    "#### pull down the sample info"
   ]
  },
  {
   "cell_type": "code",
   "execution_count": 9,
   "metadata": {},
   "outputs": [
    {
     "name": "stdout",
     "output_type": "stream",
     "text": [
      "gsutil -mq cp -P gs://foundin-processed-assay/analysis/sceqtl/sample_info/* /home/jupyter/sceqtl/sample_info/\n",
      "CommandException: No URLs matched: gs://foundin-processed-assay/analysis/sceqtl/sample_info/*\n",
      "CommandException: 1 file/object could not be transferred.\n",
      "total 0\n"
     ]
    }
   ],
   "source": [
    "this_cmd = f'gsutil -mq cp -P {sample_info_bckt_path}/* {info_dir}/'\n",
    "print(this_cmd)\n",
    "!{this_cmd}\n",
    "\n",
    "!ls -lh {info_dir}"
   ]
  },
  {
   "cell_type": "markdown",
   "metadata": {},
   "source": [
    "#### pull down any need gwas results"
   ]
  },
  {
   "cell_type": "code",
   "execution_count": 10,
   "metadata": {},
   "outputs": [
    {
     "name": "stdout",
     "output_type": "stream",
     "text": [
      "gsutil -mq cp -P gs://foundin-processed-assay/analysis/eqtl/gwas/* /home/jupyter/sceqtl/public/\n",
      "total 825M\n",
      "-rw-r--r-- 1 jupyter jupyter 6.9K Aug  3 22:43 pd.table_s2.clean.txt\n",
      "-rw-r--r-- 1 jupyter jupyter  15K Aug  3 22:43 pd_meta5v2_cojo_results.jma.cojo.csv\n",
      "-rw-r--r-- 1 jupyter jupyter 825M Aug  3 22:43 pdmeta_sumstats_hg38.h5\n"
     ]
    }
   ],
   "source": [
    "this_cmd = f'gsutil -mq cp -P {gwas_results_bckt_path}/* {public_dir}/'\n",
    "print(this_cmd)\n",
    "!{this_cmd}\n",
    "!ls -lh {public_dir}"
   ]
  },
  {
   "cell_type": "markdown",
   "metadata": {},
   "source": [
    "#### add plink2"
   ]
  },
  {
   "cell_type": "code",
   "execution_count": 11,
   "metadata": {},
   "outputs": [
    {
     "name": "stdout",
     "output_type": "stream",
     "text": [
      "--2021-08-03 22:43:26--  http://s3.amazonaws.com/plink2-assets/alpha2/plink2_linux_x86_64.zip\n",
      "Resolving s3.amazonaws.com (s3.amazonaws.com)... 52.217.95.184\n",
      "Connecting to s3.amazonaws.com (s3.amazonaws.com)|52.217.95.184|:80... connected.\n",
      "HTTP request sent, awaiting response... 200 OK\n",
      "Length: 8879151 (8.5M) [application/zip]\n",
      "Saving to: ‘/tmp/plink_linux_x86_64.zip’\n",
      "\n",
      "/tmp/plink_linux_x8 100%[===================>]   8.47M  30.8MB/s    in 0.3s    \n",
      "\n",
      "2021-08-03 22:43:26 (30.8 MB/s) - ‘/tmp/plink_linux_x86_64.zip’ saved [8879151/8879151]\n",
      "\n",
      "Archive:  /tmp/plink_linux_x86_64.zip\n",
      "  inflating: /tmp/plink/plink2       \n"
     ]
    }
   ],
   "source": [
    "!wget http://s3.amazonaws.com/plink2-assets/alpha2/plink2_linux_x86_64.zip -O /tmp/plink_linux_x86_64.zip\n",
    "!unzip /tmp/plink_linux_x86_64.zip -d /tmp/plink\n",
    "!rm -f /tmp/plink_linux_x86_64.zip\n",
    "!sudo mv /tmp/plink/plink2 /usr/local/bin/\n",
    "!rm -rf /tmp/plink"
   ]
  },
  {
   "cell_type": "code",
   "execution_count": 12,
   "metadata": {},
   "outputs": [
    {
     "name": "stdout",
     "output_type": "stream",
     "text": [
      "PLINK v2.00a2.3LM 64-bit Intel (24 Jan 2020)   www.cog-genomics.org/plink/2.0/\n",
      "(C) 2005-2020 Shaun Purcell, Christopher Chang   GNU General Public License v3\n",
      "\n",
      "  plink2 <input flag(s)...> [command flag(s)...] [other flag(s)...]\n",
      "  plink2 --help [flag name(s)...]\n",
      "\n",
      "Commands include --rm-dup list, --make-bpgen, --export, --freq, --geno-counts,\n",
      "--sample-counts, --missing, --hardy, --indep-pairwise, --ld, --sample-diff,\n",
      "--make-king, --king-cutoff, --write-samples, --write-snplist, --make-grm-list,\n",
      "--pca, --glm, --adjust-file, --score, --variant-score, --genotyping-rate,\n",
      "--pgen-info, --validate, and --zst-decompress.\n",
      "\n",
      "\"plink2 --help | more\" describes all functions.\n"
     ]
    }
   ],
   "source": [
    "!plink2"
   ]
  },
  {
   "cell_type": "markdown",
   "metadata": {},
   "source": [
    "#### install bcftools"
   ]
  },
  {
   "cell_type": "code",
   "execution_count": 13,
   "metadata": {},
   "outputs": [
    {
     "name": "stdout",
     "output_type": "stream",
     "text": [
      "Reading package lists...\n",
      "Building dependency tree...\n",
      "Reading state information...\n",
      "The following additional packages will be installed:\n",
      "  autoconf automake autotools-dev bzip2-doc libltdl-dev libsigsegv2 libtool m4\n",
      "Suggested packages:\n",
      "  autoconf-archive gnu-standards autoconf-doc gettext libtool-doc liblzma-doc\n",
      "  ncurses-doc gfortran | fortran95-compiler gcj-jdk m4-doc\n",
      "The following NEW packages will be installed:\n",
      "  autoconf automake autotools-dev bzip2-doc libbz2-dev libltdl-dev liblzma-dev\n",
      "  libncurses-dev libsigsegv2 libtool libtool-bin m4\n",
      "0 upgraded, 12 newly installed, 0 to remove and 1 not upgraded.\n",
      "Need to get 3632 kB of archives.\n",
      "After this operation, 10.9 MB of additional disk space will be used.\n",
      "Get:1 http://deb.debian.org/debian buster/main amd64 libsigsegv2 amd64 2.12-2 [32.8 kB]\n",
      "Get:2 http://deb.debian.org/debian buster/main amd64 m4 amd64 1.4.18-2 [203 kB]\n",
      "Get:3 http://deb.debian.org/debian buster/main amd64 autoconf all 2.69-11 [341 kB]\n",
      "Get:4 http://deb.debian.org/debian buster/main amd64 autotools-dev all 20180224.1 [77.0 kB]\n",
      "Get:5 http://deb.debian.org/debian buster/main amd64 automake all 1:1.16.1-4 [771 kB]\n",
      "Get:6 http://deb.debian.org/debian buster/main amd64 bzip2-doc all 1.0.6-9.2~deb10u1 [493 kB]\n",
      "Get:7 http://deb.debian.org/debian buster/main amd64 libbz2-dev amd64 1.0.6-9.2~deb10u1 [30.2 kB]\n",
      "Get:8 http://deb.debian.org/debian buster/main amd64 libltdl-dev amd64 2.4.6-9 [162 kB]\n",
      "Get:9 http://deb.debian.org/debian buster/main amd64 liblzma-dev amd64 5.2.4-1 [210 kB]\n",
      "Get:10 http://deb.debian.org/debian buster/main amd64 libncurses-dev amd64 6.1+20181013-2+deb10u2 [333 kB]\n",
      "Get:11 http://deb.debian.org/debian buster/main amd64 libtool all 2.4.6-9 [547 kB]\n",
      "Get:12 http://deb.debian.org/debian buster/main amd64 libtool-bin amd64 2.4.6-9 [431 kB]\n",
      "Fetched 3632 kB in 0s (22.0 MB/s)\n",
      "Selecting previously unselected package libsigsegv2:amd64.\n",
      "(Reading database ... 82577 files and directories currently installed.)\n",
      "Preparing to unpack .../00-libsigsegv2_2.12-2_amd64.deb ...\n",
      "Unpacking libsigsegv2:amd64 (2.12-2) ...\n",
      "Selecting previously unselected package m4.\n",
      "Preparing to unpack .../01-m4_1.4.18-2_amd64.deb ...\n",
      "Unpacking m4 (1.4.18-2) ...\n",
      "Selecting previously unselected package autoconf.\n",
      "Preparing to unpack .../02-autoconf_2.69-11_all.deb ...\n",
      "Unpacking autoconf (2.69-11) ...\n",
      "Selecting previously unselected package autotools-dev.\n",
      "Preparing to unpack .../03-autotools-dev_20180224.1_all.deb ...\n",
      "Unpacking autotools-dev (20180224.1) ...\n",
      "Selecting previously unselected package automake.\n",
      "Preparing to unpack .../04-automake_1%3a1.16.1-4_all.deb ...\n",
      "Unpacking automake (1:1.16.1-4) ...\n",
      "Selecting previously unselected package bzip2-doc.\n",
      "Preparing to unpack .../05-bzip2-doc_1.0.6-9.2~deb10u1_all.deb ...\n",
      "Unpacking bzip2-doc (1.0.6-9.2~deb10u1) ...\n",
      "Selecting previously unselected package libbz2-dev:amd64.\n",
      "Preparing to unpack .../06-libbz2-dev_1.0.6-9.2~deb10u1_amd64.deb ...\n",
      "Unpacking libbz2-dev:amd64 (1.0.6-9.2~deb10u1) ...\n",
      "Selecting previously unselected package libltdl-dev:amd64.\n",
      "Preparing to unpack .../07-libltdl-dev_2.4.6-9_amd64.deb ...\n",
      "Unpacking libltdl-dev:amd64 (2.4.6-9) ...\n",
      "Selecting previously unselected package liblzma-dev:amd64.\n",
      "Preparing to unpack .../08-liblzma-dev_5.2.4-1_amd64.deb ...\n",
      "Unpacking liblzma-dev:amd64 (5.2.4-1) ...\n",
      "Selecting previously unselected package libncurses-dev:amd64.\n",
      "Preparing to unpack .../09-libncurses-dev_6.1+20181013-2+deb10u2_amd64.deb ...\n",
      "Unpacking libncurses-dev:amd64 (6.1+20181013-2+deb10u2) ...\n",
      "Selecting previously unselected package libtool.\n",
      "Preparing to unpack .../10-libtool_2.4.6-9_all.deb ...\n",
      "Unpacking libtool (2.4.6-9) ...\n",
      "Selecting previously unselected package libtool-bin.\n",
      "Preparing to unpack .../11-libtool-bin_2.4.6-9_amd64.deb ...\n",
      "Unpacking libtool-bin (2.4.6-9) ...\n",
      "Setting up bzip2-doc (1.0.6-9.2~deb10u1) ...\n",
      "Setting up libncurses-dev:amd64 (6.1+20181013-2+deb10u2) ...\n",
      "Setting up autotools-dev (20180224.1) ...\n",
      "Setting up libsigsegv2:amd64 (2.12-2) ...\n",
      "Setting up liblzma-dev:amd64 (5.2.4-1) ...\n",
      "Setting up libbz2-dev:amd64 (1.0.6-9.2~deb10u1) ...\n",
      "Setting up libtool (2.4.6-9) ...\n",
      "Setting up m4 (1.4.18-2) ...\n",
      "Setting up autoconf (2.69-11) ...\n",
      "Setting up automake (1:1.16.1-4) ...\n",
      "update-alternatives: using /usr/bin/automake-1.16 to provide /usr/bin/automake (automake) in auto mode\n",
      "Setting up libtool-bin (2.4.6-9) ...\n",
      "Setting up libltdl-dev:amd64 (2.4.6-9) ...\n",
      "Processing triggers for libc-bin (2.28-10) ...\n",
      "ldconfig: /usr/local/cuda-11.0/targets/x86_64-linux/lib/libcudnn_cnn_infer.so.8 is not a symbolic link\n",
      "\n",
      "ldconfig: /usr/local/cuda-11.0/targets/x86_64-linux/lib/libcudnn_ops_train.so.8 is not a symbolic link\n",
      "\n",
      "ldconfig: /usr/local/cuda-11.0/targets/x86_64-linux/lib/libcudnn_cnn_train.so.8 is not a symbolic link\n",
      "\n",
      "ldconfig: /usr/local/cuda-11.0/targets/x86_64-linux/lib/libcudnn_adv_train.so.8 is not a symbolic link\n",
      "\n",
      "ldconfig: /usr/local/cuda-11.0/targets/x86_64-linux/lib/libcudnn_adv_infer.so.8 is not a symbolic link\n",
      "\n",
      "ldconfig: /usr/local/cuda-11.0/targets/x86_64-linux/lib/libcudnn.so.8 is not a symbolic link\n",
      "\n",
      "ldconfig: /usr/local/cuda-11.0/targets/x86_64-linux/lib/libcudnn_ops_infer.so.8 is not a symbolic link\n",
      "\n",
      "ldconfig: /lib/libmyelin.so.1 is not a symbolic link\n",
      "\n",
      "ldconfig: /lib/libnvonnxparser.so.7 is not a symbolic link\n",
      "\n",
      "ldconfig: /lib/libnvinfer.so.7 is not a symbolic link\n",
      "\n",
      "ldconfig: /lib/libnvparsers.so.7 is not a symbolic link\n",
      "\n",
      "ldconfig: /lib/libnvinfer_plugin.so.7 is not a symbolic link\n",
      "\n",
      "Processing triggers for man-db (2.8.5-2) ...\n",
      "Processing triggers for install-info (6.5.0.dfsg.1-4+b1) ...\n",
      "configure: WARNING: S3 support not enabled: requires SSL development files\n",
      "configure: WARNING: S3 support not enabled: requires SSL development files\n"
     ]
    }
   ],
   "source": [
    "!sudo apt-get --quiet install -y libbz2-dev liblzma-dev libtool-bin libncurses-dev\n",
    "\n",
    "samtools_version = '1.12'\n",
    "# htslib\n",
    "!wget --quiet https://github.com/samtools/htslib/releases/download/{samtools_version}/htslib-{samtools_version}.tar.bz2 -O {home_dir}/htslib-{samtools_version}.tar.bz2\n",
    "!tar -xf {home_dir}/htslib-{samtools_version}.tar.bz2 -C {home_dir}\n",
    "# !cd {tools_dir}/htslib-{samtools_version}\n",
    "os.chdir(f'{home_dir}/htslib-{samtools_version}')\n",
    "!./configure --quiet --prefix=/usr/local\n",
    "!make --quiet\n",
    "!sudo make --quiet install\n",
    "!rm {home_dir}/htslib-{samtools_version}.tar.bz2\n",
    "# also need bcftools for subsetting vcf\n",
    "!wget --quiet https://github.com/samtools/bcftools/releases/download/{samtools_version}/bcftools-{samtools_version}.tar.bz2 -O {home_dir}/bcftools-{samtools_version}.tar.bz2\n",
    "!tar -xf /{home_dir}/bcftools-{samtools_version}.tar.bz2 -C {home_dir}\n",
    "# !cd {tools_dir}/bcftools-{samtools_version}\n",
    "os.chdir(f'{home_dir}/bcftools-{samtools_version}')\n",
    "!./configure --quiet --prefix=/usr/local\n",
    "!make --quiet {home_dir}/\n",
    "!sudo make --quiet install\n",
    "!rm {home_dir}/bcftools-{samtools_version}.tar.bz2"
   ]
  },
  {
   "cell_type": "markdown",
   "metadata": {},
   "source": [
    "#### add plink1.9"
   ]
  },
  {
   "cell_type": "code",
   "execution_count": 14,
   "metadata": {},
   "outputs": [
    {
     "name": "stdout",
     "output_type": "stream",
     "text": [
      "--2021-08-03 22:46:15--  http://s3.amazonaws.com/plink1-assets/plink_linux_x86_64_20201019.zip\n",
      "Resolving s3.amazonaws.com (s3.amazonaws.com)... 52.217.68.150\n",
      "Connecting to s3.amazonaws.com (s3.amazonaws.com)|52.217.68.150|:80... connected.\n",
      "HTTP request sent, awaiting response... 200 OK\n",
      "Length: 8916695 (8.5M) [application/zip]\n",
      "Saving to: ‘/tmp/plink_linux_x86_64_20201019.zip’\n",
      "\n",
      "/tmp/plink_linux_x8 100%[===================>]   8.50M  31.4MB/s    in 0.3s    \n",
      "\n",
      "2021-08-03 22:46:15 (31.4 MB/s) - ‘/tmp/plink_linux_x86_64_20201019.zip’ saved [8916695/8916695]\n",
      "\n",
      "Archive:  /tmp/plink_linux_x86_64_20201019.zip\n",
      "  inflating: /tmp/plink/plink        \n",
      "  inflating: /tmp/plink/LICENSE      \n",
      "  inflating: /tmp/plink/toy.ped      \n",
      "  inflating: /tmp/plink/toy.map      \n",
      "  inflating: /tmp/plink/prettify     \n"
     ]
    }
   ],
   "source": [
    "!wget http://s3.amazonaws.com/plink1-assets/plink_linux_x86_64_20201019.zip -O /tmp/plink_linux_x86_64_20201019.zip\n",
    "!unzip /tmp/plink_linux_x86_64_20201019.zip -d /tmp/plink\n",
    "!rm -f /tmp/plink_linux_x86_64_20201019.zip\n",
    "!sudo mv /tmp/plink/plink /usr/local/bin/\n",
    "!rm -rf /tmp/plink"
   ]
  },
  {
   "cell_type": "code",
   "execution_count": 15,
   "metadata": {},
   "outputs": [
    {
     "name": "stdout",
     "output_type": "stream",
     "text": [
      "PLINK v1.90b6.21 64-bit (19 Oct 2020)          www.cog-genomics.org/plink/1.9/\n",
      "(C) 2005-2020 Shaun Purcell, Christopher Chang   GNU General Public License v3\n",
      "\n",
      "  plink <input flag(s)...> [command flag(s)...] [other flag(s)...]\n",
      "  plink --help [flag name(s)...]\n",
      "\n",
      "Commands include --make-bed, --recode, --flip-scan, --merge-list,\n",
      "--write-snplist, --list-duplicate-vars, --freqx, --missing, --test-mishap,\n",
      "--hardy, --mendel, --ibc, --impute-sex, --indep-pairphase, --r2, --show-tags,\n",
      "--blocks, --distance, --genome, --homozyg, --make-rel, --make-grm-gz,\n",
      "--rel-cutoff, --cluster, --pca, --neighbour, --ibs-test, --regress-distance,\n",
      "--model, --bd, --gxe, --logistic, --dosage, --lasso, --test-missing,\n",
      "--make-perm-pheno, --tdt, --qfam, --annotate, --clump, --gene-report,\n",
      "--meta-analysis, --epistasis, --fast-epistasis, and --score.\n",
      "\n",
      "\"plink --help | more\" describes all functions (warning: long).\n"
     ]
    }
   ],
   "source": [
    "!plink"
   ]
  },
  {
   "cell_type": "markdown",
   "metadata": {},
   "source": [
    "#### install umap and ppscore"
   ]
  },
  {
   "cell_type": "code",
   "execution_count": 16,
   "metadata": {},
   "outputs": [],
   "source": [
    "!pip install -U --quiet umap-learn ppscore dask[complete] tables plotly-express"
   ]
  },
  {
   "cell_type": "code",
   "execution_count": 17,
   "metadata": {},
   "outputs": [],
   "source": [
    "import umap\n",
    "import ppscore\n",
    "import dask.dataframe as dd"
   ]
  },
  {
   "cell_type": "markdown",
   "metadata": {},
   "source": [
    "#### install tensorQTL\n",
    "there is an older version in pypi, but need a couple of the bug fixes so install from github"
   ]
  },
  {
   "cell_type": "code",
   "execution_count": 18,
   "metadata": {},
   "outputs": [],
   "source": [
    "# required by tensorQTL\n",
    "!pip install --quiet pandas-plink"
   ]
  },
  {
   "cell_type": "code",
   "execution_count": 21,
   "metadata": {},
   "outputs": [
    {
     "name": "stdout",
     "output_type": "stream",
     "text": [
      "The authenticity of host 'github.com (140.82.112.4)' can't be established.\n",
      "RSA key fingerprint is SHA256:nThbg6kXUpJWGl7E1IGOCspRomTxdCARLviKw6E5SY8.\n",
      "Are you sure you want to continue connecting (yes/no)? ^C\n"
     ]
    }
   ],
   "source": [
    "## NOTE: had some permission problems, used jupyterlab to clone the git\n",
    "\n",
    "# !git clone --quiet git@github.com:broadinstitute/tensorqtl.git\n",
    "# os.chdir(f'{nbs_dir}/tensorqtl')\n",
    "# !pip install -r install/requirements.txt"
   ]
  },
  {
   "cell_type": "code",
   "execution_count": 19,
   "metadata": {},
   "outputs": [
    {
     "name": "stdout",
     "output_type": "stream",
     "text": [
      "Warning: 'rfunc' cannot be imported. R and the 'rpy2' Python package are needed.\n"
     ]
    }
   ],
   "source": [
    "import tensorqtl.tensorqtl as tensorqtl"
   ]
  },
  {
   "cell_type": "markdown",
   "metadata": {},
   "source": [
    "#### if want to use Story q-value call with tensorQTL need to add R"
   ]
  },
  {
   "cell_type": "code",
   "execution_count": null,
   "metadata": {},
   "outputs": [],
   "source": [
    "# sudo apt-get --quiet install -y r-base build-essential libcurl4-gnutls-dev \\\n",
    "# libxml2-dev libssl-dev"
   ]
  },
  {
   "cell_type": "code",
   "execution_count": null,
   "metadata": {},
   "outputs": [],
   "source": [
    "#sudo -i R\n",
    "# install.packages(\"devtools\")\n",
    "# library(\"devtools\")\n",
    "# install_github(\"jdstorey/qvalue\")"
   ]
  },
  {
   "cell_type": "markdown",
   "metadata": {},
   "source": [
    "#### install GSEApy or gene set enrichment stuff"
   ]
  },
  {
   "cell_type": "code",
   "execution_count": 7,
   "metadata": {},
   "outputs": [],
   "source": [
    "!pip install -U --quiet gseapy"
   ]
  },
  {
   "cell_type": "code",
   "execution_count": null,
   "metadata": {},
   "outputs": [],
   "source": []
  }
 ],
 "metadata": {
  "environment": {
   "name": "pytorch-gpu.1-9.m75",
   "type": "gcloud",
   "uri": "gcr.io/deeplearning-platform-release/pytorch-gpu.1-9:m75"
  },
  "kernelspec": {
   "display_name": "Python 3",
   "language": "python",
   "name": "python3"
  },
  "language_info": {
   "codemirror_mode": {
    "name": "ipython",
    "version": 3
   },
   "file_extension": ".py",
   "mimetype": "text/x-python",
   "name": "python",
   "nbconvert_exporter": "python",
   "pygments_lexer": "ipython3",
   "version": "3.7.10"
  },
  "widgets": {
   "application/vnd.jupyter.widget-state+json": {
    "state": {},
    "version_major": 2,
    "version_minor": 0
   }
  }
 },
 "nbformat": 4,
 "nbformat_minor": 4
}
