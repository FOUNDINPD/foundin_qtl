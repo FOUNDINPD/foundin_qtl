{
 "cells": [
  {
   "cell_type": "markdown",
   "id": "33c37c80",
   "metadata": {},
   "source": [
    "#### Notebook to compare the significant eQTS singals for cohort by visit"
   ]
  },
  {
   "cell_type": "code",
   "execution_count": 1,
   "id": "deddc124",
   "metadata": {},
   "outputs": [
    {
     "name": "stdout",
     "output_type": "stream",
     "text": [
      "Mon May 10 21:32:50 UTC 2021\n"
     ]
    }
   ],
   "source": [
    "!date"
   ]
  },
  {
   "cell_type": "code",
   "execution_count": 2,
   "id": "4de86446",
   "metadata": {},
   "outputs": [],
   "source": [
    "import pandas as pd\n",
    "import numpy as np\n",
    "import seaborn as sns\n",
    "import matplotlib.pyplot as plt\n",
    "import concurrent.futures"
   ]
  },
  {
   "cell_type": "code",
   "execution_count": 3,
   "id": "cf6b0ace",
   "metadata": {
    "tags": [
     "parameters"
    ]
   },
   "outputs": [],
   "source": [
    "# parameters\n",
    "# cohort = 'ppmi'\n",
    "# months = [0, 6, 12, 24, 36]\n",
    "cohort = 'pdbp'\n",
    "months = [0, 6, 12, 18, 24]\n",
    "tissue = 'wb'"
   ]
  },
  {
   "cell_type": "code",
   "execution_count": 4,
   "id": "5e33df9d",
   "metadata": {},
   "outputs": [],
   "source": [
    "# naming\n",
    "\n",
    "# directories\n",
    "home_dir = '/home/jupyter'\n",
    "wrk_dir = f'{home_dir}/{cohort}'\n",
    "eqts_dir = f'{wrk_dir}/eqts'\n",
    "\n",
    "# input files\n",
    "\n",
    "# out files\n",
    "results_file = f'{eqts_dir}/{cohort}.{tissue}.eqts.csv'\n",
    "\n",
    "# constants\n",
    "autosomes = [str(x) for x in list(range(1,23))]\n",
    "capture_out = !(nproc)\n",
    "max_threads = int(capture_out[0])"
   ]
  },
  {
   "cell_type": "markdown",
   "id": "12065506",
   "metadata": {},
   "source": [
    "#### load the results"
   ]
  },
  {
   "cell_type": "code",
   "execution_count": 5,
   "id": "2b92312e",
   "metadata": {},
   "outputs": [
    {
     "name": "stdout",
     "output_type": "stream",
     "text": [
      "month 0 shape is (16235, 7) for 16235 genes\n",
      "after month 0 total shape (16235, 8)\n",
      "month 6 shape is (16766, 7) for 16766 genes\n",
      "after month 6 total shape (33001, 8)\n",
      "month 12 shape is (16386, 7) for 16386 genes\n",
      "after month 12 total shape (49387, 8)\n",
      "month 24 shape is (16274, 7) for 16274 genes\n",
      "after month 24 total shape (65661, 8)\n",
      "month 36 shape is (15707, 7) for 15707 genes\n",
      "after month 36 total shape (81368, 8)\n"
     ]
    }
   ],
   "source": [
    "eqts_df = None\n",
    "for month in months:\n",
    "    cohort_build = f'{cohort}.{tissue}{month}'\n",
    "    eqts_file = f'{eqts_dir}/{cohort_build}.eqts.csv'\n",
    "    this_df = pd.read_csv(eqts_file)\n",
    "    gene_cnt = len(this_df['Name'].unique())\n",
    "    print(f'month {month} shape is {this_df.shape} for {gene_cnt} genes')\n",
    "    this_df['month'] = month\n",
    "    eqts_df = pd.concat([eqts_df, this_df])\n",
    "    print(f'after month {month} total shape {eqts_df.shape}')"
   ]
  },
  {
   "cell_type": "code",
   "execution_count": 6,
   "id": "a89e8780",
   "metadata": {},
   "outputs": [
    {
     "name": "stdout",
     "output_type": "stream",
     "text": [
      "(81368, 8)\n"
     ]
    },
    {
     "data": {
      "text/html": [
       "<div>\n",
       "<style scoped>\n",
       "    .dataframe tbody tr th:only-of-type {\n",
       "        vertical-align: middle;\n",
       "    }\n",
       "\n",
       "    .dataframe tbody tr th {\n",
       "        vertical-align: top;\n",
       "    }\n",
       "\n",
       "    .dataframe thead th {\n",
       "        text-align: right;\n",
       "    }\n",
       "</style>\n",
       "<table border=\"1\" class=\"dataframe\">\n",
       "  <thead>\n",
       "    <tr style=\"text-align: right;\">\n",
       "      <th></th>\n",
       "      <th>Name</th>\n",
       "      <th>coef</th>\n",
       "      <th>stderr</th>\n",
       "      <th>r2_adj</th>\n",
       "      <th>term_cnt</th>\n",
       "      <th>p-value</th>\n",
       "      <th>bh_fdr</th>\n",
       "      <th>month</th>\n",
       "    </tr>\n",
       "  </thead>\n",
       "  <tbody>\n",
       "    <tr>\n",
       "      <th>8426</th>\n",
       "      <td>ENSG00000116922.14</td>\n",
       "      <td>0.409776</td>\n",
       "      <td>0.243466</td>\n",
       "      <td>0.080827</td>\n",
       "      <td>7.0</td>\n",
       "      <td>0.092776</td>\n",
       "      <td>0.257317</td>\n",
       "      <td>6</td>\n",
       "    </tr>\n",
       "    <tr>\n",
       "      <th>14731</th>\n",
       "      <td>ENSG00000107438.8</td>\n",
       "      <td>0.765187</td>\n",
       "      <td>0.182569</td>\n",
       "      <td>0.085644</td>\n",
       "      <td>7.0</td>\n",
       "      <td>0.000030</td>\n",
       "      <td>0.000383</td>\n",
       "      <td>0</td>\n",
       "    </tr>\n",
       "    <tr>\n",
       "      <th>14059</th>\n",
       "      <td>ENSG00000266712.3</td>\n",
       "      <td>-0.321905</td>\n",
       "      <td>0.311251</td>\n",
       "      <td>0.001216</td>\n",
       "      <td>7.0</td>\n",
       "      <td>0.301402</td>\n",
       "      <td>0.585608</td>\n",
       "      <td>24</td>\n",
       "    </tr>\n",
       "    <tr>\n",
       "      <th>1208</th>\n",
       "      <td>ENSG00000198995.3</td>\n",
       "      <td>0.429811</td>\n",
       "      <td>0.271622</td>\n",
       "      <td>0.053768</td>\n",
       "      <td>7.0</td>\n",
       "      <td>0.113982</td>\n",
       "      <td>0.269705</td>\n",
       "      <td>12</td>\n",
       "    </tr>\n",
       "    <tr>\n",
       "      <th>1926</th>\n",
       "      <td>ENSG00000254231.2</td>\n",
       "      <td>0.390948</td>\n",
       "      <td>0.291604</td>\n",
       "      <td>0.102977</td>\n",
       "      <td>7.0</td>\n",
       "      <td>0.180478</td>\n",
       "      <td>0.450268</td>\n",
       "      <td>24</td>\n",
       "    </tr>\n",
       "  </tbody>\n",
       "</table>\n",
       "</div>"
      ],
      "text/plain": [
       "                     Name      coef    stderr    r2_adj  term_cnt   p-value  \\\n",
       "8426   ENSG00000116922.14  0.409776  0.243466  0.080827       7.0  0.092776   \n",
       "14731   ENSG00000107438.8  0.765187  0.182569  0.085644       7.0  0.000030   \n",
       "14059   ENSG00000266712.3 -0.321905  0.311251  0.001216       7.0  0.301402   \n",
       "1208    ENSG00000198995.3  0.429811  0.271622  0.053768       7.0  0.113982   \n",
       "1926    ENSG00000254231.2  0.390948  0.291604  0.102977       7.0  0.180478   \n",
       "\n",
       "         bh_fdr  month  \n",
       "8426   0.257317      6  \n",
       "14731  0.000383      0  \n",
       "14059  0.585608     24  \n",
       "1208   0.269705     12  \n",
       "1926   0.450268     24  "
      ]
     },
     "metadata": {},
     "output_type": "display_data"
    }
   ],
   "source": [
    "print(eqts_df.shape)\n",
    "display(eqts_df.sample(5))"
   ]
  },
  {
   "cell_type": "code",
   "execution_count": 7,
   "id": "47c5ab58",
   "metadata": {},
   "outputs": [
    {
     "data": {
      "text/plain": [
       "5    15680\n",
       "4      461\n",
       "1      355\n",
       "3      171\n",
       "2      128\n",
       "Name: Name, dtype: int64"
      ]
     },
     "execution_count": 7,
     "metadata": {},
     "output_type": "execute_result"
    }
   ],
   "source": [
    "eqts_df['Name'].value_counts().value_counts()"
   ]
  },
  {
   "cell_type": "markdown",
   "id": "56a65475",
   "metadata": {},
   "source": [
    "#### subset to significant based on FDR"
   ]
  },
  {
   "cell_type": "code",
   "execution_count": 8,
   "id": "b8e7a08e",
   "metadata": {},
   "outputs": [
    {
     "name": "stdout",
     "output_type": "stream",
     "text": [
      "(11062, 8)\n"
     ]
    },
    {
     "data": {
      "text/html": [
       "<div>\n",
       "<style scoped>\n",
       "    .dataframe tbody tr th:only-of-type {\n",
       "        vertical-align: middle;\n",
       "    }\n",
       "\n",
       "    .dataframe tbody tr th {\n",
       "        vertical-align: top;\n",
       "    }\n",
       "\n",
       "    .dataframe thead th {\n",
       "        text-align: right;\n",
       "    }\n",
       "</style>\n",
       "<table border=\"1\" class=\"dataframe\">\n",
       "  <thead>\n",
       "    <tr style=\"text-align: right;\">\n",
       "      <th></th>\n",
       "      <th>Name</th>\n",
       "      <th>coef</th>\n",
       "      <th>stderr</th>\n",
       "      <th>r2_adj</th>\n",
       "      <th>term_cnt</th>\n",
       "      <th>p-value</th>\n",
       "      <th>bh_fdr</th>\n",
       "      <th>month</th>\n",
       "    </tr>\n",
       "  </thead>\n",
       "  <tbody>\n",
       "    <tr>\n",
       "      <th>253</th>\n",
       "      <td>ENSG00000138668.18</td>\n",
       "      <td>1.116282</td>\n",
       "      <td>0.278371</td>\n",
       "      <td>0.020456</td>\n",
       "      <td>7.0</td>\n",
       "      <td>6.676491e-05</td>\n",
       "      <td>0.001779</td>\n",
       "      <td>12</td>\n",
       "    </tr>\n",
       "    <tr>\n",
       "      <th>7866</th>\n",
       "      <td>ENSG00000225101.6</td>\n",
       "      <td>0.551378</td>\n",
       "      <td>0.161391</td>\n",
       "      <td>0.258961</td>\n",
       "      <td>7.0</td>\n",
       "      <td>6.560429e-04</td>\n",
       "      <td>0.004557</td>\n",
       "      <td>0</td>\n",
       "    </tr>\n",
       "    <tr>\n",
       "      <th>10338</th>\n",
       "      <td>ENSG00000164897.12</td>\n",
       "      <td>-1.243751</td>\n",
       "      <td>0.249367</td>\n",
       "      <td>0.042443</td>\n",
       "      <td>7.0</td>\n",
       "      <td>7.613772e-07</td>\n",
       "      <td>0.000074</td>\n",
       "      <td>6</td>\n",
       "    </tr>\n",
       "    <tr>\n",
       "      <th>13349</th>\n",
       "      <td>ENSG00000279529.1</td>\n",
       "      <td>-1.102299</td>\n",
       "      <td>0.248901</td>\n",
       "      <td>0.061669</td>\n",
       "      <td>7.0</td>\n",
       "      <td>1.090481e-05</td>\n",
       "      <td>0.000451</td>\n",
       "      <td>6</td>\n",
       "    </tr>\n",
       "    <tr>\n",
       "      <th>10084</th>\n",
       "      <td>ENSG00000145740.18</td>\n",
       "      <td>0.547633</td>\n",
       "      <td>0.190043</td>\n",
       "      <td>0.019319</td>\n",
       "      <td>7.0</td>\n",
       "      <td>4.027638e-03</td>\n",
       "      <td>0.018677</td>\n",
       "      <td>0</td>\n",
       "    </tr>\n",
       "  </tbody>\n",
       "</table>\n",
       "</div>"
      ],
      "text/plain": [
       "                     Name      coef    stderr    r2_adj  term_cnt  \\\n",
       "253    ENSG00000138668.18  1.116282  0.278371  0.020456       7.0   \n",
       "7866    ENSG00000225101.6  0.551378  0.161391  0.258961       7.0   \n",
       "10338  ENSG00000164897.12 -1.243751  0.249367  0.042443       7.0   \n",
       "13349   ENSG00000279529.1 -1.102299  0.248901  0.061669       7.0   \n",
       "10084  ENSG00000145740.18  0.547633  0.190043  0.019319       7.0   \n",
       "\n",
       "            p-value    bh_fdr  month  \n",
       "253    6.676491e-05  0.001779     12  \n",
       "7866   6.560429e-04  0.004557      0  \n",
       "10338  7.613772e-07  0.000074      6  \n",
       "13349  1.090481e-05  0.000451      6  \n",
       "10084  4.027638e-03  0.018677      0  "
      ]
     },
     "metadata": {},
     "output_type": "display_data"
    }
   ],
   "source": [
    "sig_df = eqts_df.loc[eqts_df['bh_fdr'] < 0.05]\n",
    "print(sig_df.shape)\n",
    "display(sig_df.sample(5))"
   ]
  },
  {
   "cell_type": "code",
   "execution_count": 9,
   "id": "16b15be4",
   "metadata": {},
   "outputs": [
    {
     "data": {
      "text/plain": [
       "0     4678\n",
       "12    2819\n",
       "6     2732\n",
       "24     833\n",
       "Name: month, dtype: int64"
      ]
     },
     "execution_count": 9,
     "metadata": {},
     "output_type": "execute_result"
    }
   ],
   "source": [
    "sig_df['month'].value_counts()"
   ]
  },
  {
   "cell_type": "code",
   "execution_count": 10,
   "id": "501cc0f3",
   "metadata": {},
   "outputs": [
    {
     "data": {
      "text/plain": [
       "1    4058\n",
       "2    2095\n",
       "3     774\n",
       "4     123\n",
       "Name: Name, dtype: int64"
      ]
     },
     "execution_count": 10,
     "metadata": {},
     "output_type": "execute_result"
    }
   ],
   "source": [
    "sig_df['Name'].value_counts().value_counts()"
   ]
  },
  {
   "cell_type": "code",
   "execution_count": 11,
   "id": "3eee0bf6",
   "metadata": {},
   "outputs": [
    {
     "data": {
      "text/plain": [
       "ENSG00000167685.14    4\n",
       "ENSG00000207181.1     4\n",
       "ENSG00000276890.1     4\n",
       "ENSG00000161618.9     4\n",
       "ENSG00000276645.1     4\n",
       "Name: Name, dtype: int64"
      ]
     },
     "execution_count": 11,
     "metadata": {},
     "output_type": "execute_result"
    }
   ],
   "source": [
    "sig_df['Name'].value_counts().head()"
   ]
  },
  {
   "cell_type": "code",
   "execution_count": 12,
   "id": "a3a2d33f",
   "metadata": {},
   "outputs": [
    {
     "data": {
      "text/plain": [
       "0     4678\n",
       "12    2819\n",
       "6     2732\n",
       "24     833\n",
       "Name: month, dtype: int64"
      ]
     },
     "execution_count": 12,
     "metadata": {},
     "output_type": "execute_result"
    }
   ],
   "source": [
    "sig_df['month'].value_counts()"
   ]
  },
  {
   "cell_type": "markdown",
   "id": "dd695c28",
   "metadata": {},
   "source": [
    "#### save the combined significant eQTS results"
   ]
  },
  {
   "cell_type": "code",
   "execution_count": 13,
   "id": "563e9ab1",
   "metadata": {},
   "outputs": [],
   "source": [
    "sig_df.to_csv(results_file, index=False)"
   ]
  },
  {
   "cell_type": "code",
   "execution_count": null,
   "id": "f274ab48",
   "metadata": {},
   "outputs": [],
   "source": []
  }
 ],
 "metadata": {
  "environment": {
   "name": "pytorch-gpu.1-8.m65",
   "type": "gcloud",
   "uri": "gcr.io/deeplearning-platform-release/pytorch-gpu.1-8:m65"
  },
  "kernelspec": {
   "display_name": "Python 3",
   "language": "python",
   "name": "python3"
  },
  "language_info": {
   "codemirror_mode": {
    "name": "ipython",
    "version": 3
   },
   "file_extension": ".py",
   "mimetype": "text/x-python",
   "name": "python",
   "nbconvert_exporter": "python",
   "pygments_lexer": "ipython3",
   "version": "3.7.10"
  },
  "widgets": {
   "application/vnd.jupyter.widget-state+json": {
    "state": {},
    "version_major": 2,
    "version_minor": 0
   }
  }
 },
 "nbformat": 4,
 "nbformat_minor": 5
}
