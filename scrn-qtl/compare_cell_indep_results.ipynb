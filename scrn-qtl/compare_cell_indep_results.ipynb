{
 "cells": [
  {
   "cell_type": "markdown",
   "id": "b514e5f9",
   "metadata": {},
   "source": [
    "#### Notebook to compare the significant top singals by cell-type\n",
    "\n",
    "note I'm only looking at iDA, DA, and lNP, not all the types quantified\n",
    "\n",
    "- 'Immature Dopaminergic Neurons': 'iDA', \n",
    "- 'Dopaminergic Neurons': 'DA', \n",
    "- 'Proliferating Floor Plate Progenitors': 'PFPP', \n",
    "- 'Early neuron Progenitor': 'eNP', \n",
    "- 'Ependymal-like Cells': 'ElC', \n",
    "- 'Late neuron Progenitor': 'lNP', \n",
    "- 'Neuroepithelial-like Cells': 'NlC'"
   ]
  },
  {
   "cell_type": "code",
   "execution_count": 1,
   "id": "8379ecfd",
   "metadata": {},
   "outputs": [
    {
     "name": "stdout",
     "output_type": "stream",
     "text": [
      "Thu Aug  5 22:15:21 UTC 2021\n"
     ]
    }
   ],
   "source": [
    "!date"
   ]
  },
  {
   "cell_type": "markdown",
   "id": "97639419",
   "metadata": {},
   "source": [
    "#### import libraries and set notebook variables"
   ]
  },
  {
   "cell_type": "code",
   "execution_count": 2,
   "id": "f73ba7ec",
   "metadata": {},
   "outputs": [],
   "source": [
    "import pandas as pd\n",
    "import numpy as np\n",
    "import seaborn as sns\n",
    "import matplotlib.pyplot as plt\n",
    "import concurrent.futures\n",
    "import os"
   ]
  },
  {
   "cell_type": "code",
   "execution_count": 28,
   "id": "f17971ca",
   "metadata": {},
   "outputs": [],
   "source": [
    "# parameters\n",
    "cohort = 'foundin'\n",
    "day = 'da65'\n",
    "\n",
    "# naming\n",
    "# cohort_build = f'{cohort}.{day}'\n",
    "\n",
    "# directories\n",
    "wrk_dir = f'/home/jupyter/sceqtl'\n",
    "tensorqtl_dir = f'{wrk_dir}/tensorqtl'\n",
    "results_dir = f'{wrk_dir}/results'\n",
    "\n",
    "# input files\n",
    "\n",
    "# out files\n",
    "top_results_file = f'{results_dir}/{cohort}.{day}.cis.csv'\n",
    "\n",
    "# constants\n",
    "alpha_value = 0.05\n",
    "cell_types = ['iDA', 'DA', 'lNP']\n",
    "autosomes = [str(x) for x in list(range(1,23))]\n",
    "cpu_count = len(os.sched_getaffinity(0))"
   ]
  },
  {
   "cell_type": "markdown",
   "id": "5ad5ca17",
   "metadata": {},
   "source": [
    "#### load the results"
   ]
  },
  {
   "cell_type": "code",
   "execution_count": 4,
   "id": "c5f9fde1",
   "metadata": {},
   "outputs": [
    {
     "name": "stdout",
     "output_type": "stream",
     "text": [
      "iDA shape is (10115, 17) for 10115 features\n",
      "after iDA total shape (10115, 18)\n",
      "DA shape is (10589, 17) for 10589 features\n",
      "after DA total shape (20704, 18)\n",
      "lNP shape is (9864, 17) for 9864 features\n",
      "after lNP total shape (30568, 18)\n"
     ]
    }
   ],
   "source": [
    "# load the full map results\n",
    "tops_df = None\n",
    "for cell_type in cell_types:\n",
    "    cohort_build = f'{cohort}.{day}.{cell_type}'\n",
    "    cis_map_file = f'{tensorqtl_dir}/{cohort_build}.cis.map.csv'\n",
    "    cell_df = pd.read_csv(cis_map_file)\n",
    "    feature_cnt = len(cell_df['phenotype_id'].unique())\n",
    "    print(f'{cell_type} shape is {cell_df.shape} for {feature_cnt} features')\n",
    "    cell_df['cell_type'] = cell_type\n",
    "    tops_df = pd.concat([tops_df, cell_df])\n",
    "    print(f'after {cell_type} total shape {tops_df.shape}')"
   ]
  },
  {
   "cell_type": "code",
   "execution_count": 5,
   "id": "b9c00f85",
   "metadata": {},
   "outputs": [
    {
     "name": "stdout",
     "output_type": "stream",
     "text": [
      "(30568, 18)\n"
     ]
    },
    {
     "data": {
      "text/html": [
       "<div>\n",
       "<style scoped>\n",
       "    .dataframe tbody tr th:only-of-type {\n",
       "        vertical-align: middle;\n",
       "    }\n",
       "\n",
       "    .dataframe tbody tr th {\n",
       "        vertical-align: top;\n",
       "    }\n",
       "\n",
       "    .dataframe thead th {\n",
       "        text-align: right;\n",
       "    }\n",
       "</style>\n",
       "<table border=\"1\" class=\"dataframe\">\n",
       "  <thead>\n",
       "    <tr style=\"text-align: right;\">\n",
       "      <th></th>\n",
       "      <th>phenotype_id</th>\n",
       "      <th>num_var</th>\n",
       "      <th>beta_shape1</th>\n",
       "      <th>beta_shape2</th>\n",
       "      <th>true_df</th>\n",
       "      <th>pval_true_df</th>\n",
       "      <th>variant_id</th>\n",
       "      <th>tss_distance</th>\n",
       "      <th>ma_samples</th>\n",
       "      <th>ma_count</th>\n",
       "      <th>af</th>\n",
       "      <th>pval_nominal</th>\n",
       "      <th>slope</th>\n",
       "      <th>slope_se</th>\n",
       "      <th>pval_perm</th>\n",
       "      <th>pval_beta</th>\n",
       "      <th>bh_fdr</th>\n",
       "      <th>cell_type</th>\n",
       "    </tr>\n",
       "  </thead>\n",
       "  <tbody>\n",
       "    <tr>\n",
       "      <th>1481</th>\n",
       "      <td>C1orf131</td>\n",
       "      <td>6870</td>\n",
       "      <td>2.009355</td>\n",
       "      <td>622.06790</td>\n",
       "      <td>37.586494</td>\n",
       "      <td>0.005757</td>\n",
       "      <td>rs115684722</td>\n",
       "      <td>999230</td>\n",
       "      <td>3</td>\n",
       "      <td>4</td>\n",
       "      <td>0.025316</td>\n",
       "      <td>0.000073</td>\n",
       "      <td>-0.195321</td>\n",
       "      <td>0.046599</td>\n",
       "      <td>0.913109</td>\n",
       "      <td>0.872469</td>\n",
       "      <td>0.999521</td>\n",
       "      <td>DA</td>\n",
       "    </tr>\n",
       "    <tr>\n",
       "      <th>8655</th>\n",
       "      <td>TCN2</td>\n",
       "      <td>5414</td>\n",
       "      <td>1.685425</td>\n",
       "      <td>181.06718</td>\n",
       "      <td>32.789505</td>\n",
       "      <td>0.006652</td>\n",
       "      <td>rs118035996</td>\n",
       "      <td>-765666</td>\n",
       "      <td>3</td>\n",
       "      <td>4</td>\n",
       "      <td>0.025316</td>\n",
       "      <td>0.000030</td>\n",
       "      <td>-0.200264</td>\n",
       "      <td>0.045100</td>\n",
       "      <td>0.653035</td>\n",
       "      <td>0.443684</td>\n",
       "      <td>0.722205</td>\n",
       "      <td>DA</td>\n",
       "    </tr>\n",
       "    <tr>\n",
       "      <th>8228</th>\n",
       "      <td>LRPAP1</td>\n",
       "      <td>8230</td>\n",
       "      <td>1.502529</td>\n",
       "      <td>455.36517</td>\n",
       "      <td>36.948980</td>\n",
       "      <td>0.001598</td>\n",
       "      <td>rs529121691</td>\n",
       "      <td>328226</td>\n",
       "      <td>2</td>\n",
       "      <td>2</td>\n",
       "      <td>0.012658</td>\n",
       "      <td>0.000005</td>\n",
       "      <td>-0.383737</td>\n",
       "      <td>0.078018</td>\n",
       "      <td>0.574543</td>\n",
       "      <td>0.306863</td>\n",
       "      <td>0.685488</td>\n",
       "      <td>DA</td>\n",
       "    </tr>\n",
       "    <tr>\n",
       "      <th>4272</th>\n",
       "      <td>DALRD3</td>\n",
       "      <td>2888</td>\n",
       "      <td>0.969961</td>\n",
       "      <td>35.84530</td>\n",
       "      <td>32.091830</td>\n",
       "      <td>0.034371</td>\n",
       "      <td>rs34261514</td>\n",
       "      <td>686215</td>\n",
       "      <td>33</td>\n",
       "      <td>37</td>\n",
       "      <td>0.234177</td>\n",
       "      <td>0.000995</td>\n",
       "      <td>-0.083785</td>\n",
       "      <td>0.024477</td>\n",
       "      <td>0.714329</td>\n",
       "      <td>0.725641</td>\n",
       "      <td>0.918128</td>\n",
       "      <td>DA</td>\n",
       "    </tr>\n",
       "    <tr>\n",
       "      <th>9334</th>\n",
       "      <td>ZNF33B</td>\n",
       "      <td>6019</td>\n",
       "      <td>1.188793</td>\n",
       "      <td>76.11676</td>\n",
       "      <td>26.336746</td>\n",
       "      <td>0.027034</td>\n",
       "      <td>rs76853762</td>\n",
       "      <td>-805035</td>\n",
       "      <td>2</td>\n",
       "      <td>2</td>\n",
       "      <td>0.012658</td>\n",
       "      <td>0.000142</td>\n",
       "      <td>-0.288537</td>\n",
       "      <td>0.072066</td>\n",
       "      <td>0.808719</td>\n",
       "      <td>0.834737</td>\n",
       "      <td>0.982880</td>\n",
       "      <td>iDA</td>\n",
       "    </tr>\n",
       "  </tbody>\n",
       "</table>\n",
       "</div>"
      ],
      "text/plain": [
       "     phenotype_id  num_var  beta_shape1  beta_shape2    true_df  pval_true_df  \\\n",
       "1481     C1orf131     6870     2.009355    622.06790  37.586494      0.005757   \n",
       "8655         TCN2     5414     1.685425    181.06718  32.789505      0.006652   \n",
       "8228       LRPAP1     8230     1.502529    455.36517  36.948980      0.001598   \n",
       "4272       DALRD3     2888     0.969961     35.84530  32.091830      0.034371   \n",
       "9334       ZNF33B     6019     1.188793     76.11676  26.336746      0.027034   \n",
       "\n",
       "       variant_id  tss_distance  ma_samples  ma_count        af  pval_nominal  \\\n",
       "1481  rs115684722        999230           3         4  0.025316      0.000073   \n",
       "8655  rs118035996       -765666           3         4  0.025316      0.000030   \n",
       "8228  rs529121691        328226           2         2  0.012658      0.000005   \n",
       "4272   rs34261514        686215          33        37  0.234177      0.000995   \n",
       "9334   rs76853762       -805035           2         2  0.012658      0.000142   \n",
       "\n",
       "         slope  slope_se  pval_perm  pval_beta    bh_fdr cell_type  \n",
       "1481 -0.195321  0.046599   0.913109   0.872469  0.999521        DA  \n",
       "8655 -0.200264  0.045100   0.653035   0.443684  0.722205        DA  \n",
       "8228 -0.383737  0.078018   0.574543   0.306863  0.685488        DA  \n",
       "4272 -0.083785  0.024477   0.714329   0.725641  0.918128        DA  \n",
       "9334 -0.288537  0.072066   0.808719   0.834737  0.982880       iDA  "
      ]
     },
     "metadata": {},
     "output_type": "display_data"
    }
   ],
   "source": [
    "print(tops_df.shape)\n",
    "display(tops_df.sample(5))"
   ]
  },
  {
   "cell_type": "code",
   "execution_count": 9,
   "id": "b4ce69a9",
   "metadata": {},
   "outputs": [
    {
     "data": {
      "text/plain": [
       "DA     10589\n",
       "iDA    10115\n",
       "lNP     9864\n",
       "Name: cell_type, dtype: int64"
      ]
     },
     "execution_count": 9,
     "metadata": {},
     "output_type": "execute_result"
    }
   ],
   "source": [
    "tops_df['cell_type'].value_counts()"
   ]
  },
  {
   "cell_type": "markdown",
   "id": "671f8f85",
   "metadata": {},
   "source": [
    "#### make a key for the variant/pheno pair"
   ]
  },
  {
   "cell_type": "code",
   "execution_count": 10,
   "id": "2e0fe8c9",
   "metadata": {},
   "outputs": [
    {
     "name": "stdout",
     "output_type": "stream",
     "text": [
      "(30568, 19)\n"
     ]
    },
    {
     "data": {
      "text/html": [
       "<div>\n",
       "<style scoped>\n",
       "    .dataframe tbody tr th:only-of-type {\n",
       "        vertical-align: middle;\n",
       "    }\n",
       "\n",
       "    .dataframe tbody tr th {\n",
       "        vertical-align: top;\n",
       "    }\n",
       "\n",
       "    .dataframe thead th {\n",
       "        text-align: right;\n",
       "    }\n",
       "</style>\n",
       "<table border=\"1\" class=\"dataframe\">\n",
       "  <thead>\n",
       "    <tr style=\"text-align: right;\">\n",
       "      <th></th>\n",
       "      <th>phenotype_id</th>\n",
       "      <th>num_var</th>\n",
       "      <th>beta_shape1</th>\n",
       "      <th>beta_shape2</th>\n",
       "      <th>true_df</th>\n",
       "      <th>pval_true_df</th>\n",
       "      <th>variant_id</th>\n",
       "      <th>tss_distance</th>\n",
       "      <th>ma_samples</th>\n",
       "      <th>ma_count</th>\n",
       "      <th>af</th>\n",
       "      <th>pval_nominal</th>\n",
       "      <th>slope</th>\n",
       "      <th>slope_se</th>\n",
       "      <th>pval_perm</th>\n",
       "      <th>pval_beta</th>\n",
       "      <th>bh_fdr</th>\n",
       "      <th>cell_type</th>\n",
       "      <th>cispair</th>\n",
       "    </tr>\n",
       "  </thead>\n",
       "  <tbody>\n",
       "    <tr>\n",
       "      <th>2518</th>\n",
       "      <td>ATAD3A</td>\n",
       "      <td>4933</td>\n",
       "      <td>1.314788</td>\n",
       "      <td>219.72278</td>\n",
       "      <td>30.858570</td>\n",
       "      <td>0.001779</td>\n",
       "      <td>rs577198193</td>\n",
       "      <td>-676137</td>\n",
       "      <td>1</td>\n",
       "      <td>1</td>\n",
       "      <td>0.006329</td>\n",
       "      <td>7.068970e-07</td>\n",
       "      <td>0.553632</td>\n",
       "      <td>0.102466</td>\n",
       "      <td>0.452155</td>\n",
       "      <td>0.199356</td>\n",
       "      <td>0.676900</td>\n",
       "      <td>lNP</td>\n",
       "      <td>ATAD3A:rs577198193</td>\n",
       "    </tr>\n",
       "    <tr>\n",
       "      <th>6275</th>\n",
       "      <td>TMEM176B</td>\n",
       "      <td>6317</td>\n",
       "      <td>2.023314</td>\n",
       "      <td>810.34110</td>\n",
       "      <td>40.707745</td>\n",
       "      <td>0.001529</td>\n",
       "      <td>rs10230657</td>\n",
       "      <td>-2237</td>\n",
       "      <td>54</td>\n",
       "      <td>73</td>\n",
       "      <td>0.462025</td>\n",
       "      <td>1.237792e-05</td>\n",
       "      <td>0.077492</td>\n",
       "      <td>0.016582</td>\n",
       "      <td>0.579242</td>\n",
       "      <td>0.345155</td>\n",
       "      <td>0.685488</td>\n",
       "      <td>DA</td>\n",
       "      <td>TMEM176B:rs10230657</td>\n",
       "    </tr>\n",
       "    <tr>\n",
       "      <th>7464</th>\n",
       "      <td>IARS</td>\n",
       "      <td>6912</td>\n",
       "      <td>1.679468</td>\n",
       "      <td>210.49695</td>\n",
       "      <td>29.024450</td>\n",
       "      <td>0.013803</td>\n",
       "      <td>rs975863240</td>\n",
       "      <td>-655531</td>\n",
       "      <td>2</td>\n",
       "      <td>3</td>\n",
       "      <td>0.018987</td>\n",
       "      <td>5.534779e-05</td>\n",
       "      <td>-0.197548</td>\n",
       "      <td>0.046271</td>\n",
       "      <td>0.838016</td>\n",
       "      <td>0.851417</td>\n",
       "      <td>0.988499</td>\n",
       "      <td>DA</td>\n",
       "      <td>IARS:rs975863240</td>\n",
       "    </tr>\n",
       "    <tr>\n",
       "      <th>4751</th>\n",
       "      <td>COX14</td>\n",
       "      <td>4425</td>\n",
       "      <td>1.503020</td>\n",
       "      <td>136.82457</td>\n",
       "      <td>34.667920</td>\n",
       "      <td>0.034014</td>\n",
       "      <td>rs706790</td>\n",
       "      <td>-41292</td>\n",
       "      <td>53</td>\n",
       "      <td>71</td>\n",
       "      <td>0.449367</td>\n",
       "      <td>1.515154e-03</td>\n",
       "      <td>-0.059208</td>\n",
       "      <td>0.017999</td>\n",
       "      <td>0.951805</td>\n",
       "      <td>0.976410</td>\n",
       "      <td>1.000000</td>\n",
       "      <td>iDA</td>\n",
       "      <td>COX14:rs706790</td>\n",
       "    </tr>\n",
       "    <tr>\n",
       "      <th>6416</th>\n",
       "      <td>PC</td>\n",
       "      <td>3848</td>\n",
       "      <td>1.044784</td>\n",
       "      <td>345.76764</td>\n",
       "      <td>72.716090</td>\n",
       "      <td>0.001551</td>\n",
       "      <td>rs72936674</td>\n",
       "      <td>-728390</td>\n",
       "      <td>10</td>\n",
       "      <td>10</td>\n",
       "      <td>0.063291</td>\n",
       "      <td>1.123884e-03</td>\n",
       "      <td>0.210392</td>\n",
       "      <td>0.062160</td>\n",
       "      <td>0.399360</td>\n",
       "      <td>0.393670</td>\n",
       "      <td>0.692416</td>\n",
       "      <td>lNP</td>\n",
       "      <td>PC:rs72936674</td>\n",
       "    </tr>\n",
       "  </tbody>\n",
       "</table>\n",
       "</div>"
      ],
      "text/plain": [
       "     phenotype_id  num_var  beta_shape1  beta_shape2    true_df  pval_true_df  \\\n",
       "2518       ATAD3A     4933     1.314788    219.72278  30.858570      0.001779   \n",
       "6275     TMEM176B     6317     2.023314    810.34110  40.707745      0.001529   \n",
       "7464         IARS     6912     1.679468    210.49695  29.024450      0.013803   \n",
       "4751        COX14     4425     1.503020    136.82457  34.667920      0.034014   \n",
       "6416           PC     3848     1.044784    345.76764  72.716090      0.001551   \n",
       "\n",
       "       variant_id  tss_distance  ma_samples  ma_count        af  pval_nominal  \\\n",
       "2518  rs577198193       -676137           1         1  0.006329  7.068970e-07   \n",
       "6275   rs10230657         -2237          54        73  0.462025  1.237792e-05   \n",
       "7464  rs975863240       -655531           2         3  0.018987  5.534779e-05   \n",
       "4751     rs706790        -41292          53        71  0.449367  1.515154e-03   \n",
       "6416   rs72936674       -728390          10        10  0.063291  1.123884e-03   \n",
       "\n",
       "         slope  slope_se  pval_perm  pval_beta    bh_fdr cell_type  \\\n",
       "2518  0.553632  0.102466   0.452155   0.199356  0.676900       lNP   \n",
       "6275  0.077492  0.016582   0.579242   0.345155  0.685488        DA   \n",
       "7464 -0.197548  0.046271   0.838016   0.851417  0.988499        DA   \n",
       "4751 -0.059208  0.017999   0.951805   0.976410  1.000000       iDA   \n",
       "6416  0.210392  0.062160   0.399360   0.393670  0.692416       lNP   \n",
       "\n",
       "                  cispair  \n",
       "2518   ATAD3A:rs577198193  \n",
       "6275  TMEM176B:rs10230657  \n",
       "7464     IARS:rs975863240  \n",
       "4751       COX14:rs706790  \n",
       "6416        PC:rs72936674  "
      ]
     },
     "metadata": {},
     "output_type": "display_data"
    }
   ],
   "source": [
    "tops_df['cispair'] = tops_df['phenotype_id'] + ':' + tops_df['variant_id']\n",
    "print(tops_df.shape)\n",
    "display(tops_df.sample(5))"
   ]
  },
  {
   "cell_type": "code",
   "execution_count": 11,
   "id": "c83389d5",
   "metadata": {},
   "outputs": [
    {
     "data": {
      "text/plain": [
       "1    26867\n",
       "2     1558\n",
       "3      195\n",
       "Name: cispair, dtype: int64"
      ]
     },
     "execution_count": 11,
     "metadata": {},
     "output_type": "execute_result"
    }
   ],
   "source": [
    "tops_df['cispair'].value_counts().value_counts()"
   ]
  },
  {
   "cell_type": "code",
   "execution_count": 12,
   "id": "0a516258",
   "metadata": {},
   "outputs": [
    {
     "data": {
      "text/plain": [
       "DA     10589\n",
       "iDA    10115\n",
       "lNP     9864\n",
       "Name: cell_type, dtype: int64"
      ]
     },
     "execution_count": 12,
     "metadata": {},
     "output_type": "execute_result"
    }
   ],
   "source": [
    "tops_df['cell_type'].value_counts()"
   ]
  },
  {
   "cell_type": "code",
   "execution_count": 13,
   "id": "0ddbebf4",
   "metadata": {},
   "outputs": [
    {
     "data": {
      "text/plain": [
       "28620"
      ]
     },
     "execution_count": 13,
     "metadata": {},
     "output_type": "execute_result"
    }
   ],
   "source": [
    "len(tops_df['cispair'].unique())"
   ]
  },
  {
   "cell_type": "markdown",
   "id": "b5d077a3",
   "metadata": {},
   "source": [
    "#### what is the max p-value in the independent signals"
   ]
  },
  {
   "cell_type": "code",
   "execution_count": 15,
   "id": "f0681031",
   "metadata": {},
   "outputs": [
    {
     "name": "stdout",
     "output_type": "stream",
     "text": [
      "sig any cell shape is (198, 19) for 127 features\n",
      "max nominal pvalue 1.253248739829989e-07\n"
     ]
    }
   ],
   "source": [
    "sig_tops_df = tops_df.loc[tops_df['bh_fdr'] < alpha_value]\n",
    "feature_cnt = len(sig_tops_df['phenotype_id'].unique())\n",
    "print(f'sig any cell shape is {sig_tops_df.shape} for {feature_cnt} features')\n",
    "\n",
    "max_pvalue = sig_tops_df['pval_nominal'].max()\n",
    "print(f'max nominal pvalue {max_pvalue}')"
   ]
  },
  {
   "cell_type": "code",
   "execution_count": 16,
   "id": "c8b97116",
   "metadata": {},
   "outputs": [
    {
     "data": {
      "text/plain": [
       "1    125\n",
       "2     29\n",
       "3      5\n",
       "Name: cispair, dtype: int64"
      ]
     },
     "execution_count": 16,
     "metadata": {},
     "output_type": "execute_result"
    }
   ],
   "source": [
    "sig_tops_df['cispair'].value_counts().value_counts()"
   ]
  },
  {
   "cell_type": "code",
   "execution_count": 17,
   "id": "606d5128",
   "metadata": {},
   "outputs": [
    {
     "data": {
      "text/plain": [
       "lNP    83\n",
       "DA     64\n",
       "iDA    51\n",
       "Name: cell_type, dtype: int64"
      ]
     },
     "execution_count": 17,
     "metadata": {},
     "output_type": "execute_result"
    }
   ],
   "source": [
    "sig_tops_df['cell_type'].value_counts()"
   ]
  },
  {
   "cell_type": "markdown",
   "id": "c1bb5f2d",
   "metadata": {},
   "source": [
    "#### now that all the cispairs of interest are known get complete data for these"
   ]
  },
  {
   "cell_type": "code",
   "execution_count": 19,
   "id": "94d48628",
   "metadata": {},
   "outputs": [],
   "source": [
    "def load_missing_qtl_results(find_items: list, in_file: str, \n",
    "                             cell: str) -> pd.DataFrame:\n",
    "    qtl_df = pd.read_parquet(in_file)\n",
    "    qtl_df['cispair'] = qtl_df['phenotype_id'] + ':' + qtl_df['variant_id']\n",
    "    found_df = qtl_df.loc[qtl_df['cispair'].isin(find_items)].copy()\n",
    "    found_df['cell_type'] = cell\n",
    "    return found_df"
   ]
  },
  {
   "cell_type": "code",
   "execution_count": 20,
   "id": "5bebff50",
   "metadata": {},
   "outputs": [
    {
     "name": "stdout",
     "output_type": "stream",
     "text": [
      "CPU times: user 1min 50s, sys: 32.8 s, total: 2min 23s\n",
      "Wall time: 1min 28s\n"
     ]
    }
   ],
   "source": [
    "%%time\n",
    "\n",
    "fs_list = []\n",
    "lm_results = []\n",
    "with concurrent.futures.ThreadPoolExecutor() as tpe:\n",
    "    for cell_type in cell_types:\n",
    "        cohort_build = f'{cohort}.{day}.{cell_type}'\n",
    "        for chrom in autosomes:\n",
    "            this_result_file = f'{tensorqtl_dir}/{cohort_build}.cis_qtl_pairs.chr{chrom}.parquet'\n",
    "            fs_list.append(tpe.submit(load_missing_qtl_results, sig_tops_df['cispair'], \n",
    "                                      this_result_file, cell_type))\n",
    "for future in concurrent.futures.as_completed(fs_list):\n",
    "    lm_results.append(future.result())    "
   ]
  },
  {
   "cell_type": "code",
   "execution_count": 29,
   "id": "a719cce5",
   "metadata": {},
   "outputs": [
    {
     "name": "stdout",
     "output_type": "stream",
     "text": [
      "(439, 11)\n"
     ]
    },
    {
     "data": {
      "text/html": [
       "<div>\n",
       "<style scoped>\n",
       "    .dataframe tbody tr th:only-of-type {\n",
       "        vertical-align: middle;\n",
       "    }\n",
       "\n",
       "    .dataframe tbody tr th {\n",
       "        vertical-align: top;\n",
       "    }\n",
       "\n",
       "    .dataframe thead th {\n",
       "        text-align: right;\n",
       "    }\n",
       "</style>\n",
       "<table border=\"1\" class=\"dataframe\">\n",
       "  <thead>\n",
       "    <tr style=\"text-align: right;\">\n",
       "      <th></th>\n",
       "      <th>phenotype_id</th>\n",
       "      <th>variant_id</th>\n",
       "      <th>tss_distance</th>\n",
       "      <th>af</th>\n",
       "      <th>ma_samples</th>\n",
       "      <th>ma_count</th>\n",
       "      <th>pval_nominal</th>\n",
       "      <th>slope</th>\n",
       "      <th>slope_se</th>\n",
       "      <th>cispair</th>\n",
       "      <th>cell_type</th>\n",
       "    </tr>\n",
       "  </thead>\n",
       "  <tbody>\n",
       "    <tr>\n",
       "      <th>102553</th>\n",
       "      <td>ZNF593</td>\n",
       "      <td>rs8768</td>\n",
       "      <td>978</td>\n",
       "      <td>0.253165</td>\n",
       "      <td>35</td>\n",
       "      <td>40</td>\n",
       "      <td>1.012268e-07</td>\n",
       "      <td>0.108364</td>\n",
       "      <td>0.018440</td>\n",
       "      <td>ZNF593:rs8768</td>\n",
       "      <td>DA</td>\n",
       "    </tr>\n",
       "    <tr>\n",
       "      <th>2855451</th>\n",
       "      <td>STAG3L4</td>\n",
       "      <td>rs7341400</td>\n",
       "      <td>15871</td>\n",
       "      <td>0.398734</td>\n",
       "      <td>52</td>\n",
       "      <td>63</td>\n",
       "      <td>4.349964e-13</td>\n",
       "      <td>-0.131852</td>\n",
       "      <td>0.015138</td>\n",
       "      <td>STAG3L4:rs7341400</td>\n",
       "      <td>DA</td>\n",
       "    </tr>\n",
       "    <tr>\n",
       "      <th>101241</th>\n",
       "      <td>KANSL1-AS1</td>\n",
       "      <td>rs1378358</td>\n",
       "      <td>516373</td>\n",
       "      <td>0.221519</td>\n",
       "      <td>31</td>\n",
       "      <td>35</td>\n",
       "      <td>1.059932e-10</td>\n",
       "      <td>0.138418</td>\n",
       "      <td>0.018530</td>\n",
       "      <td>KANSL1-AS1:rs1378358</td>\n",
       "      <td>iDA</td>\n",
       "    </tr>\n",
       "    <tr>\n",
       "      <th>3180411</th>\n",
       "      <td>lnc-NADSYN1-1</td>\n",
       "      <td>rs1981412</td>\n",
       "      <td>-20876</td>\n",
       "      <td>0.360759</td>\n",
       "      <td>50</td>\n",
       "      <td>57</td>\n",
       "      <td>3.035792e-15</td>\n",
       "      <td>-0.135037</td>\n",
       "      <td>0.013736</td>\n",
       "      <td>lnc-NADSYN1-1:rs1981412</td>\n",
       "      <td>iDA</td>\n",
       "    </tr>\n",
       "    <tr>\n",
       "      <th>1798720</th>\n",
       "      <td>XRRA1</td>\n",
       "      <td>rs77182701</td>\n",
       "      <td>-102560</td>\n",
       "      <td>0.246835</td>\n",
       "      <td>34</td>\n",
       "      <td>39</td>\n",
       "      <td>2.673257e-12</td>\n",
       "      <td>0.136597</td>\n",
       "      <td>0.016455</td>\n",
       "      <td>XRRA1:rs77182701</td>\n",
       "      <td>iDA</td>\n",
       "    </tr>\n",
       "    <tr>\n",
       "      <th>1301106</th>\n",
       "      <td>SETD9</td>\n",
       "      <td>rs252910</td>\n",
       "      <td>-12104</td>\n",
       "      <td>0.196203</td>\n",
       "      <td>29</td>\n",
       "      <td>31</td>\n",
       "      <td>4.491307e-09</td>\n",
       "      <td>-0.127939</td>\n",
       "      <td>0.019353</td>\n",
       "      <td>SETD9:rs252910</td>\n",
       "      <td>iDA</td>\n",
       "    </tr>\n",
       "    <tr>\n",
       "      <th>2262169</th>\n",
       "      <td>PILRB</td>\n",
       "      <td>rs7795656</td>\n",
       "      <td>498</td>\n",
       "      <td>0.227848</td>\n",
       "      <td>36</td>\n",
       "      <td>36</td>\n",
       "      <td>8.504897e-11</td>\n",
       "      <td>0.154122</td>\n",
       "      <td>0.020496</td>\n",
       "      <td>PILRB:rs7795656</td>\n",
       "      <td>iDA</td>\n",
       "    </tr>\n",
       "    <tr>\n",
       "      <th>1143067</th>\n",
       "      <td>ZNF880</td>\n",
       "      <td>rs4802926</td>\n",
       "      <td>7095</td>\n",
       "      <td>0.373418</td>\n",
       "      <td>44</td>\n",
       "      <td>59</td>\n",
       "      <td>3.768064e-19</td>\n",
       "      <td>0.156749</td>\n",
       "      <td>0.013157</td>\n",
       "      <td>ZNF880:rs4802926</td>\n",
       "      <td>lNP</td>\n",
       "    </tr>\n",
       "    <tr>\n",
       "      <th>359667</th>\n",
       "      <td>RPS26</td>\n",
       "      <td>rs1131017</td>\n",
       "      <td>794</td>\n",
       "      <td>0.417722</td>\n",
       "      <td>51</td>\n",
       "      <td>66</td>\n",
       "      <td>2.087974e-19</td>\n",
       "      <td>0.140397</td>\n",
       "      <td>0.011647</td>\n",
       "      <td>RPS26:rs1131017</td>\n",
       "      <td>lNP</td>\n",
       "    </tr>\n",
       "    <tr>\n",
       "      <th>2626248</th>\n",
       "      <td>CCDC58</td>\n",
       "      <td>rs35780274</td>\n",
       "      <td>-108604</td>\n",
       "      <td>0.468354</td>\n",
       "      <td>59</td>\n",
       "      <td>74</td>\n",
       "      <td>9.202913e-09</td>\n",
       "      <td>0.105715</td>\n",
       "      <td>0.016406</td>\n",
       "      <td>CCDC58:rs35780274</td>\n",
       "      <td>iDA</td>\n",
       "    </tr>\n",
       "  </tbody>\n",
       "</table>\n",
       "</div>"
      ],
      "text/plain": [
       "          phenotype_id  variant_id  tss_distance        af  ma_samples  \\\n",
       "102553          ZNF593      rs8768           978  0.253165          35   \n",
       "2855451        STAG3L4   rs7341400         15871  0.398734          52   \n",
       "101241      KANSL1-AS1   rs1378358        516373  0.221519          31   \n",
       "3180411  lnc-NADSYN1-1   rs1981412        -20876  0.360759          50   \n",
       "1798720          XRRA1  rs77182701       -102560  0.246835          34   \n",
       "1301106          SETD9    rs252910        -12104  0.196203          29   \n",
       "2262169          PILRB   rs7795656           498  0.227848          36   \n",
       "1143067         ZNF880   rs4802926          7095  0.373418          44   \n",
       "359667           RPS26   rs1131017           794  0.417722          51   \n",
       "2626248         CCDC58  rs35780274       -108604  0.468354          59   \n",
       "\n",
       "         ma_count  pval_nominal     slope  slope_se                  cispair  \\\n",
       "102553         40  1.012268e-07  0.108364  0.018440            ZNF593:rs8768   \n",
       "2855451        63  4.349964e-13 -0.131852  0.015138        STAG3L4:rs7341400   \n",
       "101241         35  1.059932e-10  0.138418  0.018530     KANSL1-AS1:rs1378358   \n",
       "3180411        57  3.035792e-15 -0.135037  0.013736  lnc-NADSYN1-1:rs1981412   \n",
       "1798720        39  2.673257e-12  0.136597  0.016455         XRRA1:rs77182701   \n",
       "1301106        31  4.491307e-09 -0.127939  0.019353           SETD9:rs252910   \n",
       "2262169        36  8.504897e-11  0.154122  0.020496          PILRB:rs7795656   \n",
       "1143067        59  3.768064e-19  0.156749  0.013157         ZNF880:rs4802926   \n",
       "359667         66  2.087974e-19  0.140397  0.011647          RPS26:rs1131017   \n",
       "2626248        74  9.202913e-09  0.105715  0.016406        CCDC58:rs35780274   \n",
       "\n",
       "        cell_type  \n",
       "102553         DA  \n",
       "2855451        DA  \n",
       "101241        iDA  \n",
       "3180411       iDA  \n",
       "1798720       iDA  \n",
       "1301106       iDA  \n",
       "2262169       iDA  \n",
       "1143067       lNP  \n",
       "359667        lNP  \n",
       "2626248       iDA  "
      ]
     },
     "metadata": {},
     "output_type": "display_data"
    }
   ],
   "source": [
    "# combine the read results\n",
    "results_df = pd.concat(lm_results)\n",
    "print(results_df.shape)\n",
    "display(results_df.sample(10))"
   ]
  },
  {
   "cell_type": "code",
   "execution_count": 30,
   "id": "81d676c9",
   "metadata": {},
   "outputs": [
    {
     "data": {
      "text/plain": [
       "3    135\n",
       "1     14\n",
       "2     10\n",
       "Name: cispair, dtype: int64"
      ]
     },
     "execution_count": 30,
     "metadata": {},
     "output_type": "execute_result"
    }
   ],
   "source": [
    "results_df['cispair'].value_counts().value_counts()"
   ]
  },
  {
   "cell_type": "code",
   "execution_count": 32,
   "id": "4e31de49",
   "metadata": {},
   "outputs": [
    {
     "data": {
      "text/plain": [
       "DA     149\n",
       "iDA    148\n",
       "lNP    142\n",
       "Name: cell_type, dtype: int64"
      ]
     },
     "execution_count": 32,
     "metadata": {},
     "output_type": "execute_result"
    }
   ],
   "source": [
    "results_df['cell_type'].value_counts()"
   ]
  },
  {
   "cell_type": "code",
   "execution_count": 33,
   "id": "bf365538",
   "metadata": {},
   "outputs": [],
   "source": [
    "results_df['log10_pvalue'] = np.log10(results_df['pval_nominal'])*-1\n",
    "results_df['score'] = results_df['slope']/results_df['slope_se']\n",
    "results_df['score_abs'] = np.abs(results_df['score'])\n",
    "results_df['is_sig'] = 0\n",
    "results_df.loc[results_df['pval_nominal'] < max_pvalue, 'is_sig'] = 1"
   ]
  },
  {
   "cell_type": "code",
   "execution_count": 34,
   "id": "199bdb5f",
   "metadata": {},
   "outputs": [
    {
     "data": {
      "text/html": [
       "<div>\n",
       "<style scoped>\n",
       "    .dataframe tbody tr th:only-of-type {\n",
       "        vertical-align: middle;\n",
       "    }\n",
       "\n",
       "    .dataframe tbody tr th {\n",
       "        vertical-align: top;\n",
       "    }\n",
       "\n",
       "    .dataframe thead th {\n",
       "        text-align: right;\n",
       "    }\n",
       "</style>\n",
       "<table border=\"1\" class=\"dataframe\">\n",
       "  <thead>\n",
       "    <tr style=\"text-align: right;\">\n",
       "      <th></th>\n",
       "      <th>phenotype_id</th>\n",
       "      <th>variant_id</th>\n",
       "      <th>tss_distance</th>\n",
       "      <th>af</th>\n",
       "      <th>ma_samples</th>\n",
       "      <th>ma_count</th>\n",
       "      <th>pval_nominal</th>\n",
       "      <th>slope</th>\n",
       "      <th>slope_se</th>\n",
       "      <th>cispair</th>\n",
       "      <th>cell_type</th>\n",
       "      <th>log10_pvalue</th>\n",
       "      <th>score</th>\n",
       "      <th>score_abs</th>\n",
       "      <th>is_sig</th>\n",
       "    </tr>\n",
       "  </thead>\n",
       "  <tbody>\n",
       "    <tr>\n",
       "      <th>543749</th>\n",
       "      <td>LIN52</td>\n",
       "      <td>rs11622838</td>\n",
       "      <td>117860</td>\n",
       "      <td>0.316456</td>\n",
       "      <td>44</td>\n",
       "      <td>50</td>\n",
       "      <td>3.066228e-08</td>\n",
       "      <td>0.112928</td>\n",
       "      <td>0.018330</td>\n",
       "      <td>LIN52:rs11622838</td>\n",
       "      <td>lNP</td>\n",
       "      <td>7.513396</td>\n",
       "      <td>6.160954</td>\n",
       "      <td>6.160954</td>\n",
       "      <td>1</td>\n",
       "    </tr>\n",
       "    <tr>\n",
       "      <th>119711</th>\n",
       "      <td>EP400P1</td>\n",
       "      <td>rs7297253</td>\n",
       "      <td>-168</td>\n",
       "      <td>0.177215</td>\n",
       "      <td>26</td>\n",
       "      <td>28</td>\n",
       "      <td>2.436006e-03</td>\n",
       "      <td>-0.078429</td>\n",
       "      <td>0.025021</td>\n",
       "      <td>EP400P1:rs7297253</td>\n",
       "      <td>DA</td>\n",
       "      <td>2.613322</td>\n",
       "      <td>-3.134563</td>\n",
       "      <td>3.134563</td>\n",
       "      <td>0</td>\n",
       "    </tr>\n",
       "    <tr>\n",
       "      <th>2789880</th>\n",
       "      <td>ZNF880</td>\n",
       "      <td>rs4802926</td>\n",
       "      <td>7095</td>\n",
       "      <td>0.373418</td>\n",
       "      <td>44</td>\n",
       "      <td>59</td>\n",
       "      <td>5.645265e-08</td>\n",
       "      <td>0.113205</td>\n",
       "      <td>0.018817</td>\n",
       "      <td>ZNF880:rs4802926</td>\n",
       "      <td>iDA</td>\n",
       "      <td>7.248316</td>\n",
       "      <td>6.016075</td>\n",
       "      <td>6.016075</td>\n",
       "      <td>1</td>\n",
       "    </tr>\n",
       "    <tr>\n",
       "      <th>697007</th>\n",
       "      <td>C17orf97</td>\n",
       "      <td>rs11150881</td>\n",
       "      <td>-814</td>\n",
       "      <td>0.234177</td>\n",
       "      <td>35</td>\n",
       "      <td>37</td>\n",
       "      <td>7.917690e-04</td>\n",
       "      <td>0.081261</td>\n",
       "      <td>0.023256</td>\n",
       "      <td>C17orf97:rs11150881</td>\n",
       "      <td>lNP</td>\n",
       "      <td>3.101402</td>\n",
       "      <td>3.494185</td>\n",
       "      <td>3.494185</td>\n",
       "      <td>0</td>\n",
       "    </tr>\n",
       "    <tr>\n",
       "      <th>960527</th>\n",
       "      <td>SIGIRR</td>\n",
       "      <td>rs7479832</td>\n",
       "      <td>-13516</td>\n",
       "      <td>0.164557</td>\n",
       "      <td>23</td>\n",
       "      <td>26</td>\n",
       "      <td>5.029450e-07</td>\n",
       "      <td>0.118562</td>\n",
       "      <td>0.021607</td>\n",
       "      <td>SIGIRR:rs7479832</td>\n",
       "      <td>lNP</td>\n",
       "      <td>6.298480</td>\n",
       "      <td>5.487070</td>\n",
       "      <td>5.487070</td>\n",
       "      <td>0</td>\n",
       "    </tr>\n",
       "  </tbody>\n",
       "</table>\n",
       "</div>"
      ],
      "text/plain": [
       "        phenotype_id  variant_id  tss_distance        af  ma_samples  \\\n",
       "543749         LIN52  rs11622838        117860  0.316456          44   \n",
       "119711       EP400P1   rs7297253          -168  0.177215          26   \n",
       "2789880       ZNF880   rs4802926          7095  0.373418          44   \n",
       "697007      C17orf97  rs11150881          -814  0.234177          35   \n",
       "960527        SIGIRR   rs7479832        -13516  0.164557          23   \n",
       "\n",
       "         ma_count  pval_nominal     slope  slope_se              cispair  \\\n",
       "543749         50  3.066228e-08  0.112928  0.018330     LIN52:rs11622838   \n",
       "119711         28  2.436006e-03 -0.078429  0.025021    EP400P1:rs7297253   \n",
       "2789880        59  5.645265e-08  0.113205  0.018817     ZNF880:rs4802926   \n",
       "697007         37  7.917690e-04  0.081261  0.023256  C17orf97:rs11150881   \n",
       "960527         26  5.029450e-07  0.118562  0.021607     SIGIRR:rs7479832   \n",
       "\n",
       "        cell_type  log10_pvalue     score  score_abs  is_sig  \n",
       "543749        lNP      7.513396  6.160954   6.160954       1  \n",
       "119711         DA      2.613322 -3.134563   3.134563       0  \n",
       "2789880       iDA      7.248316  6.016075   6.016075       1  \n",
       "697007        lNP      3.101402  3.494185   3.494185       0  \n",
       "960527        lNP      6.298480  5.487070   5.487070       0  "
      ]
     },
     "execution_count": 34,
     "metadata": {},
     "output_type": "execute_result"
    }
   ],
   "source": [
    "results_df.sample(5)"
   ]
  },
  {
   "cell_type": "code",
   "execution_count": 35,
   "id": "ea0fd3fb",
   "metadata": {},
   "outputs": [
    {
     "data": {
      "text/plain": [
       "1    318\n",
       "0    121\n",
       "Name: is_sig, dtype: int64"
      ]
     },
     "execution_count": 35,
     "metadata": {},
     "output_type": "execute_result"
    }
   ],
   "source": [
    "results_df['is_sig'].value_counts()"
   ]
  },
  {
   "cell_type": "markdown",
   "id": "875d7b3f",
   "metadata": {},
   "source": [
    "#### save the combined results"
   ]
  },
  {
   "cell_type": "code",
   "execution_count": 36,
   "id": "65a21977",
   "metadata": {},
   "outputs": [],
   "source": [
    "results_df.to_csv(top_results_file, index=False)"
   ]
  },
  {
   "cell_type": "code",
   "execution_count": 37,
   "id": "89cf332f",
   "metadata": {},
   "outputs": [
    {
     "data": {
      "text/html": [
       "<div>\n",
       "<style scoped>\n",
       "    .dataframe tbody tr th:only-of-type {\n",
       "        vertical-align: middle;\n",
       "    }\n",
       "\n",
       "    .dataframe tbody tr th {\n",
       "        vertical-align: top;\n",
       "    }\n",
       "\n",
       "    .dataframe thead th {\n",
       "        text-align: right;\n",
       "    }\n",
       "</style>\n",
       "<table border=\"1\" class=\"dataframe\">\n",
       "  <thead>\n",
       "    <tr style=\"text-align: right;\">\n",
       "      <th></th>\n",
       "      <th>phenotype_id</th>\n",
       "      <th>variant_id</th>\n",
       "      <th>tss_distance</th>\n",
       "      <th>af</th>\n",
       "      <th>ma_samples</th>\n",
       "      <th>ma_count</th>\n",
       "      <th>pval_nominal</th>\n",
       "      <th>slope</th>\n",
       "      <th>slope_se</th>\n",
       "      <th>cispair</th>\n",
       "      <th>cell_type</th>\n",
       "      <th>log10_pvalue</th>\n",
       "      <th>score</th>\n",
       "      <th>score_abs</th>\n",
       "      <th>is_sig</th>\n",
       "    </tr>\n",
       "  </thead>\n",
       "  <tbody>\n",
       "    <tr>\n",
       "      <th>697007</th>\n",
       "      <td>C17orf97</td>\n",
       "      <td>rs11150881</td>\n",
       "      <td>-814</td>\n",
       "      <td>0.234177</td>\n",
       "      <td>35</td>\n",
       "      <td>37</td>\n",
       "      <td>0.000792</td>\n",
       "      <td>0.081261</td>\n",
       "      <td>0.023256</td>\n",
       "      <td>C17orf97:rs11150881</td>\n",
       "      <td>lNP</td>\n",
       "      <td>3.101402</td>\n",
       "      <td>3.494185</td>\n",
       "      <td>3.494185</td>\n",
       "      <td>0</td>\n",
       "    </tr>\n",
       "    <tr>\n",
       "      <th>1717935</th>\n",
       "      <td>SRR</td>\n",
       "      <td>rs1885987</td>\n",
       "      <td>-3652</td>\n",
       "      <td>0.360759</td>\n",
       "      <td>49</td>\n",
       "      <td>57</td>\n",
       "      <td>0.000035</td>\n",
       "      <td>-0.086501</td>\n",
       "      <td>0.019667</td>\n",
       "      <td>SRR:rs1885987</td>\n",
       "      <td>lNP</td>\n",
       "      <td>4.461398</td>\n",
       "      <td>-4.398355</td>\n",
       "      <td>4.398355</td>\n",
       "      <td>0</td>\n",
       "    </tr>\n",
       "    <tr>\n",
       "      <th>1242171</th>\n",
       "      <td>lnc-MEX3B-4</td>\n",
       "      <td>rs28541667</td>\n",
       "      <td>-62992</td>\n",
       "      <td>0.436709</td>\n",
       "      <td>58</td>\n",
       "      <td>69</td>\n",
       "      <td>0.000007</td>\n",
       "      <td>-0.094522</td>\n",
       "      <td>0.019609</td>\n",
       "      <td>lnc-MEX3B-4:rs28541667</td>\n",
       "      <td>lNP</td>\n",
       "      <td>5.151516</td>\n",
       "      <td>-4.820409</td>\n",
       "      <td>4.820409</td>\n",
       "      <td>0</td>\n",
       "    </tr>\n",
       "    <tr>\n",
       "      <th>488346</th>\n",
       "      <td>PPIL2</td>\n",
       "      <td>rs2070504</td>\n",
       "      <td>28472</td>\n",
       "      <td>0.398734</td>\n",
       "      <td>47</td>\n",
       "      <td>63</td>\n",
       "      <td>0.000308</td>\n",
       "      <td>0.060741</td>\n",
       "      <td>0.016070</td>\n",
       "      <td>PPIL2:rs2070504</td>\n",
       "      <td>lNP</td>\n",
       "      <td>3.511486</td>\n",
       "      <td>3.779697</td>\n",
       "      <td>3.779697</td>\n",
       "      <td>0</td>\n",
       "    </tr>\n",
       "    <tr>\n",
       "      <th>617107</th>\n",
       "      <td>FAM227A</td>\n",
       "      <td>rs3788545</td>\n",
       "      <td>12538</td>\n",
       "      <td>0.329114</td>\n",
       "      <td>42</td>\n",
       "      <td>52</td>\n",
       "      <td>0.022447</td>\n",
       "      <td>0.045511</td>\n",
       "      <td>0.019536</td>\n",
       "      <td>FAM227A:rs3788545</td>\n",
       "      <td>lNP</td>\n",
       "      <td>1.648838</td>\n",
       "      <td>2.329649</td>\n",
       "      <td>2.329649</td>\n",
       "      <td>0</td>\n",
       "    </tr>\n",
       "  </tbody>\n",
       "</table>\n",
       "</div>"
      ],
      "text/plain": [
       "        phenotype_id  variant_id  tss_distance        af  ma_samples  \\\n",
       "697007      C17orf97  rs11150881          -814  0.234177          35   \n",
       "1717935          SRR   rs1885987         -3652  0.360759          49   \n",
       "1242171  lnc-MEX3B-4  rs28541667        -62992  0.436709          58   \n",
       "488346         PPIL2   rs2070504         28472  0.398734          47   \n",
       "617107       FAM227A   rs3788545         12538  0.329114          42   \n",
       "\n",
       "         ma_count  pval_nominal     slope  slope_se                 cispair  \\\n",
       "697007         37      0.000792  0.081261  0.023256     C17orf97:rs11150881   \n",
       "1717935        57      0.000035 -0.086501  0.019667           SRR:rs1885987   \n",
       "1242171        69      0.000007 -0.094522  0.019609  lnc-MEX3B-4:rs28541667   \n",
       "488346         63      0.000308  0.060741  0.016070         PPIL2:rs2070504   \n",
       "617107         52      0.022447  0.045511  0.019536       FAM227A:rs3788545   \n",
       "\n",
       "        cell_type  log10_pvalue     score  score_abs  is_sig  \n",
       "697007        lNP      3.101402  3.494185   3.494185       0  \n",
       "1717935       lNP      4.461398 -4.398355   4.398355       0  \n",
       "1242171       lNP      5.151516 -4.820409   4.820409       0  \n",
       "488346        lNP      3.511486  3.779697   3.779697       0  \n",
       "617107        lNP      1.648838  2.329649   2.329649       0  "
      ]
     },
     "metadata": {},
     "output_type": "display_data"
    },
    {
     "data": {
      "text/plain": [
       "1    58\n",
       "3    58\n",
       "2    43\n",
       "Name: is_sig, dtype: int64"
      ]
     },
     "metadata": {},
     "output_type": "display_data"
    }
   ],
   "source": [
    "temp = results_df.groupby(['cispair'])['is_sig'].agg('sum')\n",
    "display(results_df.loc[results_df['is_sig'] == 0].head())\n",
    "display(temp.value_counts())"
   ]
  },
  {
   "cell_type": "code",
   "execution_count": 38,
   "id": "340d73b1",
   "metadata": {},
   "outputs": [
    {
     "data": {
      "text/plain": [
       "Series([], Name: is_sig, dtype: int64)"
      ]
     },
     "execution_count": 38,
     "metadata": {},
     "output_type": "execute_result"
    }
   ],
   "source": [
    "temp[temp == 0].head()"
   ]
  },
  {
   "cell_type": "code",
   "execution_count": 39,
   "id": "7ad83c9e",
   "metadata": {},
   "outputs": [
    {
     "data": {
      "text/plain": [
       "1    58\n",
       "3    58\n",
       "2    43\n",
       "Name: is_sig, dtype: int64"
      ]
     },
     "execution_count": 39,
     "metadata": {},
     "output_type": "execute_result"
    }
   ],
   "source": [
    "results_df.groupby(['cispair'])['is_sig'].agg('sum').value_counts()"
   ]
  },
  {
   "cell_type": "markdown",
   "id": "cff4fe6f",
   "metadata": {},
   "source": [
    "#### for the stuff that isn't in largest powered group any visit standout"
   ]
  },
  {
   "cell_type": "code",
   "execution_count": 40,
   "id": "25593bc5",
   "metadata": {},
   "outputs": [
    {
     "data": {
      "text/plain": [
       "DA     149\n",
       "iDA    148\n",
       "lNP    142\n",
       "Name: cell_type, dtype: int64"
      ]
     },
     "execution_count": 40,
     "metadata": {},
     "output_type": "execute_result"
    }
   ],
   "source": [
    "results_df.loc[results_df['cell_type'] != 0]['cell_type'].value_counts()"
   ]
  },
  {
   "cell_type": "code",
   "execution_count": 41,
   "id": "6362c539",
   "metadata": {},
   "outputs": [
    {
     "data": {
      "text/plain": [
       "1    58\n",
       "3    58\n",
       "2    43\n",
       "Name: is_sig, dtype: int64"
      ]
     },
     "execution_count": 41,
     "metadata": {},
     "output_type": "execute_result"
    }
   ],
   "source": [
    "results_df.loc[results_df['cell_type'] != 0].groupby(['cispair'])['is_sig'].agg('sum').value_counts()"
   ]
  },
  {
   "cell_type": "markdown",
   "id": "caa8428c",
   "metadata": {},
   "source": [
    "#### annotate direction of effect for plotting"
   ]
  },
  {
   "cell_type": "code",
   "execution_count": 42,
   "id": "6a43738e",
   "metadata": {},
   "outputs": [
    {
     "data": {
      "text/html": [
       "<div>\n",
       "<style scoped>\n",
       "    .dataframe tbody tr th:only-of-type {\n",
       "        vertical-align: middle;\n",
       "    }\n",
       "\n",
       "    .dataframe tbody tr th {\n",
       "        vertical-align: top;\n",
       "    }\n",
       "\n",
       "    .dataframe thead th {\n",
       "        text-align: right;\n",
       "    }\n",
       "</style>\n",
       "<table border=\"1\" class=\"dataframe\">\n",
       "  <thead>\n",
       "    <tr style=\"text-align: right;\">\n",
       "      <th></th>\n",
       "      <th>phenotype_id</th>\n",
       "      <th>variant_id</th>\n",
       "      <th>tss_distance</th>\n",
       "      <th>af</th>\n",
       "      <th>ma_samples</th>\n",
       "      <th>ma_count</th>\n",
       "      <th>pval_nominal</th>\n",
       "      <th>slope</th>\n",
       "      <th>slope_se</th>\n",
       "      <th>cispair</th>\n",
       "      <th>cell_type</th>\n",
       "      <th>log10_pvalue</th>\n",
       "      <th>score</th>\n",
       "      <th>score_abs</th>\n",
       "      <th>is_sig</th>\n",
       "      <th>Direction</th>\n",
       "    </tr>\n",
       "  </thead>\n",
       "  <tbody>\n",
       "    <tr>\n",
       "      <th>995595</th>\n",
       "      <td>SNHG17</td>\n",
       "      <td>rs707578</td>\n",
       "      <td>-8131</td>\n",
       "      <td>0.189873</td>\n",
       "      <td>25</td>\n",
       "      <td>30</td>\n",
       "      <td>2.075990e-10</td>\n",
       "      <td>0.133393</td>\n",
       "      <td>0.018231</td>\n",
       "      <td>SNHG17:rs707578</td>\n",
       "      <td>lNP</td>\n",
       "      <td>9.682775</td>\n",
       "      <td>7.316984</td>\n",
       "      <td>7.316984</td>\n",
       "      <td>1</td>\n",
       "      <td>Increase</td>\n",
       "    </tr>\n",
       "    <tr>\n",
       "      <th>853917</th>\n",
       "      <td>FAM227A</td>\n",
       "      <td>rs3788545</td>\n",
       "      <td>12538</td>\n",
       "      <td>0.329114</td>\n",
       "      <td>42</td>\n",
       "      <td>52</td>\n",
       "      <td>3.369395e-09</td>\n",
       "      <td>0.108272</td>\n",
       "      <td>0.016214</td>\n",
       "      <td>FAM227A:rs3788545</td>\n",
       "      <td>DA</td>\n",
       "      <td>8.472448</td>\n",
       "      <td>6.677496</td>\n",
       "      <td>6.677496</td>\n",
       "      <td>1</td>\n",
       "      <td>Increase</td>\n",
       "    </tr>\n",
       "    <tr>\n",
       "      <th>782226</th>\n",
       "      <td>EXOSC6</td>\n",
       "      <td>rs73575193</td>\n",
       "      <td>11735</td>\n",
       "      <td>0.443038</td>\n",
       "      <td>56</td>\n",
       "      <td>70</td>\n",
       "      <td>4.028343e-07</td>\n",
       "      <td>0.096084</td>\n",
       "      <td>0.017339</td>\n",
       "      <td>EXOSC6:rs73575193</td>\n",
       "      <td>DA</td>\n",
       "      <td>6.394874</td>\n",
       "      <td>5.541564</td>\n",
       "      <td>5.541564</td>\n",
       "      <td>0</td>\n",
       "      <td>Increase</td>\n",
       "    </tr>\n",
       "    <tr>\n",
       "      <th>1604916</th>\n",
       "      <td>CHURC1</td>\n",
       "      <td>rs3033504</td>\n",
       "      <td>11463</td>\n",
       "      <td>0.259494</td>\n",
       "      <td>36</td>\n",
       "      <td>41</td>\n",
       "      <td>3.136082e-14</td>\n",
       "      <td>0.144461</td>\n",
       "      <td>0.015529</td>\n",
       "      <td>CHURC1:rs3033504</td>\n",
       "      <td>DA</td>\n",
       "      <td>13.503613</td>\n",
       "      <td>9.302535</td>\n",
       "      <td>9.302535</td>\n",
       "      <td>1</td>\n",
       "      <td>Increase</td>\n",
       "    </tr>\n",
       "    <tr>\n",
       "      <th>1803000</th>\n",
       "      <td>MXRA7</td>\n",
       "      <td>rs11869629</td>\n",
       "      <td>-29942</td>\n",
       "      <td>0.227848</td>\n",
       "      <td>32</td>\n",
       "      <td>36</td>\n",
       "      <td>1.491789e-08</td>\n",
       "      <td>0.156676</td>\n",
       "      <td>0.024749</td>\n",
       "      <td>MXRA7:rs11869629</td>\n",
       "      <td>lNP</td>\n",
       "      <td>7.826293</td>\n",
       "      <td>6.330695</td>\n",
       "      <td>6.330695</td>\n",
       "      <td>1</td>\n",
       "      <td>Increase</td>\n",
       "    </tr>\n",
       "  </tbody>\n",
       "</table>\n",
       "</div>"
      ],
      "text/plain": [
       "        phenotype_id  variant_id  tss_distance        af  ma_samples  \\\n",
       "995595        SNHG17    rs707578         -8131  0.189873          25   \n",
       "853917       FAM227A   rs3788545         12538  0.329114          42   \n",
       "782226        EXOSC6  rs73575193         11735  0.443038          56   \n",
       "1604916       CHURC1   rs3033504         11463  0.259494          36   \n",
       "1803000        MXRA7  rs11869629        -29942  0.227848          32   \n",
       "\n",
       "         ma_count  pval_nominal     slope  slope_se            cispair  \\\n",
       "995595         30  2.075990e-10  0.133393  0.018231    SNHG17:rs707578   \n",
       "853917         52  3.369395e-09  0.108272  0.016214  FAM227A:rs3788545   \n",
       "782226         70  4.028343e-07  0.096084  0.017339  EXOSC6:rs73575193   \n",
       "1604916        41  3.136082e-14  0.144461  0.015529   CHURC1:rs3033504   \n",
       "1803000        36  1.491789e-08  0.156676  0.024749   MXRA7:rs11869629   \n",
       "\n",
       "        cell_type  log10_pvalue     score  score_abs  is_sig Direction  \n",
       "995595        lNP      9.682775  7.316984   7.316984       1  Increase  \n",
       "853917         DA      8.472448  6.677496   6.677496       1  Increase  \n",
       "782226         DA      6.394874  5.541564   5.541564       0  Increase  \n",
       "1604916        DA     13.503613  9.302535   9.302535       1  Increase  \n",
       "1803000       lNP      7.826293  6.330695   6.330695       1  Increase  "
      ]
     },
     "metadata": {},
     "output_type": "display_data"
    }
   ],
   "source": [
    "results_df['Direction'] = np.where(results_df['slope'] > 0, \n",
    "                                         'Increase', 'Descrease')\n",
    "display(results_df.sample(5))"
   ]
  },
  {
   "cell_type": "markdown",
   "id": "252dbebf",
   "metadata": {},
   "source": [
    "#### do some quick plotting"
   ]
  },
  {
   "cell_type": "code",
   "execution_count": 43,
   "id": "ddbdee3e",
   "metadata": {},
   "outputs": [
    {
     "data": {
      "text/plain": [
       "<seaborn.axisgrid.FacetGrid at 0x7fc55847f290>"
      ]
     },
     "execution_count": 43,
     "metadata": {},
     "output_type": "execute_result"
    },
    {
     "data": {
      "image/png": "[encoded data removed]",
      "text/plain": [
       "<Figure size 448.125x360 with 1 Axes>"
      ]
     },
     "metadata": {
      "needs_background": "light"
     },
     "output_type": "display_data"
    }
   ],
   "source": [
    "sns.relplot(x='cell_type', y='score', kind='line', hue='Direction',\n",
    "            data=results_df, palette='Set1')"
   ]
  },
  {
   "cell_type": "code",
   "execution_count": 44,
   "id": "386a8208",
   "metadata": {},
   "outputs": [
    {
     "data": {
      "text/plain": [
       "<seaborn.axisgrid.FacetGrid at 0x7fc558487e50>"
      ]
     },
     "execution_count": 44,
     "metadata": {},
     "output_type": "execute_result"
    },
    {
     "data": {
      "image/png": "[encoded data removed]",
      "text/plain": [
       "<Figure size 448.125x360 with 1 Axes>"
      ]
     },
     "metadata": {
      "needs_background": "light"
     },
     "output_type": "display_data"
    }
   ],
   "source": [
    "sns.relplot(x='cell_type', y='slope', kind='line', hue='Direction',\n",
    "            data=results_df, palette='Set1')"
   ]
  },
  {
   "cell_type": "code",
   "execution_count": 45,
   "id": "82bc2477",
   "metadata": {},
   "outputs": [
    {
     "data": {
      "text/plain": [
       "<seaborn.axisgrid.FacetGrid at 0x7fc2c2000350>"
      ]
     },
     "execution_count": 45,
     "metadata": {},
     "output_type": "execute_result"
    },
    {
     "data": {
      "image/png": "[encoded data removed]",
      "text/plain": [
       "<Figure size 448.125x360 with 1 Axes>"
      ]
     },
     "metadata": {
      "needs_background": "light"
     },
     "output_type": "display_data"
    }
   ],
   "source": [
    "sns.relplot(x='cell_type', y='slope_se', kind='line', hue='Direction',\n",
    "            data=results_df, palette='Set1')"
   ]
  },
  {
   "cell_type": "code",
   "execution_count": 46,
   "id": "792dd098",
   "metadata": {},
   "outputs": [
    {
     "data": {
      "text/plain": [
       "<seaborn.axisgrid.FacetGrid at 0x7fc17ddbe250>"
      ]
     },
     "execution_count": 46,
     "metadata": {},
     "output_type": "execute_result"
    },
    {
     "data": {
      "image/png": "[encoded data removed]",
      "text/plain": [
       "<Figure size 448.125x360 with 1 Axes>"
      ]
     },
     "metadata": {
      "needs_background": "light"
     },
     "output_type": "display_data"
    }
   ],
   "source": [
    "sns.relplot(x='cell_type', y='log10_pvalue', kind='line', hue='Direction',\n",
    "            data=results_df, palette='Set1')"
   ]
  },
  {
   "cell_type": "code",
   "execution_count": 47,
   "id": "fa29b85e",
   "metadata": {},
   "outputs": [
    {
     "data": {
      "text/plain": [
       "<seaborn.axisgrid.FacetGrid at 0x7fc4eb743dd0>"
      ]
     },
     "execution_count": 47,
     "metadata": {},
     "output_type": "execute_result"
    },
    {
     "data": {
      "image/png": "[encoded data removed]",
      "text/plain": [
       "<Figure size 448.125x360 with 1 Axes>"
      ]
     },
     "metadata": {
      "needs_background": "light"
     },
     "output_type": "display_data"
    }
   ],
   "source": [
    "sns.relplot(x='tss_distance', y='log10_pvalue',hue='Direction',\n",
    "            data=results_df, palette='Set1')"
   ]
  },
  {
   "cell_type": "code",
   "execution_count": 48,
   "id": "36058c57",
   "metadata": {},
   "outputs": [
    {
     "data": {
      "text/plain": [
       "<AxesSubplot:xlabel='tss_distance', ylabel='log10_pvalue'>"
      ]
     },
     "execution_count": 48,
     "metadata": {},
     "output_type": "execute_result"
    },
    {
     "data": {
      "image/png": "[encoded data removed]",
      "text/plain": [
       "<Figure size 432x288 with 1 Axes>"
      ]
     },
     "metadata": {
      "needs_background": "light"
     },
     "output_type": "display_data"
    }
   ],
   "source": [
    "sns.scatterplot(x='tss_distance', y='log10_pvalue', hue='cell_type',\n",
    "                data=results_df.sample(frac=1), palette='Set1')"
   ]
  },
  {
   "cell_type": "code",
   "execution_count": 49,
   "id": "89047b9e",
   "metadata": {},
   "outputs": [
    {
     "data": {
      "text/plain": [
       "<seaborn.axisgrid.FacetGrid at 0x7fc4d0106390>"
      ]
     },
     "execution_count": 49,
     "metadata": {},
     "output_type": "execute_result"
    },
    {
     "data": {
      "image/png": "[encoded data removed]",
      "text/plain": [
       "<Figure size 448.125x360 with 1 Axes>"
      ]
     },
     "metadata": {
      "needs_background": "light"
     },
     "output_type": "display_data"
    }
   ],
   "source": [
    "sns.relplot(x='tss_distance', y='score',hue='Direction',\n",
    "            data=results_df, palette='Set1')"
   ]
  },
  {
   "cell_type": "code",
   "execution_count": 50,
   "id": "edc9d9a6",
   "metadata": {},
   "outputs": [
    {
     "data": {
      "text/plain": [
       "<seaborn.axisgrid.FacetGrid at 0x7fbe1ade9f50>"
      ]
     },
     "execution_count": 50,
     "metadata": {},
     "output_type": "execute_result"
    },
    {
     "data": {
      "image/png": "[encoded data removed]",
      "text/plain": [
       "<Figure size 413.375x360 with 1 Axes>"
      ]
     },
     "metadata": {
      "needs_background": "light"
     },
     "output_type": "display_data"
    }
   ],
   "source": [
    "sns.relplot(x='tss_distance', y='score',hue='cell_type',\n",
    "            data=results_df.sample(frac=1), palette='Set1')"
   ]
  },
  {
   "cell_type": "markdown",
   "id": "b03333b2",
   "metadata": {},
   "source": [
    "#### format data for ternary plots"
   ]
  },
  {
   "cell_type": "code",
   "execution_count": 71,
   "id": "a7b5d3ce",
   "metadata": {},
   "outputs": [],
   "source": [
    "lNP = results_df.loc[results_df['cell_type'] == 'lNP'].sort_values(by=['cispair'])\n",
    "iDA = results_df.loc[results_df['cell_type'] == 'iDA'].sort_values(by=['cispair'])\n",
    "DA = results_df.loc[results_df['cell_type'] == 'DA'].sort_values(by=['cispair'])"
   ]
  },
  {
   "cell_type": "code",
   "execution_count": 72,
   "id": "c639407b",
   "metadata": {},
   "outputs": [
    {
     "data": {
      "text/html": [
       "<div>\n",
       "<style scoped>\n",
       "    .dataframe tbody tr th:only-of-type {\n",
       "        vertical-align: middle;\n",
       "    }\n",
       "\n",
       "    .dataframe tbody tr th {\n",
       "        vertical-align: top;\n",
       "    }\n",
       "\n",
       "    .dataframe thead th {\n",
       "        text-align: right;\n",
       "    }\n",
       "</style>\n",
       "<table border=\"1\" class=\"dataframe\">\n",
       "  <thead>\n",
       "    <tr style=\"text-align: right;\">\n",
       "      <th></th>\n",
       "      <th>phenotype_id_x</th>\n",
       "      <th>variant_id_x</th>\n",
       "      <th>tss_distance_x</th>\n",
       "      <th>af_x</th>\n",
       "      <th>ma_samples_x</th>\n",
       "      <th>ma_count_x</th>\n",
       "      <th>pval_nominal_x</th>\n",
       "      <th>slope_x</th>\n",
       "      <th>slope_se_x</th>\n",
       "      <th>cispair</th>\n",
       "      <th>...</th>\n",
       "      <th>ma_count</th>\n",
       "      <th>pval_nominal</th>\n",
       "      <th>slope</th>\n",
       "      <th>slope_se</th>\n",
       "      <th>cell_type</th>\n",
       "      <th>log10_pvalue</th>\n",
       "      <th>score</th>\n",
       "      <th>score_abs</th>\n",
       "      <th>is_sig</th>\n",
       "      <th>Direction</th>\n",
       "    </tr>\n",
       "  </thead>\n",
       "  <tbody>\n",
       "    <tr>\n",
       "      <th>0</th>\n",
       "      <td>AMH</td>\n",
       "      <td>rs4807216</td>\n",
       "      <td>-625</td>\n",
       "      <td>0.196203</td>\n",
       "      <td>26</td>\n",
       "      <td>31</td>\n",
       "      <td>1.325865e-08</td>\n",
       "      <td>-0.118045</td>\n",
       "      <td>0.018565</td>\n",
       "      <td>AMH:rs4807216</td>\n",
       "      <td>...</td>\n",
       "      <td>31.0</td>\n",
       "      <td>4.674519e-10</td>\n",
       "      <td>-0.130876</td>\n",
       "      <td>0.018351</td>\n",
       "      <td>DA</td>\n",
       "      <td>9.330263</td>\n",
       "      <td>-7.131813</td>\n",
       "      <td>7.131813</td>\n",
       "      <td>1.0</td>\n",
       "      <td>Descrease</td>\n",
       "    </tr>\n",
       "    <tr>\n",
       "      <th>1</th>\n",
       "      <td>ARL16</td>\n",
       "      <td>rs113250157</td>\n",
       "      <td>-16413</td>\n",
       "      <td>0.164557</td>\n",
       "      <td>24</td>\n",
       "      <td>26</td>\n",
       "      <td>4.521106e-14</td>\n",
       "      <td>-0.137004</td>\n",
       "      <td>0.014859</td>\n",
       "      <td>ARL16:rs113250157</td>\n",
       "      <td>...</td>\n",
       "      <td>26.0</td>\n",
       "      <td>1.128039e-08</td>\n",
       "      <td>-0.124864</td>\n",
       "      <td>0.019522</td>\n",
       "      <td>DA</td>\n",
       "      <td>7.947676</td>\n",
       "      <td>-6.396204</td>\n",
       "      <td>6.396204</td>\n",
       "      <td>1.0</td>\n",
       "      <td>Descrease</td>\n",
       "    </tr>\n",
       "    <tr>\n",
       "      <th>2</th>\n",
       "      <td>ARSA</td>\n",
       "      <td>rs2071421</td>\n",
       "      <td>-2185</td>\n",
       "      <td>0.132911</td>\n",
       "      <td>20</td>\n",
       "      <td>21</td>\n",
       "      <td>4.168698e-09</td>\n",
       "      <td>-0.157225</td>\n",
       "      <td>0.023721</td>\n",
       "      <td>ARSA:rs2071421</td>\n",
       "      <td>...</td>\n",
       "      <td>21.0</td>\n",
       "      <td>7.501098e-04</td>\n",
       "      <td>-0.094404</td>\n",
       "      <td>0.026889</td>\n",
       "      <td>DA</td>\n",
       "      <td>3.124875</td>\n",
       "      <td>-3.510900</td>\n",
       "      <td>3.510900</td>\n",
       "      <td>0.0</td>\n",
       "      <td>Descrease</td>\n",
       "    </tr>\n",
       "    <tr>\n",
       "      <th>3</th>\n",
       "      <td>ATP23</td>\n",
       "      <td>rs71084800</td>\n",
       "      <td>24231</td>\n",
       "      <td>0.272152</td>\n",
       "      <td>37</td>\n",
       "      <td>43</td>\n",
       "      <td>4.117947e-11</td>\n",
       "      <td>-0.130283</td>\n",
       "      <td>0.016955</td>\n",
       "      <td>ATP23:rs71084800</td>\n",
       "      <td>...</td>\n",
       "      <td>43.0</td>\n",
       "      <td>1.761454e-04</td>\n",
       "      <td>-0.077062</td>\n",
       "      <td>0.019545</td>\n",
       "      <td>DA</td>\n",
       "      <td>3.754129</td>\n",
       "      <td>-3.942804</td>\n",
       "      <td>3.942804</td>\n",
       "      <td>0.0</td>\n",
       "      <td>Descrease</td>\n",
       "    </tr>\n",
       "    <tr>\n",
       "      <th>4</th>\n",
       "      <td>BCR</td>\n",
       "      <td>rs140509</td>\n",
       "      <td>130321</td>\n",
       "      <td>0.329114</td>\n",
       "      <td>42</td>\n",
       "      <td>52</td>\n",
       "      <td>8.610580e-10</td>\n",
       "      <td>-0.112132</td>\n",
       "      <td>0.016037</td>\n",
       "      <td>BCR:rs140509</td>\n",
       "      <td>...</td>\n",
       "      <td>52.0</td>\n",
       "      <td>4.440432e-10</td>\n",
       "      <td>-0.111005</td>\n",
       "      <td>0.015539</td>\n",
       "      <td>DA</td>\n",
       "      <td>9.352575</td>\n",
       "      <td>-7.143556</td>\n",
       "      <td>7.143556</td>\n",
       "      <td>1.0</td>\n",
       "      <td>Descrease</td>\n",
       "    </tr>\n",
       "  </tbody>\n",
       "</table>\n",
       "<p>5 rows × 46 columns</p>\n",
       "</div>"
      ],
      "text/plain": [
       "  phenotype_id_x variant_id_x  tss_distance_x      af_x  ma_samples_x  \\\n",
       "0            AMH    rs4807216            -625  0.196203            26   \n",
       "1          ARL16  rs113250157          -16413  0.164557            24   \n",
       "2           ARSA    rs2071421           -2185  0.132911            20   \n",
       "3          ATP23   rs71084800           24231  0.272152            37   \n",
       "4            BCR     rs140509          130321  0.329114            42   \n",
       "\n",
       "   ma_count_x  pval_nominal_x   slope_x  slope_se_x            cispair  ...  \\\n",
       "0          31    1.325865e-08 -0.118045    0.018565      AMH:rs4807216  ...   \n",
       "1          26    4.521106e-14 -0.137004    0.014859  ARL16:rs113250157  ...   \n",
       "2          21    4.168698e-09 -0.157225    0.023721     ARSA:rs2071421  ...   \n",
       "3          43    4.117947e-11 -0.130283    0.016955   ATP23:rs71084800  ...   \n",
       "4          52    8.610580e-10 -0.112132    0.016037       BCR:rs140509  ...   \n",
       "\n",
       "  ma_count  pval_nominal     slope  slope_se  cell_type log10_pvalue  \\\n",
       "0     31.0  4.674519e-10 -0.130876  0.018351         DA     9.330263   \n",
       "1     26.0  1.128039e-08 -0.124864  0.019522         DA     7.947676   \n",
       "2     21.0  7.501098e-04 -0.094404  0.026889         DA     3.124875   \n",
       "3     43.0  1.761454e-04 -0.077062  0.019545         DA     3.754129   \n",
       "4     52.0  4.440432e-10 -0.111005  0.015539         DA     9.352575   \n",
       "\n",
       "      score score_abs  is_sig  Direction  \n",
       "0 -7.131813  7.131813     1.0  Descrease  \n",
       "1 -6.396204  6.396204     1.0  Descrease  \n",
       "2 -3.510900  3.510900     0.0  Descrease  \n",
       "3 -3.942804  3.942804     0.0  Descrease  \n",
       "4 -7.143556  7.143556     1.0  Descrease  \n",
       "\n",
       "[5 rows x 46 columns]"
      ]
     },
     "metadata": {},
     "output_type": "display_data"
    }
   ],
   "source": [
    "all_df = lNP.merge(iDA, how='left', left_on='cispair', right_on='cispair')\n",
    "all_df = all_df.merge(DA, how='left', left_on='cispair', right_on='cispair')\n",
    "display(all_df.head())"
   ]
  },
  {
   "cell_type": "markdown",
   "id": "89606cf2",
   "metadata": {},
   "source": [
    "#### clean up the column names"
   ]
  },
  {
   "cell_type": "code",
   "execution_count": 73,
   "id": "67261374",
   "metadata": {},
   "outputs": [],
   "source": [
    "all_df.rename(columns={'score_abs_x': 'lNP', 'score_abs_y': 'iDA', \n",
    "                       'score_abs': 'DA'}, inplace=True)"
   ]
  },
  {
   "cell_type": "code",
   "execution_count": 74,
   "id": "938ee61b",
   "metadata": {},
   "outputs": [],
   "source": [
    "all_df.fillna(0, inplace=True)"
   ]
  },
  {
   "cell_type": "markdown",
   "id": "a0cf4cc9",
   "metadata": {},
   "source": [
    "#### merge the counts for number days significant"
   ]
  },
  {
   "cell_type": "code",
   "execution_count": 75,
   "id": "60844555",
   "metadata": {},
   "outputs": [
    {
     "data": {
      "text/plain": [
       "3.0    58\n",
       "1.0    45\n",
       "2.0    39\n",
       "Name: cells_detected, dtype: int64"
      ]
     },
     "execution_count": 75,
     "metadata": {},
     "output_type": "execute_result"
    }
   ],
   "source": [
    "all_df['cells_detected'] = all_df['is_sig_x'] + all_df['is_sig_y'] + all_df['is_sig']\n",
    "# all_df = all_df.merge(counts, how='left', left_on='cispair', right_index=True)\n",
    "# all_df.rename(columns={'cispair_y': 'days_detected'}, inplace=True)\n",
    "all_df['cells_detected'].value_counts()"
   ]
  },
  {
   "cell_type": "code",
   "execution_count": 76,
   "id": "39661916",
   "metadata": {},
   "outputs": [
    {
     "data": {
      "text/plain": [
       "3    58\n",
       "1    45\n",
       "2    39\n",
       "Name: cells_detected, dtype: int64"
      ]
     },
     "execution_count": 76,
     "metadata": {},
     "output_type": "execute_result"
    }
   ],
   "source": [
    "all_df['cells_detected'] = all_df['cells_detected'].astype('int')\n",
    "all_df['cells_detected'].value_counts()"
   ]
  },
  {
   "cell_type": "code",
   "execution_count": 77,
   "id": "4a3a38d1",
   "metadata": {},
   "outputs": [
    {
     "data": {
      "application/vnd.plotly.v1+json": {
       "config": {
        "plotlyServerURL": "https://plot.ly"
       },
       "data": [
        {
         "a": [
          6.358353614807129,
          9.219963073730469,
          6.628151893615723,
          7.684108734130859,
          6.991924285888672,
          6.657013893127441,
          8.896966934204102,
          3.494185209274292,
          6.031492233276367,
          5.696156024932861,
          7.1738386154174805,
          7.057150840759277,
          3.46864652633667,
          7.802840709686279,
          7.434754371643066,
          7.037525177001953,
          5.324896335601807,
          8.486555099487305,
          3.191896915435791,
          7.9624409675598145,
          7.817741394042969,
          6.616866588592529,
          10.117539405822754,
          4.591152667999268,
          10.367745399475098,
          8.50472354888916,
          10.240618705749512,
          11.775906562805176,
          3.606036901473999,
          6.911642551422119,
          8.087379455566406,
          5.952968120574951,
          9.11760139465332,
          9.209640502929688,
          2.3296492099761963,
          7.032654285430908,
          7.610881805419922,
          7.3343071937561035,
          7.831183910369873,
          4.288568496704102,
          7.939811706542969,
          6.265201091766357,
          7.102156162261963,
          7.82928991317749,
          8.244059562683105,
          6.940364837646484,
          6.597548007965088,
          9.05823802947998,
          6.160953998565674,
          6.578076362609863,
          10.054224967956543,
          6.875943660736084,
          6.700816631317139,
          5.626815319061279,
          7.033658981323242,
          5.7234320640563965,
          7.860659599304199,
          7.134088516235352,
          6.729769706726074,
          10.077719688415527,
          9.9561128616333,
          9.309971809387207,
          6.757539749145508,
          6.330695152282715,
          6.524371147155762,
          7.290667533874512,
          7.331634044647217,
          7.621092319488525,
          8.601632118225098,
          6.503932476043701,
          6.716702938079834,
          7.891706466674805,
          8.544206619262695,
          6.897970676422119,
          8.09530258178711,
          3.7796967029571533,
          11.807696342468262,
          11.684250831604004,
          7.748420238494873,
          8.403926849365234,
          8.721899032592773,
          12.053909301757812,
          8.306253433227539,
          5.487069606781006,
          8.416964530944824,
          7.502493381500244,
          7.7878313064575195,
          5.884307384490967,
          6.662395477294922,
          9.756543159484863,
          7.316984176635742,
          6.863295555114746,
          6.0120415687561035,
          8.838022232055664,
          9.380873680114746,
          8.954696655273438,
          4.398355007171631,
          9.958755493164062,
          9.735922813415527,
          7.59806489944458,
          9.084892272949219,
          4.950337886810303,
          7.286951541900635,
          3.7552380561828613,
          6.234940528869629,
          6.2179951667785645,
          6.1169891357421875,
          4.81511116027832,
          7.476748466491699,
          7.001747131347656,
          4.659010410308838,
          8.303930282592773,
          7.4175333976745605,
          10.356099128723145,
          8.643881797790527,
          6.385488510131836,
          6.280019283294678,
          7.086740016937256,
          6.947079658508301,
          6.567500114440918,
          11.913703918457031,
          8.929057121276855,
          8.645021438598633,
          6.360055446624756,
          7.770630836486816,
          7.350715160369873,
          5.936243057250977,
          8.568541526794434,
          7.472710609436035,
          4.271129131317139,
          4.820409297943115,
          7.387240409851074,
          7.734539031982422,
          7.312065601348877,
          7.704005241394043,
          3.7317183017730713,
          6.851770877838135,
          3.302894353866577,
          6.738493919372559,
          6.804225921630859,
          5.001033782958984,
          6.965279579162598
         ],
         "b": [
          0,
          8.04443073272705,
          4.574557304382324,
          4.386781215667725,
          3.9841580390930176,
          4.12158203125,
          3.0099215507507324,
          8.170819282531738,
          6.52905797958374,
          6.585568904876709,
          5.278111934661865,
          6.3032026290893555,
          3.3028910160064697,
          2.7478344440460205,
          6.745995998382568,
          6.443800926208496,
          3.596104860305786,
          8.85984992980957,
          4.072958469390869,
          6.194443225860596,
          7.695194721221924,
          4.82404899597168,
          11.351482391357422,
          10.068604469299316,
          9.44217586517334,
          9.804710388183594,
          9.738973617553711,
          10.279966354370117,
          6.954897403717041,
          2.68857741355896,
          6.129821300506592,
          4.107469081878662,
          8.996332168579102,
          7.458069324493408,
          4.180055141448975,
          7.430004596710205,
          7.062564373016357,
          7.384230613708496,
          0.7261072397232056,
          3.8684895038604736,
          7.5754923820495605,
          5.307263374328613,
          5.898410320281982,
          7.813301086425781,
          7.469818115234375,
          6.469153881072998,
          6.565857410430908,
          3.2645506858825684,
          5.823442459106445,
          3.330458879470825,
          4.419790267944336,
          2.5206375122070312,
          4.869352340698242,
          4.439685821533203,
          0,
          6.260169506072998,
          7.068612098693848,
          8.391043663024902,
          4.94672966003418,
          10.161555290222168,
          10.115114212036133,
          7.373953819274902,
          5.567384719848633,
          8.068215370178223,
          8.419384956359863,
          5.084383487701416,
          6.785462856292725,
          3.6372084617614746,
          5.694292068481445,
          2.488654375076294,
          7.499923229217529,
          6.243861675262451,
          6.028230667114258,
          4.120460033416748,
          7.519780158996582,
          1.7670217752456665,
          7.638230323791504,
          8.253732681274414,
          4.015955924987793,
          9.113851547241211,
          7.567699909210205,
          10.271943092346191,
          6.61085319519043,
          4.333802223205566,
          7.951850891113281,
          8.922497749328613,
          8.359689712524414,
          4.390701770782471,
          7.046695232391357,
          7.700804233551025,
          7.884032726287842,
          6.242084980010986,
          4.771953105926514,
          7.349696159362793,
          7.273923873901367,
          5.890777587890625,
          5.738218307495117,
          7.4601569175720215,
          6.1691107749938965,
          7.881922245025635,
          5.622288227081299,
          5.4749627113342285,
          5.112231731414795,
          4.9959917068481445,
          6.653846263885498,
          6.760221481323242,
          6.553603649139404,
          5.986629009246826,
          3.8933920860290527,
          4.143154144287109,
          6.379958629608154,
          6.101233959197998,
          7.396815299987793,
          8.275425910949707,
          8.301111221313477,
          6.021180152893066,
          6.606316089630127,
          2.623204231262207,
          6.817479133605957,
          6.171448707580566,
          6.0160746574401855,
          8.991985321044922,
          9.451532363891602,
          7.33101224899292,
          6.177152633666992,
          6.392826557159424,
          0,
          10.819000244140625,
          5.4719367027282715,
          4.414799690246582,
          7.387052059173584,
          9.831274032592773,
          10.256574630737305,
          6.9668731689453125,
          6.628143787384033,
          5.869351387023926,
          4.945850372314453,
          5.466409206390381,
          4.268551826477051,
          5.825101852416992,
          5.558237075805664,
          3.7949228286743164
         ],
         "c": [
          7.131812572479248,
          6.396204471588135,
          3.5109000205993652,
          3.9428038597106934,
          7.143556118011475,
          7.4582319259643555,
          0,
          5.681909084320068,
          6.716519832611084,
          6.326665878295898,
          7.4684882164001465,
          7.736237049102783,
          8.071045875549316,
          1.6179300546646118,
          5.997231960296631,
          6.509655475616455,
          7.3745503425598145,
          9.302535057067871,
          6.429559230804443,
          4.225281715393066,
          7.8294677734375,
          4.2667317390441895,
          9.692378997802734,
          7.821266174316406,
          10.26542854309082,
          10.16180419921875,
          10.906498908996582,
          2.3079240322113037,
          5.667314529418945,
          3.1345632076263428,
          5.541563987731934,
          5.4892354011535645,
          7.496266841888428,
          7.550079345703125,
          6.677496433258057,
          7.287041187286377,
          5.782843589782715,
          7.414321422576904,
          0.888480544090271,
          6.332799911499023,
          1.5315885543823242,
          7.28733491897583,
          6.0939717292785645,
          7.352059841156006,
          7.75454568862915,
          7.92803430557251,
          7.116094589233398,
          7.211087703704834,
          7.368492603302002,
          2.3947970867156982,
          7.01099967956543,
          0.6301236748695374,
          4.709636688232422,
          6.049849510192871,
          0,
          2.5472724437713623,
          5.990297794342041,
          6.55154275894165,
          5.553949356079102,
          8.631488800048828,
          8.710054397583008,
          2.602208137512207,
          6.873202323913574,
          8.923458099365234,
          8.795893669128418,
          6.960480690002441,
          5.267932891845703,
          3.370303153991699,
          3.8774774074554443,
          4.162818908691406,
          3.6227734088897705,
          5.111973762512207,
          5.786194324493408,
          4.775663375854492,
          5.937227725982666,
          6.798511981964111,
          10.21104621887207,
          10.191032409667969,
          7.943734645843506,
          8.634946823120117,
          7.777463912963867,
          10.545022010803223,
          0,
          7.936397552490234,
          7.384434223175049,
          7.192229747772217,
          7.553959369659424,
          7.625111103057861,
          8.037430763244629,
          7.684848785400391,
          7.284496307373047,
          8.821619033813477,
          4.4920244216918945,
          5.823513984680176,
          6.975275993347168,
          7.935705661773682,
          7.707337856292725,
          8.432469367980957,
          8.709817886352539,
          0,
          5.005527973175049,
          6.97303581237793,
          5.5602617263793945,
          6.806763648986816,
          7.375962734222412,
          7.238994121551514,
          6.977407455444336,
          5.028783321380615,
          6.880883693695068,
          7.399153709411621,
          4.455232620239258,
          5.467652320861816,
          5.088415622711182,
          9.1155424118042,
          9.114777565002441,
          5.681489944458008,
          6.672911643981934,
          3.0588924884796143,
          5.876436233520508,
          3.7396929264068604,
          10.750896453857422,
          11.072660446166992,
          11.34723949432373,
          0,
          3.7239279747009277,
          4.139549732208252,
          0,
          10.698641777038574,
          4.364355087280273,
          8.11559009552002,
          5.243427276611328,
          7.304965972900391,
          7.209940433502197,
          7.8428850173950195,
          6.161435127258301,
          7.290469169616699,
          6.927367210388184,
          7.157844543457031,
          4.402862548828125,
          4.6894097328186035,
          6.528932094573975,
          7.961660385131836
         ],
         "hovertemplate": "lNP=%{a}<br>iDA=%{b}<br>DA=%{c}<br>cells_detected=%{marker.color}<extra></extra>",
         "legendgroup": "",
         "marker": {
          "color": [
           2,
           3,
           1,
           1,
           2,
           2,
           1,
           1,
           3,
           2,
           2,
           3,
           1,
           1,
           3,
           3,
           1,
           3,
           1,
           2,
           3,
           1,
           3,
           2,
           3,
           3,
           3,
           2,
           1,
           1,
           2,
           1,
           3,
           3,
           1,
           3,
           2,
           3,
           1,
           1,
           2,
           2,
           3,
           3,
           3,
           3,
           3,
           2,
           2,
           1,
           2,
           1,
           1,
           1,
           1,
           1,
           3,
           3,
           1,
           3,
           3,
           2,
           2,
           3,
           3,
           2,
           2,
           1,
           1,
           1,
           2,
           2,
           2,
           1,
           3,
           1,
           3,
           3,
           2,
           3,
           3,
           3,
           2,
           1,
           3,
           3,
           3,
           2,
           3,
           3,
           3,
           3,
           1,
           2,
           3,
           3,
           1,
           3,
           3,
           2,
           1,
           1,
           1,
           1,
           3,
           3,
           3,
           1,
           2,
           2,
           1,
           2,
           2,
           3,
           3,
           2,
           3,
           1,
           3,
           2,
           3,
           3,
           3,
           2,
           2,
           2,
           1,
           3,
           1,
           1,
           1,
           3,
           3,
           3,
           3,
           2,
           2,
           1,
           1,
           1,
           1,
           2
          ],
          "coloraxis": "coloraxis",
          "symbol": "circle"
         },
         "mode": "markers",
         "name": "",
         "showlegend": false,
         "subplot": "ternary",
         "type": "scatterternary"
        }
       ],
       "layout": {
        "autosize": true,
        "coloraxis": {
         "colorbar": {
          "title": {
           "text": "cells_detected"
          }
         },
         "colorscale": [
          [
           0,
           "#0d0887"
          ],
          [
           0.1111111111111111,
           "#46039f"
          ],
          [
           0.2222222222222222,
           "#7201a8"
          ],
          [
           0.3333333333333333,
           "#9c179e"
          ],
          [
           0.4444444444444444,
           "#bd3786"
          ],
          [
           0.5555555555555556,
           "#d8576b"
          ],
          [
           0.6666666666666666,
           "#ed7953"
          ],
          [
           0.7777777777777778,
           "#fb9f3a"
          ],
          [
           0.8888888888888888,
           "#fdca26"
          ],
          [
           1,
           "#f0f921"
          ]
         ]
        },
        "legend": {
         "tracegroupgap": 0
        },
        "margin": {
         "t": 60
        },
        "template": {
         "data": {
          "bar": [
           {
            "error_x": {
             "color": "#2a3f5f"
            },
            "error_y": {
             "color": "#2a3f5f"
            },
            "marker": {
             "line": {
              "color": "#E5ECF6",
              "width": 0.5
             },
             "pattern": {
              "fillmode": "overlay",
              "size": 10,
              "solidity": 0.2
             }
            },
            "type": "bar"
           }
          ],
          "barpolar": [
           {
            "marker": {
             "line": {
              "color": "#E5ECF6",
              "width": 0.5
             },
             "pattern": {
              "fillmode": "overlay",
              "size": 10,
              "solidity": 0.2
             }
            },
            "type": "barpolar"
           }
          ],
          "carpet": [
           {
            "aaxis": {
             "endlinecolor": "#2a3f5f",
             "gridcolor": "white",
             "linecolor": "white",
             "minorgridcolor": "white",
             "startlinecolor": "#2a3f5f"
            },
            "baxis": {
             "endlinecolor": "#2a3f5f",
             "gridcolor": "white",
             "linecolor": "white",
             "minorgridcolor": "white",
             "startlinecolor": "#2a3f5f"
            },
            "type": "carpet"
           }
          ],
          "choropleth": [
           {
            "colorbar": {
             "outlinewidth": 0,
             "ticks": ""
            },
            "type": "choropleth"
           }
          ],
          "contour": [
           {
            "colorbar": {
             "outlinewidth": 0,
             "ticks": ""
            },
            "colorscale": [
             [
              0,
              "#0d0887"
             ],
             [
              0.1111111111111111,
              "#46039f"
             ],
             [
              0.2222222222222222,
              "#7201a8"
             ],
             [
              0.3333333333333333,
              "#9c179e"
             ],
             [
              0.4444444444444444,
              "#bd3786"
             ],
             [
              0.5555555555555556,
              "#d8576b"
             ],
             [
              0.6666666666666666,
              "#ed7953"
             ],
             [
              0.7777777777777778,
              "#fb9f3a"
             ],
             [
              0.8888888888888888,
              "#fdca26"
             ],
             [
              1,
              "#f0f921"
             ]
            ],
            "type": "contour"
           }
          ],
          "contourcarpet": [
           {
            "colorbar": {
             "outlinewidth": 0,
             "ticks": ""
            },
            "type": "contourcarpet"
           }
          ],
          "heatmap": [
           {
            "colorbar": {
             "outlinewidth": 0,
             "ticks": ""
            },
            "colorscale": [
             [
              0,
              "#0d0887"
             ],
             [
              0.1111111111111111,
              "#46039f"
             ],
             [
              0.2222222222222222,
              "#7201a8"
             ],
             [
              0.3333333333333333,
              "#9c179e"
             ],
             [
              0.4444444444444444,
              "#bd3786"
             ],
             [
              0.5555555555555556,
              "#d8576b"
             ],
             [
              0.6666666666666666,
              "#ed7953"
             ],
             [
              0.7777777777777778,
              "#fb9f3a"
             ],
             [
              0.8888888888888888,
              "#fdca26"
             ],
             [
              1,
              "#f0f921"
             ]
            ],
            "type": "heatmap"
           }
          ],
          "heatmapgl": [
           {
            "colorbar": {
             "outlinewidth": 0,
             "ticks": ""
            },
            "colorscale": [
             [
              0,
              "#0d0887"
             ],
             [
              0.1111111111111111,
              "#46039f"
             ],
             [
              0.2222222222222222,
              "#7201a8"
             ],
             [
              0.3333333333333333,
              "#9c179e"
             ],
             [
              0.4444444444444444,
              "#bd3786"
             ],
             [
              0.5555555555555556,
              "#d8576b"
             ],
             [
              0.6666666666666666,
              "#ed7953"
             ],
             [
              0.7777777777777778,
              "#fb9f3a"
             ],
             [
              0.8888888888888888,
              "#fdca26"
             ],
             [
              1,
              "#f0f921"
             ]
            ],
            "type": "heatmapgl"
           }
          ],
          "histogram": [
           {
            "marker": {
             "pattern": {
              "fillmode": "overlay",
              "size": 10,
              "solidity": 0.2
             }
            },
            "type": "histogram"
           }
          ],
          "histogram2d": [
           {
            "colorbar": {
             "outlinewidth": 0,
             "ticks": ""
            },
            "colorscale": [
             [
              0,
              "#0d0887"
             ],
             [
              0.1111111111111111,
              "#46039f"
             ],
             [
              0.2222222222222222,
              "#7201a8"
             ],
             [
              0.3333333333333333,
              "#9c179e"
             ],
             [
              0.4444444444444444,
              "#bd3786"
             ],
             [
              0.5555555555555556,
              "#d8576b"
             ],
             [
              0.6666666666666666,
              "#ed7953"
             ],
             [
              0.7777777777777778,
              "#fb9f3a"
             ],
             [
              0.8888888888888888,
              "#fdca26"
             ],
             [
              1,
              "#f0f921"
             ]
            ],
            "type": "histogram2d"
           }
          ],
          "histogram2dcontour": [
           {
            "colorbar": {
             "outlinewidth": 0,
             "ticks": ""
            },
            "colorscale": [
             [
              0,
              "#0d0887"
             ],
             [
              0.1111111111111111,
              "#46039f"
             ],
             [
              0.2222222222222222,
              "#7201a8"
             ],
             [
              0.3333333333333333,
              "#9c179e"
             ],
             [
              0.4444444444444444,
              "#bd3786"
             ],
             [
              0.5555555555555556,
              "#d8576b"
             ],
             [
              0.6666666666666666,
              "#ed7953"
             ],
             [
              0.7777777777777778,
              "#fb9f3a"
             ],
             [
              0.8888888888888888,
              "#fdca26"
             ],
             [
              1,
              "#f0f921"
             ]
            ],
            "type": "histogram2dcontour"
           }
          ],
          "mesh3d": [
           {
            "colorbar": {
             "outlinewidth": 0,
             "ticks": ""
            },
            "type": "mesh3d"
           }
          ],
          "parcoords": [
           {
            "line": {
             "colorbar": {
              "outlinewidth": 0,
              "ticks": ""
             }
            },
            "type": "parcoords"
           }
          ],
          "pie": [
           {
            "automargin": true,
            "type": "pie"
           }
          ],
          "scatter": [
           {
            "marker": {
             "colorbar": {
              "outlinewidth": 0,
              "ticks": ""
             }
            },
            "type": "scatter"
           }
          ],
          "scatter3d": [
           {
            "line": {
             "colorbar": {
              "outlinewidth": 0,
              "ticks": ""
             }
            },
            "marker": {
             "colorbar": {
              "outlinewidth": 0,
              "ticks": ""
             }
            },
            "type": "scatter3d"
           }
          ],
          "scattercarpet": [
           {
            "marker": {
             "colorbar": {
              "outlinewidth": 0,
              "ticks": ""
             }
            },
            "type": "scattercarpet"
           }
          ],
          "scattergeo": [
           {
            "marker": {
             "colorbar": {
              "outlinewidth": 0,
              "ticks": ""
             }
            },
            "type": "scattergeo"
           }
          ],
          "scattergl": [
           {
            "marker": {
             "colorbar": {
              "outlinewidth": 0,
              "ticks": ""
             }
            },
            "type": "scattergl"
           }
          ],
          "scattermapbox": [
           {
            "marker": {
             "colorbar": {
              "outlinewidth": 0,
              "ticks": ""
             }
            },
            "type": "scattermapbox"
           }
          ],
          "scatterpolar": [
           {
            "marker": {
             "colorbar": {
              "outlinewidth": 0,
              "ticks": ""
             }
            },
            "type": "scatterpolar"
           }
          ],
          "scatterpolargl": [
           {
            "marker": {
             "colorbar": {
              "outlinewidth": 0,
              "ticks": ""
             }
            },
            "type": "scatterpolargl"
           }
          ],
          "scatterternary": [
           {
            "marker": {
             "colorbar": {
              "outlinewidth": 0,
              "ticks": ""
             }
            },
            "type": "scatterternary"
           }
          ],
          "surface": [
           {
            "colorbar": {
             "outlinewidth": 0,
             "ticks": ""
            },
            "colorscale": [
             [
              0,
              "#0d0887"
             ],
             [
              0.1111111111111111,
              "#46039f"
             ],
             [
              0.2222222222222222,
              "#7201a8"
             ],
             [
              0.3333333333333333,
              "#9c179e"
             ],
             [
              0.4444444444444444,
              "#bd3786"
             ],
             [
              0.5555555555555556,
              "#d8576b"
             ],
             [
              0.6666666666666666,
              "#ed7953"
             ],
             [
              0.7777777777777778,
              "#fb9f3a"
             ],
             [
              0.8888888888888888,
              "#fdca26"
             ],
             [
              1,
              "#f0f921"
             ]
            ],
            "type": "surface"
           }
          ],
          "table": [
           {
            "cells": {
             "fill": {
              "color": "#EBF0F8"
             },
             "line": {
              "color": "white"
             }
            },
            "header": {
             "fill": {
              "color": "#C8D4E3"
             },
             "line": {
              "color": "white"
             }
            },
            "type": "table"
           }
          ]
         },
         "layout": {
          "annotationdefaults": {
           "arrowcolor": "#2a3f5f",
           "arrowhead": 0,
           "arrowwidth": 1
          },
          "autotypenumbers": "strict",
          "coloraxis": {
           "colorbar": {
            "outlinewidth": 0,
            "ticks": ""
           }
          },
          "colorscale": {
           "diverging": [
            [
             0,
             "#8e0152"
            ],
            [
             0.1,
             "#c51b7d"
            ],
            [
             0.2,
             "#de77ae"
            ],
            [
             0.3,
             "#f1b6da"
            ],
            [
             0.4,
             "#fde0ef"
            ],
            [
             0.5,
             "#f7f7f7"
            ],
            [
             0.6,
             "#e6f5d0"
            ],
            [
             0.7,
             "#b8e186"
            ],
            [
             0.8,
             "#7fbc41"
            ],
            [
             0.9,
             "#4d9221"
            ],
            [
             1,
             "#276419"
            ]
           ],
           "sequential": [
            [
             0,
             "#0d0887"
            ],
            [
             0.1111111111111111,
             "#46039f"
            ],
            [
             0.2222222222222222,
             "#7201a8"
            ],
            [
             0.3333333333333333,
             "#9c179e"
            ],
            [
             0.4444444444444444,
             "#bd3786"
            ],
            [
             0.5555555555555556,
             "#d8576b"
            ],
            [
             0.6666666666666666,
             "#ed7953"
            ],
            [
             0.7777777777777778,
             "#fb9f3a"
            ],
            [
             0.8888888888888888,
             "#fdca26"
            ],
            [
             1,
             "#f0f921"
            ]
           ],
           "sequentialminus": [
            [
             0,
             "#0d0887"
            ],
            [
             0.1111111111111111,
             "#46039f"
            ],
            [
             0.2222222222222222,
             "#7201a8"
            ],
            [
             0.3333333333333333,
             "#9c179e"
            ],
            [
             0.4444444444444444,
             "#bd3786"
            ],
            [
             0.5555555555555556,
             "#d8576b"
            ],
            [
             0.6666666666666666,
             "#ed7953"
            ],
            [
             0.7777777777777778,
             "#fb9f3a"
            ],
            [
             0.8888888888888888,
             "#fdca26"
            ],
            [
             1,
             "#f0f921"
            ]
           ]
          },
          "colorway": [
           "#636efa",
           "#EF553B",
           "#00cc96",
           "#ab63fa",
           "#FFA15A",
           "#19d3f3",
           "#FF6692",
           "#B6E880",
           "#FF97FF",
           "#FECB52"
          ],
          "font": {
           "color": "#2a3f5f"
          },
          "geo": {
           "bgcolor": "white",
           "lakecolor": "white",
           "landcolor": "#E5ECF6",
           "showlakes": true,
           "showland": true,
           "subunitcolor": "white"
          },
          "hoverlabel": {
           "align": "left"
          },
          "hovermode": "closest",
          "mapbox": {
           "style": "light"
          },
          "paper_bgcolor": "white",
          "plot_bgcolor": "#E5ECF6",
          "polar": {
           "angularaxis": {
            "gridcolor": "white",
            "linecolor": "white",
            "ticks": ""
           },
           "bgcolor": "#E5ECF6",
           "radialaxis": {
            "gridcolor": "white",
            "linecolor": "white",
            "ticks": ""
           }
          },
          "scene": {
           "xaxis": {
            "backgroundcolor": "#E5ECF6",
            "gridcolor": "white",
            "gridwidth": 2,
            "linecolor": "white",
            "showbackground": true,
            "ticks": "",
            "zerolinecolor": "white"
           },
           "yaxis": {
            "backgroundcolor": "#E5ECF6",
            "gridcolor": "white",
            "gridwidth": 2,
            "linecolor": "white",
            "showbackground": true,
            "ticks": "",
            "zerolinecolor": "white"
           },
           "zaxis": {
            "backgroundcolor": "#E5ECF6",
            "gridcolor": "white",
            "gridwidth": 2,
            "linecolor": "white",
            "showbackground": true,
            "ticks": "",
            "zerolinecolor": "white"
           }
          },
          "shapedefaults": {
           "line": {
            "color": "#2a3f5f"
           }
          },
          "ternary": {
           "aaxis": {
            "gridcolor": "white",
            "linecolor": "white",
            "ticks": ""
           },
           "baxis": {
            "gridcolor": "white",
            "linecolor": "white",
            "ticks": ""
           },
           "bgcolor": "#E5ECF6",
           "caxis": {
            "gridcolor": "white",
            "linecolor": "white",
            "ticks": ""
           }
          },
          "title": {
           "x": 0.05
          },
          "xaxis": {
           "automargin": true,
           "gridcolor": "white",
           "linecolor": "white",
           "ticks": "",
           "title": {
            "standoff": 15
           },
           "zerolinecolor": "white",
           "zerolinewidth": 2
          },
          "yaxis": {
           "automargin": true,
           "gridcolor": "white",
           "linecolor": "white",
           "ticks": "",
           "title": {
            "standoff": 15
           },
           "zerolinecolor": "white",
           "zerolinewidth": 2
          }
         }
        },
        "ternary": {
         "aaxis": {
          "title": {
           "text": "lNP"
          }
         },
         "baxis": {
          "title": {
           "text": "iDA"
          }
         },
         "caxis": {
          "title": {
           "text": "DA"
          }
         },
         "domain": {
          "x": [
           0,
           1
          ],
          "y": [
           0,
           1
          ]
         }
        }
       }
      },
      "image/png": "[encoded data removed]",
      "text/html": [
       "<div>                            <div id=\"7d717923-8a63-4289-8940-7b86934542a9\" class=\"plotly-graph-div\" style=\"height:525px; width:100%;\"></div>            <script type=\"text/javascript\">                require([\"plotly\"], function(Plotly) {                    window.PLOTLYENV=window.PLOTLYENV || {};                                    if (document.getElementById(\"7d717923-8a63-4289-8940-7b86934542a9\")) {                    Plotly.newPlot(                        \"7d717923-8a63-4289-8940-7b86934542a9\",                        [{\"a\":[6.358353614807129,9.219963073730469,6.628151893615723,7.684108734130859,6.991924285888672,6.657013893127441,8.896966934204102,3.494185209274292,6.031492233276367,5.696156024932861,7.1738386154174805,7.057150840759277,3.46864652633667,7.802840709686279,7.434754371643066,7.037525177001953,5.324896335601807,8.486555099487305,3.191896915435791,7.9624409675598145,7.817741394042969,6.616866588592529,10.117539405822754,4.591152667999268,10.367745399475098,8.50472354888916,10.240618705749512,11.775906562805176,3.606036901473999,6.911642551422119,8.087379455566406,5.952968120574951,9.11760139465332,9.209640502929688,2.3296492099761963,7.032654285430908,7.610881805419922,7.3343071937561035,7.831183910369873,4.288568496704102,7.939811706542969,6.265201091766357,7.102156162261963,7.82928991317749,8.244059562683105,6.940364837646484,6.597548007965088,9.05823802947998,6.160953998565674,6.578076362609863,10.054224967956543,6.875943660736084,6.700816631317139,5.626815319061279,7.033658981323242,5.7234320640563965,7.860659599304199,7.134088516235352,6.729769706726074,10.077719688415527,9.9561128616333,9.309971809387207,6.757539749145508,6.330695152282715,6.524371147155762,7.290667533874512,7.331634044647217,7.621092319488525,8.601632118225098,6.503932476043701,6.716702938079834,7.891706466674805,8.544206619262695,6.897970676422119,8.09530258178711,3.7796967029571533,11.807696342468262,11.684250831604004,7.748420238494873,8.403926849365234,8.721899032592773,12.053909301757812,8.306253433227539,5.487069606781006,8.416964530944824,7.502493381500244,7.7878313064575195,5.884307384490967,6.662395477294922,9.756543159484863,7.316984176635742,6.863295555114746,6.0120415687561035,8.838022232055664,9.380873680114746,8.954696655273438,4.398355007171631,9.958755493164062,9.735922813415527,7.59806489944458,9.084892272949219,4.950337886810303,7.286951541900635,3.7552380561828613,6.234940528869629,6.2179951667785645,6.1169891357421875,4.81511116027832,7.476748466491699,7.001747131347656,4.659010410308838,8.303930282592773,7.4175333976745605,10.356099128723145,8.643881797790527,6.385488510131836,6.280019283294678,7.086740016937256,6.947079658508301,6.567500114440918,11.913703918457031,8.929057121276855,8.645021438598633,6.360055446624756,7.770630836486816,7.350715160369873,5.936243057250977,8.568541526794434,7.472710609436035,4.271129131317139,4.820409297943115,7.387240409851074,7.734539031982422,7.312065601348877,7.704005241394043,3.7317183017730713,6.851770877838135,3.302894353866577,6.738493919372559,6.804225921630859,5.001033782958984,6.965279579162598],\"b\":[0.0,8.04443073272705,4.574557304382324,4.386781215667725,3.9841580390930176,4.12158203125,3.0099215507507324,8.170819282531738,6.52905797958374,6.585568904876709,5.278111934661865,6.3032026290893555,3.3028910160064697,2.7478344440460205,6.745995998382568,6.443800926208496,3.596104860305786,8.85984992980957,4.072958469390869,6.194443225860596,7.695194721221924,4.82404899597168,11.351482391357422,10.068604469299316,9.44217586517334,9.804710388183594,9.738973617553711,10.279966354370117,6.954897403717041,2.68857741355896,6.129821300506592,4.107469081878662,8.996332168579102,7.458069324493408,4.180055141448975,7.430004596710205,7.062564373016357,7.384230613708496,0.7261072397232056,3.8684895038604736,7.5754923820495605,5.307263374328613,5.898410320281982,7.813301086425781,7.469818115234375,6.469153881072998,6.565857410430908,3.2645506858825684,5.823442459106445,3.330458879470825,4.419790267944336,2.5206375122070312,4.869352340698242,4.439685821533203,0.0,6.260169506072998,7.068612098693848,8.391043663024902,4.94672966003418,10.161555290222168,10.115114212036133,7.373953819274902,5.567384719848633,8.068215370178223,8.419384956359863,5.084383487701416,6.785462856292725,3.6372084617614746,5.694292068481445,2.488654375076294,7.499923229217529,6.243861675262451,6.028230667114258,4.120460033416748,7.519780158996582,1.7670217752456665,7.638230323791504,8.253732681274414,4.015955924987793,9.113851547241211,7.567699909210205,10.271943092346191,6.61085319519043,4.333802223205566,7.951850891113281,8.922497749328613,8.359689712524414,4.390701770782471,7.046695232391357,7.700804233551025,7.884032726287842,6.242084980010986,4.771953105926514,7.349696159362793,7.273923873901367,5.890777587890625,5.738218307495117,7.4601569175720215,6.1691107749938965,7.881922245025635,5.622288227081299,5.4749627113342285,5.112231731414795,4.9959917068481445,6.653846263885498,6.760221481323242,6.553603649139404,5.986629009246826,3.8933920860290527,4.143154144287109,6.379958629608154,6.101233959197998,7.396815299987793,8.275425910949707,8.301111221313477,6.021180152893066,6.606316089630127,2.623204231262207,6.817479133605957,6.171448707580566,6.0160746574401855,8.991985321044922,9.451532363891602,7.33101224899292,6.177152633666992,6.392826557159424,0.0,10.819000244140625,5.4719367027282715,4.414799690246582,7.387052059173584,9.831274032592773,10.256574630737305,6.9668731689453125,6.628143787384033,5.869351387023926,4.945850372314453,5.466409206390381,4.268551826477051,5.825101852416992,5.558237075805664,3.7949228286743164],\"c\":[7.131812572479248,6.396204471588135,3.5109000205993652,3.9428038597106934,7.143556118011475,7.4582319259643555,0.0,5.681909084320068,6.716519832611084,6.326665878295898,7.4684882164001465,7.736237049102783,8.071045875549316,1.6179300546646118,5.997231960296631,6.509655475616455,7.3745503425598145,9.302535057067871,6.429559230804443,4.225281715393066,7.8294677734375,4.2667317390441895,9.692378997802734,7.821266174316406,10.26542854309082,10.16180419921875,10.906498908996582,2.3079240322113037,5.667314529418945,3.1345632076263428,5.541563987731934,5.4892354011535645,7.496266841888428,7.550079345703125,6.677496433258057,7.287041187286377,5.782843589782715,7.414321422576904,0.888480544090271,6.332799911499023,1.5315885543823242,7.28733491897583,6.0939717292785645,7.352059841156006,7.75454568862915,7.92803430557251,7.116094589233398,7.211087703704834,7.368492603302002,2.3947970867156982,7.01099967956543,0.6301236748695374,4.709636688232422,6.049849510192871,0.0,2.5472724437713623,5.990297794342041,6.55154275894165,5.553949356079102,8.631488800048828,8.710054397583008,2.602208137512207,6.873202323913574,8.923458099365234,8.795893669128418,6.960480690002441,5.267932891845703,3.370303153991699,3.8774774074554443,4.162818908691406,3.6227734088897705,5.111973762512207,5.786194324493408,4.775663375854492,5.937227725982666,6.798511981964111,10.21104621887207,10.191032409667969,7.943734645843506,8.634946823120117,7.777463912963867,10.545022010803223,0.0,7.936397552490234,7.384434223175049,7.192229747772217,7.553959369659424,7.625111103057861,8.037430763244629,7.684848785400391,7.284496307373047,8.821619033813477,4.4920244216918945,5.823513984680176,6.975275993347168,7.935705661773682,7.707337856292725,8.432469367980957,8.709817886352539,0.0,5.005527973175049,6.97303581237793,5.5602617263793945,6.806763648986816,7.375962734222412,7.238994121551514,6.977407455444336,5.028783321380615,6.880883693695068,7.399153709411621,4.455232620239258,5.467652320861816,5.088415622711182,9.1155424118042,9.114777565002441,5.681489944458008,6.672911643981934,3.0588924884796143,5.876436233520508,3.7396929264068604,10.750896453857422,11.072660446166992,11.34723949432373,0.0,3.7239279747009277,4.139549732208252,0.0,10.698641777038574,4.364355087280273,8.11559009552002,5.243427276611328,7.304965972900391,7.209940433502197,7.8428850173950195,6.161435127258301,7.290469169616699,6.927367210388184,7.157844543457031,4.402862548828125,4.6894097328186035,6.528932094573975,7.961660385131836],\"hovertemplate\":\"lNP=%{a}<br>iDA=%{b}<br>DA=%{c}<br>cells_detected=%{marker.color}<extra></extra>\",\"legendgroup\":\"\",\"marker\":{\"color\":[2,3,1,1,2,2,1,1,3,2,2,3,1,1,3,3,1,3,1,2,3,1,3,2,3,3,3,2,1,1,2,1,3,3,1,3,2,3,1,1,2,2,3,3,3,3,3,2,2,1,2,1,1,1,1,1,3,3,1,3,3,2,2,3,3,2,2,1,1,1,2,2,2,1,3,1,3,3,2,3,3,3,2,1,3,3,3,2,3,3,3,3,1,2,3,3,1,3,3,2,1,1,1,1,3,3,3,1,2,2,1,2,2,3,3,2,3,1,3,2,3,3,3,2,2,2,1,3,1,1,1,3,3,3,3,2,2,1,1,1,1,2],\"coloraxis\":\"coloraxis\",\"symbol\":\"circle\"},\"mode\":\"markers\",\"name\":\"\",\"showlegend\":false,\"subplot\":\"ternary\",\"type\":\"scatterternary\"}],                        {\"coloraxis\":{\"colorbar\":{\"title\":{\"text\":\"cells_detected\"}},\"colorscale\":[[0.0,\"#0d0887\"],[0.1111111111111111,\"#46039f\"],[0.2222222222222222,\"#7201a8\"],[0.3333333333333333,\"#9c179e\"],[0.4444444444444444,\"#bd3786\"],[0.5555555555555556,\"#d8576b\"],[0.6666666666666666,\"#ed7953\"],[0.7777777777777778,\"#fb9f3a\"],[0.8888888888888888,\"#fdca26\"],[1.0,\"#f0f921\"]]},\"legend\":{\"tracegroupgap\":0},\"margin\":{\"t\":60},\"template\":{\"data\":{\"bar\":[{\"error_x\":{\"color\":\"#2a3f5f\"},\"error_y\":{\"color\":\"#2a3f5f\"},\"marker\":{\"line\":{\"color\":\"#E5ECF6\",\"width\":0.5},\"pattern\":{\"fillmode\":\"overlay\",\"size\":10,\"solidity\":0.2}},\"type\":\"bar\"}],\"barpolar\":[{\"marker\":{\"line\":{\"color\":\"#E5ECF6\",\"width\":0.5},\"pattern\":{\"fillmode\":\"overlay\",\"size\":10,\"solidity\":0.2}},\"type\":\"barpolar\"}],\"carpet\":[{\"aaxis\":{\"endlinecolor\":\"#2a3f5f\",\"gridcolor\":\"white\",\"linecolor\":\"white\",\"minorgridcolor\":\"white\",\"startlinecolor\":\"#2a3f5f\"},\"baxis\":{\"endlinecolor\":\"#2a3f5f\",\"gridcolor\":\"white\",\"linecolor\":\"white\",\"minorgridcolor\":\"white\",\"startlinecolor\":\"#2a3f5f\"},\"type\":\"carpet\"}],\"choropleth\":[{\"colorbar\":{\"outlinewidth\":0,\"ticks\":\"\"},\"type\":\"choropleth\"}],\"contour\":[{\"colorbar\":{\"outlinewidth\":0,\"ticks\":\"\"},\"colorscale\":[[0.0,\"#0d0887\"],[0.1111111111111111,\"#46039f\"],[0.2222222222222222,\"#7201a8\"],[0.3333333333333333,\"#9c179e\"],[0.4444444444444444,\"#bd3786\"],[0.5555555555555556,\"#d8576b\"],[0.6666666666666666,\"#ed7953\"],[0.7777777777777778,\"#fb9f3a\"],[0.8888888888888888,\"#fdca26\"],[1.0,\"#f0f921\"]],\"type\":\"contour\"}],\"contourcarpet\":[{\"colorbar\":{\"outlinewidth\":0,\"ticks\":\"\"},\"type\":\"contourcarpet\"}],\"heatmap\":[{\"colorbar\":{\"outlinewidth\":0,\"ticks\":\"\"},\"colorscale\":[[0.0,\"#0d0887\"],[0.1111111111111111,\"#46039f\"],[0.2222222222222222,\"#7201a8\"],[0.3333333333333333,\"#9c179e\"],[0.4444444444444444,\"#bd3786\"],[0.5555555555555556,\"#d8576b\"],[0.6666666666666666,\"#ed7953\"],[0.7777777777777778,\"#fb9f3a\"],[0.8888888888888888,\"#fdca26\"],[1.0,\"#f0f921\"]],\"type\":\"heatmap\"}],\"heatmapgl\":[{\"colorbar\":{\"outlinewidth\":0,\"ticks\":\"\"},\"colorscale\":[[0.0,\"#0d0887\"],[0.1111111111111111,\"#46039f\"],[0.2222222222222222,\"#7201a8\"],[0.3333333333333333,\"#9c179e\"],[0.4444444444444444,\"#bd3786\"],[0.5555555555555556,\"#d8576b\"],[0.6666666666666666,\"#ed7953\"],[0.7777777777777778,\"#fb9f3a\"],[0.8888888888888888,\"#fdca26\"],[1.0,\"#f0f921\"]],\"type\":\"heatmapgl\"}],\"histogram\":[{\"marker\":{\"pattern\":{\"fillmode\":\"overlay\",\"size\":10,\"solidity\":0.2}},\"type\":\"histogram\"}],\"histogram2d\":[{\"colorbar\":{\"outlinewidth\":0,\"ticks\":\"\"},\"colorscale\":[[0.0,\"#0d0887\"],[0.1111111111111111,\"#46039f\"],[0.2222222222222222,\"#7201a8\"],[0.3333333333333333,\"#9c179e\"],[0.4444444444444444,\"#bd3786\"],[0.5555555555555556,\"#d8576b\"],[0.6666666666666666,\"#ed7953\"],[0.7777777777777778,\"#fb9f3a\"],[0.8888888888888888,\"#fdca26\"],[1.0,\"#f0f921\"]],\"type\":\"histogram2d\"}],\"histogram2dcontour\":[{\"colorbar\":{\"outlinewidth\":0,\"ticks\":\"\"},\"colorscale\":[[0.0,\"#0d0887\"],[0.1111111111111111,\"#46039f\"],[0.2222222222222222,\"#7201a8\"],[0.3333333333333333,\"#9c179e\"],[0.4444444444444444,\"#bd3786\"],[0.5555555555555556,\"#d8576b\"],[0.6666666666666666,\"#ed7953\"],[0.7777777777777778,\"#fb9f3a\"],[0.8888888888888888,\"#fdca26\"],[1.0,\"#f0f921\"]],\"type\":\"histogram2dcontour\"}],\"mesh3d\":[{\"colorbar\":{\"outlinewidth\":0,\"ticks\":\"\"},\"type\":\"mesh3d\"}],\"parcoords\":[{\"line\":{\"colorbar\":{\"outlinewidth\":0,\"ticks\":\"\"}},\"type\":\"parcoords\"}],\"pie\":[{\"automargin\":true,\"type\":\"pie\"}],\"scatter\":[{\"marker\":{\"colorbar\":{\"outlinewidth\":0,\"ticks\":\"\"}},\"type\":\"scatter\"}],\"scatter3d\":[{\"line\":{\"colorbar\":{\"outlinewidth\":0,\"ticks\":\"\"}},\"marker\":{\"colorbar\":{\"outlinewidth\":0,\"ticks\":\"\"}},\"type\":\"scatter3d\"}],\"scattercarpet\":[{\"marker\":{\"colorbar\":{\"outlinewidth\":0,\"ticks\":\"\"}},\"type\":\"scattercarpet\"}],\"scattergeo\":[{\"marker\":{\"colorbar\":{\"outlinewidth\":0,\"ticks\":\"\"}},\"type\":\"scattergeo\"}],\"scattergl\":[{\"marker\":{\"colorbar\":{\"outlinewidth\":0,\"ticks\":\"\"}},\"type\":\"scattergl\"}],\"scattermapbox\":[{\"marker\":{\"colorbar\":{\"outlinewidth\":0,\"ticks\":\"\"}},\"type\":\"scattermapbox\"}],\"scatterpolar\":[{\"marker\":{\"colorbar\":{\"outlinewidth\":0,\"ticks\":\"\"}},\"type\":\"scatterpolar\"}],\"scatterpolargl\":[{\"marker\":{\"colorbar\":{\"outlinewidth\":0,\"ticks\":\"\"}},\"type\":\"scatterpolargl\"}],\"scatterternary\":[{\"marker\":{\"colorbar\":{\"outlinewidth\":0,\"ticks\":\"\"}},\"type\":\"scatterternary\"}],\"surface\":[{\"colorbar\":{\"outlinewidth\":0,\"ticks\":\"\"},\"colorscale\":[[0.0,\"#0d0887\"],[0.1111111111111111,\"#46039f\"],[0.2222222222222222,\"#7201a8\"],[0.3333333333333333,\"#9c179e\"],[0.4444444444444444,\"#bd3786\"],[0.5555555555555556,\"#d8576b\"],[0.6666666666666666,\"#ed7953\"],[0.7777777777777778,\"#fb9f3a\"],[0.8888888888888888,\"#fdca26\"],[1.0,\"#f0f921\"]],\"type\":\"surface\"}],\"table\":[{\"cells\":{\"fill\":{\"color\":\"#EBF0F8\"},\"line\":{\"color\":\"white\"}},\"header\":{\"fill\":{\"color\":\"#C8D4E3\"},\"line\":{\"color\":\"white\"}},\"type\":\"table\"}]},\"layout\":{\"annotationdefaults\":{\"arrowcolor\":\"#2a3f5f\",\"arrowhead\":0,\"arrowwidth\":1},\"autotypenumbers\":\"strict\",\"coloraxis\":{\"colorbar\":{\"outlinewidth\":0,\"ticks\":\"\"}},\"colorscale\":{\"diverging\":[[0,\"#8e0152\"],[0.1,\"#c51b7d\"],[0.2,\"#de77ae\"],[0.3,\"#f1b6da\"],[0.4,\"#fde0ef\"],[0.5,\"#f7f7f7\"],[0.6,\"#e6f5d0\"],[0.7,\"#b8e186\"],[0.8,\"#7fbc41\"],[0.9,\"#4d9221\"],[1,\"#276419\"]],\"sequential\":[[0.0,\"#0d0887\"],[0.1111111111111111,\"#46039f\"],[0.2222222222222222,\"#7201a8\"],[0.3333333333333333,\"#9c179e\"],[0.4444444444444444,\"#bd3786\"],[0.5555555555555556,\"#d8576b\"],[0.6666666666666666,\"#ed7953\"],[0.7777777777777778,\"#fb9f3a\"],[0.8888888888888888,\"#fdca26\"],[1.0,\"#f0f921\"]],\"sequentialminus\":[[0.0,\"#0d0887\"],[0.1111111111111111,\"#46039f\"],[0.2222222222222222,\"#7201a8\"],[0.3333333333333333,\"#9c179e\"],[0.4444444444444444,\"#bd3786\"],[0.5555555555555556,\"#d8576b\"],[0.6666666666666666,\"#ed7953\"],[0.7777777777777778,\"#fb9f3a\"],[0.8888888888888888,\"#fdca26\"],[1.0,\"#f0f921\"]]},\"colorway\":[\"#636efa\",\"#EF553B\",\"#00cc96\",\"#ab63fa\",\"#FFA15A\",\"#19d3f3\",\"#FF6692\",\"#B6E880\",\"#FF97FF\",\"#FECB52\"],\"font\":{\"color\":\"#2a3f5f\"},\"geo\":{\"bgcolor\":\"white\",\"lakecolor\":\"white\",\"landcolor\":\"#E5ECF6\",\"showlakes\":true,\"showland\":true,\"subunitcolor\":\"white\"},\"hoverlabel\":{\"align\":\"left\"},\"hovermode\":\"closest\",\"mapbox\":{\"style\":\"light\"},\"paper_bgcolor\":\"white\",\"plot_bgcolor\":\"#E5ECF6\",\"polar\":{\"angularaxis\":{\"gridcolor\":\"white\",\"linecolor\":\"white\",\"ticks\":\"\"},\"bgcolor\":\"#E5ECF6\",\"radialaxis\":{\"gridcolor\":\"white\",\"linecolor\":\"white\",\"ticks\":\"\"}},\"scene\":{\"xaxis\":{\"backgroundcolor\":\"#E5ECF6\",\"gridcolor\":\"white\",\"gridwidth\":2,\"linecolor\":\"white\",\"showbackground\":true,\"ticks\":\"\",\"zerolinecolor\":\"white\"},\"yaxis\":{\"backgroundcolor\":\"#E5ECF6\",\"gridcolor\":\"white\",\"gridwidth\":2,\"linecolor\":\"white\",\"showbackground\":true,\"ticks\":\"\",\"zerolinecolor\":\"white\"},\"zaxis\":{\"backgroundcolor\":\"#E5ECF6\",\"gridcolor\":\"white\",\"gridwidth\":2,\"linecolor\":\"white\",\"showbackground\":true,\"ticks\":\"\",\"zerolinecolor\":\"white\"}},\"shapedefaults\":{\"line\":{\"color\":\"#2a3f5f\"}},\"ternary\":{\"aaxis\":{\"gridcolor\":\"white\",\"linecolor\":\"white\",\"ticks\":\"\"},\"baxis\":{\"gridcolor\":\"white\",\"linecolor\":\"white\",\"ticks\":\"\"},\"bgcolor\":\"#E5ECF6\",\"caxis\":{\"gridcolor\":\"white\",\"linecolor\":\"white\",\"ticks\":\"\"}},\"title\":{\"x\":0.05},\"xaxis\":{\"automargin\":true,\"gridcolor\":\"white\",\"linecolor\":\"white\",\"ticks\":\"\",\"title\":{\"standoff\":15},\"zerolinecolor\":\"white\",\"zerolinewidth\":2},\"yaxis\":{\"automargin\":true,\"gridcolor\":\"white\",\"linecolor\":\"white\",\"ticks\":\"\",\"title\":{\"standoff\":15},\"zerolinecolor\":\"white\",\"zerolinewidth\":2}}},\"ternary\":{\"aaxis\":{\"title\":{\"text\":\"lNP\"}},\"baxis\":{\"title\":{\"text\":\"iDA\"}},\"caxis\":{\"title\":{\"text\":\"DA\"}},\"domain\":{\"x\":[0.0,1.0],\"y\":[0.0,1.0]}}},                        {\"responsive\": true}                    ).then(function(){\n",
       "                            \n",
       "var gd = document.getElementById('7d717923-8a63-4289-8940-7b86934542a9');\n",
       "var x = new MutationObserver(function (mutations, observer) {{\n",
       "        var display = window.getComputedStyle(gd).display;\n",
       "        if (!display || display === 'none') {{\n",
       "            console.log([gd, 'removed!']);\n",
       "            Plotly.purge(gd);\n",
       "            observer.disconnect();\n",
       "        }}\n",
       "}});\n",
       "\n",
       "// Listen for the removal of the full notebook cells\n",
       "var notebookContainer = gd.closest('#notebook-container');\n",
       "if (notebookContainer) {{\n",
       "    x.observe(notebookContainer, {childList: true});\n",
       "}}\n",
       "\n",
       "// Listen for the clearing of the current output cell\n",
       "var outputEl = gd.closest('.output');\n",
       "if (outputEl) {{\n",
       "    x.observe(outputEl, {childList: true});\n",
       "}}\n",
       "\n",
       "                        })                };                });            </script>        </div>"
      ]
     },
     "metadata": {},
     "output_type": "display_data"
    }
   ],
   "source": [
    "import plotly.express as px\n",
    "fig = px.scatter_ternary(all_df, a='lNP', b='iDA', c='DA', color='cells_detected')\n",
    "fig.show()"
   ]
  },
  {
   "cell_type": "code",
   "execution_count": 80,
   "id": "0677e665",
   "metadata": {},
   "outputs": [
    {
     "data": {
      "text/plain": [
       "CHURC1:rs3033504         3\n",
       "RPS26:rs1131017          3\n",
       "lnc-CTSV-5:rs10817286    3\n",
       "DNAJC15:rs17553284       3\n",
       "CRYBB2P1:rs1930961       3\n",
       "Name: cispair, dtype: int64"
      ]
     },
     "execution_count": 80,
     "metadata": {},
     "output_type": "execute_result"
    }
   ],
   "source": [
    "present_all = sig_tops_df['cispair'].value_counts()\n",
    "present_all = present_all[present_all == 3]\n",
    "present_all"
   ]
  },
  {
   "cell_type": "code",
   "execution_count": 82,
   "id": "ce1162b4",
   "metadata": {},
   "outputs": [
    {
     "name": "stdout",
     "output_type": "stream",
     "text": [
      "(15, 19)\n"
     ]
    },
    {
     "data": {
      "text/html": [
       "<div>\n",
       "<style scoped>\n",
       "    .dataframe tbody tr th:only-of-type {\n",
       "        vertical-align: middle;\n",
       "    }\n",
       "\n",
       "    .dataframe tbody tr th {\n",
       "        vertical-align: top;\n",
       "    }\n",
       "\n",
       "    .dataframe thead th {\n",
       "        text-align: right;\n",
       "    }\n",
       "</style>\n",
       "<table border=\"1\" class=\"dataframe\">\n",
       "  <thead>\n",
       "    <tr style=\"text-align: right;\">\n",
       "      <th></th>\n",
       "      <th>phenotype_id</th>\n",
       "      <th>num_var</th>\n",
       "      <th>beta_shape1</th>\n",
       "      <th>beta_shape2</th>\n",
       "      <th>true_df</th>\n",
       "      <th>pval_true_df</th>\n",
       "      <th>variant_id</th>\n",
       "      <th>tss_distance</th>\n",
       "      <th>ma_samples</th>\n",
       "      <th>ma_count</th>\n",
       "      <th>af</th>\n",
       "      <th>pval_nominal</th>\n",
       "      <th>slope</th>\n",
       "      <th>slope_se</th>\n",
       "      <th>pval_perm</th>\n",
       "      <th>pval_beta</th>\n",
       "      <th>bh_fdr</th>\n",
       "      <th>cell_type</th>\n",
       "      <th>cispair</th>\n",
       "    </tr>\n",
       "  </thead>\n",
       "  <tbody>\n",
       "    <tr>\n",
       "      <th>1717</th>\n",
       "      <td>DNAJC15</td>\n",
       "      <td>6622</td>\n",
       "      <td>1.818367</td>\n",
       "      <td>737.479900</td>\n",
       "      <td>42.765396</td>\n",
       "      <td>1.116823e-10</td>\n",
       "      <td>rs17553284</td>\n",
       "      <td>367</td>\n",
       "      <td>28</td>\n",
       "      <td>31</td>\n",
       "      <td>0.196203</td>\n",
       "      <td>4.106490e-18</td>\n",
       "      <td>-0.175959</td>\n",
       "      <td>0.015501</td>\n",
       "      <td>0.0001</td>\n",
       "      <td>7.718067e-14</td>\n",
       "      <td>2.602275e-10</td>\n",
       "      <td>iDA</td>\n",
       "      <td>DNAJC15:rs17553284</td>\n",
       "    </tr>\n",
       "    <tr>\n",
       "      <th>3359</th>\n",
       "      <td>lnc-CTSV-5</td>\n",
       "      <td>4646</td>\n",
       "      <td>1.635512</td>\n",
       "      <td>184.315250</td>\n",
       "      <td>34.630554</td>\n",
       "      <td>1.907975e-08</td>\n",
       "      <td>rs10817286</td>\n",
       "      <td>87</td>\n",
       "      <td>60</td>\n",
       "      <td>73</td>\n",
       "      <td>0.462025</td>\n",
       "      <td>4.061259e-17</td>\n",
       "      <td>-0.149698</td>\n",
       "      <td>0.013837</td>\n",
       "      <td>0.0001</td>\n",
       "      <td>8.211513e-10</td>\n",
       "      <td>9.228828e-07</td>\n",
       "      <td>iDA</td>\n",
       "      <td>lnc-CTSV-5:rs10817286</td>\n",
       "    </tr>\n",
       "    <tr>\n",
       "      <th>3700</th>\n",
       "      <td>RPS26</td>\n",
       "      <td>4489</td>\n",
       "      <td>1.767290</td>\n",
       "      <td>247.783600</td>\n",
       "      <td>34.680607</td>\n",
       "      <td>5.499207e-08</td>\n",
       "      <td>rs1131017</td>\n",
       "      <td>794</td>\n",
       "      <td>51</td>\n",
       "      <td>66</td>\n",
       "      <td>0.417722</td>\n",
       "      <td>4.389865e-16</td>\n",
       "      <td>0.128515</td>\n",
       "      <td>0.012511</td>\n",
       "      <td>0.0001</td>\n",
       "      <td>1.547566e-09</td>\n",
       "      <td>1.488816e-06</td>\n",
       "      <td>iDA</td>\n",
       "      <td>RPS26:rs1131017</td>\n",
       "    </tr>\n",
       "    <tr>\n",
       "      <th>4219</th>\n",
       "      <td>CRYBB2P1</td>\n",
       "      <td>6043</td>\n",
       "      <td>2.106349</td>\n",
       "      <td>2614.930700</td>\n",
       "      <td>52.633526</td>\n",
       "      <td>4.905569e-08</td>\n",
       "      <td>rs1930961</td>\n",
       "      <td>31193</td>\n",
       "      <td>10</td>\n",
       "      <td>11</td>\n",
       "      <td>0.069620</td>\n",
       "      <td>3.921065e-11</td>\n",
       "      <td>0.223359</td>\n",
       "      <td>0.029026</td>\n",
       "      <td>0.0001</td>\n",
       "      <td>2.870463e-09</td>\n",
       "      <td>2.419561e-06</td>\n",
       "      <td>iDA</td>\n",
       "      <td>CRYBB2P1:rs1930961</td>\n",
       "    </tr>\n",
       "    <tr>\n",
       "      <th>4373</th>\n",
       "      <td>CHURC1</td>\n",
       "      <td>6151</td>\n",
       "      <td>1.307624</td>\n",
       "      <td>116.046524</td>\n",
       "      <td>35.364532</td>\n",
       "      <td>7.329501e-07</td>\n",
       "      <td>rs3033504</td>\n",
       "      <td>11463</td>\n",
       "      <td>36</td>\n",
       "      <td>41</td>\n",
       "      <td>0.259494</td>\n",
       "      <td>2.234001e-13</td>\n",
       "      <td>0.165595</td>\n",
       "      <td>0.018690</td>\n",
       "      <td>0.0001</td>\n",
       "      <td>4.067781e-06</td>\n",
       "      <td>1.645824e-03</td>\n",
       "      <td>iDA</td>\n",
       "      <td>CHURC1:rs3033504</td>\n",
       "    </tr>\n",
       "  </tbody>\n",
       "</table>\n",
       "</div>"
      ],
      "text/plain": [
       "     phenotype_id  num_var  beta_shape1  beta_shape2    true_df  pval_true_df  \\\n",
       "1717      DNAJC15     6622     1.818367   737.479900  42.765396  1.116823e-10   \n",
       "3359   lnc-CTSV-5     4646     1.635512   184.315250  34.630554  1.907975e-08   \n",
       "3700        RPS26     4489     1.767290   247.783600  34.680607  5.499207e-08   \n",
       "4219     CRYBB2P1     6043     2.106349  2614.930700  52.633526  4.905569e-08   \n",
       "4373       CHURC1     6151     1.307624   116.046524  35.364532  7.329501e-07   \n",
       "\n",
       "      variant_id  tss_distance  ma_samples  ma_count        af  pval_nominal  \\\n",
       "1717  rs17553284           367          28        31  0.196203  4.106490e-18   \n",
       "3359  rs10817286            87          60        73  0.462025  4.061259e-17   \n",
       "3700   rs1131017           794          51        66  0.417722  4.389865e-16   \n",
       "4219   rs1930961         31193          10        11  0.069620  3.921065e-11   \n",
       "4373   rs3033504         11463          36        41  0.259494  2.234001e-13   \n",
       "\n",
       "         slope  slope_se  pval_perm     pval_beta        bh_fdr cell_type  \\\n",
       "1717 -0.175959  0.015501     0.0001  7.718067e-14  2.602275e-10       iDA   \n",
       "3359 -0.149698  0.013837     0.0001  8.211513e-10  9.228828e-07       iDA   \n",
       "3700  0.128515  0.012511     0.0001  1.547566e-09  1.488816e-06       iDA   \n",
       "4219  0.223359  0.029026     0.0001  2.870463e-09  2.419561e-06       iDA   \n",
       "4373  0.165595  0.018690     0.0001  4.067781e-06  1.645824e-03       iDA   \n",
       "\n",
       "                    cispair  \n",
       "1717     DNAJC15:rs17553284  \n",
       "3359  lnc-CTSV-5:rs10817286  \n",
       "3700        RPS26:rs1131017  \n",
       "4219     CRYBB2P1:rs1930961  \n",
       "4373       CHURC1:rs3033504  "
      ]
     },
     "metadata": {},
     "output_type": "display_data"
    }
   ],
   "source": [
    "tops_present_all = sig_tops_df.loc[sig_tops_df['cispair'].isin(present_all.index)]\n",
    "print(tops_present_all.shape)\n",
    "display(tops_present_all.head())"
   ]
  },
  {
   "cell_type": "markdown",
   "id": "bba891f1",
   "metadata": {},
   "source": [
    "#### get those that are only DA"
   ]
  },
  {
   "cell_type": "code",
   "execution_count": 84,
   "id": "102ee031",
   "metadata": {},
   "outputs": [
    {
     "name": "stdout",
     "output_type": "stream",
     "text": [
      "22\n",
      "{'TMEM50B', 'PTPRD-AS1', 'FAM184B', 'lnc-CDC27-1', 'PPIL2', 'AC007751.2', 'FAM227A', 'COMMD10', 'SIGIRR', 'CERK', 'lnc-IDI1-2', 'FRA10AC1', 'lnc-SCRN3-1', 'TIMM23B', 'MYOM2', 'CCDC25', 'lnc-TUBGCP6-5', 'lnc-SNX10-2', 'PHOSPHO2', 'SRR', 'lnc-TUBB2A-7', 'POMZP3'}\n"
     ]
    }
   ],
   "source": [
    "da_only_genes = set(DA.loc[DA['is_sig'] == 1]['phenotype_id'].unique()) - \\\n",
    "                     (set(iDA.loc[iDA['is_sig'] == 1]['phenotype_id'].unique()) | \n",
    "                      set(lNP.loc[lNP['is_sig'] == 1]['phenotype_id'].unique()))\n",
    "print(len(da_only_genes))\n",
    "print(da_only_genes)"
   ]
  },
  {
   "cell_type": "markdown",
   "id": "2c929027",
   "metadata": {},
   "source": [
    "#### get those that are only iDA"
   ]
  },
  {
   "cell_type": "code",
   "execution_count": 85,
   "id": "4be89b98",
   "metadata": {},
   "outputs": [
    {
     "name": "stdout",
     "output_type": "stream",
     "text": [
      "10\n",
      "{'TTC32', 'RPH3AL', 'TRAPPC2L', 'ZG16B', 'lnc-MEX3B-4', 'MPC1', 'ENTPD4', 'lnc-UNCX-3', 'lnc-HMX1-5', 'C17orf97'}\n"
     ]
    }
   ],
   "source": [
    "da_only_genes = set(iDA.loc[iDA['is_sig'] == 1]['phenotype_id'].unique()) - \\\n",
    "                     (set(DA.loc[DA['is_sig'] == 1]['phenotype_id'].unique()) | \n",
    "                      set(lNP.loc[lNP['is_sig'] == 1]['phenotype_id'].unique()))\n",
    "print(len(da_only_genes))\n",
    "print(da_only_genes)"
   ]
  },
  {
   "cell_type": "markdown",
   "id": "c97bdd46",
   "metadata": {},
   "source": [
    "#### get those that are only lNP"
   ]
  },
  {
   "cell_type": "code",
   "execution_count": 86,
   "id": "240846ed",
   "metadata": {},
   "outputs": [
    {
     "name": "stdout",
     "output_type": "stream",
     "text": [
      "24\n",
      "{'NDUFV3', 'CCDC32', 'NPRL3', 'ATP23', 'LINC02482', 'lnc-TOX4-4', 'MFSD4B', 'DECR2', 'BTN2A2', 'TMEM38B', 'lnc-CCDC28A-1', 'FAHD1', 'ARSA', 'lnc-CUL2-3', 'lnc-TNK2-2', 'ZNF584', 'FMN2', 'PIGP', 'MICA', 'SPATA20', 'NDUFAF1', 'TIMM10', 'EP400P1', 'MRPL42'}\n"
     ]
    }
   ],
   "source": [
    "da_only_genes = set(lNP.loc[lNP['is_sig'] == 1]['phenotype_id'].unique()) - \\\n",
    "                     (set(iDA.loc[iDA['is_sig'] == 1]['phenotype_id'].unique()) | \n",
    "                      set(DA.loc[DA['is_sig'] == 1]['phenotype_id'].unique()))\n",
    "print(len(da_only_genes))\n",
    "print(da_only_genes)"
   ]
  },
  {
   "cell_type": "code",
   "execution_count": null,
   "id": "78f53775",
   "metadata": {},
   "outputs": [],
   "source": []
  }
 ],
 "metadata": {
  "environment": {
   "name": "pytorch-gpu.1-9.m75",
   "type": "gcloud",
   "uri": "gcr.io/deeplearning-platform-release/pytorch-gpu.1-9:m75"
  },
  "kernelspec": {
   "display_name": "Python 3",
   "language": "python",
   "name": "python3"
  },
  "language_info": {
   "codemirror_mode": {
    "name": "ipython",
    "version": 3
   },
   "file_extension": ".py",
   "mimetype": "text/x-python",
   "name": "python",
   "nbconvert_exporter": "python",
   "pygments_lexer": "ipython3",
   "version": "3.7.10"
  },
  "widgets": {
   "application/vnd.jupyter.widget-state+json": {
    "state": {},
    "version_major": 2,
    "version_minor": 0
   }
  }
 },
 "nbformat": 4,
 "nbformat_minor": 5
}
