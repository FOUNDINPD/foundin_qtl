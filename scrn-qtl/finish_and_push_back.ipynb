{
 "cells": [
  {
   "cell_type": "markdown",
   "metadata": {},
   "source": [
    "## Notebook to do any finishing up and push back output to GCS"
   ]
  },
  {
   "cell_type": "code",
   "execution_count": 1,
   "metadata": {},
   "outputs": [
    {
     "name": "stdout",
     "output_type": "stream",
     "text": [
      "Thu Aug  5 04:33:47 UTC 2021\n"
     ]
    }
   ],
   "source": [
    "!date"
   ]
  },
  {
   "cell_type": "code",
   "execution_count": 8,
   "metadata": {},
   "outputs": [],
   "source": [
    "# parameter variables\n",
    "cohort = 'foundin'\n",
    "quant_type = 'scrn'\n",
    "\n",
    "# directories for initial setup\n",
    "wrk_dir = f'/home/jupyter/sceqtl'\n",
    "quants_dir = f'{wrk_dir}/quants'\n",
    "genos_dir = f'{wrk_dir}/genotypes'\n",
    "info_dir = f'{wrk_dir}/sample_info'\n",
    "# plink_glm_dir = f'{wrk_dir}/plink/glm'\n",
    "tensorqtl_dir = f'{wrk_dir}/tensorqtl'\n",
    "results_dir = f'{wrk_dir}/results'\n",
    "nbs_dir = '/home/jupyter/notebooks'\n",
    "pm_nbs_dir = '/home/jupyter/notebooks/pm_gend_nbs'\n",
    "\n",
    "# output files to push back\n",
    "quant_bed_files = f'{quants_dir}/{cohort}.*.scaled.adj.bed.gz'\n",
    "assay_covs_files = f'{info_dir}/{cohort}_{quant_type}_sample_info.csv'\n",
    "used_samples_list_file = f'{info_dir}/{cohort}.*.sceqtl.samples'\n",
    "\n",
    "# bucket paths\n",
    "data_bucket = 'gs://foundin-processed-assay'\n",
    "qtl_bucket_path = f'{data_bucket}/analysis/sceqtl'\n",
    "quant_bucket_path = f'{qtl_bucket_path}/quants'\n",
    "genos_bucket_path = f'{qtl_bucket_path}/genotypes'\n",
    "info_bucket_path = f'{qtl_bucket_path}/sample_info'\n",
    "results_bucket_path = f'{qtl_bucket_path}/results'\n",
    "tensorqtl_bucket_path = f'{qtl_bucket_path}/tensorqtl'\n",
    "nbs_bucket_path = f'{qtl_bucket_path}/notebooks'\n",
    "pm_nbs_bucket_path = f'{nbs_bucket_path}/pm_gend_nbs'"
   ]
  },
  {
   "cell_type": "markdown",
   "metadata": {},
   "source": [
    "#### push the generate (keep) files back to GCS"
   ]
  },
  {
   "cell_type": "code",
   "execution_count": 7,
   "metadata": {},
   "outputs": [
    {
     "name": "stdout",
     "output_type": "stream",
     "text": [
      "gsutil -mq cp -P /home/jupyter/sceqtl/quants/* gs://foundin-processed-assay/analysis/sceqtl/quants/\n",
      "gsutil -mq cp -P /home/jupyter/sceqtl/genotypes/* gs://foundin-processed-assay/analysis/sceqtl/genotypes/\n",
      "gsutil -mq cp -P /home/jupyter/sceqtl/sample_info/foundin_scrn_sample_info.csv gs://foundin-processed-assay/analysis/sceqtl/sample_info/\n",
      "gsutil -mq cp -P /home/jupyter/sceqtl/sample_info/foundin.*.caqtl.samples gs://foundin-processed-assay/analysis/sceqtl/sample_info/\n",
      "CommandException: No URLs matched: /home/jupyter/sceqtl/sample_info/foundin.*.caqtl.samples\n",
      "CommandException: 1 file/object could not be transferred.\n",
      "gsutil -mq cp -P /home/jupyter/sceqtl/tensorqtl/* gs://foundin-processed-assay/analysis/sceqtl/tensorqtl/\n",
      "gsutil -mq cp -P /home/jupyter/sceqtl/results/* gs://foundin-processed-assay/analysis/sceqtl/results/\n"
     ]
    }
   ],
   "source": [
    "# quants files\n",
    "this_cmd = f'gsutil -mq cp -P {quants_dir}/* {quant_bucket_path}/'\n",
    "print(this_cmd)\n",
    "!{this_cmd}\n",
    "\n",
    "# genotype files\n",
    "this_cmd = f'gsutil -mq cp -P {genos_dir}/* {genos_bucket_path}/'\n",
    "print(this_cmd)\n",
    "!{this_cmd}\n",
    "\n",
    "# info files\n",
    "this_cmd = f'gsutil -mq cp -P {assay_covs_files} {info_bucket_path}/'\n",
    "print(this_cmd)\n",
    "!{this_cmd}\n",
    "this_cmd = f'gsutil -mq cp -P {used_samples_list_file} {info_bucket_path}/'\n",
    "print(this_cmd)\n",
    "!{this_cmd}\n",
    "\n",
    "# results files\n",
    "this_cmd = f'gsutil -mq cp -P {tensorqtl_dir}/* {tensorqtl_bucket_path}/'\n",
    "print(this_cmd)\n",
    "!{this_cmd}\n",
    "this_cmd = f'gsutil -mq cp -P {results_dir}/* {results_bucket_path}/'\n",
    "print(this_cmd)\n",
    "!{this_cmd}"
   ]
  },
  {
   "cell_type": "markdown",
   "metadata": {},
   "source": [
    "#### push all the original and generated notebooks back"
   ]
  },
  {
   "cell_type": "code",
   "execution_count": 9,
   "metadata": {},
   "outputs": [
    {
     "name": "stdout",
     "output_type": "stream",
     "text": [
      "gsutil -mq cp -P /home/jupyter/notebooks/*.ipynb gs://foundin-processed-assay/analysis/sceqtl/notebooks/\n",
      "gsutil -mq cp -P /home/jupyter/notebooks/*.md gs://foundin-processed-assay/analysis/sceqtl/notebooks/\n",
      "gsutil -mq cp -P /home/jupyter/notebooks/pm_gend_nbs/*.ipynb gs://foundin-processed-assay/analysis/sceqtl/notebooks/pm_gend_nbs/\n"
     ]
    }
   ],
   "source": [
    "this_cmd = f'gsutil -mq cp -P {nbs_dir}/*.ipynb {nbs_bucket_path}/'\n",
    "print(this_cmd)\n",
    "!{this_cmd}\n",
    "this_cmd = f'gsutil -mq cp -P {nbs_dir}/*.md {nbs_bucket_path}/'\n",
    "print(this_cmd)\n",
    "!{this_cmd}\n",
    "\n",
    "this_cmd = f'gsutil -mq cp -P {pm_nbs_dir}/*.ipynb {pm_nbs_bucket_path}/'\n",
    "print(this_cmd)\n",
    "!{this_cmd}"
   ]
  },
  {
   "cell_type": "code",
   "execution_count": null,
   "metadata": {},
   "outputs": [],
   "source": []
  }
 ],
 "metadata": {
  "environment": {
   "name": "pytorch-gpu.1-9.m75",
   "type": "gcloud",
   "uri": "gcr.io/deeplearning-platform-release/pytorch-gpu.1-9:m75"
  },
  "kernelspec": {
   "display_name": "Python 3",
   "language": "python",
   "name": "python3"
  },
  "language_info": {
   "codemirror_mode": {
    "name": "ipython",
    "version": 3
   },
   "file_extension": ".py",
   "mimetype": "text/x-python",
   "name": "python",
   "nbconvert_exporter": "python",
   "pygments_lexer": "ipython3",
   "version": "3.7.10"
  },
  "widgets": {
   "application/vnd.jupyter.widget-state+json": {
    "state": {},
    "version_major": 2,
    "version_minor": 0
   }
  }
 },
 "nbformat": 4,
 "nbformat_minor": 4
}
