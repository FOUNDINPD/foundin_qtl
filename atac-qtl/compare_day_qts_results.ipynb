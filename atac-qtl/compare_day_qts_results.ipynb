{
 "cells": [
  {
   "cell_type": "markdown",
   "id": "7fb74f70",
   "metadata": {},
   "source": [
    "#### Notebook to compare the significant QTS singals by day"
   ]
  },
  {
   "cell_type": "code",
   "execution_count": 1,
   "id": "f6562513",
   "metadata": {},
   "outputs": [
    {
     "name": "stdout",
     "output_type": "stream",
     "text": [
      "Wed Aug 18 17:04:23 EDT 2021\n"
     ]
    }
   ],
   "source": [
    "!date"
   ]
  },
  {
   "cell_type": "code",
   "execution_count": 2,
   "id": "4c44266a",
   "metadata": {},
   "outputs": [],
   "source": [
    "import pandas as pd"
   ]
  },
  {
   "cell_type": "code",
   "execution_count": 3,
   "id": "582e861b",
   "metadata": {
    "tags": [
     "parameters"
    ]
   },
   "outputs": [],
   "source": [
    "# parameters\n",
    "cohort = 'foundin'\n",
    "days = ['da0', 'da25', 'da65']"
   ]
  },
  {
   "cell_type": "code",
   "execution_count": 4,
   "id": "39a0fd23",
   "metadata": {},
   "outputs": [],
   "source": [
    "# naming\n",
    "\n",
    "# directories\n",
    "home_dir = '/home/gibbsr'\n",
    "wrk_dir = f'{home_dir}/{cohort}/caqtl'\n",
    "qts_dir = f'{wrk_dir}/qts'\n",
    "\n",
    "# input files\n",
    "\n",
    "# out files\n",
    "results_file = f'{qts_dir}/{cohort}.qts.csv'\n",
    "\n",
    "# constants"
   ]
  },
  {
   "cell_type": "markdown",
   "id": "959a402c",
   "metadata": {},
   "source": [
    "#### load the results"
   ]
  },
  {
   "cell_type": "code",
   "execution_count": 5,
   "id": "8a263068",
   "metadata": {},
   "outputs": [
    {
     "name": "stdout",
     "output_type": "stream",
     "text": [
      "day da0 shape is (201560, 7) for 201560 features\n",
      "after day da0 total shape (201560, 8)\n",
      "day da25 shape is (201531, 7) for 201531 features\n",
      "after day da25 total shape (403091, 8)\n",
      "day da65 shape is (201264, 7) for 201264 features\n",
      "after day da65 total shape (604355, 8)\n"
     ]
    }
   ],
   "source": [
    "qts_df = None\n",
    "for day in days:\n",
    "    cohort_set = f'{cohort}.{day}'\n",
    "    qts_file = f'{qts_dir}/{cohort_set}.qts.csv'\n",
    "    this_df = pd.read_csv(qts_file)\n",
    "    feature_cnt = len(this_df['Geneid'].unique())\n",
    "    print(f'day {day} shape is {this_df.shape} for {feature_cnt} features')\n",
    "    this_df['day'] = day\n",
    "    qts_df = pd.concat([qts_df, this_df])\n",
    "    print(f'after day {day} total shape {qts_df.shape}')"
   ]
  },
  {
   "cell_type": "code",
   "execution_count": 6,
   "id": "80b128be",
   "metadata": {},
   "outputs": [
    {
     "name": "stdout",
     "output_type": "stream",
     "text": [
      "(604355, 8)\n"
     ]
    },
    {
     "data": {
      "text/html": [
       "<div>\n",
       "<style scoped>\n",
       "    .dataframe tbody tr th:only-of-type {\n",
       "        vertical-align: middle;\n",
       "    }\n",
       "\n",
       "    .dataframe tbody tr th {\n",
       "        vertical-align: top;\n",
       "    }\n",
       "\n",
       "    .dataframe thead th {\n",
       "        text-align: right;\n",
       "    }\n",
       "</style>\n",
       "<table border=\"1\" class=\"dataframe\">\n",
       "  <thead>\n",
       "    <tr style=\"text-align: right;\">\n",
       "      <th></th>\n",
       "      <th>Geneid</th>\n",
       "      <th>coef</th>\n",
       "      <th>stderr</th>\n",
       "      <th>r2_adj</th>\n",
       "      <th>term_cnt</th>\n",
       "      <th>p-value</th>\n",
       "      <th>bh_fdr</th>\n",
       "      <th>day</th>\n",
       "    </tr>\n",
       "  </thead>\n",
       "  <tbody>\n",
       "    <tr>\n",
       "      <th>198591</th>\n",
       "      <td>chr18_3702793_3705219</td>\n",
       "      <td>-0.009413</td>\n",
       "      <td>0.050246</td>\n",
       "      <td>-0.010837</td>\n",
       "      <td>2.0</td>\n",
       "      <td>0.851816</td>\n",
       "      <td>0.970229</td>\n",
       "      <td>da65</td>\n",
       "    </tr>\n",
       "    <tr>\n",
       "      <th>78044</th>\n",
       "      <td>chr4_8624160_8628514</td>\n",
       "      <td>-0.033880</td>\n",
       "      <td>0.065396</td>\n",
       "      <td>-0.008196</td>\n",
       "      <td>2.0</td>\n",
       "      <td>0.605695</td>\n",
       "      <td>0.904797</td>\n",
       "      <td>da65</td>\n",
       "    </tr>\n",
       "    <tr>\n",
       "      <th>107286</th>\n",
       "      <td>chr1_81138763_81139383</td>\n",
       "      <td>0.029437</td>\n",
       "      <td>0.057886</td>\n",
       "      <td>-0.008306</td>\n",
       "      <td>2.0</td>\n",
       "      <td>0.612343</td>\n",
       "      <td>0.907001</td>\n",
       "      <td>da65</td>\n",
       "    </tr>\n",
       "    <tr>\n",
       "      <th>85740</th>\n",
       "      <td>chr17_76584542_76587351</td>\n",
       "      <td>-0.077863</td>\n",
       "      <td>0.064779</td>\n",
       "      <td>0.004660</td>\n",
       "      <td>2.0</td>\n",
       "      <td>0.232392</td>\n",
       "      <td>0.995827</td>\n",
       "      <td>da0</td>\n",
       "    </tr>\n",
       "    <tr>\n",
       "      <th>127290</th>\n",
       "      <td>chr6_131255920_131256370</td>\n",
       "      <td>0.029866</td>\n",
       "      <td>0.071883</td>\n",
       "      <td>-0.008976</td>\n",
       "      <td>2.0</td>\n",
       "      <td>0.678758</td>\n",
       "      <td>0.999971</td>\n",
       "      <td>da25</td>\n",
       "    </tr>\n",
       "  </tbody>\n",
       "</table>\n",
       "</div>"
      ],
      "text/plain": [
       "                          Geneid      coef    stderr    r2_adj  term_cnt  \\\n",
       "198591     chr18_3702793_3705219 -0.009413  0.050246 -0.010837       2.0   \n",
       "78044       chr4_8624160_8628514 -0.033880  0.065396 -0.008196       2.0   \n",
       "107286    chr1_81138763_81139383  0.029437  0.057886 -0.008306       2.0   \n",
       "85740    chr17_76584542_76587351 -0.077863  0.064779  0.004660       2.0   \n",
       "127290  chr6_131255920_131256370  0.029866  0.071883 -0.008976       2.0   \n",
       "\n",
       "         p-value    bh_fdr   day  \n",
       "198591  0.851816  0.970229  da65  \n",
       "78044   0.605695  0.904797  da65  \n",
       "107286  0.612343  0.907001  da65  \n",
       "85740   0.232392  0.995827   da0  \n",
       "127290  0.678758  0.999971  da25  "
      ]
     },
     "metadata": {},
     "output_type": "display_data"
    }
   ],
   "source": [
    "print(qts_df.shape)\n",
    "display(qts_df.sample(5))"
   ]
  },
  {
   "cell_type": "code",
   "execution_count": 7,
   "id": "a7d379b1",
   "metadata": {},
   "outputs": [
    {
     "data": {
      "text/plain": [
       "3    201097\n",
       "2       472\n",
       "1       120\n",
       "Name: Geneid, dtype: int64"
      ]
     },
     "execution_count": 7,
     "metadata": {},
     "output_type": "execute_result"
    }
   ],
   "source": [
    "qts_df['Geneid'].value_counts().value_counts()"
   ]
  },
  {
   "cell_type": "markdown",
   "id": "4cba899a",
   "metadata": {},
   "source": [
    "#### subset to significant based on FDR"
   ]
  },
  {
   "cell_type": "code",
   "execution_count": 8,
   "id": "17e8af09",
   "metadata": {},
   "outputs": [
    {
     "name": "stdout",
     "output_type": "stream",
     "text": [
      "(0, 8)\n"
     ]
    }
   ],
   "source": [
    "sig_df = qts_df.loc[qts_df['bh_fdr'] < 0.05]\n",
    "print(sig_df.shape)\n",
    "if sig_df.shape[0] > 5:\n",
    "    display(sig_df.sample(5))"
   ]
  },
  {
   "cell_type": "code",
   "execution_count": 9,
   "id": "e3a7cb07",
   "metadata": {},
   "outputs": [
    {
     "data": {
      "text/plain": [
       "Series([], Name: day, dtype: int64)"
      ]
     },
     "execution_count": 9,
     "metadata": {},
     "output_type": "execute_result"
    }
   ],
   "source": [
    "sig_df['day'].value_counts()"
   ]
  },
  {
   "cell_type": "code",
   "execution_count": 10,
   "id": "7ea3969b",
   "metadata": {},
   "outputs": [
    {
     "data": {
      "text/plain": [
       "Series([], Name: Geneid, dtype: int64)"
      ]
     },
     "execution_count": 10,
     "metadata": {},
     "output_type": "execute_result"
    }
   ],
   "source": [
    "sig_df['Geneid'].value_counts().value_counts()"
   ]
  },
  {
   "cell_type": "code",
   "execution_count": 11,
   "id": "992c5537",
   "metadata": {},
   "outputs": [
    {
     "data": {
      "text/plain": [
       "Series([], Name: Geneid, dtype: int64)"
      ]
     },
     "execution_count": 11,
     "metadata": {},
     "output_type": "execute_result"
    }
   ],
   "source": [
    "sig_df['Geneid'].value_counts().head()"
   ]
  },
  {
   "cell_type": "code",
   "execution_count": 12,
   "id": "a1648a54",
   "metadata": {},
   "outputs": [
    {
     "data": {
      "text/plain": [
       "Series([], Name: day, dtype: int64)"
      ]
     },
     "execution_count": 12,
     "metadata": {},
     "output_type": "execute_result"
    }
   ],
   "source": [
    "sig_df['day'].value_counts()"
   ]
  },
  {
   "cell_type": "markdown",
   "id": "b987dea1",
   "metadata": {},
   "source": [
    "#### save the combined significant QTS results"
   ]
  },
  {
   "cell_type": "code",
   "execution_count": 13,
   "id": "fff518d9",
   "metadata": {},
   "outputs": [],
   "source": [
    "sig_df.to_csv(results_file, index=False)"
   ]
  },
  {
   "cell_type": "code",
   "execution_count": null,
   "id": "4ab15c56",
   "metadata": {},
   "outputs": [],
   "source": []
  }
 ],
 "metadata": {
  "environment": {
   "name": "pytorch-gpu.1-8.m65",
   "type": "gcloud",
   "uri": "gcr.io/deeplearning-platform-release/pytorch-gpu.1-8:m65"
  },
  "kernelspec": {
   "display_name": "Python 3",
   "language": "python",
   "name": "python3"
  },
  "language_info": {
   "codemirror_mode": {
    "name": "ipython",
    "version": 3
   },
   "file_extension": ".py",
   "mimetype": "text/x-python",
   "name": "python",
   "nbconvert_exporter": "python",
   "pygments_lexer": "ipython3",
   "version": "3.8.10"
  },
  "widgets": {
   "application/vnd.jupyter.widget-state+json": {
    "state": {},
    "version_major": 2,
    "version_minor": 0
   }
  }
 },
 "nbformat": 4,
 "nbformat_minor": 5
}
