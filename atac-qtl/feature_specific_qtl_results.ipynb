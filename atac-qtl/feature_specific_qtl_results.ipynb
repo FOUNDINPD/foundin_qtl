{
 "cells": [
  {
   "cell_type": "markdown",
   "metadata": {},
   "source": [
    "## Notebook for plotting feature specific feature QTL results"
   ]
  },
  {
   "cell_type": "code",
   "execution_count": null,
   "metadata": {},
   "outputs": [],
   "source": [
    "!date"
   ]
  },
  {
   "cell_type": "markdown",
   "metadata": {},
   "source": [
    "#### import libraries and set notebook variables"
   ]
  },
  {
   "cell_type": "code",
   "execution_count": null,
   "metadata": {},
   "outputs": [],
   "source": [
    "import pandas as pd\n",
    "import dask.dataframe as dd\n",
    "import numpy as np\n",
    "import seaborn as sns\n",
    "import matplotlib.pyplot as plt\n",
    "import statsmodels.api as sm\n",
    "import statsmodels.formula.api as smf"
   ]
  },
  {
   "cell_type": "code",
   "execution_count": null,
   "metadata": {
    "tags": [
     "parameters"
    ]
   },
   "outputs": [],
   "source": [
    "# parameters\n",
    "cohort = 'foundin'\n",
    "feature = 'chr1_205849678_205850531'"
   ]
  },
  {
   "cell_type": "code",
   "execution_count": null,
   "metadata": {},
   "outputs": [],
   "source": [
    "# naming\n",
    "# cohort_build = f'{cohort}.{day}'\n",
    "geno_version = 'amppdv1'\n",
    "cohort_version = f'{cohort}.{geno_version}'\n",
    "\n",
    "# directories\n",
    "home_dir = '/home/gibbsr'\n",
    "wrk_dir = f'{home_dir}/{cohort}/caqtl'\n",
    "quants_dir = f'{wrk_dir}/quants'\n",
    "genos_dir = f'{wrk_dir}/genotypes'\n",
    "tensorqtl_dir = f'{wrk_dir}/tensorqtl'\n",
    "gwas_dir = f'{wrk_dir}/public'\n",
    "\n",
    "# input files\n",
    "features_file = f'{quants_dir}/{cohort}_consensus_peaks.saf'\n",
    "meta5_stats_file = f'{gwas_dir}/pdmeta_sumstats_hg38.h5'\n",
    "\n",
    "# output files\n",
    "\n",
    "# constant values\n",
    "alpha_value = 0.05\n",
    "days = ['da0', 'da25', 'da65']"
   ]
  },
  {
   "cell_type": "markdown",
   "metadata": {},
   "source": [
    "#### analysis functions"
   ]
  },
  {
   "cell_type": "code",
   "execution_count": null,
   "metadata": {},
   "outputs": [],
   "source": [
    "def mixed_model(formula, df, group_name):\n",
    "    model = sm.MixedLM.from_formula(formula, df, groups=df[group_name])\n",
    "    result = model.fit()\n",
    "    return result"
   ]
  },
  {
   "cell_type": "markdown",
   "metadata": {},
   "source": [
    "#### load the gencode annotations"
   ]
  },
  {
   "cell_type": "code",
   "execution_count": null,
   "metadata": {},
   "outputs": [],
   "source": [
    "%%time\n",
    "features_df = pd.read_csv(features_file, sep='\\t')\n",
    "print(features_df.shape)\n",
    "display(features_df.head())"
   ]
  },
  {
   "cell_type": "markdown",
   "metadata": {},
   "source": [
    "#### load the full gwas summary stats"
   ]
  },
  {
   "cell_type": "code",
   "execution_count": null,
   "metadata": {},
   "outputs": [],
   "source": [
    "%%time\n",
    "gwas_stats_df = pd.read_hdf(meta5_stats_file)\n",
    "print(gwas_stats_df.shape)\n",
    "display(gwas_stats_df.head())"
   ]
  },
  {
   "cell_type": "markdown",
   "metadata": {},
   "source": [
    "#### load the cis-QTL results by day for the specified feature"
   ]
  },
  {
   "cell_type": "code",
   "execution_count": null,
   "metadata": {},
   "outputs": [],
   "source": [
    "%%time\n",
    "\n",
    "feature_df = features_df.loc[features_df['GeneID'] == feature]\n",
    "#     print(feature_df['seqname'].unique()[0])\n",
    "feature_id = feature_df['GeneID'].unique()[0]\n",
    "chrom = feature_df['Chr'].unique()[0]\n",
    "feature_start = feature_df['Start'].min()\n",
    "feature_stop = feature_df['End'].max()\n",
    "\n",
    "feature_qtl_df = None\n",
    "for day in days:\n",
    "    # now load the chromosome qtl results and extract specific feature results\n",
    "    chrom_file = f'{tensorqtl_dir}/{cohort}.{day}.*.cis_qtl_pairs.{chrom}.parquet'\n",
    "    chrom_qtl_df = dd.read_parquet(chrom_file).compute()\n",
    "    chrom_bim_df = pd.read_csv(f'{genos_dir}/{cohort_version}.{chrom}.bfile.bim', \n",
    "                               header=None, sep='\\s+')\n",
    "    chrom_bim_df.columns = ['chr', 'name', 'cm', 'pos', 'a1', 'a2']\n",
    "    chrom_qtl_df = chrom_qtl_df.merge(chrom_bim_df, how='inner', \n",
    "                                    left_on='variant_id', right_on='name')    \n",
    "#     print(chrom_qtl_df.shape)\n",
    "    this_df = chrom_qtl_df.loc[chrom_qtl_df['phenotype_id'] == feature_id].copy()\n",
    "    this_df['set'] = day\n",
    "    feature_qtl_df = pd.concat([feature_qtl_df, this_df])\n",
    "#     print(feature_qtl_df.shape)"
   ]
  },
  {
   "cell_type": "markdown",
   "metadata": {},
   "source": [
    "#### get gwas stats for region of specified feature"
   ]
  },
  {
   "cell_type": "code",
   "execution_count": null,
   "metadata": {},
   "outputs": [],
   "source": [
    "region_gwas_df = gwas_stats_df.loc[gwas_stats_df['SNP'].isin(feature_qtl_df['variant_id'])].copy()\n",
    "region_gwas_df['set'] = 'PDrisk'\n",
    "print(region_gwas_df.shape)"
   ]
  },
  {
   "cell_type": "markdown",
   "metadata": {},
   "source": [
    "#### subset appropriate columns and rename so that qtl and gwas can be concat'd"
   ]
  },
  {
   "cell_type": "code",
   "execution_count": null,
   "metadata": {},
   "outputs": [],
   "source": [
    "qtl_columns = ['variant_id', 'chr', 'pos', 'slope', 'slope_se', 'pval_nominal','set']\n",
    "feature_qtl_df = feature_qtl_df[qtl_columns]\n",
    "feature_qtl_df.columns = ['variant', 'chr', 'pos', 'beta', 'se', 'pvalue','set']\n",
    "print(feature_qtl_df.shape)\n",
    "# display(feature_qtl_df.head())\n",
    "\n",
    "gwas_columns = ['SNP', 'chr', 'position', 'b', 'se', 'p','set']\n",
    "region_gwas_df = region_gwas_df[gwas_columns]\n",
    "region_gwas_df.columns = ['variant', 'chr', 'pos', 'beta', 'se', 'pvalue','set']\n",
    "print(region_gwas_df.shape)\n",
    "# display(region_gwas_df.head())\n",
    "\n",
    "results_df = pd.concat([feature_qtl_df, region_gwas_df])\n",
    "results_df['log10_pvalue'] = np.log10(results_df['pvalue'])*-1\n",
    "results_df['score'] = results_df['beta']/results_df['se']\n",
    "results_df['score_abs'] = np.abs(results_df['score'])\n",
    "print(results_df.shape)\n",
    "display(results_df.head())"
   ]
  },
  {
   "cell_type": "markdown",
   "metadata": {},
   "source": [
    "#### now do the plotting"
   ]
  },
  {
   "cell_type": "code",
   "execution_count": null,
   "metadata": {},
   "outputs": [],
   "source": [
    "#plot local manhattan for feature qtl\n",
    "def plot_qtl_manhattan(feature_id, feature_chrom, feature_start, feature_stop, \n",
    "                        results_df):\n",
    "    print(f'{feature_id}')\n",
    "    print(f'feature {feature_id} is on {feature_chrom} from {feature_start} to {feature_stop}')\n",
    "\n",
    "    #pull in all results for the feature from chromosome for all days\n",
    "    print(results_df.shape)\n",
    "\n",
    "    #now actually do the plotting\n",
    "    sns.set(style='darkgrid')\n",
    "    sns.relplot(x='pos',y='log10_pvalue', hue='set',\n",
    "                alpha=.5, palette=\"dark\", height=12, data=results_df)        \n",
    "\n",
    "    min_y = round(min(results_df['log10_pvalue']))\n",
    "\n",
    "    plt.plot([feature_start, feature_stop], [min_y, min_y], linewidth=5, color='black')\n",
    "    plt.text(feature_stop+10000, min_y, feature_id, fontsize='large', color='black')\n",
    "\n",
    "    plt.title(f'{feature_id} qtl', fontsize='large') \n",
    "    plt.xlabel(f'Bp on chromosome {feature_chrom}')\n",
    "    plt.ylabel(f'-log10(p-value)')    \n",
    "    plt.show()\n",
    "\n",
    "#   plot_out_file_name = f'{WRKDIR}/plink/images/{feature_id}.local_man.png'\n",
    "#   plt.savefig(plot_out_file_name,format='png',dpi=600,bbox_inches='tight')\n",
    "    \n",
    "    return"
   ]
  },
  {
   "cell_type": "code",
   "execution_count": null,
   "metadata": {},
   "outputs": [],
   "source": [
    "plot_qtl_manhattan(feature_id, chrom, feature_start, feature_stop, \n",
    "                    results_df)"
   ]
  },
  {
   "cell_type": "code",
   "execution_count": null,
   "metadata": {},
   "outputs": [],
   "source": [
    "feature_qtl_df.columns = ['qtl_'+ x for x in feature_qtl_df.columns]\n",
    "region_gwas_df.columns = ['gwas_'+ x for x in region_gwas_df.columns]\n",
    "display(feature_qtl_df.head())\n",
    "display(region_gwas_df.head())\n"
   ]
  },
  {
   "cell_type": "code",
   "execution_count": null,
   "metadata": {},
   "outputs": [],
   "source": [
    "merged_df = feature_qtl_df.merge(region_gwas_df, how='inner', \n",
    "                               left_on='qtl_variant', right_on='gwas_variant')\n",
    "merged_df['gwas_score_abs'] = np.abs(merged_df['gwas_beta']/merged_df['gwas_se'])\n",
    "merged_df['qtl_score_abs'] = np.abs(merged_df['qtl_beta']/merged_df['qtl_se'])\n",
    "# ensure day/qtl_set is object data type instead of int so treated categorical\n",
    "merged_df['qtl_set'] =  merged_df['qtl_set'].astype(object)\n",
    "print(merged_df.shape)\n",
    "display(merged_df.head())"
   ]
  },
  {
   "cell_type": "code",
   "execution_count": null,
   "metadata": {},
   "outputs": [],
   "source": [
    "# sns.relplot(x='gwas_beta',y='qtl_beta', hue='qtl_set', size=np.abs(merged_df['gwas_beta']),\n",
    "#             alpha=.5, palette=\"dark\", height=12, data=merged_df) "
   ]
  },
  {
   "cell_type": "code",
   "execution_count": null,
   "metadata": {},
   "outputs": [],
   "source": [
    "#plot local manhattan for feature QTL\n",
    "def plot_gwas_qtl(feature_id, feature_chrom, feature_start, feature_stop, \n",
    "                   this_df):\n",
    "    print(f'{feature_id}')\n",
    "    print(f'feature {feature_id} is on {feature_chrom} from {feature_start} to {feature_stop}')\n",
    "\n",
    "    #pull in all results for the feature from chromosome for all days\n",
    "    print(this_df.shape)\n",
    "\n",
    "    #now actually do the plotting\n",
    "    sns.set(style='darkgrid')\n",
    "    sns.relplot(x=np.log10(this_df['gwas_pvalue'])*-1, \n",
    "                y=np.log10(this_df['qtl_pvalue'])*-1, \n",
    "                hue='qtl_set', alpha=.5, palette=\"dark\", \n",
    "                height=12, data=this_df)         \n",
    "    \n",
    "    plt.title(f'PD risk and {feature_id} QTL', fontsize='large')\n",
    "    plt.xlabel('PD GWAS risk -log10(p-value)')\n",
    "    plt.ylabel(f'{feature_id} QTL -log10(p-value)')\n",
    "    plt.show()\n",
    "    \n",
    "    sns.relplot(x='gwas_score_abs', \n",
    "                y='qtl_score_abs', \n",
    "                hue='qtl_set', alpha=.5, palette=\"dark\", \n",
    "                height=12, data=this_df)         \n",
    "    \n",
    "    plt.title(f'PD risk and {feature_id} QTL', fontsize='large')\n",
    "    plt.xlabel('PD GWAS risk abs(score)')\n",
    "    plt.ylabel(f'{feature_id} QTL abs(score)')\n",
    "    plt.show() \n",
    "    \n",
    "    sns.lmplot(x='gwas_score_abs', \n",
    "               y='qtl_score_abs', hue='qtl_set', \n",
    "               palette=\"dark\", height=12, data=this_df)\n",
    "\n",
    "#   plot_out_file_name = f'{WRKDIR}/plink/images/{feature_id}.local_man.png'\n",
    "#   plt.savefig(plot_out_file_name,format='png',dpi=600,bbox_inches='tight')\n",
    "    \n",
    "    return"
   ]
  },
  {
   "cell_type": "code",
   "execution_count": null,
   "metadata": {},
   "outputs": [],
   "source": [
    "plot_gwas_qtl(feature_id, chrom, feature_start, feature_stop, merged_df)"
   ]
  },
  {
   "cell_type": "code",
   "execution_count": null,
   "metadata": {},
   "outputs": [],
   "source": [
    "alpha_df = merged_df.loc[(merged_df['qtl_pvalue'] < alpha_value) | \n",
    "                         (merged_df['gwas_pvalue'] < alpha_value)]\n",
    "print(alpha_df.shape)"
   ]
  },
  {
   "cell_type": "code",
   "execution_count": null,
   "metadata": {},
   "outputs": [],
   "source": [
    "plot_gwas_qtl(feature_id, chrom, feature_start, feature_stop, alpha_df)"
   ]
  },
  {
   "cell_type": "code",
   "execution_count": null,
   "metadata": {},
   "outputs": [],
   "source": [
    "this_formula = 'gwas_score_abs ~ qtl_score_abs'\n",
    "grouping = 'qtl_set'\n",
    "result = mixed_model(this_formula, alpha_df, grouping)\n",
    "print(result.summary())\n",
    "term = 'qtl_score_abs'\n",
    "print(['feature', 'coef', 'stderr', 'term_cnt', 'p-value'])\n",
    "print(feature, result.params[term], result.bse[term], \n",
    "      result.params.shape[0], result.pvalues[term])    \n"
   ]
  },
  {
   "cell_type": "code",
   "execution_count": null,
   "metadata": {},
   "outputs": [],
   "source": [
    "this_formula = 'gwas_score_abs ~ qtl_score_abs'\n",
    "reg_model = smf.ols(this_formula, data=alpha_df).fit()\n",
    "print(reg_model.summary())"
   ]
  },
  {
   "cell_type": "code",
   "execution_count": null,
   "metadata": {},
   "outputs": [],
   "source": [
    "this_formula = 'gwas_score_abs ~ qtl_score_abs + qtl_set'\n",
    "reg_model = smf.ols(this_formula, data=alpha_df).fit()\n",
    "print(reg_model.summary())"
   ]
  },
  {
   "cell_type": "code",
   "execution_count": null,
   "metadata": {},
   "outputs": [],
   "source": [
    "this_formula = 'gwas_score_abs ~ qtl_score_abs + qtl_set + qtl_score_abs * qtl_set'\n",
    "reg_model = smf.ols(this_formula, data=alpha_df).fit()\n",
    "print(reg_model.summary())"
   ]
  },
  {
   "cell_type": "code",
   "execution_count": null,
   "metadata": {},
   "outputs": [],
   "source": [
    "alpha_df['qtl_set'].head()"
   ]
  },
  {
   "cell_type": "code",
   "execution_count": null,
   "metadata": {},
   "outputs": [],
   "source": [
    "alpha_df['daynum'] = alpha_df['qtl_set'].str.replace('da','').astype('int32')\n",
    "this_formula = 'gwas_score_abs ~ qtl_score_abs + (1|daynum)'\n",
    "reg_model = smf.ols(this_formula, data=alpha_df).fit()\n",
    "print(reg_model.summary())"
   ]
  },
  {
   "cell_type": "code",
   "execution_count": null,
   "metadata": {},
   "outputs": [],
   "source": []
  }
 ],
 "metadata": {
  "environment": {
   "name": "pytorch-gpu.1-7.m65",
   "type": "gcloud",
   "uri": "gcr.io/deeplearning-platform-release/pytorch-gpu.1-7:m65"
  },
  "kernelspec": {
   "display_name": "Python 3",
   "language": "python",
   "name": "python3"
  },
  "language_info": {
   "codemirror_mode": {
    "name": "ipython",
    "version": 3
   },
   "file_extension": ".py",
   "mimetype": "text/x-python",
   "name": "python",
   "nbconvert_exporter": "python",
   "pygments_lexer": "ipython3",
   "version": "3.8.10"
  },
  "widgets": {
   "application/vnd.jupyter.widget-state+json": {
    "state": {},
    "version_major": 2,
    "version_minor": 0
   }
  }
 },
 "nbformat": 4,
 "nbformat_minor": 4
}
