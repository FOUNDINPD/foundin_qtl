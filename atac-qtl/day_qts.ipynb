{
 "cells": [
  {
   "cell_type": "markdown",
   "id": "ddfc53d2",
   "metadata": {},
   "source": [
    "## Notebook for performing QTS analysis for PD GRS and expression"
   ]
  },
  {
   "cell_type": "code",
   "execution_count": null,
   "id": "748c4281",
   "metadata": {},
   "outputs": [],
   "source": [
    "!date"
   ]
  },
  {
   "cell_type": "markdown",
   "id": "844a8cd3",
   "metadata": {},
   "source": [
    "#### import libraries and set notebook variables"
   ]
  },
  {
   "cell_type": "code",
   "execution_count": null,
   "id": "787f4f8c",
   "metadata": {},
   "outputs": [],
   "source": [
    "import pandas as pd\n",
    "import os\n",
    "import numpy as np\n",
    "import statsmodels.stats.multitest as smm\n",
    "import statsmodels.api as sm\n",
    "import statsmodels.formula.api as smf\n",
    "import matplotlib.pyplot as plt\n",
    "import seaborn as sns\n",
    "from sklearn.preprocessing import MinMaxScaler"
   ]
  },
  {
   "cell_type": "code",
   "execution_count": null,
   "id": "50294b73",
   "metadata": {
    "tags": [
     "parameters"
    ]
   },
   "outputs": [],
   "source": [
    "# parameters\n",
    "cohort = 'foundin'\n",
    "day = 'da65'"
   ]
  },
  {
   "cell_type": "code",
   "execution_count": null,
   "id": "5d905027",
   "metadata": {},
   "outputs": [],
   "source": [
    "# naming\n",
    "cohort_build = f'{cohort}.{day}'\n",
    "quant_type = 'atac'\n",
    "\n",
    "# directories\n",
    "home_dir = '/home/gibbsr'\n",
    "wrk_dir = f'{home_dir}/{cohort}/caqtl'\n",
    "quant_dir = f'{wrk_dir}/quants'\n",
    "info_dir = f'{wrk_dir}/sample_info'\n",
    "qts_dir = f'{wrk_dir}/qts'\n",
    "\n",
    "# in files\n",
    "covs_file = f'{info_dir}/{cohort}_{quant_type}_sample_info.csv'\n",
    "grs_file = f'{info_dir}/{cohort}.grs.scaled.csv'\n",
    "quants_file = f'{quant_dir}/{cohort_build}.scaled.adj.hdf5'\n",
    "\n",
    "# out files\n",
    "qts_file = f'{qts_dir}/{cohort_build}.qts.csv'\n",
    "\n",
    "# constants"
   ]
  },
  {
   "cell_type": "code",
   "execution_count": null,
   "id": "bd0b7af9",
   "metadata": {},
   "outputs": [],
   "source": [
    "os.makedirs(qts_dir, exist_ok=True)"
   ]
  },
  {
   "cell_type": "markdown",
   "id": "eb342f25",
   "metadata": {},
   "source": [
    "#### analysis functions"
   ]
  },
  {
   "cell_type": "code",
   "execution_count": null,
   "id": "0780def0",
   "metadata": {},
   "outputs": [],
   "source": [
    "# functions to run the linear regression\n",
    "def reg_model(y, x, term):\n",
    "    Xb = sm.add_constant(x)\n",
    "    reg_model = sm.OLS(y, Xb).fit()\n",
    "\n",
    "# #     formula api style\n",
    "#     this_formula = f'Q(\"{this_trait}\") ~ GRS + predicted_Lymphocytes + GRS * predicted_Lymphocytes'\n",
    "#     reg_model = smf.ols(this_formula, data=this_quants).fit()\n",
    "\n",
    "    # return the coef, stderr, adjusted r2, number of terms, and p-value\n",
    "    return [reg_model.params[term], reg_model.bse[term], reg_model.rsquared_adj, \n",
    "            reg_model.params.shape[0], reg_model.pvalues[term]]\n",
    "\n",
    "\n",
    "def grsresgression(cov_df, traits_df, dep_term='', extra_dep_terms=None):\n",
    "    print(dep_term)\n",
    "    this_sample = set(cov_df.index) & set(traits_df.index)\n",
    "    print(len(this_sample))\n",
    "    \n",
    "    this_cov_df = cov_df.loc[cov_df.index.isin(this_sample)]\n",
    "    this_traits_df = traits_df.loc[traits_df.index.isin(this_sample)]\n",
    "    this_cov_df = this_cov_df.reindex(this_traits_df.index)\n",
    "    \n",
    "    if not extra_dep_terms is None:\n",
    "        this_cov_df = this_cov_df[[dep_term] + extra_dep_terms]\n",
    "    else:\n",
    "        this_cov_df = this_cov_df[[dep_term]]\n",
    "    \n",
    "    lm_results = this_traits_df.apply(lambda x: reg_model(x, this_cov_df, dep_term),\n",
    "                                      result_type='expand').\\\n",
    "    rename(index={0: 'coef', 1: 'stderr', 2: 'r2_adj', 3:'term_cnt', 4:'p-value'}).T\n",
    "\n",
    "    alpha=0.05\n",
    "    method='fdr_bh'\n",
    "    test_adjust = smm.multipletests(np.array(lm_results['p-value']),\n",
    "                                    alpha=alpha, method=method)\n",
    "    lm_results['bh_fdr'] = test_adjust[1]\n",
    "    return lm_results"
   ]
  },
  {
   "cell_type": "code",
   "execution_count": null,
   "id": "13d5b848",
   "metadata": {},
   "outputs": [],
   "source": [
    "#plot the QTS\n",
    "def plotqts(trait_id, study_name, score_df, traits_df):\n",
    "    this_scores_df = score_df.loc[score_df.index.isin(traits_df.index)]\n",
    "    this_scores_df = this_scores_df.reindex(traits_df.index)\n",
    "\n",
    "    temp = traits_df.merge(this_scores_df,left_index=True,right_index=True)\n",
    "\n",
    "    plt.figure(figsize=(9, 9))\n",
    "    sns.regplot(x=trait_id,y='GRS', data=temp, ci=95)\n",
    "    sns.scatterplot(x=trait_id,y='GRS', data=temp, hue='DX')\n",
    "    plt.xlabel('Trait')\n",
    "    plt.ylabel('GRS')\n",
    "    plt.title(f'{trait_id} in {study_name}')\n",
    "    plt.legend(bbox_to_anchor=(1.05, 1), loc=2, borderaxespad=0,prop={'size': 10})\n",
    "    plt.show()"
   ]
  },
  {
   "cell_type": "markdown",
   "id": "cc976ff0",
   "metadata": {},
   "source": [
    "#### load the known sample covariates"
   ]
  },
  {
   "cell_type": "code",
   "execution_count": null,
   "id": "5e9441bf",
   "metadata": {},
   "outputs": [],
   "source": [
    "covs_df = pd.read_csv(covs_file, index_col=0)\n",
    "print(covs_df.shape)\n",
    "# if any duplicates, keep first\n",
    "covs_df = covs_df[~covs_df.index.duplicated(keep='first')]\n",
    "# display(covs_df.head())"
   ]
  },
  {
   "cell_type": "markdown",
   "id": "ffbcc74d",
   "metadata": {},
   "source": [
    "#### load and add GRS"
   ]
  },
  {
   "cell_type": "code",
   "execution_count": null,
   "id": "578ea2e1",
   "metadata": {},
   "outputs": [],
   "source": [
    "grs_df = pd.read_csv(grs_file)\n",
    "print(grs_df.shape)\n",
    "# display(grs_df.head())"
   ]
  },
  {
   "cell_type": "code",
   "execution_count": null,
   "id": "991d7cf5",
   "metadata": {},
   "outputs": [],
   "source": [
    "# covs_df = covs_df.merge(grs_df, how='inner', left_on='wgsid', right_on='IID')\n",
    "covs_df = covs_df.reset_index().merge(grs_df, how='inner', left_on='wgsid', \n",
    "                                      right_on='IID').set_index('assayid')\n",
    "print(covs_df.shape)\n",
    "# display(covs_df.head())"
   ]
  },
  {
   "cell_type": "markdown",
   "id": "54318714",
   "metadata": {},
   "source": [
    "#### load the expression data"
   ]
  },
  {
   "cell_type": "code",
   "execution_count": null,
   "id": "31aa8322",
   "metadata": {},
   "outputs": [],
   "source": [
    "%%time\n",
    "quants_df = pd.read_hdf(quants_file, index_col=0)\n",
    "print(quants_df.shape)\n",
    "# display(quants_df.head())"
   ]
  },
  {
   "cell_type": "code",
   "execution_count": null,
   "id": "39168c8d",
   "metadata": {},
   "outputs": [],
   "source": [
    "set(quants_df.index) - set(covs_df.index)"
   ]
  },
  {
   "cell_type": "markdown",
   "id": "db9f1b90",
   "metadata": {},
   "source": [
    "#### run the QTS (feature ~ GRS regression)"
   ]
  },
  {
   "cell_type": "code",
   "execution_count": null,
   "id": "63c230c8",
   "metadata": {},
   "outputs": [],
   "source": [
    "%%time\n",
    "grs_results = grsresgression(covs_df, quants_df, dep_term='GRS')"
   ]
  },
  {
   "cell_type": "markdown",
   "id": "3224479c",
   "metadata": {},
   "source": [
    "#### save the results files"
   ]
  },
  {
   "cell_type": "code",
   "execution_count": null,
   "id": "41ab9dbb",
   "metadata": {},
   "outputs": [],
   "source": [
    "grs_results.to_csv(qts_file)"
   ]
  },
  {
   "cell_type": "code",
   "execution_count": null,
   "id": "354f6747",
   "metadata": {},
   "outputs": [],
   "source": [
    "print(grs_results.shape)\n",
    "print(grs_results.loc[grs_results['bh_fdr'] <= 0.05].shape)"
   ]
  },
  {
   "cell_type": "code",
   "execution_count": null,
   "id": "067b2f7d",
   "metadata": {},
   "outputs": [],
   "source": [
    "grs_results.describe()"
   ]
  },
  {
   "cell_type": "code",
   "execution_count": null,
   "id": "a8e206bd",
   "metadata": {},
   "outputs": [],
   "source": [
    "display(grs_results.loc[grs_results['bh_fdr'] <= 0.05])"
   ]
  },
  {
   "cell_type": "markdown",
   "id": "89ace6b2",
   "metadata": {},
   "source": [
    "#### plot the most significant results"
   ]
  },
  {
   "cell_type": "code",
   "execution_count": null,
   "id": "a51d6d12",
   "metadata": {},
   "outputs": [],
   "source": [
    "scaled_quants_df =  pd.DataFrame(data=MinMaxScaler().fit_transform(quants_df), \n",
    "                               index=quants_df.index, columns=quants_df.columns)\n",
    "print(scaled_quants_df.shape)\n",
    "# display(scaled_quants_df.head())"
   ]
  },
  {
   "cell_type": "code",
   "execution_count": null,
   "id": "51023da7",
   "metadata": {},
   "outputs": [],
   "source": [
    "this_trait = grs_results.loc[grs_results['bh_fdr'] == min(grs_results['bh_fdr']),].index[0]\n",
    "print(grs_results.loc[this_trait])\n",
    "plotqts(this_trait, cohort.upper(),  covs_df, quants_df)"
   ]
  },
  {
   "cell_type": "code",
   "execution_count": null,
   "id": "21004472",
   "metadata": {},
   "outputs": [],
   "source": [
    "plotqts(this_trait, cohort.upper(), covs_df, scaled_quants_df)"
   ]
  },
  {
   "cell_type": "markdown",
   "id": "dc3c9ad6",
   "metadata": {},
   "source": [
    "#### now run the model with the cell fractions as covariates"
   ]
  },
  {
   "cell_type": "code",
   "execution_count": null,
   "id": "c32409d7",
   "metadata": {},
   "outputs": [],
   "source": [
    "covs_df['DopaminergicNeurons'].fillna(covs_df['DopaminergicNeurons'].mean(), inplace=True)\n",
    "covs_df['EarlyneuronProgenitor'].fillna(covs_df['EarlyneuronProgenitor'].mean(), inplace=True)\n",
    "covs_df['ImmatureDopaminergicNeurons'].fillna(covs_df['ImmatureDopaminergicNeurons'].mean(), inplace=True)\n",
    "covs_df['ProliferatingFloorPlateProgenitors'].fillna(covs_df['ProliferatingFloorPlateProgenitors'].mean(), inplace=True)\n",
    "covs_df['LateneuronProgenitor'].fillna(covs_df['LateneuronProgenitor'].mean(), inplace=True)\n",
    "covs_df['Ependymal-likeCells'].fillna(covs_df['Ependymal-likeCells'].mean(), inplace=True)\n",
    "covs_df['Neuroepithelial-likeCells'].fillna(covs_df['Neuroepithelial-likeCells'].mean(), inplace=True)"
   ]
  },
  {
   "cell_type": "code",
   "execution_count": null,
   "id": "a05e0ae9",
   "metadata": {},
   "outputs": [],
   "source": [
    "%%time\n",
    "# cell_cols = ['DopaminergicNeurons']\n",
    "cell_cols = ['DopaminergicNeurons', 'EarlyneuronProgenitor',\n",
    "             'ImmatureDopaminergicNeurons', 'ProliferatingFloorPlateProgenitors',\n",
    "             'LateneuronProgenitor', 'Ependymal-likeCells',\n",
    "             'Neuroepithelial-likeCells']\n",
    "# cell_cols = ['age_at_baseline'] + cell_cols\n",
    "grs_results = grsresgression(covs_df, quants_df, dep_term='GRS', extra_dep_terms=cell_cols)"
   ]
  },
  {
   "cell_type": "code",
   "execution_count": null,
   "id": "f7a891a1",
   "metadata": {},
   "outputs": [],
   "source": [
    "grs_results.describe()"
   ]
  },
  {
   "cell_type": "code",
   "execution_count": null,
   "id": "51701cdf",
   "metadata": {},
   "outputs": [],
   "source": [
    "print(grs_results.shape)\n",
    "print(grs_results.loc[grs_results['bh_fdr'] <= 0.05].shape)"
   ]
  },
  {
   "cell_type": "code",
   "execution_count": null,
   "id": "b458bd0c",
   "metadata": {},
   "outputs": [],
   "source": [
    "display(grs_results.loc[grs_results['bh_fdr'] <= 0.05])"
   ]
  },
  {
   "cell_type": "markdown",
   "id": "c1fb49aa",
   "metadata": {},
   "source": [
    "#### plot the most significant results"
   ]
  },
  {
   "cell_type": "code",
   "execution_count": null,
   "id": "359c61ae",
   "metadata": {},
   "outputs": [],
   "source": [
    "this_trait = grs_results.loc[grs_results['bh_fdr'] == min(grs_results['bh_fdr']),].index[0]\n",
    "print(grs_results.loc[this_trait])\n",
    "plotqts(this_trait, cohort.upper(),  covs_df, quants_df)"
   ]
  },
  {
   "cell_type": "code",
   "execution_count": null,
   "id": "f9c72f6a",
   "metadata": {},
   "outputs": [],
   "source": [
    "plotqts(this_trait, cohort.upper(), covs_df, scaled_quants_df)"
   ]
  },
  {
   "cell_type": "code",
   "execution_count": null,
   "id": "2d757a18",
   "metadata": {},
   "outputs": [],
   "source": []
  }
 ],
 "metadata": {
  "environment": {
   "name": "pytorch-gpu.1-7.m65",
   "type": "gcloud",
   "uri": "gcr.io/deeplearning-platform-release/pytorch-gpu.1-7:m65"
  },
  "kernelspec": {
   "display_name": "Python 3",
   "language": "python",
   "name": "python3"
  },
  "language_info": {
   "codemirror_mode": {
    "name": "ipython",
    "version": 3
   },
   "file_extension": ".py",
   "mimetype": "text/x-python",
   "name": "python",
   "nbconvert_exporter": "python",
   "pygments_lexer": "ipython3",
   "version": "3.8.10"
  },
  "widgets": {
   "application/vnd.jupyter.widget-state+json": {
    "state": {},
    "version_major": 2,
    "version_minor": 0
   }
  }
 },
 "nbformat": 4,
 "nbformat_minor": 5
}
