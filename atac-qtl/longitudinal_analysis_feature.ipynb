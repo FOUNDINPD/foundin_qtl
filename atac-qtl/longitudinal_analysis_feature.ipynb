{
 "cells": [
  {
   "cell_type": "markdown",
   "id": "46db303e",
   "metadata": {},
   "source": [
    "## Notebook to do longitudinal analysis of quantified feature over differentiation day\n",
    "- features to be considered, probably should do in separate notebooks\n",
    "    - feature ~ day + (1| subject)\n",
    "    \n",
    "based on running linear mixed effects models in python examples:\n",
    "- [Comparing R lmer to Statsmodels MixedLM](https://nbviewer.jupyter.org/urls/umich.box.com/shared/static/6tfc1e0q6jincsv5pgfa.ipynb)\n",
    "- [Linear Mixed Effects Models](https://www.statsmodels.org/devel/examples/notebooks/generated/mixed_lm_example.html)\n",
    "- [statsmodel mixedlm from formula](https://www.statsmodels.org/dev/generated/statsmodels.regression.mixed_linear_model.MixedLM.from_formula.html)"
   ]
  },
  {
   "cell_type": "code",
   "execution_count": 1,
   "id": "9111167b",
   "metadata": {},
   "outputs": [
    {
     "name": "stdout",
     "output_type": "stream",
     "text": [
      "Tue Aug 31 17:37:26 UTC 2021\n"
     ]
    }
   ],
   "source": [
    "!date"
   ]
  },
  {
   "cell_type": "markdown",
   "id": "807a0515",
   "metadata": {},
   "source": [
    "#### import libraries and set notebook variables"
   ]
  },
  {
   "cell_type": "code",
   "execution_count": 2,
   "id": "f8bdba2c",
   "metadata": {},
   "outputs": [],
   "source": [
    "import pandas as pd\n",
    "import numpy as np\n",
    "import os\n",
    "import statsmodels.api as sm\n",
    "import statsmodels.formula.api as smf\n",
    "import statsmodels.stats.multitest as smm\n",
    "import seaborn as sns\n",
    "import matplotlib.pyplot as plt\n",
    "import concurrent.futures\n",
    "import warnings\n",
    "warnings.filterwarnings(action='once')"
   ]
  },
  {
   "cell_type": "code",
   "execution_count": 3,
   "id": "9d959ddf",
   "metadata": {},
   "outputs": [],
   "source": [
    "# parameters\n",
    "cohort = 'foundin'\n",
    "days = ['da0', 'da25', 'da65']\n",
    "quant_type = 'atac'\n",
    "\n",
    "# directories\n",
    "home_dir = '/home/jupyter'\n",
    "wrk_dir = f'{home_dir}/caqtl'\n",
    "quants_dir = f'{wrk_dir}/quants'\n",
    "info_dir = f'{wrk_dir}/sample_info'\n",
    "results_dir = f'{wrk_dir}/results'\n",
    "\n",
    "# in files\n",
    "known_covs_file = f'{info_dir}/{cohort}_{quant_type}_sample_info.csv'\n",
    "umaps_file = f'{info_dir}/{cohort}.{quant_type}.umap.covs.csv'\n",
    "quants_file = f'{quants_dir}/{cohort}.{quant_type}.scaled.adj.hdf5'\n",
    "\n",
    "# out files\n",
    "\n",
    "# constants\n",
    "cpu_count = len(os.sched_getaffinity(0))"
   ]
  },
  {
   "cell_type": "markdown",
   "id": "2f0eba6c",
   "metadata": {},
   "source": [
    "#### analysis functions"
   ]
  },
  {
   "cell_type": "code",
   "execution_count": 4,
   "id": "0c75d666",
   "metadata": {},
   "outputs": [],
   "source": [
    "def mixed_model(formula, df, group_name, term):\n",
    "    model = sm.MixedLM.from_formula(formula, df, groups=df[group_name])\n",
    "    result = model.fit()\n",
    "    return [result.params[term], result.bse[term], \n",
    "            result.params.shape[0], result.pvalues[term]]\n",
    "\n",
    "def frmt_run_mm(dep_var, indep_var, df, group_name, hard_covs=False):\n",
    "    warnings.filterwarnings('ignore')\n",
    "    if hard_covs:\n",
    "        this_formula = f'Q(\"{dep_var}\") ~ {indep_var} + Batch + \\\n",
    "ProliferatingFloorPlateProgenitors + x_umap + y_umap'        \n",
    "    else:\n",
    "        this_formula = f'Q(\"{dep_var}\") ~ {indep_var}'\n",
    "    try:\n",
    "        results = mixed_model(this_formula, df, group_name, indep_var)\n",
    "    except:\n",
    "#         print(f'Caught NameError for {dep_var}')\n",
    "        results = [np.nan, np.nan, np.nan, np.nan]\n",
    "    return [dep_var] + results"
   ]
  },
  {
   "cell_type": "markdown",
   "id": "bb23c894",
   "metadata": {},
   "source": [
    "#### load the known sample covariates"
   ]
  },
  {
   "cell_type": "code",
   "execution_count": 5,
   "id": "4247e363",
   "metadata": {},
   "outputs": [
    {
     "name": "stdout",
     "output_type": "stream",
     "text": [
      "(298, 91)\n"
     ]
    }
   ],
   "source": [
    "known_covs_df = pd.read_csv(known_covs_file, index_col=0)\n",
    "print(known_covs_df.shape)\n",
    "known_covs_df = known_covs_df[~known_covs_df.index.duplicated(keep='first')]\n",
    "# display(known_covs_df.head())"
   ]
  },
  {
   "cell_type": "code",
   "execution_count": 6,
   "id": "4d78e86e",
   "metadata": {},
   "outputs": [
    {
     "name": "stdout",
     "output_type": "stream",
     "text": [
      "(290, 2)\n"
     ]
    }
   ],
   "source": [
    "umaps_df = pd.read_csv(umaps_file, index_col=0)\n",
    "print(umaps_df.shape)\n",
    "# display(umaps_df.head())"
   ]
  },
  {
   "cell_type": "code",
   "execution_count": 7,
   "id": "86901f60",
   "metadata": {},
   "outputs": [
    {
     "name": "stdout",
     "output_type": "stream",
     "text": [
      "(290, 93)\n"
     ]
    }
   ],
   "source": [
    "covs_df = umaps_df.merge(known_covs_df, how='inner', left_index=True, right_index=True)\n",
    "print(covs_df.shape)\n",
    "# display(covs_df.head())"
   ]
  },
  {
   "cell_type": "markdown",
   "id": "ec76d18e",
   "metadata": {},
   "source": [
    "#### add month column based on visit"
   ]
  },
  {
   "cell_type": "code",
   "execution_count": 8,
   "id": "5cbc7475",
   "metadata": {},
   "outputs": [],
   "source": [
    "covs_df['daynum'] = covs_df['day'].str.replace('da','').astype('int32')"
   ]
  },
  {
   "cell_type": "code",
   "execution_count": 9,
   "id": "8d34b8ca",
   "metadata": {},
   "outputs": [
    {
     "data": {
      "text/plain": [
       "0     99\n",
       "25    97\n",
       "65    94\n",
       "Name: daynum, dtype: int64"
      ]
     },
     "execution_count": 9,
     "metadata": {},
     "output_type": "execute_result"
    }
   ],
   "source": [
    "covs_df['daynum'].value_counts()"
   ]
  },
  {
   "cell_type": "markdown",
   "id": "bb431f43",
   "metadata": {},
   "source": [
    "#### load the quantification matrix"
   ]
  },
  {
   "cell_type": "code",
   "execution_count": 10,
   "id": "5cadc5a9",
   "metadata": {},
   "outputs": [
    {
     "name": "stderr",
     "output_type": "stream",
     "text": [
      "/opt/conda/lib/python3.7/importlib/_bootstrap.py:219: RuntimeWarning: numpy.ufunc size changed, may indicate binary incompatibility. Expected 192 from C header, got 216 from PyObject\n",
      "  return f(*args, **kwds)\n"
     ]
    },
    {
     "name": "stdout",
     "output_type": "stream",
     "text": [
      "(290, 201627)\n",
      "CPU times: user 608 ms, sys: 509 ms, total: 1.12 s\n",
      "Wall time: 11.9 s\n"
     ]
    }
   ],
   "source": [
    "%%time\n",
    "quants_df = pd.read_hdf(quants_file, index_col=0)\n",
    "print(quants_df.shape)\n",
    "# display(quants_df.head())"
   ]
  },
  {
   "cell_type": "markdown",
   "id": "a101f285",
   "metadata": {},
   "source": [
    "#### test something simple"
   ]
  },
  {
   "cell_type": "code",
   "execution_count": 11,
   "id": "6ad1133b",
   "metadata": {},
   "outputs": [
    {
     "name": "stdout",
     "output_type": "stream",
     "text": [
      "(290, 201721)\n"
     ]
    }
   ],
   "source": [
    "data_df = quants_df.merge(covs_df, how='inner', \n",
    "                          left_index=True, right_index=True)\n",
    "print(data_df.shape)"
   ]
  },
  {
   "cell_type": "markdown",
   "id": "a315fa06",
   "metadata": {},
   "source": [
    "#### split the features into batches"
   ]
  },
  {
   "cell_type": "code",
   "execution_count": 12,
   "id": "8182bbcd",
   "metadata": {},
   "outputs": [
    {
     "name": "stdout",
     "output_type": "stream",
     "text": [
      "201627\n",
      "32\n",
      "6301\n"
     ]
    }
   ],
   "source": [
    "features = quants_df.columns.values\n",
    "print(len(features))\n",
    "features_partioned = np.array_split(features, np.floor(cpu_count))\n",
    "print(len(features_partioned))\n",
    "print(len(features_partioned[0]))"
   ]
  },
  {
   "cell_type": "markdown",
   "id": "5e9e48eb",
   "metadata": {},
   "source": [
    "#### run just the mixed effects model"
   ]
  },
  {
   "cell_type": "code",
   "execution_count": 13,
   "id": "95a15df5",
   "metadata": {},
   "outputs": [],
   "source": [
    "def run_mm_batch(feat_list, ind_var, df, group_name, extra_terms=False):\n",
    "    batch_results = []\n",
    "    for feature in feat_list:\n",
    "        batch_results.append(frmt_run_mm(feature, ind_var, df, group_name, extra_terms))\n",
    "    return batch_results"
   ]
  },
  {
   "cell_type": "markdown",
   "id": "3329f59a",
   "metadata": {},
   "source": [
    "#### run the simpler model"
   ]
  },
  {
   "cell_type": "code",
   "execution_count": 19,
   "id": "5ca1e996",
   "metadata": {},
   "outputs": [
    {
     "name": "stdout",
     "output_type": "stream",
     "text": [
      "CPU times: user 9.58 s, sys: 12.9 s, total: 22.5 s\n",
      "Wall time: 4h 43min 23s\n"
     ]
    }
   ],
   "source": [
    "%%time\n",
    "indep_var = 'daynum'\n",
    "grouping = 'sampleid'\n",
    "\n",
    "fs_list = []\n",
    "lm_results = []\n",
    "# I run ProcessPoolExecutor from jupyter on Ubuntu, not working on CentOS\n",
    "# some threads out there that ProcessPoolExecutor won't work from juypter\n",
    "# but that looks like OS based and switching process being done via spawn\n",
    "# instead of fork, but CentOS uses fork\n",
    "# so switching to ThreadPoolExecutor just to make is work\n",
    "with concurrent.futures.ProcessPoolExecutor() as ppe:\n",
    "# with concurrent.futures.ThreadPoolExecutor() as ppe:\n",
    "    for batch_features in features_partioned:\n",
    "        fs_list.append(ppe.submit(run_mm_batch, batch_features, indep_var, data_df, grouping))\n",
    "for future in concurrent.futures.as_completed(fs_list):\n",
    "    lm_results.append(future.result())"
   ]
  },
  {
   "cell_type": "code",
   "execution_count": 20,
   "id": "152b7048",
   "metadata": {},
   "outputs": [],
   "source": [
    "# flatten the list\n",
    "results = [item for sublist in lm_results for item in sublist]"
   ]
  },
  {
   "cell_type": "code",
   "execution_count": 21,
   "id": "aed8d8ef",
   "metadata": {},
   "outputs": [
    {
     "name": "stdout",
     "output_type": "stream",
     "text": [
      "(201627, 5)\n"
     ]
    },
    {
     "data": {
      "text/html": [
       "<div>\n",
       "<style scoped>\n",
       "    .dataframe tbody tr th:only-of-type {\n",
       "        vertical-align: middle;\n",
       "    }\n",
       "\n",
       "    .dataframe tbody tr th {\n",
       "        vertical-align: top;\n",
       "    }\n",
       "\n",
       "    .dataframe thead th {\n",
       "        text-align: right;\n",
       "    }\n",
       "</style>\n",
       "<table border=\"1\" class=\"dataframe\">\n",
       "  <thead>\n",
       "    <tr style=\"text-align: right;\">\n",
       "      <th></th>\n",
       "      <th>feature</th>\n",
       "      <th>coef</th>\n",
       "      <th>stderr</th>\n",
       "      <th>term_cnt</th>\n",
       "      <th>p-value</th>\n",
       "    </tr>\n",
       "  </thead>\n",
       "  <tbody>\n",
       "    <tr>\n",
       "      <th>0</th>\n",
       "      <td>chr1_68448392_68449007</td>\n",
       "      <td>-0.002932</td>\n",
       "      <td>0.000198</td>\n",
       "      <td>3</td>\n",
       "      <td>7.660591e-50</td>\n",
       "    </tr>\n",
       "    <tr>\n",
       "      <th>1</th>\n",
       "      <td>chr15_86163901_86164858</td>\n",
       "      <td>0.003508</td>\n",
       "      <td>0.000175</td>\n",
       "      <td>3</td>\n",
       "      <td>2.065518e-89</td>\n",
       "    </tr>\n",
       "    <tr>\n",
       "      <th>2</th>\n",
       "      <td>chr19_3585233_3587171</td>\n",
       "      <td>-0.003556</td>\n",
       "      <td>0.000162</td>\n",
       "      <td>3</td>\n",
       "      <td>2.875902e-106</td>\n",
       "    </tr>\n",
       "    <tr>\n",
       "      <th>3</th>\n",
       "      <td>chr10_86917913_86918670</td>\n",
       "      <td>0.002506</td>\n",
       "      <td>0.000179</td>\n",
       "      <td>3</td>\n",
       "      <td>1.204554e-44</td>\n",
       "    </tr>\n",
       "    <tr>\n",
       "      <th>4</th>\n",
       "      <td>chr8_23064607_23065520</td>\n",
       "      <td>-0.000567</td>\n",
       "      <td>0.000263</td>\n",
       "      <td>3</td>\n",
       "      <td>3.104999e-02</td>\n",
       "    </tr>\n",
       "  </tbody>\n",
       "</table>\n",
       "</div>"
      ],
      "text/plain": [
       "                   feature      coef    stderr  term_cnt        p-value\n",
       "0   chr1_68448392_68449007 -0.002932  0.000198         3   7.660591e-50\n",
       "1  chr15_86163901_86164858  0.003508  0.000175         3   2.065518e-89\n",
       "2    chr19_3585233_3587171 -0.003556  0.000162         3  2.875902e-106\n",
       "3  chr10_86917913_86918670  0.002506  0.000179         3   1.204554e-44\n",
       "4   chr8_23064607_23065520 -0.000567  0.000263         3   3.104999e-02"
      ]
     },
     "metadata": {},
     "output_type": "display_data"
    }
   ],
   "source": [
    "results_df = pd.DataFrame(data=results, columns=['feature', 'coef', 'stderr', 'term_cnt', 'p-value'])\n",
    "print(results_df.shape)\n",
    "display(results_df.head())"
   ]
  },
  {
   "cell_type": "markdown",
   "id": "521ca4a9",
   "metadata": {},
   "source": [
    "#### calc FDR"
   ]
  },
  {
   "cell_type": "code",
   "execution_count": 27,
   "id": "cf15fb7b",
   "metadata": {},
   "outputs": [
    {
     "name": "stdout",
     "output_type": "stream",
     "text": [
      "<class 'pandas.core.frame.DataFrame'>\n",
      "RangeIndex: 201627 entries, 0 to 201626\n",
      "Data columns (total 6 columns):\n",
      " #   Column    Non-Null Count   Dtype  \n",
      "---  ------    --------------   -----  \n",
      " 0   feature   201627 non-null  object \n",
      " 1   coef      201627 non-null  float64\n",
      " 2   stderr    201621 non-null  float64\n",
      " 3   term_cnt  201627 non-null  int64  \n",
      " 4   p-value   201627 non-null  float64\n",
      " 5   bh_fdr    0 non-null       float64\n",
      "dtypes: float64(4), int64(1), object(1)\n",
      "memory usage: 9.2+ MB\n"
     ]
    }
   ],
   "source": [
    "# if p-value is NaN, set value to 1\n",
    "results_df['p-value'].fillna(1, inplace=True)\n",
    "results_df.info()"
   ]
  },
  {
   "cell_type": "code",
   "execution_count": 28,
   "id": "d7ff503c",
   "metadata": {},
   "outputs": [
    {
     "name": "stdout",
     "output_type": "stream",
     "text": [
      "(180143, 6)\n"
     ]
    },
    {
     "data": {
      "text/html": [
       "<div>\n",
       "<style scoped>\n",
       "    .dataframe tbody tr th:only-of-type {\n",
       "        vertical-align: middle;\n",
       "    }\n",
       "\n",
       "    .dataframe tbody tr th {\n",
       "        vertical-align: top;\n",
       "    }\n",
       "\n",
       "    .dataframe thead th {\n",
       "        text-align: right;\n",
       "    }\n",
       "</style>\n",
       "<table border=\"1\" class=\"dataframe\">\n",
       "  <thead>\n",
       "    <tr style=\"text-align: right;\">\n",
       "      <th></th>\n",
       "      <th>feature</th>\n",
       "      <th>coef</th>\n",
       "      <th>stderr</th>\n",
       "      <th>term_cnt</th>\n",
       "      <th>p-value</th>\n",
       "      <th>bh_fdr</th>\n",
       "    </tr>\n",
       "  </thead>\n",
       "  <tbody>\n",
       "    <tr>\n",
       "      <th>0</th>\n",
       "      <td>chr1_68448392_68449007</td>\n",
       "      <td>-0.002932</td>\n",
       "      <td>0.000198</td>\n",
       "      <td>3</td>\n",
       "      <td>7.660591e-50</td>\n",
       "      <td>3.383531e-49</td>\n",
       "    </tr>\n",
       "    <tr>\n",
       "      <th>1</th>\n",
       "      <td>chr15_86163901_86164858</td>\n",
       "      <td>0.003508</td>\n",
       "      <td>0.000175</td>\n",
       "      <td>3</td>\n",
       "      <td>2.065518e-89</td>\n",
       "      <td>2.866631e-88</td>\n",
       "    </tr>\n",
       "    <tr>\n",
       "      <th>2</th>\n",
       "      <td>chr19_3585233_3587171</td>\n",
       "      <td>-0.003556</td>\n",
       "      <td>0.000162</td>\n",
       "      <td>3</td>\n",
       "      <td>2.875902e-106</td>\n",
       "      <td>7.082685e-105</td>\n",
       "    </tr>\n",
       "    <tr>\n",
       "      <th>3</th>\n",
       "      <td>chr10_86917913_86918670</td>\n",
       "      <td>0.002506</td>\n",
       "      <td>0.000179</td>\n",
       "      <td>3</td>\n",
       "      <td>1.204554e-44</td>\n",
       "      <td>4.627960e-44</td>\n",
       "    </tr>\n",
       "    <tr>\n",
       "      <th>4</th>\n",
       "      <td>chr8_23064607_23065520</td>\n",
       "      <td>-0.000567</td>\n",
       "      <td>0.000263</td>\n",
       "      <td>3</td>\n",
       "      <td>3.104999e-02</td>\n",
       "      <td>3.506781e-02</td>\n",
       "    </tr>\n",
       "  </tbody>\n",
       "</table>\n",
       "</div>"
      ],
      "text/plain": [
       "                   feature      coef    stderr  term_cnt        p-value  \\\n",
       "0   chr1_68448392_68449007 -0.002932  0.000198         3   7.660591e-50   \n",
       "1  chr15_86163901_86164858  0.003508  0.000175         3   2.065518e-89   \n",
       "2    chr19_3585233_3587171 -0.003556  0.000162         3  2.875902e-106   \n",
       "3  chr10_86917913_86918670  0.002506  0.000179         3   1.204554e-44   \n",
       "4   chr8_23064607_23065520 -0.000567  0.000263         3   3.104999e-02   \n",
       "\n",
       "          bh_fdr  \n",
       "0   3.383531e-49  \n",
       "1   2.866631e-88  \n",
       "2  7.082685e-105  \n",
       "3   4.627960e-44  \n",
       "4   3.506781e-02  "
      ]
     },
     "metadata": {},
     "output_type": "display_data"
    }
   ],
   "source": [
    "alpha=0.05\n",
    "method='fdr_bh'\n",
    "test_adjust = smm.multipletests(np.array(results_df['p-value']),\n",
    "                                alpha=alpha, method=method)\n",
    "results_df['bh_fdr'] = test_adjust[1]\n",
    "\n",
    "print(results_df.loc[results_df['bh_fdr'] < 0.05].shape)\n",
    "display(results_df.head())"
   ]
  },
  {
   "cell_type": "code",
   "execution_count": 29,
   "id": "82635a0a",
   "metadata": {},
   "outputs": [
    {
     "data": {
      "text/html": [
       "<div>\n",
       "<style scoped>\n",
       "    .dataframe tbody tr th:only-of-type {\n",
       "        vertical-align: middle;\n",
       "    }\n",
       "\n",
       "    .dataframe tbody tr th {\n",
       "        vertical-align: top;\n",
       "    }\n",
       "\n",
       "    .dataframe thead th {\n",
       "        text-align: right;\n",
       "    }\n",
       "</style>\n",
       "<table border=\"1\" class=\"dataframe\">\n",
       "  <thead>\n",
       "    <tr style=\"text-align: right;\">\n",
       "      <th></th>\n",
       "      <th>feature</th>\n",
       "      <th>coef</th>\n",
       "      <th>stderr</th>\n",
       "      <th>term_cnt</th>\n",
       "      <th>p-value</th>\n",
       "      <th>bh_fdr</th>\n",
       "    </tr>\n",
       "  </thead>\n",
       "  <tbody>\n",
       "    <tr>\n",
       "      <th>112568</th>\n",
       "      <td>chr4_128600128_128602552</td>\n",
       "      <td>0.006357</td>\n",
       "      <td>0.000156</td>\n",
       "      <td>3</td>\n",
       "      <td>0.0</td>\n",
       "      <td>0.0</td>\n",
       "    </tr>\n",
       "  </tbody>\n",
       "</table>\n",
       "</div>"
      ],
      "text/plain": [
       "                         feature      coef    stderr  term_cnt  p-value  \\\n",
       "112568  chr4_128600128_128602552  0.006357  0.000156         3      0.0   \n",
       "\n",
       "        bh_fdr  \n",
       "112568     0.0  "
      ]
     },
     "metadata": {},
     "output_type": "display_data"
    },
    {
     "data": {
      "text/html": [
       "<div>\n",
       "<style scoped>\n",
       "    .dataframe tbody tr th:only-of-type {\n",
       "        vertical-align: middle;\n",
       "    }\n",
       "\n",
       "    .dataframe tbody tr th {\n",
       "        vertical-align: top;\n",
       "    }\n",
       "\n",
       "    .dataframe thead th {\n",
       "        text-align: right;\n",
       "    }\n",
       "</style>\n",
       "<table border=\"1\" class=\"dataframe\">\n",
       "  <thead>\n",
       "    <tr style=\"text-align: right;\">\n",
       "      <th></th>\n",
       "      <th>feature</th>\n",
       "      <th>coef</th>\n",
       "      <th>stderr</th>\n",
       "      <th>term_cnt</th>\n",
       "      <th>p-value</th>\n",
       "      <th>bh_fdr</th>\n",
       "    </tr>\n",
       "  </thead>\n",
       "  <tbody>\n",
       "    <tr>\n",
       "      <th>902</th>\n",
       "      <td>chr5_167251000_167251532</td>\n",
       "      <td>-0.000613</td>\n",
       "      <td>0.000305</td>\n",
       "      <td>3</td>\n",
       "      <td>0.044664</td>\n",
       "      <td>0.04999</td>\n",
       "    </tr>\n",
       "  </tbody>\n",
       "</table>\n",
       "</div>"
      ],
      "text/plain": [
       "                      feature      coef    stderr  term_cnt   p-value   bh_fdr\n",
       "902  chr5_167251000_167251532 -0.000613  0.000305         3  0.044664  0.04999"
      ]
     },
     "metadata": {},
     "output_type": "display_data"
    }
   ],
   "source": [
    "sig_df = results_df.loc[results_df['bh_fdr'] < 0.05]\n",
    "display(sig_df.loc[sig_df['p-value'] == min(sig_df['p-value'])])\n",
    "display(sig_df.loc[sig_df['p-value'] == max(sig_df['p-value'])])"
   ]
  },
  {
   "cell_type": "markdown",
   "id": "f25bc270",
   "metadata": {},
   "source": [
    "#### save the simple mixed model results"
   ]
  },
  {
   "cell_type": "code",
   "execution_count": 30,
   "id": "3d44929b",
   "metadata": {},
   "outputs": [],
   "source": [
    "out_file = f'{results_dir}/{cohort}.quants_time_mm.csv'\n",
    "sig_df.to_csv(out_file, index=False)"
   ]
  },
  {
   "cell_type": "markdown",
   "id": "ac98442e",
   "metadata": {},
   "source": [
    "#### do some example plotting"
   ]
  },
  {
   "cell_type": "code",
   "execution_count": 31,
   "id": "377236e1",
   "metadata": {},
   "outputs": [
    {
     "data": {
      "text/plain": [
       "<seaborn.axisgrid.FacetGrid at 0x7f783e7da8d0>"
      ]
     },
     "execution_count": 31,
     "metadata": {},
     "output_type": "execute_result"
    },
    {
     "data": {
      "image/png": "[encoded data removed]",
      "text/plain": [
       "<Figure size 495.125x360 with 1 Axes>"
      ]
     },
     "metadata": {
      "needs_background": "light"
     },
     "output_type": "display_data"
    }
   ],
   "source": [
    "sns.lmplot(x='daynum', y='chr4_128600128_128602552', hue='case_control_other_latest', \n",
    "           data=data_df, palette='Set1')"
   ]
  },
  {
   "cell_type": "code",
   "execution_count": 41,
   "id": "eeac25fd",
   "metadata": {},
   "outputs": [
    {
     "data": {
      "text/plain": [
       "<AxesSubplot:xlabel='daynum', ylabel='chr4_128600128_128602552'>"
      ]
     },
     "execution_count": 41,
     "metadata": {},
     "output_type": "execute_result"
    },
    {
     "data": {
      "image/png": "[encoded data removed]",
      "text/plain": [
       "<Figure size 432x288 with 1 Axes>"
      ]
     },
     "metadata": {
      "needs_background": "light"
     },
     "output_type": "display_data"
    }
   ],
   "source": [
    "sns.lmplot(x='daynum', y='chr4_128600128_128602552', hue='case_control_other_latest', \n",
    "           data=data_df, palette='Set1')"
   ]
  },
  {
   "cell_type": "markdown",
   "id": "e82a187b",
   "metadata": {},
   "source": [
    "### now re-run everything including Batch, ProliferatingFloorPlateProgenitors and UMAP covariates in the mixed model by subject"
   ]
  },
  {
   "cell_type": "markdown",
   "id": "c9e61a69",
   "metadata": {},
   "source": [
    "#### run the model with extra covariates"
   ]
  },
  {
   "cell_type": "code",
   "execution_count": 14,
   "id": "3ff56745",
   "metadata": {},
   "outputs": [
    {
     "name": "stdout",
     "output_type": "stream",
     "text": [
      "(290, 201721)\n",
      "<class 'pandas.core.frame.DataFrame'>\n",
      "Index: 290 entries, ATAC_PPMI18567_da0 to ATAC_PPMI90456_da65\n",
      "Data columns (total 94 columns):\n",
      " #   Column                              Non-Null Count  Dtype  \n",
      "---  ------                              --------------  -----  \n",
      " 0   x_umap                              290 non-null    float64\n",
      " 1   y_umap                              290 non-null    float64\n",
      " 2   sampleid                            290 non-null    object \n",
      " 3   cdi                                 290 non-null    int64  \n",
      " 4   day                                 290 non-null    object \n",
      " 5   Batch                               284 non-null    object \n",
      " 6   PPMI_ID                             284 non-null    object \n",
      " 7   DZNE_Barcode                        284 non-null    object \n",
      " 8   DZNE_ID                             284 non-null    float64\n",
      " 9   Culture_Media_iPSC                  284 non-null    object \n",
      " 10  Growth_iPSC                         284 non-null    object \n",
      " 11  Spontaneous_differentiation         284 non-null    object \n",
      " 12  Mychoplasma_Test                    284 non-null    object \n",
      " 13  Differentiation_Start               284 non-null    object \n",
      " 14  TH_SCRN                             241 non-null    float64\n",
      " 15  MAP2_SCRN                           241 non-null    float64\n",
      " 16  TH_Pel-Freez_ICC                    277 non-null    float64\n",
      " 17  MAP2_Santa_Cruz_ICC                 277 non-null    float64\n",
      " 18  TH_Millipore_ICC                    277 non-null    float64\n",
      " 19  MAP2_Santa_Cruz                     277 non-null    float64\n",
      " 20  participant_id                      281 non-null    object \n",
      " 21  visit_name                          281 non-null    object \n",
      " 22  visit_month                         281 non-null    float64\n",
      " 23  age_at_baseline                     281 non-null    float64\n",
      " 24  sex                                 281 non-null    object \n",
      " 25  ethnicity_x                         281 non-null    object \n",
      " 26  race                                281 non-null    object \n",
      " 27  education_level_years               281 non-null    object \n",
      " 28  diagnosis_at_baseline               281 non-null    object \n",
      " 29  diagnosis_latest                    281 non-null    object \n",
      " 30  case_control_other_at_baseline      281 non-null    object \n",
      " 31  case_control_other_latest           281 non-null    object \n",
      " 32  study_arm                           281 non-null    object \n",
      " 33  prodromal_category                  281 non-null    object \n",
      " 34  Recruitment                         280 non-null    object \n",
      " 35  wgsid                               281 non-null    object \n",
      " 36  PATNO                               284 non-null    float64\n",
      " 37  RECRUIT                             284 non-null    object \n",
      " 38  YEARSEDUC                           284 non-null    float64\n",
      " 39  FAMILY_HISTORY                      284 non-null    float64\n",
      " 40  DX_INIT                             284 non-null    object \n",
      " 41  DIAG                                284 non-null    object \n",
      " 42  AGE_enroll                          284 non-null    float64\n",
      " 43  AGE_ONSET                           166 non-null    float64\n",
      " 44  BIRTHDT                             284 non-null    float64\n",
      " 45  RECRUITMENT_CAT                     284 non-null    object \n",
      " 46  IMAGING_CAT                         284 non-null    object \n",
      " 47  ENROLL_CAT                          284 non-null    object \n",
      " 48  DESCRP_CAT                          284 non-null    object \n",
      " 49  genetic_sex                         284 non-null    float64\n",
      " 50  pheno                               284 non-null    float64\n",
      " 51  Barcode_LNG                         284 non-null    object \n",
      " 52  Barcode_DZNE                        284 non-null    object \n",
      " 53  Alternate MRN                       284 non-null    object \n",
      " 54  IID                                 284 non-null    object \n",
      " 55  mutation                            284 non-null    object \n",
      " 56  ethnicity_y                         284 non-null    object \n",
      " 57  Relatives                           284 non-null    object \n",
      " 58  exclude                             284 non-null    object \n",
      " 59  FID                                 284 non-null    object \n",
      " 60  CNT                                 284 non-null    float64\n",
      " 61  CNT2                                284 non-null    float64\n",
      " 62  SCORE                               284 non-null    float64\n",
      " 63  SCORE_no_GBA                        284 non-null    float64\n",
      " 64  GROUP                               284 non-null    object \n",
      " 65  PC1                                 281 non-null    float64\n",
      " 66  PC2                                 281 non-null    float64\n",
      " 67  PC3                                 281 non-null    float64\n",
      " 68  PC4                                 281 non-null    float64\n",
      " 69  PC5                                 281 non-null    float64\n",
      " 70  PC6                                 281 non-null    float64\n",
      " 71  PC7                                 281 non-null    float64\n",
      " 72  PC8                                 281 non-null    float64\n",
      " 73  PC9                                 281 non-null    float64\n",
      " 74  PC10                                281 non-null    float64\n",
      " 75  PC11                                281 non-null    float64\n",
      " 76  PC12                                281 non-null    float64\n",
      " 77  PC13                                281 non-null    float64\n",
      " 78  PC14                                281 non-null    float64\n",
      " 79  PC15                                281 non-null    float64\n",
      " 80  PC16                                281 non-null    float64\n",
      " 81  PC17                                281 non-null    float64\n",
      " 82  PC18                                281 non-null    float64\n",
      " 83  PC19                                281 non-null    float64\n",
      " 84  PC20                                281 non-null    float64\n",
      " 85  DopaminergicNeurons                 290 non-null    float64\n",
      " 86  EarlyneuronProgenitor               290 non-null    float64\n",
      " 87  ImmatureDopaminergicNeurons         290 non-null    float64\n",
      " 88  ProliferatingFloorPlateProgenitors  290 non-null    float64\n",
      " 89  LateneuronProgenitor                290 non-null    float64\n",
      " 90  Ependymal-likeCells                 290 non-null    float64\n",
      " 91  Neuroepithelial-likeCells           290 non-null    float64\n",
      " 92  DAn                                 290 non-null    float64\n",
      " 93  daynum                              290 non-null    int32  \n",
      "dtypes: float64(51), int32(1), int64(1), object(41)\n",
      "memory usage: 222.2+ KB\n"
     ]
    }
   ],
   "source": [
    "print(data_df.shape)\n",
    "data_df[covs_df.columns].info()"
   ]
  },
  {
   "cell_type": "code",
   "execution_count": 15,
   "id": "4e79e897",
   "metadata": {},
   "outputs": [
    {
     "name": "stdout",
     "output_type": "stream",
     "text": [
      "(284, 201721)\n"
     ]
    }
   ],
   "source": [
    "# extra covariates are 'Batch', 'ProliferatingFloorPlateProgenitors', some are null remove those rows\n",
    "data_df = data_df.loc[(~data_df['Batch'].isna()) & \n",
    "                      (~data_df['ProliferatingFloorPlateProgenitors'].isna())]\n",
    "print(data_df.shape)"
   ]
  },
  {
   "cell_type": "code",
   "execution_count": 18,
   "id": "d3f0f740",
   "metadata": {},
   "outputs": [],
   "source": [
    "# # test a single model run\n",
    "# dep_var = 'chr4_128600128_128602552'\n",
    "# indep_var = 'daynum'\n",
    "# group_name = 'sampleid'\n",
    "# this_formula = f'Q(\"{dep_var}\") ~ {indep_var} + Batch + \\\n",
    "# ProliferatingFloorPlateProgenitors + x_umap + y_umap'        \n",
    "# results = mixed_model(this_formula, data_df, group_name, indep_var)\n",
    "# print(results)\n",
    "\n",
    "# model = sm.MixedLM.from_formula(this_formula, data_df, groups=data_df[group_name])\n",
    "# result = model.fit()\n",
    "# print(result.summary())"
   ]
  },
  {
   "cell_type": "code",
   "execution_count": 16,
   "id": "6c0aa112",
   "metadata": {},
   "outputs": [
    {
     "name": "stdout",
     "output_type": "stream",
     "text": [
      "CPU times: user 10.4 s, sys: 12.8 s, total: 23.2 s\n",
      "Wall time: 3h 9min 41s\n"
     ]
    }
   ],
   "source": [
    "%%time\n",
    "indep_var = 'daynum'\n",
    "grouping = 'sampleid'\n",
    "\n",
    "fs_list = []\n",
    "lm_results = []\n",
    "with concurrent.futures.ProcessPoolExecutor() as ppe:\n",
    "# with concurrent.futures.ThreadPoolExecutor() as ppe:\n",
    "    for batch_features in features_partioned:\n",
    "        fs_list.append(ppe.submit(run_mm_batch, batch_features, indep_var, data_df, grouping, True))\n",
    "for future in concurrent.futures.as_completed(fs_list):\n",
    "    lm_results.append(future.result())"
   ]
  },
  {
   "cell_type": "code",
   "execution_count": 17,
   "id": "b7d1fee5",
   "metadata": {},
   "outputs": [],
   "source": [
    "# flatten the list\n",
    "results = [item for sublist in lm_results for item in sublist]"
   ]
  },
  {
   "cell_type": "code",
   "execution_count": 18,
   "id": "3452776b",
   "metadata": {},
   "outputs": [
    {
     "name": "stdout",
     "output_type": "stream",
     "text": [
      "(201627, 5)\n"
     ]
    },
    {
     "data": {
      "text/html": [
       "<div>\n",
       "<style scoped>\n",
       "    .dataframe tbody tr th:only-of-type {\n",
       "        vertical-align: middle;\n",
       "    }\n",
       "\n",
       "    .dataframe tbody tr th {\n",
       "        vertical-align: top;\n",
       "    }\n",
       "\n",
       "    .dataframe thead th {\n",
       "        text-align: right;\n",
       "    }\n",
       "</style>\n",
       "<table border=\"1\" class=\"dataframe\">\n",
       "  <thead>\n",
       "    <tr style=\"text-align: right;\">\n",
       "      <th></th>\n",
       "      <th>feature</th>\n",
       "      <th>coef</th>\n",
       "      <th>stderr</th>\n",
       "      <th>term_cnt</th>\n",
       "      <th>p-value</th>\n",
       "    </tr>\n",
       "  </thead>\n",
       "  <tbody>\n",
       "    <tr>\n",
       "      <th>0</th>\n",
       "      <td>chr1_76145950_76146654</td>\n",
       "      <td>-0.002457</td>\n",
       "      <td>0.000334</td>\n",
       "      <td>10</td>\n",
       "      <td>2.025335e-13</td>\n",
       "    </tr>\n",
       "    <tr>\n",
       "      <th>1</th>\n",
       "      <td>chr3_8505594_8506647</td>\n",
       "      <td>0.000486</td>\n",
       "      <td>0.000464</td>\n",
       "      <td>10</td>\n",
       "      <td>2.954291e-01</td>\n",
       "    </tr>\n",
       "    <tr>\n",
       "      <th>2</th>\n",
       "      <td>chr8_134619742_134620682</td>\n",
       "      <td>-0.002086</td>\n",
       "      <td>0.000342</td>\n",
       "      <td>10</td>\n",
       "      <td>1.021253e-09</td>\n",
       "    </tr>\n",
       "    <tr>\n",
       "      <th>3</th>\n",
       "      <td>chr10_5396446_5397249</td>\n",
       "      <td>0.006076</td>\n",
       "      <td>0.000334</td>\n",
       "      <td>10</td>\n",
       "      <td>6.510279e-74</td>\n",
       "    </tr>\n",
       "    <tr>\n",
       "      <th>4</th>\n",
       "      <td>chr2_231780028_231782758</td>\n",
       "      <td>-0.000457</td>\n",
       "      <td>0.000299</td>\n",
       "      <td>10</td>\n",
       "      <td>1.258975e-01</td>\n",
       "    </tr>\n",
       "  </tbody>\n",
       "</table>\n",
       "</div>"
      ],
      "text/plain": [
       "                    feature      coef    stderr  term_cnt       p-value\n",
       "0    chr1_76145950_76146654 -0.002457  0.000334        10  2.025335e-13\n",
       "1      chr3_8505594_8506647  0.000486  0.000464        10  2.954291e-01\n",
       "2  chr8_134619742_134620682 -0.002086  0.000342        10  1.021253e-09\n",
       "3     chr10_5396446_5397249  0.006076  0.000334        10  6.510279e-74\n",
       "4  chr2_231780028_231782758 -0.000457  0.000299        10  1.258975e-01"
      ]
     },
     "metadata": {},
     "output_type": "display_data"
    }
   ],
   "source": [
    "results_df = pd.DataFrame(data=results, columns=['feature', 'coef', 'stderr', 'term_cnt', 'p-value'])\n",
    "print(results_df.shape)\n",
    "display(results_df.head())"
   ]
  },
  {
   "cell_type": "markdown",
   "id": "b02db55d",
   "metadata": {},
   "source": [
    "#### calc FDR"
   ]
  },
  {
   "cell_type": "code",
   "execution_count": 19,
   "id": "41ed4271",
   "metadata": {},
   "outputs": [
    {
     "name": "stdout",
     "output_type": "stream",
     "text": [
      "<class 'pandas.core.frame.DataFrame'>\n",
      "RangeIndex: 201627 entries, 0 to 201626\n",
      "Data columns (total 5 columns):\n",
      " #   Column    Non-Null Count   Dtype  \n",
      "---  ------    --------------   -----  \n",
      " 0   feature   201627 non-null  object \n",
      " 1   coef      201627 non-null  float64\n",
      " 2   stderr    201627 non-null  float64\n",
      " 3   term_cnt  201627 non-null  int64  \n",
      " 4   p-value   201627 non-null  float64\n",
      "dtypes: float64(3), int64(1), object(1)\n",
      "memory usage: 7.7+ MB\n"
     ]
    }
   ],
   "source": [
    "# if p-value is NaN, set value to 1\n",
    "results_df['p-value'].fillna(1, inplace=True)\n",
    "results_df.info()"
   ]
  },
  {
   "cell_type": "code",
   "execution_count": 20,
   "id": "3d0d9f58",
   "metadata": {},
   "outputs": [
    {
     "name": "stdout",
     "output_type": "stream",
     "text": [
      "(167372, 6)\n"
     ]
    },
    {
     "data": {
      "text/html": [
       "<div>\n",
       "<style scoped>\n",
       "    .dataframe tbody tr th:only-of-type {\n",
       "        vertical-align: middle;\n",
       "    }\n",
       "\n",
       "    .dataframe tbody tr th {\n",
       "        vertical-align: top;\n",
       "    }\n",
       "\n",
       "    .dataframe thead th {\n",
       "        text-align: right;\n",
       "    }\n",
       "</style>\n",
       "<table border=\"1\" class=\"dataframe\">\n",
       "  <thead>\n",
       "    <tr style=\"text-align: right;\">\n",
       "      <th></th>\n",
       "      <th>feature</th>\n",
       "      <th>coef</th>\n",
       "      <th>stderr</th>\n",
       "      <th>term_cnt</th>\n",
       "      <th>p-value</th>\n",
       "      <th>bh_fdr</th>\n",
       "    </tr>\n",
       "  </thead>\n",
       "  <tbody>\n",
       "    <tr>\n",
       "      <th>0</th>\n",
       "      <td>chr1_76145950_76146654</td>\n",
       "      <td>-0.002457</td>\n",
       "      <td>0.000334</td>\n",
       "      <td>10</td>\n",
       "      <td>2.025335e-13</td>\n",
       "      <td>5.092434e-13</td>\n",
       "    </tr>\n",
       "    <tr>\n",
       "      <th>1</th>\n",
       "      <td>chr3_8505594_8506647</td>\n",
       "      <td>0.000486</td>\n",
       "      <td>0.000464</td>\n",
       "      <td>10</td>\n",
       "      <td>2.954291e-01</td>\n",
       "      <td>3.230321e-01</td>\n",
       "    </tr>\n",
       "    <tr>\n",
       "      <th>2</th>\n",
       "      <td>chr8_134619742_134620682</td>\n",
       "      <td>-0.002086</td>\n",
       "      <td>0.000342</td>\n",
       "      <td>10</td>\n",
       "      <td>1.021253e-09</td>\n",
       "      <td>2.075392e-09</td>\n",
       "    </tr>\n",
       "    <tr>\n",
       "      <th>3</th>\n",
       "      <td>chr10_5396446_5397249</td>\n",
       "      <td>0.006076</td>\n",
       "      <td>0.000334</td>\n",
       "      <td>10</td>\n",
       "      <td>6.510279e-74</td>\n",
       "      <td>4.994856e-72</td>\n",
       "    </tr>\n",
       "    <tr>\n",
       "      <th>4</th>\n",
       "      <td>chr2_231780028_231782758</td>\n",
       "      <td>-0.000457</td>\n",
       "      <td>0.000299</td>\n",
       "      <td>10</td>\n",
       "      <td>1.258975e-01</td>\n",
       "      <td>1.441195e-01</td>\n",
       "    </tr>\n",
       "  </tbody>\n",
       "</table>\n",
       "</div>"
      ],
      "text/plain": [
       "                    feature      coef    stderr  term_cnt       p-value  \\\n",
       "0    chr1_76145950_76146654 -0.002457  0.000334        10  2.025335e-13   \n",
       "1      chr3_8505594_8506647  0.000486  0.000464        10  2.954291e-01   \n",
       "2  chr8_134619742_134620682 -0.002086  0.000342        10  1.021253e-09   \n",
       "3     chr10_5396446_5397249  0.006076  0.000334        10  6.510279e-74   \n",
       "4  chr2_231780028_231782758 -0.000457  0.000299        10  1.258975e-01   \n",
       "\n",
       "         bh_fdr  \n",
       "0  5.092434e-13  \n",
       "1  3.230321e-01  \n",
       "2  2.075392e-09  \n",
       "3  4.994856e-72  \n",
       "4  1.441195e-01  "
      ]
     },
     "metadata": {},
     "output_type": "display_data"
    }
   ],
   "source": [
    "alpha=0.05\n",
    "method='fdr_bh'\n",
    "test_adjust = smm.multipletests(np.array(results_df['p-value']),\n",
    "                                alpha=alpha, method=method)\n",
    "results_df['bh_fdr'] = test_adjust[1]\n",
    "\n",
    "print(results_df.loc[results_df['bh_fdr'] < 0.05].shape)\n",
    "display(results_df.head())"
   ]
  },
  {
   "cell_type": "markdown",
   "id": "7f33bfe0",
   "metadata": {},
   "source": [
    "#### save the discovery cohort results"
   ]
  },
  {
   "cell_type": "code",
   "execution_count": 21,
   "id": "ac6c96d5",
   "metadata": {},
   "outputs": [
    {
     "data": {
      "text/html": [
       "<div>\n",
       "<style scoped>\n",
       "    .dataframe tbody tr th:only-of-type {\n",
       "        vertical-align: middle;\n",
       "    }\n",
       "\n",
       "    .dataframe tbody tr th {\n",
       "        vertical-align: top;\n",
       "    }\n",
       "\n",
       "    .dataframe thead th {\n",
       "        text-align: right;\n",
       "    }\n",
       "</style>\n",
       "<table border=\"1\" class=\"dataframe\">\n",
       "  <thead>\n",
       "    <tr style=\"text-align: right;\">\n",
       "      <th></th>\n",
       "      <th>feature</th>\n",
       "      <th>coef</th>\n",
       "      <th>stderr</th>\n",
       "      <th>term_cnt</th>\n",
       "      <th>p-value</th>\n",
       "      <th>bh_fdr</th>\n",
       "    </tr>\n",
       "  </thead>\n",
       "  <tbody>\n",
       "    <tr>\n",
       "      <th>80517</th>\n",
       "      <td>chr14_93044594_93046239</td>\n",
       "      <td>-0.005985</td>\n",
       "      <td>0.000202</td>\n",
       "      <td>10</td>\n",
       "      <td>3.071160e-192</td>\n",
       "      <td>6.192288e-187</td>\n",
       "    </tr>\n",
       "  </tbody>\n",
       "</table>\n",
       "</div>"
      ],
      "text/plain": [
       "                       feature      coef    stderr  term_cnt        p-value  \\\n",
       "80517  chr14_93044594_93046239 -0.005985  0.000202        10  3.071160e-192   \n",
       "\n",
       "              bh_fdr  \n",
       "80517  6.192288e-187  "
      ]
     },
     "metadata": {},
     "output_type": "display_data"
    },
    {
     "data": {
      "text/html": [
       "<div>\n",
       "<style scoped>\n",
       "    .dataframe tbody tr th:only-of-type {\n",
       "        vertical-align: middle;\n",
       "    }\n",
       "\n",
       "    .dataframe tbody tr th {\n",
       "        vertical-align: top;\n",
       "    }\n",
       "\n",
       "    .dataframe thead th {\n",
       "        text-align: right;\n",
       "    }\n",
       "</style>\n",
       "<table border=\"1\" class=\"dataframe\">\n",
       "  <thead>\n",
       "    <tr style=\"text-align: right;\">\n",
       "      <th></th>\n",
       "      <th>feature</th>\n",
       "      <th>coef</th>\n",
       "      <th>stderr</th>\n",
       "      <th>term_cnt</th>\n",
       "      <th>p-value</th>\n",
       "      <th>bh_fdr</th>\n",
       "    </tr>\n",
       "  </thead>\n",
       "  <tbody>\n",
       "    <tr>\n",
       "      <th>147575</th>\n",
       "      <td>chr3_162269321_162270349</td>\n",
       "      <td>0.000802</td>\n",
       "      <td>0.000394</td>\n",
       "      <td>10</td>\n",
       "      <td>0.041501</td>\n",
       "      <td>0.049995</td>\n",
       "    </tr>\n",
       "  </tbody>\n",
       "</table>\n",
       "</div>"
      ],
      "text/plain": [
       "                         feature      coef    stderr  term_cnt   p-value  \\\n",
       "147575  chr3_162269321_162270349  0.000802  0.000394        10  0.041501   \n",
       "\n",
       "          bh_fdr  \n",
       "147575  0.049995  "
      ]
     },
     "metadata": {},
     "output_type": "display_data"
    }
   ],
   "source": [
    "sig_df = results_df.loc[results_df['bh_fdr'] < 0.05]\n",
    "display(sig_df.loc[sig_df['p-value'] == min(sig_df['p-value'])])\n",
    "display(sig_df.loc[sig_df['p-value'] == max(sig_df['p-value'])])"
   ]
  },
  {
   "cell_type": "code",
   "execution_count": 22,
   "id": "aa10ef2b",
   "metadata": {},
   "outputs": [],
   "source": [
    "out_file = f'{results_dir}/{cohort}.quants_time_cov_mm.csv'\n",
    "sig_df.to_csv(out_file, index=False)"
   ]
  },
  {
   "cell_type": "markdown",
   "id": "09734c42",
   "metadata": {},
   "source": [
    "#### do some example plotting"
   ]
  },
  {
   "cell_type": "code",
   "execution_count": 43,
   "id": "00eb19b1",
   "metadata": {},
   "outputs": [
    {
     "data": {
      "text/plain": [
       "<seaborn.axisgrid.FacetGrid at 0x7f99ae0d9850>"
      ]
     },
     "execution_count": 43,
     "metadata": {},
     "output_type": "execute_result"
    },
    {
     "data": {
      "image/png": "[encoded data removed]",
      "text/plain": [
       "<Figure size 436.125x360 with 1 Axes>"
      ]
     },
     "metadata": {
      "needs_background": "light"
     },
     "output_type": "display_data"
    }
   ],
   "source": [
    "sns.lmplot(x='daynum', y='chr14_93044594_93046239', hue='Batch', \n",
    "           data=data_df, palette='Set1')"
   ]
  },
  {
   "cell_type": "code",
   "execution_count": 44,
   "id": "d690a59d",
   "metadata": {},
   "outputs": [
    {
     "data": {
      "text/plain": [
       "<seaborn.axisgrid.FacetGrid at 0x7f99ae0f04d0>"
      ]
     },
     "execution_count": 44,
     "metadata": {},
     "output_type": "execute_result"
    },
    {
     "data": {
      "image/png": "[encoded data removed]",
      "text/plain": [
       "<Figure size 436.125x360 with 1 Axes>"
      ]
     },
     "metadata": {
      "needs_background": "light"
     },
     "output_type": "display_data"
    }
   ],
   "source": [
    "sns.lmplot(x='daynum', y='chr3_162269321_162270349', hue='Batch', \n",
    "           data=data_df, palette='Set1')"
   ]
  },
  {
   "cell_type": "markdown",
   "id": "764fdbe0",
   "metadata": {},
   "source": [
    "#### check the replicated mixed model results against the mixed model results also adjusted for age and sex"
   ]
  },
  {
   "cell_type": "code",
   "execution_count": 27,
   "id": "8ca15d59",
   "metadata": {},
   "outputs": [
    {
     "name": "stdout",
     "output_type": "stream",
     "text": [
      "(180143, 6)\n",
      "(167372, 6)\n"
     ]
    }
   ],
   "source": [
    "mm_file = f'{results_dir}/{cohort}.quants_time_mm.csv'\n",
    "mm_cov_file =  f'{results_dir}/{cohort}.quants_time_cov_mm.csv'\n",
    "mm_results_df = pd.read_csv(mm_file)\n",
    "mm_results_df = mm_results_df.loc[mm_results_df['bh_fdr'] < 0.05]\n",
    "print(mm_results_df.shape)\n",
    "mm_cov_results_df = pd.read_csv(mm_cov_file)\n",
    "mm_cov_results_df = mm_cov_results_df.loc[mm_cov_results_df['bh_fdr'] < 0.05]\n",
    "print(mm_cov_results_df.shape)"
   ]
  },
  {
   "cell_type": "code",
   "execution_count": 28,
   "id": "ca72855b",
   "metadata": {},
   "outputs": [
    {
     "name": "stdout",
     "output_type": "stream",
     "text": [
      "148729\n",
      "31414\n",
      "18643\n"
     ]
    }
   ],
   "source": [
    "in_both = set(mm_results_df['feature']) & set(mm_cov_results_df['feature'])\n",
    "print(len(in_both))\n",
    "in_just_mm = set(mm_results_df['feature']) - set(mm_cov_results_df['feature']) \n",
    "print(len(in_just_mm))\n",
    "in_just_mm_cov = set(mm_cov_results_df['feature']) - set(mm_results_df['feature'])\n",
    "print(len(in_just_mm_cov))"
   ]
  },
  {
   "cell_type": "code",
   "execution_count": 29,
   "id": "7ee5341d",
   "metadata": {},
   "outputs": [],
   "source": [
    "both_file = f'{results_dir}/{cohort}.quants_time_mm_and_mmcov.csv'\n",
    "just_mm_file = f'{results_dir}/{cohort}.quants_time_mm_only.csv'\n",
    "just_mmcov_file = f'{results_dir}/{cohort}.quants_time_mmcov_only.csv'\n",
    "\n",
    "mm_results_df.loc[mm_results_df['feature'].isin(in_both)].to_csv(both_file, index=False)\n",
    "mm_results_df.loc[mm_results_df['feature'].isin(in_just_mm)].to_csv(just_mm_file, index=False)\n",
    "mm_cov_results_df.loc[mm_cov_results_df['feature'].isin(in_just_mm_cov)].to_csv(just_mmcov_file, index=False)"
   ]
  },
  {
   "cell_type": "code",
   "execution_count": 30,
   "id": "0f9a8fe8",
   "metadata": {},
   "outputs": [
    {
     "data": {
      "text/html": [
       "<div>\n",
       "<style scoped>\n",
       "    .dataframe tbody tr th:only-of-type {\n",
       "        vertical-align: middle;\n",
       "    }\n",
       "\n",
       "    .dataframe tbody tr th {\n",
       "        vertical-align: top;\n",
       "    }\n",
       "\n",
       "    .dataframe thead th {\n",
       "        text-align: right;\n",
       "    }\n",
       "</style>\n",
       "<table border=\"1\" class=\"dataframe\">\n",
       "  <thead>\n",
       "    <tr style=\"text-align: right;\">\n",
       "      <th></th>\n",
       "      <th>feature</th>\n",
       "      <th>coef</th>\n",
       "      <th>stderr</th>\n",
       "      <th>term_cnt</th>\n",
       "      <th>p-value</th>\n",
       "      <th>bh_fdr</th>\n",
       "    </tr>\n",
       "  </thead>\n",
       "  <tbody>\n",
       "    <tr>\n",
       "      <th>0</th>\n",
       "      <td>chr1_68448392_68449007</td>\n",
       "      <td>-0.002932</td>\n",
       "      <td>0.000198</td>\n",
       "      <td>3</td>\n",
       "      <td>7.660591e-50</td>\n",
       "      <td>3.383531e-49</td>\n",
       "    </tr>\n",
       "    <tr>\n",
       "      <th>1</th>\n",
       "      <td>chr15_86163901_86164858</td>\n",
       "      <td>0.003508</td>\n",
       "      <td>0.000175</td>\n",
       "      <td>3</td>\n",
       "      <td>2.065518e-89</td>\n",
       "      <td>2.866631e-88</td>\n",
       "    </tr>\n",
       "    <tr>\n",
       "      <th>2</th>\n",
       "      <td>chr19_3585233_3587171</td>\n",
       "      <td>-0.003556</td>\n",
       "      <td>0.000162</td>\n",
       "      <td>3</td>\n",
       "      <td>2.875902e-106</td>\n",
       "      <td>7.082685e-105</td>\n",
       "    </tr>\n",
       "    <tr>\n",
       "      <th>3</th>\n",
       "      <td>chr10_86917913_86918670</td>\n",
       "      <td>0.002506</td>\n",
       "      <td>0.000179</td>\n",
       "      <td>3</td>\n",
       "      <td>1.204554e-44</td>\n",
       "      <td>4.627960e-44</td>\n",
       "    </tr>\n",
       "    <tr>\n",
       "      <th>4</th>\n",
       "      <td>chr8_23064607_23065520</td>\n",
       "      <td>-0.000567</td>\n",
       "      <td>0.000263</td>\n",
       "      <td>3</td>\n",
       "      <td>3.104999e-02</td>\n",
       "      <td>3.506781e-02</td>\n",
       "    </tr>\n",
       "  </tbody>\n",
       "</table>\n",
       "</div>"
      ],
      "text/plain": [
       "                   feature      coef    stderr  term_cnt        p-value  \\\n",
       "0   chr1_68448392_68449007 -0.002932  0.000198         3   7.660591e-50   \n",
       "1  chr15_86163901_86164858  0.003508  0.000175         3   2.065518e-89   \n",
       "2    chr19_3585233_3587171 -0.003556  0.000162         3  2.875902e-106   \n",
       "3  chr10_86917913_86918670  0.002506  0.000179         3   1.204554e-44   \n",
       "4   chr8_23064607_23065520 -0.000567  0.000263         3   3.104999e-02   \n",
       "\n",
       "          bh_fdr  \n",
       "0   3.383531e-49  \n",
       "1   2.866631e-88  \n",
       "2  7.082685e-105  \n",
       "3   4.627960e-44  \n",
       "4   3.506781e-02  "
      ]
     },
     "execution_count": 30,
     "metadata": {},
     "output_type": "execute_result"
    }
   ],
   "source": [
    "mm_results_df.head()"
   ]
  },
  {
   "cell_type": "code",
   "execution_count": 31,
   "id": "4c4e03b9",
   "metadata": {},
   "outputs": [
    {
     "data": {
      "text/html": [
       "<div>\n",
       "<style scoped>\n",
       "    .dataframe tbody tr th:only-of-type {\n",
       "        vertical-align: middle;\n",
       "    }\n",
       "\n",
       "    .dataframe tbody tr th {\n",
       "        vertical-align: top;\n",
       "    }\n",
       "\n",
       "    .dataframe thead th {\n",
       "        text-align: right;\n",
       "    }\n",
       "</style>\n",
       "<table border=\"1\" class=\"dataframe\">\n",
       "  <thead>\n",
       "    <tr style=\"text-align: right;\">\n",
       "      <th></th>\n",
       "      <th>feature</th>\n",
       "      <th>coef</th>\n",
       "      <th>stderr</th>\n",
       "      <th>term_cnt</th>\n",
       "      <th>p-value</th>\n",
       "      <th>bh_fdr</th>\n",
       "    </tr>\n",
       "  </thead>\n",
       "  <tbody>\n",
       "    <tr>\n",
       "      <th>0</th>\n",
       "      <td>chr1_76145950_76146654</td>\n",
       "      <td>-0.002457</td>\n",
       "      <td>0.000334</td>\n",
       "      <td>10</td>\n",
       "      <td>2.025335e-13</td>\n",
       "      <td>5.092434e-13</td>\n",
       "    </tr>\n",
       "    <tr>\n",
       "      <th>1</th>\n",
       "      <td>chr8_134619742_134620682</td>\n",
       "      <td>-0.002086</td>\n",
       "      <td>0.000342</td>\n",
       "      <td>10</td>\n",
       "      <td>1.021253e-09</td>\n",
       "      <td>2.075392e-09</td>\n",
       "    </tr>\n",
       "    <tr>\n",
       "      <th>2</th>\n",
       "      <td>chr10_5396446_5397249</td>\n",
       "      <td>0.006076</td>\n",
       "      <td>0.000334</td>\n",
       "      <td>10</td>\n",
       "      <td>6.510279e-74</td>\n",
       "      <td>4.994856e-72</td>\n",
       "    </tr>\n",
       "    <tr>\n",
       "      <th>3</th>\n",
       "      <td>chr6_50848987_50851834</td>\n",
       "      <td>-0.005036</td>\n",
       "      <td>0.000260</td>\n",
       "      <td>10</td>\n",
       "      <td>7.930344e-84</td>\n",
       "      <td>1.049194e-81</td>\n",
       "    </tr>\n",
       "    <tr>\n",
       "      <th>4</th>\n",
       "      <td>chr8_95237930_95239175</td>\n",
       "      <td>-0.004296</td>\n",
       "      <td>0.000326</td>\n",
       "      <td>10</td>\n",
       "      <td>1.561956e-39</td>\n",
       "      <td>1.701694e-38</td>\n",
       "    </tr>\n",
       "  </tbody>\n",
       "</table>\n",
       "</div>"
      ],
      "text/plain": [
       "                    feature      coef    stderr  term_cnt       p-value  \\\n",
       "0    chr1_76145950_76146654 -0.002457  0.000334        10  2.025335e-13   \n",
       "1  chr8_134619742_134620682 -0.002086  0.000342        10  1.021253e-09   \n",
       "2     chr10_5396446_5397249  0.006076  0.000334        10  6.510279e-74   \n",
       "3    chr6_50848987_50851834 -0.005036  0.000260        10  7.930344e-84   \n",
       "4    chr8_95237930_95239175 -0.004296  0.000326        10  1.561956e-39   \n",
       "\n",
       "         bh_fdr  \n",
       "0  5.092434e-13  \n",
       "1  2.075392e-09  \n",
       "2  4.994856e-72  \n",
       "3  1.049194e-81  \n",
       "4  1.701694e-38  "
      ]
     },
     "execution_count": 31,
     "metadata": {},
     "output_type": "execute_result"
    }
   ],
   "source": [
    "mm_cov_results_df.head()"
   ]
  },
  {
   "cell_type": "code",
   "execution_count": 32,
   "id": "16c7a7a4",
   "metadata": {},
   "outputs": [
    {
     "name": "stdout",
     "output_type": "stream",
     "text": [
      "(148729, 11)\n"
     ]
    }
   ],
   "source": [
    "both_df = mm_results_df.merge(mm_cov_results_df, how='inner', left_on='feature', right_on='feature')\n",
    "print(both_df.shape)"
   ]
  },
  {
   "cell_type": "code",
   "execution_count": 33,
   "id": "54bc2c7c",
   "metadata": {},
   "outputs": [],
   "source": [
    "results_df['log10_pvalue'] = np.log10(results_df['p-value'])*-1\n",
    "results_df['score'] = results_df['coef']/results_df['stderr']"
   ]
  },
  {
   "cell_type": "code",
   "execution_count": 34,
   "id": "84e6b592",
   "metadata": {},
   "outputs": [
    {
     "data": {
      "text/plain": [
       "<AxesSubplot:xlabel='coef_x', ylabel='coef_y'>"
      ]
     },
     "execution_count": 34,
     "metadata": {},
     "output_type": "execute_result"
    },
    {
     "data": {
      "image/png": "[encoded data removed]",
      "text/plain": [
       "<Figure size 432x288 with 1 Axes>"
      ]
     },
     "metadata": {
      "needs_background": "light"
     },
     "output_type": "display_data"
    }
   ],
   "source": [
    "sns.scatterplot(x='coef_x', y='coef_y', data=both_df)"
   ]
  },
  {
   "cell_type": "code",
   "execution_count": 35,
   "id": "374754e0",
   "metadata": {},
   "outputs": [
    {
     "data": {
      "text/html": [
       "<div>\n",
       "<style scoped>\n",
       "    .dataframe tbody tr th:only-of-type {\n",
       "        vertical-align: middle;\n",
       "    }\n",
       "\n",
       "    .dataframe tbody tr th {\n",
       "        vertical-align: top;\n",
       "    }\n",
       "\n",
       "    .dataframe thead th {\n",
       "        text-align: right;\n",
       "    }\n",
       "</style>\n",
       "<table border=\"1\" class=\"dataframe\">\n",
       "  <thead>\n",
       "    <tr style=\"text-align: right;\">\n",
       "      <th></th>\n",
       "      <th>feature</th>\n",
       "      <th>coef_x</th>\n",
       "      <th>stderr_x</th>\n",
       "      <th>term_cnt_x</th>\n",
       "      <th>p-value_x</th>\n",
       "      <th>bh_fdr_x</th>\n",
       "      <th>coef_y</th>\n",
       "      <th>stderr_y</th>\n",
       "      <th>term_cnt_y</th>\n",
       "      <th>p-value_y</th>\n",
       "      <th>bh_fdr_y</th>\n",
       "    </tr>\n",
       "  </thead>\n",
       "  <tbody>\n",
       "    <tr>\n",
       "      <th>0</th>\n",
       "      <td>chr1_68448392_68449007</td>\n",
       "      <td>-0.002932</td>\n",
       "      <td>0.000198</td>\n",
       "      <td>3</td>\n",
       "      <td>7.660591e-50</td>\n",
       "      <td>3.383531e-49</td>\n",
       "      <td>-0.001149</td>\n",
       "      <td>0.000351</td>\n",
       "      <td>10</td>\n",
       "      <td>1.057407e-03</td>\n",
       "      <td>1.460207e-03</td>\n",
       "    </tr>\n",
       "    <tr>\n",
       "      <th>1</th>\n",
       "      <td>chr15_86163901_86164858</td>\n",
       "      <td>0.003508</td>\n",
       "      <td>0.000175</td>\n",
       "      <td>3</td>\n",
       "      <td>2.065518e-89</td>\n",
       "      <td>2.866631e-88</td>\n",
       "      <td>0.003700</td>\n",
       "      <td>0.000323</td>\n",
       "      <td>10</td>\n",
       "      <td>2.281581e-30</td>\n",
       "      <td>1.484872e-29</td>\n",
       "    </tr>\n",
       "    <tr>\n",
       "      <th>2</th>\n",
       "      <td>chr19_3585233_3587171</td>\n",
       "      <td>-0.003556</td>\n",
       "      <td>0.000162</td>\n",
       "      <td>3</td>\n",
       "      <td>2.875902e-106</td>\n",
       "      <td>7.082685e-105</td>\n",
       "      <td>-0.002114</td>\n",
       "      <td>0.000277</td>\n",
       "      <td>10</td>\n",
       "      <td>2.358001e-14</td>\n",
       "      <td>6.257639e-14</td>\n",
       "    </tr>\n",
       "    <tr>\n",
       "      <th>3</th>\n",
       "      <td>chr10_86917913_86918670</td>\n",
       "      <td>0.002506</td>\n",
       "      <td>0.000179</td>\n",
       "      <td>3</td>\n",
       "      <td>1.204554e-44</td>\n",
       "      <td>4.627960e-44</td>\n",
       "      <td>0.004579</td>\n",
       "      <td>0.000293</td>\n",
       "      <td>10</td>\n",
       "      <td>3.697957e-55</td>\n",
       "      <td>9.815797e-54</td>\n",
       "    </tr>\n",
       "    <tr>\n",
       "      <th>4</th>\n",
       "      <td>chr8_23064607_23065520</td>\n",
       "      <td>-0.000567</td>\n",
       "      <td>0.000263</td>\n",
       "      <td>3</td>\n",
       "      <td>3.104999e-02</td>\n",
       "      <td>3.506781e-02</td>\n",
       "      <td>0.002517</td>\n",
       "      <td>0.000429</td>\n",
       "      <td>10</td>\n",
       "      <td>4.592908e-09</td>\n",
       "      <td>8.982533e-09</td>\n",
       "    </tr>\n",
       "  </tbody>\n",
       "</table>\n",
       "</div>"
      ],
      "text/plain": [
       "                   feature    coef_x  stderr_x  term_cnt_x      p-value_x  \\\n",
       "0   chr1_68448392_68449007 -0.002932  0.000198           3   7.660591e-50   \n",
       "1  chr15_86163901_86164858  0.003508  0.000175           3   2.065518e-89   \n",
       "2    chr19_3585233_3587171 -0.003556  0.000162           3  2.875902e-106   \n",
       "3  chr10_86917913_86918670  0.002506  0.000179           3   1.204554e-44   \n",
       "4   chr8_23064607_23065520 -0.000567  0.000263           3   3.104999e-02   \n",
       "\n",
       "        bh_fdr_x    coef_y  stderr_y  term_cnt_y     p-value_y      bh_fdr_y  \n",
       "0   3.383531e-49 -0.001149  0.000351          10  1.057407e-03  1.460207e-03  \n",
       "1   2.866631e-88  0.003700  0.000323          10  2.281581e-30  1.484872e-29  \n",
       "2  7.082685e-105 -0.002114  0.000277          10  2.358001e-14  6.257639e-14  \n",
       "3   4.627960e-44  0.004579  0.000293          10  3.697957e-55  9.815797e-54  \n",
       "4   3.506781e-02  0.002517  0.000429          10  4.592908e-09  8.982533e-09  "
      ]
     },
     "metadata": {},
     "output_type": "display_data"
    }
   ],
   "source": [
    "display(both_df.head())"
   ]
  },
  {
   "cell_type": "code",
   "execution_count": 50,
   "id": "6c51b713",
   "metadata": {},
   "outputs": [
    {
     "name": "stdout",
     "output_type": "stream",
     "text": [
      "(112024, 11)\n"
     ]
    },
    {
     "data": {
      "text/html": [
       "<div>\n",
       "<style scoped>\n",
       "    .dataframe tbody tr th:only-of-type {\n",
       "        vertical-align: middle;\n",
       "    }\n",
       "\n",
       "    .dataframe tbody tr th {\n",
       "        vertical-align: top;\n",
       "    }\n",
       "\n",
       "    .dataframe thead th {\n",
       "        text-align: right;\n",
       "    }\n",
       "</style>\n",
       "<table border=\"1\" class=\"dataframe\">\n",
       "  <thead>\n",
       "    <tr style=\"text-align: right;\">\n",
       "      <th></th>\n",
       "      <th>feature</th>\n",
       "      <th>coef_x</th>\n",
       "      <th>stderr_x</th>\n",
       "      <th>term_cnt_x</th>\n",
       "      <th>p-value_x</th>\n",
       "      <th>bh_fdr_x</th>\n",
       "      <th>coef_y</th>\n",
       "      <th>stderr_y</th>\n",
       "      <th>term_cnt_y</th>\n",
       "      <th>p-value_y</th>\n",
       "      <th>bh_fdr_y</th>\n",
       "    </tr>\n",
       "  </thead>\n",
       "  <tbody>\n",
       "    <tr>\n",
       "      <th>12952</th>\n",
       "      <td>chr14_93044594_93046239</td>\n",
       "      <td>-0.0019</td>\n",
       "      <td>0.000201</td>\n",
       "      <td>3</td>\n",
       "      <td>3.427568e-21</td>\n",
       "      <td>6.998099e-21</td>\n",
       "      <td>-0.005985</td>\n",
       "      <td>0.000202</td>\n",
       "      <td>10</td>\n",
       "      <td>3.071160e-192</td>\n",
       "      <td>6.192288e-187</td>\n",
       "    </tr>\n",
       "  </tbody>\n",
       "</table>\n",
       "</div>"
      ],
      "text/plain": [
       "                       feature  coef_x  stderr_x  term_cnt_x     p-value_x  \\\n",
       "12952  chr14_93044594_93046239 -0.0019  0.000201           3  3.427568e-21   \n",
       "\n",
       "           bh_fdr_x    coef_y  stderr_y  term_cnt_y      p-value_y  \\\n",
       "12952  6.998099e-21 -0.005985  0.000202          10  3.071160e-192   \n",
       "\n",
       "            bh_fdr_y  \n",
       "12952  6.192288e-187  "
      ]
     },
     "metadata": {},
     "output_type": "display_data"
    },
    {
     "data": {
      "text/html": [
       "<div>\n",
       "<style scoped>\n",
       "    .dataframe tbody tr th:only-of-type {\n",
       "        vertical-align: middle;\n",
       "    }\n",
       "\n",
       "    .dataframe tbody tr th {\n",
       "        vertical-align: top;\n",
       "    }\n",
       "\n",
       "    .dataframe thead th {\n",
       "        text-align: right;\n",
       "    }\n",
       "</style>\n",
       "<table border=\"1\" class=\"dataframe\">\n",
       "  <thead>\n",
       "    <tr style=\"text-align: right;\">\n",
       "      <th></th>\n",
       "      <th>feature</th>\n",
       "      <th>coef_x</th>\n",
       "      <th>stderr_x</th>\n",
       "      <th>term_cnt_x</th>\n",
       "      <th>p-value_x</th>\n",
       "      <th>bh_fdr_x</th>\n",
       "      <th>coef_y</th>\n",
       "      <th>stderr_y</th>\n",
       "      <th>term_cnt_y</th>\n",
       "      <th>p-value_y</th>\n",
       "      <th>bh_fdr_y</th>\n",
       "    </tr>\n",
       "  </thead>\n",
       "  <tbody>\n",
       "    <tr>\n",
       "      <th>20620</th>\n",
       "      <td>chr3_162269321_162270349</td>\n",
       "      <td>0.001628</td>\n",
       "      <td>0.000215</td>\n",
       "      <td>3</td>\n",
       "      <td>3.863505e-14</td>\n",
       "      <td>6.551064e-14</td>\n",
       "      <td>0.000802</td>\n",
       "      <td>0.000394</td>\n",
       "      <td>10</td>\n",
       "      <td>0.041501</td>\n",
       "      <td>0.049995</td>\n",
       "    </tr>\n",
       "  </tbody>\n",
       "</table>\n",
       "</div>"
      ],
      "text/plain": [
       "                        feature    coef_x  stderr_x  term_cnt_x     p-value_x  \\\n",
       "20620  chr3_162269321_162270349  0.001628  0.000215           3  3.863505e-14   \n",
       "\n",
       "           bh_fdr_x    coef_y  stderr_y  term_cnt_y  p-value_y  bh_fdr_y  \n",
       "20620  6.551064e-14  0.000802  0.000394          10   0.041501  0.049995  "
      ]
     },
     "metadata": {},
     "output_type": "display_data"
    }
   ],
   "source": [
    "both_same_dir = both_df.loc[((both_df['coef_x'] > 0) & (both_df['coef_y'] > 0)) | \n",
    "                            ((both_df['coef_x'] < 0) & (both_df['coef_y'] < 0))]\n",
    "print(both_same_dir.shape)\n",
    "display(both_same_dir.loc[both_same_dir['p-value_y'] == min(both_same_dir['p-value_y'])])\n",
    "display(both_same_dir.loc[both_same_dir['p-value_y'] == max(both_same_dir['p-value_y'])])"
   ]
  },
  {
   "cell_type": "markdown",
   "id": "fd72c2de",
   "metadata": {},
   "source": [
    "#### do some example plotting"
   ]
  },
  {
   "cell_type": "code",
   "execution_count": 51,
   "id": "9d574824",
   "metadata": {},
   "outputs": [
    {
     "data": {
      "text/plain": [
       "<seaborn.axisgrid.FacetGrid at 0x7f99adf8dd50>"
      ]
     },
     "execution_count": 51,
     "metadata": {},
     "output_type": "execute_result"
    },
    {
     "data": {
      "image/png": "[encoded data removed]",
      "text/plain": [
       "<Figure size 436.125x360 with 1 Axes>"
      ]
     },
     "metadata": {
      "needs_background": "light"
     },
     "output_type": "display_data"
    }
   ],
   "source": [
    "sns.lmplot(x='daynum', y='chr14_93044594_93046239', hue='Batch', \n",
    "           data=data_df, palette='Set1')"
   ]
  },
  {
   "cell_type": "code",
   "execution_count": 52,
   "id": "344ef26e",
   "metadata": {},
   "outputs": [
    {
     "data": {
      "text/plain": [
       "<seaborn.axisgrid.FacetGrid at 0x7f99add83090>"
      ]
     },
     "execution_count": 52,
     "metadata": {},
     "output_type": "execute_result"
    },
    {
     "data": {
      "image/png": "[encoded data removed]",
      "text/plain": [
       "<Figure size 436.125x360 with 1 Axes>"
      ]
     },
     "metadata": {
      "needs_background": "light"
     },
     "output_type": "display_data"
    }
   ],
   "source": [
    "sns.lmplot(x='daynum', y='chr3_162269321_162270349', hue='Batch', \n",
    "           data=data_df, palette='Set1')"
   ]
  },
  {
   "cell_type": "code",
   "execution_count": null,
   "id": "407d9294",
   "metadata": {},
   "outputs": [],
   "source": []
  }
 ],
 "metadata": {
  "environment": {
   "name": "pytorch-gpu.1-9.m75",
   "type": "gcloud",
   "uri": "gcr.io/deeplearning-platform-release/pytorch-gpu.1-9:m75"
  },
  "kernelspec": {
   "display_name": "Python 3",
   "language": "python",
   "name": "python3"
  },
  "language_info": {
   "codemirror_mode": {
    "name": "ipython",
    "version": 3
   },
   "file_extension": ".py",
   "mimetype": "text/x-python",
   "name": "python",
   "nbconvert_exporter": "python",
   "pygments_lexer": "ipython3",
   "version": "3.7.10"
  },
  "widgets": {
   "application/vnd.jupyter.widget-state+json": {
    "state": {},
    "version_major": 2,
    "version_minor": 0
   }
  }
 },
 "nbformat": 4,
 "nbformat_minor": 5
}
