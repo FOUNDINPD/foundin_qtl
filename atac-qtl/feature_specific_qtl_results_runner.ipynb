{
 "cells": [
  {
   "cell_type": "markdown",
   "metadata": {},
   "source": [
    "## Notebook to runner for FOUNDIN-PD day QTL result for a specific feature prep via papermill"
   ]
  },
  {
   "cell_type": "code",
   "execution_count": 1,
   "metadata": {},
   "outputs": [
    {
     "name": "stdout",
     "output_type": "stream",
     "text": [
      "Tue Aug 17 18:45:50 EDT 2021\n"
     ]
    }
   ],
   "source": [
    "!date"
   ]
  },
  {
   "cell_type": "markdown",
   "metadata": {},
   "source": [
    "#### import libraries"
   ]
  },
  {
   "cell_type": "code",
   "execution_count": 2,
   "metadata": {},
   "outputs": [
    {
     "name": "stderr",
     "output_type": "stream",
     "text": [
      "/home/gibbsr/anaconda3/lib/python3.8/site-packages/papermill/iorw.py:50: FutureWarning: pyarrow.HadoopFileSystem is deprecated as of 2.0.0, please use pyarrow.fs.HadoopFileSystem instead.\n",
      "  from pyarrow import HadoopFileSystem\n"
     ]
    }
   ],
   "source": [
    "import os\n",
    "import papermill as pm"
   ]
  },
  {
   "cell_type": "code",
   "execution_count": 3,
   "metadata": {},
   "outputs": [],
   "source": [
    "# base notebook to be run per tuple iteration\n",
    "base_notebook = '/home/gibbsr/foundin/notebooks/feature_specific_qtl_results.ipynb'\n",
    "\n",
    "out_nb_dir = f'/home/gibbsr/foundin/notebooks/pm_gend_nbs'\n",
    "\n",
    "# setup iteration tuples\n",
    "cohort = 'foundin'\n",
    "features = ['chr2_95299794_95302609', 'chr2_101974474_101975378',\n",
    " 'chr17_45518784_45519997', 'chr17_46286493_46287348',\n",
    " 'chr17_46253771_46254484', 'chr17_45512153_45513143',\n",
    " 'chr17_45515245_45518203', 'chr17_45600157_45602549',\n",
    " 'chr17_46224432_46226127', 'chr17_45500945_45502221',\n",
    " 'chr17_46558329_46559964', 'chr1_205849678_205850531']"
   ]
  },
  {
   "cell_type": "markdown",
   "metadata": {},
   "source": [
    "#### iterate over the tuples running the notebook per tuple"
   ]
  },
  {
   "cell_type": "code",
   "execution_count": 4,
   "metadata": {},
   "outputs": [
    {
     "name": "stdout",
     "output_type": "stream",
     "text": [
      "{'cohort': 'foundin', 'feature': 'chr2_95299794_95302609'}\n",
      "/home/gibbsr/foundin/notebooks/pm_gend_nbs/foundin.chr2_95299794_95302609.specific_eqtl_results.ipynb\n"
     ]
    },
    {
     "data": {
      "application/vnd.jupyter.widget-view+json": {
       "model_id": "0c283447340b4d638e4b09b3937d5f75",
       "version_major": 2,
       "version_minor": 0
      },
      "text/plain": [
       "Executing:   0%|          | 0/36 [00:00<?, ?cell/s]"
      ]
     },
     "metadata": {},
     "output_type": "display_data"
    },
    {
     "name": "stdout",
     "output_type": "stream",
     "text": [
      "{'cohort': 'foundin', 'feature': 'chr2_101974474_101975378'}\n",
      "/home/gibbsr/foundin/notebooks/pm_gend_nbs/foundin.chr2_101974474_101975378.specific_eqtl_results.ipynb\n"
     ]
    },
    {
     "data": {
      "application/vnd.jupyter.widget-view+json": {
       "model_id": "d1100944b53a43809dfd1fa33eaf6636",
       "version_major": 2,
       "version_minor": 0
      },
      "text/plain": [
       "Executing:   0%|          | 0/36 [00:00<?, ?cell/s]"
      ]
     },
     "metadata": {},
     "output_type": "display_data"
    },
    {
     "name": "stdout",
     "output_type": "stream",
     "text": [
      "{'cohort': 'foundin', 'feature': 'chr17_45518784_45519997'}\n",
      "/home/gibbsr/foundin/notebooks/pm_gend_nbs/foundin.chr17_45518784_45519997.specific_eqtl_results.ipynb\n"
     ]
    },
    {
     "data": {
      "application/vnd.jupyter.widget-view+json": {
       "model_id": "244f77aa781f4731a9cfa8be0eb80960",
       "version_major": 2,
       "version_minor": 0
      },
      "text/plain": [
       "Executing:   0%|          | 0/36 [00:00<?, ?cell/s]"
      ]
     },
     "metadata": {},
     "output_type": "display_data"
    },
    {
     "name": "stdout",
     "output_type": "stream",
     "text": [
      "{'cohort': 'foundin', 'feature': 'chr17_46286493_46287348'}\n",
      "/home/gibbsr/foundin/notebooks/pm_gend_nbs/foundin.chr17_46286493_46287348.specific_eqtl_results.ipynb\n"
     ]
    },
    {
     "data": {
      "application/vnd.jupyter.widget-view+json": {
       "model_id": "2f4c99085aec473eb9a8f30f330f222e",
       "version_major": 2,
       "version_minor": 0
      },
      "text/plain": [
       "Executing:   0%|          | 0/36 [00:00<?, ?cell/s]"
      ]
     },
     "metadata": {},
     "output_type": "display_data"
    },
    {
     "name": "stdout",
     "output_type": "stream",
     "text": [
      "{'cohort': 'foundin', 'feature': 'chr17_46253771_46254484'}\n",
      "/home/gibbsr/foundin/notebooks/pm_gend_nbs/foundin.chr17_46253771_46254484.specific_eqtl_results.ipynb\n"
     ]
    },
    {
     "data": {
      "application/vnd.jupyter.widget-view+json": {
       "model_id": "c4955bc6b7914826a3ae387f4ff723fe",
       "version_major": 2,
       "version_minor": 0
      },
      "text/plain": [
       "Executing:   0%|          | 0/36 [00:00<?, ?cell/s]"
      ]
     },
     "metadata": {},
     "output_type": "display_data"
    },
    {
     "name": "stdout",
     "output_type": "stream",
     "text": [
      "{'cohort': 'foundin', 'feature': 'chr17_45512153_45513143'}\n",
      "/home/gibbsr/foundin/notebooks/pm_gend_nbs/foundin.chr17_45512153_45513143.specific_eqtl_results.ipynb\n"
     ]
    },
    {
     "data": {
      "application/vnd.jupyter.widget-view+json": {
       "model_id": "02f767f597c9419783b493cb51215018",
       "version_major": 2,
       "version_minor": 0
      },
      "text/plain": [
       "Executing:   0%|          | 0/36 [00:00<?, ?cell/s]"
      ]
     },
     "metadata": {},
     "output_type": "display_data"
    },
    {
     "name": "stdout",
     "output_type": "stream",
     "text": [
      "{'cohort': 'foundin', 'feature': 'chr17_45515245_45518203'}\n",
      "/home/gibbsr/foundin/notebooks/pm_gend_nbs/foundin.chr17_45515245_45518203.specific_eqtl_results.ipynb\n"
     ]
    },
    {
     "data": {
      "application/vnd.jupyter.widget-view+json": {
       "model_id": "f1b28f05364841d1b4cc15ed651d4225",
       "version_major": 2,
       "version_minor": 0
      },
      "text/plain": [
       "Executing:   0%|          | 0/36 [00:00<?, ?cell/s]"
      ]
     },
     "metadata": {},
     "output_type": "display_data"
    },
    {
     "name": "stdout",
     "output_type": "stream",
     "text": [
      "{'cohort': 'foundin', 'feature': 'chr17_45600157_45602549'}\n",
      "/home/gibbsr/foundin/notebooks/pm_gend_nbs/foundin.chr17_45600157_45602549.specific_eqtl_results.ipynb\n"
     ]
    },
    {
     "data": {
      "application/vnd.jupyter.widget-view+json": {
       "model_id": "d7eea178003f455ab44397632339ea20",
       "version_major": 2,
       "version_minor": 0
      },
      "text/plain": [
       "Executing:   0%|          | 0/36 [00:00<?, ?cell/s]"
      ]
     },
     "metadata": {},
     "output_type": "display_data"
    },
    {
     "name": "stdout",
     "output_type": "stream",
     "text": [
      "{'cohort': 'foundin', 'feature': 'chr17_46224432_46226127'}\n",
      "/home/gibbsr/foundin/notebooks/pm_gend_nbs/foundin.chr17_46224432_46226127.specific_eqtl_results.ipynb\n"
     ]
    },
    {
     "data": {
      "application/vnd.jupyter.widget-view+json": {
       "model_id": "d2e538fe505444beb59fc40c9ec8fb72",
       "version_major": 2,
       "version_minor": 0
      },
      "text/plain": [
       "Executing:   0%|          | 0/36 [00:00<?, ?cell/s]"
      ]
     },
     "metadata": {},
     "output_type": "display_data"
    },
    {
     "name": "stdout",
     "output_type": "stream",
     "text": [
      "{'cohort': 'foundin', 'feature': 'chr17_45500945_45502221'}\n",
      "/home/gibbsr/foundin/notebooks/pm_gend_nbs/foundin.chr17_45500945_45502221.specific_eqtl_results.ipynb\n"
     ]
    },
    {
     "data": {
      "application/vnd.jupyter.widget-view+json": {
       "model_id": "24020674d7ad48b6a0601f4766b1ed8b",
       "version_major": 2,
       "version_minor": 0
      },
      "text/plain": [
       "Executing:   0%|          | 0/36 [00:00<?, ?cell/s]"
      ]
     },
     "metadata": {},
     "output_type": "display_data"
    },
    {
     "name": "stdout",
     "output_type": "stream",
     "text": [
      "{'cohort': 'foundin', 'feature': 'chr17_46558329_46559964'}\n",
      "/home/gibbsr/foundin/notebooks/pm_gend_nbs/foundin.chr17_46558329_46559964.specific_eqtl_results.ipynb\n"
     ]
    },
    {
     "data": {
      "application/vnd.jupyter.widget-view+json": {
       "model_id": "652fdea9953e4e139aec21d92ee5e61a",
       "version_major": 2,
       "version_minor": 0
      },
      "text/plain": [
       "Executing:   0%|          | 0/36 [00:00<?, ?cell/s]"
      ]
     },
     "metadata": {},
     "output_type": "display_data"
    },
    {
     "name": "stdout",
     "output_type": "stream",
     "text": [
      "{'cohort': 'foundin', 'feature': 'chr1_205849678_205850531'}\n",
      "/home/gibbsr/foundin/notebooks/pm_gend_nbs/foundin.chr1_205849678_205850531.specific_eqtl_results.ipynb\n"
     ]
    },
    {
     "data": {
      "application/vnd.jupyter.widget-view+json": {
       "model_id": "4d9a0a15d9244ab29f723e8293095596",
       "version_major": 2,
       "version_minor": 0
      },
      "text/plain": [
       "Executing:   0%|          | 0/36 [00:00<?, ?cell/s]"
      ]
     },
     "metadata": {},
     "output_type": "display_data"
    },
    {
     "name": "stdout",
     "output_type": "stream",
     "text": [
      "CPU times: user 12.2 s, sys: 1.08 s, total: 13.3 s\n",
      "Wall time: 29min 49s\n"
     ]
    }
   ],
   "source": [
    "%%time\n",
    "\n",
    "# make sure the notebook output dir exists\n",
    "os.makedirs(out_nb_dir, exist_ok=True)\n",
    "for feature in features:\n",
    "    param_dict = {'cohort': cohort, 'feature': feature}\n",
    "    out_notebook = f'{out_nb_dir}/{cohort}.{feature}.specific_eqtl_results.ipynb'\n",
    "    print(param_dict)\n",
    "    print(out_notebook)\n",
    "    try:\n",
    "        pm.execute_notebook(input_path=base_notebook, output_path=out_notebook, \n",
    "                            parameters=param_dict)\n",
    "    except:\n",
    "        print(f'{cohort}.{feature} encountered an error continuing on next')                "
   ]
  },
  {
   "cell_type": "code",
   "execution_count": null,
   "metadata": {},
   "outputs": [],
   "source": []
  }
 ],
 "metadata": {
  "environment": {
   "name": "pytorch-gpu.1-7.m65",
   "type": "gcloud",
   "uri": "gcr.io/deeplearning-platform-release/pytorch-gpu.1-7:m65"
  },
  "kernelspec": {
   "display_name": "Python 3",
   "language": "python",
   "name": "python3"
  },
  "language_info": {
   "codemirror_mode": {
    "name": "ipython",
    "version": 3
   },
   "file_extension": ".py",
   "mimetype": "text/x-python",
   "name": "python",
   "nbconvert_exporter": "python",
   "pygments_lexer": "ipython3",
   "version": "3.8.10"
  },
  "widgets": {
   "application/vnd.jupyter.widget-state+json": {
    "state": {
     "012abc9521454b94b17974ae4e06fb38": {
      "model_module": "@jupyter-widgets/controls",
      "model_module_version": "1.5.0",
      "model_name": "FloatProgressModel",
      "state": {
       "bar_style": "success",
       "layout": "IPY_MODEL_5a4da548e103427eb1d09f422f18a0be",
       "max": 36,
       "style": "IPY_MODEL_a50666fd32d848f6b88b55f7d1d754f2",
       "value": 36
      }
     },
     "03a72ac84cc14a7f92231403d76f12ed": {
      "model_module": "@jupyter-widgets/base",
      "model_module_version": "1.2.0",
      "model_name": "LayoutModel",
      "state": {}
     },
     "070f049f07fa4043b2cfe05f388ba13d": {
      "model_module": "@jupyter-widgets/controls",
      "model_module_version": "1.5.0",
      "model_name": "DescriptionStyleModel",
      "state": {
       "description_width": ""
      }
     },
     "10c6961949a5465aac5160865a3b892c": {
      "model_module": "@jupyter-widgets/controls",
      "model_module_version": "1.5.0",
      "model_name": "DescriptionStyleModel",
      "state": {
       "description_width": ""
      }
     },
     "23d4a6bca55b42e29df085a403d9b910": {
      "model_module": "@jupyter-widgets/controls",
      "model_module_version": "1.5.0",
      "model_name": "HTMLModel",
      "state": {
       "layout": "IPY_MODEL_4deecbaecf3e454cb81405dc41a7bbdd",
       "style": "IPY_MODEL_65a21d3c8e2645848a72e7e488a4b568",
       "value": " 36/36 [01:22&lt;00:00,  2.60cell/s]"
      }
     },
     "337cbf54c9c6425e9cc9745f8d8cb2e0": {
      "model_module": "@jupyter-widgets/controls",
      "model_module_version": "1.5.0",
      "model_name": "HTMLModel",
      "state": {
       "layout": "IPY_MODEL_b5b6dccfaac34f3cbbc050c2a9ca8a81",
       "style": "IPY_MODEL_070f049f07fa4043b2cfe05f388ba13d",
       "value": "Executing:  61%"
      }
     },
     "4579a95612b546f7af394cc92963b1b7": {
      "model_module": "@jupyter-widgets/base",
      "model_module_version": "1.2.0",
      "model_name": "LayoutModel",
      "state": {}
     },
     "4deecbaecf3e454cb81405dc41a7bbdd": {
      "model_module": "@jupyter-widgets/base",
      "model_module_version": "1.2.0",
      "model_name": "LayoutModel",
      "state": {}
     },
     "59c2327b03d244638f89e8d4689edbfc": {
      "model_module": "@jupyter-widgets/controls",
      "model_module_version": "1.5.0",
      "model_name": "HTMLModel",
      "state": {
       "layout": "IPY_MODEL_4579a95612b546f7af394cc92963b1b7",
       "style": "IPY_MODEL_d75738426b1e4328ba0503e0b32181be",
       "value": " 22/36 [01:03&lt;00:28,  2.05s/cell]"
      }
     },
     "5a4da548e103427eb1d09f422f18a0be": {
      "model_module": "@jupyter-widgets/base",
      "model_module_version": "1.2.0",
      "model_name": "LayoutModel",
      "state": {}
     },
     "65a21d3c8e2645848a72e7e488a4b568": {
      "model_module": "@jupyter-widgets/controls",
      "model_module_version": "1.5.0",
      "model_name": "DescriptionStyleModel",
      "state": {
       "description_width": ""
      }
     },
     "6d0f22cb7216439b8dd7e18148399960": {
      "model_module": "@jupyter-widgets/base",
      "model_module_version": "1.2.0",
      "model_name": "LayoutModel",
      "state": {}
     },
     "78e7755666734324892ada624259ab16": {
      "model_module": "@jupyter-widgets/controls",
      "model_module_version": "1.5.0",
      "model_name": "HBoxModel",
      "state": {
       "children": [
        "IPY_MODEL_337cbf54c9c6425e9cc9745f8d8cb2e0",
        "IPY_MODEL_ef305bffb9a04187abfb2d720f991041",
        "IPY_MODEL_59c2327b03d244638f89e8d4689edbfc"
       ],
       "layout": "IPY_MODEL_a9753c63f04a49f28c1dc04843bd6ca8"
      }
     },
     "9e9c83c2a6fa4e47a6a5f35b746f08b3": {
      "model_module": "@jupyter-widgets/base",
      "model_module_version": "1.2.0",
      "model_name": "LayoutModel",
      "state": {}
     },
     "a50666fd32d848f6b88b55f7d1d754f2": {
      "model_module": "@jupyter-widgets/controls",
      "model_module_version": "1.5.0",
      "model_name": "ProgressStyleModel",
      "state": {
       "description_width": ""
      }
     },
     "a9753c63f04a49f28c1dc04843bd6ca8": {
      "model_module": "@jupyter-widgets/base",
      "model_module_version": "1.2.0",
      "model_name": "LayoutModel",
      "state": {}
     },
     "b5b6dccfaac34f3cbbc050c2a9ca8a81": {
      "model_module": "@jupyter-widgets/base",
      "model_module_version": "1.2.0",
      "model_name": "LayoutModel",
      "state": {}
     },
     "c2000f45d6684ba4905bc15cd545305a": {
      "model_module": "@jupyter-widgets/controls",
      "model_module_version": "1.5.0",
      "model_name": "ProgressStyleModel",
      "state": {
       "description_width": ""
      }
     },
     "d75738426b1e4328ba0503e0b32181be": {
      "model_module": "@jupyter-widgets/controls",
      "model_module_version": "1.5.0",
      "model_name": "DescriptionStyleModel",
      "state": {
       "description_width": ""
      }
     },
     "d78197dc656f44fe85a3ba9058963cee": {
      "model_module": "@jupyter-widgets/controls",
      "model_module_version": "1.5.0",
      "model_name": "HTMLModel",
      "state": {
       "layout": "IPY_MODEL_9e9c83c2a6fa4e47a6a5f35b746f08b3",
       "style": "IPY_MODEL_10c6961949a5465aac5160865a3b892c",
       "value": "Executing: 100%"
      }
     },
     "d92eeecd4db64b8a91cd4d5ffe2a9d2a": {
      "model_module": "@jupyter-widgets/controls",
      "model_module_version": "1.5.0",
      "model_name": "HBoxModel",
      "state": {
       "children": [
        "IPY_MODEL_d78197dc656f44fe85a3ba9058963cee",
        "IPY_MODEL_012abc9521454b94b17974ae4e06fb38",
        "IPY_MODEL_23d4a6bca55b42e29df085a403d9b910"
       ],
       "layout": "IPY_MODEL_03a72ac84cc14a7f92231403d76f12ed"
      }
     },
     "ef305bffb9a04187abfb2d720f991041": {
      "model_module": "@jupyter-widgets/controls",
      "model_module_version": "1.5.0",
      "model_name": "FloatProgressModel",
      "state": {
       "bar_style": "danger",
       "layout": "IPY_MODEL_6d0f22cb7216439b8dd7e18148399960",
       "max": 36,
       "style": "IPY_MODEL_c2000f45d6684ba4905bc15cd545305a",
       "value": 22
      }
     }
    },
    "version_major": 2,
    "version_minor": 0
   }
  }
 },
 "nbformat": 4,
 "nbformat_minor": 4
}
