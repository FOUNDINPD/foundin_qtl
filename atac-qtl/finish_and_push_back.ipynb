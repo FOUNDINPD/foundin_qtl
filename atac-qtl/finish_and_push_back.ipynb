{
 "cells": [
  {
   "cell_type": "markdown",
   "metadata": {},
   "source": [
    "## Notebook to do any finishing up and push back output to GCS"
   ]
  },
  {
   "cell_type": "code",
   "execution_count": 1,
   "metadata": {},
   "outputs": [
    {
     "name": "stdout",
     "output_type": "stream",
     "text": [
      "Fri Aug 20 15:29:33 EDT 2021\n"
     ]
    }
   ],
   "source": [
    "!date"
   ]
  },
  {
   "cell_type": "code",
   "execution_count": 2,
   "metadata": {},
   "outputs": [],
   "source": [
    "# parameter variables\n",
    "cohort = 'foundin'\n",
    "quant_type = 'atac'\n",
    "\n",
    "# directories for initial setup\n",
    "wrk_dir = f'/home/gibbsr/foundin/caqtl'\n",
    "quants_dir = f'{wrk_dir}/quants'\n",
    "genos_dir = f'{wrk_dir}/genotypes'\n",
    "info_dir = f'{wrk_dir}/sample_info'\n",
    "tensorqtl_dir = f'{wrk_dir}/tensorqtl'\n",
    "results_dir = f'{wrk_dir}/results'\n",
    "qts_dir = f'{wrk_dir}/qts'\n",
    "nbs_dir = '/home/gibbsr/foundin/notebooks'\n",
    "pm_nbs_dir = '/home/gibbsr/foundin/notebooks/pm_gend_nbs'\n",
    "\n",
    "# output files to push back\n",
    "quant_bed_files = f'{quants_dir}/{cohort}.*.scaled.adj.bed.gz'\n",
    "assay_covs_files = f'{info_dir}/{cohort}_{quant_type}_sample_info.csv'\n",
    "umap_covs_files = f'{info_dir}/{cohort}.{quant_type}.umap.covs.csv'\n",
    "used_samples_list_file = f'{info_dir}/{cohort}.*.caqtl.samples'\n",
    "\n",
    "# bucket paths\n",
    "data_bucket = 'gs://foundin-processed-assay'\n",
    "qtl_bucket_path = f'{data_bucket}/analysis/caqtl'\n",
    "quant_bucket_path = f'{qtl_bucket_path}/quants'\n",
    "genos_bucket_path = f'{qtl_bucket_path}/genotypes'\n",
    "info_bucket_path = f'{qtl_bucket_path}/sample_info'\n",
    "results_bucket_path = f'{qtl_bucket_path}/results'\n",
    "tensorqtl_bucket_path = f'{qtl_bucket_path}/tensorqtl'\n",
    "qts_bucket_path = f'{qtl_bucket_path}/qts'\n",
    "nbs_bucket_path = f'{qtl_bucket_path}/notebooks'\n",
    "pm_nbs_bucket_path = f'{nbs_bucket_path}/pm_gend_nbs'"
   ]
  },
  {
   "cell_type": "markdown",
   "metadata": {},
   "source": [
    "#### utility functions"
   ]
  },
  {
   "cell_type": "code",
   "execution_count": 3,
   "metadata": {},
   "outputs": [],
   "source": [
    "# run bash command\n",
    "def run_bash_cmd(cmd, verbose=False):\n",
    "    if verbose:\n",
    "        print(this_cmd)\n",
    "    !{cmd}"
   ]
  },
  {
   "cell_type": "markdown",
   "metadata": {},
   "source": [
    "#### push the generated (keep) files back to GCS"
   ]
  },
  {
   "cell_type": "markdown",
   "metadata": {},
   "source": [
    "#### quantified features"
   ]
  },
  {
   "cell_type": "code",
   "execution_count": 4,
   "metadata": {},
   "outputs": [
    {
     "name": "stdout",
     "output_type": "stream",
     "text": [
      "gsutil -mq cp -P /home/gibbsr/foundin/caqtl/quants/* gs://foundin-processed-assay/analysis/caqtl/quants/\n",
      "CPU times: user 359 ms, sys: 71.4 ms, total: 431 ms\n",
      "Wall time: 34.9 s\n"
     ]
    }
   ],
   "source": [
    "%%time\n",
    "# quants files\n",
    "this_cmd = f'gsutil -mq cp -P {quants_dir}/* {quant_bucket_path}/'\n",
    "run_bash_cmd(this_cmd, True)"
   ]
  },
  {
   "cell_type": "markdown",
   "metadata": {},
   "source": [
    "#### genotype files"
   ]
  },
  {
   "cell_type": "code",
   "execution_count": 5,
   "metadata": {},
   "outputs": [
    {
     "name": "stdout",
     "output_type": "stream",
     "text": [
      "gsutil -mq cp -P /home/gibbsr/foundin/caqtl/genotypes/* gs://foundin-processed-assay/analysis/caqtl/genotypes/\n",
      "CPU times: user 1.79 s, sys: 386 ms, total: 2.17 s\n",
      "Wall time: 3min 1s\n"
     ]
    }
   ],
   "source": [
    "%%time\n",
    "# genotype files\n",
    "this_cmd = f'gsutil -mq cp -P {genos_dir}/* {genos_bucket_path}/'\n",
    "run_bash_cmd(this_cmd, True)"
   ]
  },
  {
   "cell_type": "markdown",
   "metadata": {},
   "source": [
    "#### sample info files"
   ]
  },
  {
   "cell_type": "code",
   "execution_count": 6,
   "metadata": {},
   "outputs": [
    {
     "name": "stdout",
     "output_type": "stream",
     "text": [
      "gsutil -mq cp -P /home/gibbsr/foundin/caqtl/sample_info/foundin_atac_sample_info.csv gs://foundin-processed-assay/analysis/caqtl/sample_info/\n",
      "gsutil -mq cp -P /home/gibbsr/foundin/caqtl/sample_info/foundin.atac.umap.covs.csv gs://foundin-processed-assay/analysis/caqtl/sample_info/\n",
      "gsutil -mq cp -P /home/gibbsr/foundin/caqtl/sample_info/foundin.*.caqtl.samples gs://foundin-processed-assay/analysis/caqtl/sample_info/\n",
      "CPU times: user 99.2 ms, sys: 51.7 ms, total: 151 ms\n",
      "Wall time: 10 s\n"
     ]
    }
   ],
   "source": [
    "%%time\n",
    "# info files\n",
    "this_cmd = f'gsutil -mq cp -P {assay_covs_files} {info_bucket_path}/'\n",
    "run_bash_cmd(this_cmd, True)\n",
    "\n",
    "this_cmd = f'gsutil -mq cp -P {umap_covs_files} {info_bucket_path}/'\n",
    "run_bash_cmd(this_cmd, True)\n",
    "\n",
    "this_cmd = f'gsutil -mq cp -P {used_samples_list_file} {info_bucket_path}/'\n",
    "run_bash_cmd(this_cmd, True)"
   ]
  },
  {
   "cell_type": "markdown",
   "metadata": {},
   "source": [
    "#### raw tensorqtl outputs"
   ]
  },
  {
   "cell_type": "code",
   "execution_count": null,
   "metadata": {},
   "outputs": [
    {
     "name": "stdout",
     "output_type": "stream",
     "text": [
      "gsutil -mq cp -P /home/gibbsr/foundin/caqtl/tensorqtl/* gs://foundin-processed-assay/analysis/caqtl/tensorqtl/\n"
     ]
    }
   ],
   "source": [
    "%%time\n",
    "# results files\n",
    "this_cmd = f'gsutil -mq cp -P {tensorqtl_dir}/* {tensorqtl_bucket_path}/'\n",
    "run_bash_cmd(this_cmd, True)"
   ]
  },
  {
   "cell_type": "markdown",
   "metadata": {},
   "source": [
    "#### results files"
   ]
  },
  {
   "cell_type": "code",
   "execution_count": null,
   "metadata": {},
   "outputs": [],
   "source": [
    "%%time\n",
    "# results files\n",
    "this_cmd = f'gsutil -mq cp -P {results_dir}/* {results_bucket_path}/'\n",
    "run_bash_cmd(this_cmd, True)\n",
    "\n",
    "this_cmd = f'gsutil -mq cp -P {qts_dir}/* {qts_bucket_path}/'\n",
    "run_bash_cmd(this_cmd, True)"
   ]
  },
  {
   "cell_type": "markdown",
   "metadata": {},
   "source": [
    "#### push all the original and generated notebooks back"
   ]
  },
  {
   "cell_type": "code",
   "execution_count": null,
   "metadata": {},
   "outputs": [],
   "source": [
    "%%time\n",
    "this_cmd = f'gsutil -mq cp -P {nbs_dir}/*.ipynb {nbs_bucket_path}/'\n",
    "run_bash_cmd(this_cmd, True)\n",
    "\n",
    "this_cmd = f'gsutil -mq cp -P {nbs_dir}/*.md {nbs_bucket_path}/'\n",
    "run_bash_cmd(this_cmd, True)\n",
    "\n",
    "this_cmd = f'gsutil -mq cp -P {pm_nbs_dir}/*.ipynb {pm_nbs_bucket_path}/'\n",
    "run_bash_cmd(this_cmd, True)"
   ]
  },
  {
   "cell_type": "code",
   "execution_count": null,
   "metadata": {},
   "outputs": [],
   "source": []
  }
 ],
 "metadata": {
  "environment": {
   "name": "pytorch-gpu.1-9.m75",
   "type": "gcloud",
   "uri": "gcr.io/deeplearning-platform-release/pytorch-gpu.1-9:m75"
  },
  "kernelspec": {
   "display_name": "Python 3",
   "language": "python",
   "name": "python3"
  },
  "language_info": {
   "codemirror_mode": {
    "name": "ipython",
    "version": 3
   },
   "file_extension": ".py",
   "mimetype": "text/x-python",
   "name": "python",
   "nbconvert_exporter": "python",
   "pygments_lexer": "ipython3",
   "version": "3.8.10"
  },
  "widgets": {
   "application/vnd.jupyter.widget-state+json": {
    "state": {},
    "version_major": 2,
    "version_minor": 0
   }
  }
 },
 "nbformat": 4,
 "nbformat_minor": 4
}
