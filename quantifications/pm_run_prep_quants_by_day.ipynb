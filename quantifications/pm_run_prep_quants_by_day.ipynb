{
 "cells": [
  {
   "cell_type": "markdown",
   "id": "1d8f6fde-58a3-4424-8049-f72b04dcddf7",
   "metadata": {},
   "source": [
    "## Notebook to run the prep quants by day template notebook per modality and day"
   ]
  },
  {
   "cell_type": "code",
   "execution_count": null,
   "id": "aa48eacc-f52f-428c-92b7-a7b193d5dad3",
   "metadata": {},
   "outputs": [],
   "source": [
    "!date"
   ]
  },
  {
   "cell_type": "markdown",
   "id": "dd7759e7-61ee-4d7e-bdb5-b8dedecff1a7",
   "metadata": {},
   "source": [
    "#### import libraries and set notebook variables"
   ]
  },
  {
   "cell_type": "code",
   "execution_count": null,
   "id": "edd363ce-d894-4a1a-9f1b-416a02ab5ebb",
   "metadata": {},
   "outputs": [],
   "source": [
    "from os import makedirs\n",
    "from papermill import execute_notebook"
   ]
  },
  {
   "cell_type": "code",
   "execution_count": null,
   "id": "706099d3-174e-473b-abc2-9e95fe9f87a9",
   "metadata": {},
   "outputs": [],
   "source": [
    "# directories\n",
    "home_dir = '/home/jupyter/foundin_qtl/foundin_qtl/quantifications'\n",
    "\n",
    "# base notebook to be run per tuple iteration\n",
    "base_notebook = f'{home_dir}/prep_quants_by_day.ipynb'\n",
    "\n",
    "# output path for the generated notebooks\n",
    "out_nb_dir = f'{home_dir}/pm_gend_nbs'\n",
    "\n",
    "# setup parameters to iterate\n",
    "days = ['da0', 'da25', 'da65']\n",
    "modalities = ['ATAC', 'METH', 'CIRC', 'PDUI', 'RNAB', 'RNAS', 'SCRN-DA', \n",
    "              'SCRN-ElC', 'SCRN-eNP', 'SCRN-iDA', 'SCRN-lNP', 'SCRN-NlC', \n",
    "              'SCRN-PFPP', 'PDUI-DA', 'PDUI-iDA']"
   ]
  },
  {
   "cell_type": "markdown",
   "id": "6da05932-d273-4d9a-aff3-b7ed9be91736",
   "metadata": {},
   "source": [
    "#### run the notebook iterations"
   ]
  },
  {
   "cell_type": "code",
   "execution_count": null,
   "id": "a85c3eb1-b64f-41bb-86ce-a2248be6241e",
   "metadata": {},
   "outputs": [],
   "source": [
    "%%time\n",
    "# make sure the notebook output dir exists\n",
    "makedirs(out_nb_dir, exist_ok=True)\n",
    "\n",
    "for modality in modalities:\n",
    "    for day in days:\n",
    "        if modality == 'METH' and day == 'da25':\n",
    "            continue\n",
    "        if modality.startswith('SCRN') and (day in ['da0', 'da25']):\n",
    "            continue\n",
    "        if modality in ['PDUI-DA', 'PDUI-iDA'] and (day in ['da0', 'da25']):\n",
    "            continue            \n",
    "        param_dict = {'modality': modality, 'day': day}\n",
    "        out_notebook = f'{out_nb_dir}/{modality}_{day}.prep_quants.ipynb'\n",
    "        print(param_dict)\n",
    "        print(out_notebook)\n",
    "        try:\n",
    "            execute_notebook(input_path=base_notebook, output_path=out_notebook, \n",
    "                             parameters=param_dict)\n",
    "        except:\n",
    "            print(f'{modality}_{day} encountered an error continuing on next')    "
   ]
  },
  {
   "cell_type": "code",
   "execution_count": null,
   "id": "fb7fc951-ce00-42fb-92c3-9b1f92d790c4",
   "metadata": {},
   "outputs": [],
   "source": [
    "!date"
   ]
  },
  {
   "cell_type": "code",
   "execution_count": null,
   "id": "797b0e47-c46f-4ee9-99b4-67716f3f9277",
   "metadata": {},
   "outputs": [],
   "source": [
    "\n"
   ]
  }
 ],
 "metadata": {
  "environment": {
   "kernel": "python3",
   "name": "pytorch-gpu.1-12.m102",
   "type": "gcloud",
   "uri": "gcr.io/deeplearning-platform-release/pytorch-gpu.1-12:m102"
  },
  "kernelspec": {
   "display_name": "Python 3 (ipykernel)",
   "language": "python",
   "name": "python3"
  },
  "language_info": {
   "codemirror_mode": {
    "name": "ipython",
    "version": 3
   },
   "file_extension": ".py",
   "mimetype": "text/x-python",
   "name": "python",
   "nbconvert_exporter": "python",
   "pygments_lexer": "ipython3",
   "version": "3.7.12"
  }
 },
 "nbformat": 4,
 "nbformat_minor": 5
}
