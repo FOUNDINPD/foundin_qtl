{
 "cells": [
  {
   "cell_type": "markdown",
   "id": "853b7370-c820-4806-a0bb-851053fc1b30",
   "metadata": {},
   "source": [
    "## Notebook to convert exceRpt output to quantified matrix\n",
    "\n",
    "combine the exceRpt miRNA, piRNA, and tRNA data into single quantified matrix for RNAS, also create feature annotation table for the three analytes, and create sample info file for RNAS"
   ]
  },
  {
   "cell_type": "code",
   "execution_count": 1,
   "id": "5d4fd822-c987-4d3e-ad48-8999c435f401",
   "metadata": {},
   "outputs": [
    {
     "name": "stdout",
     "output_type": "stream",
     "text": [
      "Fri Feb  3 15:49:23 UTC 2023\n"
     ]
    }
   ],
   "source": [
    "!date"
   ]
  },
  {
   "cell_type": "markdown",
   "id": "bf208df6-13f7-4aac-ba03-a5ea691cb467",
   "metadata": {},
   "source": [
    "#### import libraries"
   ]
  },
  {
   "cell_type": "code",
   "execution_count": 2,
   "id": "f268c200-b31a-433d-b704-ed2b3ad120d6",
   "metadata": {},
   "outputs": [],
   "source": [
    "from pandas import read_csv, DataFrame, concat"
   ]
  },
  {
   "cell_type": "markdown",
   "id": "6b96be24-4538-4309-9c5b-5d469b337981",
   "metadata": {},
   "source": [
    "#### set notebook variables"
   ]
  },
  {
   "cell_type": "code",
   "execution_count": 3,
   "id": "0312661b-5849-4b10-a58e-bd06f9443669",
   "metadata": {},
   "outputs": [],
   "source": [
    "# naming\n",
    "cohort = 'foundin'\n",
    "modality = 'RNAS'\n",
    "set_name = f'{cohort}_daALL_{modality}'\n",
    "\n",
    "# directories\n",
    "wrk_dir = f'/home/jupyter/foundin_qtl'\n",
    "quants_dir = f'{wrk_dir}/quants'\n",
    "info_dir = f'{wrk_dir}/sample_info'\n",
    "public_dir = f'{wrk_dir}/public'\n",
    "\n",
    "# in files\n",
    "in_qc_file = f'{info_dir}/exceRpt_QCresults.txt'\n",
    "in_info_file = f'{info_dir}/{cohort}_RNAB_sample_info.csv'\n",
    "mirbase_gff = f'{public_dir}/mirbase_hsa.gff3'\n",
    "gtrnadb_bed = f'{public_dir}/GtRNAdb_hg38-tRNAs.bed'\n",
    "    \n",
    "# out files\n",
    "quants_file = f'{quants_dir}/{set_name}.csv'\n",
    "out_info_file = f'{info_dir}/{cohort}_{modality}_sample_info.csv'\n",
    "features_file = f'{quants_dir}/{cohort}_{modality}_features.csv'\n",
    "\n",
    "# variables\n",
    "DEBUG = False\n",
    "replace_id_dict = {'PPMI3966B3': 'PPMI3966'}\n",
    "excerpt_analytes = ['miRNA', 'piRNA', 'tRNA']"
   ]
  },
  {
   "cell_type": "markdown",
   "id": "f5323aa9-1925-4a83-836c-4b354cb3b47e",
   "metadata": {},
   "source": [
    "#### utility functions"
   ]
  },
  {
   "cell_type": "code",
   "execution_count": 4,
   "id": "420bfb5c-113e-4af3-98ca-ab5f151265c1",
   "metadata": {},
   "outputs": [],
   "source": [
    "def pirna_id_to_annot(df: DataFrame, verbose: bool=False) -> DataFrame:\n",
    "    feature_parts = df.index.str.split('|', expand=True).to_frame()\n",
    "    feature_parts.columns = ['ID', 'GB', 'altID', 'ref']\n",
    "    # small subset were empty for GB and DQ so ref data in GB col, correct that\n",
    "    missing_indices = feature_parts.loc[feature_parts.ref.isna()].index\n",
    "    feature_parts.loc[missing_indices, 'ref'] = feature_parts.loc[missing_indices, 'GB']\n",
    "    feature_parts.loc[missing_indices, 'GB'] = feature_parts.loc[missing_indices, 'altID']\n",
    "    feature_pos_parts = feature_parts.ref.str.split(':', expand=True)\n",
    "    feature_pos_parts.columns = ['species', 'chrom', 'start', 'end', 'strand']\n",
    "    # feature_annots = DataFrame(columns=['feature', 'chrom', 'start', 'end', 'strand', 'altID'])\n",
    "    feature_annots = DataFrame(columns=['chrom', 'start', 'end', 'feature'])    \n",
    "    feature_annots.feature = feature_parts.ID.values\n",
    "    feature_annots.chrom = feature_pos_parts.chrom.values\n",
    "    feature_annots.start = feature_pos_parts.start.values\n",
    "    feature_annots.end = feature_pos_parts.end.values\n",
    "    feature_annots['type'] = 'piRNA'\n",
    "    # feature_annots.strand = feature_pos_parts.strand.values\n",
    "    # feature_annots.altID = feature_parts.altID.values\n",
    "    if verbose:\n",
    "        display(feature_annots.head())\n",
    "    return feature_annots\n",
    "\n",
    "def load_frmt_mirna(in_file: str, verbose: bool=False) -> DataFrame:\n",
    "    df = read_csv(in_file, sep='\\t', comment='#', header=None)\n",
    "    print(f'full miRNA features shape {df.shape}')\n",
    "    df = df.drop(columns=[1, 2, 5, 6, 7])\n",
    "    df.columns = ['chrom', 'start', 'end', 'feature']\n",
    "    id_parts = df.feature.str.split(';', expand=True)\n",
    "    id_parts.columns = ['id', 'alias', 'name', 'derives']\n",
    "    id_parts = id_parts.drop(columns=['derives'])\n",
    "    id_parts.id = id_parts.id.str.replace('ID=', '')\n",
    "    id_parts.alias = id_parts.alias.str.replace('Alias=', '')\n",
    "    id_parts.name = id_parts.name.str.replace('Name=', '')\n",
    "    df.feature = id_parts.name\n",
    "    df['type'] = 'miRNA'\n",
    "    df = df.drop_duplicates(subset=['feature'], keep='first')\n",
    "    print(f'formatted miRNA features shape {df.shape}')\n",
    "    if verbose:\n",
    "        display(df.head())\n",
    "    return df\n",
    "        \n",
    "def load_frmt_trna(in_file: str, verbose: bool=False) -> DataFrame:\n",
    "    df = read_csv(in_file, sep='\\t', header=None)\n",
    "    print(f'full tRNA feature shape {df.shape}')\n",
    "    df = df[[0, 1, 2, 3]]\n",
    "    df.columns = ['chrom', 'start', 'end', 'feature']\n",
    "    df['type'] = 'tRNA'\n",
    "    print(f'formatted tRNA feature shape {df.shape}')\n",
    "    if DEBUG:\n",
    "        display(df.head())\n",
    "    return df        "
   ]
  },
  {
   "cell_type": "markdown",
   "id": "792f998a-49b0-499b-981a-aaa6a16f638b",
   "metadata": {},
   "source": [
    "### load data"
   ]
  },
  {
   "cell_type": "markdown",
   "id": "6f0ef607-4949-4e18-875a-3fbfc8513284",
   "metadata": {},
   "source": [
    "#### load the miRNA feature annotations"
   ]
  },
  {
   "cell_type": "code",
   "execution_count": 5,
   "id": "7513440f-95fd-4afa-9a7b-9bb85d953714",
   "metadata": {},
   "outputs": [
    {
     "name": "stdout",
     "output_type": "stream",
     "text": [
      "full miRNA features shape (4801, 9)\n",
      "formatted miRNA features shape (4565, 5)\n"
     ]
    }
   ],
   "source": [
    "analyte_annots = {}\n",
    "analyte_annots['miRNA'] = load_frmt_mirna(mirbase_gff, verbose=DEBUG)"
   ]
  },
  {
   "cell_type": "markdown",
   "id": "0e90dd03-7d34-4aad-9e0d-5a359cdcd48f",
   "metadata": {},
   "source": [
    "#### load the tRNA feature annotations"
   ]
  },
  {
   "cell_type": "code",
   "execution_count": 6,
   "id": "5a805dba-2f24-4c82-b9c5-cd38429f7d2a",
   "metadata": {},
   "outputs": [
    {
     "name": "stdout",
     "output_type": "stream",
     "text": [
      "full tRNA feature shape (619, 12)\n",
      "formatted tRNA feature shape (619, 5)\n"
     ]
    }
   ],
   "source": [
    "analyte_annots['tRNA'] = load_frmt_trna(gtrnadb_bed, verbose=DEBUG)"
   ]
  },
  {
   "cell_type": "code",
   "execution_count": 7,
   "id": "02d8f1fe-30cd-4413-9916-7a32056c3269",
   "metadata": {},
   "outputs": [
    {
     "name": "stdout",
     "output_type": "stream",
     "text": [
      "miRNA\n",
      "shape of miRNA (2664, 300)\n",
      "miRNA transposed shape (300, 2664)\n",
      "piRNA\n",
      "shape of piRNA (9639, 300)\n",
      "piRNA transposed shape (300, 9639)\n",
      "tRNA\n",
      "shape of tRNA (433, 300)\n",
      "tRNA transposed shape (300, 433)\n",
      "CPU times: user 422 ms, sys: 60.3 ms, total: 483 ms\n",
      "Wall time: 477 ms\n"
     ]
    }
   ],
   "source": [
    "%%time\n",
    "quants = {}\n",
    "for analyte in excerpt_analytes:\n",
    "    print(analyte)\n",
    "    in_file = f'{quants_dir}/exceRpt_{analyte}_ReadsPerMillion.txt'\n",
    "    analyte_df = read_csv(in_file, sep='\\s+')\n",
    "    print(f'shape of {analyte} {analyte_df.shape}')\n",
    "    # for piRNA need to separate out the feature annots from ID in matrix index\n",
    "    if analyte == 'piRNA':\n",
    "        these_annots = pirna_id_to_annot(analyte_df, verbose=DEBUG)\n",
    "        analyte_df.index = these_annots.feature\n",
    "        analyte_annots[analyte] = these_annots\n",
    "    # transpose the quants matrix    \n",
    "    analyte_df = analyte_df.rename_axis(index='feature')\n",
    "    analyte_df = analyte_df.transpose()\n",
    "    print(f'{analyte} transposed shape {analyte_df.shape}')\n",
    "    # fill any missing values with zero's\n",
    "    analyte_df = analyte_df.fillna(0)\n",
    "    quants[analyte] = analyte_df\n",
    "    if DEBUG:\n",
    "        display(analyte_df.head())    "
   ]
  },
  {
   "cell_type": "markdown",
   "id": "e999a208-0ec5-4959-99e9-bb9d154b14f7",
   "metadata": {},
   "source": [
    "#### verify features are present in annots"
   ]
  },
  {
   "cell_type": "code",
   "execution_count": 8,
   "id": "837617bc-e1c1-433e-8f2d-98cbaa2ae725",
   "metadata": {},
   "outputs": [
    {
     "name": "stdout",
     "output_type": "stream",
     "text": [
      "in miRNA 22 features are missing from annotation table\n",
      "in piRNA 0 features are missing from annotation table\n",
      "in tRNA 1 features are missing from annotation table\n",
      "missing will be dropped\n"
     ]
    }
   ],
   "source": [
    "for analyte in excerpt_analytes:\n",
    "    quants_df = quants[analyte]\n",
    "    features_df = analyte_annots[analyte]\n",
    "    missing = set(quants_df.columns) - set(features_df.feature)\n",
    "    print(f'in {analyte} {len(missing)} features are missing from annotation table')\n",
    "print('missing will be dropped')"
   ]
  },
  {
   "cell_type": "markdown",
   "id": "242c158a-8a7f-4a38-b93c-a0c9ce51f443",
   "metadata": {},
   "source": [
    "#### flatten feature annotations into single table"
   ]
  },
  {
   "cell_type": "code",
   "execution_count": 9,
   "id": "9b0eec00-7f55-408e-8e12-6dc90bc13ef7",
   "metadata": {},
   "outputs": [
    {
     "name": "stdout",
     "output_type": "stream",
     "text": [
      "shape of combine features is (14823, 5)\n"
     ]
    }
   ],
   "source": [
    "features_df = concat(list(analyte_annots.values()))\n",
    "print(f'shape of combine features is {features_df.shape}')\n",
    "if DEBUG:\n",
    "    display(features_df.sample(10))"
   ]
  },
  {
   "cell_type": "code",
   "execution_count": 10,
   "id": "0c2f8f1a-ebfa-43d9-9288-661fb90d3fcb",
   "metadata": {},
   "outputs": [
    {
     "data": {
      "text/plain": [
       "piRNA    9639\n",
       "miRNA    4565\n",
       "tRNA      619\n",
       "Name: type, dtype: int64"
      ]
     },
     "metadata": {},
     "output_type": "display_data"
    }
   ],
   "source": [
    "display(features_df.type.value_counts())"
   ]
  },
  {
   "cell_type": "markdown",
   "id": "39c46f78-1729-4495-beb2-60646cee5b3c",
   "metadata": {},
   "source": [
    "### verify that sample IDs are consistent between analytes"
   ]
  },
  {
   "cell_type": "code",
   "execution_count": 11,
   "id": "fcf3c5cd-b666-4dcf-971e-b2014bd59db7",
   "metadata": {},
   "outputs": [
    {
     "name": "stdout",
     "output_type": "stream",
     "text": [
      "miRNA has 0 not present in others\n",
      "piRNA has 0 not present in others\n",
      "tRNA has 0 not present in others\n"
     ]
    }
   ],
   "source": [
    "samples = None\n",
    "for analyte in excerpt_analytes:\n",
    "    if samples is None:\n",
    "        samples = set(quants[analyte].index)\n",
    "    else:\n",
    "        samples = samples & set(quants[analyte].index)\n",
    "for analyte in excerpt_analytes:\n",
    "    missing = set(quants[analyte].index) - samples\n",
    "    print(f'{analyte} has {len(missing)} not present in others')"
   ]
  },
  {
   "cell_type": "markdown",
   "id": "4443f552-7efa-4bf6-b0a9-74ddd9429591",
   "metadata": {},
   "source": [
    "### flatten the quantified data into single table"
   ]
  },
  {
   "cell_type": "code",
   "execution_count": 12,
   "id": "a8610769-edf6-443c-a0dc-512a878d1133",
   "metadata": {},
   "outputs": [
    {
     "name": "stdout",
     "output_type": "stream",
     "text": [
      "shape of combined quants (300, 12736)\n"
     ]
    }
   ],
   "source": [
    "quants_df = concat(list(quants.values()), axis='columns')\n",
    "print(f'shape of combined quants {quants_df.shape}')\n",
    "if DEBUG:\n",
    "    display(quants_df.head())"
   ]
  },
  {
   "cell_type": "markdown",
   "id": "640a4376-ff6f-4cbe-bd18-190fe38a4432",
   "metadata": {},
   "source": [
    "### exclude any features not present in feature annotations table"
   ]
  },
  {
   "cell_type": "code",
   "execution_count": 13,
   "id": "9a32e52e-9d33-43c4-8f61-c3a7754c3b03",
   "metadata": {},
   "outputs": [
    {
     "name": "stdout",
     "output_type": "stream",
     "text": [
      "shape of modified quants (300, 12713)\n"
     ]
    }
   ],
   "source": [
    "quants_df = quants_df[quants_df.columns.intersection(features_df.feature)]\n",
    "print(f'shape of modified quants {quants_df.shape}')\n",
    "if DEBUG:\n",
    "    display(quants_df.head())"
   ]
  },
  {
   "cell_type": "markdown",
   "id": "f1d2abf0-46b1-4aa4-9b3c-07c8d04f1d36",
   "metadata": {},
   "source": [
    "### simplify the samples ids\n",
    "to be consistent with other modalities"
   ]
  },
  {
   "cell_type": "markdown",
   "id": "cde76011-749f-491a-8be5-8e5a7dcc318e",
   "metadata": {},
   "source": [
    "#### split name index to find info"
   ]
  },
  {
   "cell_type": "code",
   "execution_count": 14,
   "id": "5c36df4b-b7db-4b63-a8d6-80e20a92786f",
   "metadata": {},
   "outputs": [],
   "source": [
    "def split_id_parts(df: DataFrame) -> DataFrame:\n",
    "    id_parts = df.index.str.split('_', expand=True).to_frame()\n",
    "    id_parts.columns = ['assay', 'sampleid', 'cdi', 'day', 'version', 'R', 'num']\n",
    "    # id_parts['fullassayid'] = quant_df.index\n",
    "    # fix the duplicate control sample ID\n",
    "    id_parts.replace(replace_id_dict, inplace=True)\n",
    "    # for the other duplicates add version\n",
    "    id_subs = id_parts.loc[id_parts.sampleid.str.startswith('PPMI3966B')]\n",
    "    # id_subs.sampleid = id_subs.sampleid + id_subs.version\n",
    "    id_parts.loc[id_subs.index, 'sampleid'] = id_subs.sampleid + id_subs.version\n",
    "    id_parts['assayid'] = id_parts['assay'] + '_' + id_parts['sampleid'] + '_' + id_parts['day']\n",
    "    print(id_parts.shape)\n",
    "    if DEBUG:\n",
    "        display(id_parts.sample(5))\n",
    "    return id_parts"
   ]
  },
  {
   "cell_type": "code",
   "execution_count": 15,
   "id": "2675af80-169b-4bb5-894d-f2e1306a1811",
   "metadata": {},
   "outputs": [
    {
     "name": "stdout",
     "output_type": "stream",
     "text": [
      "(300, 8)\n"
     ]
    }
   ],
   "source": [
    "id_parts = split_id_parts(quants_df)\n",
    "if DEBUG:\n",
    "    display(id_parts.loc[id_parts.sampleid.str.startswith('PPMI3966')])                         "
   ]
  },
  {
   "cell_type": "code",
   "execution_count": 16,
   "id": "ebb47f34-4cbd-491b-aaab-d22571d7fdde",
   "metadata": {},
   "outputs": [
    {
     "data": {
      "text/plain": [
       "RNAS_PPMI18567_da0     1\n",
       "RNAS_PPMI51971_da25    1\n",
       "RNAS_PPMI51867_da65    1\n",
       "RNAS_PPMI51867_da25    1\n",
       "RNAS_PPMI51867_da0     1\n",
       "                      ..\n",
       "RNAS_PPMI3960_da65     1\n",
       "RNAS_PPMI3960_da25     1\n",
       "RNAS_PPMI3960_da0      1\n",
       "RNAS_PPMI3957_da65     1\n",
       "RNAS_PPMI90456_da65    1\n",
       "Name: assayid, Length: 300, dtype: int64"
      ]
     },
     "execution_count": 16,
     "metadata": {},
     "output_type": "execute_result"
    }
   ],
   "source": [
    "id_parts.assayid.value_counts()"
   ]
  },
  {
   "cell_type": "markdown",
   "id": "48532fef-3c9e-4b6e-9ffe-cb80456ff69e",
   "metadata": {},
   "source": [
    "#### get counts by day"
   ]
  },
  {
   "cell_type": "code",
   "execution_count": 17,
   "id": "5b1d4089-4b31-4641-94c3-bf1a567b8cbe",
   "metadata": {},
   "outputs": [
    {
     "data": {
      "text/plain": [
       "da25    105\n",
       "da0      99\n",
       "da65     96\n",
       "Name: day, dtype: int64"
      ]
     },
     "metadata": {},
     "output_type": "display_data"
    }
   ],
   "source": [
    "days = id_parts['day'].value_counts()\n",
    "display(days)"
   ]
  },
  {
   "cell_type": "code",
   "execution_count": 18,
   "id": "695e2bd9-1e12-4e9b-92ed-ef0433358aec",
   "metadata": {},
   "outputs": [],
   "source": [
    "quants_df.index = id_parts['assayid']\n",
    "quants_df.index.set_names('assayid')\n",
    "if DEBUG:\n",
    "    display(quants_df.head())"
   ]
  },
  {
   "cell_type": "markdown",
   "id": "2897d2e9-deb6-47df-abcf-1cfe54b78f89",
   "metadata": {},
   "source": [
    "### re-using the RNAB info file as a starting point\n",
    "\n",
    "here might be a little out of place but fits"
   ]
  },
  {
   "cell_type": "code",
   "execution_count": 19,
   "id": "07a8a7ae-e0fe-43c8-8fb3-0253a27aeeb6",
   "metadata": {},
   "outputs": [
    {
     "name": "stdout",
     "output_type": "stream",
     "text": [
      "info shape (305, 112)\n",
      "CPU times: user 11.5 ms, sys: 0 ns, total: 11.5 ms\n",
      "Wall time: 10.7 ms\n"
     ]
    }
   ],
   "source": [
    "%%time\n",
    "info_df = read_csv(in_info_file, index_col=0)\n",
    "print(f'info shape {info_df.shape}')\n",
    "if DEBUG:\n",
    "    display(info_df.head())"
   ]
  },
  {
   "cell_type": "markdown",
   "id": "9b48a9ee-653b-4dc1-a984-b8a65628d460",
   "metadata": {},
   "source": [
    "#### check the corrected PPMI3966 IDs"
   ]
  },
  {
   "cell_type": "code",
   "execution_count": 20,
   "id": "eea5cf66-4784-459c-96e4-579c4533088e",
   "metadata": {},
   "outputs": [],
   "source": [
    "id_parts = info_df.index.str.split('_', expand=True).to_frame()\n",
    "id_parts.columns = ['assay', 'sampleid','day']\n",
    "if DEBUG:\n",
    "    display(id_parts.loc[id_parts.sampleid.str.startswith('PPMI3966')])  "
   ]
  },
  {
   "cell_type": "markdown",
   "id": "aa41dc04-02ea-42f1-a67c-f8f7ac2a665b",
   "metadata": {},
   "source": [
    "### make sure if modified all the necessary IDs are present\n",
    "\n",
    "if some probably just the control repeats, so that is ok here for our purposes, but should've been handled cleaner and more consistent"
   ]
  },
  {
   "cell_type": "code",
   "execution_count": 21,
   "id": "fdac5ca7-5727-461c-89aa-c9d9efd9c749",
   "metadata": {},
   "outputs": [
    {
     "name": "stdout",
     "output_type": "stream",
     "text": [
      "There are sample IDs missing 7\n",
      "{'RNAS_PPMI3966B5E8v1_da65', 'RNAS_PPMI3966B5E8v1_da0', 'RNAS_PPMI3966B5E6v1_da0', 'RNAS_PPMI3966B5E8v1_da25', 'RNAS_PPMI3966B1v10_da25', 'RNAS_PPMI3966B5E6v1_da65', 'RNAS_PPMI3966B5E6v1_da25'}\n"
     ]
    }
   ],
   "source": [
    "temp_info_ids = info_df.index.str.replace('RNAB_', 'RNAS_')\n",
    "ids_not_present = set(quants_df.index) - set(temp_info_ids)\n",
    "missing_len = len(ids_not_present)\n",
    "if missing_len > 0:\n",
    "    print(f'There are sample IDs missing {missing_len}')\n",
    "    if missing_len < 20:\n",
    "        print(ids_not_present)\n",
    "else:\n",
    "    print('All RNAS IDs are present, none missing')"
   ]
  },
  {
   "cell_type": "markdown",
   "id": "1b5ea8f2-759f-44a2-af12-4276deb677be",
   "metadata": {},
   "source": [
    "#### get counts by day"
   ]
  },
  {
   "cell_type": "code",
   "execution_count": 22,
   "id": "70c91ded-d0b9-43e9-9522-b110632d525d",
   "metadata": {},
   "outputs": [
    {
     "data": {
      "text/plain": [
       "da25    107\n",
       "da0     100\n",
       "da65     98\n",
       "Name: day, dtype: int64"
      ]
     },
     "metadata": {},
     "output_type": "display_data"
    }
   ],
   "source": [
    "days = id_parts['day'].value_counts()\n",
    "display(days)"
   ]
  },
  {
   "cell_type": "markdown",
   "id": "1bff9829-7aa1-498a-a437-f0e62b1d8f4b",
   "metadata": {},
   "source": [
    "### go ahead and do the ID rename and use this info file\n",
    "\n",
    "if everything matches to expectation"
   ]
  },
  {
   "cell_type": "code",
   "execution_count": 23,
   "id": "361a4329-2aa1-4e05-902d-439ecfaf19d1",
   "metadata": {},
   "outputs": [
    {
     "name": "stdout",
     "output_type": "stream",
     "text": [
      "modified info shape (305, 112)\n"
     ]
    }
   ],
   "source": [
    "info_df.index = info_df.index.str.replace('RNAB_', 'RNAS_')\n",
    "print(f'modified info shape {info_df.shape}')\n",
    "if DEBUG:\n",
    "    display(info_df.head())"
   ]
  },
  {
   "cell_type": "markdown",
   "id": "b7135dc3-1c45-45c0-8771-6118d68d9b96",
   "metadata": {},
   "source": [
    "### remove the RNAB assay covariates and include the RNAS assay covariates"
   ]
  },
  {
   "cell_type": "code",
   "execution_count": 24,
   "id": "b340b0b5-9899-4c95-8eb7-f57bf89612cb",
   "metadata": {},
   "outputs": [
    {
     "name": "stdout",
     "output_type": "stream",
     "text": [
      "modified info, dropped cols, shape (305, 102)\n"
     ]
    }
   ],
   "source": [
    "cols_to_remove = ['Assigned', 'MAssigned', 'Aligned', 'MAligned', 'Aligned.1',\n",
    "                  'MAligned.1', 'Dups', 'GC', 'MSeqs', 'ori_assayid']\n",
    "info_df = info_df.drop(columns=cols_to_remove)\n",
    "print(f'modified info, dropped cols, shape {info_df.shape}')\n",
    "if DEBUG:\n",
    "    display(info_df.head())"
   ]
  },
  {
   "cell_type": "code",
   "execution_count": 25,
   "id": "d05f9d89-ad5f-4d69-82a7-1d7db1430885",
   "metadata": {},
   "outputs": [
    {
     "name": "stdout",
     "output_type": "stream",
     "text": [
      "shape of assay info (300, 5)\n"
     ]
    }
   ],
   "source": [
    "assay_info = read_csv(in_qc_file, sep='\\t', index_col=0)\n",
    "print(f'shape of assay info {assay_info.shape}')\n",
    "if DEBUG:\n",
    "    display(assay_info.head())"
   ]
  },
  {
   "cell_type": "code",
   "execution_count": 26,
   "id": "9877b347-57da-4976-920a-88642942b697",
   "metadata": {},
   "outputs": [
    {
     "name": "stdout",
     "output_type": "stream",
     "text": [
      "(300, 8)\n"
     ]
    }
   ],
   "source": [
    "id_parts = split_id_parts(assay_info)\n",
    "if DEBUG:\n",
    "    display(id_parts.loc[id_parts.sampleid.str.startswith('PPMI3966')])     "
   ]
  },
  {
   "cell_type": "code",
   "execution_count": 27,
   "id": "913c3af7-fdec-4738-b092-c148ad0e5622",
   "metadata": {},
   "outputs": [],
   "source": [
    "assay_info.index = id_parts['assayid']\n",
    "assay_info.index.set_names('assayid')\n",
    "if DEBUG:\n",
    "    display(assay_info.head())"
   ]
  },
  {
   "cell_type": "markdown",
   "id": "374ff4e0-1d9f-4838-9597-0ebe6bf229f3",
   "metadata": {},
   "source": [
    "#### add the RNAS assay covariates on"
   ]
  },
  {
   "cell_type": "code",
   "execution_count": 28,
   "id": "25fe7e99-5be2-4efb-b69b-40073dcf8b2e",
   "metadata": {},
   "outputs": [
    {
     "name": "stdout",
     "output_type": "stream",
     "text": [
      "modified info, added cols, shape (293, 107)\n"
     ]
    }
   ],
   "source": [
    "info_df = info_df.merge(assay_info, how='inner', \n",
    "                        left_index=True, right_index=True)\n",
    "print(f'modified info, added cols, shape {info_df.shape}')\n",
    "if DEBUG:\n",
    "    display(info_df.head())"
   ]
  },
  {
   "cell_type": "markdown",
   "id": "fcd2de2b-08a2-4892-8345-25ae4cd63568",
   "metadata": {},
   "source": [
    "#### get counts by day"
   ]
  },
  {
   "cell_type": "code",
   "execution_count": 29,
   "id": "cfe97ed8-9ace-47bd-9a9e-217b47b26bde",
   "metadata": {},
   "outputs": [
    {
     "data": {
      "text/plain": [
       "da25    102\n",
       "da0      97\n",
       "da65     94\n",
       "Name: day, dtype: int64"
      ]
     },
     "metadata": {},
     "output_type": "display_data"
    }
   ],
   "source": [
    "display(info_df.day.value_counts())"
   ]
  },
  {
   "cell_type": "markdown",
   "id": "1653d0e9-76a0-443a-889d-d86ab9c47ca4",
   "metadata": {},
   "source": [
    "### save output"
   ]
  },
  {
   "cell_type": "markdown",
   "id": "d6e148dc-2e56-4eec-a704-7071c92add39",
   "metadata": {},
   "source": [
    "#### save formated quantified data"
   ]
  },
  {
   "cell_type": "code",
   "execution_count": 30,
   "id": "e4491e5e-7809-4eb3-804b-2b9e1f9ede7b",
   "metadata": {},
   "outputs": [
    {
     "name": "stdout",
     "output_type": "stream",
     "text": [
      "CPU times: user 2.29 s, sys: 17.7 ms, total: 2.3 s\n",
      "Wall time: 2.35 s\n"
     ]
    }
   ],
   "source": [
    "%%time\n",
    "quants_df.to_csv(quants_file)"
   ]
  },
  {
   "cell_type": "markdown",
   "id": "072765e0-6a94-4b71-ba9d-8688aa921eeb",
   "metadata": {},
   "source": [
    "#### save the info file"
   ]
  },
  {
   "cell_type": "code",
   "execution_count": 31,
   "id": "17eec73b-c42a-491f-9510-d937ce4564a0",
   "metadata": {},
   "outputs": [],
   "source": [
    "info_df.to_csv(out_info_file)"
   ]
  },
  {
   "cell_type": "markdown",
   "id": "27f1418f-d63d-4544-89a7-a9bf9fb585c8",
   "metadata": {},
   "source": [
    "#### save the feature annotations"
   ]
  },
  {
   "cell_type": "code",
   "execution_count": 32,
   "id": "6e580be1-7c6e-4e97-a752-25383ce7927e",
   "metadata": {},
   "outputs": [],
   "source": [
    "features_df.to_csv(features_file)"
   ]
  },
  {
   "cell_type": "code",
   "execution_count": 33,
   "id": "ceade725-ed92-44b2-b4ac-4f375319a953",
   "metadata": {},
   "outputs": [
    {
     "name": "stdout",
     "output_type": "stream",
     "text": [
      "Fri Feb  3 15:49:27 UTC 2023\n"
     ]
    }
   ],
   "source": [
    "!date"
   ]
  }
 ],
 "metadata": {
  "environment": {
   "kernel": "python3",
   "name": "pytorch-gpu.1-12.m102",
   "type": "gcloud",
   "uri": "gcr.io/deeplearning-platform-release/pytorch-gpu.1-12:m102"
  },
  "kernelspec": {
   "display_name": "Python 3 (ipykernel)",
   "language": "python",
   "name": "python3"
  },
  "language_info": {
   "codemirror_mode": {
    "name": "ipython",
    "version": 3
   },
   "file_extension": ".py",
   "mimetype": "text/x-python",
   "name": "python",
   "nbconvert_exporter": "python",
   "pygments_lexer": "ipython3",
   "version": "3.7.12"
  }
 },
 "nbformat": 4,
 "nbformat_minor": 5
}
