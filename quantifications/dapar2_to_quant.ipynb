{
 "cells": [
  {
   "cell_type": "markdown",
   "id": "853b7370-c820-4806-a0bb-851053fc1b30",
   "metadata": {},
   "source": [
    "## Notebook to convert DaPar2 output to quantified matrix and feature annotation\n",
    "\n",
    "loci column are the features and are position based names"
   ]
  },
  {
   "cell_type": "code",
   "execution_count": null,
   "id": "5d4fd822-c987-4d3e-ad48-8999c435f401",
   "metadata": {},
   "outputs": [],
   "source": [
    "!date"
   ]
  },
  {
   "cell_type": "markdown",
   "id": "bf208df6-13f7-4aac-ba03-a5ea691cb467",
   "metadata": {},
   "source": [
    "#### import libraries"
   ]
  },
  {
   "cell_type": "code",
   "execution_count": null,
   "id": "f268c200-b31a-433d-b704-ed2b3ad120d6",
   "metadata": {},
   "outputs": [],
   "source": [
    "from pandas import read_csv, DataFrame\n",
    "from dask.dataframe import read_csv as dd_read_csv"
   ]
  },
  {
   "cell_type": "markdown",
   "id": "6b96be24-4538-4309-9c5b-5d469b337981",
   "metadata": {},
   "source": [
    "#### set notebook variables"
   ]
  },
  {
   "cell_type": "code",
   "execution_count": null,
   "id": "0312661b-5849-4b10-a58e-bd06f9443669",
   "metadata": {},
   "outputs": [],
   "source": [
    "# naming\n",
    "cohort = 'foundin'\n",
    "modality = 'PDUI'\n",
    "set_name = f'{cohort}_daALL_{modality}'\n",
    "\n",
    "# directories\n",
    "wrk_dir = f'/home/gibbsr/working/foundin/foundin_qtl'\n",
    "quants_dir = f'{wrk_dir}/quants'\n",
    "info_dir = f'{wrk_dir}/sample_info'\n",
    "\n",
    "# in files\n",
    "if modality == 'PDUI':\n",
    "    dapars2_file = f'{quants_dir}/DaPars2_result.all_chromosomes.txt'\n",
    "    info_file = f'{info_dir}/{cohort}_{modality}_sample_info.csv'\n",
    "    \n",
    "# out files\n",
    "quants_file = f'{quants_dir}/{set_name}.csv'\n",
    "features_file = f'{quants_dir}/{cohort}_{modality}.features.csv'\n",
    "\n",
    "# variables\n",
    "DEBUG = False\n",
    "replace_id_dict = {'PPMI3966B3': 'PPMI3966'}"
   ]
  },
  {
   "cell_type": "markdown",
   "id": "792f998a-49b0-499b-981a-aaa6a16f638b",
   "metadata": {},
   "source": [
    "### load data"
   ]
  },
  {
   "cell_type": "code",
   "execution_count": null,
   "id": "02d8f1fe-30cd-4413-9916-7a32056c3269",
   "metadata": {},
   "outputs": [],
   "source": [
    "%%time\n",
    "quants_dd = dd_read_csv(dapars2_file, sep='\\t')\n",
    "quants_df = quants_dd.compute()\n",
    "print(f'shape of input {quants_df.shape}')\n",
    "if DEBUG:\n",
    "    display(quants_df.head())"
   ]
  },
  {
   "cell_type": "markdown",
   "id": "f5d25722-ebdc-41bc-9222-41bb398cfb20",
   "metadata": {},
   "source": [
    "### drop duplicate rows based on Loci (feature)"
   ]
  },
  {
   "cell_type": "code",
   "execution_count": null,
   "id": "be835e59-96e7-4596-ba6e-7da575b0ca0a",
   "metadata": {},
   "outputs": [],
   "source": [
    "quants_df.drop_duplicates(subset=['Loci'], inplace=True)\n",
    "print(f'shape of non-duplicate input {quants_df.shape}')\n",
    "if DEBUG:\n",
    "    display(quants_df.head())"
   ]
  },
  {
   "cell_type": "markdown",
   "id": "22f97e08-d554-41fc-92c2-3d5ce649c68f",
   "metadata": {},
   "source": [
    "### split off and reformat feature information"
   ]
  },
  {
   "cell_type": "code",
   "execution_count": null,
   "id": "b6111b00-0c4e-44b6-87c9-0d2453c1d068",
   "metadata": {},
   "outputs": [],
   "source": [
    "annot_cols = ['Gene', 'fit_value', 'Predicted_Proximal_APA']\n",
    "features_df = quants_df[['Loci'] + annot_cols].copy()\n",
    "print(f'features shape {features_df.shape}')\n",
    "print(f'quants shape {quants_df.shape}')\n",
    "if DEBUG:\n",
    "    display(features_df.head())\n",
    "    display(quants_df.head())"
   ]
  },
  {
   "cell_type": "markdown",
   "id": "da855a91-d970-49bf-a755-6cbb1a2c0eb7",
   "metadata": {},
   "source": [
    "#### extract gene name as feature column"
   ]
  },
  {
   "cell_type": "code",
   "execution_count": null,
   "id": "d844393d-e1f8-4073-9ffb-e13e766d4f87",
   "metadata": {},
   "outputs": [],
   "source": [
    "# split gene name on delimiter and keep gene and chromosome\n",
    "temp = features_df.Gene.str.split('|', expand=True)\n",
    "features_df.Gene = temp[1]\n",
    "features_df['chrom'] = temp[2]\n",
    "# split loci name on delimiters and keep begin and end\n",
    "temp = features_df.Loci.str.split(':', expand=True)[1].str.split('-', expand=True)\n",
    "features_df['start'] = temp[0]\n",
    "features_df['stop'] = temp[1]\n",
    "features_df.set_index('Loci', inplace=True)\n",
    "print(f'features shape {features_df.shape}')\n",
    "if DEBUG:\n",
    "    display(features_df.head())"
   ]
  },
  {
   "cell_type": "markdown",
   "id": "ffafbf6a-63f3-4c9f-9d20-2aabd3284956",
   "metadata": {},
   "source": [
    "### transpose the quants matrix"
   ]
  },
  {
   "cell_type": "code",
   "execution_count": null,
   "id": "7f772b98-1f83-4229-b00f-de977d196f15",
   "metadata": {},
   "outputs": [],
   "source": [
    "quants_df.drop(columns=annot_cols, inplace=True)\n",
    "quants_df.set_index('Loci', inplace=True)\n",
    "quants_df = quants_df.transpose()\n",
    "print(f'quants shape {quants_df.shape}')\n",
    "if DEBUG:\n",
    "    display(quants_df.head())"
   ]
  },
  {
   "cell_type": "markdown",
   "id": "ab4ba021-c83c-411c-b39a-893b49690aed",
   "metadata": {},
   "source": [
    "### fill any missing values with zero's"
   ]
  },
  {
   "cell_type": "code",
   "execution_count": null,
   "id": "0a2ecc38-4e07-406f-9cb6-edcbb64b6fa2",
   "metadata": {},
   "outputs": [],
   "source": [
    "quants_df.fillna(0, inplace=True)"
   ]
  },
  {
   "cell_type": "markdown",
   "id": "f1d2abf0-46b1-4aa4-9b3c-07c8d04f1d36",
   "metadata": {},
   "source": [
    "### simplify the RNAB ids\n",
    "to be consistent with other modalities"
   ]
  },
  {
   "cell_type": "markdown",
   "id": "cde76011-749f-491a-8be5-8e5a7dcc318e",
   "metadata": {},
   "source": [
    "#### split name index to find info"
   ]
  },
  {
   "cell_type": "code",
   "execution_count": null,
   "id": "5c36df4b-b7db-4b63-a8d6-80e20a92786f",
   "metadata": {},
   "outputs": [],
   "source": [
    "def split_id_parts(df: DataFrame) -> DataFrame:\n",
    "    id_parts = df.index.str.split('_', expand=True).to_frame()\n",
    "    id_parts.columns = ['assay', 'sampleid', 'cdi', 'day', 'version']\n",
    "    # id_parts['fullassayid'] = quant_df.index\n",
    "    # fix the duplicate control sample ID\n",
    "    id_parts.replace(replace_id_dict, inplace=True)\n",
    "    # for the other duplicates add version\n",
    "    id_subs = id_parts.loc[id_parts.sampleid.str.startswith('PPMI3966B')]\n",
    "    # id_subs.sampleid = id_subs.sampleid + id_subs.version\n",
    "    id_parts.loc[id_subs.index, 'sampleid'] = id_subs.sampleid + id_subs.version\n",
    "\n",
    "    id_parts['assayid'] = id_parts['assay'] + '_' + id_parts['sampleid'] + '_' + id_parts['day']\n",
    "    print(id_parts.shape)\n",
    "    if DEBUG:\n",
    "        display(id_parts.sample(5))\n",
    "    return id_parts"
   ]
  },
  {
   "cell_type": "code",
   "execution_count": null,
   "id": "2675af80-169b-4bb5-894d-f2e1306a1811",
   "metadata": {},
   "outputs": [],
   "source": [
    "id_parts = split_id_parts(quants_df)\n",
    "if DEBUG:\n",
    "    display(id_parts.loc[id_parts.sampleid.str.startswith('PPMI3966')])                         "
   ]
  },
  {
   "cell_type": "code",
   "execution_count": null,
   "id": "ebb47f34-4cbd-491b-aaab-d22571d7fdde",
   "metadata": {},
   "outputs": [],
   "source": [
    "id_parts.assayid.value_counts()"
   ]
  },
  {
   "cell_type": "code",
   "execution_count": null,
   "id": "695e2bd9-1e12-4e9b-92ed-ef0433358aec",
   "metadata": {},
   "outputs": [],
   "source": [
    "quants_df.index = id_parts['assayid']\n",
    "quants_df.index.set_names('assayid')\n",
    "if DEBUG:\n",
    "    display(quants_df.head())"
   ]
  },
  {
   "cell_type": "markdown",
   "id": "9f3535f5-b4ef-4334-bd7d-4a5dd2f2e515",
   "metadata": {},
   "source": [
    "### save formated data"
   ]
  },
  {
   "cell_type": "code",
   "execution_count": null,
   "id": "e4491e5e-7809-4eb3-804b-2b9e1f9ede7b",
   "metadata": {},
   "outputs": [],
   "source": [
    "%%time\n",
    "quants_df.to_csv(quants_file)\n",
    "features_df.to_csv(features_file)"
   ]
  },
  {
   "cell_type": "markdown",
   "id": "ad4e1d77-e388-42d9-83ea-1a812f839f69",
   "metadata": {},
   "source": [
    "### fix the RNAB assay IDs in the info file as well\n",
    "here might be a little out of place but fits"
   ]
  },
  {
   "cell_type": "code",
   "execution_count": null,
   "id": "6627f6ef-bcca-4812-a263-c0cbb2d6d3e6",
   "metadata": {},
   "outputs": [],
   "source": [
    "%%time\n",
    "info_df = read_csv(info_file, index_col=0)\n",
    "print(f'info shape {info_df.shape}')\n",
    "if DEBUG:\n",
    "    display(info_df.head())"
   ]
  },
  {
   "cell_type": "code",
   "execution_count": null,
   "id": "12dd7020-a407-49ad-ae7e-4115c39279d7",
   "metadata": {},
   "outputs": [],
   "source": [
    "id_parts = split_id_parts(info_df)\n",
    "if DEBUG:\n",
    "    display(id_parts.loc[id_parts.sampleid.str.startswith('PPMI3966')])  "
   ]
  },
  {
   "cell_type": "code",
   "execution_count": null,
   "id": "9672c709-b163-4b6b-8a5a-a536993c9f26",
   "metadata": {},
   "outputs": [],
   "source": [
    "info_df['ori_assayid'] = info_df.index.values\n",
    "info_df.index = id_parts['assayid']\n",
    "if DEBUG:\n",
    "    display(info_df.head())"
   ]
  },
  {
   "cell_type": "code",
   "execution_count": null,
   "id": "f3412b10-241c-4f62-9334-6bcc4033d67a",
   "metadata": {},
   "outputs": [],
   "source": [
    "info_df.to_csv(info_file)"
   ]
  },
  {
   "cell_type": "code",
   "execution_count": null,
   "id": "ceade725-ed92-44b2-b4ac-4f375319a953",
   "metadata": {},
   "outputs": [],
   "source": [
    "!date"
   ]
  }
 ],
 "metadata": {
  "kernelspec": {
   "display_name": "Python 3 (ipykernel)",
   "language": "python",
   "name": "python3"
  },
  "language_info": {
   "codemirror_mode": {
    "name": "ipython",
    "version": 3
   },
   "file_extension": ".py",
   "mimetype": "text/x-python",
   "name": "python",
   "nbconvert_exporter": "python",
   "pygments_lexer": "ipython3",
   "version": "3.9.15"
  }
 },
 "nbformat": 4,
 "nbformat_minor": 5
}
