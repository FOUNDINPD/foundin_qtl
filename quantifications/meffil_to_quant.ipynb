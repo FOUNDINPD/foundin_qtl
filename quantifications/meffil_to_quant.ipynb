{
 "cells": [
  {
   "cell_type": "markdown",
   "id": "853b7370-c820-4806-a0bb-851053fc1b30",
   "metadata": {},
   "source": [
    "## Notebook to convert METH meffil output to quantified matrix"
   ]
  },
  {
   "cell_type": "code",
   "execution_count": null,
   "id": "5d4fd822-c987-4d3e-ad48-8999c435f401",
   "metadata": {},
   "outputs": [],
   "source": [
    "!date"
   ]
  },
  {
   "cell_type": "markdown",
   "id": "bf208df6-13f7-4aac-ba03-a5ea691cb467",
   "metadata": {},
   "source": [
    "#### import libraries"
   ]
  },
  {
   "cell_type": "code",
   "execution_count": null,
   "id": "f268c200-b31a-433d-b704-ed2b3ad120d6",
   "metadata": {},
   "outputs": [],
   "source": [
    "from pandas import read_csv, DataFrame"
   ]
  },
  {
   "cell_type": "markdown",
   "id": "6b96be24-4538-4309-9c5b-5d469b337981",
   "metadata": {},
   "source": [
    "#### set notebook variables"
   ]
  },
  {
   "cell_type": "code",
   "execution_count": null,
   "id": "0312661b-5849-4b10-a58e-bd06f9443669",
   "metadata": {},
   "outputs": [],
   "source": [
    "# naming\n",
    "cohort = 'foundin'\n",
    "modality = 'METH'\n",
    "set_name = f'{cohort}_daALL_{modality}'\n",
    "\n",
    "# directories\n",
    "wrk_dir = '/labshare/raph/datasets/foundin_qtl'\n",
    "quants_dir = f'{wrk_dir}/quants'\n",
    "info_dir = f'{wrk_dir}/sample_info'\n",
    "\n",
    "# in files\n",
    "in_file = f'{quants_dir}/{modality}.FINAL_normalized_FOUNDIN_october2020.txt.gz'\n",
    "info_file = f'{info_dir}/{cohort}_{modality}_sample_info.csv'\n",
    "    \n",
    "# out files\n",
    "quants_file = f'{quants_dir}/{set_name}.csv'\n",
    "\n",
    "# variables\n",
    "DEBUG = True\n",
    "replace_id_dict = {'PPMI3966B3': 'PPMI3966'}\n",
    "\n",
    "if DEBUG:\n",
    "    print(f'in_file = {in_file}')\n",
    "    print(f'info_file = {info_file}')\n",
    "    print(f'quants_file = {quants_file}')"
   ]
  },
  {
   "cell_type": "markdown",
   "id": "792f998a-49b0-499b-981a-aaa6a16f638b",
   "metadata": {},
   "source": [
    "### load data"
   ]
  },
  {
   "cell_type": "code",
   "execution_count": null,
   "id": "02d8f1fe-30cd-4413-9916-7a32056c3269",
   "metadata": {},
   "outputs": [],
   "source": [
    "%%time\n",
    "quants_df = read_csv(in_file, sep='\\s+')\n",
    "# quants_df.rename(columns={'Geneid': 'feature'}, inplace=True)\n",
    "print(f'quants_df shape is {quants_df.shape}')\n",
    "if DEBUG:\n",
    "    display(quants_df.head())"
   ]
  },
  {
   "cell_type": "markdown",
   "id": "ffafbf6a-63f3-4c9f-9d20-2aabd3284956",
   "metadata": {},
   "source": [
    "### transpose the quants matrix"
   ]
  },
  {
   "cell_type": "code",
   "execution_count": null,
   "id": "7f772b98-1f83-4229-b00f-de977d196f15",
   "metadata": {},
   "outputs": [],
   "source": [
    "quants_df = quants_df.transpose()\n",
    "print(f'new quants shape {quants_df.shape}')\n",
    "if DEBUG:\n",
    "    display(quants_df.head())"
   ]
  },
  {
   "cell_type": "markdown",
   "id": "ab4ba021-c83c-411c-b39a-893b49690aed",
   "metadata": {},
   "source": [
    "### fill any missing values with zero's"
   ]
  },
  {
   "cell_type": "code",
   "execution_count": null,
   "id": "0a2ecc38-4e07-406f-9cb6-edcbb64b6fa2",
   "metadata": {},
   "outputs": [],
   "source": [
    "quants_df = quants_df.fillna(0)"
   ]
  },
  {
   "cell_type": "markdown",
   "id": "f1d2abf0-46b1-4aa4-9b3c-07c8d04f1d36",
   "metadata": {},
   "source": [
    "### simplify the modality's IDs\n",
    "to be consistent with other modalities"
   ]
  },
  {
   "cell_type": "markdown",
   "id": "cde76011-749f-491a-8be5-8e5a7dcc318e",
   "metadata": {},
   "source": [
    "#### split name index to find info"
   ]
  },
  {
   "cell_type": "code",
   "execution_count": null,
   "id": "5c36df4b-b7db-4b63-a8d6-80e20a92786f",
   "metadata": {},
   "outputs": [],
   "source": [
    "def split_id_parts(df: DataFrame) -> DataFrame:\n",
    "    id_parts = df.index.str.split('_', expand=True).to_frame()\n",
    "    id_parts.columns = ['assay', 'sampleid', 'cdi', 'day', 'version']\n",
    "    # id_parts['fullassayid'] = quant_df.index\n",
    "    # fix the duplicate control sample ID\n",
    "    id_parts.replace(replace_id_dict, inplace=True)\n",
    "    # for the other duplicates add version\n",
    "    id_subs = id_parts.loc[id_parts.sampleid.str.startswith('PPMI3966B')]\n",
    "    # id_subs.sampleid = id_subs.sampleid + id_subs.version\n",
    "    id_parts.loc[id_subs.index, 'sampleid'] = id_subs.sampleid + id_subs.version    \n",
    "\n",
    "    id_parts['assayid'] = id_parts['assay'] + '_' + id_parts['sampleid'] + '_' + id_parts['day']\n",
    "    print(id_parts.shape)\n",
    "    if DEBUG:\n",
    "        display(id_parts.sample(5))\n",
    "    return id_parts"
   ]
  },
  {
   "cell_type": "code",
   "execution_count": null,
   "id": "2675af80-169b-4bb5-894d-f2e1306a1811",
   "metadata": {},
   "outputs": [],
   "source": [
    "id_parts = split_id_parts(quants_df)\n",
    "if DEBUG:\n",
    "    display(id_parts.loc[id_parts.sampleid.str.startswith('PPMI3966')])                         "
   ]
  },
  {
   "cell_type": "code",
   "execution_count": null,
   "id": "ebb47f34-4cbd-491b-aaab-d22571d7fdde",
   "metadata": {},
   "outputs": [],
   "source": [
    "id_parts.assayid.value_counts()"
   ]
  },
  {
   "cell_type": "code",
   "execution_count": null,
   "id": "695e2bd9-1e12-4e9b-92ed-ef0433358aec",
   "metadata": {},
   "outputs": [],
   "source": [
    "quants_df.index = id_parts['assayid']\n",
    "quants_df.index.set_names('assayid')\n",
    "if DEBUG:\n",
    "    display(quants_df.head())"
   ]
  },
  {
   "cell_type": "markdown",
   "id": "9f3535f5-b4ef-4334-bd7d-4a5dd2f2e515",
   "metadata": {},
   "source": [
    "### save formated data"
   ]
  },
  {
   "cell_type": "code",
   "execution_count": null,
   "id": "e4491e5e-7809-4eb3-804b-2b9e1f9ede7b",
   "metadata": {},
   "outputs": [],
   "source": [
    "%%time\n",
    "quants_df.to_csv(quants_file)"
   ]
  },
  {
   "cell_type": "markdown",
   "id": "2897d2e9-deb6-47df-abcf-1cfe54b78f89",
   "metadata": {},
   "source": [
    "### fix the METH assay IDs in the info file as well\n",
    "here might be a little out of place but fits"
   ]
  },
  {
   "cell_type": "code",
   "execution_count": null,
   "id": "07a8a7ae-e0fe-43c8-8fb3-0253a27aeeb6",
   "metadata": {},
   "outputs": [],
   "source": [
    "%%time\n",
    "info_df = read_csv(info_file, index_col=0)\n",
    "print(f'info shape {info_df.shape}')\n",
    "if DEBUG:\n",
    "    display(info_df.head())"
   ]
  },
  {
   "cell_type": "code",
   "execution_count": null,
   "id": "eea5cf66-4784-459c-96e4-579c4533088e",
   "metadata": {},
   "outputs": [],
   "source": [
    "id_parts = split_id_parts(info_df)\n",
    "if DEBUG:\n",
    "    display(id_parts.loc[id_parts.sampleid.str.startswith('PPMI3966')])  "
   ]
  },
  {
   "cell_type": "code",
   "execution_count": null,
   "id": "fea1e837-3ed3-4e5a-ade7-c039f35535f5",
   "metadata": {},
   "outputs": [],
   "source": [
    "info_df['ori_assayid'] = info_df.index.values\n",
    "info_df.index = id_parts['assayid']\n",
    "if DEBUG:\n",
    "    display(info_df.head())"
   ]
  },
  {
   "cell_type": "markdown",
   "id": "bf22c67b-9973-4dbc-b2cf-f491fbe770bb",
   "metadata": {},
   "source": [
    "#### check the corrected PPMI3966 IDs"
   ]
  },
  {
   "cell_type": "code",
   "execution_count": null,
   "id": "2c894506-50a5-4d04-a52f-375063f15c93",
   "metadata": {},
   "outputs": [],
   "source": [
    "if DEBUG:\n",
    "    display(info_df.loc[info_df.index.str.startswith(f'{modality}_PPMI3966')]) "
   ]
  },
  {
   "cell_type": "markdown",
   "id": "1653d0e9-76a0-443a-889d-d86ab9c47ca4",
   "metadata": {},
   "source": [
    "### save the info file"
   ]
  },
  {
   "cell_type": "code",
   "execution_count": null,
   "id": "17eec73b-c42a-491f-9510-d937ce4564a0",
   "metadata": {},
   "outputs": [],
   "source": [
    "info_df.to_csv(info_file)"
   ]
  },
  {
   "cell_type": "code",
   "execution_count": null,
   "id": "ceade725-ed92-44b2-b4ac-4f375319a953",
   "metadata": {},
   "outputs": [],
   "source": [
    "!date"
   ]
  }
 ],
 "metadata": {
  "kernelspec": {
   "display_name": "Python 3 (ipykernel)",
   "language": "python",
   "name": "python3"
  },
  "language_info": {
   "codemirror_mode": {
    "name": "ipython",
    "version": 3
   },
   "file_extension": ".py",
   "mimetype": "text/x-python",
   "name": "python",
   "nbconvert_exporter": "python",
   "pygments_lexer": "ipython3",
   "version": "3.10.13"
  }
 },
 "nbformat": 4,
 "nbformat_minor": 5
}
