{
 "cells": [
  {
   "cell_type": "markdown",
   "id": "853b7370-c820-4806-a0bb-851053fc1b30",
   "metadata": {},
   "source": [
    "## Notebook to convert CIRI2 output to quantified matrix\n",
    "\n",
    "the circRNA quantifications from CIRI2 are based o the RNAB so use the RNAB sample info"
   ]
  },
  {
   "cell_type": "code",
   "execution_count": 1,
   "id": "5d4fd822-c987-4d3e-ad48-8999c435f401",
   "metadata": {},
   "outputs": [
    {
     "name": "stdout",
     "output_type": "stream",
     "text": [
      "Mon Jan 30 17:45:16 UTC 2023\n"
     ]
    }
   ],
   "source": [
    "!date"
   ]
  },
  {
   "cell_type": "markdown",
   "id": "bf208df6-13f7-4aac-ba03-a5ea691cb467",
   "metadata": {},
   "source": [
    "#### import libraries"
   ]
  },
  {
   "cell_type": "code",
   "execution_count": 2,
   "id": "f268c200-b31a-433d-b704-ed2b3ad120d6",
   "metadata": {},
   "outputs": [],
   "source": [
    "from pandas import read_csv, DataFrame"
   ]
  },
  {
   "cell_type": "markdown",
   "id": "6b96be24-4538-4309-9c5b-5d469b337981",
   "metadata": {},
   "source": [
    "#### set notebook variables"
   ]
  },
  {
   "cell_type": "code",
   "execution_count": 3,
   "id": "0312661b-5849-4b10-a58e-bd06f9443669",
   "metadata": {},
   "outputs": [],
   "source": [
    "# naming\n",
    "cohort = 'foundin'\n",
    "modality = 'CIRC'\n",
    "set_name = f'{cohort}_daALL_{modality}'\n",
    "\n",
    "# directories\n",
    "wrk_dir = f'/home/jupyter/foundin_qtl'\n",
    "quants_dir = f'{wrk_dir}/quants'\n",
    "info_dir = f'{wrk_dir}/sample_info'\n",
    "\n",
    "# in files\n",
    "in_ciri2_file = f'{quants_dir}/circRNA_counts.tsv'\n",
    "in_info_file = f'{info_dir}/{cohort}_RNAB_sample_info.csv'\n",
    "    \n",
    "# out files\n",
    "quants_file = f'{quants_dir}/{set_name}.csv'\n",
    "out_info_file = f'{info_dir}/{cohort}_{modality}_sample_info.csv'\n",
    "\n",
    "# variables\n",
    "DEBUG = False\n",
    "replace_id_dict = {'PPMI3966B3': 'PPMI3966'}"
   ]
  },
  {
   "cell_type": "markdown",
   "id": "792f998a-49b0-499b-981a-aaa6a16f638b",
   "metadata": {},
   "source": [
    "### load data"
   ]
  },
  {
   "cell_type": "code",
   "execution_count": 4,
   "id": "02d8f1fe-30cd-4413-9916-7a32056c3269",
   "metadata": {},
   "outputs": [
    {
     "name": "stdout",
     "output_type": "stream",
     "text": [
      "shape of input (67603, 234)\n",
      "CPU times: user 801 ms, sys: 108 ms, total: 909 ms\n",
      "Wall time: 902 ms\n"
     ]
    }
   ],
   "source": [
    "%%time\n",
    "quants_df = read_csv(in_ciri2_file, sep='\\s+')\n",
    "quants_df.rename(columns={'circRNA_ID': 'feature'}, inplace=True)\n",
    "print(f'shape of input {quants_df.shape}')\n",
    "if DEBUG:\n",
    "    display(quants_df.head())"
   ]
  },
  {
   "cell_type": "markdown",
   "id": "ffafbf6a-63f3-4c9f-9d20-2aabd3284956",
   "metadata": {},
   "source": [
    "### transpose the quants matrix"
   ]
  },
  {
   "cell_type": "code",
   "execution_count": 5,
   "id": "7f772b98-1f83-4229-b00f-de977d196f15",
   "metadata": {},
   "outputs": [
    {
     "name": "stdout",
     "output_type": "stream",
     "text": [
      "quants shape (233, 67603)\n"
     ]
    }
   ],
   "source": [
    "quants_df.set_index('feature', inplace=True)\n",
    "quants_df = quants_df.transpose()\n",
    "print(f'quants shape {quants_df.shape}')\n",
    "if DEBUG:\n",
    "    display(quants_df.head())"
   ]
  },
  {
   "cell_type": "markdown",
   "id": "ab4ba021-c83c-411c-b39a-893b49690aed",
   "metadata": {},
   "source": [
    "### fill any missing values with zero's"
   ]
  },
  {
   "cell_type": "code",
   "execution_count": 6,
   "id": "0a2ecc38-4e07-406f-9cb6-edcbb64b6fa2",
   "metadata": {},
   "outputs": [],
   "source": [
    "quants_df.fillna(0, inplace=True)"
   ]
  },
  {
   "cell_type": "markdown",
   "id": "f1d2abf0-46b1-4aa4-9b3c-07c8d04f1d36",
   "metadata": {},
   "source": [
    "### simplify the RNAB ids\n",
    "to be consistent with other modalities\n",
    "also for these need to update 'd' to 'da' for day"
   ]
  },
  {
   "cell_type": "markdown",
   "id": "cde76011-749f-491a-8be5-8e5a7dcc318e",
   "metadata": {},
   "source": [
    "#### split name index to find info"
   ]
  },
  {
   "cell_type": "code",
   "execution_count": 7,
   "id": "5c36df4b-b7db-4b63-a8d6-80e20a92786f",
   "metadata": {},
   "outputs": [],
   "source": [
    "def split_id_parts(df: DataFrame) -> DataFrame:\n",
    "    id_parts = df.index.str.split('_', expand=True).to_frame()\n",
    "    id_parts.columns = ['assay', 'sampleid', 'cdi', 'day', 'version']\n",
    "    # id_parts['fullassayid'] = quant_df.index\n",
    "    # fix the duplicate control sample ID\n",
    "    id_parts.replace(replace_id_dict, inplace=True)\n",
    "    # for the other duplicates add version\n",
    "    id_subs = id_parts.loc[id_parts.sampleid.str.startswith('PPMI3966B')]\n",
    "    # id_subs.sampleid = id_subs.sampleid + id_subs.version\n",
    "    id_parts.loc[id_subs.index, 'sampleid'] = id_subs.sampleid + id_subs.version\n",
    "    # update the day prefix\n",
    "    # looks like a couple already have da so wipe these first\n",
    "    id_parts['day'] = id_parts['day'].str.replace('da', 'd')\n",
    "    id_parts['day'] = id_parts['day'].str.replace('d', 'da')\n",
    "    id_parts['assayid'] = id_parts['assay'] + '_' + id_parts['sampleid'] + '_' + id_parts['day']\n",
    "    print(id_parts.shape)\n",
    "    if DEBUG:\n",
    "        display(id_parts.sample(5))\n",
    "    return id_parts"
   ]
  },
  {
   "cell_type": "code",
   "execution_count": 8,
   "id": "2675af80-169b-4bb5-894d-f2e1306a1811",
   "metadata": {},
   "outputs": [
    {
     "name": "stdout",
     "output_type": "stream",
     "text": [
      "(233, 6)\n"
     ]
    }
   ],
   "source": [
    "id_parts = split_id_parts(quants_df)\n",
    "if DEBUG:\n",
    "    display(id_parts.loc[id_parts.sampleid.str.startswith('PPMI3966')])                         "
   ]
  },
  {
   "cell_type": "code",
   "execution_count": 9,
   "id": "ebb47f34-4cbd-491b-aaab-d22571d7fdde",
   "metadata": {},
   "outputs": [
    {
     "data": {
      "text/plain": [
       "RNAB_PPMI18567_da0        1\n",
       "RNAB_PPMI51971_da25       1\n",
       "RNAB_PPMI51625_da25       1\n",
       "RNAB_PPMI51625_da65       1\n",
       "RNAB_PPMI51714_da0        1\n",
       "                         ..\n",
       "RNAB_PPMI3966B1v5_da25    1\n",
       "RNAB_PPMI3966B1v6_da25    1\n",
       "RNAB_PPMI3966B1v8_da25    1\n",
       "RNAB_PPMI3966B1v9_da25    1\n",
       "RNAB_PPMI90456_da65       1\n",
       "Name: assayid, Length: 233, dtype: int64"
      ]
     },
     "execution_count": 9,
     "metadata": {},
     "output_type": "execute_result"
    }
   ],
   "source": [
    "id_parts.assayid.value_counts()"
   ]
  },
  {
   "cell_type": "markdown",
   "id": "48532fef-3c9e-4b6e-9ffe-cb80456ff69e",
   "metadata": {},
   "source": [
    "#### get counts by day"
   ]
  },
  {
   "cell_type": "code",
   "execution_count": 10,
   "id": "5b1d4089-4b31-4641-94c3-bf1a567b8cbe",
   "metadata": {},
   "outputs": [
    {
     "data": {
      "text/plain": [
       "da25    84\n",
       "da65    75\n",
       "da0     74\n",
       "Name: day, dtype: int64"
      ]
     },
     "metadata": {},
     "output_type": "display_data"
    }
   ],
   "source": [
    "days = id_parts['day'].value_counts()\n",
    "display(days)"
   ]
  },
  {
   "cell_type": "code",
   "execution_count": 11,
   "id": "695e2bd9-1e12-4e9b-92ed-ef0433358aec",
   "metadata": {},
   "outputs": [],
   "source": [
    "quants_df.index = id_parts['assayid']\n",
    "quants_df.index.set_names('assayid')\n",
    "if DEBUG:\n",
    "    display(quants_df.head())"
   ]
  },
  {
   "cell_type": "markdown",
   "id": "9f3535f5-b4ef-4334-bd7d-4a5dd2f2e515",
   "metadata": {},
   "source": [
    "### save formated data"
   ]
  },
  {
   "cell_type": "code",
   "execution_count": 12,
   "id": "e4491e5e-7809-4eb3-804b-2b9e1f9ede7b",
   "metadata": {},
   "outputs": [
    {
     "name": "stdout",
     "output_type": "stream",
     "text": [
      "CPU times: user 20.8 s, sys: 811 ms, total: 21.6 s\n",
      "Wall time: 21.8 s\n"
     ]
    }
   ],
   "source": [
    "%%time\n",
    "quants_df.to_csv(quants_file)"
   ]
  },
  {
   "cell_type": "markdown",
   "id": "2897d2e9-deb6-47df-abcf-1cfe54b78f89",
   "metadata": {},
   "source": [
    "### the RNAB info file IDs where already fix for processing the RNAB data\n",
    "\n",
    "check if need to fix the RNAB assay IDs in the info file as well\n",
    "here might be a little out of place but fits"
   ]
  },
  {
   "cell_type": "code",
   "execution_count": 13,
   "id": "07a8a7ae-e0fe-43c8-8fb3-0253a27aeeb6",
   "metadata": {},
   "outputs": [
    {
     "name": "stdout",
     "output_type": "stream",
     "text": [
      "info shape (305, 112)\n",
      "CPU times: user 12.1 ms, sys: 14 µs, total: 12.1 ms\n",
      "Wall time: 10.6 ms\n"
     ]
    }
   ],
   "source": [
    "%%time\n",
    "info_df = read_csv(in_info_file, index_col=0)\n",
    "print(f'info shape {info_df.shape}')\n",
    "if DEBUG:\n",
    "    display(info_df.head())"
   ]
  },
  {
   "cell_type": "markdown",
   "id": "9b48a9ee-653b-4dc1-a984-b8a65628d460",
   "metadata": {},
   "source": [
    "#### check the corrected PPMI3966 IDs"
   ]
  },
  {
   "cell_type": "code",
   "execution_count": 14,
   "id": "eea5cf66-4784-459c-96e4-579c4533088e",
   "metadata": {},
   "outputs": [],
   "source": [
    "id_parts = info_df.index.str.split('_', expand=True).to_frame()\n",
    "id_parts.columns = ['assay', 'sampleid','day']\n",
    "if DEBUG:\n",
    "    display(id_parts.loc[id_parts.sampleid.str.startswith('PPMI3966')])  "
   ]
  },
  {
   "cell_type": "markdown",
   "id": "1b5ea8f2-759f-44a2-af12-4276deb677be",
   "metadata": {},
   "source": [
    "#### get counts by day"
   ]
  },
  {
   "cell_type": "code",
   "execution_count": 15,
   "id": "70c91ded-d0b9-43e9-9522-b110632d525d",
   "metadata": {},
   "outputs": [
    {
     "data": {
      "text/plain": [
       "da25    107\n",
       "da0     100\n",
       "da65     98\n",
       "Name: day, dtype: int64"
      ]
     },
     "metadata": {},
     "output_type": "display_data"
    }
   ],
   "source": [
    "days = id_parts['day'].value_counts()\n",
    "display(days)"
   ]
  },
  {
   "cell_type": "markdown",
   "id": "1653d0e9-76a0-443a-889d-d86ab9c47ca4",
   "metadata": {},
   "source": [
    "### save the info file"
   ]
  },
  {
   "cell_type": "code",
   "execution_count": 16,
   "id": "17eec73b-c42a-491f-9510-d937ce4564a0",
   "metadata": {},
   "outputs": [],
   "source": [
    "info_df.to_csv(out_info_file)"
   ]
  },
  {
   "cell_type": "code",
   "execution_count": 17,
   "id": "ceade725-ed92-44b2-b4ac-4f375319a953",
   "metadata": {},
   "outputs": [
    {
     "name": "stdout",
     "output_type": "stream",
     "text": [
      "Mon Jan 30 17:45:39 UTC 2023\n"
     ]
    }
   ],
   "source": [
    "!date"
   ]
  }
 ],
 "metadata": {
  "environment": {
   "kernel": "python3",
   "name": "pytorch-gpu.1-12.m102",
   "type": "gcloud",
   "uri": "gcr.io/deeplearning-platform-release/pytorch-gpu.1-12:m102"
  },
  "kernelspec": {
   "display_name": "Python 3 (ipykernel)",
   "language": "python",
   "name": "python3"
  },
  "language_info": {
   "codemirror_mode": {
    "name": "ipython",
    "version": 3
   },
   "file_extension": ".py",
   "mimetype": "text/x-python",
   "name": "python",
   "nbconvert_exporter": "python",
   "pygments_lexer": "ipython3",
   "version": "3.7.12"
  }
 },
 "nbformat": 4,
 "nbformat_minor": 5
}
