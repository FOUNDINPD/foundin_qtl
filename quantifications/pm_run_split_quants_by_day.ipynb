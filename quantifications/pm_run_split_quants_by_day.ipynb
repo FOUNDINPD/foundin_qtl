{
 "cells": [
  {
   "cell_type": "markdown",
   "id": "2966aca4-a7d5-4c02-a70c-ab409f7cf0ce",
   "metadata": {},
   "source": [
    "## Notebook to run the split by day notebook per modality using papermill"
   ]
  },
  {
   "cell_type": "code",
   "execution_count": null,
   "id": "bf2c94d5-9156-4d6a-b337-184524c192b0",
   "metadata": {},
   "outputs": [],
   "source": [
    "!date"
   ]
  },
  {
   "cell_type": "markdown",
   "id": "715228a7-3caf-4fcf-81b9-6579586a621e",
   "metadata": {},
   "source": [
    "#### import libraries"
   ]
  },
  {
   "cell_type": "code",
   "execution_count": null,
   "id": "189750d3-c612-432e-a12a-da21607ce35a",
   "metadata": {},
   "outputs": [],
   "source": [
    "from os import makedirs\n",
    "from papermill import execute_notebook"
   ]
  },
  {
   "cell_type": "markdown",
   "id": "74a02a37-c8cd-4ec6-a594-91833430289b",
   "metadata": {},
   "source": [
    "#### set notebook variables"
   ]
  },
  {
   "cell_type": "code",
   "execution_count": null,
   "id": "c31169f4-e0c9-4006-a559-f09770e660c5",
   "metadata": {},
   "outputs": [],
   "source": [
    "# directories\n",
    "home_dir = f'/home/gibbsr/working/foundin/foundin_qtl/foundin_qtl/quantifications'\n",
    "\n",
    "# base notebook to be run per tuple iteration\n",
    "base_notebook = f'{home_dir}/split_quants_by_day.ipynb'\n",
    "\n",
    "# output path for the generated notebooks\n",
    "out_nb_dir = f'{home_dir}/pm_gend_nbs'\n",
    "\n",
    "# setup parameters to iterate\n",
    "modalities = ['ATAC', 'METH', 'PDUI', 'RNAB']"
   ]
  },
  {
   "cell_type": "markdown",
   "id": "0d792435-fa90-45c6-906a-21763561e74d",
   "metadata": {},
   "source": [
    "### run the notebook iterations"
   ]
  },
  {
   "cell_type": "code",
   "execution_count": null,
   "id": "e4cc1fb8-7dfb-46b8-a12f-e423983ce253",
   "metadata": {},
   "outputs": [],
   "source": [
    "%%time\n",
    "# make sure the notebook output dir exists\n",
    "makedirs(out_nb_dir, exist_ok=True)\n",
    "\n",
    "for modality in modalities:\n",
    "    param_dict = {'modality': modality}\n",
    "    out_notebook = f'{out_nb_dir}/split_{modality}_by_day.ipynb'\n",
    "    print(param_dict)\n",
    "    print(out_notebook)\n",
    "    try:\n",
    "        execute_notebook(input_path=base_notebook, output_path=out_notebook, \n",
    "                         parameters=param_dict)\n",
    "    except:\n",
    "        print(f'{modality} encountered an error continuing on next')  "
   ]
  }
 ],
 "metadata": {
  "kernelspec": {
   "display_name": "Python 3 (ipykernel)",
   "language": "python",
   "name": "python3"
  },
  "language_info": {
   "codemirror_mode": {
    "name": "ipython",
    "version": 3
   },
   "file_extension": ".py",
   "mimetype": "text/x-python",
   "name": "python",
   "nbconvert_exporter": "python",
   "pygments_lexer": "ipython3",
   "version": "3.9.15"
  }
 },
 "nbformat": 4,
 "nbformat_minor": 5
}
