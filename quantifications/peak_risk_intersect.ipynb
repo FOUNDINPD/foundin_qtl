{
 "cells": [
  {
   "cell_type": "markdown",
   "id": "76b9de38-eb1e-481f-97f5-4a509fedd600",
   "metadata": {},
   "source": [
    "## Notebook to subset ATAC peak features that contain a risk variant"
   ]
  },
  {
   "cell_type": "code",
   "execution_count": 1,
   "id": "57f314cb-21e1-4a0c-8436-869577a7ba9c",
   "metadata": {},
   "outputs": [
    {
     "name": "stdout",
     "output_type": "stream",
     "text": [
      "Mon Oct  3 20:25:49 UTC 2022\n"
     ]
    }
   ],
   "source": [
    "!date"
   ]
  },
  {
   "cell_type": "markdown",
   "id": "27ec466c-8c25-437f-9ccd-654ffe438932",
   "metadata": {},
   "source": [
    "#### import libraries"
   ]
  },
  {
   "cell_type": "code",
   "execution_count": 2,
   "id": "d5c1abed-ba19-4909-a3b8-189b03c97de3",
   "metadata": {},
   "outputs": [],
   "source": [
    "from pandas import read_csv, read_parquet, read_hdf\n",
    "from pybedtools import BedTool"
   ]
  },
  {
   "cell_type": "markdown",
   "id": "fef282ba-d556-41ce-811a-c252cc190b7b",
   "metadata": {},
   "source": [
    "#### set notebook variables"
   ]
  },
  {
   "cell_type": "code",
   "execution_count": 3,
   "id": "71c72e55-8cc8-49ec-aa68-9418b739aabf",
   "metadata": {},
   "outputs": [],
   "source": [
    "# naming\n",
    "day = 'daALL'\n",
    "modality = 'ATAC'\n",
    "cohort = 'foundin'\n",
    "disease = 'PD'\n",
    "set_name = f'{cohort}_{day}'\n",
    "\n",
    "# directories\n",
    "wrk_dir = '/home/jupyter/epigenetics'\n",
    "quants_dir = f'{wrk_dir}/quants'\n",
    "public_dir = f'{wrk_dir}/public'\n",
    "\n",
    "# in files\n",
    "locus_ld_info_file = f'{public_dir}/ld_info/{cohort}_{disease}.ld_prime.csv'\n",
    "quants_in_file = f'{quants_dir}/{set_name}_{modality}.scaled.adj.hdf5'\n",
    "peaks_annot_file = f'{quants_dir}/{cohort}_consensus_peaks.saf'\n",
    "gwas_file = f'{public_dir}/nalls_pd_gwas/pdmeta_sumstats_hg38_no23andme.parquet'\n",
    "\n",
    "# out files\n",
    "risk_peaks_bed = f'{quants_dir}/{cohort}_risk_peaks.bed'\n",
    "quants_out_file = f'{quants_dir}/{set_name}.risk.csv'\n",
    "\n",
    "# variables\n",
    "DEBUG = False\n",
    "SIG_THRESHOLD = 5.00e-08\n",
    "SUG_THRESHOLD = 1.00e-05"
   ]
  },
  {
   "cell_type": "markdown",
   "id": "28b8a650-57a0-45dd-a087-f9efd1a37ea6",
   "metadata": {},
   "source": [
    "### load input data"
   ]
  },
  {
   "cell_type": "markdown",
   "id": "f36902ad-a056-4de1-8935-e1113a17c162",
   "metadata": {},
   "source": [
    "#### load feature annotations"
   ]
  },
  {
   "cell_type": "code",
   "execution_count": 4,
   "id": "89529fe6-5ab8-4e7f-b2db-25e087d85bc8",
   "metadata": {},
   "outputs": [
    {
     "name": "stdout",
     "output_type": "stream",
     "text": [
      "(201820, 5)\n",
      "CPU times: user 133 ms, sys: 12.3 ms, total: 146 ms\n",
      "Wall time: 145 ms\n"
     ]
    }
   ],
   "source": [
    "%%time\n",
    "features_df = read_csv(peaks_annot_file, sep='\\t')\n",
    "print(features_df.shape)\n",
    "if DEBUG:\n",
    "    display(features_df.head())"
   ]
  },
  {
   "cell_type": "markdown",
   "id": "7cafdfe1-6228-4de6-9c6b-231635da92ea",
   "metadata": {},
   "source": [
    "#### load summary stats"
   ]
  },
  {
   "cell_type": "code",
   "execution_count": 5,
   "id": "759a7d08-15b2-42bf-9e7d-81205a402137",
   "metadata": {},
   "outputs": [
    {
     "name": "stdout",
     "output_type": "stream",
     "text": [
      "(16293588, 14)\n",
      "CPU times: user 7.39 s, sys: 1.89 s, total: 9.28 s\n",
      "Wall time: 5.99 s\n"
     ]
    }
   ],
   "source": [
    "%%time\n",
    "gwas_df = read_parquet(gwas_file)\n",
    "print(gwas_df.shape)\n",
    "if DEBUG:\n",
    "    display(gwas_df.head())"
   ]
  },
  {
   "cell_type": "markdown",
   "id": "feb8be12-3b18-4371-9bc4-a2b95cff4bce",
   "metadata": {},
   "source": [
    "#### load the feature quantifications"
   ]
  },
  {
   "cell_type": "code",
   "execution_count": 6,
   "id": "26f86d5b-37c4-4e7d-9bbe-b9a7ff2527de",
   "metadata": {},
   "outputs": [
    {
     "name": "stdout",
     "output_type": "stream",
     "text": [
      "(290, 201627)\n",
      "CPU times: user 565 ms, sys: 249 ms, total: 814 ms\n",
      "Wall time: 812 ms\n"
     ]
    }
   ],
   "source": [
    "%%time\n",
    "quants_df = read_hdf(quants_in_file)\n",
    "print(quants_df.shape)\n",
    "if DEBUG:\n",
    "    display(quants_df.head())"
   ]
  },
  {
   "cell_type": "markdown",
   "id": "7ee141d3-ee09-422e-a097-8e3d4dbd3308",
   "metadata": {},
   "source": [
    "#### load the LD variants for the loci"
   ]
  },
  {
   "cell_type": "code",
   "execution_count": 7,
   "id": "45951ada-394f-40c3-92fe-78805af49df7",
   "metadata": {},
   "outputs": [
    {
     "name": "stdout",
     "output_type": "stream",
     "text": [
      "(24598, 10)\n"
     ]
    }
   ],
   "source": [
    "ld_df = read_csv(locus_ld_info_file)\n",
    "print(ld_df.shape)\n",
    "if DEBUG:\n",
    "    display(ld_df.head())"
   ]
  },
  {
   "cell_type": "markdown",
   "id": "9f98d2c0-e531-424f-8b83-a7f5430da20d",
   "metadata": {},
   "source": [
    "### subset summary stats to only those that are signficant or suggestive and in LD with index variants\n",
    "may want to have a lower significant threshold to be more fine mappy"
   ]
  },
  {
   "cell_type": "code",
   "execution_count": 8,
   "id": "74afd7cd-ddde-430c-8b0f-3d4ed8555a64",
   "metadata": {},
   "outputs": [
    {
     "name": "stdout",
     "output_type": "stream",
     "text": [
      "(4238, 14)\n"
     ]
    }
   ],
   "source": [
    "risk_df = gwas_df.loc[(gwas_df.p_value <= SIG_THRESHOLD) | \n",
    "                      (gwas_df.variant_id.isin(ld_df.SNP_B) & \n",
    "                       (gwas_df.p_value <= SUG_THRESHOLD))]\n",
    "print(risk_df.shape)\n",
    "if DEBUG:\n",
    "    display(risk_df.head())    "
   ]
  },
  {
   "cell_type": "markdown",
   "id": "134c69f4-40b6-4bed-8611-b636ea5e37e3",
   "metadata": {},
   "source": [
    "### find ATAC peak features that contain a risk variant"
   ]
  },
  {
   "cell_type": "markdown",
   "id": "5975f11c-65f9-46fd-8410-731215c20336",
   "metadata": {},
   "source": [
    "#### convert ATAC features dataframe to bed"
   ]
  },
  {
   "cell_type": "code",
   "execution_count": 9,
   "id": "dac34a40-ba71-4ca3-99e6-4b01b28bffc1",
   "metadata": {},
   "outputs": [
    {
     "name": "stdout",
     "output_type": "stream",
     "text": [
      "201820\n",
      "4\n"
     ]
    }
   ],
   "source": [
    "feature_bed = BedTool.from_dataframe(features_df[['Chr', 'Start', 'End', 'GeneID']])\n",
    "print(feature_bed.count())\n",
    "print(feature_bed.field_count())\n",
    "if DEBUG:\n",
    "    display(feature_bed.to_dataframe().head())"
   ]
  },
  {
   "cell_type": "markdown",
   "id": "bb884e42-5199-44b9-8e71-71af15b1de5a",
   "metadata": {},
   "source": [
    "#### convert summary stats to bed"
   ]
  },
  {
   "cell_type": "code",
   "execution_count": 10,
   "id": "a8937049-c14a-403c-8a3b-8f500fa92683",
   "metadata": {},
   "outputs": [
    {
     "name": "stdout",
     "output_type": "stream",
     "text": [
      "4238\n",
      "5\n"
     ]
    },
    {
     "name": "stderr",
     "output_type": "stream",
     "text": [
      "/opt/conda/lib/python3.7/site-packages/pandas/core/generic.py:5516: SettingWithCopyWarning: \n",
      "A value is trying to be set on a copy of a slice from a DataFrame.\n",
      "Try using .loc[row_indexer,col_indexer] = value instead\n",
      "\n",
      "See the caveats in the documentation: https://pandas.pydata.org/pandas-docs/stable/user_guide/indexing.html#returning-a-view-versus-a-copy\n",
      "  self[name] = value\n"
     ]
    }
   ],
   "source": [
    "risk_bed_df = risk_df[['chromosome', 'base_pair_location', 'variant_id', 'p_value']]\n",
    "risk_bed_df.chromosome = 'chr' + risk_bed_df.chromosome.astype('str')\n",
    "risk_bed_df.insert(1, 'start', value=risk_bed_df.base_pair_location-1)\n",
    "risk_bed = BedTool.from_dataframe(risk_bed_df)\n",
    "\n",
    "print(risk_bed.count())\n",
    "print(risk_bed.field_count())\n",
    "if DEBUG:\n",
    "    display(risk_bed.to_dataframe().head())"
   ]
  },
  {
   "cell_type": "markdown",
   "id": "1c1e5ee0-f58d-4fd2-bffb-76199c39241c",
   "metadata": {},
   "source": [
    "#### intersect the beds"
   ]
  },
  {
   "cell_type": "code",
   "execution_count": 11,
   "id": "a8866b81-8c75-41d5-b313-e481208a67b1",
   "metadata": {},
   "outputs": [
    {
     "name": "stdout",
     "output_type": "stream",
     "text": [
      "445\n",
      "4\n"
     ]
    }
   ],
   "source": [
    "feature_intersect = feature_bed.intersect(risk_bed)\n",
    "\n",
    "print(feature_intersect.count())\n",
    "print(feature_intersect.field_count())\n",
    "if DEBUG:\n",
    "    display(feature_intersect.to_dataframe().head())"
   ]
  },
  {
   "cell_type": "markdown",
   "id": "21925cbb-c1c4-4796-9b31-3ff786181a82",
   "metadata": {},
   "source": [
    "### save the bed for the ATAC features containing risk variants"
   ]
  },
  {
   "cell_type": "code",
   "execution_count": 12,
   "id": "7c9746fb-8957-4861-a9d7-aba5d6f9adba",
   "metadata": {},
   "outputs": [
    {
     "name": "stdout",
     "output_type": "stream",
     "text": [
      "183 unique features\n"
     ]
    }
   ],
   "source": [
    "risk_features_df = feature_intersect.to_dataframe()\n",
    "print(f'{risk_features_df.name.nunique()} unique features')\n",
    "risk_features_df.to_csv(risk_peaks_bed, index=False)"
   ]
  },
  {
   "cell_type": "code",
   "execution_count": 13,
   "id": "1d14856b-13a0-4eb4-9b79-b3fefd8c33d5",
   "metadata": {},
   "outputs": [],
   "source": [
    "if DEBUG:\n",
    "    display(risk_features_df.head())"
   ]
  },
  {
   "cell_type": "code",
   "execution_count": 14,
   "id": "f0002819-9249-4fed-9a0b-b1a3a6b32997",
   "metadata": {},
   "outputs": [
    {
     "name": "stdout",
     "output_type": "stream",
     "text": [
      "(290, 183)\n"
     ]
    }
   ],
   "source": [
    "risk_quants_df = quants_df[risk_features_df.name.unique()]\n",
    "print(risk_quants_df.shape)\n",
    "if DEBUG:\n",
    "    display(risk_quants_df.head())"
   ]
  },
  {
   "cell_type": "markdown",
   "id": "9509c272-9fb2-4189-8fa6-a902b80ce3ae",
   "metadata": {},
   "source": [
    "#### save the ATAC peak feature quantifications for peaks containing risk variants"
   ]
  },
  {
   "cell_type": "code",
   "execution_count": 15,
   "id": "96a6ee41-95d6-4248-b851-ede8b9b1a624",
   "metadata": {},
   "outputs": [],
   "source": [
    "risk_quants_df.to_csv(quants_out_file)"
   ]
  },
  {
   "cell_type": "code",
   "execution_count": 16,
   "id": "e5efafc0-45a4-4e51-b2e8-5aea4672afcc",
   "metadata": {},
   "outputs": [
    {
     "data": {
      "text/plain": [
       "chr17    214\n",
       "chr4      80\n",
       "chr16     56\n",
       "chr7      21\n",
       "chr1      13\n",
       "chr11     13\n",
       "chr5      12\n",
       "chr12      6\n",
       "chr8       6\n",
       "chr2       5\n",
       "chr9       5\n",
       "chr3       4\n",
       "chr6       4\n",
       "chr15      3\n",
       "chr21      2\n",
       "chr10      1\n",
       "Name: chrom, dtype: int64"
      ]
     },
     "execution_count": 16,
     "metadata": {},
     "output_type": "execute_result"
    }
   ],
   "source": [
    "risk_features_df.chrom.value_counts()"
   ]
  },
  {
   "cell_type": "code",
   "execution_count": 17,
   "id": "ada3a590-dd5a-4800-8979-ef6b7d97c497",
   "metadata": {},
   "outputs": [
    {
     "name": "stdout",
     "output_type": "stream",
     "text": [
      "Mon Oct  3 20:26:00 UTC 2022\n"
     ]
    }
   ],
   "source": [
    "!date"
   ]
  },
  {
   "cell_type": "code",
   "execution_count": null,
   "id": "873160a1-39d2-4453-8774-15ad89ebb97a",
   "metadata": {},
   "outputs": [],
   "source": []
  }
 ],
 "metadata": {
  "environment": {
   "kernel": "python3",
   "name": "pytorch-gpu.1-11.m94",
   "type": "gcloud",
   "uri": "gcr.io/deeplearning-platform-release/pytorch-gpu.1-11:m94"
  },
  "kernelspec": {
   "display_name": "Python 3",
   "language": "python",
   "name": "python3"
  },
  "language_info": {
   "codemirror_mode": {
    "name": "ipython",
    "version": 3
   },
   "file_extension": ".py",
   "mimetype": "text/x-python",
   "name": "python",
   "nbconvert_exporter": "python",
   "pygments_lexer": "ipython3",
   "version": "3.7.12"
  }
 },
 "nbformat": 4,
 "nbformat_minor": 5
}
