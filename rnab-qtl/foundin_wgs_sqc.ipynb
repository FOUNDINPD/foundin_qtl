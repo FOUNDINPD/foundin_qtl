{
 "cells": [
  {
   "cell_type": "markdown",
   "metadata": {},
   "source": [
    "## Notebook for sample QC of WGS sample cohort"
   ]
  },
  {
   "cell_type": "markdown",
   "metadata": {},
   "source": [
    "#### library imports and global variables"
   ]
  },
  {
   "cell_type": "code",
   "execution_count": 1,
   "metadata": {},
   "outputs": [],
   "source": [
    "# import libraries\n",
    "import threading\n",
    "import pandas as pd\n",
    "import dask.dataframe as dd\n",
    "import os\n",
    "from umap import UMAP\n",
    "import matplotlib.pyplot as plt\n",
    "import seaborn as sns"
   ]
  },
  {
   "cell_type": "code",
   "execution_count": 36,
   "metadata": {},
   "outputs": [],
   "source": [
    "# global notebook variables for both python and bash magic (by stdin arguments)\n",
    "cohort = 'foundin'\n",
    "build = 'freeze9'\n",
    "cohort_build = f'{cohort}.{build}'\n",
    "amppd_version = 'amppdv1'\n",
    "\n",
    "# directories\n",
    "wrk_dir = f'/labshare/raph/datasets/{cohort}'\n",
    "genos_dir = f'{wrk_dir}/genotypes'\n",
    "qc_dir = f'{wrk_dir}/qc'\n",
    "eqtl_geno_dir = f'/labshare/raph/eqtl/{cohort}/genotypes'\n",
    "eqtl_info_dir = f'/labshare/raph/eqtl/{cohort}/sample_info'\n",
    "\n",
    "# out file\n",
    "qc_bfile_set = f'{qc_dir}/{cohort_build}.geno05maf05hwe000001'\n",
    "sqc_excludes_file = f'{qc_dir}/{cohort_build}.excludes.txt'\n",
    "sample_info_file = f'{eqtl_info_dir}/{cohort_build}.sample_info.txt'\n",
    "\n",
    "# constants\n",
    "autosomes = [str(x) for x in list(range(1,23))]\n",
    "sexomes = ['X']\n",
    "chromosomes = autosomes + sexomes\n",
    "MAX_MISSING = 0.05\n",
    "MIN_FREQ = 0.05\n",
    "MIN_HWE_P = 0.000001\n",
    "hg38_chrX_PAREND = 2800000\n",
    "hg38_chrX_PARSTART = 155700000\n",
    "\n",
    "# known samples that need to be removed from analyses\n",
    "known_excludes = ['PP-50670']"
   ]
  },
  {
   "cell_type": "markdown",
   "metadata": {},
   "source": [
    "#### threading related functions"
   ]
  },
  {
   "cell_type": "code",
   "execution_count": 3,
   "metadata": {},
   "outputs": [],
   "source": [
    "#### threading related function\n",
    "\n",
    "# run command line procsss with bash majic\n",
    "# make this a small function so it can be target function for threading\n",
    "def run_bash_cmd(this_cmd):\n",
    "    !{this_cmd}\n",
    "\n",
    "# for each bash command is list add to execution thread, join and wait til all done\n",
    "def run_bash_cmds_threaded(cmd_list):\n",
    "    job_threads = []\n",
    "    for this_cmd in cmd_list:\n",
    "        this_thread = threading.Thread(target=run_bash_cmd, args=(this_cmd,))\n",
    "        job_threads.append(this_thread)\n",
    "        this_thread.start()\n",
    "\n",
    "    for job_thread in job_threads:\n",
    "        job_thread.join()          "
   ]
  },
  {
   "cell_type": "markdown",
   "metadata": {},
   "source": [
    "### run typical QC checks"
   ]
  },
  {
   "cell_type": "markdown",
   "metadata": {},
   "source": [
    "#### create output directories"
   ]
  },
  {
   "cell_type": "code",
   "execution_count": 4,
   "metadata": {},
   "outputs": [],
   "source": [
    "os.makedirs(qc_dir, exist_ok=True)\n",
    "os.makedirs(eqtl_geno_dir, exist_ok=True)\n",
    "os.makedirs(eqtl_info_dir, exist_ok=True)"
   ]
  },
  {
   "cell_type": "markdown",
   "metadata": {},
   "source": [
    "#### subset genotypes to well behaved variants for running typical sample QC"
   ]
  },
  {
   "cell_type": "code",
   "execution_count": 5,
   "metadata": {},
   "outputs": [],
   "source": [
    "# %%time\n",
    "# # since the plink bim file does handle multi-allelics need to find and create\n",
    "# # exclude list for if bfiles need\n",
    "\n",
    "# def find_pvar_multiallelics(pvar_file, outfile):\n",
    "#     pvar_dd = dd.read_csv(pvar_file, header=None, sep='\\s+', comment='#',\n",
    "#                           usecols=[0, 2, 4],\n",
    "#                           dtype={0: 'string', 2: 'string', 4: 'string'})\n",
    "\n",
    "#     # see if ALT allele(s) column contains commas\n",
    "#     multiallelics = pvar_dd.loc[pvar_dd[4].str.contains(',')]\n",
    "#     # save to variant IDs for the multiallelics\n",
    "#     multiallelics[2].compute().to_csv(outfile, header=False, index=False)\n",
    "\n",
    "# job_threads = []\n",
    "# for chrom in chromosomes:\n",
    "#     this_thread = threading.Thread(target=find_pvar_multiallelics, \n",
    "#                                    args=(f'{genos_dir}/{cohort_build}.chr{chrom}.pvar',\n",
    "#                                          f'{qc_dir}/{cohort_build}.chr{chrom}.multiallelics.list'))\n",
    "#     job_threads.append(this_thread)\n",
    "#     this_thread.start()\n",
    "\n",
    "# for job_thread in job_threads:\n",
    "#     job_thread.join()              "
   ]
  },
  {
   "cell_type": "code",
   "execution_count": 6,
   "metadata": {},
   "outputs": [],
   "source": [
    "# filter the pfiles qc checks\n",
    "\n",
    "# small function to format plink command for subsetting to \n",
    "# well behaved variants (wbv)\n",
    "def frmt_wbv_subset(chrom, in_dir, out_dir, name):\n",
    "    in_set = f'{in_dir}/{name}.chr{chrom}'\n",
    "    out_set = f'{out_dir}/{name}.chr{chrom}.geno05maf05hwe000001'\n",
    "#     multiallelics_file = f'{out_dir}/{name}.chr{chrom}.multiallelics.list'\n",
    "    hwe_filter = f'--hwe {MIN_HWE_P}'\n",
    "    # if chrom X or Y don't filter on hardy-weinber\n",
    "    if (chrom == 'X') or (chrom == 'Y'):\n",
    "        hwe_filter = '' \n",
    "#     this_cmd = f'plink2 --pfile {in_set} --geno {MAX_MISSING} --maf {MIN_FREQ} \\\n",
    "# {hwe_filter} --silent --exclude {multiallelics_file} --make-bed --out {out_set}'\n",
    "    this_cmd = f'plink2 --pfile {in_set} --geno {MAX_MISSING} --maf {MIN_FREQ} \\\n",
    "{hwe_filter} --silent --make-bed --out {out_set}'\n",
    "    return this_cmd\n",
    "\n",
    "cmd_list = [frmt_wbv_subset(chrom, genos_dir, qc_dir, cohort_build)\n",
    "            for chrom in chromosomes]"
   ]
  },
  {
   "cell_type": "code",
   "execution_count": 7,
   "metadata": {},
   "outputs": [
    {
     "name": "stdout",
     "output_type": "stream",
     "text": [
      "CPU times: user 2.48 s, sys: 1.97 s, total: 4.44 s\n",
      "Wall time: 4.37 s\n"
     ]
    }
   ],
   "source": [
    "%%time\n",
    "# execute the command list, threaded\n",
    "# print(cmd_list)\n",
    "run_bash_cmds_threaded(cmd_list)"
   ]
  },
  {
   "cell_type": "code",
   "execution_count": 8,
   "metadata": {},
   "outputs": [
    {
     "name": "stdout",
     "output_type": "stream",
     "text": [
      "23\n"
     ]
    }
   ],
   "source": [
    "# check the files generated\n",
    "!ls {qc_dir}/{cohort_build}.chr*.geno05maf05hwe000001.bed | wc -l"
   ]
  },
  {
   "cell_type": "markdown",
   "metadata": {},
   "source": [
    "#### merge per chromosome QC variants into single fileset"
   ]
  },
  {
   "cell_type": "code",
   "execution_count": 9,
   "metadata": {},
   "outputs": [
    {
     "name": "stdout",
     "output_type": "stream",
     "text": [
      "Error: 13 variants with 3+ alleles present.\n",
      "* If you believe this is due to strand inconsistency, try --flip with\n",
      "  /labshare/raph/datasets/foundin/qc/foundin.freeze9.geno05maf05hwe000001-merge.missnp.\n",
      "  (Warning: if this seems to work, strand errors involving SNPs with A/T or C/G\n",
      "  alleles probably remain in your data.  If LD between nearby SNPs is high,\n",
      "  --flip-scan should detect them.)\n",
      "* If you are dealing with genuine multiallelic variants, we recommend exporting\n",
      "  that subset of the data to VCF (via e.g. '--recode vcf'), merging with\n",
      "  another tool/script, and then importing the result; PLINK is not yet suited\n",
      "  to handling them.\n",
      "Warning: 335665 het. haploid genotypes present (see\n",
      "/labshare/raph/datasets/foundin/qc/foundin.freeze9.chrX.geno05maf05hwe000001.temp.hh\n",
      "); many commands treat these as missing.\n",
      "Warning: Variants 'rs7554766' and 'rs139584474' have the same position.\n",
      "Warning: Variants 'rs79602225' and 'rs36027939' have the same position.\n",
      "Warning: Variants 'rs201462100' and 'rs115880263' have the same position.\n",
      "731 more same-position warnings: see log file.\n",
      "Warning: 335665 het. haploid genotypes present (see\n",
      "/labshare/raph/datasets/foundin/qc/foundin.freeze9.geno05maf05hwe000001.hh );\n",
      "many commands treat these as missing.\n",
      "CPU times: user 1.24 s, sys: 867 ms, total: 2.1 s\n",
      "Wall time: 1min\n"
     ]
    }
   ],
   "source": [
    "%%time\n",
    "# merge the files into a single plink binary set\n",
    "merge_file_set = f'{qc_dir}/merge-list.txt'\n",
    "\n",
    "with open(merge_file_set, 'w') as file_handler:\n",
    "    for chrom in chromosomes:\n",
    "        chrom_file_set = f'{qc_dir}/{cohort_build}.chr{chrom}.geno05maf05hwe000001'\n",
    "        file_handler.write(f'{chrom_file_set}\\n')\n",
    "\n",
    "# merge the per chrom bfiles into a genome bfile\n",
    "!plink --merge-list {merge_file_set} --make-bed --allow-no-sex \\\n",
    "--silent --out {qc_bfile_set}\n",
    "\n",
    "# if there was a missnp problem remove those variant and re-attemp merge\n",
    "if os.path.exists(f'{qc_bfile_set}-merge.missnp'):\n",
    "    for chrom in chromosomes:\n",
    "        !plink --bfile {qc_dir}/{cohort_build}.chr{chrom}.geno05maf05hwe000001 \\\n",
    "--silent --exclude {qc_bfile_set}-merge.missnp \\\n",
    "--make-bed --out {qc_dir}/{cohort_build}.chr{chrom}.geno05maf05hwe000001.temp\n",
    "\n",
    "    with open(merge_file_set, 'w') as file_handler:\n",
    "        for chrom in chromosomes:\n",
    "            chrom_file_set = f'{qc_dir}/{cohort_build}.chr{chrom}.geno05maf05hwe000001.temp'\n",
    "            file_handler.write(f'{chrom_file_set}\\n')\n",
    "        \n",
    "    !plink --merge-list {merge_file_set} --make-bed --allow-no-sex \\\n",
    "--silent --out {qc_bfile_set}"
   ]
  },
  {
   "cell_type": "code",
   "execution_count": 10,
   "metadata": {},
   "outputs": [
    {
     "name": "stdout",
     "output_type": "stream",
     "text": [
      "-rw-rw-r--. 1 gibbsr gibbsr 201M Sep  3 23:20 /labshare/raph/datasets/foundin/qc/foundin.freeze9.geno05maf05hwe000001.bed\n",
      "-rw-rw-r--. 1 gibbsr gibbsr 167M Sep  3 23:20 /labshare/raph/datasets/foundin/qc/foundin.freeze9.geno05maf05hwe000001.bim\n",
      "-rw-rw-r--. 1 gibbsr gibbsr 3.5K Sep  3 23:20 /labshare/raph/datasets/foundin/qc/foundin.freeze9.geno05maf05hwe000001.fam\n",
      "-rw-rw-r--. 1 gibbsr gibbsr 9.0M Sep  3 23:20 /labshare/raph/datasets/foundin/qc/foundin.freeze9.geno05maf05hwe000001.hh\n",
      "-rw-rw-r--. 1 gibbsr gibbsr  54K Sep  3 23:20 /labshare/raph/datasets/foundin/qc/foundin.freeze9.geno05maf05hwe000001.log\n"
     ]
    }
   ],
   "source": [
    "# check the files generated\n",
    "!ls -lh {qc_bfile_set}.*"
   ]
  },
  {
   "cell_type": "code",
   "execution_count": 11,
   "metadata": {},
   "outputs": [
    {
     "name": "stdout",
     "output_type": "stream",
     "text": [
      "PLINK v1.90b5.4 64-bit (10 Apr 2018)\n",
      "Options in effect:\n",
      "  --allow-no-sex\n",
      "  --make-bed\n",
      "  --merge-list /labshare/raph/datasets/foundin/qc/merge-list.txt\n",
      "  --out /labshare/raph/datasets/foundin/qc/foundin.freeze9.geno05maf05hwe000001\n",
      "  --silent\n",
      "\n",
      "Hostname: lngnode6\n",
      "Working directory: /labshare/raph/notebooks/expression/foundin\n",
      "+\n",
      "/labshare/raph/datasets/foundin/qc/foundin.freeze9.geno05maf05hwe000001-merge.fam\n",
      ".\n",
      "6183475 variants loaded from .bim file.\n",
      "133 people (80 males, 53 females) loaded from .fam.\n",
      "Using 1 thread (no multithreaded calculations invoked).\n",
      "Before main variant filters, 133 founders and 0 nonfounders present.\n",
      "Calculating allele frequencies... done.\n",
      "Warning: 335665 het. haploid genotypes present (see\n",
      "/labshare/raph/datasets/foundin/qc/foundin.freeze9.geno05maf05hwe000001.hh );\n",
      "many commands treat these as missing.\n",
      "6183475 variants and 133 people pass filters and QC.\n",
      "Note: No phenotypes present.\n",
      "--make-bed to\n",
      "/labshare/raph/datasets/foundin/qc/foundin.freeze9.geno05maf05hwe000001.bed +\n",
      "/labshare/raph/datasets/foundin/qc/foundin.freeze9.geno05maf05hwe000001.bim +\n",
      "/labshare/raph/datasets/foundin/qc/foundin.freeze9.geno05maf05hwe000001.fam ...\n",
      "done.\n",
      "\n",
      "End time: Thu Sep  3 23:20:24 2020\n"
     ]
    }
   ],
   "source": [
    "# check the files generated\n",
    "!head -n 10 {qc_bfile_set}.log\n",
    "!tail -n 20 {qc_bfile_set}.log"
   ]
  },
  {
   "cell_type": "markdown",
   "metadata": {},
   "source": [
    "#### run sexcheck"
   ]
  },
  {
   "cell_type": "code",
   "execution_count": 12,
   "metadata": {},
   "outputs": [
    {
     "name": "stdout",
     "output_type": "stream",
     "text": [
      "Warning: 22019 het. haploid genotypes present (see\n",
      "/labshare/raph/datasets/foundin/qc/foundin.freeze9.sex.hh ); many commands\n",
      "treat these as missing.\n"
     ]
    }
   ],
   "source": [
    "# check sexcheck\n",
    "# hg38 non-PAR\n",
    "bim_df = pd.read_csv(f'{qc_dir}/{cohort_build}.chrX.geno05maf05hwe000001.bim',\n",
    "                     header=None, sep='\\s+')\n",
    "\n",
    "nonpar_bim_df = bim_df.loc[(bim_df[3] > hg38_chrX_PAREND) &\n",
    "                          (bim_df[3] < hg38_chrX_PARSTART)]\n",
    "\n",
    "# save just the variant names to a list file\n",
    "nonpar_bim_df[1].to_csv(f'{qc_dir}/{cohort_build}.chrX.list',\n",
    "                        header=False, index=False, sep='\\t')\n",
    "\n",
    "# now run sex-check\n",
    "!plink --bfile {qc_bfile_set} \\\n",
    "--extract {qc_dir}/{cohort_build}.chrX.list \\\n",
    "--check-sex 0.25 0.75 --silent --out {qc_dir}/{cohort_build}.sex"
   ]
  },
  {
   "cell_type": "markdown",
   "metadata": {},
   "source": [
    "#### check missingness and het rates"
   ]
  },
  {
   "cell_type": "code",
   "execution_count": 13,
   "metadata": {},
   "outputs": [],
   "source": [
    "# check missingness\n",
    "!plink2 --bfile {qc_bfile_set} --missing \\\n",
    "--autosome --silent --out {qc_dir}/{cohort_build}.missing\n",
    "\n",
    "!plink --bfile {qc_bfile_set} --het --autosome \\\n",
    "--silent --out {qc_dir}/{cohort_build}.het"
   ]
  },
  {
   "cell_type": "markdown",
   "metadata": {},
   "source": [
    "#### check for relatedness, including duplicates"
   ]
  },
  {
   "cell_type": "code",
   "execution_count": 14,
   "metadata": {},
   "outputs": [
    {
     "name": "stdout",
     "output_type": "stream",
     "text": [
      "king --related -b /labshare/raph/datasets/foundin/qc/foundin.freeze9.geno05maf05hwe000001.bed --cpus $(nproc) --degree 2 --prefix /labshare/raph/datasets/foundin/qc/foundin.freeze9.king.related > /labshare/raph/datasets/foundin/qc/foundin.freeze9.king.related.log\n",
      "CPU times: user 458 ms, sys: 136 ms, total: 594 ms\n",
      "Wall time: 23.2 s\n"
     ]
    }
   ],
   "source": [
    "%%time\n",
    "king_related_cmd = f'king --related -b {qc_bfile_set}.bed \\\n",
    "--cpus $(nproc) --degree 2 --prefix {qc_dir}/{cohort_build}.king.related \\\n",
    "> {qc_dir}/{cohort_build}.king.related.log'\n",
    "\n",
    "print(king_related_cmd)\n",
    "!{king_related_cmd}\n",
    "\n",
    "# if larger cohort then switch to running nohup in background\n",
    "# print('#run these commands at terminal:\\n')\n",
    "# print(f'nohup {king_related_cmd} &')"
   ]
  },
  {
   "cell_type": "code",
   "execution_count": 15,
   "metadata": {},
   "outputs": [
    {
     "name": "stdout",
     "output_type": "stream",
     "text": [
      "Relationship inference across families starts at Thu Sep  3 23:20:55 2020\n",
      "24 CPU cores are used...\n",
      "  Stages 1&2 (with 32768 SNPs): 6 pairs of relatives are detected (with kinship > 0.0625)\n",
      "                               Screening ends at Thu Sep  3 23:20:55 2020\n",
      "  Final Stage (with 5993967 SNPs): 6 pairs of relatives (up to 2nd-degree) are confirmed\n",
      "                               Inference ends at Thu Sep  3 23:20:55 2020\n",
      "\n",
      "Relationship summary (total relatives: 0 by pedigree, 6 by inference)\n",
      "        \tMZ\tPO\tFS\t2nd\n",
      "  =====================================================\n",
      "  Inference\t0\t0\t6\t0\n",
      "\n",
      "\n",
      "Between-family relatives (kinship >= 0.08839) saved in file /labshare/raph/datasets/foundin/qc/foundin.freeze9.king.related.kin0\n",
      "  X-Chr IBD-sharing inference saved in file /labshare/raph/datasets/foundin/qc/foundin.freeze9.king.relatedX.kin0\n",
      "KING ends at Thu Sep  3 23:20:55 2020\n"
     ]
    }
   ],
   "source": [
    "!tail -n 16 {qc_dir}/{cohort_build}.king.related.log"
   ]
  },
  {
   "cell_type": "markdown",
   "metadata": {},
   "source": [
    "#### for the duplicates see which ones also failed sexcheck, ie clues how to correctly resolve duplicates"
   ]
  },
  {
   "cell_type": "code",
   "execution_count": 16,
   "metadata": {},
   "outputs": [
    {
     "name": "stdout",
     "output_type": "stream",
     "text": [
      "number of related pairs\n",
      "(6, 14)\n",
      "FS    6\n",
      "Name: InfType, dtype: int64\n",
      "\n",
      "just the Dup/MZ\n",
      "(0, 14)\n",
      "Series([], Name: InfType, dtype: int64)\n",
      "\n",
      "number of samples in that failed sexcheck and also a duplicate\n",
      "0\n"
     ]
    }
   ],
   "source": [
    "# get the sex problems\n",
    "sexcheck_file = f'{qc_dir}/{cohort_build}.sex.sexcheck'\n",
    "sexcheck = pd.read_csv(sexcheck_file,sep='\\s+')\n",
    "sexmismatch = sexcheck.loc[~(sexcheck['PEDSEX'] == 0) &\n",
    "                           (sexcheck['STATUS'] == 'PROBLEM')]\n",
    "\n",
    "# get the duplicates\n",
    "relateds_file = f'{qc_dir}/{cohort_build}.king.related.kin0'\n",
    "if os.path.isfile(relateds_file):\n",
    "    rels_df = pd.read_csv(relateds_file,sep='\\s+')\n",
    "    print('number of related pairs')\n",
    "    print(rels_df.shape)\n",
    "\n",
    "    print(rels_df['InfType'].value_counts())\n",
    "\n",
    "    # subset just the dups\n",
    "    dups_df = rels_df.loc[rels_df['InfType'] == 'Dup/MZ']\n",
    "\n",
    "    print('\\njust the Dup/MZ')\n",
    "    print(dups_df.shape)\n",
    "    print(dups_df['InfType'].value_counts())\n",
    "\n",
    "    print('\\nnumber of samples in that failed sexcheck and also a duplicate')\n",
    "    print(len(set(sexmismatch['IID']) &\n",
    "              (set(rels_df['ID1']) |\n",
    "               set(rels_df['ID2']))))\n",
    "else:\n",
    "    print('no related samples were detected in the cohort')"
   ]
  },
  {
   "cell_type": "markdown",
   "metadata": {},
   "source": [
    "#### check the sample ancestries making use of 1KG data"
   ]
  },
  {
   "cell_type": "code",
   "execution_count": 17,
   "metadata": {},
   "outputs": [
    {
     "name": "stdout",
     "output_type": "stream",
     "text": [
      "-rw-rw-r--. 1 gibbsr gibbsr  60K Sep  3 23:21 /labshare/raph/datasets/foundin/qc/onekg.good.geno05maf05hwe000001.fam\n",
      "-rw-rw-r--. 1 gibbsr gibbsr 1.3K Sep  3 23:21 /labshare/raph/datasets/foundin/qc/onekg.good.geno05maf05hwe000001.log\n",
      "-rw-rw-r--. 1 gibbsr gibbsr 145M Sep  3 23:21 /labshare/raph/datasets/foundin/qc/onekg.good.geno05maf05hwe000001.bim\n",
      "-rw-rw-r--. 1 gibbsr gibbsr 3.1G Sep  3 23:22 /labshare/raph/datasets/foundin/qc/onekg.good.geno05maf05hwe000001.bed\n"
     ]
    }
   ],
   "source": [
    "# pull down the 1KG genotypes to look at pop-structure\n",
    "!gsutil -mq cp gs://nihnialng-pd-wgs/tools/onekg.good.geno05maf05hwe000001.* \\\n",
    "{qc_dir}/\n",
    "!ls -lhtr {qc_dir}/onekg.*"
   ]
  },
  {
   "cell_type": "code",
   "execution_count": 18,
   "metadata": {},
   "outputs": [
    {
     "name": "stdout",
     "output_type": "stream",
     "text": [
      "Error: 1188 variants with 3+ alleles present.\n",
      "* If you believe this is due to strand inconsistency, try --flip with\n",
      "  /labshare/raph/datasets/foundin/qc/foundin.freeze9.onekg-merge.missnp.\n",
      "  (Warning: if this seems to work, strand errors involving SNPs with A/T or C/G\n",
      "  alleles probably remain in your data.  If LD between nearby SNPs is high,\n",
      "  --flip-scan should detect them.)\n",
      "* If you are dealing with genuine multiallelic variants, we recommend exporting\n",
      "  that subset of the data to VCF (via e.g. '--recode vcf'), merging with\n",
      "  another tool/script, and then importing the result; PLINK is not yet suited\n",
      "  to handling them.\n",
      "Warning: Variants 'rs12066103;rs550873096' and 'rs12066103' have the same\n",
      "position.\n",
      "Warning: Variants 'rs80183958' and 'rs533071465' have the same position.\n",
      "Warning: Variants 'rs76908344' and 'rs201662806' have the same position.\n",
      "11565 more same-position warnings: see log file.\n",
      "Warning: 335622 het. haploid genotypes present (see\n",
      "/labshare/raph/datasets/foundin/qc/foundin.freeze9.onekg.hh ); many commands\n",
      "treat these as missing.\n",
      "Warning: --hwe observation counts vary by more than 10%, due to the X\n",
      "chromosome.  You may want to use a less stringent --hwe p-value threshold for X\n",
      "chromosome variants.\n",
      "-rw-rw-r--. 1 gibbsr gibbsr 2.4G Sep  3 23:25 /labshare/raph/datasets/foundin/qc/foundin.freeze9.onekg.bed\n",
      "-rw-rw-r--. 1 gibbsr gibbsr 106M Sep  3 23:25 /labshare/raph/datasets/foundin/qc/foundin.freeze9.onekg.bim\n",
      "-rw-rw-r--. 1 gibbsr gibbsr  64K Sep  3 23:25 /labshare/raph/datasets/foundin/qc/foundin.freeze9.onekg.fam\n",
      "-rw-rw-r--. 1 gibbsr gibbsr 9.0M Sep  3 23:25 /labshare/raph/datasets/foundin/qc/foundin.freeze9.onekg.hh\n",
      "-rw-rw-r--. 1 gibbsr gibbsr 899K Sep  3 23:25 /labshare/raph/datasets/foundin/qc/foundin.freeze9.onekg.log\n",
      "-rw-rw-r--. 1 gibbsr gibbsr  13K Sep  3 23:22 /labshare/raph/datasets/foundin/qc/foundin.freeze9.onekg-merge.missnp\n",
      "CPU times: user 3.92 s, sys: 926 ms, total: 4.84 s\n",
      "Wall time: 3min 18s\n"
     ]
    }
   ],
   "source": [
    "%%time\n",
    "# merge cohort and 1KG data with plink\n",
    "!plink --bfile {qc_bfile_set} \\\n",
    "--bmerge {qc_dir}/onekg.good.geno05maf05hwe000001 \\\n",
    "--geno {MAX_MISSING} --maf {MIN_FREQ} --hwe {MIN_HWE_P} --silent --allow-no-sex \\\n",
    "--make-bed --out {qc_dir}/{cohort_build}.onekg\n",
    "\n",
    "if os.path.exists(f'{qc_dir}/{cohort_build}.onekg-merge.missnp'):\n",
    "    !plink2 -bfile {qc_bfile_set} --allow-no-sex \\\n",
    "--exclude {qc_dir}/{cohort_build}.onekg-merge.missnp --silent \\\n",
    "--make-bed --out {qc_bfile_set}.temp\n",
    "\n",
    "    !plink2 -bfile {qc_dir}/onekg.good.geno05maf05hwe000001 --allow-no-sex \\\n",
    "--exclude {qc_dir}/{cohort_build}.onekg-merge.missnp --silent \\\n",
    "--make-bed --out {qc_dir}/onekg.good.geno05maf05hwe000001.temp\n",
    "\n",
    "    !plink --bfile {qc_bfile_set}.temp \\\n",
    "--bmerge {qc_dir}/onekg.good.geno05maf05hwe000001.temp \\\n",
    "--geno {MAX_MISSING} --maf {MIN_FREQ} --hwe {MIN_HWE_P} --silent --allow-no-sex \\\n",
    "--make-bed --out {qc_dir}/{cohort_build}.onekg\n",
    "    \n",
    "# check the merged cohort and 1KG data with plink was created\n",
    "!ls -lh {qc_dir}/{cohort_build}.onekg*    "
   ]
  },
  {
   "cell_type": "markdown",
   "metadata": {},
   "source": [
    "#### pull down the 1KG population labels"
   ]
  },
  {
   "cell_type": "code",
   "execution_count": 19,
   "metadata": {},
   "outputs": [
    {
     "name": "stdout",
     "output_type": "stream",
     "text": [
      "sample\tpop\tsuper_pop\tgender\t\t\n",
      "HG00096\tGBR\tEUR\tmale\n",
      "HG00097\tGBR\tEUR\tfemale\n",
      "HG00099\tGBR\tEUR\tfemale\n",
      "HG00100\tGBR\tEUR\tfemale\n",
      "HG00101\tGBR\tEUR\tmale\n",
      "HG00102\tGBR\tEUR\tfemale\n",
      "HG00103\tGBR\tEUR\tmale\n",
      "HG00105\tGBR\tEUR\tmale\n",
      "HG00106\tGBR\tEUR\tfemale\n"
     ]
    }
   ],
   "source": [
    "# need to pull down the 1KG population labels\n",
    "!gsutil -mq cp gs://nihnialng-pd-wgs/tools/onekg.panel {qc_dir}/\n",
    "!head {qc_dir}/onekg.panel"
   ]
  },
  {
   "cell_type": "markdown",
   "metadata": {},
   "source": [
    "#### king is to slow for population background check once we get into the thousands of samples\n",
    "\n",
    "for now switch back to LD prunning, plink genome ibs/ibd and mds methods"
   ]
  },
  {
   "cell_type": "code",
   "execution_count": 20,
   "metadata": {},
   "outputs": [
    {
     "name": "stdout",
     "output_type": "stream",
     "text": [
      "Warning: \"--pca approx\" is only recommended for analysis of >5000 samples.\n",
      "CPU times: user 11.9 s, sys: 2.45 s, total: 14.3 s\n",
      "Wall time: 3min 20s\n"
     ]
    }
   ],
   "source": [
    "%%time\n",
    "# merge cohort and 1KG data with plink\n",
    "# find pruned variants\n",
    "!plink2 --bfile {qc_dir}/{cohort_build}.onekg --silent \\\n",
    "--indep-pairwise 50 5 0.3 --out {qc_dir}/{cohort_build}.onekg.ldprune \n",
    "\n",
    "# subset to pruned variants\n",
    "!plink2 --bfile {qc_dir}/{cohort_build}.onekg --silent \\\n",
    "--extract {qc_dir}/{cohort_build}.onekg.ldprune.prune.in \\\n",
    "--make-bed --out {qc_dir}/{cohort_build}.onekg.pruned\n",
    "\n",
    "# generate pca's (plink approx from fastpca)\n",
    "!plink2 --bfile {qc_dir}/{cohort_build}.onekg.pruned \\\n",
    "--silent --pca 20 approx \\\n",
    "--out {qc_dir}/{cohort_build}.onekg.pca"
   ]
  },
  {
   "cell_type": "code",
   "execution_count": 21,
   "metadata": {},
   "outputs": [
    {
     "data": {
      "image/png": "[encoded data removed]",
      "text/plain": [
       "<Figure size 1152x576 with 2 Axes>"
      ]
     },
     "metadata": {},
     "output_type": "display_data"
    }
   ],
   "source": [
    "# mdsfile = f'{qc_dir}/{cohort_build}.onekg.ibs_ibd.mds.mds'\n",
    "mdsfile = f'{qc_dir}/{cohort_build}.onekg.pca.eigenvec'\n",
    "popinfofile = f'{qc_dir}/onekg.panel'\n",
    "output_pca_plot = f'{qc_dir}/{cohort_build}.pop_structure.pca.png'\n",
    "outfile = f'{qc_dir}/{cohort_build}.pop.outliers.txt'\n",
    "\n",
    "cohort_label = cohort\n",
    "\n",
    "expected_ancestry = 'EUR'\n",
    "\n",
    "mdsdf = pd.read_csv(mdsfile,sep='\\s+')\n",
    "infodf = pd.read_csv(popinfofile,sep=\"\\t\")\n",
    "\n",
    "df = mdsdf.merge(infodf,how='left',left_on='IID',right_on='sample')\n",
    "\n",
    "df[['super_pop']] = df[['super_pop']].fillna(cohort_label)\n",
    "df[['pop']] = df[['pop']].fillna(cohort_label)\n",
    "\n",
    "ancestry_cohort = df.loc[df['super_pop'] == expected_ancestry]\n",
    "coi = df.loc[df['super_pop'] == cohort_label]\n",
    "\n",
    "mds1_mean = np.mean(ancestry_cohort['PC1'])\n",
    "mds1_std = np.std(ancestry_cohort['PC1'])\n",
    "mds2_mean = np.mean(ancestry_cohort['PC2'])\n",
    "mds2_std = np.std(ancestry_cohort['PC2'])\n",
    "\n",
    "maxSD = 6\n",
    "plusMax_1 = mds1_mean + maxSD * mds1_std\n",
    "negMax_1 = mds1_mean - maxSD * mds1_std\n",
    "plusMax_2 = mds2_mean + maxSD * mds2_std\n",
    "negMax_2 = mds2_mean - maxSD * mds2_std\n",
    "\n",
    "df['outlier'] = ((df['super_pop'] == cohort_label) & \\\n",
    "    ((df['PC1'] > plusMax_1) | (df['PC1'] < negMax_1) | \\\n",
    "     (df['PC2'] > plusMax_2) | (df['PC2'] < negMax_2)))\n",
    "\n",
    "outliers = df.loc[df['outlier'] == True] \n",
    "outliers.to_csv(outfile,sep=\"\\t\",index=False,header=False)\n",
    "\n",
    "df.loc[df['IID'].isin(outliers['IID']),['super_pop','pop']] = 'outlier'\n",
    "\n",
    "# df = df.sort_values('super_pop',ascending=False)\n",
    "df = df.sample(frac=1)\n",
    "\n",
    "cohort_euro_df = df[df['super_pop'].isin([expected_ancestry,cohort_label,'outlier'])]\n",
    "# cohort_euro_df = cohort_euro_df.sort_values('pop',ascending=False)\n",
    "# cohort_euro_df = cohort_euro_df.sample(frac=1)\n",
    "\n",
    "sns.set()\n",
    "plt.figure(figsize=(16,8))\n",
    "plt.subplot(1,2,1)\n",
    "sns.scatterplot(x='PC1',y='PC2',hue='super_pop',style='super_pop',data=df)\n",
    "plt.xlabel('PC 1')\n",
    "plt.ylabel('PC 2')\n",
    "plt.legend(bbox_to_anchor=(1.05, 1), loc=1, borderaxespad=0,prop={'size': 8})\n",
    "plt.subplot(1,2,2)\n",
    "sns.scatterplot(x='PC1',y='PC2',hue='pop',style='pop',data=cohort_euro_df)\n",
    "plt.xlabel('PC 1')\n",
    "plt.ylabel('PC 2')\n",
    "plt.legend(bbox_to_anchor=(1.05, 1), loc=2, borderaxespad=0,prop={'size': 8})\n",
    "#plt.legend(loc='upper right', prop={'size': 6})\n",
    "plt.savefig(output_pca_plot,format='png',dpi=600,bbox_inches='tight')\n",
    "plt.show()"
   ]
  },
  {
   "cell_type": "code",
   "execution_count": 22,
   "metadata": {},
   "outputs": [
    {
     "data": {
      "text/plain": [
       "foundin    126\n",
       "IBS        107\n",
       "TSI        104\n",
       "CEU         99\n",
       "FIN         98\n",
       "GBR         91\n",
       "outlier      7\n",
       "Name: pop, dtype: int64"
      ]
     },
     "execution_count": 22,
     "metadata": {},
     "output_type": "execute_result"
    }
   ],
   "source": [
    "cohort_euro_df['pop'].value_counts()"
   ]
  },
  {
   "cell_type": "code",
   "execution_count": 23,
   "metadata": {},
   "outputs": [
    {
     "data": {
      "text/html": [
       "<div>\n",
       "<style scoped>\n",
       "    .dataframe tbody tr th:only-of-type {\n",
       "        vertical-align: middle;\n",
       "    }\n",
       "\n",
       "    .dataframe tbody tr th {\n",
       "        vertical-align: top;\n",
       "    }\n",
       "\n",
       "    .dataframe thead th {\n",
       "        text-align: right;\n",
       "    }\n",
       "</style>\n",
       "<table border=\"1\" class=\"dataframe\">\n",
       "  <thead>\n",
       "    <tr style=\"text-align: right;\">\n",
       "      <th></th>\n",
       "      <th>PC1</th>\n",
       "      <th>PC2</th>\n",
       "      <th>PC3</th>\n",
       "      <th>PC4</th>\n",
       "      <th>PC5</th>\n",
       "      <th>PC6</th>\n",
       "      <th>PC7</th>\n",
       "      <th>PC8</th>\n",
       "      <th>PC9</th>\n",
       "      <th>PC10</th>\n",
       "      <th>PC11</th>\n",
       "      <th>PC12</th>\n",
       "      <th>PC13</th>\n",
       "      <th>PC14</th>\n",
       "      <th>PC15</th>\n",
       "      <th>PC16</th>\n",
       "      <th>PC17</th>\n",
       "      <th>PC18</th>\n",
       "      <th>PC19</th>\n",
       "      <th>PC20</th>\n",
       "    </tr>\n",
       "    <tr>\n",
       "      <th>IID</th>\n",
       "      <th></th>\n",
       "      <th></th>\n",
       "      <th></th>\n",
       "      <th></th>\n",
       "      <th></th>\n",
       "      <th></th>\n",
       "      <th></th>\n",
       "      <th></th>\n",
       "      <th></th>\n",
       "      <th></th>\n",
       "      <th></th>\n",
       "      <th></th>\n",
       "      <th></th>\n",
       "      <th></th>\n",
       "      <th></th>\n",
       "      <th></th>\n",
       "      <th></th>\n",
       "      <th></th>\n",
       "      <th></th>\n",
       "      <th></th>\n",
       "    </tr>\n",
       "  </thead>\n",
       "  <tbody>\n",
       "    <tr>\n",
       "      <th>HG00096</th>\n",
       "      <td>0.009828</td>\n",
       "      <td>0.025640</td>\n",
       "      <td>-0.013990</td>\n",
       "      <td>-0.013046</td>\n",
       "      <td>-0.018309</td>\n",
       "      <td>0.003886</td>\n",
       "      <td>0.002421</td>\n",
       "      <td>-0.012768</td>\n",
       "      <td>0.023020</td>\n",
       "      <td>-0.000511</td>\n",
       "      <td>-0.038592</td>\n",
       "      <td>-0.005605</td>\n",
       "      <td>0.006378</td>\n",
       "      <td>0.015131</td>\n",
       "      <td>0.019191</td>\n",
       "      <td>-0.019617</td>\n",
       "      <td>0.009475</td>\n",
       "      <td>0.000383</td>\n",
       "      <td>-0.002568</td>\n",
       "      <td>0.016102</td>\n",
       "    </tr>\n",
       "    <tr>\n",
       "      <th>HG00097</th>\n",
       "      <td>0.009775</td>\n",
       "      <td>0.025722</td>\n",
       "      <td>-0.013265</td>\n",
       "      <td>-0.012197</td>\n",
       "      <td>-0.017963</td>\n",
       "      <td>0.001140</td>\n",
       "      <td>0.000535</td>\n",
       "      <td>-0.007785</td>\n",
       "      <td>0.018590</td>\n",
       "      <td>0.001197</td>\n",
       "      <td>-0.038530</td>\n",
       "      <td>-0.009098</td>\n",
       "      <td>0.003690</td>\n",
       "      <td>0.003132</td>\n",
       "      <td>0.006056</td>\n",
       "      <td>-0.014211</td>\n",
       "      <td>0.002362</td>\n",
       "      <td>-0.032590</td>\n",
       "      <td>-0.003648</td>\n",
       "      <td>0.011780</td>\n",
       "    </tr>\n",
       "    <tr>\n",
       "      <th>HG00099</th>\n",
       "      <td>0.009749</td>\n",
       "      <td>0.025358</td>\n",
       "      <td>-0.013136</td>\n",
       "      <td>-0.010781</td>\n",
       "      <td>-0.023855</td>\n",
       "      <td>0.005529</td>\n",
       "      <td>-0.001645</td>\n",
       "      <td>-0.014932</td>\n",
       "      <td>0.022006</td>\n",
       "      <td>-0.010957</td>\n",
       "      <td>-0.049408</td>\n",
       "      <td>0.000113</td>\n",
       "      <td>0.009596</td>\n",
       "      <td>0.009993</td>\n",
       "      <td>0.020312</td>\n",
       "      <td>-0.022298</td>\n",
       "      <td>0.005359</td>\n",
       "      <td>0.002686</td>\n",
       "      <td>0.007064</td>\n",
       "      <td>0.007769</td>\n",
       "    </tr>\n",
       "    <tr>\n",
       "      <th>HG00100</th>\n",
       "      <td>0.009158</td>\n",
       "      <td>0.025754</td>\n",
       "      <td>-0.013267</td>\n",
       "      <td>-0.012810</td>\n",
       "      <td>-0.015548</td>\n",
       "      <td>0.004975</td>\n",
       "      <td>-0.001190</td>\n",
       "      <td>-0.010990</td>\n",
       "      <td>0.029868</td>\n",
       "      <td>-0.011199</td>\n",
       "      <td>-0.049062</td>\n",
       "      <td>0.002765</td>\n",
       "      <td>0.001763</td>\n",
       "      <td>-0.000739</td>\n",
       "      <td>0.025629</td>\n",
       "      <td>-0.018942</td>\n",
       "      <td>0.007580</td>\n",
       "      <td>-0.016998</td>\n",
       "      <td>-0.012873</td>\n",
       "      <td>0.011012</td>\n",
       "    </tr>\n",
       "    <tr>\n",
       "      <th>HG00101</th>\n",
       "      <td>0.009639</td>\n",
       "      <td>0.025338</td>\n",
       "      <td>-0.014290</td>\n",
       "      <td>-0.012088</td>\n",
       "      <td>-0.018808</td>\n",
       "      <td>0.003583</td>\n",
       "      <td>-0.000368</td>\n",
       "      <td>-0.009167</td>\n",
       "      <td>0.021922</td>\n",
       "      <td>-0.007501</td>\n",
       "      <td>-0.049451</td>\n",
       "      <td>0.002324</td>\n",
       "      <td>0.020138</td>\n",
       "      <td>0.009996</td>\n",
       "      <td>0.029893</td>\n",
       "      <td>-0.011501</td>\n",
       "      <td>0.012447</td>\n",
       "      <td>-0.013496</td>\n",
       "      <td>-0.009882</td>\n",
       "      <td>0.003692</td>\n",
       "    </tr>\n",
       "  </tbody>\n",
       "</table>\n",
       "</div>"
      ],
      "text/plain": [
       "              PC1       PC2       PC3       PC4       PC5       PC6       PC7  \\\n",
       "IID                                                                             \n",
       "HG00096  0.009828  0.025640 -0.013990 -0.013046 -0.018309  0.003886  0.002421   \n",
       "HG00097  0.009775  0.025722 -0.013265 -0.012197 -0.017963  0.001140  0.000535   \n",
       "HG00099  0.009749  0.025358 -0.013136 -0.010781 -0.023855  0.005529 -0.001645   \n",
       "HG00100  0.009158  0.025754 -0.013267 -0.012810 -0.015548  0.004975 -0.001190   \n",
       "HG00101  0.009639  0.025338 -0.014290 -0.012088 -0.018808  0.003583 -0.000368   \n",
       "\n",
       "              PC8       PC9      PC10      PC11      PC12      PC13      PC14  \\\n",
       "IID                                                                             \n",
       "HG00096 -0.012768  0.023020 -0.000511 -0.038592 -0.005605  0.006378  0.015131   \n",
       "HG00097 -0.007785  0.018590  0.001197 -0.038530 -0.009098  0.003690  0.003132   \n",
       "HG00099 -0.014932  0.022006 -0.010957 -0.049408  0.000113  0.009596  0.009993   \n",
       "HG00100 -0.010990  0.029868 -0.011199 -0.049062  0.002765  0.001763 -0.000739   \n",
       "HG00101 -0.009167  0.021922 -0.007501 -0.049451  0.002324  0.020138  0.009996   \n",
       "\n",
       "             PC15      PC16      PC17      PC18      PC19      PC20  \n",
       "IID                                                                  \n",
       "HG00096  0.019191 -0.019617  0.009475  0.000383 -0.002568  0.016102  \n",
       "HG00097  0.006056 -0.014211  0.002362 -0.032590 -0.003648  0.011780  \n",
       "HG00099  0.020312 -0.022298  0.005359  0.002686  0.007064  0.007769  \n",
       "HG00100  0.025629 -0.018942  0.007580 -0.016998 -0.012873  0.011012  \n",
       "HG00101  0.029893 -0.011501  0.012447 -0.013496 -0.009882  0.003692  "
      ]
     },
     "execution_count": 23,
     "metadata": {},
     "output_type": "execute_result"
    }
   ],
   "source": [
    "mdsdf.set_index(mdsdf['IID'], inplace=True)\n",
    "mdsdf.drop(columns=['#FID','IID'], inplace=True)\n",
    "mdsdf.head()"
   ]
  },
  {
   "cell_type": "code",
   "execution_count": 24,
   "metadata": {},
   "outputs": [],
   "source": [
    "'''\n",
    "small function to generate umap from pandas dataframe, for all features (columns) \\\n",
    "and return back as dataframe with source index intact\n",
    "'''\n",
    "def generate_umapdf_from_df(this_df, rnd_digits=3):\n",
    "    # run UMAP on the data frame features\n",
    "    umap_results = UMAP(random_state=42).fit_transform(this_df)\n",
    "    umap_df = pd.DataFrame(umap_results, columns=['x_umap', 'y_umap'],\n",
    "                           index=this_df.index).round(rnd_digits)\n",
    "\n",
    "    umap_df = umap_df.merge(this_df,left_index=True, right_index=True)\n",
    "    print(f'The dimensions of the umap df and the traits are {umap_df.shape}')\n",
    "    return umap_df"
   ]
  },
  {
   "cell_type": "code",
   "execution_count": 25,
   "metadata": {},
   "outputs": [
    {
     "name": "stdout",
     "output_type": "stream",
     "text": [
      "The dimensions of the umap df and the traits are (2580, 22)\n",
      "CPU times: user 23.2 s, sys: 407 ms, total: 23.6 s\n",
      "Wall time: 19.2 s\n"
     ]
    }
   ],
   "source": [
    "%%time\n",
    "#run UMAP on the genetic PCs\n",
    "umap_df = generate_umapdf_from_df(mdsdf)"
   ]
  },
  {
   "cell_type": "code",
   "execution_count": 26,
   "metadata": {},
   "outputs": [
    {
     "name": "stdout",
     "output_type": "stream",
     "text": [
      "AFR        657\n",
      "EAS        499\n",
      "EUR        499\n",
      "SAS        481\n",
      "AMR        311\n",
      "foundin    126\n",
      "outlier      7\n",
      "Name: super_pop, dtype: int64\n",
      "foundin    126\n",
      "IBS        107\n",
      "TSI        104\n",
      "CEU         99\n",
      "FIN         98\n",
      "GBR         91\n",
      "outlier      7\n",
      "Name: pop, dtype: int64\n"
     ]
    }
   ],
   "source": [
    "umap_df = umap_df.merge(infodf,how='left',left_index=True,right_on='sample')\n",
    "\n",
    "umap_df[['super_pop']] = umap_df[['super_pop']].fillna(cohort_label)\n",
    "umap_df[['pop']] = umap_df[['pop']].fillna(cohort_label)\n",
    "\n",
    "umap_df.loc[umap_df['sample'].isin(outliers['IID']),\n",
    "            ['super_pop','pop']] = 'outlier'\n",
    "\n",
    "print(umap_df['super_pop'].value_counts())\n",
    "\n",
    "cohort_euro_df = umap_df[umap_df['super_pop'].isin([expected_ancestry,\n",
    "                                                    cohort_label, 'outlier'])]\n",
    "print(cohort_euro_df['pop'].value_counts())\n",
    "\n",
    "# cohort_euro_df = cohort_euro_df.sort_values('sample',ascending=False)\n",
    "cohort_euro_df = cohort_euro_df.sample(frac=1)"
   ]
  },
  {
   "cell_type": "code",
   "execution_count": 27,
   "metadata": {},
   "outputs": [
    {
     "data": {
      "image/png": "[encoded data removed]",
      "text/plain": [
       "<Figure size 1152x576 with 2 Axes>"
      ]
     },
     "metadata": {},
     "output_type": "display_data"
    }
   ],
   "source": [
    "output_plot = f'{qc_dir}/{cohort_build}.ancestry_structure.umap.png'\n",
    "\n",
    "sns.set()\n",
    "plt.figure(figsize=(16,8))\n",
    "plt.subplot(1,2,1)\n",
    "sns.scatterplot(x='x_umap',y='y_umap',hue='super_pop',style='super_pop',data=umap_df)\n",
    "plt.xlabel('x-UMAP')\n",
    "plt.ylabel('y-UMAP')\n",
    "plt.legend(bbox_to_anchor=(1.05, 1), loc=1, borderaxespad=0,prop={'size': 8})\n",
    "plt.subplot(1,2,2)\n",
    "sns.scatterplot(x='x_umap',y='y_umap',hue='pop',data=cohort_euro_df)\n",
    "plt.xlabel('x-UMAP')\n",
    "plt.ylabel('y-UMAP')\n",
    "plt.legend(bbox_to_anchor=(1.05, 1), loc=2, borderaxespad=0,prop={'size': 8})\n",
    "plt.savefig(output_plot,format='png',dpi=600,bbox_inches='tight')\n",
    "plt.show()"
   ]
  },
  {
   "cell_type": "markdown",
   "metadata": {
    "colab": {},
    "colab_type": "code",
    "id": "3rH2SKMGK-Mt"
   },
   "source": [
    "#### scan qc files for sample QC problems"
   ]
  },
  {
   "cell_type": "code",
   "execution_count": 28,
   "metadata": {},
   "outputs": [],
   "source": [
    "#sex check mismatches\n",
    "def check_sexcheck(path_prefix, verbose=False):\n",
    "    sexcheck_file = f'{path_prefix}.sex.sexcheck'\n",
    "    sexcheck_df = pd.read_csv(sexcheck_file, sep='\\s+')\n",
    "    #here failed sexcheck does not include unreported sex\n",
    "    sexcheck_problems_df = sexcheck_df.loc[(sexcheck_df['STATUS'] == 'PROBLEM') & \\\n",
    "                                           (sexcheck_df['PEDSEX'] != 0)]\n",
    "    print(f'sex mismatches {sexcheck_problems_df.shape}')\n",
    "    if(verbose):\n",
    "        print(sexcheck_problems_df)\n",
    "    return sexcheck_problems_df\n",
    "\n",
    "#check sample missingness \n",
    "def check_missingness(path_prefix, max_miss=0.05, verbose=False):\n",
    "    smiss_file = f'{path_prefix}.missing.smiss'\n",
    "    #might be plink1 file extenstion\n",
    "    if not os.path.exists(smiss_file):\n",
    "        smiss_file = f'{path_prefix}.missing.imiss'\n",
    "    smiss_df = pd.read_csv(smiss_file, sep='\\s+')\n",
    "    smiss_problems_df = smiss_df.loc[smiss_df['F_MISS'] > max_miss]\n",
    "    print(f'sample missingness problems {smiss_problems_df.shape}')\n",
    "    if(verbose):\n",
    "        print(smiss_problems_df)\n",
    "    return smiss_problems_df\n",
    "\n",
    "#het rate problems\n",
    "def check_hetrate(path_prefix, abs_max_rate=0.15, verbose=False):\n",
    "    hetcheck_file = f'{path_prefix}.het.het'\n",
    "    hetcheck_df = pd.read_csv(hetcheck_file, sep='\\s+')\n",
    "    hetcheck_problems_df = hetcheck_df.loc[(hetcheck_df['F'] > abs_max_rate) | \\\n",
    "                                           (hetcheck_df['F'] < -abs_max_rate)]\n",
    "    print(f'sample het rate problems {hetcheck_problems_df.shape}')\n",
    "    if(verbose):\n",
    "        print(hetcheck_problems_df)    \n",
    "    return hetcheck_problems_df\n",
    "\n",
    "#sample contamination problems\n",
    "def check_contamination(path_prefix, verbose=False):\n",
    "    contam_file = f'{path_prefix}.contaminated.samples.txt'\n",
    "    #might not exist if didn't process raw data\n",
    "    if os.path.exists(contam_file):\n",
    "        contam_df = pd.read_csv(contam_file, sep='\\s+')\n",
    "        print(f'sample contamination problems {contam_df.shape}')\n",
    "        if(verbose):\n",
    "            print(contam_df)         \n",
    "    else:\n",
    "        print('no comtamination file present')\n",
    "        contam_df = pd.DataFrame(data=None, columns=['id'])\n",
    "    return contam_df        \n",
    "\n",
    "#check ancestry outliers\n",
    "def check_ancestry(path_prefix):\n",
    "    pop_outliers_file = f'{path_prefix}.pop.outliers.txt'\n",
    "    pop_outliers = pd.read_csv(pop_outliers_file, sep='\\s+', header=None)\n",
    "    print(f'sample ancestry outliers {pop_outliers.shape}')\n",
    "    return pop_outliers\n",
    "\n",
    "#check sample duplicates (assume no twins)\n",
    "def check_duplicates(path_prefix, verbose=False):\n",
    "    relateds_file = f'{path_prefix}.king.related.kin0'\n",
    "    duplicates_df = None\n",
    "    if os.path.isfile(relateds_file):\n",
    "        relateds_df = pd.read_csv(relateds_file, sep='\\s+')\n",
    "        duplicates_df = relateds_df.loc[relateds_df['InfType'] == 'Dup/MZ']\n",
    "        print(f'sample duplicate pairs {duplicates_df.shape}')\n",
    "        if(verbose):\n",
    "            print(duplicates_df)\n",
    "    return duplicates_df\n",
    "\n",
    "\n",
    "def find_sample_excludes(path_prefix, exclude_pops=False):\n",
    "    sexcheck_problems_df = check_sexcheck(path_prefix)\n",
    "    smiss_problems_df = check_missingness(path_prefix)\n",
    "    hetcheck_problems_df = check_hetrate(path_prefix)\n",
    "#     contam_df = check_contamination(path_prefix)\n",
    "    pop_outliers = check_ancestry(path_prefix)\n",
    "    duplicates_df = check_duplicates(path_prefix)\n",
    "    \n",
    "#     if exclude_pops:\n",
    "#         ref_exclude_set = set(sexcheck_problems_df['IID']) | set(smiss_problems_df['IID']) \\\n",
    "# | set(hetcheck_problems_df['IID']) | set(contam_df['id']) | set(pop_outliers[0])\n",
    "#     else:\n",
    "#         ref_exclude_set = set(sexcheck_problems_df['IID']) | set(smiss_problems_df['IID']) \\\n",
    "# | set(hetcheck_problems_df['IID']) | set(contam_df['id'])\n",
    "\n",
    "    if exclude_pops:\n",
    "        ref_exclude_set = set(sexcheck_problems_df['IID']) | set(smiss_problems_df['IID']) \\\n",
    "| set(hetcheck_problems_df['IID']) | set(pop_outliers[0])\n",
    "    else:\n",
    "        ref_exclude_set = set(sexcheck_problems_df['IID']) | set(smiss_problems_df['IID']) \\\n",
    "| set(hetcheck_problems_df['IID'])\n",
    "\n",
    "    #note to split duplicate pairs, first break any that currently have QC problems\n",
    "    #then just grab first column\n",
    "    if not duplicates_df is None:\n",
    "        duplicates_df = duplicates_df.loc[~duplicates_df['ID1'].isin(list(ref_exclude_set)) & \\\n",
    "                                         ~duplicates_df['ID2'].isin(list(ref_exclude_set))]\n",
    "        print(f'refreshed duplicate pairs {duplicates_df.shape}')\n",
    "\n",
    "        #just grab the ID in 1st column to split the pair\n",
    "        ref_exclude_set = ref_exclude_set | set(duplicates_df['ID1'])\n",
    "\n",
    "    print(f'number of samples to exclude from panel {len(ref_exclude_set)}')\n",
    "    return ref_exclude_set"
   ]
  },
  {
   "cell_type": "code",
   "execution_count": 29,
   "metadata": {},
   "outputs": [
    {
     "name": "stdout",
     "output_type": "stream",
     "text": [
      "sex mismatches (0, 6)\n",
      "sample missingness problems (0, 5)\n",
      "sample het rate problems (0, 6)\n",
      "sample ancestry outliers (7, 25)\n",
      "sample duplicate pairs (0, 14)\n",
      "refreshed duplicate pairs (0, 14)\n",
      "number of samples to exclude from panel 7\n"
     ]
    }
   ],
   "source": [
    "#this of course assumes the files being check in the exclude function exist at \\\n",
    "#this QC path\n",
    "qc_prefix = f'{qc_dir}/{cohort_build}'\n",
    "cohort_excludes = find_sample_excludes(qc_prefix, True)\n",
    "\n",
    "pd.DataFrame(data=cohort_excludes).to_csv(f'{qc_prefix}.excludes.txt', \\\n",
    "                                          header=False, index=False)"
   ]
  },
  {
   "cell_type": "markdown",
   "metadata": {},
   "source": [
    "#### since there are smallish number of sample QC problems, splill to screen here"
   ]
  },
  {
   "cell_type": "code",
   "execution_count": 30,
   "metadata": {},
   "outputs": [
    {
     "name": "stdout",
     "output_type": "stream",
     "text": [
      "sex mismatches (0, 6)\n",
      "Empty DataFrame\n",
      "Columns: [FID, IID, PEDSEX, SNPSEX, STATUS, F]\n",
      "Index: []\n",
      "sample missingness problems (0, 5)\n",
      "Empty DataFrame\n",
      "Columns: [#FID, IID, MISSING_CT, OBS_CT, F_MISS]\n",
      "Index: []\n",
      "sample het rate problems (0, 6)\n",
      "Empty DataFrame\n",
      "Columns: [FID, IID, O(HOM), E(HOM), N(NM), F]\n",
      "Index: []\n",
      "sample duplicate pairs (0, 14)\n",
      "Empty DataFrame\n",
      "Columns: [FID1, ID1, FID2, ID2, N_SNP, HetHet, IBS0, HetConc, HomIBS0, Kinship, IBD1Seg, IBD2Seg, PropIBD, InfType]\n",
      "Index: []\n"
     ]
    }
   ],
   "source": [
    "sexcheck_problems_df = check_sexcheck(qc_prefix, verbose=True)\n",
    "smiss_problems_df = check_missingness(qc_prefix, verbose=True)\n",
    "hetcheck_problems_df = check_hetrate(qc_prefix, verbose=True)\n",
    "duplicates_df = check_duplicates(qc_prefix, verbose=True)"
   ]
  },
  {
   "cell_type": "markdown",
   "metadata": {},
   "source": [
    "#### do a little intermediate file cleanup"
   ]
  },
  {
   "cell_type": "code",
   "execution_count": 31,
   "metadata": {},
   "outputs": [
    {
     "name": "stdout",
     "output_type": "stream",
     "text": [
      "rm: cannot remove ‘/labshare/raph/datasets/foundin/qc/foundin.freeze9.chr*.multiallelics.list’: No such file or directory\n"
     ]
    }
   ],
   "source": [
    "!rm {qc_dir}/{cohort_build}.chr*.multiallelics.list\n",
    "!rm {qc_dir}/{cohort_build}.chr*.geno05maf05hwe000001.*"
   ]
  },
  {
   "cell_type": "markdown",
   "metadata": {},
   "source": [
    "#### subset out the analysis ready, Euro centric, pfiles for eQTL analysis"
   ]
  },
  {
   "cell_type": "markdown",
   "metadata": {},
   "source": [
    "#### combine the sqc samples and also exclude related samples"
   ]
  },
  {
   "cell_type": "code",
   "execution_count": 37,
   "metadata": {},
   "outputs": [
    {
     "name": "stdout",
     "output_type": "stream",
     "text": [
      "(7, 1)\n",
      "14\n"
     ]
    }
   ],
   "source": [
    "# load the relateds file\n",
    "relateds_file = f'{qc_dir}/{cohort_build}.king.related.kin0'\n",
    "if os.path.isfile(relateds_file):\n",
    "    relateds_df = pd.read_csv(relateds_file, sep='\\s+')\n",
    "    # exclude non-duplicate relateds by spliting, dups already marked for exclud\n",
    "    nonduplicates_df = relateds_df.loc[relateds_df['InfType'] != 'Dup/MZ']\n",
    "\n",
    "# read the sqc samples\n",
    "excludes_df = pd.read_csv(sqc_excludes_file, header=None)\n",
    "print(excludes_df.shape)\n",
    "\n",
    "# get intersect union of sqc and too young\n",
    "if not nonduplicates_df is None:\n",
    "    exclude_ids = set(excludes_df[0]) | set(nonduplicates_df['ID2']) | set(known_excludes)\n",
    "else:\n",
    "    exclude_ids = set(excludes_df[0]) | set(known_excludes)\n",
    "    \n",
    "print(len(exclude_ids))"
   ]
  },
  {
   "cell_type": "code",
   "execution_count": 42,
   "metadata": {},
   "outputs": [],
   "source": [
    "def frmt_plink2_subset(in_dir, out_dir, chrom, excludes_file, in_name, out_name):\n",
    "    if in_dir == out_dir:\n",
    "        print('in dir cannot be same of out dir, here')\n",
    "        plink_cmd = '#error'\n",
    "    else:    \n",
    "        in_pfiles = f'{in_dir}/{in_name}.chr{chrom}'\n",
    "        out_pfiles = f'{out_dir}/{out_name}.chr{chrom}'\n",
    "        filter_pass = ' --var-filter'\n",
    "        plink_cmd = f'plink2 --pfile {in_pfiles} --remove {excludes_file} \\\n",
    "--silent --make-pgen --out {out_pfiles}'\n",
    "    return plink_cmd\n",
    "\n",
    "os.makedirs(eqtl_geno_dir, exist_ok=True)\n",
    "\n",
    "excludes_df = pd.DataFrame(data=exclude_ids, columns=['#FID'])\n",
    "excludes_df['IID'] = excludes_df['#FID']\n",
    "excludes_df.to_csv(f'{qc_dir}/{cohort}.{amppd_version}.excludes.plink', \n",
    "                   index=False, sep='\\t')\n",
    "\n",
    "cmds = [frmt_plink2_subset(genos_dir, eqtl_geno_dir, chrom, \n",
    "                           f'{qc_dir}/{cohort}.{amppd_version}.excludes.plink',\n",
    "                           cohort_build, f'{cohort}.{amppd_version}') \n",
    "        for chrom in chromosomes] \n",
    "\n",
    "# print(cmds)\n",
    "# now run the cmds concurrently    \n",
    "run_bash_cmds_threaded(cmds)  "
   ]
  },
  {
   "cell_type": "markdown",
   "metadata": {},
   "source": [
    "#### generate the with cohort genetic PCs covariates"
   ]
  },
  {
   "cell_type": "code",
   "execution_count": 43,
   "metadata": {},
   "outputs": [],
   "source": [
    "# find pruned variants\n",
    "!plink2 --bfile {qc_bfile_set} --silent \\\n",
    "--indep-pairwise 50 5 0.3 --out {qc_dir}/{cohort_build}.ldprune \n",
    "\n",
    "# subset to pruned variants\n",
    "!plink2 --bfile {qc_bfile_set} --silent \\\n",
    "--extract {qc_dir}/{cohort_build}.ldprune.prune.in \\\n",
    "--make-bed --out {qc_dir}/{cohort_build}.pruned\n",
    "\n",
    "# generate pca's (plink approx from fastpca)\n",
    "!plink2 --bfile {qc_dir}/{cohort_build}.pruned \\\n",
    "--silent --pca 20 \\\n",
    "--out {eqtl_info_dir}/{cohort_build}.pca\n"
   ]
  },
  {
   "cell_type": "code",
   "execution_count": 44,
   "metadata": {},
   "outputs": [
    {
     "name": "stdout",
     "output_type": "stream",
     "text": [
      "#FID\tIID\tPC1\tPC2\tPC3\tPC4\tPC5\tPC6\tPC7\tPC8\tPC9\tPC10\tPC11\tPC12\tPC13\tPC14\tPC15\tPC16\tPC17\tPC18\tPC19\tPC20\n",
      "PP-3220\tPP-3220\t-0.109722\t-0.0396165\t0.00559168\t0.00253632\t-0.00657915\t0.0136283\t-0.00547677\t0.0260311\t0.00991557\t0.0252357\t-0.0375392\t0.0212668\t-0.0336066\t-0.0032621\t-0.0591716\t-0.13754\t-0.0756335\t0.0319667\t-0.092246\t-0.0332376\n",
      "PP-3234\tPP-3234\t-0.0881821\t-0.0427902\t0.0123654\t-0.000961613\t-0.0048549\t0.00699723\t-0.000407525\t0.00749441\t-0.0035021\t0.013008\t0.0447273\t-0.0483439\t-0.0946866\t-0.0645941\t0.0465031\t-0.089895\t0.0405065\t-0.0133588\t-0.00664499\t-0.106247\n",
      "PP-3409\tPP-3409\t-0.0639142\t-0.0296093\t0.00770528\t0.00719947\t0.00859008\t-0.00864741\t-0.00698471\t-0.00816544\t0.028941\t-0.0539813\t-0.00270859\t-0.0685604\t0.106883\t-0.0612086\t0.0122347\t0.142867\t0.171667\t-0.0381279\t0.00775191\t0.0604551\n",
      "PP-3411\tPP-3411\t-0.104367\t-0.0345118\t0.0155618\t-0.00897898\t-0.0214165\t-0.00285945\t-0.00260856\t0.033061\t0.015139\t-0.000344092\t-0.123841\t0.0313518\t-0.0456873\t0.0421371\t-0.12513\t-0.00683283\t0.0430765\t0.0752112\t-0.0977806\t-0.0136471\n"
     ]
    }
   ],
   "source": [
    "!head -n 5 {eqtl_info_dirfo_dir}/{cohort_build}.pca.eigenvec"
   ]
  },
  {
   "cell_type": "code",
   "execution_count": null,
   "metadata": {},
   "outputs": [],
   "source": []
  }
 ],
 "metadata": {
  "environment": {
   "name": "common-cpu.mnightly-2021-01-05-debian-10-test",
   "type": "gcloud",
   "uri": "gcr.io/deeplearning-platform-release/base-cpu:mnightly-2021-01-05-debian-10-test"
  },
  "kernelspec": {
   "display_name": "Python 3",
   "language": "python",
   "name": "python3"
  },
  "language_info": {
   "codemirror_mode": {
    "name": "ipython",
    "version": 3
   },
   "file_extension": ".py",
   "mimetype": "text/x-python",
   "name": "python",
   "nbconvert_exporter": "python",
   "pygments_lexer": "ipython3",
   "version": "3.7.9"
  }
 },
 "nbformat": 4,
 "nbformat_minor": 4
}
