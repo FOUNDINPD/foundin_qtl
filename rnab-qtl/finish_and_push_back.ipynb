{
 "cells": [
  {
   "cell_type": "markdown",
   "metadata": {},
   "source": [
    "## Notebook to do any finishing up and push back output to GCS"
   ]
  },
  {
   "cell_type": "code",
   "execution_count": 2,
   "metadata": {},
   "outputs": [
    {
     "name": "stdout",
     "output_type": "stream",
     "text": [
      "Fri Aug  6 09:19:47 UTC 2021\n"
     ]
    }
   ],
   "source": [
    "!date"
   ]
  },
  {
   "cell_type": "code",
   "execution_count": 3,
   "metadata": {},
   "outputs": [],
   "source": [
    "# parameter variables\n",
    "cohort = 'foundin'\n",
    "\n",
    "# directories for initial setup\n",
    "wrk_dir = f'/home/jupyter/{cohort}/eqtl'\n",
    "expr_dir = f'{wrk_dir}/expression'\n",
    "info_dir = f'{wrk_dir}/sample_info'\n",
    "# plink_glm_dir = f'{wrk_dir}/plink/glm'\n",
    "tensorqtl_dir = f'{wrk_dir}/tensorqtl'\n",
    "results_dir = f'{wrk_dir}/results'\n",
    "nbs_dir = '/home/jupyter/notebooks'\n",
    "pm_nbs_dir = '/home/jupyter/notebooks/pm_gend_nbs'\n",
    "\n",
    "# output files to push back\n",
    "expr_bed_files = f'{expr_dir}/{cohort}.*.norm.adj.bed.gz'\n",
    "assay_covs_files = f'{info_dir}/foundin_rnab_sample_info.csv'\n",
    "used_samples_list_file = f'{info_dir}/{cohort}.*.eqtl.samples'\n",
    "\n",
    "\n",
    "# bucket paths\n",
    "data_bucket = 'gs://foundin-processed-assay'\n",
    "eqtl_bucket_path = f'{data_bucket}/analysis/eqtl'\n",
    "expr_bucket_path = f'{eqtl_bucket_path}/expression'\n",
    "info_bucket_path = f'{eqtl_bucket_path}/sample_info'\n",
    "results_bucket_path = f'{eqtl_bucket_path}/results'\n",
    "tensorqtl_bucket_path = f'{eqtl_bucket_path}/tensorqtl'\n",
    "nbs_bucket_path = f'{eqtl_bucket_path}/notebooks'\n",
    "pm_nbs_bucket_path = f'{eqtl_bucket_path}/notebooks/pm_gend_nbs'"
   ]
  },
  {
   "cell_type": "markdown",
   "metadata": {},
   "source": [
    "#### push the generate (keep) files back to GCS"
   ]
  },
  {
   "cell_type": "code",
   "execution_count": 5,
   "metadata": {},
   "outputs": [
    {
     "name": "stdout",
     "output_type": "stream",
     "text": [
      "gsutil -mq cp -P /home/jupyter/foundin/eqtl/expression/* gs://foundin-processed-assay/analysis/eqtl/expression/\n",
      "gsutil -mq cp -P /home/jupyter/foundin/eqtl/sample_info/foundin_rnab_sample_info.csv gs://foundin-processed-assay/analysis/eqtl/sample_info/\n",
      "gsutil -mq cp -P /home/jupyter/foundin/eqtl/sample_info/foundin.*.eqtl.samples gs://foundin-processed-assay/analysis/eqtl/sample_info/\n",
      "gsutil -mq cp -P /home/jupyter/foundin/eqtl/tensorqtl/* gs://foundin-processed-assay/analysis/eqtl/tensorqtl/\n",
      "gsutil -mq cp -P /home/jupyter/foundin/eqtl/results/* gs://foundin-processed-assay/analysis/eqtl/results/\n"
     ]
    }
   ],
   "source": [
    "# expr files\n",
    "this_cmd = f'gsutil -mq cp -P {expr_dir}/* {expr_bucket_path}/'\n",
    "print(this_cmd)\n",
    "!{this_cmd}\n",
    "\n",
    "# info files\n",
    "this_cmd = f'gsutil -mq cp -P {assay_covs_files} {info_bucket_path}/'\n",
    "print(this_cmd)\n",
    "!{this_cmd}\n",
    "this_cmd = f'gsutil -mq cp -P {used_samples_list_file} {info_bucket_path}/'\n",
    "print(this_cmd)\n",
    "!{this_cmd}\n",
    "\n",
    "# results files\n",
    "this_cmd = f'gsutil -mq cp -P {tensorqtl_dir}/* {tensorqtl_bucket_path}/'\n",
    "print(this_cmd)\n",
    "!{this_cmd}\n",
    "this_cmd = f'gsutil -mq cp -P {results_dir}/* {results_bucket_path}/'\n",
    "print(this_cmd)\n",
    "!{this_cmd}"
   ]
  },
  {
   "cell_type": "markdown",
   "metadata": {},
   "source": [
    "#### push all the original and generated notebooks back"
   ]
  },
  {
   "cell_type": "code",
   "execution_count": 6,
   "metadata": {},
   "outputs": [
    {
     "name": "stdout",
     "output_type": "stream",
     "text": [
      "gsutil -mq cp -P /home/jupyter/notebooks/*.ipynb gs://foundin-processed-assay/analysis/eqtl/notebooks/\n",
      "gsutil -mq cp -P /home/jupyter/notebooks/*.md gs://foundin-processed-assay/analysis/eqtl/notebooks/\n",
      "gsutil -mq cp -P /home/jupyter/notebooks/pm_gend_nbs/*.ipynb gs://foundin-processed-assay/analysis/eqtl/notebooks/pm_gend_nbs/\n"
     ]
    }
   ],
   "source": [
    "this_cmd = f'gsutil -mq cp -P {nbs_dir}/*.ipynb {nbs_bucket_path}/'\n",
    "print(this_cmd)\n",
    "!{this_cmd}\n",
    "this_cmd = f'gsutil -mq cp -P {nbs_dir}/*.md {nbs_bucket_path}/'\n",
    "print(this_cmd)\n",
    "!{this_cmd}\n",
    "\n",
    "this_cmd = f'gsutil -mq cp -P {pm_nbs_dir}/*.ipynb {pm_nbs_bucket_path}/'\n",
    "print(this_cmd)\n",
    "!{this_cmd}"
   ]
  },
  {
   "cell_type": "code",
   "execution_count": null,
   "metadata": {},
   "outputs": [],
   "source": []
  }
 ],
 "metadata": {
  "environment": {
   "name": "pytorch-gpu.1-7.m65",
   "type": "gcloud",
   "uri": "gcr.io/deeplearning-platform-release/pytorch-gpu.1-7:m65"
  },
  "kernelspec": {
   "display_name": "Python 3",
   "language": "python",
   "name": "python3"
  },
  "language_info": {
   "codemirror_mode": {
    "name": "ipython",
    "version": 3
   },
   "file_extension": ".py",
   "mimetype": "text/x-python",
   "name": "python",
   "nbconvert_exporter": "python",
   "pygments_lexer": "ipython3",
   "version": "3.7.10"
  },
  "widgets": {
   "application/vnd.jupyter.widget-state+json": {
    "state": {},
    "version_major": 2,
    "version_minor": 0
   }
  }
 },
 "nbformat": 4,
 "nbformat_minor": 4
}
