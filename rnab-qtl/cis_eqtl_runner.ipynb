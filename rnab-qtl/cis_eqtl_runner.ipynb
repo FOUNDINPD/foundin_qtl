{
 "cells": [
  {
   "cell_type": "markdown",
   "metadata": {},
   "source": [
    "## Notebook to runner for FOUNDIN-PD running eQTL analysis by day via papermill"
   ]
  },
  {
   "cell_type": "code",
   "execution_count": 1,
   "metadata": {},
   "outputs": [
    {
     "name": "stdout",
     "output_type": "stream",
     "text": [
      "Thu Jul 22 02:24:41 UTC 2021\n"
     ]
    }
   ],
   "source": [
    "!date"
   ]
  },
  {
   "cell_type": "markdown",
   "metadata": {},
   "source": [
    "#### import libraries"
   ]
  },
  {
   "cell_type": "code",
   "execution_count": 2,
   "metadata": {},
   "outputs": [],
   "source": [
    "import pandas as pd\n",
    "import os\n",
    "import papermill as pm\n",
    "import shutil"
   ]
  },
  {
   "cell_type": "code",
   "execution_count": 3,
   "metadata": {},
   "outputs": [],
   "source": [
    "# base notebook to be run per tuple iteration\n",
    "base_notebook = '/home/jupyter/notebooks/day_cis_eqtl_tensorqtl.ipynb'\n",
    "\n",
    "# output path for the generated notebooks\n",
    "out_nb_dir = '/home/jupyter/notebooks'\n",
    "final_out_nb_dir = '/home/jupyter/notebooks/pm_gend_nbs'\n",
    "\n",
    "# setup iteration tuples\n",
    "cohort = 'foundin'\n",
    "version = 'amppdv1'\n",
    "days = ['da0', 'da25', 'da65']"
   ]
  },
  {
   "cell_type": "markdown",
   "metadata": {},
   "source": [
    "#### iterate over the tuples running the notebook per tuple"
   ]
  },
  {
   "cell_type": "code",
   "execution_count": 4,
   "metadata": {},
   "outputs": [
    {
     "name": "stdout",
     "output_type": "stream",
     "text": [
      "{'cohort': 'foundin', 'version': 'amppdv1', 'day': 'da0'}\n",
      "/home/jupyter/notebooks/foundin_da0_cis_eqtl.ipynb\n"
     ]
    },
    {
     "data": {
      "application/vnd.jupyter.widget-view+json": {
       "model_id": "6133e1b37c5644a594319b207c7fadb1",
       "version_major": 2,
       "version_minor": 0
      },
      "text/plain": [
       "Executing:   0%|          | 0/46 [00:00<?, ?cell/s]"
      ]
     },
     "metadata": {},
     "output_type": "display_data"
    },
    {
     "name": "stderr",
     "output_type": "stream",
     "text": [
      "Autosave too slow: 7.69 sec, over 25% limit. Backing off to 60 sec\n",
      "Autosave too slow: 16.89 sec, over 25% limit. Backing off to 120 sec\n"
     ]
    },
    {
     "name": "stdout",
     "output_type": "stream",
     "text": [
      "{'cohort': 'foundin', 'version': 'amppdv1', 'day': 'da25'}\n",
      "/home/jupyter/notebooks/foundin_da25_cis_eqtl.ipynb\n"
     ]
    },
    {
     "data": {
      "application/vnd.jupyter.widget-view+json": {
       "model_id": "065bdf0a3c5145549ce908adcbbdf1e0",
       "version_major": 2,
       "version_minor": 0
      },
      "text/plain": [
       "Executing:   0%|          | 0/46 [00:00<?, ?cell/s]"
      ]
     },
     "metadata": {},
     "output_type": "display_data"
    },
    {
     "name": "stderr",
     "output_type": "stream",
     "text": [
      "Autosave too slow: 7.66 sec, over 25% limit. Backing off to 60 sec\n",
      "Autosave too slow: 15.02 sec, over 25% limit. Backing off to 120 sec\n"
     ]
    },
    {
     "name": "stdout",
     "output_type": "stream",
     "text": [
      "{'cohort': 'foundin', 'version': 'amppdv1', 'day': 'da65'}\n",
      "/home/jupyter/notebooks/foundin_da65_cis_eqtl.ipynb\n"
     ]
    },
    {
     "data": {
      "application/vnd.jupyter.widget-view+json": {
       "model_id": "8d128272f88f460181878d577b39ab6a",
       "version_major": 2,
       "version_minor": 0
      },
      "text/plain": [
       "Executing:   0%|          | 0/46 [00:00<?, ?cell/s]"
      ]
     },
     "metadata": {},
     "output_type": "display_data"
    },
    {
     "name": "stderr",
     "output_type": "stream",
     "text": [
      "Autosave too slow: 7.98 sec, over 25% limit. Backing off to 60 sec\n",
      "Autosave too slow: 15.08 sec, over 25% limit. Backing off to 120 sec\n"
     ]
    },
    {
     "name": "stdout",
     "output_type": "stream",
     "text": [
      "CPU times: user 1h 19min 9s, sys: 24 s, total: 1h 19min 33s\n",
      "Wall time: 6h 45min 49s\n"
     ]
    }
   ],
   "source": [
    "%%time\n",
    "# make sure the notebook output dir exists\n",
    "os.makedirs(out_nb_dir, exist_ok=True)\n",
    "\n",
    "for day in days:\n",
    "    # before running prep notebook make expr data for the cohort and visit\n",
    "    param_dict = {'cohort': cohort, 'version': version, 'day': day}\n",
    "    out_notebook = f'{out_nb_dir}/{cohort}_{day}_cis_eqtl.ipynb'\n",
    "    print(param_dict)\n",
    "    print(out_notebook)\n",
    "    pm.execute_notebook(input_path=base_notebook, output_path=out_notebook, \n",
    "                        parameters=param_dict)"
   ]
  },
  {
   "cell_type": "markdown",
   "metadata": {},
   "source": [
    "#### since I had to reference a local modified tensoreQTL, import used relative path, so have to generated the papermill notebook in a specific path, once done move to a pm_gen'd path"
   ]
  },
  {
   "cell_type": "code",
   "execution_count": 5,
   "metadata": {},
   "outputs": [],
   "source": [
    "for day in days:\n",
    "    gend_out_notebook = f'{out_nb_dir}/{cohort}_{day}_cis_eqtl.ipynb'\n",
    "    gend_final_notebook = f'{final_out_nb_dir}/{cohort}_{day}_cis_eqtl.ipynb'\n",
    "    shutil.move(gend_out_notebook, gend_final_notebook)"
   ]
  }
 ],
 "metadata": {
  "environment": {
   "name": "pytorch-gpu.1-7.m65",
   "type": "gcloud",
   "uri": "gcr.io/deeplearning-platform-release/pytorch-gpu.1-7:m65"
  },
  "kernelspec": {
   "display_name": "Python 3",
   "language": "python",
   "name": "python3"
  },
  "language_info": {
   "codemirror_mode": {
    "name": "ipython",
    "version": 3
   },
   "file_extension": ".py",
   "mimetype": "text/x-python",
   "name": "python",
   "nbconvert_exporter": "python",
   "pygments_lexer": "ipython3",
   "version": "3.7.10"
  },
  "widgets": {
   "application/vnd.jupyter.widget-state+json": {
    "state": {},
    "version_major": 2,
    "version_minor": 0
   }
  }
 },
 "nbformat": 4,
 "nbformat_minor": 4
}
