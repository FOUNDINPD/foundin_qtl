{
 "cells": [
  {
   "cell_type": "markdown",
   "metadata": {},
   "source": [
    "## Notebook to runner for FOUNDIN-PD differentiation day RNAB and PD risk eQTS analysis via papermill"
   ]
  },
  {
   "cell_type": "code",
   "execution_count": 1,
   "metadata": {},
   "outputs": [
    {
     "name": "stdout",
     "output_type": "stream",
     "text": [
      "Fri Aug  6 08:50:29 UTC 2021\n"
     ]
    }
   ],
   "source": [
    "!date"
   ]
  },
  {
   "cell_type": "markdown",
   "metadata": {},
   "source": [
    "#### import libraries"
   ]
  },
  {
   "cell_type": "code",
   "execution_count": 2,
   "metadata": {},
   "outputs": [],
   "source": [
    "import os\n",
    "import papermill as pm"
   ]
  },
  {
   "cell_type": "code",
   "execution_count": 3,
   "metadata": {},
   "outputs": [],
   "source": [
    "# base notebook to be run per tuple iteration\n",
    "base_notebook = '/home/jupyter/notebooks/day_eqts.ipynb'\n",
    "\n",
    "# output path for the generated notebooks\n",
    "out_nb_dir = f'/home/jupyter/notebooks/pm_gend_nbs'\n",
    "\n",
    "# setup iteration tuples\n",
    "cohort = 'foundin'\n",
    "days = ['da0', 'da25', 'da65']"
   ]
  },
  {
   "cell_type": "markdown",
   "metadata": {},
   "source": [
    "#### iterate over the tuples running the notebook per tuple"
   ]
  },
  {
   "cell_type": "code",
   "execution_count": 4,
   "metadata": {},
   "outputs": [
    {
     "name": "stdout",
     "output_type": "stream",
     "text": [
      "{'cohort': 'foundin', 'day': 'da0'}\n",
      "/home/jupyter/notebooks/pm_gend_nbs/foundin_da0_eqts.ipynb\n"
     ]
    },
    {
     "data": {
      "application/vnd.jupyter.widget-view+json": {
       "model_id": "1e2abc632c5e4d6bbd156ff47065f380",
       "version_major": 2,
       "version_minor": 0
      },
      "text/plain": [
       "Executing:   0%|          | 0/40 [00:00<?, ?cell/s]"
      ]
     },
     "metadata": {},
     "output_type": "display_data"
    },
    {
     "name": "stdout",
     "output_type": "stream",
     "text": [
      "{'cohort': 'foundin', 'day': 'da25'}\n",
      "/home/jupyter/notebooks/pm_gend_nbs/foundin_da25_eqts.ipynb\n"
     ]
    },
    {
     "data": {
      "application/vnd.jupyter.widget-view+json": {
       "model_id": "49d050580ee04b1b9696d7fa7878494e",
       "version_major": 2,
       "version_minor": 0
      },
      "text/plain": [
       "Executing:   0%|          | 0/40 [00:00<?, ?cell/s]"
      ]
     },
     "metadata": {},
     "output_type": "display_data"
    },
    {
     "name": "stdout",
     "output_type": "stream",
     "text": [
      "{'cohort': 'foundin', 'day': 'da65'}\n",
      "/home/jupyter/notebooks/pm_gend_nbs/foundin_da65_eqts.ipynb\n"
     ]
    },
    {
     "data": {
      "application/vnd.jupyter.widget-view+json": {
       "model_id": "f66f8ec165ea4b3a82c1df136869bdc2",
       "version_major": 2,
       "version_minor": 0
      },
      "text/plain": [
       "Executing:   0%|          | 0/40 [00:00<?, ?cell/s]"
      ]
     },
     "metadata": {},
     "output_type": "display_data"
    },
    {
     "name": "stdout",
     "output_type": "stream",
     "text": [
      "CPU times: user 6.72 s, sys: 258 ms, total: 6.98 s\n",
      "Wall time: 11min 54s\n"
     ]
    }
   ],
   "source": [
    "%%time\n",
    "# make sure the notebook output dir exists\n",
    "os.makedirs(out_nb_dir, exist_ok=True)\n",
    "\n",
    "for day in days:\n",
    "    # before running prep notebook make expr data for the cohort and visit\n",
    "    param_dict = {'cohort': cohort, 'day': day}\n",
    "    out_notebook = f'{out_nb_dir}/{cohort}_{day}_eqts.ipynb'\n",
    "    print(param_dict)\n",
    "    print(out_notebook)\n",
    "    pm.execute_notebook(input_path=base_notebook, output_path=out_notebook, \n",
    "                        parameters=param_dict)            "
   ]
  },
  {
   "cell_type": "code",
   "execution_count": null,
   "metadata": {},
   "outputs": [],
   "source": []
  }
 ],
 "metadata": {
  "environment": {
   "name": "pytorch-gpu.1-7.m65",
   "type": "gcloud",
   "uri": "gcr.io/deeplearning-platform-release/pytorch-gpu.1-7:m65"
  },
  "kernelspec": {
   "display_name": "Python 3",
   "language": "python",
   "name": "python3"
  },
  "language_info": {
   "codemirror_mode": {
    "name": "ipython",
    "version": 3
   },
   "file_extension": ".py",
   "mimetype": "text/x-python",
   "name": "python",
   "nbconvert_exporter": "python",
   "pygments_lexer": "ipython3",
   "version": "3.7.10"
  },
  "widgets": {
   "application/vnd.jupyter.widget-state+json": {
    "state": {
     "0be94dd83a6f47f49d7627d6f337ea81": {
      "model_module": "@jupyter-widgets/controls",
      "model_module_version": "1.5.0",
      "model_name": "DescriptionStyleModel",
      "state": {
       "description_width": ""
      }
     },
     "11d8ae3537f34fa59225913406661a7a": {
      "model_module": "@jupyter-widgets/controls",
      "model_module_version": "1.5.0",
      "model_name": "FloatProgressModel",
      "state": {
       "bar_style": "success",
       "layout": "IPY_MODEL_cb170b3eefeb4181a43eaf759ca19b37",
       "max": 40,
       "style": "IPY_MODEL_ee5628c84b5a4fbca5479cbd3b16337f",
       "value": 40
      }
     },
     "171427ded528430eb9ee8185eab7d17b": {
      "model_module": "@jupyter-widgets/controls",
      "model_module_version": "1.5.0",
      "model_name": "HTMLModel",
      "state": {
       "layout": "IPY_MODEL_b2f5cc5728dc4264a25a80798ff5bc96",
       "style": "IPY_MODEL_fbb8b39eaf2743d88972b7269ffa621b",
       "value": " 40/40 [03:58&lt;00:00,  7.38s/cell]"
      }
     },
     "176f7c5647b34f138acee8612bccbdaf": {
      "model_module": "@jupyter-widgets/base",
      "model_module_version": "1.2.0",
      "model_name": "LayoutModel",
      "state": {}
     },
     "19ac48c2cf3548e39a7563b54f11d759": {
      "model_module": "@jupyter-widgets/base",
      "model_module_version": "1.2.0",
      "model_name": "LayoutModel",
      "state": {}
     },
     "1bcac2c8bc3e42edbc84389118d1e3eb": {
      "model_module": "@jupyter-widgets/controls",
      "model_module_version": "1.5.0",
      "model_name": "HTMLModel",
      "state": {
       "layout": "IPY_MODEL_19ac48c2cf3548e39a7563b54f11d759",
       "style": "IPY_MODEL_6b870179dabe44c2ab1762be3abd85df",
       "value": "Executing: 100%"
      }
     },
     "1c1954e4653e476a82e8cb014f964071": {
      "model_module": "@jupyter-widgets/base",
      "model_module_version": "1.2.0",
      "model_name": "LayoutModel",
      "state": {}
     },
     "1e2abc632c5e4d6bbd156ff47065f380": {
      "model_module": "@jupyter-widgets/controls",
      "model_module_version": "1.5.0",
      "model_name": "HBoxModel",
      "state": {
       "children": [
        "IPY_MODEL_8b7dde89c9ff4baf8193ea4602b8a5e3",
        "IPY_MODEL_cc2e26eb9c54404bba6ac527aac7ab3d",
        "IPY_MODEL_171427ded528430eb9ee8185eab7d17b"
       ],
       "layout": "IPY_MODEL_e26e2f18e6f949fdb587aa5048eb416c"
      }
     },
     "49d050580ee04b1b9696d7fa7878494e": {
      "model_module": "@jupyter-widgets/controls",
      "model_module_version": "1.5.0",
      "model_name": "HBoxModel",
      "state": {
       "children": [
        "IPY_MODEL_d7db291f626b437d8b8c6484f958f575",
        "IPY_MODEL_11d8ae3537f34fa59225913406661a7a",
        "IPY_MODEL_5e0f4b6678ba4eeea2dac903ec2f0228"
       ],
       "layout": "IPY_MODEL_c306d1e2c6414e29a909e34272556be4"
      }
     },
     "56ba8206144942e58de8b9c755a7bc5b": {
      "model_module": "@jupyter-widgets/controls",
      "model_module_version": "1.5.0",
      "model_name": "DescriptionStyleModel",
      "state": {
       "description_width": ""
      }
     },
     "5e0f4b6678ba4eeea2dac903ec2f0228": {
      "model_module": "@jupyter-widgets/controls",
      "model_module_version": "1.5.0",
      "model_name": "HTMLModel",
      "state": {
       "layout": "IPY_MODEL_176f7c5647b34f138acee8612bccbdaf",
       "style": "IPY_MODEL_0be94dd83a6f47f49d7627d6f337ea81",
       "value": " 40/40 [04:00&lt;00:00,  7.51s/cell]"
      }
     },
     "642f7aa11ab946d69983c9b8830c7d41": {
      "model_module": "@jupyter-widgets/base",
      "model_module_version": "1.2.0",
      "model_name": "LayoutModel",
      "state": {}
     },
     "65291934bf7b494a9728dfb8aa244af8": {
      "model_module": "@jupyter-widgets/base",
      "model_module_version": "1.2.0",
      "model_name": "LayoutModel",
      "state": {}
     },
     "6b870179dabe44c2ab1762be3abd85df": {
      "model_module": "@jupyter-widgets/controls",
      "model_module_version": "1.5.0",
      "model_name": "DescriptionStyleModel",
      "state": {
       "description_width": ""
      }
     },
     "701078c5e85b40659bffe7b601b97b74": {
      "model_module": "@jupyter-widgets/controls",
      "model_module_version": "1.5.0",
      "model_name": "ProgressStyleModel",
      "state": {
       "description_width": ""
      }
     },
     "7ac8f6fee4404ea491b4430bf6ed3529": {
      "model_module": "@jupyter-widgets/controls",
      "model_module_version": "1.5.0",
      "model_name": "ProgressStyleModel",
      "state": {
       "description_width": ""
      }
     },
     "8b7dde89c9ff4baf8193ea4602b8a5e3": {
      "model_module": "@jupyter-widgets/controls",
      "model_module_version": "1.5.0",
      "model_name": "HTMLModel",
      "state": {
       "layout": "IPY_MODEL_65291934bf7b494a9728dfb8aa244af8",
       "style": "IPY_MODEL_aa1e113c0fd64813b693cb9eb4152b81",
       "value": "Executing: 100%"
      }
     },
     "8ba3a4947002484f91108b42abc934fc": {
      "model_module": "@jupyter-widgets/controls",
      "model_module_version": "1.5.0",
      "model_name": "DescriptionStyleModel",
      "state": {
       "description_width": ""
      }
     },
     "aa1e113c0fd64813b693cb9eb4152b81": {
      "model_module": "@jupyter-widgets/controls",
      "model_module_version": "1.5.0",
      "model_name": "DescriptionStyleModel",
      "state": {
       "description_width": ""
      }
     },
     "b2f5cc5728dc4264a25a80798ff5bc96": {
      "model_module": "@jupyter-widgets/base",
      "model_module_version": "1.2.0",
      "model_name": "LayoutModel",
      "state": {}
     },
     "c306d1e2c6414e29a909e34272556be4": {
      "model_module": "@jupyter-widgets/base",
      "model_module_version": "1.2.0",
      "model_name": "LayoutModel",
      "state": {}
     },
     "cb170b3eefeb4181a43eaf759ca19b37": {
      "model_module": "@jupyter-widgets/base",
      "model_module_version": "1.2.0",
      "model_name": "LayoutModel",
      "state": {}
     },
     "cc2e26eb9c54404bba6ac527aac7ab3d": {
      "model_module": "@jupyter-widgets/controls",
      "model_module_version": "1.5.0",
      "model_name": "FloatProgressModel",
      "state": {
       "bar_style": "success",
       "layout": "IPY_MODEL_e9e3afc11ca84527b755f04471da9d0b",
       "max": 40,
       "style": "IPY_MODEL_7ac8f6fee4404ea491b4430bf6ed3529",
       "value": 40
      }
     },
     "d7db291f626b437d8b8c6484f958f575": {
      "model_module": "@jupyter-widgets/controls",
      "model_module_version": "1.5.0",
      "model_name": "HTMLModel",
      "state": {
       "layout": "IPY_MODEL_ecf97d2d6d484c3489be53546e0fee45",
       "style": "IPY_MODEL_8ba3a4947002484f91108b42abc934fc",
       "value": "Executing: 100%"
      }
     },
     "e26e2f18e6f949fdb587aa5048eb416c": {
      "model_module": "@jupyter-widgets/base",
      "model_module_version": "1.2.0",
      "model_name": "LayoutModel",
      "state": {}
     },
     "e7dd6197437f48e3b94f9c6984d30e8d": {
      "model_module": "@jupyter-widgets/base",
      "model_module_version": "1.2.0",
      "model_name": "LayoutModel",
      "state": {}
     },
     "e9e3afc11ca84527b755f04471da9d0b": {
      "model_module": "@jupyter-widgets/base",
      "model_module_version": "1.2.0",
      "model_name": "LayoutModel",
      "state": {}
     },
     "ecf97d2d6d484c3489be53546e0fee45": {
      "model_module": "@jupyter-widgets/base",
      "model_module_version": "1.2.0",
      "model_name": "LayoutModel",
      "state": {}
     },
     "ee5628c84b5a4fbca5479cbd3b16337f": {
      "model_module": "@jupyter-widgets/controls",
      "model_module_version": "1.5.0",
      "model_name": "ProgressStyleModel",
      "state": {
       "description_width": ""
      }
     },
     "ef1bd032200744e2bfcd79010a56ec7d": {
      "model_module": "@jupyter-widgets/controls",
      "model_module_version": "1.5.0",
      "model_name": "FloatProgressModel",
      "state": {
       "bar_style": "success",
       "layout": "IPY_MODEL_1c1954e4653e476a82e8cb014f964071",
       "max": 40,
       "style": "IPY_MODEL_701078c5e85b40659bffe7b601b97b74",
       "value": 40
      }
     },
     "f19485b5b82548faa903c06f01becaf7": {
      "model_module": "@jupyter-widgets/controls",
      "model_module_version": "1.5.0",
      "model_name": "HTMLModel",
      "state": {
       "layout": "IPY_MODEL_e7dd6197437f48e3b94f9c6984d30e8d",
       "style": "IPY_MODEL_56ba8206144942e58de8b9c755a7bc5b",
       "value": " 40/40 [03:55&lt;00:00,  7.40s/cell]"
      }
     },
     "f66f8ec165ea4b3a82c1df136869bdc2": {
      "model_module": "@jupyter-widgets/controls",
      "model_module_version": "1.5.0",
      "model_name": "HBoxModel",
      "state": {
       "children": [
        "IPY_MODEL_1bcac2c8bc3e42edbc84389118d1e3eb",
        "IPY_MODEL_ef1bd032200744e2bfcd79010a56ec7d",
        "IPY_MODEL_f19485b5b82548faa903c06f01becaf7"
       ],
       "layout": "IPY_MODEL_642f7aa11ab946d69983c9b8830c7d41"
      }
     },
     "fbb8b39eaf2743d88972b7269ffa621b": {
      "model_module": "@jupyter-widgets/controls",
      "model_module_version": "1.5.0",
      "model_name": "DescriptionStyleModel",
      "state": {
       "description_width": ""
      }
     }
    },
    "version_major": 2,
    "version_minor": 0
   }
  }
 },
 "nbformat": 4,
 "nbformat_minor": 4
}
