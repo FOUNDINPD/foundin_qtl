{
 "cells": [
  {
   "cell_type": "markdown",
   "metadata": {},
   "source": [
    "## Notebook to runner for FOUNDIN-PD day expression prep via papermill"
   ]
  },
  {
   "cell_type": "markdown",
   "metadata": {},
   "source": [
    "#### import libraries"
   ]
  },
  {
   "cell_type": "code",
   "execution_count": null,
   "metadata": {},
   "outputs": [],
   "source": [
    "import pandas as pd\n",
    "import os\n",
    "import papermill as pm"
   ]
  },
  {
   "cell_type": "code",
   "execution_count": null,
   "metadata": {},
   "outputs": [],
   "source": [
    "# base notebook to be run per tuple iteration\n",
    "base_notebook = '/home/jupyter/notebooks/foundin_day_expression_prep.ipynb'\n",
    "\n",
    "# output path for the generated notebooks\n",
    "out_nb_dir = '/home/jupyter/notebooks/pm_gend_nbs'\n",
    "\n",
    "# setup iteration tuples\n",
    "cohort = 'foundin'\n",
    "amp_abbr = 'PP'\n",
    "version = 'amppdv1'\n",
    "# days = ['da0', 'da25', 'da65']\n",
    "days = ['da65']\n",
    "quant_type = 'vst'"
   ]
  },
  {
   "cell_type": "markdown",
   "metadata": {},
   "source": [
    "#### iterate over the tuples running the notebook per tuple"
   ]
  },
  {
   "cell_type": "code",
   "execution_count": null,
   "metadata": {},
   "outputs": [],
   "source": [
    "%%time\n",
    "# make sure the notebook output dir exists\n",
    "os.makedirs(out_nb_dir, exist_ok=True)\n",
    "\n",
    "for day in days:\n",
    "    # before running prep notebook make expr data for the cohort and visit\n",
    "    param_dict = {'cohort': cohort, 'amp_abbr': amp_abbr, 'version': version, \n",
    "                  'day': day, 'quant_type': quant_type}\n",
    "    out_notebook = f'{out_nb_dir}/{cohort}_{day}_expression_prep.ipynb'\n",
    "    print(param_dict)\n",
    "    print(out_notebook)\n",
    "    pm.execute_notebook(input_path=base_notebook, output_path=out_notebook, \n",
    "                        parameters=param_dict)"
   ]
  },
  {
   "cell_type": "code",
   "execution_count": null,
   "metadata": {},
   "outputs": [],
   "source": []
  }
 ],
 "metadata": {
  "environment": {
   "name": "pytorch-gpu.1-7.mnightly-2021-02-12-debian-10-test",
   "type": "gcloud",
   "uri": "gcr.io/deeplearning-platform-release/pytorch-gpu.1-7:mnightly-2021-02-12-debian-10-test"
  },
  "kernelspec": {
   "display_name": "Python 3",
   "language": "python",
   "name": "python3"
  },
  "language_info": {
   "codemirror_mode": {
    "name": "ipython",
    "version": 3
   },
   "file_extension": ".py",
   "mimetype": "text/x-python",
   "name": "python",
   "nbconvert_exporter": "python",
   "pygments_lexer": "ipython3",
   "version": "3.7.9"
  },
  "widgets": {
   "application/vnd.jupyter.widget-state+json": {
    "state": {},
    "version_major": 2,
    "version_minor": 0
   }
  }
 },
 "nbformat": 4,
 "nbformat_minor": 4
}
