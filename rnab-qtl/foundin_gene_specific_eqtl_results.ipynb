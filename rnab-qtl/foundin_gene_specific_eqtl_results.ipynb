{
 "cells": [
  {
   "cell_type": "markdown",
   "metadata": {},
   "source": [
    "## Notebook for plotting gene specific eQTL results"
   ]
  },
  {
   "cell_type": "markdown",
   "metadata": {},
   "source": [
    "#### import libraries and set notebook variables"
   ]
  },
  {
   "cell_type": "code",
   "execution_count": null,
   "metadata": {},
   "outputs": [],
   "source": [
    "import pandas as pd\n",
    "import numpy as np\n",
    "import seaborn as sns\n",
    "import matplotlib.pyplot as plt"
   ]
  },
  {
   "cell_type": "code",
   "execution_count": null,
   "metadata": {
    "tags": [
     "parameters"
    ]
   },
   "outputs": [],
   "source": [
    "# parameters\n",
    "cohort = 'foundin'\n",
    "gene = 'lnc-RHEX-8'"
   ]
  },
  {
   "cell_type": "code",
   "execution_count": null,
   "metadata": {},
   "outputs": [],
   "source": [
    "# naming\n",
    "# cohort_build = f'{cohort}.{day}'\n",
    "geno_version = 'amppdv1'\n",
    "cohort_version = f'{cohort}.{geno_version}'\n",
    "days = ['da0', 'da25', 'da65']\n",
    "\n",
    "# directories\n",
    "wrk_dir = f'/home/jupyter/{cohort}/eqtl'\n",
    "expr_dir = f'{wrk_dir}/expression'\n",
    "genos_dir = f'{wrk_dir}/genotypes'\n",
    "info_dir = f'{wrk_dir}/sample_info'\n",
    "tensorqtl_dir = f'{wrk_dir}/tensorqtl'\n",
    "gwas_dir = f'{wrk_dir}/gwas'\n",
    "\n",
    "# input files\n",
    "gencode_pkl = f'{expr_dir}/gencode_v29.lncipedia_v5_2_hc.annotation.pkl'\n",
    "\n",
    "# output files\n",
    "# eqtl_psam = f'{info_dir}/{cohort_build}.psam'\n",
    "\n",
    "# constant values\n",
    "autosomes = [str(x) for x in list(range(1,23))]\n",
    "max_dist = 1000000\n",
    "max_threads = 24\n",
    "alpha_value = 0.05\n",
    "\n",
    "# items of interest\n",
    "meta5_stats_file = f'{gwas_dir}/pdmeta_sumstats_hg38.h5'"
   ]
  },
  {
   "cell_type": "markdown",
   "metadata": {},
   "source": [
    "#### load the gencode annotations"
   ]
  },
  {
   "cell_type": "code",
   "execution_count": null,
   "metadata": {},
   "outputs": [],
   "source": [
    "%%time\n",
    "gencode_df = pd.read_pickle(gencode_pkl)\n",
    "print(gencode_df.shape)"
   ]
  },
  {
   "cell_type": "markdown",
   "metadata": {},
   "source": [
    "#### load the full gwas summary stats"
   ]
  },
  {
   "cell_type": "code",
   "execution_count": null,
   "metadata": {},
   "outputs": [],
   "source": [
    "%%time\n",
    "gwas_stats_df = pd.read_hdf(meta5_stats_file)\n",
    "print(gwas_stats_df.shape)\n",
    "display(gwas_stats_df.sample(5))"
   ]
  },
  {
   "cell_type": "markdown",
   "metadata": {},
   "source": [
    "#### load the cis-eQTL results by day for the specified gene"
   ]
  },
  {
   "cell_type": "code",
   "execution_count": null,
   "metadata": {},
   "outputs": [],
   "source": [
    "%%time\n",
    "\n",
    "gene_df = gencode_df.loc[gencode_df['gene_name'] == gene]\n",
    "#     print(gene_df['seqname'].unique()[0])\n",
    "gene_id =gene_df['gene_id'].unique()[0]\n",
    "chrom = gene_df['seqname'].unique()[0]\n",
    "gene_name = gene_df['gene_name'].unique()[0]\n",
    "gene_start = gene_df['start'].min()\n",
    "gene_stop = gene_df['end'].max()\n",
    "\n",
    "gene_eqtl_df = None\n",
    "for day in days:\n",
    "    # now load the chromosome eqtl results and extract specific gene results\n",
    "    chrom_eqtl_df = pd.read_parquet(f'{tensorqtl_dir}/{cohort}.{day}.cis_qtl_pairs.{chrom}.parquet')\n",
    "    chrom_bim_df = pd.read_csv(f'{genos_dir}/{cohort_version}.{chrom}.bfile.bim', \n",
    "                               header=None, sep='\\s+')\n",
    "    chrom_bim_df.columns = ['chr', 'name', 'cm', 'pos', 'a1', 'a2']\n",
    "    chrom_eqtl_df = chrom_eqtl_df.merge(chrom_bim_df, how='inner', \n",
    "                                    left_on='variant_id', right_on='name')    \n",
    "#     print(chrom_eqtl_df.shape)\n",
    "    this_df = chrom_eqtl_df.loc[chrom_eqtl_df['phenotype_id'] == gene_id].copy()\n",
    "    this_df['set'] = day\n",
    "    gene_eqtl_df = pd.concat([gene_eqtl_df, this_df])\n",
    "#     print(gene_eqtl_df.shape)"
   ]
  },
  {
   "cell_type": "markdown",
   "metadata": {},
   "source": [
    "#### get gwas stats for region of specified gene"
   ]
  },
  {
   "cell_type": "code",
   "execution_count": null,
   "metadata": {},
   "outputs": [],
   "source": [
    "region_gwas_df = gwas_stats_df.loc[gwas_stats_df['SNP'].isin(gene_eqtl_df['variant_id'])].copy()\n",
    "region_gwas_df['set'] = 'PDrisk'\n",
    "print(region_gwas_df.shape)"
   ]
  },
  {
   "cell_type": "markdown",
   "metadata": {},
   "source": [
    "#### subset appropriate columns and rename so that eqtl and gwas can be concat'd"
   ]
  },
  {
   "cell_type": "code",
   "execution_count": null,
   "metadata": {},
   "outputs": [],
   "source": [
    "eqtl_columns = ['variant_id', 'chr', 'pos', 'slope', 'slope_se', 'pval_nominal','set']\n",
    "gene_eqtl_df = gene_eqtl_df[eqtl_columns]\n",
    "gene_eqtl_df.columns = ['variant', 'chr', 'pos', 'beta', 'se', 'pvalue','set']\n",
    "print(gene_eqtl_df.shape)\n",
    "# display(gene_eqtl_df.head())\n",
    "\n",
    "gwas_columns = ['SNP', 'chr', 'position', 'b', 'se', 'p','set']\n",
    "region_gwas_df = region_gwas_df[gwas_columns]\n",
    "region_gwas_df.columns = ['variant', 'chr', 'pos', 'beta', 'se', 'pvalue','set']\n",
    "print(region_gwas_df.shape)\n",
    "# display(region_gwas_df.head())\n",
    "\n",
    "results_df = pd.concat([gene_eqtl_df, region_gwas_df])\n",
    "results_df['log10_pvalue'] = np.log10(results_df['pvalue'])*-1\n",
    "results_df['z_score'] = results_df['beta']/results_df['se']\n",
    "results_df['z_score_abs'] = np.abs(results_df['z_score'])\n",
    "print(results_df.shape)\n",
    "display(results_df.sample(5))"
   ]
  },
  {
   "cell_type": "markdown",
   "metadata": {},
   "source": [
    "#### now do the plotting"
   ]
  },
  {
   "cell_type": "code",
   "execution_count": null,
   "metadata": {},
   "outputs": [],
   "source": [
    "#plot local manhattan for gene eQTL\n",
    "def plot_eqtl_manhattan(gene_id, gene_name, gene_chrom, gene_start, gene_stop, \n",
    "                        results_df):\n",
    "    print(f'{gene_name} {gene_id}')\n",
    "    print(f'gene {gene_name} is on {gene_chrom} from {gene_start} to {gene_stop}')\n",
    "\n",
    "    #pull in all results for the gene from chromosome for all visits\n",
    "    print(results_df.shape)\n",
    "\n",
    "    #now actually do the plotting\n",
    "    sns.set(style='darkgrid')\n",
    "    sns.relplot(x='pos',y='log10_pvalue',size='z_score_abs', hue='set',\n",
    "                alpha=.5, palette=\"dark\", height=12, data=results_df)        \n",
    "\n",
    "    min_y = round(min(results_df['log10_pvalue']))\n",
    "\n",
    "    plt.plot([gene_start, gene_stop], [min_y, min_y], linewidth=5, color='black')\n",
    "    plt.text(gene_stop+10000, min_y, gene_name, fontsize='large', color='black')\n",
    "\n",
    "    plt.title(f'{gene_name} eQTL', fontsize='large') \n",
    "    plt.xlabel(f'Bp on chromosome {gene_chrom}')\n",
    "    plt.ylabel(f'-log10(p-value)')    \n",
    "    plt.show()\n",
    "\n",
    "#   plot_out_file_name = f'{WRKDIR}/plink/images/{gene_name}.local_man.png'\n",
    "#   plt.savefig(plot_out_file_name,format='png',dpi=600,bbox_inches='tight')\n",
    "    \n",
    "    return"
   ]
  },
  {
   "cell_type": "code",
   "execution_count": null,
   "metadata": {},
   "outputs": [],
   "source": [
    "plot_eqtl_manhattan(gene_id, gene_name, chrom, gene_start, gene_stop, \n",
    "                    results_df)"
   ]
  },
  {
   "cell_type": "code",
   "execution_count": null,
   "metadata": {},
   "outputs": [],
   "source": [
    "gene_eqtl_df.columns = ['eqtl_'+ x for x in gene_eqtl_df.columns]\n",
    "region_gwas_df.columns = ['gwas_'+ x for x in region_gwas_df.columns]\n",
    "display(gene_eqtl_df.head())\n",
    "display(region_gwas_df.head())\n"
   ]
  },
  {
   "cell_type": "code",
   "execution_count": null,
   "metadata": {},
   "outputs": [],
   "source": [
    "merged_df = gene_eqtl_df.merge(region_gwas_df, how='inner', \n",
    "                               left_on='eqtl_variant', right_on='gwas_variant')\n",
    "print(merged_df.shape)\n",
    "display(merged_df.head())"
   ]
  },
  {
   "cell_type": "code",
   "execution_count": null,
   "metadata": {},
   "outputs": [],
   "source": [
    "# sns.relplot(x='gwas_beta',y='eqtl_beta', hue='eqtl_set', size=np.abs(merged_df['gwas_beta']),\n",
    "#             alpha=.5, palette=\"dark\", height=12, data=merged_df) "
   ]
  },
  {
   "cell_type": "code",
   "execution_count": null,
   "metadata": {},
   "outputs": [],
   "source": [
    "#plot local manhattan for gene eQTL\n",
    "def plot_gwas_eqtl(gene_id, gene_name, gene_chrom, gene_start, gene_stop, \n",
    "                   this_df):\n",
    "    print(f'{gene_name} {gene_id}')\n",
    "    print(f'gene {gene_name} is on {gene_chrom} from {gene_start} to {gene_stop}')\n",
    "\n",
    "    #pull in all results for the gene from chromosome for all visits\n",
    "    print(this_df.shape)\n",
    "\n",
    "    #now actually do the plotting\n",
    "    sns.set(style='darkgrid')\n",
    "    sns.relplot(x=np.log10(this_df['gwas_pvalue'])*-1, \n",
    "                y=np.log10(this_df['eqtl_pvalue'])*-1, \n",
    "                size=np.abs(this_df['gwas_beta']), \n",
    "                hue='eqtl_set', alpha=.5, palette=\"dark\", \n",
    "                height=12, data=this_df)         \n",
    "    \n",
    "    plt.title(f'PD risk and {gene_name} eQTL', fontsize='large')\n",
    "    plt.xlabel('PD GWAS risk -log10(p-value)')\n",
    "    plt.ylabel(f'{gene_name} eQTL -log10(p-value)')\n",
    "    plt.show()\n",
    "\n",
    "#   plot_out_file_name = f'{WRKDIR}/plink/images/{gene_name}.local_man.png'\n",
    "#   plt.savefig(plot_out_file_name,format='png',dpi=600,bbox_inches='tight')\n",
    "    \n",
    "    return"
   ]
  },
  {
   "cell_type": "code",
   "execution_count": null,
   "metadata": {},
   "outputs": [],
   "source": [
    "plot_gwas_eqtl(gene_id, gene_name, chrom, gene_start, gene_stop, merged_df)"
   ]
  },
  {
   "cell_type": "code",
   "execution_count": null,
   "metadata": {},
   "outputs": [],
   "source": []
  }
 ],
 "metadata": {
  "environment": {
   "name": "pytorch-gpu.1-7.mnightly-2021-02-12-debian-10-test",
   "type": "gcloud",
   "uri": "gcr.io/deeplearning-platform-release/pytorch-gpu.1-7:mnightly-2021-02-12-debian-10-test"
  },
  "kernelspec": {
   "display_name": "Python 3",
   "language": "python",
   "name": "python3"
  },
  "language_info": {
   "codemirror_mode": {
    "name": "ipython",
    "version": 3
   },
   "file_extension": ".py",
   "mimetype": "text/x-python",
   "name": "python",
   "nbconvert_exporter": "python",
   "pygments_lexer": "ipython3",
   "version": "3.7.9"
  },
  "widgets": {
   "application/vnd.jupyter.widget-state+json": {
    "state": {},
    "version_major": 2,
    "version_minor": 0
   }
  }
 },
 "nbformat": 4,
 "nbformat_minor": 4
}
