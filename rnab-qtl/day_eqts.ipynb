{
 "cells": [
  {
   "cell_type": "markdown",
   "id": "tamil-bunch",
   "metadata": {},
   "source": [
    "## Notebook for performing eQTS analysis for PD GRS and expression"
   ]
  },
  {
   "cell_type": "code",
   "execution_count": null,
   "id": "rotary-centre",
   "metadata": {},
   "outputs": [],
   "source": [
    "!date"
   ]
  },
  {
   "cell_type": "markdown",
   "id": "peripheral-malaysia",
   "metadata": {},
   "source": [
    "#### import libraries and set notebook variables"
   ]
  },
  {
   "cell_type": "code",
   "execution_count": null,
   "id": "jewish-basement",
   "metadata": {},
   "outputs": [],
   "source": [
    "import pandas as pd\n",
    "import os\n",
    "import numpy as np\n",
    "import statsmodels.stats.multitest as smm\n",
    "import statsmodels.api as sm\n",
    "import statsmodels.formula.api as smf\n",
    "import matplotlib.pyplot as plt\n",
    "import seaborn as sns\n",
    "from sklearn.preprocessing import MinMaxScaler"
   ]
  },
  {
   "cell_type": "code",
   "execution_count": null,
   "id": "sapphire-academy",
   "metadata": {
    "tags": [
     "parameters"
    ]
   },
   "outputs": [],
   "source": [
    "# parameters\n",
    "cohort = 'foundin'\n",
    "day = 'da65'"
   ]
  },
  {
   "cell_type": "code",
   "execution_count": null,
   "id": "found-clearing",
   "metadata": {},
   "outputs": [],
   "source": [
    "# naming\n",
    "cohort_build = f'{cohort}.{day}'\n",
    "\n",
    "# directories\n",
    "home_dir = '/home/jupyter'\n",
    "wrk_dir = f'{home_dir}/{cohort}/eqtl'\n",
    "expr_dir = f'{wrk_dir}/expression'\n",
    "info_dir = f'{wrk_dir}/sample_info'\n",
    "eqts_dir = f'{wrk_dir}/eqts'\n",
    "\n",
    "# in files\n",
    "covs_file = f'{info_dir}/{cohort}_rnab_sample_info.csv'\n",
    "grs_file = f'{info_dir}/{cohort}.grs.scaled.csv'\n",
    "quants_file = f'{expr_dir}/{cohort_build}.norm.adj.hdf5'\n",
    "\n",
    "# out files\n",
    "eqts_file = f'{eqts_dir}/{cohort_build}.eqts.csv'\n",
    "\n",
    "# constants\n",
    "covs_index_assay_id_to_replace = {'RNAB_PPMI3422_0683_da65_v1': 'RNAB_PPMI3422_1260_da65_v1',\n",
    " 'RNAB_PPMI3448_3236_da65_v1': 'RNAB_PPMI3448_2397_da65_v1',\n",
    " 'RNAB_PPMI3451_2397_da65_v1': 'RNAB_PPMI3451_3236_da65_v1',\n",
    " 'RNAB_PPMI3664_6647_da65_v1': 'RNAB_PPMI3664_2833_da65_v1',\n",
    " 'RNAB_PPMI3665_7215_da65_v1': 'RNAB_PPMI3665_4484_da65_v1',\n",
    " 'RNAB_PPMI3953_2833_da65_v1': 'RNAB_PPMI3953_6647_da65_v1',\n",
    " 'RNAB_PPMI4101_4484_da65_v2': 'RNAB_PPMI4101_7215_da65_v2',\n",
    " 'RNAB_PPMI4106_2056_da65_v1': 'RNAB_PPMI4106_0494_da65_v1',\n",
    " 'RNAB_PPMI54991_1260_da65_v1': 'RNAB_PPMI54991_0683_da65_v1'}"
   ]
  },
  {
   "cell_type": "code",
   "execution_count": null,
   "id": "downtown-ribbon",
   "metadata": {},
   "outputs": [],
   "source": [
    "os.makedirs(eqts_dir, exist_ok=True)"
   ]
  },
  {
   "cell_type": "markdown",
   "id": "limiting-contrary",
   "metadata": {},
   "source": [
    "#### analysis functions"
   ]
  },
  {
   "cell_type": "code",
   "execution_count": null,
   "id": "dependent-omega",
   "metadata": {},
   "outputs": [],
   "source": [
    "# functions to run the linear regression\n",
    "def reg_model(y, x, term):\n",
    "    Xb = sm.add_constant(x)\n",
    "    reg_model = sm.OLS(y, Xb).fit()\n",
    "\n",
    "# #     formula api style\n",
    "#     this_formula = f'Q(\"{this_trait}\") ~ GRS + predicted_Lymphocytes + GRS * predicted_Lymphocytes'\n",
    "#     reg_model = smf.ols(this_formula, data=this_quants).fit()\n",
    "\n",
    "    # return the coef, stderr, adjusted r2, number of terms, and p-value\n",
    "    return [reg_model.params[term], reg_model.bse[term], reg_model.rsquared_adj, \n",
    "            reg_model.params.shape[0], reg_model.pvalues[term]]\n",
    "\n",
    "\n",
    "def grsresgression(cov_df, traits_df, dep_term='', extra_dep_terms=None):\n",
    "    print(dep_term)\n",
    "    this_sample = set(cov_df.index) & set(traits_df.index)\n",
    "    print(len(this_sample))\n",
    "    \n",
    "    this_cov_df = cov_df.loc[cov_df.index.isin(this_sample)]\n",
    "    this_traits_df = traits_df.loc[traits_df.index.isin(this_sample)]\n",
    "    this_cov_df = this_cov_df.reindex(this_traits_df.index)\n",
    "    \n",
    "    if not extra_dep_terms is None:\n",
    "        this_cov_df = this_cov_df[[dep_term] + extra_dep_terms]\n",
    "    else:\n",
    "        this_cov_df = this_cov_df[[dep_term]]\n",
    "    \n",
    "    lm_results = this_traits_df.apply(lambda x: reg_model(x, this_cov_df, dep_term),\n",
    "                                      result_type='expand').\\\n",
    "    rename(index={0: 'coef', 1: 'stderr', 2: 'r2_adj', 3:'term_cnt', 4:'p-value'}).T\n",
    "\n",
    "    alpha=0.05\n",
    "    method='fdr_bh'\n",
    "    test_adjust = smm.multipletests(np.array(lm_results['p-value']),\n",
    "                                    alpha=alpha, method=method)\n",
    "    lm_results['bh_fdr'] = test_adjust[1]\n",
    "    return lm_results"
   ]
  },
  {
   "cell_type": "code",
   "execution_count": null,
   "id": "pharmaceutical-international",
   "metadata": {},
   "outputs": [],
   "source": [
    "#plot the eQTS\n",
    "def ploteqts(trait_id, study_name, score_df, traits_df):\n",
    "    this_scores_df = score_df.loc[score_df.index.isin(traits_df.index)]\n",
    "    this_scores_df = this_scores_df.reindex(traits_df.index)\n",
    "\n",
    "    temp = traits_df.merge(this_scores_df,left_index=True,right_index=True)\n",
    "\n",
    "    plt.figure(figsize=(9, 9))\n",
    "    sns.regplot(x=trait_id,y='GRS', data=temp, ci=95)\n",
    "    sns.scatterplot(x=trait_id,y='GRS', data=temp, hue='DX')\n",
    "    plt.xlabel('Trait')\n",
    "    plt.ylabel('GRS')\n",
    "    plt.title(f'{trait_id} in {study_name}')\n",
    "    plt.legend(bbox_to_anchor=(1.05, 1), loc=2, borderaxespad=0,prop={'size': 10})\n",
    "    plt.show()"
   ]
  },
  {
   "cell_type": "markdown",
   "id": "distant-collaboration",
   "metadata": {},
   "source": [
    "#### load the known sample covariates"
   ]
  },
  {
   "cell_type": "code",
   "execution_count": null,
   "id": "afraid-onion",
   "metadata": {},
   "outputs": [],
   "source": [
    "covs_df = pd.read_csv(covs_file, index_col=0)\n",
    "print(covs_df.shape)\n",
    "covs_df.rename(index=covs_index_assay_id_to_replace, inplace=True)\n",
    "# display(covs_df.head())"
   ]
  },
  {
   "cell_type": "markdown",
   "id": "ignored-victim",
   "metadata": {},
   "source": [
    "#### load and add GRS"
   ]
  },
  {
   "cell_type": "code",
   "execution_count": null,
   "id": "failing-smoke",
   "metadata": {},
   "outputs": [],
   "source": [
    "grs_df = pd.read_csv(grs_file)\n",
    "print(grs_df.shape)\n",
    "# display(grs_df.head())"
   ]
  },
  {
   "cell_type": "code",
   "execution_count": null,
   "id": "textile-denial",
   "metadata": {},
   "outputs": [],
   "source": [
    "# covs_df = covs_df.merge(grs_df, how='inner', left_on='wgsid', right_on='IID')\n",
    "covs_df = covs_df.reset_index().merge(grs_df, how='inner', left_on='wgsid', \n",
    "                                      right_on='IID').set_index('assayid')\n",
    "print(covs_df.shape)\n",
    "# display(covs_df.head())"
   ]
  },
  {
   "cell_type": "markdown",
   "id": "frozen-moral",
   "metadata": {},
   "source": [
    "#### load the expression data"
   ]
  },
  {
   "cell_type": "code",
   "execution_count": null,
   "id": "color-footage",
   "metadata": {},
   "outputs": [],
   "source": [
    "%%time\n",
    "expr_df = pd.read_hdf(quants_file, index_col=0)\n",
    "print(expr_df.shape)\n",
    "# display(expr_df.head())"
   ]
  },
  {
   "cell_type": "code",
   "execution_count": null,
   "id": "outstanding-confusion",
   "metadata": {},
   "outputs": [],
   "source": [
    "set(expr_df.index) - set(covs_df.index)"
   ]
  },
  {
   "cell_type": "markdown",
   "id": "relevant-technician",
   "metadata": {},
   "source": [
    "#### run the eQTS (expression ~ GRS regression)"
   ]
  },
  {
   "cell_type": "code",
   "execution_count": null,
   "id": "parallel-revision",
   "metadata": {},
   "outputs": [],
   "source": [
    "%%time\n",
    "grs_results = grsresgression(covs_df, expr_df, dep_term='GRS')"
   ]
  },
  {
   "cell_type": "markdown",
   "id": "dirty-elephant",
   "metadata": {},
   "source": [
    "#### save the results files"
   ]
  },
  {
   "cell_type": "code",
   "execution_count": null,
   "id": "devoted-stereo",
   "metadata": {},
   "outputs": [],
   "source": [
    "grs_results.to_csv(eqts_file)"
   ]
  },
  {
   "cell_type": "code",
   "execution_count": null,
   "id": "silver-mountain",
   "metadata": {},
   "outputs": [],
   "source": [
    "print(grs_results.shape)\n",
    "print(grs_results.loc[grs_results['bh_fdr'] <= 0.05].shape)"
   ]
  },
  {
   "cell_type": "code",
   "execution_count": null,
   "id": "average-holmes",
   "metadata": {},
   "outputs": [],
   "source": [
    "grs_results.describe()"
   ]
  },
  {
   "cell_type": "code",
   "execution_count": null,
   "id": "structured-habitat",
   "metadata": {},
   "outputs": [],
   "source": [
    "display(grs_results.loc[grs_results['bh_fdr'] <= 0.05])"
   ]
  },
  {
   "cell_type": "markdown",
   "id": "recreational-horizon",
   "metadata": {},
   "source": [
    "#### plot the most significant results"
   ]
  },
  {
   "cell_type": "code",
   "execution_count": null,
   "id": "incident-pledge",
   "metadata": {},
   "outputs": [],
   "source": [
    "scaled_expr_df =  pd.DataFrame(data=MinMaxScaler().fit_transform(expr_df), \n",
    "                               index=expr_df.index, columns=expr_df.columns)\n",
    "print(scaled_expr_df.shape)\n",
    "# display(scaled_expr_df.head())"
   ]
  },
  {
   "cell_type": "code",
   "execution_count": null,
   "id": "eight-advance",
   "metadata": {},
   "outputs": [],
   "source": [
    "this_trait = grs_results.loc[grs_results['bh_fdr'] == min(grs_results['bh_fdr']),].index[0]\n",
    "print(grs_results.loc[this_trait])\n",
    "ploteqts(this_trait, cohort.upper(),  covs_df, expr_df)"
   ]
  },
  {
   "cell_type": "code",
   "execution_count": null,
   "id": "resident-ceramic",
   "metadata": {},
   "outputs": [],
   "source": [
    "ploteqts(this_trait, cohort.upper(), covs_df, scaled_expr_df)"
   ]
  },
  {
   "cell_type": "markdown",
   "id": "express-investigator",
   "metadata": {},
   "source": [
    "#### now run the model with the cell fractions as covariates"
   ]
  },
  {
   "cell_type": "code",
   "execution_count": null,
   "id": "filled-pittsburgh",
   "metadata": {},
   "outputs": [],
   "source": [
    "covs_df['DopaminergicNeurons'].fillna(covs_df['DopaminergicNeurons'].mean(), inplace=True)\n",
    "covs_df['EarlyneuronProgenitor'].fillna(covs_df['EarlyneuronProgenitor'].mean(), inplace=True)\n",
    "covs_df['ImmatureDopaminergicNeurons'].fillna(covs_df['ImmatureDopaminergicNeurons'].mean(), inplace=True)\n",
    "covs_df['ProliferatingFloorPlateProgenitors'].fillna(covs_df['ProliferatingFloorPlateProgenitors'].mean(), inplace=True)\n",
    "covs_df['LateneuronProgenitor'].fillna(covs_df['LateneuronProgenitor'].mean(), inplace=True)\n",
    "covs_df['Ependymal-likeCells'].fillna(covs_df['Ependymal-likeCells'].mean(), inplace=True)\n",
    "covs_df['Neuroepithelial-likeCells'].fillna(covs_df['Neuroepithelial-likeCells'].mean(), inplace=True)"
   ]
  },
  {
   "cell_type": "code",
   "execution_count": null,
   "id": "abroad-pitch",
   "metadata": {},
   "outputs": [],
   "source": [
    "%%time\n",
    "# cell_cols = ['DopaminergicNeurons']\n",
    "cell_cols = ['DopaminergicNeurons', 'EarlyneuronProgenitor',\n",
    "             'ImmatureDopaminergicNeurons', 'ProliferatingFloorPlateProgenitors',\n",
    "             'LateneuronProgenitor', 'Ependymal-likeCells',\n",
    "             'Neuroepithelial-likeCells']\n",
    "# cell_cols = ['age_at_baseline'] + cell_cols\n",
    "grs_results = grsresgression(covs_df, expr_df, dep_term='GRS', extra_dep_terms=cell_cols)"
   ]
  },
  {
   "cell_type": "code",
   "execution_count": null,
   "id": "unavailable-potential",
   "metadata": {},
   "outputs": [],
   "source": [
    "grs_results.describe()"
   ]
  },
  {
   "cell_type": "code",
   "execution_count": null,
   "id": "automatic-brief",
   "metadata": {},
   "outputs": [],
   "source": [
    "print(grs_results.shape)\n",
    "print(grs_results.loc[grs_results['bh_fdr'] <= 0.05].shape)"
   ]
  },
  {
   "cell_type": "code",
   "execution_count": null,
   "id": "disabled-tenant",
   "metadata": {},
   "outputs": [],
   "source": [
    "display(grs_results.loc[grs_results['bh_fdr'] <= 0.05])"
   ]
  },
  {
   "cell_type": "markdown",
   "id": "boxed-norfolk",
   "metadata": {},
   "source": [
    "#### plot the most significant results"
   ]
  },
  {
   "cell_type": "code",
   "execution_count": null,
   "id": "composed-palmer",
   "metadata": {},
   "outputs": [],
   "source": [
    "this_trait = grs_results.loc[grs_results['bh_fdr'] == min(grs_results['bh_fdr']),].index[0]\n",
    "print(grs_results.loc[this_trait])\n",
    "ploteqts(this_trait, cohort.upper(),  covs_df, expr_df)"
   ]
  },
  {
   "cell_type": "code",
   "execution_count": null,
   "id": "continent-cemetery",
   "metadata": {},
   "outputs": [],
   "source": [
    "ploteqts(this_trait, cohort.upper(), covs_df, scaled_expr_df)"
   ]
  },
  {
   "cell_type": "code",
   "execution_count": null,
   "id": "black-admission",
   "metadata": {},
   "outputs": [],
   "source": []
  }
 ],
 "metadata": {
  "environment": {
   "name": "pytorch-gpu.1-7.m65",
   "type": "gcloud",
   "uri": "gcr.io/deeplearning-platform-release/pytorch-gpu.1-7:m65"
  },
  "kernelspec": {
   "display_name": "Python 3",
   "language": "python",
   "name": "python3"
  },
  "language_info": {
   "codemirror_mode": {
    "name": "ipython",
    "version": 3
   },
   "file_extension": ".py",
   "mimetype": "text/x-python",
   "name": "python",
   "nbconvert_exporter": "python",
   "pygments_lexer": "ipython3",
   "version": "3.7.10"
  },
  "widgets": {
   "application/vnd.jupyter.widget-state+json": {
    "state": {},
    "version_major": 2,
    "version_minor": 0
   }
  }
 },
 "nbformat": 4,
 "nbformat_minor": 5
}
