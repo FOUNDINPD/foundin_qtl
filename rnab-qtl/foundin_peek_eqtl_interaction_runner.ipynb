{
 "cells": [
  {
   "cell_type": "markdown",
   "metadata": {},
   "source": [
    "## Notebook to runner for FOUNDIN-PD peek at eqtl interaction results via papermill"
   ]
  },
  {
   "cell_type": "markdown",
   "metadata": {},
   "source": [
    "#### import libraries"
   ]
  },
  {
   "cell_type": "code",
   "execution_count": 1,
   "metadata": {},
   "outputs": [],
   "source": [
    "import os\n",
    "import papermill as pm"
   ]
  },
  {
   "cell_type": "code",
   "execution_count": 2,
   "metadata": {},
   "outputs": [],
   "source": [
    "# base notebook to be run per tuple iteration\n",
    "base_notebook = '/home/jupyter/notebooks/foundin_peek_eqtl_interaction_results-tensorqtl.ipynb'\n",
    "\n",
    "# output path for the generated notebooks\n",
    "out_nb_dir = '/home/jupyter/notebooks/pm_gend_nbs'\n",
    "\n",
    "# setup iteration tuples\n",
    "cohort = 'foundin'\n",
    "days = ['da0', 'da25', 'da65']\n",
    "cell_types = ['DopaminergicNeurons', 'EarlyneuronProgenitor', 'Ependymal-likeCells', \n",
    "          'ImmatureDopaminergicNeurons', 'LateneuronProgenitor', \n",
    "          'Neuroepithelial-likeCells', 'ProliferatingFloorPlateProgenitors']\n"
   ]
  },
  {
   "cell_type": "markdown",
   "metadata": {},
   "source": [
    "#### iterate over the tuples running the notebook per tuple"
   ]
  },
  {
   "cell_type": "code",
   "execution_count": 3,
   "metadata": {},
   "outputs": [
    {
     "name": "stdout",
     "output_type": "stream",
     "text": [
      "{'cohort': 'foundin', 'day': 'da0', 'cell_type': 'DopaminergicNeurons'}\n",
      "/home/jupyter/notebooks/pm_gend_nbs/foundin_da0_DopaminergicNeurons_peek_eqtl_interaction_results.ipynb\n"
     ]
    },
    {
     "data": {
      "application/vnd.jupyter.widget-view+json": {
       "model_id": "ceebefd0ee2e441199f40f040ab05ae1",
       "version_major": 2,
       "version_minor": 0
      },
      "text/plain": [
       "Executing:   0%|          | 0/26 [00:00<?, ?cell/s]"
      ]
     },
     "metadata": {},
     "output_type": "display_data"
    },
    {
     "name": "stdout",
     "output_type": "stream",
     "text": [
      "{'cohort': 'foundin', 'day': 'da0', 'cell_type': 'EarlyneuronProgenitor'}\n",
      "/home/jupyter/notebooks/pm_gend_nbs/foundin_da0_EarlyneuronProgenitor_peek_eqtl_interaction_results.ipynb\n"
     ]
    },
    {
     "data": {
      "application/vnd.jupyter.widget-view+json": {
       "model_id": "f15713942472470dadcc1c7eaa2edcff",
       "version_major": 2,
       "version_minor": 0
      },
      "text/plain": [
       "Executing:   0%|          | 0/26 [00:00<?, ?cell/s]"
      ]
     },
     "metadata": {},
     "output_type": "display_data"
    },
    {
     "name": "stdout",
     "output_type": "stream",
     "text": [
      "{'cohort': 'foundin', 'day': 'da0', 'cell_type': 'Ependymal-likeCells'}\n",
      "/home/jupyter/notebooks/pm_gend_nbs/foundin_da0_Ependymal-likeCells_peek_eqtl_interaction_results.ipynb\n"
     ]
    },
    {
     "data": {
      "application/vnd.jupyter.widget-view+json": {
       "model_id": "8186eac91f3e4b3c8d5dfa82709b1a36",
       "version_major": 2,
       "version_minor": 0
      },
      "text/plain": [
       "Executing:   0%|          | 0/26 [00:00<?, ?cell/s]"
      ]
     },
     "metadata": {},
     "output_type": "display_data"
    },
    {
     "name": "stdout",
     "output_type": "stream",
     "text": [
      "{'cohort': 'foundin', 'day': 'da0', 'cell_type': 'ImmatureDopaminergicNeurons'}\n",
      "/home/jupyter/notebooks/pm_gend_nbs/foundin_da0_ImmatureDopaminergicNeurons_peek_eqtl_interaction_results.ipynb\n"
     ]
    },
    {
     "data": {
      "application/vnd.jupyter.widget-view+json": {
       "model_id": "47f51557c9ae44579b09264ebf45b2f2",
       "version_major": 2,
       "version_minor": 0
      },
      "text/plain": [
       "Executing:   0%|          | 0/26 [00:00<?, ?cell/s]"
      ]
     },
     "metadata": {},
     "output_type": "display_data"
    },
    {
     "name": "stdout",
     "output_type": "stream",
     "text": [
      "{'cohort': 'foundin', 'day': 'da0', 'cell_type': 'LateneuronProgenitor'}\n",
      "/home/jupyter/notebooks/pm_gend_nbs/foundin_da0_LateneuronProgenitor_peek_eqtl_interaction_results.ipynb\n"
     ]
    },
    {
     "data": {
      "application/vnd.jupyter.widget-view+json": {
       "model_id": "bcd2f2d5c37644d185e14b427a98f10c",
       "version_major": 2,
       "version_minor": 0
      },
      "text/plain": [
       "Executing:   0%|          | 0/26 [00:00<?, ?cell/s]"
      ]
     },
     "metadata": {},
     "output_type": "display_data"
    },
    {
     "name": "stdout",
     "output_type": "stream",
     "text": [
      "{'cohort': 'foundin', 'day': 'da0', 'cell_type': 'Neuroepithelial-likeCells'}\n",
      "/home/jupyter/notebooks/pm_gend_nbs/foundin_da0_Neuroepithelial-likeCells_peek_eqtl_interaction_results.ipynb\n"
     ]
    },
    {
     "data": {
      "application/vnd.jupyter.widget-view+json": {
       "model_id": "8dc4020f77484f5095f21eb4cbfd7780",
       "version_major": 2,
       "version_minor": 0
      },
      "text/plain": [
       "Executing:   0%|          | 0/26 [00:00<?, ?cell/s]"
      ]
     },
     "metadata": {},
     "output_type": "display_data"
    },
    {
     "name": "stdout",
     "output_type": "stream",
     "text": [
      "{'cohort': 'foundin', 'day': 'da0', 'cell_type': 'ProliferatingFloorPlateProgenitors'}\n",
      "/home/jupyter/notebooks/pm_gend_nbs/foundin_da0_ProliferatingFloorPlateProgenitors_peek_eqtl_interaction_results.ipynb\n"
     ]
    },
    {
     "data": {
      "application/vnd.jupyter.widget-view+json": {
       "model_id": "48c1fb9c2f8a4ee0aebb495187cb842e",
       "version_major": 2,
       "version_minor": 0
      },
      "text/plain": [
       "Executing:   0%|          | 0/26 [00:00<?, ?cell/s]"
      ]
     },
     "metadata": {},
     "output_type": "display_data"
    },
    {
     "name": "stdout",
     "output_type": "stream",
     "text": [
      "{'cohort': 'foundin', 'day': 'da25', 'cell_type': 'DopaminergicNeurons'}\n",
      "/home/jupyter/notebooks/pm_gend_nbs/foundin_da25_DopaminergicNeurons_peek_eqtl_interaction_results.ipynb\n"
     ]
    },
    {
     "data": {
      "application/vnd.jupyter.widget-view+json": {
       "model_id": "efd006172f51480b8da3f3d52c9e4432",
       "version_major": 2,
       "version_minor": 0
      },
      "text/plain": [
       "Executing:   0%|          | 0/26 [00:00<?, ?cell/s]"
      ]
     },
     "metadata": {},
     "output_type": "display_data"
    },
    {
     "name": "stdout",
     "output_type": "stream",
     "text": [
      "{'cohort': 'foundin', 'day': 'da25', 'cell_type': 'EarlyneuronProgenitor'}\n",
      "/home/jupyter/notebooks/pm_gend_nbs/foundin_da25_EarlyneuronProgenitor_peek_eqtl_interaction_results.ipynb\n"
     ]
    },
    {
     "data": {
      "application/vnd.jupyter.widget-view+json": {
       "model_id": "852fe1823f8d474e8f64acd4710d8a0c",
       "version_major": 2,
       "version_minor": 0
      },
      "text/plain": [
       "Executing:   0%|          | 0/26 [00:00<?, ?cell/s]"
      ]
     },
     "metadata": {},
     "output_type": "display_data"
    },
    {
     "name": "stdout",
     "output_type": "stream",
     "text": [
      "{'cohort': 'foundin', 'day': 'da25', 'cell_type': 'Ependymal-likeCells'}\n",
      "/home/jupyter/notebooks/pm_gend_nbs/foundin_da25_Ependymal-likeCells_peek_eqtl_interaction_results.ipynb\n"
     ]
    },
    {
     "data": {
      "application/vnd.jupyter.widget-view+json": {
       "model_id": "2025d2e6ab294a70b2edf5fa27dc455e",
       "version_major": 2,
       "version_minor": 0
      },
      "text/plain": [
       "Executing:   0%|          | 0/26 [00:00<?, ?cell/s]"
      ]
     },
     "metadata": {},
     "output_type": "display_data"
    },
    {
     "name": "stdout",
     "output_type": "stream",
     "text": [
      "{'cohort': 'foundin', 'day': 'da25', 'cell_type': 'ImmatureDopaminergicNeurons'}\n",
      "/home/jupyter/notebooks/pm_gend_nbs/foundin_da25_ImmatureDopaminergicNeurons_peek_eqtl_interaction_results.ipynb\n"
     ]
    },
    {
     "data": {
      "application/vnd.jupyter.widget-view+json": {
       "model_id": "4f66aea4d3354016b2d2352208a0dc2c",
       "version_major": 2,
       "version_minor": 0
      },
      "text/plain": [
       "Executing:   0%|          | 0/26 [00:00<?, ?cell/s]"
      ]
     },
     "metadata": {},
     "output_type": "display_data"
    },
    {
     "name": "stdout",
     "output_type": "stream",
     "text": [
      "{'cohort': 'foundin', 'day': 'da25', 'cell_type': 'LateneuronProgenitor'}\n",
      "/home/jupyter/notebooks/pm_gend_nbs/foundin_da25_LateneuronProgenitor_peek_eqtl_interaction_results.ipynb\n"
     ]
    },
    {
     "data": {
      "application/vnd.jupyter.widget-view+json": {
       "model_id": "0b2a6679dc6e4f7ea7b8276a65f7224e",
       "version_major": 2,
       "version_minor": 0
      },
      "text/plain": [
       "Executing:   0%|          | 0/26 [00:00<?, ?cell/s]"
      ]
     },
     "metadata": {},
     "output_type": "display_data"
    },
    {
     "name": "stdout",
     "output_type": "stream",
     "text": [
      "{'cohort': 'foundin', 'day': 'da25', 'cell_type': 'Neuroepithelial-likeCells'}\n",
      "/home/jupyter/notebooks/pm_gend_nbs/foundin_da25_Neuroepithelial-likeCells_peek_eqtl_interaction_results.ipynb\n"
     ]
    },
    {
     "data": {
      "application/vnd.jupyter.widget-view+json": {
       "model_id": "fbd8a1d9c35b456283f1f6e116bfcd40",
       "version_major": 2,
       "version_minor": 0
      },
      "text/plain": [
       "Executing:   0%|          | 0/26 [00:00<?, ?cell/s]"
      ]
     },
     "metadata": {},
     "output_type": "display_data"
    },
    {
     "name": "stdout",
     "output_type": "stream",
     "text": [
      "{'cohort': 'foundin', 'day': 'da25', 'cell_type': 'ProliferatingFloorPlateProgenitors'}\n",
      "/home/jupyter/notebooks/pm_gend_nbs/foundin_da25_ProliferatingFloorPlateProgenitors_peek_eqtl_interaction_results.ipynb\n"
     ]
    },
    {
     "data": {
      "application/vnd.jupyter.widget-view+json": {
       "model_id": "f6ebec0d13ee40f6917d4af0d2ab94ed",
       "version_major": 2,
       "version_minor": 0
      },
      "text/plain": [
       "Executing:   0%|          | 0/26 [00:00<?, ?cell/s]"
      ]
     },
     "metadata": {},
     "output_type": "display_data"
    },
    {
     "name": "stdout",
     "output_type": "stream",
     "text": [
      "{'cohort': 'foundin', 'day': 'da65', 'cell_type': 'DopaminergicNeurons'}\n",
      "/home/jupyter/notebooks/pm_gend_nbs/foundin_da65_DopaminergicNeurons_peek_eqtl_interaction_results.ipynb\n"
     ]
    },
    {
     "data": {
      "application/vnd.jupyter.widget-view+json": {
       "model_id": "5fba4708d1de4d22b46ebf6e353e4326",
       "version_major": 2,
       "version_minor": 0
      },
      "text/plain": [
       "Executing:   0%|          | 0/26 [00:00<?, ?cell/s]"
      ]
     },
     "metadata": {},
     "output_type": "display_data"
    },
    {
     "name": "stdout",
     "output_type": "stream",
     "text": [
      "{'cohort': 'foundin', 'day': 'da65', 'cell_type': 'EarlyneuronProgenitor'}\n",
      "/home/jupyter/notebooks/pm_gend_nbs/foundin_da65_EarlyneuronProgenitor_peek_eqtl_interaction_results.ipynb\n"
     ]
    },
    {
     "data": {
      "application/vnd.jupyter.widget-view+json": {
       "model_id": "e333f8a5c0ba43f7b651398c7f197cf9",
       "version_major": 2,
       "version_minor": 0
      },
      "text/plain": [
       "Executing:   0%|          | 0/26 [00:00<?, ?cell/s]"
      ]
     },
     "metadata": {},
     "output_type": "display_data"
    },
    {
     "name": "stdout",
     "output_type": "stream",
     "text": [
      "{'cohort': 'foundin', 'day': 'da65', 'cell_type': 'Ependymal-likeCells'}\n",
      "/home/jupyter/notebooks/pm_gend_nbs/foundin_da65_Ependymal-likeCells_peek_eqtl_interaction_results.ipynb\n"
     ]
    },
    {
     "data": {
      "application/vnd.jupyter.widget-view+json": {
       "model_id": "c279d9ce57fc46a396d963d4b978cd10",
       "version_major": 2,
       "version_minor": 0
      },
      "text/plain": [
       "Executing:   0%|          | 0/26 [00:00<?, ?cell/s]"
      ]
     },
     "metadata": {},
     "output_type": "display_data"
    },
    {
     "name": "stdout",
     "output_type": "stream",
     "text": [
      "{'cohort': 'foundin', 'day': 'da65', 'cell_type': 'ImmatureDopaminergicNeurons'}\n",
      "/home/jupyter/notebooks/pm_gend_nbs/foundin_da65_ImmatureDopaminergicNeurons_peek_eqtl_interaction_results.ipynb\n"
     ]
    },
    {
     "data": {
      "application/vnd.jupyter.widget-view+json": {
       "model_id": "1e6812638c284789ad07d7d1421ba3a7",
       "version_major": 2,
       "version_minor": 0
      },
      "text/plain": [
       "Executing:   0%|          | 0/26 [00:00<?, ?cell/s]"
      ]
     },
     "metadata": {},
     "output_type": "display_data"
    },
    {
     "name": "stdout",
     "output_type": "stream",
     "text": [
      "{'cohort': 'foundin', 'day': 'da65', 'cell_type': 'LateneuronProgenitor'}\n",
      "/home/jupyter/notebooks/pm_gend_nbs/foundin_da65_LateneuronProgenitor_peek_eqtl_interaction_results.ipynb\n"
     ]
    },
    {
     "data": {
      "application/vnd.jupyter.widget-view+json": {
       "model_id": "2d0f6a1283f4430bb9468e1651a6dc25",
       "version_major": 2,
       "version_minor": 0
      },
      "text/plain": [
       "Executing:   0%|          | 0/26 [00:00<?, ?cell/s]"
      ]
     },
     "metadata": {},
     "output_type": "display_data"
    },
    {
     "name": "stdout",
     "output_type": "stream",
     "text": [
      "{'cohort': 'foundin', 'day': 'da65', 'cell_type': 'Neuroepithelial-likeCells'}\n",
      "/home/jupyter/notebooks/pm_gend_nbs/foundin_da65_Neuroepithelial-likeCells_peek_eqtl_interaction_results.ipynb\n"
     ]
    },
    {
     "data": {
      "application/vnd.jupyter.widget-view+json": {
       "model_id": "7ae3a258811145d798599f069bc179bd",
       "version_major": 2,
       "version_minor": 0
      },
      "text/plain": [
       "Executing:   0%|          | 0/26 [00:00<?, ?cell/s]"
      ]
     },
     "metadata": {},
     "output_type": "display_data"
    },
    {
     "name": "stdout",
     "output_type": "stream",
     "text": [
      "{'cohort': 'foundin', 'day': 'da65', 'cell_type': 'ProliferatingFloorPlateProgenitors'}\n",
      "/home/jupyter/notebooks/pm_gend_nbs/foundin_da65_ProliferatingFloorPlateProgenitors_peek_eqtl_interaction_results.ipynb\n"
     ]
    },
    {
     "data": {
      "application/vnd.jupyter.widget-view+json": {
       "model_id": "9e789e6c3ba84640ad93725ccaee7341",
       "version_major": 2,
       "version_minor": 0
      },
      "text/plain": [
       "Executing:   0%|          | 0/26 [00:00<?, ?cell/s]"
      ]
     },
     "metadata": {},
     "output_type": "display_data"
    },
    {
     "name": "stdout",
     "output_type": "stream",
     "text": [
      "CPU times: user 26.3 s, sys: 1.32 s, total: 27.6 s\n",
      "Wall time: 45min 50s\n"
     ]
    }
   ],
   "source": [
    "%%time\n",
    "# make sure the notebook output dir exists\n",
    "os.makedirs(out_nb_dir, exist_ok=True)\n",
    "\n",
    "for day in days:\n",
    "    for cell_type in cell_types:\n",
    "        # before running prep notebook make expr data for the cohort and visit\n",
    "        param_dict = {'cohort': cohort, 'day': day, 'cell_type': cell_type}\n",
    "        out_notebook = f'{out_nb_dir}/{cohort}_{day}_{cell_type}_peek_eqtl_interaction_results.ipynb'\n",
    "        print(param_dict)\n",
    "        print(out_notebook)\n",
    "        pm.execute_notebook(input_path=base_notebook, output_path=out_notebook, \n",
    "                            parameters=param_dict)"
   ]
  }
 ],
 "metadata": {
  "environment": {
   "name": "pytorch-gpu.1-7.m65",
   "type": "gcloud",
   "uri": "gcr.io/deeplearning-platform-release/pytorch-gpu.1-7:m65"
  },
  "kernelspec": {
   "display_name": "Python 3",
   "language": "python",
   "name": "python3"
  },
  "language_info": {
   "codemirror_mode": {
    "name": "ipython",
    "version": 3
   },
   "file_extension": ".py",
   "mimetype": "text/x-python",
   "name": "python",
   "nbconvert_exporter": "python",
   "pygments_lexer": "ipython3",
   "version": "3.7.10"
  },
  "widgets": {
   "application/vnd.jupyter.widget-state+json": {
    "state": {},
    "version_major": 2,
    "version_minor": 0
   }
  }
 },
 "nbformat": 4,
 "nbformat_minor": 4
}
