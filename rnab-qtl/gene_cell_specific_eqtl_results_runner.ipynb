{
 "cells": [
  {
   "cell_type": "markdown",
   "metadata": {},
   "source": [
    "## Notebook to runner for FOUNDIN-PD day ieQTL result for a specific gene prep via papermill"
   ]
  },
  {
   "cell_type": "code",
   "execution_count": 1,
   "metadata": {},
   "outputs": [
    {
     "name": "stdout",
     "output_type": "stream",
     "text": [
      "Fri Aug  6 06:22:30 UTC 2021\n"
     ]
    }
   ],
   "source": [
    "!date"
   ]
  },
  {
   "cell_type": "markdown",
   "metadata": {},
   "source": [
    "#### import libraries"
   ]
  },
  {
   "cell_type": "code",
   "execution_count": 2,
   "metadata": {},
   "outputs": [],
   "source": [
    "import pandas as pd\n",
    "import os\n",
    "import papermill as pm"
   ]
  },
  {
   "cell_type": "code",
   "execution_count": 5,
   "metadata": {},
   "outputs": [],
   "source": [
    "# base notebook to be run per tuple iteration\n",
    "base_notebook = '/home/jupyter/notebooks/gene_cell_specific_eqtl_results.ipynb'\n",
    "\n",
    "out_nb_dir = f'/home/jupyter/notebooks/pm_gend_nbs'\n",
    "\n",
    "# setup iteration tuples\n",
    "cohort = 'foundin'\n",
    "version = 'amppdv1'\n",
    "genes = ['GDPD3', 'ITGAL', 'lnc-PYCARD-1', 'LENEP', 'lnc-ZNF514-11', \n",
    "         'TRIM72', 'lnc-PRSS16-2', 'MAPT', 'ZSCAN9', 'ZNF192P1', 'UBAP1',\n",
    "         'PHF24', 'KLHL7-DT', 'KANSL1-AS1', 'CALMG', 'NUPL2']\n",
    "day = 'da65'"
   ]
  },
  {
   "cell_type": "markdown",
   "metadata": {},
   "source": [
    "#### iterate over the tuples running the notebook per tuple"
   ]
  },
  {
   "cell_type": "code",
   "execution_count": 6,
   "metadata": {},
   "outputs": [
    {
     "name": "stdout",
     "output_type": "stream",
     "text": [
      "{'cohort': 'foundin', 'gene': 'lnc-PYCARD-1'}\n",
      "/home/jupyter/notebooks/pm_gend_nbs/foundin.da65.lnc-PYCARD-1.cell_specific_ieqtl_results.ipynb\n"
     ]
    },
    {
     "data": {
      "application/vnd.jupyter.widget-view+json": {
       "model_id": "f08c02a7e6e54033809a64173d194b93",
       "version_major": 2,
       "version_minor": 0
      },
      "text/plain": [
       "Executing:   0%|          | 0/34 [00:00<?, ?cell/s]"
      ]
     },
     "metadata": {},
     "output_type": "display_data"
    },
    {
     "name": "stdout",
     "output_type": "stream",
     "text": [
      "CPU times: user 2.41 s, sys: 138 ms, total: 2.55 s\n",
      "Wall time: 1min 32s\n"
     ]
    }
   ],
   "source": [
    "%%time\n",
    "\n",
    "# make sure the notebook output dir exists\n",
    "os.makedirs(out_nb_dir, exist_ok=True)\n",
    "for gene in genes:\n",
    "    param_dict = {'cohort': cohort, 'gene': gene}\n",
    "    out_notebook = f'{out_nb_dir}/{cohort}.{day}.{gene}.cell_specific_ieqtl_results.ipynb'\n",
    "    print(param_dict)\n",
    "    print(out_notebook)\n",
    "    try:\n",
    "        pm.execute_notebook(input_path=base_notebook, output_path=out_notebook, \n",
    "                            parameters=param_dict)\n",
    "    except:\n",
    "        print(f'{cohort}.{gene} encountered an error continuing on next')                "
   ]
  },
  {
   "cell_type": "code",
   "execution_count": null,
   "metadata": {},
   "outputs": [],
   "source": []
  }
 ],
 "metadata": {
  "environment": {
   "name": "pytorch-gpu.1-7.m65",
   "type": "gcloud",
   "uri": "gcr.io/deeplearning-platform-release/pytorch-gpu.1-7:m65"
  },
  "kernelspec": {
   "display_name": "Python 3",
   "language": "python",
   "name": "python3"
  },
  "language_info": {
   "codemirror_mode": {
    "name": "ipython",
    "version": 3
   },
   "file_extension": ".py",
   "mimetype": "text/x-python",
   "name": "python",
   "nbconvert_exporter": "python",
   "pygments_lexer": "ipython3",
   "version": "3.7.10"
  },
  "widgets": {
   "application/vnd.jupyter.widget-state+json": {
    "state": {
     "000a0f64a926466c9aefa27c56e9d375": {
      "model_module": "@jupyter-widgets/base",
      "model_module_version": "1.2.0",
      "model_name": "LayoutModel",
      "state": {}
     },
     "007f88aaf42c42b8be69fa8624dcb758": {
      "model_module": "@jupyter-widgets/base",
      "model_module_version": "1.2.0",
      "model_name": "LayoutModel",
      "state": {}
     },
     "01b1ea0b610b4cb9b0f562c752c9a8ea": {
      "model_module": "@jupyter-widgets/controls",
      "model_module_version": "1.5.0",
      "model_name": "DescriptionStyleModel",
      "state": {
       "description_width": ""
      }
     },
     "01df20f1a81d404493d2cb45e14218f8": {
      "model_module": "@jupyter-widgets/base",
      "model_module_version": "1.2.0",
      "model_name": "LayoutModel",
      "state": {}
     },
     "026e549d35744048a8f4f2b9fc01e5c4": {
      "model_module": "@jupyter-widgets/controls",
      "model_module_version": "1.5.0",
      "model_name": "HTMLModel",
      "state": {
       "layout": "IPY_MODEL_848096af55864ea7920285e68c1f3fd4",
       "style": "IPY_MODEL_55134a856ad14db78f572097741d6b04",
       "value": "Executing: 100%"
      }
     },
     "02e70028dab94d79b8e0b3a6c92a7930": {
      "model_module": "@jupyter-widgets/controls",
      "model_module_version": "1.5.0",
      "model_name": "HTMLModel",
      "state": {
       "layout": "IPY_MODEL_93c809d51d8d4fb68d75d05d1d331121",
       "style": "IPY_MODEL_6651c76ceb6d4b1e92501e04787e8e1c",
       "value": "Executing: 100%"
      }
     },
     "04f29057604045acb9e569a561fde17b": {
      "model_module": "@jupyter-widgets/controls",
      "model_module_version": "1.5.0",
      "model_name": "DescriptionStyleModel",
      "state": {
       "description_width": ""
      }
     },
     "07164459364149b8a97d67bcc68480d7": {
      "model_module": "@jupyter-widgets/controls",
      "model_module_version": "1.5.0",
      "model_name": "HTMLModel",
      "state": {
       "layout": "IPY_MODEL_7c1de83cbb8b40589a3c0a6de26cc374",
       "style": "IPY_MODEL_674fefe9acae473e94f165d8aeb300a7",
       "value": " 34/34 [01:47&lt;00:00,  1.14s/cell]"
      }
     },
     "095098d3e54b4af4970f4911fd30c778": {
      "model_module": "@jupyter-widgets/base",
      "model_module_version": "1.2.0",
      "model_name": "LayoutModel",
      "state": {}
     },
     "0a8de419c2ba45d5b47d1fa942914d7f": {
      "model_module": "@jupyter-widgets/controls",
      "model_module_version": "1.5.0",
      "model_name": "HBoxModel",
      "state": {
       "children": [
        "IPY_MODEL_026e549d35744048a8f4f2b9fc01e5c4",
        "IPY_MODEL_fce8610cd77d4faaa65ced7953f73e19",
        "IPY_MODEL_560a21ad30284d549eeed15ffe65990a"
       ],
       "layout": "IPY_MODEL_b15063a246964fbe89694e7b608297a0"
      }
     },
     "0cb68752a03f4ccdbf19c6f4dbd89c54": {
      "model_module": "@jupyter-widgets/base",
      "model_module_version": "1.2.0",
      "model_name": "LayoutModel",
      "state": {}
     },
     "0e5b0b9956454d50804bca2e665fb664": {
      "model_module": "@jupyter-widgets/base",
      "model_module_version": "1.2.0",
      "model_name": "LayoutModel",
      "state": {}
     },
     "0ed83c0307fb4411bed22f85e2c7859a": {
      "model_module": "@jupyter-widgets/controls",
      "model_module_version": "1.5.0",
      "model_name": "FloatProgressModel",
      "state": {
       "bar_style": "success",
       "layout": "IPY_MODEL_5e33ec8eeaea457fa6af40a02eb448b7",
       "max": 34,
       "style": "IPY_MODEL_5db19e5943244c40a9ea119b81fb0cfd",
       "value": 34
      }
     },
     "0f12a37cb4ac4953a8177bbd2fd344b6": {
      "model_module": "@jupyter-widgets/base",
      "model_module_version": "1.2.0",
      "model_name": "LayoutModel",
      "state": {}
     },
     "15a79430f43b4c9a8e6571e98f21ce2b": {
      "model_module": "@jupyter-widgets/controls",
      "model_module_version": "1.5.0",
      "model_name": "HBoxModel",
      "state": {
       "children": [
        "IPY_MODEL_edf7e4d92bbe474a9ce0fa51c360acba",
        "IPY_MODEL_91aa8d0101c0412aa5402d527e377be1",
        "IPY_MODEL_ccf74d23ce6d469c883d2dd3a0e7a481"
       ],
       "layout": "IPY_MODEL_b80eed7f9ee2464ba125f99f04ed9588"
      }
     },
     "1928ef8db9c742a3a2321eb02bdbc84b": {
      "model_module": "@jupyter-widgets/base",
      "model_module_version": "1.2.0",
      "model_name": "LayoutModel",
      "state": {}
     },
     "1991b0d6021e495382bb1310ded1d907": {
      "model_module": "@jupyter-widgets/controls",
      "model_module_version": "1.5.0",
      "model_name": "HTMLModel",
      "state": {
       "layout": "IPY_MODEL_954e41a5044743a1ab3a22ef92601fd2",
       "style": "IPY_MODEL_410c6302acd84fe4ae2bc20fb9b32243",
       "value": " 34/34 [02:06&lt;00:00,  1.30s/cell]"
      }
     },
     "19db62f66347421dac7442fddc2382c1": {
      "model_module": "@jupyter-widgets/controls",
      "model_module_version": "1.5.0",
      "model_name": "DescriptionStyleModel",
      "state": {
       "description_width": ""
      }
     },
     "1a0445d1a0a645189c8887e891daa213": {
      "model_module": "@jupyter-widgets/base",
      "model_module_version": "1.2.0",
      "model_name": "LayoutModel",
      "state": {}
     },
     "1bad9dd81b504096893ce80844e34111": {
      "model_module": "@jupyter-widgets/controls",
      "model_module_version": "1.5.0",
      "model_name": "HBoxModel",
      "state": {
       "children": [
        "IPY_MODEL_3d531129b62f48dd95a4f9031daa612d",
        "IPY_MODEL_7cec74a363d84ab784e13224a391c4f4",
        "IPY_MODEL_cc3dea3467a8495581c169913310ef62"
       ],
       "layout": "IPY_MODEL_b7dcfcd8580848afaff18b3969d803d2"
      }
     },
     "1ce543f2f4104880ba32969f2441309a": {
      "model_module": "@jupyter-widgets/controls",
      "model_module_version": "1.5.0",
      "model_name": "ProgressStyleModel",
      "state": {
       "description_width": ""
      }
     },
     "1de815915e2f4e4c8fa89bf27ce5a558": {
      "model_module": "@jupyter-widgets/controls",
      "model_module_version": "1.5.0",
      "model_name": "ProgressStyleModel",
      "state": {
       "description_width": ""
      }
     },
     "212c8967d74a4039a230b2126adb84f3": {
      "model_module": "@jupyter-widgets/controls",
      "model_module_version": "1.5.0",
      "model_name": "HTMLModel",
      "state": {
       "layout": "IPY_MODEL_1a0445d1a0a645189c8887e891daa213",
       "style": "IPY_MODEL_add9ada76d3941829f3a6cf604423629",
       "value": " 34/34 [02:07&lt;00:00,  1.25s/cell]"
      }
     },
     "213db3ec28764d97a178d2af20679db6": {
      "model_module": "@jupyter-widgets/base",
      "model_module_version": "1.2.0",
      "model_name": "LayoutModel",
      "state": {}
     },
     "236af2b7836f4638827b09bf69a67649": {
      "model_module": "@jupyter-widgets/controls",
      "model_module_version": "1.5.0",
      "model_name": "FloatProgressModel",
      "state": {
       "bar_style": "success",
       "layout": "IPY_MODEL_751878e83cf54ec0b3f9c93904bc2c5d",
       "max": 34,
       "style": "IPY_MODEL_b7c4debf51c24fc69baa24a908d46e66",
       "value": 34
      }
     },
     "2461db325a36477086c08822f5743001": {
      "model_module": "@jupyter-widgets/controls",
      "model_module_version": "1.5.0",
      "model_name": "HTMLModel",
      "state": {
       "layout": "IPY_MODEL_65b760ffc5384ed4b223a5de9d271bdb",
       "style": "IPY_MODEL_19db62f66347421dac7442fddc2382c1",
       "value": "Executing: 100%"
      }
     },
     "24bf573f0d03494caec469ab8826ad00": {
      "model_module": "@jupyter-widgets/controls",
      "model_module_version": "1.5.0",
      "model_name": "HTMLModel",
      "state": {
       "layout": "IPY_MODEL_b2165fe3ecc54ef491e3e963064ca513",
       "style": "IPY_MODEL_fe8c314282ba4980968f79fe78c280e5",
       "value": " 34/34 [02:08&lt;00:00,  1.14s/cell]"
      }
     },
     "28323a09ea13484d9c548d1f0fdc4679": {
      "model_module": "@jupyter-widgets/controls",
      "model_module_version": "1.5.0",
      "model_name": "FloatProgressModel",
      "state": {
       "bar_style": "success",
       "layout": "IPY_MODEL_a18eca418a274e089f636f235ed68910",
       "max": 34,
       "style": "IPY_MODEL_e7077613dbf4489db60e71d59997fefd",
       "value": 34
      }
     },
     "2fabdd9e586946c1bd58b55ea0e870c1": {
      "model_module": "@jupyter-widgets/controls",
      "model_module_version": "1.5.0",
      "model_name": "HTMLModel",
      "state": {
       "layout": "IPY_MODEL_5bd59cbf961744dd85b5e4cf2c7924ce",
       "style": "IPY_MODEL_3c8f0dc6220c41009fe5586c2369098b",
       "value": " 20/34 [02:08&lt;01:40,  7.17s/cell]"
      }
     },
     "3247c75b26b245c98b794c528012533b": {
      "model_module": "@jupyter-widgets/base",
      "model_module_version": "1.2.0",
      "model_name": "LayoutModel",
      "state": {}
     },
     "32a2a355cf5a4127b394c85b95d6eb2b": {
      "model_module": "@jupyter-widgets/base",
      "model_module_version": "1.2.0",
      "model_name": "LayoutModel",
      "state": {}
     },
     "34668c5f9e2042fa89287039cd7e4605": {
      "model_module": "@jupyter-widgets/controls",
      "model_module_version": "1.5.0",
      "model_name": "DescriptionStyleModel",
      "state": {
       "description_width": ""
      }
     },
     "36815881567c465cb29054ff4e6b7db0": {
      "model_module": "@jupyter-widgets/controls",
      "model_module_version": "1.5.0",
      "model_name": "ProgressStyleModel",
      "state": {
       "description_width": ""
      }
     },
     "396a83ccda464f2f9ec5a8b8d21526ee": {
      "model_module": "@jupyter-widgets/controls",
      "model_module_version": "1.5.0",
      "model_name": "DescriptionStyleModel",
      "state": {
       "description_width": ""
      }
     },
     "39736e51e5ab4c7ea8d86474edd76fe4": {
      "model_module": "@jupyter-widgets/base",
      "model_module_version": "1.2.0",
      "model_name": "LayoutModel",
      "state": {}
     },
     "3aacab45f5484c388c9376056364cec6": {
      "model_module": "@jupyter-widgets/controls",
      "model_module_version": "1.5.0",
      "model_name": "DescriptionStyleModel",
      "state": {
       "description_width": ""
      }
     },
     "3b8164ca3504471488df15cc11c62ac5": {
      "model_module": "@jupyter-widgets/base",
      "model_module_version": "1.2.0",
      "model_name": "LayoutModel",
      "state": {}
     },
     "3c569f066a7f4fa6b4892d6565498bc6": {
      "model_module": "@jupyter-widgets/base",
      "model_module_version": "1.2.0",
      "model_name": "LayoutModel",
      "state": {}
     },
     "3c8f0dc6220c41009fe5586c2369098b": {
      "model_module": "@jupyter-widgets/controls",
      "model_module_version": "1.5.0",
      "model_name": "DescriptionStyleModel",
      "state": {
       "description_width": ""
      }
     },
     "3d531129b62f48dd95a4f9031daa612d": {
      "model_module": "@jupyter-widgets/controls",
      "model_module_version": "1.5.0",
      "model_name": "HTMLModel",
      "state": {
       "layout": "IPY_MODEL_f1ff2c1d829a4d6eb7250abb13aeecd8",
       "style": "IPY_MODEL_e237e61779dc4ff08c22bb8cf1d60129",
       "value": "Executing: 100%"
      }
     },
     "3d532c2156c34018b4df60fa67722db0": {
      "model_module": "@jupyter-widgets/controls",
      "model_module_version": "1.5.0",
      "model_name": "FloatProgressModel",
      "state": {
       "bar_style": "danger",
       "layout": "IPY_MODEL_ce914555a5104628a1dce57eec002d06",
       "max": 34,
       "style": "IPY_MODEL_b4261ea2b4fa477cb4eb5c76c91dc164",
       "value": 20
      }
     },
     "3d75328a25604b70b2fc189899b31751": {
      "model_module": "@jupyter-widgets/controls",
      "model_module_version": "1.5.0",
      "model_name": "HTMLModel",
      "state": {
       "layout": "IPY_MODEL_dfa46061006f4524a06e32d22d3f9383",
       "style": "IPY_MODEL_a20eac0ab26047ae952a3fc67ba09cb7",
       "value": "Executing: 100%"
      }
     },
     "410c6302acd84fe4ae2bc20fb9b32243": {
      "model_module": "@jupyter-widgets/controls",
      "model_module_version": "1.5.0",
      "model_name": "DescriptionStyleModel",
      "state": {
       "description_width": ""
      }
     },
     "4399e9b699a143abb3edcfa8ea7fe398": {
      "model_module": "@jupyter-widgets/controls",
      "model_module_version": "1.5.0",
      "model_name": "HBoxModel",
      "state": {
       "children": [
        "IPY_MODEL_2461db325a36477086c08822f5743001",
        "IPY_MODEL_509319d2aac6473e9c9e0bfa2a2b0564",
        "IPY_MODEL_a0b8fa0f4c3a44d0b0287a687ac583fb"
       ],
       "layout": "IPY_MODEL_1928ef8db9c742a3a2321eb02bdbc84b"
      }
     },
     "4a16f7d4bfcd45848a164af64e8edde6": {
      "model_module": "@jupyter-widgets/base",
      "model_module_version": "1.2.0",
      "model_name": "LayoutModel",
      "state": {}
     },
     "4c61c573020d4da28b84399801a532d3": {
      "model_module": "@jupyter-widgets/controls",
      "model_module_version": "1.5.0",
      "model_name": "HBoxModel",
      "state": {
       "children": [
        "IPY_MODEL_83c791e1e7ac463d8b320291a227bf01",
        "IPY_MODEL_3d532c2156c34018b4df60fa67722db0",
        "IPY_MODEL_2fabdd9e586946c1bd58b55ea0e870c1"
       ],
       "layout": "IPY_MODEL_54d430bd03e441eda498d50f953fdeac"
      }
     },
     "4e103ef97b7142a6a14089a9fd4c252b": {
      "model_module": "@jupyter-widgets/controls",
      "model_module_version": "1.5.0",
      "model_name": "ProgressStyleModel",
      "state": {
       "description_width": ""
      }
     },
     "4e8bb3335ada49b883bbab2e34dd8967": {
      "model_module": "@jupyter-widgets/controls",
      "model_module_version": "1.5.0",
      "model_name": "ProgressStyleModel",
      "state": {
       "description_width": ""
      }
     },
     "4e8d1d8426b74676a17fa3494736e556": {
      "model_module": "@jupyter-widgets/controls",
      "model_module_version": "1.5.0",
      "model_name": "DescriptionStyleModel",
      "state": {
       "description_width": ""
      }
     },
     "5078eda2bc594eaf8f13321f3004b929": {
      "model_module": "@jupyter-widgets/controls",
      "model_module_version": "1.5.0",
      "model_name": "HTMLModel",
      "state": {
       "layout": "IPY_MODEL_85ecc603b34b4452abf5a639420471a1",
       "style": "IPY_MODEL_950ff7c2f0f74ccfa5644e1a35b26814",
       "value": " 34/34 [01:32&lt;00:00,  1.10cell/s]"
      }
     },
     "509319d2aac6473e9c9e0bfa2a2b0564": {
      "model_module": "@jupyter-widgets/controls",
      "model_module_version": "1.5.0",
      "model_name": "FloatProgressModel",
      "state": {
       "bar_style": "success",
       "layout": "IPY_MODEL_a9e94545e2eb47ada9e364396ab30ffa",
       "max": 34,
       "style": "IPY_MODEL_1ce543f2f4104880ba32969f2441309a",
       "value": 34
      }
     },
     "52f2eae5c3e447829f49f24a72fc34af": {
      "model_module": "@jupyter-widgets/base",
      "model_module_version": "1.2.0",
      "model_name": "LayoutModel",
      "state": {}
     },
     "53b39859c34f4c38913d3cb5de5f08d1": {
      "model_module": "@jupyter-widgets/controls",
      "model_module_version": "1.5.0",
      "model_name": "DescriptionStyleModel",
      "state": {
       "description_width": ""
      }
     },
     "54d430bd03e441eda498d50f953fdeac": {
      "model_module": "@jupyter-widgets/base",
      "model_module_version": "1.2.0",
      "model_name": "LayoutModel",
      "state": {}
     },
     "54d8e596cbb34c6f8318cbab29c1db7a": {
      "model_module": "@jupyter-widgets/controls",
      "model_module_version": "1.5.0",
      "model_name": "HTMLModel",
      "state": {
       "layout": "IPY_MODEL_ef0a979a19c2485aa8938a4ba06f8af7",
       "style": "IPY_MODEL_5e8efec256834be6b42df619dbda718e",
       "value": "Executing: 100%"
      }
     },
     "55134a856ad14db78f572097741d6b04": {
      "model_module": "@jupyter-widgets/controls",
      "model_module_version": "1.5.0",
      "model_name": "DescriptionStyleModel",
      "state": {
       "description_width": ""
      }
     },
     "560a21ad30284d549eeed15ffe65990a": {
      "model_module": "@jupyter-widgets/controls",
      "model_module_version": "1.5.0",
      "model_name": "HTMLModel",
      "state": {
       "layout": "IPY_MODEL_a043260f0e924b859fee9063d9c92c42",
       "style": "IPY_MODEL_34668c5f9e2042fa89287039cd7e4605",
       "value": " 34/34 [01:39&lt;00:00,  1.06s/cell]"
      }
     },
     "58603ff00778432bbcea470fe5a82470": {
      "model_module": "@jupyter-widgets/base",
      "model_module_version": "1.2.0",
      "model_name": "LayoutModel",
      "state": {}
     },
     "59e25cfb7e3440e1872676df54e307e0": {
      "model_module": "@jupyter-widgets/controls",
      "model_module_version": "1.5.0",
      "model_name": "HBoxModel",
      "state": {
       "children": [
        "IPY_MODEL_ae2eee9c8130478587aec23e129d354c",
        "IPY_MODEL_236af2b7836f4638827b09bf69a67649",
        "IPY_MODEL_212c8967d74a4039a230b2126adb84f3"
       ],
       "layout": "IPY_MODEL_0cb68752a03f4ccdbf19c6f4dbd89c54"
      }
     },
     "5a69f369b55b465092e7286443271fb4": {
      "model_module": "@jupyter-widgets/controls",
      "model_module_version": "1.5.0",
      "model_name": "HBoxModel",
      "state": {
       "children": [
        "IPY_MODEL_3d75328a25604b70b2fc189899b31751",
        "IPY_MODEL_cc6613104892481696d6a0f61fb3b238",
        "IPY_MODEL_d821a0384b574693966e559fd2c19125"
       ],
       "layout": "IPY_MODEL_8f187863691642deb182d752190c9dc4"
      }
     },
     "5bd59cbf961744dd85b5e4cf2c7924ce": {
      "model_module": "@jupyter-widgets/base",
      "model_module_version": "1.2.0",
      "model_name": "LayoutModel",
      "state": {}
     },
     "5db19e5943244c40a9ea119b81fb0cfd": {
      "model_module": "@jupyter-widgets/controls",
      "model_module_version": "1.5.0",
      "model_name": "ProgressStyleModel",
      "state": {
       "description_width": ""
      }
     },
     "5e33ec8eeaea457fa6af40a02eb448b7": {
      "model_module": "@jupyter-widgets/base",
      "model_module_version": "1.2.0",
      "model_name": "LayoutModel",
      "state": {}
     },
     "5e8efec256834be6b42df619dbda718e": {
      "model_module": "@jupyter-widgets/controls",
      "model_module_version": "1.5.0",
      "model_name": "DescriptionStyleModel",
      "state": {
       "description_width": ""
      }
     },
     "6319be6312c84a0d8e3cd4c5b2fb2bbf": {
      "model_module": "@jupyter-widgets/controls",
      "model_module_version": "1.5.0",
      "model_name": "ProgressStyleModel",
      "state": {
       "description_width": ""
      }
     },
     "65b760ffc5384ed4b223a5de9d271bdb": {
      "model_module": "@jupyter-widgets/base",
      "model_module_version": "1.2.0",
      "model_name": "LayoutModel",
      "state": {}
     },
     "65d8c3f03c114215bdccebb4a3e92eeb": {
      "model_module": "@jupyter-widgets/base",
      "model_module_version": "1.2.0",
      "model_name": "LayoutModel",
      "state": {}
     },
     "6651c76ceb6d4b1e92501e04787e8e1c": {
      "model_module": "@jupyter-widgets/controls",
      "model_module_version": "1.5.0",
      "model_name": "DescriptionStyleModel",
      "state": {
       "description_width": ""
      }
     },
     "674fefe9acae473e94f165d8aeb300a7": {
      "model_module": "@jupyter-widgets/controls",
      "model_module_version": "1.5.0",
      "model_name": "DescriptionStyleModel",
      "state": {
       "description_width": ""
      }
     },
     "67d83a3f470948baaa27b78c6815ea1e": {
      "model_module": "@jupyter-widgets/base",
      "model_module_version": "1.2.0",
      "model_name": "LayoutModel",
      "state": {}
     },
     "67f2f36982c74b20931c1791473a9604": {
      "model_module": "@jupyter-widgets/controls",
      "model_module_version": "1.5.0",
      "model_name": "ProgressStyleModel",
      "state": {
       "description_width": ""
      }
     },
     "6a6ea17f0b044ea1806f64da29e0560a": {
      "model_module": "@jupyter-widgets/controls",
      "model_module_version": "1.5.0",
      "model_name": "DescriptionStyleModel",
      "state": {
       "description_width": ""
      }
     },
     "6f7cb65f66eb4aaab14130b48c349430": {
      "model_module": "@jupyter-widgets/base",
      "model_module_version": "1.2.0",
      "model_name": "LayoutModel",
      "state": {}
     },
     "70b6c08c8be840a38c1bd2701ab91583": {
      "model_module": "@jupyter-widgets/controls",
      "model_module_version": "1.5.0",
      "model_name": "DescriptionStyleModel",
      "state": {
       "description_width": ""
      }
     },
     "730cc9ceb5214a38bfaaa99bc5f355ca": {
      "model_module": "@jupyter-widgets/controls",
      "model_module_version": "1.5.0",
      "model_name": "HBoxModel",
      "state": {
       "children": [
        "IPY_MODEL_98da419ba04c4316b31de7b8c69b0d43",
        "IPY_MODEL_f3b7eda21acd49eaa75a66de3f105d7b",
        "IPY_MODEL_07164459364149b8a97d67bcc68480d7"
       ],
       "layout": "IPY_MODEL_0e5b0b9956454d50804bca2e665fb664"
      }
     },
     "751878e83cf54ec0b3f9c93904bc2c5d": {
      "model_module": "@jupyter-widgets/base",
      "model_module_version": "1.2.0",
      "model_name": "LayoutModel",
      "state": {}
     },
     "7648f760027c4e5faa8b3372cfe1a7cf": {
      "model_module": "@jupyter-widgets/base",
      "model_module_version": "1.2.0",
      "model_name": "LayoutModel",
      "state": {}
     },
     "79a366954d9d4bdb8a42ff5ef523d7e3": {
      "model_module": "@jupyter-widgets/controls",
      "model_module_version": "1.5.0",
      "model_name": "HTMLModel",
      "state": {
       "layout": "IPY_MODEL_8b0cb0af78b24da3834d339df36a2841",
       "style": "IPY_MODEL_dde574dacd7a4a1bb95ae55e5fe74c75",
       "value": " 34/34 [01:32&lt;00:00,  1.03cell/s]"
      }
     },
     "7c1de83cbb8b40589a3c0a6de26cc374": {
      "model_module": "@jupyter-widgets/base",
      "model_module_version": "1.2.0",
      "model_name": "LayoutModel",
      "state": {}
     },
     "7cec74a363d84ab784e13224a391c4f4": {
      "model_module": "@jupyter-widgets/controls",
      "model_module_version": "1.5.0",
      "model_name": "FloatProgressModel",
      "state": {
       "bar_style": "success",
       "layout": "IPY_MODEL_3247c75b26b245c98b794c528012533b",
       "max": 34,
       "style": "IPY_MODEL_4e103ef97b7142a6a14089a9fd4c252b",
       "value": 34
      }
     },
     "7e11b2bc265f4639b2ca7a7038ce954f": {
      "model_module": "@jupyter-widgets/base",
      "model_module_version": "1.2.0",
      "model_name": "LayoutModel",
      "state": {}
     },
     "8044586d95a744f78872105932fce86c": {
      "model_module": "@jupyter-widgets/controls",
      "model_module_version": "1.5.0",
      "model_name": "HTMLModel",
      "state": {
       "layout": "IPY_MODEL_a900d1442aad4c5d9585fbf46df36a1d",
       "style": "IPY_MODEL_bfa08904790a4200ad59c3d5866fc6ac",
       "value": " 34/34 [01:49&lt;00:00,  1.18s/cell]"
      }
     },
     "83c791e1e7ac463d8b320291a227bf01": {
      "model_module": "@jupyter-widgets/controls",
      "model_module_version": "1.5.0",
      "model_name": "HTMLModel",
      "state": {
       "layout": "IPY_MODEL_095098d3e54b4af4970f4911fd30c778",
       "style": "IPY_MODEL_396a83ccda464f2f9ec5a8b8d21526ee",
       "value": "Executing:  59%"
      }
     },
     "848096af55864ea7920285e68c1f3fd4": {
      "model_module": "@jupyter-widgets/base",
      "model_module_version": "1.2.0",
      "model_name": "LayoutModel",
      "state": {}
     },
     "8491bdea76774b30ba7631429b758357": {
      "model_module": "@jupyter-widgets/controls",
      "model_module_version": "1.5.0",
      "model_name": "HTMLModel",
      "state": {
       "layout": "IPY_MODEL_b62db178984a489b976c13639c5784d3",
       "style": "IPY_MODEL_b05bc0a0add14489982ade7b98566f7d",
       "value": " 34/34 [01:41&lt;00:00,  1.11s/cell]"
      }
     },
     "85ecc603b34b4452abf5a639420471a1": {
      "model_module": "@jupyter-widgets/base",
      "model_module_version": "1.2.0",
      "model_name": "LayoutModel",
      "state": {}
     },
     "89d50cde9e8f4371a955db791dd8b4de": {
      "model_module": "@jupyter-widgets/controls",
      "model_module_version": "1.5.0",
      "model_name": "DescriptionStyleModel",
      "state": {
       "description_width": ""
      }
     },
     "8a7f610c20dd43aa9cd65b2a7ba6b0c9": {
      "model_module": "@jupyter-widgets/controls",
      "model_module_version": "1.5.0",
      "model_name": "HBoxModel",
      "state": {
       "children": [
        "IPY_MODEL_d2100d4dd08c4fcea51f4a9a575f110f",
        "IPY_MODEL_0ed83c0307fb4411bed22f85e2c7859a",
        "IPY_MODEL_24bf573f0d03494caec469ab8826ad00"
       ],
       "layout": "IPY_MODEL_d2f205e386774b6fa499e9c25ad8635b"
      }
     },
     "8b0cb0af78b24da3834d339df36a2841": {
      "model_module": "@jupyter-widgets/base",
      "model_module_version": "1.2.0",
      "model_name": "LayoutModel",
      "state": {}
     },
     "8c291a26972345319490791592223e7d": {
      "model_module": "@jupyter-widgets/controls",
      "model_module_version": "1.5.0",
      "model_name": "DescriptionStyleModel",
      "state": {
       "description_width": ""
      }
     },
     "8f187863691642deb182d752190c9dc4": {
      "model_module": "@jupyter-widgets/base",
      "model_module_version": "1.2.0",
      "model_name": "LayoutModel",
      "state": {}
     },
     "91aa8d0101c0412aa5402d527e377be1": {
      "model_module": "@jupyter-widgets/controls",
      "model_module_version": "1.5.0",
      "model_name": "FloatProgressModel",
      "state": {
       "bar_style": "success",
       "layout": "IPY_MODEL_01df20f1a81d404493d2cb45e14218f8",
       "max": 34,
       "style": "IPY_MODEL_1de815915e2f4e4c8fa89bf27ce5a558",
       "value": 34
      }
     },
     "93c809d51d8d4fb68d75d05d1d331121": {
      "model_module": "@jupyter-widgets/base",
      "model_module_version": "1.2.0",
      "model_name": "LayoutModel",
      "state": {}
     },
     "950ff7c2f0f74ccfa5644e1a35b26814": {
      "model_module": "@jupyter-widgets/controls",
      "model_module_version": "1.5.0",
      "model_name": "DescriptionStyleModel",
      "state": {
       "description_width": ""
      }
     },
     "954e41a5044743a1ab3a22ef92601fd2": {
      "model_module": "@jupyter-widgets/base",
      "model_module_version": "1.2.0",
      "model_name": "LayoutModel",
      "state": {}
     },
     "98da419ba04c4316b31de7b8c69b0d43": {
      "model_module": "@jupyter-widgets/controls",
      "model_module_version": "1.5.0",
      "model_name": "HTMLModel",
      "state": {
       "layout": "IPY_MODEL_a3738fc37d2e47a2b92dec28e1169b47",
       "style": "IPY_MODEL_8c291a26972345319490791592223e7d",
       "value": "Executing: 100%"
      }
     },
     "98fc0c88a89545eda1fddaabf323a7ef": {
      "model_module": "@jupyter-widgets/base",
      "model_module_version": "1.2.0",
      "model_name": "LayoutModel",
      "state": {}
     },
     "9aaa0f4e6e4c47b7942e5a4bfc0e6f50": {
      "model_module": "@jupyter-widgets/base",
      "model_module_version": "1.2.0",
      "model_name": "LayoutModel",
      "state": {}
     },
     "9f95cc37adce4125a46a506c49754936": {
      "model_module": "@jupyter-widgets/controls",
      "model_module_version": "1.5.0",
      "model_name": "DescriptionStyleModel",
      "state": {
       "description_width": ""
      }
     },
     "9fe220a8a5e64eab95656ae34d4edbf5": {
      "model_module": "@jupyter-widgets/base",
      "model_module_version": "1.2.0",
      "model_name": "LayoutModel",
      "state": {}
     },
     "a01c61ccdfdc4002a8448d963c2b0f67": {
      "model_module": "@jupyter-widgets/controls",
      "model_module_version": "1.5.0",
      "model_name": "ProgressStyleModel",
      "state": {
       "description_width": ""
      }
     },
     "a043260f0e924b859fee9063d9c92c42": {
      "model_module": "@jupyter-widgets/base",
      "model_module_version": "1.2.0",
      "model_name": "LayoutModel",
      "state": {}
     },
     "a0b8fa0f4c3a44d0b0287a687ac583fb": {
      "model_module": "@jupyter-widgets/controls",
      "model_module_version": "1.5.0",
      "model_name": "HTMLModel",
      "state": {
       "layout": "IPY_MODEL_213db3ec28764d97a178d2af20679db6",
       "style": "IPY_MODEL_b4c290c7482442979eb695b74a282f47",
       "value": " 34/34 [02:01&lt;00:00,  1.07cell/s]"
      }
     },
     "a18eca418a274e089f636f235ed68910": {
      "model_module": "@jupyter-widgets/base",
      "model_module_version": "1.2.0",
      "model_name": "LayoutModel",
      "state": {}
     },
     "a20eac0ab26047ae952a3fc67ba09cb7": {
      "model_module": "@jupyter-widgets/controls",
      "model_module_version": "1.5.0",
      "model_name": "DescriptionStyleModel",
      "state": {
       "description_width": ""
      }
     },
     "a3738fc37d2e47a2b92dec28e1169b47": {
      "model_module": "@jupyter-widgets/base",
      "model_module_version": "1.2.0",
      "model_name": "LayoutModel",
      "state": {}
     },
     "a4bd16b4c20c409b800ab0cae589d9a2": {
      "model_module": "@jupyter-widgets/controls",
      "model_module_version": "1.5.0",
      "model_name": "DescriptionStyleModel",
      "state": {
       "description_width": ""
      }
     },
     "a834aabc5cc24f309292f3fd97d40879": {
      "model_module": "@jupyter-widgets/controls",
      "model_module_version": "1.5.0",
      "model_name": "FloatProgressModel",
      "state": {
       "bar_style": "success",
       "layout": "IPY_MODEL_58603ff00778432bbcea470fe5a82470",
       "max": 34,
       "style": "IPY_MODEL_6319be6312c84a0d8e3cd4c5b2fb2bbf",
       "value": 34
      }
     },
     "a900d1442aad4c5d9585fbf46df36a1d": {
      "model_module": "@jupyter-widgets/base",
      "model_module_version": "1.2.0",
      "model_name": "LayoutModel",
      "state": {}
     },
     "a9e94545e2eb47ada9e364396ab30ffa": {
      "model_module": "@jupyter-widgets/base",
      "model_module_version": "1.2.0",
      "model_name": "LayoutModel",
      "state": {}
     },
     "add9ada76d3941829f3a6cf604423629": {
      "model_module": "@jupyter-widgets/controls",
      "model_module_version": "1.5.0",
      "model_name": "DescriptionStyleModel",
      "state": {
       "description_width": ""
      }
     },
     "ae2eee9c8130478587aec23e129d354c": {
      "model_module": "@jupyter-widgets/controls",
      "model_module_version": "1.5.0",
      "model_name": "HTMLModel",
      "state": {
       "layout": "IPY_MODEL_b40594ac20cb4ef5a56cf5c8b468d6ed",
       "style": "IPY_MODEL_b5118a236a8b4be6870b8240a04398b1",
       "value": "Executing: 100%"
      }
     },
     "ae5d597e592d4d82a431fa06fce82741": {
      "model_module": "@jupyter-widgets/controls",
      "model_module_version": "1.5.0",
      "model_name": "HTMLModel",
      "state": {
       "layout": "IPY_MODEL_6f7cb65f66eb4aaab14130b48c349430",
       "style": "IPY_MODEL_53b39859c34f4c38913d3cb5de5f08d1",
       "value": "Executing: 100%"
      }
     },
     "ae70be4383774eaa85e64c8333f17229": {
      "model_module": "@jupyter-widgets/controls",
      "model_module_version": "1.5.0",
      "model_name": "HBoxModel",
      "state": {
       "children": [
        "IPY_MODEL_e5d0403e04dd493abaac773a05dd0491",
        "IPY_MODEL_cf5606ebe3ff490a8de32353eb1f57fd",
        "IPY_MODEL_b867d4d57a044af3a3621549f277f974"
       ],
       "layout": "IPY_MODEL_f89bf51433d344ec9879246d7f4fcc9b"
      }
     },
     "afa2c0945ff94e549c65c294172a2d56": {
      "model_module": "@jupyter-widgets/base",
      "model_module_version": "1.2.0",
      "model_name": "LayoutModel",
      "state": {}
     },
     "b05bc0a0add14489982ade7b98566f7d": {
      "model_module": "@jupyter-widgets/controls",
      "model_module_version": "1.5.0",
      "model_name": "DescriptionStyleModel",
      "state": {
       "description_width": ""
      }
     },
     "b15063a246964fbe89694e7b608297a0": {
      "model_module": "@jupyter-widgets/base",
      "model_module_version": "1.2.0",
      "model_name": "LayoutModel",
      "state": {}
     },
     "b1526bdaf9a0458d9fc2547e74736209": {
      "model_module": "@jupyter-widgets/base",
      "model_module_version": "1.2.0",
      "model_name": "LayoutModel",
      "state": {}
     },
     "b2165fe3ecc54ef491e3e963064ca513": {
      "model_module": "@jupyter-widgets/base",
      "model_module_version": "1.2.0",
      "model_name": "LayoutModel",
      "state": {}
     },
     "b3f04390d79a4fdc88fcf7a1dc0faf36": {
      "model_module": "@jupyter-widgets/base",
      "model_module_version": "1.2.0",
      "model_name": "LayoutModel",
      "state": {}
     },
     "b40594ac20cb4ef5a56cf5c8b468d6ed": {
      "model_module": "@jupyter-widgets/base",
      "model_module_version": "1.2.0",
      "model_name": "LayoutModel",
      "state": {}
     },
     "b4261ea2b4fa477cb4eb5c76c91dc164": {
      "model_module": "@jupyter-widgets/controls",
      "model_module_version": "1.5.0",
      "model_name": "ProgressStyleModel",
      "state": {
       "description_width": ""
      }
     },
     "b487f7aa72894c55bf8f9c36257229cf": {
      "model_module": "@jupyter-widgets/controls",
      "model_module_version": "1.5.0",
      "model_name": "DescriptionStyleModel",
      "state": {
       "description_width": ""
      }
     },
     "b4c290c7482442979eb695b74a282f47": {
      "model_module": "@jupyter-widgets/controls",
      "model_module_version": "1.5.0",
      "model_name": "DescriptionStyleModel",
      "state": {
       "description_width": ""
      }
     },
     "b5118a236a8b4be6870b8240a04398b1": {
      "model_module": "@jupyter-widgets/controls",
      "model_module_version": "1.5.0",
      "model_name": "DescriptionStyleModel",
      "state": {
       "description_width": ""
      }
     },
     "b62db178984a489b976c13639c5784d3": {
      "model_module": "@jupyter-widgets/base",
      "model_module_version": "1.2.0",
      "model_name": "LayoutModel",
      "state": {}
     },
     "b6cfb128cadb4f71a140ee57bc03ce87": {
      "model_module": "@jupyter-widgets/controls",
      "model_module_version": "1.5.0",
      "model_name": "HBoxModel",
      "state": {
       "children": [
        "IPY_MODEL_02e70028dab94d79b8e0b3a6c92a7930",
        "IPY_MODEL_d0cc78a3ef2e47149c47fe27a81eb12d",
        "IPY_MODEL_8491bdea76774b30ba7631429b758357"
       ],
       "layout": "IPY_MODEL_65d8c3f03c114215bdccebb4a3e92eeb"
      }
     },
     "b7c4debf51c24fc69baa24a908d46e66": {
      "model_module": "@jupyter-widgets/controls",
      "model_module_version": "1.5.0",
      "model_name": "ProgressStyleModel",
      "state": {
       "description_width": ""
      }
     },
     "b7dcfcd8580848afaff18b3969d803d2": {
      "model_module": "@jupyter-widgets/base",
      "model_module_version": "1.2.0",
      "model_name": "LayoutModel",
      "state": {}
     },
     "b80eed7f9ee2464ba125f99f04ed9588": {
      "model_module": "@jupyter-widgets/base",
      "model_module_version": "1.2.0",
      "model_name": "LayoutModel",
      "state": {}
     },
     "b867d4d57a044af3a3621549f277f974": {
      "model_module": "@jupyter-widgets/controls",
      "model_module_version": "1.5.0",
      "model_name": "HTMLModel",
      "state": {
       "layout": "IPY_MODEL_4a16f7d4bfcd45848a164af64e8edde6",
       "style": "IPY_MODEL_3aacab45f5484c388c9376056364cec6",
       "value": " 34/34 [01:31&lt;00:00,  1.09cell/s]"
      }
     },
     "bf6ec0eb7efe48059d845a6462a6a804": {
      "model_module": "@jupyter-widgets/controls",
      "model_module_version": "1.5.0",
      "model_name": "FloatProgressModel",
      "state": {
       "bar_style": "success",
       "layout": "IPY_MODEL_e566848e869f4310a30a4f1f56514810",
       "max": 34,
       "style": "IPY_MODEL_f76f2f45b2a64a88a45008f6cd6d3fe3",
       "value": 34
      }
     },
     "bfa08904790a4200ad59c3d5866fc6ac": {
      "model_module": "@jupyter-widgets/controls",
      "model_module_version": "1.5.0",
      "model_name": "DescriptionStyleModel",
      "state": {
       "description_width": ""
      }
     },
     "c209d9be175f40c1a273fbb7655245bd": {
      "model_module": "@jupyter-widgets/controls",
      "model_module_version": "1.5.0",
      "model_name": "HBoxModel",
      "state": {
       "children": [
        "IPY_MODEL_54d8e596cbb34c6f8318cbab29c1db7a",
        "IPY_MODEL_28323a09ea13484d9c548d1f0fdc4679",
        "IPY_MODEL_1991b0d6021e495382bb1310ded1d907"
       ],
       "layout": "IPY_MODEL_f1091b809ee94fd58923dedbfd94b4e3"
      }
     },
     "c4189ea3c98349e5bf88fc993578de9f": {
      "model_module": "@jupyter-widgets/controls",
      "model_module_version": "1.5.0",
      "model_name": "HTMLModel",
      "state": {
       "layout": "IPY_MODEL_9aaa0f4e6e4c47b7942e5a4bfc0e6f50",
       "style": "IPY_MODEL_6a6ea17f0b044ea1806f64da29e0560a",
       "value": "Executing: 100%"
      }
     },
     "cc0a39e6c50942c88a988fa8fa8898ce": {
      "model_module": "@jupyter-widgets/base",
      "model_module_version": "1.2.0",
      "model_name": "LayoutModel",
      "state": {}
     },
     "cc3dea3467a8495581c169913310ef62": {
      "model_module": "@jupyter-widgets/controls",
      "model_module_version": "1.5.0",
      "model_name": "HTMLModel",
      "state": {
       "layout": "IPY_MODEL_f5b161c40dc747fcbdec08b7ab4f6a26",
       "style": "IPY_MODEL_a4bd16b4c20c409b800ab0cae589d9a2",
       "value": " 34/34 [01:33&lt;00:00,  1.02s/cell]"
      }
     },
     "cc6613104892481696d6a0f61fb3b238": {
      "model_module": "@jupyter-widgets/controls",
      "model_module_version": "1.5.0",
      "model_name": "FloatProgressModel",
      "state": {
       "bar_style": "success",
       "layout": "IPY_MODEL_000a0f64a926466c9aefa27c56e9d375",
       "max": 34,
       "style": "IPY_MODEL_4e8bb3335ada49b883bbab2e34dd8967",
       "value": 34
      }
     },
     "ccf74d23ce6d469c883d2dd3a0e7a481": {
      "model_module": "@jupyter-widgets/controls",
      "model_module_version": "1.5.0",
      "model_name": "HTMLModel",
      "state": {
       "layout": "IPY_MODEL_b3f04390d79a4fdc88fcf7a1dc0faf36",
       "style": "IPY_MODEL_01b1ea0b610b4cb9b0f562c752c9a8ea",
       "value": " 34/34 [01:43&lt;00:00,  1.01s/cell]"
      }
     },
     "ce914555a5104628a1dce57eec002d06": {
      "model_module": "@jupyter-widgets/base",
      "model_module_version": "1.2.0",
      "model_name": "LayoutModel",
      "state": {}
     },
     "cf5606ebe3ff490a8de32353eb1f57fd": {
      "model_module": "@jupyter-widgets/controls",
      "model_module_version": "1.5.0",
      "model_name": "FloatProgressModel",
      "state": {
       "bar_style": "success",
       "layout": "IPY_MODEL_d81b11fc075d4914b31f9a2b1a3f02dc",
       "max": 34,
       "style": "IPY_MODEL_a01c61ccdfdc4002a8448d963c2b0f67",
       "value": 34
      }
     },
     "d0cc78a3ef2e47149c47fe27a81eb12d": {
      "model_module": "@jupyter-widgets/controls",
      "model_module_version": "1.5.0",
      "model_name": "FloatProgressModel",
      "state": {
       "bar_style": "success",
       "layout": "IPY_MODEL_3c569f066a7f4fa6b4892d6565498bc6",
       "max": 34,
       "style": "IPY_MODEL_f0a4342b66de45cf859327fb1a8a53cd",
       "value": 34
      }
     },
     "d1c397cad72c4defb8d7eeb199605473": {
      "model_module": "@jupyter-widgets/controls",
      "model_module_version": "1.5.0",
      "model_name": "HBoxModel",
      "state": {
       "children": [
        "IPY_MODEL_ae5d597e592d4d82a431fa06fce82741",
        "IPY_MODEL_a834aabc5cc24f309292f3fd97d40879",
        "IPY_MODEL_79a366954d9d4bdb8a42ff5ef523d7e3"
       ],
       "layout": "IPY_MODEL_7e11b2bc265f4639b2ca7a7038ce954f"
      }
     },
     "d2100d4dd08c4fcea51f4a9a575f110f": {
      "model_module": "@jupyter-widgets/controls",
      "model_module_version": "1.5.0",
      "model_name": "HTMLModel",
      "state": {
       "layout": "IPY_MODEL_007f88aaf42c42b8be69fa8624dcb758",
       "style": "IPY_MODEL_d79bc351f1984789a886b3f9a4d8c874",
       "value": "Executing: 100%"
      }
     },
     "d2f205e386774b6fa499e9c25ad8635b": {
      "model_module": "@jupyter-widgets/base",
      "model_module_version": "1.2.0",
      "model_name": "LayoutModel",
      "state": {}
     },
     "d79adac961af49259a3539995b815637": {
      "model_module": "@jupyter-widgets/controls",
      "model_module_version": "1.5.0",
      "model_name": "HTMLModel",
      "state": {
       "layout": "IPY_MODEL_39736e51e5ab4c7ea8d86474edd76fe4",
       "style": "IPY_MODEL_4e8d1d8426b74676a17fa3494736e556",
       "value": "Executing: 100%"
      }
     },
     "d79bc351f1984789a886b3f9a4d8c874": {
      "model_module": "@jupyter-widgets/controls",
      "model_module_version": "1.5.0",
      "model_name": "DescriptionStyleModel",
      "state": {
       "description_width": ""
      }
     },
     "d81b11fc075d4914b31f9a2b1a3f02dc": {
      "model_module": "@jupyter-widgets/base",
      "model_module_version": "1.2.0",
      "model_name": "LayoutModel",
      "state": {}
     },
     "d821a0384b574693966e559fd2c19125": {
      "model_module": "@jupyter-widgets/controls",
      "model_module_version": "1.5.0",
      "model_name": "HTMLModel",
      "state": {
       "layout": "IPY_MODEL_32a2a355cf5a4127b394c85b95d6eb2b",
       "style": "IPY_MODEL_b487f7aa72894c55bf8f9c36257229cf",
       "value": " 34/34 [01:44&lt;00:00,  1.09cell/s]"
      }
     },
     "dde574dacd7a4a1bb95ae55e5fe74c75": {
      "model_module": "@jupyter-widgets/controls",
      "model_module_version": "1.5.0",
      "model_name": "DescriptionStyleModel",
      "state": {
       "description_width": ""
      }
     },
     "dfa46061006f4524a06e32d22d3f9383": {
      "model_module": "@jupyter-widgets/base",
      "model_module_version": "1.2.0",
      "model_name": "LayoutModel",
      "state": {}
     },
     "e237e61779dc4ff08c22bb8cf1d60129": {
      "model_module": "@jupyter-widgets/controls",
      "model_module_version": "1.5.0",
      "model_name": "DescriptionStyleModel",
      "state": {
       "description_width": ""
      }
     },
     "e566848e869f4310a30a4f1f56514810": {
      "model_module": "@jupyter-widgets/base",
      "model_module_version": "1.2.0",
      "model_name": "LayoutModel",
      "state": {}
     },
     "e5d0403e04dd493abaac773a05dd0491": {
      "model_module": "@jupyter-widgets/controls",
      "model_module_version": "1.5.0",
      "model_name": "HTMLModel",
      "state": {
       "layout": "IPY_MODEL_9fe220a8a5e64eab95656ae34d4edbf5",
       "style": "IPY_MODEL_9f95cc37adce4125a46a506c49754936",
       "value": "Executing: 100%"
      }
     },
     "e7077613dbf4489db60e71d59997fefd": {
      "model_module": "@jupyter-widgets/controls",
      "model_module_version": "1.5.0",
      "model_name": "ProgressStyleModel",
      "state": {
       "description_width": ""
      }
     },
     "ea799eb488674d22a449f71c2b396c81": {
      "model_module": "@jupyter-widgets/controls",
      "model_module_version": "1.5.0",
      "model_name": "FloatProgressModel",
      "state": {
       "bar_style": "danger",
       "layout": "IPY_MODEL_cc0a39e6c50942c88a988fa8fa8898ce",
       "max": 34,
       "style": "IPY_MODEL_ee180aeeaacb4367bc52ce46de850b6a",
       "value": 16
      }
     },
     "edf7e4d92bbe474a9ce0fa51c360acba": {
      "model_module": "@jupyter-widgets/controls",
      "model_module_version": "1.5.0",
      "model_name": "HTMLModel",
      "state": {
       "layout": "IPY_MODEL_52f2eae5c3e447829f49f24a72fc34af",
       "style": "IPY_MODEL_04f29057604045acb9e569a561fde17b",
       "value": "Executing: 100%"
      }
     },
     "ee180aeeaacb4367bc52ce46de850b6a": {
      "model_module": "@jupyter-widgets/controls",
      "model_module_version": "1.5.0",
      "model_name": "ProgressStyleModel",
      "state": {
       "description_width": ""
      }
     },
     "ee819700200c4fd598075cb1d805fa8b": {
      "model_module": "@jupyter-widgets/controls",
      "model_module_version": "1.5.0",
      "model_name": "HBoxModel",
      "state": {
       "children": [
        "IPY_MODEL_c4189ea3c98349e5bf88fc993578de9f",
        "IPY_MODEL_ee909fbc881f4ea7927869de90f3294a",
        "IPY_MODEL_8044586d95a744f78872105932fce86c"
       ],
       "layout": "IPY_MODEL_98fc0c88a89545eda1fddaabf323a7ef"
      }
     },
     "ee909fbc881f4ea7927869de90f3294a": {
      "model_module": "@jupyter-widgets/controls",
      "model_module_version": "1.5.0",
      "model_name": "FloatProgressModel",
      "state": {
       "bar_style": "success",
       "layout": "IPY_MODEL_0f12a37cb4ac4953a8177bbd2fd344b6",
       "max": 34,
       "style": "IPY_MODEL_36815881567c465cb29054ff4e6b7db0",
       "value": 34
      }
     },
     "ee9d7e99360345e4a9b4a3877337d92e": {
      "model_module": "@jupyter-widgets/controls",
      "model_module_version": "1.5.0",
      "model_name": "HBoxModel",
      "state": {
       "children": [
        "IPY_MODEL_fed9bb850def4b599beeddcd08b3bb9d",
        "IPY_MODEL_ea799eb488674d22a449f71c2b396c81",
        "IPY_MODEL_fc48bb6c85f44bbb85bd55e1fbcff441"
       ],
       "layout": "IPY_MODEL_b1526bdaf9a0458d9fc2547e74736209"
      }
     },
     "ef0a979a19c2485aa8938a4ba06f8af7": {
      "model_module": "@jupyter-widgets/base",
      "model_module_version": "1.2.0",
      "model_name": "LayoutModel",
      "state": {}
     },
     "ef2080a3c69843e2aa5a865e2aca4906": {
      "model_module": "@jupyter-widgets/controls",
      "model_module_version": "1.5.0",
      "model_name": "ProgressStyleModel",
      "state": {
       "description_width": ""
      }
     },
     "f08c02a7e6e54033809a64173d194b93": {
      "model_module": "@jupyter-widgets/controls",
      "model_module_version": "1.5.0",
      "model_name": "HBoxModel",
      "state": {
       "children": [
        "IPY_MODEL_d79adac961af49259a3539995b815637",
        "IPY_MODEL_bf6ec0eb7efe48059d845a6462a6a804",
        "IPY_MODEL_5078eda2bc594eaf8f13321f3004b929"
       ],
       "layout": "IPY_MODEL_afa2c0945ff94e549c65c294172a2d56"
      }
     },
     "f0a4342b66de45cf859327fb1a8a53cd": {
      "model_module": "@jupyter-widgets/controls",
      "model_module_version": "1.5.0",
      "model_name": "ProgressStyleModel",
      "state": {
       "description_width": ""
      }
     },
     "f1091b809ee94fd58923dedbfd94b4e3": {
      "model_module": "@jupyter-widgets/base",
      "model_module_version": "1.2.0",
      "model_name": "LayoutModel",
      "state": {}
     },
     "f1ff2c1d829a4d6eb7250abb13aeecd8": {
      "model_module": "@jupyter-widgets/base",
      "model_module_version": "1.2.0",
      "model_name": "LayoutModel",
      "state": {}
     },
     "f3b7eda21acd49eaa75a66de3f105d7b": {
      "model_module": "@jupyter-widgets/controls",
      "model_module_version": "1.5.0",
      "model_name": "FloatProgressModel",
      "state": {
       "bar_style": "success",
       "layout": "IPY_MODEL_7648f760027c4e5faa8b3372cfe1a7cf",
       "max": 34,
       "style": "IPY_MODEL_67f2f36982c74b20931c1791473a9604",
       "value": 34
      }
     },
     "f5b161c40dc747fcbdec08b7ab4f6a26": {
      "model_module": "@jupyter-widgets/base",
      "model_module_version": "1.2.0",
      "model_name": "LayoutModel",
      "state": {}
     },
     "f76f2f45b2a64a88a45008f6cd6d3fe3": {
      "model_module": "@jupyter-widgets/controls",
      "model_module_version": "1.5.0",
      "model_name": "ProgressStyleModel",
      "state": {
       "description_width": ""
      }
     },
     "f89bf51433d344ec9879246d7f4fcc9b": {
      "model_module": "@jupyter-widgets/base",
      "model_module_version": "1.2.0",
      "model_name": "LayoutModel",
      "state": {}
     },
     "fc48bb6c85f44bbb85bd55e1fbcff441": {
      "model_module": "@jupyter-widgets/controls",
      "model_module_version": "1.5.0",
      "model_name": "HTMLModel",
      "state": {
       "layout": "IPY_MODEL_fefbf23d96a649b2b1a3307c9fc54670",
       "style": "IPY_MODEL_89d50cde9e8f4371a955db791dd8b4de",
       "value": " 16/34 [00:46&lt;01:07,  3.73s/cell]"
      }
     },
     "fce8610cd77d4faaa65ced7953f73e19": {
      "model_module": "@jupyter-widgets/controls",
      "model_module_version": "1.5.0",
      "model_name": "FloatProgressModel",
      "state": {
       "bar_style": "success",
       "layout": "IPY_MODEL_67d83a3f470948baaa27b78c6815ea1e",
       "max": 34,
       "style": "IPY_MODEL_ef2080a3c69843e2aa5a865e2aca4906",
       "value": 34
      }
     },
     "fe8c314282ba4980968f79fe78c280e5": {
      "model_module": "@jupyter-widgets/controls",
      "model_module_version": "1.5.0",
      "model_name": "DescriptionStyleModel",
      "state": {
       "description_width": ""
      }
     },
     "fed9bb850def4b599beeddcd08b3bb9d": {
      "model_module": "@jupyter-widgets/controls",
      "model_module_version": "1.5.0",
      "model_name": "HTMLModel",
      "state": {
       "layout": "IPY_MODEL_3b8164ca3504471488df15cc11c62ac5",
       "style": "IPY_MODEL_70b6c08c8be840a38c1bd2701ab91583",
       "value": "Executing:  47%"
      }
     },
     "fefbf23d96a649b2b1a3307c9fc54670": {
      "model_module": "@jupyter-widgets/base",
      "model_module_version": "1.2.0",
      "model_name": "LayoutModel",
      "state": {}
     }
    },
    "version_major": 2,
    "version_minor": 0
   }
  }
 },
 "nbformat": 4,
 "nbformat_minor": 4
}
