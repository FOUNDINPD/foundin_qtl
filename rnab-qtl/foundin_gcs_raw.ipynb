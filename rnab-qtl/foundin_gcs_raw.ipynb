{
 "cells": [
  {
   "cell_type": "markdown",
   "metadata": {},
   "source": [
    "## FOUNDIN notebook for handling movement of GCS raw files"
   ]
  },
  {
   "cell_type": "code",
   "execution_count": 1,
   "metadata": {},
   "outputs": [],
   "source": [
    "# set notebook global variables\n",
    "local_work_dir = '/labseq/projects/ppmi/foundin'\n",
    "cohort = 'foundin'\n",
    "gcp_project_id = 'foundin-pd'\n",
    "gcp_user = 'gibbsr'"
   ]
  },
  {
   "cell_type": "markdown",
   "metadata": {},
   "source": [
    "#### import libraries and modules"
   ]
  },
  {
   "cell_type": "code",
   "execution_count": 2,
   "metadata": {},
   "outputs": [],
   "source": [
    "# import modin.pandas as pd\n",
    "import pandas as pd"
   ]
  },
  {
   "cell_type": "markdown",
   "metadata": {},
   "source": [
    "### define helper functions for use in notebooks"
   ]
  },
  {
   "cell_type": "code",
   "execution_count": 3,
   "metadata": {},
   "outputs": [],
   "source": [
    "# function to generate gcloud move commands between buckets with rename\n",
    "def move_fastqs_between_buckets(in_file, script_name, bucket_name, out_path, \\\n",
    "                                ids_dict, id_index=0, snum_index=1, lane_index=2, \\\n",
    "                                read_index=3, file_type_index=4):\n",
    "    temp_script_file = f'{local_work_dir}/{script_name}.sh'\n",
    "\n",
    "    with open(fastqs_list_file, 'r') as fastqs_file:\n",
    "        with open(temp_script_file, 'w') as script_file:\n",
    "            for line in fastqs_file:\n",
    "                fastq_name = line.strip().replace(f'{bucket_name}/','')\n",
    "                fastq_parts = fastq_name.split('_')\n",
    "                #expect fastq parts ID, S#, L#, R#, fastq.ext\n",
    "                if fastq_parts[id_index] in ids_dict:\n",
    "                    newID = ids_dict[fastq_parts[id_index]]\n",
    "                    out_fastq = f'{out_path}/{newID}_{fastq_parts[snum_index]}_\\\n",
    "{fastq_parts[lane_index]}_{fastq_parts[read_index]}_{fastq_parts[file_type_index]}'\n",
    "                    gcloud_cmd = f'gsutil -mq mv {line.strip()} {out_fastq}'\n",
    "\n",
    "                    script_file.write(f'{gcloud_cmd}\\n')\n",
    "\n",
    "\n",
    "    print('#run these commands at terminal:\\n')\n",
    "    !chmod +x {temp_script_file}\n",
    "    print(f'nohup {temp_script_file} > {local_work_dir}/{script_name}.log &')          "
   ]
  },
  {
   "cell_type": "markdown",
   "metadata": {},
   "source": [
    "## Jan 13 2020"
   ]
  },
  {
   "cell_type": "markdown",
   "metadata": {},
   "source": [
    "#### move Hi-C and scRNA fastqs that USUHS pushed to our pd-genome stagging bucket to one in foundin"
   ]
  },
  {
   "cell_type": "markdown",
   "metadata": {},
   "source": [
    "#### set notebook global variables"
   ]
  },
  {
   "cell_type": "markdown",
   "metadata": {},
   "source": [
    "## Feb 4, 2020"
   ]
  },
  {
   "cell_type": "markdown",
   "metadata": {},
   "source": [
    "#### the previous move of scRNA data had to be redone; USUHS previously did the demultiplexing with Illumina's bcltofastq tools, needed to be done with Cellranger mkfastq\n",
    "\n",
    "so move and rename again"
   ]
  },
  {
   "cell_type": "markdown",
   "metadata": {},
   "source": [
    "## March 3, 2020\n",
    "\n",
    "move and rename the bulk and single-cell ATACseq"
   ]
  },
  {
   "cell_type": "markdown",
   "metadata": {},
   "source": [
    "#### make a USUHS staging bucket in the FOUNDIN GCP project"
   ]
  },
  {
   "cell_type": "code",
   "execution_count": 4,
   "metadata": {},
   "outputs": [
    {
     "name": "stdout",
     "output_type": "stream",
     "text": [
      "gsutil mb -p foundin-pd -c standard gs://usuhs-staging-687dcdd56cc4\n"
     ]
    }
   ],
   "source": [
    "# make a USUHS staging bucket in the FOUNDIN GCP project\n",
    "gcs_stagging_bucket = 'gs://usuhs-staging-687dcdd56cc4'\n",
    "\n",
    "gcloud_cmd = f'gsutil mb -p {gcp_project_id} -c standard {gcs_stagging_bucket}'\n",
    "\n",
    "print(gcloud_cmd)\n",
    "# !{gcloud_cmd}"
   ]
  },
  {
   "cell_type": "markdown",
   "metadata": {},
   "source": [
    "#### move the fastqs, ie for safety copy and confirm then delete"
   ]
  },
  {
   "cell_type": "code",
   "execution_count": 5,
   "metadata": {},
   "outputs": [
    {
     "name": "stdout",
     "output_type": "stream",
     "text": [
      "gsutil -mq cp gs://nihnialng-staging-f745d15a/pC2.NIA.atacSeq.N33.0*/*.fastq.gz gs://usuhs-staging-687dcdd56cc4/\n"
     ]
    }
   ],
   "source": [
    "# copy the fastqs, ie for safety copy and confirm then delete\n",
    "#paths that USUHS push the data too\n",
    "# ori_staging_bucket = 'gs://nihnialng-staging-f745d15a/pC2.NIA.DNA.RNA.N79.fastq.0*'\n",
    "# ori_staging_bucket = 'gs://nihnialng-staging-f745d15a/pC2.10xGenomics.scRNA.N59.0*'\n",
    "# ori_staging_bucket = 'gs://nihnialng-staging-f745d15a/pC2.NIA.N268.0*'\n",
    "ori_staging_bucket = 'gs://nihnialng-staging-f745d15a/pC2.NIA.atacSeq.N33.0*'\n",
    "\n",
    "#copy the fastqs\n",
    "gcloud_cmd = f'gsutil -mq cp {ori_staging_bucket}/*.fastq.gz {gcs_stagging_bucket}/'\n",
    "\n",
    "print(gcloud_cmd)\n",
    "# !{gcloud_cmd}"
   ]
  },
  {
   "cell_type": "code",
   "execution_count": 6,
   "metadata": {},
   "outputs": [
    {
     "name": "stdout",
     "output_type": "stream",
     "text": [
      "gsutil ls -lh gs://nihnialng-staging-f745d15a/pC2.NIA.atacSeq.N33.0*/*.fastq.gz | tail -n 1\n",
      "gsutil ls -lh gs://usuhs-staging-687dcdd56cc4/*.fastq.gz | tail -n 1\n"
     ]
    }
   ],
   "source": [
    "# check that everything looks like it copied over\n",
    "gcloud_cmd = f'gsutil ls -lh {ori_staging_bucket}/*.fastq.gz | tail -n 1'\n",
    "print(gcloud_cmd)\n",
    "# !{gcloud_cmd}\n",
    "\n",
    "gcloud_cmd = f'gsutil ls -lh {gcs_stagging_bucket}/*.fastq.gz | tail -n 1'\n",
    "print(gcloud_cmd)\n",
    "# !{gcloud_cmd}"
   ]
  },
  {
   "cell_type": "markdown",
   "metadata": {},
   "source": [
    "#### rename and move from staging to final dest\n",
    "\n",
    "use nameing info from Xylena and Cornelis"
   ]
  },
  {
   "cell_type": "code",
   "execution_count": 7,
   "metadata": {},
   "outputs": [
    {
     "name": "stdout",
     "output_type": "stream",
     "text": [
      "(400, 6)\n"
     ]
    }
   ],
   "source": [
    "# rename and move from staging to final dest\n",
    "# name_file='FOUNDIN-name-pC2.DNA.RNA.keyTable.csv'\n",
    "name_file='FOUNDIN-name-pC2.ATAC.keyTable.csv'\n",
    "\n",
    "name_mapping_df = pd.read_csv(f'{local_work_dir}/{name_file}')\n",
    "print(name_mapping_df.shape)"
   ]
  },
  {
   "cell_type": "code",
   "execution_count": 8,
   "metadata": {},
   "outputs": [
    {
     "data": {
      "text/plain": [
       "SCAT_PPMI58182_0923_da65_v1    4\n",
       "SCAT_PPMI51518_8710_da65_v1    4\n",
       "SCAT_PPMI51714_7806_da65_v1    4\n",
       "SCAT_PPMI55124_1128_da65_v1    4\n",
       "SCAT_PPMI50086_8366_da65_v1    4\n",
       "                              ..\n",
       "ATAC_PPMI3664_2833_da0_v1      1\n",
       "ATAC_PPMI4109_6049_da65_v1     1\n",
       "ATAC_PPMI51330_4636_da25_v1    1\n",
       "ATAC_PPMI3469_6244_da25_v1     1\n",
       "ATAC_PPMI3453_7504_da65_v1     1\n",
       "Name: Root_Name, Length: 301, dtype: int64"
      ]
     },
     "execution_count": 8,
     "metadata": {},
     "output_type": "execute_result"
    }
   ],
   "source": [
    "name_mapping_df['Root_Name'].value_counts()"
   ]
  },
  {
   "cell_type": "code",
   "execution_count": 9,
   "metadata": {},
   "outputs": [
    {
     "name": "stdout",
     "output_type": "stream",
     "text": [
      "(301, 6)\n"
     ]
    }
   ],
   "source": [
    "# drop the duplicates\n",
    "name_mapping_df.drop_duplicates(subset='Root_Name', keep='first', inplace=True)\n",
    "print(name_mapping_df.shape)"
   ]
  },
  {
   "cell_type": "code",
   "execution_count": 10,
   "metadata": {},
   "outputs": [],
   "source": [
    "# ditch dup indexing on USUHS ID\n",
    "temp_df = name_mapping_df['Sample_ID'].str.split('_', n = 1, expand = True)\n",
    "name_mapping_df['USUHS_ID'] = temp_df[0]"
   ]
  },
  {
   "cell_type": "code",
   "execution_count": 11,
   "metadata": {},
   "outputs": [
    {
     "name": "stdout",
     "output_type": "stream",
     "text": [
      "(301, 5)\n"
     ]
    }
   ],
   "source": [
    "# subset columns\n",
    "name_mapping_df = name_mapping_df[['USUHS_ID', 'runFolder', 'Assay', 'Root_Name', 'Notes']]\n",
    "print(name_mapping_df.shape)"
   ]
  },
  {
   "cell_type": "code",
   "execution_count": 12,
   "metadata": {},
   "outputs": [
    {
     "data": {
      "text/plain": [
       "ATAC    268\n",
       "SCAT     33\n",
       "Name: Assay, dtype: int64"
      ]
     },
     "execution_count": 12,
     "metadata": {},
     "output_type": "execute_result"
    }
   ],
   "source": [
    "name_mapping_df['Assay'].value_counts()"
   ]
  },
  {
   "cell_type": "code",
   "execution_count": 13,
   "metadata": {},
   "outputs": [
    {
     "name": "stdout",
     "output_type": "stream",
     "text": [
      "gsutil ls gs://usuhs-staging-687dcdd56cc4/*.fastq.gz > /labseq/projects/ppmi/foundin/temp.atac.fastq.list\n"
     ]
    }
   ],
   "source": [
    "# get the list of fastqs to rename\n",
    "# fastqs_list_file = f'{local_work_dir}/temp.scrna_hic.fastq.list'\n",
    "fastqs_list_file = f'{local_work_dir}/temp.atac.fastq.list'\n",
    "\n",
    "term_cmd = f'gsutil ls {gcs_stagging_bucket}/*.fastq.gz > {fastqs_list_file}'\n",
    "print(term_cmd)\n",
    "!{term_cmd}"
   ]
  },
  {
   "cell_type": "code",
   "execution_count": null,
   "metadata": {},
   "outputs": [],
   "source": []
  },
  {
   "cell_type": "markdown",
   "metadata": {},
   "source": [
    "#### move the scATACseq fastqs"
   ]
  },
  {
   "cell_type": "code",
   "execution_count": 14,
   "metadata": {},
   "outputs": [
    {
     "name": "stdout",
     "output_type": "stream",
     "text": [
      "#run these commands at terminal:\n",
      "\n",
      "nohup /labseq/projects/ppmi/foundin/move_scatac_fastqs.sh > /labseq/projects/ppmi/foundin/move_scatac_fastqs.log &\n"
     ]
    }
   ],
   "source": [
    "#### move the scATACseq fastqs\n",
    "script_name = 'move_scatac_fastqs'\n",
    "out_bucket_path = 'gs://foundin-raw-assay/ASSAYS/SCAT'\n",
    "\n",
    "hics_df = name_mapping_df.loc[name_mapping_df['Assay'] == 'SCAT']\n",
    "hics_dict = dict(zip(hics_df['USUHS_ID'], hics_df['Root_Name']))\n",
    "\n",
    "move_fastqs_between_buckets(fastqs_list_file, script_name, gcs_stagging_bucket, \\\n",
    "                            out_bucket_path, hics_dict, snum_index=2, lane_index=3, \\\n",
    "                                read_index=4, file_type_index=5)"
   ]
  },
  {
   "cell_type": "markdown",
   "metadata": {},
   "source": [
    "#### move the bulk ATACseq fastqs"
   ]
  },
  {
   "cell_type": "code",
   "execution_count": 37,
   "metadata": {},
   "outputs": [
    {
     "name": "stdout",
     "output_type": "stream",
     "text": [
      "#run these commands at terminal:\n",
      "\n",
      "nohup /labseq/projects/ppmi/foundin/move_atac_fastqs.sh > /labseq/projects/ppmi/foundin/move_atac_fastqs.log &\n"
     ]
    }
   ],
   "source": [
    "#### move the bulk ATACseq fastqs\n",
    "script_name = 'move_atac_fastqs'\n",
    "out_bucket_path = 'gs://foundin-raw-assay/ASSAYS/ATAC'\n",
    "\n",
    "hics_df = name_mapping_df.loc[name_mapping_df['Assay'] == 'ATAC']\n",
    "hics_dict = dict(zip(hics_df['USUHS_ID'], hics_df['Root_Name']))\n",
    "\n",
    "move_fastqs_between_buckets(fastqs_list_file, script_name, gcs_stagging_bucket, \\\n",
    "                            out_bucket_path, hics_dict)"
   ]
  },
  {
   "cell_type": "markdown",
   "metadata": {},
   "source": [
    "#### move the HiC fastqs"
   ]
  },
  {
   "cell_type": "code",
   "execution_count": 170,
   "metadata": {},
   "outputs": [
    {
     "name": "stdout",
     "output_type": "stream",
     "text": [
      "#run these commands at terminal:\n",
      "\n",
      "chmod +x /labseq/projects/ppmi/foundin/move_hic_fastqs.sh\n",
      "nohup /labseq/projects/ppmi/foundin/move_hic_fastqs.sh > /labseq/projects/ppmi/foundin/move_hic_fastqs.log &\n"
     ]
    }
   ],
   "source": [
    "# move the HiC fastqs\n",
    "script_name = 'move_hic_fastqs'\n",
    "out_bucket_path = 'gs://foundin-raw-assay/ASSAYS/HICS'\n",
    "\n",
    "hics_df = name_mapping_df.loc[name_mapping_df['Assay'] == 'HiC']\n",
    "hics_dict = dict(zip(hics_df['USUHS_ID'], hics_df['Root_Name']))\n",
    "\n",
    "move_fastqs_between_buckets(fastqs_list_file, script_name, gcs_stagging_bucket, \\\n",
    "                            out_bucket_path, hics_dict)"
   ]
  },
  {
   "cell_type": "markdown",
   "metadata": {},
   "source": [
    "#### move the scRNA fastqs"
   ]
  },
  {
   "cell_type": "code",
   "execution_count": 20,
   "metadata": {},
   "outputs": [
    {
     "name": "stdout",
     "output_type": "stream",
     "text": [
      "#run these commands at terminal:\n",
      "\n",
      "chmod +x /labseq/projects/ppmi/foundin/move_scrna_fastqs.sh\n",
      "nohup /labseq/projects/ppmi/foundin/move_scrna_fastqs.sh > /labseq/projects/ppmi/foundin/move_scrna_fastqs.log &\n"
     ]
    }
   ],
   "source": [
    "# move the scRNA fastqs\n",
    "script_name = 'move_scrna_fastqs'\n",
    "out_bucket_path = 'gs://foundin-raw-assay/ASSAYS/SCRN/Batch_3_4_5'\n",
    "\n",
    "scrn_df = name_mapping_df.loc[name_mapping_df['Assay'] == 'scRNAseq']\n",
    "scrn_dict = dict(zip(scrn_df['USUHS_ID'], scrn_df['Root_Name']))\n",
    "\n",
    "move_fastqs_between_buckets(fastqs_list_file, script_name, gcs_stagging_bucket, \\\n",
    "                            out_bucket_path, scrn_dict)"
   ]
  },
  {
   "cell_type": "code",
   "execution_count": 46,
   "metadata": {},
   "outputs": [
    {
     "data": {
      "text/html": [
       "<div>\n",
       "<style scoped>\n",
       "    .dataframe tbody tr th:only-of-type {\n",
       "        vertical-align: middle;\n",
       "    }\n",
       "\n",
       "    .dataframe tbody tr th {\n",
       "        vertical-align: top;\n",
       "    }\n",
       "\n",
       "    .dataframe thead th {\n",
       "        text-align: right;\n",
       "    }\n",
       "</style>\n",
       "<table border=\"1\" class=\"dataframe\">\n",
       "  <thead>\n",
       "    <tr style=\"text-align: right;\">\n",
       "      <th></th>\n",
       "      <th>USUHS_ID</th>\n",
       "      <th>runFolder</th>\n",
       "      <th>Assay</th>\n",
       "      <th>Root_Name</th>\n",
       "      <th>Notes</th>\n",
       "    </tr>\n",
       "  </thead>\n",
       "  <tbody>\n",
       "    <tr>\n",
       "      <th>20</th>\n",
       "      <td>NaN</td>\n",
       "      <td>191219_N06_0148_BH2JJYDSXY</td>\n",
       "      <td>scRNAseq</td>\n",
       "      <td>SCRN_PPMI3220_6139_da65_v1</td>\n",
       "      <td>NaN</td>\n",
       "    </tr>\n",
       "    <tr>\n",
       "      <th>24</th>\n",
       "      <td>NaN</td>\n",
       "      <td>191219_N06_0148_BH2JJYDSXY</td>\n",
       "      <td>scRNAseq</td>\n",
       "      <td>SCRN_PPMI3411_0083_da65_v1</td>\n",
       "      <td>NaN</td>\n",
       "    </tr>\n",
       "    <tr>\n",
       "      <th>28</th>\n",
       "      <td>NaN</td>\n",
       "      <td>191219_N06_0148_BH2JJYDSXY</td>\n",
       "      <td>scRNAseq</td>\n",
       "      <td>SCRN_PPMI3419_0298_da65_v1</td>\n",
       "      <td>NaN</td>\n",
       "    </tr>\n",
       "    <tr>\n",
       "      <th>32</th>\n",
       "      <td>NaN</td>\n",
       "      <td>191219_N06_0148_BH2JJYDSXY</td>\n",
       "      <td>scRNAseq</td>\n",
       "      <td>SCRN_PPMI3422_1260_da65_v1</td>\n",
       "      <td>NaN</td>\n",
       "    </tr>\n",
       "    <tr>\n",
       "      <th>36</th>\n",
       "      <td>NaN</td>\n",
       "      <td>191219_N06_0148_BH2JJYDSXY</td>\n",
       "      <td>scRNAseq</td>\n",
       "      <td>SCRN_PPMI3448_2397_da65_v1</td>\n",
       "      <td>NaN</td>\n",
       "    </tr>\n",
       "  </tbody>\n",
       "</table>\n",
       "</div>"
      ],
      "text/plain": [
       "   USUHS_ID                   runFolder     Assay                   Root_Name  \\\n",
       "20      NaN  191219_N06_0148_BH2JJYDSXY  scRNAseq  SCRN_PPMI3220_6139_da65_v1   \n",
       "24      NaN  191219_N06_0148_BH2JJYDSXY  scRNAseq  SCRN_PPMI3411_0083_da65_v1   \n",
       "28      NaN  191219_N06_0148_BH2JJYDSXY  scRNAseq  SCRN_PPMI3419_0298_da65_v1   \n",
       "32      NaN  191219_N06_0148_BH2JJYDSXY  scRNAseq  SCRN_PPMI3422_1260_da65_v1   \n",
       "36      NaN  191219_N06_0148_BH2JJYDSXY  scRNAseq  SCRN_PPMI3448_2397_da65_v1   \n",
       "\n",
       "   Notes  \n",
       "20   NaN  \n",
       "24   NaN  \n",
       "28   NaN  \n",
       "32   NaN  \n",
       "36   NaN  "
      ]
     },
     "execution_count": 46,
     "metadata": {},
     "output_type": "execute_result"
    }
   ],
   "source": [
    "scrn_df.head()"
   ]
  },
  {
   "cell_type": "code",
   "execution_count": 44,
   "metadata": {},
   "outputs": [
    {
     "data": {
      "text/html": [
       "<div>\n",
       "<style scoped>\n",
       "    .dataframe tbody tr th:only-of-type {\n",
       "        vertical-align: middle;\n",
       "    }\n",
       "\n",
       "    .dataframe tbody tr th {\n",
       "        vertical-align: top;\n",
       "    }\n",
       "\n",
       "    .dataframe thead th {\n",
       "        text-align: right;\n",
       "    }\n",
       "</style>\n",
       "<table border=\"1\" class=\"dataframe\">\n",
       "  <thead>\n",
       "    <tr style=\"text-align: right;\">\n",
       "      <th></th>\n",
       "      <th>0</th>\n",
       "      <th>1</th>\n",
       "    </tr>\n",
       "  </thead>\n",
       "  <tbody>\n",
       "    <tr>\n",
       "      <th>120</th>\n",
       "      <td>C2-49045</td>\n",
       "      <td>1</td>\n",
       "    </tr>\n",
       "  </tbody>\n",
       "</table>\n",
       "</div>"
      ],
      "text/plain": [
       "            0  1\n",
       "120  C2-49045  1"
      ]
     },
     "execution_count": 44,
     "metadata": {},
     "output_type": "execute_result"
    }
   ],
   "source": [
    "temp_df.loc[temp_df[0] == 'C2-49045']"
   ]
  },
  {
   "cell_type": "code",
   "execution_count": null,
   "metadata": {},
   "outputs": [],
   "source": []
  }
 ],
 "metadata": {
  "kernelspec": {
   "display_name": "Python 3",
   "language": "python",
   "name": "python3"
  },
  "language_info": {
   "codemirror_mode": {
    "name": "ipython",
    "version": 3
   },
   "file_extension": ".py",
   "mimetype": "text/x-python",
   "name": "python",
   "nbconvert_exporter": "python",
   "pygments_lexer": "ipython3",
   "version": "3.7.7"
  }
 },
 "nbformat": 4,
 "nbformat_minor": 4
}
