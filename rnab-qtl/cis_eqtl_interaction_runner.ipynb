{
 "cells": [
  {
   "cell_type": "markdown",
   "metadata": {},
   "source": [
    "## Notebook to runner for FOUNDIN-PD running *cis*-eQTL interaction analysis by day via papermill"
   ]
  },
  {
   "cell_type": "code",
   "execution_count": 1,
   "metadata": {},
   "outputs": [
    {
     "name": "stdout",
     "output_type": "stream",
     "text": [
      "Sun Aug  1 22:50:18 UTC 2021\n"
     ]
    }
   ],
   "source": [
    "!date"
   ]
  },
  {
   "cell_type": "markdown",
   "metadata": {},
   "source": [
    "#### import libraries"
   ]
  },
  {
   "cell_type": "code",
   "execution_count": 2,
   "metadata": {},
   "outputs": [],
   "source": [
    "import pandas as pd\n",
    "import os\n",
    "import papermill as pm\n",
    "import shutil"
   ]
  },
  {
   "cell_type": "code",
   "execution_count": 3,
   "metadata": {},
   "outputs": [],
   "source": [
    "# base notebook to be run per tuple iteration\n",
    "base_notebook = '/home/jupyter/notebooks/day_cis_interaction_eqtl_tensorqtl.ipynb'\n",
    "\n",
    "# output path for the generated notebooks\n",
    "out_nb_dir = '/home/jupyter/notebooks'\n",
    "final_out_nb_dir = '/home/jupyter/notebooks/pm_gend_nbs'\n",
    "\n",
    "# setup iteration tuples\n",
    "cohort = 'foundin'\n",
    "version = 'amppdv1'\n",
    "# days = ['da0', 'da25', 'da65']\n",
    "days = ['da25', 'da65']"
   ]
  },
  {
   "cell_type": "markdown",
   "metadata": {},
   "source": [
    "#### iterate over the tuples running the notebook per tuple"
   ]
  },
  {
   "cell_type": "code",
   "execution_count": 4,
   "metadata": {},
   "outputs": [
    {
     "name": "stdout",
     "output_type": "stream",
     "text": [
      "{'cohort': 'foundin', 'version': 'amppdv1', 'day': 'da25'}\n",
      "/home/jupyter/notebooks/foundin_da25_cis_interaction_eqtl.ipynb\n"
     ]
    },
    {
     "data": {
      "application/vnd.jupyter.widget-view+json": {
       "model_id": "b1bf96851b8f4cc7a5fa12f482f0ac07",
       "version_major": 2,
       "version_minor": 0
      },
      "text/plain": [
       "Executing:   0%|          | 0/33 [00:00<?, ?cell/s]"
      ]
     },
     "metadata": {},
     "output_type": "display_data"
    },
    {
     "name": "stderr",
     "output_type": "stream",
     "text": [
      "Autosave too slow: 8.13 sec, over 25% limit. Backing off to 60 sec\n"
     ]
    },
    {
     "name": "stdout",
     "output_type": "stream",
     "text": [
      "{'cohort': 'foundin', 'version': 'amppdv1', 'day': 'da65'}\n",
      "/home/jupyter/notebooks/foundin_da65_cis_interaction_eqtl.ipynb\n"
     ]
    },
    {
     "data": {
      "application/vnd.jupyter.widget-view+json": {
       "model_id": "15702ff2fd934652be4c11eee140884b",
       "version_major": 2,
       "version_minor": 0
      },
      "text/plain": [
       "Executing:   0%|          | 0/33 [00:00<?, ?cell/s]"
      ]
     },
     "metadata": {},
     "output_type": "display_data"
    },
    {
     "name": "stderr",
     "output_type": "stream",
     "text": [
      "Autosave too slow: 7.58 sec, over 25% limit. Backing off to 60 sec\n"
     ]
    },
    {
     "name": "stdout",
     "output_type": "stream",
     "text": [
      "CPU times: user 18min 20s, sys: 7.02 s, total: 18min 27s\n",
      "Wall time: 2h 19min 23s\n"
     ]
    }
   ],
   "source": [
    "%%time\n",
    "# make sure the notebook output dir exists\n",
    "os.makedirs(out_nb_dir, exist_ok=True)\n",
    "\n",
    "for day in days:\n",
    "    # before running prep notebook make expr data for the cohort and visit\n",
    "    param_dict = {'cohort': cohort, 'version': version, 'day': day}\n",
    "    out_notebook = f'{out_nb_dir}/{cohort}_{day}_cis_interaction_eqtl.ipynb'\n",
    "    print(param_dict)\n",
    "    print(out_notebook)\n",
    "    pm.execute_notebook(input_path=base_notebook, output_path=out_notebook, \n",
    "                        parameters=param_dict)"
   ]
  },
  {
   "cell_type": "markdown",
   "metadata": {},
   "source": [
    "#### since I had to reference a local modified tensoreQTL, import used relative path, so have to generated the papermill notebook in a specific path, once done move to a pm_gen'd path"
   ]
  },
  {
   "cell_type": "code",
   "execution_count": 5,
   "metadata": {},
   "outputs": [],
   "source": [
    "for day in days:\n",
    "    gend_out_notebook = f'{out_nb_dir}/{cohort}_{day}_cis_interaction_eqtl.ipynb'\n",
    "    gend_final_notebook = f'{final_out_nb_dir}/{cohort}_{day}_cis_interaction_eqtl.ipynb'\n",
    "    shutil.move(gend_out_notebook, gend_final_notebook)"
   ]
  }
 ],
 "metadata": {
  "environment": {
   "name": "pytorch-gpu.1-7.m65",
   "type": "gcloud",
   "uri": "gcr.io/deeplearning-platform-release/pytorch-gpu.1-7:m65"
  },
  "kernelspec": {
   "display_name": "Python 3",
   "language": "python",
   "name": "python3"
  },
  "language_info": {
   "codemirror_mode": {
    "name": "ipython",
    "version": 3
   },
   "file_extension": ".py",
   "mimetype": "text/x-python",
   "name": "python",
   "nbconvert_exporter": "python",
   "pygments_lexer": "ipython3",
   "version": "3.7.10"
  },
  "widgets": {
   "application/vnd.jupyter.widget-state+json": {
    "state": {
     "0479ef8396274aa2bbc698fd6a29cd73": {
      "model_module": "@jupyter-widgets/base",
      "model_module_version": "1.2.0",
      "model_name": "LayoutModel",
      "state": {}
     },
     "13a3006fbc4b4b42b996ace594b55463": {
      "model_module": "@jupyter-widgets/base",
      "model_module_version": "1.2.0",
      "model_name": "LayoutModel",
      "state": {}
     },
     "15702ff2fd934652be4c11eee140884b": {
      "model_module": "@jupyter-widgets/controls",
      "model_module_version": "1.5.0",
      "model_name": "HBoxModel",
      "state": {
       "children": [
        "IPY_MODEL_f14a28264db04f07a158c46975c0495c",
        "IPY_MODEL_df13793a32274d6bafba04cc70e024f9",
        "IPY_MODEL_9a14c4b0dbb541108fe7253bd5ddd068"
       ],
       "layout": "IPY_MODEL_3b50c86730f348a7bcaf33f115bd38d7"
      }
     },
     "1b387f7f664844ec9518c0c486e1442f": {
      "model_module": "@jupyter-widgets/base",
      "model_module_version": "1.2.0",
      "model_name": "LayoutModel",
      "state": {}
     },
     "2170cade35a6490589ade6c761a4ca97": {
      "model_module": "@jupyter-widgets/controls",
      "model_module_version": "1.5.0",
      "model_name": "DescriptionStyleModel",
      "state": {
       "description_width": ""
      }
     },
     "37633c8c5f8641e8a64c8e4ab4e29ca0": {
      "model_module": "@jupyter-widgets/controls",
      "model_module_version": "1.5.0",
      "model_name": "FloatProgressModel",
      "state": {
       "bar_style": "success",
       "layout": "IPY_MODEL_d4e4c37f6f9c422ead71d817e6a622d5",
       "max": 33,
       "style": "IPY_MODEL_eabe607a0f684f9a862905ab75371a1b",
       "value": 33
      }
     },
     "3b50c86730f348a7bcaf33f115bd38d7": {
      "model_module": "@jupyter-widgets/base",
      "model_module_version": "1.2.0",
      "model_name": "LayoutModel",
      "state": {}
     },
     "72b45db012f145d5a4c3908a14f57fc0": {
      "model_module": "@jupyter-widgets/controls",
      "model_module_version": "1.5.0",
      "model_name": "ProgressStyleModel",
      "state": {
       "description_width": ""
      }
     },
     "7d7f8e4c857540d6865fd707c74a27da": {
      "model_module": "@jupyter-widgets/controls",
      "model_module_version": "1.5.0",
      "model_name": "HTMLModel",
      "state": {
       "layout": "IPY_MODEL_eb1a6071d833404cb2f45e73e9bcefa4",
       "style": "IPY_MODEL_c398192f6b3448c18d66ab05e5c80c44",
       "value": "Executing: 100%"
      }
     },
     "85dc89d3bff3450f9263154a193e65b1": {
      "model_module": "@jupyter-widgets/controls",
      "model_module_version": "1.5.0",
      "model_name": "DescriptionStyleModel",
      "state": {
       "description_width": ""
      }
     },
     "9a14c4b0dbb541108fe7253bd5ddd068": {
      "model_module": "@jupyter-widgets/controls",
      "model_module_version": "1.5.0",
      "model_name": "HTMLModel",
      "state": {
       "layout": "IPY_MODEL_0479ef8396274aa2bbc698fd6a29cd73",
       "style": "IPY_MODEL_2170cade35a6490589ade6c761a4ca97",
       "value": " 33/33 [1:06:08&lt;00:00, 134.04s/cell]"
      }
     },
     "a479d0e122c24e01b17dcebbaddee3fe": {
      "model_module": "@jupyter-widgets/base",
      "model_module_version": "1.2.0",
      "model_name": "LayoutModel",
      "state": {}
     },
     "b05a5695a230459b8ff1ef52444e0050": {
      "model_module": "@jupyter-widgets/base",
      "model_module_version": "1.2.0",
      "model_name": "LayoutModel",
      "state": {}
     },
     "b1bf96851b8f4cc7a5fa12f482f0ac07": {
      "model_module": "@jupyter-widgets/controls",
      "model_module_version": "1.5.0",
      "model_name": "HBoxModel",
      "state": {
       "children": [
        "IPY_MODEL_7d7f8e4c857540d6865fd707c74a27da",
        "IPY_MODEL_37633c8c5f8641e8a64c8e4ab4e29ca0",
        "IPY_MODEL_fd9c35495a694838a4d528e35f575189"
       ],
       "layout": "IPY_MODEL_13a3006fbc4b4b42b996ace594b55463"
      }
     },
     "c398192f6b3448c18d66ab05e5c80c44": {
      "model_module": "@jupyter-widgets/controls",
      "model_module_version": "1.5.0",
      "model_name": "DescriptionStyleModel",
      "state": {
       "description_width": ""
      }
     },
     "d4e4c37f6f9c422ead71d817e6a622d5": {
      "model_module": "@jupyter-widgets/base",
      "model_module_version": "1.2.0",
      "model_name": "LayoutModel",
      "state": {}
     },
     "dccaf21560224ed18706fe005236c12c": {
      "model_module": "@jupyter-widgets/controls",
      "model_module_version": "1.5.0",
      "model_name": "DescriptionStyleModel",
      "state": {
       "description_width": ""
      }
     },
     "df13793a32274d6bafba04cc70e024f9": {
      "model_module": "@jupyter-widgets/controls",
      "model_module_version": "1.5.0",
      "model_name": "FloatProgressModel",
      "state": {
       "bar_style": "success",
       "layout": "IPY_MODEL_1b387f7f664844ec9518c0c486e1442f",
       "max": 33,
       "style": "IPY_MODEL_72b45db012f145d5a4c3908a14f57fc0",
       "value": 33
      }
     },
     "eabe607a0f684f9a862905ab75371a1b": {
      "model_module": "@jupyter-widgets/controls",
      "model_module_version": "1.5.0",
      "model_name": "ProgressStyleModel",
      "state": {
       "description_width": ""
      }
     },
     "eb1a6071d833404cb2f45e73e9bcefa4": {
      "model_module": "@jupyter-widgets/base",
      "model_module_version": "1.2.0",
      "model_name": "LayoutModel",
      "state": {}
     },
     "f14a28264db04f07a158c46975c0495c": {
      "model_module": "@jupyter-widgets/controls",
      "model_module_version": "1.5.0",
      "model_name": "HTMLModel",
      "state": {
       "layout": "IPY_MODEL_a479d0e122c24e01b17dcebbaddee3fe",
       "style": "IPY_MODEL_dccaf21560224ed18706fe005236c12c",
       "value": "Executing: 100%"
      }
     },
     "fd9c35495a694838a4d528e35f575189": {
      "model_module": "@jupyter-widgets/controls",
      "model_module_version": "1.5.0",
      "model_name": "HTMLModel",
      "state": {
       "layout": "IPY_MODEL_b05a5695a230459b8ff1ef52444e0050",
       "style": "IPY_MODEL_85dc89d3bff3450f9263154a193e65b1",
       "value": " 33/33 [1:12:48&lt;00:00, 146.85s/cell]"
      }
     }
    },
    "version_major": 2,
    "version_minor": 0
   }
  }
 },
 "nbformat": 4,
 "nbformat_minor": 4
}
