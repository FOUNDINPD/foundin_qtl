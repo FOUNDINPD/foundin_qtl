{
 "cells": [
  {
   "cell_type": "markdown",
   "metadata": {},
   "source": [
    "## Notebook to scan PD risk and ieQTL results for colocalization"
   ]
  },
  {
   "cell_type": "code",
   "execution_count": null,
   "metadata": {},
   "outputs": [],
   "source": [
    "!date"
   ]
  },
  {
   "cell_type": "markdown",
   "metadata": {},
   "source": [
    "#### import libraries and set notebook variables"
   ]
  },
  {
   "cell_type": "code",
   "execution_count": null,
   "metadata": {},
   "outputs": [],
   "source": [
    "import pandas as pd\n",
    "import numpy as np\n",
    "import statsmodels.api as sm\n",
    "import statsmodels.formula.api as smf\n",
    "import concurrent.futures\n",
    "import seaborn as sns\n",
    "import matplotlib.pyplot as plt"
   ]
  },
  {
   "cell_type": "code",
   "execution_count": null,
   "metadata": {
    "tags": [
     "parameters"
    ]
   },
   "outputs": [],
   "source": [
    "# parameters\n",
    "cohort = 'foundin'\n",
    "interaction_term = 'ProliferatingFloorPlateProgenitors'"
   ]
  },
  {
   "cell_type": "code",
   "execution_count": null,
   "metadata": {},
   "outputs": [],
   "source": [
    "# naming\n",
    "\n",
    "# directories\n",
    "home_dir = '/home/jupyter'\n",
    "wrk_dir = f'{home_dir}/{cohort}/eqtl'\n",
    "expr_dir = f'{wrk_dir}/expression'\n",
    "genos_dir = f'{wrk_dir}/genotypes'\n",
    "tensorqtl_dir = f'{wrk_dir}/tensorqtl'\n",
    "results_dir = f'{wrk_dir}/results'\n",
    "gwas_dir = f'{wrk_dir}/public'\n",
    "\n",
    "# input files\n",
    "gencode_pkl = f'{expr_dir}/gencode_v29.lncipedia_v5_2_hc.annotation.pkl'\n",
    "eqtl_results_file = f'{results_dir}/{cohort}.{interaction_term}.cis.ieqtl.csv'\n",
    "meta5_st2_clean_file = f'{gwas_dir}/pd.table_s2.clean.txt'\n",
    "meta5_stats_file = f'{gwas_dir}/pdmeta_sumstats_hg38.h5'\n",
    "\n",
    "# output files\n",
    "\n",
    "# constant values\n",
    "autosomes = [str(x) for x in list(range(1,23))]\n",
    "alpha_value = 0.05\n",
    "capture_out = !(nproc)\n",
    "max_threads = int(capture_out[0])\n"
   ]
  },
  {
   "cell_type": "markdown",
   "metadata": {},
   "source": [
    "#### analysis functions"
   ]
  },
  {
   "cell_type": "code",
   "execution_count": null,
   "metadata": {},
   "outputs": [],
   "source": [
    "def mixed_model(formula, df, group_name):\n",
    "    model = sm.MixedLM.from_formula(formula, df, groups=df[group_name])\n",
    "    result = model.fit()\n",
    "    return result\n",
    "\n",
    "def regress_tscores_keep(this_df):\n",
    "    ret_value = False\n",
    "    # run the regression, mixed effects model with day as random effect\n",
    "    this_formula = 'gwas_tscore_abs ~ eqtl_tscore_abs'\n",
    "    grouping = 'day'\n",
    "    result = mixed_model(this_formula, this_df, grouping)\n",
    "#     print(result.summary())\n",
    "    term = 'eqtl_tscore_abs'\n",
    "#     print(['feature', 'coef', 'stderr', 'term_cnt', 'p-value'])\n",
    "#     print(result.params[term], result.bse[term], \n",
    "#           result.params.shape[0], result.pvalues[term])    \n",
    "    return [result.params[term], result.bse[term], \n",
    "            result.params.shape[0], result.pvalues[term]]\n",
    "\n",
    "def create_merged_df_to_regress(eqtl_df, pheno_id, gwas_df):\n",
    "    pheno_df = eqtl_df.loc[eqtl_df['phenotype_id'] == pheno_id]\n",
    "    merged_df = pheno_df.merge(gwas_df, how='inner', \n",
    "                               left_on='variant_id', right_on='SNP')\n",
    "    # will test regression on absolute z-score instead of say p-value\n",
    "    merged_df['day'] =  merged_df['day'].astype(object)\n",
    "    merged_df['gwas_tscore_abs'] = np.abs(merged_df['b']/merged_df['se'])\n",
    "    merged_df['eqtl_tscore_abs'] = np.abs(merged_df['b_gi']/merged_df['b_gi_se'])\n",
    "\n",
    "    # for regression will only consider variants that are nominally\n",
    "    # significant in gwas or eqtl\n",
    "    df_to_return = merged_df.loc[(merged_df['pval_gi'] < alpha_value) | \n",
    "                                 (merged_df['p'] < alpha_value)]\n",
    "    #     print(pheno_df.shape, merged_df.shape, alpha_df.shape)\n",
    "    return df_to_return\n",
    "\n",
    "def load_chrom_result(chrom, days, in_dir, cohort, term):\n",
    "    # have to do pass to find all phenos to possible capture\n",
    "    df_to_return = None\n",
    "    phenos_oi = []\n",
    "    for day in days:\n",
    "        chrom_file = f'{in_dir}/{cohort}.{day}.{term}.cis_qtl_pairs.chr{chrom}.parquet'\n",
    "        chrom_eqtl_df = pd.read_parquet(chrom_file)\n",
    "        oi_chrom_eqtl_df = chrom_eqtl_df.loc[chrom_eqtl_df['pval_gi'] < max_pvalue]\n",
    "        oi_results = oi_chrom_eqtl_df.loc[oi_chrom_eqtl_df['variant_id'].isin(variants_oi_df['SNP'])]\n",
    "        phenos_oi = phenos_oi + list(oi_results['phenotype_id'].unique())\n",
    "\n",
    "    # do pass to keep results that belong those phenos\n",
    "    for day in days:\n",
    "        chrom_file = f'{in_dir}/{cohort}.{day}.{term}.cis_qtl_pairs.chr{chrom}.parquet'\n",
    "        chrom_eqtl_df = pd.read_parquet(chrom_file)\n",
    "        possible_results_oi = chrom_eqtl_df.loc[chrom_eqtl_df['phenotype_id'].isin(phenos_oi)].copy()\n",
    "        possible_results_oi['day'] = day\n",
    "        df_to_return = pd.concat([df_to_return, possible_results_oi])\n",
    "    return phenos_oi, df_to_return\n",
    "\n",
    "def process_regression_check(chrom, days, in_dir, cohort, term, gwas_df):\n",
    "    results_to_keep = None\n",
    "    phenos_oi, results_to_test = load_chrom_result(chrom, days, in_dir, cohort, term)\n",
    "    print(f'chr {chrom} shape {results_to_test.shape}')\n",
    "    # display(results_to_test.sample(5))\n",
    "\n",
    "    # test the GWAS~eQTL regression for possible significance\n",
    "    for phenotype_id in phenos_oi:\n",
    "        alpha_df = create_merged_df_to_regress(results_to_test, phenotype_id, gwas_df)\n",
    "\n",
    "        # ['coef', 'stderr', 'term_cnt', 'p-value']\n",
    "        ret_vals = regress_tscores_keep(alpha_df)\n",
    "        # must have postive coefficient and nomically significant p-value\n",
    "        if ret_vals[0] > 0 and ret_vals[3] < alpha_value:\n",
    "            results_to_keep = pd.concat([results_to_keep, alpha_df])\n",
    "    return results_to_keep"
   ]
  },
  {
   "cell_type": "markdown",
   "metadata": {},
   "source": [
    "#### load the gencode annotations"
   ]
  },
  {
   "cell_type": "code",
   "execution_count": null,
   "metadata": {},
   "outputs": [],
   "source": [
    "%%time\n",
    "gencode_df = pd.read_pickle(gencode_pkl)\n",
    "# drop the ont and tag columns\n",
    "discard_cols = gencode_df.columns[(gencode_df.columns.str.startswith('ont:')) |\n",
    "                                (gencode_df.columns.str.startswith('tag:'))]\n",
    "gencode_df.drop(columns=discard_cols, inplace=True)\n",
    "# should only be autosomal but sometimes annotation quirks allow in others, so force\n",
    "gencode_df = gencode_df.loc[(gencode_df['seqname'].str.startswith('chr')) & \n",
    "                           (~gencode_df['seqname'].isin(['chrX','chrY','chrM']))]\n",
    "# every now and again having problem with mics_RNA genes mapping every chrom so drop\n",
    "gencode_df = gencode_df.loc[~gencode_df['gene_type'].isin(['misc_RNA'])]\n",
    "print(gencode_df.shape)\n",
    "display(gencode_df.head())"
   ]
  },
  {
   "cell_type": "markdown",
   "metadata": {},
   "source": [
    "#### load the risk variants of interest"
   ]
  },
  {
   "cell_type": "code",
   "execution_count": null,
   "metadata": {},
   "outputs": [],
   "source": [
    "variants_oi_df = pd.read_csv(meta5_st2_clean_file, sep='\\t')\n",
    "print(variants_oi_df.shape)\n",
    "variants_oi_df.head()"
   ]
  },
  {
   "cell_type": "markdown",
   "metadata": {
    "papermill": {
     "duration": 0.011883,
     "end_time": "2021-06-24T22:33:59.038114",
     "exception": false,
     "start_time": "2021-06-24T22:33:59.026231",
     "status": "completed"
    },
    "tags": []
   },
   "source": [
    "#### load the full gwas summary stats"
   ]
  },
  {
   "cell_type": "code",
   "execution_count": null,
   "metadata": {
    "execution": {
     "iopub.execute_input": "2021-06-24T22:33:59.064270Z",
     "iopub.status.busy": "2021-06-24T22:33:59.063748Z",
     "iopub.status.idle": "2021-06-24T22:34:26.888066Z",
     "shell.execute_reply": "2021-06-24T22:34:26.887533Z"
    },
    "papermill": {
     "duration": 27.839467,
     "end_time": "2021-06-24T22:34:26.888216",
     "exception": false,
     "start_time": "2021-06-24T22:33:59.048749",
     "status": "completed"
    },
    "tags": []
   },
   "outputs": [],
   "source": [
    "%%time\n",
    "gwas_stats_df = pd.read_hdf(meta5_stats_file)\n",
    "print(gwas_stats_df.shape)\n",
    "display(gwas_stats_df.head())"
   ]
  },
  {
   "cell_type": "markdown",
   "metadata": {},
   "source": [
    "#### load the replicated eQTL"
   ]
  },
  {
   "cell_type": "code",
   "execution_count": null,
   "metadata": {},
   "outputs": [],
   "source": [
    "eqtl_df = pd.read_csv(eqtl_results_file)\n",
    "print(eqtl_df.shape)\n",
    "number_genes = len(eqtl_df['phenotype_id'].unique())\n",
    "print(f'replicated eqtl for {number_genes} genes')\n",
    "eqtl_df.head()"
   ]
  },
  {
   "cell_type": "markdown",
   "metadata": {},
   "source": [
    "#### which day are present in the results (typically will be all in cohort)"
   ]
  },
  {
   "cell_type": "code",
   "execution_count": null,
   "metadata": {},
   "outputs": [],
   "source": [
    "days = sorted(list(eqtl_df['day'].unique()))\n",
    "print(days)"
   ]
  },
  {
   "cell_type": "markdown",
   "metadata": {},
   "source": [
    "#### grab the max pval_gi"
   ]
  },
  {
   "cell_type": "code",
   "execution_count": null,
   "metadata": {},
   "outputs": [],
   "source": [
    "max_nominal_pvalue = eqtl_df[eqtl_df['is_sig'] == 1]['pval_gi'].max()\n",
    "try:\n",
    "    max_cnt_pvalue = 0.05/number_genes\n",
    "except ZeroDivisionError:\n",
    "    print('number of genes less than one, switching to raw alpha value')\n",
    "    max_cnt_pvalue = alpha_value\n",
    "    \n",
    "print(f'max_nomical_pvalue == {max_nominal_pvalue}')\n",
    "print(f'max_cnt_pvalue == {max_cnt_pvalue}')\n",
    "\n",
    "max_pvalue = max_nominal_pvalue if max_nominal_pvalue > max_cnt_pvalue else max_cnt_pvalue\n",
    "print(f'max nominal pvalue {max_pvalue}')\n",
    "max_pvalue = 0.001\n",
    "print(f'max hardcoded pvalue {max_pvalue}')"
   ]
  },
  {
   "cell_type": "markdown",
   "metadata": {},
   "source": [
    "#### see if any of the top significant results happen to be risk independent variants"
   ]
  },
  {
   "cell_type": "code",
   "execution_count": null,
   "metadata": {},
   "outputs": [],
   "source": [
    "def check_eqtls_for_variants(eqtl_df, variants_df, gencode_df):\n",
    "    eqtl_variants_oi_df = eqtl_df.loc[eqtl_df['variant_id'].isin(variants_df['SNP'])]\n",
    "    print(eqtl_variants_oi_df.shape)\n",
    "    this_cnt = len(eqtl_variants_oi_df['variant_id'].unique())\n",
    "    print(f'variants {this_cnt}')\n",
    "    print(eqtl_variants_oi_df['variant_id'].unique())\n",
    "    this_cnt = len(eqtl_variants_oi_df['phenotype_id'].unique())\n",
    "    print(f'genes {this_cnt}')\n",
    "    oi_genes = gencode_df.loc[gencode_df['gene_id'].isin(eqtl_variants_oi_df['phenotype_id']), \n",
    "                              ['gene_name']]['gene_name'].unique()\n",
    "    print(oi_genes)\n",
    "    return eqtl_variants_oi_df"
   ]
  },
  {
   "cell_type": "code",
   "execution_count": null,
   "metadata": {},
   "outputs": [],
   "source": [
    "risk_genes = check_eqtls_for_variants(eqtl_df, variants_oi_df, gencode_df)\n",
    "if len(risk_genes) > 0:\n",
    "    display(risk_genes.head())"
   ]
  },
  {
   "cell_type": "markdown",
   "metadata": {},
   "source": [
    "#### now load rest of results and see if risk index variants are eQTL"
   ]
  },
  {
   "cell_type": "code",
   "execution_count": null,
   "metadata": {},
   "outputs": [],
   "source": [
    "import warnings\n",
    "# warnings.filterwarnings(action='once')\n",
    "warnings.filterwarnings('ignore')"
   ]
  },
  {
   "cell_type": "code",
   "execution_count": null,
   "metadata": {},
   "outputs": [],
   "source": [
    "%%time\n",
    "\n",
    "fs_list = []\n",
    "lm_results = []\n",
    "with concurrent.futures.ProcessPoolExecutor(max_workers=max_threads*2) as ppe:\n",
    "    for chrom in autosomes:\n",
    "        fs_list.append(ppe.submit(process_regression_check, chrom, days, \n",
    "                                  tensorqtl_dir, cohort, \n",
    "                                  interaction_term, gwas_stats_df))\n",
    "# for future in concurrent.futures.as_completed(fs_list):\n",
    "#     lm_results.append(future.result())\n",
    "\n",
    "# # flatten the list\n",
    "# results_to_keep = pd.concat([item for item in lm_results])"
   ]
  },
  {
   "cell_type": "code",
   "execution_count": null,
   "metadata": {},
   "outputs": [],
   "source": [
    "for future in concurrent.futures.as_completed(fs_list):\n",
    "    lm_results.append(future.result())\n",
    "\n",
    "# flatten the list\n",
    "results_to_keep = pd.concat([item for item in lm_results])"
   ]
  },
  {
   "cell_type": "code",
   "execution_count": null,
   "metadata": {},
   "outputs": [],
   "source": [
    "print(results_to_keep.shape)\n",
    "display(results_to_keep.head())"
   ]
  },
  {
   "cell_type": "code",
   "execution_count": null,
   "metadata": {},
   "outputs": [],
   "source": [
    "print(len(results_to_keep['phenotype_id'].unique()))\n",
    "print(results_to_keep['phenotype_id'].unique())"
   ]
  },
  {
   "cell_type": "code",
   "execution_count": null,
   "metadata": {},
   "outputs": [],
   "source": [
    "genes_kept  = gencode_df.loc[gencode_df['gene_id'].isin(results_to_keep['phenotype_id']), \n",
    "                             ['gene_name']]['gene_name'].unique()\n",
    "print(len(genes_kept))\n",
    "print(genes_kept)"
   ]
  },
  {
   "cell_type": "code",
   "execution_count": null,
   "metadata": {},
   "outputs": [],
   "source": [
    "import random\n",
    "phenotype_id = random.choice(results_to_keep['phenotype_id'].unique())\n",
    "print(phenotype_id)"
   ]
  },
  {
   "cell_type": "code",
   "execution_count": null,
   "metadata": {},
   "outputs": [],
   "source": [
    "gencode_df.loc[gencode_df['gene_id'] == phenotype_id, \n",
    "               ['gene_name']]['gene_name'].unique()"
   ]
  },
  {
   "cell_type": "code",
   "execution_count": null,
   "metadata": {},
   "outputs": [],
   "source": [
    "# phenotype_id = 'ENSG00000143537.13'\n",
    "# phenotype_id = 'ENSG00000164733.20'\n",
    "temp = results_to_keep.loc[results_to_keep['phenotype_id'] == phenotype_id]\n",
    "print(temp.shape)\n",
    "display(temp.head())"
   ]
  },
  {
   "cell_type": "code",
   "execution_count": null,
   "metadata": {},
   "outputs": [],
   "source": [
    "sns.lmplot(x='gwas_tscore_abs', y='eqtl_tscore_abs', hue='day', data=temp)"
   ]
  },
  {
   "cell_type": "code",
   "execution_count": null,
   "metadata": {},
   "outputs": [],
   "source": [
    "sns.relplot(x='gwas_tscore_abs', \n",
    "            y='eqtl_tscore_abs', \n",
    "            hue='day', alpha=.5, palette=\"dark\", \n",
    "            height=12, data=temp) "
   ]
  },
  {
   "cell_type": "code",
   "execution_count": null,
   "metadata": {},
   "outputs": [],
   "source": [
    "this_formula = 'gwas_tscore_abs ~ eqtl_tscore_abs'\n",
    "grouping = 'day'\n",
    "result = mixed_model(this_formula, temp, grouping)\n",
    "print(result.summary())"
   ]
  },
  {
   "cell_type": "code",
   "execution_count": null,
   "metadata": {},
   "outputs": [],
   "source": [
    "term = 'eqtl_tscore_abs'\n",
    "print(['feature', 'coef', 'stderr', 'term_cnt', 'p-value'])\n",
    "print(result.params[term], result.bse[term], \n",
    "      result.params.shape[0], result.pvalues[term])"
   ]
  },
  {
   "cell_type": "code",
   "execution_count": null,
   "metadata": {},
   "outputs": [],
   "source": [
    "this_formula = 'gwas_tscore_abs ~ eqtl_tscore_abs'\n",
    "reg_model = smf.ols(this_formula, data=temp).fit()\n",
    "print(reg_model.summary())"
   ]
  },
  {
   "cell_type": "code",
   "execution_count": null,
   "metadata": {},
   "outputs": [],
   "source": [
    "this_formula = 'gwas_tscore_abs ~ eqtl_tscore_abs + day'\n",
    "reg_model = smf.ols(this_formula, data=temp).fit()\n",
    "print(reg_model.summary())"
   ]
  },
  {
   "cell_type": "code",
   "execution_count": null,
   "metadata": {},
   "outputs": [],
   "source": [
    "this_formula = 'gwas_tscore_abs ~ eqtl_tscore_abs + day + eqtl_tscore_abs * day'\n",
    "reg_model = smf.ols(this_formula, data=temp).fit()\n",
    "print(reg_model.summary())"
   ]
  },
  {
   "cell_type": "code",
   "execution_count": null,
   "metadata": {},
   "outputs": [],
   "source": [
    "temp.head()"
   ]
  },
  {
   "cell_type": "code",
   "execution_count": null,
   "metadata": {},
   "outputs": [],
   "source": [
    "temp['daynum'] = temp['day'].str.replace('da','').astype('int32')\n",
    "this_formula = 'gwas_tscore_abs ~ eqtl_tscore_abs + (1|daynum)'\n",
    "reg_model = smf.ols(this_formula, data=temp).fit()\n",
    "print(reg_model.summary())"
   ]
  },
  {
   "cell_type": "code",
   "execution_count": null,
   "metadata": {},
   "outputs": [],
   "source": []
  }
 ],
 "metadata": {
  "environment": {
   "name": "pytorch-gpu.1-7.m65",
   "type": "gcloud",
   "uri": "gcr.io/deeplearning-platform-release/pytorch-gpu.1-7:m65"
  },
  "kernelspec": {
   "display_name": "Python 3",
   "language": "python",
   "name": "python3"
  },
  "language_info": {
   "codemirror_mode": {
    "name": "ipython",
    "version": 3
   },
   "file_extension": ".py",
   "mimetype": "text/x-python",
   "name": "python",
   "nbconvert_exporter": "python",
   "pygments_lexer": "ipython3",
   "version": "3.7.10"
  },
  "widgets": {
   "application/vnd.jupyter.widget-state+json": {
    "state": {},
    "version_major": 2,
    "version_minor": 0
   }
  }
 },
 "nbformat": 4,
 "nbformat_minor": 4
}
