{
 "cells": [
  {
   "cell_type": "markdown",
   "id": "688993c1",
   "metadata": {},
   "source": [
    "## Notebook to do longitudinal analysis of expression over time\n",
    "- features to be considered, probably should do in separate notebooks\n",
    "    - expression ~ time + (1| subject)\n",
    "    \n",
    "based on running linear mixed effects models in python examples:\n",
    "- [Comparing R lmer to Statsmodels MixedLM](https://nbviewer.jupyter.org/urls/umich.box.com/shared/static/6tfc1e0q6jincsv5pgfa.ipynb)\n",
    "- [Linear Mixed Effects Models](https://www.statsmodels.org/devel/examples/notebooks/generated/mixed_lm_example.html)\n",
    "- [statsmodel mixedlm from formula](https://www.statsmodels.org/dev/generated/statsmodels.regression.mixed_linear_model.MixedLM.from_formula.html)"
   ]
  },
  {
   "cell_type": "code",
   "execution_count": null,
   "id": "403f7f51",
   "metadata": {},
   "outputs": [],
   "source": [
    "!date"
   ]
  },
  {
   "cell_type": "markdown",
   "id": "743f1023",
   "metadata": {},
   "source": [
    "#### import libraries and set notebook variables"
   ]
  },
  {
   "cell_type": "code",
   "execution_count": null,
   "id": "2ff1efa2",
   "metadata": {},
   "outputs": [],
   "source": [
    "import pandas as pd\n",
    "import numpy as np\n",
    "import statsmodels.api as sm\n",
    "import statsmodels.formula.api as smf\n",
    "import statsmodels.stats.multitest as smm\n",
    "import seaborn as sns\n",
    "import matplotlib.pyplot as plt\n",
    "import concurrent.futures\n",
    "import warnings\n",
    "warnings.filterwarnings(action='once')"
   ]
  },
  {
   "cell_type": "code",
   "execution_count": null,
   "id": "2df24d51",
   "metadata": {},
   "outputs": [],
   "source": [
    "# parameters\n",
    "cohort = 'foundin'\n",
    "days = ['da0', 'da25', 'da65']\n",
    "quant_type = 'vst'\n",
    "\n",
    "# directories\n",
    "home_dir = '/home/jupyter'\n",
    "wrk_dir = f'{home_dir}/{cohort}/eqtl'\n",
    "expr_dir = f'{wrk_dir}/expression'\n",
    "info_dir = f'{wrk_dir}/sample_info'\n",
    "results_dir = f'{wrk_dir}/results'\n",
    "\n",
    "# in files\n",
    "known_covs_file = f'{info_dir}/{cohort}_rnab_sample_info.csv'\n",
    "umaps_file = f'{info_dir}/{cohort}_rnab.umap.covs.csv'\n",
    "quants_file = f'{expr_dir}/{cohort}.{quant_type}.norm.adj.hdf5'\n",
    "\n",
    "# out files\n",
    "\n",
    "\n",
    "# constants\n",
    "capture_out = !(nproc)\n",
    "max_threads = int(capture_out[0])\n",
    "\n",
    "covs_index_assay_id_to_replace = {'RNAB_PPMI3422_0683_da65_v1': 'RNAB_PPMI3422_1260_da65_v1',\n",
    "'RNAB_PPMI3448_3236_da65_v1': 'RNAB_PPMI3448_2397_da65_v1',\n",
    "'RNAB_PPMI3451_2397_da65_v1': 'RNAB_PPMI3451_3236_da65_v1',\n",
    "'RNAB_PPMI3664_6647_da65_v1': 'RNAB_PPMI3664_2833_da65_v1',\n",
    "'RNAB_PPMI3665_7215_da65_v1': 'RNAB_PPMI3665_4484_da65_v1',\n",
    "'RNAB_PPMI3953_2833_da65_v1': 'RNAB_PPMI3953_6647_da65_v1',\n",
    "'RNAB_PPMI4101_4484_da65_v2': 'RNAB_PPMI4101_7215_da65_v2',\n",
    "'RNAB_PPMI4106_2056_da65_v1': 'RNAB_PPMI4106_0494_da65_v1',\n",
    "'RNAB_PPMI54991_1260_da65_v1': 'RNAB_PPMI54991_0683_da65_v1'}"
   ]
  },
  {
   "cell_type": "markdown",
   "id": "374051f1",
   "metadata": {},
   "source": [
    "#### analysis functions"
   ]
  },
  {
   "cell_type": "code",
   "execution_count": null,
   "id": "6d2ff631",
   "metadata": {},
   "outputs": [],
   "source": [
    "def mixed_model(formula, df, group_name, term):\n",
    "    model = sm.MixedLM.from_formula(formula, df, groups=df[group_name])\n",
    "    result = model.fit()\n",
    "    return [result.params[term], result.bse[term], \n",
    "            result.params.shape[0], result.pvalues[term]]\n",
    "\n",
    "def frmt_run_mm(dep_var, indep_var, df, group_name, hard_covs=False):\n",
    "    warnings.filterwarnings('ignore')\n",
    "    if hard_covs:\n",
    "        this_formula = f'Q(\"{dep_var}\") ~ {indep_var} + age_at_baseline + sex'        \n",
    "    else:\n",
    "        this_formula = f'Q(\"{dep_var}\") ~ {indep_var}'\n",
    "    try:\n",
    "        results = mixed_model(this_formula, df, group_name, indep_var)\n",
    "    except:\n",
    "#         print(f'Caught NameError for {dep_var}')\n",
    "        results = [np.nan, np.nan, np.nan, np.nan]\n",
    "    return [dep_var] + results"
   ]
  },
  {
   "cell_type": "markdown",
   "id": "3fb872e0",
   "metadata": {},
   "source": [
    "#### load the known sample covariates"
   ]
  },
  {
   "cell_type": "code",
   "execution_count": null,
   "id": "3fc88d75",
   "metadata": {},
   "outputs": [],
   "source": [
    "known_covs_df = pd.read_csv(known_covs_file, index_col=0)\n",
    "print(known_covs_df.shape)\n",
    "known_covs_df.rename(index=covs_index_assay_id_to_replace, inplace=True)\n",
    "# display(known_covs_df.head())"
   ]
  },
  {
   "cell_type": "code",
   "execution_count": null,
   "id": "eb330c78",
   "metadata": {},
   "outputs": [],
   "source": [
    "umaps_df = pd.read_csv(umaps_file, index_col=0)\n",
    "print(umaps_df.shape)\n",
    "display(umaps_df.head())"
   ]
  },
  {
   "cell_type": "code",
   "execution_count": null,
   "id": "ace0b4bd",
   "metadata": {},
   "outputs": [],
   "source": [
    "covs_df = umaps_df.merge(known_covs_df, how='inner', left_index=True, right_index=True)\n",
    "print(covs_df.shape)\n",
    "# display(covs_df.head())"
   ]
  },
  {
   "cell_type": "markdown",
   "id": "fbb2f6c2",
   "metadata": {},
   "source": [
    "#### add month column based on visit"
   ]
  },
  {
   "cell_type": "code",
   "execution_count": null,
   "id": "d97ac70b",
   "metadata": {},
   "outputs": [],
   "source": [
    "covs_df['daynum'] = covs_df['day'].str.replace('da','').astype('int32')"
   ]
  },
  {
   "cell_type": "code",
   "execution_count": null,
   "id": "164c8f93",
   "metadata": {},
   "outputs": [],
   "source": [
    "covs_df['daynum'].value_counts()"
   ]
  },
  {
   "cell_type": "markdown",
   "id": "89a625db",
   "metadata": {},
   "source": [
    "#### load the expression matrix"
   ]
  },
  {
   "cell_type": "code",
   "execution_count": null,
   "id": "c41305fa",
   "metadata": {},
   "outputs": [],
   "source": [
    "%%time\n",
    "expr_df = pd.read_hdf(quants_file, index_col=0)\n",
    "print(expr_df.shape)\n",
    "# display(expr_df.head())"
   ]
  },
  {
   "cell_type": "markdown",
   "id": "34c1e935",
   "metadata": {},
   "source": [
    "#### test something simple"
   ]
  },
  {
   "cell_type": "code",
   "execution_count": null,
   "id": "827176ce",
   "metadata": {},
   "outputs": [],
   "source": [
    "data_df = expr_df.merge(covs_df, how='inner', \n",
    "                        left_index=True, right_index=True)\n",
    "print(data_df.shape)"
   ]
  },
  {
   "cell_type": "markdown",
   "id": "662ac751",
   "metadata": {},
   "source": [
    "#### split the features into batches"
   ]
  },
  {
   "cell_type": "code",
   "execution_count": null,
   "id": "6b02a4ec",
   "metadata": {},
   "outputs": [],
   "source": [
    "features = expr_df.columns.values\n",
    "print(len(features))\n",
    "features_partioned = np.array_split(features, np.floor(len(features)/max_threads/4))\n",
    "print(len(features_partioned))\n",
    "print(len(features_partioned[0]))"
   ]
  },
  {
   "cell_type": "markdown",
   "id": "b806b75e",
   "metadata": {},
   "source": [
    "#### run just the mixed effects model"
   ]
  },
  {
   "cell_type": "code",
   "execution_count": null,
   "id": "625369dd",
   "metadata": {},
   "outputs": [],
   "source": [
    "def run_mm_batch(feat_list, ind_var, df, group_name, extra_terms=False):\n",
    "    batch_results = []\n",
    "    for feature in feat_list:\n",
    "        batch_results.append(frmt_run_mm(feature, ind_var, df, group_name, extra_terms))\n",
    "    return batch_results"
   ]
  },
  {
   "cell_type": "markdown",
   "id": "af50645b",
   "metadata": {},
   "source": [
    "#### run the simpler model"
   ]
  },
  {
   "cell_type": "code",
   "execution_count": null,
   "id": "e1072b04",
   "metadata": {},
   "outputs": [],
   "source": [
    "%%time\n",
    "indep_var = 'daynum'\n",
    "grouping = 'sampleid'\n",
    "\n",
    "fs_list = []\n",
    "lm_results = []\n",
    "with concurrent.futures.ProcessPoolExecutor(max_workers=max_threads*2) as ppe:\n",
    "    for batch_features in features_partioned:\n",
    "        fs_list.append(ppe.submit(run_mm_batch, batch_features, indep_var, data_df, grouping))\n",
    "for future in concurrent.futures.as_completed(fs_list):\n",
    "    lm_results.append(future.result())"
   ]
  },
  {
   "cell_type": "code",
   "execution_count": null,
   "id": "e5517ec2",
   "metadata": {},
   "outputs": [],
   "source": [
    "# flatten the list\n",
    "results = [item for sublist in lm_results for item in sublist]"
   ]
  },
  {
   "cell_type": "code",
   "execution_count": null,
   "id": "1a907a16",
   "metadata": {},
   "outputs": [],
   "source": [
    "results_df = pd.DataFrame(data=results, columns=['feature', 'coef', 'stderr', 'term_cnt', 'p-value'])\n",
    "print(results_df.shape)\n",
    "display(results_df.head())"
   ]
  },
  {
   "cell_type": "markdown",
   "id": "acc6664d",
   "metadata": {},
   "source": [
    "#### calc FDR"
   ]
  },
  {
   "cell_type": "code",
   "execution_count": null,
   "id": "daba0ade",
   "metadata": {},
   "outputs": [],
   "source": [
    "alpha=0.05\n",
    "method='fdr_bh'\n",
    "test_adjust = smm.multipletests(np.array(results_df['p-value']),\n",
    "                                alpha=alpha, method=method)\n",
    "results_df['bh_fdr'] = test_adjust[1]\n",
    "\n",
    "print(results_df.loc[results_df['bh_fdr'] < 0.05].shape)\n",
    "display(results_df.head())"
   ]
  },
  {
   "cell_type": "code",
   "execution_count": null,
   "id": "a2c9fbaa",
   "metadata": {},
   "outputs": [],
   "source": [
    "sig_df = results_df.loc[results_df['bh_fdr'] < 0.05]\n",
    "display(sig_df.loc[sig_df['p-value'] == min(sig_df['p-value'])])\n",
    "display(sig_df.loc[sig_df['p-value'] == max(sig_df['p-value'])])"
   ]
  },
  {
   "cell_type": "markdown",
   "id": "d2a7f585",
   "metadata": {},
   "source": [
    "#### save the simple mixed model results"
   ]
  },
  {
   "cell_type": "code",
   "execution_count": null,
   "id": "5e68ebcd",
   "metadata": {},
   "outputs": [],
   "source": [
    "out_file = f'{results_dir}/{cohort}.expr_time_mm.csv'\n",
    "sig_df.to_csv(out_file, index=False)"
   ]
  },
  {
   "cell_type": "markdown",
   "id": "cc627f97",
   "metadata": {},
   "source": [
    "#### do some example plotting"
   ]
  },
  {
   "cell_type": "code",
   "execution_count": null,
   "id": "520d8675",
   "metadata": {},
   "outputs": [],
   "source": [
    "sns.lmplot(x='daynum', y='ENSG00000088247.17', hue='case_control_other_latest', \n",
    "           data=data_df, palette='Set1')"
   ]
  },
  {
   "cell_type": "code",
   "execution_count": null,
   "id": "464e4f4a",
   "metadata": {},
   "outputs": [],
   "source": [
    "sns.lineplot(x='daynum', y='lnc_ZFP2_3', hue='case_control_other_latest', \n",
    "           data=data_df, palette='Set1')"
   ]
  },
  {
   "cell_type": "markdown",
   "id": "9ddb213c",
   "metadata": {},
   "source": [
    "### now re-run everything including age and sex in the mixed model by subject"
   ]
  },
  {
   "cell_type": "markdown",
   "id": "ac299f89",
   "metadata": {},
   "source": [
    "#### run the model with extra covariates"
   ]
  },
  {
   "cell_type": "code",
   "execution_count": null,
   "id": "4e677b00",
   "metadata": {},
   "outputs": [],
   "source": [
    "# extra covariates are 'age_at_baseline', 'sex', some are null remove those rows\n",
    "data_df = data_df.loc[(~data_df['age_at_baseline'].isna()) & (~data_df['sex'].isna())]\n",
    "print(data_df.shape)"
   ]
  },
  {
   "cell_type": "code",
   "execution_count": null,
   "id": "0dabedb4",
   "metadata": {},
   "outputs": [],
   "source": [
    "%%time\n",
    "indep_var = 'daynum'\n",
    "grouping = 'sampleid'\n",
    "\n",
    "fs_list = []\n",
    "lm_results = []\n",
    "with concurrent.futures.ProcessPoolExecutor(max_workers=max_threads*2) as ppe:\n",
    "    for batch_features in features_partioned:\n",
    "        fs_list.append(ppe.submit(run_mm_batch, batch_features, indep_var, data_df, grouping, True))\n",
    "for future in concurrent.futures.as_completed(fs_list):\n",
    "    lm_results.append(future.result())"
   ]
  },
  {
   "cell_type": "code",
   "execution_count": null,
   "id": "7efef8cb",
   "metadata": {},
   "outputs": [],
   "source": [
    "# flatten the list\n",
    "results = [item for sublist in lm_results for item in sublist]"
   ]
  },
  {
   "cell_type": "code",
   "execution_count": null,
   "id": "ad22f283",
   "metadata": {},
   "outputs": [],
   "source": [
    "results_df = pd.DataFrame(data=results, columns=['feature', 'coef', 'stderr', 'term_cnt', 'p-value'])\n",
    "print(results_df.shape)\n",
    "display(results_df.head())"
   ]
  },
  {
   "cell_type": "markdown",
   "id": "61d16183",
   "metadata": {},
   "source": [
    "#### calc FDR"
   ]
  },
  {
   "cell_type": "code",
   "execution_count": null,
   "id": "c556c94c",
   "metadata": {},
   "outputs": [],
   "source": [
    "alpha=0.05\n",
    "method='fdr_bh'\n",
    "test_adjust = smm.multipletests(np.array(results_df['p-value']),\n",
    "                                alpha=alpha, method=method)\n",
    "results_df['bh_fdr'] = test_adjust[1]\n",
    "\n",
    "print(results_df.loc[results_df['bh_fdr'] < 0.05].shape)\n",
    "display(results_df.head())"
   ]
  },
  {
   "cell_type": "markdown",
   "id": "1556b147",
   "metadata": {},
   "source": [
    "#### save the discovery cohort results"
   ]
  },
  {
   "cell_type": "code",
   "execution_count": null,
   "id": "0d63f6d2",
   "metadata": {},
   "outputs": [],
   "source": [
    "sig_df = results_df.loc[results_df['bh_fdr'] < 0.05]\n",
    "display(sig_df.loc[sig_df['p-value'] == min(sig_df['p-value'])])\n",
    "display(sig_df.loc[sig_df['p-value'] == max(sig_df['p-value'])])"
   ]
  },
  {
   "cell_type": "code",
   "execution_count": null,
   "id": "ac8341d2",
   "metadata": {},
   "outputs": [],
   "source": [
    "out_file = f'{results_dir}/{cohort}.expr_time_cov_mm.csv'\n",
    "sig_df.to_csv(out_file, index=False)"
   ]
  },
  {
   "cell_type": "markdown",
   "id": "337b1bd3",
   "metadata": {},
   "source": [
    "#### do some example plotting"
   ]
  },
  {
   "cell_type": "code",
   "execution_count": null,
   "id": "558eef13",
   "metadata": {},
   "outputs": [],
   "source": [
    "sns.lineplot(x='daynum', y='ENSG00000088247.17', hue='case_control_other_latest', \n",
    "           data=data_df, palette='Set1')"
   ]
  },
  {
   "cell_type": "code",
   "execution_count": null,
   "id": "270f6422",
   "metadata": {},
   "outputs": [],
   "source": [
    "sns.lineplot(x='daynum', y='LINC00630', hue='case_control_other_latest', \n",
    "           data=data_df, palette='Set1')"
   ]
  },
  {
   "cell_type": "markdown",
   "id": "66a227f2",
   "metadata": {},
   "source": [
    "#### check the replicated mixed model results against the mixed model results also adjusted for age and sex"
   ]
  },
  {
   "cell_type": "code",
   "execution_count": null,
   "id": "d11566bc",
   "metadata": {},
   "outputs": [],
   "source": [
    "mm_file = f'{results_dir}/{cohort}.expr_time_mm.csv'\n",
    "mm_cov_file =  f'{results_dir}/{cohort}.expr_time_cov_mm.csv'\n",
    "mm_results_df = pd.read_csv(mm_file)\n",
    "mm_results_df = mm_results_df.loc[mm_results_df['bh_fdr'] < 0.05]\n",
    "print(mm_results_df.shape)\n",
    "mm_cov_results_df = pd.read_csv(mm_cov_file)\n",
    "mm_cov_results_df = mm_cov_results_df.loc[mm_cov_results_df['bh_fdr'] < 0.05]\n",
    "print(mm_cov_results_df.shape)"
   ]
  },
  {
   "cell_type": "code",
   "execution_count": null,
   "id": "3f387712",
   "metadata": {},
   "outputs": [],
   "source": [
    "in_both = set(mm_results_df['feature']) & set(mm_cov_results_df['feature'])\n",
    "print(len(in_both))\n",
    "in_just_mm = set(mm_results_df['feature']) - set(mm_cov_results_df['feature']) \n",
    "print(len(in_just_mm))\n",
    "in_just_mm_cov = set(mm_cov_results_df['feature']) - set(mm_results_df['feature'])\n",
    "print(len(in_just_mm_cov))"
   ]
  },
  {
   "cell_type": "code",
   "execution_count": null,
   "id": "77326f69",
   "metadata": {},
   "outputs": [],
   "source": [
    "both_file = f'{results_dir}/{cohort}.expr_time_mm_and_mmcov.csv'\n",
    "just_mm_file = f'{results_dir}/{cohort}.expr_time_mm_only.csv'\n",
    "just_mmcov_file = f'{results_dir}/{cohort}.expr_time_mmcov_only.csv'\n",
    "\n",
    "mm_results_df.loc[mm_results_df['feature'].isin(in_both)].to_csv(both_file, index=False)\n",
    "mm_results_df.loc[mm_results_df['feature'].isin(in_just_mm)].to_csv(just_mm_file, index=False)\n",
    "mm_cov_results_df.loc[mm_cov_results_df['feature'].isin(in_just_mm_cov)].to_csv(just_mmcov_file, index=False)"
   ]
  },
  {
   "cell_type": "code",
   "execution_count": null,
   "id": "6d4f70bb",
   "metadata": {},
   "outputs": [],
   "source": [
    "mm_results_df.head()"
   ]
  },
  {
   "cell_type": "code",
   "execution_count": null,
   "id": "0a5e1277",
   "metadata": {},
   "outputs": [],
   "source": [
    "mm_cov_results_df.head()"
   ]
  },
  {
   "cell_type": "code",
   "execution_count": null,
   "id": "e4d9051e",
   "metadata": {},
   "outputs": [],
   "source": [
    "both_df = mm_results_df.merge(mm_cov_results_df, how='inner', left_on='feature', right_on='feature')\n",
    "print(both_df.shape)"
   ]
  },
  {
   "cell_type": "code",
   "execution_count": null,
   "id": "d4fc3f44",
   "metadata": {},
   "outputs": [],
   "source": [
    "results_df['log10_pvalue'] = np.log10(results_df['p-value'])*-1\n",
    "results_df['t_score'] = results_df['coef']/results_df['stderr']"
   ]
  },
  {
   "cell_type": "code",
   "execution_count": null,
   "id": "c18ba6a2",
   "metadata": {},
   "outputs": [],
   "source": [
    "sns.scatterplot(x='coef_x', y='coef_y', data=both_df)"
   ]
  },
  {
   "cell_type": "code",
   "execution_count": null,
   "id": "7801c985",
   "metadata": {},
   "outputs": [],
   "source": []
  }
 ],
 "metadata": {
  "environment": {
   "kernel": "python3",
   "name": "pytorch-gpu.1-12.m102",
   "type": "gcloud",
   "uri": "gcr.io/deeplearning-platform-release/pytorch-gpu.1-12:m102"
  },
  "kernelspec": {
   "display_name": "Python 3 (ipykernel)",
   "language": "python",
   "name": "python3"
  },
  "language_info": {
   "codemirror_mode": {
    "name": "ipython",
    "version": 3
   },
   "file_extension": ".py",
   "mimetype": "text/x-python",
   "name": "python",
   "nbconvert_exporter": "python",
   "pygments_lexer": "ipython3",
   "version": "3.7.12"
  },
  "widgets": {
   "application/vnd.jupyter.widget-state+json": {
    "state": {},
    "version_major": 2,
    "version_minor": 0
   }
  }
 },
 "nbformat": 4,
 "nbformat_minor": 5
}
