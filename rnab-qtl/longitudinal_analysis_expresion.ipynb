{
 "cells": [
  {
   "cell_type": "markdown",
   "id": "688993c1",
   "metadata": {},
   "source": [
    "## Notebook to do longitudinal analysis of expression over time\n",
    "- features to be considered, probably should do in separate notebooks\n",
    "    - expression ~ time + (1| subject)\n",
    "    \n",
    "based on running linear mixed effects models in python examples:\n",
    "- [Comparing R lmer to Statsmodels MixedLM](https://nbviewer.jupyter.org/urls/umich.box.com/shared/static/6tfc1e0q6jincsv5pgfa.ipynb)\n",
    "- [Linear Mixed Effects Models](https://www.statsmodels.org/devel/examples/notebooks/generated/mixed_lm_example.html)\n",
    "- [statsmodel mixedlm from formula](https://www.statsmodels.org/dev/generated/statsmodels.regression.mixed_linear_model.MixedLM.from_formula.html)"
   ]
  },
  {
   "cell_type": "code",
   "execution_count": 1,
   "id": "403f7f51",
   "metadata": {},
   "outputs": [
    {
     "name": "stdout",
     "output_type": "stream",
     "text": [
      "Fri Jul 23 02:36:10 UTC 2021\n"
     ]
    }
   ],
   "source": [
    "!date"
   ]
  },
  {
   "cell_type": "markdown",
   "id": "743f1023",
   "metadata": {},
   "source": [
    "#### import libraries and set notebook variables"
   ]
  },
  {
   "cell_type": "code",
   "execution_count": 2,
   "id": "2ff1efa2",
   "metadata": {},
   "outputs": [],
   "source": [
    "import pandas as pd\n",
    "import numpy as np\n",
    "import statsmodels.api as sm\n",
    "import statsmodels.formula.api as smf\n",
    "import statsmodels.stats.multitest as smm\n",
    "import seaborn as sns\n",
    "import matplotlib.pyplot as plt\n",
    "import concurrent.futures\n",
    "import warnings\n",
    "warnings.filterwarnings(action='once')"
   ]
  },
  {
   "cell_type": "code",
   "execution_count": 3,
   "id": "2df24d51",
   "metadata": {},
   "outputs": [
    {
     "name": "stderr",
     "output_type": "stream",
     "text": [
      "/opt/conda/lib/python3.7/site-packages/ipykernel/ipkernel.py:283: DeprecationWarning: `should_run_async` will not call `transform_cell` automatically in the future. Please pass the result to `transformed_cell` argument and any exception that happen during thetransform in `preprocessing_exc_tuple` in IPython 7.17 and above.\n",
      "  and should_run_async(code)\n"
     ]
    }
   ],
   "source": [
    "# parameters\n",
    "cohort = 'foundin'\n",
    "days = ['da0', 'da25', 'da65']\n",
    "quant_type = 'vst'\n",
    "\n",
    "# directories\n",
    "home_dir = '/home/jupyter'\n",
    "wrk_dir = f'{home_dir}/{cohort}/eqtl'\n",
    "expr_dir = f'{wrk_dir}/expression'\n",
    "info_dir = f'{wrk_dir}/sample_info'\n",
    "results_dir = f'{wrk_dir}/results'\n",
    "\n",
    "# in files\n",
    "known_covs_file = f'{info_dir}/{cohort}_rnab_sample_info.csv'\n",
    "umaps_file = f'{info_dir}/{cohort}_rnab.umap.covs.csv'\n",
    "quants_file = f'{expr_dir}/{cohort}.{quant_type}.norm.adj.hdf5'\n",
    "\n",
    "# out files\n",
    "\n",
    "\n",
    "# constants\n",
    "capture_out = !(nproc)\n",
    "max_threads = int(capture_out[0])\n",
    "\n",
    "covs_index_assay_id_to_replace = {'RNAB_PPMI3422_0683_da65_v1': 'RNAB_PPMI3422_1260_da65_v1',\n",
    "'RNAB_PPMI3448_3236_da65_v1': 'RNAB_PPMI3448_2397_da65_v1',\n",
    "'RNAB_PPMI3451_2397_da65_v1': 'RNAB_PPMI3451_3236_da65_v1',\n",
    "'RNAB_PPMI3664_6647_da65_v1': 'RNAB_PPMI3664_2833_da65_v1',\n",
    "'RNAB_PPMI3665_7215_da65_v1': 'RNAB_PPMI3665_4484_da65_v1',\n",
    "'RNAB_PPMI3953_2833_da65_v1': 'RNAB_PPMI3953_6647_da65_v1',\n",
    "'RNAB_PPMI4101_4484_da65_v2': 'RNAB_PPMI4101_7215_da65_v2',\n",
    "'RNAB_PPMI4106_2056_da65_v1': 'RNAB_PPMI4106_0494_da65_v1',\n",
    "'RNAB_PPMI54991_1260_da65_v1': 'RNAB_PPMI54991_0683_da65_v1'}"
   ]
  },
  {
   "cell_type": "markdown",
   "id": "374051f1",
   "metadata": {},
   "source": [
    "#### analysis functions"
   ]
  },
  {
   "cell_type": "code",
   "execution_count": 4,
   "id": "6d2ff631",
   "metadata": {},
   "outputs": [],
   "source": [
    "def mixed_model(formula, df, group_name, term):\n",
    "    model = sm.MixedLM.from_formula(formula, df, groups=df[group_name])\n",
    "    result = model.fit()\n",
    "    return [result.params[term], result.bse[term], \n",
    "            result.params.shape[0], result.pvalues[term]]\n",
    "\n",
    "def frmt_run_mm(dep_var, indep_var, df, group_name, hard_covs=False):\n",
    "    warnings.filterwarnings('ignore')\n",
    "    if hard_covs:\n",
    "        this_formula = f'Q(\"{dep_var}\") ~ {indep_var} + age_at_baseline + sex'        \n",
    "    else:\n",
    "        this_formula = f'Q(\"{dep_var}\") ~ {indep_var}'\n",
    "    try:\n",
    "        results = mixed_model(this_formula, df, group_name, indep_var)\n",
    "    except:\n",
    "#         print(f'Caught NameError for {dep_var}')\n",
    "        results = [np.nan, np.nan, np.nan, np.nan]\n",
    "    return [dep_var] + results"
   ]
  },
  {
   "cell_type": "markdown",
   "id": "3fb872e0",
   "metadata": {},
   "source": [
    "#### load the known sample covariates"
   ]
  },
  {
   "cell_type": "code",
   "execution_count": null,
   "id": "3fc88d75",
   "metadata": {},
   "outputs": [],
   "source": [
    "known_covs_df = pd.read_csv(known_covs_file, index_col=0)\n",
    "print(known_covs_df.shape)\n",
    "known_covs_df.rename(index=covs_index_assay_id_to_replace, inplace=True)\n",
    "# display(known_covs_df.head())"
   ]
  },
  {
   "cell_type": "code",
   "execution_count": 6,
   "id": "eb330c78",
   "metadata": {},
   "outputs": [
    {
     "name": "stdout",
     "output_type": "stream",
     "text": [
      "(301, 2)\n"
     ]
    },
    {
     "name": "stderr",
     "output_type": "stream",
     "text": [
      "/opt/conda/lib/python3.7/site-packages/ipykernel/ipkernel.py:283: DeprecationWarning: `should_run_async` will not call `transform_cell` automatically in the future. Please pass the result to `transformed_cell` argument and any exception that happen during thetransform in `preprocessing_exc_tuple` in IPython 7.17 and above.\n",
      "  and should_run_async(code)\n"
     ]
    },
    {
     "data": {
      "text/html": [
       "<div>\n",
       "<style scoped>\n",
       "    .dataframe tbody tr th:only-of-type {\n",
       "        vertical-align: middle;\n",
       "    }\n",
       "\n",
       "    .dataframe tbody tr th {\n",
       "        vertical-align: top;\n",
       "    }\n",
       "\n",
       "    .dataframe thead th {\n",
       "        text-align: right;\n",
       "    }\n",
       "</style>\n",
       "<table border=\"1\" class=\"dataframe\">\n",
       "  <thead>\n",
       "    <tr style=\"text-align: right;\">\n",
       "      <th></th>\n",
       "      <th>x_umap</th>\n",
       "      <th>y_umap</th>\n",
       "    </tr>\n",
       "  </thead>\n",
       "  <tbody>\n",
       "    <tr>\n",
       "      <th>RNAB_PPMI18567_4073_da0_v2</th>\n",
       "      <td>1.613358</td>\n",
       "      <td>-0.695620</td>\n",
       "    </tr>\n",
       "    <tr>\n",
       "      <th>RNAB_PPMI18567_4073_da25_v1</th>\n",
       "      <td>-1.554774</td>\n",
       "      <td>0.305481</td>\n",
       "    </tr>\n",
       "    <tr>\n",
       "      <th>RNAB_PPMI18567_4073_da65_v1</th>\n",
       "      <td>-1.713249</td>\n",
       "      <td>0.092040</td>\n",
       "    </tr>\n",
       "    <tr>\n",
       "      <th>RNAB_PPMI3186_2662_da0_v1</th>\n",
       "      <td>2.713052</td>\n",
       "      <td>-0.253347</td>\n",
       "    </tr>\n",
       "    <tr>\n",
       "      <th>RNAB_PPMI3186_2662_da25_v1</th>\n",
       "      <td>1.022242</td>\n",
       "      <td>-1.050837</td>\n",
       "    </tr>\n",
       "  </tbody>\n",
       "</table>\n",
       "</div>"
      ],
      "text/plain": [
       "                               x_umap    y_umap\n",
       "RNAB_PPMI18567_4073_da0_v2   1.613358 -0.695620\n",
       "RNAB_PPMI18567_4073_da25_v1 -1.554774  0.305481\n",
       "RNAB_PPMI18567_4073_da65_v1 -1.713249  0.092040\n",
       "RNAB_PPMI3186_2662_da0_v1    2.713052 -0.253347\n",
       "RNAB_PPMI3186_2662_da25_v1   1.022242 -1.050837"
      ]
     },
     "metadata": {},
     "output_type": "display_data"
    }
   ],
   "source": [
    "umaps_df = pd.read_csv(umaps_file, index_col=0)\n",
    "print(umaps_df.shape)\n",
    "display(umaps_df.head())"
   ]
  },
  {
   "cell_type": "code",
   "execution_count": null,
   "id": "ace0b4bd",
   "metadata": {},
   "outputs": [],
   "source": [
    "covs_df = umaps_df.merge(known_covs_df, how='inner', left_index=True, right_index=True)\n",
    "print(covs_df.shape)\n",
    "# display(covs_df.head())"
   ]
  },
  {
   "cell_type": "markdown",
   "id": "fbb2f6c2",
   "metadata": {},
   "source": [
    "#### add month column based on visit"
   ]
  },
  {
   "cell_type": "code",
   "execution_count": 8,
   "id": "d97ac70b",
   "metadata": {},
   "outputs": [
    {
     "name": "stderr",
     "output_type": "stream",
     "text": [
      "/opt/conda/lib/python3.7/site-packages/ipykernel/ipkernel.py:283: DeprecationWarning: `should_run_async` will not call `transform_cell` automatically in the future. Please pass the result to `transformed_cell` argument and any exception that happen during thetransform in `preprocessing_exc_tuple` in IPython 7.17 and above.\n",
      "  and should_run_async(code)\n"
     ]
    }
   ],
   "source": [
    "covs_df['daynum'] = covs_df['day'].str.replace('da','').astype('int32')"
   ]
  },
  {
   "cell_type": "code",
   "execution_count": 9,
   "id": "164c8f93",
   "metadata": {},
   "outputs": [
    {
     "data": {
      "text/plain": [
       "25    100\n",
       "0      95\n",
       "65     94\n",
       "Name: daynum, dtype: int64"
      ]
     },
     "execution_count": 9,
     "metadata": {},
     "output_type": "execute_result"
    }
   ],
   "source": [
    "covs_df['daynum'].value_counts()"
   ]
  },
  {
   "cell_type": "markdown",
   "id": "89a625db",
   "metadata": {},
   "source": [
    "#### load the expression matrix"
   ]
  },
  {
   "cell_type": "code",
   "execution_count": 10,
   "id": "c41305fa",
   "metadata": {},
   "outputs": [
    {
     "name": "stdout",
     "output_type": "stream",
     "text": [
      "(301, 32108)\n",
      "CPU times: user 121 ms, sys: 31.9 ms, total: 153 ms\n",
      "Wall time: 151 ms\n"
     ]
    },
    {
     "name": "stderr",
     "output_type": "stream",
     "text": [
      "/opt/conda/lib/python3.7/importlib/_bootstrap.py:219: RuntimeWarning: numpy.ufunc size changed, may indicate binary incompatibility. Expected 192 from C header, got 216 from PyObject\n",
      "  return f(*args, **kwds)\n"
     ]
    }
   ],
   "source": [
    "%%time\n",
    "expr_df = pd.read_hdf(quants_file, index_col=0)\n",
    "print(expr_df.shape)\n",
    "# display(expr_df.head())"
   ]
  },
  {
   "cell_type": "markdown",
   "id": "34c1e935",
   "metadata": {},
   "source": [
    "#### test something simple"
   ]
  },
  {
   "cell_type": "code",
   "execution_count": 11,
   "id": "827176ce",
   "metadata": {},
   "outputs": [
    {
     "name": "stdout",
     "output_type": "stream",
     "text": [
      "(289, 32209)\n"
     ]
    }
   ],
   "source": [
    "data_df = expr_df.merge(covs_df, how='inner', \n",
    "                        left_index=True, right_index=True)\n",
    "print(data_df.shape)"
   ]
  },
  {
   "cell_type": "markdown",
   "id": "662ac751",
   "metadata": {},
   "source": [
    "#### split the features into batches"
   ]
  },
  {
   "cell_type": "code",
   "execution_count": 12,
   "id": "6b02a4ec",
   "metadata": {},
   "outputs": [
    {
     "name": "stdout",
     "output_type": "stream",
     "text": [
      "32108\n",
      "501\n",
      "65\n"
     ]
    }
   ],
   "source": [
    "features = expr_df.columns.values\n",
    "print(len(features))\n",
    "features_partioned = np.array_split(features, np.floor(len(features)/max_threads/4))\n",
    "print(len(features_partioned))\n",
    "print(len(features_partioned[0]))"
   ]
  },
  {
   "cell_type": "markdown",
   "id": "b806b75e",
   "metadata": {},
   "source": [
    "#### run just the mixed effects model"
   ]
  },
  {
   "cell_type": "code",
   "execution_count": 13,
   "id": "625369dd",
   "metadata": {},
   "outputs": [],
   "source": [
    "def run_mm_batch(feat_list, ind_var, df, group_name, extra_terms=False):\n",
    "    batch_results = []\n",
    "    for feature in feat_list:\n",
    "        batch_results.append(frmt_run_mm(feature, ind_var, df, group_name, extra_terms))\n",
    "    return batch_results"
   ]
  },
  {
   "cell_type": "markdown",
   "id": "af50645b",
   "metadata": {},
   "source": [
    "#### run the simpler model"
   ]
  },
  {
   "cell_type": "code",
   "execution_count": 14,
   "id": "e1072b04",
   "metadata": {},
   "outputs": [
    {
     "name": "stdout",
     "output_type": "stream",
     "text": [
      "CPU times: user 23.3 s, sys: 27.1 s, total: 50.4 s\n",
      "Wall time: 43min 4s\n"
     ]
    }
   ],
   "source": [
    "%%time\n",
    "indep_var = 'daynum'\n",
    "grouping = 'sampleid'\n",
    "\n",
    "fs_list = []\n",
    "lm_results = []\n",
    "with concurrent.futures.ProcessPoolExecutor(max_workers=max_threads*2) as ppe:\n",
    "    for batch_features in features_partioned:\n",
    "        fs_list.append(ppe.submit(run_mm_batch, batch_features, indep_var, data_df, grouping))\n",
    "for future in concurrent.futures.as_completed(fs_list):\n",
    "    lm_results.append(future.result())"
   ]
  },
  {
   "cell_type": "code",
   "execution_count": 15,
   "id": "e5517ec2",
   "metadata": {},
   "outputs": [],
   "source": [
    "# flatten the list\n",
    "results = [item for sublist in lm_results for item in sublist]"
   ]
  },
  {
   "cell_type": "code",
   "execution_count": 17,
   "id": "1a907a16",
   "metadata": {},
   "outputs": [
    {
     "name": "stdout",
     "output_type": "stream",
     "text": [
      "(32108, 5)\n"
     ]
    },
    {
     "data": {
      "text/html": [
       "<div>\n",
       "<style scoped>\n",
       "    .dataframe tbody tr th:only-of-type {\n",
       "        vertical-align: middle;\n",
       "    }\n",
       "\n",
       "    .dataframe tbody tr th {\n",
       "        vertical-align: top;\n",
       "    }\n",
       "\n",
       "    .dataframe thead th {\n",
       "        text-align: right;\n",
       "    }\n",
       "</style>\n",
       "<table border=\"1\" class=\"dataframe\">\n",
       "  <thead>\n",
       "    <tr style=\"text-align: right;\">\n",
       "      <th></th>\n",
       "      <th>feature</th>\n",
       "      <th>coef</th>\n",
       "      <th>stderr</th>\n",
       "      <th>term_cnt</th>\n",
       "      <th>p-value</th>\n",
       "    </tr>\n",
       "  </thead>\n",
       "  <tbody>\n",
       "    <tr>\n",
       "      <th>0</th>\n",
       "      <td>ENSG00000169499.14</td>\n",
       "      <td>0.030004</td>\n",
       "      <td>0.001338</td>\n",
       "      <td>3</td>\n",
       "      <td>2.623264e-111</td>\n",
       "    </tr>\n",
       "    <tr>\n",
       "      <th>1</th>\n",
       "      <td>PCF11_AS1</td>\n",
       "      <td>-0.018897</td>\n",
       "      <td>0.001842</td>\n",
       "      <td>3</td>\n",
       "      <td>1.051302e-24</td>\n",
       "    </tr>\n",
       "    <tr>\n",
       "      <th>2</th>\n",
       "      <td>ENSG00000185164.14</td>\n",
       "      <td>0.024467</td>\n",
       "      <td>0.001457</td>\n",
       "      <td>3</td>\n",
       "      <td>2.721126e-63</td>\n",
       "    </tr>\n",
       "    <tr>\n",
       "      <th>3</th>\n",
       "      <td>lnc_DHX57_6</td>\n",
       "      <td>-0.011693</td>\n",
       "      <td>0.002093</td>\n",
       "      <td>3</td>\n",
       "      <td>2.304500e-08</td>\n",
       "    </tr>\n",
       "    <tr>\n",
       "      <th>4</th>\n",
       "      <td>ENSG00000102362.15</td>\n",
       "      <td>0.029432</td>\n",
       "      <td>0.001354</td>\n",
       "      <td>3</td>\n",
       "      <td>8.609702e-105</td>\n",
       "    </tr>\n",
       "  </tbody>\n",
       "</table>\n",
       "</div>"
      ],
      "text/plain": [
       "              feature      coef    stderr  term_cnt        p-value\n",
       "0  ENSG00000169499.14  0.030004  0.001338         3  2.623264e-111\n",
       "1           PCF11_AS1 -0.018897  0.001842         3   1.051302e-24\n",
       "2  ENSG00000185164.14  0.024467  0.001457         3   2.721126e-63\n",
       "3         lnc_DHX57_6 -0.011693  0.002093         3   2.304500e-08\n",
       "4  ENSG00000102362.15  0.029432  0.001354         3  8.609702e-105"
      ]
     },
     "metadata": {},
     "output_type": "display_data"
    }
   ],
   "source": [
    "results_df = pd.DataFrame(data=results, columns=['feature', 'coef', 'stderr', 'term_cnt', 'p-value'])\n",
    "print(results_df.shape)\n",
    "display(results_df.head())"
   ]
  },
  {
   "cell_type": "markdown",
   "id": "acc6664d",
   "metadata": {},
   "source": [
    "#### calc FDR"
   ]
  },
  {
   "cell_type": "code",
   "execution_count": 18,
   "id": "daba0ade",
   "metadata": {},
   "outputs": [
    {
     "name": "stdout",
     "output_type": "stream",
     "text": [
      "(27878, 6)\n"
     ]
    },
    {
     "name": "stderr",
     "output_type": "stream",
     "text": [
      "/opt/conda/lib/python3.7/site-packages/ipykernel/ipkernel.py:283: DeprecationWarning: `should_run_async` will not call `transform_cell` automatically in the future. Please pass the result to `transformed_cell` argument and any exception that happen during thetransform in `preprocessing_exc_tuple` in IPython 7.17 and above.\n",
      "  and should_run_async(code)\n"
     ]
    },
    {
     "data": {
      "text/html": [
       "<div>\n",
       "<style scoped>\n",
       "    .dataframe tbody tr th:only-of-type {\n",
       "        vertical-align: middle;\n",
       "    }\n",
       "\n",
       "    .dataframe tbody tr th {\n",
       "        vertical-align: top;\n",
       "    }\n",
       "\n",
       "    .dataframe thead th {\n",
       "        text-align: right;\n",
       "    }\n",
       "</style>\n",
       "<table border=\"1\" class=\"dataframe\">\n",
       "  <thead>\n",
       "    <tr style=\"text-align: right;\">\n",
       "      <th></th>\n",
       "      <th>feature</th>\n",
       "      <th>coef</th>\n",
       "      <th>stderr</th>\n",
       "      <th>term_cnt</th>\n",
       "      <th>p-value</th>\n",
       "      <th>bh_fdr</th>\n",
       "    </tr>\n",
       "  </thead>\n",
       "  <tbody>\n",
       "    <tr>\n",
       "      <th>0</th>\n",
       "      <td>ENSG00000169499.14</td>\n",
       "      <td>0.030004</td>\n",
       "      <td>0.001338</td>\n",
       "      <td>3</td>\n",
       "      <td>2.623264e-111</td>\n",
       "      <td>5.049625e-110</td>\n",
       "    </tr>\n",
       "    <tr>\n",
       "      <th>1</th>\n",
       "      <td>PCF11_AS1</td>\n",
       "      <td>-0.018897</td>\n",
       "      <td>0.001842</td>\n",
       "      <td>3</td>\n",
       "      <td>1.051302e-24</td>\n",
       "      <td>2.829912e-24</td>\n",
       "    </tr>\n",
       "    <tr>\n",
       "      <th>2</th>\n",
       "      <td>ENSG00000185164.14</td>\n",
       "      <td>0.024467</td>\n",
       "      <td>0.001457</td>\n",
       "      <td>3</td>\n",
       "      <td>2.721126e-63</td>\n",
       "      <td>1.901413e-62</td>\n",
       "    </tr>\n",
       "    <tr>\n",
       "      <th>3</th>\n",
       "      <td>lnc_DHX57_6</td>\n",
       "      <td>-0.011693</td>\n",
       "      <td>0.002093</td>\n",
       "      <td>3</td>\n",
       "      <td>2.304500e-08</td>\n",
       "      <td>3.582150e-08</td>\n",
       "    </tr>\n",
       "    <tr>\n",
       "      <th>4</th>\n",
       "      <td>ENSG00000102362.15</td>\n",
       "      <td>0.029432</td>\n",
       "      <td>0.001354</td>\n",
       "      <td>3</td>\n",
       "      <td>8.609702e-105</td>\n",
       "      <td>1.442799e-103</td>\n",
       "    </tr>\n",
       "  </tbody>\n",
       "</table>\n",
       "</div>"
      ],
      "text/plain": [
       "              feature      coef    stderr  term_cnt        p-value  \\\n",
       "0  ENSG00000169499.14  0.030004  0.001338         3  2.623264e-111   \n",
       "1           PCF11_AS1 -0.018897  0.001842         3   1.051302e-24   \n",
       "2  ENSG00000185164.14  0.024467  0.001457         3   2.721126e-63   \n",
       "3         lnc_DHX57_6 -0.011693  0.002093         3   2.304500e-08   \n",
       "4  ENSG00000102362.15  0.029432  0.001354         3  8.609702e-105   \n",
       "\n",
       "          bh_fdr  \n",
       "0  5.049625e-110  \n",
       "1   2.829912e-24  \n",
       "2   1.901413e-62  \n",
       "3   3.582150e-08  \n",
       "4  1.442799e-103  "
      ]
     },
     "metadata": {},
     "output_type": "display_data"
    }
   ],
   "source": [
    "alpha=0.05\n",
    "method='fdr_bh'\n",
    "test_adjust = smm.multipletests(np.array(results_df['p-value']),\n",
    "                                alpha=alpha, method=method)\n",
    "results_df['bh_fdr'] = test_adjust[1]\n",
    "\n",
    "print(results_df.loc[results_df['bh_fdr'] < 0.05].shape)\n",
    "display(results_df.head())"
   ]
  },
  {
   "cell_type": "code",
   "execution_count": 21,
   "id": "a2c9fbaa",
   "metadata": {},
   "outputs": [
    {
     "data": {
      "text/html": [
       "<div>\n",
       "<style scoped>\n",
       "    .dataframe tbody tr th:only-of-type {\n",
       "        vertical-align: middle;\n",
       "    }\n",
       "\n",
       "    .dataframe tbody tr th {\n",
       "        vertical-align: top;\n",
       "    }\n",
       "\n",
       "    .dataframe thead th {\n",
       "        text-align: right;\n",
       "    }\n",
       "</style>\n",
       "<table border=\"1\" class=\"dataframe\">\n",
       "  <thead>\n",
       "    <tr style=\"text-align: right;\">\n",
       "      <th></th>\n",
       "      <th>feature</th>\n",
       "      <th>coef</th>\n",
       "      <th>stderr</th>\n",
       "      <th>term_cnt</th>\n",
       "      <th>p-value</th>\n",
       "      <th>bh_fdr</th>\n",
       "    </tr>\n",
       "  </thead>\n",
       "  <tbody>\n",
       "    <tr>\n",
       "      <th>31899</th>\n",
       "      <td>ENSG00000088247.17</td>\n",
       "      <td>-0.034599</td>\n",
       "      <td>0.000908</td>\n",
       "      <td>3</td>\n",
       "      <td>0.0</td>\n",
       "      <td>0.0</td>\n",
       "    </tr>\n",
       "  </tbody>\n",
       "</table>\n",
       "</div>"
      ],
      "text/plain": [
       "                  feature      coef    stderr  term_cnt  p-value  bh_fdr\n",
       "31899  ENSG00000088247.17 -0.034599  0.000908         3      0.0     0.0"
      ]
     },
     "metadata": {},
     "output_type": "display_data"
    },
    {
     "data": {
      "text/html": [
       "<div>\n",
       "<style scoped>\n",
       "    .dataframe tbody tr th:only-of-type {\n",
       "        vertical-align: middle;\n",
       "    }\n",
       "\n",
       "    .dataframe tbody tr th {\n",
       "        vertical-align: top;\n",
       "    }\n",
       "\n",
       "    .dataframe thead th {\n",
       "        text-align: right;\n",
       "    }\n",
       "</style>\n",
       "<table border=\"1\" class=\"dataframe\">\n",
       "  <thead>\n",
       "    <tr style=\"text-align: right;\">\n",
       "      <th></th>\n",
       "      <th>feature</th>\n",
       "      <th>coef</th>\n",
       "      <th>stderr</th>\n",
       "      <th>term_cnt</th>\n",
       "      <th>p-value</th>\n",
       "      <th>bh_fdr</th>\n",
       "    </tr>\n",
       "  </thead>\n",
       "  <tbody>\n",
       "    <tr>\n",
       "      <th>25344</th>\n",
       "      <td>lnc_ZFP2_3</td>\n",
       "      <td>0.004373</td>\n",
       "      <td>0.002161</td>\n",
       "      <td>3</td>\n",
       "      <td>0.043052</td>\n",
       "      <td>0.049584</td>\n",
       "    </tr>\n",
       "  </tbody>\n",
       "</table>\n",
       "</div>"
      ],
      "text/plain": [
       "          feature      coef    stderr  term_cnt   p-value    bh_fdr\n",
       "25344  lnc_ZFP2_3  0.004373  0.002161         3  0.043052  0.049584"
      ]
     },
     "metadata": {},
     "output_type": "display_data"
    }
   ],
   "source": [
    "sig_df = results_df.loc[results_df['bh_fdr'] < 0.05]\n",
    "display(sig_df.loc[sig_df['p-value'] == min(sig_df['p-value'])])\n",
    "display(sig_df.loc[sig_df['p-value'] == max(sig_df['p-value'])])"
   ]
  },
  {
   "cell_type": "markdown",
   "id": "d2a7f585",
   "metadata": {},
   "source": [
    "#### save the simple mixed model results"
   ]
  },
  {
   "cell_type": "code",
   "execution_count": 20,
   "id": "5e68ebcd",
   "metadata": {},
   "outputs": [],
   "source": [
    "out_file = f'{results_dir}/{cohort}.expr_time_mm.csv'\n",
    "sig_df.to_csv(out_file, index=False)"
   ]
  },
  {
   "cell_type": "markdown",
   "id": "cc627f97",
   "metadata": {},
   "source": [
    "#### do some example plotting"
   ]
  },
  {
   "cell_type": "code",
   "execution_count": 23,
   "id": "520d8675",
   "metadata": {},
   "outputs": [
    {
     "data": {
      "text/plain": [
       "<seaborn.axisgrid.FacetGrid at 0x7f73f766a090>"
      ]
     },
     "execution_count": 23,
     "metadata": {},
     "output_type": "execute_result"
    },
    {
     "data": {
      "image/png": "[encoded data removed]",
      "text/plain": [
       "<Figure size 495.125x360 with 1 Axes>"
      ]
     },
     "metadata": {
      "needs_background": "light"
     },
     "output_type": "display_data"
    }
   ],
   "source": [
    "sns.lmplot(x='daynum', y='ENSG00000088247.17', hue='case_control_other_latest', \n",
    "           data=data_df, palette='Set1')"
   ]
  },
  {
   "cell_type": "code",
   "execution_count": 24,
   "id": "464e4f4a",
   "metadata": {},
   "outputs": [
    {
     "name": "stderr",
     "output_type": "stream",
     "text": [
      "/opt/conda/lib/python3.7/site-packages/ipykernel/ipkernel.py:283: DeprecationWarning: `should_run_async` will not call `transform_cell` automatically in the future. Please pass the result to `transformed_cell` argument and any exception that happen during thetransform in `preprocessing_exc_tuple` in IPython 7.17 and above.\n",
      "  and should_run_async(code)\n"
     ]
    },
    {
     "data": {
      "text/plain": [
       "<AxesSubplot:xlabel='daynum', ylabel='lnc_ZFP2_3'>"
      ]
     },
     "execution_count": 24,
     "metadata": {},
     "output_type": "execute_result"
    },
    {
     "data": {
      "image/png": "[encoded data removed]",
      "text/plain": [
       "<Figure size 432x288 with 1 Axes>"
      ]
     },
     "metadata": {
      "needs_background": "light"
     },
     "output_type": "display_data"
    }
   ],
   "source": [
    "sns.lineplot(x='daynum', y='lnc_ZFP2_3', hue='case_control_other_latest', \n",
    "           data=data_df, palette='Set1')"
   ]
  },
  {
   "cell_type": "markdown",
   "id": "9ddb213c",
   "metadata": {},
   "source": [
    "### now re-run everything including age and sex in the mixed model by subject"
   ]
  },
  {
   "cell_type": "markdown",
   "id": "ac299f89",
   "metadata": {},
   "source": [
    "#### run the model with extra covariates"
   ]
  },
  {
   "cell_type": "code",
   "execution_count": 14,
   "id": "4e677b00",
   "metadata": {},
   "outputs": [
    {
     "name": "stdout",
     "output_type": "stream",
     "text": [
      "(286, 32209)\n"
     ]
    }
   ],
   "source": [
    "# extra covariates are 'age_at_baseline', 'sex', some are null remove those rows\n",
    "data_df = data_df.loc[(~data_df['age_at_baseline'].isna()) & (~data_df['sex'].isna())]\n",
    "print(data_df.shape)"
   ]
  },
  {
   "cell_type": "code",
   "execution_count": 15,
   "id": "0dabedb4",
   "metadata": {},
   "outputs": [
    {
     "name": "stdout",
     "output_type": "stream",
     "text": [
      "CPU times: user 23.2 s, sys: 26.5 s, total: 49.8 s\n",
      "Wall time: 47min 23s\n"
     ]
    }
   ],
   "source": [
    "%%time\n",
    "indep_var = 'daynum'\n",
    "grouping = 'sampleid'\n",
    "\n",
    "fs_list = []\n",
    "lm_results = []\n",
    "with concurrent.futures.ProcessPoolExecutor(max_workers=max_threads*2) as ppe:\n",
    "    for batch_features in features_partioned:\n",
    "        fs_list.append(ppe.submit(run_mm_batch, batch_features, indep_var, data_df, grouping, True))\n",
    "for future in concurrent.futures.as_completed(fs_list):\n",
    "    lm_results.append(future.result())"
   ]
  },
  {
   "cell_type": "code",
   "execution_count": 16,
   "id": "7efef8cb",
   "metadata": {},
   "outputs": [],
   "source": [
    "# flatten the list\n",
    "results = [item for sublist in lm_results for item in sublist]"
   ]
  },
  {
   "cell_type": "code",
   "execution_count": 17,
   "id": "ad22f283",
   "metadata": {},
   "outputs": [
    {
     "name": "stdout",
     "output_type": "stream",
     "text": [
      "(32108, 5)\n"
     ]
    },
    {
     "data": {
      "text/html": [
       "<div>\n",
       "<style scoped>\n",
       "    .dataframe tbody tr th:only-of-type {\n",
       "        vertical-align: middle;\n",
       "    }\n",
       "\n",
       "    .dataframe tbody tr th {\n",
       "        vertical-align: top;\n",
       "    }\n",
       "\n",
       "    .dataframe thead th {\n",
       "        text-align: right;\n",
       "    }\n",
       "</style>\n",
       "<table border=\"1\" class=\"dataframe\">\n",
       "  <thead>\n",
       "    <tr style=\"text-align: right;\">\n",
       "      <th></th>\n",
       "      <th>feature</th>\n",
       "      <th>coef</th>\n",
       "      <th>stderr</th>\n",
       "      <th>term_cnt</th>\n",
       "      <th>p-value</th>\n",
       "    </tr>\n",
       "  </thead>\n",
       "  <tbody>\n",
       "    <tr>\n",
       "      <th>0</th>\n",
       "      <td>ENSG00000266245.1</td>\n",
       "      <td>0.000067</td>\n",
       "      <td>0.002269</td>\n",
       "      <td>5</td>\n",
       "      <td>9.765154e-01</td>\n",
       "    </tr>\n",
       "    <tr>\n",
       "      <th>1</th>\n",
       "      <td>lnc_CAPN1_1</td>\n",
       "      <td>0.002550</td>\n",
       "      <td>0.002163</td>\n",
       "      <td>5</td>\n",
       "      <td>2.383926e-01</td>\n",
       "    </tr>\n",
       "    <tr>\n",
       "      <th>2</th>\n",
       "      <td>lnc_LAMA1_8</td>\n",
       "      <td>0.014522</td>\n",
       "      <td>0.002060</td>\n",
       "      <td>5</td>\n",
       "      <td>1.807126e-12</td>\n",
       "    </tr>\n",
       "    <tr>\n",
       "      <th>3</th>\n",
       "      <td>lnc_TMEM154_2</td>\n",
       "      <td>-0.013009</td>\n",
       "      <td>0.002122</td>\n",
       "      <td>5</td>\n",
       "      <td>8.754014e-10</td>\n",
       "    </tr>\n",
       "    <tr>\n",
       "      <th>4</th>\n",
       "      <td>ENSG00000118873.15</td>\n",
       "      <td>0.010224</td>\n",
       "      <td>0.002103</td>\n",
       "      <td>5</td>\n",
       "      <td>1.168539e-06</td>\n",
       "    </tr>\n",
       "  </tbody>\n",
       "</table>\n",
       "</div>"
      ],
      "text/plain": [
       "              feature      coef    stderr  term_cnt       p-value\n",
       "0   ENSG00000266245.1  0.000067  0.002269         5  9.765154e-01\n",
       "1         lnc_CAPN1_1  0.002550  0.002163         5  2.383926e-01\n",
       "2         lnc_LAMA1_8  0.014522  0.002060         5  1.807126e-12\n",
       "3       lnc_TMEM154_2 -0.013009  0.002122         5  8.754014e-10\n",
       "4  ENSG00000118873.15  0.010224  0.002103         5  1.168539e-06"
      ]
     },
     "metadata": {},
     "output_type": "display_data"
    }
   ],
   "source": [
    "results_df = pd.DataFrame(data=results, columns=['feature', 'coef', 'stderr', 'term_cnt', 'p-value'])\n",
    "print(results_df.shape)\n",
    "display(results_df.head())"
   ]
  },
  {
   "cell_type": "markdown",
   "id": "61d16183",
   "metadata": {},
   "source": [
    "#### calc FDR"
   ]
  },
  {
   "cell_type": "code",
   "execution_count": 18,
   "id": "c556c94c",
   "metadata": {},
   "outputs": [
    {
     "name": "stdout",
     "output_type": "stream",
     "text": [
      "(27864, 6)\n"
     ]
    },
    {
     "name": "stderr",
     "output_type": "stream",
     "text": [
      "/opt/conda/lib/python3.7/site-packages/ipykernel/ipkernel.py:283: DeprecationWarning: `should_run_async` will not call `transform_cell` automatically in the future. Please pass the result to `transformed_cell` argument and any exception that happen during thetransform in `preprocessing_exc_tuple` in IPython 7.17 and above.\n",
      "  and should_run_async(code)\n"
     ]
    },
    {
     "data": {
      "text/html": [
       "<div>\n",
       "<style scoped>\n",
       "    .dataframe tbody tr th:only-of-type {\n",
       "        vertical-align: middle;\n",
       "    }\n",
       "\n",
       "    .dataframe tbody tr th {\n",
       "        vertical-align: top;\n",
       "    }\n",
       "\n",
       "    .dataframe thead th {\n",
       "        text-align: right;\n",
       "    }\n",
       "</style>\n",
       "<table border=\"1\" class=\"dataframe\">\n",
       "  <thead>\n",
       "    <tr style=\"text-align: right;\">\n",
       "      <th></th>\n",
       "      <th>feature</th>\n",
       "      <th>coef</th>\n",
       "      <th>stderr</th>\n",
       "      <th>term_cnt</th>\n",
       "      <th>p-value</th>\n",
       "      <th>bh_fdr</th>\n",
       "    </tr>\n",
       "  </thead>\n",
       "  <tbody>\n",
       "    <tr>\n",
       "      <th>0</th>\n",
       "      <td>ENSG00000266245.1</td>\n",
       "      <td>0.000067</td>\n",
       "      <td>0.002269</td>\n",
       "      <td>5</td>\n",
       "      <td>9.765154e-01</td>\n",
       "      <td>9.782826e-01</td>\n",
       "    </tr>\n",
       "    <tr>\n",
       "      <th>1</th>\n",
       "      <td>lnc_CAPN1_1</td>\n",
       "      <td>0.002550</td>\n",
       "      <td>0.002163</td>\n",
       "      <td>5</td>\n",
       "      <td>2.383926e-01</td>\n",
       "      <td>2.583471e-01</td>\n",
       "    </tr>\n",
       "    <tr>\n",
       "      <th>2</th>\n",
       "      <td>lnc_LAMA1_8</td>\n",
       "      <td>0.014522</td>\n",
       "      <td>0.002060</td>\n",
       "      <td>5</td>\n",
       "      <td>1.807126e-12</td>\n",
       "      <td>3.297147e-12</td>\n",
       "    </tr>\n",
       "    <tr>\n",
       "      <th>3</th>\n",
       "      <td>lnc_TMEM154_2</td>\n",
       "      <td>-0.013009</td>\n",
       "      <td>0.002122</td>\n",
       "      <td>5</td>\n",
       "      <td>8.754014e-10</td>\n",
       "      <td>1.439338e-09</td>\n",
       "    </tr>\n",
       "    <tr>\n",
       "      <th>4</th>\n",
       "      <td>ENSG00000118873.15</td>\n",
       "      <td>0.010224</td>\n",
       "      <td>0.002103</td>\n",
       "      <td>5</td>\n",
       "      <td>1.168539e-06</td>\n",
       "      <td>1.696024e-06</td>\n",
       "    </tr>\n",
       "  </tbody>\n",
       "</table>\n",
       "</div>"
      ],
      "text/plain": [
       "              feature      coef    stderr  term_cnt       p-value  \\\n",
       "0   ENSG00000266245.1  0.000067  0.002269         5  9.765154e-01   \n",
       "1         lnc_CAPN1_1  0.002550  0.002163         5  2.383926e-01   \n",
       "2         lnc_LAMA1_8  0.014522  0.002060         5  1.807126e-12   \n",
       "3       lnc_TMEM154_2 -0.013009  0.002122         5  8.754014e-10   \n",
       "4  ENSG00000118873.15  0.010224  0.002103         5  1.168539e-06   \n",
       "\n",
       "         bh_fdr  \n",
       "0  9.782826e-01  \n",
       "1  2.583471e-01  \n",
       "2  3.297147e-12  \n",
       "3  1.439338e-09  \n",
       "4  1.696024e-06  "
      ]
     },
     "metadata": {},
     "output_type": "display_data"
    }
   ],
   "source": [
    "alpha=0.05\n",
    "method='fdr_bh'\n",
    "test_adjust = smm.multipletests(np.array(results_df['p-value']),\n",
    "                                alpha=alpha, method=method)\n",
    "results_df['bh_fdr'] = test_adjust[1]\n",
    "\n",
    "print(results_df.loc[results_df['bh_fdr'] < 0.05].shape)\n",
    "display(results_df.head())"
   ]
  },
  {
   "cell_type": "markdown",
   "id": "1556b147",
   "metadata": {},
   "source": [
    "#### save the discovery cohort results"
   ]
  },
  {
   "cell_type": "code",
   "execution_count": 21,
   "id": "0d63f6d2",
   "metadata": {},
   "outputs": [
    {
     "data": {
      "text/html": [
       "<div>\n",
       "<style scoped>\n",
       "    .dataframe tbody tr th:only-of-type {\n",
       "        vertical-align: middle;\n",
       "    }\n",
       "\n",
       "    .dataframe tbody tr th {\n",
       "        vertical-align: top;\n",
       "    }\n",
       "\n",
       "    .dataframe thead th {\n",
       "        text-align: right;\n",
       "    }\n",
       "</style>\n",
       "<table border=\"1\" class=\"dataframe\">\n",
       "  <thead>\n",
       "    <tr style=\"text-align: right;\">\n",
       "      <th></th>\n",
       "      <th>feature</th>\n",
       "      <th>coef</th>\n",
       "      <th>stderr</th>\n",
       "      <th>term_cnt</th>\n",
       "      <th>p-value</th>\n",
       "      <th>bh_fdr</th>\n",
       "    </tr>\n",
       "  </thead>\n",
       "  <tbody>\n",
       "    <tr>\n",
       "      <th>111</th>\n",
       "      <td>ENSG00000088247.17</td>\n",
       "      <td>-0.034746</td>\n",
       "      <td>0.000914</td>\n",
       "      <td>5</td>\n",
       "      <td>0.0</td>\n",
       "      <td>0.0</td>\n",
       "    </tr>\n",
       "  </tbody>\n",
       "</table>\n",
       "</div>"
      ],
      "text/plain": [
       "                feature      coef    stderr  term_cnt  p-value  bh_fdr\n",
       "111  ENSG00000088247.17 -0.034746  0.000914         5      0.0     0.0"
      ]
     },
     "metadata": {},
     "output_type": "display_data"
    },
    {
     "data": {
      "text/html": [
       "<div>\n",
       "<style scoped>\n",
       "    .dataframe tbody tr th:only-of-type {\n",
       "        vertical-align: middle;\n",
       "    }\n",
       "\n",
       "    .dataframe tbody tr th {\n",
       "        vertical-align: top;\n",
       "    }\n",
       "\n",
       "    .dataframe thead th {\n",
       "        text-align: right;\n",
       "    }\n",
       "</style>\n",
       "<table border=\"1\" class=\"dataframe\">\n",
       "  <thead>\n",
       "    <tr style=\"text-align: right;\">\n",
       "      <th></th>\n",
       "      <th>feature</th>\n",
       "      <th>coef</th>\n",
       "      <th>stderr</th>\n",
       "      <th>term_cnt</th>\n",
       "      <th>p-value</th>\n",
       "      <th>bh_fdr</th>\n",
       "    </tr>\n",
       "  </thead>\n",
       "  <tbody>\n",
       "    <tr>\n",
       "      <th>6024</th>\n",
       "      <td>LINC00630</td>\n",
       "      <td>0.004537</td>\n",
       "      <td>0.002246</td>\n",
       "      <td>5</td>\n",
       "      <td>0.043347</td>\n",
       "      <td>0.049949</td>\n",
       "    </tr>\n",
       "  </tbody>\n",
       "</table>\n",
       "</div>"
      ],
      "text/plain": [
       "        feature      coef    stderr  term_cnt   p-value    bh_fdr\n",
       "6024  LINC00630  0.004537  0.002246         5  0.043347  0.049949"
      ]
     },
     "metadata": {},
     "output_type": "display_data"
    }
   ],
   "source": [
    "sig_df = results_df.loc[results_df['bh_fdr'] < 0.05]\n",
    "display(sig_df.loc[sig_df['p-value'] == min(sig_df['p-value'])])\n",
    "display(sig_df.loc[sig_df['p-value'] == max(sig_df['p-value'])])"
   ]
  },
  {
   "cell_type": "code",
   "execution_count": 20,
   "id": "ac8341d2",
   "metadata": {},
   "outputs": [],
   "source": [
    "out_file = f'{results_dir}/{cohort}.expr_time_cov_mm.csv'\n",
    "sig_df.to_csv(out_file, index=False)"
   ]
  },
  {
   "cell_type": "markdown",
   "id": "337b1bd3",
   "metadata": {},
   "source": [
    "#### do some example plotting"
   ]
  },
  {
   "cell_type": "code",
   "execution_count": 24,
   "id": "558eef13",
   "metadata": {},
   "outputs": [
    {
     "name": "stderr",
     "output_type": "stream",
     "text": [
      "/opt/conda/lib/python3.7/site-packages/ipykernel/ipkernel.py:283: DeprecationWarning: `should_run_async` will not call `transform_cell` automatically in the future. Please pass the result to `transformed_cell` argument and any exception that happen during thetransform in `preprocessing_exc_tuple` in IPython 7.17 and above.\n",
      "  and should_run_async(code)\n"
     ]
    },
    {
     "data": {
      "text/plain": [
       "<AxesSubplot:xlabel='daynum', ylabel='ENSG00000088247.17'>"
      ]
     },
     "execution_count": 24,
     "metadata": {},
     "output_type": "execute_result"
    },
    {
     "data": {
      "image/png": "[encoded data removed]",
      "text/plain": [
       "<Figure size 432x288 with 1 Axes>"
      ]
     },
     "metadata": {
      "needs_background": "light"
     },
     "output_type": "display_data"
    }
   ],
   "source": [
    "sns.lineplot(x='daynum', y='ENSG00000088247.17', hue='case_control_other_latest', \n",
    "           data=data_df, palette='Set1')"
   ]
  },
  {
   "cell_type": "code",
   "execution_count": 23,
   "id": "270f6422",
   "metadata": {},
   "outputs": [
    {
     "name": "stderr",
     "output_type": "stream",
     "text": [
      "/opt/conda/lib/python3.7/site-packages/ipykernel/ipkernel.py:283: DeprecationWarning: `should_run_async` will not call `transform_cell` automatically in the future. Please pass the result to `transformed_cell` argument and any exception that happen during thetransform in `preprocessing_exc_tuple` in IPython 7.17 and above.\n",
      "  and should_run_async(code)\n"
     ]
    },
    {
     "data": {
      "text/plain": [
       "<AxesSubplot:xlabel='daynum', ylabel='LINC00630'>"
      ]
     },
     "execution_count": 23,
     "metadata": {},
     "output_type": "execute_result"
    },
    {
     "data": {
      "image/png": "[encoded data removed]",
      "text/plain": [
       "<Figure size 432x288 with 1 Axes>"
      ]
     },
     "metadata": {
      "needs_background": "light"
     },
     "output_type": "display_data"
    }
   ],
   "source": [
    "sns.lineplot(x='daynum', y='LINC00630', hue='case_control_other_latest', \n",
    "           data=data_df, palette='Set1')"
   ]
  },
  {
   "cell_type": "markdown",
   "id": "66a227f2",
   "metadata": {},
   "source": [
    "#### check the replicated mixed model results against the mixed model results also adjusted for age and sex"
   ]
  },
  {
   "cell_type": "code",
   "execution_count": 30,
   "id": "d11566bc",
   "metadata": {},
   "outputs": [
    {
     "name": "stdout",
     "output_type": "stream",
     "text": [
      "(27878, 6)\n",
      "(27864, 6)\n"
     ]
    },
    {
     "name": "stderr",
     "output_type": "stream",
     "text": [
      "/opt/conda/lib/python3.7/site-packages/ipykernel/ipkernel.py:283: DeprecationWarning: `should_run_async` will not call `transform_cell` automatically in the future. Please pass the result to `transformed_cell` argument and any exception that happen during thetransform in `preprocessing_exc_tuple` in IPython 7.17 and above.\n",
      "  and should_run_async(code)\n"
     ]
    }
   ],
   "source": [
    "mm_file = f'{results_dir}/{cohort}.expr_time_mm.csv'\n",
    "mm_cov_file =  f'{results_dir}/{cohort}.expr_time_cov_mm.csv'\n",
    "mm_results_df = pd.read_csv(mm_file)\n",
    "mm_results_df = mm_results_df.loc[mm_results_df['bh_fdr'] < 0.05]\n",
    "print(mm_results_df.shape)\n",
    "mm_cov_results_df = pd.read_csv(mm_cov_file)\n",
    "mm_cov_results_df = mm_cov_results_df.loc[mm_cov_results_df['bh_fdr'] < 0.05]\n",
    "print(mm_cov_results_df.shape)"
   ]
  },
  {
   "cell_type": "code",
   "execution_count": 31,
   "id": "3f387712",
   "metadata": {},
   "outputs": [
    {
     "name": "stdout",
     "output_type": "stream",
     "text": [
      "27792\n",
      "86\n",
      "72\n"
     ]
    },
    {
     "name": "stderr",
     "output_type": "stream",
     "text": [
      "/opt/conda/lib/python3.7/site-packages/ipykernel/ipkernel.py:283: DeprecationWarning: `should_run_async` will not call `transform_cell` automatically in the future. Please pass the result to `transformed_cell` argument and any exception that happen during thetransform in `preprocessing_exc_tuple` in IPython 7.17 and above.\n",
      "  and should_run_async(code)\n"
     ]
    }
   ],
   "source": [
    "in_both = set(mm_results_df['feature']) & set(mm_cov_results_df['feature'])\n",
    "print(len(in_both))\n",
    "in_just_mm = set(mm_results_df['feature']) - set(mm_cov_results_df['feature']) \n",
    "print(len(in_just_mm))\n",
    "in_just_mm_cov = set(mm_cov_results_df['feature']) - set(mm_results_df['feature'])\n",
    "print(len(in_just_mm_cov))"
   ]
  },
  {
   "cell_type": "code",
   "execution_count": 32,
   "id": "77326f69",
   "metadata": {},
   "outputs": [],
   "source": [
    "both_file = f'{results_dir}/{cohort}.expr_time_mm_and_mmcov.csv'\n",
    "just_mm_file = f'{results_dir}/{cohort}.expr_time_mm_only.csv'\n",
    "just_mmcov_file = f'{results_dir}/{cohort}.expr_time_mmcov_only.csv'\n",
    "\n",
    "mm_results_df.loc[mm_results_df['feature'].isin(in_both)].to_csv(both_file, index=False)\n",
    "mm_results_df.loc[mm_results_df['feature'].isin(in_just_mm)].to_csv(just_mm_file, index=False)\n",
    "mm_cov_results_df.loc[mm_cov_results_df['feature'].isin(in_just_mm_cov)].to_csv(just_mmcov_file, index=False)"
   ]
  },
  {
   "cell_type": "code",
   "execution_count": 33,
   "id": "6d4f70bb",
   "metadata": {},
   "outputs": [
    {
     "data": {
      "text/html": [
       "<div>\n",
       "<style scoped>\n",
       "    .dataframe tbody tr th:only-of-type {\n",
       "        vertical-align: middle;\n",
       "    }\n",
       "\n",
       "    .dataframe tbody tr th {\n",
       "        vertical-align: top;\n",
       "    }\n",
       "\n",
       "    .dataframe thead th {\n",
       "        text-align: right;\n",
       "    }\n",
       "</style>\n",
       "<table border=\"1\" class=\"dataframe\">\n",
       "  <thead>\n",
       "    <tr style=\"text-align: right;\">\n",
       "      <th></th>\n",
       "      <th>feature</th>\n",
       "      <th>coef</th>\n",
       "      <th>stderr</th>\n",
       "      <th>term_cnt</th>\n",
       "      <th>p-value</th>\n",
       "      <th>bh_fdr</th>\n",
       "    </tr>\n",
       "  </thead>\n",
       "  <tbody>\n",
       "    <tr>\n",
       "      <th>0</th>\n",
       "      <td>ENSG00000169499.14</td>\n",
       "      <td>0.030004</td>\n",
       "      <td>0.001338</td>\n",
       "      <td>3</td>\n",
       "      <td>2.623264e-111</td>\n",
       "      <td>5.049625e-110</td>\n",
       "    </tr>\n",
       "    <tr>\n",
       "      <th>1</th>\n",
       "      <td>PCF11_AS1</td>\n",
       "      <td>-0.018897</td>\n",
       "      <td>0.001842</td>\n",
       "      <td>3</td>\n",
       "      <td>1.051302e-24</td>\n",
       "      <td>2.829912e-24</td>\n",
       "    </tr>\n",
       "    <tr>\n",
       "      <th>2</th>\n",
       "      <td>ENSG00000185164.14</td>\n",
       "      <td>0.024467</td>\n",
       "      <td>0.001457</td>\n",
       "      <td>3</td>\n",
       "      <td>2.721126e-63</td>\n",
       "      <td>1.901413e-62</td>\n",
       "    </tr>\n",
       "    <tr>\n",
       "      <th>3</th>\n",
       "      <td>lnc_DHX57_6</td>\n",
       "      <td>-0.011693</td>\n",
       "      <td>0.002093</td>\n",
       "      <td>3</td>\n",
       "      <td>2.304500e-08</td>\n",
       "      <td>3.582150e-08</td>\n",
       "    </tr>\n",
       "    <tr>\n",
       "      <th>4</th>\n",
       "      <td>ENSG00000102362.15</td>\n",
       "      <td>0.029432</td>\n",
       "      <td>0.001354</td>\n",
       "      <td>3</td>\n",
       "      <td>8.609702e-105</td>\n",
       "      <td>1.442799e-103</td>\n",
       "    </tr>\n",
       "  </tbody>\n",
       "</table>\n",
       "</div>"
      ],
      "text/plain": [
       "              feature      coef    stderr  term_cnt        p-value  \\\n",
       "0  ENSG00000169499.14  0.030004  0.001338         3  2.623264e-111   \n",
       "1           PCF11_AS1 -0.018897  0.001842         3   1.051302e-24   \n",
       "2  ENSG00000185164.14  0.024467  0.001457         3   2.721126e-63   \n",
       "3         lnc_DHX57_6 -0.011693  0.002093         3   2.304500e-08   \n",
       "4  ENSG00000102362.15  0.029432  0.001354         3  8.609702e-105   \n",
       "\n",
       "          bh_fdr  \n",
       "0  5.049625e-110  \n",
       "1   2.829912e-24  \n",
       "2   1.901413e-62  \n",
       "3   3.582150e-08  \n",
       "4  1.442799e-103  "
      ]
     },
     "execution_count": 33,
     "metadata": {},
     "output_type": "execute_result"
    }
   ],
   "source": [
    "mm_results_df.head()"
   ]
  },
  {
   "cell_type": "code",
   "execution_count": 34,
   "id": "0a5e1277",
   "metadata": {},
   "outputs": [
    {
     "name": "stderr",
     "output_type": "stream",
     "text": [
      "/opt/conda/lib/python3.7/site-packages/ipykernel/ipkernel.py:283: DeprecationWarning: `should_run_async` will not call `transform_cell` automatically in the future. Please pass the result to `transformed_cell` argument and any exception that happen during thetransform in `preprocessing_exc_tuple` in IPython 7.17 and above.\n",
      "  and should_run_async(code)\n"
     ]
    },
    {
     "data": {
      "text/html": [
       "<div>\n",
       "<style scoped>\n",
       "    .dataframe tbody tr th:only-of-type {\n",
       "        vertical-align: middle;\n",
       "    }\n",
       "\n",
       "    .dataframe tbody tr th {\n",
       "        vertical-align: top;\n",
       "    }\n",
       "\n",
       "    .dataframe thead th {\n",
       "        text-align: right;\n",
       "    }\n",
       "</style>\n",
       "<table border=\"1\" class=\"dataframe\">\n",
       "  <thead>\n",
       "    <tr style=\"text-align: right;\">\n",
       "      <th></th>\n",
       "      <th>feature</th>\n",
       "      <th>coef</th>\n",
       "      <th>stderr</th>\n",
       "      <th>term_cnt</th>\n",
       "      <th>p-value</th>\n",
       "      <th>bh_fdr</th>\n",
       "    </tr>\n",
       "  </thead>\n",
       "  <tbody>\n",
       "    <tr>\n",
       "      <th>2</th>\n",
       "      <td>lnc_LAMA1_8</td>\n",
       "      <td>0.014522</td>\n",
       "      <td>0.002060</td>\n",
       "      <td>5</td>\n",
       "      <td>1.807126e-12</td>\n",
       "      <td>3.297147e-12</td>\n",
       "    </tr>\n",
       "    <tr>\n",
       "      <th>3</th>\n",
       "      <td>lnc_TMEM154_2</td>\n",
       "      <td>-0.013009</td>\n",
       "      <td>0.002122</td>\n",
       "      <td>5</td>\n",
       "      <td>8.754014e-10</td>\n",
       "      <td>1.439338e-09</td>\n",
       "    </tr>\n",
       "    <tr>\n",
       "      <th>4</th>\n",
       "      <td>ENSG00000118873.15</td>\n",
       "      <td>0.010224</td>\n",
       "      <td>0.002103</td>\n",
       "      <td>5</td>\n",
       "      <td>1.168539e-06</td>\n",
       "      <td>1.696024e-06</td>\n",
       "    </tr>\n",
       "    <tr>\n",
       "      <th>5</th>\n",
       "      <td>lnc_ZNF568_4</td>\n",
       "      <td>0.007300</td>\n",
       "      <td>0.002189</td>\n",
       "      <td>5</td>\n",
       "      <td>8.533429e-04</td>\n",
       "      <td>1.088477e-03</td>\n",
       "    </tr>\n",
       "    <tr>\n",
       "      <th>6</th>\n",
       "      <td>lnc_NAGK_2</td>\n",
       "      <td>0.022303</td>\n",
       "      <td>0.001656</td>\n",
       "      <td>5</td>\n",
       "      <td>2.324264e-41</td>\n",
       "      <td>9.828455e-41</td>\n",
       "    </tr>\n",
       "  </tbody>\n",
       "</table>\n",
       "</div>"
      ],
      "text/plain": [
       "              feature      coef    stderr  term_cnt       p-value  \\\n",
       "2         lnc_LAMA1_8  0.014522  0.002060         5  1.807126e-12   \n",
       "3       lnc_TMEM154_2 -0.013009  0.002122         5  8.754014e-10   \n",
       "4  ENSG00000118873.15  0.010224  0.002103         5  1.168539e-06   \n",
       "5        lnc_ZNF568_4  0.007300  0.002189         5  8.533429e-04   \n",
       "6          lnc_NAGK_2  0.022303  0.001656         5  2.324264e-41   \n",
       "\n",
       "         bh_fdr  \n",
       "2  3.297147e-12  \n",
       "3  1.439338e-09  \n",
       "4  1.696024e-06  \n",
       "5  1.088477e-03  \n",
       "6  9.828455e-41  "
      ]
     },
     "execution_count": 34,
     "metadata": {},
     "output_type": "execute_result"
    }
   ],
   "source": [
    "mm_cov_results_df.head()"
   ]
  },
  {
   "cell_type": "code",
   "execution_count": 35,
   "id": "e4d9051e",
   "metadata": {},
   "outputs": [
    {
     "name": "stdout",
     "output_type": "stream",
     "text": [
      "(27792, 11)\n"
     ]
    },
    {
     "name": "stderr",
     "output_type": "stream",
     "text": [
      "/opt/conda/lib/python3.7/site-packages/ipykernel/ipkernel.py:283: DeprecationWarning: `should_run_async` will not call `transform_cell` automatically in the future. Please pass the result to `transformed_cell` argument and any exception that happen during thetransform in `preprocessing_exc_tuple` in IPython 7.17 and above.\n",
      "  and should_run_async(code)\n"
     ]
    }
   ],
   "source": [
    "both_df = mm_results_df.merge(mm_cov_results_df, how='inner', left_on='feature', right_on='feature')\n",
    "print(both_df.shape)"
   ]
  },
  {
   "cell_type": "code",
   "execution_count": 37,
   "id": "d4fc3f44",
   "metadata": {},
   "outputs": [
    {
     "name": "stderr",
     "output_type": "stream",
     "text": [
      "/opt/conda/lib/python3.7/site-packages/pandas/core/arraylike.py:358: RuntimeWarning: divide by zero encountered in log10\n",
      "  result = getattr(ufunc, method)(*inputs, **kwargs)\n"
     ]
    }
   ],
   "source": [
    "results_df['log10_pvalue'] = np.log10(results_df['p-value'])*-1\n",
    "results_df['t_score'] = results_df['coef']/results_df['stderr']"
   ]
  },
  {
   "cell_type": "code",
   "execution_count": 38,
   "id": "c18ba6a2",
   "metadata": {},
   "outputs": [
    {
     "data": {
      "text/plain": [
       "<AxesSubplot:xlabel='coef_x', ylabel='coef_y'>"
      ]
     },
     "execution_count": 38,
     "metadata": {},
     "output_type": "execute_result"
    },
    {
     "data": {
      "image/png": "[encoded data removed]",
      "text/plain": [
       "<Figure size 432x288 with 1 Axes>"
      ]
     },
     "metadata": {
      "needs_background": "light"
     },
     "output_type": "display_data"
    }
   ],
   "source": [
    "sns.scatterplot(x='coef_x', y='coef_y', data=both_df)"
   ]
  },
  {
   "cell_type": "code",
   "execution_count": null,
   "id": "7801c985",
   "metadata": {},
   "outputs": [],
   "source": []
  }
 ],
 "metadata": {
  "environment": {
   "name": "pytorch-gpu.1-7.m65",
   "type": "gcloud",
   "uri": "gcr.io/deeplearning-platform-release/pytorch-gpu.1-7:m65"
  },
  "kernelspec": {
   "display_name": "Python 3 (ipykernel)",
   "language": "python",
   "name": "python3"
  },
  "language_info": {
   "codemirror_mode": {
    "name": "ipython",
    "version": 3
   },
   "file_extension": ".py",
   "mimetype": "text/x-python",
   "name": "python",
   "nbconvert_exporter": "python",
   "pygments_lexer": "ipython3",
   "version": "3.8.11"
  },
  "widgets": {
   "application/vnd.jupyter.widget-state+json": {
    "state": {},
    "version_major": 2,
    "version_minor": 0
   }
  }
 },
 "nbformat": 4,
 "nbformat_minor": 5
}
