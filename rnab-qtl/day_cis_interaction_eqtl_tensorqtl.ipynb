{
 "cells": [
  {
   "cell_type": "markdown",
   "metadata": {},
   "source": [
    "## Notebook to run interaction *cis*-eQTL interaction analysis using [tensorQTL](https://github.com/broadinstitute/tensorqtl)\n",
    "\n",
    "[Taylor-Weiner, Aguet, et al., Genome Biol. 20:228, 2019.](https://genomebiology.biomedcentral.com/articles/10.1186/s13059-019-1836-7)"
   ]
  },
  {
   "cell_type": "code",
   "execution_count": null,
   "metadata": {},
   "outputs": [],
   "source": [
    "!date"
   ]
  },
  {
   "cell_type": "markdown",
   "metadata": {},
   "source": [
    "#### import libraries and set notebook variables"
   ]
  },
  {
   "cell_type": "code",
   "execution_count": null,
   "metadata": {},
   "outputs": [],
   "source": [
    "import pandas as pd\n",
    "import torch\n",
    "import dask.dataframe as dd\n",
    "import tensorqtl.tensorqtl as tensorqtl\n",
    "from tensorqtl.tensorqtl import genotypeio, cis, trans\n",
    "print('PyTorch {}'.format(torch.__version__))\n",
    "print('Pandas {}'.format(pd.__version__))\n",
    "\n",
    "import os\n",
    "\n",
    "import warnings\n",
    "warnings.filterwarnings('ignore')"
   ]
  },
  {
   "cell_type": "code",
   "execution_count": null,
   "metadata": {
    "tags": [
     "parameters"
    ]
   },
   "outputs": [],
   "source": [
    "# parameters\n",
    "cohort = 'foundin'\n",
    "version = 'amppdv1'\n",
    "day = 'da65'"
   ]
  },
  {
   "cell_type": "code",
   "execution_count": null,
   "metadata": {},
   "outputs": [],
   "source": [
    "# naming\n",
    "cohort_version = f'{cohort}.{version}'\n",
    "cohort_build = f'{cohort}.{day}'\n",
    "\n",
    "# directories\n",
    "wrk_dir = f'/home/jupyter/{cohort}/eqtl'\n",
    "geno_dir = f'{wrk_dir}/genotypes'\n",
    "expr_dir = f'{wrk_dir}/expression'\n",
    "info_dir = f'{wrk_dir}/sample_info'\n",
    "tensorqtl_dir = f'{wrk_dir}/tensorqtl'\n",
    "results_dir = f'{wrk_dir}/results'\n",
    "\n",
    "# input files\n",
    "expr_bed_file = f'{expr_dir}/{cohort_build}.norm.adj.bed.gz'\n",
    "bfile_prefix_path = f'{geno_dir}/{cohort_version}.bfile'\n",
    "assay_covs_files = f'{info_dir}/foundin_rnab_sample_info.csv'\n",
    "\n",
    "# output files\n",
    "used_samples_list_file = f'{info_dir}/{cohort_build}.eqtl.samples'\n",
    "\n",
    "# constant values\n",
    "alpha_value = 0.05\n",
    "min_nominal_alpha = 1e-05\n",
    "\n",
    "# cell_types_list = ['DAn', 'DopaminergicNeurons', 'EarlyneuronProgenitor',\n",
    "#                    'ImmatureDopaminergicNeurons', 'ProliferatingFloorPlateProgenitors',\n",
    "#                    'LateneuronProgenitor', 'Ependymal-likeCells',\n",
    "#                    'Neuroepithelial-likeCells']\n",
    "cell_types_list = ['DAn']\n",
    "repeated_samples_to_exclude = [f'RNAB_PPMI3966B1_2813_{day}_v1', f'RNAB_PPMI3966B2_2813_{day}_v2',\n",
    "                               f'RNAB_PPMI3966B5_2813_{day}_v1', f'RNAB_PPMI3966B2_2813_{day}_v1',\n",
    "                               f'RNAB_PPMI3966B1_2813_{day}_v2', f'RNAB_PPMI3966B1_2813_{day}_v3',\n",
    "                               f'RNAB_PPMI3966B1_2813_{day}_v4', f'RNAB_PPMI3966B1_2813_{day}_v5',\n",
    "                               f'RNAB_PPMI3966B1_2813_{day}_v6', f'RNAB_PPMI3966B1_2813_{day}_v7',\n",
    "                               f'RNAB_PPMI3966B1_2813_{day}_v8', f'RNAB_PPMI3966B1_2813_{day}_v9']"
   ]
  },
  {
   "cell_type": "code",
   "execution_count": null,
   "metadata": {},
   "outputs": [],
   "source": [
    "os.makedirs(tensorqtl_dir, exist_ok=True)\n",
    "os.makedirs(results_dir, exist_ok=True)"
   ]
  },
  {
   "cell_type": "markdown",
   "metadata": {},
   "source": [
    "#### load phenotypes and covariates (if needed)"
   ]
  },
  {
   "cell_type": "code",
   "execution_count": null,
   "metadata": {},
   "outputs": [],
   "source": [
    "%%time\n",
    "\n",
    "phenotype_df, phenotype_pos_df = tensorqtl.read_phenotype_bed(expr_bed_file)\n",
    "covs_df = pd.read_csv(assay_covs_files, index_col=0)\n",
    "print(f'phenotype_df {phenotype_df.shape}')\n",
    "print(f'phenotype_pos_df {phenotype_pos_df.shape}')\n",
    "print(f'covariates_df {covs_df.shape}')\n",
    "# display(phenotype_df.head())\n",
    "# display(phenotype_pos_df.head())\n",
    "# display(covs_df.head())"
   ]
  },
  {
   "cell_type": "code",
   "execution_count": null,
   "metadata": {},
   "outputs": [],
   "source": [
    "phenotype_df.columns[phenotype_df.columns.str.startswith('PPMI3966')]"
   ]
  },
  {
   "cell_type": "markdown",
   "metadata": {},
   "source": [
    "#### load plink bfiles"
   ]
  },
  {
   "cell_type": "code",
   "execution_count": null,
   "metadata": {},
   "outputs": [],
   "source": [
    "%%time\n",
    "\n",
    "# pr = genotypeio.PlinkReader(bfile_prefix_path, select_samples=phenotype_df.columns)\n",
    "pr = genotypeio.PlinkReader(bfile_prefix_path)\n",
    "genotype_df = pr.load_genotypes()\n",
    "variant_df = pr.bim.set_index('snp')[['chrom', 'pos']]"
   ]
  },
  {
   "cell_type": "code",
   "execution_count": null,
   "metadata": {},
   "outputs": [],
   "source": [
    "print(genotype_df.shape)\n",
    "# display(genotype_df.head())\n",
    "print(variant_df.shape)\n",
    "# display(variant_df.head())"
   ]
  },
  {
   "cell_type": "code",
   "execution_count": null,
   "metadata": {},
   "outputs": [],
   "source": [
    "# tensorQTL says wants plink bfiles, but wants bim chrs to include 'chr'\n",
    "variant_df['chrom'] = 'chr' + variant_df['chrom']\n",
    "print(variant_df.shape)\n",
    "# display(variant_df.head())"
   ]
  },
  {
   "cell_type": "markdown",
   "metadata": {},
   "source": [
    "#### make sure the pheno and genos have same samples"
   ]
  },
  {
   "cell_type": "code",
   "execution_count": null,
   "metadata": {},
   "outputs": [],
   "source": [
    "assay_intersect_samples = set(genotype_df.columns) & set(phenotype_df.columns) \n",
    "print(f'intersect {len(assay_intersect_samples)}')\n",
    "extra_geno_samples = set(genotype_df.columns) - set(phenotype_df.columns)\n",
    "print(f'number of genotypes samples not in expression {len(extra_geno_samples)}')\n",
    "extra_expr_samples = set(phenotype_df.columns) - set(genotype_df.columns)\n",
    "print(f'number of expression samples not in genotypes {len(extra_geno_samples)}')\n",
    "\n",
    "# save the used sample list\n",
    "pd.DataFrame(data=assay_intersect_samples).to_csv(used_samples_list_file, \n",
    "                                                  index=False, header=False)"
   ]
  },
  {
   "cell_type": "markdown",
   "metadata": {},
   "source": [
    "#### drop the non-matched samples"
   ]
  },
  {
   "cell_type": "code",
   "execution_count": null,
   "metadata": {},
   "outputs": [],
   "source": [
    "genotype_df.drop(columns=extra_geno_samples, inplace=True)\n",
    "phenotype_df.drop(columns=extra_expr_samples, inplace=True)\n",
    "\n",
    "print(genotype_df.shape)\n",
    "# display(genotype_df.head())\n",
    "print(phenotype_df.shape)\n",
    "# display(phenotype_df.head())"
   ]
  },
  {
   "cell_type": "markdown",
   "metadata": {},
   "source": [
    "#### need to make sure phenos and genos have matched chromosomes; ie just autosomes"
   ]
  },
  {
   "cell_type": "code",
   "execution_count": null,
   "metadata": {},
   "outputs": [],
   "source": [
    "# need to ditch any non-autosomal genes\n",
    "assay_intersect_chroms = set(phenotype_pos_df['chr']) & set(variant_df['chrom']) \n",
    "print(f'intersect {len(assay_intersect_chroms)}')\n",
    "extra_geno_chroms = set(variant_df['chrom']) - set(phenotype_pos_df['chr'])\n",
    "print(f'number of genotypes chroms not in expression {len(extra_geno_chroms)}')\n",
    "print(extra_geno_chroms)\n",
    "extra_expr_chroms = set(phenotype_pos_df['chr']) - set(variant_df['chrom'])\n",
    "print(f'number of expression chroms not in genotypes {len(extra_expr_chroms)}')\n",
    "print(extra_expr_chroms)"
   ]
  },
  {
   "cell_type": "code",
   "execution_count": null,
   "metadata": {},
   "outputs": [],
   "source": [
    "if len(extra_geno_chroms) > 0:\n",
    "    variant_df = variant_df.loc[~variant_df['chrom'].isin(extra_geno_chroms)]\n",
    "    # this will remove variants so need to remove them from genos df as well\n",
    "    genotype_df = genotype_df.loc[genotype_df.index.isin(variant_df.index)]\n",
    "if len(extra_expr_chroms) > 0:\n",
    "    phenotype_pos_df = phenotype_pos_df.loc[~phenotype_pos_df['chr'].isin(extra_expr_chroms)]\n",
    "    # this will remove genes so need to remove them from phenos df as well\n",
    "    phenotype_df = phenotype_df.loc[phenotype_df.index.isin(phenotype_pos_df.index)]\n",
    "\n",
    "print(genotype_df.shape)\n",
    "# display(genotype_df.head())\n",
    "print(variant_df.shape)\n",
    "# display(variant_df.head())\n",
    "print(phenotype_df.shape)\n",
    "# display(phenotype_df.head())\n",
    "print(phenotype_pos_df.shape)\n",
    "# display(phenotype_pos_df.head())"
   ]
  },
  {
   "cell_type": "markdown",
   "metadata": {},
   "source": [
    "#### make sure covariates match geno and pheno samples"
   ]
  },
  {
   "cell_type": "code",
   "execution_count": null,
   "metadata": {},
   "outputs": [],
   "source": [
    "# subest covs to just this 'day'; ie all differention days covs in file\n",
    "# also since only interested in cell fractions as interaction terms, subset now\n",
    "covs_df = covs_df.loc[(covs_df['day'] == day) & (covs_df['sampleid'].isin(phenotype_df.columns))]\n",
    "covs_df = covs_df.loc[~covs_df.index.isin(repeated_samples_to_exclude)]\n",
    "print(covs_df.shape)\n",
    "\n",
    "cov_intersect_samples = set(phenotype_df.columns) & set(covs_df['sampleid']) \n",
    "print(f'intersect {len(cov_intersect_samples)}')\n",
    "extra_expr_samples = set(phenotype_df.columns) - set(covs_df['sampleid'])\n",
    "print(f'number of expression samples not in covariates {len(extra_expr_samples)}')\n",
    "extra_cov_samples = set(covs_df['sampleid']) - set(phenotype_df.columns)\n",
    "print(f'number of covariate samples not in genotypes {len(extra_cov_samples)}')"
   ]
  },
  {
   "cell_type": "markdown",
   "metadata": {},
   "source": [
    "#### run the cell-type fraction interactions; ie the cs-eQTL or ieQTL"
   ]
  },
  {
   "cell_type": "code",
   "execution_count": null,
   "metadata": {},
   "outputs": [],
   "source": [
    "%%time\n",
    "# subset just the cell fraction covariates\n",
    "keep_cols = cell_types_list + ['sampleid']\n",
    "cf_covs_df = covs_df[keep_cols]\n",
    "cf_covs_df.set_index('sampleid', inplace=True)\n",
    "print(cf_covs_df.shape)\n",
    "# display(cf_covs_df.head())\n",
    "\n",
    "for cell_type in cell_types_list:\n",
    "    cf_covs_df[cell_type].fillna(cf_covs_df[cell_type].mean(), inplace=True)"
   ]
  },
  {
   "cell_type": "code",
   "execution_count": null,
   "metadata": {},
   "outputs": [],
   "source": [
    "%%time\n",
    "for cell_type in cell_types_list:\n",
    "    print(cell_type)\n",
    "    cis.map_nominal(genotype_df, variant_df, phenotype_df, phenotype_pos_df, \n",
    "                    covariates_df=pd.DataFrame(index=phenotype_df.columns), \n",
    "                    interaction_s=cf_covs_df[cell_type],\n",
    "                    prefix=f'{cohort_build}.{cell_type}', output_dir=tensorqtl_dir,\n",
    "                    run_eigenmt=True, write_top=True, write_stats=True)\n",
    "\n",
    "# covariates_df=pd.DataFrame(index=phenotype_df.columns),"
   ]
  },
  {
   "cell_type": "markdown",
   "metadata": {},
   "source": [
    "#### load cell-type interaction top results and save significant results"
   ]
  },
  {
   "cell_type": "code",
   "execution_count": null,
   "metadata": {},
   "outputs": [],
   "source": [
    "%%time\n",
    "for cell_type in cell_types_list:\n",
    "    print(cell_type)\n",
    "    cell_top_file = f'{tensorqtl_dir}/{cohort_build}.{cell_type}.cis_qtl_top_assoc.txt.gz'\n",
    "    cell_top_results_file = f'{results_dir}/{cohort_build}.{cell_type}.cis_qtl_top_assoc.txt.gz'\n",
    "    top_cieqtl = pd.read_csv(cell_top_file, sep='\\t')\n",
    "    print(top_cieqtl.shape)\n",
    "    top_sig_cieqtl = top_cieqtl.loc[top_cieqtl['pval_adj_bh'] <= alpha_value]\n",
    "    print(top_sig_cieqtl.shape)\n",
    "    top_sig_cieqtl.to_csv(cell_top_results_file)"
   ]
  },
  {
   "cell_type": "markdown",
   "metadata": {},
   "source": [
    "#### load all the interaction results"
   ]
  },
  {
   "cell_type": "code",
   "execution_count": null,
   "metadata": {},
   "outputs": [],
   "source": [
    "this_cell_type = 'DopaminergicNeurons'\n",
    "import dask.dataframe as dd\n",
    "\n",
    "cell_files = f'{tensorqtl_dir}/{cohort_build}.{this_cell_type}.cis_qtl_pairs.chr*.parquet'\n",
    "cieqtl_df = dd.read_parquet(cell_files)"
   ]
  },
  {
   "cell_type": "code",
   "execution_count": null,
   "metadata": {},
   "outputs": [],
   "source": [
    "print(cieqtl_df.shape)\n",
    "display(cieqtl_df.head())"
   ]
  },
  {
   "cell_type": "code",
   "execution_count": null,
   "metadata": {},
   "outputs": [],
   "source": []
  }
 ],
 "metadata": {
  "environment": {
   "name": "pytorch-gpu.1-7.m65",
   "type": "gcloud",
   "uri": "gcr.io/deeplearning-platform-release/pytorch-gpu.1-7:m65"
  },
  "kernelspec": {
   "display_name": "Python 3",
   "language": "python",
   "name": "python3"
  },
  "language_info": {
   "codemirror_mode": {
    "name": "ipython",
    "version": 3
   },
   "file_extension": ".py",
   "mimetype": "text/x-python",
   "name": "python",
   "nbconvert_exporter": "python",
   "pygments_lexer": "ipython3",
   "version": "3.7.10"
  },
  "toc-autonumbering": false,
  "toc-showcode": false,
  "toc-showmarkdowntxt": false,
  "widgets": {
   "application/vnd.jupyter.widget-state+json": {
    "state": {},
    "version_major": 2,
    "version_minor": 0
   }
  }
 },
 "nbformat": 4,
 "nbformat_minor": 4
}
