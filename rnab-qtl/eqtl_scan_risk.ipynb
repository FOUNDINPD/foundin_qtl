{
 "cells": [
  {
   "cell_type": "markdown",
   "metadata": {},
   "source": [
    "## Notebook to scan PD risk and eQTL results for colocalization"
   ]
  },
  {
   "cell_type": "code",
   "execution_count": 1,
   "metadata": {},
   "outputs": [
    {
     "name": "stdout",
     "output_type": "stream",
     "text": [
      "Fri Jul 23 14:50:38 UTC 2021\n"
     ]
    }
   ],
   "source": [
    "!date"
   ]
  },
  {
   "cell_type": "markdown",
   "metadata": {},
   "source": [
    "#### import libraries and set notebook variables"
   ]
  },
  {
   "cell_type": "code",
   "execution_count": 2,
   "metadata": {},
   "outputs": [],
   "source": [
    "import pandas as pd\n",
    "import numpy as np\n",
    "import statsmodels.api as sm\n",
    "import statsmodels.formula.api as smf\n",
    "import concurrent.futures\n",
    "import seaborn as sns\n",
    "import matplotlib.pyplot as plt"
   ]
  },
  {
   "cell_type": "code",
   "execution_count": 3,
   "metadata": {
    "tags": [
     "parameters"
    ]
   },
   "outputs": [],
   "source": [
    "# parameters\n",
    "cohort = 'foundin'"
   ]
  },
  {
   "cell_type": "code",
   "execution_count": 4,
   "metadata": {},
   "outputs": [],
   "source": [
    "# naming\n",
    "\n",
    "# directories\n",
    "home_dir = '/home/jupyter'\n",
    "wrk_dir = f'{home_dir}/{cohort}/eqtl'\n",
    "expr_dir = f'{wrk_dir}/expression'\n",
    "genos_dir = f'{wrk_dir}/genotypes'\n",
    "tensorqtl_dir = f'{wrk_dir}/tensorqtl'\n",
    "results_dir = f'{wrk_dir}/results'\n",
    "gwas_dir = f'{wrk_dir}/gwas'\n",
    "\n",
    "# input files\n",
    "gencode_pkl = f'{expr_dir}/gencode_v29.lncipedia_v5_2_hc.annotation.pkl'\n",
    "eqtl_results_file = f'{results_dir}/{cohort}.cis.csv'\n",
    "meta5_st2_clean_file = f'{gwas_dir}/pd.table_s2.clean.txt'\n",
    "meta5_stats_file = f'{gwas_dir}/pdmeta_sumstats_hg38.h5'\n",
    "\n",
    "# output files\n",
    "\n",
    "# constant values\n",
    "autosomes = [str(x) for x in list(range(1,23))]\n",
    "alpha_value = 0.05\n",
    "capture_out = !(nproc)\n",
    "max_threads = int(capture_out[0])\n"
   ]
  },
  {
   "cell_type": "markdown",
   "metadata": {},
   "source": [
    "#### analysis functions"
   ]
  },
  {
   "cell_type": "code",
   "execution_count": 5,
   "metadata": {},
   "outputs": [],
   "source": [
    "def mixed_model(formula, df, group_name):\n",
    "    model = sm.MixedLM.from_formula(formula, df, groups=df[group_name])\n",
    "    result = model.fit()\n",
    "    return result\n",
    "\n",
    "def regress_tscores_keep(this_df):\n",
    "    ret_value = False\n",
    "    # run the regression, mixed effects model with day as random effect\n",
    "    this_formula = 'gwas_tscore_abs ~ eqtl_tscore_abs'\n",
    "    grouping = 'day'\n",
    "    result = mixed_model(this_formula, this_df, grouping)\n",
    "#     print(result.summary())\n",
    "    term = 'eqtl_tscore_abs'\n",
    "#     print(['feature', 'coef', 'stderr', 'term_cnt', 'p-value'])\n",
    "#     print(result.params[term], result.bse[term], \n",
    "#           result.params.shape[0], result.pvalues[term])    \n",
    "    return [result.params[term], result.bse[term], \n",
    "            result.params.shape[0], result.pvalues[term]]\n",
    "\n",
    "def create_merged_df_to_regress(eqtl_df, pheno_id, gwas_df):\n",
    "    pheno_df = eqtl_df.loc[eqtl_df['phenotype_id'] == pheno_id]\n",
    "    merged_df = pheno_df.merge(gwas_df, how='inner', \n",
    "                               left_on='variant_id', right_on='SNP')\n",
    "    # will test regression on absolute t-score instead of say p-value\n",
    "    merged_df['day'] =  merged_df['day'].astype(object)\n",
    "    merged_df['gwas_tscore_abs'] = np.abs(merged_df['b']/merged_df['se'])\n",
    "    merged_df['eqtl_tscore_abs'] = np.abs(merged_df['slope']/merged_df['slope_se'])\n",
    "\n",
    "    # for regression will only consider variants that are nominally\n",
    "    # significant in gwas or eqtl\n",
    "    df_to_return = merged_df.loc[(merged_df['pval_nominal'] < alpha_value) | \n",
    "                                 (merged_df['p'] < alpha_value)]\n",
    "    #     print(pheno_df.shape, merged_df.shape, alpha_df.shape)\n",
    "    return df_to_return\n",
    "\n",
    "def load_chrom_result(chrom, days, in_dir, cohort):\n",
    "    # have to do pass to find all phenos to possible capture\n",
    "    df_to_return = None\n",
    "    phenos_oi = []\n",
    "    for day in days:\n",
    "        chrom_file = f'{in_dir}/{cohort}.{day}.cis_qtl_pairs.chr{chrom}.parquet'\n",
    "        chrom_eqtl_df = pd.read_parquet(chrom_file)\n",
    "        oi_chrom_eqtl_df = chrom_eqtl_df.loc[chrom_eqtl_df['pval_nominal'] < max_pvalue]\n",
    "        oi_results = oi_chrom_eqtl_df.loc[oi_chrom_eqtl_df['variant_id'].isin(variants_oi_df['SNP'])]\n",
    "        phenos_oi = phenos_oi + list(oi_results['phenotype_id'].unique())\n",
    "\n",
    "    # do pass to keep results that belong those phenos\n",
    "    for day in days:\n",
    "        chrom_file = f'{in_dir}/{cohort}.{day}.cis_qtl_pairs.chr{chrom}.parquet'\n",
    "        chrom_eqtl_df = pd.read_parquet(chrom_file)\n",
    "        possible_results_oi = chrom_eqtl_df.loc[chrom_eqtl_df['phenotype_id'].isin(phenos_oi)].copy()\n",
    "        possible_results_oi['day'] = day\n",
    "        df_to_return = pd.concat([df_to_return, possible_results_oi])\n",
    "    return phenos_oi, df_to_return\n",
    "\n",
    "def process_regression_check(chrom, days, in_dir, cohort, gwas_df):\n",
    "    results_to_keep = None\n",
    "    phenos_oi, results_to_test = load_chrom_result(chrom, days, in_dir, cohort)\n",
    "    print(f'chr {chrom} shape {results_to_test.shape}')\n",
    "    # display(results_to_test.sample(5))\n",
    "\n",
    "    # test the GWAS~eQTL regression for possible significance\n",
    "    for phenotype_id in phenos_oi:\n",
    "        alpha_df = create_merged_df_to_regress(results_to_test, phenotype_id, gwas_df)\n",
    "        \n",
    "        # ['coef', 'stderr', 'term_cnt', 'p-value']\n",
    "        ret_vals = regress_tscores_keep(alpha_df)\n",
    "        # must have postive coefficient and nomically significant p-value\n",
    "        if ret_vals[0] > 0 and ret_vals[3] < alpha_value:\n",
    "            results_to_keep = pd.concat([results_to_keep, alpha_df])\n",
    "            \n",
    "#         if phenotype_id == 'ENSG00000117280.12':\n",
    "#             print(ret_vals)\n",
    "    return results_to_keep"
   ]
  },
  {
   "cell_type": "markdown",
   "metadata": {},
   "source": [
    "#### load the gencode annotations"
   ]
  },
  {
   "cell_type": "code",
   "execution_count": 6,
   "metadata": {},
   "outputs": [
    {
     "name": "stdout",
     "output_type": "stream",
     "text": [
      "(2955698, 50)\n"
     ]
    },
    {
     "data": {
      "text/html": [
       "<div>\n",
       "<style scoped>\n",
       "    .dataframe tbody tr th:only-of-type {\n",
       "        vertical-align: middle;\n",
       "    }\n",
       "\n",
       "    .dataframe tbody tr th {\n",
       "        vertical-align: top;\n",
       "    }\n",
       "\n",
       "    .dataframe thead th {\n",
       "        text-align: right;\n",
       "    }\n",
       "</style>\n",
       "<table border=\"1\" class=\"dataframe\">\n",
       "  <thead>\n",
       "    <tr style=\"text-align: right;\">\n",
       "      <th></th>\n",
       "      <th>seqname</th>\n",
       "      <th>source</th>\n",
       "      <th>feature</th>\n",
       "      <th>start</th>\n",
       "      <th>end</th>\n",
       "      <th>score</th>\n",
       "      <th>strand</th>\n",
       "      <th>frame</th>\n",
       "      <th>ID</th>\n",
       "      <th>ccdsid</th>\n",
       "      <th>...</th>\n",
       "      <th>transcript_alias_4</th>\n",
       "      <th>transcript_alias_5</th>\n",
       "      <th>transcript_alias_6</th>\n",
       "      <th>transcript_alias_7</th>\n",
       "      <th>transcript_alias_8</th>\n",
       "      <th>transcript_alias_9</th>\n",
       "      <th>transcript_id</th>\n",
       "      <th>transcript_name</th>\n",
       "      <th>transcript_support_level</th>\n",
       "      <th>transcript_type</th>\n",
       "    </tr>\n",
       "  </thead>\n",
       "  <tbody>\n",
       "    <tr>\n",
       "      <th>0</th>\n",
       "      <td>chr10</td>\n",
       "      <td>ENSEMBL</td>\n",
       "      <td>CDS</td>\n",
       "      <td>100275465</td>\n",
       "      <td>100275493</td>\n",
       "      <td>.</td>\n",
       "      <td>-</td>\n",
       "      <td>2</td>\n",
       "      <td>NaN</td>\n",
       "      <td>NaN</td>\n",
       "      <td>...</td>\n",
       "      <td>NaN</td>\n",
       "      <td>NaN</td>\n",
       "      <td>NaN</td>\n",
       "      <td>NaN</td>\n",
       "      <td>NaN</td>\n",
       "      <td>NaN</td>\n",
       "      <td>ENST00000614731.4</td>\n",
       "      <td>BLOC1S2-205</td>\n",
       "      <td>2</td>\n",
       "      <td>protein_coding</td>\n",
       "    </tr>\n",
       "    <tr>\n",
       "      <th>1</th>\n",
       "      <td>chr10</td>\n",
       "      <td>ENSEMBL</td>\n",
       "      <td>CDS</td>\n",
       "      <td>100275465</td>\n",
       "      <td>100275493</td>\n",
       "      <td>.</td>\n",
       "      <td>-</td>\n",
       "      <td>2</td>\n",
       "      <td>NaN</td>\n",
       "      <td>CCDS73179.1</td>\n",
       "      <td>...</td>\n",
       "      <td>NaN</td>\n",
       "      <td>NaN</td>\n",
       "      <td>NaN</td>\n",
       "      <td>NaN</td>\n",
       "      <td>NaN</td>\n",
       "      <td>NaN</td>\n",
       "      <td>ENST00000618916.4</td>\n",
       "      <td>BLOC1S2-206</td>\n",
       "      <td>5</td>\n",
       "      <td>protein_coding</td>\n",
       "    </tr>\n",
       "    <tr>\n",
       "      <th>2</th>\n",
       "      <td>chr10</td>\n",
       "      <td>ENSEMBL</td>\n",
       "      <td>CDS</td>\n",
       "      <td>100280124</td>\n",
       "      <td>100280228</td>\n",
       "      <td>.</td>\n",
       "      <td>-</td>\n",
       "      <td>2</td>\n",
       "      <td>NaN</td>\n",
       "      <td>NaN</td>\n",
       "      <td>...</td>\n",
       "      <td>NaN</td>\n",
       "      <td>NaN</td>\n",
       "      <td>NaN</td>\n",
       "      <td>NaN</td>\n",
       "      <td>NaN</td>\n",
       "      <td>NaN</td>\n",
       "      <td>ENST00000614731.4</td>\n",
       "      <td>BLOC1S2-205</td>\n",
       "      <td>2</td>\n",
       "      <td>protein_coding</td>\n",
       "    </tr>\n",
       "    <tr>\n",
       "      <th>3</th>\n",
       "      <td>chr10</td>\n",
       "      <td>ENSEMBL</td>\n",
       "      <td>CDS</td>\n",
       "      <td>100280124</td>\n",
       "      <td>100280228</td>\n",
       "      <td>.</td>\n",
       "      <td>-</td>\n",
       "      <td>2</td>\n",
       "      <td>NaN</td>\n",
       "      <td>CCDS73179.1</td>\n",
       "      <td>...</td>\n",
       "      <td>NaN</td>\n",
       "      <td>NaN</td>\n",
       "      <td>NaN</td>\n",
       "      <td>NaN</td>\n",
       "      <td>NaN</td>\n",
       "      <td>NaN</td>\n",
       "      <td>ENST00000618916.4</td>\n",
       "      <td>BLOC1S2-206</td>\n",
       "      <td>5</td>\n",
       "      <td>protein_coding</td>\n",
       "    </tr>\n",
       "    <tr>\n",
       "      <th>4</th>\n",
       "      <td>chr10</td>\n",
       "      <td>ENSEMBL</td>\n",
       "      <td>CDS</td>\n",
       "      <td>100280934</td>\n",
       "      <td>100281053</td>\n",
       "      <td>.</td>\n",
       "      <td>-</td>\n",
       "      <td>2</td>\n",
       "      <td>NaN</td>\n",
       "      <td>NaN</td>\n",
       "      <td>...</td>\n",
       "      <td>NaN</td>\n",
       "      <td>NaN</td>\n",
       "      <td>NaN</td>\n",
       "      <td>NaN</td>\n",
       "      <td>NaN</td>\n",
       "      <td>NaN</td>\n",
       "      <td>ENST00000614731.4</td>\n",
       "      <td>BLOC1S2-205</td>\n",
       "      <td>2</td>\n",
       "      <td>protein_coding</td>\n",
       "    </tr>\n",
       "  </tbody>\n",
       "</table>\n",
       "<p>5 rows × 50 columns</p>\n",
       "</div>"
      ],
      "text/plain": [
       "  seqname   source feature      start        end score strand frame   ID  \\\n",
       "0   chr10  ENSEMBL     CDS  100275465  100275493     .      -     2  NaN   \n",
       "1   chr10  ENSEMBL     CDS  100275465  100275493     .      -     2  NaN   \n",
       "2   chr10  ENSEMBL     CDS  100280124  100280228     .      -     2  NaN   \n",
       "3   chr10  ENSEMBL     CDS  100280124  100280228     .      -     2  NaN   \n",
       "4   chr10  ENSEMBL     CDS  100280934  100281053     .      -     2  NaN   \n",
       "\n",
       "        ccdsid  ... transcript_alias_4 transcript_alias_5 transcript_alias_6  \\\n",
       "0          NaN  ...                NaN                NaN                NaN   \n",
       "1  CCDS73179.1  ...                NaN                NaN                NaN   \n",
       "2          NaN  ...                NaN                NaN                NaN   \n",
       "3  CCDS73179.1  ...                NaN                NaN                NaN   \n",
       "4          NaN  ...                NaN                NaN                NaN   \n",
       "\n",
       "  transcript_alias_7 transcript_alias_8 transcript_alias_9      transcript_id  \\\n",
       "0                NaN                NaN                NaN  ENST00000614731.4   \n",
       "1                NaN                NaN                NaN  ENST00000618916.4   \n",
       "2                NaN                NaN                NaN  ENST00000614731.4   \n",
       "3                NaN                NaN                NaN  ENST00000618916.4   \n",
       "4                NaN                NaN                NaN  ENST00000614731.4   \n",
       "\n",
       "  transcript_name transcript_support_level transcript_type  \n",
       "0     BLOC1S2-205                        2  protein_coding  \n",
       "1     BLOC1S2-206                        5  protein_coding  \n",
       "2     BLOC1S2-205                        2  protein_coding  \n",
       "3     BLOC1S2-206                        5  protein_coding  \n",
       "4     BLOC1S2-205                        2  protein_coding  \n",
       "\n",
       "[5 rows x 50 columns]"
      ]
     },
     "metadata": {},
     "output_type": "display_data"
    },
    {
     "name": "stdout",
     "output_type": "stream",
     "text": [
      "CPU times: user 11.3 s, sys: 3.72 s, total: 15 s\n",
      "Wall time: 15 s\n"
     ]
    }
   ],
   "source": [
    "%%time\n",
    "gencode_df = pd.read_pickle(gencode_pkl)\n",
    "# drop the ont and tag columns\n",
    "discard_cols = gencode_df.columns[(gencode_df.columns.str.startswith('ont:')) |\n",
    "                                (gencode_df.columns.str.startswith('tag:'))]\n",
    "gencode_df.drop(columns=discard_cols, inplace=True)\n",
    "# should only be autosomal but sometimes annotation quirks allow in others, so force\n",
    "gencode_df = gencode_df.loc[(gencode_df['seqname'].str.startswith('chr')) & \n",
    "                           (~gencode_df['seqname'].isin(['chrX','chrY','chrM']))]\n",
    "# every now and again having problem with mics_RNA genes mapping every chrom so drop\n",
    "gencode_df = gencode_df.loc[~gencode_df['gene_type'].isin(['misc_RNA'])]\n",
    "print(gencode_df.shape)\n",
    "display(gencode_df.head())"
   ]
  },
  {
   "cell_type": "markdown",
   "metadata": {},
   "source": [
    "#### load the risk variants of interest"
   ]
  },
  {
   "cell_type": "code",
   "execution_count": 7,
   "metadata": {},
   "outputs": [
    {
     "name": "stdout",
     "output_type": "stream",
     "text": [
      "(91, 12)\n",
      "CPU times: user 2.4 ms, sys: 3.52 ms, total: 5.92 ms\n",
      "Wall time: 4.43 ms\n"
     ]
    },
    {
     "data": {
      "text/html": [
       "<div>\n",
       "<style scoped>\n",
       "    .dataframe tbody tr th:only-of-type {\n",
       "        vertical-align: middle;\n",
       "    }\n",
       "\n",
       "    .dataframe tbody tr th {\n",
       "        vertical-align: top;\n",
       "    }\n",
       "\n",
       "    .dataframe thead th {\n",
       "        text-align: right;\n",
       "    }\n",
       "</style>\n",
       "<table border=\"1\" class=\"dataframe\">\n",
       "  <thead>\n",
       "    <tr style=\"text-align: right;\">\n",
       "      <th></th>\n",
       "      <th>SNP</th>\n",
       "      <th>CHR</th>\n",
       "      <th>BP</th>\n",
       "      <th>Nearest_Gene</th>\n",
       "      <th>QTL_Nominated_Gene</th>\n",
       "      <th>Effect_allele</th>\n",
       "      <th>Other_allele</th>\n",
       "      <th>EAF</th>\n",
       "      <th>Beta_all_studies</th>\n",
       "      <th>SE_all_studies</th>\n",
       "      <th>P_all_studies</th>\n",
       "      <th>P_COJO_all_studies</th>\n",
       "    </tr>\n",
       "  </thead>\n",
       "  <tbody>\n",
       "    <tr>\n",
       "      <th>0</th>\n",
       "      <td>rs114138760</td>\n",
       "      <td>1</td>\n",
       "      <td>154898185</td>\n",
       "      <td>PMVK</td>\n",
       "      <td>NaN</td>\n",
       "      <td>c</td>\n",
       "      <td>g</td>\n",
       "      <td>0.0112</td>\n",
       "      <td>0.2812</td>\n",
       "      <td>0.0478</td>\n",
       "      <td>4.190000e-09</td>\n",
       "      <td>1.090000e-08</td>\n",
       "    </tr>\n",
       "    <tr>\n",
       "      <th>1</th>\n",
       "      <td>rs35749011</td>\n",
       "      <td>1</td>\n",
       "      <td>155135036</td>\n",
       "      <td>KRTCAP2</td>\n",
       "      <td>EFNA3</td>\n",
       "      <td>a</td>\n",
       "      <td>g</td>\n",
       "      <td>0.0169</td>\n",
       "      <td>0.6068</td>\n",
       "      <td>0.0342</td>\n",
       "      <td>1.720000e-70</td>\n",
       "      <td>3.820000e-77</td>\n",
       "    </tr>\n",
       "    <tr>\n",
       "      <th>2</th>\n",
       "      <td>rs76763715</td>\n",
       "      <td>1</td>\n",
       "      <td>155205634</td>\n",
       "      <td>GBAP1</td>\n",
       "      <td>NaN</td>\n",
       "      <td>t</td>\n",
       "      <td>c</td>\n",
       "      <td>0.9953</td>\n",
       "      <td>-0.7467</td>\n",
       "      <td>0.0765</td>\n",
       "      <td>1.590000e-22</td>\n",
       "      <td>9.900000e-23</td>\n",
       "    </tr>\n",
       "    <tr>\n",
       "      <th>3</th>\n",
       "      <td>rs6658353</td>\n",
       "      <td>1</td>\n",
       "      <td>161469054</td>\n",
       "      <td>FCGR2A</td>\n",
       "      <td>FCGR2A</td>\n",
       "      <td>c</td>\n",
       "      <td>g</td>\n",
       "      <td>0.5011</td>\n",
       "      <td>0.0650</td>\n",
       "      <td>0.0094</td>\n",
       "      <td>6.100000e-12</td>\n",
       "      <td>4.690000e-12</td>\n",
       "    </tr>\n",
       "    <tr>\n",
       "      <th>4</th>\n",
       "      <td>rs11578699</td>\n",
       "      <td>1</td>\n",
       "      <td>171719769</td>\n",
       "      <td>VAMP4</td>\n",
       "      <td>VAMP4</td>\n",
       "      <td>t</td>\n",
       "      <td>c</td>\n",
       "      <td>0.1949</td>\n",
       "      <td>-0.0704</td>\n",
       "      <td>0.0120</td>\n",
       "      <td>4.470000e-09</td>\n",
       "      <td>4.450000e-09</td>\n",
       "    </tr>\n",
       "  </tbody>\n",
       "</table>\n",
       "</div>"
      ],
      "text/plain": [
       "           SNP  CHR         BP Nearest_Gene QTL_Nominated_Gene Effect_allele  \\\n",
       "0  rs114138760    1  154898185         PMVK                NaN             c   \n",
       "1   rs35749011    1  155135036      KRTCAP2              EFNA3             a   \n",
       "2   rs76763715    1  155205634        GBAP1                NaN             t   \n",
       "3    rs6658353    1  161469054       FCGR2A             FCGR2A             c   \n",
       "4   rs11578699    1  171719769        VAMP4              VAMP4             t   \n",
       "\n",
       "  Other_allele     EAF  Beta_all_studies  SE_all_studies  P_all_studies  \\\n",
       "0            g  0.0112            0.2812          0.0478   4.190000e-09   \n",
       "1            g  0.0169            0.6068          0.0342   1.720000e-70   \n",
       "2            c  0.9953           -0.7467          0.0765   1.590000e-22   \n",
       "3            g  0.5011            0.0650          0.0094   6.100000e-12   \n",
       "4            c  0.1949           -0.0704          0.0120   4.470000e-09   \n",
       "\n",
       "   P_COJO_all_studies  \n",
       "0        1.090000e-08  \n",
       "1        3.820000e-77  \n",
       "2        9.900000e-23  \n",
       "3        4.690000e-12  \n",
       "4        4.450000e-09  "
      ]
     },
     "execution_count": 7,
     "metadata": {},
     "output_type": "execute_result"
    }
   ],
   "source": [
    "%%time\n",
    "variants_oi_df = pd.read_csv(meta5_st2_clean_file, sep='\\t')\n",
    "print(variants_oi_df.shape)\n",
    "variants_oi_df.head()"
   ]
  },
  {
   "cell_type": "markdown",
   "metadata": {
    "papermill": {
     "duration": 0.011883,
     "end_time": "2021-06-24T22:33:59.038114",
     "exception": false,
     "start_time": "2021-06-24T22:33:59.026231",
     "status": "completed"
    },
    "tags": []
   },
   "source": [
    "#### load the full gwas summary stats"
   ]
  },
  {
   "cell_type": "code",
   "execution_count": 8,
   "metadata": {
    "execution": {
     "iopub.execute_input": "2021-06-24T22:33:59.064270Z",
     "iopub.status.busy": "2021-06-24T22:33:59.063748Z",
     "iopub.status.idle": "2021-06-24T22:34:26.888066Z",
     "shell.execute_reply": "2021-06-24T22:34:26.887533Z"
    },
    "papermill": {
     "duration": 27.839467,
     "end_time": "2021-06-24T22:34:26.888216",
     "exception": false,
     "start_time": "2021-06-24T22:33:59.048749",
     "status": "completed"
    },
    "tags": []
   },
   "outputs": [
    {
     "name": "stdout",
     "output_type": "stream",
     "text": [
      "(7769022, 11)\n"
     ]
    },
    {
     "data": {
      "text/html": [
       "<div>\n",
       "<style scoped>\n",
       "    .dataframe tbody tr th:only-of-type {\n",
       "        vertical-align: middle;\n",
       "    }\n",
       "\n",
       "    .dataframe tbody tr th {\n",
       "        vertical-align: top;\n",
       "    }\n",
       "\n",
       "    .dataframe thead th {\n",
       "        text-align: right;\n",
       "    }\n",
       "</style>\n",
       "<table border=\"1\" class=\"dataframe\">\n",
       "  <thead>\n",
       "    <tr style=\"text-align: right;\">\n",
       "      <th></th>\n",
       "      <th>SNP</th>\n",
       "      <th>A1</th>\n",
       "      <th>A2</th>\n",
       "      <th>freq</th>\n",
       "      <th>b</th>\n",
       "      <th>se</th>\n",
       "      <th>p</th>\n",
       "      <th>N</th>\n",
       "      <th>chr</th>\n",
       "      <th>position</th>\n",
       "      <th>id</th>\n",
       "    </tr>\n",
       "  </thead>\n",
       "  <tbody>\n",
       "    <tr>\n",
       "      <th>6929066</th>\n",
       "      <td>rs73148245</td>\n",
       "      <td>T</td>\n",
       "      <td>C</td>\n",
       "      <td>0.0568</td>\n",
       "      <td>0.0427</td>\n",
       "      <td>0.0233</td>\n",
       "      <td>0.06648</td>\n",
       "      <td>1460059</td>\n",
       "      <td>chr7</td>\n",
       "      <td>78191558</td>\n",
       "      <td>rs73148245</td>\n",
       "    </tr>\n",
       "    <tr>\n",
       "      <th>358340</th>\n",
       "      <td>rs72829788</td>\n",
       "      <td>A</td>\n",
       "      <td>G</td>\n",
       "      <td>0.0377</td>\n",
       "      <td>-0.0022</td>\n",
       "      <td>0.0267</td>\n",
       "      <td>0.93310</td>\n",
       "      <td>1460059</td>\n",
       "      <td>chr10</td>\n",
       "      <td>85522541</td>\n",
       "      <td>rs72829788</td>\n",
       "    </tr>\n",
       "    <tr>\n",
       "      <th>7387943</th>\n",
       "      <td>rs13267335</td>\n",
       "      <td>A</td>\n",
       "      <td>C</td>\n",
       "      <td>0.7094</td>\n",
       "      <td>0.0100</td>\n",
       "      <td>0.0108</td>\n",
       "      <td>0.35230</td>\n",
       "      <td>1474097</td>\n",
       "      <td>chr8</td>\n",
       "      <td>83540898</td>\n",
       "      <td>rs13267335</td>\n",
       "    </tr>\n",
       "    <tr>\n",
       "      <th>172944</th>\n",
       "      <td>rs12250366</td>\n",
       "      <td>T</td>\n",
       "      <td>C</td>\n",
       "      <td>0.0628</td>\n",
       "      <td>-0.0476</td>\n",
       "      <td>0.0275</td>\n",
       "      <td>0.08386</td>\n",
       "      <td>1349931</td>\n",
       "      <td>chr10</td>\n",
       "      <td>27328144</td>\n",
       "      <td>rs12250366</td>\n",
       "    </tr>\n",
       "    <tr>\n",
       "      <th>5974515</th>\n",
       "      <td>rs35427760</td>\n",
       "      <td>T</td>\n",
       "      <td>C</td>\n",
       "      <td>0.8604</td>\n",
       "      <td>-0.0303</td>\n",
       "      <td>0.0139</td>\n",
       "      <td>0.02966</td>\n",
       "      <td>1474097</td>\n",
       "      <td>chr5</td>\n",
       "      <td>80582117</td>\n",
       "      <td>rs35427760</td>\n",
       "    </tr>\n",
       "  </tbody>\n",
       "</table>\n",
       "</div>"
      ],
      "text/plain": [
       "                SNP A1 A2    freq       b      se        p        N    chr  \\\n",
       "6929066  rs73148245  T  C  0.0568  0.0427  0.0233  0.06648  1460059   chr7   \n",
       "358340   rs72829788  A  G  0.0377 -0.0022  0.0267  0.93310  1460059  chr10   \n",
       "7387943  rs13267335  A  C  0.7094  0.0100  0.0108  0.35230  1474097   chr8   \n",
       "172944   rs12250366  T  C  0.0628 -0.0476  0.0275  0.08386  1349931  chr10   \n",
       "5974515  rs35427760  T  C  0.8604 -0.0303  0.0139  0.02966  1474097   chr5   \n",
       "\n",
       "         position          id  \n",
       "6929066  78191558  rs73148245  \n",
       "358340   85522541  rs72829788  \n",
       "7387943  83540898  rs13267335  \n",
       "172944   27328144  rs12250366  \n",
       "5974515  80582117  rs35427760  "
      ]
     },
     "metadata": {},
     "output_type": "display_data"
    },
    {
     "name": "stdout",
     "output_type": "stream",
     "text": [
      "CPU times: user 28 s, sys: 2.15 s, total: 30.2 s\n",
      "Wall time: 30.4 s\n"
     ]
    }
   ],
   "source": [
    "%%time\n",
    "gwas_stats_df = pd.read_hdf(meta5_stats_file)\n",
    "print(gwas_stats_df.shape)\n",
    "display(gwas_stats_df.sample(5))"
   ]
  },
  {
   "cell_type": "markdown",
   "metadata": {},
   "source": [
    "#### load the eQTL"
   ]
  },
  {
   "cell_type": "code",
   "execution_count": 9,
   "metadata": {},
   "outputs": [
    {
     "name": "stdout",
     "output_type": "stream",
     "text": [
      "(1903, 15)\n",
      "eqtl for 537 genes\n"
     ]
    },
    {
     "data": {
      "text/html": [
       "<div>\n",
       "<style scoped>\n",
       "    .dataframe tbody tr th:only-of-type {\n",
       "        vertical-align: middle;\n",
       "    }\n",
       "\n",
       "    .dataframe tbody tr th {\n",
       "        vertical-align: top;\n",
       "    }\n",
       "\n",
       "    .dataframe thead th {\n",
       "        text-align: right;\n",
       "    }\n",
       "</style>\n",
       "<table border=\"1\" class=\"dataframe\">\n",
       "  <thead>\n",
       "    <tr style=\"text-align: right;\">\n",
       "      <th></th>\n",
       "      <th>phenotype_id</th>\n",
       "      <th>variant_id</th>\n",
       "      <th>tss_distance</th>\n",
       "      <th>maf</th>\n",
       "      <th>ma_samples</th>\n",
       "      <th>ma_count</th>\n",
       "      <th>pval_nominal</th>\n",
       "      <th>slope</th>\n",
       "      <th>slope_se</th>\n",
       "      <th>cispair</th>\n",
       "      <th>day</th>\n",
       "      <th>log10_pvalue</th>\n",
       "      <th>t_score</th>\n",
       "      <th>t_score_abs</th>\n",
       "      <th>is_sig</th>\n",
       "    </tr>\n",
       "  </thead>\n",
       "  <tbody>\n",
       "    <tr>\n",
       "      <th>0</th>\n",
       "      <td>ENSG00000154719.13</td>\n",
       "      <td>rs12386284</td>\n",
       "      <td>-89761</td>\n",
       "      <td>0.271277</td>\n",
       "      <td>46</td>\n",
       "      <td>51</td>\n",
       "      <td>4.835922e-08</td>\n",
       "      <td>-0.902316</td>\n",
       "      <td>0.151687</td>\n",
       "      <td>ENSG00000154719.13:rs12386284</td>\n",
       "      <td>da0</td>\n",
       "      <td>7.315521</td>\n",
       "      <td>-5.948552</td>\n",
       "      <td>5.948552</td>\n",
       "      <td>1</td>\n",
       "    </tr>\n",
       "    <tr>\n",
       "      <th>1</th>\n",
       "      <td>ENSG00000154719.13</td>\n",
       "      <td>rs8129399</td>\n",
       "      <td>17837</td>\n",
       "      <td>0.271277</td>\n",
       "      <td>46</td>\n",
       "      <td>51</td>\n",
       "      <td>1.205365e-06</td>\n",
       "      <td>-0.815778</td>\n",
       "      <td>0.156923</td>\n",
       "      <td>ENSG00000154719.13:rs8129399</td>\n",
       "      <td>da0</td>\n",
       "      <td>5.918881</td>\n",
       "      <td>-5.198576</td>\n",
       "      <td>5.198576</td>\n",
       "      <td>0</td>\n",
       "    </tr>\n",
       "    <tr>\n",
       "      <th>2</th>\n",
       "      <td>lnc_PCNT_2</td>\n",
       "      <td>rs2839204</td>\n",
       "      <td>3868</td>\n",
       "      <td>0.398936</td>\n",
       "      <td>58</td>\n",
       "      <td>75</td>\n",
       "      <td>4.804233e-11</td>\n",
       "      <td>-0.866399</td>\n",
       "      <td>0.116207</td>\n",
       "      <td>lnc_PCNT_2:rs2839204</td>\n",
       "      <td>da0</td>\n",
       "      <td>10.318376</td>\n",
       "      <td>-7.455651</td>\n",
       "      <td>7.455651</td>\n",
       "      <td>1</td>\n",
       "    </tr>\n",
       "    <tr>\n",
       "      <th>3</th>\n",
       "      <td>ENSG00000160194.17</td>\n",
       "      <td>rs4148974</td>\n",
       "      <td>23966</td>\n",
       "      <td>0.111702</td>\n",
       "      <td>20</td>\n",
       "      <td>21</td>\n",
       "      <td>2.153011e-11</td>\n",
       "      <td>-1.436483</td>\n",
       "      <td>0.188390</td>\n",
       "      <td>ENSG00000160194.17:rs4148974</td>\n",
       "      <td>da0</td>\n",
       "      <td>10.666954</td>\n",
       "      <td>-7.625058</td>\n",
       "      <td>7.625058</td>\n",
       "      <td>1</td>\n",
       "    </tr>\n",
       "    <tr>\n",
       "      <th>4</th>\n",
       "      <td>ENSG00000159228.12</td>\n",
       "      <td>rs2835269</td>\n",
       "      <td>7480</td>\n",
       "      <td>0.069149</td>\n",
       "      <td>12</td>\n",
       "      <td>13</td>\n",
       "      <td>2.049270e-05</td>\n",
       "      <td>-1.155655</td>\n",
       "      <td>0.257295</td>\n",
       "      <td>ENSG00000159228.12:rs2835269</td>\n",
       "      <td>da0</td>\n",
       "      <td>4.688401</td>\n",
       "      <td>-4.491549</td>\n",
       "      <td>4.491549</td>\n",
       "      <td>0</td>\n",
       "    </tr>\n",
       "  </tbody>\n",
       "</table>\n",
       "</div>"
      ],
      "text/plain": [
       "         phenotype_id  variant_id  tss_distance       maf  ma_samples  \\\n",
       "0  ENSG00000154719.13  rs12386284        -89761  0.271277          46   \n",
       "1  ENSG00000154719.13   rs8129399         17837  0.271277          46   \n",
       "2          lnc_PCNT_2   rs2839204          3868  0.398936          58   \n",
       "3  ENSG00000160194.17   rs4148974         23966  0.111702          20   \n",
       "4  ENSG00000159228.12   rs2835269          7480  0.069149          12   \n",
       "\n",
       "   ma_count  pval_nominal     slope  slope_se                        cispair  \\\n",
       "0        51  4.835922e-08 -0.902316  0.151687  ENSG00000154719.13:rs12386284   \n",
       "1        51  1.205365e-06 -0.815778  0.156923   ENSG00000154719.13:rs8129399   \n",
       "2        75  4.804233e-11 -0.866399  0.116207           lnc_PCNT_2:rs2839204   \n",
       "3        21  2.153011e-11 -1.436483  0.188390   ENSG00000160194.17:rs4148974   \n",
       "4        13  2.049270e-05 -1.155655  0.257295   ENSG00000159228.12:rs2835269   \n",
       "\n",
       "   day  log10_pvalue   t_score  t_score_abs  is_sig  \n",
       "0  da0      7.315521 -5.948552     5.948552       1  \n",
       "1  da0      5.918881 -5.198576     5.198576       0  \n",
       "2  da0     10.318376 -7.455651     7.455651       1  \n",
       "3  da0     10.666954 -7.625058     7.625058       1  \n",
       "4  da0      4.688401 -4.491549     4.491549       0  "
      ]
     },
     "execution_count": 9,
     "metadata": {},
     "output_type": "execute_result"
    }
   ],
   "source": [
    "eqtl_df = pd.read_csv(eqtl_results_file)\n",
    "print(eqtl_df.shape)\n",
    "number_genes = len(eqtl_df['phenotype_id'].unique())\n",
    "print(f'eqtl for {number_genes} genes')\n",
    "eqtl_df.head()"
   ]
  },
  {
   "cell_type": "markdown",
   "metadata": {},
   "source": [
    "#### which day are present in the results (typically will be all in cohort)"
   ]
  },
  {
   "cell_type": "code",
   "execution_count": 10,
   "metadata": {},
   "outputs": [
    {
     "name": "stdout",
     "output_type": "stream",
     "text": [
      "['da0', 'da25', 'da65']\n"
     ]
    }
   ],
   "source": [
    "days = sorted(list(eqtl_df['day'].unique()))\n",
    "print(days)"
   ]
  },
  {
   "cell_type": "markdown",
   "metadata": {},
   "source": [
    "#### grab the max pval_nominal and max pval_beta"
   ]
  },
  {
   "cell_type": "code",
   "execution_count": 11,
   "metadata": {},
   "outputs": [
    {
     "name": "stdout",
     "output_type": "stream",
     "text": [
      "max p-value: 1.4972197013743408e-07\n",
      "hardcoded max p-value: 1e-05\n"
     ]
    }
   ],
   "source": [
    "max_pvalue = eqtl_df[eqtl_df['is_sig'] == 1]['pval_nominal'].max()\n",
    "print(f'max p-value: {max_pvalue}')\n",
    "max_pvalue = 0.00001\n",
    "print(f'hardcoded max p-value: {max_pvalue}')"
   ]
  },
  {
   "cell_type": "markdown",
   "metadata": {},
   "source": [
    "#### see if any of the top significant results happen to be risk independent variants"
   ]
  },
  {
   "cell_type": "code",
   "execution_count": 12,
   "metadata": {},
   "outputs": [],
   "source": [
    "def check_eqtls_for_variants(eqtl_df, variants_df, gencode_df):\n",
    "    eqtl_variants_oi_df = eqtl_df.loc[eqtl_df['variant_id'].isin(variants_df['SNP'])]\n",
    "    print(eqtl_variants_oi_df.shape)\n",
    "    this_cnt = len(eqtl_variants_oi_df['variant_id'].unique())\n",
    "    print(f'variants {this_cnt}')\n",
    "    print(eqtl_variants_oi_df['variant_id'].unique())\n",
    "    this_cnt = len(eqtl_variants_oi_df['phenotype_id'].unique())\n",
    "    print(f'genes {this_cnt}')\n",
    "    oi_genes = gencode_df.loc[gencode_df['gene_id'].isin(eqtl_variants_oi_df['phenotype_id']), \n",
    "                              ['gene_name']]['gene_name'].unique()\n",
    "    print(oi_genes)\n",
    "    return eqtl_variants_oi_df"
   ]
  },
  {
   "cell_type": "code",
   "execution_count": 13,
   "metadata": {},
   "outputs": [
    {
     "name": "stdout",
     "output_type": "stream",
     "text": [
      "(0, 15)\n",
      "variants 0\n",
      "[]\n",
      "genes 0\n",
      "[]\n"
     ]
    }
   ],
   "source": [
    "risk_genes = check_eqtls_for_variants(eqtl_df, variants_oi_df, gencode_df)\n",
    "if len(risk_genes) > 0:\n",
    "    display(risk_genes.head())"
   ]
  },
  {
   "cell_type": "markdown",
   "metadata": {},
   "source": [
    "#### now load rest of results and see if risk index variants are eQTL"
   ]
  },
  {
   "cell_type": "code",
   "execution_count": 14,
   "metadata": {},
   "outputs": [],
   "source": [
    "import warnings\n",
    "# warnings.filterwarnings(action='once')\n",
    "warnings.filterwarnings('ignore')"
   ]
  },
  {
   "cell_type": "code",
   "execution_count": 15,
   "metadata": {},
   "outputs": [
    {
     "name": "stdout",
     "output_type": "stream",
     "text": [
      "chr 1 shape (47384, 10)\n",
      "chr 2 shape (4056, 10)\n",
      "chr 3 shape (57057, 10)\n",
      "chr 4 shape (0, 10)\n",
      "chr 5 shape (37029, 10)\n",
      "chr 6 shape (0, 10)\n",
      "chr 7 shape (20394, 10)\n",
      "chr 8 shape (0, 10)\n",
      "chr 9 shape (0, 10)\n",
      "chr 10 shape (0, 10)\n",
      "chr 11 shape (0, 10)\n",
      "chr 12 shape (0, 10)\n",
      "chr 13 shape (0, 10)\n",
      "chr 14 shape (0, 10)\n",
      "chr 15 shape (0, 10)\n",
      "chr 16 shape (0, 10)\n",
      "chr 17 shape (140079, 10)\n",
      "chr 18 shape (0, 10)\n",
      "chr 19 shape (0, 10)\n",
      "chr 20 shape (0, 10)\n",
      "chr 21 shape (0, 10)\n",
      "chr 22 shape (0, 10)\n",
      "CPU times: user 3min 18s, sys: 29.4 s, total: 3min 47s\n",
      "Wall time: 5min 44s\n"
     ]
    }
   ],
   "source": [
    "%%time\n",
    "\n",
    "fs_list = []\n",
    "lm_results = []\n",
    "with concurrent.futures.ProcessPoolExecutor() as ppe:\n",
    "    for chrom in autosomes:\n",
    "        fs_list.append(ppe.submit(process_regression_check, chrom, days, \n",
    "                                  tensorqtl_dir, cohort, gwas_stats_df))\n",
    "# for future in concurrent.futures.as_completed(fs_list):\n",
    "#     lm_results.append(future.result())\n",
    "\n",
    "# # flatten the list\n",
    "# results_to_keep = pd.concat([item for item in lm_results])"
   ]
  },
  {
   "cell_type": "code",
   "execution_count": 16,
   "metadata": {},
   "outputs": [],
   "source": [
    "for future in concurrent.futures.as_completed(fs_list):\n",
    "    lm_results.append(future.result())\n",
    "\n",
    "# flatten the list\n",
    "results_to_keep = pd.concat([item for item in lm_results])"
   ]
  },
  {
   "cell_type": "code",
   "execution_count": 17,
   "metadata": {},
   "outputs": [
    {
     "name": "stdout",
     "output_type": "stream",
     "text": [
      "(101371, 23)\n"
     ]
    },
    {
     "data": {
      "text/html": [
       "<div>\n",
       "<style scoped>\n",
       "    .dataframe tbody tr th:only-of-type {\n",
       "        vertical-align: middle;\n",
       "    }\n",
       "\n",
       "    .dataframe tbody tr th {\n",
       "        vertical-align: top;\n",
       "    }\n",
       "\n",
       "    .dataframe thead th {\n",
       "        text-align: right;\n",
       "    }\n",
       "</style>\n",
       "<table border=\"1\" class=\"dataframe\">\n",
       "  <thead>\n",
       "    <tr style=\"text-align: right;\">\n",
       "      <th></th>\n",
       "      <th>phenotype_id</th>\n",
       "      <th>variant_id</th>\n",
       "      <th>tss_distance</th>\n",
       "      <th>maf</th>\n",
       "      <th>ma_samples</th>\n",
       "      <th>ma_count</th>\n",
       "      <th>pval_nominal</th>\n",
       "      <th>slope</th>\n",
       "      <th>slope_se</th>\n",
       "      <th>day</th>\n",
       "      <th>...</th>\n",
       "      <th>freq</th>\n",
       "      <th>b</th>\n",
       "      <th>se</th>\n",
       "      <th>p</th>\n",
       "      <th>N</th>\n",
       "      <th>chr</th>\n",
       "      <th>position</th>\n",
       "      <th>id</th>\n",
       "      <th>gwas_tscore_abs</th>\n",
       "      <th>eqtl_tscore_abs</th>\n",
       "    </tr>\n",
       "  </thead>\n",
       "  <tbody>\n",
       "    <tr>\n",
       "      <th>12739</th>\n",
       "      <td>lnc_RHEX_7</td>\n",
       "      <td>rs76085699</td>\n",
       "      <td>924594</td>\n",
       "      <td>0.123656</td>\n",
       "      <td>20</td>\n",
       "      <td>23</td>\n",
       "      <td>0.704051</td>\n",
       "      <td>0.071134</td>\n",
       "      <td>0.186678</td>\n",
       "      <td>da25</td>\n",
       "      <td>...</td>\n",
       "      <td>0.1173</td>\n",
       "      <td>0.0465</td>\n",
       "      <td>0.0169</td>\n",
       "      <td>0.005890</td>\n",
       "      <td>1460243</td>\n",
       "      <td>chr1</td>\n",
       "      <td>206738030</td>\n",
       "      <td>rs76085699</td>\n",
       "      <td>2.751479</td>\n",
       "      <td>0.381055</td>\n",
       "    </tr>\n",
       "    <tr>\n",
       "      <th>5888</th>\n",
       "      <td>lnc_PLEKHM1_4</td>\n",
       "      <td>rs4792884</td>\n",
       "      <td>282454</td>\n",
       "      <td>0.098901</td>\n",
       "      <td>16</td>\n",
       "      <td>18</td>\n",
       "      <td>0.561315</td>\n",
       "      <td>0.136402</td>\n",
       "      <td>0.233933</td>\n",
       "      <td>da65</td>\n",
       "      <td>...</td>\n",
       "      <td>0.9072</td>\n",
       "      <td>-0.0649</td>\n",
       "      <td>0.0169</td>\n",
       "      <td>0.000126</td>\n",
       "      <td>1471960</td>\n",
       "      <td>chr17</td>\n",
       "      <td>45798582</td>\n",
       "      <td>rs4792884</td>\n",
       "      <td>3.840237</td>\n",
       "      <td>0.583079</td>\n",
       "    </tr>\n",
       "    <tr>\n",
       "      <th>6998</th>\n",
       "      <td>KLHL7_DT</td>\n",
       "      <td>rs7779799</td>\n",
       "      <td>-225993</td>\n",
       "      <td>0.093407</td>\n",
       "      <td>16</td>\n",
       "      <td>17</td>\n",
       "      <td>0.038022</td>\n",
       "      <td>-0.533411</td>\n",
       "      <td>0.253284</td>\n",
       "      <td>da65</td>\n",
       "      <td>...</td>\n",
       "      <td>0.0818</td>\n",
       "      <td>0.0417</td>\n",
       "      <td>0.0224</td>\n",
       "      <td>0.062040</td>\n",
       "      <td>1474097</td>\n",
       "      <td>chr7</td>\n",
       "      <td>22879710</td>\n",
       "      <td>rs7779799</td>\n",
       "      <td>1.861607</td>\n",
       "      <td>2.105983</td>\n",
       "    </tr>\n",
       "    <tr>\n",
       "      <th>122</th>\n",
       "      <td>lnc_PLEKHM1_3</td>\n",
       "      <td>rs11651271</td>\n",
       "      <td>-966682</td>\n",
       "      <td>0.291209</td>\n",
       "      <td>45</td>\n",
       "      <td>53</td>\n",
       "      <td>0.898854</td>\n",
       "      <td>0.021248</td>\n",
       "      <td>0.166686</td>\n",
       "      <td>da65</td>\n",
       "      <td>...</td>\n",
       "      <td>0.7221</td>\n",
       "      <td>-0.0473</td>\n",
       "      <td>0.0114</td>\n",
       "      <td>0.000031</td>\n",
       "      <td>1462380</td>\n",
       "      <td>chr17</td>\n",
       "      <td>44553782</td>\n",
       "      <td>rs11651271</td>\n",
       "      <td>4.149123</td>\n",
       "      <td>0.127472</td>\n",
       "    </tr>\n",
       "    <tr>\n",
       "      <th>3988</th>\n",
       "      <td>ENSG00000196542.8</td>\n",
       "      <td>rs9840389</td>\n",
       "      <td>-291611</td>\n",
       "      <td>0.166667</td>\n",
       "      <td>27</td>\n",
       "      <td>31</td>\n",
       "      <td>0.142983</td>\n",
       "      <td>-0.284168</td>\n",
       "      <td>0.192324</td>\n",
       "      <td>da25</td>\n",
       "      <td>...</td>\n",
       "      <td>0.1927</td>\n",
       "      <td>-0.0382</td>\n",
       "      <td>0.0121</td>\n",
       "      <td>0.001615</td>\n",
       "      <td>1474097</td>\n",
       "      <td>chr3</td>\n",
       "      <td>161081269</td>\n",
       "      <td>rs9840389</td>\n",
       "      <td>3.157025</td>\n",
       "      <td>1.477544</td>\n",
       "    </tr>\n",
       "  </tbody>\n",
       "</table>\n",
       "<p>5 rows × 23 columns</p>\n",
       "</div>"
      ],
      "text/plain": [
       "            phenotype_id  variant_id  tss_distance       maf  ma_samples  \\\n",
       "12739         lnc_RHEX_7  rs76085699        924594  0.123656          20   \n",
       "5888       lnc_PLEKHM1_4   rs4792884        282454  0.098901          16   \n",
       "6998            KLHL7_DT   rs7779799       -225993  0.093407          16   \n",
       "122        lnc_PLEKHM1_3  rs11651271       -966682  0.291209          45   \n",
       "3988   ENSG00000196542.8   rs9840389       -291611  0.166667          27   \n",
       "\n",
       "       ma_count  pval_nominal     slope  slope_se   day  ...    freq       b  \\\n",
       "12739        23      0.704051  0.071134  0.186678  da25  ...  0.1173  0.0465   \n",
       "5888         18      0.561315  0.136402  0.233933  da65  ...  0.9072 -0.0649   \n",
       "6998         17      0.038022 -0.533411  0.253284  da65  ...  0.0818  0.0417   \n",
       "122          53      0.898854  0.021248  0.166686  da65  ...  0.7221 -0.0473   \n",
       "3988         31      0.142983 -0.284168  0.192324  da25  ...  0.1927 -0.0382   \n",
       "\n",
       "           se         p        N    chr   position          id  \\\n",
       "12739  0.0169  0.005890  1460243   chr1  206738030  rs76085699   \n",
       "5888   0.0169  0.000126  1471960  chr17   45798582   rs4792884   \n",
       "6998   0.0224  0.062040  1474097   chr7   22879710   rs7779799   \n",
       "122    0.0114  0.000031  1462380  chr17   44553782  rs11651271   \n",
       "3988   0.0121  0.001615  1474097   chr3  161081269   rs9840389   \n",
       "\n",
       "      gwas_tscore_abs  eqtl_tscore_abs  \n",
       "12739        2.751479         0.381055  \n",
       "5888         3.840237         0.583079  \n",
       "6998         1.861607         2.105983  \n",
       "122          4.149123         0.127472  \n",
       "3988         3.157025         1.477544  \n",
       "\n",
       "[5 rows x 23 columns]"
      ]
     },
     "metadata": {},
     "output_type": "display_data"
    }
   ],
   "source": [
    "print(results_to_keep.shape)\n",
    "display(results_to_keep.sample(5))"
   ]
  },
  {
   "cell_type": "code",
   "execution_count": 18,
   "metadata": {},
   "outputs": [
    {
     "name": "stdout",
     "output_type": "stream",
     "text": [
      "15\n",
      "['lnc_RHEX_7' 'lnc_RHEX_8' 'KLHL7_DT' 'lnc_PLEKHM1_3' 'KANSL1_AS1'\n",
      " 'ENSG00000214425.7' 'lnc_PLEKHM1_4' 'ENSG00000263503.1'\n",
      " 'lnc_LINC02210_CRHR1_7' 'ENSG00000238083.7' 'lnc_NSF_2'\n",
      " 'ENSG00000196542.8' 'ENSG00000229089.8' 'ENSG00000145725.19'\n",
      " 'ENSG00000175749.11']\n"
     ]
    }
   ],
   "source": [
    "print(len(results_to_keep['phenotype_id'].unique()))\n",
    "print(results_to_keep['phenotype_id'].unique())"
   ]
  },
  {
   "cell_type": "code",
   "execution_count": 19,
   "metadata": {},
   "outputs": [
    {
     "name": "stdout",
     "output_type": "stream",
     "text": [
      "15\n",
      "['LRRC37A2' 'LRRC37A4P' 'MAPK8IP1P2' 'lnc-PLEKHM1-3' 'lnc-PLEKHM1-4'\n",
      " 'lnc-LINC02210-CRHR1-7' 'KANSL1-AS1' 'lnc-NSF-2' 'lnc-RHEX-7'\n",
      " 'lnc-RHEX-8' 'ANKRD20A8P' 'SPTSSB' 'PPIP5K2' 'EIF3KP1' 'KLHL7-DT']\n"
     ]
    }
   ],
   "source": [
    "genes_kept  = gencode_df.loc[gencode_df['gene_id'].isin(results_to_keep['phenotype_id']), \n",
    "                             ['gene_name']]['gene_name'].unique()\n",
    "print(len(genes_kept))\n",
    "print(genes_kept)"
   ]
  },
  {
   "cell_type": "code",
   "execution_count": 20,
   "metadata": {},
   "outputs": [
    {
     "name": "stdout",
     "output_type": "stream",
     "text": [
      "lnc_NSF_2\n"
     ]
    }
   ],
   "source": [
    "import random\n",
    "phenotype_id = random.choice(results_to_keep['phenotype_id'].unique())\n",
    "print(phenotype_id)"
   ]
  },
  {
   "cell_type": "code",
   "execution_count": 21,
   "metadata": {},
   "outputs": [
    {
     "data": {
      "text/plain": [
       "array(['lnc-NSF-2'], dtype=object)"
      ]
     },
     "execution_count": 21,
     "metadata": {},
     "output_type": "execute_result"
    }
   ],
   "source": [
    "gencode_df.loc[gencode_df['gene_id'] == phenotype_id, \n",
    "               ['gene_name']]['gene_name'].unique()"
   ]
  },
  {
   "cell_type": "code",
   "execution_count": 22,
   "metadata": {},
   "outputs": [
    {
     "name": "stdout",
     "output_type": "stream",
     "text": [
      "(2714, 23)\n"
     ]
    },
    {
     "data": {
      "text/html": [
       "<div>\n",
       "<style scoped>\n",
       "    .dataframe tbody tr th:only-of-type {\n",
       "        vertical-align: middle;\n",
       "    }\n",
       "\n",
       "    .dataframe tbody tr th {\n",
       "        vertical-align: top;\n",
       "    }\n",
       "\n",
       "    .dataframe thead th {\n",
       "        text-align: right;\n",
       "    }\n",
       "</style>\n",
       "<table border=\"1\" class=\"dataframe\">\n",
       "  <thead>\n",
       "    <tr style=\"text-align: right;\">\n",
       "      <th></th>\n",
       "      <th>phenotype_id</th>\n",
       "      <th>variant_id</th>\n",
       "      <th>tss_distance</th>\n",
       "      <th>maf</th>\n",
       "      <th>ma_samples</th>\n",
       "      <th>ma_count</th>\n",
       "      <th>pval_nominal</th>\n",
       "      <th>slope</th>\n",
       "      <th>slope_se</th>\n",
       "      <th>day</th>\n",
       "      <th>...</th>\n",
       "      <th>freq</th>\n",
       "      <th>b</th>\n",
       "      <th>se</th>\n",
       "      <th>p</th>\n",
       "      <th>N</th>\n",
       "      <th>chr</th>\n",
       "      <th>position</th>\n",
       "      <th>id</th>\n",
       "      <th>gwas_tscore_abs</th>\n",
       "      <th>eqtl_tscore_abs</th>\n",
       "    </tr>\n",
       "  </thead>\n",
       "  <tbody>\n",
       "    <tr>\n",
       "      <th>5</th>\n",
       "      <td>lnc_NSF_2</td>\n",
       "      <td>rs140587036</td>\n",
       "      <td>-914623</td>\n",
       "      <td>0.016484</td>\n",
       "      <td>3</td>\n",
       "      <td>3</td>\n",
       "      <td>0.017257</td>\n",
       "      <td>1.416826</td>\n",
       "      <td>0.583871</td>\n",
       "      <td>da65</td>\n",
       "      <td>...</td>\n",
       "      <td>0.0183</td>\n",
       "      <td>0.0145</td>\n",
       "      <td>0.0487</td>\n",
       "      <td>7.650000e-01</td>\n",
       "      <td>1362970</td>\n",
       "      <td>chr17</td>\n",
       "      <td>45628711</td>\n",
       "      <td>rs140587036</td>\n",
       "      <td>0.297741</td>\n",
       "      <td>2.426608</td>\n",
       "    </tr>\n",
       "    <tr>\n",
       "      <th>6</th>\n",
       "      <td>lnc_NSF_2</td>\n",
       "      <td>rs142822273</td>\n",
       "      <td>-914272</td>\n",
       "      <td>0.021277</td>\n",
       "      <td>4</td>\n",
       "      <td>4</td>\n",
       "      <td>0.797588</td>\n",
       "      <td>-0.135902</td>\n",
       "      <td>0.528361</td>\n",
       "      <td>da0</td>\n",
       "      <td>...</td>\n",
       "      <td>0.9777</td>\n",
       "      <td>0.3847</td>\n",
       "      <td>0.1207</td>\n",
       "      <td>1.432000e-03</td>\n",
       "      <td>25028</td>\n",
       "      <td>chr17</td>\n",
       "      <td>45629062</td>\n",
       "      <td>rs142822273</td>\n",
       "      <td>3.187241</td>\n",
       "      <td>0.257214</td>\n",
       "    </tr>\n",
       "    <tr>\n",
       "      <th>7</th>\n",
       "      <td>lnc_NSF_2</td>\n",
       "      <td>rs142822273</td>\n",
       "      <td>-914272</td>\n",
       "      <td>0.021505</td>\n",
       "      <td>4</td>\n",
       "      <td>4</td>\n",
       "      <td>0.729509</td>\n",
       "      <td>0.179996</td>\n",
       "      <td>0.518952</td>\n",
       "      <td>da25</td>\n",
       "      <td>...</td>\n",
       "      <td>0.9777</td>\n",
       "      <td>0.3847</td>\n",
       "      <td>0.1207</td>\n",
       "      <td>1.432000e-03</td>\n",
       "      <td>25028</td>\n",
       "      <td>chr17</td>\n",
       "      <td>45629062</td>\n",
       "      <td>rs142822273</td>\n",
       "      <td>3.187241</td>\n",
       "      <td>0.346845</td>\n",
       "    </tr>\n",
       "    <tr>\n",
       "      <th>8</th>\n",
       "      <td>lnc_NSF_2</td>\n",
       "      <td>rs142822273</td>\n",
       "      <td>-914272</td>\n",
       "      <td>0.021978</td>\n",
       "      <td>4</td>\n",
       "      <td>4</td>\n",
       "      <td>0.096780</td>\n",
       "      <td>0.867692</td>\n",
       "      <td>0.516981</td>\n",
       "      <td>da65</td>\n",
       "      <td>...</td>\n",
       "      <td>0.9777</td>\n",
       "      <td>0.3847</td>\n",
       "      <td>0.1207</td>\n",
       "      <td>1.432000e-03</td>\n",
       "      <td>25028</td>\n",
       "      <td>chr17</td>\n",
       "      <td>45629062</td>\n",
       "      <td>rs142822273</td>\n",
       "      <td>3.187241</td>\n",
       "      <td>1.678384</td>\n",
       "    </tr>\n",
       "    <tr>\n",
       "      <th>9</th>\n",
       "      <td>lnc_NSF_2</td>\n",
       "      <td>rs1635303</td>\n",
       "      <td>-909867</td>\n",
       "      <td>0.138298</td>\n",
       "      <td>26</td>\n",
       "      <td>26</td>\n",
       "      <td>0.054583</td>\n",
       "      <td>-0.455091</td>\n",
       "      <td>0.233738</td>\n",
       "      <td>da0</td>\n",
       "      <td>...</td>\n",
       "      <td>0.1884</td>\n",
       "      <td>0.0948</td>\n",
       "      <td>0.0186</td>\n",
       "      <td>3.741000e-07</td>\n",
       "      <td>907933</td>\n",
       "      <td>chr17</td>\n",
       "      <td>45633467</td>\n",
       "      <td>rs1635303</td>\n",
       "      <td>5.096774</td>\n",
       "      <td>1.947014</td>\n",
       "    </tr>\n",
       "  </tbody>\n",
       "</table>\n",
       "<p>5 rows × 23 columns</p>\n",
       "</div>"
      ],
      "text/plain": [
       "  phenotype_id   variant_id  tss_distance       maf  ma_samples  ma_count  \\\n",
       "5    lnc_NSF_2  rs140587036       -914623  0.016484           3         3   \n",
       "6    lnc_NSF_2  rs142822273       -914272  0.021277           4         4   \n",
       "7    lnc_NSF_2  rs142822273       -914272  0.021505           4         4   \n",
       "8    lnc_NSF_2  rs142822273       -914272  0.021978           4         4   \n",
       "9    lnc_NSF_2    rs1635303       -909867  0.138298          26        26   \n",
       "\n",
       "   pval_nominal     slope  slope_se   day  ...    freq       b      se  \\\n",
       "5      0.017257  1.416826  0.583871  da65  ...  0.0183  0.0145  0.0487   \n",
       "6      0.797588 -0.135902  0.528361   da0  ...  0.9777  0.3847  0.1207   \n",
       "7      0.729509  0.179996  0.518952  da25  ...  0.9777  0.3847  0.1207   \n",
       "8      0.096780  0.867692  0.516981  da65  ...  0.9777  0.3847  0.1207   \n",
       "9      0.054583 -0.455091  0.233738   da0  ...  0.1884  0.0948  0.0186   \n",
       "\n",
       "              p        N    chr  position           id gwas_tscore_abs  \\\n",
       "5  7.650000e-01  1362970  chr17  45628711  rs140587036        0.297741   \n",
       "6  1.432000e-03    25028  chr17  45629062  rs142822273        3.187241   \n",
       "7  1.432000e-03    25028  chr17  45629062  rs142822273        3.187241   \n",
       "8  1.432000e-03    25028  chr17  45629062  rs142822273        3.187241   \n",
       "9  3.741000e-07   907933  chr17  45633467    rs1635303        5.096774   \n",
       "\n",
       "   eqtl_tscore_abs  \n",
       "5         2.426608  \n",
       "6         0.257214  \n",
       "7         0.346845  \n",
       "8         1.678384  \n",
       "9         1.947014  \n",
       "\n",
       "[5 rows x 23 columns]"
      ]
     },
     "metadata": {},
     "output_type": "display_data"
    }
   ],
   "source": [
    "# phenotype_id = 'ENSG00000143537.13'\n",
    "# phenotype_id = 'ENSG00000164733.20'\n",
    "temp = results_to_keep.loc[results_to_keep['phenotype_id'] == phenotype_id]\n",
    "print(temp.shape)\n",
    "display(temp.head())"
   ]
  },
  {
   "cell_type": "code",
   "execution_count": 23,
   "metadata": {},
   "outputs": [
    {
     "data": {
      "text/plain": [
       "<seaborn.axisgrid.FacetGrid at 0x7f50d2c7d990>"
      ]
     },
     "execution_count": 23,
     "metadata": {},
     "output_type": "execute_result"
    },
    {
     "data": {
      "image/png": "[encoded data removed]",
      "text/plain": [
       "<Figure size 421.25x360 with 1 Axes>"
      ]
     },
     "metadata": {
      "needs_background": "light"
     },
     "output_type": "display_data"
    }
   ],
   "source": [
    "sns.lmplot(x='gwas_tscore_abs', y='eqtl_tscore_abs', hue='day', data=temp)"
   ]
  },
  {
   "cell_type": "code",
   "execution_count": 24,
   "metadata": {},
   "outputs": [
    {
     "data": {
      "text/plain": [
       "<seaborn.axisgrid.FacetGrid at 0x7f523fd5d510>"
      ]
     },
     "execution_count": 24,
     "metadata": {},
     "output_type": "execute_result"
    },
    {
     "data": {
      "image/png": "[encoded data removed]",
      "text/plain": [
       "<Figure size 925.25x864 with 1 Axes>"
      ]
     },
     "metadata": {
      "needs_background": "light"
     },
     "output_type": "display_data"
    }
   ],
   "source": [
    "sns.relplot(x='gwas_tscore_abs', \n",
    "            y='eqtl_tscore_abs', \n",
    "            hue='day', alpha=.5, palette=\"dark\", \n",
    "            height=12, data=temp) "
   ]
  },
  {
   "cell_type": "code",
   "execution_count": 25,
   "metadata": {},
   "outputs": [
    {
     "name": "stdout",
     "output_type": "stream",
     "text": [
      "            Mixed Linear Model Regression Results\n",
      "=============================================================\n",
      "Model:            MixedLM Dependent Variable: gwas_tscore_abs\n",
      "No. Observations: 2714    Method:             REML           \n",
      "No. Groups:       3       Scale:              7.5109         \n",
      "Min. group size:  861     Log-Likelihood:     -6593.2602     \n",
      "Max. group size:  949     Converged:          Yes            \n",
      "Mean group size:  904.7                                      \n",
      "-------------------------------------------------------------\n",
      "                    Coef. Std.Err.   z    P>|z| [0.025 0.975]\n",
      "-------------------------------------------------------------\n",
      "Intercept           2.727    0.260 10.508 0.000  2.218  3.236\n",
      "eqtl_tscore_abs     1.026    0.059 17.488 0.000  0.911  1.141\n",
      "Group Var           0.180    0.069                           \n",
      "=============================================================\n",
      "\n"
     ]
    }
   ],
   "source": [
    "this_formula = 'gwas_tscore_abs ~ eqtl_tscore_abs'\n",
    "grouping = 'day'\n",
    "result = mixed_model(this_formula, temp, grouping)\n",
    "print(result.summary())"
   ]
  },
  {
   "cell_type": "code",
   "execution_count": 26,
   "metadata": {},
   "outputs": [
    {
     "name": "stdout",
     "output_type": "stream",
     "text": [
      "['feature', 'coef', 'stderr', 'term_cnt', 'p-value']\n",
      "1.0264085969328105 0.05869131133759668 3 1.7606748652752925e-68\n"
     ]
    }
   ],
   "source": [
    "term = 'eqtl_tscore_abs'\n",
    "print(['feature', 'coef', 'stderr', 'term_cnt', 'p-value'])\n",
    "print(result.params[term], result.bse[term], \n",
    "      result.params.shape[0], result.pvalues[term])"
   ]
  },
  {
   "cell_type": "code",
   "execution_count": 27,
   "metadata": {},
   "outputs": [
    {
     "name": "stdout",
     "output_type": "stream",
     "text": [
      "                            OLS Regression Results                            \n",
      "==============================================================================\n",
      "Dep. Variable:        gwas_tscore_abs   R-squared:                       0.090\n",
      "Model:                            OLS   Adj. R-squared:                  0.090\n",
      "Method:                 Least Squares   F-statistic:                     267.7\n",
      "Date:                Fri, 23 Jul 2021   Prob (F-statistic):           1.83e-57\n",
      "Time:                        14:57:11   Log-Likelihood:                -6606.4\n",
      "No. Observations:                2714   AIC:                         1.322e+04\n",
      "Df Residuals:                    2712   BIC:                         1.323e+04\n",
      "Df Model:                           1                                         \n",
      "Covariance Type:            nonrobust                                         \n",
      "===================================================================================\n",
      "                      coef    std err          t      P>|t|      [0.025      0.975]\n",
      "-----------------------------------------------------------------------------------\n",
      "Intercept           2.8208      0.086     32.827      0.000       2.652       2.989\n",
      "eqtl_tscore_abs     0.9357      0.057     16.363      0.000       0.824       1.048\n",
      "==============================================================================\n",
      "Omnibus:                     1012.573   Durbin-Watson:                   0.634\n",
      "Prob(Omnibus):                  0.000   Jarque-Bera (JB):             4525.948\n",
      "Skew:                           1.762   Prob(JB):                         0.00\n",
      "Kurtosis:                       8.253   Cond. No.                         3.20\n",
      "==============================================================================\n",
      "\n",
      "Notes:\n",
      "[1] Standard Errors assume that the covariance matrix of the errors is correctly specified.\n"
     ]
    }
   ],
   "source": [
    "this_formula = 'gwas_tscore_abs ~ eqtl_tscore_abs'\n",
    "reg_model = smf.ols(this_formula, data=temp).fit()\n",
    "print(reg_model.summary())"
   ]
  },
  {
   "cell_type": "code",
   "execution_count": 28,
   "metadata": {},
   "outputs": [
    {
     "data": {
      "text/plain": [
       "Index(['phenotype_id', 'variant_id', 'tss_distance', 'maf', 'ma_samples',\n",
       "       'ma_count', 'pval_nominal', 'slope', 'slope_se', 'day', 'SNP', 'A1',\n",
       "       'A2', 'freq', 'b', 'se', 'p', 'N', 'chr', 'position', 'id',\n",
       "       'gwas_tscore_abs', 'eqtl_tscore_abs'],\n",
       "      dtype='object')"
      ]
     },
     "execution_count": 28,
     "metadata": {},
     "output_type": "execute_result"
    }
   ],
   "source": [
    "temp.columns"
   ]
  },
  {
   "cell_type": "code",
   "execution_count": 29,
   "metadata": {},
   "outputs": [
    {
     "name": "stdout",
     "output_type": "stream",
     "text": [
      "                            OLS Regression Results                            \n",
      "==============================================================================\n",
      "Dep. Variable:        gwas_tscore_abs   R-squared:                       0.104\n",
      "Model:                            OLS   Adj. R-squared:                  0.103\n",
      "Method:                 Least Squares   F-statistic:                     104.8\n",
      "Date:                Fri, 23 Jul 2021   Prob (F-statistic):           3.38e-64\n",
      "Time:                        14:57:11   Log-Likelihood:                -6585.2\n",
      "No. Observations:                2714   AIC:                         1.318e+04\n",
      "Df Residuals:                    2710   BIC:                         1.320e+04\n",
      "Df Model:                           3                                         \n",
      "Covariance Type:            nonrobust                                         \n",
      "===================================================================================\n",
      "                      coef    std err          t      P>|t|      [0.025      0.975]\n",
      "-----------------------------------------------------------------------------------\n",
      "Intercept           2.7420      0.113     24.246      0.000       2.520       2.964\n",
      "day[T.da25]         0.4046      0.131      3.083      0.002       0.147       0.662\n",
      "day[T.da65]        -0.4635      0.129     -3.599      0.000      -0.716      -0.211\n",
      "eqtl_tscore_abs     1.0309      0.059     17.590      0.000       0.916       1.146\n",
      "==============================================================================\n",
      "Omnibus:                      972.478   Durbin-Watson:                   0.672\n",
      "Prob(Omnibus):                  0.000   Jarque-Bera (JB):             4210.018\n",
      "Skew:                           1.696   Prob(JB):                         0.00\n",
      "Kurtosis:                       8.072   Cond. No.                         6.05\n",
      "==============================================================================\n",
      "\n",
      "Notes:\n",
      "[1] Standard Errors assume that the covariance matrix of the errors is correctly specified.\n"
     ]
    }
   ],
   "source": [
    "this_formula = 'gwas_tscore_abs ~ eqtl_tscore_abs + day'\n",
    "reg_model = smf.ols(this_formula, data=temp).fit()\n",
    "print(reg_model.summary())"
   ]
  },
  {
   "cell_type": "code",
   "execution_count": 30,
   "metadata": {},
   "outputs": [
    {
     "name": "stdout",
     "output_type": "stream",
     "text": [
      "                            OLS Regression Results                            \n",
      "==============================================================================\n",
      "Dep. Variable:        gwas_tscore_abs   R-squared:                       0.155\n",
      "Model:                            OLS   Adj. R-squared:                  0.154\n",
      "Method:                 Least Squares   F-statistic:                     99.64\n",
      "Date:                Fri, 23 Jul 2021   Prob (F-statistic):           1.15e-96\n",
      "Time:                        14:57:11   Log-Likelihood:                -6505.0\n",
      "No. Observations:                2714   AIC:                         1.302e+04\n",
      "Df Residuals:                    2708   BIC:                         1.306e+04\n",
      "Df Model:                           5                                         \n",
      "Covariance Type:            nonrobust                                         \n",
      "===============================================================================================\n",
      "                                  coef    std err          t      P>|t|      [0.025      0.975]\n",
      "-----------------------------------------------------------------------------------------------\n",
      "Intercept                       4.0171      0.149     27.047      0.000       3.726       4.308\n",
      "day[T.da25]                    -1.4066      0.199     -7.086      0.000      -1.796      -1.017\n",
      "day[T.da65]                    -2.3089      0.216    -10.692      0.000      -2.732      -1.885\n",
      "eqtl_tscore_abs                -0.0855      0.104     -0.819      0.413      -0.290       0.119\n",
      "eqtl_tscore_abs:day[T.da25]     1.7063      0.148     11.519      0.000       1.416       1.997\n",
      "eqtl_tscore_abs:day[T.da65]     1.5042      0.137     10.966      0.000       1.235       1.773\n",
      "==============================================================================\n",
      "Omnibus:                      932.957   Durbin-Watson:                   0.777\n",
      "Prob(Omnibus):                  0.000   Jarque-Bera (JB):             4020.407\n",
      "Skew:                           1.620   Prob(JB):                         0.00\n",
      "Kurtosis:                       8.005   Cond. No.                         12.8\n",
      "==============================================================================\n",
      "\n",
      "Notes:\n",
      "[1] Standard Errors assume that the covariance matrix of the errors is correctly specified.\n"
     ]
    }
   ],
   "source": [
    "this_formula = 'gwas_tscore_abs ~ eqtl_tscore_abs + day + eqtl_tscore_abs * day'\n",
    "reg_model = smf.ols(this_formula, data=temp).fit()\n",
    "print(reg_model.summary())"
   ]
  },
  {
   "cell_type": "code",
   "execution_count": 31,
   "metadata": {},
   "outputs": [
    {
     "name": "stdout",
     "output_type": "stream",
     "text": [
      "                            OLS Regression Results                            \n",
      "==============================================================================\n",
      "Dep. Variable:        gwas_tscore_abs   R-squared:                       0.096\n",
      "Model:                            OLS   Adj. R-squared:                  0.095\n",
      "Method:                 Least Squares   F-statistic:                     143.6\n",
      "Date:                Fri, 23 Jul 2021   Prob (F-statistic):           5.34e-60\n",
      "Time:                        14:57:11   Log-Likelihood:                -6597.5\n",
      "No. Observations:                2714   AIC:                         1.320e+04\n",
      "Df Residuals:                    2711   BIC:                         1.322e+04\n",
      "Df Model:                           2                                         \n",
      "Covariance Type:            nonrobust                                         \n",
      "===================================================================================\n",
      "                      coef    std err          t      P>|t|      [0.025      0.975]\n",
      "-----------------------------------------------------------------------------------\n",
      "Intercept           3.0324      0.099     30.544      0.000       2.838       3.227\n",
      "eqtl_tscore_abs     0.9785      0.058     16.898      0.000       0.865       1.092\n",
      "1 | daynum         -0.0085      0.002     -4.217      0.000      -0.012      -0.005\n",
      "==============================================================================\n",
      "Omnibus:                      974.578   Durbin-Watson:                   0.645\n",
      "Prob(Omnibus):                  0.000   Jarque-Bera (JB):             4196.188\n",
      "Skew:                           1.702   Prob(JB):                         0.00\n",
      "Kurtosis:                       8.051   Cond. No.                         82.3\n",
      "==============================================================================\n",
      "\n",
      "Notes:\n",
      "[1] Standard Errors assume that the covariance matrix of the errors is correctly specified.\n"
     ]
    }
   ],
   "source": [
    "temp['daynum'] = temp['day'].str.replace('da','').astype('int32')\n",
    "this_formula = 'gwas_tscore_abs ~ eqtl_tscore_abs + (1|daynum)'\n",
    "reg_model = smf.ols(this_formula, data=temp).fit()\n",
    "print(reg_model.summary())"
   ]
  },
  {
   "cell_type": "code",
   "execution_count": null,
   "metadata": {},
   "outputs": [],
   "source": []
  }
 ],
 "metadata": {
  "environment": {
   "name": "pytorch-gpu.1-7.m65",
   "type": "gcloud",
   "uri": "gcr.io/deeplearning-platform-release/pytorch-gpu.1-7:m65"
  },
  "kernelspec": {
   "display_name": "Python 3",
   "language": "python",
   "name": "python3"
  },
  "language_info": {
   "codemirror_mode": {
    "name": "ipython",
    "version": 3
   },
   "file_extension": ".py",
   "mimetype": "text/x-python",
   "name": "python",
   "nbconvert_exporter": "python",
   "pygments_lexer": "ipython3",
   "version": "3.7.10"
  },
  "widgets": {
   "application/vnd.jupyter.widget-state+json": {
    "state": {},
    "version_major": 2,
    "version_minor": 0
   }
  }
 },
 "nbformat": 4,
 "nbformat_minor": 4
}
