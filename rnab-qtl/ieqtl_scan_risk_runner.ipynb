{
 "cells": [
  {
   "cell_type": "markdown",
   "metadata": {},
   "source": [
    "## Notebook to runner for FOUNDIN-PD to scan for risk variants in ieQTL results per interaction term via papermill"
   ]
  },
  {
   "cell_type": "code",
   "execution_count": 1,
   "metadata": {},
   "outputs": [
    {
     "name": "stdout",
     "output_type": "stream",
     "text": [
      "Fri Aug  6 04:20:08 UTC 2021\n"
     ]
    }
   ],
   "source": [
    "!date"
   ]
  },
  {
   "cell_type": "markdown",
   "metadata": {},
   "source": [
    "#### import libraries"
   ]
  },
  {
   "cell_type": "code",
   "execution_count": 2,
   "metadata": {},
   "outputs": [],
   "source": [
    "import pandas as pd\n",
    "import os\n",
    "import papermill as pm"
   ]
  },
  {
   "cell_type": "code",
   "execution_count": 3,
   "metadata": {},
   "outputs": [],
   "source": [
    "# base notebook to be run per tuple iteration\n",
    "base_notebook = '/home/jupyter/notebooks/ieqtl_scan_risk.ipynb'\n",
    "\n",
    "out_nb_dir = f'/home/jupyter/notebooks/pm_gend_nbs'\n",
    "\n",
    "# setup iteration tuples\n",
    "cohort = 'foundin'\n",
    "# terms = ['DopaminergicNeurons', 'EarlyneuronProgenitor',\n",
    "# 'ImmatureDopaminergicNeurons', 'ProliferatingFloorPlateProgenitors',\n",
    "# 'LateneuronProgenitor', 'Ependymal-likeCells', \n",
    "# 'Neuroepithelial-likeCells']\n",
    "terms = ['DAn']"
   ]
  },
  {
   "cell_type": "markdown",
   "metadata": {},
   "source": [
    "#### iterate over the tuples running the notebook per tuple"
   ]
  },
  {
   "cell_type": "code",
   "execution_count": 4,
   "metadata": {},
   "outputs": [
    {
     "name": "stdout",
     "output_type": "stream",
     "text": [
      "{'cohort': 'foundin', 'interaction_term': 'DAn'}\n",
      "/home/jupyter/notebooks/pm_gend_nbs/foundin.DAn.ieqtl_scan_risk.ipynb\n"
     ]
    },
    {
     "data": {
      "application/vnd.jupyter.widget-view+json": {
       "model_id": "27479eb5f241400f81191769b94b6605",
       "version_major": 2,
       "version_minor": 0
      },
      "text/plain": [
       "Executing:   0%|          | 0/44 [00:00<?, ?cell/s]"
      ]
     },
     "metadata": {},
     "output_type": "display_data"
    },
    {
     "name": "stdout",
     "output_type": "stream",
     "text": [
      "CPU times: user 3.84 s, sys: 128 ms, total: 3.97 s\n",
      "Wall time: 5min 12s\n"
     ]
    }
   ],
   "source": [
    "%%time\n",
    "\n",
    "# make sure the notebook output dir exists\n",
    "os.makedirs(out_nb_dir, exist_ok=True)\n",
    "\n",
    "for term in terms:\n",
    "    # before running prep notebook make results exist for the cohort and visit\n",
    "    param_dict = {'cohort': cohort, 'interaction_term': term}\n",
    "    out_notebook = f'{out_nb_dir}/{cohort}.{term}.ieqtl_scan_risk.ipynb'\n",
    "    print(param_dict)\n",
    "    print(out_notebook)\n",
    "    try:\n",
    "        pm.execute_notebook(input_path=base_notebook, output_path=out_notebook, \n",
    "                            parameters=param_dict)\n",
    "    except:\n",
    "        print(f'{cohort}.{term} encountered an error continuing on next')                "
   ]
  },
  {
   "cell_type": "code",
   "execution_count": null,
   "metadata": {},
   "outputs": [],
   "source": []
  }
 ],
 "metadata": {
  "environment": {
   "name": "pytorch-gpu.1-7.m65",
   "type": "gcloud",
   "uri": "gcr.io/deeplearning-platform-release/pytorch-gpu.1-7:m65"
  },
  "kernelspec": {
   "display_name": "Python 3",
   "language": "python",
   "name": "python3"
  },
  "language_info": {
   "codemirror_mode": {
    "name": "ipython",
    "version": 3
   },
   "file_extension": ".py",
   "mimetype": "text/x-python",
   "name": "python",
   "nbconvert_exporter": "python",
   "pygments_lexer": "ipython3",
   "version": "3.7.10"
  },
  "widgets": {
   "application/vnd.jupyter.widget-state+json": {
    "state": {
     "0677f96c151e49b9b9ba8a4247548353": {
      "model_module": "@jupyter-widgets/base",
      "model_module_version": "1.2.0",
      "model_name": "LayoutModel",
      "state": {}
     },
     "27479eb5f241400f81191769b94b6605": {
      "model_module": "@jupyter-widgets/controls",
      "model_module_version": "1.5.0",
      "model_name": "HBoxModel",
      "state": {
       "children": [
        "IPY_MODEL_67d77afb8c8d4120b60c77f6fcc78bf2",
        "IPY_MODEL_7963bcaae1ba46c2b7bf3201dbbf94a0",
        "IPY_MODEL_5dad62be5170446984d4920cc63e69e9"
       ],
       "layout": "IPY_MODEL_515bd2ddbb69416a92f29c69df688089"
      }
     },
     "4fb0d0f3fa4846b4bb1ee84a781ff39a": {
      "model_module": "@jupyter-widgets/base",
      "model_module_version": "1.2.0",
      "model_name": "LayoutModel",
      "state": {}
     },
     "515bd2ddbb69416a92f29c69df688089": {
      "model_module": "@jupyter-widgets/base",
      "model_module_version": "1.2.0",
      "model_name": "LayoutModel",
      "state": {}
     },
     "521194d5a4c34b4cbc84e286ec40cd6e": {
      "model_module": "@jupyter-widgets/base",
      "model_module_version": "1.2.0",
      "model_name": "LayoutModel",
      "state": {}
     },
     "5dad62be5170446984d4920cc63e69e9": {
      "model_module": "@jupyter-widgets/controls",
      "model_module_version": "1.5.0",
      "model_name": "HTMLModel",
      "state": {
       "layout": "IPY_MODEL_4fb0d0f3fa4846b4bb1ee84a781ff39a",
       "style": "IPY_MODEL_b00734ca2e7d4184b2532df370106814",
       "value": " 44/44 [05:11&lt;00:00,  1.48cell/s]"
      }
     },
     "67d77afb8c8d4120b60c77f6fcc78bf2": {
      "model_module": "@jupyter-widgets/controls",
      "model_module_version": "1.5.0",
      "model_name": "HTMLModel",
      "state": {
       "layout": "IPY_MODEL_0677f96c151e49b9b9ba8a4247548353",
       "style": "IPY_MODEL_8b1a6eb67fed47979543e48fa58b801f",
       "value": "Executing: 100%"
      }
     },
     "7963bcaae1ba46c2b7bf3201dbbf94a0": {
      "model_module": "@jupyter-widgets/controls",
      "model_module_version": "1.5.0",
      "model_name": "FloatProgressModel",
      "state": {
       "bar_style": "success",
       "layout": "IPY_MODEL_521194d5a4c34b4cbc84e286ec40cd6e",
       "max": 44,
       "style": "IPY_MODEL_edebc7f4804a4f0a8772f3dc08565cd3",
       "value": 44
      }
     },
     "8b1a6eb67fed47979543e48fa58b801f": {
      "model_module": "@jupyter-widgets/controls",
      "model_module_version": "1.5.0",
      "model_name": "DescriptionStyleModel",
      "state": {
       "description_width": ""
      }
     },
     "b00734ca2e7d4184b2532df370106814": {
      "model_module": "@jupyter-widgets/controls",
      "model_module_version": "1.5.0",
      "model_name": "DescriptionStyleModel",
      "state": {
       "description_width": ""
      }
     },
     "edebc7f4804a4f0a8772f3dc08565cd3": {
      "model_module": "@jupyter-widgets/controls",
      "model_module_version": "1.5.0",
      "model_name": "ProgressStyleModel",
      "state": {
       "description_width": ""
      }
     }
    },
    "version_major": 2,
    "version_minor": 0
   }
  }
 },
 "nbformat": 4,
 "nbformat_minor": 4
}
