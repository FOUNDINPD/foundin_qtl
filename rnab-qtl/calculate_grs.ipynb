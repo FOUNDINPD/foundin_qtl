{
 "cells": [
  {
   "cell_type": "markdown",
   "id": "generous-usage",
   "metadata": {},
   "source": [
    "## Notebook for calculating PD GRS \n",
    "assumes genome plink bfile already available (like one formatted for running tensorQTL)"
   ]
  },
  {
   "cell_type": "code",
   "execution_count": 1,
   "id": "blank-eleven",
   "metadata": {},
   "outputs": [
    {
     "name": "stdout",
     "output_type": "stream",
     "text": [
      "Fri Aug  6 08:42:37 UTC 2021\n"
     ]
    }
   ],
   "source": [
    "!date"
   ]
  },
  {
   "cell_type": "markdown",
   "id": "cleared-gasoline",
   "metadata": {},
   "source": [
    "#### import libraries and set notebook variables"
   ]
  },
  {
   "cell_type": "code",
   "execution_count": 2,
   "id": "seventh-metallic",
   "metadata": {},
   "outputs": [],
   "source": [
    "import pandas as pd\n",
    "import concurrent.futures\n",
    "import matplotlib.pyplot as plt\n",
    "import seaborn as sns\n",
    "import os\n",
    "import scipy.stats as stats\n",
    "from sklearn.preprocessing import RobustScaler, QuantileTransformer, MinMaxScaler"
   ]
  },
  {
   "cell_type": "code",
   "execution_count": 3,
   "id": "secure-survey",
   "metadata": {
    "tags": [
     "parameters"
    ]
   },
   "outputs": [],
   "source": [
    "# parameters\n",
    "cohort = 'foundin'\n",
    "version = 'amppdv1'"
   ]
  },
  {
   "cell_type": "code",
   "execution_count": 4,
   "id": "statewide-gates",
   "metadata": {},
   "outputs": [],
   "source": [
    "\n",
    "# naming\n",
    "cohort_version = f'{cohort}.{version}'\n",
    "\n",
    "# directories\n",
    "home_dir = '/home/jupyter'\n",
    "wrk_dir = f'{home_dir}/{cohort}/eqtl'\n",
    "geno_dir = f'{wrk_dir}/genotypes'\n",
    "info_dir = f'{wrk_dir}/sample_info'\n",
    "gwas_dir = f'{wrk_dir}/public'\n",
    "\n",
    "# input files\n",
    "genos_pfiles_frmt = '{this_dir}/{this_name}.chr{this_chr}'\n",
    "meta5_st2_clean_file = f'{gwas_dir}/pd.table_s2.clean.txt'\n",
    "psam_file = f'{geno_dir}/{cohort_version}.chr1.psam'\n",
    "\n",
    "# output files\n",
    "score_file = f'{gwas_dir}/pd.risk.betas.txt'\n",
    "risk_vcf = f'{geno_dir}/{cohort_version}.risk.vcf.gz'\n",
    "grs_file = f'{geno_dir}/{cohort}.grs'\n",
    "grs_scaled_file = f'{info_dir}/{cohort}.grs.scaled.csv'\n",
    "\n",
    "# constants\n",
    "cpu_count = len(os.sched_getaffinity(0))\n",
    "# add variant to exclude from GRS, set to None is not\n",
    "drop_variants = ['rs76763715', 'rs34637584']"
   ]
  },
  {
   "cell_type": "markdown",
   "id": "rotary-laundry",
   "metadata": {},
   "source": [
    "#### utility functions"
   ]
  },
  {
   "cell_type": "code",
   "execution_count": 5,
   "id": "radical-institute",
   "metadata": {},
   "outputs": [],
   "source": [
    "# function to run bash command\n",
    "def run_bash_cmd(this_cmd):\n",
    "    !{this_cmd}\n",
    "\n",
    "# function to run a list of bash commands in parallel\n",
    "def run_bash_cmds_parallel(cmd_list):\n",
    "    with concurrent.futures.ProcessPoolExecutor() as ppe:\n",
    "        for this_cmd in cmd_list:\n",
    "            ppe.submit(run_bash_cmd, this_cmd) "
   ]
  },
  {
   "cell_type": "markdown",
   "id": "stuffed-turtle",
   "metadata": {},
   "source": [
    "#### create score file from independent risk signals for calculating GRS"
   ]
  },
  {
   "cell_type": "code",
   "execution_count": 6,
   "id": "colonial-laptop",
   "metadata": {},
   "outputs": [
    {
     "name": "stdout",
     "output_type": "stream",
     "text": [
      "(91, 12)\n",
      "(89, 3)\n"
     ]
    },
    {
     "data": {
      "text/html": [
       "<div>\n",
       "<style scoped>\n",
       "    .dataframe tbody tr th:only-of-type {\n",
       "        vertical-align: middle;\n",
       "    }\n",
       "\n",
       "    .dataframe tbody tr th {\n",
       "        vertical-align: top;\n",
       "    }\n",
       "\n",
       "    .dataframe thead th {\n",
       "        text-align: right;\n",
       "    }\n",
       "</style>\n",
       "<table border=\"1\" class=\"dataframe\">\n",
       "  <thead>\n",
       "    <tr style=\"text-align: right;\">\n",
       "      <th></th>\n",
       "      <th>SNP</th>\n",
       "      <th>Effect_allele</th>\n",
       "      <th>Beta_all_studies</th>\n",
       "    </tr>\n",
       "  </thead>\n",
       "  <tbody>\n",
       "    <tr>\n",
       "      <th>0</th>\n",
       "      <td>rs114138760</td>\n",
       "      <td>C</td>\n",
       "      <td>0.2812</td>\n",
       "    </tr>\n",
       "    <tr>\n",
       "      <th>1</th>\n",
       "      <td>rs35749011</td>\n",
       "      <td>A</td>\n",
       "      <td>0.6068</td>\n",
       "    </tr>\n",
       "    <tr>\n",
       "      <th>3</th>\n",
       "      <td>rs6658353</td>\n",
       "      <td>C</td>\n",
       "      <td>0.0650</td>\n",
       "    </tr>\n",
       "    <tr>\n",
       "      <th>4</th>\n",
       "      <td>rs11578699</td>\n",
       "      <td>T</td>\n",
       "      <td>-0.0704</td>\n",
       "    </tr>\n",
       "    <tr>\n",
       "      <th>5</th>\n",
       "      <td>rs823118</td>\n",
       "      <td>T</td>\n",
       "      <td>0.1066</td>\n",
       "    </tr>\n",
       "  </tbody>\n",
       "</table>\n",
       "</div>"
      ],
      "text/plain": [
       "           SNP Effect_allele  Beta_all_studies\n",
       "0  rs114138760             C            0.2812\n",
       "1   rs35749011             A            0.6068\n",
       "3    rs6658353             C            0.0650\n",
       "4   rs11578699             T           -0.0704\n",
       "5     rs823118             T            0.1066"
      ]
     },
     "metadata": {},
     "output_type": "display_data"
    }
   ],
   "source": [
    "risk_indep_results = pd.read_csv(meta5_st2_clean_file, sep='\\t')\n",
    "#uppercase the effect allele\n",
    "risk_indep_results['Effect_allele'] = risk_indep_results['Effect_allele'].str.upper()\n",
    "\n",
    "print(risk_indep_results.shape)\n",
    "#rename necessary columns so downstream code still works\n",
    "risk_indep_results['varid'] = risk_indep_results['SNP']\n",
    "\n",
    "# if variants to drop are set then remove\n",
    "if not drop_variants is None:\n",
    "    risk_indep_results = risk_indep_results.loc[~risk_indep_results['varid'].isin(drop_variants)]\n",
    "\n",
    "#subset to score file columns and save\n",
    "score_df = risk_indep_results[['SNP', 'Effect_allele', 'Beta_all_studies']]\n",
    "score_df.to_csv(score_file, header=False, index=False, sep='\\t')\n",
    "print(score_df.shape)\n",
    "display(score_df.head())"
   ]
  },
  {
   "cell_type": "code",
   "execution_count": 7,
   "id": "guilty-monroe",
   "metadata": {},
   "outputs": [
    {
     "name": "stdout",
     "output_type": "stream",
     "text": [
      "[ 1  2  3  4  5  6  7  8  9 10 11 12 13 14 15 16 17 18 19 20 21]\n"
     ]
    }
   ],
   "source": [
    "risk_chroms = risk_indep_results['CHR'].unique()\n",
    "print(risk_chroms)"
   ]
  },
  {
   "cell_type": "markdown",
   "id": "sharing-dollar",
   "metadata": {},
   "source": [
    "#### extract risk signal variants from sample genotypes"
   ]
  },
  {
   "cell_type": "markdown",
   "id": "complete-prescription",
   "metadata": {},
   "source": [
    "#### function for formatting plink(2) commands"
   ]
  },
  {
   "cell_type": "code",
   "execution_count": 8,
   "id": "announced-moses",
   "metadata": {},
   "outputs": [],
   "source": [
    "def frmt_pfile_variant_subset(pfiles_path, variants_file, out_pfiles):\n",
    "    this_cmd = f'plink2 --pfile {pfiles_path} --silent \\\n",
    "--make-pgen --out {out_pfiles} --extract {variants_file}'\n",
    "    return this_cmd\n",
    "\n",
    "# function to format cmd to covert pfile to vcf\n",
    "def frmt_pfile_to_vcf(pfiles_path):\n",
    "    this_cmd = f'plink2 --pfile {pfiles_path} --silent \\\n",
    "--export vcf-4.2 bgz id-paste=iid --out {pfiles_path} --output-chr chrM'\n",
    "    return this_cmd\n",
    "\n",
    "# function to format vcf index command\n",
    "def frmt_index_vcf(vcf_file):\n",
    "    this_cmd = f'tabix -p vcf {vcf_file}'\n",
    "    return this_cmd"
   ]
  },
  {
   "cell_type": "code",
   "execution_count": 9,
   "id": "neither-sleeping",
   "metadata": {},
   "outputs": [],
   "source": [
    "cmds_list = []\n",
    "for chrom in risk_chroms:\n",
    "    in_pfile = genos_pfiles_frmt.format(this_dir=geno_dir, this_name=cohort_version, \n",
    "                                        this_chr=chrom)\n",
    "    out_pfile = genos_pfiles_frmt.format(this_dir=geno_dir, this_name=cohort_version, \n",
    "                                        this_chr=chrom) + '.risk'\n",
    "    cmds_list.append(frmt_pfile_variant_subset(in_pfile, score_file, out_pfile))\n",
    "\n",
    "# print(cmds_list)  \n",
    "# run the cmds in parallel\n",
    "run_bash_cmds_parallel(cmds_list)"
   ]
  },
  {
   "cell_type": "code",
   "execution_count": 10,
   "id": "divided-brave",
   "metadata": {},
   "outputs": [
    {
     "name": "stdout",
     "output_type": "stream",
     "text": [
      "chrom 1:  8 variants remaining after main filters.\n",
      "chrom 2:  5 variants remaining after main filters.\n",
      "chrom 3:  7 variants remaining after main filters.\n",
      "chrom 4:  11 variants remaining after main filters.\n",
      "chrom 5:  2 variants remaining after main filters.\n",
      "chrom 6:  5 variants remaining after main filters.\n",
      "chrom 7:  2 variants remaining after main filters.\n",
      "chrom 8:  4 variants remaining after main filters.\n",
      "chrom 9:  3 variants remaining after main filters.\n",
      "chrom 10:  4 variants remaining after main filters.\n",
      "chrom 11:  3 variants remaining after main filters.\n",
      "chrom 12:  4 variants remaining after main filters.\n",
      "chrom 13:  2 variants remaining after main filters.\n",
      "chrom 14:  4 variants remaining after main filters.\n",
      "chrom 15:  1 variant remaining after main filters.\n",
      "chrom 16:  6 variants remaining after main filters.\n",
      "chrom 17:  9 variants remaining after main filters.\n",
      "chrom 18:  3 variants remaining after main filters.\n",
      "chrom 19:  1 variant remaining after main filters.\n",
      "chrom 20:  1 variant remaining after main filters.\n",
      "chrom 21:  1 variant remaining after main filters.\n"
     ]
    }
   ],
   "source": [
    "for chrom in risk_chroms:\n",
    "    pfile_log = genos_pfiles_frmt.format(this_dir=geno_dir, this_name=cohort_version, \n",
    "                                        this_chr=chrom) + '.risk.log'\n",
    "    print(f'chrom {chrom}: ', end=' ')\n",
    "    !less {pfile_log} | grep \"remaining after main filters.\""
   ]
  },
  {
   "cell_type": "markdown",
   "id": "adverse-indication",
   "metadata": {},
   "source": [
    "#### combine the risk variant genos into single file"
   ]
  },
  {
   "cell_type": "code",
   "execution_count": 11,
   "id": "boolean-yahoo",
   "metadata": {},
   "outputs": [],
   "source": [
    "cmds_list = []\n",
    "# for chrom in autosomes:\n",
    "for chrom in risk_chroms:\n",
    "    in_pfile = genos_pfiles_frmt.format(this_dir=geno_dir, this_name=cohort_version, \n",
    "                                        this_chr=chrom) + '.risk'\n",
    "    cmds_list.append(frmt_pfile_to_vcf(in_pfile))\n",
    "\n",
    "# print(cmds_list)  \n",
    "# run the cmds in parallel\n",
    "run_bash_cmds_parallel(cmds_list)"
   ]
  },
  {
   "cell_type": "code",
   "execution_count": 12,
   "id": "acquired-paradise",
   "metadata": {},
   "outputs": [
    {
     "name": "stdout",
     "output_type": "stream",
     "text": [
      "Checking the headers and starting positions of 21 files\n",
      "Concatenating /home/jupyter/foundin/eqtl/genotypes/foundin.amppdv1.chr1.risk.vcf.gz\t0.001052 seconds\n",
      "Concatenating /home/jupyter/foundin/eqtl/genotypes/foundin.amppdv1.chr2.risk.vcf.gz\t0.000692 seconds\n",
      "Concatenating /home/jupyter/foundin/eqtl/genotypes/foundin.amppdv1.chr3.risk.vcf.gz\t0.000741 seconds\n",
      "Concatenating /home/jupyter/foundin/eqtl/genotypes/foundin.amppdv1.chr4.risk.vcf.gz\t0.000821 seconds\n",
      "Concatenating /home/jupyter/foundin/eqtl/genotypes/foundin.amppdv1.chr5.risk.vcf.gz\t0.000629 seconds\n",
      "Concatenating /home/jupyter/foundin/eqtl/genotypes/foundin.amppdv1.chr6.risk.vcf.gz\t0.000767 seconds\n",
      "Concatenating /home/jupyter/foundin/eqtl/genotypes/foundin.amppdv1.chr7.risk.vcf.gz\t0.000606 seconds\n",
      "Concatenating /home/jupyter/foundin/eqtl/genotypes/foundin.amppdv1.chr8.risk.vcf.gz\t0.000710 seconds\n",
      "Concatenating /home/jupyter/foundin/eqtl/genotypes/foundin.amppdv1.chr9.risk.vcf.gz\t0.000577 seconds\n",
      "Concatenating /home/jupyter/foundin/eqtl/genotypes/foundin.amppdv1.chr10.risk.vcf.gz\t0.000664 seconds\n",
      "Concatenating /home/jupyter/foundin/eqtl/genotypes/foundin.amppdv1.chr11.risk.vcf.gz\t0.000671 seconds\n",
      "Concatenating /home/jupyter/foundin/eqtl/genotypes/foundin.amppdv1.chr12.risk.vcf.gz\t0.000601 seconds\n",
      "Concatenating /home/jupyter/foundin/eqtl/genotypes/foundin.amppdv1.chr13.risk.vcf.gz\t0.000626 seconds\n",
      "Concatenating /home/jupyter/foundin/eqtl/genotypes/foundin.amppdv1.chr14.risk.vcf.gz\t0.000684 seconds\n",
      "Concatenating /home/jupyter/foundin/eqtl/genotypes/foundin.amppdv1.chr15.risk.vcf.gz\t0.000620 seconds\n",
      "Concatenating /home/jupyter/foundin/eqtl/genotypes/foundin.amppdv1.chr16.risk.vcf.gz\t0.000586 seconds\n",
      "Concatenating /home/jupyter/foundin/eqtl/genotypes/foundin.amppdv1.chr17.risk.vcf.gz\t0.000647 seconds\n",
      "Concatenating /home/jupyter/foundin/eqtl/genotypes/foundin.amppdv1.chr18.risk.vcf.gz\t0.000584 seconds\n",
      "Concatenating /home/jupyter/foundin/eqtl/genotypes/foundin.amppdv1.chr19.risk.vcf.gz\t0.000550 seconds\n",
      "Concatenating /home/jupyter/foundin/eqtl/genotypes/foundin.amppdv1.chr20.risk.vcf.gz\t0.000558 seconds\n",
      "Concatenating /home/jupyter/foundin/eqtl/genotypes/foundin.amppdv1.chr21.risk.vcf.gz\t0.000597 seconds\n"
     ]
    }
   ],
   "source": [
    "vcf_files = []\n",
    "for chrom in risk_chroms:\n",
    "    vcf_files.append(genos_pfiles_frmt.format(this_dir=geno_dir, this_name=cohort_version, \n",
    "                                              this_chr=chrom) + '.risk.vcf.gz')\n",
    "\n",
    "vcf_files_arg = ' '.join(vcf_files)\n",
    "this_cmd = f'bcftools concat --output-type z --output {risk_vcf} \\\n",
    "--threads {cpu_count} --no-version {vcf_files_arg}'   \n",
    "\n",
    "# print(this_cmd)\n",
    "run_bash_cmd(this_cmd)"
   ]
  },
  {
   "cell_type": "markdown",
   "id": "monthly-market",
   "metadata": {},
   "source": [
    "#### index new vcf"
   ]
  },
  {
   "cell_type": "code",
   "execution_count": 13,
   "id": "middle-virginia",
   "metadata": {},
   "outputs": [],
   "source": [
    "this_cmd = frmt_index_vcf(risk_vcf)\n",
    "\n",
    "# print(this_cmd)\n",
    "run_bash_cmd(this_cmd)"
   ]
  },
  {
   "cell_type": "markdown",
   "id": "variable-dream",
   "metadata": {},
   "source": [
    "#### calculate the GRS for samples"
   ]
  },
  {
   "cell_type": "code",
   "execution_count": 14,
   "id": "verified-secondary",
   "metadata": {},
   "outputs": [
    {
     "name": "stdout",
     "output_type": "stream",
     "text": [
      "plink2 --vcf /home/jupyter/foundin/eqtl/genotypes/foundin.amppdv1.risk.vcf.gz --score /home/jupyter/foundin/eqtl/public/pd.risk.betas.txt 1 2 3 header list-variants --silent --out /home/jupyter/foundin/eqtl/genotypes/foundin.grs\n",
      "Warning: 3 --score file entries were skipped due to missing variant IDs.\n"
     ]
    }
   ],
   "source": [
    "this_cmd = f'plink2 --vcf {risk_vcf} --score {score_file} 1 2 3 header \\\n",
    "list-variants --silent --out {grs_file}'\n",
    "\n",
    "print(this_cmd)\n",
    "!{this_cmd}"
   ]
  },
  {
   "cell_type": "markdown",
   "id": "dated-porter",
   "metadata": {},
   "source": [
    "#### see if any variants weren't used in scoring"
   ]
  },
  {
   "cell_type": "code",
   "execution_count": 15,
   "id": "hairy-beatles",
   "metadata": {},
   "outputs": [
    {
     "name": "stdout",
     "output_type": "stream",
     "text": [
      "(85, 1)\n"
     ]
    },
    {
     "data": {
      "text/html": [
       "<div>\n",
       "<style scoped>\n",
       "    .dataframe tbody tr th:only-of-type {\n",
       "        vertical-align: middle;\n",
       "    }\n",
       "\n",
       "    .dataframe tbody tr th {\n",
       "        vertical-align: top;\n",
       "    }\n",
       "\n",
       "    .dataframe thead th {\n",
       "        text-align: right;\n",
       "    }\n",
       "</style>\n",
       "<table border=\"1\" class=\"dataframe\">\n",
       "  <thead>\n",
       "    <tr style=\"text-align: right;\">\n",
       "      <th></th>\n",
       "      <th>SNP</th>\n",
       "      <th>CHR</th>\n",
       "      <th>BP</th>\n",
       "      <th>Nearest_Gene</th>\n",
       "      <th>QTL_Nominated_Gene</th>\n",
       "      <th>Effect_allele</th>\n",
       "      <th>Other_allele</th>\n",
       "      <th>EAF</th>\n",
       "      <th>Beta_all_studies</th>\n",
       "      <th>SE_all_studies</th>\n",
       "      <th>P_all_studies</th>\n",
       "      <th>P_COJO_all_studies</th>\n",
       "      <th>varid</th>\n",
       "    </tr>\n",
       "  </thead>\n",
       "  <tbody>\n",
       "    <tr>\n",
       "      <th>0</th>\n",
       "      <td>rs114138760</td>\n",
       "      <td>1</td>\n",
       "      <td>154898185</td>\n",
       "      <td>PMVK</td>\n",
       "      <td>NaN</td>\n",
       "      <td>C</td>\n",
       "      <td>g</td>\n",
       "      <td>0.0112</td>\n",
       "      <td>0.2812</td>\n",
       "      <td>0.0478</td>\n",
       "      <td>4.190000e-09</td>\n",
       "      <td>1.090000e-08</td>\n",
       "      <td>rs114138760</td>\n",
       "    </tr>\n",
       "    <tr>\n",
       "      <th>36</th>\n",
       "      <td>rs112485576</td>\n",
       "      <td>6</td>\n",
       "      <td>32578772</td>\n",
       "      <td>HLA-DRB5</td>\n",
       "      <td>NaN</td>\n",
       "      <td>A</td>\n",
       "      <td>c</td>\n",
       "      <td>0.1630</td>\n",
       "      <td>-0.1676</td>\n",
       "      <td>0.0153</td>\n",
       "      <td>6.960000e-28</td>\n",
       "      <td>3.830000e-25</td>\n",
       "      <td>rs112485576</td>\n",
       "    </tr>\n",
       "    <tr>\n",
       "      <th>58</th>\n",
       "      <td>rs186111791</td>\n",
       "      <td>12</td>\n",
       "      <td>41447669</td>\n",
       "      <td>CNTN1</td>\n",
       "      <td>NaN</td>\n",
       "      <td>T</td>\n",
       "      <td>c</td>\n",
       "      <td>0.0047</td>\n",
       "      <td>0.8513</td>\n",
       "      <td>0.1037</td>\n",
       "      <td>2.160000e-16</td>\n",
       "      <td>7.430000e-25</td>\n",
       "      <td>rs186111791</td>\n",
       "    </tr>\n",
       "    <tr>\n",
       "      <th>75</th>\n",
       "      <td>rs200564078</td>\n",
       "      <td>16</td>\n",
       "      <td>58587672</td>\n",
       "      <td>CNOT1</td>\n",
       "      <td>NaN</td>\n",
       "      <td>T</td>\n",
       "      <td>c</td>\n",
       "      <td>0.0033</td>\n",
       "      <td>0.8590</td>\n",
       "      <td>0.1271</td>\n",
       "      <td>1.390000e-11</td>\n",
       "      <td>1.400000e-11</td>\n",
       "      <td>rs200564078</td>\n",
       "    </tr>\n",
       "  </tbody>\n",
       "</table>\n",
       "</div>"
      ],
      "text/plain": [
       "            SNP  CHR         BP Nearest_Gene QTL_Nominated_Gene Effect_allele  \\\n",
       "0   rs114138760    1  154898185         PMVK                NaN             C   \n",
       "36  rs112485576    6   32578772     HLA-DRB5                NaN             A   \n",
       "58  rs186111791   12   41447669        CNTN1                NaN             T   \n",
       "75  rs200564078   16   58587672        CNOT1                NaN             T   \n",
       "\n",
       "   Other_allele     EAF  Beta_all_studies  SE_all_studies  P_all_studies  \\\n",
       "0             g  0.0112            0.2812          0.0478   4.190000e-09   \n",
       "36            c  0.1630           -0.1676          0.0153   6.960000e-28   \n",
       "58            c  0.0047            0.8513          0.1037   2.160000e-16   \n",
       "75            c  0.0033            0.8590          0.1271   1.390000e-11   \n",
       "\n",
       "    P_COJO_all_studies        varid  \n",
       "0         1.090000e-08  rs114138760  \n",
       "36        3.830000e-25  rs112485576  \n",
       "58        7.430000e-25  rs186111791  \n",
       "75        1.400000e-11  rs200564078  "
      ]
     },
     "metadata": {},
     "output_type": "display_data"
    }
   ],
   "source": [
    "scored_variants_file = f'{grs_file}.sscore.vars'\n",
    "scored_vars_df = pd.read_csv(scored_variants_file, header=None)\n",
    "scored_vars_df.columns = ['variant']\n",
    "print(scored_vars_df.shape)\n",
    "\n",
    "missing_variants = set(score_df['SNP']) - set(scored_vars_df['variant'])\n",
    "\n",
    "display(risk_indep_results.loc[risk_indep_results['SNP'].isin(missing_variants)])"
   ]
  },
  {
   "cell_type": "markdown",
   "id": "quality-customs",
   "metadata": {},
   "source": [
    "#### load covariates files"
   ]
  },
  {
   "cell_type": "code",
   "execution_count": 16,
   "id": "arctic-paint",
   "metadata": {},
   "outputs": [
    {
     "name": "stdout",
     "output_type": "stream",
     "text": [
      "(119, 4)\n"
     ]
    }
   ],
   "source": [
    "psam_df = pd.read_csv(psam_file, sep='\\s+')\n",
    "print(psam_df.shape)\n",
    "# display(psam_df.sample(5))"
   ]
  },
  {
   "cell_type": "markdown",
   "id": "clear-immune",
   "metadata": {},
   "source": [
    "#### load grs scores, take a look at score by DX"
   ]
  },
  {
   "cell_type": "code",
   "execution_count": 17,
   "id": "interior-official",
   "metadata": {},
   "outputs": [
    {
     "name": "stdout",
     "output_type": "stream",
     "text": [
      "(119, 4)\n",
      "(119, 5)\n"
     ]
    }
   ],
   "source": [
    "#load grs scores, take a look at score by DX\n",
    "scored_samples_file = f'{grs_file}.sscore'\n",
    "scores_df = pd.read_csv(scored_samples_file,sep='\\s+')\n",
    "print(scores_df.shape)\n",
    "scores_df.rename(columns={'SCORE1_AVG': 'GRS', '#IID': 'IID'}, inplace=True)\n",
    "scores_df = scores_df[['IID','GRS']]\n",
    "\n",
    "scores_df = scores_df.merge(psam_df,how='inner',left_on='IID',right_on='IID')\n",
    "scores_df.drop_duplicates(subset=['IID'], keep='first', inplace=True)\n",
    "print(scores_df.shape)\n",
    "# display(scores_df.head())"
   ]
  },
  {
   "cell_type": "code",
   "execution_count": 18,
   "id": "nominated-queue",
   "metadata": {},
   "outputs": [
    {
     "data": {
      "text/plain": [
       "GC-unaffected    39\n",
       "PD               35\n",
       "GC-PD            28\n",
       "Control          10\n",
       "Other             7\n",
       "Name: DX, dtype: int64"
      ]
     },
     "execution_count": 18,
     "metadata": {},
     "output_type": "execute_result"
    }
   ],
   "source": [
    "scores_df['DX'].value_counts()"
   ]
  },
  {
   "cell_type": "markdown",
   "id": "explicit-exposure",
   "metadata": {},
   "source": [
    "#### plot raw GRS scores"
   ]
  },
  {
   "cell_type": "code",
   "execution_count": 19,
   "id": "assigned-surfing",
   "metadata": {},
   "outputs": [
    {
     "data": {
      "image/png": "[encoded data removed]",
      "text/plain": [
       "<Figure size 648x648 with 1 Axes>"
      ]
     },
     "metadata": {
      "needs_background": "light"
     },
     "output_type": "display_data"
    }
   ],
   "source": [
    "# grouping = 'study_arm'\n",
    "grouping = 'DX'\n",
    "\n",
    "# plot raw GRS scores\n",
    "plt.figure(figsize=(9,9))\n",
    "sns.boxenplot(x=grouping,y='GRS', scale='exponential', data=scores_df, \\\n",
    "              k_depth='trustworthy')\n",
    "\n",
    "grsplt = sns.stripplot(x=grouping,y='GRS',data=scores_df, alpha=0.75, \\\n",
    "                       jitter=True, color='darkgrey')\n",
    "loc, labels = plt.xticks()\n",
    "grsplt.set_xticklabels(labels, rotation=60)\n",
    "plt.title('GRS by Group', fontsize='large') \n",
    "plt.xlabel('Group')\n",
    "plt.ylabel('raw GRS')\n",
    "plt.show()"
   ]
  },
  {
   "cell_type": "markdown",
   "id": "religious-commerce",
   "metadata": {},
   "source": [
    "#### standardize the GRS sample scores"
   ]
  },
  {
   "cell_type": "code",
   "execution_count": 20,
   "id": "according-philosophy",
   "metadata": {},
   "outputs": [
    {
     "data": {
      "image/png": "[encoded data removed]",
      "text/plain": [
       "<Figure size 648x648 with 1 Axes>"
      ]
     },
     "metadata": {
      "needs_background": "light"
     },
     "output_type": "display_data"
    }
   ],
   "source": [
    "# standardize the GRS sample scores and re-plot\n",
    "#z-score\n",
    "# scores_df['zGRS'] = stats.zscore(scores_df['GRS'])\n",
    "scores_df['zGRS'] =  MinMaxScaler().fit_transform(RobustScaler(quantile_range=(25, 75))\n",
    "                                                  .fit_transform(scores_df[['GRS']]))\n",
    "# scores_df['zGRS'] = MinMaxScaler().fit_transform(QuantileTransformer(output_distribution='normal')\n",
    "#                                                  .fit_transform(scores_df[['GRS']]))\n",
    "# display(scores_df.head())\n",
    "\n",
    "#plot\n",
    "plt.figure(figsize=(9,9))\n",
    "sns.boxenplot(x=grouping,y='zGRS', scale='exponential', data=scores_df, \\\n",
    "              k_depth='trustworthy')\n",
    "\n",
    "grsplt = sns.stripplot(x=grouping,y='zGRS',data=scores_df, alpha=0.75, \\\n",
    "                       jitter=True, color='darkgrey')\n",
    "loc, labels = plt.xticks()\n",
    "grsplt.set_xticklabels(labels, rotation=60)\n",
    "plt.title('GRS by Group', fontsize='large') \n",
    "plt.xlabel('Group')\n",
    "plt.ylabel('Scaled GRS')\n",
    "plt.subplots_adjust(wspace=0.3)\n",
    "plt.show()"
   ]
  },
  {
   "cell_type": "markdown",
   "id": "perfect-understanding",
   "metadata": {},
   "source": [
    "#### saved to the scaled GRS file"
   ]
  },
  {
   "cell_type": "code",
   "execution_count": 21,
   "id": "derived-midwest",
   "metadata": {},
   "outputs": [],
   "source": [
    "scores_df['GRS'] = scores_df['zGRS']\n",
    "scores_df[['IID', 'DX', 'GRS']].to_csv(grs_scaled_file, index=False)"
   ]
  },
  {
   "cell_type": "code",
   "execution_count": null,
   "id": "impossible-battlefield",
   "metadata": {},
   "outputs": [],
   "source": []
  }
 ],
 "metadata": {
  "environment": {
   "name": "pytorch-gpu.1-7.m65",
   "type": "gcloud",
   "uri": "gcr.io/deeplearning-platform-release/pytorch-gpu.1-7:m65"
  },
  "kernelspec": {
   "display_name": "Python 3",
   "language": "python",
   "name": "python3"
  },
  "language_info": {
   "codemirror_mode": {
    "name": "ipython",
    "version": 3
   },
   "file_extension": ".py",
   "mimetype": "text/x-python",
   "name": "python",
   "nbconvert_exporter": "python",
   "pygments_lexer": "ipython3",
   "version": "3.7.10"
  },
  "widgets": {
   "application/vnd.jupyter.widget-state+json": {
    "state": {},
    "version_major": 2,
    "version_minor": 0
   }
  }
 },
 "nbformat": 4,
 "nbformat_minor": 5
}
