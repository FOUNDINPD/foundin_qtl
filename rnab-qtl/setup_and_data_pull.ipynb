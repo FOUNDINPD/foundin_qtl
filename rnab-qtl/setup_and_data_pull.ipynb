{
 "cells": [
  {
   "cell_type": "markdown",
   "metadata": {},
   "source": [
    "## Notebook to do any addtional setup on instance and pull input data for analysis"
   ]
  },
  {
   "cell_type": "code",
   "execution_count": 1,
   "metadata": {},
   "outputs": [
    {
     "name": "stdout",
     "output_type": "stream",
     "text": [
      "Thu Feb 18 17:21:23 UTC 2021\n"
     ]
    }
   ],
   "source": [
    "!date"
   ]
  },
  {
   "cell_type": "code",
   "execution_count": 5,
   "metadata": {},
   "outputs": [],
   "source": [
    "import os"
   ]
  },
  {
   "cell_type": "code",
   "execution_count": 8,
   "metadata": {},
   "outputs": [],
   "source": [
    "# parameter variables\n",
    "cohort = 'foundin'\n",
    "version = 'amppdv1'\n",
    "cohort_version = f'{cohort}.{version}'\n",
    "quant_type = 'vst'\n",
    "\n",
    "# directories for initial setup\n",
    "home_dir = '/home/jupyter'\n",
    "nbs_dir = '/home/jupyter/notebooks'\n",
    "wrk_dir = f'/home/jupyter/{cohort}/eqtl'\n",
    "geno_dir = f'{wrk_dir}/genotypes'\n",
    "expr_dir = f'{wrk_dir}/expression'\n",
    "info_dir = f'{wrk_dir}/sample_info'\n",
    "public_dir = f'{wrk_dir}/public'\n",
    "\n",
    "\n",
    "# input data\n",
    "data_bucket = 'gs://foundin-processed-assay'\n",
    "eqtl_bucket_path = f'{data_bucket}/analysis/eqtl'\n",
    "nbs_bucket_path = f'{eqtl_bucket_path}/notebooks'\n",
    "genos_bucket_path = f'{eqtl_bucket_path}/genotypes/{cohort_version}.chr*'\n",
    "quants_bucket_path = f'gs://foundin-processed-assay/loni/RNAB/aggregated_expression/{quant_type}Table.tsv'\n",
    "quants_local_file = f'{expr_dir}/{quant_type}.genes.tsv'\n",
    "gencode_bucket_path = f'{eqtl_bucket_path}/expression/gencode_v29.lncipedia_v5_2_hc.annotation.pkl'\n",
    "tissue_genes_bckt_path = f'{eqtl_bucket_path}/expression/tissue_category_rna_brain_Tissue.tsv'\n",
    "fasta_index_bucket_path = 'gs://gcp-public-data--broad-references/hg38/v0/Homo_sapiens_assembly38.fasta.fai'\n",
    "sample_info_bckt_path = f'{eqtl_bucket_path}/sample_info'\n",
    "# gwas_results_bckt_path = f'{eqtl_bucket_path}/gwas/pd_meta5v2_cojo_results.jma.cojo.csv'\n",
    "gwas_results_bckt_path = f'{eqtl_bucket_path}/gwas'\n",
    "scaden_fracs_bckt_path = 'gs://foundin-processed-assay/analysis/deconvolution/rnab_cell_fracs_scaden.csv'\n",
    "hipsci_results_bckt_path = 'gs://foundin-processed-assay/analysis/eqtl/public/hipsci/\\\n",
    "eqtl_summary_stats_renamed/D52.DA.untreated.qtl_results_all.sorted.txt.gz*'\n",
    "metabrain_results_bckt_path = 'gs://foundin-processed-assay/analysis/eqtl/public/\\\n",
    "metabrain/2020-05-26-Cortex-EUR-*-biogenformat.txt.gz'"
   ]
  },
  {
   "cell_type": "code",
   "execution_count": 4,
   "metadata": {},
   "outputs": [],
   "source": [
    "# make the dirs\n",
    "os.makedirs(wrk_dir, exist_ok=True)\n",
    "os.makedirs(geno_dir, exist_ok=True)\n",
    "os.makedirs(expr_dir, exist_ok=True)\n",
    "os.makedirs(info_dir, exist_ok=True)\n",
    "os.makedirs(public_dir, exist_ok=True)"
   ]
  },
  {
   "cell_type": "markdown",
   "metadata": {},
   "source": [
    "#### pull down the rest of the analysis notebooks"
   ]
  },
  {
   "cell_type": "code",
   "execution_count": 5,
   "metadata": {},
   "outputs": [
    {
     "name": "stdout",
     "output_type": "stream",
     "text": [
      "gsutil -mq cp -P gs://foundin-processed-assay/analysis/eqtl/notebooks/* /home/jupyter/notebooks/\n",
      "total 6.5M\n",
      "-rw-r--r-- 1 jupyter jupyter 7.4K Feb  9 16:52 Readme.md\n",
      "-rw-r--r-- 1 jupyter jupyter 5.2K Feb 17 22:39 finish_and_push_back.ipynb\n",
      "-rw-r--r-- 1 jupyter jupyter 4.6K Oct  2 04:03 foundin_cis_eqtl_runner.ipynb\n",
      "-rw-r--r-- 1 jupyter jupyter  16K Feb 12 05:54 foundin_day_cis_eqtl.ipynb\n",
      "-rw-r--r-- 1 jupyter jupyter  16K Feb 17 23:20 foundin_day_cis_eqtl_plink2.ipynb\n",
      "-rw-r--r-- 1 jupyter jupyter  16K Feb 17 23:51 foundin_day_cis_eqtl_tensorqtl.ipynb\n",
      "-rw-r--r-- 1 jupyter jupyter 891K Feb 18 00:08 foundin_day_expression_prep.ipynb\n",
      "-rw-r--r-- 1 jupyter jupyter 4.9K Oct  1 21:02 foundin_expr_prep_runner.ipynb\n",
      "-rw-r--r-- 1 jupyter jupyter 3.1M Feb  9 23:35 foundin_format_expression_covariates.ipynb\n",
      "-rw-r--r-- 1 jupyter jupyter 9.2K Feb 17 23:50 foundin_frmt_tensorqt_genos.ipynb\n",
      "-rw-r--r-- 1 jupyter jupyter  19K Oct  1 20:01 foundin_gcs_raw.ipynb\n",
      "-rw-r--r-- 1 jupyter jupyter 7.6K Oct  1 20:01 foundin_genotypes_from_ppmi.ipynb\n",
      "-rw-r--r-- 1 jupyter jupyter 8.9K Oct  2 04:47 foundin_peek_eqtl_results.ipynb\n",
      "-rw-r--r-- 1 jupyter jupyter 4.6K Oct  2 04:52 foundin_peek_eqtl_runner.ipynb\n",
      "-rw-r--r-- 1 jupyter jupyter 2.2M Feb 18 00:01 foundin_split_expression_by_day.ipynb\n",
      "-rw-r--r-- 1 jupyter jupyter 197K Feb 17 22:47 foundin_wgs_sqc.ipynb\n",
      "-rw-r--r-- 1 jupyter jupyter  31K Feb 11 04:08 setup_and_data_pull.ipynb\n"
     ]
    }
   ],
   "source": [
    "this_cmd = f'gsutil -mq cp -P {nbs_bucket_path}/* {nbs_dir}/'\n",
    "print(this_cmd)\n",
    "!{this_cmd}\n",
    "!ls -lh {nbs_dir}"
   ]
  },
  {
   "cell_type": "markdown",
   "metadata": {},
   "source": [
    "#### mirror down input data from the input buckets"
   ]
  },
  {
   "cell_type": "code",
   "execution_count": 6,
   "metadata": {},
   "outputs": [
    {
     "name": "stdout",
     "output_type": "stream",
     "text": [
      "gsutil -mq cp -P gs://foundin-processed-assay/analysis/eqtl/genotypes/foundin.amppdv1.chr* /home/jupyter/foundin/eqtl/genotypes/\n",
      "total 16G\n",
      "-rw-r--r-- 1 jupyter jupyter 1.3K Feb 18 17:21 foundin.amppdv1.chr1.log\n",
      "-rw-r--r-- 1 jupyter jupyter  14M Feb 18 17:21 foundin.amppdv1.chr1.pgen\n",
      "-rw-r--r-- 1 jupyter jupyter 3.2K Feb 18 17:21 foundin.amppdv1.chr1.psam\n",
      "-rw-r--r-- 1 jupyter jupyter 1.2G Feb 18 17:22 foundin.amppdv1.chr1.pvar\n",
      "-rw-r--r-- 1 jupyter jupyter 1.3K Feb 18 17:21 foundin.amppdv1.chr10.log\n",
      "-rw-r--r-- 1 jupyter jupyter 9.2M Feb 18 17:21 foundin.amppdv1.chr10.pgen\n",
      "-rw-r--r-- 1 jupyter jupyter 3.2K Feb 18 17:21 foundin.amppdv1.chr10.psam\n",
      "-rw-r--r-- 1 jupyter jupyter 763M Feb 18 17:21 foundin.amppdv1.chr10.pvar\n",
      "-rw-r--r-- 1 jupyter jupyter 1.3K Feb 18 17:21 foundin.amppdv1.chr11.log\n",
      "-rw-r--r-- 1 jupyter jupyter 9.0M Feb 18 17:21 foundin.amppdv1.chr11.pgen\n",
      "-rw-r--r-- 1 jupyter jupyter 3.2K Feb 18 17:21 foundin.amppdv1.chr11.psam\n",
      "-rw-r--r-- 1 jupyter jupyter 801M Feb 18 17:22 foundin.amppdv1.chr11.pvar\n",
      "-rw-r--r-- 1 jupyter jupyter 1.3K Feb 18 17:21 foundin.amppdv1.chr12.log\n",
      "-rw-r--r-- 1 jupyter jupyter 8.7M Feb 18 17:21 foundin.amppdv1.chr12.pgen\n",
      "-rw-r--r-- 1 jupyter jupyter 3.2K Feb 18 17:21 foundin.amppdv1.chr12.psam\n",
      "-rw-r--r-- 1 jupyter jupyter 789M Feb 18 17:22 foundin.amppdv1.chr12.pvar\n",
      "-rw-r--r-- 1 jupyter jupyter 1.3K Feb 18 17:21 foundin.amppdv1.chr13.log\n",
      "-rw-r--r-- 1 jupyter jupyter 6.7M Feb 18 17:21 foundin.amppdv1.chr13.pgen\n",
      "-rw-r--r-- 1 jupyter jupyter 3.2K Feb 18 17:21 foundin.amppdv1.chr13.psam\n",
      "-rw-r--r-- 1 jupyter jupyter 491M Feb 18 17:22 foundin.amppdv1.chr13.pvar\n",
      "-rw-r--r-- 1 jupyter jupyter 1.3K Feb 18 17:21 foundin.amppdv1.chr14.log\n",
      "-rw-r--r-- 1 jupyter jupyter 5.9M Feb 18 17:21 foundin.amppdv1.chr14.pgen\n",
      "-rw-r--r-- 1 jupyter jupyter 3.2K Feb 18 17:21 foundin.amppdv1.chr14.psam\n",
      "-rw-r--r-- 1 jupyter jupyter 538M Feb 18 17:21 foundin.amppdv1.chr14.pvar\n",
      "-rw-r--r-- 1 jupyter jupyter 1.3K Feb 18 17:21 foundin.amppdv1.chr15.log\n",
      "-rw-r--r-- 1 jupyter jupyter 5.1M Feb 18 17:21 foundin.amppdv1.chr15.pgen\n",
      "-rw-r--r-- 1 jupyter jupyter 3.2K Feb 18 17:21 foundin.amppdv1.chr15.psam\n",
      "-rw-r--r-- 1 jupyter jupyter 490M Feb 18 17:21 foundin.amppdv1.chr15.pvar\n",
      "-rw-r--r-- 1 jupyter jupyter 1.3K Feb 18 17:21 foundin.amppdv1.chr16.log\n",
      "-rw-r--r-- 1 jupyter jupyter 5.6M Feb 18 17:21 foundin.amppdv1.chr16.pgen\n",
      "-rw-r--r-- 1 jupyter jupyter 3.2K Feb 18 17:21 foundin.amppdv1.chr16.psam\n",
      "-rw-r--r-- 1 jupyter jupyter 559M Feb 18 17:21 foundin.amppdv1.chr16.pvar\n",
      "-rw-r--r-- 1 jupyter jupyter 1.3K Feb 18 17:21 foundin.amppdv1.chr17.log\n",
      "-rw-r--r-- 1 jupyter jupyter 4.9M Feb 18 17:21 foundin.amppdv1.chr17.pgen\n",
      "-rw-r--r-- 1 jupyter jupyter 3.2K Feb 18 17:21 foundin.amppdv1.chr17.psam\n",
      "-rw-r--r-- 1 jupyter jupyter 508M Feb 18 17:21 foundin.amppdv1.chr17.pvar\n",
      "-rw-r--r-- 1 jupyter jupyter 1.3K Feb 18 17:21 foundin.amppdv1.chr18.log\n",
      "-rw-r--r-- 1 jupyter jupyter 5.2M Feb 18 17:21 foundin.amppdv1.chr18.pgen\n",
      "-rw-r--r-- 1 jupyter jupyter 3.2K Feb 18 17:21 foundin.amppdv1.chr18.psam\n",
      "-rw-r--r-- 1 jupyter jupyter 436M Feb 18 17:21 foundin.amppdv1.chr18.pvar\n",
      "-rw-r--r-- 1 jupyter jupyter 1.3K Feb 18 17:21 foundin.amppdv1.chr19.log\n",
      "-rw-r--r-- 1 jupyter jupyter 4.0M Feb 18 17:21 foundin.amppdv1.chr19.pgen\n",
      "-rw-r--r-- 1 jupyter jupyter 3.2K Feb 18 17:21 foundin.amppdv1.chr19.psam\n",
      "-rw-r--r-- 1 jupyter jupyter 436M Feb 18 17:21 foundin.amppdv1.chr19.pvar\n",
      "-rw-r--r-- 1 jupyter jupyter 1.3K Feb 18 17:21 foundin.amppdv1.chr2.log\n",
      "-rw-r--r-- 1 jupyter jupyter  16M Feb 18 17:21 foundin.amppdv1.chr2.pgen\n",
      "-rw-r--r-- 1 jupyter jupyter 3.2K Feb 18 17:21 foundin.amppdv1.chr2.psam\n",
      "-rw-r--r-- 1 jupyter jupyter 1.4G Feb 18 17:22 foundin.amppdv1.chr2.pvar\n",
      "-rw-r--r-- 1 jupyter jupyter 1.3K Feb 18 17:21 foundin.amppdv1.chr20.log\n",
      "-rw-r--r-- 1 jupyter jupyter 4.1M Feb 18 17:21 foundin.amppdv1.chr20.pgen\n",
      "-rw-r--r-- 1 jupyter jupyter 3.2K Feb 18 17:21 foundin.amppdv1.chr20.psam\n",
      "-rw-r--r-- 1 jupyter jupyter 345M Feb 18 17:21 foundin.amppdv1.chr20.pvar\n",
      "-rw-r--r-- 1 jupyter jupyter 1.3K Feb 18 17:21 foundin.amppdv1.chr21.log\n",
      "-rw-r--r-- 1 jupyter jupyter 2.5M Feb 18 17:21 foundin.amppdv1.chr21.pgen\n",
      "-rw-r--r-- 1 jupyter jupyter 3.2K Feb 18 17:21 foundin.amppdv1.chr21.psam\n",
      "-rw-r--r-- 1 jupyter jupyter 208M Feb 18 17:21 foundin.amppdv1.chr21.pvar\n",
      "-rw-r--r-- 1 jupyter jupyter 1.3K Feb 18 17:21 foundin.amppdv1.chr22.log\n",
      "-rw-r--r-- 1 jupyter jupyter 2.4M Feb 18 17:21 foundin.amppdv1.chr22.pgen\n",
      "-rw-r--r-- 1 jupyter jupyter 3.2K Feb 18 17:21 foundin.amppdv1.chr22.psam\n",
      "-rw-r--r-- 1 jupyter jupyter 228M Feb 18 17:21 foundin.amppdv1.chr22.pvar\n",
      "-rw-r--r-- 1 jupyter jupyter 1.3K Feb 18 17:21 foundin.amppdv1.chr3.log\n",
      "-rw-r--r-- 1 jupyter jupyter  13M Feb 18 17:21 foundin.amppdv1.chr3.pgen\n",
      "-rw-r--r-- 1 jupyter jupyter 3.2K Feb 18 17:21 foundin.amppdv1.chr3.psam\n",
      "-rw-r--r-- 1 jupyter jupyter 1.2G Feb 18 17:22 foundin.amppdv1.chr3.pvar\n",
      "-rw-r--r-- 1 jupyter jupyter 1.3K Feb 18 17:21 foundin.amppdv1.chr4.log\n",
      "-rw-r--r-- 1 jupyter jupyter  14M Feb 18 17:21 foundin.amppdv1.chr4.pgen\n",
      "-rw-r--r-- 1 jupyter jupyter 3.2K Feb 18 17:21 foundin.amppdv1.chr4.psam\n",
      "-rw-r--r-- 1 jupyter jupyter 1.1G Feb 18 17:22 foundin.amppdv1.chr4.pvar\n",
      "-rw-r--r-- 1 jupyter jupyter 1.3K Feb 18 17:21 foundin.amppdv1.chr5.log\n",
      "-rw-r--r-- 1 jupyter jupyter  12M Feb 18 17:21 foundin.amppdv1.chr5.pgen\n",
      "-rw-r--r-- 1 jupyter jupyter 3.2K Feb 18 17:21 foundin.amppdv1.chr5.psam\n",
      "-rw-r--r-- 1 jupyter jupyter 949M Feb 18 17:22 foundin.amppdv1.chr5.pvar\n",
      "-rw-r--r-- 1 jupyter jupyter 1.3K Feb 18 17:21 foundin.amppdv1.chr6.log\n",
      "-rw-r--r-- 1 jupyter jupyter  13M Feb 18 17:21 foundin.amppdv1.chr6.pgen\n",
      "-rw-r--r-- 1 jupyter jupyter 3.2K Feb 18 17:21 foundin.amppdv1.chr6.psam\n",
      "-rw-r--r-- 1 jupyter jupyter 959M Feb 18 17:22 foundin.amppdv1.chr6.pvar\n",
      "-rw-r--r-- 1 jupyter jupyter 1.3K Feb 18 17:21 foundin.amppdv1.chr7.log\n",
      "-rw-r--r-- 1 jupyter jupyter  11M Feb 18 17:21 foundin.amppdv1.chr7.pgen\n",
      "-rw-r--r-- 1 jupyter jupyter 3.2K Feb 18 17:21 foundin.amppdv1.chr7.psam\n",
      "-rw-r--r-- 1 jupyter jupyter 915M Feb 18 17:21 foundin.amppdv1.chr7.pvar\n",
      "-rw-r--r-- 1 jupyter jupyter 1.3K Feb 18 17:21 foundin.amppdv1.chr8.log\n",
      "-rw-r--r-- 1 jupyter jupyter  10M Feb 18 17:21 foundin.amppdv1.chr8.pgen\n",
      "-rw-r--r-- 1 jupyter jupyter 3.2K Feb 18 17:21 foundin.amppdv1.chr8.psam\n",
      "-rw-r--r-- 1 jupyter jupyter 849M Feb 18 17:22 foundin.amppdv1.chr8.pvar\n",
      "-rw-r--r-- 1 jupyter jupyter 1.3K Feb 18 17:21 foundin.amppdv1.chr9.log\n",
      "-rw-r--r-- 1 jupyter jupyter 7.8M Feb 18 17:21 foundin.amppdv1.chr9.pgen\n",
      "-rw-r--r-- 1 jupyter jupyter 3.2K Feb 18 17:21 foundin.amppdv1.chr9.psam\n",
      "-rw-r--r-- 1 jupyter jupyter 622M Feb 18 17:21 foundin.amppdv1.chr9.pvar\n",
      "-rw-r--r-- 1 jupyter jupyter 1.3K Feb 18 17:21 foundin.amppdv1.chrX.log\n",
      "-rw-r--r-- 1 jupyter jupyter 5.3M Feb 18 17:21 foundin.amppdv1.chrX.pgen\n",
      "-rw-r--r-- 1 jupyter jupyter 3.2K Feb 18 17:21 foundin.amppdv1.chrX.psam\n",
      "-rw-r--r-- 1 jupyter jupyter 283M Feb 18 17:21 foundin.amppdv1.chrX.pvar\n"
     ]
    }
   ],
   "source": [
    "# pull genotypes to local disk\n",
    "this_cmd = f'gsutil -mq cp -P {genos_bucket_path} {geno_dir}/'\n",
    "print(this_cmd)\n",
    "!{this_cmd}\n",
    "!ls -lh {geno_dir}"
   ]
  },
  {
   "cell_type": "markdown",
   "metadata": {},
   "source": [
    "#### pull expression phenos to local disk"
   ]
  },
  {
   "cell_type": "code",
   "execution_count": 7,
   "metadata": {},
   "outputs": [
    {
     "name": "stdout",
     "output_type": "stream",
     "text": [
      "gsutil -mq cp -P gs://foundin-processed-assay/loni/RNAB/aggregated_expression/vstTable.tsv /home/jupyter/foundin/eqtl/expression/vst.genes.tsv\n"
     ]
    }
   ],
   "source": [
    "this_cmd = f'gsutil -mq cp -P {quants_bucket_path} {quants_local_file}'\n",
    "print(this_cmd)\n",
    "!{this_cmd}"
   ]
  },
  {
   "cell_type": "markdown",
   "metadata": {},
   "source": [
    "#### pull genome fasta index file"
   ]
  },
  {
   "cell_type": "code",
   "execution_count": 8,
   "metadata": {},
   "outputs": [
    {
     "name": "stdout",
     "output_type": "stream",
     "text": [
      "gsutil -mq cp -P gs://gcp-public-data--broad-references/hg38/v0/Homo_sapiens_assembly38.fasta.fai /home/jupyter/foundin/eqtl/expression/\n"
     ]
    }
   ],
   "source": [
    "fasta_index_bucket_path\n",
    "this_cmd = f'gsutil -mq cp -P {fasta_index_bucket_path} {expr_dir}/'\n",
    "print(this_cmd)\n",
    "!{this_cmd}"
   ]
  },
  {
   "cell_type": "markdown",
   "metadata": {},
   "source": [
    "#### pull gencode annotation file"
   ]
  },
  {
   "cell_type": "code",
   "execution_count": 9,
   "metadata": {},
   "outputs": [
    {
     "name": "stdout",
     "output_type": "stream",
     "text": [
      "gsutil -mq cp -P gs://foundin-processed-assay/analysis/eqtl/expression/gencode_v29.lncipedia_v5_2_hc.annotation.pkl /home/jupyter/foundin/eqtl/expression/\n",
      "gsutil -mq cp -P gs://foundin-processed-assay/analysis/eqtl/expression/tissue_category_rna_brain_Tissue.tsv /home/jupyter/foundin/eqtl/expression/\n",
      "total 1.9G\n",
      "-rw-r--r-- 1 jupyter jupyter 158K Feb 18 17:24 Homo_sapiens_assembly38.fasta.fai\n",
      "-rw-r--r-- 1 jupyter jupyter 1.5G Oct  1 20:22 gencode_v29.lncipedia_v5_2_hc.annotation.pkl\n",
      "-rw-r--r-- 1 jupyter jupyter 5.5M Feb 18 17:24 tissue_category_rna_brain_Tissue.tsv\n",
      "-rw-r--r-- 1 jupyter jupyter 464M Feb 18 17:24 vst.genes.tsv\n"
     ]
    }
   ],
   "source": [
    "this_cmd = f'gsutil -mq cp -P {gencode_bucket_path} {expr_dir}/'\n",
    "print(this_cmd)\n",
    "!{this_cmd}\n",
    "\n",
    "this_cmd = f'gsutil -mq cp -P {tissue_genes_bckt_path} {expr_dir}/'\n",
    "print(this_cmd)\n",
    "!{this_cmd}\n",
    "\n",
    "!ls -lh {expr_dir}"
   ]
  },
  {
   "cell_type": "markdown",
   "metadata": {},
   "source": [
    "#### pull down the sample info"
   ]
  },
  {
   "cell_type": "code",
   "execution_count": 10,
   "metadata": {},
   "outputs": [
    {
     "name": "stdout",
     "output_type": "stream",
     "text": [
      "gsutil -mq cp -P gs://foundin-processed-assay/analysis/eqtl/sample_info/* /home/jupyter/foundin/eqtl/sample_info/\n",
      "gsutil -mq cp -P gs://foundin-processed-assay/analysis/deconvolution/rnab_cell_fracs_scaden.csv /home/jupyter/foundin/eqtl/sample_info/\n",
      "total 1.1M\n",
      "-rw-r--r-- 1 jupyter jupyter  11K Feb 18 17:24 Expanded_overview_of_included_PPMI_samples_GRS.csv\n",
      "-rw-r--r-- 1 jupyter jupyter  21K Feb 18 17:24 Expanded_overview_of_included_PPMI_samples_overview.csv\n",
      "-rw-r--r-- 1 jupyter jupyter 856K Feb 18 17:24 amppd_demographicsPlus_2019_v1release_1015.csv\n",
      "-rw-r--r-- 1 jupyter jupyter  13K Feb 18 17:24 cell_metadata.csv\n",
      "-rw-r--r-- 1 jupyter jupyter 2.5K Oct  1 22:29 foundin.d0.psam\n",
      "-rw-r--r-- 1 jupyter jupyter 3.7K Oct  1 20:47 foundin.d0.umap.covs.csv\n",
      "-rw-r--r-- 1 jupyter jupyter 2.4K Oct  2 00:12 foundin.d25.psam\n",
      "-rw-r--r-- 1 jupyter jupyter 4.2K Oct  1 20:52 foundin.d25.umap.covs.csv\n",
      "-rw-r--r-- 1 jupyter jupyter 2.4K Oct  2 02:05 foundin.d65.psam\n",
      "-rw-r--r-- 1 jupyter jupyter 3.7K Oct  1 20:57 foundin.d65.umap.covs.csv\n",
      "-rw-r--r-- 1 jupyter jupyter  158 Feb 18 17:24 foundin.freeze9.pca.eigenval\n",
      "-rw-r--r-- 1 jupyter jupyter  30K Feb 18 17:24 foundin.freeze9.pca.eigenvec\n",
      "-rw-r--r-- 1 jupyter jupyter 1.2K Feb 18 17:24 foundin.freeze9.pca.log\n",
      "-rw-r--r-- 1 jupyter jupyter 3.6K Feb 18 17:24 foundin.psam\n",
      "-rw-r--r-- 1 jupyter jupyter  23K Feb 18 17:24 foundin_rnab_seqqc_metrics.txt\n",
      "-rw-r--r-- 1 jupyter jupyter  33K Feb 18 17:24 rnab_cell_fracs_scaden.csv\n",
      "-rw-r--r-- 1 jupyter jupyter  33K Feb 18 17:24 scaden_predictions.txt\n"
     ]
    }
   ],
   "source": [
    "this_cmd = f'gsutil -mq cp -P {sample_info_bckt_path}/* {info_dir}/'\n",
    "print(this_cmd)\n",
    "!{this_cmd}\n",
    "\n",
    "this_cmd = f'gsutil -mq cp -P {scaden_fracs_bckt_path} {info_dir}/'\n",
    "print(this_cmd)\n",
    "!{this_cmd}\n",
    "\n",
    "!ls -lh {info_dir}"
   ]
  },
  {
   "cell_type": "markdown",
   "metadata": {},
   "source": [
    "#### pull down any need gwas results"
   ]
  },
  {
   "cell_type": "code",
   "execution_count": 2,
   "metadata": {},
   "outputs": [
    {
     "name": "stdout",
     "output_type": "stream",
     "text": [
      "gsutil -mq cp -P gs://foundin-processed-assay/analysis/eqtl/gwas/* /home/jupyter/foundin/eqtl/gwas/\n",
      "total 28K\n",
      "-rw-r--r-- 1 jupyter jupyter 1.1K Feb 18 23:18 pd.risk.variants\n",
      "-rw-r--r-- 1 jupyter jupyter 6.9K Apr 15 14:09 pd.table_s2.clean.txt\n",
      "-rw-r--r-- 1 jupyter jupyter  15K Apr 15 14:09 pd_meta5v2_cojo_results.jma.cojo.csv\n"
     ]
    }
   ],
   "source": [
    "this_cmd = f'gsutil -mq cp -P {gwas_results_bckt_path}/* {public_dir}/'\n",
    "print(this_cmd)\n",
    "!{this_cmd}\n",
    "!ls -lh {public_dir}"
   ]
  },
  {
   "cell_type": "markdown",
   "metadata": {},
   "source": [
    "#### pull down other relevant CNS eQTL for comparisons\n",
    "- HipSci (Jerber et al 2021) differentiated day 52 untreated DA neurons\n",
    "- MetaBrain (de Klein et al 2021) meta eQTL analyis of brain cortex data"
   ]
  },
  {
   "cell_type": "code",
   "execution_count": 9,
   "metadata": {},
   "outputs": [
    {
     "name": "stdout",
     "output_type": "stream",
     "text": [
      "gsutil -mq cp -P gs://foundin-processed-assay/analysis/eqtl/public/hipsci/eqtl_summary_stats_renamed/D52.DA.untreated.qtl_results_all.sorted.txt.gz* /home/jupyter/foundin/eqtl/public/\n",
      "gsutil -mq cp -P gs://foundin-processed-assay/analysis/eqtl/public/metabrain/2020-05-26-Cortex-EUR-*-biogenformat.txt.gz /home/jupyter/foundin/eqtl/public/\n",
      "total 28G\n",
      "-rw-r--r-- 1 jupyter jupyter 2.5G Aug  1 21:20 2020-05-26-Cortex-EUR-1-biogenformat.txt.gz\n",
      "-rw-r--r-- 1 jupyter jupyter 1.1G Aug  1 21:20 2020-05-26-Cortex-EUR-10-biogenformat.txt.gz\n",
      "-rw-r--r-- 1 jupyter jupyter 1.9G Aug  1 21:20 2020-05-26-Cortex-EUR-11-biogenformat.txt.gz\n",
      "-rw-r--r-- 1 jupyter jupyter 1.4G Aug  1 21:20 2020-05-26-Cortex-EUR-12-biogenformat.txt.gz\n",
      "-rw-r--r-- 1 jupyter jupyter 462M Aug  1 21:19 2020-05-26-Cortex-EUR-13-biogenformat.txt.gz\n",
      "-rw-r--r-- 1 jupyter jupyter 899M Aug  1 21:20 2020-05-26-Cortex-EUR-14-biogenformat.txt.gz\n",
      "-rw-r--r-- 1 jupyter jupyter 735M Aug  1 21:20 2020-05-26-Cortex-EUR-15-biogenformat.txt.gz\n",
      "-rw-r--r-- 1 jupyter jupyter 1.2G Aug  1 21:20 2020-05-26-Cortex-EUR-16-biogenformat.txt.gz\n",
      "-rw-r--r-- 1 jupyter jupyter 1.6G Aug  1 21:20 2020-05-26-Cortex-EUR-17-biogenformat.txt.gz\n",
      "-rw-r--r-- 1 jupyter jupyter 386M Aug  1 21:19 2020-05-26-Cortex-EUR-18-biogenformat.txt.gz\n",
      "-rw-r--r-- 1 jupyter jupyter 2.4G Aug  1 21:20 2020-05-26-Cortex-EUR-19-biogenformat.txt.gz\n",
      "-rw-r--r-- 1 jupyter jupyter 1.6G Aug  1 21:20 2020-05-26-Cortex-EUR-2-biogenformat.txt.gz\n",
      "-rw-r--r-- 1 jupyter jupyter 752M Aug  1 21:20 2020-05-26-Cortex-EUR-20-biogenformat.txt.gz\n",
      "-rw-r--r-- 1 jupyter jupyter 350M Aug  1 21:19 2020-05-26-Cortex-EUR-21-biogenformat.txt.gz\n",
      "-rw-r--r-- 1 jupyter jupyter 645M Aug  1 21:19 2020-05-26-Cortex-EUR-22-biogenformat.txt.gz\n",
      "-rw-r--r-- 1 jupyter jupyter 1.4G Aug  1 21:20 2020-05-26-Cortex-EUR-3-biogenformat.txt.gz\n",
      "-rw-r--r-- 1 jupyter jupyter 1.1G Aug  1 21:20 2020-05-26-Cortex-EUR-4-biogenformat.txt.gz\n",
      "-rw-r--r-- 1 jupyter jupyter 1.2G Aug  1 21:20 2020-05-26-Cortex-EUR-5-biogenformat.txt.gz\n",
      "-rw-r--r-- 1 jupyter jupyter 1.9G Aug  1 21:20 2020-05-26-Cortex-EUR-6-biogenformat.txt.gz\n",
      "-rw-r--r-- 1 jupyter jupyter 1.3G Aug  1 21:20 2020-05-26-Cortex-EUR-7-biogenformat.txt.gz\n",
      "-rw-r--r-- 1 jupyter jupyter 959M Aug  1 21:19 2020-05-26-Cortex-EUR-8-biogenformat.txt.gz\n",
      "-rw-r--r-- 1 jupyter jupyter 1.1G Aug  1 21:19 2020-05-26-Cortex-EUR-9-biogenformat.txt.gz\n",
      "-rw-r--r-- 1 jupyter jupyter 640M Aug  1 21:19 D52.DA.untreated.qtl_results_all.sorted.txt.gz\n",
      "-rw-r--r-- 1 jupyter jupyter 1.6M Aug  1 21:19 D52.DA.untreated.qtl_results_all.sorted.txt.gz.tbi\n",
      "-rw-r--r-- 1 jupyter jupyter 1.8K Jul 22 03:39 pd.risk.betas.txt\n",
      "-rw-r--r-- 1 jupyter jupyter 1.1K Feb 18 23:18 pd.risk.variants\n",
      "-rw-r--r-- 1 jupyter jupyter 6.9K Apr 15 14:09 pd.table_s2.clean.txt\n",
      "-rw-r--r-- 1 jupyter jupyter  15K Apr 15 14:09 pd_meta5v2_cojo_results.jma.cojo.csv\n",
      "-rw-r--r-- 1 jupyter jupyter 825M Apr 15 23:49 pdmeta_sumstats_hg38.h5\n"
     ]
    }
   ],
   "source": [
    "this_cmd = f'gsutil -mq cp -P {hipsci_results_bckt_path} {public_dir}/'\n",
    "print(this_cmd)\n",
    "!{this_cmd}\n",
    "\n",
    "this_cmd = f'gsutil -mq cp -P {metabrain_results_bckt_path} {public_dir}/'\n",
    "print(this_cmd)\n",
    "!{this_cmd}\n",
    "\n",
    "!ls -lh {public_dir}"
   ]
  },
  {
   "cell_type": "markdown",
   "metadata": {},
   "source": [
    "#### add plink2"
   ]
  },
  {
   "cell_type": "code",
   "execution_count": 2,
   "metadata": {},
   "outputs": [
    {
     "name": "stdout",
     "output_type": "stream",
     "text": [
      "--2021-07-22 03:40:21--  http://s3.amazonaws.com/plink2-assets/alpha2/plink2_linux_x86_64.zip\n",
      "Resolving s3.amazonaws.com (s3.amazonaws.com)... 52.217.166.232\n",
      "Connecting to s3.amazonaws.com (s3.amazonaws.com)|52.217.166.232|:80... connected.\n",
      "HTTP request sent, awaiting response... 200 OK\n",
      "Length: 8879151 (8.5M) [application/zip]\n",
      "Saving to: ‘/tmp/plink_linux_x86_64.zip’\n",
      "\n",
      "/tmp/plink_linux_x8 100%[===================>]   8.47M  31.6MB/s    in 0.3s    \n",
      "\n",
      "2021-07-22 03:40:22 (31.6 MB/s) - ‘/tmp/plink_linux_x86_64.zip’ saved [8879151/8879151]\n",
      "\n",
      "Archive:  /tmp/plink_linux_x86_64.zip\n",
      "  inflating: /tmp/plink/plink2       \n"
     ]
    }
   ],
   "source": [
    "!wget http://s3.amazonaws.com/plink2-assets/alpha2/plink2_linux_x86_64.zip -O /tmp/plink_linux_x86_64.zip\n",
    "!unzip /tmp/plink_linux_x86_64.zip -d /tmp/plink\n",
    "!rm -f /tmp/plink_linux_x86_64.zip\n",
    "!sudo mv /tmp/plink/plink2 /usr/local/bin/\n",
    "!rm -rf /tmp/plink"
   ]
  },
  {
   "cell_type": "code",
   "execution_count": 3,
   "metadata": {},
   "outputs": [
    {
     "name": "stdout",
     "output_type": "stream",
     "text": [
      "PLINK v2.00a2.3LM 64-bit Intel (24 Jan 2020)   www.cog-genomics.org/plink/2.0/\n",
      "(C) 2005-2020 Shaun Purcell, Christopher Chang   GNU General Public License v3\n",
      "\n",
      "  plink2 <input flag(s)...> [command flag(s)...] [other flag(s)...]\n",
      "  plink2 --help [flag name(s)...]\n",
      "\n",
      "Commands include --rm-dup list, --make-bpgen, --export, --freq, --geno-counts,\n",
      "--sample-counts, --missing, --hardy, --indep-pairwise, --ld, --sample-diff,\n",
      "--make-king, --king-cutoff, --write-samples, --write-snplist, --make-grm-list,\n",
      "--pca, --glm, --adjust-file, --score, --variant-score, --genotyping-rate,\n",
      "--pgen-info, --validate, and --zst-decompress.\n",
      "\n",
      "\"plink2 --help | more\" describes all functions.\n"
     ]
    }
   ],
   "source": [
    "!plink2"
   ]
  },
  {
   "cell_type": "markdown",
   "metadata": {},
   "source": [
    "#### install bcftools"
   ]
  },
  {
   "cell_type": "code",
   "execution_count": 8,
   "metadata": {},
   "outputs": [
    {
     "name": "stdout",
     "output_type": "stream",
     "text": [
      "Reading package lists...\n",
      "Building dependency tree...\n",
      "Reading state information...\n",
      "libbz2-dev is already the newest version (1.0.6-9.2~deb10u1).\n",
      "libtool-bin is already the newest version (2.4.6-9).\n",
      "libncurses-dev is already the newest version (6.1+20181013-2+deb10u2).\n",
      "liblzma-dev is already the newest version (5.2.4-1).\n",
      "0 upgraded, 0 newly installed, 0 to remove and 2 not upgraded.\n",
      "configure: WARNING: S3 support not enabled: requires SSL development files\n",
      "configure: WARNING: S3 support not enabled: requires SSL development files\n"
     ]
    }
   ],
   "source": [
    "!sudo apt-get --quiet install -y libbz2-dev liblzma-dev libtool-bin libncurses-dev\n",
    "\n",
    "samtools_version = '1.12'\n",
    "# htslib\n",
    "!wget --quiet https://github.com/samtools/htslib/releases/download/{samtools_version}/htslib-{samtools_version}.tar.bz2 -O {home_dir}/htslib-{samtools_version}.tar.bz2\n",
    "!tar -xf {home_dir}/htslib-{samtools_version}.tar.bz2 -C {home_dir}\n",
    "# !cd {tools_dir}/htslib-{samtools_version}\n",
    "os.chdir(f'{home_dir}/htslib-{samtools_version}')\n",
    "!./configure --quiet --prefix=/usr/local\n",
    "!make --quiet\n",
    "!sudo make --quiet install\n",
    "!rm {home_dir}/htslib-{samtools_version}.tar.bz2\n",
    "# also need bcftools for subsetting vcf\n",
    "!wget --quiet https://github.com/samtools/bcftools/releases/download/{samtools_version}/bcftools-{samtools_version}.tar.bz2 -O {home_dir}/bcftools-{samtools_version}.tar.bz2\n",
    "!tar -xf /{home_dir}/bcftools-{samtools_version}.tar.bz2 -C {home_dir}\n",
    "# !cd {tools_dir}/bcftools-{samtools_version}\n",
    "os.chdir(f'{home_dir}/bcftools-{samtools_version}')\n",
    "!./configure --quiet --prefix=/usr/local\n",
    "!make --quiet {home_dir}/\n",
    "!sudo make --quiet install\n",
    "!rm {home_dir}/bcftools-{samtools_version}.tar.bz2"
   ]
  },
  {
   "cell_type": "markdown",
   "metadata": {},
   "source": [
    "#### add plink1.9"
   ]
  },
  {
   "cell_type": "code",
   "execution_count": 14,
   "metadata": {},
   "outputs": [
    {
     "name": "stdout",
     "output_type": "stream",
     "text": [
      "--2021-02-18 17:24:45--  http://s3.amazonaws.com/plink1-assets/plink_linux_x86_64_20201019.zip\n",
      "Resolving s3.amazonaws.com (s3.amazonaws.com)... 52.216.111.69\n",
      "Connecting to s3.amazonaws.com (s3.amazonaws.com)|52.216.111.69|:80... connected.\n",
      "HTTP request sent, awaiting response... 200 OK\n",
      "Length: 8916695 (8.5M) [application/zip]\n",
      "Saving to: ‘/tmp/plink_linux_x86_64_20201019.zip’\n",
      "\n",
      "/tmp/plink_linux_x8 100%[===================>]   8.50M  31.8MB/s    in 0.3s    \n",
      "\n",
      "2021-02-18 17:24:46 (31.8 MB/s) - ‘/tmp/plink_linux_x86_64_20201019.zip’ saved [8916695/8916695]\n",
      "\n",
      "Archive:  /tmp/plink_linux_x86_64_20201019.zip\n",
      "  inflating: /tmp/plink/plink        \n",
      "  inflating: /tmp/plink/LICENSE      \n",
      "  inflating: /tmp/plink/toy.ped      \n",
      "  inflating: /tmp/plink/toy.map      \n",
      "  inflating: /tmp/plink/prettify     \n"
     ]
    }
   ],
   "source": [
    "!wget http://s3.amazonaws.com/plink1-assets/plink_linux_x86_64_20201019.zip -O /tmp/plink_linux_x86_64_20201019.zip\n",
    "!unzip /tmp/plink_linux_x86_64_20201019.zip -d /tmp/plink\n",
    "!rm -f /tmp/plink_linux_x86_64_20201019.zip\n",
    "!sudo mv /tmp/plink/plink /usr/local/bin/\n",
    "!rm -rf /tmp/plink"
   ]
  },
  {
   "cell_type": "code",
   "execution_count": 15,
   "metadata": {},
   "outputs": [
    {
     "name": "stdout",
     "output_type": "stream",
     "text": [
      "PLINK v1.90b6.21 64-bit (19 Oct 2020)          www.cog-genomics.org/plink/1.9/\n",
      "(C) 2005-2020 Shaun Purcell, Christopher Chang   GNU General Public License v3\n",
      "\n",
      "  plink <input flag(s)...> [command flag(s)...] [other flag(s)...]\n",
      "  plink --help [flag name(s)...]\n",
      "\n",
      "Commands include --make-bed, --recode, --flip-scan, --merge-list,\n",
      "--write-snplist, --list-duplicate-vars, --freqx, --missing, --test-mishap,\n",
      "--hardy, --mendel, --ibc, --impute-sex, --indep-pairphase, --r2, --show-tags,\n",
      "--blocks, --distance, --genome, --homozyg, --make-rel, --make-grm-gz,\n",
      "--rel-cutoff, --cluster, --pca, --neighbour, --ibs-test, --regress-distance,\n",
      "--model, --bd, --gxe, --logistic, --dosage, --lasso, --test-missing,\n",
      "--make-perm-pheno, --tdt, --qfam, --annotate, --clump, --gene-report,\n",
      "--meta-analysis, --epistasis, --fast-epistasis, and --score.\n",
      "\n",
      "\"plink --help | more\" describes all functions (warning: long).\n"
     ]
    }
   ],
   "source": [
    "!plink"
   ]
  },
  {
   "cell_type": "markdown",
   "metadata": {},
   "source": [
    "#### install umap and ppscore"
   ]
  },
  {
   "cell_type": "code",
   "execution_count": 2,
   "metadata": {},
   "outputs": [],
   "source": [
    "!pip install -U --quiet umap-learn ppscore dask[complete] tables plotly-express"
   ]
  },
  {
   "cell_type": "code",
   "execution_count": 17,
   "metadata": {},
   "outputs": [],
   "source": [
    "import umap\n",
    "import ppscore\n",
    "import dask.dataframe as dd"
   ]
  },
  {
   "cell_type": "markdown",
   "metadata": {},
   "source": [
    "#### install tensorQTL\n",
    "there is an older version in pypi, but need a couple of the bug fixes so install from github"
   ]
  },
  {
   "cell_type": "code",
   "execution_count": 1,
   "metadata": {},
   "outputs": [
    {
     "name": "stdout",
     "output_type": "stream",
     "text": [
      "Collecting pandas-plink\n",
      "  Downloading pandas_plink-2.2.9-cp37-cp37m-manylinux2010_x86_64.whl (100 kB)\n",
      "\u001b[K     |████████████████████████████████| 100 kB 4.5 MB/s ta 0:00:011\n",
      "\u001b[?25hCollecting pytest>=5.2.2\n",
      "  Downloading pytest-6.2.4-py3-none-any.whl (280 kB)\n",
      "\u001b[K     |████████████████████████████████| 280 kB 9.6 MB/s eta 0:00:01\n",
      "\u001b[?25hRequirement already satisfied: numpy>=1.17.2 in /opt/conda/lib/python3.7/site-packages (from pandas-plink) (1.19.5)\n",
      "Collecting zstandard>=0.13.0\n",
      "  Downloading zstandard-0.15.2-cp37-cp37m-manylinux2014_x86_64.whl (2.2 MB)\n",
      "\u001b[K     |████████████████████████████████| 2.2 MB 7.4 MB/s eta 0:00:01\n",
      "\u001b[?25hRequirement already satisfied: cffi>=1.14.3 in /opt/conda/lib/python3.7/site-packages (from pandas-plink) (1.14.5)\n",
      "Collecting Deprecated>=1.2.6\n",
      "  Downloading Deprecated-1.2.12-py2.py3-none-any.whl (9.5 kB)\n",
      "Requirement already satisfied: dask[array,dataframe]>=2.6.0 in /opt/conda/lib/python3.7/site-packages (from pandas-plink) (2021.4.1)\n",
      "Collecting xarray>=0.18.2\n",
      "  Downloading xarray-0.18.2-py3-none-any.whl (807 kB)\n",
      "\u001b[K     |████████████████████████████████| 807 kB 28.5 MB/s eta 0:00:01\n",
      "\u001b[?25hRequirement already satisfied: tqdm>=4.36.1 in /opt/conda/lib/python3.7/site-packages (from pandas-plink) (4.58.0)\n",
      "Requirement already satisfied: pandas>=1.1.3 in /opt/conda/lib/python3.7/site-packages (from pandas-plink) (1.2.2)\n",
      "Requirement already satisfied: pycparser in /opt/conda/lib/python3.7/site-packages (from cffi>=1.14.3->pandas-plink) (2.20)\n",
      "Requirement already satisfied: fsspec>=0.6.0 in /opt/conda/lib/python3.7/site-packages (from dask[array,dataframe]>=2.6.0->pandas-plink) (0.8.7)\n",
      "Requirement already satisfied: toolz>=0.8.2 in /opt/conda/lib/python3.7/site-packages (from dask[array,dataframe]>=2.6.0->pandas-plink) (0.11.1)\n",
      "Requirement already satisfied: partd>=0.3.10 in /opt/conda/lib/python3.7/site-packages (from dask[array,dataframe]>=2.6.0->pandas-plink) (1.2.0)\n",
      "Requirement already satisfied: cloudpickle>=1.1.1 in /opt/conda/lib/python3.7/site-packages (from dask[array,dataframe]>=2.6.0->pandas-plink) (1.6.0)\n",
      "Requirement already satisfied: pyyaml in /opt/conda/lib/python3.7/site-packages (from dask[array,dataframe]>=2.6.0->pandas-plink) (5.4.1)\n",
      "Requirement already satisfied: wrapt<2,>=1.10 in /opt/conda/lib/python3.7/site-packages (from Deprecated>=1.2.6->pandas-plink) (1.12.1)\n",
      "Requirement already satisfied: importlib-metadata in /opt/conda/lib/python3.7/site-packages (from fsspec>=0.6.0->dask[array,dataframe]>=2.6.0->pandas-plink) (3.7.0)\n",
      "Requirement already satisfied: python-dateutil>=2.7.3 in /opt/conda/lib/python3.7/site-packages (from pandas>=1.1.3->pandas-plink) (2.8.1)\n",
      "Requirement already satisfied: pytz>=2017.3 in /opt/conda/lib/python3.7/site-packages (from pandas>=1.1.3->pandas-plink) (2021.1)\n",
      "Requirement already satisfied: locket in /opt/conda/lib/python3.7/site-packages (from partd>=0.3.10->dask[array,dataframe]>=2.6.0->pandas-plink) (0.2.1)\n",
      "Requirement already satisfied: packaging in /opt/conda/lib/python3.7/site-packages (from pytest>=5.2.2->pandas-plink) (20.9)\n",
      "Collecting py>=1.8.2\n",
      "  Using cached py-1.10.0-py2.py3-none-any.whl (97 kB)\n",
      "Collecting iniconfig\n",
      "  Using cached iniconfig-1.1.1-py2.py3-none-any.whl (5.0 kB)\n",
      "Requirement already satisfied: toml in /opt/conda/lib/python3.7/site-packages (from pytest>=5.2.2->pandas-plink) (0.10.2)\n",
      "Requirement already satisfied: attrs>=19.2.0 in /opt/conda/lib/python3.7/site-packages (from pytest>=5.2.2->pandas-plink) (20.3.0)\n",
      "Collecting pluggy<1.0.0a1,>=0.12\n",
      "  Using cached pluggy-0.13.1-py2.py3-none-any.whl (18 kB)\n",
      "Requirement already satisfied: typing-extensions>=3.6.4 in /opt/conda/lib/python3.7/site-packages (from importlib-metadata->fsspec>=0.6.0->dask[array,dataframe]>=2.6.0->pandas-plink) (3.7.4.3)\n",
      "Requirement already satisfied: zipp>=0.5 in /opt/conda/lib/python3.7/site-packages (from importlib-metadata->fsspec>=0.6.0->dask[array,dataframe]>=2.6.0->pandas-plink) (3.4.0)\n",
      "Requirement already satisfied: six>=1.5 in /opt/conda/lib/python3.7/site-packages (from python-dateutil>=2.7.3->pandas>=1.1.3->pandas-plink) (1.15.0)\n",
      "Requirement already satisfied: setuptools>=40.4 in /opt/conda/lib/python3.7/site-packages (from xarray>=0.18.2->pandas-plink) (49.6.0.post20210108)\n",
      "Requirement already satisfied: pyparsing>=2.0.2 in /opt/conda/lib/python3.7/site-packages (from packaging->pytest>=5.2.2->pandas-plink) (2.4.7)\n",
      "Installing collected packages: py, pluggy, iniconfig, zstandard, xarray, pytest, Deprecated, pandas-plink\n",
      "Successfully installed Deprecated-1.2.12 iniconfig-1.1.1 pandas-plink-2.2.9 pluggy-0.13.1 py-1.10.0 pytest-6.2.4 xarray-0.18.2 zstandard-0.15.2\n"
     ]
    }
   ],
   "source": [
    "# required by tensorQTL\n",
    "!pip install --quiet pandas-plink"
   ]
  },
  {
   "cell_type": "code",
   "execution_count": null,
   "metadata": {},
   "outputs": [],
   "source": [
    "### NOTE: had some permission problems, used jupyterlab to clone the git\n",
    "\n",
    "# !git clone --quiet git@github.com:broadinstitute/tensorqtl.git\n",
    "# os.chdir(f'{nbs_dir}/tensorqtl')\n",
    "# !pip install -r install/requirements.txt"
   ]
  },
  {
   "cell_type": "markdown",
   "metadata": {},
   "source": [
    "#### if want to use Story q-value call with tensorQTL need to add R"
   ]
  },
  {
   "cell_type": "code",
   "execution_count": null,
   "metadata": {},
   "outputs": [],
   "source": [
    "sudo apt-get --quiet install -y r-base build-essential libcurl4-gnutls-dev \\\n",
    "libxml2-dev libssl-dev"
   ]
  },
  {
   "cell_type": "code",
   "execution_count": null,
   "metadata": {},
   "outputs": [],
   "source": [
    "#sudo -i R\n",
    "# install.packages(\"devtools\")\n",
    "# library(\"devtools\")\n",
    "# install_github(\"jdstorey/qvalue\")"
   ]
  },
  {
   "cell_type": "code",
   "execution_count": null,
   "metadata": {},
   "outputs": [],
   "source": []
  },
  {
   "cell_type": "code",
   "execution_count": 21,
   "metadata": {},
   "outputs": [
    {
     "name": "stdout",
     "output_type": "stream",
     "text": [
      "Warning: 'rfunc' cannot be imported. R and the 'rpy2' Python package are needed.\n"
     ]
    }
   ],
   "source": [
    "import tensorqtl.tensorqtl as tensorqtl"
   ]
  },
  {
   "cell_type": "code",
   "execution_count": null,
   "metadata": {},
   "outputs": [],
   "source": []
  }
 ],
 "metadata": {
  "environment": {
   "name": "pytorch-gpu.1-7.m65",
   "type": "gcloud",
   "uri": "gcr.io/deeplearning-platform-release/pytorch-gpu.1-7:m65"
  },
  "kernelspec": {
   "display_name": "Python 3",
   "language": "python",
   "name": "python3"
  },
  "language_info": {
   "codemirror_mode": {
    "name": "ipython",
    "version": 3
   },
   "file_extension": ".py",
   "mimetype": "text/x-python",
   "name": "python",
   "nbconvert_exporter": "python",
   "pygments_lexer": "ipython3",
   "version": "3.7.10"
  },
  "widgets": {
   "application/vnd.jupyter.widget-state+json": {
    "state": {},
    "version_major": 2,
    "version_minor": 0
   }
  }
 },
 "nbformat": 4,
 "nbformat_minor": 4
}
