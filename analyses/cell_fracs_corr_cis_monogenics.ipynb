{
 "cells": [
  {
   "cell_type": "markdown",
   "id": "52b4b588-41fc-41de-a889-74c79f2071e7",
   "metadata": {},
   "source": [
    "## Notebook to perform correlations between estimated cell-type fractions in bulk RNAB and ATAC peaks and DNA methylation sites that are <i>cis</i> to monogenic risk genes\n",
    "\n",
    "Use a GLMM to handle repeated measure from multiple days\n",
    "\n",
    "Even though CHST is merge of ATAC and METH, need to load the seperate data as METH doesn't include da25 so neither does the merge but interested in seeing that here"
   ]
  },
  {
   "cell_type": "code",
   "execution_count": null,
   "id": "debd4ff1-1d37-453e-ae50-0970d83adb15",
   "metadata": {},
   "outputs": [],
   "source": [
    "!date"
   ]
  },
  {
   "cell_type": "markdown",
   "id": "48964970-eafe-4457-9b74-a21215296e8e",
   "metadata": {},
   "source": [
    "#### import libraries"
   ]
  },
  {
   "cell_type": "code",
   "execution_count": null,
   "id": "d48cf1f3-7156-45cd-973b-de102396f01c",
   "metadata": {},
   "outputs": [],
   "source": [
    "from pandas import read_hdf, read_csv, DataFrame, concat\n",
    "import concurrent.futures\n",
    "import numpy as np\n",
    "import statsmodels.api as sm\n",
    "import statsmodels.stats.multitest as smm\n",
    "\n",
    "import warnings\n",
    "warnings.simplefilter('ignore')"
   ]
  },
  {
   "cell_type": "markdown",
   "id": "c41c079d-7382-437b-8c7a-3a3171608712",
   "metadata": {},
   "source": [
    "#### set notebook variables"
   ]
  },
  {
   "cell_type": "code",
   "execution_count": null,
   "id": "1f229f0e-be97-46f3-b1bb-5dfa3cb3301a",
   "metadata": {
    "tags": [
     "parameters"
    ]
   },
   "outputs": [],
   "source": [
    "# parameters\n",
    "gene = '' # 'GBA', 'SNCA', or 'LRRK2'\n",
    "gene_id = '' # 'ENSG00000177628.15', 'ENSG00000145335.15', or 'ENSG00000188906.15'\n",
    "modality = '' # 'ATAC' or 'METH'"
   ]
  },
  {
   "cell_type": "code",
   "execution_count": null,
   "id": "b50df81e-100d-4590-8eb1-d76119a5d084",
   "metadata": {},
   "outputs": [],
   "source": [
    "# naming\n",
    "cohort = 'foundin'\n",
    "day = 'daALL'\n",
    "feature_type = 'scaled.adj'\n",
    "\n",
    "# directories\n",
    "wrk_dir = '/labshare/raph/datasets/foundin_qtl'\n",
    "quants_dir = f'{wrk_dir}/quants'\n",
    "info_dir = f'{wrk_dir}/sample_info'\n",
    "results_dir = f'{wrk_dir}/results'\n",
    "\n",
    "# in files\n",
    "quants_file = f'{quants_dir}/{cohort}_{day}_{modality}.{feature_type}.hdf5'\n",
    "info_file = f'{info_dir}/{cohort}_{modality}_sample_info.csv'\n",
    "rnab_file  = f'{quants_dir}/{cohort}_{day}_RNAB.{feature_type}.hdf5'\n",
    "\n",
    "# out files\n",
    "results_file = f'{results_dir}/{cohort}_{modality}_{gene}_cis_features_cell_fractions.csv'\n",
    "\n",
    "# variables\n",
    "DEBUG = False\n",
    "# here excluding da0 as diff in cell-fractions at day 0 is just variation and error\n",
    "days_to_include = ['da25', 'da65']\n",
    "# here only interested in dopamengic or immature dopamenergic, or their sum\n",
    "cell_types = ['DopaminergicNeurons', 'ImmatureDopaminergicNeurons', 'DAn', \n",
    "              'TH_Pel-Freez_ICC', 'MAP2_Santa_Cruz_ICC']\n",
    "# monogenic regions: chrom, start, stop\n",
    "gene_tuples = {'GBA1': [1, 153925709, 156235843], \n",
    "               'SNCA': [4, 88704960, 90715479], \n",
    "               'LRRK2': [12, 39220632, 41340400],\n",
    "               'PINK1': [1, 20133458, 21133458],\n",
    "               'PRKN': [6, 162227775, 163227775],\n",
    "               'PARK7': [1, 7454291, 8454291],\n",
    "               'VPS35': [16, 46189518, 47189518],\n",
    "               'RAB39B': ['X', 154764491, 155764491],\n",
    "               'GCH1': [14, 54402826, 55402826],\n",
    "               'VPS13C': [15, 61560473, 62560473],\n",
    "               'TAF1': ['X', 70866222, 71866222],\n",
    "               'DAGLB': [7, 5984190, 6984190],\n",
    "               'ALDH1A1': [9, 72580442, 73580442]               \n",
    "              }\n",
    "other_terms = ['sex', 'Batch', 'PC1', 'PC2', 'PC3']\n",
    "MDL_OTHER_TERMS = '+ C(sex) + C(Batch) + PC1 + PC2 + PC3'\n",
    "# other_terms = ['day', 'sex', 'Batch', 'PC1', 'PC2', 'PC3']\n",
    "# MDL_OTHER_TERMS = '+ C(day) + C(sex) + C(Batch) + PC1 + PC2 + PC3'\n",
    "alpha = 0.05"
   ]
  },
  {
   "cell_type": "markdown",
   "id": "4ec7011b-42e8-4502-a6c6-1349d27bd889",
   "metadata": {},
   "source": [
    "#### analysis functions"
   ]
  },
  {
   "cell_type": "code",
   "execution_count": null,
   "id": "6bc85dc5-d5a5-4889-a7ff-5eb10b89456c",
   "metadata": {},
   "outputs": [],
   "source": [
    "def mixed_model(formula: str, df: DataFrame, group_name: str) -> list:\n",
    "    model = sm.MixedLM.from_formula(formula, df, groups=df[group_name])\n",
    "    result = model.fit()\n",
    "    return result\n",
    "\n",
    "def glmm(df: DataFrame, endo: str, exo: str, verbose: bool=False) -> tuple:\n",
    "    grouping = 'sampleid'\n",
    "    this_formula = f'Q(\"{endo}\") ~ {exo} {MDL_OTHER_TERMS}'\n",
    "    try:\n",
    "        # run GLMM via statsmodel\n",
    "        result = mixed_model(this_formula, df, grouping)\n",
    "        ret_list = [endo, exo, result.params['Intercept'], \n",
    "                    result.params[exo], result.bse[exo], \n",
    "                    result.tvalues[exo], result.pvalues[exo]]\n",
    "        if verbose:\n",
    "            print(this_formula)\n",
    "            print(result.summary())\n",
    "            print(['endo', 'exo', 'intercept', 'coef', 'stderr', 'z', 'p-value'])\n",
    "            print(ret_list)\n",
    "    except:\n",
    "#         print(f'Caught Error for {dep_term}')\n",
    "        ret_list = [endo] + [exo] + [np.nan] * 5\n",
    "        if verbose:\n",
    "            print(this_formula)\n",
    "            print(result.summary())\n",
    "            print(['endo', 'exo', 'intercept', 'coef', 'stderr', 'z', 'p-value'])\n",
    "            print(ret_list)    \n",
    "  \n",
    "    return ret_list\n",
    "\n",
    "# compute B&H FDR for given p-values\n",
    "def compute_fdr(pvalues):\n",
    "    bh_adj = smm.fdrcorrection(pvalues)\n",
    "    return bh_adj[1]"
   ]
  },
  {
   "cell_type": "markdown",
   "id": "e7fecf6d-233c-4210-a39e-40f7e089e0e2",
   "metadata": {},
   "source": [
    "### load input data"
   ]
  },
  {
   "cell_type": "markdown",
   "id": "345dfcf1-0358-4199-8080-5ccabafa9c0a",
   "metadata": {},
   "source": [
    "#### load the sample info file, this contains the estimated cell fractions"
   ]
  },
  {
   "cell_type": "code",
   "execution_count": null,
   "id": "b0d33fc7-feda-4470-bc1d-cc8bda8c2d4f",
   "metadata": {},
   "outputs": [],
   "source": [
    "info_df = read_csv(info_file)\n",
    "print(f'shape of info df is {info_df.shape}')\n",
    "# subet to just samples from specified days\n",
    "info_df = info_df.loc[info_df.day.isin(days_to_include)]\n",
    "print(f'shape of info df for days {days_to_include} is {info_df.shape}')\n",
    "if DEBUG:\n",
    "    display(info_df.sample(5))\n",
    "    display(info_df.day.value_counts())"
   ]
  },
  {
   "cell_type": "markdown",
   "id": "cc8e1e84-ed9e-4b0c-adac-8ae96a2e1d75",
   "metadata": {},
   "source": [
    "#### load the quantied modality's features"
   ]
  },
  {
   "cell_type": "code",
   "execution_count": null,
   "id": "5d5c5d49-7773-4f1d-b9e8-5658989a326f",
   "metadata": {},
   "outputs": [],
   "source": [
    "%%time\n",
    "quants_df = read_hdf(quants_file)\n",
    "print(f'shape of quants df is {quants_df.shape}')\n",
    "# subet to just samples from specified days\n",
    "quants_df = quants_df.loc[quants_df.index.isin(info_df.assayid)]\n",
    "print(f'shape of quants df for days {days_to_include} is {quants_df.shape}')\n",
    "if DEBUG:\n",
    "    display(quants_df.sample(5))"
   ]
  },
  {
   "cell_type": "markdown",
   "id": "e7cc9864-feff-42f3-9f11-4d8868fdedef",
   "metadata": {},
   "source": [
    "### find modality's features that are <i>cis</i> to the target gene"
   ]
  },
  {
   "cell_type": "code",
   "execution_count": null,
   "id": "af04ef57-589a-4843-a1b7-8aef68d25345",
   "metadata": {},
   "outputs": [],
   "source": [
    "gene_tuple = gene_tuples.get(gene)\n",
    "chrom = gene_tuple[0]\n",
    "start_bp = gene_tuple[1]\n",
    "stop_bp = gene_tuple[2]\n",
    "\n",
    "print(f'{gene} region {chrom}:{start_bp}-{stop_bp}')"
   ]
  },
  {
   "cell_type": "code",
   "execution_count": null,
   "id": "9cf89a95-99fd-4c66-8699-0d64d4df64d8",
   "metadata": {},
   "outputs": [],
   "source": [
    "if modality == 'ATAC':\n",
    "    # if ATAC feature name is genomic coordinates\n",
    "    peak_info = quants_df.columns.str.split('_', expand=True).to_frame()\n",
    "    features_df = DataFrame(data={'feature': quants_df.columns})\n",
    "    features_df['chrom'] = peak_info[0].values\n",
    "    features_df['start'] = peak_info[1].astype(int).values\n",
    "    features_df['stop'] = peak_info[2].astype(int).values\n",
    "elif modality == 'METH':\n",
    "    # if METH need to read in coords\n",
    "    features_file = f'{quants_dir}/EPIC_annotation_hg38.txt'\n",
    "    features_df = read_csv(features_file, sep='\\t', header=None)\n",
    "    features_df.columns = ['chrom', 'start', 'stop', 'feature']\n",
    "    # for bed to work start != stop\n",
    "    features_df.stop = features_df.start + 1\n",
    "\n",
    "print(f'shape of full features {features_df.shape}')\n",
    "# subset to features that are in the cis region\n",
    "features_df = features_df.loc[(features_df.chrom == f'chr{chrom}') & \n",
    "                              (features_df.start >= start_bp) & \n",
    "                              (features_df.stop <= stop_bp)]\n",
    "print(f'shape of region features {features_df.shape}')\n",
    "if DEBUG:\n",
    "    display(features_df.sample(5))"
   ]
  },
  {
   "cell_type": "markdown",
   "id": "2cc7eaec-88a1-4ac1-8dd0-521189cf0d47",
   "metadata": {},
   "source": [
    "### subset the quantifications to just features in the region"
   ]
  },
  {
   "cell_type": "code",
   "execution_count": null,
   "id": "f8c269d9-b998-4eb9-8eec-852d62bd2758",
   "metadata": {},
   "outputs": [],
   "source": [
    "quants_df = quants_df[quants_df.columns.intersection(features_df.feature)]\n",
    "print(f'shape of quants df region features {quants_df.shape}')\n",
    "if DEBUG:\n",
    "    display(quants_df.sample(5))"
   ]
  },
  {
   "cell_type": "markdown",
   "id": "ae0daf18-f443-41ec-9067-d694c97f902f",
   "metadata": {
    "papermill": {
     "duration": 0.005323,
     "end_time": "2024-09-30T16:47:02.311126",
     "exception": false,
     "start_time": "2024-09-30T16:47:02.305803",
     "status": "completed"
    },
    "tags": []
   },
   "source": [
    "### load the quantied gene of interest"
   ]
  },
  {
   "cell_type": "code",
   "execution_count": null,
   "id": "2a355e73-1c27-4f35-b83b-392e7b06dbf0",
   "metadata": {
    "papermill": {
     "duration": 2.17087,
     "end_time": "2024-09-30T16:47:04.487130",
     "exception": false,
     "start_time": "2024-09-30T16:47:02.316260",
     "status": "completed"
    },
    "tags": []
   },
   "outputs": [],
   "source": [
    "%%time\n",
    "rna_df = read_hdf(rnab_file)\n",
    "print(f'shape of rna_df df is {rna_df.shape}')\n",
    "# need to convert assay ID to diff modality for merging\n",
    "rna_df['assayid'] = rna_df.index.str.replace('RNAB_', f'{modality}_')\n",
    "rna_df = rna_df.set_index('assayid')\n",
    "# subet to just samples from specified days\n",
    "rna_df = rna_df.loc[rna_df.index.isin(info_df.assayid)]\n",
    "# subset to just the gene of interest\n",
    "rna_df = rna_df[[gene_id]]\n",
    "print(f'shape of rna_df df for days {days_to_include} is {rna_df.shape}')\n",
    "if DEBUG:\n",
    "    display(rna_df.sample(5))"
   ]
  },
  {
   "cell_type": "markdown",
   "id": "653bf168-4c8f-4f25-8e04-6825dcf4456e",
   "metadata": {},
   "source": [
    "### merge region's quantified features with sample info"
   ]
  },
  {
   "cell_type": "code",
   "execution_count": null,
   "id": "9485f936-eb5b-4aca-adbc-c3e0e1f6b403",
   "metadata": {},
   "outputs": [],
   "source": [
    "info_terms = ['assayid', 'sampleid'] + cell_types + other_terms\n",
    "input_df = quants_df.merge(info_df[info_terms], how='inner', \n",
    "                           left_index=True, right_on='assayid')\n",
    "input_df = input_df.merge(rna_df, how='inner', \n",
    "                          left_on='assayid', right_index=True)\n",
    "# # exclude any samples with missing input\n",
    "input_df = input_df.loc[~input_df.isnull().any(axis='columns')]\n",
    "print(f'model input data shape {input_df.shape}')\n",
    "if DEBUG:\n",
    "    display(input_df.sample(5))"
   ]
  },
  {
   "cell_type": "markdown",
   "id": "51e1dc8f-fcbf-433b-a6ea-a7b7cecf3e55",
   "metadata": {},
   "source": [
    "### regress the cis features and cell fractions"
   ]
  },
  {
   "cell_type": "code",
   "execution_count": null,
   "id": "2da67dcf-6753-463c-b616-862d5431000a",
   "metadata": {
    "tags": []
   },
   "outputs": [],
   "source": [
    "%%time\n",
    "\n",
    "fs_list = []\n",
    "lm_results = []\n",
    "with concurrent.futures.ProcessPoolExecutor() as ppe:\n",
    "# with concurrent.futures.ThreadPoolExecutor() as ppe:\n",
    "    for cell_type in cell_types:\n",
    "        for feature in features_df.feature:\n",
    "            fs_list.append(ppe.submit(glmm, input_df, cell_type, feature))"
   ]
  },
  {
   "cell_type": "code",
   "execution_count": null,
   "id": "29997cfd-3dbf-4b40-bd71-1d89b7e47f93",
   "metadata": {},
   "outputs": [],
   "source": [
    "for future in concurrent.futures.as_completed(fs_list):\n",
    "    lm_results.append(future.result())\n",
    "\n",
    "# convert list of results to dataframe\n",
    "results_df = DataFrame(lm_results, columns=['endo', 'exo', 'intercept', 'coef', \n",
    "                                            'stderr', 'z', 'p-value'])\n",
    "print(f'shape of results df is {results_df.shape}')\n",
    "if DEBUG:\n",
    "    display(results_df.sample(5))"
   ]
  },
  {
   "cell_type": "markdown",
   "id": "ef892966-76f2-48f2-adf8-a015b66456de",
   "metadata": {},
   "source": [
    "### apply B&H FDR corrections to results"
   ]
  },
  {
   "cell_type": "code",
   "execution_count": null,
   "id": "4e296fda-3f45-4ae7-8eab-0d77c2bfae92",
   "metadata": {},
   "outputs": [],
   "source": [
    "results_df['bh_fdr'] = compute_fdr(results_df['p-value'].fillna(1))\n",
    "print(f'shape of significant results {results_df.loc[results_df.bh_fdr <= alpha].shape}')\n",
    "\n",
    "if DEBUG:\n",
    "    display(results_df.sample(5))"
   ]
  },
  {
   "cell_type": "markdown",
   "id": "b0c8fa66-a38c-42da-b8c7-b3189800bc30",
   "metadata": {},
   "source": [
    "### save the results"
   ]
  },
  {
   "cell_type": "code",
   "execution_count": null,
   "id": "10a207c4-f52e-4c62-bc4e-bbf729584f42",
   "metadata": {},
   "outputs": [],
   "source": [
    "results_df.to_csv(results_file)"
   ]
  },
  {
   "cell_type": "code",
   "execution_count": null,
   "id": "e418886d-f85f-40c6-a1a4-7434b8f407fb",
   "metadata": {},
   "outputs": [],
   "source": [
    "temp = results_df.sort_values('p-value')\n",
    "display(temp.head())"
   ]
  },
  {
   "cell_type": "code",
   "execution_count": null,
   "id": "4e5ffa24-50d5-4153-9e7f-a99a7495b54e",
   "metadata": {},
   "outputs": [],
   "source": [
    "glmm(input_df, temp.endo.values[0], temp.exo.values[0], verbose=DEBUG)"
   ]
  },
  {
   "cell_type": "markdown",
   "id": "7fc9217c-1898-44eb-89be-9892f96d773d",
   "metadata": {},
   "source": [
    "### model the monogenic gene against the cell fractions\n",
    "\n",
    "the monogenics are already in the info files as targets for prediction models"
   ]
  },
  {
   "cell_type": "code",
   "execution_count": null,
   "id": "a91a2fe3-63d4-4f58-b62b-1e9affe1e396",
   "metadata": {},
   "outputs": [],
   "source": [
    "for cell_type in cell_types:\n",
    "    print(cell_type)\n",
    "    grouping = 'sampleid'\n",
    "    this_formula = f'Q(\"{cell_type}\") ~ Q(\"{gene_id}\") {MDL_OTHER_TERMS}'    \n",
    "    # run GLMM via statsmodel\n",
    "    result = mixed_model(this_formula, input_df, grouping)\n",
    "    print(this_formula)\n",
    "    print(result.summary())\n",
    "    this_exo = f'Q(\"{gene_id}\")'\n",
    "    print(f'coef: {result.params[this_exo]}, p-value: {result.pvalues[this_exo]}')"
   ]
  },
  {
   "cell_type": "code",
   "execution_count": null,
   "id": "92f17eca-f7c2-45ce-ba3d-08390c472659",
   "metadata": {},
   "outputs": [],
   "source": [
    "!date"
   ]
  },
  {
   "cell_type": "code",
   "execution_count": null,
   "id": "34140cfb-e3b3-4773-8b39-239836453fe4",
   "metadata": {},
   "outputs": [],
   "source": []
  }
 ],
 "metadata": {
  "environment": {
   "kernel": "python3",
   "name": "pytorch-gpu.1-12.m102",
   "type": "gcloud",
   "uri": "gcr.io/deeplearning-platform-release/pytorch-gpu.1-12:m102"
  },
  "kernelspec": {
   "display_name": "Python 3 (ipykernel)",
   "language": "python",
   "name": "python3"
  },
  "language_info": {
   "codemirror_mode": {
    "name": "ipython",
    "version": 3
   },
   "file_extension": ".py",
   "mimetype": "text/x-python",
   "name": "python",
   "nbconvert_exporter": "python",
   "pygments_lexer": "ipython3",
   "version": "3.10.13"
  }
 },
 "nbformat": 4,
 "nbformat_minor": 5
}
