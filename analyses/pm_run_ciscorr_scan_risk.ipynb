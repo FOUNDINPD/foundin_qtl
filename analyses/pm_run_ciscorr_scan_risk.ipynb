{
 "cells": [
  {
   "cell_type": "markdown",
   "id": "1d8f6fde-58a3-4424-8049-f72b04dcddf7",
   "metadata": {},
   "source": [
    "## Notebook to scan the *cis* corrleations between modelalities for risk features per day"
   ]
  },
  {
   "cell_type": "code",
   "execution_count": null,
   "id": "aa48eacc-f52f-428c-92b7-a7b193d5dad3",
   "metadata": {},
   "outputs": [],
   "source": [
    "!date"
   ]
  },
  {
   "cell_type": "markdown",
   "id": "dd7759e7-61ee-4d7e-bdb5-b8dedecff1a7",
   "metadata": {},
   "source": [
    "#### import libraries and set notebook variables"
   ]
  },
  {
   "cell_type": "code",
   "execution_count": null,
   "id": "edd363ce-d894-4a1a-9f1b-416a02ab5ebb",
   "metadata": {},
   "outputs": [],
   "source": [
    "from papermill import execute_notebook"
   ]
  },
  {
   "cell_type": "code",
   "execution_count": null,
   "id": "706099d3-174e-473b-abc2-9e95fe9f87a9",
   "metadata": {},
   "outputs": [],
   "source": [
    "# directories\n",
    "home_dir = '/home/gibbsr/working/foundin/foundin_qtl/analyses'\n",
    "\n",
    "# base notebook to be run per tuple iteration\n",
    "base_notebook = f'{home_dir}/ciscorr_scan_risk.ipynb'\n",
    "\n",
    "# output path for the generated notebooks\n",
    "out_nb_dir = f'{home_dir}/pm_gend_nbs'\n",
    "\n",
    "# setup parameters to iterate\n",
    "iterations = [\n",
    "    {'day': 'da0', 'exogenous': 'ATAC', 'endogenous': 'CIRC'},\n",
    "    {'day': 'da25', 'exogenous': 'ATAC', 'endogenous': 'CIRC'},\n",
    "    {'day': 'da65', 'exogenous': 'ATAC', 'endogenous': 'CIRC'},\n",
    "    {'day': 'da0', 'exogenous': 'ATAC', 'endogenous': 'PDUI'},\n",
    "    {'day': 'da25', 'exogenous': 'ATAC', 'endogenous': 'PDUI'},\n",
    "    {'day': 'da65', 'exogenous': 'ATAC', 'endogenous': 'PDUI'},    \n",
    "    {'day': 'da0', 'exogenous': 'ATAC', 'endogenous': 'RNAB'},\n",
    "    {'day': 'da25', 'exogenous': 'ATAC', 'endogenous': 'RNAB'},\n",
    "    {'day': 'da65', 'exogenous': 'ATAC', 'endogenous': 'RNAB'},\n",
    "    {'day': 'da0', 'exogenous': 'ATAC', 'endogenous': 'RNAS'},\n",
    "    {'day': 'da25', 'exogenous': 'ATAC', 'endogenous': 'RNAS'},\n",
    "    {'day': 'da65', 'exogenous': 'ATAC', 'endogenous': 'RNAS'}    \n",
    "             ]"
   ]
  },
  {
   "cell_type": "markdown",
   "id": "6da05932-d273-4d9a-aff3-b7ed9be91736",
   "metadata": {},
   "source": [
    "#### run the notebook iterations"
   ]
  },
  {
   "cell_type": "code",
   "execution_count": null,
   "id": "a85c3eb1-b64f-41bb-86ce-a2248be6241e",
   "metadata": {},
   "outputs": [],
   "source": [
    "%%time\n",
    "\n",
    "for iteration in iterations:\n",
    "    day = iteration.get('day')\n",
    "    exogenous = iteration.get('exogenous')\n",
    "    endogenous = iteration.get('endogenous')\n",
    "    param_dict = {'day': day, 'exogenous': exogenous, 'endogenous': endogenous}\n",
    "    out_notebook = f'{out_nb_dir}/{day}.{endogenous}-{exogenous}.ciscorr_scan_risk.ipynb'\n",
    "    print(param_dict)\n",
    "    print(out_notebook)\n",
    "    execute_notebook(input_path=base_notebook, output_path=out_notebook, \n",
    "                     parameters=param_dict)"
   ]
  },
  {
   "cell_type": "code",
   "execution_count": null,
   "id": "fb7fc951-ce00-42fb-92c3-9b1f92d790c4",
   "metadata": {},
   "outputs": [],
   "source": [
    "!date"
   ]
  }
 ],
 "metadata": {
  "environment": {
   "kernel": "python3",
   "name": "pytorch-gpu.1-12.m102",
   "type": "gcloud",
   "uri": "gcr.io/deeplearning-platform-release/pytorch-gpu.1-12:m102"
  },
  "kernelspec": {
   "display_name": "Python 3 (ipykernel)",
   "language": "python",
   "name": "python3"
  },
  "language_info": {
   "codemirror_mode": {
    "name": "ipython",
    "version": 3
   },
   "file_extension": ".py",
   "mimetype": "text/x-python",
   "name": "python",
   "nbconvert_exporter": "python",
   "pygments_lexer": "ipython3",
   "version": "3.12.2"
  }
 },
 "nbformat": 4,
 "nbformat_minor": 5
}
