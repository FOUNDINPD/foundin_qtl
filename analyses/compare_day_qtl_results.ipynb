{
 "cells": [
  {
   "cell_type": "markdown",
   "id": "3c76fdc4",
   "metadata": {},
   "source": [
    "## Notebook to compare the significant result of the *cis* correlation signals between modalities by day"
   ]
  },
  {
   "cell_type": "code",
   "execution_count": null,
   "id": "c179a51d",
   "metadata": {},
   "outputs": [],
   "source": [
    "!date"
   ]
  },
  {
   "cell_type": "markdown",
   "id": "165985f1",
   "metadata": {},
   "source": [
    "#### import libraries"
   ]
  },
  {
   "cell_type": "code",
   "execution_count": null,
   "id": "3d3e99a1",
   "metadata": {},
   "outputs": [],
   "source": [
    "from pandas import read_csv, concat\n",
    "from dask.dataframe import read_parquet\n",
    "import numpy as np\n",
    "from os.path import exists\n",
    "from seaborn import relplot, scatterplot\n",
    "import concurrent.futures\n",
    "import matplotlib.pyplot as plt\n",
    "from matplotlib.pyplot import rc_context\n",
    "\n",
    "%matplotlib inline\n",
    "# for white background of figures (only for docs rendering)\n",
    "%config InlineBackend.print_figure_kwargs={'facecolor' : \"w\"}\n",
    "%config InlineBackend.figure_format='retina'"
   ]
  },
  {
   "cell_type": "markdown",
   "id": "57a9e78c-e66b-47bf-a13b-a337e9a5e66a",
   "metadata": {},
   "source": [
    "#### set notebook variables"
   ]
  },
  {
   "cell_type": "code",
   "execution_count": null,
   "id": "72b01502-e31e-43a6-81cb-999909d721cf",
   "metadata": {
    "tags": [
     "parameters"
    ]
   },
   "outputs": [],
   "source": [
    "# parameters\n",
    "modality = ''"
   ]
  },
  {
   "cell_type": "code",
   "execution_count": null,
   "id": "32d4c64a",
   "metadata": {},
   "outputs": [],
   "source": [
    "# naming\n",
    "cohort = 'foundin'\n",
    "\n",
    "# directories\n",
    "wrk_dir = '/home/gibbsr/working/foundin/foundin_qtl'\n",
    "tensorqtl_dir = f'{wrk_dir}/tensorqtl'\n",
    "results_dir = f'{wrk_dir}/results'\n",
    "\n",
    "# input files\n",
    "\n",
    "# out files\n",
    "results_file = f'{results_dir}/{cohort}_{modality}.cis.csv'\n",
    "\n",
    "# constants\n",
    "days = ['da0', 'da25', 'da65']\n",
    "autosomes = [str(x) for x in list(range(1,23))]\n",
    "alpha_value = 0.05\n",
    "dpi_value = 50 #100\n",
    "DEBUG = False"
   ]
  },
  {
   "cell_type": "markdown",
   "id": "8ed538af",
   "metadata": {},
   "source": [
    "### load the results"
   ]
  },
  {
   "cell_type": "code",
   "execution_count": null,
   "id": "e5bcf014",
   "metadata": {},
   "outputs": [],
   "source": [
    "# load the independent results\n",
    "cis_df = None\n",
    "for day in days:\n",
    "    cohort_set = f'{cohort}_{day}_{modality}'\n",
    "    cis_file = f'{tensorqtl_dir}/{cohort_set}.cis.map.csv'\n",
    "    if exists(cis_file):\n",
    "        this_df = read_csv(cis_file)\n",
    "        this_df = this_df.loc[this_df.pval_perm < alpha_value]    \n",
    "        feature_cnt = this_df['phenotype_id'].nunique()\n",
    "        print(f'day {day} shape is {this_df.shape} for {feature_cnt} features')\n",
    "        this_df['day'] = day\n",
    "        cis_df = concat([cis_df, this_df])\n",
    "        print(f'after day {day} total shape {cis_df.shape}')    "
   ]
  },
  {
   "cell_type": "code",
   "execution_count": null,
   "id": "1db97f23-c218-4ea5-9f8c-6be2b29c3dea",
   "metadata": {},
   "outputs": [],
   "source": [
    "print(cis_df.shape)\n",
    "if DEBUG:\n",
    "    display(cis_df.sample(5))"
   ]
  },
  {
   "cell_type": "markdown",
   "id": "268a9ae5",
   "metadata": {},
   "source": [
    "#### make a key for the variant/pheno pair"
   ]
  },
  {
   "cell_type": "code",
   "execution_count": null,
   "id": "fa0cf71e",
   "metadata": {},
   "outputs": [],
   "source": [
    "cis_df['cispair'] = cis_df['phenotype_id'] + ':' + cis_df['variant_id']\n",
    "print(cis_df.shape)\n",
    "display(cis_df.sample(5))"
   ]
  },
  {
   "cell_type": "code",
   "execution_count": null,
   "id": "2639a76c",
   "metadata": {},
   "outputs": [],
   "source": [
    "print(cis_df['cispair'].value_counts().value_counts())\n",
    "print(cis_df['day'].value_counts())\n",
    "print(cis_df['cispair'].nunique())"
   ]
  },
  {
   "cell_type": "code",
   "execution_count": null,
   "id": "bcc7674c-8358-4488-8b51-02656ddc47a3",
   "metadata": {},
   "outputs": [],
   "source": [
    "bh_temp = cis_df.loc[cis_df.bh_fdr < alpha_value]\n",
    "print(bh_temp['cispair'].value_counts().value_counts())\n",
    "print(bh_temp['day'].value_counts())\n",
    "print(bh_temp['cispair'].nunique())"
   ]
  },
  {
   "cell_type": "markdown",
   "id": "5f098c44",
   "metadata": {},
   "source": [
    "#### what is the max p-value in the independent signals"
   ]
  },
  {
   "cell_type": "code",
   "execution_count": null,
   "id": "388acd86",
   "metadata": {},
   "outputs": [],
   "source": [
    "max_pvalue = bh_temp['pval_nominal'].max()\n",
    "print(f'max cis top nominal pvalue {max_pvalue}')\n",
    "\n",
    "max_pval_perm = bh_temp['pval_perm'].max()\n",
    "print(f'max cis top nominal pvalue {max_pval_perm}')"
   ]
  },
  {
   "cell_type": "markdown",
   "id": "e2b8b5b7",
   "metadata": {},
   "source": [
    "#### now that all the cispairs of interest are known get complete data for these"
   ]
  },
  {
   "cell_type": "code",
   "execution_count": null,
   "id": "c8843b46",
   "metadata": {},
   "outputs": [],
   "source": [
    "def load_missing_qtl_results(find_items, in_file, day):\n",
    "    qtl_df = read_parquet(in_file).compute()\n",
    "    qtl_df['cispair'] = qtl_df['phenotype_id'] + ':' + qtl_df['variant_id']\n",
    "    found_df = qtl_df.loc[qtl_df['cispair'].isin(find_items)].copy()\n",
    "    found_df['day'] = day\n",
    "    return found_df"
   ]
  },
  {
   "cell_type": "code",
   "execution_count": null,
   "id": "6456939d",
   "metadata": {},
   "outputs": [],
   "source": [
    "%%time\n",
    "\n",
    "fs_list = []\n",
    "lm_results = []\n",
    "with concurrent.futures.ThreadPoolExecutor() as tpe:\n",
    "    for day in days:\n",
    "        cohort_set = f'{cohort}_{day}'\n",
    "        result_set = f'{cohort_set}_{modality}'\n",
    "        for chrom in autosomes:\n",
    "            this_result_file = f'{tensorqtl_dir}/{result_set}.cis_qtl_pairs.chr{chrom}.parquet'\n",
    "            if exists(this_result_file):\n",
    "                fs_list.append(tpe.submit(load_missing_qtl_results, cis_df['cispair'], \n",
    "                                          this_result_file, day))\n",
    "for future in concurrent.futures.as_completed(fs_list):\n",
    "    lm_results.append(future.result()) "
   ]
  },
  {
   "cell_type": "code",
   "execution_count": null,
   "id": "9c569ee2",
   "metadata": {},
   "outputs": [],
   "source": [
    "# combine the read results\n",
    "results_df = concat(lm_results)\n",
    "print(results_df.shape)\n",
    "if DEBUG:\n",
    "    display(results_df.sample(10))"
   ]
  },
  {
   "cell_type": "code",
   "execution_count": null,
   "id": "409670ad",
   "metadata": {},
   "outputs": [],
   "source": [
    "print(results_df['cispair'].value_counts().value_counts())\n",
    "print(results_df['day'].value_counts())"
   ]
  },
  {
   "cell_type": "code",
   "execution_count": null,
   "id": "a90d3300",
   "metadata": {},
   "outputs": [],
   "source": [
    "results_df['log10_pvalue'] = np.log10(results_df['pval_nominal'])*-1\n",
    "results_df['score'] = results_df['slope']/results_df['slope_se']\n",
    "results_df['score_abs'] = np.abs(results_df['score'])\n",
    "results_df['is_sig'] = 0\n",
    "results_df.loc[results_df['pval_nominal'] < max_pvalue, 'is_sig'] = 1"
   ]
  },
  {
   "cell_type": "code",
   "execution_count": null,
   "id": "a860ce0d",
   "metadata": {},
   "outputs": [],
   "source": [
    "if DEBUG:\n",
    "    display(results_df.sample(5))"
   ]
  },
  {
   "cell_type": "code",
   "execution_count": null,
   "id": "73f57c26",
   "metadata": {},
   "outputs": [],
   "source": [
    "print(results_df['is_sig'].value_counts())"
   ]
  },
  {
   "cell_type": "markdown",
   "id": "ce86d0eb",
   "metadata": {},
   "source": [
    "### save the combined results"
   ]
  },
  {
   "cell_type": "code",
   "execution_count": null,
   "id": "d1430ea0",
   "metadata": {},
   "outputs": [],
   "source": [
    "results_df.to_csv(results_file, index=False)"
   ]
  },
  {
   "cell_type": "code",
   "execution_count": null,
   "id": "855decd6",
   "metadata": {},
   "outputs": [],
   "source": [
    "temp = results_df.groupby(['cispair'])['is_sig'].agg('sum')\n",
    "display(results_df.loc[results_df['is_sig'] == 0].head())\n",
    "display(temp.value_counts())"
   ]
  },
  {
   "cell_type": "code",
   "execution_count": null,
   "id": "8f7cd3f5",
   "metadata": {},
   "outputs": [],
   "source": [
    "display(temp[temp == 0].head())\n",
    "test_feature = temp[temp == 0].index[0]\n",
    "print(f'\\n test feature: {test_feature}')"
   ]
  },
  {
   "cell_type": "code",
   "execution_count": null,
   "id": "9f01e46d",
   "metadata": {},
   "outputs": [],
   "source": [
    "display(results_df.loc[results_df['cispair'] == test_feature])"
   ]
  },
  {
   "cell_type": "code",
   "execution_count": null,
   "id": "4ec00ec3",
   "metadata": {},
   "outputs": [],
   "source": [
    "results_df.groupby(['cispair'])['is_sig'].agg('sum').value_counts()"
   ]
  },
  {
   "cell_type": "markdown",
   "id": "c560b074",
   "metadata": {},
   "source": [
    "#### for the stuff that isn't in largest powered group any visit standout"
   ]
  },
  {
   "cell_type": "code",
   "execution_count": null,
   "id": "015932c2",
   "metadata": {},
   "outputs": [],
   "source": [
    "results_df.loc[results_df['day'] != 0]['day'].value_counts()"
   ]
  },
  {
   "cell_type": "code",
   "execution_count": null,
   "id": "fadc694d",
   "metadata": {},
   "outputs": [],
   "source": [
    "results_df.loc[results_df['day'] != 0].groupby(['cispair'])['is_sig'].agg('sum').value_counts()"
   ]
  },
  {
   "cell_type": "markdown",
   "id": "d1618391-8e0f-4174-9cbe-81c5724559e0",
   "metadata": {},
   "source": [
    "### plotting"
   ]
  },
  {
   "cell_type": "markdown",
   "id": "55528710",
   "metadata": {},
   "source": [
    "#### annotate direction of effect for plotting"
   ]
  },
  {
   "cell_type": "code",
   "execution_count": null,
   "id": "688c2690",
   "metadata": {},
   "outputs": [],
   "source": [
    "results_df['Direction'] = np.where(results_df['slope'] > 0, \n",
    "                                         'Increase', 'Descrease')\n",
    "results_df = results_df.reset_index(drop=True)\n",
    "if DEBUG:\n",
    "    display(results_df.sample(5))"
   ]
  },
  {
   "cell_type": "markdown",
   "id": "33cc4d6c",
   "metadata": {},
   "source": [
    "#### do some quick plotting"
   ]
  },
  {
   "cell_type": "code",
   "execution_count": null,
   "id": "77a379df",
   "metadata": {},
   "outputs": [],
   "source": [
    "# for seaborn lm plot the day needs to be numeric for ordinal interpret\n",
    "results_df['daynum'] = results_df['day'].str.replace('da','').astype('int32')"
   ]
  },
  {
   "cell_type": "code",
   "execution_count": null,
   "id": "e2bb3a6e",
   "metadata": {},
   "outputs": [],
   "source": [
    "with rc_context({'figure.figsize': (8, 8), 'figure.dpi': dpi_value}):\n",
    "    plt.style.use('seaborn-bright')\n",
    "    relplot(x='daynum', y='score', kind='line', hue='Direction',\n",
    "            data=results_df, palette='Set1')"
   ]
  },
  {
   "cell_type": "code",
   "execution_count": null,
   "id": "46f0beb9",
   "metadata": {},
   "outputs": [],
   "source": [
    "with rc_context({'figure.figsize': (8, 8), 'figure.dpi': dpi_value}):\n",
    "    plt.style.use('seaborn-bright')\n",
    "    relplot(x='daynum', y='slope', kind='line', hue='Direction',\n",
    "            data=results_df, palette='Set1')"
   ]
  },
  {
   "cell_type": "code",
   "execution_count": null,
   "id": "33cbf29a",
   "metadata": {},
   "outputs": [],
   "source": [
    "with rc_context({'figure.figsize': (8, 8), 'figure.dpi': dpi_value}):\n",
    "    plt.style.use('seaborn-bright')\n",
    "    relplot(x='daynum', y='slope_se', kind='line', hue='Direction',\n",
    "            data=results_df, palette='Set1')"
   ]
  },
  {
   "cell_type": "code",
   "execution_count": null,
   "id": "a9dc8bc3",
   "metadata": {},
   "outputs": [],
   "source": [
    "with rc_context({'figure.figsize': (8, 8), 'figure.dpi': dpi_value}):\n",
    "    plt.style.use('seaborn-bright')\n",
    "    relplot(x='daynum', y='log10_pvalue', kind='line', hue='Direction',\n",
    "            data=results_df, palette='Set1')"
   ]
  },
  {
   "cell_type": "code",
   "execution_count": null,
   "id": "038ff0cf",
   "metadata": {},
   "outputs": [],
   "source": [
    "with rc_context({'figure.figsize': (8, 8), 'figure.dpi': dpi_value}):\n",
    "    plt.style.use('seaborn-bright')\n",
    "    relplot(x='tss_distance', y='log10_pvalue',hue='Direction',\n",
    "            data=results_df, palette='Set1')\n",
    "    plt.axhline(-np.log10(max_pvalue), color='black', linestyle='--')\n",
    "    plt.axhline(0, color='black')\n",
    "    plt.axvline(0, color='black', zorder=0)  "
   ]
  },
  {
   "cell_type": "code",
   "execution_count": null,
   "id": "96296c55",
   "metadata": {},
   "outputs": [],
   "source": [
    "with rc_context({'figure.figsize': (8, 8), 'figure.dpi': dpi_value}):\n",
    "    plt.style.use('seaborn-bright')\n",
    "    scatterplot(x='tss_distance', y='log10_pvalue', hue='day',\n",
    "                data=results_df.sample(frac=1), palette='Set1')\n",
    "    plt.axhline(-np.log10(max_pvalue), color='black', linestyle='--')\n",
    "    plt.axhline(0, color='black')\n",
    "    plt.axvline(0, color='black', zorder=0)       "
   ]
  },
  {
   "cell_type": "code",
   "execution_count": null,
   "id": "f6de783d",
   "metadata": {},
   "outputs": [],
   "source": [
    "with rc_context({'figure.figsize': (8, 8), 'figure.dpi': dpi_value}):\n",
    "    plt.style.use('seaborn-bright')\n",
    "    relplot(x='tss_distance', y='score',hue='Direction',\n",
    "            data=results_df, palette='Set1')"
   ]
  },
  {
   "cell_type": "code",
   "execution_count": null,
   "id": "2ef02321",
   "metadata": {},
   "outputs": [],
   "source": [
    "with rc_context({'figure.figsize': (8, 8), 'figure.dpi': dpi_value}):\n",
    "    plt.style.use('seaborn-bright')\n",
    "    relplot(x='tss_distance', y='score',hue='day',\n",
    "            data=results_df.sample(frac=1), palette='Set1')\n",
    "    plt.axhline(-np.log10(max_pvalue), color='black', linestyle='--')\n",
    "    plt.axhline(np.log10(max_pvalue), color='black', linestyle='--')    \n",
    "    plt.axhline(0, color='black')\n",
    "    plt.axvline(0, color='black', zorder=0)    "
   ]
  },
  {
   "cell_type": "markdown",
   "id": "09afd2c9-70d0-4e44-954f-a7c5edb616e6",
   "metadata": {},
   "source": [
    "### plot scatter for two timepoints or ternary for three timepoints\n",
    "ATAC, PDUI, RNAB, RNAS all have three timepoints (da0, 25, and 65) where as METH only has two timepoints (da0 and 65) and SCRN only one timepoint at da65"
   ]
  },
  {
   "cell_type": "markdown",
   "id": "8f71d799",
   "metadata": {},
   "source": [
    "#### format data for scatter or ternary plots"
   ]
  },
  {
   "cell_type": "code",
   "execution_count": null,
   "id": "0ddab8f9",
   "metadata": {},
   "outputs": [],
   "source": [
    "da0 = results_df.loc[results_df['day'] == 'da0'].sort_values(by=['cispair'])\n",
    "if not modality == 'METH':\n",
    "    da25 = results_df.loc[results_df['day'] == 'da25'].sort_values(by=['cispair'])\n",
    "da65 = results_df.loc[results_df['day'] == 'da65'].sort_values(by=['cispair'])"
   ]
  },
  {
   "cell_type": "code",
   "execution_count": null,
   "id": "f5657c39",
   "metadata": {},
   "outputs": [],
   "source": [
    "if not modality == 'METH':\n",
    "    all_df = da0.merge(da25, how='left', left_on='cispair', right_on='cispair')\n",
    "    all_df = all_df.merge(da65, how='left', left_on='cispair', right_on='cispair')\n",
    "else:\n",
    "    all_df = da0.merge(da65, how='left', left_on='cispair', right_on='cispair')\n",
    "if DEBUG:\n",
    "    display(all_df.head())"
   ]
  },
  {
   "cell_type": "markdown",
   "id": "b89013cc",
   "metadata": {},
   "source": [
    "#### clean up the column names"
   ]
  },
  {
   "cell_type": "code",
   "execution_count": null,
   "id": "fca62d0b",
   "metadata": {},
   "outputs": [],
   "source": [
    "if not modality == 'METH':\n",
    "    all_df.rename(columns={'score_abs_x': 'da0', 'score_abs_y': 'da25', \n",
    "                           'score_abs': 'da65'}, inplace=True)\n",
    "else:\n",
    "    all_df.rename(columns={'score_x': 'da0', 'score_y': 'da65'}, inplace=True)    "
   ]
  },
  {
   "cell_type": "code",
   "execution_count": null,
   "id": "f5496f0a",
   "metadata": {},
   "outputs": [],
   "source": [
    "all_df.fillna(0, inplace=True)"
   ]
  },
  {
   "cell_type": "markdown",
   "id": "0f33397e",
   "metadata": {},
   "source": [
    "#### merge the counts for number days significant"
   ]
  },
  {
   "cell_type": "code",
   "execution_count": null,
   "id": "394346bf",
   "metadata": {},
   "outputs": [],
   "source": [
    "if not modality == 'METH':\n",
    "    all_df['days_detected'] = all_df['is_sig_x'] + all_df['is_sig_y'] + all_df['is_sig']\n",
    "else:\n",
    "    all_df['days_detected'] = all_df['is_sig_x'] + all_df['is_sig_y']\n",
    "all_df['days_detected'].value_counts()"
   ]
  },
  {
   "cell_type": "code",
   "execution_count": null,
   "id": "940c1526",
   "metadata": {},
   "outputs": [],
   "source": [
    "all_df.loc[all_df['days_detected'] == 0, 'days_detected'] = 1\n",
    "all_df['days_detected'] = all_df['days_detected'].astype('int')\n",
    "all_df['days_detected'].value_counts()"
   ]
  },
  {
   "cell_type": "code",
   "execution_count": null,
   "id": "1f29b9c3",
   "metadata": {},
   "outputs": [],
   "source": [
    "if not modality == 'METH':\n",
    "    import plotly.express as px\n",
    "    fig = px.scatter_ternary(all_df, a='da0', b='da25', c='da65', color='days_detected')\n",
    "    fig.show()    \n",
    "else:\n",
    "    with rc_context({'figure.figsize': (8, 8), 'figure.dpi': 100}):\n",
    "        plt.style.use('seaborn-bright')\n",
    "        figure = scatterplot(x='da0', y='da65',\n",
    "                             data=all_df.sample(frac=1), palette='Set1')\n",
    "        figure.axhline(0, color='black', zorder=0)\n",
    "        figure.axvline(0, color='black', zorder=0)    "
   ]
  },
  {
   "cell_type": "code",
   "execution_count": null,
   "id": "2a8ab8eb",
   "metadata": {},
   "outputs": [],
   "source": [
    "all_df['cispair'].value_counts()"
   ]
  },
  {
   "cell_type": "code",
   "execution_count": null,
   "id": "73f57743",
   "metadata": {},
   "outputs": [],
   "source": [
    "cis_df['cispair'].value_counts()"
   ]
  },
  {
   "cell_type": "code",
   "execution_count": null,
   "id": "eab5cb84",
   "metadata": {},
   "outputs": [],
   "source": [
    "present_all = cis_df['cispair'].value_counts()\n",
    "present_all = present_all[present_all == 3]\n",
    "present_all"
   ]
  },
  {
   "cell_type": "code",
   "execution_count": null,
   "id": "9cf617fd",
   "metadata": {},
   "outputs": [],
   "source": [
    "indep_present_all = cis_df.loc[cis_df['cispair'].isin(present_all.index)]\n",
    "print(indep_present_all.shape)\n",
    "display(indep_present_all.head())"
   ]
  },
  {
   "cell_type": "code",
   "execution_count": null,
   "id": "e47095cb",
   "metadata": {},
   "outputs": [],
   "source": [
    "print(cis_df.loc[cis_df.tss_distance < 5].shape)\n",
    "print(cis_df.loc[cis_df.tss_distance < 5]['phenotype_id'].nunique())"
   ]
  },
  {
   "cell_type": "code",
   "execution_count": null,
   "id": "76e65859-8fcc-4376-a52b-c3e59cce20c0",
   "metadata": {},
   "outputs": [],
   "source": [
    "with rc_context({'figure.figsize': (8, 8), 'figure.dpi': dpi_value}):\n",
    "    plt.style.use('seaborn-bright')\n",
    "    cis_df.tss_distance.plot.density()"
   ]
  },
  {
   "cell_type": "code",
   "execution_count": null,
   "id": "592136c1-e1a5-4dbe-ae02-840f0448027d",
   "metadata": {},
   "outputs": [],
   "source": [
    "!date"
   ]
  },
  {
   "cell_type": "code",
   "execution_count": null,
   "id": "a469034a-2f66-433a-ad57-613bcb0d7966",
   "metadata": {},
   "outputs": [],
   "source": []
  }
 ],
 "metadata": {
  "environment": {
   "kernel": "python3",
   "name": "pytorch-gpu.1-11.m94",
   "type": "gcloud",
   "uri": "gcr.io/deeplearning-platform-release/pytorch-gpu.1-11:m94"
  },
  "kernelspec": {
   "display_name": "Python 3 (ipykernel)",
   "language": "python",
   "name": "python3"
  },
  "language_info": {
   "codemirror_mode": {
    "name": "ipython",
    "version": 3
   },
   "file_extension": ".py",
   "mimetype": "text/x-python",
   "name": "python",
   "nbconvert_exporter": "python",
   "pygments_lexer": "ipython3",
   "version": "3.9.15"
  },
  "widgets": {
   "application/vnd.jupyter.widget-state+json": {
    "state": {},
    "version_major": 2,
    "version_minor": 0
   }
  }
 },
 "nbformat": 4,
 "nbformat_minor": 5
}
