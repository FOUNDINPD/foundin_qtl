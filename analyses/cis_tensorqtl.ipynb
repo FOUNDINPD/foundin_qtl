{
 "cells": [
  {
   "cell_type": "markdown",
   "id": "59500cfc",
   "metadata": {
    "papermill": {
     "duration": 0.032376,
     "end_time": "2021-08-05T16:28:32.362666",
     "exception": false,
     "start_time": "2021-08-05T16:28:32.330290",
     "status": "completed"
    },
    "tags": []
   },
   "source": [
    "## Notebook to run *cis* QTL analysis between genotype and modalities using [tensorQTL](https://github.com/broadinstitute/tensorqtl)\n",
    "\n",
    "[Taylor-Weiner, Aguet, et al., Genome Biol. 20:228, 2019.](https://genomebiology.biomedcentral.com/articles/10.1186/s13059-019-1836-7)"
   ]
  },
  {
   "cell_type": "code",
   "execution_count": null,
   "id": "1a247d17",
   "metadata": {
    "papermill": {
     "duration": 0.14727,
     "end_time": "2021-08-05T16:28:32.530364",
     "exception": false,
     "start_time": "2021-08-05T16:28:32.383094",
     "status": "completed"
    },
    "tags": []
   },
   "outputs": [],
   "source": [
    "!date"
   ]
  },
  {
   "cell_type": "markdown",
   "id": "84872cd5",
   "metadata": {
    "papermill": {
     "duration": 0.018671,
     "end_time": "2021-08-05T16:28:32.568179",
     "exception": false,
     "start_time": "2021-08-05T16:28:32.549508",
     "status": "completed"
    },
    "tags": []
   },
   "source": [
    "#### import libraries"
   ]
  },
  {
   "cell_type": "code",
   "execution_count": null,
   "id": "a41d4a18",
   "metadata": {
    "papermill": {
     "duration": 1.567685,
     "end_time": "2021-08-05T16:28:34.154502",
     "exception": false,
     "start_time": "2021-08-05T16:28:32.586817",
     "status": "completed"
    },
    "tags": []
   },
   "outputs": [],
   "source": [
    "import pandas as pd\n",
    "import torch\n",
    "# import tensorqtl\n",
    "from tensorqtl import read_phenotype_bed\n",
    "from tensorqtl import genotypeio, cis, trans\n",
    "print(f'PyTorch {torch.__version__}')\n",
    "print(f'Pandas {pd.__version__}')\n",
    "\n",
    "import statsmodels.stats.multitest as smm\n",
    "\n",
    "import warnings\n",
    "warnings.filterwarnings('ignore')"
   ]
  },
  {
   "cell_type": "markdown",
   "id": "7512cec9-abe6-41c7-9193-833f16aeaf36",
   "metadata": {},
   "source": [
    "#### set notebook variables"
   ]
  },
  {
   "cell_type": "code",
   "execution_count": null,
   "id": "8762e9d6",
   "metadata": {
    "papermill": {
     "duration": 0.02605,
     "end_time": "2021-08-05T16:28:34.199808",
     "exception": false,
     "start_time": "2021-08-05T16:28:34.173758",
     "status": "completed"
    },
    "tags": [
     "parameters"
    ]
   },
   "outputs": [],
   "source": [
    "# parameters\n",
    "modality = ''\n",
    "day = ''"
   ]
  },
  {
   "cell_type": "code",
   "execution_count": null,
   "id": "1adfba9d",
   "metadata": {
    "papermill": {
     "duration": 0.024125,
     "end_time": "2021-08-05T16:28:34.282618",
     "exception": false,
     "start_time": "2021-08-05T16:28:34.258493",
     "status": "completed"
    },
    "tags": []
   },
   "outputs": [],
   "source": [
    "# naming\n",
    "cohort = 'foundin'\n",
    "set_name = f'{cohort}_{day}_{modality}'\n",
    "\n",
    "# directories\n",
    "wrk_dir = '/home/gibbsr/working/foundin/foundin_qtl'\n",
    "quants_dir = f'{wrk_dir}/quants'\n",
    "geno_dir = f'{wrk_dir}/genotypes'\n",
    "info_dir = f'{wrk_dir}/sample_info'\n",
    "tensorqtl_dir = f'{wrk_dir}/tensorqtl'\n",
    "\n",
    "# input files\n",
    "endo_quants_bed_file = f'{quants_dir}/{set_name}.scaled.adj.bed.gz'\n",
    "bfile_prefix_path = f'{geno_dir}/{cohort}.amppdv1.bfile'\n",
    "covariates_file = f'{info_dir}/{cohort}_{modality}_sample_info.csv'\n",
    "\n",
    "# output files\n",
    "used_samples_list_file = f'{info_dir}/{set_name}.samples'\n",
    "cis_map_file = f'{tensorqtl_dir}/{set_name}.cis.map.csv'\n",
    "cis_indep_file = f'{tensorqtl_dir}/{set_name}.cis.indep.csv'\n",
    "\n",
    "# constant values\n",
    "alpha_value = 0.05\n",
    "min_nominal_alpha = 1e-05\n",
    "use_for_fdr = 'pval_perm' # pval_beta\n",
    "DEBUG = False\n",
    "# tensorQTL defaults to 10K permutations, lower to speed up but lose specificity\n",
    "NPERM = 10000\n",
    "# tensorQTL defaults to 0\n",
    "MIN_MAF = 0.05\n",
    "covs_columns_to_use = ['female', 'PC1', 'PC2', 'PC3', 'PC4', 'PC5', 'PC6', 'nonDA']\n",
    "repeated_samples_to_exclude = [f'RNAB_PPMI3966B1v1_{day}', f'RNAB_PPMI3966B1v2_{day}',\n",
    "                               f'RNAB_PPMI3966B1v3_{day}', f'RNAB_PPMI3966B1v4_{day}',\n",
    "                               f'RNAB_PPMI3966B1v5_{day}', f'RNAB_PPMI3966B1v6_{day}',\n",
    "                               f'RNAB_PPMI3966B1v7_{day}', f'RNAB_PPMI3966B1v8_{day}',\n",
    "                               f'RNAB_PPMI3966B1v9_{day}', f'RNAB_PPMI3966B2v1_{day}',\n",
    "                               f'RNAB_PPMI3966B2v2_{day}', f'RNAB_PPMI3966B5v1_{day}']"
   ]
  },
  {
   "cell_type": "markdown",
   "id": "e6914530",
   "metadata": {
    "papermill": {
     "duration": 0.018042,
     "end_time": "2021-08-05T16:28:34.364680",
     "exception": false,
     "start_time": "2021-08-05T16:28:34.346638",
     "status": "completed"
    },
    "tags": []
   },
   "source": [
    "#### utility functions"
   ]
  },
  {
   "cell_type": "code",
   "execution_count": null,
   "id": "4b4c6c22",
   "metadata": {
    "papermill": {
     "duration": 0.024911,
     "end_time": "2021-08-05T16:28:34.407159",
     "exception": false,
     "start_time": "2021-08-05T16:28:34.382248",
     "status": "completed"
    },
    "tags": []
   },
   "outputs": [],
   "source": [
    "# compute B&H FDR for given p-values\n",
    "def compute_fdr(pvalues):\n",
    "    bh_adj = smm.fdrcorrection(pvalues)\n",
    "    return bh_adj[1]"
   ]
  },
  {
   "cell_type": "markdown",
   "id": "e1b58960-3a0d-4645-aeb5-dc9ba70bca09",
   "metadata": {},
   "source": [
    "#### see if torch detects a GPU"
   ]
  },
  {
   "cell_type": "code",
   "execution_count": null,
   "id": "1056f61c-df89-4b5c-ae29-41a4be8d4201",
   "metadata": {},
   "outputs": [],
   "source": [
    "# setting device on GPU if available, else CPU\n",
    "device = torch.device('cuda' if torch.cuda.is_available() else 'cpu')\n",
    "print(f'Using device: {device}\\n')\n",
    "#Additional Info when using cuda\n",
    "if device.type == 'cuda':\n",
    "    print(torch.cuda.get_device_name(0))\n",
    "    print('Memory Usage:')\n",
    "    print('Allocated:', round(torch.cuda.memory_allocated(0)/1024**3,1), 'GB')\n",
    "    print('Cached:   ', round(torch.cuda.memory_reserved(0)/1024**3,1), 'GB')\n",
    "    \n",
    "print(torch.version.cuda)    "
   ]
  },
  {
   "cell_type": "markdown",
   "id": "9dd2fb4d-802f-4367-8005-4c9c92101611",
   "metadata": {},
   "source": [
    "### load input data"
   ]
  },
  {
   "cell_type": "markdown",
   "id": "ddc86977",
   "metadata": {
    "papermill": {
     "duration": 0.017745,
     "end_time": "2021-08-05T16:28:34.444564",
     "exception": false,
     "start_time": "2021-08-05T16:28:34.426819",
     "status": "completed"
    },
    "tags": []
   },
   "source": [
    "#### load endogenous features (phenotypes)"
   ]
  },
  {
   "cell_type": "code",
   "execution_count": null,
   "id": "a2197dd9",
   "metadata": {
    "papermill": {
     "duration": 0.346964,
     "end_time": "2021-08-05T16:28:34.810122",
     "exception": false,
     "start_time": "2021-08-05T16:28:34.463158",
     "status": "completed"
    },
    "tags": []
   },
   "outputs": [],
   "source": [
    "%%time\n",
    "\n",
    "endogenous_df, endogenous_pos_df = read_phenotype_bed(endo_quants_bed_file)\n",
    "print(f'endogenous: {endogenous_df.shape}')\n",
    "print(f'endogenous pos: {endogenous_pos_df.shape}')\n",
    "if DEBUG:\n",
    "    display(endogenous_df.head())\n",
    "    display(endogenous_pos_df.head())"
   ]
  },
  {
   "cell_type": "markdown",
   "id": "2740e7fa",
   "metadata": {
    "papermill": {
     "duration": 0.019267,
     "end_time": "2021-08-05T16:28:34.850667",
     "exception": false,
     "start_time": "2021-08-05T16:28:34.831400",
     "status": "completed"
    },
    "tags": []
   },
   "source": [
    "#### load exogenous features (plink genotypes bfile)"
   ]
  },
  {
   "cell_type": "code",
   "execution_count": null,
   "id": "8df4f769",
   "metadata": {
    "papermill": {
     "duration": 62.417431,
     "end_time": "2021-08-05T16:29:37.286339",
     "exception": false,
     "start_time": "2021-08-05T16:28:34.868908",
     "status": "completed"
    },
    "tags": []
   },
   "outputs": [],
   "source": [
    "%%time\n",
    "pr = genotypeio.PlinkReader(bfile_prefix_path)\n",
    "exogenous_df = pr.load_genotypes()\n",
    "exogenous_pos_df = pr.bim.set_index('snp')[['chrom', 'pos']]\n",
    "\n",
    "print(f'exogenous: {exogenous_df.shape}')\n",
    "print(f'exogenous pos: {exogenous_pos_df.shape}')\n",
    "if DEBUG:\n",
    "    display(exogenous_df.head())\n",
    "    display(exogenous_pos_df.head())"
   ]
  },
  {
   "cell_type": "code",
   "execution_count": null,
   "id": "11024196-c465-4b53-bbd3-1c9ad5d8f6f4",
   "metadata": {},
   "outputs": [],
   "source": [
    "# tensorQTL says wants plink bfiles, but wants bim chrs to include 'chr'\n",
    "exogenous_pos_df['chrom'] = 'chr' + exogenous_pos_df['chrom']\n",
    "print(exogenous_pos_df.shape)\n",
    "if DEBUG:\n",
    "    display(exogenous_pos_df.head())"
   ]
  },
  {
   "cell_type": "markdown",
   "id": "48c3f442-de6e-4f2f-be61-df25f34c7c5c",
   "metadata": {},
   "source": [
    "#### load the covariates"
   ]
  },
  {
   "cell_type": "code",
   "execution_count": null,
   "id": "8a681632-0654-4f42-9a40-6473a8aa4b41",
   "metadata": {},
   "outputs": [],
   "source": [
    "covs_df = pd.read_csv(covariates_file, index_col=0)\n",
    "print(f'covariates shape {covs_df.shape}')\n",
    "if DEBUG:\n",
    "    display(covs_df.head())"
   ]
  },
  {
   "cell_type": "markdown",
   "id": "65bacca8-db1c-44c3-9484-4be124a4f15d",
   "metadata": {},
   "source": [
    "#### create a binarized covariate for sex"
   ]
  },
  {
   "cell_type": "code",
   "execution_count": null,
   "id": "5c103965-03c7-4ef8-a28b-e810f2c3fddc",
   "metadata": {},
   "outputs": [],
   "source": [
    "covs_df['female'] = 0\n",
    "covs_df.loc[covs_df.sex == 'Female', 'female'] = 1\n",
    "display(covs_df.sex.value_counts())\n",
    "display(covs_df.female.value_counts())"
   ]
  },
  {
   "cell_type": "markdown",
   "id": "e3638043-8c7a-4c7e-882d-2e4b170e72f8",
   "metadata": {},
   "source": [
    "#### create a combine non-DA neuron fraction as a covariate\n",
    "\n",
    "if SCRN modality don't include this covariate term"
   ]
  },
  {
   "cell_type": "code",
   "execution_count": null,
   "id": "7aee8dd1-4888-4e44-8d54-752f396cd993",
   "metadata": {},
   "outputs": [],
   "source": [
    "covs_df['nonDA'] = 1 - covs_df.DAn\n",
    "display(covs_df.nonDA.describe())\n",
    "if DEBUG:\n",
    "    display(covs_df.head())"
   ]
  },
  {
   "cell_type": "markdown",
   "id": "5e421146",
   "metadata": {
    "papermill": {
     "duration": 0.022641,
     "end_time": "2021-08-05T16:29:39.087117",
     "exception": false,
     "start_time": "2021-08-05T16:29:39.064476",
     "status": "completed"
    },
    "tags": []
   },
   "source": [
    "### make sure the pheno and genos have same samples"
   ]
  },
  {
   "cell_type": "code",
   "execution_count": null,
   "id": "24ade654",
   "metadata": {
    "papermill": {
     "duration": 0.030498,
     "end_time": "2021-08-05T16:29:39.138010",
     "exception": false,
     "start_time": "2021-08-05T16:29:39.107512",
     "status": "completed"
    },
    "tags": []
   },
   "outputs": [],
   "source": [
    "assay_intersect_samples = set(exogenous_df.columns) & set(endogenous_df.columns) \n",
    "print(f'intersect {len(assay_intersect_samples)}')\n",
    "extra_exo_samples = set(exogenous_df.columns) - set(endogenous_df.columns)\n",
    "print(f'number of exogenous samples not in endogenous {len(extra_exo_samples)}')\n",
    "extra_endo_samples = set(endogenous_df.columns) - set(exogenous_df.columns)\n",
    "print(f'number of endogenous samples not in exogenous {len(extra_endo_samples)}')\n",
    "\n",
    "# save the used sample list\n",
    "pd.DataFrame(data=assay_intersect_samples).to_csv(used_samples_list_file, \n",
    "                                                  index=False, header=False)"
   ]
  },
  {
   "cell_type": "code",
   "execution_count": null,
   "id": "33234ead",
   "metadata": {
    "papermill": {
     "duration": 0.030751,
     "end_time": "2021-08-05T16:29:39.188642",
     "exception": false,
     "start_time": "2021-08-05T16:29:39.157891",
     "status": "completed"
    },
    "tags": []
   },
   "outputs": [],
   "source": [
    "print(extra_exo_samples, extra_endo_samples)"
   ]
  },
  {
   "cell_type": "markdown",
   "id": "33bdcea1",
   "metadata": {
    "papermill": {
     "duration": 0.02041,
     "end_time": "2021-08-05T16:29:39.232067",
     "exception": false,
     "start_time": "2021-08-05T16:29:39.211657",
     "status": "completed"
    },
    "tags": []
   },
   "source": [
    "#### drop the non-matched samples"
   ]
  },
  {
   "cell_type": "code",
   "execution_count": null,
   "id": "3920ec07",
   "metadata": {
    "papermill": {
     "duration": 1.197989,
     "end_time": "2021-08-05T16:29:40.450008",
     "exception": false,
     "start_time": "2021-08-05T16:29:39.252019",
     "status": "completed"
    },
    "tags": []
   },
   "outputs": [],
   "source": [
    "exogenous_df.drop(columns=extra_exo_samples, inplace=True)\n",
    "endogenous_df.drop(columns=extra_endo_samples, inplace=True)\n",
    "\n",
    "print(exogenous_df.shape)\n",
    "print(endogenous_df.shape)\n",
    "if DEBUG:\n",
    "    display(exogenous_df.head())\n",
    "    display(endogenous_df.head())"
   ]
  },
  {
   "cell_type": "markdown",
   "id": "38b74ee6",
   "metadata": {
    "papermill": {
     "duration": 0.023225,
     "end_time": "2021-08-05T16:29:40.497425",
     "exception": false,
     "start_time": "2021-08-05T16:29:40.474200",
     "status": "completed"
    },
    "tags": []
   },
   "source": [
    "### need to make sure phenos and genos have matched chromosomes; ie just autosomes"
   ]
  },
  {
   "cell_type": "code",
   "execution_count": null,
   "id": "ff171302",
   "metadata": {
    "papermill": {
     "duration": 16.894184,
     "end_time": "2021-08-05T16:29:57.411924",
     "exception": false,
     "start_time": "2021-08-05T16:29:40.517740",
     "status": "completed"
    },
    "tags": []
   },
   "outputs": [],
   "source": [
    "# need to ditch any non-autosomal genes\n",
    "assay_intersect_chroms = set(endogenous_pos_df['chr']) & set(exogenous_pos_df['chrom']) \n",
    "print(f'intersect {len(assay_intersect_chroms)}')\n",
    "extra_exo_chroms = set(exogenous_pos_df['chrom']) - set(endogenous_pos_df['chr'])\n",
    "print(f'number of exogenous chroms not in endogenous {len(extra_exo_chroms)}')\n",
    "print(extra_exo_chroms)\n",
    "extra_endo_chroms = set(endogenous_pos_df['chr']) - set(exogenous_pos_df['chrom'])\n",
    "print(f'number of endogenous chroms not in exogenous {len(extra_endo_chroms)}')\n",
    "print(extra_endo_chroms)"
   ]
  },
  {
   "cell_type": "code",
   "execution_count": null,
   "id": "0f240bd6",
   "metadata": {
    "papermill": {
     "duration": 0.034496,
     "end_time": "2021-08-05T16:29:57.468663",
     "exception": false,
     "start_time": "2021-08-05T16:29:57.434167",
     "status": "completed"
    },
    "tags": []
   },
   "outputs": [],
   "source": [
    "# make sure the sexomes are removed is they happen to still be present\n",
    "sexomes = set(['chrX', 'chrY'])\n",
    "extra_exo_chroms = extra_exo_chroms | sexomes\n",
    "extra_endo_chroms = extra_endo_chroms | sexomes\n",
    "\n",
    "if len(extra_exo_chroms) > 0:\n",
    "    exogenous_pos_df = exogenous_pos_df.loc[~exogenous_pos_df['chrom'].isin(extra_exo_chroms)]\n",
    "    # this will remove variants so need to remove them from genos df as well\n",
    "    exogenous_df = exogenous_df.loc[exogenous_df.index.isin(exogenous_pos_df.index)]\n",
    "if len(extra_endo_chroms) > 0:\n",
    "    endogenous_pos_df = endogenous_pos_df.loc[~endogenous_pos_df['chr'].isin(extra_endo_chroms)]\n",
    "    # this will remove genes so need to remove them from phenos df as well\n",
    "    endogenous_df = endogenous_df.loc[endogenous_df.index.isin(endogenous_pos_df.index)]\n",
    "\n",
    "print(f'geno shape: {exogenous_df.shape}')\n",
    "print(f'variant shape: {exogenous_pos_df.shape}')\n",
    "print(f'pheno shape: {endogenous_df.shape}')\n",
    "print(f'pheno pos: {endogenous_pos_df.shape}')\n",
    "\n",
    "if DEBUG:\n",
    "    display(exogenous_df.head())    \n",
    "    display(exogenous_pos_df.head())\n",
    "    display(endogenous_df.head())\n",
    "    display(endogenous_pos_df.head())"
   ]
  },
  {
   "cell_type": "markdown",
   "id": "359b36ad-9850-4295-b623-69deb960e915",
   "metadata": {},
   "source": [
    "### make sure covariates match geno and pheno samples"
   ]
  },
  {
   "cell_type": "code",
   "execution_count": null,
   "id": "520b81ba-a337-4761-ad63-6b90d4fac495",
   "metadata": {},
   "outputs": [],
   "source": [
    "# subest covs to just this 'day'; ie all differention days covs in file\n",
    "# also since only interested in cell fractions as interaction terms, subset now\n",
    "covs_df = covs_df.loc[(covs_df.day == day) & \n",
    "                      (covs_df.sampleid.isin(endogenous_df.columns))]\n",
    "covs_df = covs_df.loc[~covs_df.index.isin(repeated_samples_to_exclude)]\n",
    "print(f'covs shape {covs_df.shape}')\n",
    "\n",
    "cov_intersect_samples = set(endogenous_df.columns) & set(covs_df.sampleid) \n",
    "print(f'intersect {len(cov_intersect_samples)}')\n",
    "extra_expr_samples = set(endogenous_df.columns) - set(covs_df.sampleid)\n",
    "print(f'number of endogenous samples not in covariates {len(extra_expr_samples)}')\n",
    "extra_cov_samples = set(covs_df.sampleid) - set(endogenous_df.columns)\n",
    "print(f'number of covariate samples not in exogenous {len(extra_cov_samples)}')"
   ]
  },
  {
   "cell_type": "markdown",
   "id": "4a7ffa7e-0211-47f2-bed1-1892740ab10b",
   "metadata": {},
   "source": [
    "#### subset covariate to just desired (ie cell fractions) and shape for use with tensorqtl"
   ]
  },
  {
   "cell_type": "code",
   "execution_count": null,
   "id": "f48e24b1-d9bd-4470-aae7-0cb15763545d",
   "metadata": {},
   "outputs": [],
   "source": [
    "covs_to_use = covs_df[['sampleid'] + covs_columns_to_use]\n",
    "covs_to_use.set_index('sampleid', inplace=True)\n",
    "# re-order columns to match phenotypes\n",
    "covs_to_use = covs_to_use.transpose()\n",
    "covs_to_use = covs_to_use[endogenous_df.columns]\n",
    "# now transpose back\n",
    "covs_to_use = covs_to_use.transpose()\n",
    "print(covs_to_use.shape)\n",
    "if DEBUG:\n",
    "    display(covs_to_use.head())"
   ]
  },
  {
   "cell_type": "markdown",
   "id": "d836096a-d084-403e-afa8-9a007464633a",
   "metadata": {},
   "source": [
    "#### in rare instances a single sample will be missing a covariate, mean fill for simplicity"
   ]
  },
  {
   "cell_type": "code",
   "execution_count": 54,
   "id": "6e18ec2e-53ea-4e58-a340-73ef861ed5e7",
   "metadata": {},
   "outputs": [],
   "source": [
    "for covariate in covs_to_use.columns:\n",
    "    mean_val = covs_to_use[covariate].mean()\n",
    "    if covs_to_use[covariate].nunique() == 2:\n",
    "        mean_val = int(mean_val)\n",
    "    covs_to_use[covariate].fillna(mean_val, inplace=True)"
   ]
  },
  {
   "cell_type": "markdown",
   "id": "686fca89",
   "metadata": {
    "papermill": {
     "duration": 0.021668,
     "end_time": "2021-08-05T16:29:57.511520",
     "exception": false,
     "start_time": "2021-08-05T16:29:57.489852",
     "status": "completed"
    },
    "tags": []
   },
   "source": [
    "### *cis*-QTL: nominal p-values for all variant-phenotype pairs"
   ]
  },
  {
   "cell_type": "code",
   "execution_count": null,
   "id": "ee82c9e4",
   "metadata": {
    "papermill": {
     "duration": 93.456032,
     "end_time": "2021-08-05T16:31:30.988574",
     "exception": false,
     "start_time": "2021-08-05T16:29:57.532542",
     "status": "completed"
    },
    "tags": []
   },
   "outputs": [],
   "source": [
    "%%time\n",
    "# map all cis-associations (results for each chromosome are written to file)\n",
    "# all features\n",
    "cis.map_nominal(exogenous_df, exogenous_pos_df, endogenous_df, endogenous_pos_df, \n",
    "                covariates_df=covs_to_use, prefix=f'{set_name}', \n",
    "                output_dir=tensorqtl_dir, run_eigenmt=True, write_top=True, \n",
    "                write_stats=True, verbose=False, maf_threshold=MIN_MAF)"
   ]
  },
  {
   "cell_type": "markdown",
   "id": "c49e5dcc",
   "metadata": {
    "papermill": {
     "duration": 0.040585,
     "end_time": "2021-08-05T16:31:31.069643",
     "exception": false,
     "start_time": "2021-08-05T16:31:31.029058",
     "status": "completed"
    },
    "tags": []
   },
   "source": [
    "### *cis*-QTL: empirical p-values for phenotypes"
   ]
  },
  {
   "cell_type": "code",
   "execution_count": null,
   "id": "b3a80418",
   "metadata": {
    "papermill": {
     "duration": 2844.095047,
     "end_time": "2021-08-05T17:18:55.201827",
     "exception": false,
     "start_time": "2021-08-05T16:31:31.106780",
     "status": "completed"
    },
    "tags": []
   },
   "outputs": [],
   "source": [
    "%%time\n",
    "# all genes\n",
    "cis_df = cis.map_cis(exogenous_df, exogenous_pos_df, endogenous_df, endogenous_pos_df, \n",
    "                     covariates_df=covs_to_use, verbose=False, nperm=NPERM, \n",
    "                     maf_threshold=MIN_MAF)"
   ]
  },
  {
   "cell_type": "markdown",
   "id": "ab505e7c",
   "metadata": {
    "papermill": {
     "duration": 0.043488,
     "end_time": "2021-08-05T17:18:55.290708",
     "exception": false,
     "start_time": "2021-08-05T17:18:55.247220",
     "status": "completed"
    },
    "tags": []
   },
   "source": [
    "#### compute the FDR"
   ]
  },
  {
   "cell_type": "code",
   "execution_count": null,
   "id": "1a702c38",
   "metadata": {
    "papermill": {
     "duration": 0.049857,
     "end_time": "2021-08-05T17:18:55.382235",
     "exception": false,
     "start_time": "2021-08-05T17:18:55.332378",
     "status": "completed"
    },
    "tags": []
   },
   "outputs": [],
   "source": [
    "# add the corrected p-value, note just based on all chrom features pvalues    \n",
    "# just using B&H FDR from statsmodel is approx equivalent to Storey qvalue, tested\n",
    "# cis_df['bh_fdr'] = compute_fdr(cis_df['pval_beta'].fillna(1))\n",
    "cis_df['bh_fdr'] = compute_fdr(cis_df[use_for_fdr].fillna(1))\n",
    "\n",
    "# tensorQTL uses qvalue, but requires the R packages so use above BH FDR instead to approx\n",
    "# tensorqtl.calculate_qvalues(cis_df, qvalue_lambda=0.85)"
   ]
  },
  {
   "cell_type": "code",
   "execution_count": null,
   "id": "0a36a444",
   "metadata": {
    "papermill": {
     "duration": 0.060489,
     "end_time": "2021-08-05T17:18:55.483630",
     "exception": false,
     "start_time": "2021-08-05T17:18:55.423141",
     "status": "completed"
    },
    "tags": []
   },
   "outputs": [],
   "source": [
    "print(f'cis shape: {cis_df.shape}')\n",
    "if DEBUG:\n",
    "    display(cis_df.head())"
   ]
  },
  {
   "cell_type": "code",
   "execution_count": null,
   "id": "1c70530f",
   "metadata": {
    "papermill": {
     "duration": 0.053455,
     "end_time": "2021-08-05T17:18:55.580371",
     "exception": false,
     "start_time": "2021-08-05T17:18:55.526916",
     "status": "completed"
    },
    "tags": []
   },
   "outputs": [],
   "source": [
    "print(cis_df.loc[cis_df['pval_nominal'] <= min_nominal_alpha].index.nunique())\n",
    "print(cis_df.loc[cis_df['pval_perm'] <= alpha_value].index.unique().nunique())\n",
    "print(cis_df.loc[cis_df['pval_beta'] <= alpha_value].index.unique().nunique())\n",
    "sig_cnt = cis_df.loc[cis_df['bh_fdr'] <= alpha_value].index.unique().nunique()\n",
    "print(sig_cnt)\n",
    "# print(cis_df.loc[cis_df['qval'] <= alpha_value].index.unique().shape)().shape)"
   ]
  },
  {
   "cell_type": "markdown",
   "id": "6eb12248",
   "metadata": {
    "papermill": {
     "duration": 0.041608,
     "end_time": "2021-08-05T17:18:55.663837",
     "exception": false,
     "start_time": "2021-08-05T17:18:55.622229",
     "status": "completed"
    },
    "tags": []
   },
   "source": [
    "#### save cis map"
   ]
  },
  {
   "cell_type": "code",
   "execution_count": null,
   "id": "3c60bcb2",
   "metadata": {
    "papermill": {
     "duration": 0.190403,
     "end_time": "2021-08-05T17:18:55.897404",
     "exception": false,
     "start_time": "2021-08-05T17:18:55.707001",
     "status": "completed"
    },
    "tags": []
   },
   "outputs": [],
   "source": [
    "%%time\n",
    "cis_df.to_csv(cis_map_file)"
   ]
  },
  {
   "cell_type": "markdown",
   "id": "f96af4d2-4145-4ccc-95b6-6dbc51d10ae9",
   "metadata": {},
   "source": [
    "### map the loci independent signals"
   ]
  },
  {
   "cell_type": "code",
   "execution_count": null,
   "id": "f39d1ed9-892f-48fd-9c92-c06830073beb",
   "metadata": {},
   "outputs": [],
   "source": [
    "# use the B&H fdr instead of Storey qvalue\n",
    "if sig_cnt > 0:\n",
    "    indep_df = cis.map_independent(exogenous_df, exogenous_pos_df, cis_df, \n",
    "                                   endogenous_df, endogenous_pos_df, \n",
    "                                   covariates_df=covs_to_use, \n",
    "                                   fdr_col='bh_fdr', verbose=False, nperm=NPERM,\n",
    "                                   maf_threshold=MIN_MAF)\n",
    "else:\n",
    "    print('not running map independent as no significant results were present in cis')"
   ]
  },
  {
   "cell_type": "code",
   "execution_count": null,
   "id": "c485ab33-28c4-4439-a1f7-c424ef48a906",
   "metadata": {},
   "outputs": [],
   "source": [
    "if sig_cnt > 0:\n",
    "    print(indep_df.shape)\n",
    "    display(indep_df.head())\n",
    "    print(indep_df['phenotype_id'].nunique())\n",
    "    display(indep_df['rank'].value_counts())"
   ]
  },
  {
   "cell_type": "markdown",
   "id": "6f8938bd-b6e1-4249-952d-0e73671d8424",
   "metadata": {},
   "source": [
    "#### save the loci independent signals"
   ]
  },
  {
   "cell_type": "code",
   "execution_count": null,
   "id": "71f6be0c-3967-45f8-ae46-e4f1baac70bd",
   "metadata": {},
   "outputs": [],
   "source": [
    "if sig_cnt > 0:\n",
    "    indep_df.to_csv(cis_indep_file)"
   ]
  },
  {
   "cell_type": "code",
   "execution_count": null,
   "id": "71b7111e-8767-43d1-bf4f-353ee42a0bf4",
   "metadata": {},
   "outputs": [],
   "source": [
    "if sig_cnt > 0:\n",
    "    display(indep_df.loc[indep_df['pval_nominal'] == indep_df['pval_nominal'].min()])\n",
    "    display(indep_df.loc[indep_df['pval_nominal'] == indep_df['pval_nominal'].max()])"
   ]
  },
  {
   "cell_type": "code",
   "execution_count": null,
   "id": "bc4864cf",
   "metadata": {
    "papermill": {
     "duration": 0.041359,
     "end_time": "2021-08-05T17:18:56.780052",
     "exception": false,
     "start_time": "2021-08-05T17:18:56.738693",
     "status": "completed"
    },
    "tags": []
   },
   "outputs": [],
   "source": [
    "!date"
   ]
  }
 ],
 "metadata": {
  "environment": {
   "kernel": "python3",
   "name": "pytorch-gpu.1-11.m94",
   "type": "gcloud",
   "uri": "gcr.io/deeplearning-platform-release/pytorch-gpu.1-11:m94"
  },
  "kernelspec": {
   "display_name": "Python 3 (ipykernel)",
   "language": "python",
   "name": "python3"
  },
  "language_info": {
   "codemirror_mode": {
    "name": "ipython",
    "version": 3
   },
   "file_extension": ".py",
   "mimetype": "text/x-python",
   "name": "python",
   "nbconvert_exporter": "python",
   "pygments_lexer": "ipython3",
   "version": "3.9.15"
  },
  "papermill": {
   "default_parameters": {},
   "duration": 3028.877272,
   "end_time": "2021-08-05T17:18:59.528209",
   "environment_variables": {},
   "exception": null,
   "input_path": "/home/jupyter/notebooks/cell_cis_qtl_tensorqtl.ipynb",
   "output_path": "/home/jupyter/notebooks/foundin.da65.DA.cis_qtl.ipynb",
   "parameters": {
    "cell_type": "DA",
    "cohort": "foundin",
    "day": "da65",
    "quant_type": "scrn",
    "version": "amppdv1"
   },
   "start_time": "2021-08-05T16:28:30.650937",
   "version": "2.3.3"
  },
  "toc-autonumbering": false,
  "toc-showcode": false,
  "toc-showmarkdowntxt": false,
  "widgets": {
   "application/vnd.jupyter.widget-state+json": {
    "state": {},
    "version_major": 2,
    "version_minor": 0
   }
  }
 },
 "nbformat": 4,
 "nbformat_minor": 5
}
