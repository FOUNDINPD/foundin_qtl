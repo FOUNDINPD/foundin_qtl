{
 "cells": [
  {
   "cell_type": "markdown",
   "metadata": {},
   "source": [
    "## Notebook to run colocalization analysis between risk and QTL per differentiated cell-type and modality for the preliminary shared signals from the qtl_scan_risk analysis, run via papermill"
   ]
  },
  {
   "cell_type": "code",
   "execution_count": null,
   "metadata": {},
   "outputs": [],
   "source": [
    "!date"
   ]
  },
  {
   "cell_type": "markdown",
   "metadata": {},
   "source": [
    "#### import libraries"
   ]
  },
  {
   "cell_type": "code",
   "execution_count": null,
   "metadata": {},
   "outputs": [],
   "source": [
    "from papermill import execute_notebook"
   ]
  },
  {
   "cell_type": "code",
   "execution_count": null,
   "metadata": {},
   "outputs": [],
   "source": [
    "# directories\n",
    "home_dir = '/home/gibbsr/working/foundin/foundin_qtl/foundin_qtl/analyses'\n",
    "\n",
    "# base notebook to be run per tuple iteration\n",
    "base_notebook = f'{home_dir}/colocalization.ipynb'\n",
    "\n",
    "out_nb_dir = f'{home_dir}/pm_gend_nbs'\n",
    "\n",
    "# setup parameters to iterate\n",
    "iterations = [{'day': 'da0', 'modality': 'ATAC', 'num_qtl_samples': 91, \n",
    "               'file_type': 'tensorqtl'},\n",
    "              {'day': 'da25', 'modality': 'ATAC', 'num_qtl_samples': 91, \n",
    "               'file_type': 'tensorqtl'},\n",
    "              {'day': 'da65', 'modality': 'ATAC', 'num_qtl_samples': 91, \n",
    "               'file_type': 'tensorqtl'},\n",
    "              {'day': 'da0', 'modality': 'METH', 'num_qtl_samples': 92, \n",
    "               'file_type': 'tensorqtl'},\n",
    "              {'day': 'da65', 'modality': 'METH', 'num_qtl_samples': 79, \n",
    "               'file_type': 'tensorqtl'},\n",
    "              {'day': 'da0', 'modality': 'PDUI', 'num_qtl_samples': 94, \n",
    "               'file_type': 'tensorqtl'},\n",
    "              {'day': 'da25', 'modality': 'PDUI', 'num_qtl_samples': 93, \n",
    "               'file_type': 'tensorqtl'},\n",
    "              {'day': 'da65', 'modality': 'PDUI', 'num_qtl_samples': 91, \n",
    "               'file_type': 'tensorqtl'},              \n",
    "              {'day': 'da0', 'modality': 'RNAB', 'num_qtl_samples': 94, \n",
    "               'file_type': 'tensorqtl'},\n",
    "              {'day': 'da25', 'modality': 'RNAB', 'num_qtl_samples': 93, \n",
    "               'file_type': 'tensorqtl'},\n",
    "              {'day': 'da65', 'modality': 'RNAB', 'num_qtl_samples': 91, \n",
    "               'file_type': 'tensorqtl'},\n",
    "              {'day': 'da0', 'modality': 'RNAS', 'num_qtl_samples': 91, \n",
    "               'file_type': 'tensorqtl'},\n",
    "              {'day': 'da25', 'modality': 'RNAS', 'num_qtl_samples': 91, \n",
    "               'file_type': 'tensorqtl'},\n",
    "              {'day': 'da65', 'modality': 'RNAS', 'num_qtl_samples': 91, \n",
    "               'file_type': 'tensorqtl'},\n",
    "              {'day': 'da65', 'modality': 'SCRN-DA', 'num_qtl_samples': 79, \n",
    "               'file_type': 'tensorqtl'},\n",
    "              {'day': 'da65', 'modality': 'SCRN-ElC', 'num_qtl_samples': 79, \n",
    "               'file_type': 'tensorqtl'},\n",
    "              {'day': 'da65', 'modality': 'SCRN-eNP', 'num_qtl_samples': 79, \n",
    "               'file_type': 'tensorqtl'},\n",
    "              {'day': 'da65', 'modality': 'SCRN-iDA', 'num_qtl_samples': 79, \n",
    "               'file_type': 'tensorqtl'},\n",
    "              {'day': 'da65', 'modality': 'SCRN-lNP', 'num_qtl_samples': 79, \n",
    "               'file_type': 'tensorqtl'},\n",
    "              {'day': 'da65', 'modality': 'SCRN-NlC', 'num_qtl_samples': 79, \n",
    "               'file_type': 'tensorqtl'},\n",
    "              {'day': 'da65', 'modality': 'SCRN-PFPP', 'num_qtl_samples': 79, \n",
    "               'file_type': 'tensorqtl'}              \n",
    "              # {'day': 'daDA', 'modality': 'meta', 'num_qtl_samples': 0, \n",
    "              #  'file_type': 'metal+'},\n",
    "             ]"
   ]
  },
  {
   "cell_type": "markdown",
   "metadata": {},
   "source": [
    "#### iterate over the tuples running the notebook per tuple"
   ]
  },
  {
   "cell_type": "code",
   "execution_count": null,
   "metadata": {},
   "outputs": [],
   "source": [
    "%%time\n",
    "\n",
    "for iteration in iterations:\n",
    "    day = iteration.get('day')\n",
    "    modality = iteration.get('modality')\n",
    "    num_qtl_samples = iteration.get('num_qtl_samples')\n",
    "    file_type = iteration.get('file_type')\n",
    "    # before running prep notebook make results exist for the cohort and visit\n",
    "    param_dict = {'day': day, 'modality': modality, \n",
    "                  'num_qtl_samples': num_qtl_samples, 'file_type': file_type}\n",
    "    out_notebook = f'{out_nb_dir}/{day}_{modality}.coloc.ipynb'\n",
    "    print(param_dict)\n",
    "    print(out_notebook)\n",
    "    try:\n",
    "        execute_notebook(input_path=base_notebook, output_path=out_notebook, \n",
    "                         parameters=param_dict)\n",
    "    except:\n",
    "        print(f'{day} {modality} encountered an error continuing on next')                "
   ]
  },
  {
   "cell_type": "code",
   "execution_count": null,
   "metadata": {},
   "outputs": [],
   "source": [
    "!date"
   ]
  }
 ],
 "metadata": {
  "environment": {
   "kernel": "python3",
   "name": "pytorch-gpu.1-11.m94",
   "type": "gcloud",
   "uri": "gcr.io/deeplearning-platform-release/pytorch-gpu.1-11:m94"
  },
  "kernelspec": {
   "display_name": "Python 3 (ipykernel)",
   "language": "python",
   "name": "python3"
  },
  "language_info": {
   "codemirror_mode": {
    "name": "ipython",
    "version": 3
   },
   "file_extension": ".py",
   "mimetype": "text/x-python",
   "name": "python",
   "nbconvert_exporter": "python",
   "pygments_lexer": "ipython3",
   "version": "3.9.15"
  },
  "widgets": {
   "application/vnd.jupyter.widget-state+json": {
    "state": {
     "01914e7d1c394460b9ec96db576c2709": {
      "model_module": "@jupyter-widgets/controls",
      "model_module_version": "1.5.0",
      "model_name": "ProgressStyleModel",
      "state": {
       "description_width": ""
      }
     },
     "01b858a1fb574ddc9837b6692e0a4973": {
      "model_module": "@jupyter-widgets/base",
      "model_module_version": "1.2.0",
      "model_name": "LayoutModel",
      "state": {}
     },
     "058773a963434eee91edaecef0134fed": {
      "model_module": "@jupyter-widgets/controls",
      "model_module_version": "1.5.0",
      "model_name": "HBoxModel",
      "state": {
       "children": [
        "IPY_MODEL_65c9aa3b899b4b989b49b925dfa049e2",
        "IPY_MODEL_0c436e22cac946b2a960316f31e70674",
        "IPY_MODEL_56b523230eca4baf9458e04ee48c8cd9"
       ],
       "layout": "IPY_MODEL_8907121ba44942a284671698a9c9bd38"
      }
     },
     "082e2f31b9b7421994f963b6ed371b24": {
      "model_module": "@jupyter-widgets/controls",
      "model_module_version": "1.5.0",
      "model_name": "HTMLModel",
      "state": {
       "layout": "IPY_MODEL_e34bfc4e50094a028e117ab33334dfe7",
       "style": "IPY_MODEL_c250ff2e233e4f00963169e765e64e23",
       "value": " 44/44 [05:44&lt;00:00,  1.05cell/s]"
      }
     },
     "0c436e22cac946b2a960316f31e70674": {
      "model_module": "@jupyter-widgets/controls",
      "model_module_version": "1.5.0",
      "model_name": "FloatProgressModel",
      "state": {
       "bar_style": "success",
       "layout": "IPY_MODEL_a07cbe39eb6b4433aa9efd3c1c4c1cf4",
       "max": 44,
       "style": "IPY_MODEL_01914e7d1c394460b9ec96db576c2709",
       "value": 44
      }
     },
     "0ce1263e96f04e9bbee00bb8ebfd0871": {
      "model_module": "@jupyter-widgets/controls",
      "model_module_version": "1.5.0",
      "model_name": "ProgressStyleModel",
      "state": {
       "description_width": ""
      }
     },
     "12121d87e7cc4a6d99c711533334a638": {
      "model_module": "@jupyter-widgets/base",
      "model_module_version": "1.2.0",
      "model_name": "LayoutModel",
      "state": {}
     },
     "24f4f1a7a98044318210bb876d285fc8": {
      "model_module": "@jupyter-widgets/base",
      "model_module_version": "1.2.0",
      "model_name": "LayoutModel",
      "state": {}
     },
     "2a2051975d5c45f0ac15ffb9fb6a0e8e": {
      "model_module": "@jupyter-widgets/base",
      "model_module_version": "1.2.0",
      "model_name": "LayoutModel",
      "state": {}
     },
     "2f64ef61420c407c8b11734b03d3ed76": {
      "model_module": "@jupyter-widgets/base",
      "model_module_version": "1.2.0",
      "model_name": "LayoutModel",
      "state": {}
     },
     "321a9a8716ef4e11bdaf05cb9fa29956": {
      "model_module": "@jupyter-widgets/controls",
      "model_module_version": "1.5.0",
      "model_name": "HTMLModel",
      "state": {
       "layout": "IPY_MODEL_a275e08b68664081bcd39eaf87f0505e",
       "style": "IPY_MODEL_a6853f5b1d234a0d973b506dc10e0cf4",
       "value": "Executing: 100%"
      }
     },
     "38acd05e599a4c649e8519eaa28e5a59": {
      "model_module": "@jupyter-widgets/base",
      "model_module_version": "1.2.0",
      "model_name": "LayoutModel",
      "state": {}
     },
     "3e44991a858545618fac7f41a4ac1197": {
      "model_module": "@jupyter-widgets/controls",
      "model_module_version": "1.5.0",
      "model_name": "HTMLModel",
      "state": {
       "layout": "IPY_MODEL_faf0436dea7847fca9f081e4f6eaa4be",
       "style": "IPY_MODEL_b028a0d34a0043818aaf89dfb3f37bde",
       "value": " 28/44 [06:07&lt;09:48, 36.76s/cell]"
      }
     },
     "46756cbb30b14f7ab685e854b57bfcb7": {
      "model_module": "@jupyter-widgets/controls",
      "model_module_version": "1.5.0",
      "model_name": "HBoxModel",
      "state": {
       "children": [
        "IPY_MODEL_321a9a8716ef4e11bdaf05cb9fa29956",
        "IPY_MODEL_722067cbc1104c5a8f8f024d1b34153d",
        "IPY_MODEL_6653eed92e1940a38aaa0c1f54bc80a9"
       ],
       "layout": "IPY_MODEL_5b2134148ecc41b8b05915e50232cb15"
      }
     },
     "4a4b62c44428459db18c79acc3000fad": {
      "model_module": "@jupyter-widgets/base",
      "model_module_version": "1.2.0",
      "model_name": "LayoutModel",
      "state": {}
     },
     "4ead817bfff0429c98ce4fe548e50e73": {
      "model_module": "@jupyter-widgets/controls",
      "model_module_version": "1.5.0",
      "model_name": "DescriptionStyleModel",
      "state": {
       "description_width": ""
      }
     },
     "50cd50b5988840009a7297e0892f30f1": {
      "model_module": "@jupyter-widgets/controls",
      "model_module_version": "1.5.0",
      "model_name": "ProgressStyleModel",
      "state": {
       "description_width": ""
      }
     },
     "513a8de183654c8f8e98faf1dca7e4ef": {
      "model_module": "@jupyter-widgets/controls",
      "model_module_version": "1.5.0",
      "model_name": "FloatProgressModel",
      "state": {
       "bar_style": "success",
       "layout": "IPY_MODEL_c0b711895cb8476e83e54a594bcf5934",
       "max": 44,
       "style": "IPY_MODEL_50cd50b5988840009a7297e0892f30f1",
       "value": 44
      }
     },
     "53984bcdc9a548a584a9cbb8eaeba7c8": {
      "model_module": "@jupyter-widgets/base",
      "model_module_version": "1.2.0",
      "model_name": "LayoutModel",
      "state": {}
     },
     "557a9584282c4457acb044fd8c80b854": {
      "model_module": "@jupyter-widgets/controls",
      "model_module_version": "1.5.0",
      "model_name": "DescriptionStyleModel",
      "state": {
       "description_width": ""
      }
     },
     "56b523230eca4baf9458e04ee48c8cd9": {
      "model_module": "@jupyter-widgets/controls",
      "model_module_version": "1.5.0",
      "model_name": "HTMLModel",
      "state": {
       "layout": "IPY_MODEL_d2d2d40296bb4b7a88e3c72cf48ccad3",
       "style": "IPY_MODEL_8c9f1aeb14a44120bd39004720372d44",
       "value": " 44/44 [04:59&lt;00:00,  1.19cell/s]"
      }
     },
     "5b2134148ecc41b8b05915e50232cb15": {
      "model_module": "@jupyter-widgets/base",
      "model_module_version": "1.2.0",
      "model_name": "LayoutModel",
      "state": {}
     },
     "5f88896df5c140799dcd2360f877d57f": {
      "model_module": "@jupyter-widgets/base",
      "model_module_version": "1.2.0",
      "model_name": "LayoutModel",
      "state": {}
     },
     "601201c4296149809fa81fc64cf2ea23": {
      "model_module": "@jupyter-widgets/controls",
      "model_module_version": "1.5.0",
      "model_name": "HBoxModel",
      "state": {
       "children": [
        "IPY_MODEL_e44cc7a4b29f42b39dd05789620880d1",
        "IPY_MODEL_6e3853a64fa047258c383d5e3503f785",
        "IPY_MODEL_98277b0a13e44dd59e5784ddff472d42"
       ],
       "layout": "IPY_MODEL_ff0be137d6f3400481fcd6b9d100403c"
      }
     },
     "61563a3b0d95460da88c89de0ae586dd": {
      "model_module": "@jupyter-widgets/controls",
      "model_module_version": "1.5.0",
      "model_name": "HBoxModel",
      "state": {
       "children": [
        "IPY_MODEL_6208d8b8ef134c34b5737c32ee567d9f",
        "IPY_MODEL_8155addac4ae439caac00e5a5426ec3b",
        "IPY_MODEL_3e44991a858545618fac7f41a4ac1197"
       ],
       "layout": "IPY_MODEL_4a4b62c44428459db18c79acc3000fad"
      }
     },
     "616bb244fb8c44cc970da5381b27b071": {
      "model_module": "@jupyter-widgets/base",
      "model_module_version": "1.2.0",
      "model_name": "LayoutModel",
      "state": {}
     },
     "6208055f94784725a3ba21c367ad2717": {
      "model_module": "@jupyter-widgets/controls",
      "model_module_version": "1.5.0",
      "model_name": "DescriptionStyleModel",
      "state": {
       "description_width": ""
      }
     },
     "6208d8b8ef134c34b5737c32ee567d9f": {
      "model_module": "@jupyter-widgets/controls",
      "model_module_version": "1.5.0",
      "model_name": "HTMLModel",
      "state": {
       "layout": "IPY_MODEL_24f4f1a7a98044318210bb876d285fc8",
       "style": "IPY_MODEL_4ead817bfff0429c98ce4fe548e50e73",
       "value": "Executing:  64%"
      }
     },
     "63647029b24f4ac1b35f6b3c422267ac": {
      "model_module": "@jupyter-widgets/controls",
      "model_module_version": "1.5.0",
      "model_name": "DescriptionStyleModel",
      "state": {
       "description_width": ""
      }
     },
     "65c9aa3b899b4b989b49b925dfa049e2": {
      "model_module": "@jupyter-widgets/controls",
      "model_module_version": "1.5.0",
      "model_name": "HTMLModel",
      "state": {
       "layout": "IPY_MODEL_b33024a4e2014c3c80ddfe8b59efe8bf",
       "style": "IPY_MODEL_681bde7369564c388c335e3462ae4bb4",
       "value": "Executing: 100%"
      }
     },
     "6653eed92e1940a38aaa0c1f54bc80a9": {
      "model_module": "@jupyter-widgets/controls",
      "model_module_version": "1.5.0",
      "model_name": "HTMLModel",
      "state": {
       "layout": "IPY_MODEL_38acd05e599a4c649e8519eaa28e5a59",
       "style": "IPY_MODEL_ada6588248d44118945f3c709554bc97",
       "value": " 44/44 [06:10&lt;00:00,  1.41s/cell]"
      }
     },
     "681bde7369564c388c335e3462ae4bb4": {
      "model_module": "@jupyter-widgets/controls",
      "model_module_version": "1.5.0",
      "model_name": "DescriptionStyleModel",
      "state": {
       "description_width": ""
      }
     },
     "6b009b85d4df41658b4e5e62bddffaf7": {
      "model_module": "@jupyter-widgets/controls",
      "model_module_version": "1.5.0",
      "model_name": "DescriptionStyleModel",
      "state": {
       "description_width": ""
      }
     },
     "6e3853a64fa047258c383d5e3503f785": {
      "model_module": "@jupyter-widgets/controls",
      "model_module_version": "1.5.0",
      "model_name": "FloatProgressModel",
      "state": {
       "bar_style": "success",
       "layout": "IPY_MODEL_f7547ac1020140bf921982e695fc56b6",
       "max": 44,
       "style": "IPY_MODEL_0ce1263e96f04e9bbee00bb8ebfd0871",
       "value": 44
      }
     },
     "722067cbc1104c5a8f8f024d1b34153d": {
      "model_module": "@jupyter-widgets/controls",
      "model_module_version": "1.5.0",
      "model_name": "FloatProgressModel",
      "state": {
       "bar_style": "success",
       "layout": "IPY_MODEL_5f88896df5c140799dcd2360f877d57f",
       "max": 44,
       "style": "IPY_MODEL_cd27a41f04c247f0bce753d3b49b0c76",
       "value": 44
      }
     },
     "7a894aea7f254b429a572984adfc2829": {
      "model_module": "@jupyter-widgets/controls",
      "model_module_version": "1.5.0",
      "model_name": "HTMLModel",
      "state": {
       "layout": "IPY_MODEL_616bb244fb8c44cc970da5381b27b071",
       "style": "IPY_MODEL_d2da0ae08ace4e5e81e011afd47b575e",
       "value": "Executing: 100%"
      }
     },
     "8155addac4ae439caac00e5a5426ec3b": {
      "model_module": "@jupyter-widgets/controls",
      "model_module_version": "1.5.0",
      "model_name": "FloatProgressModel",
      "state": {
       "bar_style": "danger",
       "layout": "IPY_MODEL_12121d87e7cc4a6d99c711533334a638",
       "max": 44,
       "style": "IPY_MODEL_8c17d063c722452fb5860c8a36a3266b",
       "value": 28
      }
     },
     "85401ff08717421fabd0e6ca464eafdd": {
      "model_module": "@jupyter-widgets/controls",
      "model_module_version": "1.5.0",
      "model_name": "HTMLModel",
      "state": {
       "layout": "IPY_MODEL_01b858a1fb574ddc9837b6692e0a4973",
       "style": "IPY_MODEL_c8729318ce524e82b031f936c0cef256",
       "value": "Executing: 100%"
      }
     },
     "8907121ba44942a284671698a9c9bd38": {
      "model_module": "@jupyter-widgets/base",
      "model_module_version": "1.2.0",
      "model_name": "LayoutModel",
      "state": {}
     },
     "8c17d063c722452fb5860c8a36a3266b": {
      "model_module": "@jupyter-widgets/controls",
      "model_module_version": "1.5.0",
      "model_name": "ProgressStyleModel",
      "state": {
       "description_width": ""
      }
     },
     "8c9f1aeb14a44120bd39004720372d44": {
      "model_module": "@jupyter-widgets/controls",
      "model_module_version": "1.5.0",
      "model_name": "DescriptionStyleModel",
      "state": {
       "description_width": ""
      }
     },
     "921c5146a2f44f61bfb572fc94032d35": {
      "model_module": "@jupyter-widgets/base",
      "model_module_version": "1.2.0",
      "model_name": "LayoutModel",
      "state": {}
     },
     "98277b0a13e44dd59e5784ddff472d42": {
      "model_module": "@jupyter-widgets/controls",
      "model_module_version": "1.5.0",
      "model_name": "HTMLModel",
      "state": {
       "layout": "IPY_MODEL_e8f7925f2af74064ab6a5706a07baef5",
       "style": "IPY_MODEL_6b009b85d4df41658b4e5e62bddffaf7",
       "value": " 44/44 [06:12&lt;00:00,  1.76s/cell]"
      }
     },
     "9f2e65898eaa4a38b27e5bf582c63f21": {
      "model_module": "@jupyter-widgets/controls",
      "model_module_version": "1.5.0",
      "model_name": "HBoxModel",
      "state": {
       "children": [
        "IPY_MODEL_f32d617a8d694b58a2122f0da0b4a712",
        "IPY_MODEL_d9650ce9954b49dc8fa1ff049c40b7a0",
        "IPY_MODEL_e411bc8365c5476ea0b155cde05b1f3c"
       ],
       "layout": "IPY_MODEL_c1b6da2d44c54cb18bffb43c91b06f4e"
      }
     },
     "a07cbe39eb6b4433aa9efd3c1c4c1cf4": {
      "model_module": "@jupyter-widgets/base",
      "model_module_version": "1.2.0",
      "model_name": "LayoutModel",
      "state": {}
     },
     "a275e08b68664081bcd39eaf87f0505e": {
      "model_module": "@jupyter-widgets/base",
      "model_module_version": "1.2.0",
      "model_name": "LayoutModel",
      "state": {}
     },
     "a50eb980eebc45fe8730b3b2ae96d5bc": {
      "model_module": "@jupyter-widgets/controls",
      "model_module_version": "1.5.0",
      "model_name": "ProgressStyleModel",
      "state": {
       "description_width": ""
      }
     },
     "a6853f5b1d234a0d973b506dc10e0cf4": {
      "model_module": "@jupyter-widgets/controls",
      "model_module_version": "1.5.0",
      "model_name": "DescriptionStyleModel",
      "state": {
       "description_width": ""
      }
     },
     "ada6588248d44118945f3c709554bc97": {
      "model_module": "@jupyter-widgets/controls",
      "model_module_version": "1.5.0",
      "model_name": "DescriptionStyleModel",
      "state": {
       "description_width": ""
      }
     },
     "ade2d667f2fc480f9ffdc0e46114e115": {
      "model_module": "@jupyter-widgets/base",
      "model_module_version": "1.2.0",
      "model_name": "LayoutModel",
      "state": {}
     },
     "adf69035e837455a977df375a77430cd": {
      "model_module": "@jupyter-widgets/base",
      "model_module_version": "1.2.0",
      "model_name": "LayoutModel",
      "state": {}
     },
     "b028a0d34a0043818aaf89dfb3f37bde": {
      "model_module": "@jupyter-widgets/controls",
      "model_module_version": "1.5.0",
      "model_name": "DescriptionStyleModel",
      "state": {
       "description_width": ""
      }
     },
     "b33024a4e2014c3c80ddfe8b59efe8bf": {
      "model_module": "@jupyter-widgets/base",
      "model_module_version": "1.2.0",
      "model_name": "LayoutModel",
      "state": {}
     },
     "b36cad8823534743afea2e3052025654": {
      "model_module": "@jupyter-widgets/base",
      "model_module_version": "1.2.0",
      "model_name": "LayoutModel",
      "state": {}
     },
     "c0b711895cb8476e83e54a594bcf5934": {
      "model_module": "@jupyter-widgets/base",
      "model_module_version": "1.2.0",
      "model_name": "LayoutModel",
      "state": {}
     },
     "c1b6da2d44c54cb18bffb43c91b06f4e": {
      "model_module": "@jupyter-widgets/base",
      "model_module_version": "1.2.0",
      "model_name": "LayoutModel",
      "state": {}
     },
     "c250ff2e233e4f00963169e765e64e23": {
      "model_module": "@jupyter-widgets/controls",
      "model_module_version": "1.5.0",
      "model_name": "DescriptionStyleModel",
      "state": {
       "description_width": ""
      }
     },
     "c8729318ce524e82b031f936c0cef256": {
      "model_module": "@jupyter-widgets/controls",
      "model_module_version": "1.5.0",
      "model_name": "DescriptionStyleModel",
      "state": {
       "description_width": ""
      }
     },
     "cd27a41f04c247f0bce753d3b49b0c76": {
      "model_module": "@jupyter-widgets/controls",
      "model_module_version": "1.5.0",
      "model_name": "ProgressStyleModel",
      "state": {
       "description_width": ""
      }
     },
     "d0eb262279844abb94d489c20cffa123": {
      "model_module": "@jupyter-widgets/controls",
      "model_module_version": "1.5.0",
      "model_name": "HBoxModel",
      "state": {
       "children": [
        "IPY_MODEL_7a894aea7f254b429a572984adfc2829",
        "IPY_MODEL_fc7ce98a9f774f3d89b96848b8f24d7c",
        "IPY_MODEL_f99cdbbc83fe47deb3f191cc795eb374"
       ],
       "layout": "IPY_MODEL_2a2051975d5c45f0ac15ffb9fb6a0e8e"
      }
     },
     "d2d2d40296bb4b7a88e3c72cf48ccad3": {
      "model_module": "@jupyter-widgets/base",
      "model_module_version": "1.2.0",
      "model_name": "LayoutModel",
      "state": {}
     },
     "d2da0ae08ace4e5e81e011afd47b575e": {
      "model_module": "@jupyter-widgets/controls",
      "model_module_version": "1.5.0",
      "model_name": "DescriptionStyleModel",
      "state": {
       "description_width": ""
      }
     },
     "d9650ce9954b49dc8fa1ff049c40b7a0": {
      "model_module": "@jupyter-widgets/controls",
      "model_module_version": "1.5.0",
      "model_name": "FloatProgressModel",
      "state": {
       "bar_style": "success",
       "layout": "IPY_MODEL_da9774766f6b45b0966778a7aa42794a",
       "max": 44,
       "style": "IPY_MODEL_a50eb980eebc45fe8730b3b2ae96d5bc",
       "value": 44
      }
     },
     "d9da550053c2401a9c0b0f147969e55f": {
      "model_module": "@jupyter-widgets/controls",
      "model_module_version": "1.5.0",
      "model_name": "HBoxModel",
      "state": {
       "children": [
        "IPY_MODEL_85401ff08717421fabd0e6ca464eafdd",
        "IPY_MODEL_513a8de183654c8f8e98faf1dca7e4ef",
        "IPY_MODEL_082e2f31b9b7421994f963b6ed371b24"
       ],
       "layout": "IPY_MODEL_2f64ef61420c407c8b11734b03d3ed76"
      }
     },
     "da9774766f6b45b0966778a7aa42794a": {
      "model_module": "@jupyter-widgets/base",
      "model_module_version": "1.2.0",
      "model_name": "LayoutModel",
      "state": {}
     },
     "e34bfc4e50094a028e117ab33334dfe7": {
      "model_module": "@jupyter-widgets/base",
      "model_module_version": "1.2.0",
      "model_name": "LayoutModel",
      "state": {}
     },
     "e411bc8365c5476ea0b155cde05b1f3c": {
      "model_module": "@jupyter-widgets/controls",
      "model_module_version": "1.5.0",
      "model_name": "HTMLModel",
      "state": {
       "layout": "IPY_MODEL_adf69035e837455a977df375a77430cd",
       "style": "IPY_MODEL_63647029b24f4ac1b35f6b3c422267ac",
       "value": " 44/44 [06:41&lt;00:00,  1.52s/cell]"
      }
     },
     "e44cc7a4b29f42b39dd05789620880d1": {
      "model_module": "@jupyter-widgets/controls",
      "model_module_version": "1.5.0",
      "model_name": "HTMLModel",
      "state": {
       "layout": "IPY_MODEL_921c5146a2f44f61bfb572fc94032d35",
       "style": "IPY_MODEL_f28c193d76d94848a85a2de0a5a568c8",
       "value": "Executing: 100%"
      }
     },
     "e8f7925f2af74064ab6a5706a07baef5": {
      "model_module": "@jupyter-widgets/base",
      "model_module_version": "1.2.0",
      "model_name": "LayoutModel",
      "state": {}
     },
     "f28c193d76d94848a85a2de0a5a568c8": {
      "model_module": "@jupyter-widgets/controls",
      "model_module_version": "1.5.0",
      "model_name": "DescriptionStyleModel",
      "state": {
       "description_width": ""
      }
     },
     "f32d617a8d694b58a2122f0da0b4a712": {
      "model_module": "@jupyter-widgets/controls",
      "model_module_version": "1.5.0",
      "model_name": "HTMLModel",
      "state": {
       "layout": "IPY_MODEL_53984bcdc9a548a584a9cbb8eaeba7c8",
       "style": "IPY_MODEL_557a9584282c4457acb044fd8c80b854",
       "value": "Executing: 100%"
      }
     },
     "f7547ac1020140bf921982e695fc56b6": {
      "model_module": "@jupyter-widgets/base",
      "model_module_version": "1.2.0",
      "model_name": "LayoutModel",
      "state": {}
     },
     "f99cdbbc83fe47deb3f191cc795eb374": {
      "model_module": "@jupyter-widgets/controls",
      "model_module_version": "1.5.0",
      "model_name": "HTMLModel",
      "state": {
       "layout": "IPY_MODEL_b36cad8823534743afea2e3052025654",
       "style": "IPY_MODEL_6208055f94784725a3ba21c367ad2717",
       "value": " 44/44 [05:10&lt;00:00,  1.16cell/s]"
      }
     },
     "faf0436dea7847fca9f081e4f6eaa4be": {
      "model_module": "@jupyter-widgets/base",
      "model_module_version": "1.2.0",
      "model_name": "LayoutModel",
      "state": {}
     },
     "fc7ce98a9f774f3d89b96848b8f24d7c": {
      "model_module": "@jupyter-widgets/controls",
      "model_module_version": "1.5.0",
      "model_name": "FloatProgressModel",
      "state": {
       "bar_style": "success",
       "layout": "IPY_MODEL_ade2d667f2fc480f9ffdc0e46114e115",
       "max": 44,
       "style": "IPY_MODEL_febffb7e52cb4a6aaca4d6615a8af225",
       "value": 44
      }
     },
     "febffb7e52cb4a6aaca4d6615a8af225": {
      "model_module": "@jupyter-widgets/controls",
      "model_module_version": "1.5.0",
      "model_name": "ProgressStyleModel",
      "state": {
       "description_width": ""
      }
     },
     "ff0be137d6f3400481fcd6b9d100403c": {
      "model_module": "@jupyter-widgets/base",
      "model_module_version": "1.2.0",
      "model_name": "LayoutModel",
      "state": {}
     }
    },
    "version_major": 2,
    "version_minor": 0
   }
  }
 },
 "nbformat": 4,
 "nbformat_minor": 4
}
