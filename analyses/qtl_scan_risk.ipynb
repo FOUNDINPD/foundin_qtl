{
 "cells": [
  {
   "cell_type": "markdown",
   "metadata": {},
   "source": [
    "## Notebook to scan PD risk and QTL results for intersection"
   ]
  },
  {
   "cell_type": "code",
   "execution_count": null,
   "metadata": {},
   "outputs": [],
   "source": [
    "!date"
   ]
  },
  {
   "cell_type": "markdown",
   "metadata": {},
   "source": [
    "#### import libraries"
   ]
  },
  {
   "cell_type": "code",
   "execution_count": null,
   "metadata": {},
   "outputs": [],
   "source": [
    "from pandas import read_csv, DataFrame, read_parquet, concat\n",
    "import numpy as np\n",
    "from os import sched_getaffinity\n",
    "import statsmodels.api as sm\n",
    "import statsmodels.formula.api as smf\n",
    "import concurrent.futures\n",
    "from seaborn import lmplot, relplot\n",
    "import matplotlib.pyplot as plt\n",
    "from matplotlib.pyplot import rc_context\n",
    "from random import choice\n",
    "\n",
    "%matplotlib inline\n",
    "# for white background of figures (only for docs rendering)\n",
    "%config InlineBackend.print_figure_kwargs={'facecolor' : \"w\"}\n",
    "%config InlineBackend.figure_format='retina'"
   ]
  },
  {
   "cell_type": "markdown",
   "metadata": {},
   "source": [
    "#### set notebook variables"
   ]
  },
  {
   "cell_type": "code",
   "execution_count": null,
   "metadata": {
    "tags": [
     "parameters"
    ]
   },
   "outputs": [],
   "source": [
    "# parameters\n",
    "day = ''\n",
    "modality = ''"
   ]
  },
  {
   "cell_type": "code",
   "execution_count": null,
   "metadata": {},
   "outputs": [],
   "source": [
    "# naming\n",
    "cohort = 'foundin'\n",
    "set_name = f'{cohort}_{day}_{modality}'\n",
    "dx = 'PD'\n",
    "\n",
    "# directories\n",
    "wrk_dir = '/home/jupyter/foundin_qtl'\n",
    "results_dir = f'{wrk_dir}/results'\n",
    "tensorqtl_dir = f'{wrk_dir}/tensorqtl'\n",
    "public_dir = f'{wrk_dir}/public'\n",
    "\n",
    "# input files\n",
    "qtl_results_file = f'{tensorqtl_dir}/{set_name}.cis.map.csv'\n",
    "# with agreement in place use full summary stats\n",
    "# gwas_sum_stats_file = f'{public_dir}/nalls_pd_gwas/pd_sumstats_no23andme_buildGRCh38.tsv.gz'\n",
    "gwas_sum_stats_file = f'{public_dir}/nalls_pd_gwas/pd_sumstats_23andme_buildGRCh38.tsv.gz'\n",
    "index_variants_file = f'{public_dir}/nalls_pd_gwas/index_variants.list'    \n",
    "\n",
    "# output files\n",
    "shared_out_file = f'{results_dir}/{set_name}_{dx}.prelim_shared.cis.csv'\n",
    "\n",
    "# constant values\n",
    "alpha_value = 0.05\n",
    "cpu_count = len(sched_getaffinity(0))\n",
    "DEBUG = False\n",
    "linear_check = False"
   ]
  },
  {
   "cell_type": "markdown",
   "metadata": {},
   "source": [
    "#### analysis functions"
   ]
  },
  {
   "cell_type": "code",
   "execution_count": null,
   "metadata": {},
   "outputs": [],
   "source": [
    "# functions to run the linear regression\n",
    "def reg_model(y, x):\n",
    "    Xb = sm.add_constant(x)\n",
    "    model = sm.OLS(y, Xb).fit()\n",
    "    return model\n",
    "\n",
    "def regress_scores_keep(this_df, verbose=False):\n",
    "    ret_value = False\n",
    "    # run the regression, mixed effects model with day as random effect\n",
    "    this_formula = 'gwas_score_abs ~ qtl_score_abs'\n",
    "    result = smf.ols(this_formula, data=this_df).fit()\n",
    "#     result = reg_model(this_df['gwas_score_abs'], this_df['qtl_score_abs'])\n",
    "    if verbose:\n",
    "        print(result.summary())\n",
    "    term = 'qtl_score_abs'\n",
    "    return [result.params[term], result.bse[term], result.rsquared_adj,\n",
    "            result.params.shape[0], result.pvalues[term]]\n",
    "\n",
    "def create_merged_df_to_regress(qtl_df, pheno_id, gwas_df):\n",
    "    pheno_df = qtl_df.loc[qtl_df['phenotype_id'] == pheno_id]\n",
    "    merged_df = pheno_df.merge(gwas_df, how='inner', \n",
    "                               left_on='variant_id', right_on='variant_id')\n",
    "    # will test regression on absolute score instead of say p-value\n",
    "    merged_df['gwas_score_abs'] = np.abs(merged_df['beta']/merged_df['standard_error'])\n",
    "    merged_df['qtl_score_abs'] = np.abs(merged_df['slope']/merged_df['slope_se'])\n",
    "\n",
    "    # for regression will only consider variants that are nominally\n",
    "    # significant in gwas or qtl\n",
    "    # df_to_return = merged_df.loc[(merged_df['pval_nominal'] < alpha_value) | \n",
    "    #                              (merged_df['p_value'] < alpha_value)]\n",
    "    #     print(pheno_df.shape, merged_df.shape, alpha_df.shape)\n",
    "    df_to_return = merged_df\n",
    "    return df_to_return\n",
    "\n",
    "def load_chrom_result(chrom, in_dir, name, variants: list):\n",
    "    # have to do pass to find all phenos to possible capture\n",
    "    df_to_return = None\n",
    "    phenos_oi = []\n",
    "    chrom_file = f'{in_dir}/{name}.cis_qtl_pairs.chr{chrom}.parquet'\n",
    "    chrom_qtl_df = read_parquet(chrom_file)\n",
    "    oi_chrom_qtl_df = chrom_qtl_df.loc[chrom_qtl_df['pval_nominal'] < max_pvalue]\n",
    "    oi_results = oi_chrom_qtl_df.loc[oi_chrom_qtl_df['variant_id'].isin(variants)]\n",
    "    phenos_oi = phenos_oi + list(oi_results['phenotype_id'].unique())\n",
    "\n",
    "    # do pass to keep results that belong those phenos\n",
    "    possible_results_oi = chrom_qtl_df.loc[chrom_qtl_df['phenotype_id'].isin(phenos_oi)].copy()\n",
    "    df_to_return = concat([df_to_return, possible_results_oi])\n",
    "    return phenos_oi, df_to_return\n",
    "\n",
    "def load_chrom_index_results(chrom: str, in_dir: str, name: str, variants: list):\n",
    "    _, ret_df = load_chrom_result(chrom, in_dir, name, variants)\n",
    "    ret_df['chromosome'] = chrom\n",
    "    return ret_df\n",
    "\n",
    "def process_regression_check(chrom: str, in_dir: str, name: str, \n",
    "                             gwas_df: DataFrame, \n",
    "                             variants: list) -> DataFrame:\n",
    "    ret_shared = None\n",
    "    phenos_oi, results_to_test = load_chrom_result(chrom, in_dir, name, variants)\n",
    "    print(f'chr {chrom} shape {results_to_test.shape}')\n",
    "    # display(results_to_test.sample(5))\n",
    "\n",
    "    # test the GWAS~QTL regression for possible significance\n",
    "    for phenotype_id in phenos_oi:\n",
    "        alpha_df = create_merged_df_to_regress(results_to_test, phenotype_id, gwas_df)\n",
    "        \n",
    "        # ['coef', 'stderr', 'r2adj', term_cnt', 'p-value']\n",
    "        ret_sharing = regress_scores_keep(alpha_df)\n",
    "        # must have postive coefficient and nomically significant p-value\n",
    "        if ret_sharing[0] > 0 and ret_sharing[4] < alpha_value:\n",
    "            ret_shared = concat([ret_shared, alpha_df])\n",
    "        else:\n",
    "            # pull just the merged signals for the index variants\n",
    "            merged_index_vars = alpha_df.loc[alpha_df.variant_id.isin(variants)]\n",
    "            ret_shared = concat([ret_shared, merged_index_vars])\n",
    "            \n",
    "    return ret_shared"
   ]
  },
  {
   "cell_type": "markdown",
   "metadata": {},
   "source": [
    "### load the input data"
   ]
  },
  {
   "cell_type": "markdown",
   "metadata": {},
   "source": [
    "#### load the risk variants of interest"
   ]
  },
  {
   "cell_type": "code",
   "execution_count": null,
   "metadata": {},
   "outputs": [],
   "source": [
    "%%time\n",
    "variants_oi_df = read_csv(index_variants_file)\n",
    "print(variants_oi_df.shape)\n",
    "index_variants = list(variants_oi_df.variant.unique())\n",
    "if DEBUG:\n",
    "    display(variants_oi_df.head())\n",
    "    print(index_variants)\n",
    " "
   ]
  },
  {
   "cell_type": "markdown",
   "metadata": {
    "papermill": {
     "duration": 0.011883,
     "end_time": "2021-06-24T22:33:59.038114",
     "exception": false,
     "start_time": "2021-06-24T22:33:59.026231",
     "status": "completed"
    },
    "tags": []
   },
   "source": [
    "#### load the full gwas summary stats"
   ]
  },
  {
   "cell_type": "code",
   "execution_count": null,
   "metadata": {
    "papermill": {
     "duration": 27.839467,
     "end_time": "2021-06-24T22:34:26.888216",
     "exception": false,
     "start_time": "2021-06-24T22:33:59.048749",
     "status": "completed"
    },
    "tags": []
   },
   "outputs": [],
   "source": [
    "%%time\n",
    "gwas_stats_df = read_csv(gwas_sum_stats_file, sep='\\t')\n",
    "print(gwas_stats_df.shape)\n",
    "if DEBUG:\n",
    "    display(gwas_stats_df.sample(5))"
   ]
  },
  {
   "cell_type": "markdown",
   "metadata": {},
   "source": [
    "#### subset index variant stats"
   ]
  },
  {
   "cell_type": "code",
   "execution_count": null,
   "metadata": {},
   "outputs": [],
   "source": [
    "index_stats_df = gwas_stats_df.loc[gwas_stats_df.variant_id.isin(index_variants)]\n",
    "print(index_stats_df.shape)\n",
    "if DEBUG:\n",
    "    display(index_stats_df.head())"
   ]
  },
  {
   "cell_type": "markdown",
   "metadata": {},
   "source": [
    "#### load the QTL results"
   ]
  },
  {
   "cell_type": "code",
   "execution_count": null,
   "metadata": {},
   "outputs": [],
   "source": [
    "qtl_df = read_csv(qtl_results_file)\n",
    "print(qtl_df.shape)\n",
    "number_genes = qtl_df['phenotype_id'].nunique()\n",
    "print(f'qtl for {number_genes} features')\n",
    "if DEBUG:\n",
    "    display(qtl_df.head())"
   ]
  },
  {
   "cell_type": "markdown",
   "metadata": {},
   "source": [
    "### grab the max pval_nominal and max pval_beta"
   ]
  },
  {
   "cell_type": "code",
   "execution_count": null,
   "metadata": {},
   "outputs": [],
   "source": [
    "sig_df = qtl_df.loc[qtl_df['bh_fdr'] < alpha_value]\n",
    "feature_cnt = len(sig_df['phenotype_id'].unique())\n",
    "print(f'sig shape is {sig_df.shape} for {feature_cnt} features')\n",
    "\n",
    "max_pvalue = sig_df['pval_nominal'].max()\n",
    "print(f'max p-value: {max_pvalue}')\n",
    "max_pvalue = 0.01\n",
    "print(f'hardcoded max p-value: {max_pvalue}')"
   ]
  },
  {
   "cell_type": "markdown",
   "metadata": {},
   "source": [
    "### see if any of the top significant results happen to be top QTL variants"
   ]
  },
  {
   "cell_type": "code",
   "execution_count": null,
   "metadata": {},
   "outputs": [],
   "source": [
    "def check_qtls_for_variants(qtl_df: DataFrame, variants: list) -> DataFrame:\n",
    "    qtl_variants_oi_df = qtl_df.loc[qtl_df['variant_id'].isin(variants)]\n",
    "    print(qtl_variants_oi_df.shape)\n",
    "    this_cnt = len(qtl_variants_oi_df['variant_id'].unique())\n",
    "    print(f'variants {this_cnt}')\n",
    "    print(qtl_variants_oi_df['variant_id'].unique())\n",
    "    oi_features = qtl_variants_oi_df['phenotype_id'].unique()\n",
    "    this_cnt = len(oi_features)\n",
    "    print(f'features {this_cnt}')\n",
    "    print(oi_features)\n",
    "    return qtl_variants_oi_df"
   ]
  },
  {
   "cell_type": "code",
   "execution_count": null,
   "metadata": {},
   "outputs": [],
   "source": [
    "risk_features = check_qtls_for_variants(qtl_df.loc[qtl_df['pval_perm'] < alpha_value], \n",
    "                                        index_variants)\n",
    "if len(risk_features) > 0:\n",
    "    display(risk_features.head())"
   ]
  },
  {
   "cell_type": "markdown",
   "metadata": {},
   "source": [
    "### check full results and see if risk appears to colocalize with QTL"
   ]
  },
  {
   "cell_type": "code",
   "execution_count": null,
   "metadata": {},
   "outputs": [],
   "source": [
    "import warnings\n",
    "# warnings.filterwarnings(action='once')\n",
    "warnings.filterwarnings('ignore')"
   ]
  },
  {
   "cell_type": "code",
   "execution_count": null,
   "metadata": {},
   "outputs": [],
   "source": [
    "%%time\n",
    "\n",
    "# get the list of chromsomes that have risk variant\n",
    "risk_chroms = list(index_stats_df.chromosome.unique())\n",
    "\n",
    "fs_list = []\n",
    "lm_results = []\n",
    "with concurrent.futures.ThreadPoolExecutor() as tpe:\n",
    "    for chrom in risk_chroms:\n",
    "        if linear_check:\n",
    "            fs_list.append(tpe.submit(process_regression_check, chrom, \n",
    "                                      tensorqtl_dir, set_name, \n",
    "                                      gwas_stats_df, index_variants))\n",
    "        else:\n",
    "            fs_list.append(tpe.submit(load_chrom_index_results, chrom, \n",
    "                                      tensorqtl_dir, set_name, index_variants))            "
   ]
  },
  {
   "cell_type": "code",
   "execution_count": null,
   "metadata": {},
   "outputs": [],
   "source": [
    "for future in concurrent.futures.as_completed(fs_list):\n",
    "    lm_results.append(future.result())\n",
    "\n",
    "# flatten the list\n",
    "results_to_keep = concat([item for item in lm_results])"
   ]
  },
  {
   "cell_type": "code",
   "execution_count": null,
   "metadata": {},
   "outputs": [],
   "source": [
    "print(results_to_keep.shape)\n",
    "display(results_to_keep.sample(5))"
   ]
  },
  {
   "cell_type": "markdown",
   "metadata": {},
   "source": [
    "### features that may colocalize with risk"
   ]
  },
  {
   "cell_type": "code",
   "execution_count": null,
   "metadata": {},
   "outputs": [],
   "source": [
    "print(results_to_keep['phenotype_id'].nunique())\n",
    "print(results_to_keep['phenotype_id'].unique())"
   ]
  },
  {
   "cell_type": "markdown",
   "metadata": {},
   "source": [
    "### save the potential risk and QTL colocalization results"
   ]
  },
  {
   "cell_type": "code",
   "execution_count": null,
   "metadata": {},
   "outputs": [],
   "source": [
    "results_to_keep.to_csv(shared_out_file, index=False)"
   ]
  },
  {
   "cell_type": "markdown",
   "metadata": {},
   "source": [
    "### take a look at a random potentially colocalized risk"
   ]
  },
  {
   "cell_type": "code",
   "execution_count": null,
   "metadata": {},
   "outputs": [],
   "source": [
    "if linear_check:\n",
    "    temp_cnts = results_to_keep.phenotype_id.value_counts()\n",
    "    # make sure not just index variant possible resunt\n",
    "    temp_cnts = temp_cnts[temp_cnts > 100]\n",
    "    phenotype_id = choice(temp_cnts.index)\n",
    "    print(phenotype_id)"
   ]
  },
  {
   "cell_type": "code",
   "execution_count": null,
   "metadata": {},
   "outputs": [],
   "source": [
    "if linear_check:\n",
    "    temp = results_to_keep.loc[results_to_keep['phenotype_id'] == phenotype_id]\n",
    "    print(temp.shape)\n",
    "    display(temp.head())"
   ]
  },
  {
   "cell_type": "code",
   "execution_count": null,
   "metadata": {},
   "outputs": [],
   "source": [
    "if linear_check:\n",
    "    with rc_context({'figure.figsize': (9, 9), 'figure.dpi': 100}):\n",
    "        plt.style.use('seaborn-bright')\n",
    "        lmplot(x='gwas_score_abs', y='qtl_score_abs', data=temp)"
   ]
  },
  {
   "cell_type": "code",
   "execution_count": null,
   "metadata": {},
   "outputs": [],
   "source": [
    "if linear_check:\n",
    "    with rc_context({'figure.figsize': (9, 9), 'figure.dpi': 100}):\n",
    "        plt.style.use('seaborn-bright')\n",
    "        relplot(x='gwas_score_abs', y='qtl_score_abs', \n",
    "                alpha=.5, palette=\"dark\", data=temp) "
   ]
  },
  {
   "cell_type": "code",
   "execution_count": null,
   "metadata": {},
   "outputs": [],
   "source": [
    "if linear_check:\n",
    "    this_formula = 'gwas_score_abs ~ qtl_score_abs'\n",
    "    result = reg_model(temp['gwas_score_abs'].fillna(0), temp['qtl_score_abs'].fillna(0))\n",
    "    print(result.summary())"
   ]
  },
  {
   "cell_type": "code",
   "execution_count": null,
   "metadata": {},
   "outputs": [],
   "source": [
    "if linear_check:\n",
    "    term = 'qtl_score_abs'\n",
    "    print(['coef', 'stderr', 'r2adj', 'term_cnt', 'p-value'])\n",
    "    print(result.params[term], result.bse[term], result.rsquared_adj,\n",
    "          result.params.shape[0], result.pvalues[term])"
   ]
  },
  {
   "cell_type": "code",
   "execution_count": null,
   "metadata": {},
   "outputs": [],
   "source": [
    "if linear_check:\n",
    "    this_formula = 'gwas_score_abs ~ qtl_score_abs'\n",
    "    reg_model = smf.ols(this_formula, data=temp).fit()\n",
    "    print(reg_model.summary())"
   ]
  },
  {
   "cell_type": "code",
   "execution_count": null,
   "metadata": {},
   "outputs": [],
   "source": [
    "!date"
   ]
  },
  {
   "cell_type": "code",
   "execution_count": null,
   "metadata": {},
   "outputs": [],
   "source": []
  }
 ],
 "metadata": {
  "environment": {
   "kernel": "python3",
   "name": "pytorch-gpu.1-12.m102",
   "type": "gcloud",
   "uri": "gcr.io/deeplearning-platform-release/pytorch-gpu.1-12:m102"
  },
  "kernelspec": {
   "display_name": "Python 3 (ipykernel)",
   "language": "python",
   "name": "python3"
  },
  "language_info": {
   "codemirror_mode": {
    "name": "ipython",
    "version": 3
   },
   "file_extension": ".py",
   "mimetype": "text/x-python",
   "name": "python",
   "nbconvert_exporter": "python",
   "pygments_lexer": "ipython3",
   "version": "3.7.12"
  },
  "widgets": {
   "application/vnd.jupyter.widget-state+json": {
    "state": {},
    "version_major": 2,
    "version_minor": 0
   }
  }
 },
 "nbformat": 4,
 "nbformat_minor": 4
}
