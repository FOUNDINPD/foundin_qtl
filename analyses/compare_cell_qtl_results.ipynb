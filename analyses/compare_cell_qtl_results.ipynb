{
 "cells": [
  {
   "cell_type": "markdown",
   "id": "3c76fdc4",
   "metadata": {},
   "source": [
    "## Notebook to compare the significant top eQTL singals by cell-type\n",
    "\n",
    "note I'm only looking at iDA, DA, and lNP, not all the types quantified\n",
    "\n",
    "- 'Immature Dopaminergic Neurons': 'iDA',\n",
    "- 'Dopaminergic Neurons': 'DA',\n",
    "- 'Proliferating Floor Plate Progenitors': 'PFPP',\n",
    "- 'Early neuron Progenitor': 'eNP',\n",
    "- 'Ependymal-like Cells': 'ElC',\n",
    "- 'Late neuron Progenitor': 'lNP',\n",
    "- 'Neuroepithelial-like Cells': 'NlC'"
   ]
  },
  {
   "cell_type": "code",
   "execution_count": null,
   "id": "c179a51d",
   "metadata": {},
   "outputs": [],
   "source": [
    "!date"
   ]
  },
  {
   "cell_type": "markdown",
   "id": "165985f1",
   "metadata": {},
   "source": [
    "#### import libraries"
   ]
  },
  {
   "cell_type": "code",
   "execution_count": null,
   "id": "3d3e99a1",
   "metadata": {},
   "outputs": [],
   "source": [
    "from pandas import read_csv, concat\n",
    "from dask.dataframe import read_parquet\n",
    "import numpy as np\n",
    "from os.path import exists\n",
    "from seaborn import relplot, scatterplot\n",
    "import concurrent.futures\n",
    "import matplotlib.pyplot as plt\n",
    "from matplotlib.pyplot import rc_context\n",
    "\n",
    "%matplotlib inline\n",
    "# for white background of figures (only for docs rendering)\n",
    "%config InlineBackend.print_figure_kwargs={'facecolor' : \"w\"}\n",
    "%config InlineBackend.figure_format='retina'"
   ]
  },
  {
   "cell_type": "markdown",
   "id": "57a9e78c-e66b-47bf-a13b-a337e9a5e66a",
   "metadata": {},
   "source": [
    "#### set notebook variables"
   ]
  },
  {
   "cell_type": "code",
   "execution_count": null,
   "id": "32d4c64a",
   "metadata": {},
   "outputs": [],
   "source": [
    "# naming\n",
    "cohort = 'foundin'\n",
    "day = 'da65'\n",
    "modality = 'SCRN'\n",
    "\n",
    "# directories\n",
    "wrk_dir = '/labshare/raph/datasets/foundin_qtl'\n",
    "tensorqtl_dir = f'{wrk_dir}/tensorqtl'\n",
    "results_dir = f'{wrk_dir}/results'\n",
    "\n",
    "# input files\n",
    "\n",
    "# out files\n",
    "results_file = f'{results_dir}/{cohort}_{modality}.cis.csv'\n",
    "\n",
    "# constants\n",
    "cell_types = ['iDA', 'DA', 'lNP']\n",
    "autosomes = [str(x) for x in list(range(1,23))]\n",
    "ALPHA = 0.05\n",
    "dpi_value = 50 #100\n",
    "DEBUG = False"
   ]
  },
  {
   "cell_type": "markdown",
   "id": "8ed538af",
   "metadata": {},
   "source": [
    "### load the results"
   ]
  },
  {
   "cell_type": "code",
   "execution_count": null,
   "id": "e5bcf014",
   "metadata": {},
   "outputs": [],
   "source": [
    "cis_df = None\n",
    "for cell_type in cell_types:\n",
    "    cohort_set = f'{cohort}_{day}_{modality}-{cell_type}'\n",
    "    cis_file = f'{tensorqtl_dir}/{cohort_set}.cis.map.csv'\n",
    "    if exists(cis_file):\n",
    "        this_df = read_csv(cis_file)\n",
    "        this_df = this_df.loc[this_df.pval_perm < ALPHA]    \n",
    "        feature_cnt = this_df['phenotype_id'].nunique()\n",
    "        print(f'{cell_type} shape is {this_df.shape} for {feature_cnt} features')\n",
    "        this_df['cell_type'] = cell_type\n",
    "        cis_df = concat([cis_df, this_df])\n",
    "        print(f'after {cell_type} total shape {cis_df.shape}')    "
   ]
  },
  {
   "cell_type": "code",
   "execution_count": null,
   "id": "1db97f23-c218-4ea5-9f8c-6be2b29c3dea",
   "metadata": {},
   "outputs": [],
   "source": [
    "print(cis_df.shape)\n",
    "if DEBUG:\n",
    "    display(cis_df.sample(5))"
   ]
  },
  {
   "cell_type": "markdown",
   "id": "268a9ae5",
   "metadata": {},
   "source": [
    "#### make a key for the variant/pheno pair"
   ]
  },
  {
   "cell_type": "code",
   "execution_count": null,
   "id": "fa0cf71e",
   "metadata": {},
   "outputs": [],
   "source": [
    "cis_df['cispair'] = cis_df['phenotype_id'] + ':' + cis_df['variant_id']\n",
    "print(cis_df.shape)\n",
    "display(cis_df.sample(5))"
   ]
  },
  {
   "cell_type": "code",
   "execution_count": null,
   "id": "2639a76c",
   "metadata": {},
   "outputs": [],
   "source": [
    "print(cis_df['cispair'].value_counts().value_counts())\n",
    "print(cis_df['cell_type'].value_counts())\n",
    "print(cis_df['cispair'].nunique())"
   ]
  },
  {
   "cell_type": "code",
   "execution_count": null,
   "id": "bcc7674c-8358-4488-8b51-02656ddc47a3",
   "metadata": {},
   "outputs": [],
   "source": [
    "bh_temp = cis_df.loc[cis_df.bh_fdr < ALPHA]\n",
    "print(bh_temp['cispair'].value_counts().value_counts())\n",
    "print(bh_temp['cell_type'].value_counts())\n",
    "print(bh_temp['cispair'].nunique())"
   ]
  },
  {
   "cell_type": "markdown",
   "id": "5f098c44",
   "metadata": {},
   "source": [
    "#### what is the max p-value in the independent signals"
   ]
  },
  {
   "cell_type": "code",
   "execution_count": null,
   "id": "388acd86",
   "metadata": {},
   "outputs": [],
   "source": [
    "max_pvalue = bh_temp['pval_nominal'].max()\n",
    "print(f'max cis top nominal pvalue {max_pvalue}')\n",
    "\n",
    "max_pval_perm = bh_temp['pval_perm'].max()\n",
    "print(f'max cis top nominal pvalue {max_pval_perm}')"
   ]
  },
  {
   "cell_type": "markdown",
   "id": "e2b8b5b7",
   "metadata": {},
   "source": [
    "#### now that all the cispairs of interest are known get complete data for these"
   ]
  },
  {
   "cell_type": "code",
   "execution_count": null,
   "id": "c8843b46",
   "metadata": {},
   "outputs": [],
   "source": [
    "def load_missing_qtl_results(find_items, in_file, cell_type):\n",
    "    qtl_df = read_parquet(in_file).compute()\n",
    "    qtl_df['cispair'] = qtl_df['phenotype_id'] + ':' + qtl_df['variant_id']\n",
    "    found_df = qtl_df.loc[qtl_df['cispair'].isin(find_items)].copy()\n",
    "    found_df['cell_type'] = cell_type\n",
    "    return found_df"
   ]
  },
  {
   "cell_type": "code",
   "execution_count": null,
   "id": "6456939d",
   "metadata": {},
   "outputs": [],
   "source": [
    "%%time\n",
    "\n",
    "fs_list = []\n",
    "lm_results = []\n",
    "print('searching results threaded')\n",
    "with concurrent.futures.ProcessPoolExecutor() as ppe:\n",
    "    for cell_type in cell_types:\n",
    "        cohort_set = f'{cohort}_{day}'\n",
    "        result_set = f'{cohort_set}_{modality}-{cell_type}'\n",
    "        for chrom in autosomes:\n",
    "            this_result_file = f'{tensorqtl_dir}/{result_set}.cis_qtl_pairs.chr{chrom}.parquet'\n",
    "            if exists(this_result_file):\n",
    "                fs_list.append(ppe.submit(load_missing_qtl_results, cis_df['cispair'], \n",
    "                                          this_result_file, cell_type))\n",
    "for future in concurrent.futures.as_completed(fs_list):\n",
    "    lm_results.append(future.result()) "
   ]
  },
  {
   "cell_type": "code",
   "execution_count": null,
   "id": "9c569ee2",
   "metadata": {},
   "outputs": [],
   "source": [
    "# combine the read results\n",
    "results_df = concat(lm_results)\n",
    "print(results_df.shape)\n",
    "if DEBUG:\n",
    "    display(results_df.sample(10))"
   ]
  },
  {
   "cell_type": "code",
   "execution_count": null,
   "id": "409670ad",
   "metadata": {},
   "outputs": [],
   "source": [
    "print(results_df['cispair'].value_counts().value_counts())\n",
    "print(results_df['cell_type'].value_counts())"
   ]
  },
  {
   "cell_type": "code",
   "execution_count": null,
   "id": "a90d3300",
   "metadata": {},
   "outputs": [],
   "source": [
    "results_df['log10_pvalue'] = np.log10(results_df['pval_nominal'])*-1\n",
    "results_df['score'] = results_df['slope']/results_df['slope_se']\n",
    "results_df['score_abs'] = np.abs(results_df['score'])\n",
    "results_df['is_sig'] = 0\n",
    "results_df.loc[results_df.pval_nominal <= max_pvalue, 'is_sig'] = 1"
   ]
  },
  {
   "cell_type": "code",
   "execution_count": null,
   "id": "a860ce0d",
   "metadata": {},
   "outputs": [],
   "source": [
    "if DEBUG:\n",
    "    display(results_df.sample(5))"
   ]
  },
  {
   "cell_type": "code",
   "execution_count": null,
   "id": "73f57c26",
   "metadata": {},
   "outputs": [],
   "source": [
    "print(results_df['is_sig'].value_counts())"
   ]
  },
  {
   "cell_type": "markdown",
   "id": "ce86d0eb",
   "metadata": {},
   "source": [
    "### save the combined results"
   ]
  },
  {
   "cell_type": "code",
   "execution_count": null,
   "id": "d1430ea0",
   "metadata": {},
   "outputs": [],
   "source": [
    "results_df.to_csv(results_file, index=False)"
   ]
  },
  {
   "cell_type": "code",
   "execution_count": null,
   "id": "855decd6",
   "metadata": {},
   "outputs": [],
   "source": [
    "temp = results_df.groupby(['cispair'])['is_sig'].agg('sum')\n",
    "display(results_df.loc[results_df['is_sig'] == 0].head())\n",
    "display(temp.value_counts())"
   ]
  },
  {
   "cell_type": "code",
   "execution_count": null,
   "id": "8f7cd3f5",
   "metadata": {},
   "outputs": [],
   "source": [
    "display(temp[temp == 0].head())\n",
    "test_feature = temp[temp == 0].index[0]\n",
    "print(f'\\n test feature: {test_feature}')"
   ]
  },
  {
   "cell_type": "code",
   "execution_count": null,
   "id": "9f01e46d",
   "metadata": {},
   "outputs": [],
   "source": [
    "display(results_df.loc[results_df['cispair'] == test_feature])"
   ]
  },
  {
   "cell_type": "code",
   "execution_count": null,
   "id": "4ec00ec3",
   "metadata": {},
   "outputs": [],
   "source": [
    "results_df.groupby(['cispair'])['is_sig'].agg('sum').value_counts()"
   ]
  },
  {
   "cell_type": "markdown",
   "id": "c560b074",
   "metadata": {},
   "source": [
    "#### for the stuff that isn't in largest powered group any visit standout"
   ]
  },
  {
   "cell_type": "code",
   "execution_count": null,
   "id": "015932c2",
   "metadata": {},
   "outputs": [],
   "source": [
    "results_df.loc[results_df['cell_type'] != 0]['cell_type'].value_counts()"
   ]
  },
  {
   "cell_type": "code",
   "execution_count": null,
   "id": "fadc694d",
   "metadata": {},
   "outputs": [],
   "source": [
    "results_df.loc[results_df['cell_type'] != 0].groupby(['cispair'])['is_sig'].agg('sum').value_counts()"
   ]
  },
  {
   "cell_type": "markdown",
   "id": "d1618391-8e0f-4174-9cbe-81c5724559e0",
   "metadata": {},
   "source": [
    "### plotting"
   ]
  },
  {
   "cell_type": "markdown",
   "id": "55528710",
   "metadata": {},
   "source": [
    "#### annotate direction of effect for plotting"
   ]
  },
  {
   "cell_type": "code",
   "execution_count": null,
   "id": "688c2690",
   "metadata": {},
   "outputs": [],
   "source": [
    "results_df['Direction'] = np.where(results_df['slope'] > 0, \n",
    "                                         'Increase', 'Descrease')\n",
    "results_df = results_df.reset_index(drop=True)\n",
    "if DEBUG:\n",
    "    display(results_df.sample(5))"
   ]
  },
  {
   "cell_type": "markdown",
   "id": "33cc4d6c",
   "metadata": {},
   "source": [
    "#### do some quick plotting"
   ]
  },
  {
   "cell_type": "code",
   "execution_count": null,
   "id": "77a379df",
   "metadata": {},
   "outputs": [],
   "source": [
    "# for seaborn lm plot the day needs to be numeric for ordinal interpret\n",
    "results_df['cellnum'] = results_df.cell_type.map({'lNP': 0, 'iDA': 1, 'DA': 2})\n",
    "if DEBUG:\n",
    "    display(results_df.cell_type.value_counts())\n",
    "    display(results_df.cellnum.value_counts())    "
   ]
  },
  {
   "cell_type": "code",
   "execution_count": null,
   "id": "e2bb3a6e",
   "metadata": {},
   "outputs": [],
   "source": [
    "with rc_context({'figure.figsize': (8, 8), 'figure.dpi': dpi_value}):\n",
    "    plt.style.use('seaborn-v0_8-bright')\n",
    "    relplot(x='cellnum', y='score', kind='line', hue='Direction',\n",
    "            data=results_df, palette='Set1')"
   ]
  },
  {
   "cell_type": "code",
   "execution_count": null,
   "id": "46f0beb9",
   "metadata": {},
   "outputs": [],
   "source": [
    "with rc_context({'figure.figsize': (8, 8), 'figure.dpi': dpi_value}):\n",
    "    plt.style.use('seaborn-v0_8-bright')\n",
    "    relplot(x='cellnum', y='slope', kind='line', hue='Direction',\n",
    "            data=results_df, palette='Set1')"
   ]
  },
  {
   "cell_type": "code",
   "execution_count": null,
   "id": "33cbf29a",
   "metadata": {},
   "outputs": [],
   "source": [
    "with rc_context({'figure.figsize': (8, 8), 'figure.dpi': dpi_value}):\n",
    "    plt.style.use('seaborn-v0_8-bright')\n",
    "    relplot(x='cellnum', y='slope_se', kind='line', hue='Direction',\n",
    "            data=results_df, palette='Set1')"
   ]
  },
  {
   "cell_type": "code",
   "execution_count": null,
   "id": "a9dc8bc3",
   "metadata": {},
   "outputs": [],
   "source": [
    "with rc_context({'figure.figsize': (8, 8), 'figure.dpi': dpi_value}):\n",
    "    plt.style.use('seaborn-v0_8-bright')\n",
    "    relplot(x='cellnum', y='log10_pvalue', kind='line', hue='Direction',\n",
    "            data=results_df, palette='Set1')"
   ]
  },
  {
   "cell_type": "code",
   "execution_count": null,
   "id": "038ff0cf",
   "metadata": {},
   "outputs": [],
   "source": [
    "with rc_context({'figure.figsize': (8, 8), 'figure.dpi': dpi_value}):\n",
    "    plt.style.use('seaborn-v0_8-bright')\n",
    "    relplot(x='start_distance', y='log10_pvalue',hue='Direction',\n",
    "            data=results_df, palette='Set1')\n",
    "    plt.axhline(-np.log10(max_pvalue), color='black', linestyle='--')\n",
    "    plt.axhline(0, color='black')\n",
    "    plt.axvline(0, color='black', zorder=0)  "
   ]
  },
  {
   "cell_type": "code",
   "execution_count": null,
   "id": "96296c55",
   "metadata": {},
   "outputs": [],
   "source": [
    "with rc_context({'figure.figsize': (8, 8), 'figure.dpi': dpi_value}):\n",
    "    plt.style.use('seaborn-v0_8-bright')\n",
    "    scatterplot(x='start_distance', y='log10_pvalue', hue='cell_type',\n",
    "                data=results_df.sample(frac=1), palette='Set1')\n",
    "    plt.axhline(-np.log10(max_pvalue), color='black', linestyle='--')\n",
    "    plt.axhline(0, color='black')\n",
    "    plt.axvline(0, color='black', zorder=0)       "
   ]
  },
  {
   "cell_type": "code",
   "execution_count": null,
   "id": "f6de783d",
   "metadata": {},
   "outputs": [],
   "source": [
    "with rc_context({'figure.figsize': (8, 8), 'figure.dpi': dpi_value}):\n",
    "    plt.style.use('seaborn-v0_8-bright')\n",
    "    relplot(x='start_distance', y='score',hue='Direction',\n",
    "            data=results_df, palette='Set1')"
   ]
  },
  {
   "cell_type": "code",
   "execution_count": null,
   "id": "2ef02321",
   "metadata": {},
   "outputs": [],
   "source": [
    "with rc_context({'figure.figsize': (8, 8), 'figure.dpi': dpi_value}):\n",
    "    plt.style.use('seaborn-v0_8-bright')\n",
    "    relplot(x='start_distance', y='score', hue='cell_type',\n",
    "            data=results_df.sample(frac=1), palette='Set1')\n",
    "    plt.axhline(-np.log10(max_pvalue), color='black', linestyle='--')\n",
    "    plt.axhline(np.log10(max_pvalue), color='black', linestyle='--')    \n",
    "    plt.axhline(0, color='black')\n",
    "    plt.axvline(0, color='black', zorder=0)    "
   ]
  },
  {
   "cell_type": "markdown",
   "id": "8f71d799",
   "metadata": {},
   "source": [
    "#### format data for scatter or ternary plots"
   ]
  },
  {
   "cell_type": "code",
   "execution_count": null,
   "id": "0ddab8f9",
   "metadata": {},
   "outputs": [],
   "source": [
    "lNP = results_df.loc[results_df.cell_type == 'lNP'].sort_values(by=['cispair'])\n",
    "iDA = results_df.loc[results_df.cell_type == 'iDA'].sort_values(by=['cispair'])\n",
    "DA = results_df.loc[results_df.cell_type == 'DA'].sort_values(by=['cispair'])"
   ]
  },
  {
   "cell_type": "code",
   "execution_count": null,
   "id": "f5657c39",
   "metadata": {},
   "outputs": [],
   "source": [
    "all_df = lNP.merge(iDA, how='left', left_on='cispair', right_on='cispair')\n",
    "all_df = all_df.merge(DA, how='left', left_on='cispair', right_on='cispair')\n",
    "if DEBUG:\n",
    "    display(all_df.head())"
   ]
  },
  {
   "cell_type": "markdown",
   "id": "b89013cc",
   "metadata": {},
   "source": [
    "#### clean up the column names"
   ]
  },
  {
   "cell_type": "code",
   "execution_count": null,
   "id": "fca62d0b",
   "metadata": {},
   "outputs": [],
   "source": [
    "all_df.rename(columns={'score_abs_x': 'lNP', 'score_abs_y': 'iDA', \n",
    "                       'score_abs': 'DA'}, inplace=True)  "
   ]
  },
  {
   "cell_type": "markdown",
   "id": "0f33397e",
   "metadata": {},
   "source": [
    "#### merge the counts for number cell_types significant"
   ]
  },
  {
   "cell_type": "code",
   "execution_count": null,
   "id": "394346bf",
   "metadata": {},
   "outputs": [],
   "source": [
    "all_df['cells_detected'] = all_df['is_sig_x'] + all_df['is_sig_y'] + all_df['is_sig']\n",
    "all_df.cells_detected = all_df.cells_detected.fillna(0)\n",
    "display(all_df.cells_detected.value_counts())"
   ]
  },
  {
   "cell_type": "code",
   "execution_count": null,
   "id": "940c1526",
   "metadata": {},
   "outputs": [],
   "source": [
    "all_df.loc[all_df['cells_detected'] == 0, 'cells_detected'] = 1\n",
    "all_df['cells_detected'] = all_df['cells_detected'].astype('int')\n",
    "all_df['cells_detected'].value_counts()"
   ]
  },
  {
   "cell_type": "code",
   "execution_count": null,
   "id": "1f29b9c3",
   "metadata": {},
   "outputs": [],
   "source": [
    "import plotly.express as px\n",
    "fig = px.scatter_ternary(all_df, a='lNP', b='iDA', c='DA', color='cells_detected')\n",
    "fig.show()    "
   ]
  },
  {
   "cell_type": "code",
   "execution_count": null,
   "id": "2a8ab8eb",
   "metadata": {},
   "outputs": [],
   "source": [
    "all_df['cispair'].value_counts()"
   ]
  },
  {
   "cell_type": "code",
   "execution_count": null,
   "id": "73f57743",
   "metadata": {},
   "outputs": [],
   "source": [
    "cis_df['cispair'].value_counts()"
   ]
  },
  {
   "cell_type": "code",
   "execution_count": null,
   "id": "eab5cb84",
   "metadata": {},
   "outputs": [],
   "source": [
    "present_all = cis_df['cispair'].value_counts()\n",
    "present_all = present_all[present_all == 3]\n",
    "present_all"
   ]
  },
  {
   "cell_type": "code",
   "execution_count": null,
   "id": "9cf617fd",
   "metadata": {},
   "outputs": [],
   "source": [
    "indep_present_all = cis_df.loc[cis_df['cispair'].isin(present_all.index)]\n",
    "print(indep_present_all.shape)\n",
    "display(indep_present_all.head())"
   ]
  },
  {
   "cell_type": "code",
   "execution_count": null,
   "id": "e47095cb",
   "metadata": {},
   "outputs": [],
   "source": [
    "print(cis_df.loc[cis_df.start_distance < 5].shape)\n",
    "print(cis_df.loc[cis_df.start_distance < 5]['phenotype_id'].nunique())"
   ]
  },
  {
   "cell_type": "code",
   "execution_count": null,
   "id": "76e65859-8fcc-4376-a52b-c3e59cce20c0",
   "metadata": {},
   "outputs": [],
   "source": [
    "with rc_context({'figure.figsize': (8, 8), 'figure.dpi': dpi_value}):\n",
    "    plt.style.use('seaborn-v0_8-bright')\n",
    "    cis_df.start_distance.plot.density()"
   ]
  },
  {
   "cell_type": "code",
   "execution_count": null,
   "id": "592136c1-e1a5-4dbe-ae02-840f0448027d",
   "metadata": {},
   "outputs": [],
   "source": [
    "!date"
   ]
  }
 ],
 "metadata": {
  "environment": {
   "kernel": "python3",
   "name": "pytorch-gpu.1-12.m102",
   "type": "gcloud",
   "uri": "gcr.io/deeplearning-platform-release/pytorch-gpu.1-12:m102"
  },
  "kernelspec": {
   "display_name": "Python 3 (ipykernel)",
   "language": "python",
   "name": "python3"
  },
  "language_info": {
   "codemirror_mode": {
    "name": "ipython",
    "version": 3
   },
   "file_extension": ".py",
   "mimetype": "text/x-python",
   "name": "python",
   "nbconvert_exporter": "python",
   "pygments_lexer": "ipython3",
   "version": "3.10.13"
  },
  "widgets": {
   "application/vnd.jupyter.widget-state+json": {
    "state": {},
    "version_major": 2,
    "version_minor": 0
   }
  }
 },
 "nbformat": 4,
 "nbformat_minor": 5
}
