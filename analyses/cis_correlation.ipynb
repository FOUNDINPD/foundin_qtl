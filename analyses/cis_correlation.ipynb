{
 "cells": [
  {
   "cell_type": "markdown",
   "id": "59500cfc",
   "metadata": {
    "papermill": {
     "duration": 0.032376,
     "end_time": "2021-08-05T16:28:32.362666",
     "exception": false,
     "start_time": "2021-08-05T16:28:32.330290",
     "status": "completed"
    },
    "tags": []
   },
   "source": [
    "## Notebook to run *cis* correlation analysis between modalities using [tensorQTL](https://github.com/broadinstitute/tensorqtl)\n",
    "\n",
    "here instead of using genotypes will use *cis* regulatory feature; tensorQTL use genotype dosage as independent variable so any quantative value can be used that has a genomic position but will have to map to single base versus interval\n",
    "\n",
    "[Taylor-Weiner, Aguet, et al., Genome Biol. 20:228, 2019.](https://genomebiology.biomedcentral.com/articles/10.1186/s13059-019-1836-7)"
   ]
  },
  {
   "cell_type": "code",
   "execution_count": null,
   "id": "1a247d17",
   "metadata": {
    "papermill": {
     "duration": 0.14727,
     "end_time": "2021-08-05T16:28:32.530364",
     "exception": false,
     "start_time": "2021-08-05T16:28:32.383094",
     "status": "completed"
    },
    "tags": []
   },
   "outputs": [],
   "source": [
    "!date"
   ]
  },
  {
   "cell_type": "markdown",
   "id": "84872cd5",
   "metadata": {
    "papermill": {
     "duration": 0.018671,
     "end_time": "2021-08-05T16:28:32.568179",
     "exception": false,
     "start_time": "2021-08-05T16:28:32.549508",
     "status": "completed"
    },
    "tags": []
   },
   "source": [
    "#### import libraries and set notebook variables"
   ]
  },
  {
   "cell_type": "code",
   "execution_count": null,
   "id": "a41d4a18",
   "metadata": {
    "papermill": {
     "duration": 1.567685,
     "end_time": "2021-08-05T16:28:34.154502",
     "exception": false,
     "start_time": "2021-08-05T16:28:32.586817",
     "status": "completed"
    },
    "tags": []
   },
   "outputs": [],
   "source": [
    "import pandas as pd\n",
    "import torch\n",
    "import tensorqtl\n",
    "from tensorqtl import genotypeio, cis, trans\n",
    "print(f'PyTorch {torch.__version__}')\n",
    "print(f'Pandas {pd.__version__}')\n",
    "\n",
    "import statsmodels.stats.multitest as smm\n",
    "\n",
    "import warnings\n",
    "warnings.filterwarnings('ignore')"
   ]
  },
  {
   "cell_type": "code",
   "execution_count": null,
   "id": "8762e9d6",
   "metadata": {
    "papermill": {
     "duration": 0.02605,
     "end_time": "2021-08-05T16:28:34.199808",
     "exception": false,
     "start_time": "2021-08-05T16:28:34.173758",
     "status": "completed"
    },
    "tags": [
     "parameters"
    ]
   },
   "outputs": [],
   "source": [
    "# parameters\n",
    "day = ''\n",
    "exogenous = ''\n",
    "endogenous = ''"
   ]
  },
  {
   "cell_type": "code",
   "execution_count": null,
   "id": "1adfba9d",
   "metadata": {
    "papermill": {
     "duration": 0.024125,
     "end_time": "2021-08-05T16:28:34.282618",
     "exception": false,
     "start_time": "2021-08-05T16:28:34.258493",
     "status": "completed"
    },
    "tags": []
   },
   "outputs": [],
   "source": [
    "# naming\n",
    "cohort = 'foundin'\n",
    "cohort_set = f'{cohort}_{day}'\n",
    "\n",
    "# directories\n",
    "wrk_dir = '/labshare/raph/datasets/foundin_qtl'\n",
    "quants_dir = f'{wrk_dir}/quants'\n",
    "info_dir = f'{wrk_dir}/sample_info'\n",
    "tensorqtl_dir = f'{wrk_dir}/tensorqtl'\n",
    "results_dir = f'{wrk_dir}/results'\n",
    "\n",
    "# input files\n",
    "endo_quants_bed_file = f'{quants_dir}/{cohort_set}_{endogenous}.scaled.adj.bed.gz'\n",
    "exo_quants_bed_file = f'{quants_dir}/{cohort_set}_{exogenous}.scaled.adj.bed.gz'\n",
    "\n",
    "# output files\n",
    "used_samples_list_file = f'{info_dir}/{cohort_set}_{endogenous}-{exogenous}.samples'\n",
    "cis_indep_file = f'{results_dir}/{cohort_set}_{endogenous}-{exogenous}.cis.indep.csv'\n",
    "cis_map_file = f'{tensorqtl_dir}/{cohort_set}_{endogenous}-{exogenous}.cis.map.csv'\n",
    "\n",
    "# constant values\n",
    "alpha_value = 0.05\n",
    "min_nominal_alpha = 1e-05\n",
    "use_for_fdr = 'pval_perm' # 'pval_beta'\n",
    "DEBUG = False\n",
    "# tensorQTL defaults to 10K permutations, lower to speed up but lose specificity\n",
    "NPERM = 10000"
   ]
  },
  {
   "cell_type": "markdown",
   "id": "e6914530",
   "metadata": {
    "papermill": {
     "duration": 0.018042,
     "end_time": "2021-08-05T16:28:34.364680",
     "exception": false,
     "start_time": "2021-08-05T16:28:34.346638",
     "status": "completed"
    },
    "tags": []
   },
   "source": [
    "#### utility functions"
   ]
  },
  {
   "cell_type": "code",
   "execution_count": null,
   "id": "4b4c6c22",
   "metadata": {
    "papermill": {
     "duration": 0.024911,
     "end_time": "2021-08-05T16:28:34.407159",
     "exception": false,
     "start_time": "2021-08-05T16:28:34.382248",
     "status": "completed"
    },
    "tags": []
   },
   "outputs": [],
   "source": [
    "# compute B&H FDR for given p-values\n",
    "def compute_fdr(pvalues):\n",
    "    bh_adj = smm.fdrcorrection(pvalues)\n",
    "    return bh_adj[1]"
   ]
  },
  {
   "cell_type": "markdown",
   "id": "ddc86977",
   "metadata": {
    "papermill": {
     "duration": 0.017745,
     "end_time": "2021-08-05T16:28:34.444564",
     "exception": false,
     "start_time": "2021-08-05T16:28:34.426819",
     "status": "completed"
    },
    "tags": []
   },
   "source": [
    "#### load endogenous features (phenotypes)"
   ]
  },
  {
   "cell_type": "code",
   "execution_count": null,
   "id": "a2197dd9",
   "metadata": {
    "papermill": {
     "duration": 0.346964,
     "end_time": "2021-08-05T16:28:34.810122",
     "exception": false,
     "start_time": "2021-08-05T16:28:34.463158",
     "status": "completed"
    },
    "tags": []
   },
   "outputs": [],
   "source": [
    "%%time\n",
    "\n",
    "endogenous_df, endogenous_pos_df = tensorqtl.read_phenotype_bed(endo_quants_bed_file)\n",
    "print(f'endogenous: {endogenous_df.shape}')\n",
    "print(f'endogenous pos: {endogenous_pos_df.shape}')\n",
    "if DEBUG:\n",
    "    display(endogenous_df.head())\n",
    "    display(endogenous_pos_df.head())"
   ]
  },
  {
   "cell_type": "markdown",
   "id": "2740e7fa",
   "metadata": {
    "papermill": {
     "duration": 0.019267,
     "end_time": "2021-08-05T16:28:34.850667",
     "exception": false,
     "start_time": "2021-08-05T16:28:34.831400",
     "status": "completed"
    },
    "tags": []
   },
   "source": [
    "#### load exogenous features (for QTL this would be genotypes bfile)"
   ]
  },
  {
   "cell_type": "code",
   "execution_count": null,
   "id": "8df4f769",
   "metadata": {
    "papermill": {
     "duration": 62.417431,
     "end_time": "2021-08-05T16:29:37.286339",
     "exception": false,
     "start_time": "2021-08-05T16:28:34.868908",
     "status": "completed"
    },
    "tags": []
   },
   "outputs": [],
   "source": [
    "%%time\n",
    "\n",
    "exogenous_df, exogenous_pos_df = tensorqtl.read_phenotype_bed(exo_quants_bed_file)\n",
    "\n",
    "# tensorqtl expect the genos_df to have 'chrom' & 'pos' columns correct here\n",
    "exogenous_pos_df.rename(columns={'chr': 'chrom', 'tss': 'pos'}, inplace=True)\n",
    "\n",
    "# think tensorqtl expects postion sorted otherwise 'cis' window does weird stuff\n",
    "exogenous_pos_df = exogenous_pos_df.sort_values(by=['chrom', 'pos'])\n",
    "\n",
    "# now reorder the exogenous dataframe to match the sorted positions\n",
    "exogenous_df = exogenous_df.reindex(exogenous_pos_df.index)\n",
    "\n",
    "print(f'exogenous: {exogenous_df.shape}')\n",
    "print(f'exogenous pos: {exogenous_pos_df.shape}')\n",
    "if DEBUG:\n",
    "    display(exogenous_df.head())\n",
    "    display(exogenous_pos_df.head())"
   ]
  },
  {
   "cell_type": "markdown",
   "id": "5e421146",
   "metadata": {
    "papermill": {
     "duration": 0.022641,
     "end_time": "2021-08-05T16:29:39.087117",
     "exception": false,
     "start_time": "2021-08-05T16:29:39.064476",
     "status": "completed"
    },
    "tags": []
   },
   "source": [
    "#### make sure the pheno and genos have same samples"
   ]
  },
  {
   "cell_type": "code",
   "execution_count": null,
   "id": "24ade654",
   "metadata": {
    "papermill": {
     "duration": 0.030498,
     "end_time": "2021-08-05T16:29:39.138010",
     "exception": false,
     "start_time": "2021-08-05T16:29:39.107512",
     "status": "completed"
    },
    "tags": []
   },
   "outputs": [],
   "source": [
    "assay_intersect_samples = set(exogenous_df.columns) & set(endogenous_df.columns) \n",
    "print(f'intersect {len(assay_intersect_samples)}')\n",
    "extra_exo_samples = set(exogenous_df.columns) - set(endogenous_df.columns)\n",
    "print(f'number of exogenous samples not in endogenous {len(extra_exo_samples)}')\n",
    "extra_endo_samples = set(endogenous_df.columns) - set(exogenous_df.columns)\n",
    "print(f'number of endogenous samples not in exogenous {len(extra_endo_samples)}')\n",
    "\n",
    "# save the used sample list\n",
    "pd.DataFrame(data=assay_intersect_samples).to_csv(used_samples_list_file, \n",
    "                                                  index=False, header=False)"
   ]
  },
  {
   "cell_type": "code",
   "execution_count": null,
   "id": "33234ead",
   "metadata": {
    "papermill": {
     "duration": 0.030751,
     "end_time": "2021-08-05T16:29:39.188642",
     "exception": false,
     "start_time": "2021-08-05T16:29:39.157891",
     "status": "completed"
    },
    "tags": []
   },
   "outputs": [],
   "source": [
    "extra_endo_samples"
   ]
  },
  {
   "cell_type": "markdown",
   "id": "33bdcea1",
   "metadata": {
    "papermill": {
     "duration": 0.02041,
     "end_time": "2021-08-05T16:29:39.232067",
     "exception": false,
     "start_time": "2021-08-05T16:29:39.211657",
     "status": "completed"
    },
    "tags": []
   },
   "source": [
    "#### drop the non-matched samples"
   ]
  },
  {
   "cell_type": "code",
   "execution_count": null,
   "id": "3920ec07",
   "metadata": {
    "papermill": {
     "duration": 1.197989,
     "end_time": "2021-08-05T16:29:40.450008",
     "exception": false,
     "start_time": "2021-08-05T16:29:39.252019",
     "status": "completed"
    },
    "tags": []
   },
   "outputs": [],
   "source": [
    "exogenous_df.drop(columns=extra_exo_samples, inplace=True)\n",
    "endogenous_df.drop(columns=extra_endo_samples, inplace=True)\n",
    "\n",
    "print(exogenous_df.shape)\n",
    "print(endogenous_df.shape)\n",
    "if DEBUG:\n",
    "    display(exogenous_df.head())\n",
    "    display(endogenous_df.head())"
   ]
  },
  {
   "cell_type": "markdown",
   "id": "38b74ee6",
   "metadata": {
    "papermill": {
     "duration": 0.023225,
     "end_time": "2021-08-05T16:29:40.497425",
     "exception": false,
     "start_time": "2021-08-05T16:29:40.474200",
     "status": "completed"
    },
    "tags": []
   },
   "source": [
    "#### need to make sure phenos and genos have matched chromosomes; ie just autosomes"
   ]
  },
  {
   "cell_type": "code",
   "execution_count": null,
   "id": "ff171302",
   "metadata": {
    "papermill": {
     "duration": 16.894184,
     "end_time": "2021-08-05T16:29:57.411924",
     "exception": false,
     "start_time": "2021-08-05T16:29:40.517740",
     "status": "completed"
    },
    "tags": []
   },
   "outputs": [],
   "source": [
    "# need to ditch any non-autosomal genes\n",
    "assay_intersect_chroms = set(endogenous_pos_df['chr']) & set(exogenous_pos_df['chrom']) \n",
    "print(f'intersect {len(assay_intersect_chroms)}')\n",
    "extra_exo_chroms = set(exogenous_pos_df['chrom']) - set(endogenous_pos_df['chr'])\n",
    "print(f'number of exogenous chroms not in endogenous {len(extra_exo_chroms)}')\n",
    "print(extra_exo_chroms)\n",
    "extra_endo_chroms = set(endogenous_pos_df['chr']) - set(exogenous_pos_df['chrom'])\n",
    "print(f'number of endogenous chroms not in exogenous {len(extra_endo_chroms)}')\n",
    "print(extra_endo_chroms)"
   ]
  },
  {
   "cell_type": "code",
   "execution_count": null,
   "id": "0f240bd6",
   "metadata": {
    "papermill": {
     "duration": 0.034496,
     "end_time": "2021-08-05T16:29:57.468663",
     "exception": false,
     "start_time": "2021-08-05T16:29:57.434167",
     "status": "completed"
    },
    "tags": []
   },
   "outputs": [],
   "source": [
    "# make sure the sexomes are removed is they happen to still be present\n",
    "sexomes = set(['chrX', 'chrY'])\n",
    "extra_exo_chroms = extra_exo_chroms | sexomes\n",
    "extra_endo_chroms = extra_endo_chroms | sexomes\n",
    "\n",
    "if len(extra_exo_chroms) > 0:\n",
    "    exogenous_pos_df = exogenous_pos_df.loc[~exogenous_pos_df['chrom'].isin(extra_exo_chroms)]\n",
    "    # this will remove variants so need to remove them from genos df as well\n",
    "    exogenous_df = exogenous_df.loc[exogenous_df.index.isin(exogenous_pos_df.index)]\n",
    "if len(extra_endo_chroms) > 0:\n",
    "    endogenous_pos_df = endogenous_pos_df.loc[~endogenous_pos_df['chr'].isin(extra_endo_chroms)]\n",
    "    # this will remove genes so need to remove them from phenos df as well\n",
    "    endogenous_df = endogenous_df.loc[endogenous_df.index.isin(endogenous_pos_df.index)]\n",
    "\n",
    "print(f'geno shape: {exogenous_df.shape}')\n",
    "print(f'variant shape: {exogenous_pos_df.shape}')\n",
    "print(f'pheno shape: {endogenous_df.shape}')\n",
    "print(f'pheno pos: {endogenous_pos_df.shape}')\n",
    "\n",
    "if DEBUG:\n",
    "    display(exogenous_df.head())    \n",
    "    display(exogenous_pos_df.head())\n",
    "    display(endogenous_df.head())\n",
    "    display(endogenous_pos_df.head())"
   ]
  },
  {
   "cell_type": "markdown",
   "id": "686fca89",
   "metadata": {
    "papermill": {
     "duration": 0.021668,
     "end_time": "2021-08-05T16:29:57.511520",
     "exception": false,
     "start_time": "2021-08-05T16:29:57.489852",
     "status": "completed"
    },
    "tags": []
   },
   "source": [
    "#### *cis*-QTL: nominal p-values for all variant-phenotype pairs"
   ]
  },
  {
   "cell_type": "code",
   "execution_count": null,
   "id": "ee82c9e4",
   "metadata": {
    "papermill": {
     "duration": 93.456032,
     "end_time": "2021-08-05T16:31:30.988574",
     "exception": false,
     "start_time": "2021-08-05T16:29:57.532542",
     "status": "completed"
    },
    "tags": []
   },
   "outputs": [],
   "source": [
    "%%time\n",
    "# map all cis-associations (results for each chromosome are written to file)\n",
    "# all features\n",
    "cis.map_nominal(exogenous_df, exogenous_pos_df, endogenous_df, endogenous_pos_df, \n",
    "                covariates_df=None, prefix=f'{cohort_set}_{endogenous}-{exogenous}', \n",
    "                output_dir=tensorqtl_dir, run_eigenmt=True, write_top=True, \n",
    "                write_stats=True, verbose=False)"
   ]
  },
  {
   "cell_type": "markdown",
   "id": "c49e5dcc",
   "metadata": {
    "papermill": {
     "duration": 0.040585,
     "end_time": "2021-08-05T16:31:31.069643",
     "exception": false,
     "start_time": "2021-08-05T16:31:31.029058",
     "status": "completed"
    },
    "tags": []
   },
   "source": [
    "#### *cis*-QTL: empirical p-values for phenotypes"
   ]
  },
  {
   "cell_type": "code",
   "execution_count": null,
   "id": "b3a80418",
   "metadata": {
    "papermill": {
     "duration": 2844.095047,
     "end_time": "2021-08-05T17:18:55.201827",
     "exception": false,
     "start_time": "2021-08-05T16:31:31.106780",
     "status": "completed"
    },
    "tags": []
   },
   "outputs": [],
   "source": [
    "%%time\n",
    "# all genes\n",
    "cis_df = cis.map_cis(exogenous_df, exogenous_pos_df, endogenous_df, endogenous_pos_df, \n",
    "                     verbose=False, nperm=NPERM)\n",
    "# don't have to replace the monorphic anymore tensorqtl added flag to silence\n",
    "# note I commented out the following bit of code in tensorqtl/cis.py to reduce log spill\n",
    "# logger.write('    * WARNING: excluding {} monomorphic variants'.format(mono_t.sum()))\n",
    "\n",
    "# commented printing this exception in core.py to reduce non-log spill\n",
    "# print('WARNING: scipy.optimize.newton failed to converge (running scipy.optimize.minimize)')"
   ]
  },
  {
   "cell_type": "markdown",
   "id": "ab505e7c",
   "metadata": {
    "papermill": {
     "duration": 0.043488,
     "end_time": "2021-08-05T17:18:55.290708",
     "exception": false,
     "start_time": "2021-08-05T17:18:55.247220",
     "status": "completed"
    },
    "tags": []
   },
   "source": [
    "#### compute the FDR"
   ]
  },
  {
   "cell_type": "code",
   "execution_count": null,
   "id": "1a702c38",
   "metadata": {
    "papermill": {
     "duration": 0.049857,
     "end_time": "2021-08-05T17:18:55.382235",
     "exception": false,
     "start_time": "2021-08-05T17:18:55.332378",
     "status": "completed"
    },
    "tags": []
   },
   "outputs": [],
   "source": [
    "# add the corrected p-value, note just based on all chrom features pvalues    \n",
    "# just using B&H FDR from statsmodel is approx equivalent to Storey qvalue, tested\n",
    "cis_df['bh_fdr'] = compute_fdr(cis_df[use_for_fdr].fillna(1))\n",
    "\n",
    "# tensorQTL uses qvalue, but requires the R packages so use above BH FDR instead to approx\n",
    "# tensorqtl.calculate_qvalues(cis_df, qvalue_lambda=0.85)"
   ]
  },
  {
   "cell_type": "code",
   "execution_count": null,
   "id": "0a36a444",
   "metadata": {
    "papermill": {
     "duration": 0.060489,
     "end_time": "2021-08-05T17:18:55.483630",
     "exception": false,
     "start_time": "2021-08-05T17:18:55.423141",
     "status": "completed"
    },
    "tags": []
   },
   "outputs": [],
   "source": [
    "print(f'cis shape: {cis_df.shape}')\n",
    "if DEBUG:\n",
    "    display(cis_df.head())"
   ]
  },
  {
   "cell_type": "code",
   "execution_count": null,
   "id": "1c70530f",
   "metadata": {
    "papermill": {
     "duration": 0.053455,
     "end_time": "2021-08-05T17:18:55.580371",
     "exception": false,
     "start_time": "2021-08-05T17:18:55.526916",
     "status": "completed"
    },
    "tags": []
   },
   "outputs": [],
   "source": [
    "print(cis_df.loc[cis_df['pval_nominal'] <= min_nominal_alpha].index.unique().shape)\n",
    "print(cis_df.loc[cis_df['pval_perm'] <= alpha_value].index.unique().shape)\n",
    "print(cis_df.loc[cis_df['pval_beta'] <= alpha_value].index.unique().shape)\n",
    "print(cis_df.loc[cis_df['bh_fdr'] <= alpha_value].index.unique().shape)\n",
    "# print(cis_df.loc[cis_df['qval'] <= alpha_value].index.unique().shape)().shape)"
   ]
  },
  {
   "cell_type": "markdown",
   "id": "6eb12248",
   "metadata": {
    "papermill": {
     "duration": 0.041608,
     "end_time": "2021-08-05T17:18:55.663837",
     "exception": false,
     "start_time": "2021-08-05T17:18:55.622229",
     "status": "completed"
    },
    "tags": []
   },
   "source": [
    "#### save cis map"
   ]
  },
  {
   "cell_type": "code",
   "execution_count": null,
   "id": "3c60bcb2",
   "metadata": {
    "papermill": {
     "duration": 0.190403,
     "end_time": "2021-08-05T17:18:55.897404",
     "exception": false,
     "start_time": "2021-08-05T17:18:55.707001",
     "status": "completed"
    },
    "tags": []
   },
   "outputs": [],
   "source": [
    "%%time\n",
    "cis_df.to_csv(cis_map_file)"
   ]
  },
  {
   "cell_type": "code",
   "execution_count": null,
   "id": "bc4864cf",
   "metadata": {
    "papermill": {
     "duration": 0.041359,
     "end_time": "2021-08-05T17:18:56.780052",
     "exception": false,
     "start_time": "2021-08-05T17:18:56.738693",
     "status": "completed"
    },
    "tags": []
   },
   "outputs": [],
   "source": [
    "!date"
   ]
  }
 ],
 "metadata": {
  "environment": {
   "kernel": "python3",
   "name": "pytorch-gpu.1-12.m102",
   "type": "gcloud",
   "uri": "gcr.io/deeplearning-platform-release/pytorch-gpu.1-12:m102"
  },
  "kernelspec": {
   "display_name": "Python 3 (ipykernel)",
   "language": "python",
   "name": "python3"
  },
  "language_info": {
   "codemirror_mode": {
    "name": "ipython",
    "version": 3
   },
   "file_extension": ".py",
   "mimetype": "text/x-python",
   "name": "python",
   "nbconvert_exporter": "python",
   "pygments_lexer": "ipython3",
   "version": "3.10.13"
  },
  "papermill": {
   "default_parameters": {},
   "duration": 3028.877272,
   "end_time": "2021-08-05T17:18:59.528209",
   "environment_variables": {},
   "exception": null,
   "input_path": "/home/jupyter/notebooks/cell_cis_qtl_tensorqtl.ipynb",
   "output_path": "/home/jupyter/notebooks/foundin.da65.DA.cis_qtl.ipynb",
   "parameters": {
    "cell_type": "DA",
    "cohort": "foundin",
    "day": "da65",
    "quant_type": "scrn",
    "version": "amppdv1"
   },
   "start_time": "2021-08-05T16:28:30.650937",
   "version": "2.3.3"
  },
  "toc-autonumbering": false,
  "toc-showcode": false,
  "toc-showmarkdowntxt": false,
  "widgets": {
   "application/vnd.jupyter.widget-state+json": {
    "state": {},
    "version_major": 2,
    "version_minor": 0
   }
  }
 },
 "nbformat": 4,
 "nbformat_minor": 5
}
