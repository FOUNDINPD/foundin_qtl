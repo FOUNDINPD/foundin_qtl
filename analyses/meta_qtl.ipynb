{
 "cells": [
  {
   "cell_type": "markdown",
   "id": "8a905cb5-01ff-4549-8622-6cd712ce5480",
   "metadata": {},
   "source": [
    "## Notebook to run a meta-analysis between the FOUNDIN-PD day 65 and the Jerber et al HIPSCI day 52 (untreated) eQTL results\n",
    "\n",
    "for modalities FOUNDIN-PD da65 RNAB & SCRN-DA and HipSci D52 pseudobulk and DA (both untreated)"
   ]
  },
  {
   "cell_type": "code",
   "execution_count": null,
   "id": "37a497b9-2d48-4b53-b09e-bdf259035930",
   "metadata": {},
   "outputs": [],
   "source": [
    "!date"
   ]
  },
  {
   "cell_type": "markdown",
   "id": "40616cbd-283e-41dc-8399-231dc9920da6",
   "metadata": {},
   "source": [
    "#### import libraries"
   ]
  },
  {
   "cell_type": "code",
   "execution_count": null,
   "id": "ec61724c-225a-4957-993a-49967825a6fc",
   "metadata": {},
   "outputs": [],
   "source": [
    "from scipy.stats import norm\n",
    "from pandas import read_csv, read_pickle, read_parquet, DataFrame\n",
    "from multiprocessing import Process \n",
    "import subprocess\n",
    "import numpy as np\n",
    "from dask.dataframe import read_csv as dask_read_csv\n",
    "import statsmodels.stats.multitest as smm\n",
    "from seaborn import scatterplot"
   ]
  },
  {
   "cell_type": "markdown",
   "id": "ec9dff69-4bdb-4a86-a386-514b72db547f",
   "metadata": {},
   "source": [
    "#### set notebook variables"
   ]
  },
  {
   "cell_type": "code",
   "execution_count": null,
   "id": "066e9620-1211-4bdc-8679-6eefd2affff0",
   "metadata": {},
   "outputs": [],
   "source": [
    "# naming\n",
    "project = 'foundin'\n",
    "meta_set = 'Bulk-meta' # 'DAn-meta' or 'Bulk-meta'\n",
    "result_set_name = f'foundin_daNA_{meta_set}'\n",
    "if meta_set == 'Bulk-meta':\n",
    "    foundin_set_name = 'foundin_da65_RNAB'\n",
    "    hipsci_set_name = 'hipsci_D52_pseudobulk'\n",
    "    foundin_sample_cnt = 91\n",
    "    hipsci_sample_cnt = 193\n",
    "elif meta_set == 'DAn-meta':\n",
    "    foundin_set_name = 'foundin_da65_SCRN-DA'\n",
    "    hipsci_set_name = 'hipsci_D52_DA'\n",
    "    foundin_sample_cnt = 79\n",
    "    hipsci_sample_cnt = 175\n",
    "\n",
    "# directories \n",
    "wrk_dir = '/labshare/raph/datasets/foundin_qtl'\n",
    "public_dir = f'{wrk_dir}/public'\n",
    "meta_dir = f'{wrk_dir}/meta'\n",
    "results_dir = f'{wrk_dir}/results'\n",
    "tensorqtl_dir = f'{wrk_dir}/tensorqtl'\n",
    "\n",
    "# in files\n",
    "features_file = f'{public_dir}/gencode_v29.lncipedia_v5_2_hc.annotation.pkl'\n",
    "\n",
    "# out files\n",
    "results_file = f'{meta_dir}/{result_set_name}_metal_eqtl.parquet'\n",
    "tops_file = f'{meta_dir}/{result_set_name}_metal_eqtl_top.csv'\n",
    "\n",
    "# variables\n",
    "DEBUG = False\n",
    "autosomes = range(1, 23)\n",
    "alpha = 0.05\n",
    "\n",
    "if DEBUG:\n",
    "    print(f'features_file = {features_file}')\n",
    "    print(f'results_file = {results_file}')\n",
    "    print(f'tops_file = {tops_file}')"
   ]
  },
  {
   "cell_type": "markdown",
   "id": "3c8e7991-66d7-48ae-aab2-c6a103ca0d43",
   "metadata": {},
   "source": [
    "#### functions"
   ]
  },
  {
   "cell_type": "code",
   "execution_count": null,
   "id": "6c641731-47e8-40c6-843a-c583f52f7687",
   "metadata": {},
   "outputs": [],
   "source": [
    "def run_bash_cmd(cmd: str, verbose: bool=False):\n",
    "    if verbose:\n",
    "        print(cmd)\n",
    "    subprocess.run(cmd, shell=True)\n",
    "    \n",
    "# compute B&H FDR for given p-values\n",
    "def compute_fdr(pvalues):\n",
    "    bh_adj = smm.fdrcorrection(pvalues)\n",
    "    return bh_adj[1]\n",
    "\n",
    "def read_metal_results(files_path: str, verbose: bool=False) -> DataFrame:\n",
    "    meta_dd = dask_read_csv(files_path, sep='\\t', dtype={'HetPVal': 'float32'})\n",
    "    # go ahead and convert from dask to pandas data frame\n",
    "    meta_df = meta_dd.compute()\n",
    "    print(f'meta results shape {meta_df.shape}')\n",
    "    if verbose:\n",
    "        display(meta_df.head())\n",
    "    return meta_df    "
   ]
  },
  {
   "cell_type": "markdown",
   "id": "f9ad2450-e64f-44fe-8cf6-bc04cd6af37d",
   "metadata": {},
   "source": [
    "### load data, format data, and save new input files"
   ]
  },
  {
   "cell_type": "markdown",
   "id": "c7d52055-2c31-44df-ae38-aba445bce9c5",
   "metadata": {},
   "source": [
    "#### load feature annotations"
   ]
  },
  {
   "cell_type": "code",
   "execution_count": null,
   "id": "ec047298-2381-43af-8673-df0e936f5871",
   "metadata": {},
   "outputs": [],
   "source": [
    "features_df = read_pickle(features_file)\n",
    "# drop the ont and tag columns\n",
    "discard_cols = features_df.columns[(features_df.columns.str.startswith('ont')) |\n",
    "                                   (features_df.columns.str.startswith('tag')) | \n",
    "                                   (features_df.columns.str.startswith('havana_')) |                                       \n",
    "                                   (features_df.columns.str.startswith('gene_alias')) | \n",
    "                                   (features_df.columns.str.startswith('transcript_alias'))]\n",
    "features_df.drop(columns=discard_cols, inplace=True)\n",
    "# subset to just 'gene' features\n",
    "features_df = features_df.loc[features_df.feature == 'gene']\n",
    "# now drop existing feature col so we can use that name\n",
    "features_df.drop(columns=['feature'], inplace=True)\n",
    "features_df.rename(columns={'seqname': 'chrom', 'gene_id': 'feature'}, inplace=True)    \n",
    "# if 'SCRN'\n",
    "# features_df.rename(columns={'seqname': 'chrom', 'gene_name': 'feature'}, inplace=True)\n",
    "print(f'features shape {features_df.shape}')\n",
    "if DEBUG:\n",
    "    display(features_df.head())    "
   ]
  },
  {
   "cell_type": "markdown",
   "id": "ad3f2c7b-489d-472f-b582-f6d7065b1956",
   "metadata": {},
   "source": [
    "#### make feature dictionary to convert foundin Ensemble IDs to gene names"
   ]
  },
  {
   "cell_type": "code",
   "execution_count": null,
   "id": "eaa95a3c-e6f9-4aa3-82db-8618cbd1355d",
   "metadata": {},
   "outputs": [],
   "source": [
    "if meta_set == 'Bulk-meta':\n",
    "    features_dict = features_df.set_index('feature').to_dict()['gene_name']\n",
    "else:\n",
    "    features_dict = None"
   ]
  },
  {
   "cell_type": "code",
   "execution_count": null,
   "id": "9ae9b580-7ba1-4e2e-adc4-bfa73bd302cc",
   "metadata": {},
   "outputs": [],
   "source": [
    "test_chrom = 'chr8'\n",
    "test_gene = 'BIN3'\n",
    "test_geneid = 'ENSG00000147439'\n",
    "test_variant = 'rs2280104'\n",
    "test_qtl_pair = test_gene + ':' + test_variant"
   ]
  },
  {
   "cell_type": "markdown",
   "id": "24ed759f-04db-4261-be25-7aff403eb7d3",
   "metadata": {},
   "source": [
    "#### FOUNDIN-PD modality results"
   ]
  },
  {
   "cell_type": "code",
   "execution_count": null,
   "id": "f455c496-b3d8-40dc-bcd9-96c52fddb157",
   "metadata": {},
   "outputs": [],
   "source": [
    "def prep_foundin_by_chrom(chromosome: str, name: str, variants: DataFrame, features: dict):\n",
    "    foundin_file = f'{tensorqtl_dir}/{name}.cis_qtl_pairs.chr{chromosome}.parquet'\n",
    "    foundin_df = read_parquet(foundin_file)\n",
    "    if DEBUG:\n",
    "        print(f'read {foundin_df.shape}')\n",
    "    \n",
    "    # merge allele info into results, split qtl_pair values\n",
    "    foundin_df = foundin_df.merge(variants, how='left', left_on='variant_id', right_on='variant')\n",
    "    # drop the duplicate variant column\n",
    "    foundin_df = foundin_df.drop(columns=['variant'])\n",
    "    if DEBUG:\n",
    "        print(f'merged with variant info {foundin_df.shape}')\n",
    "\n",
    "    if meta_set == 'Bulk-meta':\n",
    "        # map feature ID to feature name\n",
    "        foundin_df['feature_name'] = foundin_df.phenotype_id.map(features).fillna(foundin_df.phenotype_id)\n",
    "        # add marker name, here for QTL marker name is test pair of gene (name) and variant (dbSNP Id)\n",
    "        foundin_df['qtl_pair'] = foundin_df.feature_name + ':' + foundin_df.variant_id        \n",
    "    else:\n",
    "        # add marker name, here for QTL marker name is test pair of gene (name) and variant (dbSNP Id)\n",
    "        foundin_df['qtl_pair'] = foundin_df.phenotype_id + ':' + foundin_df.variant_id\n",
    "    if DEBUG:\n",
    "        print(f'added qtl pair name {foundin_df.shape}')\n",
    "        if f'chr{chromosome}' == test_chrom:\n",
    "            # check the test pair\n",
    "            display(foundin_df.loc[foundin_df.qtl_pair == test_qtl_pair])\n",
    "            \n",
    "    # save QTL input for METAL by chromosome\n",
    "    # format the out file for use with METAL\n",
    "    out_columns = ['qtl_pair', 'effect_allele', 'other_allele', 'slope', 'slope_se', \n",
    "                   'pval_nominal', 'phenotype_id', 'variant_id']\n",
    "    if meta_set == 'Bulk-meta':\n",
    "        out_columns = out_columns + ['feature_name']\n",
    "    chrom_df = foundin_df[out_columns]\n",
    "    # drop any duplicates, usually from merges\n",
    "    chrom_df = chrom_df.drop_duplicates(subset=['qtl_pair'], keep='first')    \n",
    "    out_file = f'{meta_dir}/{name}.{chromosome}.metal_in.csv.gz'\n",
    "    chrom_df.to_csv(out_file, index=False, compression='gzip')    "
   ]
  },
  {
   "cell_type": "code",
   "execution_count": null,
   "id": "de5152d7-31e3-4273-8284-d51cdb7ac6a7",
   "metadata": {},
   "outputs": [],
   "source": [
    "%%time\n",
    "# load the variant info file\n",
    "foundin_var_file = f'{wrk_dir}/genotypes/foundin.amppdv1.bfile.bim'\n",
    "vars_df = read_csv(foundin_var_file, sep='\\s+')\n",
    "vars_df.columns = ['chrom', 'variant', 'cM', 'bp', 'effect_allele', 'other_allele']\n",
    "print(f'variant info {vars_df.shape}')\n",
    "if DEBUG:\n",
    "    display(vars_df.head())\n",
    "\n",
    "cmds = {}\n",
    "# process data by chromosome\n",
    "for chrom in autosomes:\n",
    "    print(f'chr{chrom}', end='.')\n",
    "    p = Process(target=prep_foundin_by_chrom,args=(chrom, foundin_set_name, vars_df, features_dict))\n",
    "    p.start()\n",
    "    # Append process and key to keep track\n",
    "    cmds[chrom] = p    \n",
    "# Wait for all processes to finish\n",
    "for key, p in cmds.items():\n",
    "    p.join()"
   ]
  },
  {
   "cell_type": "markdown",
   "id": "2d6e5e1b-a84c-4616-b23f-14cd68b3114f",
   "metadata": {},
   "source": [
    "#### HipSci day 52 modality results"
   ]
  },
  {
   "cell_type": "markdown",
   "id": "26c642c2-8b5a-45dc-875e-3fd4c4b6b487",
   "metadata": {},
   "source": [
    "##### make feature dictionary to convert hipsci unversioned Ensemble IDs to gene names"
   ]
  },
  {
   "cell_type": "code",
   "execution_count": null,
   "id": "6101de01-b1e3-45b6-9c70-6a41b2c7a491",
   "metadata": {},
   "outputs": [],
   "source": [
    "feature_version = features_df.feature.str.split('.', expand=True)\n",
    "feature_version.columns = ['ensembl_id', 'ensembl_version']\n",
    "features_df['ensembl_id'] = feature_version.ensembl_id\n",
    "if DEBUG:\n",
    "    display(feature_version.head())\n",
    "    display(features_df.head())"
   ]
  },
  {
   "cell_type": "code",
   "execution_count": null,
   "id": "e0feb8bb-bafd-4b7c-bde0-7c25d6530d5c",
   "metadata": {},
   "outputs": [],
   "source": [
    "features_dict = features_df.set_index('ensembl_id').to_dict()['gene_name']"
   ]
  },
  {
   "cell_type": "code",
   "execution_count": null,
   "id": "d8ffac92-379d-499e-b46c-d09e057bb07d",
   "metadata": {},
   "outputs": [],
   "source": [
    "%%time\n",
    "qtl_file = f'{public_dir}/jerber_da_neuron_eqtl/{hipsci_set_name}.untreated.qtl_results_all.hg38.parquet'\n",
    "\n",
    "hipsci_df = read_parquet(qtl_file)\n",
    "hipsci_df.rename(columns={'id': 'variant_id'}, inplace=True)\n",
    "\n",
    "if DEBUG:\n",
    "    print(f'read {hipsci_df.shape}')\n",
    "    \n",
    "# map feature ID to feature name\n",
    "hipsci_df['feature_name'] = hipsci_df.feature_id.map(features_dict).fillna(hipsci_df.feature_id)\n",
    "\n",
    "if DEBUG:\n",
    "    print(f'updated shape {hipsci_df.shape}')\n",
    "    \n",
    "# add marker name, here for QTL marker name is test pair of gene (name) and variant (dbSNP Id)\n",
    "hipsci_df['qtl_pair'] = hipsci_df.feature_name + ':' + hipsci_df.variant_id\n",
    "if DEBUG:\n",
    "    print(f'added qtl pair name {hipsci_df.shape}')\n",
    "    # check the test pair\n",
    "    display(hipsci_df.loc[hipsci_df.qtl_pair == test_qtl_pair])\n",
    "    \n",
    "# save QTL input for METAL by chromosome\n",
    "# format the out file for use with METAL\n",
    "out_columns = ['qtl_pair', 'effect_allele', 'other_allele', 'beta', 'beta_se', \n",
    "               'p_value', 'maf', 'hwe_p', 'n_samples', 'feature_id', \n",
    "               'feature_name', 'variant_id']\n",
    "for chrom in autosomes:\n",
    "    print(f'chr{chrom}', end='.')\n",
    "    chrom_df = hipsci_df.loc[hipsci_df.chrom == f'chr{chrom}', out_columns]\n",
    "    # drop any duplicates, usually from merges\n",
    "    chrom_df = chrom_df.drop_duplicates(subset=['qtl_pair'], keep='first')    \n",
    "    out_file = f'{meta_dir}/{hipsci_set_name}.{chrom}.metal_in.csv.gz'\n",
    "    chrom_df.to_csv(out_file, index=False, compression='gzip')    "
   ]
  },
  {
   "cell_type": "markdown",
   "id": "885d56a4-2da6-464e-affb-1534902e95ec",
   "metadata": {},
   "source": [
    "### format the METAL script file"
   ]
  },
  {
   "cell_type": "code",
   "execution_count": null,
   "id": "b60419da-b1ac-4613-9cdd-53c6e5edeb9b",
   "metadata": {},
   "outputs": [],
   "source": [
    "scheme_type = 'SAMPLESIZE' # or STDERR\n",
    "for chrom in autosomes:\n",
    "    control_file = f'{meta_dir}/{meta_set}_eqtl.metal_cntrl.{chrom}.txt'\n",
    "    foundin_file_path = f'{meta_dir}/{foundin_set_name}.{chrom}.metal_in.csv.gz'\n",
    "    hipsci_file_path = f'{meta_dir}/{hipsci_set_name}.{chrom}.metal_in.csv.gz'\n",
    "    meta_out_file = f'{meta_dir}/{result_set_name}_metal_eqtl.{chrom}.txt'\n",
    "\n",
    "    metal_header = f'#THIS SCRIPT EXECUTES AN ANALYSIS OF MULTIPLE QTL STUDIES\\n\\\n",
    "SCHEME {scheme_type}\\n\\n'\n",
    "    \n",
    "    metal_foundin_section = f'# Describe and process the {foundin_set_name} input files\\n\\\n",
    "SEPARATOR COMMA\\n\\\n",
    "MARKER qtl_pair\\n\\\n",
    "ALLELE effect_allele other_allele\\n\\\n",
    "EFFECT slope\\n\\\n",
    "STDERR slope_se\\n\\\n",
    "PVALUE pval_nominal\\n\\\n",
    "WEIGHTLABEL DONTUSECOLUMN\\n\\\n",
    "DEFAULTWEIGHT {foundin_sample_cnt}\\n\\\n",
    "VERBOSE OFF\\n\\\n",
    "PROCESS {foundin_file_path}\\n\\n'    \n",
    "\n",
    "    metal_hipsci_section = f'# Describe and process the {hipsci_set_name} input files\\n\\\n",
    "SEPARATOR COMMA\\n\\\n",
    "MARKER qtl_pair\\n\\\n",
    "ALLELE effect_allele other_allele\\n\\\n",
    "EFFECT beta\\n\\\n",
    "STDERR beta_se\\n\\\n",
    "PVALUE p_value\\n\\\n",
    "WEIGHTLABEL DONTUSECOLUMN\\n\\\n",
    "DEFAULTWEIGHT {hipsci_sample_cnt}\\n\\\n",
    "VERBOSE OFF\\n\\\n",
    "PROCESS {hipsci_file_path}\\n\\n'\n",
    "\n",
    "    metal_footer = f'OUTFILE {meta_out_file} .tbl\\n\\\n",
    "# for now turning het analysis off something on chrom 1 keeps failing\\n\\\n",
    "ANALYZE # HETEROGENEITY\\n\\n\\\n",
    "QUIT'\n",
    "    \n",
    "    \n",
    "    \n",
    "    control_script = (metal_header + metal_foundin_section + \n",
    "                      metal_hipsci_section + metal_footer)\n",
    "    with open(control_file, 'w') as out_file:\n",
    "        out_file.write(control_script)"
   ]
  },
  {
   "cell_type": "markdown",
   "id": "2fa3d436-28b3-45c5-a13f-5196a27782af",
   "metadata": {},
   "source": [
    "### run metal per chromosome"
   ]
  },
  {
   "cell_type": "code",
   "execution_count": null,
   "id": "bc6a9147-7fb2-4721-9f44-9ee74b4e5757",
   "metadata": {},
   "outputs": [],
   "source": [
    "%%time\n",
    "cmds = {}\n",
    "for chrom in autosomes:\n",
    "    control_file = f'{meta_dir}/{meta_set}_eqtl.metal_cntrl.{chrom}.txt'\n",
    "    log_file = f'{meta_dir}/{meta_set}_eqtl.{chrom}.metal.log'\n",
    "    this_cmd = f'metal {control_file} > {log_file} '\n",
    "    p = Process(target=run_bash_cmd,args=(this_cmd, DEBUG))\n",
    "    p.start()\n",
    "    # Append process and key to keep track\n",
    "    cmds[chrom] = p    \n",
    "# Wait for all processes to finish\n",
    "for key, p in cmds.items():\n",
    "    p.join()"
   ]
  },
  {
   "cell_type": "markdown",
   "id": "a466505f-c364-43f7-a51d-37b1f6b58b83",
   "metadata": {},
   "source": [
    "### post process the meta results"
   ]
  },
  {
   "cell_type": "code",
   "execution_count": null,
   "id": "673527c8-3cc5-4252-abe2-e6ff75d9aedd",
   "metadata": {},
   "outputs": [],
   "source": [
    "%%time\n",
    "path = f'{meta_dir}/{result_set_name}_metal_eqtl.*.txt1.tbl'\n",
    "meta_df = read_metal_results(path, DEBUG)\n",
    "# here only keep those results that were included from both studies\n",
    "# since we only have two studies\n",
    "if DEBUG:\n",
    "    display(meta_df.Direction.value_counts())    \n",
    "meta_df = meta_df.loc[meta_df.Direction.isin(['++', '--', '-+', '+-'])]\n",
    "print(f'updated shape {meta_df.shape}')"
   ]
  },
  {
   "cell_type": "markdown",
   "id": "0b1bf74d-3321-42ed-9da8-f49a5532d5ee",
   "metadata": {},
   "source": [
    "#### merge on the allele frequencies\n",
    "here will just use the HipSci freqs as they are already loaded in those results, that study is also larger and we are only considering results present in both studies"
   ]
  },
  {
   "cell_type": "code",
   "execution_count": null,
   "id": "c72f8433-d47c-484c-a579-63ebf505263b",
   "metadata": {},
   "outputs": [],
   "source": [
    "%%time\n",
    "# merge allele frequencies\n",
    "meta_df = meta_df.merge(hipsci_df[['qtl_pair', 'maf']], how='left', left_on='MarkerName', right_on='qtl_pair')\n",
    "# drop the duplicate variant ID column\n",
    "meta_df.drop(columns=['qtl_pair'], inplace=True)\n",
    "# drop any duplicates from the merge\n",
    "meta_df = meta_df.drop_duplicates(subset=['MarkerName'], keep='first')\n",
    "print(f'updated shape {meta_df.shape}')\n",
    "if DEBUG:\n",
    "    display(meta_df.sample(10))"
   ]
  },
  {
   "cell_type": "code",
   "execution_count": null,
   "id": "dca2cf71-380a-4979-90cb-decde9036454",
   "metadata": {},
   "outputs": [],
   "source": [
    "meta_df.loc[meta_df.MarkerName == test_qtl_pair]"
   ]
  },
  {
   "cell_type": "markdown",
   "id": "21baca66-603b-4f7f-a07e-b2a6bf16c8da",
   "metadata": {},
   "source": [
    "#### go ahead and split the QTL pair back into trait and variant"
   ]
  },
  {
   "cell_type": "code",
   "execution_count": null,
   "id": "84d4c851-75b7-4d57-b1b3-b5f351e755ae",
   "metadata": {},
   "outputs": [],
   "source": [
    "# split QTL pair (markername) back into trait and variant columns\n",
    "temp_df = meta_df.MarkerName.str.split(':', n=1, expand=True)\n",
    "temp_df.columns = ['trait', 'variant']\n",
    "meta_df['trait'] = temp_df.trait\n",
    "meta_df['variant'] = temp_df.variant\n",
    "print(f'updated shape {meta_df.shape}')\n",
    "if DEBUG:\n",
    "    display(meta_df.sample(10))"
   ]
  },
  {
   "cell_type": "markdown",
   "id": "bb114db0-dd6b-4200-9465-bf40bafc45a4",
   "metadata": {},
   "source": [
    "### compute B&H FDR"
   ]
  },
  {
   "cell_type": "code",
   "execution_count": null,
   "id": "a816bf7c-63ee-4a26-a1ca-0f2b536b3c56",
   "metadata": {},
   "outputs": [],
   "source": [
    "# apply B&H FDR corrections to results\n",
    "meta_df['bh_fdr'] = compute_fdr(meta_df['P-value'].fillna(1))\n",
    "print(f'updated shape {meta_df.shape}')\n",
    "if DEBUG:\n",
    "    display(meta_df.sample(10))"
   ]
  },
  {
   "cell_type": "code",
   "execution_count": null,
   "id": "2e247b4d-63d7-485f-8aee-df26ef79c6bd",
   "metadata": {},
   "outputs": [],
   "source": [
    "# apply psuedo Bonferroni to results\n",
    "meta_df['pseudo_bonf'] = meta_df['P-value'].fillna(1) * meta_df.trait.nunique()\n",
    "meta_df.loc[meta_df.pseudo_bonf > 1, 'pseudo_bonf'] = 1\n",
    "print(f'updated shape {meta_df.shape}')\n",
    "if DEBUG:\n",
    "    display(meta_df.sample(10))"
   ]
  },
  {
   "cell_type": "markdown",
   "id": "6e629189-ed6c-430a-bac5-11635b5187f5",
   "metadata": {},
   "source": [
    "### save the meta-analysis results"
   ]
  },
  {
   "cell_type": "code",
   "execution_count": null,
   "id": "f1f5f864-8fe5-4f4c-8320-db335d68fc5b",
   "metadata": {},
   "outputs": [],
   "source": [
    "meta_df.to_parquet(results_file, index=False)"
   ]
  },
  {
   "cell_type": "markdown",
   "id": "3e8abe7a-c299-4c23-b488-f38a115f7466",
   "metadata": {},
   "source": [
    "### save the meta-analysis per feature tops"
   ]
  },
  {
   "cell_type": "code",
   "execution_count": null,
   "id": "64dc1baf-0a11-4ad6-bc27-74a3b75e2d34",
   "metadata": {},
   "outputs": [],
   "source": [
    "# get top result per trait with a significant result\n",
    "tops_df = meta_df.sort_values('bh_fdr').drop_duplicates(['trait'], keep='first')\n",
    "print(f'shape of just the top hits for each trait QTL {tops_df.shape}')\n",
    "if DEBUG:\n",
    "    display(tops_df.head())\n",
    "    display(tops_df.Direction.value_counts())\n",
    "# save each traits top result with FDR included\n",
    "tops_df.to_csv(tops_file, index=False)"
   ]
  },
  {
   "cell_type": "markdown",
   "id": "3ed2d605-3196-443a-8d04-44cf6560dcc9",
   "metadata": {},
   "source": [
    "### subset results"
   ]
  },
  {
   "cell_type": "code",
   "execution_count": null,
   "id": "8c06c5a0-7d14-43cd-8754-4544f72b6cda",
   "metadata": {},
   "outputs": [],
   "source": [
    "# subset to significant results using B&H FDR\n",
    "sig_meta_df = meta_df.loc[(meta_df.bh_fdr < alpha) & \n",
    "                          (meta_df.Direction.isin(['++', '--']))].copy()\n",
    "print(f'significant results shape {sig_meta_df.shape}')\n",
    "# how many traits have significant result\n",
    "print(f'{sig_meta_df.trait.nunique()} traits with significant QTL')\n",
    "# how many traits in total were tested\n",
    "print(f'{meta_df.trait.nunique()} total traits tested for QTL')"
   ]
  },
  {
   "cell_type": "code",
   "execution_count": null,
   "id": "00c5fbf1-66bd-4a3c-9073-a8e023c6548c",
   "metadata": {},
   "outputs": [],
   "source": [
    "# subset to significant results using approx Bonferroni\n",
    "sig_meta_df = meta_df.loc[(meta_df.pseudo_bonf < alpha) & \n",
    "                          (meta_df.Direction.isin(['++', '--']))].copy()\n",
    "print(f'significant results shape {sig_meta_df.shape}')\n",
    "# how many traits have significant result\n",
    "print(f'{sig_meta_df.trait.nunique()} traits with significant QTL')\n",
    "# how many traits in total were tested\n",
    "print(f'{meta_df.trait.nunique()} total traits tested for QTL')"
   ]
  },
  {
   "cell_type": "code",
   "execution_count": null,
   "id": "8966484a-cf9d-40d2-ba34-27cd26b9e18e",
   "metadata": {},
   "outputs": [],
   "source": [
    "!date"
   ]
  }
 ],
 "metadata": {
  "environment": {
   "kernel": "python3",
   "name": "pytorch-gpu.1-12.m102",
   "type": "gcloud",
   "uri": "gcr.io/deeplearning-platform-release/pytorch-gpu.1-12:m102"
  },
  "kernelspec": {
   "display_name": "Python 3 (ipykernel)",
   "language": "python",
   "name": "python3"
  },
  "language_info": {
   "codemirror_mode": {
    "name": "ipython",
    "version": 3
   },
   "file_extension": ".py",
   "mimetype": "text/x-python",
   "name": "python",
   "nbconvert_exporter": "python",
   "pygments_lexer": "ipython3",
   "version": "3.10.13"
  }
 },
 "nbformat": 4,
 "nbformat_minor": 5
}
