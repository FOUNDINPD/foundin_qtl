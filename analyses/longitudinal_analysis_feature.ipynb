{
 "cells": [
  {
   "cell_type": "markdown",
   "id": "46db303e",
   "metadata": {},
   "source": [
    "## Notebook to do longitudinal analysis of quantified feature over differentiation day\n",
    "- features to be considered, probably should do in separate notebooks\n",
    "    - feature ~ day + (1| subject)\n",
    "    \n",
    "based on running linear mixed effects models in python examples:\n",
    "- [Comparing R lmer to Statsmodels MixedLM](https://nbviewer.jupyter.org/urls/umich.box.com/shared/static/6tfc1e0q6jincsv5pgfa.ipynb)\n",
    "- [Linear Mixed Effects Models](https://www.statsmodels.org/devel/examples/notebooks/generated/mixed_lm_example.html)\n",
    "- [statsmodel mixedlm from formula](https://www.statsmodels.org/dev/generated/statsmodels.regression.mixed_linear_model.MixedLM.from_formula.html)"
   ]
  },
  {
   "cell_type": "code",
   "execution_count": null,
   "id": "9111167b",
   "metadata": {},
   "outputs": [],
   "source": [
    "!date"
   ]
  },
  {
   "cell_type": "markdown",
   "id": "807a0515",
   "metadata": {},
   "source": [
    "#### import libraries and set notebook variables"
   ]
  },
  {
   "cell_type": "code",
   "execution_count": null,
   "id": "f8bdba2c",
   "metadata": {},
   "outputs": [],
   "source": [
    "import pandas as pd\n",
    "import numpy as np\n",
    "import os\n",
    "import statsmodels.api as sm\n",
    "import statsmodels.formula.api as smf\n",
    "import statsmodels.stats.multitest as smm\n",
    "import seaborn as sns\n",
    "import matplotlib.pyplot as plt\n",
    "import concurrent.futures\n",
    "from random import sample\n",
    "import warnings\n",
    "warnings.filterwarnings(action='once')"
   ]
  },
  {
   "cell_type": "code",
   "execution_count": null,
   "id": "9d959ddf",
   "metadata": {},
   "outputs": [],
   "source": [
    "# parameters\n",
    "cohort = 'foundin'\n",
    "days = ['da0', 'da25', 'da65']\n",
    "modality = 'ATAC'\n",
    "\n",
    "# directories\n",
    "home_dir = '/home/jupyter'\n",
    "wrk_dir = f'{home_dir}/caqtl'\n",
    "quants_dir = f'{wrk_dir}/quants'\n",
    "info_dir = f'{wrk_dir}/sample_info'\n",
    "results_dir = f'{wrk_dir}/results'\n",
    "\n",
    "# in files\n",
    "known_covs_file = f'{info_dir}/{cohort}_{modality}_sample_info.csv'\n",
    "umaps_file = f'{info_dir}/{cohort}.{modality}.umap.covs.csv'\n",
    "quants_file = f'{quants_dir}/{cohort}.{modality}.scaled.adj.hdf5'\n",
    "\n",
    "# out files\n",
    "\n",
    "# constants\n",
    "cpu_count = len(os.sched_getaffinity(0))\n",
    "covs_index_assay_id_to_replace = {'RNAB_PPMI3422_0683_da65_v1': 'RNAB_PPMI3422_1260_da65_v1',\n",
    "'RNAB_PPMI3448_3236_da65_v1': 'RNAB_PPMI3448_2397_da65_v1',\n",
    "'RNAB_PPMI3451_2397_da65_v1': 'RNAB_PPMI3451_3236_da65_v1',\n",
    "'RNAB_PPMI3664_6647_da65_v1': 'RNAB_PPMI3664_2833_da65_v1',\n",
    "'RNAB_PPMI3665_7215_da65_v1': 'RNAB_PPMI3665_4484_da65_v1',\n",
    "'RNAB_PPMI3953_2833_da65_v1': 'RNAB_PPMI3953_6647_da65_v1',\n",
    "'RNAB_PPMI4101_4484_da65_v2': 'RNAB_PPMI4101_7215_da65_v2',\n",
    "'RNAB_PPMI4106_2056_da65_v1': 'RNAB_PPMI4106_0494_da65_v1',\n",
    "'RNAB_PPMI54991_1260_da65_v1': 'RNAB_PPMI54991_0683_da65_v1'}"
   ]
  },
  {
   "cell_type": "markdown",
   "id": "2f0eba6c",
   "metadata": {},
   "source": [
    "#### analysis functions"
   ]
  },
  {
   "cell_type": "code",
   "execution_count": null,
   "id": "0c75d666",
   "metadata": {},
   "outputs": [],
   "source": [
    "def mixed_model(formula, df, group_name, term):\n",
    "    model = sm.MixedLM.from_formula(formula, df, groups=df[group_name])\n",
    "    result = model.fit()\n",
    "    return [result.params[term], result.bse[term], \n",
    "            result.params.shape[0], result.pvalues[term]]\n",
    "\n",
    "def frmt_run_mm(dep_var, indep_var, df, group_name, hard_covs=False):\n",
    "    warnings.filterwarnings('ignore')\n",
    "    if hard_covs:\n",
    "        this_formula = f'Q(\"{dep_var}\") ~ {indep_var} + C(Batch) + \\\n",
    "ProliferatingFloorPlateProgenitors + x_umap + y_umap'        \n",
    "    else:\n",
    "        this_formula = f'Q(\"{dep_var}\") ~ {indep_var}'\n",
    "    try:\n",
    "        results = mixed_model(this_formula, df, group_name, indep_var)\n",
    "    except:\n",
    "#         print(f'Caught NameError for {dep_var}')\n",
    "        results = [np.nan, np.nan, np.nan, np.nan]\n",
    "    return [dep_var] + results"
   ]
  },
  {
   "cell_type": "markdown",
   "id": "bb23c894",
   "metadata": {},
   "source": [
    "#### load the known sample covariates"
   ]
  },
  {
   "cell_type": "code",
   "execution_count": null,
   "id": "4247e363",
   "metadata": {},
   "outputs": [],
   "source": [
    "known_covs_df = pd.read_csv(known_covs_file, index_col=0)\n",
    "print(known_covs_df.shape)\n",
    "if modality == 'RNAB':\n",
    "    known_covs_df.rename(index=covs_index_assay_id_to_replace, inplace=True)    \n",
    "known_covs_df = known_covs_df[~known_covs_df.index.duplicated(keep='first')]\n",
    "# display(known_covs_df.head())"
   ]
  },
  {
   "cell_type": "code",
   "execution_count": null,
   "id": "4d78e86e",
   "metadata": {},
   "outputs": [],
   "source": [
    "umaps_df = pd.read_csv(umaps_file, index_col=0)\n",
    "print(umaps_df.shape)\n",
    "# display(umaps_df.head())"
   ]
  },
  {
   "cell_type": "code",
   "execution_count": null,
   "id": "86901f60",
   "metadata": {},
   "outputs": [],
   "source": [
    "covs_df = umaps_df.merge(known_covs_df, how='inner', left_index=True, right_index=True)\n",
    "print(covs_df.shape)\n",
    "# display(covs_df.head())"
   ]
  },
  {
   "cell_type": "markdown",
   "id": "ec76d18e",
   "metadata": {},
   "source": [
    "#### add month column based on visit"
   ]
  },
  {
   "cell_type": "code",
   "execution_count": null,
   "id": "5cbc7475",
   "metadata": {},
   "outputs": [],
   "source": [
    "covs_df['daynum'] = covs_df['day'].str.replace('da','').astype('int32')"
   ]
  },
  {
   "cell_type": "code",
   "execution_count": null,
   "id": "8d34b8ca",
   "metadata": {},
   "outputs": [],
   "source": [
    "covs_df['daynum'].value_counts()"
   ]
  },
  {
   "cell_type": "markdown",
   "id": "bb431f43",
   "metadata": {},
   "source": [
    "#### load the quantification matrix"
   ]
  },
  {
   "cell_type": "code",
   "execution_count": null,
   "id": "5cadc5a9",
   "metadata": {},
   "outputs": [],
   "source": [
    "%%time\n",
    "quants_df = pd.read_hdf(quants_file, index_col=0)\n",
    "print(quants_df.shape)\n",
    "# display(quants_df.head())"
   ]
  },
  {
   "cell_type": "markdown",
   "id": "a101f285",
   "metadata": {},
   "source": [
    "#### test something simple"
   ]
  },
  {
   "cell_type": "code",
   "execution_count": null,
   "id": "6ad1133b",
   "metadata": {},
   "outputs": [],
   "source": [
    "data_df = quants_df.merge(covs_df, how='inner', \n",
    "                          left_index=True, right_index=True)\n",
    "print(data_df.shape)"
   ]
  },
  {
   "cell_type": "markdown",
   "id": "a315fa06",
   "metadata": {},
   "source": [
    "#### split the features into batches"
   ]
  },
  {
   "cell_type": "code",
   "execution_count": null,
   "id": "8182bbcd",
   "metadata": {},
   "outputs": [],
   "source": [
    "features = quants_df.columns.values\n",
    "print(len(features))\n",
    "features_partioned = np.array_split(features, np.floor(cpu_count))\n",
    "print(len(features_partioned))\n",
    "print(len(features_partioned[0]))"
   ]
  },
  {
   "cell_type": "markdown",
   "id": "5e9e48eb",
   "metadata": {},
   "source": [
    "#### run just the mixed effects model"
   ]
  },
  {
   "cell_type": "code",
   "execution_count": null,
   "id": "95a15df5",
   "metadata": {},
   "outputs": [],
   "source": [
    "def run_mm_batch(feat_list, ind_var, df, group_name, extra_terms=False):\n",
    "    batch_results = []\n",
    "    for feature in feat_list:\n",
    "        batch_results.append(frmt_run_mm(feature, ind_var, df, group_name, extra_terms))\n",
    "    return batch_results"
   ]
  },
  {
   "cell_type": "markdown",
   "id": "3329f59a",
   "metadata": {},
   "source": [
    "#### run the simpler model"
   ]
  },
  {
   "cell_type": "code",
   "execution_count": null,
   "id": "5ca1e996",
   "metadata": {},
   "outputs": [],
   "source": [
    "%%time\n",
    "indep_var = 'daynum'\n",
    "grouping = 'sampleid'\n",
    "\n",
    "fs_list = []\n",
    "lm_results = []\n",
    "# I run ProcessPoolExecutor from jupyter on Ubuntu, not working on CentOS\n",
    "# some threads out there that ProcessPoolExecutor won't work from juypter\n",
    "# but that looks like OS based and switching process being done via spawn\n",
    "# instead of fork, but CentOS uses fork\n",
    "# so switching to ThreadPoolExecutor just to make is work\n",
    "with concurrent.futures.ProcessPoolExecutor() as ppe:\n",
    "# with concurrent.futures.ThreadPoolExecutor() as ppe:\n",
    "    for batch_features in features_partioned:\n",
    "        fs_list.append(ppe.submit(run_mm_batch, batch_features, indep_var, data_df, grouping))\n",
    "for future in concurrent.futures.as_completed(fs_list):\n",
    "    lm_results.append(future.result())"
   ]
  },
  {
   "cell_type": "code",
   "execution_count": null,
   "id": "152b7048",
   "metadata": {},
   "outputs": [],
   "source": [
    "# flatten the list\n",
    "results = [item for sublist in lm_results for item in sublist]"
   ]
  },
  {
   "cell_type": "code",
   "execution_count": null,
   "id": "aed8d8ef",
   "metadata": {},
   "outputs": [],
   "source": [
    "results_df = pd.DataFrame(data=results, columns=['feature', 'coef', 'stderr', 'term_cnt', 'p-value'])\n",
    "print(results_df.shape)\n",
    "display(results_df.head())"
   ]
  },
  {
   "cell_type": "markdown",
   "id": "521ca4a9",
   "metadata": {},
   "source": [
    "#### calc FDR"
   ]
  },
  {
   "cell_type": "code",
   "execution_count": null,
   "id": "cf15fb7b",
   "metadata": {},
   "outputs": [],
   "source": [
    "# if p-value is NaN, set value to 1\n",
    "results_df['p-value'].fillna(1, inplace=True)\n",
    "results_df.info()"
   ]
  },
  {
   "cell_type": "code",
   "execution_count": null,
   "id": "d7ff503c",
   "metadata": {},
   "outputs": [],
   "source": [
    "alpha=0.05\n",
    "method='fdr_bh'\n",
    "test_adjust = smm.multipletests(np.array(results_df['p-value']),\n",
    "                                alpha=alpha, method=method)\n",
    "results_df['bh_fdr'] = test_adjust[1]\n",
    "\n",
    "print(results_df.loc[results_df['bh_fdr'] < 0.05].shape)\n",
    "display(results_df.head())"
   ]
  },
  {
   "cell_type": "code",
   "execution_count": null,
   "id": "82635a0a",
   "metadata": {},
   "outputs": [],
   "source": [
    "sig_df = results_df.loc[results_df['bh_fdr'] < 0.05]\n",
    "display(sig_df.loc[sig_df['p-value'] == min(sig_df['p-value'])])\n",
    "display(sig_df.loc[sig_df['p-value'] == max(sig_df['p-value'])])"
   ]
  },
  {
   "cell_type": "markdown",
   "id": "f25bc270",
   "metadata": {},
   "source": [
    "#### save the simple mixed model results"
   ]
  },
  {
   "cell_type": "code",
   "execution_count": null,
   "id": "3d44929b",
   "metadata": {},
   "outputs": [],
   "source": [
    "out_file = f'{results_dir}/{cohort}.quants_time_mm.csv'\n",
    "sig_df.to_csv(out_file, index=False)"
   ]
  },
  {
   "cell_type": "markdown",
   "id": "ac98442e",
   "metadata": {},
   "source": [
    "#### do some example plotting"
   ]
  },
  {
   "cell_type": "code",
   "execution_count": null,
   "id": "377236e1",
   "metadata": {},
   "outputs": [],
   "source": [
    "test_feature = sample(list(data_df.columns), 1)[0]\n",
    "sns.lmplot(x='daynum', y=test_feature, hue='case_control_other_latest', \n",
    "           data=data_df, palette='Set1')"
   ]
  },
  {
   "cell_type": "code",
   "execution_count": null,
   "id": "eeac25fd",
   "metadata": {},
   "outputs": [],
   "source": [
    "test_feature = sample(list(data_df.columns), 1)[0]\n",
    "sns.lmplot(x='daynum', y=test_feature, hue='case_control_other_latest', \n",
    "           data=data_df, palette='Set1')"
   ]
  },
  {
   "cell_type": "markdown",
   "id": "e82a187b",
   "metadata": {},
   "source": [
    "### now re-run everything including Batch, ProliferatingFloorPlateProgenitors and UMAP covariates in the mixed model by subject"
   ]
  },
  {
   "cell_type": "markdown",
   "id": "c9e61a69",
   "metadata": {},
   "source": [
    "#### run the model with extra covariates"
   ]
  },
  {
   "cell_type": "code",
   "execution_count": null,
   "id": "3ff56745",
   "metadata": {},
   "outputs": [],
   "source": [
    "print(data_df.shape)\n",
    "data_df[covs_df.columns].info()"
   ]
  },
  {
   "cell_type": "code",
   "execution_count": null,
   "id": "4e79e897",
   "metadata": {},
   "outputs": [],
   "source": [
    "# extra covariates are 'Batch', 'ProliferatingFloorPlateProgenitors', some are null remove those rows\n",
    "data_df = data_df.loc[(~data_df['Batch'].isna()) & \n",
    "                      (~data_df['ProliferatingFloorPlateProgenitors'].isna())]\n",
    "print(data_df.shape)"
   ]
  },
  {
   "cell_type": "code",
   "execution_count": null,
   "id": "d3f0f740",
   "metadata": {},
   "outputs": [],
   "source": [
    "# # test a single model run\n",
    "# dep_var = 'chr4_128600128_128602552'\n",
    "# indep_var = 'daynum'\n",
    "# group_name = 'sampleid'\n",
    "# this_formula = f'Q(\"{dep_var}\") ~ {indep_var} + Batch + \\\n",
    "# ProliferatingFloorPlateProgenitors + x_umap + y_umap'        \n",
    "# results = mixed_model(this_formula, data_df, group_name, indep_var)\n",
    "# print(results)\n",
    "\n",
    "# model = sm.MixedLM.from_formula(this_formula, data_df, groups=data_df[group_name])\n",
    "# result = model.fit()\n",
    "# print(result.summary())"
   ]
  },
  {
   "cell_type": "code",
   "execution_count": null,
   "id": "6c0aa112",
   "metadata": {},
   "outputs": [],
   "source": [
    "%%time\n",
    "indep_var = 'daynum'\n",
    "grouping = 'sampleid'\n",
    "\n",
    "fs_list = []\n",
    "lm_results = []\n",
    "with concurrent.futures.ProcessPoolExecutor() as ppe:\n",
    "# with concurrent.futures.ThreadPoolExecutor() as ppe:\n",
    "    for batch_features in features_partioned:\n",
    "        fs_list.append(ppe.submit(run_mm_batch, batch_features, indep_var, data_df, grouping, True))\n",
    "for future in concurrent.futures.as_completed(fs_list):\n",
    "    lm_results.append(future.result())"
   ]
  },
  {
   "cell_type": "code",
   "execution_count": null,
   "id": "b7d1fee5",
   "metadata": {},
   "outputs": [],
   "source": [
    "# flatten the list\n",
    "results = [item for sublist in lm_results for item in sublist]"
   ]
  },
  {
   "cell_type": "code",
   "execution_count": null,
   "id": "3452776b",
   "metadata": {},
   "outputs": [],
   "source": [
    "results_df = pd.DataFrame(data=results, columns=['feature', 'coef', 'stderr', 'term_cnt', 'p-value'])\n",
    "print(results_df.shape)\n",
    "display(results_df.head())"
   ]
  },
  {
   "cell_type": "markdown",
   "id": "b02db55d",
   "metadata": {},
   "source": [
    "#### calc FDR"
   ]
  },
  {
   "cell_type": "code",
   "execution_count": null,
   "id": "41ed4271",
   "metadata": {},
   "outputs": [],
   "source": [
    "# if p-value is NaN, set value to 1\n",
    "results_df['p-value'].fillna(1, inplace=True)\n",
    "results_df.info()"
   ]
  },
  {
   "cell_type": "code",
   "execution_count": null,
   "id": "3d0d9f58",
   "metadata": {},
   "outputs": [],
   "source": [
    "alpha=0.05\n",
    "method='fdr_bh'\n",
    "test_adjust = smm.multipletests(np.array(results_df['p-value']),\n",
    "                                alpha=alpha, method=method)\n",
    "results_df['bh_fdr'] = test_adjust[1]\n",
    "\n",
    "print(results_df.loc[results_df['bh_fdr'] < 0.05].shape)\n",
    "display(results_df.head())"
   ]
  },
  {
   "cell_type": "markdown",
   "id": "7f33bfe0",
   "metadata": {},
   "source": [
    "#### save the discovery cohort results"
   ]
  },
  {
   "cell_type": "code",
   "execution_count": null,
   "id": "ac6c96d5",
   "metadata": {},
   "outputs": [],
   "source": [
    "sig_df = results_df.loc[results_df['bh_fdr'] < 0.05]\n",
    "display(sig_df.loc[sig_df['p-value'] == min(sig_df['p-value'])])\n",
    "display(sig_df.loc[sig_df['p-value'] == max(sig_df['p-value'])])"
   ]
  },
  {
   "cell_type": "code",
   "execution_count": null,
   "id": "aa10ef2b",
   "metadata": {},
   "outputs": [],
   "source": [
    "out_file = f'{results_dir}/{cohort}.quants_time_cov_mm.csv'\n",
    "sig_df.to_csv(out_file, index=False)"
   ]
  },
  {
   "cell_type": "markdown",
   "id": "09734c42",
   "metadata": {},
   "source": [
    "#### do some example plotting"
   ]
  },
  {
   "cell_type": "code",
   "execution_count": null,
   "id": "00eb19b1",
   "metadata": {},
   "outputs": [],
   "source": [
    "test_feature = sample(list(data_df.columns), 1)[0]\n",
    "sns.lmplot(x='daynum', y=test_feature, hue='Batch', \n",
    "           data=data_df, palette='Set1')"
   ]
  },
  {
   "cell_type": "code",
   "execution_count": null,
   "id": "d690a59d",
   "metadata": {},
   "outputs": [],
   "source": [
    "test_feature = sample(list(data_df.columns), 1)[0]\n",
    "sns.lmplot(x='daynum', y=test_feature, hue='Batch', \n",
    "           data=data_df, palette='Set1')"
   ]
  },
  {
   "cell_type": "markdown",
   "id": "764fdbe0",
   "metadata": {},
   "source": [
    "#### check the replicated mixed model results against the mixed model results also adjusted for age and sex"
   ]
  },
  {
   "cell_type": "code",
   "execution_count": null,
   "id": "8ca15d59",
   "metadata": {},
   "outputs": [],
   "source": [
    "mm_file = f'{results_dir}/{cohort}.quants_time_mm.csv'\n",
    "mm_cov_file =  f'{results_dir}/{cohort}.quants_time_cov_mm.csv'\n",
    "mm_results_df = pd.read_csv(mm_file)\n",
    "mm_results_df = mm_results_df.loc[mm_results_df['bh_fdr'] < 0.05]\n",
    "print(mm_results_df.shape)\n",
    "mm_cov_results_df = pd.read_csv(mm_cov_file)\n",
    "mm_cov_results_df = mm_cov_results_df.loc[mm_cov_results_df['bh_fdr'] < 0.05]\n",
    "print(mm_cov_results_df.shape)"
   ]
  },
  {
   "cell_type": "code",
   "execution_count": null,
   "id": "ca72855b",
   "metadata": {},
   "outputs": [],
   "source": [
    "in_both = set(mm_results_df['feature']) & set(mm_cov_results_df['feature'])\n",
    "print(len(in_both))\n",
    "in_just_mm = set(mm_results_df['feature']) - set(mm_cov_results_df['feature']) \n",
    "print(len(in_just_mm))\n",
    "in_just_mm_cov = set(mm_cov_results_df['feature']) - set(mm_results_df['feature'])\n",
    "print(len(in_just_mm_cov))"
   ]
  },
  {
   "cell_type": "code",
   "execution_count": null,
   "id": "7ee5341d",
   "metadata": {},
   "outputs": [],
   "source": [
    "both_file = f'{results_dir}/{cohort}.quants_time_mm_and_mmcov.csv'\n",
    "just_mm_file = f'{results_dir}/{cohort}.quants_time_mm_only.csv'\n",
    "just_mmcov_file = f'{results_dir}/{cohort}.quants_time_mmcov_only.csv'\n",
    "\n",
    "mm_results_df.loc[mm_results_df['feature'].isin(in_both)].to_csv(both_file, index=False)\n",
    "mm_results_df.loc[mm_results_df['feature'].isin(in_just_mm)].to_csv(just_mm_file, index=False)\n",
    "mm_cov_results_df.loc[mm_cov_results_df['feature'].isin(in_just_mm_cov)].to_csv(just_mmcov_file, index=False)"
   ]
  },
  {
   "cell_type": "code",
   "execution_count": null,
   "id": "0f9a8fe8",
   "metadata": {},
   "outputs": [],
   "source": [
    "mm_results_df.head()"
   ]
  },
  {
   "cell_type": "code",
   "execution_count": null,
   "id": "4c4e03b9",
   "metadata": {},
   "outputs": [],
   "source": [
    "mm_cov_results_df.head()"
   ]
  },
  {
   "cell_type": "code",
   "execution_count": null,
   "id": "16c7a7a4",
   "metadata": {},
   "outputs": [],
   "source": [
    "both_df = mm_results_df.merge(mm_cov_results_df, how='inner', left_on='feature', right_on='feature')\n",
    "print(both_df.shape)"
   ]
  },
  {
   "cell_type": "code",
   "execution_count": null,
   "id": "54bc2c7c",
   "metadata": {},
   "outputs": [],
   "source": [
    "results_df['log10_pvalue'] = np.log10(results_df['p-value'])*-1\n",
    "results_df['score'] = results_df['coef']/results_df['stderr']"
   ]
  },
  {
   "cell_type": "code",
   "execution_count": null,
   "id": "84e6b592",
   "metadata": {},
   "outputs": [],
   "source": [
    "sns.scatterplot(x='coef_x', y='coef_y', data=both_df)"
   ]
  },
  {
   "cell_type": "code",
   "execution_count": null,
   "id": "374754e0",
   "metadata": {},
   "outputs": [],
   "source": [
    "display(both_df.head())"
   ]
  },
  {
   "cell_type": "code",
   "execution_count": null,
   "id": "6c51b713",
   "metadata": {},
   "outputs": [],
   "source": [
    "both_same_dir = both_df.loc[((both_df['coef_x'] > 0) & (both_df['coef_y'] > 0)) | \n",
    "                            ((both_df['coef_x'] < 0) & (both_df['coef_y'] < 0))]\n",
    "print(both_same_dir.shape)\n",
    "display(both_same_dir.loc[both_same_dir['p-value_y'] == min(both_same_dir['p-value_y'])])\n",
    "display(both_same_dir.loc[both_same_dir['p-value_y'] == max(both_same_dir['p-value_y'])])"
   ]
  },
  {
   "cell_type": "markdown",
   "id": "fd72c2de",
   "metadata": {},
   "source": [
    "#### do some example plotting"
   ]
  },
  {
   "cell_type": "code",
   "execution_count": null,
   "id": "9d574824",
   "metadata": {},
   "outputs": [],
   "source": [
    "test_feature = sample(list(data_df.columns), 1)[0]\n",
    "sns.lmplot(x='daynum', y=test_feature, hue='Batch', \n",
    "           data=data_df, palette='Set1')"
   ]
  },
  {
   "cell_type": "code",
   "execution_count": null,
   "id": "344ef26e",
   "metadata": {},
   "outputs": [],
   "source": [
    "test_feature = sample(list(data_df.columns), 1)[0]\n",
    "sns.lmplot(x='daynum', y=test_feature, hue='Batch', \n",
    "           data=data_df, palette='Set1')"
   ]
  },
  {
   "cell_type": "code",
   "execution_count": null,
   "id": "407d9294",
   "metadata": {},
   "outputs": [],
   "source": []
  }
 ],
 "metadata": {
  "environment": {
   "kernel": "python3",
   "name": "pytorch-gpu.1-12.m102",
   "type": "gcloud",
   "uri": "gcr.io/deeplearning-platform-release/pytorch-gpu.1-12:m102"
  },
  "kernelspec": {
   "display_name": "Python 3 (ipykernel)",
   "language": "python",
   "name": "python3"
  },
  "language_info": {
   "codemirror_mode": {
    "name": "ipython",
    "version": 3
   },
   "file_extension": ".py",
   "mimetype": "text/x-python",
   "name": "python",
   "nbconvert_exporter": "python",
   "pygments_lexer": "ipython3",
   "version": "3.7.12"
  },
  "widgets": {
   "application/vnd.jupyter.widget-state+json": {
    "state": {},
    "version_major": 2,
    "version_minor": 0
   }
  }
 },
 "nbformat": 4,
 "nbformat_minor": 5
}
