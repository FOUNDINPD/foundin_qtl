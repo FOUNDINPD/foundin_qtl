{
 "cells": [
  {
   "cell_type": "markdown",
   "id": "ddfc53d2",
   "metadata": {},
   "source": [
    "## Notebook for performing QTS analysis for PD GRS and modality"
   ]
  },
  {
   "cell_type": "code",
   "execution_count": null,
   "id": "748c4281",
   "metadata": {},
   "outputs": [],
   "source": [
    "!date"
   ]
  },
  {
   "cell_type": "markdown",
   "id": "844a8cd3",
   "metadata": {},
   "source": [
    "#### import libraries"
   ]
  },
  {
   "cell_type": "code",
   "execution_count": null,
   "id": "787f4f8c",
   "metadata": {},
   "outputs": [],
   "source": [
    "from pandas import read_csv, DataFrame, read_hdf, get_dummies, concat, Series\n",
    "import numpy as np\n",
    "import statsmodels.stats.multitest as smm\n",
    "import statsmodels.api as sm\n",
    "import statsmodels.formula.api as smf\n",
    "import matplotlib.pyplot as plt\n",
    "from seaborn import regplot, scatterplot\n",
    "from sklearn.preprocessing import MinMaxScaler\n",
    "from matplotlib.pyplot import rc_context\n",
    "\n",
    "%matplotlib inline\n",
    "# for white background of figures (only for docs rendering)\n",
    "%config InlineBackend.print_figure_kwargs={'facecolor' : \"w\"}\n",
    "%config InlineBackend.figure_format='retina'"
   ]
  },
  {
   "cell_type": "markdown",
   "id": "5b1a3bc4-6612-447a-b72c-b18e50e4ad12",
   "metadata": {},
   "source": [
    "#### set notebook variables"
   ]
  },
  {
   "cell_type": "code",
   "execution_count": null,
   "id": "50294b73",
   "metadata": {
    "tags": [
     "parameters"
    ]
   },
   "outputs": [],
   "source": [
    "# parameters\n",
    "modality = ''\n",
    "day = ''"
   ]
  },
  {
   "cell_type": "code",
   "execution_count": null,
   "id": "5d905027",
   "metadata": {},
   "outputs": [],
   "source": [
    "# naming\n",
    "cohort = 'foundin'\n",
    "set_name = f'{cohort}_{day}_{modality}'\n",
    "\n",
    "# directories\n",
    "wrk_dir = '/home/jupyter/foundin_qtl'\n",
    "quants_dir = f'{wrk_dir}/quants'\n",
    "info_dir = f'{wrk_dir}/sample_info'\n",
    "qts_dir = f'{wrk_dir}/qts'\n",
    "\n",
    "# in files\n",
    "covs_file = f'{info_dir}/{cohort}_{modality}_sample_info.csv'\n",
    "grs_file = f'{info_dir}/{cohort}_grs_scaled.csv'\n",
    "quants_file = f'{quants_dir}/{set_name}.scaled.adj.hdf5'\n",
    "\n",
    "# out files\n",
    "qts_file = f'{qts_dir}/{set_name}.qts.csv'\n",
    "\n",
    "# constants\n",
    "DEBUG = False\n",
    "dpi_value = 50\n",
    "covs_columns_to_use = ['female', 'PC1', 'PC2', 'PC3', 'PC4', 'PC5', 'PC6', \n",
    "                       'nonDA', 'Batch_2', 'Batch_3', 'Batch_4', 'Batch_5', \n",
    "                       'EstimatedNumberofCells']"
   ]
  },
  {
   "cell_type": "markdown",
   "id": "eb342f25",
   "metadata": {},
   "source": [
    "#### analysis functions"
   ]
  },
  {
   "cell_type": "code",
   "execution_count": null,
   "id": "0780def0",
   "metadata": {},
   "outputs": [],
   "source": [
    "# functions to run the linear regression\n",
    "def reg_model(y, x, term):\n",
    "    Xb = sm.add_constant(x)\n",
    "    reg_model = sm.OLS(y, Xb).fit()\n",
    "    # return the coef, stderr, adjusted r2, number of terms, and p-value\n",
    "    return [reg_model.params[term], reg_model.bse[term], reg_model.rsquared_adj, \n",
    "            reg_model.params.shape[0], reg_model.pvalues[term]]\n",
    "\n",
    "# compute B&H FDR for given p-values\n",
    "def compute_fdr(pvalues):\n",
    "    bh_adj = smm.fdrcorrection(pvalues)\n",
    "    return bh_adj[1]\n",
    "\n",
    "def grsresgression(cov_df, traits_df, dep_term='', extra_dep_terms=None) -> DataFrame:\n",
    "    print(f'dependent term is {dep_term}')\n",
    "    if not extra_dep_terms is None:\n",
    "        this_cov_df = cov_df[[dep_term] + extra_dep_terms]\n",
    "        print(f'additional covariate terms {extra_dep_terms}')\n",
    "    else:\n",
    "        this_cov_df = cov_df[[dep_term]]\n",
    "    lm_results = traits_df.apply(lambda x: reg_model(x, this_cov_df, dep_term),\n",
    "                                 result_type='expand').rename(index={0: 'coef', \n",
    "                                                                     1: 'stderr', \n",
    "                                                                     2: 'r2_adj', \n",
    "                                                                     3:'term_cnt', \n",
    "                                                                     4:'p-value'}).T\n",
    "    # apply B&H FDR corrections to results\n",
    "    lm_results['bh_fdr'] = compute_fdr(lm_results['p-value'].fillna(1))\n",
    "    return lm_results"
   ]
  },
  {
   "cell_type": "code",
   "execution_count": null,
   "id": "13d5b848",
   "metadata": {},
   "outputs": [],
   "source": [
    "#plot the QTS\n",
    "def plotqts(trait_id, study_name, score_df, traits_df):\n",
    "    this_scores_df = score_df.loc[score_df.index.isin(traits_df.index)]\n",
    "    this_scores_df = this_scores_df.reindex(traits_df.index)\n",
    "\n",
    "    temp = traits_df.merge(this_scores_df,left_index=True,right_index=True)\n",
    "\n",
    "    with rc_context({'figure.figsize': (9, 9), 'figure.dpi': dpi_value}):\n",
    "        plt.style.use('seaborn-bright')\n",
    "        regplot(x=trait_id,y='GRS', data=temp, ci=95)\n",
    "        scatterplot(x=trait_id,y='GRS', data=temp, hue='DX')\n",
    "        plt.xlabel('Trait')\n",
    "        plt.ylabel('GRS')\n",
    "        plt.title(f'{trait_id} in {study_name}')\n",
    "        plt.legend(bbox_to_anchor=(1.05, 1), loc=2, borderaxespad=0,prop={'size': 10})\n",
    "        plt.show()"
   ]
  },
  {
   "cell_type": "markdown",
   "id": "63a95113-a545-41f5-b2e2-ac9988de0481",
   "metadata": {},
   "source": [
    "### load input data"
   ]
  },
  {
   "cell_type": "markdown",
   "id": "cc976ff0",
   "metadata": {},
   "source": [
    "#### load the known sample covariates"
   ]
  },
  {
   "cell_type": "code",
   "execution_count": null,
   "id": "5e9441bf",
   "metadata": {},
   "outputs": [],
   "source": [
    "covs_df = read_csv(covs_file, index_col=0)\n",
    "print(covs_df.shape)\n",
    "# if any duplicates, keep first\n",
    "covs_df = covs_df[~covs_df.index.duplicated(keep='first')]\n",
    "if DEBUG:\n",
    "    display(covs_df.head())"
   ]
  },
  {
   "cell_type": "markdown",
   "id": "ffbcc74d",
   "metadata": {},
   "source": [
    "#### load and add GRS"
   ]
  },
  {
   "cell_type": "code",
   "execution_count": null,
   "id": "578ea2e1",
   "metadata": {},
   "outputs": [],
   "source": [
    "grs_df = read_csv(grs_file)\n",
    "print(grs_df.shape)\n",
    "if DEBUG:\n",
    "    display(grs_df.head())"
   ]
  },
  {
   "cell_type": "code",
   "execution_count": null,
   "id": "991d7cf5",
   "metadata": {},
   "outputs": [],
   "source": [
    "# covs_df = covs_df.merge(grs_df, how='inner', left_on='wgsid', right_on='IID')\n",
    "covs_df = covs_df.reset_index().merge(grs_df, how='inner', left_on='sampleid', \n",
    "                                      right_on='IID').set_index('assayid')\n",
    "print(covs_df.shape)\n",
    "if DEBUG:\n",
    "    display(covs_df.head())"
   ]
  },
  {
   "cell_type": "markdown",
   "id": "54318714",
   "metadata": {},
   "source": [
    "#### load the quantified modality"
   ]
  },
  {
   "cell_type": "code",
   "execution_count": null,
   "id": "31aa8322",
   "metadata": {},
   "outputs": [],
   "source": [
    "%%time\n",
    "quants_df = read_hdf(quants_file, index_col=0)\n",
    "print(quants_df.shape)\n",
    "if DEBUG:\n",
    "    display(quants_df.head())"
   ]
  },
  {
   "cell_type": "code",
   "execution_count": null,
   "id": "39168c8d",
   "metadata": {},
   "outputs": [],
   "source": [
    "set(quants_df.index) - set(covs_df.index)"
   ]
  },
  {
   "cell_type": "markdown",
   "id": "4e0f4a18-78cf-4c55-921a-88f4139473d8",
   "metadata": {},
   "source": [
    "### prep the covariate terms for modeling"
   ]
  },
  {
   "cell_type": "markdown",
   "id": "9d37a55c-35bb-4231-bc20-92eaa38c3a67",
   "metadata": {},
   "source": [
    "#### create a binarized covariate for sex"
   ]
  },
  {
   "cell_type": "code",
   "execution_count": null,
   "id": "91cde049-d8c9-47c8-8eb1-8c2ae8dde850",
   "metadata": {},
   "outputs": [],
   "source": [
    "covs_df['female'] = 0\n",
    "covs_df.loc[covs_df.sex == 'Female', 'female'] = 1\n",
    "display(covs_df.sex.value_counts())\n",
    "display(covs_df.female.value_counts())"
   ]
  },
  {
   "cell_type": "markdown",
   "id": "c506689c-db81-4851-9a23-948ca08b15a9",
   "metadata": {},
   "source": [
    "#### create a combine non-DA neuron fraction as a covariate, or use single-cell info\n",
    "if SCRN modality don't include this covariate term instead use the number of cells"
   ]
  },
  {
   "cell_type": "code",
   "execution_count": null,
   "id": "46819f19-0a85-4fb8-8f96-778217d3a30a",
   "metadata": {},
   "outputs": [],
   "source": [
    "sc_covs = ['EstimatedNumberofCells']\n",
    "if modality.startswith('SCRN') or modality in ['PDUI-DA', 'PDUI-iDA']:\n",
    "    covs_columns_to_use.remove('nonDA')\n",
    "    scaled_covs = MinMaxScaler().fit_transform(covs_df[sc_covs])\n",
    "    scaled_df = pd.DataFrame(data=scaled_covs, columns=sc_covs, index=covs_df.index)\n",
    "    for sc_cov in sc_covs:\n",
    "        covs_df[sc_cov] = scaled_df[sc_cov]\n",
    "        if DEBUG:\n",
    "            print(sc_cov)\n",
    "            display(covs_df[sc_cov].describe())    \n",
    "else:\n",
    "    covs_df['nonDA'] = 1 - covs_df.DAn\n",
    "    for sc_cov in sc_covs:\n",
    "        covs_columns_to_use.remove(sc_cov)\n",
    "    if DEBUG:\n",
    "        display(covs_df.nonDA.describe())\n",
    "if DEBUG:\n",
    "    display(covs_df.head())        "
   ]
  },
  {
   "cell_type": "markdown",
   "id": "6396e200-543f-4d35-be68-f1aeffc3f009",
   "metadata": {},
   "source": [
    "#### one-hot encode the Batch covariate"
   ]
  },
  {
   "cell_type": "code",
   "execution_count": null,
   "id": "08665116-f080-4e47-a25d-6f3f046fdbf7",
   "metadata": {},
   "outputs": [],
   "source": [
    "onehot_batch = get_dummies(covs_df.Batch, drop_first=True)\n",
    "# should have the same index\n",
    "print(f'indices are equal: {covs_df.index.equals(onehot_batch.index)}')\n",
    "covs_df = concat([covs_df, onehot_batch], axis=1)\n",
    "print(f'new covariates shape: {covs_df.shape}')\n",
    "if DEBUG:\n",
    "    display(onehot_batch.sample(5))\n",
    "    display(covs_df.sample(5))"
   ]
  },
  {
   "cell_type": "markdown",
   "id": "a48857b6-dd60-4729-940c-f2c7b95ac4dc",
   "metadata": {},
   "source": [
    "#### drop samples where terms are missing\n",
    "sometimes estimated cell-fraction is missing"
   ]
  },
  {
   "cell_type": "code",
   "execution_count": null,
   "id": "36e75880-afaf-4508-9be7-6bc346b1b011",
   "metadata": {},
   "outputs": [],
   "source": [
    "covs_df = covs_df.dropna(subset=['GRS'] + covs_columns_to_use)\n",
    "print(f'non-missing covariates shape {covs_df.shape}')\n",
    "if DEBUG:\n",
    "    display(covs_df.head())"
   ]
  },
  {
   "cell_type": "markdown",
   "id": "d2cb097c-fc5a-4f93-b46b-cdeee7a830d1",
   "metadata": {},
   "source": [
    "#### verify quants and covs have same indices"
   ]
  },
  {
   "cell_type": "code",
   "execution_count": null,
   "id": "2bb6d2e7-1f1b-4fff-a174-31131801b951",
   "metadata": {},
   "outputs": [],
   "source": [
    "def ensure_matched_indices(df1: DataFrame, df2: DataFrame) -> {DataFrame, DataFrame}:\n",
    "    \"\"\" make sure the two datasets are ordered the same\n",
    "        modifies both df1 and df2\n",
    "    Args:\n",
    "        df1 (pandas.DataFrame)\n",
    "        df2 (pandas.DataFrame)\n",
    "    \"\"\" \n",
    "    print('reindexing')\n",
    "    shared_indices = df1.index.intersection(df2.index)\n",
    "    df1 = df1.loc[shared_indices,]\n",
    "    df2 = df2.loc[shared_indices,]\n",
    "    temp = df1.index.values == df2.index.values\n",
    "    display(Series(temp).value_counts())\n",
    "    return df1, df2"
   ]
  },
  {
   "cell_type": "code",
   "execution_count": null,
   "id": "0edae94f-ad6e-47da-999a-472ca5e58e23",
   "metadata": {},
   "outputs": [],
   "source": [
    "quants_df, covs_df = ensure_matched_indices(quants_df, covs_df)"
   ]
  },
  {
   "cell_type": "markdown",
   "id": "db9f1b90",
   "metadata": {},
   "source": [
    "### run the QTS (feature ~ GRS regression)"
   ]
  },
  {
   "cell_type": "code",
   "execution_count": null,
   "id": "63c230c8",
   "metadata": {},
   "outputs": [],
   "source": [
    "%%time\n",
    "grs_results = grsresgression(covs_df, quants_df, dep_term='GRS', extra_dep_terms=covs_columns_to_use)"
   ]
  },
  {
   "cell_type": "code",
   "execution_count": null,
   "id": "bf7b7770-13cf-4f82-91fb-99597743dd0e",
   "metadata": {},
   "outputs": [],
   "source": [
    "if DEBUG:\n",
    "    display(grs_results.sample(10))"
   ]
  },
  {
   "cell_type": "markdown",
   "id": "3224479c",
   "metadata": {},
   "source": [
    "### save the results files"
   ]
  },
  {
   "cell_type": "code",
   "execution_count": null,
   "id": "41ab9dbb",
   "metadata": {},
   "outputs": [],
   "source": [
    "grs_results.to_csv(qts_file)"
   ]
  },
  {
   "cell_type": "code",
   "execution_count": null,
   "id": "354f6747",
   "metadata": {},
   "outputs": [],
   "source": [
    "print(grs_results.shape)\n",
    "print(grs_results.loc[grs_results['bh_fdr'] <= 0.05].shape)"
   ]
  },
  {
   "cell_type": "code",
   "execution_count": null,
   "id": "067b2f7d",
   "metadata": {},
   "outputs": [],
   "source": [
    "grs_results.describe()"
   ]
  },
  {
   "cell_type": "code",
   "execution_count": null,
   "id": "a8e206bd",
   "metadata": {},
   "outputs": [],
   "source": [
    "display(grs_results.loc[grs_results['bh_fdr'] <= 0.05])"
   ]
  },
  {
   "cell_type": "markdown",
   "id": "89ace6b2",
   "metadata": {},
   "source": [
    "### plot the most significant results"
   ]
  },
  {
   "cell_type": "code",
   "execution_count": null,
   "id": "51023da7",
   "metadata": {},
   "outputs": [],
   "source": [
    "this_trait = grs_results.loc[grs_results['p-value'] == min(grs_results['p-value']),].index[0]\n",
    "print(grs_results.loc[this_trait])\n",
    "plotqts(this_trait, cohort.upper(),  covs_df, quants_df)"
   ]
  },
  {
   "cell_type": "code",
   "execution_count": null,
   "id": "2d757a18",
   "metadata": {},
   "outputs": [],
   "source": [
    "!date"
   ]
  },
  {
   "cell_type": "code",
   "execution_count": null,
   "id": "289ac58e-8746-48ce-adc5-bdba1a5ee5d3",
   "metadata": {},
   "outputs": [],
   "source": []
  }
 ],
 "metadata": {
  "environment": {
   "kernel": "python3",
   "name": "pytorch-gpu.1-12.m102",
   "type": "gcloud",
   "uri": "gcr.io/deeplearning-platform-release/pytorch-gpu.1-12:m102"
  },
  "kernelspec": {
   "display_name": "Python 3 (ipykernel)",
   "language": "python",
   "name": "python3"
  },
  "language_info": {
   "codemirror_mode": {
    "name": "ipython",
    "version": 3
   },
   "file_extension": ".py",
   "mimetype": "text/x-python",
   "name": "python",
   "nbconvert_exporter": "python",
   "pygments_lexer": "ipython3",
   "version": "3.7.12"
  },
  "widgets": {
   "application/vnd.jupyter.widget-state+json": {
    "state": {},
    "version_major": 2,
    "version_minor": 0
   }
  }
 },
 "nbformat": 4,
 "nbformat_minor": 5
}
