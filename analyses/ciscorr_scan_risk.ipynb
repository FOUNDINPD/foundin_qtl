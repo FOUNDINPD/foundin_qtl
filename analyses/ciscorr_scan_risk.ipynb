{
 "cells": [
  {
   "cell_type": "markdown",
   "id": "53f5b8a6-54b9-4547-8219-beef23890240",
   "metadata": {},
   "source": [
    "## Notebooks to scan *cis* modalality correlations for exongenous features containing GWAS risk variants"
   ]
  },
  {
   "cell_type": "code",
   "execution_count": null,
   "id": "dfd6ec43-8741-46c6-b0dc-d4d19973489c",
   "metadata": {},
   "outputs": [],
   "source": [
    "!date"
   ]
  },
  {
   "cell_type": "markdown",
   "id": "11349338-3b84-4ff9-8ae3-fd4baa6bdd2b",
   "metadata": {},
   "source": [
    "#### import libraries"
   ]
  },
  {
   "cell_type": "code",
   "execution_count": null,
   "id": "3822a585-9d03-490c-9f69-f267e7dfc87d",
   "metadata": {},
   "outputs": [],
   "source": [
    "from pandas import read_csv, read_parquet, DataFrame, concat\n",
    "import concurrent.futures"
   ]
  },
  {
   "cell_type": "markdown",
   "id": "772ce483-9504-42ee-ad08-3083ee96b1d9",
   "metadata": {},
   "source": [
    "#### set notebooks variables"
   ]
  },
  {
   "cell_type": "code",
   "execution_count": null,
   "id": "36df501f-f9b1-4b21-ab81-a91800d4d9cf",
   "metadata": {
    "tags": [
     "parameters"
    ]
   },
   "outputs": [],
   "source": [
    "# parameters\n",
    "day = ''\n",
    "exogenous = ''\n",
    "endogenous = ''"
   ]
  },
  {
   "cell_type": "code",
   "execution_count": null,
   "id": "7be472f7-65cb-474b-bf1f-3a1a91e42683",
   "metadata": {},
   "outputs": [],
   "source": [
    "# naming\n",
    "cohort = 'foundin'\n",
    "set_name = f'{cohort}_{day}_{endogenous}-{exogenous}'\n",
    "\n",
    "# directories\n",
    "wrk_dir = '/labshare/raph/datasets/foundin_qtl'\n",
    "quants_dir = f'{wrk_dir}/quants'\n",
    "tensorqtl_dir = f'{wrk_dir}/tensorqtl'\n",
    "results_dir = f'{wrk_dir}/results'\n",
    "\n",
    "# input files\n",
    "risk_features_file = f'{quants_dir}/{cohort}_risk_peaks.bed'\n",
    "top_cis_results_files = f'{tensorqtl_dir}/{set_name}.cis.map.csv'\n",
    "\n",
    "# out files\n",
    "results_file = f'{results_dir}/{set_name}.risk.cis.csv'\n",
    "\n",
    "# variables\n",
    "DEBUG = False\n",
    "alpha_value = 0.05\n",
    "\n",
    "if DEBUG:\n",
    "    print(f'risk_features_file = {risk_features_file}')\n",
    "    print(f'top_cis_results_files = {top_cis_results_files}')\n",
    "    print(f'results_file = {results_file}')"
   ]
  },
  {
   "cell_type": "markdown",
   "id": "0eeaced9-313b-4ca7-b115-dae6af996f42",
   "metadata": {},
   "source": [
    "### load the input data"
   ]
  },
  {
   "cell_type": "markdown",
   "id": "a6d3c33c-009b-4537-8f52-eefd4f5292dc",
   "metadata": {},
   "source": [
    "#### load the risk features"
   ]
  },
  {
   "cell_type": "code",
   "execution_count": null,
   "id": "e7fbd10f-7f11-49d8-8c37-dda4011e939d",
   "metadata": {},
   "outputs": [],
   "source": [
    "risk_feats_df = read_csv(risk_features_file)\n",
    "print(f'risk features shape: {risk_feats_df.shape}')\n",
    "print(f'number of unique risk features: {risk_feats_df.name.nunique()}')\n",
    "\n",
    "# get the unique features names, the bed has duplicate names covering regions\n",
    "risk_features = risk_feats_df.name.unique()\n",
    "\n",
    "if DEBUG:\n",
    "    display(risk_feats_df.head())"
   ]
  },
  {
   "cell_type": "markdown",
   "id": "fd90f2de-feb4-4529-962b-4bdbe17f5ba5",
   "metadata": {},
   "source": [
    "#### load the *cis* correlations top results"
   ]
  },
  {
   "cell_type": "code",
   "execution_count": null,
   "id": "0da2a8c9-c14f-4d2c-8802-06fa39209d7f",
   "metadata": {},
   "outputs": [],
   "source": [
    "top_results_df = read_csv(top_cis_results_files)\n",
    "print(f'shape of top cis results: {top_results_df.shape}')\n",
    "\n",
    "if DEBUG:\n",
    "    display(top_results_df.head())"
   ]
  },
  {
   "cell_type": "markdown",
   "id": "57cb0895-afd5-43fe-ad2f-cb80c99533ad",
   "metadata": {},
   "source": [
    "### approximate a max nominmal p-value from the the full FDR results"
   ]
  },
  {
   "cell_type": "code",
   "execution_count": null,
   "id": "2030b305-fdf7-48bb-8f10-9a0d3989c390",
   "metadata": {},
   "outputs": [],
   "source": [
    "max_pvalue = top_results_df.loc[top_results_df.bh_fdr < alpha_value]['pval_nominal'].max()\n",
    "print(max_pvalue)\n",
    "\n",
    "# lower threshold to any where single feature pval_perm is suggestive\n",
    "max_pvalue = top_results_df.loc[top_results_df.pval_perm < alpha_value]['pval_nominal'].max()\n",
    "print(max_pvalue)\n",
    "\n",
    "max_pvalue = 0.01\n",
    "print(f'hardcoded max p-value: {max_pvalue}')"
   ]
  },
  {
   "cell_type": "markdown",
   "id": "f7d3717e-8fcb-4129-ad53-93956edc270d",
   "metadata": {},
   "source": [
    "### see if any top suggestive results happen to be risk features"
   ]
  },
  {
   "cell_type": "code",
   "execution_count": null,
   "id": "cc7de9ef-f2f0-41a4-bb94-f59ab5f85cc0",
   "metadata": {},
   "outputs": [],
   "source": [
    "risk_results_df = top_results_df.loc[(top_results_df.variant_id.isin(risk_features)) & \n",
    "                                     (top_results_df.pval_perm < alpha_value)]\n",
    "print(risk_results_df.shape)\n",
    "\n",
    "if DEBUG:\n",
    "    display(risk_results_df.head())\n",
    "    display(risk_results_df.bh_fdr.describe())"
   ]
  },
  {
   "cell_type": "code",
   "execution_count": null,
   "id": "4fe5a818-443c-4c99-a81c-50de1b41543a",
   "metadata": {},
   "outputs": [],
   "source": [
    "risk_results_df[['phenotype_id', 'variant_id']]"
   ]
  },
  {
   "cell_type": "markdown",
   "id": "87830c84-48d1-4089-bfd4-1cd9dc5b3fa9",
   "metadata": {},
   "source": [
    "### now load rest of results and see if risk features are correlated"
   ]
  },
  {
   "cell_type": "code",
   "execution_count": null,
   "id": "6c842b30-acd9-4059-9901-031cdb55395e",
   "metadata": {},
   "outputs": [],
   "source": [
    "import warnings\n",
    "# warnings.filterwarnings(action='once')\n",
    "warnings.filterwarnings('ignore')"
   ]
  },
  {
   "cell_type": "code",
   "execution_count": null,
   "id": "98ec59ed-3ff0-4728-ad33-2de8359dc901",
   "metadata": {},
   "outputs": [],
   "source": [
    "def load_chrom_result(chrom, in_dir, name, features, pval: float) -> DataFrame:\n",
    "    # have to do pass to find all phenos to possible capture\n",
    "    chrom_file = f'{in_dir}/{name}.cis_qtl_pairs.{chrom}.parquet'\n",
    "    chrom_results_df = read_parquet(chrom_file)\n",
    "    oi_chrom_results_df = chrom_results_df.loc[chrom_results_df.pval_nominal < pval]\n",
    "    oi_results = oi_chrom_results_df.loc[oi_chrom_results_df.variant_id.isin(features)]\n",
    "\n",
    "    return oi_results"
   ]
  },
  {
   "cell_type": "code",
   "execution_count": null,
   "id": "c9c86b8b-6b07-4c8d-b396-f4662950bd9b",
   "metadata": {},
   "outputs": [],
   "source": [
    "%%time\n",
    "\n",
    "risk_chroms = risk_feats_df.chrom.unique()\n",
    "fs_list = []\n",
    "lm_results = []\n",
    "with concurrent.futures.ProcessPoolExecutor() as ppe:\n",
    "    for chrom in risk_chroms:\n",
    "        fs_list.append(ppe.submit(load_chrom_result, chrom, \n",
    "                                  tensorqtl_dir, set_name, \n",
    "                                  risk_features, max_pvalue))"
   ]
  },
  {
   "cell_type": "code",
   "execution_count": null,
   "id": "e9961b57-d418-4ced-bfb0-b53d653369a5",
   "metadata": {},
   "outputs": [],
   "source": [
    "for future in concurrent.futures.as_completed(fs_list):\n",
    "    lm_results.append(future.result())\n",
    "\n",
    "# flatten the list\n",
    "results_to_keep = concat([item for item in lm_results])"
   ]
  },
  {
   "cell_type": "markdown",
   "id": "48c5050c-d993-487f-8897-7edca454ff10",
   "metadata": {},
   "source": [
    "#### summary counts from possible risk results"
   ]
  },
  {
   "cell_type": "code",
   "execution_count": null,
   "id": "62eb4e0c-531d-45ce-9bb2-f124fa8a85c1",
   "metadata": {},
   "outputs": [],
   "source": [
    "print(f'results shape: {results_to_keep.shape}')\n",
    "print(f'number unique endogenous features: {results_to_keep.phenotype_id.nunique()}')\n",
    "print(f'number unique exogenous features: {results_to_keep.variant_id.nunique()}')\n",
    "if DEBUG:\n",
    "    display(results_to_keep.head())\n",
    "    print(results_to_keep.phenotype_id.unique())\n",
    "    print(results_to_keep.variant_id.unique())"
   ]
  },
  {
   "cell_type": "markdown",
   "id": "562a7e79-730d-4779-ba41-c8794b82f61d",
   "metadata": {},
   "source": [
    "### save the results"
   ]
  },
  {
   "cell_type": "code",
   "execution_count": null,
   "id": "bade8b94-3843-4fc3-883f-d91fba1d36cd",
   "metadata": {},
   "outputs": [],
   "source": [
    "results_to_keep.to_csv(results_file, index=False)"
   ]
  }
 ],
 "metadata": {
  "environment": {
   "kernel": "python3",
   "name": "pytorch-gpu.1-12.m102",
   "type": "gcloud",
   "uri": "gcr.io/deeplearning-platform-release/pytorch-gpu.1-12:m102"
  },
  "kernelspec": {
   "display_name": "Python 3 (ipykernel)",
   "language": "python",
   "name": "python3"
  },
  "language_info": {
   "codemirror_mode": {
    "name": "ipython",
    "version": 3
   },
   "file_extension": ".py",
   "mimetype": "text/x-python",
   "name": "python",
   "nbconvert_exporter": "python",
   "pygments_lexer": "ipython3",
   "version": "3.12.2"
  }
 },
 "nbformat": 4,
 "nbformat_minor": 5
}
