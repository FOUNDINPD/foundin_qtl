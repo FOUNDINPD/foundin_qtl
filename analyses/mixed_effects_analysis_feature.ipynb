{
 "cells": [
  {
   "cell_type": "markdown",
   "id": "46db303e",
   "metadata": {},
   "source": [
    "## Notebook to do lindex mixed effects model analysis of quantified feature with repeated measures\n",
    "- features to be considered, probably should do in separate notebooks\n",
    "    - feature ~ day + (1| subject)\n",
    "    - feature ~ DAn fraction + (1|subject)\n",
    "    \n",
    "based on running linear mixed effects models in python examples:\n",
    "- [Comparing R lmer to Statsmodels MixedLM](https://nbviewer.jupyter.org/urls/umich.box.com/shared/static/6tfc1e0q6jincsv5pgfa.ipynb)\n",
    "- [Linear Mixed Effects Models](https://www.statsmodels.org/devel/examples/notebooks/generated/mixed_lm_example.html)\n",
    "- [statsmodel mixedlm from formula](https://www.statsmodels.org/dev/generated/statsmodels.regression.mixed_linear_model.MixedLM.from_formula.html)"
   ]
  },
  {
   "cell_type": "code",
   "execution_count": null,
   "id": "9111167b",
   "metadata": {},
   "outputs": [],
   "source": [
    "!date"
   ]
  },
  {
   "cell_type": "markdown",
   "id": "807a0515",
   "metadata": {},
   "source": [
    "#### import libraries"
   ]
  },
  {
   "cell_type": "code",
   "execution_count": null,
   "id": "f8bdba2c",
   "metadata": {},
   "outputs": [],
   "source": [
    "from pandas import read_csv, read_hdf, DataFrame\n",
    "import numpy as np\n",
    "from os import sched_getaffinity\n",
    "import statsmodels.api as sm\n",
    "import statsmodels.formula.api as smf\n",
    "import statsmodels.stats.multitest as smm\n",
    "from seaborn import lmplot\n",
    "import matplotlib.pyplot as plt\n",
    "from matplotlib.pyplot import rc_context\n",
    "import concurrent.futures\n",
    "from random import sample\n",
    "import warnings\n",
    "# warnings.filterwarnings(action='once')\n",
    "warnings.filterwarnings('ignore')\n",
    "\n",
    "%matplotlib inline\n",
    "# for white background of figures (only for docs rendering)\n",
    "%config InlineBackend.print_figure_kwargs={'facecolor' : \"w\"}\n",
    "%config InlineBackend.figure_format='retina'"
   ]
  },
  {
   "cell_type": "markdown",
   "id": "051799f2-977c-42bd-a32f-a1de1b5ec8be",
   "metadata": {},
   "source": [
    "#### set notebook variables"
   ]
  },
  {
   "cell_type": "code",
   "execution_count": null,
   "id": "1a5746b7-066b-4db4-aa6a-5b1fcf557f4f",
   "metadata": {
    "tags": [
     "parameters"
    ]
   },
   "outputs": [],
   "source": [
    "# parameters\n",
    "days = [] # ['da0', 'da25', 'da65']\n",
    "modality = ''\n",
    "exogenous = '' # 'daynum' DopaminergicNeurons'"
   ]
  },
  {
   "cell_type": "code",
   "execution_count": null,
   "id": "9d959ddf",
   "metadata": {},
   "outputs": [],
   "source": [
    "# naming\n",
    "cohort = 'foundin'\n",
    "\n",
    "# directories\n",
    "wrk_dir = '/home/jupyter/foundin_qtl'\n",
    "quants_dir = f'{wrk_dir}/quants'\n",
    "info_dir = f'{wrk_dir}/sample_info'\n",
    "results_dir = f'{wrk_dir}/results'\n",
    "\n",
    "# in files\n",
    "info_file = f'{info_dir}/{cohort}_{modality}_sample_info.csv'\n",
    "umaps_file = f'{info_dir}/{cohort}.{modality}.umap.covs.csv'\n",
    "quants_file = f'{quants_dir}/{cohort}_daALL_{modality}.scaled.adj.hdf5'\n",
    "\n",
    "# out files\n",
    "out_file = f'{results_dir}/{cohort}_{modality}_{exogenous}_lmm.csv'\n",
    "\n",
    "# variables\n",
    "other_terms = ['sex', 'Batch', 'PC1', 'PC2', 'PC3']\n",
    "MDL_OTHER_TERMS = '+ C(sex) + C(Batch) + PC1 + PC2 + PC3'\n",
    "DEBUG = False\n",
    "TESTING = False\n",
    "test_feature_cnt = 250\n",
    "dpi_value = 50\n",
    "cpu_count = len(sched_getaffinity(0))"
   ]
  },
  {
   "cell_type": "markdown",
   "id": "2f0eba6c",
   "metadata": {},
   "source": [
    "#### analysis functions"
   ]
  },
  {
   "cell_type": "code",
   "execution_count": null,
   "id": "0c75d666",
   "metadata": {},
   "outputs": [],
   "source": [
    "def mixed_model(formula: str, df: DataFrame, group_name: str, term: str) -> list:\n",
    "    model = sm.MixedLM.from_formula(formula, df, groups=df[group_name])\n",
    "    result = model.fit()\n",
    "    return [result.params[term], result.bse[term], \n",
    "            result.params.shape[0], result.pvalues[term]]\n",
    "\n",
    "def frmt_run_mm(endo: str, exo: str, df: DataFrame, group_name: str) -> list:\n",
    "    this_formula = f'Q(\"{endo}\") ~ {exo} {MDL_OTHER_TERMS}'        \n",
    "    try:\n",
    "        results = mixed_model(this_formula, df, group_name, exo)\n",
    "    except:\n",
    "#         print(f'Caught NameError for {endo}')\n",
    "        results = [np.nan, np.nan, np.nan, np.nan]\n",
    "    return [endo] + results\n",
    "\n",
    "# compute B&H FDR for given p-values\n",
    "def compute_fdr(pvalues):\n",
    "    bh_adj = smm.fdrcorrection(pvalues)\n",
    "    return bh_adj[1]"
   ]
  },
  {
   "cell_type": "markdown",
   "id": "235530ae-2bc3-4bb4-b4c3-8817778f12df",
   "metadata": {},
   "source": [
    "#### plotting functions"
   ]
  },
  {
   "cell_type": "code",
   "execution_count": null,
   "id": "876c33e3-aea3-4dc0-a55c-f52abcc9adfc",
   "metadata": {},
   "outputs": [],
   "source": [
    "def plot_regression(df: DataFrame, endo_feature, exo_feature: str=None,\n",
    "                    hue_feature: str='Batch'):\n",
    "    if exo_feature is None:\n",
    "        # if exogenous feature in none pull one a random\n",
    "        exo_feature = sample(set(df.columns) - set([endo_feature, hue_feature]), 1)[0]\n",
    "    with rc_context({'figure.figsize': (9, 9), 'figure.dpi': dpi_value}):\n",
    "        plt.style.use('seaborn-bright')     \n",
    "        lmplot(x=endo_feature, y=exo_feature, hue=hue_feature, data=df)"
   ]
  },
  {
   "cell_type": "markdown",
   "id": "0e063187-5926-497f-83a0-7ed25fd9efee",
   "metadata": {},
   "source": [
    "### generate to IDs of repeated samples to be excluded"
   ]
  },
  {
   "cell_type": "code",
   "execution_count": null,
   "id": "d9bb00c9-78ff-4f6a-81b7-ad630c0e85b1",
   "metadata": {},
   "outputs": [],
   "source": [
    "repeated_samples_to_exclude = []\n",
    "\n",
    "for day in days:\n",
    "    print(day)\n",
    "    day_excludes = [\n",
    "        f'{modality}_PPMI3966B1v1_{day}', \n",
    "        f'{modality}_PPMI3966B1v2_{day}',\n",
    "        f'{modality}_PPMI3966B1v3_{day}', \n",
    "        f'{modality}_PPMI3966B1v4_{day}',\n",
    "        f'{modality}_PPMI3966B1v5_{day}', \n",
    "        f'{modality}_PPMI3966B1v6_{day}',\n",
    "        f'{modality}_PPMI3966B1v7_{day}', \n",
    "        f'{modality}_PPMI3966B1v8_{day}',\n",
    "        f'{modality}_PPMI3966B1v9_{day}', \n",
    "        f'{modality}_PPMI3966B2v1_{day}',\n",
    "        f'{modality}_PPMI3966B2v2_{day}', \n",
    "        f'{modality}_PPMI3966B5v1_{day}'\n",
    "    ]\n",
    "    repeated_samples_to_exclude = repeated_samples_to_exclude + day_excludes\n",
    "\n",
    "print(repeated_samples_to_exclude)"
   ]
  },
  {
   "cell_type": "markdown",
   "id": "f9f6de6d-1514-4e93-84c6-0ce3c4dddbe9",
   "metadata": {},
   "source": [
    "### load input data"
   ]
  },
  {
   "cell_type": "markdown",
   "id": "bb23c894",
   "metadata": {},
   "source": [
    "#### load the known sample covariates"
   ]
  },
  {
   "cell_type": "code",
   "execution_count": null,
   "id": "4247e363",
   "metadata": {},
   "outputs": [],
   "source": [
    "covs_df = read_csv(info_file, index_col=0)\n",
    "print(f'covariates shape {covs_df.shape}')\n",
    "covs_df = covs_df[~covs_df.index.duplicated(keep='first')]\n",
    "print(f'post duplicate index drop covariates shape {covs_df.shape}')\n",
    "if DEBUG:\n",
    "    display(covs_df.head())"
   ]
  },
  {
   "cell_type": "markdown",
   "id": "74a668e7-d792-4b5f-a7ea-55164437672f",
   "metadata": {},
   "source": [
    "#### drop info for the repeated samples to be excluded\n",
    "\n",
    "this will also cause them to be dropped from quantified features via inner merge"
   ]
  },
  {
   "cell_type": "code",
   "execution_count": null,
   "id": "bd90a6ed-3bfd-4edc-9165-1a85e424c01d",
   "metadata": {},
   "outputs": [],
   "source": [
    "covs_df = covs_df[~covs_df.index.isin(repeated_samples_to_exclude)]\n",
    "print(f'after repeated sample drop covariates shape {covs_df.shape}')\n",
    "if DEBUG:\n",
    "    display(covs_df.head())"
   ]
  },
  {
   "cell_type": "markdown",
   "id": "938da9cc-1d69-4ec8-a5fe-b4376a525199",
   "metadata": {},
   "source": [
    "#### subset to include only days specified"
   ]
  },
  {
   "cell_type": "code",
   "execution_count": null,
   "id": "e9b1deda-fec9-44ee-9cdc-4dac21a03247",
   "metadata": {},
   "outputs": [],
   "source": [
    "covs_df = covs_df.loc[covs_df.day.isin(days)]\n",
    "print(f'shape of covariates after subset on specified days {covs_df.shape}')\n",
    "display(covs_df.day.value_counts())"
   ]
  },
  {
   "cell_type": "markdown",
   "id": "ec76d18e",
   "metadata": {},
   "source": [
    "#### if exogenous specified is day then add day number column based on day value"
   ]
  },
  {
   "cell_type": "code",
   "execution_count": null,
   "id": "5cbc7475",
   "metadata": {},
   "outputs": [],
   "source": [
    "if exogenous == 'daynum':\n",
    "    covs_df['daynum'] = covs_df['day'].str.replace('da','').astype('int32')\n",
    "    display(covs_df['daynum'].value_counts())"
   ]
  },
  {
   "cell_type": "markdown",
   "id": "25baeab9-dd9f-44a6-aa9e-01560378bec6",
   "metadata": {},
   "source": [
    "#### drop any samples that is missing one of the covariate terms to be used in modeling"
   ]
  },
  {
   "cell_type": "code",
   "execution_count": null,
   "id": "416a9186-688d-4672-ab67-133698445cff",
   "metadata": {},
   "outputs": [],
   "source": [
    "if DEBUG:\n",
    "    display(covs_df[[exogenous] + other_terms].info())\n",
    "keep_indices = covs_df[[exogenous] + other_terms].dropna().index\n",
    "covs_df = covs_df.loc[covs_df.index.intersection(keep_indices)]\n",
    "print(f'after dropping samples with missing data, covariates shape {covs_df.shape}')\n",
    "if DEBUG:\n",
    "    display(covs_df.head())"
   ]
  },
  {
   "cell_type": "markdown",
   "id": "bb431f43",
   "metadata": {},
   "source": [
    "#### load the quantification matrix"
   ]
  },
  {
   "cell_type": "code",
   "execution_count": null,
   "id": "5cadc5a9",
   "metadata": {},
   "outputs": [],
   "source": [
    "%%time\n",
    "quants_df = read_hdf(quants_file)\n",
    "print(f'quantified data shape {quants_df.shape}')\n",
    "if DEBUG:\n",
    "    display(quants_df.head())"
   ]
  },
  {
   "cell_type": "markdown",
   "id": "49b4d839-bdef-48d6-868b-6468a162fa71",
   "metadata": {},
   "source": [
    "##### if testing code subset to specified count"
   ]
  },
  {
   "cell_type": "code",
   "execution_count": null,
   "id": "6acaf21e-31fb-42a9-a93f-00508848a62c",
   "metadata": {},
   "outputs": [],
   "source": [
    "if TESTING:\n",
    "    import random\n",
    "    random.seed(42)\n",
    "    feature_subset = random.sample(list(quants_df.columns.values), test_feature_cnt)\n",
    "    quants_df = quants_df[feature_subset]\n",
    "    print(f'shape of quants for testing {quants_df.shape}')\n",
    "    if DEBUG:\n",
    "        display(quants_df.head())        "
   ]
  },
  {
   "cell_type": "markdown",
   "id": "a101f285",
   "metadata": {},
   "source": [
    "#### merge quantified features with sample infomation covariate terms"
   ]
  },
  {
   "cell_type": "code",
   "execution_count": null,
   "id": "6ad1133b",
   "metadata": {},
   "outputs": [],
   "source": [
    "data_df = quants_df.merge(covs_df, how='inner', \n",
    "                          left_index=True, right_index=True)\n",
    "print(f'shape of merged quants and covariates {data_df.shape}')\n",
    "if DEBUG:\n",
    "    display(data_df.sample(5))"
   ]
  },
  {
   "cell_type": "markdown",
   "id": "a315fa06",
   "metadata": {},
   "source": [
    "#### split the features into batches"
   ]
  },
  {
   "cell_type": "code",
   "execution_count": null,
   "id": "8182bbcd",
   "metadata": {},
   "outputs": [],
   "source": [
    "features = quants_df.columns.values\n",
    "print(f'number of features to analyze {len(features)}')\n",
    "features_partioned = np.array_split(features, np.floor(cpu_count))\n",
    "print(f'number of feature partions {len(features_partioned)}')\n",
    "print(f'number of features in the 1st partition {len(features_partioned[0])}')"
   ]
  },
  {
   "cell_type": "markdown",
   "id": "5e9e48eb",
   "metadata": {},
   "source": [
    "#### run the mixed effects models"
   ]
  },
  {
   "cell_type": "code",
   "execution_count": null,
   "id": "95a15df5",
   "metadata": {},
   "outputs": [],
   "source": [
    "def run_mm_batch(feat_list, ind_var, df, group_name):\n",
    "    batch_results = []\n",
    "    for feature in feat_list:\n",
    "        batch_results.append(frmt_run_mm(feature, ind_var, df, group_name))\n",
    "    return batch_results"
   ]
  },
  {
   "cell_type": "code",
   "execution_count": null,
   "id": "5ca1e996",
   "metadata": {
    "tags": []
   },
   "outputs": [],
   "source": [
    "%%time\n",
    "grouping = 'sampleid'\n",
    "\n",
    "fs_list = []\n",
    "lm_results = []\n",
    "# I run ProcessPoolExecutor from jupyter on Ubuntu, not working on CentOS\n",
    "# some threads out there that ProcessPoolExecutor won't work from juypter\n",
    "# but that looks like OS based and switching process being done via spawn\n",
    "# instead of fork, but CentOS uses fork\n",
    "# so switching to ThreadPoolExecutor just to make is work\n",
    "with concurrent.futures.ProcessPoolExecutor() as ppe:\n",
    "# with concurrent.futures.ThreadPoolExecutor() as ppe:\n",
    "    for batch_features in features_partioned:\n",
    "        fs_list.append(ppe.submit(run_mm_batch, batch_features, exogenous, data_df, grouping))\n",
    "for future in concurrent.futures.as_completed(fs_list):\n",
    "    lm_results.append(future.result())"
   ]
  },
  {
   "cell_type": "code",
   "execution_count": null,
   "id": "152b7048",
   "metadata": {},
   "outputs": [],
   "source": [
    "# flatten the list\n",
    "results = [item for sublist in lm_results for item in sublist]"
   ]
  },
  {
   "cell_type": "code",
   "execution_count": null,
   "id": "aed8d8ef",
   "metadata": {},
   "outputs": [],
   "source": [
    "results_df = DataFrame(data=results, columns=['feature', 'coef', 'stderr', 'term_cnt', 'p-value'])\n",
    "print(f'shape of results {results_df.shape}')\n",
    "if DEBUG:\n",
    "    display(results_df.head())"
   ]
  },
  {
   "cell_type": "markdown",
   "id": "8705fd20-7f06-4e6a-8990-c1c01467d268",
   "metadata": {},
   "source": [
    "##### if debugging double check a result with full summary info"
   ]
  },
  {
   "cell_type": "code",
   "execution_count": null,
   "id": "e16c693a-90a8-46d7-a9ab-fd28b4de83f0",
   "metadata": {},
   "outputs": [],
   "source": [
    "%%time\n",
    "if DEBUG:\n",
    "    endo = results_df.feature[1] # check 2nd result\n",
    "\n",
    "    this_formula = f'Q(\"{endo}\") ~ {exogenous} {MDL_OTHER_TERMS}'        \n",
    "\n",
    "    model = sm.MixedLM.from_formula(this_formula, data_df, groups=data_df[grouping])\n",
    "    result = model.fit()\n",
    "\n",
    "    print([result.params[exogenous], result.bse[exogenous], \n",
    "           result.params.shape[0], result.pvalues[exogenous]])\n",
    "    print(result.summary())"
   ]
  },
  {
   "cell_type": "markdown",
   "id": "521ca4a9",
   "metadata": {},
   "source": [
    "#### calc FDR"
   ]
  },
  {
   "cell_type": "code",
   "execution_count": null,
   "id": "d7ff503c",
   "metadata": {},
   "outputs": [],
   "source": [
    "results_df['bh_fdr'] = compute_fdr(results_df['p-value'].fillna(1))\n",
    "\n",
    "print(results_df.loc[results_df['bh_fdr'] < 0.05].shape)\n",
    "if DEBUG:\n",
    "    display(results_df.head())"
   ]
  },
  {
   "cell_type": "code",
   "execution_count": null,
   "id": "82635a0a",
   "metadata": {},
   "outputs": [],
   "source": [
    "sig_df = results_df.loc[results_df['bh_fdr'] < 0.05]\n",
    "if sig_df.shape[0] > 0:\n",
    "    display(sig_df.loc[sig_df['p-value'] == min(sig_df['p-value'])])\n",
    "    display(sig_df.loc[sig_df['p-value'] == max(sig_df['p-value'])])"
   ]
  },
  {
   "cell_type": "markdown",
   "id": "f25bc270",
   "metadata": {},
   "source": [
    "#### save the simple mixed model results"
   ]
  },
  {
   "cell_type": "code",
   "execution_count": null,
   "id": "3d44929b",
   "metadata": {},
   "outputs": [],
   "source": [
    "results_df.to_csv(out_file, index=False)"
   ]
  },
  {
   "cell_type": "markdown",
   "id": "cd0d2171-a2d9-46bc-bed2-2ded10f59ec0",
   "metadata": {
    "tags": []
   },
   "source": [
    "#### do some example plotting"
   ]
  },
  {
   "cell_type": "code",
   "execution_count": null,
   "id": "9d574824",
   "metadata": {},
   "outputs": [],
   "source": [
    "# don't set exogeneous feature to use random\n",
    "plot_regression(data_df, exogenous)\n",
    "plot_regression(data_df, exogenous)"
   ]
  },
  {
   "cell_type": "code",
   "execution_count": null,
   "id": "db33cfd2-66d5-4475-b2e0-64ecd153a346",
   "metadata": {},
   "outputs": [],
   "source": [
    "plot_regression(data_df, exogenous, hue_feature='GROUP')\n",
    "plot_regression(data_df, exogenous, hue_feature='GROUP')"
   ]
  },
  {
   "cell_type": "code",
   "execution_count": null,
   "id": "407d9294",
   "metadata": {},
   "outputs": [],
   "source": [
    "!date"
   ]
  }
 ],
 "metadata": {
  "environment": {
   "kernel": "python3",
   "name": "pytorch-gpu.1-12.m102",
   "type": "gcloud",
   "uri": "gcr.io/deeplearning-platform-release/pytorch-gpu.1-12:m102"
  },
  "kernelspec": {
   "display_name": "Python 3 (ipykernel)",
   "language": "python",
   "name": "python3"
  },
  "language_info": {
   "codemirror_mode": {
    "name": "ipython",
    "version": 3
   },
   "file_extension": ".py",
   "mimetype": "text/x-python",
   "name": "python",
   "nbconvert_exporter": "python",
   "pygments_lexer": "ipython3",
   "version": "3.7.12"
  },
  "widgets": {
   "application/vnd.jupyter.widget-state+json": {
    "state": {},
    "version_major": 2,
    "version_minor": 0
   }
  }
 },
 "nbformat": 4,
 "nbformat_minor": 5
}
