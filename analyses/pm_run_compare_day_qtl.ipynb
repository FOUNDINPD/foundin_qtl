{
 "cells": [
  {
   "cell_type": "markdown",
   "id": "1d8f6fde-58a3-4424-8049-f72b04dcddf7",
   "metadata": {},
   "source": [
    "## Notebook to run the comparison between days using *cis* corrleations between modelality pairings"
   ]
  },
  {
   "cell_type": "code",
   "execution_count": null,
   "id": "aa48eacc-f52f-428c-92b7-a7b193d5dad3",
   "metadata": {},
   "outputs": [],
   "source": [
    "!date"
   ]
  },
  {
   "cell_type": "markdown",
   "id": "dd7759e7-61ee-4d7e-bdb5-b8dedecff1a7",
   "metadata": {},
   "source": [
    "#### import libraries and set notebook variables"
   ]
  },
  {
   "cell_type": "code",
   "execution_count": null,
   "id": "edd363ce-d894-4a1a-9f1b-416a02ab5ebb",
   "metadata": {},
   "outputs": [],
   "source": [
    "from papermill import execute_notebook"
   ]
  },
  {
   "cell_type": "code",
   "execution_count": null,
   "id": "706099d3-174e-473b-abc2-9e95fe9f87a9",
   "metadata": {},
   "outputs": [],
   "source": [
    "# directories\n",
    "home_dir = '/home/gibbsr/working/foundin/foundin_qtl/analyses'\n",
    "\n",
    "# base notebook to be run per tuple iteration\n",
    "base_notebook = f'{home_dir}/compare_day_qtl_results.ipynb'\n",
    "\n",
    "# output path for the generated notebooks\n",
    "out_nb_dir = f'{home_dir}/pm_gend_nbs'\n",
    "\n",
    "# setup parameters to iterate\n",
    "modalities = ['ATAC', 'CIRC', 'METH', 'PDUI', 'RNAB', 'RNAS']"
   ]
  },
  {
   "cell_type": "markdown",
   "id": "6da05932-d273-4d9a-aff3-b7ed9be91736",
   "metadata": {},
   "source": [
    "#### run the notebook iterations"
   ]
  },
  {
   "cell_type": "code",
   "execution_count": null,
   "id": "a85c3eb1-b64f-41bb-86ce-a2248be6241e",
   "metadata": {},
   "outputs": [],
   "source": [
    "%%time\n",
    "\n",
    "for modality in modalities:\n",
    "    param_dict = {'modality': modality}\n",
    "    out_notebook = f'{out_nb_dir}/{modality}.compare_day_qtl.ipynb'\n",
    "    print(param_dict)\n",
    "    print(out_notebook)\n",
    "    try:\n",
    "        execute_notebook(input_path=base_notebook, output_path=out_notebook, \n",
    "                         parameters=param_dict)\n",
    "    except:\n",
    "        print(f'{modality} encountered an error continuing on next')        "
   ]
  },
  {
   "cell_type": "code",
   "execution_count": null,
   "id": "fb7fc951-ce00-42fb-92c3-9b1f92d790c4",
   "metadata": {},
   "outputs": [],
   "source": [
    "!date"
   ]
  }
 ],
 "metadata": {
  "environment": {
   "kernel": "python3",
   "name": "pytorch-gpu.1-12.m102",
   "type": "gcloud",
   "uri": "gcr.io/deeplearning-platform-release/pytorch-gpu.1-12:m102"
  },
  "kernelspec": {
   "display_name": "Python 3 (ipykernel)",
   "language": "python",
   "name": "python3"
  },
  "language_info": {
   "codemirror_mode": {
    "name": "ipython",
    "version": 3
   },
   "file_extension": ".py",
   "mimetype": "text/x-python",
   "name": "python",
   "nbconvert_exporter": "python",
   "pygments_lexer": "ipython3",
   "version": "3.10.13"
  }
 },
 "nbformat": 4,
 "nbformat_minor": 5
}
