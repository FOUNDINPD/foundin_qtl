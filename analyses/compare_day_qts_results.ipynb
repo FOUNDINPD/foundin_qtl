{
 "cells": [
  {
   "cell_type": "markdown",
   "id": "7fb74f70",
   "metadata": {},
   "source": [
    "#### Notebook to compare the significant QTS singals by day"
   ]
  },
  {
   "cell_type": "code",
   "execution_count": null,
   "id": "f6562513",
   "metadata": {},
   "outputs": [],
   "source": [
    "!date"
   ]
  },
  {
   "cell_type": "markdown",
   "id": "1d0e05bf-c789-4a85-ba4e-1a1ca9954b6b",
   "metadata": {},
   "source": [
    "#### import libraries"
   ]
  },
  {
   "cell_type": "code",
   "execution_count": null,
   "id": "4c44266a",
   "metadata": {},
   "outputs": [],
   "source": [
    "from pandas import read_csv, concat"
   ]
  },
  {
   "cell_type": "markdown",
   "id": "36295c35-5c5e-4262-a6a7-fdf657a2c8aa",
   "metadata": {},
   "source": [
    "#### set notebook variables"
   ]
  },
  {
   "cell_type": "code",
   "execution_count": null,
   "id": "582e861b",
   "metadata": {
    "tags": [
     "parameters"
    ]
   },
   "outputs": [],
   "source": [
    "# parameters\n",
    "modality = 'RNAB'"
   ]
  },
  {
   "cell_type": "code",
   "execution_count": null,
   "id": "39a0fd23",
   "metadata": {},
   "outputs": [],
   "source": [
    "# naming\n",
    "cohort = 'foundin'\n",
    "set_name = f'{cohort}_{modality}'\n",
    "\n",
    "# directories\n",
    "wrk_dir = '/home/jupyter/foundin_qtl'\n",
    "qts_dir = f'{wrk_dir}/qts'\n",
    "\n",
    "# input files\n",
    "\n",
    "# out files\n",
    "results_file = f'{qts_dir}/{set_name}.qts.csv'\n",
    "\n",
    "# variables\n",
    "DEBUG = True\n",
    "days = ['da0', 'da25', 'da65']"
   ]
  },
  {
   "cell_type": "markdown",
   "id": "959a402c",
   "metadata": {},
   "source": [
    "#### load the results"
   ]
  },
  {
   "cell_type": "code",
   "execution_count": null,
   "id": "8a263068",
   "metadata": {},
   "outputs": [],
   "source": [
    "qts_df = None\n",
    "for day in days:\n",
    "    cohort_set = f'{cohort}.{day}'\n",
    "    qts_file = f'{qts_dir}/{cohort}_{day}_{modality}.qts.csv'\n",
    "    this_df = read_csv(qts_file, index_col=0)\n",
    "    print(f'day {day} shape is {this_df.shape}')\n",
    "    this_df['day'] = day\n",
    "    qts_df = concat([qts_df, this_df])\n",
    "    print(f'after day {day} total shape {qts_df.shape}')"
   ]
  },
  {
   "cell_type": "code",
   "execution_count": null,
   "id": "80b128be",
   "metadata": {},
   "outputs": [],
   "source": [
    "print(qts_df.shape)\n",
    "display(qts_df.sample(5))"
   ]
  },
  {
   "cell_type": "code",
   "execution_count": null,
   "id": "a7d379b1",
   "metadata": {},
   "outputs": [],
   "source": [
    "qts_df.day.value_counts()"
   ]
  },
  {
   "cell_type": "markdown",
   "id": "4cba899a",
   "metadata": {},
   "source": [
    "#### subset to significant based on FDR"
   ]
  },
  {
   "cell_type": "code",
   "execution_count": null,
   "id": "17e8af09",
   "metadata": {},
   "outputs": [],
   "source": [
    "sig_df = qts_df.loc[qts_df['bh_fdr'] < 0.05]\n",
    "print(sig_df.shape)\n",
    "if sig_df.shape[0] > 5:\n",
    "    display(sig_df.sample(5))"
   ]
  },
  {
   "cell_type": "code",
   "execution_count": null,
   "id": "e3a7cb07",
   "metadata": {},
   "outputs": [],
   "source": [
    "sig_df.day.value_counts()"
   ]
  },
  {
   "cell_type": "markdown",
   "id": "b987dea1",
   "metadata": {},
   "source": [
    "#### save the combined significant QTS results"
   ]
  },
  {
   "cell_type": "code",
   "execution_count": null,
   "id": "fff518d9",
   "metadata": {},
   "outputs": [],
   "source": [
    "if sig_df.shape[0] > 0:\n",
    "    sig_df.to_csv(results_file, index=False)"
   ]
  },
  {
   "cell_type": "code",
   "execution_count": null,
   "id": "4ab15c56",
   "metadata": {},
   "outputs": [],
   "source": [
    "!date"
   ]
  },
  {
   "cell_type": "code",
   "execution_count": null,
   "id": "1610de19-2486-4a49-a621-f98281983328",
   "metadata": {},
   "outputs": [],
   "source": []
  }
 ],
 "metadata": {
  "environment": {
   "kernel": "python3",
   "name": "pytorch-gpu.1-12.m102",
   "type": "gcloud",
   "uri": "gcr.io/deeplearning-platform-release/pytorch-gpu.1-12:m102"
  },
  "kernelspec": {
   "display_name": "Python 3 (ipykernel)",
   "language": "python",
   "name": "python3"
  },
  "language_info": {
   "codemirror_mode": {
    "name": "ipython",
    "version": 3
   },
   "file_extension": ".py",
   "mimetype": "text/x-python",
   "name": "python",
   "nbconvert_exporter": "python",
   "pygments_lexer": "ipython3",
   "version": "3.7.12"
  },
  "widgets": {
   "application/vnd.jupyter.widget-state+json": {
    "state": {},
    "version_major": 2,
    "version_minor": 0
   }
  }
 },
 "nbformat": 4,
 "nbformat_minor": 5
}
