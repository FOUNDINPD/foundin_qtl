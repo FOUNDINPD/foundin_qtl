{
 "cells": [
  {
   "cell_type": "markdown",
   "id": "e014a530-2806-4737-a731-8d82387386ef",
   "metadata": {},
   "source": [
    "## Visualize the cell-type colocalization and their GSEA and Sankey diagrams\n",
    "\n",
    "SanKey data formatter modified from [Data Vizardry By Viraj Deshpande](https://virajdeshpande.wordpress.com/portfolio/sankey-diagram/)"
   ]
  },
  {
   "cell_type": "code",
   "execution_count": 1,
   "id": "7b12d2d2-5843-4343-9659-65b8e323dfdd",
   "metadata": {},
   "outputs": [
    {
     "name": "stdout",
     "output_type": "stream",
     "text": [
      "Mon Feb 13 21:41:23 UTC 2023\n"
     ]
    }
   ],
   "source": [
    "!date"
   ]
  },
  {
   "cell_type": "markdown",
   "id": "a8b709f0-b2a7-43ae-8abc-0da4e32dc3a4",
   "metadata": {},
   "source": [
    "#### import libraries"
   ]
  },
  {
   "cell_type": "code",
   "execution_count": 2,
   "id": "e3c625bb-fbbd-4a0c-8368-2e943af895a1",
   "metadata": {},
   "outputs": [],
   "source": [
    "from pandas import read_csv, concat, read_parquet, DataFrame\n",
    "from os.path import exists\n",
    "from numpy import log10\n",
    "from scipy.stats import zscore\n",
    "from sklearn.preprocessing import MinMaxScaler"
   ]
  },
  {
   "cell_type": "markdown",
   "id": "566cbb62-5e98-43cc-9156-23b6003c0e63",
   "metadata": {},
   "source": [
    "#### set notebook variables"
   ]
  },
  {
   "cell_type": "code",
   "execution_count": 3,
   "id": "5d1c164c-f350-433c-9bca-2c90d1d541a3",
   "metadata": {},
   "outputs": [],
   "source": [
    "# naming\n",
    "cohort = 'foundin'\n",
    "dx = 'PD'\n",
    "day = 'daNA'\n",
    "\n",
    "# directories\n",
    "wrk_dir = '/home/jupyter/foundin_qtl'\n",
    "results_dir = f'{wrk_dir}/results'\n",
    "public_dir = f'{wrk_dir}/public'\n",
    "figures_dir = f'{wrk_dir}/figures'\n",
    "\n",
    "# in files\n",
    "index_variants_file = f'{public_dir}/nalls_pd_gwas/index_variants.list'\n",
    "gsea_file = f'{figures_dir}/{cohort}.colocalization.{dx}.gsea_enrichr.csv'\n",
    "\n",
    "# out files\n",
    "figure_file = f'{figures_dir}/{cohort}.colocalization.{dx}.sankey.html'\n",
    "cell_figure_file = f'{figures_dir}/{cohort}.colocalization.{dx}.sankey.cellpair.html'\n",
    "gsea_figure_file = f'{figures_dir}/{cohort}.colocalization.{dx}.sankey.gseapair.html'\n",
    "\n",
    "# variables\n",
    "DEBUG = False\n",
    "modalities = ['Bryois-Astro', 'Bryois-Endo', 'Bryois-ExN', 'Bryois-InN', \n",
    "              'Bryois-Micro', 'Bryois-OPC', 'Bryois-Oligo', 'Bryois-Peri', \n",
    "              'DAn-meta']\n",
    "dpi_value = 100\n",
    "min_h4 = 0.2\n",
    "alpha_value = 0.05\n",
    "link_cols = ['source', 'target', 'weight']"
   ]
  },
  {
   "cell_type": "markdown",
   "id": "9d501569-99ff-4237-82f7-8e53290e650a",
   "metadata": {},
   "source": [
    "### load input data"
   ]
  },
  {
   "cell_type": "markdown",
   "id": "481847f8-46f5-44e2-aacf-c327df421dc8",
   "metadata": {},
   "source": [
    "#### for each day and modality load the colocalization results"
   ]
  },
  {
   "cell_type": "code",
   "execution_count": 4,
   "id": "918d0699-e6bd-45d3-9350-243c9e6be217",
   "metadata": {},
   "outputs": [
    {
     "name": "stdout",
     "output_type": "stream",
     "text": [
      "daNA Bryois-Astro:loaded 31 results\n",
      "daNA Bryois-Endo:loaded 19 results\n",
      "daNA Bryois-ExN:loaded 56 results\n",
      "daNA Bryois-InN:loaded 41 results\n",
      "daNA Bryois-Micro:loaded 28 results\n",
      "daNA Bryois-OPC:loaded 22 results\n",
      "daNA Bryois-Oligo:loaded 37 results\n",
      "daNA Bryois-Peri:loaded 18 results\n",
      "daNA DAn-meta:loaded 35 results\n",
      "\n",
      "total results loaded 287\n"
     ]
    }
   ],
   "source": [
    "coloc_df = None\n",
    "for modality in modalities:\n",
    "    print(day, modality, end=':')\n",
    "    in_file = f'{results_dir}/{cohort}_{day}_{modality}_{dx}.coloc.pp.csv'\n",
    "    if exists(in_file):\n",
    "        this_df = read_csv(in_file)\n",
    "        print(f'loaded {this_df.shape[0]} results')\n",
    "        # add day and modality\n",
    "        this_df['day'] = day\n",
    "        this_df['modality'] = modality\n",
    "        coloc_df = concat([coloc_df, this_df])\n",
    "print(f'\\ntotal results loaded {coloc_df.shape[0]}')\n",
    "if DEBUG:\n",
    "    display(coloc_df.sample(5))\n",
    "    display(coloc_df.day.value_counts())\n",
    "    display(coloc_df.modality.value_counts()) "
   ]
  },
  {
   "cell_type": "markdown",
   "id": "a6f34f02-4d78-42f9-b376-34d3c15e783b",
   "metadata": {},
   "source": [
    "#### subset based on the minimum H4 variable"
   ]
  },
  {
   "cell_type": "code",
   "execution_count": 5,
   "id": "5bfc32bd-8ae8-46f8-85e0-d7ec09540809",
   "metadata": {},
   "outputs": [
    {
     "name": "stdout",
     "output_type": "stream",
     "text": [
      "results shape after filter on H4 (209, 9)\n"
     ]
    }
   ],
   "source": [
    "# temp = coloc_df.loc[coloc_df.H4 > min_h4]\n",
    "# print(f'{temp.feature.nunique()} traits will be used')\n",
    "# coloc_df = coloc_df.loc[coloc_df.feature.isin(temp.feature)]\n",
    "coloc_df = coloc_df.loc[coloc_df.H4 > min_h4]\n",
    "print(f'results shape after filter on H4 {coloc_df.shape}')\n",
    "if DEBUG:\n",
    "    display(coloc_df.head())\n",
    "    display(coloc_df.modality.value_counts()) "
   ]
  },
  {
   "cell_type": "markdown",
   "id": "1dfb3bf1-dcd6-408e-81bf-4a392883965f",
   "metadata": {},
   "source": [
    "#### create the feature to cell-type colocalization links"
   ]
  },
  {
   "cell_type": "code",
   "execution_count": 6,
   "id": "4c71b44a-48f7-4bca-b97a-d244e397213e",
   "metadata": {},
   "outputs": [
    {
     "name": "stdout",
     "output_type": "stream",
     "text": [
      "feature to cell-type colocalization links shape (209, 3)\n"
     ]
    }
   ],
   "source": [
    "feat_cell_links = coloc_df[['feature', 'modality', 'H4']].copy()\n",
    "print(f'feature to cell-type colocalization links shape {feat_cell_links.shape}')\n",
    "feat_cell_links.columns = link_cols\n",
    "# standarize the values\n",
    "feat_cell_links.weight =  MinMaxScaler().fit_transform(zscore(feat_cell_links.weight).values.reshape(-1, 1))+0.1*10\n",
    "if DEBUG:\n",
    "    display(feat_cell_links.head())"
   ]
  },
  {
   "cell_type": "markdown",
   "id": "da080dd2-c513-45c1-859f-2ed622afac74",
   "metadata": {},
   "source": [
    "#### load the colocaliztion GSEA Enrichr results"
   ]
  },
  {
   "cell_type": "code",
   "execution_count": 7,
   "id": "ee04d5e1-7598-4b3a-b192-b63c403129b6",
   "metadata": {},
   "outputs": [
    {
     "name": "stdout",
     "output_type": "stream",
     "text": [
      "shape of GSEA results (3357, 12)\n",
      "shape of GSEA statistically significant results (30, 12)\n",
      "shape of GSEA in selected modalities (16, 12)\n"
     ]
    }
   ],
   "source": [
    "gsea_df = read_csv(gsea_file, index_col=0)\n",
    "print(f'shape of GSEA results {gsea_df.shape}')\n",
    "# subset to stat significant terms\n",
    "# temp = gsea_df.loc[gsea_df.bh_fdr <= alpha_value]\n",
    "# gsea_df = gsea_df.loc[gsea_df.Term.isin(temp.Term)]\n",
    "gsea_df = gsea_df.loc[gsea_df.bh_fdr <= alpha_value]\n",
    "print(f'shape of GSEA statistically significant results {gsea_df.shape}')\n",
    "# subset to just modalities of interest\n",
    "gsea_df = gsea_df.loc[gsea_df.modality.isin(modalities)]\n",
    "print(f'shape of GSEA in selected modalities {gsea_df.shape}')\n",
    "if DEBUG:\n",
    "    display(gsea_df.head())"
   ]
  },
  {
   "cell_type": "markdown",
   "id": "c8bf4a0c-3427-4ad3-b315-5ed205d31319",
   "metadata": {},
   "source": [
    "#### clean-up the GO term entity"
   ]
  },
  {
   "cell_type": "code",
   "execution_count": 8,
   "id": "f47bc0a0-9a2c-4142-9214-7c86999a35d1",
   "metadata": {},
   "outputs": [],
   "source": [
    "# gsea_df['Gene_set'] = gsea_df.Gene_set.str.replace('GO_','')\n",
    "# gsea_df['Term'] = gsea_df.Gene_set.str.replace('_2021',': ') + gsea_df.Term\n",
    "# print(f'shape of GSEA post Term naming cleanup {gsea_df.shape}')\n",
    "# if DEBUG:\n",
    "#     display(gsea_df.head())"
   ]
  },
  {
   "cell_type": "markdown",
   "id": "a1616e76-f1a9-4494-9e65-d5214a083728",
   "metadata": {},
   "source": [
    "#### create the weight values; -log10(p-value)"
   ]
  },
  {
   "cell_type": "code",
   "execution_count": 9,
   "id": "5b15a31d-cdb5-478f-b46d-3020593dc31e",
   "metadata": {},
   "outputs": [
    {
     "name": "stdout",
     "output_type": "stream",
     "text": [
      "shape of modified GSEA results (16, 13)\n"
     ]
    }
   ],
   "source": [
    "gsea_df['log10_pvalue'] = -log10(gsea_df['P-value'])\n",
    "print(f'shape of modified GSEA results {gsea_df.shape}')\n",
    "if DEBUG:\n",
    "    display(gsea_df.head())"
   ]
  },
  {
   "cell_type": "markdown",
   "id": "30df2b04-ed76-4a21-8433-8da3204d752c",
   "metadata": {},
   "source": [
    "#### create the term to cell-type links"
   ]
  },
  {
   "cell_type": "code",
   "execution_count": 10,
   "id": "ed125b2d-c6f8-4afa-9a63-04db3b431770",
   "metadata": {},
   "outputs": [
    {
     "name": "stdout",
     "output_type": "stream",
     "text": [
      "term to cell-type links shape (16, 3)\n"
     ]
    }
   ],
   "source": [
    "term_cell_links = gsea_df[['modality', 'Term', 'log10_pvalue']].copy()\n",
    "print(f'term to cell-type links shape {term_cell_links.shape}')\n",
    "term_cell_links.columns = link_cols\n",
    "# standarize the values\n",
    "term_cell_links.weight =  MinMaxScaler().fit_transform(zscore(term_cell_links.weight).values.reshape(-1, 1))+0.1\n",
    "if DEBUG:\n",
    "    display(term_cell_links.head())"
   ]
  },
  {
   "cell_type": "markdown",
   "id": "3fec701d-4bd3-4232-9451-89cfc67e5575",
   "metadata": {},
   "source": [
    "#### fill None for any cell-types with empty GSEA enrichment"
   ]
  },
  {
   "cell_type": "code",
   "execution_count": 11,
   "id": "cbe2e067-d1d3-4148-8f72-33aa41b052b4",
   "metadata": {},
   "outputs": [
    {
     "name": "stdout",
     "output_type": "stream",
     "text": [
      "{'Bryois-ExN', 'Bryois-Oligo', 'Bryois-Peri', 'Bryois-OPC', 'Bryois-Astro', 'Bryois-Endo'}\n",
      "shape of missing modalities (6, 3)\n",
      "updated term to cell-type links shape (22, 3)\n"
     ]
    }
   ],
   "source": [
    "lists_to_add = []\n",
    "missing_modals = set(modalities) - set(term_cell_links.source)\n",
    "print(missing_modals)\n",
    "for modality in missing_modals:\n",
    "    this_item = [modality, 'No Enrichments', 1]\n",
    "    lists_to_add.append(this_item)\n",
    "misssing_df = DataFrame(data=lists_to_add, columns=link_cols)\n",
    "print(f'shape of missing modalities {misssing_df.shape}')\n",
    "term_cell_links = term_cell_links.append(misssing_df)\n",
    "print(f'updated term to cell-type links shape {term_cell_links.shape}')\n",
    "if DEBUG:\n",
    "    display(term_cell_links.head())\n",
    "    display(term_cell_links.tail())    "
   ]
  },
  {
   "cell_type": "code",
   "execution_count": 12,
   "id": "4d8d4647-58a1-406f-a0b6-0ad08737bb7f",
   "metadata": {},
   "outputs": [
    {
     "data": {
      "text/html": [
       "<div>\n",
       "<style scoped>\n",
       "    .dataframe tbody tr th:only-of-type {\n",
       "        vertical-align: middle;\n",
       "    }\n",
       "\n",
       "    .dataframe tbody tr th {\n",
       "        vertical-align: top;\n",
       "    }\n",
       "\n",
       "    .dataframe thead th {\n",
       "        text-align: right;\n",
       "    }\n",
       "</style>\n",
       "<table border=\"1\" class=\"dataframe\">\n",
       "  <thead>\n",
       "    <tr style=\"text-align: right;\">\n",
       "      <th></th>\n",
       "      <th>source</th>\n",
       "      <th>target</th>\n",
       "      <th>weight</th>\n",
       "    </tr>\n",
       "  </thead>\n",
       "  <tbody>\n",
       "    <tr>\n",
       "      <th>0</th>\n",
       "      <td>Bryois-InN</td>\n",
       "      <td>excitatory postsynaptic potential (GO:0060079)</td>\n",
       "      <td>0.1</td>\n",
       "    </tr>\n",
       "  </tbody>\n",
       "</table>\n",
       "</div>"
      ],
      "text/plain": [
       "       source                                          target  weight\n",
       "0  Bryois-InN  excitatory postsynaptic potential (GO:0060079)     0.1"
      ]
     },
     "execution_count": 12,
     "metadata": {},
     "output_type": "execute_result"
    }
   ],
   "source": [
    "term_cell_links.loc[term_cell_links.source == 'Bryois-InN']"
   ]
  },
  {
   "cell_type": "markdown",
   "id": "64110071-d6bd-4835-9e6a-5bf477db9754",
   "metadata": {},
   "source": [
    "### combine the link data"
   ]
  },
  {
   "cell_type": "code",
   "execution_count": 13,
   "id": "2548f153-fef6-4a62-a072-8fbb93c2a596",
   "metadata": {},
   "outputs": [
    {
     "name": "stdout",
     "output_type": "stream",
     "text": [
      "shape of all links to include (231, 3)\n"
     ]
    }
   ],
   "source": [
    "# links_df = concat([feat_cell_links, term_cell_links])\n",
    "links_df = feat_cell_links.append(term_cell_links)\n",
    "print(f'shape of all links to include {links_df.shape}')\n",
    "if DEBUG:\n",
    "    display(links_df.head())"
   ]
  },
  {
   "cell_type": "markdown",
   "id": "16f9c6e9-9303-4a8c-934c-d1f498a3a854",
   "metadata": {},
   "source": [
    "### visualize as Sankey diagram"
   ]
  },
  {
   "cell_type": "code",
   "execution_count": 14,
   "id": "762b7b96-437d-4479-82e9-273833139d36",
   "metadata": {},
   "outputs": [],
   "source": [
    "import plotly.offline as pyoff\n",
    "\n",
    "# function from Viraj Deshpande at https://virajdeshpande.wordpress.com/portfolio/sankey-diagram/\n",
    "def genSankey(df,cat_cols=[],value_cols='',title='Sankey Diagram'):\n",
    "    # # maximum of 6 value cols -> 6 colors\n",
    "    # colorPalette = ['#FFD43B','#646464','#4B8BBE','#306998']\n",
    "    labelList = []\n",
    "    # colorNumList = []\n",
    "    for catCol in cat_cols:\n",
    "        labelListTemp =  list(set(df[catCol].values))\n",
    "        # colorNumList.append(len(labelListTemp))\n",
    "        labelList = labelList + labelListTemp\n",
    "        \n",
    "    # remove duplicates from labelList\n",
    "    labelList = list(dict.fromkeys(labelList))\n",
    "    \n",
    "    # # define colors based on number of levels\n",
    "    # colorList = []\n",
    "    # for idx, colorNum in enumerate(colorNumList):\n",
    "    #     colorList = colorList + [colorPalette[idx]]*colorNum\n",
    "        \n",
    "    # transform df into a source-target pair\n",
    "    for i in range(len(cat_cols)-1):\n",
    "        if i==0:\n",
    "            sourceTargetDf = df[[cat_cols[i],cat_cols[i+1],value_cols]]\n",
    "            sourceTargetDf.columns = ['source','target','count']\n",
    "        else:\n",
    "            tempDf = df[[cat_cols[i],cat_cols[i+1],value_cols]]\n",
    "            tempDf.columns = ['source','target','count']\n",
    "            sourceTargetDf = pd.concat([sourceTargetDf,tempDf])\n",
    "        sourceTargetDf = sourceTargetDf.groupby(['source','target']).agg({'count':'sum'}).reset_index()\n",
    "        \n",
    "    # add index for source-target pair\n",
    "    sourceTargetDf['sourceID'] = sourceTargetDf['source'].apply(lambda x: labelList.index(x))\n",
    "    sourceTargetDf['targetID'] = sourceTargetDf['target'].apply(lambda x: labelList.index(x))\n",
    "    \n",
    "    # creating the sankey diagram\n",
    "    data = dict(\n",
    "        type='sankey',\n",
    "        node = dict(\n",
    "          pad = 15,\n",
    "          thickness = 20,\n",
    "          line = dict(\n",
    "            color = \"purple\",\n",
    "            width = 0.5\n",
    "          ),\n",
    "          label = labelList,\n",
    "          # color = colorList\n",
    "            color = 'purple'\n",
    "        ),\n",
    "        link = dict(\n",
    "          source = sourceTargetDf['sourceID'],\n",
    "          target = sourceTargetDf['targetID'],\n",
    "          value = sourceTargetDf['count']\n",
    "        )\n",
    "      )\n",
    "    \n",
    "    layout =  dict(\n",
    "        title = title,\n",
    "        font = dict(\n",
    "          size = 10\n",
    "        )\n",
    "    )\n",
    "       \n",
    "    fig = dict(data=[data], layout=layout)\n",
    "    return fig"
   ]
  },
  {
   "cell_type": "code",
   "execution_count": 15,
   "id": "51e07f5b-c764-4512-b962-2e66de303668",
   "metadata": {},
   "outputs": [
    {
     "data": {
      "text/plain": [
       "'/home/jupyter/foundin_qtl/figures/foundin.colocalization.PD.sankey.html'"
      ]
     },
     "execution_count": 15,
     "metadata": {},
     "output_type": "execute_result"
    }
   ],
   "source": [
    "fig = genSankey(links_df, cat_cols=['source','target'], value_cols='weight', \n",
    "                title='PD sporadic risk: Cell-types and Pathways')\n",
    "pyoff.plot(fig, validate=False, filename=figure_file)"
   ]
  },
  {
   "cell_type": "code",
   "execution_count": 20,
   "id": "460e0717-7f03-41a7-bf7e-87bda268232b",
   "metadata": {},
   "outputs": [
    {
     "data": {
      "text/plain": [
       "'/home/jupyter/foundin_qtl/figures/foundin.colocalization.PD.sankey.cellpair.html'"
      ]
     },
     "execution_count": 20,
     "metadata": {},
     "output_type": "execute_result"
    }
   ],
   "source": [
    "fig = genSankey(feat_cell_links, cat_cols=['source','target'], value_cols='weight', \n",
    "                title='PD sporadic risk: Features and Cell-types')\n",
    "pyoff.plot(fig, validate=False, filename=cell_figure_file)"
   ]
  },
  {
   "cell_type": "code",
   "execution_count": 21,
   "id": "7b6689a9-0542-4f7c-8d37-e1fdcd87fb3e",
   "metadata": {},
   "outputs": [
    {
     "data": {
      "text/plain": [
       "'/home/jupyter/foundin_qtl/figures/foundin.colocalization.PD.sankey.gseapair.html'"
      ]
     },
     "execution_count": 21,
     "metadata": {},
     "output_type": "execute_result"
    }
   ],
   "source": [
    "fig = genSankey(term_cell_links, cat_cols=['source','target'], value_cols='weight', \n",
    "                title='PD sporadic risk: Cell-types and GSEA terms')\n",
    "pyoff.plot(fig, validate=False, filename=gsea_figure_file)"
   ]
  },
  {
   "cell_type": "code",
   "execution_count": 18,
   "id": "2c4889d5-2826-4afb-9bb4-1623cb938fd9",
   "metadata": {},
   "outputs": [],
   "source": [
    "# from d3blocks import D3Blocks\n",
    "# d3 = D3Blocks(chart='Sankey', frame=True)\n",
    "# d3.set_node_properties(links_df)\n",
    "# # print(d3.node_properties)\n",
    "# # d3.set_edge_properties(links_df, color='target', opacity='target', cmap='Purples')\n",
    "# d3.set_edge_properties(links_df, cmap='Purples')\n",
    "# # print(d3.edge_properties)\n",
    "# d3.show(filepath=figure_file)"
   ]
  },
  {
   "cell_type": "code",
   "execution_count": 19,
   "id": "09e6d3d0-fe73-4db1-8c1a-c19e5fe95fa2",
   "metadata": {},
   "outputs": [
    {
     "name": "stdout",
     "output_type": "stream",
     "text": [
      "Mon Feb 13 21:41:24 UTC 2023\n"
     ]
    }
   ],
   "source": [
    "!date"
   ]
  }
 ],
 "metadata": {
  "environment": {
   "kernel": "python3",
   "name": "pytorch-gpu.1-12.m102",
   "type": "gcloud",
   "uri": "gcr.io/deeplearning-platform-release/pytorch-gpu.1-12:m102"
  },
  "kernelspec": {
   "display_name": "Python 3 (ipykernel)",
   "language": "python",
   "name": "python3"
  },
  "language_info": {
   "codemirror_mode": {
    "name": "ipython",
    "version": 3
   },
   "file_extension": ".py",
   "mimetype": "text/x-python",
   "name": "python",
   "nbconvert_exporter": "python",
   "pygments_lexer": "ipython3",
   "version": "3.7.12"
  }
 },
 "nbformat": 4,
 "nbformat_minor": 5
}
