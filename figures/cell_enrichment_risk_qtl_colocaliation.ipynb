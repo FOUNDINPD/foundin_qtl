{
 "cells": [
  {
   "cell_type": "markdown",
   "id": "ffec80d3-17a2-43fd-8c5e-b079bfc0f396",
   "metadata": {},
   "source": [
    "## Notebook to visualize cell-type importance based on colocalziation between PD risk and cell-specific eQTL\n",
    "\n",
    "modified off the colocalization heatmap notebook"
   ]
  },
  {
   "cell_type": "code",
   "execution_count": 1,
   "id": "d613884c-d46e-4691-8588-c61672aa7154",
   "metadata": {},
   "outputs": [
    {
     "name": "stdout",
     "output_type": "stream",
     "text": [
      "Wed Apr 12 14:59:34 UTC 2023\n"
     ]
    }
   ],
   "source": [
    "!date"
   ]
  },
  {
   "cell_type": "markdown",
   "id": "ea735a11-0d90-4a60-a454-451dde452c2d",
   "metadata": {},
   "source": [
    "#### import libraries"
   ]
  },
  {
   "cell_type": "code",
   "execution_count": 2,
   "id": "142a0e4e-7525-415f-910f-56e661772a05",
   "metadata": {},
   "outputs": [],
   "source": [
    "from pandas import read_csv, concat, read_parquet, DataFrame\n",
    "import matplotlib.pyplot as plt\n",
    "from matplotlib.pyplot import rc_context\n",
    "from seaborn import barplot, color_palette\n",
    "from os.path import exists\n",
    "\n",
    "%matplotlib inline\n",
    "# for white background of figures (only for docs rendering)\n",
    "%config InlineBackend.print_figure_kwargs={'facecolor' : \"w\"}\n",
    "%config InlineBackend.figure_format='retina'"
   ]
  },
  {
   "cell_type": "markdown",
   "id": "938aee59-ff16-49ff-b196-b62aa7765567",
   "metadata": {},
   "source": [
    "#### set notebook variables"
   ]
  },
  {
   "cell_type": "code",
   "execution_count": 3,
   "id": "6e19f76d-3e46-4724-b4e7-da339973b6d2",
   "metadata": {},
   "outputs": [],
   "source": [
    "# naming\n",
    "cohort = 'foundin'\n",
    "dx = 'PD'\n",
    "day = 'daNA'\n",
    "\n",
    "# directories\n",
    "wrk_dir = '/home/jupyter/foundin_qtl'\n",
    "results_dir = f'{wrk_dir}/results'\n",
    "public_dir = f'{wrk_dir}/public'\n",
    "\n",
    "# out files\n",
    "index_variants_file = f'{public_dir}/nalls_pd_gwas/index_variants.list' \n",
    "\n",
    "# variables\n",
    "DEBUG = False\n",
    "modalities = ['Bryois-Astro', 'Bryois-Endo', 'Bryois-ExN', 'Bryois-InN', \n",
    "              'Bryois-Micro', 'Bryois-OPC', 'Bryois-Oligo', 'Bryois-Peri', \n",
    "              'DAn-meta']\n",
    "dpi_value = 100\n",
    "min_h4 = 0.2"
   ]
  },
  {
   "cell_type": "markdown",
   "id": "de80d252-59c8-4e1b-8724-02dfaebfe279",
   "metadata": {},
   "source": [
    "### for each day and modality load the colocalization results"
   ]
  },
  {
   "cell_type": "code",
   "execution_count": 4,
   "id": "bac93c64-21c9-4472-87f4-15d021343523",
   "metadata": {},
   "outputs": [
    {
     "name": "stdout",
     "output_type": "stream",
     "text": [
      "daNA Bryois-Astro:loaded 31 results\n",
      "daNA Bryois-Endo:loaded 19 results\n",
      "daNA Bryois-ExN:loaded 56 results\n",
      "daNA Bryois-InN:loaded 41 results\n",
      "daNA Bryois-Micro:loaded 28 results\n",
      "daNA Bryois-OPC:loaded 22 results\n",
      "daNA Bryois-Oligo:loaded 37 results\n",
      "daNA Bryois-Peri:loaded 18 results\n",
      "daNA DAn-meta:loaded 35 results\n",
      "\n",
      "total results loaded 287\n"
     ]
    }
   ],
   "source": [
    "coloc_df = None\n",
    "for modality in modalities:\n",
    "    print(day, modality, end=':')\n",
    "    in_file = f'{results_dir}/{cohort}_{day}_{modality}_{dx}.coloc.pp.csv'\n",
    "    if exists(in_file):\n",
    "        this_df = read_csv(in_file)\n",
    "        print(f'loaded {this_df.shape[0]} results')\n",
    "        # add day and modality\n",
    "        this_df['day'] = day\n",
    "        this_df['modality'] = modality\n",
    "        coloc_df = concat([coloc_df, this_df])\n",
    "print(f'\\ntotal results loaded {coloc_df.shape[0]}')\n",
    "if DEBUG:\n",
    "    display(coloc_df.sample(5))\n",
    "    display(coloc_df.day.value_counts())\n",
    "    display(coloc_df.modality.value_counts()) "
   ]
  },
  {
   "cell_type": "markdown",
   "id": "26086c0b-13b9-4104-80c3-381d11511a93",
   "metadata": {},
   "source": [
    "### subset based on the minimum H4 variable"
   ]
  },
  {
   "cell_type": "code",
   "execution_count": 5,
   "id": "c51832d9-9bc5-4827-b928-c98ee8d6a6f2",
   "metadata": {},
   "outputs": [
    {
     "name": "stdout",
     "output_type": "stream",
     "text": [
      "125 traits will be used\n",
      "results shape after filter on H4 (232, 9)\n"
     ]
    }
   ],
   "source": [
    "temp = coloc_df.loc[coloc_df.H4 > min_h4]\n",
    "print(f'{temp.feature.nunique()} traits will be used')\n",
    "coloc_df = coloc_df.loc[coloc_df.feature.isin(temp.feature)]\n",
    "print(f'results shape after filter on H4 {coloc_df.shape}')\n",
    "if DEBUG:\n",
    "    display(coloc_df.head())\n",
    "    display(coloc_df.modality.value_counts()) "
   ]
  },
  {
   "cell_type": "markdown",
   "id": "3e2f22fd-4eff-41b0-98d0-cfd9aa93e6b0",
   "metadata": {},
   "source": [
    "### sum H4 probabilities by modality\n",
    "since here just using single day = daNA don't have to worry about multiple days"
   ]
  },
  {
   "cell_type": "code",
   "execution_count": 6,
   "id": "758442d8-7591-457b-8199-60d64538949d",
   "metadata": {},
   "outputs": [],
   "source": [
    "def sum_h4s(df: DataFrame, weighted: bool=False, verbose: bool=False) -> DataFrame:\n",
    "    if weighted:\n",
    "        cell_type_sums = df.groupby(by='modality').agg({'weighted_h4': 'sum'})\n",
    "        append_str = 'weighted'\n",
    "    else:\n",
    "        cell_type_sums = df.groupby(by='modality').agg({'H4': 'sum'})\n",
    "        append_str = ''\n",
    "    print(f'shape of cell-type {append_str} H4 sums is {cell_type_sums.shape}')\n",
    "    cell_type_sums['cell-type'] = cell_type_sums.index\n",
    "    if DEBUG:\n",
    "        display(cell_type_sums)\n",
    "    return cell_type_sums\n",
    "\n",
    "def plot_importance(sums_df: DataFrame, weighted: bool=False):\n",
    "    if weighted:\n",
    "        key = 'weighted_h4'\n",
    "        key_label = 'weighted H4'\n",
    "    else:\n",
    "        key_label = key = 'H4'\n",
    "    temp = sums_df.sort_values(key, ascending=False)\n",
    "    with rc_context({'figure.figsize': (9, 9), 'figure.dpi': 50}):\n",
    "        plt.style.use('seaborn-bright')    \n",
    "        barplot(data=temp, x=key, y='cell-type', palette='Purples_r')    \n",
    "        plt.title('Cell-type importance based on risk and eQTL colocalization')\n",
    "        plt.xlabel(f'Sum of {key_label}')\n",
    "        plt.ylabel('Cell Type')\n",
    "        plt.show()"
   ]
  },
  {
   "cell_type": "code",
   "execution_count": 7,
   "id": "1639985c-2b30-40d0-849a-b09a1685c4c5",
   "metadata": {},
   "outputs": [
    {
     "name": "stdout",
     "output_type": "stream",
     "text": [
      "shape of cell-type  H4 sums is (9, 1)\n"
     ]
    }
   ],
   "source": [
    "cell_type_sums = sum_h4s(coloc_df, verbose=DEBUG)"
   ]
  },
  {
   "cell_type": "markdown",
   "id": "9666ffc3-0c5a-4559-98e6-66eea7ae6d8d",
   "metadata": {},
   "source": [
    "### visualize to cell importance based on cell-type H4 sum"
   ]
  },
  {
   "cell_type": "code",
   "execution_count": 8,
   "id": "6f0dc4ea-90c9-45a3-9638-dc7e2e3a6dd9",
   "metadata": {},
   "outputs": [
    {
     "data": {
      "image/png": "[encoded data removed]",
      "text/plain": [
       "<Figure size 450x450 with 1 Axes>"
      ]
     },
     "metadata": {
      "image/png": {
       "height": 389,
       "width": 416
      }
     },
     "output_type": "display_data"
    }
   ],
   "source": [
    "plot_importance(cell_type_sums)"
   ]
  },
  {
   "cell_type": "markdown",
   "id": "4c889d07-3128-4285-ba82-4c10b66076ef",
   "metadata": {},
   "source": [
    "### weight colocalizations by risk effect"
   ]
  },
  {
   "cell_type": "markdown",
   "id": "7984aaa5-98cb-411b-a0f4-31480778d4c5",
   "metadata": {},
   "source": [
    "#### load the risk variants of interest"
   ]
  },
  {
   "cell_type": "code",
   "execution_count": 9,
   "id": "96f8dad8-164f-40e2-8148-59007b70426f",
   "metadata": {},
   "outputs": [
    {
     "name": "stdout",
     "output_type": "stream",
     "text": [
      "(91, 1)\n",
      "CPU times: user 3.47 ms, sys: 0 ns, total: 3.47 ms\n",
      "Wall time: 2.59 ms\n"
     ]
    }
   ],
   "source": [
    "%%time\n",
    "index_vars_df = read_csv(index_variants_file)\n",
    "print(index_vars_df.shape)\n",
    "index_variants = list(index_vars_df.variant.unique())\n",
    "if DEBUG:\n",
    "    display(index_vars_df.head())\n",
    "    print(index_variants)"
   ]
  },
  {
   "cell_type": "markdown",
   "id": "799c58be-1306-4b98-9aba-42fd6859078b",
   "metadata": {},
   "source": [
    "#### load variant colocalization info"
   ]
  },
  {
   "cell_type": "code",
   "execution_count": 10,
   "id": "4d70b74c-a5f1-4931-80e3-41c3ef947e7d",
   "metadata": {},
   "outputs": [
    {
     "name": "stdout",
     "output_type": "stream",
     "text": [
      "daNA Bryois-Astro:loaded 69199 results\n",
      "daNA Bryois-Endo:loaded 36462 results\n",
      "daNA Bryois-ExN:loaded 118119 results\n",
      "daNA Bryois-InN:loaded 84809 results\n",
      "daNA Bryois-Micro:loaded 65845 results\n",
      "daNA Bryois-OPC:loaded 53576 results\n",
      "daNA Bryois-Oligo:loaded 79213 results\n",
      "daNA Bryois-Peri:loaded 34881 results\n",
      "daNA DAn-meta:loaded 47593 results\n",
      "\n",
      "total results loaded 589697\n",
      "isk index results loaded 282\n"
     ]
    }
   ],
   "source": [
    "causals_df = None\n",
    "for modality in modalities:\n",
    "    print(day, modality, end=':')\n",
    "    in_file = f'{results_dir}/{cohort}_{day}_{modality}_{dx}.casuals.pp.parquet'\n",
    "    if exists(in_file):\n",
    "        this_df = read_parquet(in_file)\n",
    "        print(f'loaded {this_df.shape[0]} results')\n",
    "        if 'MarkerName' in this_df.columns:\n",
    "            this_df['feature'] = this_df.MarkerName.str.split(':', expand=True)[0]\n",
    "        else:\n",
    "            this_df = this_df.rename(columns={'phenotype_id': 'feature'})\n",
    "        # add day and modality\n",
    "        this_df['day'] = day\n",
    "        this_df['modality'] = modality\n",
    "        keep_cols = ['beta', 'logABF_risk', 'PP_risk',\n",
    "                     'logABF_qtl',  'PP_qtl',\n",
    "                     'h4_pp', 'feature', 'day', 'modality']        \n",
    "        # subset to consistent cols prior to concat\n",
    "        this_df = this_df[keep_cols]\n",
    "        causals_df = concat([causals_df, this_df])\n",
    "print(f'\\ntotal results loaded {causals_df.shape[0]}')\n",
    "# subset to just the results that intersect with risk indices\n",
    "causals_df = causals_df.loc[causals_df.index.isin(index_variants)]\n",
    "print(f'\\risk index results loaded {causals_df.shape[0]}')\n",
    "if DEBUG:\n",
    "    display(causals_df.sample(5))\n",
    "    display(causals_df.day.value_counts())\n",
    "    display(causals_df.modality.value_counts()) "
   ]
  },
  {
   "cell_type": "markdown",
   "id": "d754c6b6-ce1b-4f90-997f-c749ea0f46dd",
   "metadata": {},
   "source": [
    "#### merge the coloc H4 with the causals H4_PP"
   ]
  },
  {
   "cell_type": "code",
   "execution_count": 11,
   "id": "d7a3faea-4ba7-486e-b5f8-8fd743152c12",
   "metadata": {},
   "outputs": [
    {
     "name": "stdout",
     "output_type": "stream",
     "text": [
      "combined shape is (282, 17)\n"
     ]
    }
   ],
   "source": [
    "causals_df['variant'] = causals_df.index\n",
    "combine_df = coloc_df.merge(causals_df, how='inner', on=['feature', 'modality'], \n",
    "                            suffixes=['_coloc', '_causals'])\n",
    "print(f'combined shape is {combine_df.shape}')\n",
    "if DEBUG:\n",
    "    display(combine_df.sample(5))"
   ]
  },
  {
   "cell_type": "markdown",
   "id": "5e42f668-2a2f-431e-8604-5e14a6021fb5",
   "metadata": {},
   "source": [
    "#### compute the weighted value"
   ]
  },
  {
   "cell_type": "code",
   "execution_count": 12,
   "id": "97040fbe-fc4d-4750-a623-14351c854773",
   "metadata": {},
   "outputs": [
    {
     "name": "stdout",
     "output_type": "stream",
     "text": [
      "modified combined shape is (282, 18)\n"
     ]
    }
   ],
   "source": [
    "combine_df['weighted_h4'] = combine_df.H4 * combine_df.beta.abs()\n",
    "# combine_df['weighted_h4'] = combine_df.H4 * combine_df.logABF_risk\n",
    "print(f'modified combined shape is {combine_df.shape}')\n",
    "if DEBUG:\n",
    "    display(combine_df.sample(5))"
   ]
  },
  {
   "cell_type": "markdown",
   "id": "ae4b7ff3-cc81-49ad-ae0d-c61a18f7aed0",
   "metadata": {},
   "source": [
    "### visualize to cell importance based on cell-type H4 sum"
   ]
  },
  {
   "cell_type": "code",
   "execution_count": 13,
   "id": "61367ae0-bab2-4069-809c-54414c53363e",
   "metadata": {},
   "outputs": [
    {
     "name": "stdout",
     "output_type": "stream",
     "text": [
      "shape of cell-type weighted H4 sums is (9, 1)\n"
     ]
    },
    {
     "data": {
      "image/png": "[encoded data removed]",
      "text/plain": [
       "<Figure size 450x450 with 1 Axes>"
      ]
     },
     "metadata": {
      "image/png": {
       "height": 389,
       "width": 416
      }
     },
     "output_type": "display_data"
    }
   ],
   "source": [
    "cell_type_sums = sum_h4s(combine_df, weighted=True, verbose=DEBUG)\n",
    "plot_importance(cell_type_sums, weighted=True)"
   ]
  },
  {
   "cell_type": "markdown",
   "id": "6aa556e1-349c-4ef9-bb50-9239c63062f9",
   "metadata": {},
   "source": [
    "### assign feature to cell based on best H4 value"
   ]
  },
  {
   "cell_type": "code",
   "execution_count": 14,
   "id": "da039187-f115-4c1d-b4c8-34629ada7c90",
   "metadata": {},
   "outputs": [
    {
     "name": "stdout",
     "output_type": "stream",
     "text": [
      "shape of coloc tops (125, 9)\n"
     ]
    }
   ],
   "source": [
    "coloc_best_df = coloc_df.sort_values(by='H4', ascending=False).drop_duplicates(['feature'], keep='first')\n",
    "print(f'shape of coloc tops {coloc_best_df.shape}')\n",
    "if DEBUG:\n",
    "    display(coloc_best_df.sample(5))"
   ]
  },
  {
   "cell_type": "code",
   "execution_count": 15,
   "id": "618a67a4-8cb0-4df9-a526-8a88a7706494",
   "metadata": {},
   "outputs": [
    {
     "data": {
      "text/html": [
       "<div>\n",
       "<style scoped>\n",
       "    .dataframe tbody tr th:only-of-type {\n",
       "        vertical-align: middle;\n",
       "    }\n",
       "\n",
       "    .dataframe tbody tr th {\n",
       "        vertical-align: top;\n",
       "    }\n",
       "\n",
       "    .dataframe thead th {\n",
       "        text-align: right;\n",
       "    }\n",
       "</style>\n",
       "<table border=\"1\" class=\"dataframe\">\n",
       "  <thead>\n",
       "    <tr style=\"text-align: right;\">\n",
       "      <th></th>\n",
       "      <th>H0</th>\n",
       "      <th>H1</th>\n",
       "      <th>H2</th>\n",
       "      <th>H3</th>\n",
       "      <th>H4</th>\n",
       "      <th>feature</th>\n",
       "      <th>h4_supported</th>\n",
       "      <th>day</th>\n",
       "      <th>modality</th>\n",
       "    </tr>\n",
       "  </thead>\n",
       "  <tbody>\n",
       "    <tr>\n",
       "      <th>50</th>\n",
       "      <td>0.0</td>\n",
       "      <td>0.0</td>\n",
       "      <td>0.0</td>\n",
       "      <td>0.029</td>\n",
       "      <td>0.971</td>\n",
       "      <td>CCAR2</td>\n",
       "      <td>True</td>\n",
       "      <td>daNA</td>\n",
       "      <td>Bryois-ExN</td>\n",
       "    </tr>\n",
       "  </tbody>\n",
       "</table>\n",
       "</div>"
      ],
      "text/plain": [
       "     H0   H1   H2     H3     H4 feature  h4_supported   day    modality\n",
       "50  0.0  0.0  0.0  0.029  0.971   CCAR2          True  daNA  Bryois-ExN"
      ]
     },
     "metadata": {},
     "output_type": "display_data"
    },
    {
     "data": {
      "text/html": [
       "<div>\n",
       "<style scoped>\n",
       "    .dataframe tbody tr th:only-of-type {\n",
       "        vertical-align: middle;\n",
       "    }\n",
       "\n",
       "    .dataframe tbody tr th {\n",
       "        vertical-align: top;\n",
       "    }\n",
       "\n",
       "    .dataframe thead th {\n",
       "        text-align: right;\n",
       "    }\n",
       "</style>\n",
       "<table border=\"1\" class=\"dataframe\">\n",
       "  <thead>\n",
       "    <tr style=\"text-align: right;\">\n",
       "      <th></th>\n",
       "      <th>H0</th>\n",
       "      <th>H1</th>\n",
       "      <th>H2</th>\n",
       "      <th>H3</th>\n",
       "      <th>H4</th>\n",
       "      <th>feature</th>\n",
       "      <th>h4_supported</th>\n",
       "      <th>day</th>\n",
       "      <th>modality</th>\n",
       "    </tr>\n",
       "  </thead>\n",
       "  <tbody>\n",
       "    <tr>\n",
       "      <th>29</th>\n",
       "      <td>0.000</td>\n",
       "      <td>0.152</td>\n",
       "      <td>0.0</td>\n",
       "      <td>0.133</td>\n",
       "      <td>0.714</td>\n",
       "      <td>CCAR2</td>\n",
       "      <td>True</td>\n",
       "      <td>daNA</td>\n",
       "      <td>Bryois-Astro</td>\n",
       "    </tr>\n",
       "    <tr>\n",
       "      <th>17</th>\n",
       "      <td>0.001</td>\n",
       "      <td>0.189</td>\n",
       "      <td>0.0</td>\n",
       "      <td>0.137</td>\n",
       "      <td>0.673</td>\n",
       "      <td>CCAR2</td>\n",
       "      <td>True</td>\n",
       "      <td>daNA</td>\n",
       "      <td>Bryois-Endo</td>\n",
       "    </tr>\n",
       "    <tr>\n",
       "      <th>50</th>\n",
       "      <td>0.000</td>\n",
       "      <td>0.000</td>\n",
       "      <td>0.0</td>\n",
       "      <td>0.029</td>\n",
       "      <td>0.971</td>\n",
       "      <td>CCAR2</td>\n",
       "      <td>True</td>\n",
       "      <td>daNA</td>\n",
       "      <td>Bryois-ExN</td>\n",
       "    </tr>\n",
       "    <tr>\n",
       "      <th>37</th>\n",
       "      <td>0.000</td>\n",
       "      <td>0.115</td>\n",
       "      <td>0.0</td>\n",
       "      <td>0.097</td>\n",
       "      <td>0.788</td>\n",
       "      <td>CCAR2</td>\n",
       "      <td>True</td>\n",
       "      <td>daNA</td>\n",
       "      <td>Bryois-InN</td>\n",
       "    </tr>\n",
       "    <tr>\n",
       "      <th>32</th>\n",
       "      <td>0.000</td>\n",
       "      <td>0.000</td>\n",
       "      <td>0.0</td>\n",
       "      <td>0.037</td>\n",
       "      <td>0.962</td>\n",
       "      <td>CCAR2</td>\n",
       "      <td>True</td>\n",
       "      <td>daNA</td>\n",
       "      <td>DAn-meta</td>\n",
       "    </tr>\n",
       "  </tbody>\n",
       "</table>\n",
       "</div>"
      ],
      "text/plain": [
       "       H0     H1   H2     H3     H4 feature  h4_supported   day      modality\n",
       "29  0.000  0.152  0.0  0.133  0.714   CCAR2          True  daNA  Bryois-Astro\n",
       "17  0.001  0.189  0.0  0.137  0.673   CCAR2          True  daNA   Bryois-Endo\n",
       "50  0.000  0.000  0.0  0.029  0.971   CCAR2          True  daNA    Bryois-ExN\n",
       "37  0.000  0.115  0.0  0.097  0.788   CCAR2          True  daNA    Bryois-InN\n",
       "32  0.000  0.000  0.0  0.037  0.962   CCAR2          True  daNA      DAn-meta"
      ]
     },
     "metadata": {},
     "output_type": "display_data"
    }
   ],
   "source": [
    "feature = 'CCAR2'\n",
    "display(coloc_best_df.loc[coloc_best_df.feature == feature])\n",
    "display(coloc_df.loc[coloc_df.feature == feature])"
   ]
  },
  {
   "cell_type": "markdown",
   "id": "5c92cc7b-23e4-48da-8eae-04b9a4e5e1c5",
   "metadata": {},
   "source": [
    "### visualize to cell importance based on cell-type H4 sum"
   ]
  },
  {
   "cell_type": "code",
   "execution_count": 16,
   "id": "17666194-1c4f-4ba7-81ad-b5b33f6e46f4",
   "metadata": {},
   "outputs": [
    {
     "name": "stdout",
     "output_type": "stream",
     "text": [
      "shape of cell-type  H4 sums is (9, 1)\n"
     ]
    },
    {
     "data": {
      "image/png": "[encoded data removed]",
      "text/plain": [
       "<Figure size 450x450 with 1 Axes>"
      ]
     },
     "metadata": {
      "image/png": {
       "height": 389,
       "width": 416
      }
     },
     "output_type": "display_data"
    }
   ],
   "source": [
    "cell_type_sums = sum_h4s(coloc_best_df, verbose=DEBUG)\n",
    "plot_importance(cell_type_sums)"
   ]
  },
  {
   "cell_type": "code",
   "execution_count": 17,
   "id": "0e03b571-f737-4323-9324-b3b89bbfd9ff",
   "metadata": {},
   "outputs": [
    {
     "name": "stdout",
     "output_type": "stream",
     "text": [
      "Wed Apr 12 14:59:36 UTC 2023\n"
     ]
    }
   ],
   "source": [
    "!date"
   ]
  },
  {
   "cell_type": "code",
   "execution_count": null,
   "id": "58d30908-69a8-4e67-b474-b600380660b9",
   "metadata": {},
   "outputs": [],
   "source": []
  }
 ],
 "metadata": {
  "environment": {
   "kernel": "python3",
   "name": "pytorch-gpu.1-12.m102",
   "type": "gcloud",
   "uri": "gcr.io/deeplearning-platform-release/pytorch-gpu.1-12:m102"
  },
  "kernelspec": {
   "display_name": "Python 3 (ipykernel)",
   "language": "python",
   "name": "python3"
  },
  "language_info": {
   "codemirror_mode": {
    "name": "ipython",
    "version": 3
   },
   "file_extension": ".py",
   "mimetype": "text/x-python",
   "name": "python",
   "nbconvert_exporter": "python",
   "pygments_lexer": "ipython3",
   "version": "3.7.12"
  }
 },
 "nbformat": 4,
 "nbformat_minor": 5
}
