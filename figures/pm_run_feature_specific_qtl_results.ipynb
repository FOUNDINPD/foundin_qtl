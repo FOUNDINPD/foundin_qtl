{
 "cells": [
  {
   "cell_type": "markdown",
   "id": "1d8f6fde-58a3-4424-8049-f72b04dcddf7",
   "metadata": {},
   "source": [
    "## Notebook to run the feature specific QTL and risk results comparison"
   ]
  },
  {
   "cell_type": "code",
   "execution_count": null,
   "id": "aa48eacc-f52f-428c-92b7-a7b193d5dad3",
   "metadata": {},
   "outputs": [],
   "source": [
    "!date"
   ]
  },
  {
   "cell_type": "markdown",
   "id": "dd7759e7-61ee-4d7e-bdb5-b8dedecff1a7",
   "metadata": {},
   "source": [
    "#### import libraries and set notebook variables"
   ]
  },
  {
   "cell_type": "code",
   "execution_count": null,
   "id": "edd363ce-d894-4a1a-9f1b-416a02ab5ebb",
   "metadata": {},
   "outputs": [],
   "source": [
    "from papermill import execute_notebook"
   ]
  },
  {
   "cell_type": "code",
   "execution_count": null,
   "id": "706099d3-174e-473b-abc2-9e95fe9f87a9",
   "metadata": {},
   "outputs": [],
   "source": [
    "# directories\n",
    "home_dir = '/home/jupyter/foundin_qtl/foundin_qtl/figures'\n",
    "\n",
    "# base notebook to be run per tuple iteration\n",
    "base_notebook = f'{home_dir}/feature_specific_qtl_results.ipynb'\n",
    "\n",
    "# output path for the generated notebooks\n",
    "out_nb_dir = f'{home_dir}/pm_gend_nbs'\n",
    "\n",
    "# setup parameters to iterate\n",
    "iterations = [\n",
    "              {'day': 'daNA', 'modality': 'DAn-meta', 'feature': 'CCAR2', 'feature_name': 'CCAR2'}, # CCAR2 (BIN3)\n",
    "              {'day': 'daNA', 'modality': 'Bulk-meta', 'feature': 'CCAR2', 'feature_name': 'CCAR2'}, # CCAR2 (BIN3)    \n",
    "              {'day': 'daNA', 'modality': 'DAn-meta', 'feature': 'P4HTM', 'feature_name': 'P4HTM'}, # P4HTM (IP6K2)\n",
    "              {'day': 'daNA', 'modality': 'DAn-meta', 'feature': 'NUPL2', 'feature_name': 'NUPL2'}, # NUPL2 (GPNMB)\n",
    "              {'day': 'daNA', 'modality': 'DAn-meta', 'feature': 'RNF141', 'feature_name': 'RNF141'}, # RNF141 (RNF141)\n",
    "              {'day': 'daNA', 'modality': 'Bulk-meta', 'feature': 'RNF141', 'feature_name': 'RNF141'}, # RNF141 (RNF141)    \n",
    "              {'day': 'daNA', 'modality': 'DAn-meta', 'feature': 'SH3GL2', 'feature_name': 'SH3GL2'}, # SH3GL2 (SH3GL2)\n",
    "              {'day': 'daNA', 'modality': 'DAn-meta', 'feature': 'KANSL1', 'feature_name': 'KANSL1'}, # KANSL1 (MAPT)\n",
    "              {'day': 'daNA', 'modality': 'DAn-meta', 'feature': 'CTSB', 'feature_name': 'CTSB'}, # CTSB (CTSB)\n",
    "              {'day': 'daNA', 'modality': 'Bulk-meta', 'feature': 'CTSB', 'feature_name': 'CTSB'}, # CTSB (CTSB)\n",
    "              {'day': 'da25', 'modality': 'PDUI', 'feature': 'chr8:11844561-11845222', 'feature_name': 'CTSB-PDUI'}, # CTSB (CTSB)    \n",
    "              {'day': 'daNA', 'modality': 'DAn-meta', 'feature': 'STX1B', 'feature_name': 'STX1B'}, # STX1B, STX4 (SETD1A)\n",
    "              {'day': 'daNA', 'modality': 'DAn-meta', 'feature': 'STX4', 'feature_name': 'STX4'}, # STX1B, STX4 (SETD1A)    \n",
    "              {'day': 'daNA', 'modality': 'DAn-meta', 'feature': 'VAMP4', 'feature_name': 'VAMP4'}, # VAMP4 (VAMP4)\n",
    "              {'day': 'da0', 'modality': 'RNAB', 'feature': 'ENSG00000117533.14', 'feature_name': 'VAMP4'}, # VAMP4 (VAMP4)    \n",
    "              {'day': 'daNA', 'modality': 'DAn-meta', 'feature': 'GRN', 'feature_name': 'GRN'}, # GRN (FAM171A2)\n",
    "              {'day': 'daNA', 'modality': 'DAn-meta', 'feature': 'GCH1', 'feature_name': 'GCH1'}, # GCH1 (GCH1)\n",
    "              {'day': 'daNA', 'modality': 'DAn-meta', 'feature': 'SNCA', 'feature_name': 'SNCA'} # SNCA (SNCA)\n",
    "             ]"
   ]
  },
  {
   "cell_type": "markdown",
   "id": "6da05932-d273-4d9a-aff3-b7ed9be91736",
   "metadata": {},
   "source": [
    "#### run the notebook iterations"
   ]
  },
  {
   "cell_type": "code",
   "execution_count": null,
   "id": "a85c3eb1-b64f-41bb-86ce-a2248be6241e",
   "metadata": {},
   "outputs": [],
   "source": [
    "%%time\n",
    "\n",
    "for iteration in iterations:\n",
    "    day = iteration.get('day')\n",
    "    modality = iteration.get('modality')\n",
    "    feature = iteration.get('feature')\n",
    "    feature_name = iteration.get('feature_name')\n",
    "    param_dict = {'day': day, 'modality': modality, 'feature': feature, \n",
    "                  'feature_name': feature_name}\n",
    "    out_notebook = f'{out_nb_dir}/{day}_{modality}_{feature_name}.qtl_risk_compare.ipynb'            \n",
    "    print(param_dict)\n",
    "    print(out_notebook)\n",
    "    try:    \n",
    "        execute_notebook(input_path=base_notebook, output_path=out_notebook, \n",
    "                         parameters=param_dict)\n",
    "    except:\n",
    "        print(f'{day}_{modality}_{feature_name} encountered an error continuing on next')"
   ]
  },
  {
   "cell_type": "code",
   "execution_count": null,
   "id": "fb7fc951-ce00-42fb-92c3-9b1f92d790c4",
   "metadata": {},
   "outputs": [],
   "source": [
    "!date"
   ]
  }
 ],
 "metadata": {
  "environment": {
   "kernel": "python3",
   "name": "pytorch-gpu.1-12.m102",
   "type": "gcloud",
   "uri": "gcr.io/deeplearning-platform-release/pytorch-gpu.1-12:m102"
  },
  "kernelspec": {
   "display_name": "Python 3 (ipykernel)",
   "language": "python",
   "name": "python3"
  },
  "language_info": {
   "codemirror_mode": {
    "name": "ipython",
    "version": 3
   },
   "file_extension": ".py",
   "mimetype": "text/x-python",
   "name": "python",
   "nbconvert_exporter": "python",
   "pygments_lexer": "ipython3",
   "version": "3.7.12"
  }
 },
 "nbformat": 4,
 "nbformat_minor": 5
}
