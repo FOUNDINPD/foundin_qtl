{
 "cells": [
  {
   "cell_type": "markdown",
   "id": "f9f350af-f7f0-447c-b387-e72c9d749d5a",
   "metadata": {},
   "source": [
    "## Notebook to check the CpG sites indentifed in EWAS of PD/LBD Lewy Body Pathology in FOUNDIN-PD Epigentic Analyses\n",
    "\n",
    "Pihlstrøm L, Shireby G, Geut H et al. Epigenome-wide association study of human frontal cortex identifies differential methylation in Lewy body pathology. Nat Commun 2022;13:4932.\n",
    "https://pubmed.ncbi.nlm.nih.gov/35995800/"
   ]
  },
  {
   "cell_type": "code",
   "execution_count": null,
   "id": "361894e9-d857-4d12-b086-0a6f00e3dcb1",
   "metadata": {},
   "outputs": [],
   "source": [
    "!date"
   ]
  },
  {
   "cell_type": "markdown",
   "id": "d47bee03-1ae4-406a-9f11-714d96b6ff53",
   "metadata": {},
   "source": [
    "#### import libraries"
   ]
  },
  {
   "cell_type": "code",
   "execution_count": null,
   "id": "7ae0cc7f-6d38-4233-9144-4618d25a01e4",
   "metadata": {},
   "outputs": [],
   "source": [
    "import statsmodels.stats.multitest as smm\n",
    "from pandas import DataFrame, read_parquet, concat, read_csv\n",
    "import concurrent.futures\n",
    "from os.path import exists"
   ]
  },
  {
   "cell_type": "markdown",
   "id": "3e56a2e7-cab8-4db8-a2fd-c69acdace52b",
   "metadata": {},
   "source": [
    "#### set notebook variables"
   ]
  },
  {
   "cell_type": "code",
   "execution_count": null,
   "id": "1683032d-0024-4391-8566-8cab6925dd33",
   "metadata": {},
   "outputs": [],
   "source": [
    "# naming\n",
    "cohort = 'foundin'\n",
    "\n",
    "# directories\n",
    "wrk_dir = '/labshare/raph/datasets/foundin_qtl'\n",
    "tensorqtl_dir = f'{wrk_dir}/tensorqtl'\n",
    "results_dir = f'{wrk_dir}/results'\n",
    "\n",
    "# input files\n",
    "qtl_file_frmt = '{dir}/foundin_{day}_{pair}.cis_qtl_pairs.chr{chrom}.parquet'\n",
    "\n",
    "# constants\n",
    "cpg_sites = ['cg07107199', 'cg14511218', 'cg09985192', 'cg04011470']\n",
    "# meth data is only da0 and da65\n",
    "days = ['da0', 'da65']\n",
    "result_pairs = ['ATAC-METH', 'CIRC-METH', 'PDUI-METH', 'RNAB-METH', 'RNAS-METH']\n",
    "alpha_value = 0.05\n",
    "DEBUG = False\n",
    "AUTOSOMES = [str(x) for x in list(range(1,23))]"
   ]
  },
  {
   "cell_type": "markdown",
   "id": "e7919318-9acf-40c8-9387-ab8096b14e38",
   "metadata": {},
   "source": [
    "#### utility functions"
   ]
  },
  {
   "cell_type": "code",
   "execution_count": null,
   "id": "0894f67b-917d-4483-9129-a37577d8e857",
   "metadata": {},
   "outputs": [],
   "source": [
    "# compute B&H FDR for given p-values\n",
    "def compute_fdr(pvalues):\n",
    "    bh_adj = smm.fdrcorrection(pvalues)\n",
    "    return bh_adj[1]\n",
    "\n",
    "def read_qtl_results(in_file: str) -> DataFrame:\n",
    "    qtl_df = read_parquet(in_file)\n",
    "    qtl_df['cispair'] = qtl_df['phenotype_id'] + ':' + qtl_df['variant_id']\n",
    "    return qtl_df\n",
    "\n",
    "def read_all_qtl_results(day: str, pair: str, verbose: bool=False) -> DataFrame:\n",
    "    fs_list = []\n",
    "    lm_results = []\n",
    "    with concurrent.futures.ThreadPoolExecutor() as tpe:\n",
    "        for chrom in AUTOSOMES:\n",
    "            this_result_file = qtl_file_frmt.format(dir=tensorqtl_dir, day=day, \n",
    "                                                    pair=pair, chrom=chrom)\n",
    "            if exists(this_result_file):\n",
    "                fs_list.append(tpe.submit(read_qtl_results, this_result_file))\n",
    "    for future in concurrent.futures.as_completed(fs_list):\n",
    "        lm_results.append(future.result()) \n",
    "    # combine the read results\n",
    "    qtl_df = concat(lm_results)    \n",
    "    print(f'{pair} qtl results shape {qtl_df.shape}')\n",
    "    if verbose:\n",
    "        display(qtl_df.sample(5))\n",
    "    return qtl_df"
   ]
  },
  {
   "cell_type": "markdown",
   "id": "a6f22f7e-aac8-4095-ad26-41fe4c57f453",
   "metadata": {},
   "source": [
    "### check significant results for CpG sites of interest\n",
    "\n",
    "for each day in each analysis pairing"
   ]
  },
  {
   "cell_type": "code",
   "execution_count": null,
   "id": "11ba399a-ab12-46c2-b46d-d6c7b1dc6598",
   "metadata": {},
   "outputs": [],
   "source": [
    "%%time\n",
    "for pairing in result_pairs:\n",
    "    for day in days:\n",
    "        print(day, pairing)\n",
    "        # load results\n",
    "        results_df = read_all_qtl_results(day, pairing, verbose=DEBUG)\n",
    "        # apply B&H FDR corrections to results\n",
    "        results_df['bh_fdr'] = compute_fdr(results_df['pval_nominal'].fillna(1))\n",
    "        # check significant results for CpG sites of interest\n",
    "        sig_reuslts = results_df.loc[(results_df.variant_id.isin(cpg_sites)) & (results_df.bh_fdr <= alpha_value)]\n",
    "        print(sig_reuslts.shape)\n",
    "        display(sig_reuslts.variant_id.value_counts())\n",
    "        print(sig_reuslts.cispair.unique())\n",
    "        if sig_reuslts.shape[0] < 50:\n",
    "            display(sig_reuslts)\n",
    "        else:\n",
    "            display(sig_reuslts.sample(10))        "
   ]
  },
  {
   "cell_type": "markdown",
   "id": "741da939-ce05-4669-b70e-199235f4c4f8",
   "metadata": {},
   "source": [
    "### check the CpG sites for detected mQTL"
   ]
  },
  {
   "cell_type": "code",
   "execution_count": null,
   "id": "c008d755-3009-484c-8588-6aa20fbd313c",
   "metadata": {},
   "outputs": [],
   "source": [
    "for day in days:\n",
    "    print(day)\n",
    "    mqtl_df = read_csv(f'{tensorqtl_dir}/foundin_{day}_METH.cis.map.csv')\n",
    "    sites_mqtl = mqtl_df.loc[mqtl_df.phenotype_id.isin(cpg_sites)]\n",
    "    display(sites_mqtl.sort_values(['bh_fdr', 'pval_nominal']))"
   ]
  },
  {
   "cell_type": "markdown",
   "id": "4c4a3edb-9646-4861-b68a-470ff6690f32",
   "metadata": {},
   "source": [
    "### check the CpG sites correlated with differentiation status"
   ]
  },
  {
   "cell_type": "code",
   "execution_count": null,
   "id": "97634158-9795-46fe-92db-d256eac2b2f7",
   "metadata": {},
   "outputs": [],
   "source": [
    "for diff_metric in ['DopaminergicNeurons', 'TH_Pel-Freez_ICC', 'daynum', 'DAn', 'MAP2_Santa_Cruz_ICC']:\n",
    "    print(diff_metric)\n",
    "    this_file = f'{results_dir}/{cohort}_METH_{diff_metric}_lmm.csv'\n",
    "    results = read_csv(this_file)\n",
    "    display(results.loc[results.feature.isin(cpg_sites)].sort_values(['bh_fdr', 'p-value']))"
   ]
  },
  {
   "cell_type": "code",
   "execution_count": null,
   "id": "4b9409b7-9491-4720-b1ee-948b904c8d59",
   "metadata": {},
   "outputs": [],
   "source": [
    "!date"
   ]
  }
 ],
 "metadata": {
  "environment": {
   "kernel": "python3",
   "name": "pytorch-gpu.1-12.m102",
   "type": "gcloud",
   "uri": "gcr.io/deeplearning-platform-release/pytorch-gpu.1-12:m102"
  },
  "kernelspec": {
   "display_name": "Python 3 (ipykernel)",
   "language": "python",
   "name": "python3"
  },
  "language_info": {
   "codemirror_mode": {
    "name": "ipython",
    "version": 3
   },
   "file_extension": ".py",
   "mimetype": "text/x-python",
   "name": "python",
   "nbconvert_exporter": "python",
   "pygments_lexer": "ipython3",
   "version": "3.12.2"
  }
 },
 "nbformat": 4,
 "nbformat_minor": 5
}
