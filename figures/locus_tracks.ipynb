{
 "cells": [
  {
   "cell_type": "markdown",
   "id": "091dffed-4b21-4f57-bd1a-a419f09b14fe",
   "metadata": {},
   "source": [
    "## Notebook to visualize omics QTL and colocalization with PD risk tracks for the FOUNDIN-PD QTL project\n",
    "\n",
    "will start with single figure with localized tracks for each regions including GWAS, gene annotations, 'risk' ATAC peaks, colocalization H4 probilities for different omics features and then QTL tracks , will also include Encode CRE, then show try to incorporate the Hi-C data and SCAT co-asscessibility \n",
    "\n",
    "using pyGenomeTracks to generate the figure\n",
    "- [pyGenomeTracks github](https://pygenometracks.readthedocs.io/en/latest/index.html)\n",
    "- [pyGenomeTrack docs](https://pygenometracks.readthedocs.io/en/latest/index.html)"
   ]
  },
  {
   "cell_type": "code",
   "execution_count": null,
   "id": "ad166e0e-d4f6-41fd-a8ed-30c0749e2a63",
   "metadata": {},
   "outputs": [],
   "source": [
    "!date"
   ]
  },
  {
   "cell_type": "markdown",
   "id": "6b3fd42b-abec-4870-a00f-7b90fa44a51a",
   "metadata": {},
   "source": [
    "#### import libraries"
   ]
  },
  {
   "cell_type": "code",
   "execution_count": null,
   "id": "47aae30b-8f2b-43fa-a19f-34dcc660fb15",
   "metadata": {},
   "outputs": [],
   "source": [
    "from pandas import read_parquet, read_csv, DataFrame, read_hdf, concat\n",
    "from math import ceil, floor\n",
    "from numpy import log10\n",
    "from IPython.display import Image\n",
    "from os.path import exists"
   ]
  },
  {
   "cell_type": "markdown",
   "id": "e0a5c0b3-9f84-44e8-bbb6-5f533096ca06",
   "metadata": {},
   "source": [
    "#### set notebook variables"
   ]
  },
  {
   "cell_type": "code",
   "execution_count": null,
   "id": "d6807139-ff4d-42bd-860c-0ef33f648396",
   "metadata": {
    "tags": [
     "parameters"
    ]
   },
   "outputs": [],
   "source": [
    "# parameters\n",
    "index_variant = 'rs13294100'\n",
    "day = 'daNA'\n",
    "modality = 'DAn-meta'"
   ]
  },
  {
   "cell_type": "code",
   "execution_count": null,
   "id": "51d72702-ffd8-41bd-9a06-24b5e5957609",
   "metadata": {},
   "outputs": [],
   "source": [
    "# naming\n",
    "cohort = 'foundin'\n",
    "dx = 'PD'\n",
    "set_name = f'{cohort}_{day}_{modality}_{dx}'\n",
    "\n",
    "# directories\n",
    "wrk_dir = '/home/jupyter/foundin_qtl'\n",
    "quants_dir = f'{wrk_dir}/quants'\n",
    "results_dir = f'{wrk_dir}/results'\n",
    "public_dir = f'{wrk_dir}/public'\n",
    "figures_dir = f'{wrk_dir}/figures'\n",
    "\n",
    "# in files\n",
    "gwas_sum_stats_file = f'{public_dir}/nalls_pd_gwas/pd_sumstats_23andme_buildGRCh38.tsv.gz'\n",
    "index_variants_file = f'{public_dir}/nalls_pd_gwas/index_variants.list'\n",
    "# gwas_sum_stats_file = f'{public_dir}/nalls_pd_gwas/pd_sumstats_no23andme_buildGRCh38.tsv.gz'\n",
    "gene_annot_file = f'{public_dir}/hg38.ncbiRefSeq.gtf.gz'\n",
    "encode_bb_file = f'{public_dir}/encodeCcreCombined.bb'\n",
    "coloc_file = f'{results_dir}/{set_name}.coloc.pp.csv'\n",
    "causals_file = f'{results_dir}/{set_name}.casuals.pp.parquet'\n",
    "ld_info_file = f'{public_dir}/ld_info/{cohort}_{dx}.ld_prime.csv'\n",
    "risk_peaks_bed = f'{quants_dir}/{cohort}_da65_SCAT-DA_{dx}_risk_peaks.bed'\n",
    "\n",
    "# out files\n",
    "figure_file = f'{figures_dir}/{cohort}.{index_variant}.{dx}.locus.png'\n",
    "config_file = f'{figures_dir}/tracks/{cohort}.{index_variant}.{dx}.locus.ini'\n",
    "gwas_bedgraph_file = f'{figures_dir}/tracks/{dx}.gwas.{index_variant}.bedgraph'\n",
    "encode_bed_file = f'{figures_dir}/tracks/{dx}.{index_variant}.encodeCcreCombined.bed'\n",
    "\n",
    "# variables\n",
    "DEBUG = False\n",
    "config_content = ''\n",
    "nl = '\\n'\n",
    "HIGH_LD = 0.8\n",
    "MAX_DIST = 1500000\n",
    "FLANK_PAD = 5000\n",
    "SUG_THRESHOLD = 1.00e-05\n",
    "MIN_CICERO = 0.2\n",
    "min_h4 = 0.2\n",
    "days = ['da0', 'da25', 'da65']\n",
    "day_colors = {'da0': 'black', 'da25': 'green', 'da65': 'blue'}"
   ]
  },
  {
   "cell_type": "markdown",
   "id": "3210b928-b415-4bf9-9fcd-fb56ff457ffc",
   "metadata": {},
   "source": [
    "#### utility functions"
   ]
  },
  {
   "cell_type": "code",
   "execution_count": null,
   "id": "909be0e6-93e3-41a9-94eb-cc195483aa54",
   "metadata": {},
   "outputs": [],
   "source": [
    "# run command line procsss with bash majic\n",
    "# make this a small function so it can be target function for parallelization if needed\n",
    "def run_bash_cmd(this_cmd: str, verbose: bool=False):\n",
    "    if verbose:\n",
    "        print(this_cmd)\n",
    "    !{this_cmd}"
   ]
  },
  {
   "cell_type": "markdown",
   "id": "07dbe733-e794-4a4c-9864-e81f82df1451",
   "metadata": {},
   "source": [
    "### GWAS track"
   ]
  },
  {
   "cell_type": "markdown",
   "id": "f8f6a38d-8ade-4cfb-bc1f-2f802f0370d2",
   "metadata": {},
   "source": [
    "#### load the summary stats"
   ]
  },
  {
   "cell_type": "code",
   "execution_count": null,
   "id": "f057bb5f-c2d3-4a8b-b573-2031d1debb14",
   "metadata": {},
   "outputs": [],
   "source": [
    "%%time\n",
    "gwas_df = read_csv(gwas_sum_stats_file, sep='\\t')\n",
    "print(gwas_df.shape)\n",
    "if DEBUG:\n",
    "    display(gwas_df.sample(5))"
   ]
  },
  {
   "cell_type": "markdown",
   "id": "5463148d-b7f3-4766-bb5c-9e526202472f",
   "metadata": {},
   "source": [
    "#### load the risk index variants"
   ]
  },
  {
   "cell_type": "code",
   "execution_count": null,
   "id": "38450466-315a-4ce2-b4a9-c29564bf5643",
   "metadata": {},
   "outputs": [],
   "source": [
    "%%time\n",
    "index_df = read_csv(index_variants_file)\n",
    "print(index_df.shape)\n",
    "index_variants = list(index_df.variant.unique())\n",
    "if DEBUG:\n",
    "    display(index_df.head())\n",
    "    print(index_variants)"
   ]
  },
  {
   "cell_type": "markdown",
   "id": "c5321655-6ea3-4d6c-97d8-e10b771485bf",
   "metadata": {},
   "source": [
    "#### set the actual edges based on statistically significant p-values for region centered on index variant"
   ]
  },
  {
   "cell_type": "code",
   "execution_count": null,
   "id": "feaca749-87c1-4935-aaeb-75897e4f0e96",
   "metadata": {},
   "outputs": [],
   "source": [
    "risk_index = gwas_df.loc[gwas_df.variant_id == index_variant]\n",
    "chrom = risk_index.chromosome.values[0]\n",
    "start_bp = risk_index.base_pair_location.values[0] - MAX_DIST\n",
    "stop_bp = risk_index.base_pair_location.values[0] + MAX_DIST\n",
    "print(f'initial region is chrom{chrom}:{start_bp}-{stop_bp}')"
   ]
  },
  {
   "cell_type": "code",
   "execution_count": null,
   "id": "22c2c1ca-aba7-4d17-8612-33ca2b65d053",
   "metadata": {},
   "outputs": [],
   "source": [
    "# filter to the specified region\n",
    "gwas_df = gwas_df.loc[(gwas_df.chromosome == chrom) & \n",
    "                      (gwas_df.base_pair_location >= start_bp) & \n",
    "                      (gwas_df.base_pair_location <= stop_bp)]\n",
    "risk_df = gwas_df.loc[(gwas_df.p_value <= SUG_THRESHOLD)]\n",
    "start_bp = risk_df.base_pair_location.min() - FLANK_PAD\n",
    "stop_bp = risk_df.base_pair_location.max() + FLANK_PAD\n",
    "print(f'risk region is chrom{chrom}:{start_bp}-{stop_bp}')\n",
    "print(f'risk region shape {risk_df.shape}')\n",
    "if DEBUG:\n",
    "    display(risk_df.head())"
   ]
  },
  {
   "cell_type": "markdown",
   "id": "42f5d95a-f73e-4b99-b586-4e747e0c9a77",
   "metadata": {},
   "source": [
    "#### convert gwas df to bedgraph"
   ]
  },
  {
   "cell_type": "code",
   "execution_count": null,
   "id": "4acca070-055d-40dc-a0e3-26e485cd0365",
   "metadata": {},
   "outputs": [],
   "source": [
    "# re-filter with narrower edges\n",
    "gwas_df = gwas_df.loc[(gwas_df.chromosome == chrom) & \n",
    "                      (gwas_df.base_pair_location >= start_bp) & \n",
    "                      (gwas_df.base_pair_location <= stop_bp)]\n",
    "gwas_bed = gwas_df[['chromosome', 'base_pair_location', 'variant_id']].copy()\n",
    "gwas_bed.rename(columns={'chromosome': 'chr', 'base_pair_location': 'position', \n",
    "                         'variant_id': 'id'}, inplace=True)\n",
    "gwas_bed['end'] = gwas_bed['position'] + 1\n",
    "gwas_bed['signal'] = -log10(gwas_df.p_value)\n",
    "gwas_bed = gwas_bed[['chr', 'position', 'end', 'signal', 'id']]\n",
    "print(gwas_bed.shape)\n",
    "if DEBUG:\n",
    "    display(gwas_bed.sample(5))\n",
    "# save the gwas bedgraph\n",
    "gwas_bed.to_csv(gwas_bedgraph_file, index=False, header=False, sep='\\t')"
   ]
  },
  {
   "cell_type": "markdown",
   "id": "3309babd-2e5e-4e04-bddf-9549ebf90ed8",
   "metadata": {},
   "source": [
    "#### highlight index variants in the region"
   ]
  },
  {
   "cell_type": "code",
   "execution_count": null,
   "id": "89e16111-3b27-41e9-9ebb-ea8131f99bd8",
   "metadata": {},
   "outputs": [],
   "source": [
    "index_bed = gwas_bed.loc[gwas_bed.id.isin(index_variants)]\n",
    "print(f'index variants included {index_bed.shape}')\n",
    "index_bedgraph_file = f'{figures_dir}/tracks/{dx}.gwas.{index_variant}.indices.bedgraph'\n",
    "index_bed.to_csv(index_bedgraph_file, index=False, header=False, sep='\\t')\n",
    "if DEBUG:\n",
    "    display(index_bed)"
   ]
  },
  {
   "cell_type": "markdown",
   "id": "cde8ecf4-b547-4845-a8d9-a3b7c2c4c544",
   "metadata": {},
   "source": [
    "#### format gwas track config string"
   ]
  },
  {
   "cell_type": "code",
   "execution_count": null,
   "id": "3f401e0d-c325-4d57-8d45-3cff3a3e442a",
   "metadata": {},
   "outputs": [],
   "source": [
    "this_content = f'[spacer]{nl}[GWAS]{nl}\\\n",
    "title = {dx} GWAS{nl}\\\n",
    "file = {gwas_bedgraph_file}{nl}\\\n",
    "file_type = bedgraph{nl}\\\n",
    "type = points:6{nl}\\\n",
    "color = black{nl}\\\n",
    "use_middle = true{nl}\\\n",
    "min_value = 0{nl}\\\n",
    "max_value = {ceil(gwas_bed.signal.max())}{nl}\\\n",
    "height = 3{nl}{nl}\\\n",
    "[hlines ovelayed]{nl}\\\n",
    "color = grey{nl}\\\n",
    "line_width = 1{nl}\\\n",
    "line_style = dotted{nl}\\\n",
    "y_values = 7.3{nl}\\\n",
    "file_type = hlines{nl}\\\n",
    "overlay_previous = share-y{nl}\\\n",
    "[GWAS]{nl}\\\n",
    "file = {index_bedgraph_file}{nl}\\\n",
    "file_type = bedgraph{nl}\\\n",
    "type = points:8{nl}\\\n",
    "color = red{nl}\\\n",
    "use_middle = true{nl}\\\n",
    "overlay_previous = share-y{nl}\\\n",
    "[x-axis]{nl}{nl}'\n",
    "\n",
    "config_content = config_content + this_content\n",
    "\n",
    "if DEBUG:\n",
    "    print(this_content)"
   ]
  },
  {
   "cell_type": "markdown",
   "id": "39acdb40-4dc5-49e7-98f7-9be81bf059d2",
   "metadata": {},
   "source": [
    "#### convert LD info to bedgraph file"
   ]
  },
  {
   "cell_type": "code",
   "execution_count": null,
   "id": "2214a176-658a-4372-bc70-816dd85a36b6",
   "metadata": {},
   "outputs": [],
   "source": [
    "# get LD info for the index variant\n",
    "ld_info_df = read_csv(ld_info_file)\n",
    "print(f'shape of LD info {ld_info_df.shape}')\n",
    "ld_info_df = ld_info_df.loc[ld_info_df.SNP_A == index_variant]\n",
    "print(f'shape of LD info for risk indix variant is {ld_info_df.shape}')\n",
    "ld_bed = ld_info_df[['CHR_B', 'BP_B', 'SNP_B', 'DP']].copy()\n",
    "ld_bed =ld_bed.rename(columns={'CHR_B': 'chr', 'BP_B': 'position', 'SNP_B': 'id'})\n",
    "ld_bed['end'] = ld_bed['position'] + 1\n",
    "# ld_bed.DP = ld_bed.DP * 100\n",
    "ld_bed = ld_bed[['chr', 'position', 'end', 'DP', 'id']]\n",
    "index_ld_bed_file = f'{figures_dir}/tracks/{dx}.gwas.{index_variant}.ld.bedgraph'\n",
    "ld_bed.to_csv(index_ld_bed_file, index=False, header=False, sep='\\t')\n",
    "if DEBUG:\n",
    "    display(ld_info_df.head())\n",
    "    display(ld_bed.head())"
   ]
  },
  {
   "cell_type": "markdown",
   "id": "f3d40911-c374-4e6f-abbc-2c0c2124eb05",
   "metadata": {},
   "source": [
    "#### format LD info track config string"
   ]
  },
  {
   "cell_type": "code",
   "execution_count": null,
   "id": "8a14f3a9-720d-48d1-ac90-fb1ffc5b64a3",
   "metadata": {},
   "outputs": [],
   "source": [
    "this_content = f'{nl}{nl}\\\n",
    "[LD]{nl}\\\n",
    "title = AMP-PD D\\'{nl}\\\n",
    "file = {index_ld_bed_file}{nl}\\\n",
    "use_middle = true{nl}\\\n",
    "height = 1{nl}\\\n",
    "fontsize = 8{nl}\\\n",
    "file_type = bedgraph{nl}\\\n",
    "display = collapsed{nl}\\\n",
    "labels = false{nl}\\\n",
    "type = points:6{nl}\\\n",
    "color = black{nl}\\\n",
    "min_value = 0{nl}\\\n",
    "max_value = 1{nl}\\\n",
    "{nl}{nl}'\n",
    "\n",
    "config_content = config_content + this_content\n",
    "\n",
    "if DEBUG:\n",
    "    print(this_content)"
   ]
  },
  {
   "cell_type": "markdown",
   "id": "3867b5d5-c958-4650-9000-5848568d6c4b",
   "metadata": {},
   "source": [
    "### format the genes annot config string"
   ]
  },
  {
   "cell_type": "code",
   "execution_count": null,
   "id": "34faa124-c8e1-485e-bcce-bd28d400ed70",
   "metadata": {},
   "outputs": [],
   "source": [
    "this_content = f'{nl}{nl}\\\n",
    "[genes]{nl}\\\n",
    "title = Genes{nl}\\\n",
    "file = {gene_annot_file}{nl}\\\n",
    "height = 2{nl}\\\n",
    "color = darkblue{nl}\\\n",
    "merge_transcripts = true{nl}\\\n",
    "prefered_name = gene_name{nl}\\\n",
    "fontsize = 12{nl}\\\n",
    "style = UCSC{nl}\\\n",
    "max_labels = 200{nl}\\\n",
    "file_type = gtf{nl}{nl}'\n",
    "\n",
    "config_content = config_content + this_content\n",
    "\n",
    "if DEBUG:\n",
    "    print(this_content)"
   ]
  },
  {
   "cell_type": "markdown",
   "id": "d31d7d01-726e-41eb-ad58-d71c313b512a",
   "metadata": {},
   "source": [
    "### eQTL colocalization track"
   ]
  },
  {
   "cell_type": "markdown",
   "id": "01f202ba-5a9d-47ec-bbdc-003cbf4d05e8",
   "metadata": {},
   "source": [
    "#### load the colocalization feature probabilities"
   ]
  },
  {
   "cell_type": "code",
   "execution_count": null,
   "id": "693783a7-f0dc-4bf2-a0ee-d6757d8c0fc5",
   "metadata": {},
   "outputs": [],
   "source": [
    "coloc_df = read_csv(coloc_file)\n",
    "print(f'colocalization shape {coloc_df.shape}')\n",
    "# subset based on min\n",
    "coloc_df = coloc_df.loc[coloc_df.H4 > min_h4]\n",
    "print(f'colocalization shape at min_h4 of {min_h4}: {coloc_df.shape}')\n",
    "if DEBUG:\n",
    "    display(coloc_df)"
   ]
  },
  {
   "cell_type": "markdown",
   "id": "f0014ec0-7de2-45d9-838b-5c0355b4c28a",
   "metadata": {},
   "source": [
    "#### load the colocalization variant probabilities"
   ]
  },
  {
   "cell_type": "code",
   "execution_count": null,
   "id": "e1d64715-92f2-4597-85fe-abc4ed080c11",
   "metadata": {},
   "outputs": [],
   "source": [
    "def format_qtl_bedgraph(df: DataFrame, out_file: str, verbose: bool=True) -> float:\n",
    "    qtl_bed = df[['chromosome', 'base_pair_location']].copy()\n",
    "    qtl_bed['variant_id'] = df.index.values\n",
    "    qtl_bed['end'] = qtl_bed['base_pair_location'] + 1\n",
    "    qtl_bed['signal'] = -log10(df.p_value_qtl)\n",
    "    # qtl_bed['signal'] = df.logABF_qtl    \n",
    "    qtl_bed = qtl_bed[['chromosome', 'base_pair_location', 'end', 'signal', 'variant_id']]\n",
    "    print(qtl_bed.shape)\n",
    "    if verbose:\n",
    "        display(qtl_bed.head())    \n",
    "    qtl_bed.to_csv(out_file, index=False, header=False, sep='\\t')\n",
    "    return qtl_bed.signal.max()\n",
    "\n",
    "def format_pip_bedgraph(df: DataFrame, feature: str, verbose: bool=True) -> float:\n",
    "    qtl_bed = df[['chromosome', 'base_pair_location']].copy()\n",
    "    qtl_bed['variant_id'] = df.index.values\n",
    "    qtl_bed['end'] = qtl_bed['base_pair_location'] + 1\n",
    "    qtl_bed['signal'] = -log10(df.p_value_qtl)\n",
    "    qtl_bed = qtl_bed[['chromosome', 'base_pair_location', 'end', 'signal', 'variant_id']]\n",
    "    for pp_type in ['risk', 'qtl', 'h4']:\n",
    "        qtl_bed.signal = df[[f'{pp_type}_PiP']]\n",
    "        this_file = f'{figures_dir}/tracks/{dx}.{feature}_{pp_type}_pip.{index_variant}.bedgraph'\n",
    "        qtl_bed.to_csv(this_file, index=False, header=False, sep='\\t') \n",
    "        print(f'{pp_type} bed shape {qtl_bed.shape}')\n",
    "        print(f'{pp_type} bed max {qtl_bed.signal.max()}')"
   ]
  },
  {
   "cell_type": "code",
   "execution_count": null,
   "id": "e7f6ff54-ddb8-40e8-88b2-db2a09053aaa",
   "metadata": {},
   "outputs": [],
   "source": [
    "qtl_max = 0\n",
    "causals_df = read_parquet(causals_file)\n",
    "# rename PIPs for ease of use later\n",
    "causals_df = causals_df.rename(columns={'PP_risk': 'risk_PiP', \n",
    "                                        'PP_qtl': 'qtl_PiP', \n",
    "                                        'h4_pp': 'h4_PiP'})\n",
    "print(f'causals shape {causals_df.shape}')\n",
    "index_subset = causals_df.loc[causals_df.index == index_variant]\n",
    "print(f'index variant causals shape {index_subset.shape}')\n",
    "features = index_subset.MarkerName.str.split(':', expand=True)[0].unique()\n",
    "# only include those above min_H4\n",
    "features = list(set(features) & set(coloc_df.feature))\n",
    "for feature in features:\n",
    "    print(feature)\n",
    "    feature_causals_df = causals_df.loc[causals_df.MarkerName.str.startswith(f'{feature}:')]\n",
    "    print(f'feature causals shape {feature_causals_df.shape}')\n",
    "    qtl_out_file = f'{figures_dir}/tracks/{dx}.{feature}.qtl.{index_variant}.bedgraph'\n",
    "    feature_max = format_qtl_bedgraph(feature_causals_df, qtl_out_file, verbose=DEBUG)\n",
    "    format_pip_bedgraph(feature_causals_df, feature, verbose=DEBUG)\n",
    "    if feature_max > qtl_max:\n",
    "        qtl_max = feature_max\n",
    "    if DEBUG:\n",
    "        display(feature_causals_df.head())"
   ]
  },
  {
   "cell_type": "markdown",
   "id": "86717010-3817-445f-aa6f-02c5cc62ea9b",
   "metadata": {},
   "source": [
    "#### format qtl tracks config string"
   ]
  },
  {
   "cell_type": "code",
   "execution_count": null,
   "id": "b1e8a7c2-53fb-43bf-9db1-e245e2a51785",
   "metadata": {},
   "outputs": [],
   "source": [
    "for feature in features:\n",
    "    qtl_bedgraph_file = f'{figures_dir}/tracks/{dx}.{feature}.qtl.{index_variant}.bedgraph'\n",
    "    this_content = f'[eQTL]{nl}\\\n",
    "    title = {feature}{nl}\\\n",
    "        DAn meta-eQTL{nl}\\\n",
    "    file = {qtl_bedgraph_file}{nl}\\\n",
    "    file_type = bedgraph{nl}\\\n",
    "    type = points:8{nl}\\\n",
    "    color = black{nl}\\\n",
    "    use_middle = true{nl}\\\n",
    "    max_value = {ceil(qtl_max+1)}{nl}\\\n",
    "    height = 3{nl}\\\n",
    "    [hlines ovelayed]{nl}\\\n",
    "    color = black{nl}\\\n",
    "    line_width = 0.5{nl}\\\n",
    "    line_style = solid{nl}\\\n",
    "    y_values = 0{nl}\\\n",
    "    file_type = hlines{nl}\\\n",
    "    overlay_previous = share-y{nl}\\\n",
    "    {nl}{nl}'    \n",
    "    \n",
    "    # min_value = 0{nl}\\    \n",
    "\n",
    "    config_content = config_content + this_content\n",
    "\n",
    "    if DEBUG:\n",
    "        print(this_content)"
   ]
  },
  {
   "cell_type": "markdown",
   "id": "72f245fd-ebed-4aa8-ad07-d07a27fecec5",
   "metadata": {},
   "source": [
    "#### format risk and qtl colocalization PiP tracks config string"
   ]
  },
  {
   "cell_type": "code",
   "execution_count": null,
   "id": "d8459a69-ba73-46e9-8d54-b6c175af3edf",
   "metadata": {},
   "outputs": [],
   "source": [
    "# for feature in features:\n",
    "#     this_file = f'{figures_dir}/tracks/{dx}.{feature}_risk_pip.{index_variant}.bedgraph'\n",
    "#     this_content = f'[PiPs]{nl}\\\n",
    "#     title = {modality} PiPs{nl}\\\n",
    "#         {dx} (black){nl}\\\n",
    "#         {feature} (purple){nl}\\\n",
    "#         H4 (red){nl}\\\n",
    "#     file = {this_file}{nl}\\\n",
    "#     file_type = bedgraph{nl}\\\n",
    "#     type = points:8{nl}\\\n",
    "#     color = black{nl}\\\n",
    "#     use_middle = true{nl}\\\n",
    "#     min_value = 0{nl}\\\n",
    "#     max_value = 1.1{nl}\\\n",
    "#     height = 2{nl}{nl}'\n",
    "\n",
    "#     if exists(this_file):\n",
    "#         config_content = config_content + this_content\n",
    "\n",
    "#     if DEBUG:\n",
    "#         print(this_content)\n",
    "\n",
    "#     this_file = f'{figures_dir}/tracks/{dx}.{feature}_qtl_pip.{index_variant}.bedgraph'    \n",
    "#     this_content = f'[PiPs]{nl}\\\n",
    "#     file = {this_file}{nl}\\\n",
    "#     file_type = bedgraph{nl}\\\n",
    "#     type = points:8{nl}\\\n",
    "#     color = purple{nl}\\\n",
    "#     use_middle = true{nl}\\\n",
    "#     overlay_previous = share-y{nl}{nl}'\n",
    "\n",
    "#     if exists(this_file):\n",
    "#         config_content = config_content + this_content\n",
    "    \n",
    "#     this_file = f'{figures_dir}/tracks/{dx}.{feature}_h4_pip.{index_variant}.bedgraph'\n",
    "#     this_content = f'[PiPs]{nl}\\\n",
    "#     file = {this_file}{nl}\\\n",
    "#     file_type = bedgraph{nl}\\\n",
    "#     type = points:8{nl}\\\n",
    "#     color = red{nl}\\\n",
    "#     use_middle = true{nl}\\\n",
    "#     overlay_previous = share-y{nl}\\\n",
    "#     [x-axis]{nl}{nl}'\n",
    "\n",
    "#     if exists(this_file):\n",
    "#         config_content = config_content + this_content\n",
    "\n",
    "#     if DEBUG:\n",
    "#         print(this_content)        "
   ]
  },
  {
   "cell_type": "markdown",
   "id": "ca0ce52d-a0d6-45b1-89b2-9926ebfc7854",
   "metadata": {},
   "source": [
    "### format the SCAT peaks"
   ]
  },
  {
   "cell_type": "markdown",
   "id": "74b34d5f-20f6-4db1-9e7c-d72d061ea4b2",
   "metadata": {},
   "source": [
    "#### format SCAT-DA peaks that include risk variants"
   ]
  },
  {
   "cell_type": "code",
   "execution_count": null,
   "id": "f0cb02e1-8fb4-467b-82e5-eb65297a2eb0",
   "metadata": {},
   "outputs": [],
   "source": [
    "peaks_df = read_csv(risk_peaks_bed)\n",
    "print(peaks_df.shape)\n",
    "# get peaks in regions\n",
    "peaks_df = peaks_df.loc[(peaks_df.Chr == f'chr{chrom}') & \n",
    "                        (peaks_df.Start >= start_bp) & \n",
    "                        (peaks_df.End <= stop_bp)]\n",
    "peaks_bed = peaks_df[['Chr', 'Start', 'End']].copy()\n",
    "peaks_bed['signal'] = 1\n",
    "peaks_bed['id'] = peaks_df.feature_id\n",
    "risk_peaks_bedgraph_file  = f'{figures_dir}/tracks/{dx}.risk_peaks.{index_variant}.bedgraph'\n",
    "peaks_bed.to_csv(risk_peaks_bedgraph_file, index=False, header=False, sep='\\t')   \n",
    "print(peaks_bed.shape)\n",
    "if DEBUG:\n",
    "    display(peaks_df.head())\n",
    "    display(peaks_bed.head())     "
   ]
  },
  {
   "cell_type": "code",
   "execution_count": null,
   "id": "c4b1c6b0-6e26-4be4-b78b-85e4615a0527",
   "metadata": {},
   "outputs": [],
   "source": [
    "this_content = f'[risk peaks]{nl}\\\n",
    "title = Risk Peaks{nl}\\\n",
    "file = {risk_peaks_bedgraph_file}{nl}\\\n",
    "color = grey{nl}\\\n",
    "max_value = 1{nl}\\\n",
    "min_value = 0{nl}\\\n",
    "show_data_range = false{nl}\\\n",
    "height = 0.5{nl}{nl}'\n",
    "\n",
    "config_content = config_content + this_content\n",
    "\n",
    "if DEBUG:\n",
    "    print(this_content)"
   ]
  },
  {
   "cell_type": "code",
   "execution_count": null,
   "id": "80c69135-f4fd-488c-a298-c7fb7de3af1a",
   "metadata": {},
   "outputs": [],
   "source": [
    "# this is from Frank's formatting and files\n",
    "this_content = f'[Dopaminergic_Neurons]{nl}\\\n",
    "file = {quants_dir}/foundin_da65_SCAT-DA.means.bedgraph{nl}\\\n",
    "color = #FFD700{nl}\\\n",
    "height = 1.5{nl}\\\n",
    "title = SCAT-DA{nl}\\\n",
    "min_value = 0.0{nl}\\\n",
    "max_value = 0.70{nl}{nl}\\\n",
    "[Immature_Dopaminergic_Neurons]{nl}\\\n",
    "file = {quants_dir}/foundin_da65_SCAT-iDA.means.bedgraph{nl}\\\n",
    "color = #EE5C42{nl}\\\n",
    "height = 1.5{nl}\\\n",
    "title = SCAT-iDA{nl}\\\n",
    "min_value = 0.0{nl}\\\n",
    "max_value = 0.70{nl}{nl}\\\n",
    "[Late_neuron_Progenitor]{nl}\\\n",
    "file = {quants_dir}/foundin_da65_SCAT-lNP.means.bedgraph{nl}\\\n",
    "color = #2E8B57{nl}\\\n",
    "height = 1.5{nl}\\\n",
    "title = SCAT-LNP{nl}\\\n",
    "min_value = 0.0{nl}\\\n",
    "max_value = 0.70{nl}{nl}'\n",
    "\n",
    "config_content = config_content + this_content\n",
    "\n",
    "if DEBUG:\n",
    "    print(this_content)"
   ]
  },
  {
   "cell_type": "markdown",
   "id": "e100dde9-a45e-4a0a-b52a-098e50561e5b",
   "metadata": {},
   "source": [
    "### SCAT co-accessibility"
   ]
  },
  {
   "cell_type": "code",
   "execution_count": null,
   "id": "e3c0f355-1c88-488f-a27b-04ac096cc551",
   "metadata": {},
   "outputs": [],
   "source": [
    "def format_cicero_arcs(cicero_df: DataFrame, chrom: str, verbose: bool=False) -> DataFrame:\n",
    "    # to speed up a bit do initial subset by chrom\n",
    "    cicero_df = cicero_df.loc[cicero_df[0].str.startswith(f'chr{chrom}-')]\n",
    "    cicero_score_df = concat([cicero_df[0].str.split(r':|-', expand=True), \n",
    "                              cicero_df[1].str.split(r':|-', expand=True), \n",
    "                              cicero_df[[2]]], axis=1)\n",
    "    cicero_score_df.columns=['chrom1', 'start1', 'stop1', 'chrom2', \n",
    "                             'start2', 'stop2', 'coaccess']\n",
    "    cicero_score_df[['start1', 'stop1', \n",
    "                     'start2', 'stop2']]=cicero_score_df[['start1', 'stop1', \n",
    "                                                          'start2', 'stop2']].astype('int')\n",
    "    print(cicero_score_df.shape) \n",
    "    # convert coaccess df to arcs\n",
    "    cicero_arcs_df = cicero_score_df.loc[(cicero_score_df.chrom1 == f'chr{chrom}') & \n",
    "                          (cicero_score_df.start1 >= start_bp) & \n",
    "                          (cicero_score_df.stop1 <= stop_bp) & \n",
    "                          (cicero_score_df['coaccess'].notna()) &\n",
    "                          (cicero_score_df.coaccess > MIN_CICERO)]\n",
    "    print(cicero_arcs_df.shape)\n",
    "    return cicero_arcs_df"
   ]
  },
  {
   "cell_type": "markdown",
   "id": "61f79f33-d8d5-4b2f-9ef0-c3391066f65c",
   "metadata": {},
   "source": [
    "#### load and format the Cicero results by cell-type"
   ]
  },
  {
   "cell_type": "code",
   "execution_count": null,
   "id": "d9c54227-b453-4c51-bde8-b3fbdd79f23c",
   "metadata": {},
   "outputs": [],
   "source": [
    "%%time\n",
    "# here not including all but most relevant\n",
    "# scat_cell_types = ['Dopaminergic_Neurons', 'Immature_Dopaminergic_Neurons', 'Late_neuron_Progenitor']\n",
    "scat_cell_types = ['Dopaminergic_Neurons', 'Immature_Dopaminergic_Neurons']\n",
    "max_cicero_value = 0\n",
    "for cell_type in scat_cell_types:\n",
    "    print(cell_type)\n",
    "    cicero_in_file = f'{quants_dir}/SCAT.{cell_type}.cicero.conns.txt.gz'\n",
    "    cicero_out_file = f'{figures_dir}/tracks/{dx}.{cell_type}.cicero.{index_variant}.arcs'\n",
    "    cicero_df = read_csv(cicero_in_file, sep='\\t',skiprows=1, header=None)\n",
    "    print(cicero_df.shape)\n",
    "    cicero_arcs_df = format_cicero_arcs(cicero_df, chrom, verbose=DEBUG)\n",
    "    this_max = cicero_arcs_df.coaccess.max()\n",
    "    print(this_max)\n",
    "    if this_max > max_cicero_value:\n",
    "        max_cicero_value = this_max \n",
    "    cicero_arcs_df.to_csv(cicero_out_file, index=False, header=False, sep='\\t')        \n",
    "    if DEBUG:\n",
    "        display(cicero_df.sample(5))    "
   ]
  },
  {
   "cell_type": "markdown",
   "id": "0dde7d74-d9ed-43aa-80d3-929b02cada2a",
   "metadata": {},
   "source": [
    "### format cicero SCAT track config string"
   ]
  },
  {
   "cell_type": "code",
   "execution_count": null,
   "id": "2ac0262e-0b34-404e-a982-df2383c59bb0",
   "metadata": {},
   "outputs": [],
   "source": [
    "# scat_colors = {'Dopaminergic_Neurons': '#FFD700', 'Immature_Dopaminergic_Neurons': '#EE5C42', \n",
    "#                'Late_neuron_Progenitor': '#2E8B57', 'Early_neuron_Progenitor': '#4682B4', \n",
    "#                'Proliferating_Floor_Plate_Progenitors': '#8B8B00'}\n",
    "scat_colors = {'Dopaminergic_Neurons': 'Blues', \n",
    "               'Immature_Dopaminergic_Neurons': 'Reds', \n",
    "               'Late_neuron_Progenitor': 'Greens'}\n",
    "cell_type_abbrvs = {'Dopaminergic_Neurons': 'DA', \n",
    "               'Immature_Dopaminergic_Neurons': 'iDA', \n",
    "               'Late_neuron_Progenitor': 'LNP'}\n",
    "for cell_type in scat_cell_types:\n",
    "    cicero_arcs_file = f'{figures_dir}/tracks/{dx}.{cell_type}.cicero.{index_variant}.arcs'\n",
    "    this_color = scat_colors.get(cell_type)\n",
    "    cell_abbrv = cell_type_abbrvs.get(cell_type)\n",
    "    this_content = f'[Cierco]{nl}\\\n",
    "title = SCAT-{cell_abbrv}{nl}\\\n",
    "    co-accessibility{nl}\\\n",
    "file = {cicero_arcs_file}{nl}\\\n",
    "file_type = links{nl}\\\n",
    "color = {this_color}{nl}\\\n",
    "min_value = -0.2{nl}\\\n",
    "max_value = {ceil(max_cicero_value)}{nl}\\\n",
    "height = 4{nl}\\\n",
    "line_type = arcs{nl}\\\n",
    "line_width = 0.5{nl}\\\n",
    "orientation = inverted{nl}\\\n",
    "compact_arcs_level = 1{nl}{nl}'\n",
    "\n",
    "    config_content = config_content + this_content\n",
    "\n",
    "    if DEBUG:\n",
    "        print(this_content)"
   ]
  },
  {
   "cell_type": "markdown",
   "id": "fc79ac93-452a-4e62-a69f-f6ef3d67b6e9",
   "metadata": {},
   "source": [
    "### bulk feature ~ DA cell fractions tracks"
   ]
  },
  {
   "cell_type": "code",
   "execution_count": null,
   "id": "3b9ede70-5371-4808-ba76-42c9caf79b52",
   "metadata": {},
   "outputs": [],
   "source": [
    "epi_types = ['ATAC', 'METH']\n",
    "for epi_type in epi_types:\n",
    "    print(epi_type)\n",
    "    this_file = f'{results_dir}/{cohort}_{epi_type}_DopaminergicNeurons_lmm.csv'\n",
    "    cell_fracs_df = read_csv(this_file, index_col=0)\n",
    "    cell_fracs_df['z'] = cell_fracs_df.coef/cell_fracs_df.stderr\n",
    "    cell_fracs_df.z = cell_fracs_df.z.fillna(0)\n",
    "    if epi_type == 'ATAC':\n",
    "        # these peak names are postion named so split and use\n",
    "        peaks_info = cell_fracs_df.index.str.split('_', expand=True).to_frame()\n",
    "        peaks_info.columns = ['chrom','start', 'end']\n",
    "        cell_fracs_df['chrom'] = peaks_info.chrom.values\n",
    "        cell_fracs_df['start'] = peaks_info.start.astype(int).values\n",
    "        cell_fracs_df['end'] = peaks_info.end.astype(int).values \n",
    "    if epi_type == 'METH':\n",
    "        features_file = f'{quants_dir}/EPIC_annotation_hg38.txt'\n",
    "        features_df = read_csv(features_file, sep='\\t', header=None)\n",
    "        features_df.columns = ['chrom', 'start', 'end', 'feature']\n",
    "        features_df.end = features_df.end + 5\n",
    "        cell_fracs_df = cell_fracs_df.merge(features_df, how='inner', left_index=True, right_on='feature')\n",
    "        cell_fracs_df = cell_fracs_df.set_index('feature')\n",
    "    # chromosome format\n",
    "    cell_fracs_df.chrom = cell_fracs_df.chrom.str.replace('chr', '')\n",
    "    # format the bedgraph\n",
    "    frac_bed = cell_fracs_df[['chrom', 'start', 'end', 'z']]\n",
    "    frac_bed['feature'] = cell_fracs_df.index.values\n",
    "    # subset to region\n",
    "    frac_bed = frac_bed.loc[(frac_bed.chrom == str(chrom)) & \n",
    "                            (frac_bed.start >= start_bp) & \n",
    "                            (frac_bed.end <= stop_bp)]\n",
    "    this_out_file = f'{figures_dir}/tracks/{dx}.DA.{epi_type}.corr_cell_fracs.{index_variant}.bedgraph'\n",
    "    frac_bed.to_csv(this_out_file, index=False, header=False, sep='\\t')\n",
    "    if DEBUG:\n",
    "        display(cell_fracs_df.head())\n",
    "        display(frac_bed.head())"
   ]
  },
  {
   "cell_type": "markdown",
   "id": "18cbeca8-21f7-4c44-81ae-e16721cc7df8",
   "metadata": {},
   "source": [
    "##### format feature ~ cell fraction config string"
   ]
  },
  {
   "cell_type": "code",
   "execution_count": null,
   "id": "249f3225-b117-4641-a7eb-2f0ce337069d",
   "metadata": {},
   "outputs": [],
   "source": [
    "for epi_type in epi_types:\n",
    "    fracs_corr_bedgraph_file = f'{figures_dir}/tracks/{dx}.DA.{epi_type}.corr_cell_fracs.{index_variant}.bedgraph'\n",
    "    this_content = f'[DA {epi_type} cis_corr]{nl}\\\n",
    "    title = DA ~ {epi_type}{nl}\\\n",
    "    file = {fracs_corr_bedgraph_file}{nl}\\\n",
    "    file_type = bedgraph{nl}\\\n",
    "    color = black{nl}\\\n",
    "    height = 2{nl}\\\n",
    "    [hlines ovelayed]{nl}\\\n",
    "    color = black{nl}\\\n",
    "    line_width = 0.5{nl}\\\n",
    "    line_style = solid{nl}\\\n",
    "    y_values = 0{nl}\\\n",
    "    file_type = hlines{nl}\\\n",
    "    overlay_previous = share-y{nl}\\\n",
    "    [hlines ovelayed]{nl}\\\n",
    "    color = grey{nl}\\\n",
    "    line_width = 0.5{nl}\\\n",
    "    line_style = dotted{nl}\\\n",
    "    y_values = 1.96{nl}\\\n",
    "    file_type = hlines{nl}\\\n",
    "    overlay_previous = share-y{nl}\\\n",
    "    [hlines ovelayed]{nl}\\\n",
    "    color = grey{nl}\\\n",
    "    line_width = 0.5{nl}\\\n",
    "    line_style = dotted{nl}\\\n",
    "    y_values = -1.96{nl}\\\n",
    "    file_type = hlines{nl}\\\n",
    "    overlay_previous = share-y{nl}{nl}'    \n",
    "\n",
    "    config_content = config_content + this_content\n",
    "\n",
    "    if DEBUG:\n",
    "        print(this_content)"
   ]
  },
  {
   "cell_type": "markdown",
   "id": "f23af0c3-317a-4cb0-9fba-41b7df4f6fee",
   "metadata": {},
   "source": [
    "### caQTL colocalization scores track"
   ]
  },
  {
   "cell_type": "code",
   "execution_count": null,
   "id": "202ebe3c-c2e2-493e-b163-830e124fa24e",
   "metadata": {},
   "outputs": [],
   "source": [
    "features_file = f'{quants_dir}/{cohort}_consensus_peaks.saf'\n",
    "features_df = read_csv(features_file, sep='\\t')\n",
    "features_df.columns = ['feature', 'chrom', 'start', 'end', 'strand']\n",
    "print(f'features annot shape {features_df.shape}')\n",
    "if DEBUG:\n",
    "    display(features_df.head())"
   ]
  },
  {
   "cell_type": "code",
   "execution_count": null,
   "id": "7c188bba-2589-4505-a086-c8d736cb12dd",
   "metadata": {},
   "outputs": [],
   "source": [
    "def format_chst_qtl_bedgraph(features_df: DataFrame, day: str, chst_modality: str, \n",
    "                             verbose: bool=False):\n",
    "    this_file = f'{results_dir}/{cohort}_{day}_{chst_modality}_{dx}.coloc.pp.csv'\n",
    "    coloc_df = read_csv(this_file)\n",
    "    print(f'{day} {chst_modality} coloc shape {coloc_df.shape}')\n",
    "    coloc_df = coloc_df.merge(features_df, how='left', on='feature')\n",
    "    print(f'annotated {day} {chst_modality} coloc shape {coloc_df.shape}')\n",
    "    # format the chrom\n",
    "    coloc_df.chrom = coloc_df.chrom.str.replace('chr', '')\n",
    "    # subset to region\n",
    "    coloc_df = coloc_df.loc[(coloc_df.chrom == chrom) & \n",
    "                            (coloc_df.start >= start_bp) & \n",
    "                            (coloc_df.end <= stop_bp)]\n",
    "    print(f'risk region {day} {chst_modality} coloc shape {coloc_df.shape}')\n",
    "    qtl_bed = coloc_df[['chrom', 'start', 'end', 'H4', 'feature']]\n",
    "    bedgraph_file = f'{figures_dir}/tracks/{dx}.{day}_{chst_modality}.qtl_h4.{index_variant}.bedgraph'\n",
    "    qtl_bed.to_csv(bedgraph_file, index=False, header=False, sep='\\t')        \n",
    "    if DEBUG:\n",
    "        display(coloc_df.head())\n",
    "        display(qtl_bed.head())"
   ]
  },
  {
   "cell_type": "code",
   "execution_count": null,
   "id": "dc31bd68-18b2-47a9-abd7-c1a0e4b8b4e6",
   "metadata": {},
   "outputs": [],
   "source": [
    "chst_modality = 'ATAC'\n",
    "for day in days:\n",
    "    print(day)\n",
    "    format_chst_qtl_bedgraph(features_df, day, chst_modality, verbose=DEBUG)"
   ]
  },
  {
   "cell_type": "markdown",
   "id": "e065183b-0b14-4c7c-a67d-590431642469",
   "metadata": {},
   "source": [
    "#### format caQTL colocalization H4 track config string"
   ]
  },
  {
   "cell_type": "code",
   "execution_count": null,
   "id": "c35e6da9-3b86-4766-8c55-9c77d952ff0c",
   "metadata": {},
   "outputs": [],
   "source": [
    "# for day in days:\n",
    "#     day_color = day_colors.get(day)\n",
    "#     bedgraph_file = f'{figures_dir}/tracks/{dx}.{day}_{chst_modality}.qtl_h4.{index_variant}.bedgraph'\n",
    "#     this_content = f'[{day} {chst_modality}]{nl}\\\n",
    "#     file = {bedgraph_file}{nl}\\\n",
    "#     title = {day} caQTL H4{nl}\\\n",
    "#     file_type = bedgraph{nl}\\\n",
    "#     color = {day_color}{nl}\\\n",
    "#     height = 2{nl}\\\n",
    "#     min_value = 0.0{nl}\\\n",
    "#     max_value = 1{nl}\\\n",
    "#     [hlines ovelayed]{nl}\\\n",
    "#     color = black{nl}\\\n",
    "#     line_width = 0.5{nl}\\\n",
    "#     line_style = solid{nl}\\\n",
    "#     y_values = 0{nl}\\\n",
    "#     file_type = hlines{nl}\\\n",
    "#     overlay_previous = share-y{nl}\\\n",
    "#     {nl}{nl}'\n",
    "\n",
    "#     config_content = config_content + this_content\n",
    "\n",
    "#     if DEBUG:\n",
    "#         print(this_content)"
   ]
  },
  {
   "cell_type": "markdown",
   "id": "adc78f36-2762-426c-bec6-9a9cad7a1388",
   "metadata": {},
   "source": [
    "### mQTL colocalization scores track"
   ]
  },
  {
   "cell_type": "code",
   "execution_count": null,
   "id": "72d84cff-e9af-480a-ae10-5a58d9466d4f",
   "metadata": {},
   "outputs": [],
   "source": [
    "features_file = f'{quants_dir}/EPIC_annotation_hg38.txt'\n",
    "features_df = read_csv(features_file, sep='\\t', header=None)\n",
    "features_df.columns = ['chrom', 'start', 'end', 'feature']\n",
    "print(f'features annot shape {features_df.shape}')\n",
    "if DEBUG:\n",
    "    display(features_df.head())"
   ]
  },
  {
   "cell_type": "code",
   "execution_count": null,
   "id": "c187b794-e541-4a0d-a7cc-6568622475e4",
   "metadata": {},
   "outputs": [],
   "source": [
    "chst_modality = 'METH'\n",
    "for day in days:\n",
    "    print(day)\n",
    "    if day == 'da25':\n",
    "        continue\n",
    "    format_chst_qtl_bedgraph(features_df, day, chst_modality, verbose=DEBUG)"
   ]
  },
  {
   "cell_type": "markdown",
   "id": "f3aee50f-20bf-482d-a5a1-0ed4333850f8",
   "metadata": {},
   "source": [
    "#### format mQTL colocalization H4 tracks config string"
   ]
  },
  {
   "cell_type": "code",
   "execution_count": null,
   "id": "df151a9a-4b98-40e6-8678-46058d4734d4",
   "metadata": {},
   "outputs": [],
   "source": [
    "# for day in days:\n",
    "#     if day == 'da25':\n",
    "#         continue\n",
    "#     day_color = day_colors.get(day)\n",
    "#     bedgraph_file = f'{figures_dir}/tracks/{dx}.{day}_{chst_modality}.qtl_h4.{index_variant}.bedgraph'\n",
    "#     this_content = f'[{day} {chst_modality}]{nl}\\\n",
    "#     file = {bedgraph_file}{nl}\\\n",
    "#     title = {day} mQTL H4{nl}\\\n",
    "#     file_type = bedgraph{nl}\\\n",
    "#     color = {day_color}{nl}\\\n",
    "#     height = 2{nl}\\\n",
    "#     min_value = 0.0{nl}\\\n",
    "#     max_value = 1{nl}\\\n",
    "#     [hlines ovelayed]{nl}\\\n",
    "#     color = black{nl}\\\n",
    "#     line_width = 0.5{nl}\\\n",
    "#     line_style = solid{nl}\\\n",
    "#     y_values = 0{nl}\\\n",
    "#     file_type = hlines{nl}\\\n",
    "#     overlay_previous = share-y{nl}\\\n",
    "#     {nl}{nl}'\n",
    "\n",
    "#     config_content = config_content + this_content\n",
    "\n",
    "#     if DEBUG:\n",
    "#         print(this_content)"
   ]
  },
  {
   "cell_type": "markdown",
   "id": "79e11241-31e5-407b-87da-c56d255a769c",
   "metadata": {},
   "source": [
    "### Bryois CNS cell-type eQTL track"
   ]
  },
  {
   "cell_type": "code",
   "execution_count": null,
   "id": "b9c6de73-9b13-4f1e-854d-9c3c4e6022f4",
   "metadata": {},
   "outputs": [],
   "source": [
    "cns_names = {'Astrocytes': 'Bryois-Astro', 'Endothelial.cells': 'Bryois-Endo', \n",
    "               'Excitatory.neurons': 'Bryois-ExN', 'Inhibitory.neurons': 'Bryois-InN', \n",
    "               'Microglia': 'Bryois-Micro', 'OPCs...COPs': 'Bryois-OPC', \n",
    "               'Oligodendrocytes': 'Bryois-Oligo', 'Pericytes': 'Bryois-Peri'}\n",
    "\n",
    "vars_df = read_csv(f'{public_dir}/bryois_brain_eqtl/snp_pos.txt', sep='\\t')\n",
    "vars_df = vars_df.rename(columns={'SNP': 'variant_id', 'chr': 'chromosome', 'pos_hg38': 'base_pair_location'})\n",
    "\n",
    "for cell_type, cell_name in cns_names.items():\n",
    "    print(cell_type)\n",
    "    cns_file = f'{public_dir}/bryois_brain_eqtl/{cell_type}.{chrom}.gz'\n",
    "    cell_qtl_df = read_csv(cns_file, sep='\\s+', header=None)\n",
    "    cell_qtl_df.columns = ['gene_info', 'variant_id', 'tss_distance', 'p_value_qtl', 'slope']\n",
    "    temp_df = cell_qtl_df.gene_info.str.split('_', n=1, expand=True)\n",
    "    temp_df.columns = ['gene_name', 'gene_id']\n",
    "    cell_qtl_df['gene_id'] = temp_df.gene_id\n",
    "    cell_qtl_df['gene_name'] = temp_df.gene_name\n",
    "    cell_qtl_df = cell_qtl_df.merge(vars_df, how='left', on='variant_id')\n",
    "    cell_qtl_df.chromosome = cell_qtl_df.chromosome.str.replace('chr', '')\n",
    "    cell_qtl_df = cell_qtl_df.set_index('variant_id')\n",
    "    print(f'cell qtl shape {cell_qtl_df.shape} for {cell_name}')\n",
    "    # use same features from foundin eQTL\n",
    "    for feature in features:\n",
    "        print(feature)\n",
    "        feature_qtl_df = cell_qtl_df.loc[cell_qtl_df.gene_name == feature]\n",
    "        print(f'feature qtl shape {feature_qtl_df.shape}')\n",
    "        qtl_out_file = f'{figures_dir}/tracks/{dx}.{feature}.{cell_name}.qtl.{index_variant}.bedgraph'\n",
    "        feature_max = format_qtl_bedgraph(feature_qtl_df, qtl_out_file, verbose=DEBUG)\n",
    "        if feature_max > qtl_max:\n",
    "            qtl_max = feature_max\n",
    "        if DEBUG:\n",
    "            display(feature_qtl_df.head())    "
   ]
  },
  {
   "cell_type": "markdown",
   "id": "e97e8451-90af-469b-9158-8277efcf284c",
   "metadata": {},
   "source": [
    "#### format Bryois CNS qtl track(s) config string"
   ]
  },
  {
   "cell_type": "code",
   "execution_count": null,
   "id": "72a08f5d-6a46-4eb5-a939-a87adb0d84e8",
   "metadata": {},
   "outputs": [],
   "source": [
    "cns_colors = {'Bryois-Astro': 'blue', 'Bryois-Endo': 'purple', \n",
    "              'Bryois-ExN': 'violet', 'Bryois-InN': 'red', \n",
    "              'Bryois-Micro': 'green', 'Bryois-OPC': 'orange', \n",
    "              'Bryois-Oligo': 'black', 'Bryois-Peri': 'grey'}\n",
    "for feature in features:\n",
    "    for cell_type, cell_name in cns_names.items():\n",
    "        print(cell_type, cell_name)\n",
    "        cell_color = cns_colors.get(cell_name)\n",
    "        this_file = f'{figures_dir}/tracks/{dx}.{feature}.{cell_name}.qtl.{index_variant}.bedgraph'\n",
    "        # specify first cell-type Astro, then loop the rest as overlay\n",
    "        if cell_type == 'Astrocytes':\n",
    "            this_content = f'[CNS eQTL]{nl}\\\n",
    "            title = Bryois CNS{nl}\\\n",
    "                {feature} eQTL{nl}\\\n",
    "                Astro (blue){nl}\\\n",
    "                Endo (purple){nl}\\\n",
    "                ExN (violet){nl}\\\n",
    "                InN (red){nl}\\\n",
    "                Micro (green){nl}\\\n",
    "                OPC (orange){nl}\\\n",
    "                Oligo (black){nl}\\\n",
    "                Peri (grey){nl}\\\n",
    "            file = {this_file}{nl}\\\n",
    "            file_type = bedgraph{nl}\\\n",
    "            type = points:8{nl}\\\n",
    "            color = {cell_color}{nl}\\\n",
    "            use_middle = true{nl}\\\n",
    "            min_value = 0{nl}\\\n",
    "            max_value = {ceil(qtl_max+1)}{nl}\\\n",
    "            height = 8{nl}\\\n",
    "            [hlines ovelayed]{nl}\\\n",
    "            color = black{nl}\\\n",
    "            line_width = 0.5{nl}\\\n",
    "            line_style = solid{nl}\\\n",
    "            y_values = 0{nl}\\\n",
    "            file_type = hlines{nl}\\\n",
    "            overlay_previous = share-y{nl}\\\n",
    "            {nl}{nl}'            \n",
    "        else:\n",
    "            this_content = f'[CNS eQTL]{nl}\\\n",
    "            file = {this_file}{nl}\\\n",
    "            file_type = bedgraph{nl}\\\n",
    "            type = points:8{nl}\\\n",
    "            color = {cell_color}{nl}\\\n",
    "            use_middle = true{nl}\\\n",
    "            overlay_previous = share-y{nl}\\\n",
    "            [hlines ovelayed]{nl}\\\n",
    "            color = black{nl}\\\n",
    "            line_width = 0.5{nl}\\\n",
    "            line_style = solid{nl}\\\n",
    "            y_values = 0{nl}\\\n",
    "            file_type = hlines{nl}\\\n",
    "            overlay_previous = share-y{nl}\\\n",
    "            {nl}{nl}'            \n",
    "\n",
    "        config_content = config_content + this_content\n",
    "        if DEBUG:\n",
    "            print(this_content)"
   ]
  },
  {
   "cell_type": "markdown",
   "id": "d3580aa1-988d-4a2d-8b93-8d59e7e05e24",
   "metadata": {},
   "source": [
    "### MetaBrain regions eQTL track"
   ]
  },
  {
   "cell_type": "code",
   "execution_count": null,
   "id": "e2014667-b96f-4d1f-8143-d0bfa9f72331",
   "metadata": {},
   "outputs": [],
   "source": [
    "region = 'basalganglia-EUR-30PCs'\n",
    "region_file = f'{public_dir}/metabrain/2021-07-23-{region}-chr{chrom}.txt.gz'\n",
    "region_qtl_df = read_csv(region_file, sep='\\s+')\n",
    "print(f'{region} qtl shape {region_qtl_df.shape}')\n",
    "if DEBUG:\n",
    "    display(region_qtl_df.head())"
   ]
  },
  {
   "cell_type": "code",
   "execution_count": null,
   "id": "b012b602-a9a5-418e-bd89-a723c3a7d625",
   "metadata": {},
   "outputs": [],
   "source": [
    "region_names_dict = {\n",
    "    'basalganglia-EUR-30PCs': 'basalganglia', \n",
    "    'cerebellum-EUR-60PCs': 'cerebellum', \n",
    "    'cortex-EUR-80PCs': 'cortex', 'hippocampus-EUR-30PCs': 'hippocampus', \n",
    "    'spinalcord-EUR-20PCs': 'spinalcord'\n",
    "}\n",
    "\n",
    "for region_in, region_out in region_names_dict.items():\n",
    "    print(cell_type)\n",
    "    region_file = f'{public_dir}/metabrain/2021-07-23-{region_in}-chr{chrom}.txt.gz'\n",
    "    region_qtl_df = read_csv(region_file, sep='\\s+')\n",
    "    # split the SNP col to get variant dbSNP ID\n",
    "    temp_df = region_qtl_df.SNP.str.split(':', expand=True)\n",
    "    temp_df.columns = ['chrom', 'pos', 'variant_id', 'alleles']\n",
    "    region_qtl_df['variant_id'] = temp_df.variant_id    \n",
    "    region_qtl_df = region_qtl_df.rename(columns={'SNPChr': 'chromosome', \n",
    "                                                  'SNPPos': 'base_pair_location', \n",
    "                                                  'MetaP': 'p_value_qtl'})\n",
    "    region_qtl_df = region_qtl_df.set_index('variant_id')\n",
    "    print(f'cell qtl shape {region_qtl_df.shape} for {cell_name}')\n",
    "    # use same features from foundin eQTL\n",
    "    for feature in features:\n",
    "        print(feature)\n",
    "        feature_qtl_df = region_qtl_df.loc[region_qtl_df.GeneSymbol == feature]\n",
    "        print(f'feature qtl shape {feature_qtl_df.shape}')\n",
    "        qtl_out_file = f'{figures_dir}/tracks/{dx}.{feature}.metabrain-{region_out}.qtl.{index_variant}.bedgraph'\n",
    "        feature_max = format_qtl_bedgraph(feature_qtl_df, qtl_out_file, verbose=DEBUG)\n",
    "        if feature_max > qtl_max:\n",
    "            qtl_max = feature_max\n",
    "        if DEBUG:\n",
    "            display(feature_qtl_df.head())    "
   ]
  },
  {
   "cell_type": "markdown",
   "id": "cc256429-c5d5-44d5-b009-a4270f529898",
   "metadata": {},
   "source": [
    "#### format MetaBrain region qtl track(s) config string"
   ]
  },
  {
   "cell_type": "code",
   "execution_count": null,
   "id": "a092f313-688a-4f5e-bbee-45758d372e00",
   "metadata": {},
   "outputs": [],
   "source": [
    "cns_colors = {'basalganglia': 'blue', 'cerebellum': 'purple', \n",
    "              'cortex': 'red', 'hippocampus': 'green', \n",
    "              'spinalcord': 'orange'}\n",
    "for feature in features:\n",
    "    for region_in, region_out in region_names_dict.items():\n",
    "        print(region_in, region_out)\n",
    "        cell_color = cns_colors.get(region_out)\n",
    "        this_file = f'{figures_dir}/tracks/{dx}.{feature}.metabrain-{region_out}.qtl.{index_variant}.bedgraph'\n",
    "        if region_out == 'basalganglia':\n",
    "            this_content = f'[region eQTL]{nl}\\\n",
    "            title = MetaBrain{nl}\\\n",
    "                {feature} eQTL{nl}\\\n",
    "                basalganglia (blue){nl}\\\n",
    "                cerebellum (purple){nl}\\\n",
    "                cortex (red){nl}\\\n",
    "                hippocampus (green){nl}\\\n",
    "                spinalcord (orange){nl}\\\n",
    "            file = {this_file}{nl}\\\n",
    "            file_type = bedgraph{nl}\\\n",
    "            type = points:8{nl}\\\n",
    "            color = {cell_color}{nl}\\\n",
    "            use_middle = true{nl}\\\n",
    "            min_value = 0{nl}\\\n",
    "            max_value = {ceil(qtl_max+1)}{nl}\\\n",
    "            height = 8{nl}\\\n",
    "            [hlines ovelayed]{nl}\\\n",
    "            color = black{nl}\\\n",
    "            line_width = 0.5{nl}\\\n",
    "            line_style = solid{nl}\\\n",
    "            y_values = 0{nl}\\\n",
    "            file_type = hlines{nl}\\\n",
    "            overlay_previous = share-y{nl}\\\n",
    "            {nl}{nl}'            \n",
    "        else:\n",
    "            this_content = f'[region eQTL]{nl}\\\n",
    "            file = {this_file}{nl}\\\n",
    "            file_type = bedgraph{nl}\\\n",
    "            type = points:8{nl}\\\n",
    "            color = {cell_color}{nl}\\\n",
    "            use_middle = true{nl}\\\n",
    "            overlay_previous = share-y{nl}\\\n",
    "            [hlines ovelayed]{nl}\\\n",
    "            color = black{nl}\\\n",
    "            line_width = 0.5{nl}\\\n",
    "            line_style = solid{nl}\\\n",
    "            y_values = 0{nl}\\\n",
    "            file_type = hlines{nl}\\\n",
    "            overlay_previous = share-y{nl}\\\n",
    "            {nl}{nl}'            \n",
    "\n",
    "        config_content = config_content + this_content\n",
    "        if DEBUG:\n",
    "            print(this_content)"
   ]
  },
  {
   "cell_type": "markdown",
   "id": "6874eab6-6589-4620-ad0f-e50c3291e9b3",
   "metadata": {},
   "source": [
    "### create the Encode CRE bed"
   ]
  },
  {
   "cell_type": "code",
   "execution_count": null,
   "id": "854519b3-c85e-48c1-8f00-6df895942fea",
   "metadata": {},
   "outputs": [],
   "source": [
    "this_cmd = f'bigBedToBed {encode_bb_file} -chrom=chr{chrom} -start={start_bp} \\\n",
    "-end={stop_bp} {encode_bed_file}'\n",
    "run_bash_cmd(this_cmd, DEBUG)"
   ]
  },
  {
   "cell_type": "markdown",
   "id": "eb3555de-4c67-422d-929a-514f5621b509",
   "metadata": {},
   "source": [
    "### format the HiC data tracks"
   ]
  },
  {
   "cell_type": "code",
   "execution_count": null,
   "id": "55f33efe-de56-43f3-927b-1ae817af8770",
   "metadata": {},
   "outputs": [],
   "source": [
    "# # this is from Frank's formatting and files\n",
    "# this_content = f'[HiC regions da0]{nl}\\\n",
    "# file = {figures_dir}/tracks/hic_da0_regions.bed{nl}\\\n",
    "# height = 0.25{nl}\\\n",
    "# title = da0 Regions{nl}\\\n",
    "# file_type = bed{nl}\\\n",
    "# display = collapsed{nl}\\\n",
    "# color = #00AFBB{nl}\\\n",
    "# labels = false{nl}{nl}\\\n",
    "# [HiC da0]{nl}\\\n",
    "# file = {figures_dir}/tracks/hic_da0.bedpe{nl}\\\n",
    "# title = da0 Loops{nl}\\\n",
    "# height = 2{nl}\\\n",
    "# line_width = 2{nl}\\\n",
    "# links_type = arcs{nl}\\\n",
    "# color = #00AFBB{nl}\\\n",
    "# line_style = solid{nl}\\\n",
    "# file_type = links{nl}\\\n",
    "# orientation = inverted{nl}\\\n",
    "# use_middle = true{nl}{nl}\\\n",
    "# [HiC regions da65]{nl}\\\n",
    "# file = {figures_dir}/tracks/hic_da65_regions.bed{nl}\\\n",
    "# height = 0.25{nl}\\\n",
    "# title = da65 Regions{nl}\\\n",
    "# file_type = bed{nl}\\\n",
    "# display = collapsed{nl}\\\n",
    "# color = #FC4E07{nl}\\\n",
    "# labels = false{nl}{nl}\\\n",
    "# [HiC da65]{nl}\\\n",
    "# file = {figures_dir}/tracks/hic_da65.bedpe{nl}\\\n",
    "# title = da65 Loops{nl}\\\n",
    "# height = 2{nl}\\\n",
    "# line_width = 2{nl}\\\n",
    "# links_type = arcs{nl}\\\n",
    "# color = #FC4E07{nl}\\\n",
    "# line_style = solid{nl}\\\n",
    "# file_type = links{nl}\\\n",
    "# orientation = inverted{nl}\\\n",
    "# use_middle = true{nl}{nl}'\n",
    "\n",
    "# config_content = config_content + this_content\n",
    "\n",
    "# if DEBUG:\n",
    "#     print(this_content)"
   ]
  },
  {
   "cell_type": "markdown",
   "id": "cd4662e2-9aa4-4053-8ff2-a5f1de37cc3b",
   "metadata": {},
   "source": [
    "### add encode track to config"
   ]
  },
  {
   "cell_type": "code",
   "execution_count": null,
   "id": "2ede83fd-7994-43fa-87c8-082b32a77141",
   "metadata": {},
   "outputs": [],
   "source": [
    "this_content = f'{nl}{nl}\\\n",
    "[CRE]{nl}\\\n",
    "title = ENCODE CRE{nl}\\\n",
    "file = {encode_bed_file}{nl}\\\n",
    "use_middle = true{nl}\\\n",
    "height = 2{nl}\\\n",
    "fontsize = 8{nl}\\\n",
    "file_type = bed{nl}\\\n",
    "color = Blues{nl}\\\n",
    "display = collapsed{nl}\\\n",
    "labels = false{nl}\\\n",
    "show_data_range = false{nl}\\\n",
    "[x-axis]{nl}{nl}'\n",
    "\n",
    "config_content = config_content + this_content\n",
    "\n",
    "if DEBUG:\n",
    "    print(this_content)"
   ]
  },
  {
   "cell_type": "markdown",
   "id": "5f28efb5-615c-4585-8dca-960f3aa8b694",
   "metadata": {},
   "source": [
    "### save the config file content"
   ]
  },
  {
   "cell_type": "code",
   "execution_count": null,
   "id": "f65cc598-fc86-43a6-ace0-da3051498977",
   "metadata": {},
   "outputs": [],
   "source": [
    "with open(config_file, 'w') as f:\n",
    "    f.write(config_content)"
   ]
  },
  {
   "cell_type": "markdown",
   "id": "c37b824d-bdd4-4209-b9c5-eb96dc455533",
   "metadata": {},
   "source": [
    "### generate the figure"
   ]
  },
  {
   "cell_type": "code",
   "execution_count": null,
   "id": "7a827892-9501-41b6-8eab-edb8c2df48d5",
   "metadata": {},
   "outputs": [],
   "source": [
    "this_cmd = f'pyGenomeTracks --tracks {config_file} \\\n",
    "--region chr{chrom}:{start_bp}-{stop_bp} --dpi 200 \\\n",
    "--title \"{dx} {index_variant}\" \\\n",
    "--outFileName {figure_file}'\n",
    "\n",
    "run_bash_cmd(this_cmd, DEBUG)"
   ]
  },
  {
   "cell_type": "markdown",
   "id": "dba16036-b748-4db1-ac51-fe15fd4c4d94",
   "metadata": {},
   "source": [
    "### view the generated figure"
   ]
  },
  {
   "cell_type": "code",
   "execution_count": null,
   "id": "c14e2e1e-e3f4-42fb-a08e-e75c0ff6d709",
   "metadata": {},
   "outputs": [],
   "source": [
    "Image(figure_file)"
   ]
  },
  {
   "cell_type": "code",
   "execution_count": null,
   "id": "e94e4b7a-3825-4f01-b4d4-69debf04241e",
   "metadata": {},
   "outputs": [],
   "source": [
    "!date"
   ]
  },
  {
   "cell_type": "code",
   "execution_count": null,
   "id": "cdd74721-7de2-4c07-bc2f-20fdedffa62e",
   "metadata": {},
   "outputs": [],
   "source": []
  }
 ],
 "metadata": {
  "environment": {
   "kernel": "python3",
   "name": "pytorch-gpu.1-12.m102",
   "type": "gcloud",
   "uri": "gcr.io/deeplearning-platform-release/pytorch-gpu.1-12:m102"
  },
  "kernelspec": {
   "display_name": "Python 3 (ipykernel)",
   "language": "python",
   "name": "python3"
  },
  "language_info": {
   "codemirror_mode": {
    "name": "ipython",
    "version": 3
   },
   "file_extension": ".py",
   "mimetype": "text/x-python",
   "name": "python",
   "nbconvert_exporter": "python",
   "pygments_lexer": "ipython3",
   "version": "3.7.12"
  },
  "toc-autonumbering": false,
  "toc-showcode": false,
  "toc-showmarkdowntxt": false
 },
 "nbformat": 4,
 "nbformat_minor": 5
}
