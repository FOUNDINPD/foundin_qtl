{
 "cells": [
  {
   "cell_type": "markdown",
   "id": "1d8f6fde-58a3-4424-8049-f72b04dcddf7",
   "metadata": {},
   "source": [
    "## Notebook to Plot feature quantification by genotype allele for a QTL for the specified combinations"
   ]
  },
  {
   "cell_type": "code",
   "execution_count": null,
   "id": "aa48eacc-f52f-428c-92b7-a7b193d5dad3",
   "metadata": {},
   "outputs": [],
   "source": [
    "!date"
   ]
  },
  {
   "cell_type": "markdown",
   "id": "dd7759e7-61ee-4d7e-bdb5-b8dedecff1a7",
   "metadata": {},
   "source": [
    "#### import libraries and set notebook variables"
   ]
  },
  {
   "cell_type": "code",
   "execution_count": null,
   "id": "edd363ce-d894-4a1a-9f1b-416a02ab5ebb",
   "metadata": {},
   "outputs": [],
   "source": [
    "from papermill import execute_notebook"
   ]
  },
  {
   "cell_type": "code",
   "execution_count": null,
   "id": "706099d3-174e-473b-abc2-9e95fe9f87a9",
   "metadata": {},
   "outputs": [],
   "source": [
    "# directories\n",
    "home_dir = '/home/gibbsr/working/foundin/foundin_qtl/figures'\n",
    "\n",
    "# base notebook to be run per tuple iteration\n",
    "base_notebook = f'{home_dir}/plot_qtl_genotype.ipynb'\n",
    "\n",
    "# output path for the generated notebooks\n",
    "out_nb_dir = f'{home_dir}/pm_gend_nbs'\n",
    "\n",
    "# setup parameters to iterate\n",
    "iterations = [\n",
    "              {'day': 'da65', 'modality': 'SCRN-DA', 'feature_name': 'CCAR2', \n",
    "               'feature_id': 'CCAR2', 'variant': 'rs2280104', \n",
    "               'interaction_term': 'TH_Pel-Freez_ICC', 'chrom': 'chr8'},\n",
    "              {'day': 'da65', 'modality': 'SCRN-DA', 'feature_name': 'KANSL1', \n",
    "               'feature_id': 'KANSL1', 'variant': 'rs62053943', \n",
    "               'interaction_term': 'TH_Pel-Freez_ICC', 'chrom': 'chr17'},\n",
    "              {'day': 'da65', 'modality': 'SCRN-DA', 'feature_name': 'CTSB', \n",
    "               'feature_id': 'CTSB', 'variant': 'rs1293298', \n",
    "               'interaction_term': 'TH_Pel-Freez_ICC', 'chrom': 'chr8'},\n",
    "              {'day': 'da65', 'modality': 'SCRN-DA', 'feature_name': 'VAMP4', \n",
    "               'feature_id': 'VAMP4', 'variant': 'rs11578699', \n",
    "               'interaction_term': 'TH_Pel-Freez_ICC', 'chrom': 'chr1'},\n",
    "              {'day': 'da65', 'modality': 'PDUI', 'feature_name': 'CCAR2', \n",
    "               'feature_id': 'chr8:22619638-22620418', 'variant': 'rs2280104', \n",
    "               'interaction_term': 'TH_Pel-Freez_ICC', 'chrom': 'chr8'},\n",
    "              {'day': 'da65', 'modality': 'PDUI', 'feature_name': 'CTSB', \n",
    "               'feature_id': 'chr8:11844561-11845222', 'variant': 'rs1293298', \n",
    "               'interaction_term': 'TH_Pel-Freez_ICC', 'chrom': 'chr8'},\n",
    "              {'day': 'da65', 'modality': 'RNAB', 'feature_name': 'KANSL1', \n",
    "               'feature_id': 'ENSG00000120071.14', 'variant': 'rs62053943', \n",
    "               'interaction_term': 'TH_Pel-Freez_ICC', 'chrom': 'chr17'},\n",
    "              {'day': 'da65', 'modality': 'RNAB', 'feature_name': 'CLCN3', \n",
    "               'feature_id': 'ENSG00000109572.13', 'variant': 'rs62333164', \n",
    "               'interaction_term': 'TH_Pel-Freez_ICC', 'chrom': 'chr4'},\n",
    "              {'day': 'da65', 'modality': 'RNAB', 'feature_name': 'ZNF668', \n",
    "               'feature_id': 'ENSG00000167394.12', 'variant': 'rs11150601', \n",
    "               'interaction_term': 'TH_Pel-Freez_ICC', 'chrom': 'chr16'}\n",
    "             ]"
   ]
  },
  {
   "cell_type": "markdown",
   "id": "6da05932-d273-4d9a-aff3-b7ed9be91736",
   "metadata": {},
   "source": [
    "#### run the notebook iterations"
   ]
  },
  {
   "cell_type": "code",
   "execution_count": null,
   "id": "a85c3eb1-b64f-41bb-86ce-a2248be6241e",
   "metadata": {},
   "outputs": [],
   "source": [
    "%%time\n",
    "\n",
    "for iteration in iterations:\n",
    "    day = iteration.get('day')\n",
    "    modality = iteration.get('modality')\n",
    "    variant = iteration.get('variant')\n",
    "    feature_name = iteration.get('feature_name')\n",
    "    # param_dict = {'day': day, 'modality': modality, 'variant': variant}\n",
    "    param_dict = iteration\n",
    "    out_notebook = f'{out_nb_dir}/{day}_{modality}_{feature_name}_{variant}.plot_qtl_geno.ipynb'            \n",
    "    print(param_dict)\n",
    "    print(out_notebook)\n",
    "    try:    \n",
    "        execute_notebook(input_path=base_notebook, output_path=out_notebook, \n",
    "                         parameters=param_dict)\n",
    "    except:\n",
    "        print(f'{day}_{modality}_{feature_name}_{variant} encountered an error continuing on next')"
   ]
  },
  {
   "cell_type": "code",
   "execution_count": null,
   "id": "fb7fc951-ce00-42fb-92c3-9b1f92d790c4",
   "metadata": {},
   "outputs": [],
   "source": [
    "!date"
   ]
  }
 ],
 "metadata": {
  "environment": {
   "kernel": "python3",
   "name": "pytorch-gpu.1-12.m102",
   "type": "gcloud",
   "uri": "gcr.io/deeplearning-platform-release/pytorch-gpu.1-12:m102"
  },
  "kernelspec": {
   "display_name": "Python 3 (ipykernel)",
   "language": "python",
   "name": "python3"
  },
  "language_info": {
   "codemirror_mode": {
    "name": "ipython",
    "version": 3
   },
   "file_extension": ".py",
   "mimetype": "text/x-python",
   "name": "python",
   "nbconvert_exporter": "python",
   "pygments_lexer": "ipython3",
   "version": "3.12.2"
  }
 },
 "nbformat": 4,
 "nbformat_minor": 5
}
