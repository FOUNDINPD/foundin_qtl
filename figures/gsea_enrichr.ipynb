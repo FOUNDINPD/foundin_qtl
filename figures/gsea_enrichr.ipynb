{
 "cells": [
  {
   "cell_type": "markdown",
   "id": "a3b86aa2-b7cf-468b-b824-5605ef3fef42",
   "metadata": {},
   "source": [
    "## Notebook for running Gene Set Enrichment Analysis (GSEA) Enrichr using gseapy\n",
    "[gseapy docs](https://gseapy.readthedocs.io/en/latest/introduction.html)"
   ]
  },
  {
   "cell_type": "code",
   "execution_count": null,
   "id": "98765cf5-e241-4654-a4fb-3c3cab9d3808",
   "metadata": {},
   "outputs": [],
   "source": [
    "!date"
   ]
  },
  {
   "cell_type": "markdown",
   "id": "8c15adb3-ab56-4408-a241-faf53b67fb38",
   "metadata": {},
   "source": [
    "#### import libraries"
   ]
  },
  {
   "cell_type": "code",
   "execution_count": null,
   "id": "a941a7c1-a262-46fe-9f06-5f373929db8d",
   "metadata": {},
   "outputs": [],
   "source": [
    "import gseapy\n",
    "from gseapy.enrichr import Enrichr\n",
    "from pandas import read_csv, DataFrame, concat, pivot\n",
    "from math import ceil\n",
    "import matplotlib.pyplot as plt\n",
    "from matplotlib.pyplot import rc_context\n",
    "from seaborn import heatmap\n",
    "import statsmodels.stats.multitest as smm\n",
    "from numpy import log10, log\n",
    "from os.path import exists\n",
    "from time import sleep\n",
    "\n",
    "%matplotlib inline\n",
    "# for white background of figures (only for docs rendering)\n",
    "%config InlineBackend.print_figure_kwargs={'facecolor' : \"w\"}\n",
    "%config InlineBackend.figure_format='retina'"
   ]
  },
  {
   "cell_type": "code",
   "execution_count": null,
   "id": "f7408243-eada-4284-a04d-019b883082e9",
   "metadata": {
    "tags": [
     "parameters"
    ]
   },
   "outputs": [],
   "source": [
    "# parameters\n",
    "gene_set = 'GO_Cellular_Component_2021' # 'GO_Cellular_Component_2021', 'GO_Biological_Process_2021', 'KEGG_2021_Human', 'MSigDB_Hallmark_2020'"
   ]
  },
  {
   "cell_type": "markdown",
   "id": "1ba7bfee-a958-4541-af0e-6f1c56a18d84",
   "metadata": {},
   "source": [
    "#### set notebook variables"
   ]
  },
  {
   "cell_type": "code",
   "execution_count": null,
   "id": "fc8c4e1c-71ff-4a9f-b07e-ff1ec55becd4",
   "metadata": {},
   "outputs": [],
   "source": [
    "# naming\n",
    "cohort = 'foundin'\n",
    "dx = 'PD'\n",
    "\n",
    "# directories\n",
    "wrk_dir = '/labshare/raph/datasets/foundin_qtl'\n",
    "results_dir = f'{wrk_dir}/results'\n",
    "figures_dir = f'{wrk_dir}/figures'\n",
    "meta_dir = f'{wrk_dir}/meta'\n",
    "\n",
    "# input files\n",
    "full_qtl_tops_file = f'{meta_dir}/{cohort}_daNA_DAn-meta_metal_eqtl_top.csv'\n",
    "\n",
    "# output files\n",
    "figure_file = f'{figures_dir}/{cohort}.colocalization.{dx}.{gene_set}.gsea_enrichr.png'\n",
    "results_file = f'{figures_dir}/{cohort}.colocalization.{dx}.{gene_set}.gsea_enrichr.csv'\n",
    "\n",
    "# variables\n",
    "DEBUG = False\n",
    "dpi_value = 100\n",
    "alpha = 0.05\n",
    "# marker_sets = ['GO_Biological_Process_2021', \n",
    "#                'GO_Cellular_Component_2021', \n",
    "#                'KEGG_2021_Human']\n",
    "modalities = ['DAn-meta',\n",
    "              'Bryois-ExN', 'Bryois-InN', 'Bryois-Micro', \n",
    "              'Bryois-Astro', 'Bryois-Oligo', 'Bryois-Endo', 'Bryois-Peri']\n",
    "min_h4 = 0.5\n",
    "PAUSE_AMT = 2"
   ]
  },
  {
   "cell_type": "markdown",
   "id": "daf2f2df-d2f1-4032-be05-353f208c19bd",
   "metadata": {},
   "source": [
    "### format a background gene list\n",
    "here just using the genes test in the FOUNDIN-PD meta-DAn eQTL analysis"
   ]
  },
  {
   "cell_type": "code",
   "execution_count": null,
   "id": "e5a8a830-eb61-4c1d-bf50-49096209fb1e",
   "metadata": {},
   "outputs": [],
   "source": [
    "tops_df = read_csv(full_qtl_tops_file)\n",
    "print(f'tops_df shape is {tops_df.shape}')\n",
    "background_list = list(tops_df.trait.unique())\n",
    "print(f'background gene list has {len(background_list)} genes in it')\n",
    "if DEBUG:\n",
    "    display(tops_df.sample(5))\n",
    "    print(background_list[0:5])"
   ]
  },
  {
   "cell_type": "markdown",
   "id": "020ddc44-a93e-4ed1-a09c-318f80282c9f",
   "metadata": {},
   "source": [
    "### format each modality's gene list"
   ]
  },
  {
   "cell_type": "code",
   "execution_count": null,
   "id": "f71f9bae-1d7f-49b1-a6dc-83884d03d302",
   "metadata": {},
   "outputs": [],
   "source": [
    "%%time\n",
    "gene_sets = {}\n",
    "for modality in modalities:\n",
    "    print(modality)\n",
    "    in_file = f'{results_dir}/{cohort}_daNA_{modality}_{dx}.coloc.pp.csv'\n",
    "    if exists(in_file):\n",
    "        this_df = read_csv(in_file)\n",
    "        print(f'loaded {this_df.shape[0]} results')\n",
    "        # subset to min H4\n",
    "        this_df = this_df.loc[this_df.H4 >= min_h4]\n",
    "        print(f'kept {this_df.shape[0]} results')\n",
    "        # get the list of genes to add\n",
    "        gene_list = this_df.feature.to_list()\n",
    "        gene_sets[modality] = gene_list\n",
    "if DEBUG:\n",
    "    display(gene_sets)"
   ]
  },
  {
   "cell_type": "markdown",
   "id": "ea1fbec4-bdd9-4a83-bd9e-ad1006efb939",
   "metadata": {},
   "source": [
    "### check the enrichments"
   ]
  },
  {
   "cell_type": "code",
   "execution_count": null,
   "id": "6a650e80-037c-4edc-97a4-0099e2ed2ff0",
   "metadata": {},
   "outputs": [],
   "source": [
    "if DEBUG:\n",
    "    gene_set_names = gseapy.get_library_name(organism='Human')\n",
    "    print(gene_set_names)"
   ]
  },
  {
   "cell_type": "code",
   "execution_count": null,
   "id": "163a01bc-2355-4c9d-beaf-46d9a57c62c1",
   "metadata": {},
   "outputs": [],
   "source": [
    "def find_enrichment(name: str, genes: list, sets, \n",
    "                    background_genes: list, verbose: bool=False) -> DataFrame:\n",
    "    enr_res = gseapy.enrichr(gene_list=genes,\n",
    "                             organism='Human',\n",
    "                             gene_sets=sets,\n",
    "                             cutoff=0.5, background=background_genes)\n",
    "    enr_res.results['modality'] = name    \n",
    "    if verbose:\n",
    "        print(f'full {sets} results shape{enr_res.results.shape}')        \n",
    "        sig = enr_res.results.loc[enr_res.results['Adjusted P-value'] <= alpha]\n",
    "        print(f'significant {sets} results shape{sig.shape}')\n",
    "        display(sig)\n",
    "    return enr_res.results\n",
    "\n",
    "# compute B&H FDR for given p-values\n",
    "def compute_fdr(pvalues):\n",
    "    bh_adj = smm.fdrcorrection(pvalues)\n",
    "    return bh_adj[1]"
   ]
  },
  {
   "cell_type": "code",
   "execution_count": null,
   "id": "53d1781b-f79e-4f5a-89bb-961989c61b9a",
   "metadata": {},
   "outputs": [],
   "source": [
    "# for gene_set in marker_sets:\n",
    "#     print(gene_set)"
   ]
  },
  {
   "cell_type": "code",
   "execution_count": null,
   "id": "0c452084-87bc-4a9e-8df4-f95f6d72f64f",
   "metadata": {
    "tags": []
   },
   "outputs": [],
   "source": [
    "results = []\n",
    "for modality, gene_list in gene_sets.items():\n",
    "    print(f'\\n########### {modality} ###########')\n",
    "    # gene_list = list(set(gene_list) | set(monogenic_genes))\n",
    "    # for gene_set in marker_sets:\n",
    "    #     print(f'\\n+++++++++++ {gene_set} +++++++++++')\n",
    "    results.append(find_enrichment(modality, gene_list, gene_set, \n",
    "                                   background_list, verbose=False))\n",
    "    sleep(PAUSE_AMT)"
   ]
  },
  {
   "cell_type": "markdown",
   "id": "68663d8c-f823-4980-992a-1aea41c30afb",
   "metadata": {},
   "source": [
    "### convert full enrichment results into combined data frame"
   ]
  },
  {
   "cell_type": "code",
   "execution_count": null,
   "id": "5651cd8c-5d78-4a35-be9a-14ee9eb61c2e",
   "metadata": {},
   "outputs": [],
   "source": [
    "results_df = concat(results)\n",
    "print(f'full results shape {results_df.shape}')\n",
    "if DEBUG:\n",
    "    display(results_df.sample(5))"
   ]
  },
  {
   "cell_type": "markdown",
   "id": "011a9f8d-b814-4790-9ebb-cc136589c44b",
   "metadata": {},
   "source": [
    "### compute B&H FDR over combined enrichments"
   ]
  },
  {
   "cell_type": "code",
   "execution_count": null,
   "id": "23791002-e635-4a37-8202-c137468224e5",
   "metadata": {},
   "outputs": [],
   "source": [
    "# apply B&H FDR corrections to results\n",
    "results_df['bh_fdr'] = compute_fdr(results_df['P-value'].fillna(1))\n",
    "print(f'updated shape {results_df.shape}')\n",
    "if DEBUG:\n",
    "    display(results_df.sample(10))"
   ]
  },
  {
   "cell_type": "markdown",
   "id": "3833b7c3-2cc3-47e5-b40a-045dd475f111",
   "metadata": {},
   "source": [
    "### save the results"
   ]
  },
  {
   "cell_type": "code",
   "execution_count": null,
   "id": "e0c308c9-8698-4a35-a462-71f36573d0ea",
   "metadata": {},
   "outputs": [],
   "source": [
    "results_df.to_csv(results_file)"
   ]
  },
  {
   "cell_type": "markdown",
   "id": "075e0bc0-21f9-4c29-98c2-d8576a69ad00",
   "metadata": {},
   "source": [
    "### how many are statistically significant"
   ]
  },
  {
   "cell_type": "code",
   "execution_count": null,
   "id": "a0faad0c-8257-4a59-9067-dc41a60d48a3",
   "metadata": {},
   "outputs": [],
   "source": [
    "print(results_df.loc[results_df.bh_fdr <= alpha].shape)\n",
    "display(results_df.loc[results_df.bh_fdr <= alpha].sort_values('bh_fdr').head())\n",
    "\n",
    "print(results_df.loc[results_df['Adjusted P-value'] <= alpha].shape)\n",
    "# display(results_df.loc[results_df['Adjusted P-value'] <= alpha].sort_values('Combined Score', ascending=False).head())\n",
    "display(results_df.loc[results_df['Adjusted P-value'] <= alpha].sort_values('Adjusted P-value').head())"
   ]
  },
  {
   "cell_type": "markdown",
   "id": "6902c3fb-801a-4f31-82a3-941944346ee2",
   "metadata": {},
   "source": [
    "### reshape the dataframe from long to wide"
   ]
  },
  {
   "cell_type": "code",
   "execution_count": null,
   "id": "606ba723-6e23-4788-90dd-2de27799feae",
   "metadata": {},
   "outputs": [],
   "source": [
    "# temp_df = results_df.loc[(results_df.modality == 'DAn-meta') & \n",
    "#                          (results_df.bh_fdr <= alpha)]\n",
    "# temp_df = results_df.loc[results_df.bh_fdr <= alpha]\n",
    "temp_df = results_df.loc[results_df['Adjusted P-value'] <= alpha]\n",
    "# temp_df = results_df.loc[results_df['Adjusted P-value'] <= alpha]\n",
    "# compute -log10 of p-value\n",
    "# results_df['log10_pvalue'] = -log10(results_df['P-value'])\n",
    "# wcoloc_df = pivot(results_df.loc[results_df.Term.isin(temp_df.Term)], \n",
    "#                   index=['Term'], \n",
    "#                   columns=['modality'], values='log10_pvalue')\n",
    "results_df['log_odds'] = log(results_df['Odds Ratio'])\n",
    "wcoloc_df = pivot(results_df.loc[results_df.Term.isin(temp_df.Term)], \n",
    "                  index=['Term'], \n",
    "                  columns=['modality'], values='log_odds')\n",
    "# set precision\n",
    "wcoloc_df = wcoloc_df.round(2)\n",
    "# drop rows that are all null\n",
    "wcoloc_df.dropna(how='all', inplace=True)\n",
    "wcoloc_df = wcoloc_df.sort_values(by=['DAn-meta'], ascending=False)\n",
    "print(f'shape of wide reformated results {wcoloc_df.shape}')\n",
    "if DEBUG:\n",
    "    display(wcoloc_df)"
   ]
  },
  {
   "cell_type": "markdown",
   "id": "9824c444-8139-4a26-a7b5-85777b6974df",
   "metadata": {},
   "source": [
    "### visualize the reformated data as a heatmap"
   ]
  },
  {
   "cell_type": "code",
   "execution_count": null,
   "id": "e6bcd069-9a2a-4277-9ea5-d8c443d7ffae",
   "metadata": {},
   "outputs": [],
   "source": [
    "\n",
    "if wcoloc_df.shape[0] > 9:\n",
    "    height = 9+ceil(wcoloc_df.shape[0]/6)\n",
    "else:\n",
    "    height = 9\n",
    "print(height)        \n",
    "with rc_context({'figure.figsize': (11, height), 'figure.dpi': 50}):\n",
    "    plt.style.use('seaborn-v0_8-bright')    \n",
    "    heatmap(wcoloc_df, linecolor='grey', linewidths=0.05, cmap='Purples')    \n",
    "    plt.title(f'{gene_set} GSEA Enrichr for {dx} colocalizations')\n",
    "    plt.savefig(figure_file, dpi=dpi_value, bbox_inches='tight', \n",
    "                transparent=True, pad_inches=1)\n",
    "    plt.show()"
   ]
  },
  {
   "cell_type": "markdown",
   "id": "d1e537e1-5d57-4c41-950b-96bc29c10cfd",
   "metadata": {},
   "source": [
    "### visualize as clustered heatmap"
   ]
  },
  {
   "cell_type": "code",
   "execution_count": null,
   "id": "e24d596a-73cc-48a3-855b-b5efebae35fb",
   "metadata": {},
   "outputs": [],
   "source": [
    "from seaborn import clustermap\n",
    "\n",
    "# fill the missing\n",
    "wcoloc_df = wcoloc_df.fillna(0)\n",
    "\n",
    "with rc_context({'figure.figsize': (11, height), 'figure.dpi': 100}):\n",
    "    plt.style.use('seaborn-v0_8-bright')    \n",
    "    # clustermap(wcoloc_df, cmap='Purples', cbar_pos=(0.75, 0.9, 0.05, 0.18))\n",
    "    clustermap(wcoloc_df, cmap='Purples', cbar_pos=None, linecolor='grey', linewidths=0.05)        \n",
    "    # plt.title('GSEA Enrichr')\n",
    "    # plt.savefig(figure_file, dpi=dpi_value, bbox_inches='tight', \n",
    "    #             transparent=True, pad_inches=1)\n",
    "    plt.show()"
   ]
  },
  {
   "cell_type": "code",
   "execution_count": null,
   "id": "0c48fe17-3fc1-46f7-a7fd-55a28dc99937",
   "metadata": {},
   "outputs": [],
   "source": [
    "!date"
   ]
  }
 ],
 "metadata": {
  "environment": {
   "kernel": "python3",
   "name": "pytorch-gpu.1-12.m102",
   "type": "gcloud",
   "uri": "gcr.io/deeplearning-platform-release/pytorch-gpu.1-12:m102"
  },
  "kernelspec": {
   "display_name": "Python 3 (ipykernel)",
   "language": "python",
   "name": "python3"
  },
  "language_info": {
   "codemirror_mode": {
    "name": "ipython",
    "version": 3
   },
   "file_extension": ".py",
   "mimetype": "text/x-python",
   "name": "python",
   "nbconvert_exporter": "python",
   "pygments_lexer": "ipython3",
   "version": "3.12.2"
  }
 },
 "nbformat": 4,
 "nbformat_minor": 5
}
