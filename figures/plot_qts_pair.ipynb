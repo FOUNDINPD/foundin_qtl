{
 "cells": [
  {
   "cell_type": "markdown",
   "id": "ddfc53d2",
   "metadata": {},
   "source": [
    "## Notebook for visualizing a specific QTS pairing between PD GRS and modality feature"
   ]
  },
  {
   "cell_type": "code",
   "execution_count": 1,
   "id": "748c4281",
   "metadata": {},
   "outputs": [
    {
     "name": "stdout",
     "output_type": "stream",
     "text": [
      "Wed Feb  8 15:39:01 UTC 2023\n"
     ]
    }
   ],
   "source": [
    "!date"
   ]
  },
  {
   "cell_type": "markdown",
   "id": "844a8cd3",
   "metadata": {},
   "source": [
    "#### import libraries"
   ]
  },
  {
   "cell_type": "code",
   "execution_count": 2,
   "id": "787f4f8c",
   "metadata": {},
   "outputs": [],
   "source": [
    "from pandas import read_csv, DataFrame, read_hdf, get_dummies, concat, Series\n",
    "import matplotlib.pyplot as plt\n",
    "from seaborn import regplot, scatterplot\n",
    "from matplotlib.pyplot import rc_context\n",
    "\n",
    "%matplotlib inline\n",
    "# for white background of figures (only for docs rendering)\n",
    "%config InlineBackend.print_figure_kwargs={'facecolor' : \"w\"}\n",
    "%config InlineBackend.figure_format='retina'"
   ]
  },
  {
   "cell_type": "markdown",
   "id": "5b1a3bc4-6612-447a-b72c-b18e50e4ad12",
   "metadata": {},
   "source": [
    "#### set notebook variables"
   ]
  },
  {
   "cell_type": "code",
   "execution_count": 3,
   "id": "50294b73",
   "metadata": {
    "tags": [
     "parameters"
    ]
   },
   "outputs": [],
   "source": [
    "# parameters\n",
    "modality = 'PDUI-DA'\n",
    "day = 'da65'\n",
    "feature = 'chr11:66605702-66605912'"
   ]
  },
  {
   "cell_type": "code",
   "execution_count": 4,
   "id": "5d905027",
   "metadata": {},
   "outputs": [],
   "source": [
    "# naming\n",
    "cohort = 'foundin'\n",
    "set_name = f'{cohort}_{day}_{modality}'\n",
    "\n",
    "# directories\n",
    "wrk_dir = '/home/jupyter/foundin_qtl'\n",
    "quants_dir = f'{wrk_dir}/quants'\n",
    "info_dir = f'{wrk_dir}/sample_info'\n",
    "qts_dir = f'{wrk_dir}/qts'\n",
    "\n",
    "# in files\n",
    "covs_file = f'{info_dir}/{cohort}_{modality}_sample_info.csv'\n",
    "grs_file = f'{info_dir}/{cohort}_grs_scaled.csv'\n",
    "quants_file = f'{quants_dir}/{set_name}.scaled.adj.hdf5'\n",
    "qts_file = f'{qts_dir}/{set_name}.qts.csv'\n",
    "\n",
    "# out files\n",
    "\n",
    "# constants\n",
    "DEBUG = False\n",
    "dpi_value = 50"
   ]
  },
  {
   "cell_type": "code",
   "execution_count": 5,
   "id": "13d5b848",
   "metadata": {},
   "outputs": [],
   "source": [
    "#plot the QTS\n",
    "def plotqts(trait_id, study_name, score_df, traits_df):\n",
    "    this_scores_df = score_df.loc[score_df.index.isin(traits_df.index)]\n",
    "    this_scores_df = this_scores_df.reindex(traits_df.index)\n",
    "\n",
    "    temp = traits_df.merge(this_scores_df,left_index=True,right_index=True)\n",
    "\n",
    "    with rc_context({'figure.figsize': (9, 9), 'figure.dpi': dpi_value}):\n",
    "        plt.style.use('seaborn-bright')\n",
    "        regplot(x=trait_id,y='GRS', data=temp, ci=95)\n",
    "        scatterplot(x=trait_id,y='GRS', data=temp, hue='DX')\n",
    "        plt.xlabel('Trait')\n",
    "        plt.ylabel('GRS')\n",
    "        plt.title(f'{trait_id} in {study_name}')\n",
    "        plt.legend(bbox_to_anchor=(1.05, 1), loc=2, borderaxespad=0,prop={'size': 10})\n",
    "        plt.show()"
   ]
  },
  {
   "cell_type": "markdown",
   "id": "63a95113-a545-41f5-b2e2-ac9988de0481",
   "metadata": {},
   "source": [
    "### load input data"
   ]
  },
  {
   "cell_type": "markdown",
   "id": "cc976ff0",
   "metadata": {},
   "source": [
    "#### load the known sample covariates"
   ]
  },
  {
   "cell_type": "code",
   "execution_count": 6,
   "id": "5e9441bf",
   "metadata": {},
   "outputs": [
    {
     "name": "stdout",
     "output_type": "stream",
     "text": [
      "(80, 90)\n"
     ]
    }
   ],
   "source": [
    "covs_df = read_csv(covs_file, index_col=0)\n",
    "print(covs_df.shape)\n",
    "# if any duplicates, keep first\n",
    "covs_df = covs_df[~covs_df.index.duplicated(keep='first')]\n",
    "if DEBUG:\n",
    "    display(covs_df.head())"
   ]
  },
  {
   "cell_type": "markdown",
   "id": "ffbcc74d",
   "metadata": {},
   "source": [
    "#### load and add GRS"
   ]
  },
  {
   "cell_type": "code",
   "execution_count": 7,
   "id": "578ea2e1",
   "metadata": {},
   "outputs": [
    {
     "name": "stdout",
     "output_type": "stream",
     "text": [
      "(119, 3)\n"
     ]
    }
   ],
   "source": [
    "grs_df = read_csv(grs_file)\n",
    "print(grs_df.shape)\n",
    "if DEBUG:\n",
    "    display(grs_df.head())"
   ]
  },
  {
   "cell_type": "code",
   "execution_count": 8,
   "id": "991d7cf5",
   "metadata": {},
   "outputs": [
    {
     "name": "stdout",
     "output_type": "stream",
     "text": [
      "(79, 93)\n"
     ]
    }
   ],
   "source": [
    "# covs_df = covs_df.merge(grs_df, how='inner', left_on='wgsid', right_on='IID')\n",
    "covs_df = covs_df.reset_index().merge(grs_df, how='inner', left_on='sampleid', \n",
    "                                      right_on='IID').set_index('assayid')\n",
    "print(covs_df.shape)\n",
    "if DEBUG:\n",
    "    display(covs_df.head())"
   ]
  },
  {
   "cell_type": "markdown",
   "id": "54318714",
   "metadata": {},
   "source": [
    "#### load the quantified modality"
   ]
  },
  {
   "cell_type": "code",
   "execution_count": 9,
   "id": "31aa8322",
   "metadata": {},
   "outputs": [
    {
     "name": "stdout",
     "output_type": "stream",
     "text": [
      "(83, 8240)\n",
      "CPU times: user 44.7 ms, sys: 4.26 ms, total: 49 ms\n",
      "Wall time: 47.5 ms\n"
     ]
    }
   ],
   "source": [
    "%%time\n",
    "quants_df = read_hdf(quants_file, index_col=0)\n",
    "print(quants_df.shape)\n",
    "if DEBUG:\n",
    "    display(quants_df.head())"
   ]
  },
  {
   "cell_type": "code",
   "execution_count": 10,
   "id": "39168c8d",
   "metadata": {},
   "outputs": [
    {
     "data": {
      "text/plain": [
       "{'SCRN_PPMI3186_da65',\n",
       " 'SCRN_PPMI3966B1v1_da65',\n",
       " 'SCRN_PPMI3966B5E6v1_da65',\n",
       " 'SCRN_PPMI3966B5E8v1_da65'}"
      ]
     },
     "execution_count": 10,
     "metadata": {},
     "output_type": "execute_result"
    }
   ],
   "source": [
    "set(quants_df.index) - set(covs_df.index)"
   ]
  },
  {
   "cell_type": "markdown",
   "id": "0280b7de-b689-40a9-8dbe-c54ee4f9faf0",
   "metadata": {},
   "source": [
    "### load the QTS results"
   ]
  },
  {
   "cell_type": "code",
   "execution_count": 11,
   "id": "89044ed6-6b73-470c-825a-30a224083483",
   "metadata": {},
   "outputs": [
    {
     "name": "stdout",
     "output_type": "stream",
     "text": [
      "QTS results shape (8240, 7)\n"
     ]
    }
   ],
   "source": [
    "qts_df = read_csv(qts_file)\n",
    "print(f'QTS results shape {qts_df.shape}')\n",
    "if DEBUG:\n",
    "    display(qts_df.sample(5))"
   ]
  },
  {
   "cell_type": "markdown",
   "id": "4e0f4a18-78cf-4c55-921a-88f4139473d8",
   "metadata": {},
   "source": [
    "### prep the covariate terms for modeling"
   ]
  },
  {
   "cell_type": "markdown",
   "id": "d2cb097c-fc5a-4f93-b46b-cdeee7a830d1",
   "metadata": {},
   "source": [
    "#### verify quants and covs have same indices"
   ]
  },
  {
   "cell_type": "code",
   "execution_count": 12,
   "id": "2bb6d2e7-1f1b-4fff-a174-31131801b951",
   "metadata": {},
   "outputs": [],
   "source": [
    "def ensure_matched_indices(df1: DataFrame, df2: DataFrame) -> {DataFrame, DataFrame}:\n",
    "    \"\"\" make sure the two datasets are ordered the same\n",
    "        modifies both df1 and df2\n",
    "    Args:\n",
    "        df1 (pandas.DataFrame)\n",
    "        df2 (pandas.DataFrame)\n",
    "    \"\"\" \n",
    "    print('reindexing')\n",
    "    shared_indices = df1.index.intersection(df2.index)\n",
    "    df1 = df1.loc[shared_indices,]\n",
    "    df2 = df2.loc[shared_indices,]\n",
    "    temp = df1.index.values == df2.index.values\n",
    "    display(Series(temp).value_counts())\n",
    "    return df1, df2"
   ]
  },
  {
   "cell_type": "code",
   "execution_count": 13,
   "id": "0edae94f-ad6e-47da-999a-472ca5e58e23",
   "metadata": {},
   "outputs": [
    {
     "name": "stdout",
     "output_type": "stream",
     "text": [
      "reindexing\n"
     ]
    },
    {
     "data": {
      "text/plain": [
       "True    79\n",
       "dtype: int64"
      ]
     },
     "metadata": {},
     "output_type": "display_data"
    }
   ],
   "source": [
    "quants_df, covs_df = ensure_matched_indices(quants_df, covs_df)"
   ]
  },
  {
   "cell_type": "markdown",
   "id": "7bdb786a-9f42-4a4e-a2b8-0e0ee7542f40",
   "metadata": {},
   "source": [
    "### get the feature of interest"
   ]
  },
  {
   "cell_type": "code",
   "execution_count": 14,
   "id": "bf7b7770-13cf-4f82-91fb-99597743dd0e",
   "metadata": {},
   "outputs": [],
   "source": [
    "quants_df = quants_df[feature]\n",
    "if DEBUG:\n",
    "    display(quants_df)"
   ]
  },
  {
   "cell_type": "markdown",
   "id": "89ace6b2",
   "metadata": {},
   "source": [
    "### plot the QTS"
   ]
  },
  {
   "cell_type": "code",
   "execution_count": 15,
   "id": "51023da7",
   "metadata": {},
   "outputs": [
    {
     "data": {
      "text/html": [
       "<div>\n",
       "<style scoped>\n",
       "    .dataframe tbody tr th:only-of-type {\n",
       "        vertical-align: middle;\n",
       "    }\n",
       "\n",
       "    .dataframe tbody tr th {\n",
       "        vertical-align: top;\n",
       "    }\n",
       "\n",
       "    .dataframe thead th {\n",
       "        text-align: right;\n",
       "    }\n",
       "</style>\n",
       "<table border=\"1\" class=\"dataframe\">\n",
       "  <thead>\n",
       "    <tr style=\"text-align: right;\">\n",
       "      <th></th>\n",
       "      <th>Loci</th>\n",
       "      <th>coef</th>\n",
       "      <th>stderr</th>\n",
       "      <th>r2_adj</th>\n",
       "      <th>term_cnt</th>\n",
       "      <th>p-value</th>\n",
       "      <th>bh_fdr</th>\n",
       "    </tr>\n",
       "  </thead>\n",
       "  <tbody>\n",
       "    <tr>\n",
       "      <th>16</th>\n",
       "      <td>chr11:66605702-66605912</td>\n",
       "      <td>0.518748</td>\n",
       "      <td>0.144859</td>\n",
       "      <td>0.222634</td>\n",
       "      <td>14.0</td>\n",
       "      <td>0.000666</td>\n",
       "      <td>0.045811</td>\n",
       "    </tr>\n",
       "  </tbody>\n",
       "</table>\n",
       "</div>"
      ],
      "text/plain": [
       "                       Loci      coef    stderr    r2_adj  term_cnt   p-value  \\\n",
       "16  chr11:66605702-66605912  0.518748  0.144859  0.222634      14.0  0.000666   \n",
       "\n",
       "      bh_fdr  \n",
       "16  0.045811  "
      ]
     },
     "metadata": {},
     "output_type": "display_data"
    },
    {
     "data": {
      "image/png": "[encoded data removed]",
      "text/plain": [
       "<Figure size 450x450 with 1 Axes>"
      ]
     },
     "metadata": {
      "image/png": {
       "height": 389,
       "width": 477
      }
     },
     "output_type": "display_data"
    }
   ],
   "source": [
    "this_trait = qts_df.loc[qts_df.Loci == feature]\n",
    "display(this_trait)\n",
    "plotqts(feature, cohort.upper(), covs_df, quants_df.to_frame())"
   ]
  },
  {
   "cell_type": "code",
   "execution_count": 16,
   "id": "2d757a18",
   "metadata": {},
   "outputs": [
    {
     "name": "stdout",
     "output_type": "stream",
     "text": [
      "Wed Feb  8 15:39:02 UTC 2023\n"
     ]
    }
   ],
   "source": [
    "!date"
   ]
  }
 ],
 "metadata": {
  "environment": {
   "kernel": "python3",
   "name": "pytorch-gpu.1-12.m102",
   "type": "gcloud",
   "uri": "gcr.io/deeplearning-platform-release/pytorch-gpu.1-12:m102"
  },
  "kernelspec": {
   "display_name": "Python 3 (ipykernel)",
   "language": "python",
   "name": "python3"
  },
  "language_info": {
   "codemirror_mode": {
    "name": "ipython",
    "version": 3
   },
   "file_extension": ".py",
   "mimetype": "text/x-python",
   "name": "python",
   "nbconvert_exporter": "python",
   "pygments_lexer": "ipython3",
   "version": "3.7.12"
  },
  "widgets": {
   "application/vnd.jupyter.widget-state+json": {
    "state": {},
    "version_major": 2,
    "version_minor": 0
   }
  }
 },
 "nbformat": 4,
 "nbformat_minor": 5
}
