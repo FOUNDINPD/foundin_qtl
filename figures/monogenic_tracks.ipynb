{
 "cells": [
  {
   "cell_type": "markdown",
   "id": "091dffed-4b21-4f57-bd1a-a419f09b14fe",
   "metadata": {},
   "source": [
    "## Notebook to visualize omics tracks for GBA, SNCA, and LRRK2 for the FOUNDIN-PD Epigenetics project\n",
    "\n",
    "will start with single figure with localized tracks for each regions including GWAS, gene annotations, 'risk' ATAC peaks, <i>cis</i> correlations between the gene and ATAC and then DNA methylation sites, will also include Encode CRE, then show try to incorporate the Hi-C data and SCAT co-asscessibility \n",
    "\n",
    "using pyGenomeTracks to generate the figure\n",
    "- [pyGenomeTracks github](https://pygenometracks.readthedocs.io/en/latest/index.html)\n",
    "- [pyGenomeTrack docs](https://pygenometracks.readthedocs.io/en/latest/index.html)"
   ]
  },
  {
   "cell_type": "code",
   "execution_count": null,
   "id": "ad166e0e-d4f6-41fd-a8ed-30c0749e2a63",
   "metadata": {},
   "outputs": [],
   "source": [
    "!date"
   ]
  },
  {
   "cell_type": "markdown",
   "id": "6b3fd42b-abec-4870-a00f-7b90fa44a51a",
   "metadata": {},
   "source": [
    "#### import libraries"
   ]
  },
  {
   "cell_type": "code",
   "execution_count": null,
   "id": "47aae30b-8f2b-43fa-a19f-34dcc660fb15",
   "metadata": {},
   "outputs": [],
   "source": [
    "from pandas import read_parquet, read_csv, DataFrame, read_hdf, concat\n",
    "from math import ceil, floor\n",
    "from numpy import log10\n",
    "from IPython.display import Image\n",
    "from os.path import exists\n",
    "import math"
   ]
  },
  {
   "cell_type": "markdown",
   "id": "e0a5c0b3-9f84-44e8-bbb6-5f533096ca06",
   "metadata": {},
   "source": [
    "#### set notebook variables"
   ]
  },
  {
   "cell_type": "code",
   "execution_count": null,
   "id": "f4a1eea9-4c3d-4f72-b92f-390750db41fd",
   "metadata": {
    "tags": [
     "parameters"
    ]
   },
   "outputs": [],
   "source": [
    "# parameters\n",
    "gene = 'SNCA' # 'GBA1', 'SNCA', or 'LRRK2'\n",
    "gene_id = 'ENSG00000145335.15' # 'ENSG00000177628.15', 'ENSG00000145335.15', or 'ENSG00000188906.15'\n",
    "chrom = 4\n",
    "start_bp = '89650345'\n",
    "stop_bp = '89938315'"
   ]
  },
  {
   "cell_type": "code",
   "execution_count": null,
   "id": "51d72702-ffd8-41bd-9a06-24b5e5957609",
   "metadata": {},
   "outputs": [],
   "source": [
    "# naming\n",
    "cohort = 'foundin'\n",
    "dx = 'PD'\n",
    "\n",
    "# directories\n",
    "wrk_dir = '/labshare/raph/datasets/foundin_qtl'\n",
    "quants_dir = f'{wrk_dir}/quants'\n",
    "results_dir = f'{wrk_dir}/results'\n",
    "public_dir = f'{wrk_dir}/public'\n",
    "figures_dir = f'{wrk_dir}/figures'\n",
    "tensorqtl_dir = f'{wrk_dir}/tensorqtl'\n",
    "info_dir = f'{wrk_dir}/sample_info'\n",
    "\n",
    "# in files\n",
    "gwas_sum_stats_file = f'{public_dir}/nalls_pd_gwas/pd_sumstats_23andme_buildGRCh38.tsv.gz'\n",
    "ld_variants_file = f'{public_dir}/ld_info/{cohort}_{dx}.ld_prime.csv'\n",
    "gene_annot_file = f'{public_dir}/hg38.ncbiRefSeq.gtf.gz'\n",
    "risk_peaks_bed = f'{quants_dir}/{cohort}_risk_peaks.bed'\n",
    "encode_bb_file = f'{public_dir}/encodeCcreCombined.bb'\n",
    "fracs_atac_corr_file = f'{results_dir}/{cohort}_ATAC_{gene}_cis_features_cell_fractions.csv'\n",
    "fracs_meth_corr_file = f'{results_dir}/{cohort}_METH_{gene}_cis_features_cell_fractions.csv'\n",
    "\n",
    "# out files\n",
    "figure_file = f'{figures_dir}/{cohort}.{gene}.epigenetics.png'\n",
    "config_file = f'{figures_dir}/tracks/{cohort}.{gene}.epigenetics.ini'\n",
    "gwas_bedgraph_file = f'{figures_dir}/tracks/{dx}.gwas.{gene}.bedgraph'\n",
    "gwas_ld_bedgraph_file = f'{figures_dir}/tracks/{dx}.gwas.{gene}.ld.bedgraph'\n",
    "risk_peaks_bedgraph_file  = f'{figures_dir}/tracks/{dx}.risk_peaks.{gene}.bedgraph'\n",
    "encode_bed_file = f'{figures_dir}/tracks/{dx}.{gene}.encodeCcreCombined.bed'\n",
    "\n",
    "# variables\n",
    "DEBUG = False\n",
    "config_content = ''\n",
    "nl = '\\n'\n",
    "FLANK_PAD = 5000\n",
    "SUG_THRESHOLD = 1.00e-05\n",
    "MIN_CICERO = 0.2\n",
    "days = ['da0', 'da25', 'da65']\n",
    "day_colors = {'da0': 'black', 'da25': 'green', 'da65': 'blue'}"
   ]
  },
  {
   "cell_type": "markdown",
   "id": "3210b928-b415-4bf9-9fcd-fb56ff457ffc",
   "metadata": {},
   "source": [
    "#### utility functions"
   ]
  },
  {
   "cell_type": "code",
   "execution_count": null,
   "id": "909be0e6-93e3-41a9-94eb-cc195483aa54",
   "metadata": {},
   "outputs": [],
   "source": [
    "# run command line procsss with bash majic\n",
    "# make this a small function so it can be target function for parallelization if needed\n",
    "def run_bash_cmd(this_cmd: str, verbose: bool=False):\n",
    "    if verbose:\n",
    "        print(this_cmd)\n",
    "    !{this_cmd}"
   ]
  },
  {
   "cell_type": "markdown",
   "id": "bbc96d3a-4585-4728-89cd-a69d0c6ef7bf",
   "metadata": {},
   "source": [
    "### set the region info"
   ]
  },
  {
   "cell_type": "code",
   "execution_count": null,
   "id": "561b2ef6-bc8b-4698-b2b4-262fdb231e6f",
   "metadata": {},
   "outputs": [],
   "source": [
    "start_bp = int(start_bp)\n",
    "stop_bp = int(stop_bp)\n",
    "print(gene, chrom, start_bp, stop_bp)"
   ]
  },
  {
   "cell_type": "markdown",
   "id": "07dbe733-e794-4a4c-9864-e81f82df1451",
   "metadata": {},
   "source": [
    "### GWAS track"
   ]
  },
  {
   "cell_type": "markdown",
   "id": "f8f6a38d-8ade-4cfb-bc1f-2f802f0370d2",
   "metadata": {},
   "source": [
    "#### load the summary stats"
   ]
  },
  {
   "cell_type": "code",
   "execution_count": null,
   "id": "f057bb5f-c2d3-4a8b-b573-2031d1debb14",
   "metadata": {},
   "outputs": [],
   "source": [
    "%%time\n",
    "gwas_df = read_csv(gwas_sum_stats_file, sep='\\t')\n",
    "print(gwas_df.shape)\n",
    "if DEBUG:\n",
    "    display(gwas_df.sample(5))"
   ]
  },
  {
   "cell_type": "markdown",
   "id": "1ed2301b-bbfd-4374-b75c-090c87ed95d5",
   "metadata": {},
   "source": [
    "#### load the LD info"
   ]
  },
  {
   "cell_type": "code",
   "execution_count": null,
   "id": "4013cc25-d258-43a9-8851-de3c8b7f3039",
   "metadata": {},
   "outputs": [],
   "source": [
    "ld_df = read_csv(ld_variants_file)\n",
    "print(ld_df.shape)\n",
    "ld_df = ld_df.loc[(ld_df.CHR_B == chrom) & \n",
    "                  (ld_df.BP_B >= start_bp) & \n",
    "                  (ld_df.BP_B <= stop_bp)]\n",
    "print(ld_df.shape)\n",
    "if DEBUG:\n",
    "    display(ld_df.head())"
   ]
  },
  {
   "cell_type": "markdown",
   "id": "c5321655-6ea3-4d6c-97d8-e10b771485bf",
   "metadata": {},
   "source": [
    "#### set the actual edges based on statistically significant p-values from regions"
   ]
  },
  {
   "cell_type": "code",
   "execution_count": null,
   "id": "22c2c1ca-aba7-4d17-8612-33ca2b65d053",
   "metadata": {},
   "outputs": [],
   "source": [
    "# filter to the specified region\n",
    "gwas_df = gwas_df.loc[(gwas_df.chromosome == chrom) & \n",
    "                      (gwas_df.base_pair_location >= start_bp) & \n",
    "                      (gwas_df.base_pair_location <= stop_bp)]\n",
    "risk_df = gwas_df.loc[(gwas_df.p_value <= SUG_THRESHOLD)]\n",
    "print(f'shape of GWAS risk {risk_df.shape}')\n",
    "if DEBUG:\n",
    "    display(risk_df.head())"
   ]
  },
  {
   "cell_type": "markdown",
   "id": "42f5d95a-f73e-4b99-b586-4e747e0c9a77",
   "metadata": {},
   "source": [
    "#### convert gwas df to bedgraph"
   ]
  },
  {
   "cell_type": "code",
   "execution_count": null,
   "id": "4acca070-055d-40dc-a0e3-26e485cd0365",
   "metadata": {},
   "outputs": [],
   "source": [
    "# re-filter with narrower edges\n",
    "gwas_df = gwas_df.loc[(gwas_df.chromosome == chrom) & \n",
    "                      (gwas_df.base_pair_location >= start_bp) & \n",
    "                      (gwas_df.base_pair_location <= stop_bp)]\n",
    "gwas_bed = gwas_df[['chromosome', 'base_pair_location', 'variant_id']].copy()\n",
    "gwas_bed.rename(columns={'chromosome': 'chr', 'base_pair_location': 'position', \n",
    "                         'variant_id': 'id'}, inplace=True)\n",
    "gwas_bed['end'] = gwas_bed['position'] + 1\n",
    "gwas_bed['signal'] = -log10(gwas_df.p_value)\n",
    "gwas_bed = gwas_bed[['chr', 'position', 'end', 'signal', 'id']]\n",
    "print(gwas_bed.shape)\n",
    "if DEBUG:\n",
    "    display(gwas_bed.sample(5))\n",
    "# save the gwas bedgraph\n",
    "gwas_bed.to_csv(gwas_bedgraph_file, index=False, header=False, sep='\\t')"
   ]
  },
  {
   "cell_type": "markdown",
   "id": "7e9af681-a45d-43ab-a60a-da00f7dcd8b4",
   "metadata": {},
   "source": [
    "#### subset gwas bed to create bedgraph for LD variats to overlay"
   ]
  },
  {
   "cell_type": "code",
   "execution_count": null,
   "id": "f4e6e3be-89d5-4e98-98f6-93b3624252bd",
   "metadata": {},
   "outputs": [],
   "source": [
    "ld_gwas_bed = gwas_bed.loc[(gwas_bed.id.isin(ld_df.SNP_A) | \n",
    "                           gwas_bed.id.isin(ld_df.SNP_B)) & \n",
    "                           (gwas_bed.signal >= -log10(SUG_THRESHOLD))]\n",
    "print(ld_gwas_bed.shape)\n",
    "if DEBUG:\n",
    "    display(ld_gwas_bed.head())"
   ]
  },
  {
   "cell_type": "markdown",
   "id": "a14406ab-0612-411e-9b64-9755061adc85",
   "metadata": {},
   "source": [
    "#### save the gwas ld bedgraph"
   ]
  },
  {
   "cell_type": "code",
   "execution_count": null,
   "id": "caffb4a1-1a2b-4d90-b26f-1b2ec031e30b",
   "metadata": {},
   "outputs": [],
   "source": [
    "ld_gwas_bed.to_csv(gwas_ld_bedgraph_file, index=False, header=False, sep='\\t')"
   ]
  },
  {
   "cell_type": "markdown",
   "id": "dc0ddadd-41ac-4b80-aaec-420421badf8a",
   "metadata": {},
   "source": [
    "### cis RNAB ~ ATAC correlation tracks"
   ]
  },
  {
   "cell_type": "markdown",
   "id": "a0a55874-7808-49c0-8835-c3389f859c54",
   "metadata": {},
   "source": [
    "#### load the chromosome file containing the genes cis ATAC correlation results, convert correlation df to bedgraph, and save correlation bedgraph"
   ]
  },
  {
   "cell_type": "code",
   "execution_count": null,
   "id": "f99991e5-68cd-4950-9ea4-e99e1cfc2fb5",
   "metadata": {},
   "outputs": [],
   "source": [
    "def format_correlation_bedgraph(gene: str, chrom: str, \n",
    "                                in_file: str, out_file: str, alpha: float=1.0,\n",
    "                                verbose: bool=True) -> {float, float}:\n",
    "    corr_df = read_parquet(in_file)\n",
    "    print(corr_df.shape)\n",
    "    # get qtl results for gene of interest\n",
    "    corr_df = corr_df.loc[(corr_df.phenotype_id == gene) & \n",
    "                          (corr_df.pval_nominal <= alpha)]\n",
    "    print(corr_df.shape)\n",
    "    if verbose:\n",
    "        display(corr_df.head())    \n",
    "\n",
    "    if corr_df.shape[0] == 0:\n",
    "        corr_bed = DataFrame(data=None, columns=['chrom', 'start', 'stop', 'signal', 'id'])\n",
    "    else:\n",
    "        # these variants IDs are postion named so split and use\n",
    "        peak_info = corr_df.variant_id.str.split('_', expand=True)\n",
    "        peak_info = DataFrame(data={'chrom': peak_info[0], \n",
    "                                    'start': peak_info[1].astype(int), \n",
    "                                    'stop': peak_info[2].astype(int), \n",
    "                                    'feature': corr_df.variant_id})    \n",
    "\n",
    "        corr_bed = peak_info.copy()\n",
    "        corr_bed.rename(columns={'feature': 'id'}, inplace=True)\n",
    "        # corr_bed['signal'] = corr_df.slope/corr_df.slope_se\n",
    "        corr_bed['signal'] = corr_df.slope\n",
    "        corr_bed = corr_bed[['chrom', 'start', 'stop', 'signal', 'id']]\n",
    "    print(corr_bed.shape)\n",
    "    if verbose:\n",
    "        display(corr_bed.head())    \n",
    "    corr_bed.to_csv(out_file, index=False, header=False, sep='\\t')\n",
    "    return corr_bed.signal.min(), corr_bed.signal.max()"
   ]
  },
  {
   "cell_type": "code",
   "execution_count": null,
   "id": "ea8656c2-d843-411e-b0e5-ac39bd1852fa",
   "metadata": {},
   "outputs": [],
   "source": [
    "%%time\n",
    "cis_atac_min_value = 0\n",
    "cis_atac_max_value = 1\n",
    "for day in days:\n",
    "    corr_file = f'{tensorqtl_dir}/{cohort}_{day}_RNAB-ATAC.cis_qtl_pairs.chr{chrom}.parquet'\n",
    "    corr_bedgraph_file = f'{figures_dir}/tracks/{dx}.{day}_ciscorr.{gene}.bedgraph'\n",
    "    this_min, this_max = format_correlation_bedgraph(gene_id, chrom, corr_file, \n",
    "                                                     corr_bedgraph_file, verbose=DEBUG)\n",
    "    if this_min < cis_atac_min_value:\n",
    "        cis_atac_min_value = this_min\n",
    "    if this_max > cis_atac_max_value:\n",
    "        cis_atac_max_value = this_max"
   ]
  },
  {
   "cell_type": "markdown",
   "id": "8214d256-346f-45f7-96c6-42060592a799",
   "metadata": {},
   "source": [
    "### <i>cis</i> ATAC correlated with cell-type fractions"
   ]
  },
  {
   "cell_type": "markdown",
   "id": "8214567f-23fc-4929-9f6d-12713df6ac4f",
   "metadata": {},
   "source": [
    "#### load the cell fraction correlation results"
   ]
  },
  {
   "cell_type": "code",
   "execution_count": null,
   "id": "c4a662a9-a4d2-4d36-8fd5-a8b840434527",
   "metadata": {},
   "outputs": [],
   "source": [
    "fracs_df = read_csv(fracs_atac_corr_file, index_col=0)\n",
    "print(f'shape of full cell fraction correlations {fracs_df.shape}')\n",
    "\n",
    "# the exo IDs are postion named so split and use   \n",
    "peak_info = fracs_df.exo.str.split('_', expand=True)\n",
    "features_df = DataFrame(data={'chrom': peak_info[0], \n",
    "                              'start': peak_info[1].astype(int), \n",
    "                              'stop': peak_info[2].astype(int), \n",
    "                              'feature': fracs_df.exo})\n",
    "features_df.drop_duplicates(inplace=True)\n",
    "print(f'features full shape {features_df.shape}')\n",
    "# subset to features in the interval\n",
    "features_df = features_df.loc[(features_df.chrom == f'chr{chrom}') & \n",
    "                              (features_df.start >= start_bp) & \n",
    "                              (features_df.stop <= stop_bp)]\n",
    "print(f'features region shape {features_df.shape}')\n",
    "\n",
    "# subset to peaks in the region\n",
    "fracs_df = fracs_df.loc[fracs_df.exo.isin(features_df.feature)]\n",
    "print(f'shape of cell fraction correlations in region {fracs_df.shape}')\n",
    "\n",
    "# now merge the genomic position info into the results\n",
    "fracs_df = fracs_df.merge(features_df, how='left', \n",
    "                          left_on='exo', right_on='feature')\n",
    "print(f'shape of merge in region {fracs_df.shape}')\n",
    "\n",
    "# set min max values\n",
    "cis_frac_atac_min_value = fracs_df.z.min()\n",
    "cis_frac_atac_max_value = fracs_df.z.max()\n",
    "\n",
    "if math.isnan(cis_frac_atac_min_value):\n",
    "    cis_frac_atac_min_value = 0\n",
    "if math.isnan(cis_frac_atac_max_value):\n",
    "    cis_frac_atac_max_value = 1  \n",
    "\n",
    "if DEBUG:\n",
    "    display(fracs_df.head())"
   ]
  },
  {
   "cell_type": "markdown",
   "id": "2defed22-70bf-449d-88af-31326b64dca9",
   "metadata": {},
   "source": [
    "#### create bedgraph per cell-type"
   ]
  },
  {
   "cell_type": "code",
   "execution_count": null,
   "id": "80314b55-bd4b-45e7-8db7-c8938c1913f5",
   "metadata": {},
   "outputs": [],
   "source": [
    "cell_abbreviations = {'DopaminergicNeurons': 'DA', \n",
    "                      'ImmatureDopaminergicNeurons': 'iDA', \n",
    "                      'TH_Pel-Freez_ICC': 'TH-ICC'}\n",
    "for cell_type, cell_abbrv in cell_abbreviations.items():\n",
    "    print(cell_abbrv, cell_type)\n",
    "    # subset based on cell type\n",
    "    cell_fracs_df = fracs_df.loc[fracs_df.endo == cell_type]\n",
    "    print(f'shape of cell fraction correlations in region for {cell_abbrv} is {cell_fracs_df.shape}')\n",
    "    fracs_bed = cell_fracs_df[['chrom', 'start', 'stop', 'z', 'feature']].copy()\n",
    "    print(fracs_bed.shape)\n",
    "    if DEBUG:\n",
    "        display(fracs_bed.head())\n",
    "    # save the bedgraph\n",
    "    fracs_corr_bedgraph_file = f'{figures_dir}/tracks/{dx}.{cell_abbrv}.ATAC.corr_cell_fracs.{gene}.bedgraph'\n",
    "    fracs_bed.to_csv(fracs_corr_bedgraph_file, index=False, header=False, sep='\\t')"
   ]
  },
  {
   "cell_type": "markdown",
   "id": "2bcb286f-ad0c-497f-a796-fe0c20492e26",
   "metadata": {},
   "source": [
    "### ATAC co-accessibility"
   ]
  },
  {
   "cell_type": "code",
   "execution_count": null,
   "id": "e3c0f355-1c88-488f-a27b-04ac096cc551",
   "metadata": {},
   "outputs": [],
   "source": [
    "def format_cicero_arcs(cicero_df: DataFrame, chrom: str, verbose: bool=False) -> DataFrame:\n",
    "    # to speed up a bit do initial subset by chrom\n",
    "    cicero_df = cicero_df.loc[cicero_df[0].str.startswith(f'chr{chrom}-')]\n",
    "    cicero_score_df = concat([cicero_df[0].str.split(r':|-', expand=True), \n",
    "                              cicero_df[1].str.split(r':|-', expand=True), \n",
    "                              cicero_df[[2]]], axis=1)\n",
    "    cicero_score_df.columns=['chrom1', 'start1', 'stop1', 'chrom2', \n",
    "                             'start2', 'stop2', 'coaccess']\n",
    "    cicero_score_df[['start1', 'stop1', \n",
    "                     'start2', 'stop2']]=cicero_score_df[['start1', 'stop1', \n",
    "                                                          'start2', 'stop2']].astype('int')\n",
    "    print(cicero_score_df.shape) \n",
    "    # convert coaccess df to arcs\n",
    "    cicero_arcs_df = cicero_score_df.loc[(cicero_score_df.chrom1 == f'chr{chrom}') & \n",
    "                          (cicero_score_df.start1 >= start_bp) & \n",
    "                          (cicero_score_df.stop1 <= stop_bp) & \n",
    "                          (cicero_score_df['coaccess'].notna()) &\n",
    "                          (cicero_score_df.coaccess > MIN_CICERO)]\n",
    "    print(cicero_arcs_df.shape)\n",
    "    return cicero_arcs_df"
   ]
  },
  {
   "cell_type": "markdown",
   "id": "f5f5f080-769e-4430-af98-ea51130d5c6c",
   "metadata": {},
   "source": [
    "#### load and format the Cicero results by cell-type"
   ]
  },
  {
   "cell_type": "code",
   "execution_count": null,
   "id": "d9c54227-b453-4c51-bde8-b3fbdd79f23c",
   "metadata": {},
   "outputs": [],
   "source": [
    "%%time\n",
    "# here not including all but most relevant\n",
    "scat_cell_types = ['Dopaminergic_Neurons', 'Immature_Dopaminergic_Neurons', 'Late_neuron_Progenitor']\n",
    "max_cicero_value = 0\n",
    "for cell_type in scat_cell_types:\n",
    "    print(cell_type)\n",
    "    cicero_in_file = f'{quants_dir}/SCAT.{cell_type}.cicero.conns.txt.gz'\n",
    "    cicero_out_file = f'{figures_dir}/tracks/{dx}.{cell_type}.cicero.{gene}.arcs'\n",
    "    cicero_df = read_csv(cicero_in_file, sep='\\t',skiprows=1, header=None)\n",
    "    print(cicero_df.shape)\n",
    "    cicero_arcs_df = format_cicero_arcs(cicero_df, chrom, verbose=DEBUG)\n",
    "    this_max = cicero_arcs_df.coaccess.max()\n",
    "    print(this_max)\n",
    "    if this_max > max_cicero_value:\n",
    "        max_cicero_value = this_max \n",
    "    cicero_arcs_df.to_csv(cicero_out_file, index=False, header=False, sep='\\t')        \n",
    "    if DEBUG:\n",
    "        display(cicero_df.sample(5))    "
   ]
  },
  {
   "cell_type": "markdown",
   "id": "72929c39-4188-484f-893c-32787af1da65",
   "metadata": {},
   "source": [
    "### cis RNAB ~ METH correlation tracks"
   ]
  },
  {
   "cell_type": "markdown",
   "id": "8c012688-fff7-4f1c-ae3e-a94fa4826f9e",
   "metadata": {},
   "source": [
    "#### load the METH feature info"
   ]
  },
  {
   "cell_type": "code",
   "execution_count": null,
   "id": "3d19f6ac-0d17-4ec8-a9db-905129b7a818",
   "metadata": {},
   "outputs": [],
   "source": [
    "features_file = f'{quants_dir}/EPIC_annotation_hg38.txt'\n",
    "features_df = read_csv(features_file, sep='\\t', header=None)\n",
    "features_df.columns = ['chrom', 'start', 'stop', 'feature']\n",
    "print(features_df.shape)\n",
    "# go ahead and subset to features in the region\n",
    "features_df = features_df.loc[(features_df.chrom == f'chr{chrom}') & \n",
    "                              (features_df.start >= start_bp) & \n",
    "                              (features_df.stop <= stop_bp)]\n",
    "features_df.reset_index(drop=True, inplace=True)\n",
    "features_df.set_index('feature', inplace=True)  \n",
    "# for bed to work start != stop, make a bit wider for visual size\n",
    "features_df.stop = features_df.start + 4\n",
    "print(f'features region shape {features_df.shape}')\n",
    "if DEBUG:\n",
    "    display(features_df.head())"
   ]
  },
  {
   "cell_type": "markdown",
   "id": "acb936eb-e847-4bce-969f-f06082a02e29",
   "metadata": {},
   "source": [
    "#### load the chromosome file containing the genes cis METH correlation results, convert correlation df to bedgraph, and save correlation bedgraph"
   ]
  },
  {
   "cell_type": "code",
   "execution_count": null,
   "id": "2cb4ade1-eaa9-461f-91aa-b210307ca059",
   "metadata": {},
   "outputs": [],
   "source": [
    "def format_meth_corr_bedgraph(gene: str, chrom: str, \n",
    "                              in_file: str, out_file: str, \n",
    "                              feats_df: DataFrame, alpha: float=1.0,\n",
    "                              verbose: bool=True) -> {float, float}:\n",
    "    corr_df = read_parquet(in_file)\n",
    "    print(f'shape of full results{corr_df.shape}')\n",
    "    # get qtl results for gene of interest\n",
    "    corr_df = corr_df.loc[(corr_df.phenotype_id == gene) & \n",
    "                          (corr_df.pval_nominal <= alpha)]\n",
    "    print(f'shape of results for gene with signal {corr_df.shape}')\n",
    "    if verbose:\n",
    "        display(corr_df.head())    \n",
    "\n",
    "    if corr_df.shape[0] == 0:\n",
    "        corr_bed = DataFrame(data=None, columns=['chrom', 'start', 'stop', 'signal', 'id'])\n",
    "    else:\n",
    "        # merge the feature info into the results\n",
    "        corr_df = corr_df.merge(feats_df, how='inner', left_on='variant_id', right_index=True)\n",
    "        corr_bed = corr_df[['chrom', 'start', 'stop', 'slope', 'variant_id']].copy()\n",
    "        corr_bed.rename(columns={'slope': 'signal', 'variant_id': 'id'}, inplace=True)\n",
    "    print(f'shape of results for gene with signal merge with feature annots {corr_bed.shape}')\n",
    "    if verbose:\n",
    "        display(corr_bed.head())\n",
    "        print(len(set(feats_df.index) - set(corr_bed.id)))\n",
    "    corr_bed.to_csv(out_file, index=False, header=False, sep='\\t')\n",
    "    return corr_bed.signal.min(), corr_bed.signal.max()"
   ]
  },
  {
   "cell_type": "code",
   "execution_count": null,
   "id": "14f551b3-0b1a-4178-9ff6-64f60bad1e18",
   "metadata": {},
   "outputs": [],
   "source": [
    "%%time\n",
    "cis_meth_min_value = 0\n",
    "cis_meth_max_value = 1\n",
    "for day in days:\n",
    "    corr_file = f'{tensorqtl_dir}/{cohort}_{day}_RNAB-METH.cis_qtl_pairs.chr{chrom}.parquet'\n",
    "    corr_bedgraph_file = f'{figures_dir}/tracks/{dx}.{day}_ciscorr_METH.{gene}.bedgraph'\n",
    "    if exists(corr_file):\n",
    "        this_min, this_max = format_meth_corr_bedgraph(gene_id, chrom, corr_file, \n",
    "                                                       corr_bedgraph_file, features_df, \n",
    "                                                       verbose=DEBUG)\n",
    "        if this_min < cis_meth_min_value:\n",
    "            cis_meth_min_value = this_min\n",
    "        if this_max > cis_meth_max_value:\n",
    "            cis_meth_max_value = this_max"
   ]
  },
  {
   "cell_type": "markdown",
   "id": "8bde04fe-4592-4a14-a868-c0ebcaca4bb3",
   "metadata": {},
   "source": [
    "### <i>cis</i> METH correlated with cell-type fractions"
   ]
  },
  {
   "cell_type": "markdown",
   "id": "848eb6c6-eb51-45bb-bf5c-f4d1d69803ce",
   "metadata": {},
   "source": [
    "#### load the cell fraction correlation results"
   ]
  },
  {
   "cell_type": "code",
   "execution_count": null,
   "id": "d70642d3-e1be-4d76-a77e-ce6df15d831b",
   "metadata": {},
   "outputs": [],
   "source": [
    "fracs_df = read_csv(fracs_meth_corr_file, index_col=0)\n",
    "# drop any is null score\n",
    "fracs_df = fracs_df.loc[~fracs_df.z.isna()]\n",
    "print(f'shape of full cell fraction correlations {fracs_df.shape}')\n",
    "\n",
    "# subset to peaks in the region\n",
    "fracs_df = fracs_df.loc[fracs_df.exo.isin(features_df.index)]\n",
    "print(f'shape of cell fraction correlations in region {fracs_df.shape}')\n",
    "\n",
    "# now merge the genomic position info into the results\n",
    "fracs_df = fracs_df.merge(features_df, how='inner', \n",
    "                          left_on='exo', right_on='feature')\n",
    "print(f'shape of merge in region {fracs_df.shape}')\n",
    "\n",
    "# set min max values\n",
    "cis_frac_meth_min_value = fracs_df.z.min()\n",
    "cis_frac_meth_max_value = fracs_df.z.max()\n",
    "\n",
    "if math.isnan(cis_frac_meth_min_value):\n",
    "    cis_frac_meth_min_value = 0\n",
    "if math.isnan(cis_frac_meth_max_value):\n",
    "    cis_frac_meth_max_value = 1  \n",
    "\n",
    "if DEBUG:\n",
    "    display(fracs_df.head())"
   ]
  },
  {
   "cell_type": "markdown",
   "id": "c55042f9-f4b6-4794-90cc-2a621a5e753e",
   "metadata": {},
   "source": [
    "#### create bedgraph per cell-type"
   ]
  },
  {
   "cell_type": "code",
   "execution_count": null,
   "id": "ca7a95bd-688b-45c2-98e8-455e2d038ebf",
   "metadata": {},
   "outputs": [],
   "source": [
    "cell_abbreviations = {'DopaminergicNeurons': 'DA', \n",
    "                      'ImmatureDopaminergicNeurons': 'iDA', \n",
    "                      'TH_Pel-Freez_ICC': 'TH-ICC'}\n",
    "for cell_type, cell_abbrv in cell_abbreviations.items():\n",
    "    print(cell_abbrv, cell_type)\n",
    "    # subset based on cell type\n",
    "    cell_fracs_df = fracs_df.loc[fracs_df.endo == cell_type]\n",
    "    print(f'shape of cell fraction correlations in region for {cell_abbrv} is {cell_fracs_df.shape}')\n",
    "    fracs_bed = cell_fracs_df[['chrom', 'start', 'stop', 'z', 'exo']].copy()\n",
    "    print(fracs_bed.shape)\n",
    "    if DEBUG:\n",
    "        display(fracs_bed.head())\n",
    "    # save the bedgraph\n",
    "    fracs_corr_bedgraph_file = f'{figures_dir}/tracks/{dx}.{cell_abbrv}.METH.corr_cell_fracs.{gene}.bedgraph'\n",
    "    fracs_bed.to_csv(fracs_corr_bedgraph_file, index=False, header=False, sep='\\t')"
   ]
  },
  {
   "cell_type": "markdown",
   "id": "6874eab6-6589-4620-ad0f-e50c3291e9b3",
   "metadata": {},
   "source": [
    "### create the Encode CRE bed"
   ]
  },
  {
   "cell_type": "code",
   "execution_count": null,
   "id": "854519b3-c85e-48c1-8f00-6df895942fea",
   "metadata": {},
   "outputs": [],
   "source": [
    "this_cmd = f'bigBedToBed {encode_bb_file} -chrom=chr{chrom} -start={start_bp} \\\n",
    "-end={stop_bp} {encode_bed_file}'\n",
    "run_bash_cmd(this_cmd, DEBUG)"
   ]
  },
  {
   "cell_type": "markdown",
   "id": "888fcc67-dc05-4bd2-aa68-8af0bd8e98a4",
   "metadata": {},
   "source": [
    "### format gwas track config string"
   ]
  },
  {
   "cell_type": "code",
   "execution_count": null,
   "id": "3f401e0d-c325-4d57-8d45-3cff3a3e442a",
   "metadata": {},
   "outputs": [],
   "source": [
    "this_content = f'[spacer]{nl}[GWAS]{nl}\\\n",
    "title = {dx} GWAS{nl}\\\n",
    "file = {gwas_bedgraph_file}{nl}\\\n",
    "file_type = bedgraph{nl}\\\n",
    "type = points:6{nl}\\\n",
    "color = black{nl}\\\n",
    "use_middle = true{nl}\\\n",
    "min_value = 0{nl}\\\n",
    "max_value = {ceil(gwas_bed.signal.max())}{nl}\\\n",
    "height = 5{nl}{nl}\\\n",
    "[hlines ovelayed]{nl}\\\n",
    "color = grey{nl}\\\n",
    "line_width = 1{nl}\\\n",
    "line_style = dotted{nl}\\\n",
    "y_values = 7.3{nl}\\\n",
    "file_type = hlines{nl}\\\n",
    "overlay_previous = share-y{nl}{nl}'\n",
    "\n",
    "config_content = config_content + this_content\n",
    "\n",
    "if DEBUG:\n",
    "    print(this_content)"
   ]
  },
  {
   "cell_type": "markdown",
   "id": "2095c402-171a-4a3a-aa10-13f211a3fa99",
   "metadata": {},
   "source": [
    "### format gwas LD track config string"
   ]
  },
  {
   "cell_type": "code",
   "execution_count": null,
   "id": "d9c749b3-73d6-4232-bdcc-59ed09dead83",
   "metadata": {},
   "outputs": [],
   "source": [
    "this_content = f'[LD GWAS]{nl}\\\n",
    "file = {gwas_ld_bedgraph_file}{nl}\\\n",
    "file_type = bedgraph{nl}\\\n",
    "type = points:10{nl}\\\n",
    "color = red{nl}\\\n",
    "use_middle = true{nl}\\\n",
    "min_value = 0{nl}\\\n",
    "height = 5{nl}\\\n",
    "overlay_previous = share-y{nl}\\\n",
    "[x-axis]{nl}{nl}'\n",
    "\n",
    "config_content = config_content + this_content\n",
    "\n",
    "if DEBUG:\n",
    "    print(this_content)"
   ]
  },
  {
   "cell_type": "markdown",
   "id": "ba34aa9d-257e-4570-8f93-2584c4805a32",
   "metadata": {},
   "source": [
    "### format the genes annot config string"
   ]
  },
  {
   "cell_type": "code",
   "execution_count": null,
   "id": "34faa124-c8e1-485e-bcce-bd28d400ed70",
   "metadata": {},
   "outputs": [],
   "source": [
    "this_content = f'{nl}{nl}\\\n",
    "[genes]{nl}\\\n",
    "title = Genes{nl}\\\n",
    "file = {gene_annot_file}{nl}\\\n",
    "height = 2{nl}\\\n",
    "color = darkblue{nl}\\\n",
    "merge_transcripts = true{nl}\\\n",
    "prefered_name = gene_name{nl}\\\n",
    "fontsize = 12{nl}\\\n",
    "style = UCSC{nl}\\\n",
    "max_labels = 200{nl}\\\n",
    "file_type = gtf{nl}{nl}'\n",
    "\n",
    "config_content = config_content + this_content\n",
    "\n",
    "if DEBUG:\n",
    "    print(this_content)"
   ]
  },
  {
   "cell_type": "markdown",
   "id": "00dccfd8-11b2-419a-8b23-597ba2324a46",
   "metadata": {},
   "source": [
    "### format RNAB ~ ATAC tracks config string"
   ]
  },
  {
   "cell_type": "code",
   "execution_count": null,
   "id": "b72568a5-aa2d-42b9-ae56-dba7b2f31dd1",
   "metadata": {},
   "outputs": [],
   "source": [
    "for day in days:\n",
    "    day_color = day_colors.get(day)\n",
    "    corr_bedgraph_file = f'{figures_dir}/tracks/{dx}.{day}_ciscorr.{gene}.bedgraph'\n",
    "    this_content = f'[{day} ATAC cis_corr]{nl}\\\n",
    "    title = {day} {gene} ~ ATAC{nl}\\\n",
    "    file = {corr_bedgraph_file}{nl}\\\n",
    "    file_type = bedgraph{nl}\\\n",
    "    color = {day_color}{nl}\\\n",
    "    height = 2{nl}\\\n",
    "    min_value = {floor(cis_atac_min_value)}{nl}\\\n",
    "    max_value = {ceil(cis_atac_max_value)}{nl}\\\n",
    "    [hlines ovelayed]{nl}\\\n",
    "    color = black{nl}\\\n",
    "    line_width = 0.5{nl}\\\n",
    "    line_style = solid{nl}\\\n",
    "    y_values = 0{nl}\\\n",
    "    file_type = hlines{nl}\\\n",
    "    overlay_previous = share-y{nl}\\\n",
    "    [hlines ovelayed]{nl}\\\n",
    "    color = grey{nl}\\\n",
    "    line_width = 0.5{nl}\\\n",
    "    line_style = dotted{nl}\\\n",
    "    y_values = 1.96{nl}\\\n",
    "    file_type = hlines{nl}\\\n",
    "    overlay_previous = share-y{nl}\\\n",
    "    [hlines ovelayed]{nl}\\\n",
    "    color = grey{nl}\\\n",
    "    line_width = 0.5{nl}\\\n",
    "    line_style = dotted{nl}\\\n",
    "    y_values = -1.96{nl}\\\n",
    "    file_type = hlines{nl}\\\n",
    "    overlay_previous = share-y{nl}{nl}'    \n",
    "\n",
    "    config_content = config_content + this_content\n",
    "\n",
    "    if DEBUG:\n",
    "        print(this_content)"
   ]
  },
  {
   "cell_type": "markdown",
   "id": "06ba75af-e460-465e-b33d-d9f543a4ee00",
   "metadata": {},
   "source": [
    "### format cell-tpye frac ~ ATAC results"
   ]
  },
  {
   "cell_type": "code",
   "execution_count": null,
   "id": "f6e9435e-9823-4c5d-86f0-6bde48ed90d5",
   "metadata": {},
   "outputs": [],
   "source": [
    "cell_colors = {'DA': '#FFD700', 'iDA': '#EE5C42', 'TH-ICC': 'black'}\n",
    "for cell_type, cell_abbrv in cell_abbreviations.items():\n",
    "    cell_color = cell_colors.get(cell_abbrv)\n",
    "    fracs_corr_bedgraph_file = f'{figures_dir}/tracks/{dx}.{cell_abbrv}.ATAC.corr_cell_fracs.{gene}.bedgraph'\n",
    "    this_content = f'[{cell_abbrv} ATAC cis_corr]{nl}\\\n",
    "    title = {cell_abbrv} ~ ATAC{nl}\\\n",
    "    file = {fracs_corr_bedgraph_file}{nl}\\\n",
    "    file_type = bedgraph{nl}\\\n",
    "    color = {cell_color}{nl}\\\n",
    "    height = 2{nl}\\\n",
    "    min_value = {floor(cis_frac_atac_min_value)}{nl}\\\n",
    "    max_value = {ceil(cis_frac_atac_max_value)}{nl}\\\n",
    "    [hlines ovelayed]{nl}\\\n",
    "    color = black{nl}\\\n",
    "    line_width = 0.5{nl}\\\n",
    "    line_style = solid{nl}\\\n",
    "    y_values = 0{nl}\\\n",
    "    file_type = hlines{nl}\\\n",
    "    overlay_previous = share-y{nl}\\\n",
    "    [hlines ovelayed]{nl}\\\n",
    "    color = grey{nl}\\\n",
    "    line_width = 0.5{nl}\\\n",
    "    line_style = dotted{nl}\\\n",
    "    y_values = 1.96{nl}\\\n",
    "    file_type = hlines{nl}\\\n",
    "    overlay_previous = share-y{nl}\\\n",
    "    [hlines ovelayed]{nl}\\\n",
    "    color = grey{nl}\\\n",
    "    line_width = 0.5{nl}\\\n",
    "    line_style = dotted{nl}\\\n",
    "    y_values = -1.96{nl}\\\n",
    "    file_type = hlines{nl}\\\n",
    "    overlay_previous = share-y{nl}{nl}'    \n",
    "\n",
    "    config_content = config_content + this_content\n",
    "\n",
    "    if DEBUG:\n",
    "        print(this_content)"
   ]
  },
  {
   "cell_type": "markdown",
   "id": "6592c31a-146f-4a9f-94a4-796b2267cb42",
   "metadata": {},
   "source": [
    "### format the SCAT peaks"
   ]
  },
  {
   "cell_type": "code",
   "execution_count": null,
   "id": "80c69135-f4fd-488c-a298-c7fb7de3af1a",
   "metadata": {},
   "outputs": [],
   "source": [
    "# this is from Frank's formatting and files\n",
    "this_content = f'[Dopaminergic_Neurons]{nl}\\\n",
    "file = {quants_dir}/foundin_da65_SCAT-DA.means.bedgraph{nl}\\\n",
    "color = #FFD700{nl}\\\n",
    "height = 1.5{nl}\\\n",
    "title = DA{nl}\\\n",
    "min_value = 0.0{nl}\\\n",
    "max_value = 0.70{nl}{nl}\\\n",
    "[Immature_Dopaminergic_Neurons]{nl}\\\n",
    "file = {quants_dir}/foundin_da65_SCAT-iDA.means.bedgraph{nl}\\\n",
    "color = #EE5C42{nl}\\\n",
    "height = 1.5{nl}\\\n",
    "title = iDA{nl}\\\n",
    "min_value = 0.0{nl}\\\n",
    "max_value = 0.70{nl}{nl}\\\n",
    "[Late_neuron_Progenitor]{nl}\\\n",
    "file = {quants_dir}/foundin_da65_SCAT-lNP.means.bedgraph{nl}\\\n",
    "color = #2E8B57{nl}\\\n",
    "height = 1.5{nl}\\\n",
    "title = LNP{nl}\\\n",
    "min_value = 0.0{nl}\\\n",
    "max_value = 0.70{nl}{nl}\\\n",
    "[Early_neuron_Progenitor]{nl}\\\n",
    "file = {quants_dir}/foundin_da65_SCAT-eNP.means.bedgraph{nl}\\\n",
    "color = #4682B4{nl}\\\n",
    "height = 1.5{nl}\\\n",
    "title = ENP{nl}\\\n",
    "min_value = 0.0{nl}\\\n",
    "max_value = 0.70{nl}{nl}\\\n",
    "[Proliferating_Floor_Plate_Progenitors]{nl}\\\n",
    "file = {quants_dir}/foundin_da65_SCAT-PFPP.means.bedgraph{nl}\\\n",
    "color = #8B8B00{nl}\\\n",
    "height = 1.5{nl}\\\n",
    "title = PFPP{nl}\\\n",
    "min_value = 0.0{nl}\\\n",
    "max_value = 0.70{nl}{nl}'\n",
    "\n",
    "config_content = config_content + this_content\n",
    "\n",
    "if DEBUG:\n",
    "    print(this_content)"
   ]
  },
  {
   "cell_type": "markdown",
   "id": "9a01a3ab-31e1-4850-85f2-19ecd8185556",
   "metadata": {},
   "source": [
    "### format cicero SCAT track config string"
   ]
  },
  {
   "cell_type": "code",
   "execution_count": null,
   "id": "2ac0262e-0b34-404e-a982-df2383c59bb0",
   "metadata": {},
   "outputs": [],
   "source": [
    "# scat_colors = {'Dopaminergic_Neurons': '#FFD700', 'Immature_Dopaminergic_Neurons': '#EE5C42', \n",
    "#                'Late_neuron_Progenitor': '#2E8B57', 'Early_neuron_Progenitor': '#4682B4', \n",
    "#                'Proliferating_Floor_Plate_Progenitors': '#8B8B00'}\n",
    "scat_colors = {'Dopaminergic_Neurons': 'Blues', \n",
    "               'Immature_Dopaminergic_Neurons': 'Reds', \n",
    "               'Late_neuron_Progenitor': 'Greens'}\n",
    "for cell_type in scat_cell_types:\n",
    "    cicero_arcs_file = f'{figures_dir}/tracks/{dx}.{cell_type}.cicero.{gene}.arcs'\n",
    "    this_color = scat_colors.get(cell_type)\n",
    "    this_content = f'[Cierco]{nl}\\\n",
    "title = {cell_type}{nl}\\\n",
    "    co-accessibility{nl}\\\n",
    "file = {cicero_arcs_file}{nl}\\\n",
    "file_type = links{nl}\\\n",
    "color = {this_color}{nl}\\\n",
    "min_value = -0.2{nl}\\\n",
    "max_value = {ceil(max_cicero_value)}{nl}\\\n",
    "height = 4{nl}\\\n",
    "line_type = arcs{nl}\\\n",
    "line_width = 0.5{nl}\\\n",
    "orientation = inverted{nl}\\\n",
    "compact_arcs_level = 1{nl}{nl}'\n",
    "\n",
    "    config_content = config_content + this_content\n",
    "\n",
    "    if DEBUG:\n",
    "        print(this_content)"
   ]
  },
  {
   "cell_type": "markdown",
   "id": "4728ebc3-02e9-420d-a292-fbcaaf25f2c3",
   "metadata": {},
   "source": [
    "### format RNAB ~ METH tracks config string"
   ]
  },
  {
   "cell_type": "code",
   "execution_count": null,
   "id": "e531157d-bd7f-48ce-a531-b39a2575d1cf",
   "metadata": {},
   "outputs": [],
   "source": [
    "for day in days:\n",
    "    day_color = day_colors.get(day)\n",
    "    corr_bedgraph_file = f'{figures_dir}/tracks/{dx}.{day}_ciscorr_METH.{gene}.bedgraph'\n",
    "    if exists(corr_bedgraph_file):\n",
    "        this_content = f'[{day} METH cis_corr]{nl}\\\n",
    "        title = {day} {gene} ~ METH{nl}\\\n",
    "        file = {corr_bedgraph_file}{nl}\\\n",
    "        file_type = bedgraph{nl}\\\n",
    "        color = {day_color}{nl}\\\n",
    "        height = 2{nl}\\\n",
    "        min_value = {floor(cis_meth_min_value)}{nl}\\\n",
    "        max_value = {ceil(cis_meth_max_value)}{nl}\\\n",
    "        [hlines ovelayed]{nl}\\\n",
    "        color = black{nl}\\\n",
    "        line_width = 0.5{nl}\\\n",
    "        line_style = solid{nl}\\\n",
    "        y_values = 0{nl}\\\n",
    "        file_type = hlines{nl}\\\n",
    "        overlay_previous = share-y{nl}\\\n",
    "        [hlines ovelayed]{nl}\\\n",
    "        color = grey{nl}\\\n",
    "        line_width = 0.5{nl}\\\n",
    "        line_style = dotted{nl}\\\n",
    "        y_values = 1.96{nl}\\\n",
    "        file_type = hlines{nl}\\\n",
    "        overlay_previous = share-y{nl}\\\n",
    "        [hlines ovelayed]{nl}\\\n",
    "        color = grey{nl}\\\n",
    "        line_width = 0.5{nl}\\\n",
    "        line_style = dotted{nl}\\\n",
    "        y_values = -1.96{nl}\\\n",
    "        file_type = hlines{nl}\\\n",
    "        overlay_previous = share-y{nl}{nl}'\n",
    "\n",
    "        config_content = config_content + this_content\n",
    "\n",
    "        if DEBUG:\n",
    "            print(this_content)"
   ]
  },
  {
   "cell_type": "markdown",
   "id": "742e65c0-ff12-4d82-baee-25b1b74dcd59",
   "metadata": {},
   "source": [
    "### format cell-tpye frac ~ METH results"
   ]
  },
  {
   "cell_type": "code",
   "execution_count": null,
   "id": "cd0ee3e5-8bea-4805-921b-3bfd6b74d268",
   "metadata": {},
   "outputs": [],
   "source": [
    "cell_colors = {'DA': 'black', 'iDA': 'black', 'TH-ICC': 'black'}\n",
    "for cell_type, cell_abbrv in cell_abbreviations.items():\n",
    "    cell_color = cell_colors.get(cell_abbrv)\n",
    "    fracs_corr_bedgraph_file = f'{figures_dir}/tracks/{dx}.{cell_abbrv}.METH.corr_cell_fracs.{gene}.bedgraph'\n",
    "    this_content = f'[{cell_abbrv} METH cis_corr]{nl}\\\n",
    "    title = {cell_abbrv} ~ METH{nl}\\\n",
    "    file = {fracs_corr_bedgraph_file}{nl}\\\n",
    "    file_type = bedgraph{nl}\\\n",
    "    color = {cell_color}{nl}\\\n",
    "    height = 2{nl}\\\n",
    "    min_value = {floor(cis_frac_meth_min_value)}{nl}\\\n",
    "    max_value = {ceil(cis_frac_meth_max_value)}{nl}\\\n",
    "    [hlines ovelayed]{nl}\\\n",
    "    color = black{nl}\\\n",
    "    line_width = 0.5{nl}\\\n",
    "    line_style = solid{nl}\\\n",
    "    y_values = 0{nl}\\\n",
    "    file_type = hlines{nl}\\\n",
    "    overlay_previous = share-y{nl}\\\n",
    "    [hlines ovelayed]{nl}\\\n",
    "    color = grey{nl}\\\n",
    "    line_width = 0.5{nl}\\\n",
    "    line_style = dotted{nl}\\\n",
    "    y_values = 1.96{nl}\\\n",
    "    file_type = hlines{nl}\\\n",
    "    overlay_previous = share-y{nl}\\\n",
    "    [hlines ovelayed]{nl}\\\n",
    "    color = grey{nl}\\\n",
    "    line_width = 0.5{nl}\\\n",
    "    line_style = dotted{nl}\\\n",
    "    y_values = -1.96{nl}\\\n",
    "    file_type = hlines{nl}\\\n",
    "    overlay_previous = share-y{nl}{nl}'    \n",
    "\n",
    "    config_content = config_content + this_content\n",
    "\n",
    "    if DEBUG:\n",
    "        print(this_content)"
   ]
  },
  {
   "cell_type": "markdown",
   "id": "eb3555de-4c67-422d-929a-514f5621b509",
   "metadata": {},
   "source": [
    "### format the HiC data tracks"
   ]
  },
  {
   "cell_type": "code",
   "execution_count": null,
   "id": "55f33efe-de56-43f3-927b-1ae817af8770",
   "metadata": {},
   "outputs": [],
   "source": [
    "# this is from Frank's formatting and files\n",
    "this_content = f'[HiC regions da0]{nl}\\\n",
    "file = {quants_dir}/hic_da0_regions.bed{nl}\\\n",
    "height = 0.25{nl}\\\n",
    "title = da0 Regions{nl}\\\n",
    "file_type = bed{nl}\\\n",
    "display = collapsed{nl}\\\n",
    "color = #00AFBB{nl}\\\n",
    "labels = false{nl}{nl}\\\n",
    "[HiC da0]{nl}\\\n",
    "file = {quants_dir}/hic_da0.bedpe{nl}\\\n",
    "title = da0 Loops{nl}\\\n",
    "height = 2{nl}\\\n",
    "line_width = 2{nl}\\\n",
    "links_type = arcs{nl}\\\n",
    "color = #00AFBB{nl}\\\n",
    "line_style = solid{nl}\\\n",
    "file_type = links{nl}\\\n",
    "orientation = inverted{nl}\\\n",
    "use_middle = true{nl}{nl}\\\n",
    "[HiC regions da65]{nl}\\\n",
    "file = {quants_dir}/hic_da65_regions.bed{nl}\\\n",
    "height = 0.25{nl}\\\n",
    "title = da65 Regions{nl}\\\n",
    "file_type = bed{nl}\\\n",
    "display = collapsed{nl}\\\n",
    "color = #FC4E07{nl}\\\n",
    "labels = false{nl}{nl}\\\n",
    "[HiC da65]{nl}\\\n",
    "file = {quants_dir}/hic_da65.bedpe{nl}\\\n",
    "title = da65 Loops{nl}\\\n",
    "height = 2{nl}\\\n",
    "line_width = 2{nl}\\\n",
    "links_type = arcs{nl}\\\n",
    "color = #FC4E07{nl}\\\n",
    "line_style = solid{nl}\\\n",
    "file_type = links{nl}\\\n",
    "orientation = inverted{nl}\\\n",
    "use_middle = true{nl}{nl}'\n",
    "\n",
    "config_content = config_content + this_content\n",
    "\n",
    "if DEBUG:\n",
    "    print(this_content)"
   ]
  },
  {
   "cell_type": "markdown",
   "id": "cd4662e2-9aa4-4053-8ff2-a5f1de37cc3b",
   "metadata": {},
   "source": [
    "### add encode track to config"
   ]
  },
  {
   "cell_type": "code",
   "execution_count": null,
   "id": "2ede83fd-7994-43fa-87c8-082b32a77141",
   "metadata": {},
   "outputs": [],
   "source": [
    "this_content = f'{nl}{nl}\\\n",
    "[CRE]{nl}\\\n",
    "title = ENCODE CRE{nl}\\\n",
    "file = {encode_bed_file}{nl}\\\n",
    "height = 2{nl}\\\n",
    "fontsize = 8{nl}\\\n",
    "file_type = bed{nl}\\\n",
    "color = Blues{nl}\\\n",
    "display = collapsed{nl}\\\n",
    "labels = false{nl}\\\n",
    "border_color = black{nl}\\\n",
    "show_data_range = false{nl}\\\n",
    "[x-axis]{nl}{nl}'\n",
    "\n",
    "config_content = config_content + this_content\n",
    "\n",
    "if DEBUG:\n",
    "    print(this_content)"
   ]
  },
  {
   "cell_type": "markdown",
   "id": "5f28efb5-615c-4585-8dca-960f3aa8b694",
   "metadata": {},
   "source": [
    "### save the config file content"
   ]
  },
  {
   "cell_type": "code",
   "execution_count": null,
   "id": "f65cc598-fc86-43a6-ace0-da3051498977",
   "metadata": {},
   "outputs": [],
   "source": [
    "with open(config_file, 'w') as f:\n",
    "    f.write(config_content)"
   ]
  },
  {
   "cell_type": "markdown",
   "id": "c37b824d-bdd4-4209-b9c5-eb96dc455533",
   "metadata": {},
   "source": [
    "### generate the figure"
   ]
  },
  {
   "cell_type": "code",
   "execution_count": null,
   "id": "7a827892-9501-41b6-8eab-edb8c2df48d5",
   "metadata": {},
   "outputs": [],
   "source": [
    "this_cmd = f'pyGenomeTracks --tracks {config_file} \\\n",
    "--region chr{chrom}:{start_bp}-{stop_bp} --dpi 200 \\\n",
    "--title \"{dx} {gene}\" \\\n",
    "--outFileName {figure_file}'\n",
    "\n",
    "run_bash_cmd(this_cmd, DEBUG)"
   ]
  },
  {
   "cell_type": "markdown",
   "id": "dba16036-b748-4db1-ac51-fe15fd4c4d94",
   "metadata": {},
   "source": [
    "### view the generated figure"
   ]
  },
  {
   "cell_type": "code",
   "execution_count": null,
   "id": "c14e2e1e-e3f4-42fb-a08e-e75c0ff6d709",
   "metadata": {},
   "outputs": [],
   "source": [
    "Image(figure_file)"
   ]
  },
  {
   "cell_type": "code",
   "execution_count": null,
   "id": "e94e4b7a-3825-4f01-b4d4-69debf04241e",
   "metadata": {},
   "outputs": [],
   "source": [
    "!date"
   ]
  },
  {
   "cell_type": "code",
   "execution_count": null,
   "id": "cdd74721-7de2-4c07-bc2f-20fdedffa62e",
   "metadata": {},
   "outputs": [],
   "source": []
  }
 ],
 "metadata": {
  "environment": {
   "kernel": "python3",
   "name": "pytorch-gpu.1-12.m102",
   "type": "gcloud",
   "uri": "gcr.io/deeplearning-platform-release/pytorch-gpu.1-12:m102"
  },
  "kernelspec": {
   "display_name": "Python 3 (ipykernel)",
   "language": "python",
   "name": "python3"
  },
  "language_info": {
   "codemirror_mode": {
    "name": "ipython",
    "version": 3
   },
   "file_extension": ".py",
   "mimetype": "text/x-python",
   "name": "python",
   "nbconvert_exporter": "python",
   "pygments_lexer": "ipython3",
   "version": "3.12.2"
  },
  "toc-autonumbering": false,
  "toc-showcode": false,
  "toc-showmarkdowntxt": false
 },
 "nbformat": 4,
 "nbformat_minor": 5
}
