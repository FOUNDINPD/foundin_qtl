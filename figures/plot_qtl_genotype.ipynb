{
 "cells": [
  {
   "cell_type": "markdown",
   "id": "26a5eae0",
   "metadata": {},
   "source": [
    "#### Notebook to plot feature quantification by genotype allele for QTL result\n",
    "ie visualize genotype's effect on feature for specific variant(s)"
   ]
  },
  {
   "cell_type": "code",
   "execution_count": null,
   "id": "8fa790b4",
   "metadata": {},
   "outputs": [],
   "source": [
    "!date"
   ]
  },
  {
   "cell_type": "markdown",
   "id": "b9f9a57a",
   "metadata": {},
   "source": [
    "#### import libraries"
   ]
  },
  {
   "cell_type": "code",
   "execution_count": null,
   "id": "aa4bbe56",
   "metadata": {},
   "outputs": [],
   "source": [
    "from pandas import read_csv\n",
    "import torch\n",
    "from tensorqtl import read_phenotype_bed\n",
    "from tensorqtl import pgen\n",
    "print('PyTorch {}'.format(torch.__version__))\n",
    "from seaborn import boxenplot, stripplot, lmplot\n",
    "import matplotlib.pyplot as plt\n",
    "from matplotlib.pyplot import rc_context\n",
    "\n",
    "import warnings\n",
    "warnings.filterwarnings('ignore')\n",
    "\n",
    "%matplotlib inline\n",
    "# for white background of figures (only for docs rendering)\n",
    "%config InlineBackend.print_figure_kwargs={'facecolor' : \"w\"}\n",
    "%config InlineBackend.figure_format='retina'"
   ]
  },
  {
   "cell_type": "markdown",
   "id": "1ce75d36-5ce9-43cf-9ccd-1305ab306f1e",
   "metadata": {},
   "source": [
    "#### set notebook variables"
   ]
  },
  {
   "cell_type": "code",
   "execution_count": null,
   "id": "cb1734c1",
   "metadata": {
    "tags": [
     "parameters"
    ]
   },
   "outputs": [],
   "source": [
    "# parameters\n",
    "modality = ''\n",
    "day = ''\n",
    "feature_name = ''\n",
    "feature_id = ''\n",
    "variant = ''\n",
    "interaction_term = ''\n",
    "chrom = ''"
   ]
  },
  {
   "cell_type": "code",
   "execution_count": null,
   "id": "23e1e0a2",
   "metadata": {},
   "outputs": [],
   "source": [
    "# naming\n",
    "cohort = 'foundin'\n",
    "set_name = f'{cohort}_{day}_{modality}'\n",
    "\n",
    "if interaction_term == '':\n",
    "    interaction_term = None\n",
    "    term_file = None\n",
    "else:\n",
    "    term_file = f'/labshare/raph/datasets/foundin_qtl/sample_info/foundin_{modality}_sample_info.csv'    \n",
    "\n",
    "# directories\n",
    "wrk_dir = '/labshare/raph/datasets/foundin_qtl'\n",
    "geno_dir = f'{wrk_dir}/genotypes'\n",
    "quants_dir = f'{wrk_dir}/quants'\n",
    "figures_dir = f'{wrk_dir}/figures'\n",
    "\n",
    "# input files\n",
    "quants_bed_file = f'{quants_dir}/{set_name}.scaled.adj.bed.gz'\n",
    "pfile_prefix_path = f'{geno_dir}/{cohort}.amppdv1.{chrom}'\n",
    "\n",
    "# output files\n",
    "figure_file = f'{figures_dir}/{set_name}.{feature_name}_{variant}.png'\n",
    "\n",
    "# variables\n",
    "DEBUG = False\n",
    "dpi_value = 100\n",
    "\n",
    "if DEBUG:\n",
    "    print(f'term_file = {term_file}')\n",
    "    print(f'quants_bed_file = {quants_bed_file}')\n",
    "    print(f'pfile_prefix_path = {pfile_prefix_path}')\n",
    "    print(f'figure_file = {figure_file}')"
   ]
  },
  {
   "cell_type": "markdown",
   "id": "d3b232b0-1718-4119-937c-5fedf72fd71b",
   "metadata": {},
   "source": [
    "### load plink pfiles"
   ]
  },
  {
   "cell_type": "code",
   "execution_count": null,
   "id": "9be0f55f-3742-4830-bc5c-ad10e2fd1753",
   "metadata": {},
   "outputs": [],
   "source": [
    "%%time\n",
    "pgr = pgen.PgenReader(pfile_prefix_path)\n",
    "genotype_df = pgr.load_genotypes()\n",
    "variant_df = pgr.pvar_df.set_index('id')[['chrom', 'pos', 'ref', 'alt']]"
   ]
  },
  {
   "cell_type": "markdown",
   "id": "555cc0dd-761f-4aeb-9231-ba4d008dc423",
   "metadata": {},
   "source": [
    "#### fix the PP- to PPMI prefix"
   ]
  },
  {
   "cell_type": "code",
   "execution_count": null,
   "id": "914584a7-cb40-494d-b2bf-8772559d9f61",
   "metadata": {},
   "outputs": [],
   "source": [
    "genotype_df = genotype_df.rename(columns=lambda x: 'PPMI' + x[len('PP-'):] if x.startswith('PP-') else x)"
   ]
  },
  {
   "cell_type": "code",
   "execution_count": null,
   "id": "0ca6bfb5",
   "metadata": {},
   "outputs": [],
   "source": [
    "print(f'genotypes: {genotype_df.shape}')\n",
    "print(f'variants: {variant_df.shape}')\n",
    "if DEBUG:\n",
    "    display(genotype_df.head())\n",
    "    display(variant_df.head())"
   ]
  },
  {
   "cell_type": "markdown",
   "id": "f158bb25",
   "metadata": {},
   "source": [
    "#### load phenotypes and covariates (if needed)"
   ]
  },
  {
   "cell_type": "code",
   "execution_count": null,
   "id": "bcccf3c9",
   "metadata": {},
   "outputs": [],
   "source": [
    "%%time\n",
    "\n",
    "phenotype_df, phenotype_pos_df = read_phenotype_bed(quants_bed_file)\n",
    "print(f'phenotype_df {phenotype_df.shape}')\n",
    "print(f'phenotype_pos_df {phenotype_pos_df.shape}')\n",
    "if DEBUG:\n",
    "    display(phenotype_df.head())\n",
    "    display(phenotype_pos_df.head())    "
   ]
  },
  {
   "cell_type": "code",
   "execution_count": null,
   "id": "9b242d72",
   "metadata": {},
   "outputs": [],
   "source": [
    "if not interaction_term is None:\n",
    "    covs_df = read_csv(term_file, index_col=0)\n",
    "    print(f'covariates_df {covs_df.shape}')\n",
    "    # go ahead and subset to specified term of interest\n",
    "    # have two different covariate and interaction term formats to deal with\n",
    "    try:\n",
    "        term_df = covs_df.loc[(covs_df['day'] == day) & \n",
    "                              (covs_df['sampleid'].isin(phenotype_df.columns)), \n",
    "                              ['day', 'sampleid', interaction_term]]\n",
    "    except:\n",
    "        term_df = covs_df.loc[(covs_df.index.isin(phenotype_df.columns)), \n",
    "                              [interaction_term]].copy()\n",
    "        term_df['day'] = visit_name\n",
    "        term_df['sampleid'] = term_df.index\n",
    "    print(f'term_df {term_df.shape}')\n",
    "    if DEBUG:\n",
    "        display(term_df.head())\n",
    "else:\n",
    "    term_df = None"
   ]
  },
  {
   "cell_type": "markdown",
   "id": "6488932c",
   "metadata": {},
   "source": [
    "#### subset dataframes to relevant features and transpose"
   ]
  },
  {
   "cell_type": "code",
   "execution_count": null,
   "id": "6afbe402",
   "metadata": {},
   "outputs": [],
   "source": [
    "feature_pheno_df = phenotype_df.loc[phenotype_df.index == feature_id].T\n",
    "print(feature_pheno_df.shape)\n",
    "if DEBUG:\n",
    "    display(feature_pheno_df.head())"
   ]
  },
  {
   "cell_type": "code",
   "execution_count": null,
   "id": "d0892ec6",
   "metadata": {},
   "outputs": [],
   "source": [
    "variant_geno_df = genotype_df.loc[genotype_df.index == variant].T\n",
    "print(variant_geno_df.shape)\n",
    "if DEBUG:\n",
    "    display(variant_geno_df.head())"
   ]
  },
  {
   "cell_type": "markdown",
   "id": "791f43d8-3773-43db-bf1c-2c2093c590d3",
   "metadata": {},
   "source": [
    "### sort our if ref or alt allele is the minor allele and recode dosages with alleles for plotting"
   ]
  },
  {
   "cell_type": "code",
   "execution_count": null,
   "id": "22fa2543-957f-4f00-a20d-ab1561ce9ac5",
   "metadata": {},
   "outputs": [],
   "source": [
    "allele_counts = variant_geno_df[variant].value_counts()\n",
    "var_info = variant_df.loc[variant]\n",
    "if allele_counts[0] > allele_counts[2]:\n",
    "    # alt is minor allele\n",
    "    aa_geno = f'{var_info.ref}/{var_info.ref}'\n",
    "    ab_geno = f'{var_info.ref}/{var_info.alt}'\n",
    "    bb_geno = f'{var_info.alt}/{var_info.alt}'\n",
    "else:\n",
    "    # ref is minor allele\n",
    "    aa_geno = f'{var_info.alt}/{var_info.alt}'\n",
    "    ab_geno = f'{var_info.alt}/{var_info.ref}'\n",
    "    bb_geno = f'{var_info.ref}/{var_info.ref}'\n",
    "# do the alleles replacement    \n",
    "variant_geno_df = variant_geno_df.replace({0: aa_geno, 1: ab_geno, 2: bb_geno})\n",
    "if DEBUG:\n",
    "    display(allele_counts)\n",
    "    display(var_info)\n",
    "    display(variant_geno_df.head())\n",
    "    display(variant_geno_df[variant].value_counts())"
   ]
  },
  {
   "cell_type": "markdown",
   "id": "3056ca0b",
   "metadata": {},
   "source": [
    "#### merge the data frames"
   ]
  },
  {
   "cell_type": "code",
   "execution_count": null,
   "id": "fb4fbcc2",
   "metadata": {},
   "outputs": [],
   "source": [
    "merged_df = variant_geno_df.merge(feature_pheno_df, how='inner', \n",
    "                                  left_index=True, right_index=True)\n",
    "print(merged_df.shape)\n",
    "if not term_df is None:\n",
    "    merged_df = merged_df.merge(term_df, how='inner', left_index=True, right_on='sampleid')\n",
    "\n",
    "print(merged_df.shape)\n",
    "if DEBUG:\n",
    "    display(merged_df.head())"
   ]
  },
  {
   "cell_type": "markdown",
   "id": "20265868",
   "metadata": {},
   "source": [
    "#### generate the plot(s)"
   ]
  },
  {
   "cell_type": "code",
   "execution_count": null,
   "id": "b3bb8b7b",
   "metadata": {},
   "outputs": [],
   "source": [
    "# plot typical quantification by genotype plot\n",
    "with rc_context({'figure.figsize': (9, 9), 'figure.dpi': dpi_value}):\n",
    "    plt.style.use('seaborn-v0_8-bright')  \n",
    "    boxenplot(x=variant, y=feature_id, scale='exponential', \n",
    "              data=merged_df, k_depth='trustworthy', color='purple')\n",
    "\n",
    "    grsplt = stripplot(x=variant, y=feature_id, data=merged_df, alpha=0.75, \n",
    "                       jitter=True, color='darkgrey')\n",
    "    loc, labels = plt.xticks()\n",
    "    grsplt.set_xticklabels(labels)\n",
    "    plt.title(f'{feature_name} quantification by {variant} genotype', fontsize='large') \n",
    "    plt.xlabel('Genotype')\n",
    "    plt.ylabel('Quantification')\n",
    "    plt.savefig(figure_file, dpi=dpi_value, bbox_inches='tight', \n",
    "                transparent=True, pad_inches=1)\n",
    "    plt.show()"
   ]
  },
  {
   "cell_type": "code",
   "execution_count": null,
   "id": "17ee99bb",
   "metadata": {},
   "outputs": [],
   "source": [
    "if not interaction_term is None:\n",
    "    with rc_context({'figure.figsize': (9, 9), 'figure.dpi': dpi_value}):\n",
    "        plt.style.use('seaborn-v0_8-bright') \n",
    "        lmplot(x=interaction_term,\n",
    "               y=feature_id, hue=variant, \n",
    "               palette='colorblind', height=12, data=merged_df)\n",
    "        plt.title(f'{feature_name} quantification by {variant} genotype and {interaction_term} interaction', \n",
    "                  fontsize='large') \n",
    "        plt.xlabel(f'{interaction_term}')\n",
    "        plt.ylabel('Quantification')\n",
    "        plt.show()"
   ]
  },
  {
   "cell_type": "code",
   "execution_count": null,
   "id": "70fa6e16",
   "metadata": {},
   "outputs": [],
   "source": [
    "!date"
   ]
  }
 ],
 "metadata": {
  "environment": {
   "kernel": "python3",
   "name": "pytorch-gpu.1-12.m102",
   "type": "gcloud",
   "uri": "gcr.io/deeplearning-platform-release/pytorch-gpu.1-12:m102"
  },
  "kernelspec": {
   "display_name": "Python 3 (ipykernel)",
   "language": "python",
   "name": "python3"
  },
  "language_info": {
   "codemirror_mode": {
    "name": "ipython",
    "version": 3
   },
   "file_extension": ".py",
   "mimetype": "text/x-python",
   "name": "python",
   "nbconvert_exporter": "python",
   "pygments_lexer": "ipython3",
   "version": "3.12.2"
  },
  "widgets": {
   "application/vnd.jupyter.widget-state+json": {
    "state": {},
    "version_major": 2,
    "version_minor": 0
   }
  }
 },
 "nbformat": 4,
 "nbformat_minor": 5
}
