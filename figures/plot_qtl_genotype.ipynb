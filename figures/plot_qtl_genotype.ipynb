{
 "cells": [
  {
   "cell_type": "markdown",
   "id": "26a5eae0",
   "metadata": {},
   "source": [
    "#### Notebook to plot feature quantification by genotype allele for QTL result\n",
    "ie visualize genotype's effect on feature for specific variant(s)"
   ]
  },
  {
   "cell_type": "code",
   "execution_count": null,
   "id": "8fa790b4",
   "metadata": {},
   "outputs": [],
   "source": [
    "!date"
   ]
  },
  {
   "cell_type": "markdown",
   "id": "b9f9a57a",
   "metadata": {},
   "source": [
    "#### import libraries"
   ]
  },
  {
   "cell_type": "code",
   "execution_count": null,
   "id": "aa4bbe56",
   "metadata": {},
   "outputs": [],
   "source": [
    "from pandas import read_csv\n",
    "import torch\n",
    "from tensorqtl import read_phenotype_bed\n",
    "from tensorqtl import genotypeio\n",
    "print('PyTorch {}'.format(torch.__version__))\n",
    "from seaborn import boxenplot, stripplot, lmplot\n",
    "import matplotlib.pyplot as plt\n",
    "from matplotlib.pyplot import rc_context\n",
    "\n",
    "import warnings\n",
    "warnings.filterwarnings('ignore')\n",
    "\n",
    "%matplotlib inline\n",
    "# for white background of figures (only for docs rendering)\n",
    "%config InlineBackend.print_figure_kwargs={'facecolor' : \"w\"}\n",
    "%config InlineBackend.figure_format='retina'"
   ]
  },
  {
   "cell_type": "markdown",
   "id": "1ce75d36-5ce9-43cf-9ccd-1305ab306f1e",
   "metadata": {},
   "source": [
    "#### set notebook variables"
   ]
  },
  {
   "cell_type": "code",
   "execution_count": null,
   "id": "cb1734c1",
   "metadata": {
    "tags": [
     "parameters"
    ]
   },
   "outputs": [],
   "source": [
    "# parameters\n",
    "modality = ''\n",
    "day = ''\n",
    "feature_name = ''\n",
    "feature_id = ''\n",
    "variant = ''\n",
    "interaction_term = ''\n",
    "if not interaction_term:\n",
    "    interaction_term = None\n",
    "else:\n",
    "    term_file = f'/labshare/raph/datasets/foundin_qtl/sample_info/foundin_{modality}_sample_info.csv'"
   ]
  },
  {
   "cell_type": "code",
   "execution_count": null,
   "id": "23e1e0a2",
   "metadata": {},
   "outputs": [],
   "source": [
    "# naming\n",
    "cohort = 'foundin'\n",
    "set_name = f'{cohort}_{day}_{modality}'\n",
    "\n",
    "if interaction_term == '':\n",
    "    interaction_term = None\n",
    "    term_file = None\n",
    "\n",
    "# directories\n",
    "wrk_dir = '/labshare/raph/datasets/foundin_qtl'\n",
    "geno_dir = f'{wrk_dir}/genotypes'\n",
    "quants_dir = f'{wrk_dir}/quants'\n",
    "figures_dir = f'{wrk_dir}/figures'\n",
    "\n",
    "# input files\n",
    "quants_bed_file = f'{quants_dir}/{set_name}.scaled.adj.bed.gz'\n",
    "bfile_prefix_path = f'{geno_dir}/{cohort}.amppdv1.bfile'\n",
    "\n",
    "# output files\n",
    "figure_file = f'{figures_dir}/{set_name}.{feature_name}_{variant}.png'\n",
    "\n",
    "# variables\n",
    "DEBUG = False\n",
    "dpi_value = 100\n",
    "\n",
    "if DEBUG:\n",
    "    print(f'term_file = {term_file}')\n",
    "    print(f'quants_bed_file = {quants_bed_file}')\n",
    "    print(f'bfile_prefix_path = {bfile_prefix_path}')\n",
    "    print(f'figure_file = {figure_file}')"
   ]
  },
  {
   "cell_type": "markdown",
   "id": "9dd6d241",
   "metadata": {},
   "source": [
    "#### load plink bfiles"
   ]
  },
  {
   "cell_type": "code",
   "execution_count": null,
   "id": "aa154fe6",
   "metadata": {},
   "outputs": [],
   "source": [
    "%%time\n",
    "pr = genotypeio.PlinkReader(bfile_prefix_path)\n",
    "genotype_df = pr.load_genotypes()\n",
    "variant_df = pr.bim.set_index('snp')[['chrom', 'pos']]"
   ]
  },
  {
   "cell_type": "code",
   "execution_count": null,
   "id": "0ca6bfb5",
   "metadata": {},
   "outputs": [],
   "source": [
    "print(f'genotypes: {genotype_df.shape}')\n",
    "print(f'variants: {variant_df.shape}')\n",
    "if DEBUG:\n",
    "    display(genotype_df.head())\n",
    "    display(variant_df.head())"
   ]
  },
  {
   "cell_type": "markdown",
   "id": "f158bb25",
   "metadata": {},
   "source": [
    "#### load phenotypes and covariates (if needed)"
   ]
  },
  {
   "cell_type": "code",
   "execution_count": null,
   "id": "bcccf3c9",
   "metadata": {},
   "outputs": [],
   "source": [
    "%%time\n",
    "\n",
    "phenotype_df, phenotype_pos_df = read_phenotype_bed(quants_bed_file)\n",
    "print(f'phenotype_df {phenotype_df.shape}')\n",
    "print(f'phenotype_pos_df {phenotype_pos_df.shape}')\n",
    "if DEBUG:\n",
    "    display(phenotype_df.head())\n",
    "    display(phenotype_pos_df.head())    "
   ]
  },
  {
   "cell_type": "code",
   "execution_count": null,
   "id": "9b242d72",
   "metadata": {},
   "outputs": [],
   "source": [
    "if not interaction_term is None:\n",
    "    covs_df = read_csv(term_file, index_col=0)\n",
    "    print(f'covariates_df {covs_df.shape}')\n",
    "    # go ahead and subset to specified term of interest\n",
    "    # have two different covariate and interaction term formats to deal with\n",
    "    try:\n",
    "        term_df = covs_df.loc[(covs_df['day'] == day) & \n",
    "                              (covs_df['sampleid'].isin(phenotype_df.columns)), \n",
    "                              ['day', 'sampleid', interaction_term]]\n",
    "    except:\n",
    "        term_df = covs_df.loc[(covs_df.index.isin(phenotype_df.columns)), \n",
    "                              [interaction_term]].copy()\n",
    "        term_df['day'] = visit_name\n",
    "        term_df['sampleid'] = term_df.index\n",
    "    print(f'term_df {term_df.shape}')\n",
    "    if DEBUG:\n",
    "        display(term_df.head())\n",
    "else:\n",
    "    term_df = None"
   ]
  },
  {
   "cell_type": "markdown",
   "id": "6488932c",
   "metadata": {},
   "source": [
    "#### subset dataframes to relevant features and transpose"
   ]
  },
  {
   "cell_type": "code",
   "execution_count": null,
   "id": "6afbe402",
   "metadata": {},
   "outputs": [],
   "source": [
    "feature_pheno_df = phenotype_df.loc[phenotype_df.index == feature_id].T\n",
    "print(feature_pheno_df.shape)\n",
    "if DEBUG:\n",
    "    display(feature_pheno_df.head())"
   ]
  },
  {
   "cell_type": "code",
   "execution_count": null,
   "id": "d0892ec6",
   "metadata": {},
   "outputs": [],
   "source": [
    "variant_geno_df = genotype_df.loc[genotype_df.index == variant].T\n",
    "print(variant_geno_df.shape)\n",
    "if DEBUG:\n",
    "    display(variant_geno_df.head())"
   ]
  },
  {
   "cell_type": "markdown",
   "id": "3056ca0b",
   "metadata": {},
   "source": [
    "#### merge the data frames"
   ]
  },
  {
   "cell_type": "code",
   "execution_count": null,
   "id": "fb4fbcc2",
   "metadata": {},
   "outputs": [],
   "source": [
    "merged_df = variant_geno_df.merge(feature_pheno_df, how='inner', \n",
    "                                  left_index=True, right_index=True)\n",
    "print(merged_df.shape)\n",
    "if not term_df is None:\n",
    "    merged_df = merged_df.merge(term_df, how='inner', left_index=True, right_on='sampleid')\n",
    "\n",
    "print(merged_df.shape)\n",
    "if DEBUG:\n",
    "    display(merged_df.head())"
   ]
  },
  {
   "cell_type": "markdown",
   "id": "20265868",
   "metadata": {},
   "source": [
    "#### generate the plot(s)"
   ]
  },
  {
   "cell_type": "code",
   "execution_count": null,
   "id": "b3bb8b7b",
   "metadata": {},
   "outputs": [],
   "source": [
    "# plot typical quantification by genotype plot\n",
    "with rc_context({'figure.figsize': (9, 9), 'figure.dpi': dpi_value}):\n",
    "    plt.style.use('seaborn-v0_8-bright')  \n",
    "    boxenplot(x=variant, y=feature_id, scale='exponential', \n",
    "              data=merged_df, k_depth='trustworthy', color='purple')\n",
    "\n",
    "    grsplt = stripplot(x=variant, y=feature_id, data=merged_df, alpha=0.75, \n",
    "                       jitter=True, color='darkgrey')\n",
    "    loc, labels = plt.xticks()\n",
    "    grsplt.set_xticklabels(labels)\n",
    "    plt.title(f'{feature_name} quantification by {variant} genotype', fontsize='large') \n",
    "    plt.xlabel('Genotype')\n",
    "    plt.ylabel('Quantification')\n",
    "    plt.savefig(figure_file, dpi=dpi_value, bbox_inches='tight', \n",
    "                transparent=True, pad_inches=1)\n",
    "    plt.show()"
   ]
  },
  {
   "cell_type": "code",
   "execution_count": null,
   "id": "17ee99bb",
   "metadata": {},
   "outputs": [],
   "source": [
    "if not interaction_term is None:\n",
    "    with rc_context({'figure.figsize': (9, 9), 'figure.dpi': dpi_value}):\n",
    "        plt.style.use('seaborn-v0_8-bright') \n",
    "        lmplot(x=interaction_term,\n",
    "               y=feature_id, hue=variant, \n",
    "               palette='colorblind', height=12, data=merged_df)\n",
    "        plt.title(f'{feature_name} quantification by {variant} genotype and {interaction_term} interaction', \n",
    "                  fontsize='large') \n",
    "        plt.xlabel(f'{interaction_term}')\n",
    "        plt.ylabel('Quantification')\n",
    "        plt.show()"
   ]
  },
  {
   "cell_type": "code",
   "execution_count": null,
   "id": "70fa6e16",
   "metadata": {},
   "outputs": [],
   "source": [
    "!date"
   ]
  },
  {
   "cell_type": "code",
   "execution_count": null,
   "id": "5d4a4185-389a-4b7e-a93d-f32d40717014",
   "metadata": {},
   "outputs": [],
   "source": []
  }
 ],
 "metadata": {
  "environment": {
   "kernel": "python3",
   "name": "pytorch-gpu.1-12.m102",
   "type": "gcloud",
   "uri": "gcr.io/deeplearning-platform-release/pytorch-gpu.1-12:m102"
  },
  "kernelspec": {
   "display_name": "Python 3 (ipykernel)",
   "language": "python",
   "name": "python3"
  },
  "language_info": {
   "codemirror_mode": {
    "name": "ipython",
    "version": 3
   },
   "file_extension": ".py",
   "mimetype": "text/x-python",
   "name": "python",
   "nbconvert_exporter": "python",
   "pygments_lexer": "ipython3",
   "version": "3.12.2"
  },
  "widgets": {
   "application/vnd.jupyter.widget-state+json": {
    "state": {},
    "version_major": 2,
    "version_minor": 0
   }
  }
 },
 "nbformat": 4,
 "nbformat_minor": 5
}
