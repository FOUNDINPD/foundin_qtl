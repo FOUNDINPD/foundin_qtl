{
 "cells": [
  {
   "cell_type": "markdown",
   "metadata": {},
   "source": [
    "## Notebook for plotting feature specific feature QTL results"
   ]
  },
  {
   "cell_type": "code",
   "execution_count": null,
   "metadata": {},
   "outputs": [],
   "source": [
    "!date"
   ]
  },
  {
   "cell_type": "markdown",
   "metadata": {},
   "source": [
    "#### import libraries"
   ]
  },
  {
   "cell_type": "code",
   "execution_count": null,
   "metadata": {},
   "outputs": [],
   "source": [
    "from pandas import read_parquet, DataFrame\n",
    "import numpy as np\n",
    "from seaborn import relplot, lmplot\n",
    "import statsmodels.formula.api as smf\n",
    "\n",
    "import matplotlib.pyplot as plt\n",
    "from matplotlib.pyplot import rc_context\n",
    "\n",
    "%matplotlib inline\n",
    "# for white background of figures (only for docs rendering)\n",
    "%config InlineBackend.print_figure_kwargs={'facecolor' : \"w\"}\n",
    "%config InlineBackend.figure_format='retina'"
   ]
  },
  {
   "cell_type": "markdown",
   "metadata": {},
   "source": [
    "#### set notebook variables"
   ]
  },
  {
   "cell_type": "code",
   "execution_count": null,
   "metadata": {
    "tags": [
     "parameters"
    ]
   },
   "outputs": [],
   "source": [
    "# parameters\n",
    "day = 'daNA'\n",
    "modality = 'DAn-meta'\n",
    "feature = 'CCAR2'\n",
    "feature_name = 'CCAR2'"
   ]
  },
  {
   "cell_type": "code",
   "execution_count": null,
   "metadata": {},
   "outputs": [],
   "source": [
    "# naming\n",
    "cohort = 'foundin'\n",
    "dx = 'PD'\n",
    "set_name = f'{cohort}_{day}_{modality}'\n",
    "\n",
    "# directories\n",
    "wrk_dir = '/home/jupyter/foundin_qtl'\n",
    "results_dir = f'{wrk_dir}/results'\n",
    "figures_dir = f'{wrk_dir}/figures'\n",
    "\n",
    "# input files\n",
    "coloc_casuals_files = f'{results_dir}/{set_name}_{dx}.casuals.pp.parquet'\n",
    "\n",
    "# output files\n",
    "figure_file = f'{figures_dir}/{set_name}.{feature_name}.png'\n",
    "\n",
    "# variables\n",
    "DEBUG = False\n",
    "dpi_value = 100"
   ]
  },
  {
   "cell_type": "markdown",
   "metadata": {},
   "source": [
    "### load input data"
   ]
  },
  {
   "cell_type": "code",
   "execution_count": null,
   "metadata": {},
   "outputs": [],
   "source": [
    "results_df = read_parquet(coloc_casuals_files)\n",
    "print(f'full results shape {results_df.shape}')\n",
    "if DEBUG:\n",
    "    display(results_df.head())"
   ]
  },
  {
   "cell_type": "markdown",
   "metadata": {},
   "source": [
    "#### subset results for specified feature"
   ]
  },
  {
   "cell_type": "code",
   "execution_count": null,
   "metadata": {},
   "outputs": [],
   "source": [
    "if 'MarkerName' in results_df.columns:\n",
    "    feature_results_df = results_df.loc[results_df.MarkerName.str.startswith(f'{feature}:')]\n",
    "elif 'trait' in results_df.columns:\n",
    "    feature_results_df = results_df.loc[results_df.trait == feature]\n",
    "    # rename p-values columns for plotting later\n",
    "    feature_results_df = feature_results_df.rename(columns={'p_value': 'p_value_risk', 'pvalue': 'p_value_qtl'})\n",
    "else:\n",
    "    print('results type for QTL is not tensorQTL or Metal+')\n",
    "print(f'{feature} results shape {feature_results_df.shape}')\n",
    "# get region\n",
    "chrom = feature_results_df.chromosome[0]\n",
    "start = feature_results_df.base_pair_location.min()\n",
    "end = feature_results_df.base_pair_location.max()\n",
    "print(f'feature {feature} region {chrom} from {start} to {end}')\n",
    "if DEBUG:\n",
    "    display(feature_results_df.head())"
   ]
  },
  {
   "cell_type": "code",
   "execution_count": null,
   "metadata": {},
   "outputs": [],
   "source": [
    "print(results_df.columns.values)"
   ]
  },
  {
   "cell_type": "markdown",
   "metadata": {},
   "source": [
    "#### now do the plotting"
   ]
  },
  {
   "cell_type": "code",
   "execution_count": null,
   "metadata": {},
   "outputs": [],
   "source": [
    "from seaborn import scatterplot\n",
    "#plot local manhattan for feature qtl\n",
    "def plot_manhattan(df: DataFrame, name: str, chrom: str, signal: str):\n",
    "    with rc_context({'figure.figsize': (12, 9), 'figure.dpi': dpi_value}):\n",
    "        plt.style.use('seaborn-bright') \n",
    "        scatterplot(x='base_pair_location',y=signal, data=df)        \n",
    "\n",
    "        plt.title(f'{name} qtl', fontsize='large') \n",
    "        plt.xlabel(f'Bp on chromosome {chrom}')\n",
    "        plt.ylabel(f'logABF')    \n",
    "        plt.show()"
   ]
  },
  {
   "cell_type": "code",
   "execution_count": null,
   "metadata": {},
   "outputs": [],
   "source": [
    "plot_manhattan(feature_results_df, feature_name, chrom, 'logABF_qtl')"
   ]
  },
  {
   "cell_type": "code",
   "execution_count": null,
   "metadata": {},
   "outputs": [],
   "source": [
    "plot_manhattan(feature_results_df, feature_name, chrom, 'logABF_risk')"
   ]
  },
  {
   "cell_type": "code",
   "execution_count": null,
   "metadata": {},
   "outputs": [],
   "source": [
    "#plot local manhattan for feature QTL\n",
    "def plot_gwas_qtl(df: DataFrame, name: str, chrom: str):\n",
    "    #now actually do the plotting\n",
    "    with rc_context({'figure.figsize': (12, 9), 'figure.dpi': dpi_value}):\n",
    "        plt.style.use('seaborn-bright') \n",
    "        relplot(x=np.log10(df['p_value_risk'])*-1, \n",
    "                y=np.log10(df['p_value_qtl'])*-1, \n",
    "                alpha=.5, data=df)         \n",
    "\n",
    "        plt.title(f'PD risk and {name} QTL', fontsize='large')\n",
    "        plt.xlabel('PD GWAS risk -log10(p-value)')\n",
    "        plt.ylabel(f'{name} QTL -log10(p-value)')\n",
    "        plt.show()\n",
    "\n",
    "        relplot(x='logABF_risk', \n",
    "                    y='logABF_qtl', \n",
    "                    alpha=.5, data=df)         \n",
    "\n",
    "        plt.title(f'PD risk and {name} QTL', fontsize='large')\n",
    "        plt.xlabel('PD GWAS logABF')\n",
    "        plt.ylabel(f'{name} QTL logABF')\n",
    "        plt.show() \n",
    "\n",
    "        lmplot(x='logABF_risk', \n",
    "                y='logABF_qtl', data=df)\n",
    "        plt.title(f'PD risk and {name} QTL', fontsize='large')\n",
    "        plt.xlabel('PD GWAS logABF')\n",
    "        plt.ylabel(f'{name} QTL logABF')\n",
    "        plt.savefig(figure_file, dpi=dpi_value, bbox_inches='tight', \n",
    "                    transparent=True, pad_inches=1)        \n",
    "        plt.show()        \n",
    "        return"
   ]
  },
  {
   "cell_type": "code",
   "execution_count": null,
   "metadata": {},
   "outputs": [],
   "source": [
    "plot_gwas_qtl(feature_results_df, feature_name, chrom)"
   ]
  },
  {
   "cell_type": "code",
   "execution_count": null,
   "metadata": {},
   "outputs": [],
   "source": [
    "this_formula = 'p_value_risk ~ p_value_qtl'\n",
    "reg_model = smf.ols(this_formula, data=feature_results_df).fit()\n",
    "print(reg_model.summary())"
   ]
  },
  {
   "cell_type": "code",
   "execution_count": null,
   "metadata": {},
   "outputs": [],
   "source": [
    "this_formula = 'logABF_risk ~ logABF_qtl'\n",
    "reg_model = smf.ols(this_formula, data=feature_results_df).fit()\n",
    "print(reg_model.summary())"
   ]
  },
  {
   "cell_type": "code",
   "execution_count": null,
   "metadata": {},
   "outputs": [],
   "source": [
    "!date"
   ]
  },
  {
   "cell_type": "code",
   "execution_count": null,
   "metadata": {},
   "outputs": [],
   "source": []
  }
 ],
 "metadata": {
  "environment": {
   "kernel": "python3",
   "name": "pytorch-gpu.1-12.m102",
   "type": "gcloud",
   "uri": "gcr.io/deeplearning-platform-release/pytorch-gpu.1-12:m102"
  },
  "kernelspec": {
   "display_name": "Python 3 (ipykernel)",
   "language": "python",
   "name": "python3"
  },
  "language_info": {
   "codemirror_mode": {
    "name": "ipython",
    "version": 3
   },
   "file_extension": ".py",
   "mimetype": "text/x-python",
   "name": "python",
   "nbconvert_exporter": "python",
   "pygments_lexer": "ipython3",
   "version": "3.7.12"
  },
  "widgets": {
   "application/vnd.jupyter.widget-state+json": {
    "state": {},
    "version_major": 2,
    "version_minor": 0
   }
  }
 },
 "nbformat": 4,
 "nbformat_minor": 4
}
