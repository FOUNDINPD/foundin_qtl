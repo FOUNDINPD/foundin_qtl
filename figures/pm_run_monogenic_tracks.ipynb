{
 "cells": [
  {
   "cell_type": "markdown",
   "id": "1d8f6fde-58a3-4424-8049-f72b04dcddf7",
   "metadata": {},
   "source": [
    "## Notebook to run the monogenic gene's tracks figure generator per specified gene and region"
   ]
  },
  {
   "cell_type": "code",
   "execution_count": null,
   "id": "aa48eacc-f52f-428c-92b7-a7b193d5dad3",
   "metadata": {},
   "outputs": [],
   "source": [
    "!date"
   ]
  },
  {
   "cell_type": "markdown",
   "id": "dd7759e7-61ee-4d7e-bdb5-b8dedecff1a7",
   "metadata": {},
   "source": [
    "#### import libraries and set notebook variables"
   ]
  },
  {
   "cell_type": "code",
   "execution_count": null,
   "id": "edd363ce-d894-4a1a-9f1b-416a02ab5ebb",
   "metadata": {},
   "outputs": [],
   "source": [
    "from papermill import execute_notebook"
   ]
  },
  {
   "cell_type": "code",
   "execution_count": null,
   "id": "706099d3-174e-473b-abc2-9e95fe9f87a9",
   "metadata": {},
   "outputs": [],
   "source": [
    "# directories\n",
    "home_dir = '/home/gibbsr/working/foundin/foundin_qtl/figures'\n",
    "\n",
    "# base notebook to be run per tuple iteration\n",
    "base_notebook = f'{home_dir}/monogenic_tracks.ipynb'\n",
    "\n",
    "# output path for the generated notebooks\n",
    "out_nb_dir = f'{home_dir}/pm_gend_nbs'\n",
    "\n",
    "# setup parameters to iterate\n",
    "iterations = [\n",
    "    {'gene': 'GBA1', 'gene_id': 'ENSG00000177628.15', 'chrom': 1, 'start_bp': 155184452, 'stop_bp': 155344699},\n",
    "    {'gene': 'SNCA', 'gene_id': 'ENSG00000145335.15', 'chrom': 4, 'start_bp': 89650345, 'stop_bp': 89938315},\n",
    "    {'gene': 'LRRK2', 'gene_id': 'ENSG00000188906.15', 'chrom': 12, 'start_bp': 40096744, 'stop_bp': 40419285},\n",
    "    {'gene': 'GCH1', 'gene_id': 'ENSG00000131979.18', 'chrom': 14, 'start_bp': 54792008, 'stop_bp': 55002826},    \n",
    "    {'gene': 'VPS13C', 'gene_id': 'ENSG00000129003.17', 'chrom': 15, 'start_bp': 61802389, 'stop_bp': 62160473},\n",
    "    {'gene': 'VPS35', 'gene_id': 'ENSG00000069329.17', 'chrom': 16, 'start_bp': 46606132, 'stop_bp': 46789518},\n",
    "    {'gene': 'ALDH1A1', 'gene_id': 'ENSG00000165092.12', 'chrom': 9, 'start_bp': 72850671, 'stop_bp': 73180442},\n",
    "    {'gene': 'DAGLB', 'gene_id': 'ENSG00000164535.14', 'chrom': 7, 'start_bp': 6359126, 'stop_bp': 6584190}\n",
    "]"
   ]
  },
  {
   "cell_type": "markdown",
   "id": "6da05932-d273-4d9a-aff3-b7ed9be91736",
   "metadata": {},
   "source": [
    "#### run the notebook iterations"
   ]
  },
  {
   "cell_type": "code",
   "execution_count": null,
   "id": "a85c3eb1-b64f-41bb-86ce-a2248be6241e",
   "metadata": {},
   "outputs": [],
   "source": [
    "%%time\n",
    "\n",
    "for iteration in iterations:\n",
    "    gene = iteration.get('gene')\n",
    "    gene_id = iteration.get('gene_id')\n",
    "    chrom = iteration.get('chrom')\n",
    "    start_bp = iteration.get('start_bp')\n",
    "    stop_bp = iteration.get('stop_bp')    \n",
    "    param_dict = {'gene': gene, 'gene_id': gene_id, 'chrom': chrom, \n",
    "                  'start_bp': start_bp, 'stop_bp': stop_bp}\n",
    "    out_notebook = f'{out_nb_dir}/foundin_{gene}.monogenic_tracks.ipynb'            \n",
    "    print(param_dict)\n",
    "    print(out_notebook)\n",
    "    try:    \n",
    "        execute_notebook(input_path=base_notebook, output_path=out_notebook, \n",
    "                         parameters=param_dict)\n",
    "    except:\n",
    "        print(f'{day}_{modality}_{index_variant} encountered an error continuing on next')"
   ]
  },
  {
   "cell_type": "code",
   "execution_count": null,
   "id": "fb7fc951-ce00-42fb-92c3-9b1f92d790c4",
   "metadata": {},
   "outputs": [],
   "source": [
    "!date"
   ]
  }
 ],
 "metadata": {
  "environment": {
   "kernel": "python3",
   "name": "pytorch-gpu.1-12.m102",
   "type": "gcloud",
   "uri": "gcr.io/deeplearning-platform-release/pytorch-gpu.1-12:m102"
  },
  "kernelspec": {
   "display_name": "Python 3 (ipykernel)",
   "language": "python",
   "name": "python3"
  },
  "language_info": {
   "codemirror_mode": {
    "name": "ipython",
    "version": 3
   },
   "file_extension": ".py",
   "mimetype": "text/x-python",
   "name": "python",
   "nbconvert_exporter": "python",
   "pygments_lexer": "ipython3",
   "version": "3.12.2"
  }
 },
 "nbformat": 4,
 "nbformat_minor": 5
}
