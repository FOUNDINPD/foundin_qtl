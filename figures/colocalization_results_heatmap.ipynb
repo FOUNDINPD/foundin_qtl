{
 "cells": [
  {
   "cell_type": "markdown",
   "id": "c4ca983a-3eb2-4508-aa49-999141cb9073",
   "metadata": {},
   "source": [
    "## Notebook to visualize colocalization results as a heatmap"
   ]
  },
  {
   "cell_type": "code",
   "execution_count": null,
   "id": "7e23eeed-8c1d-41a9-a291-5d7324e7f1ef",
   "metadata": {},
   "outputs": [],
   "source": [
    "!date"
   ]
  },
  {
   "cell_type": "markdown",
   "id": "cb52daf5-2923-4cf4-8d1f-9d750759688d",
   "metadata": {},
   "source": [
    "#### import libraries"
   ]
  },
  {
   "cell_type": "code",
   "execution_count": null,
   "id": "483c0b6a-3846-4705-a936-4dd33998d8fc",
   "metadata": {},
   "outputs": [],
   "source": [
    "from pandas import read_csv, concat, pivot, read_pickle\n",
    "import matplotlib.pyplot as plt\n",
    "from matplotlib.pyplot import rc_context\n",
    "from seaborn import heatmap\n",
    "from os.path import exists\n",
    "from math import ceil\n",
    "import numpy as np\n",
    "\n",
    "%matplotlib inline\n",
    "# for white background of figures (only for docs rendering)\n",
    "%config InlineBackend.print_figure_kwargs={'facecolor' : \"w\"}\n",
    "%config InlineBackend.figure_format='retina'"
   ]
  },
  {
   "cell_type": "markdown",
   "id": "bfd3fed0-8368-47ad-8cac-06b65e738ddf",
   "metadata": {},
   "source": [
    "#### set notebook variables"
   ]
  },
  {
   "cell_type": "code",
   "execution_count": null,
   "id": "aa02a574-a086-4ac1-8ac8-497d44a92768",
   "metadata": {},
   "outputs": [],
   "source": [
    "# naming\n",
    "cohort = 'foundin'\n",
    "dx = 'PD'\n",
    "\n",
    "# directories\n",
    "wrk_dir = '/home/jupyter/foundin_qtl'\n",
    "results_dir = f'{wrk_dir}/results'\n",
    "figures_dir = f'{wrk_dir}/figures'\n",
    "quants_dir = f'{wrk_dir}/quants'\n",
    "public_dir = f'{wrk_dir}/public'\n",
    "\n",
    "# out files\n",
    "figure_file = f'{figures_dir}/{cohort}.colocalization.{dx}.png'\n",
    "rnab_features_file = f'{public_dir}/gencode_v29.lncipedia_v5_2_hc.annotation.pkl'\n",
    "pdui_features_file = f'{quants_dir}/{cohort}_PDUI.features.csv'\n",
    "\n",
    "# variables\n",
    "DEBUG = False\n",
    "days = ['da0', 'da25', 'da65', 'daNA']\n",
    "# modalities = ['ATAC', 'METH', 'PDUI', 'RNAB', 'RNAS', 'SCRN-DA', 'SCRN-ElC', \n",
    "#               'SCRN-eNP', 'SCRN-iDA', 'SCRN-lNP', 'SCRN-NlC', 'SCRN-PFPP']\n",
    "modalities = ['PDUI', 'RNAB', 'RNAS', 'SCRN-DA', 'SCRN-ElC', \n",
    "              'SCRN-eNP', 'SCRN-iDA', 'SCRN-lNP', 'SCRN-NlC', 'SCRN-PFPP', \n",
    "              'Bryois-Astro', 'Bryois-Endo', 'Bryois-ExN', 'Bryois-InN', \n",
    "              'Bryois-Micro', 'Bryois-OPC', 'Bryois-Oligo', 'Bryois-Peri']\n",
    "dpi_value = 100\n",
    "min_h4 = 0.05"
   ]
  },
  {
   "cell_type": "markdown",
   "id": "24110779-56b4-4180-bde1-3e597d52d39e",
   "metadata": {},
   "source": [
    "### for each day and modality load the colocalization results"
   ]
  },
  {
   "cell_type": "code",
   "execution_count": null,
   "id": "803ddb2b-68ce-4cbc-bfbd-fe60fe7684fa",
   "metadata": {},
   "outputs": [],
   "source": [
    "coloc_df = None\n",
    "for day in days:\n",
    "    for modality in modalities:\n",
    "        print(day, modality, end=':')\n",
    "        in_file = f'{results_dir}/{cohort}_{day}_{modality}_{dx}.coloc.pp.csv'\n",
    "        if exists(in_file):\n",
    "            this_df = read_csv(in_file)\n",
    "            print(f'loaded {this_df.shape[0]} results')\n",
    "            # add day and modality\n",
    "            this_df['day'] = day\n",
    "            this_df['modality'] = modality\n",
    "            coloc_df = concat([coloc_df, this_df])\n",
    "print(f'\\ntotal results loaded {coloc_df.shape[0]}')\n",
    "if DEBUG:\n",
    "    display(coloc_df.sample(5))\n",
    "    display(coloc_df.day.value_counts())\n",
    "    display(coloc_df.modality.value_counts())        "
   ]
  },
  {
   "cell_type": "markdown",
   "id": "50fcb0b2-444b-403b-861e-594ab8d242f7",
   "metadata": {},
   "source": [
    "### load needed feature information"
   ]
  },
  {
   "cell_type": "markdown",
   "id": "dd52d989-931a-4493-817e-763b7c93fb80",
   "metadata": {},
   "source": [
    "#### load RNAB features\n",
    "RNAB features use Ensembl IDs need to map to gene names"
   ]
  },
  {
   "cell_type": "code",
   "execution_count": null,
   "id": "4d3e0346-188a-4cbb-80c8-ddea2aa6f249",
   "metadata": {},
   "outputs": [],
   "source": [
    "%%time\n",
    "annots_df = read_pickle(rnab_features_file)\n",
    "print(f'annotations shape: {annots_df.shape}')\n",
    "\n",
    "if DEBUG:\n",
    "    display(annots_df.head())"
   ]
  },
  {
   "cell_type": "markdown",
   "id": "62bf6911-fb51-46cd-b126-ab89b59b9d20",
   "metadata": {},
   "source": [
    "##### deference feature IDs to features names"
   ]
  },
  {
   "cell_type": "code",
   "execution_count": null,
   "id": "81c1e801-b443-448e-af4f-4ef9b5858f5e",
   "metadata": {
    "tags": []
   },
   "outputs": [],
   "source": [
    "feature_annots = annots_df.loc[annots_df.gene_id.isin(coloc_df.feature)]\n",
    "feature_annots = feature_annots[['gene_id', 'gene_name']]\n",
    "feature_annots.drop_duplicates(inplace=True)\n",
    "features_dict = feature_annots.set_index('gene_id').to_dict()['gene_name']\n",
    "if DEBUG:\n",
    "    display(features_dict)"
   ]
  },
  {
   "cell_type": "markdown",
   "id": "8a471576-47fd-4c89-a511-7b9a7d824135",
   "metadata": {},
   "source": [
    "#### replace the RNAB features"
   ]
  },
  {
   "cell_type": "code",
   "execution_count": null,
   "id": "1429dee9-4f38-41ba-93d6-dfced41bffcc",
   "metadata": {},
   "outputs": [],
   "source": [
    "coloc_df.feature.replace(features_dict, inplace=True)\n",
    "print(f'update df shape {coloc_df.shape}')\n",
    "if DEBUG:\n",
    "    display(coloc_df.loc[coloc_df.modality == 'RNAB'].head())"
   ]
  },
  {
   "cell_type": "markdown",
   "id": "644a9e27-5747-42c8-ad08-fb6c0099d773",
   "metadata": {},
   "source": [
    "#### load PDUI features"
   ]
  },
  {
   "cell_type": "code",
   "execution_count": null,
   "id": "5d8c1411-b3ef-4222-a298-132249803527",
   "metadata": {},
   "outputs": [],
   "source": [
    "%%time\n",
    "annots_df = read_csv(pdui_features_file)\n",
    "print(f'annotations shape: {annots_df.shape}')\n",
    "\n",
    "if DEBUG:\n",
    "    display(annots_df.head())"
   ]
  },
  {
   "cell_type": "markdown",
   "id": "727bc41e-15f1-4d20-afe1-bab0b610d039",
   "metadata": {},
   "source": [
    "##### deference feature IDs to features names"
   ]
  },
  {
   "cell_type": "code",
   "execution_count": null,
   "id": "1dc9be02-5711-4aa4-8566-f027197cb095",
   "metadata": {},
   "outputs": [],
   "source": [
    "feature_annots = annots_df.loc[annots_df.Loci.isin(coloc_df.feature)]\n",
    "feature_annots = feature_annots[['Loci', 'Gene']]\n",
    "# some genes have multiple PDUI features, append to handle\n",
    "multi_features = feature_annots.duplicated(subset=['Gene'], keep=False)\n",
    "feature_annots.loc[multi_features, 'Gene'] = feature_annots.Gene + ':' + feature_annots.Loci\n",
    "# feature_annots.drop_duplicates(inplace=True)\n",
    "features_dict = feature_annots.set_index('Loci').to_dict()['Gene']\n",
    "if DEBUG:\n",
    "    display(features_dict)"
   ]
  },
  {
   "cell_type": "markdown",
   "id": "1d9cdb5f-3487-47ae-8c03-88b6631e9012",
   "metadata": {},
   "source": [
    "#### replace the PDUI features"
   ]
  },
  {
   "cell_type": "code",
   "execution_count": null,
   "id": "3b758879-103f-4c49-a22c-11c143f9be79",
   "metadata": {},
   "outputs": [],
   "source": [
    "coloc_df.feature.replace(features_dict, inplace=True)\n",
    "print(f'update df shape {coloc_df.shape}')\n",
    "if DEBUG:\n",
    "    display(coloc_df.loc[coloc_df.modality == 'PDUI'].head())"
   ]
  },
  {
   "cell_type": "markdown",
   "id": "1eeef666-468f-4720-bffa-d633d4f35648",
   "metadata": {},
   "source": [
    "### subset based on the minimum H4 variable"
   ]
  },
  {
   "cell_type": "code",
   "execution_count": null,
   "id": "554b875f-cf41-47f1-889a-3c4b51b57f0f",
   "metadata": {},
   "outputs": [],
   "source": [
    "coloc_df = coloc_df.loc[coloc_df.H4 > min_h4]\n",
    "print(f'results shape after filter on H4 {coloc_df.shape}')\n",
    "if DEBUG:\n",
    "    display(coloc_df.head())"
   ]
  },
  {
   "cell_type": "markdown",
   "id": "4c60b1ef-798c-4f82-9410-f30cff19b9ad",
   "metadata": {},
   "source": [
    "### reshape the dataframe from long to wide"
   ]
  },
  {
   "cell_type": "code",
   "execution_count": null,
   "id": "606ba723-6e23-4788-90dd-2de27799feae",
   "metadata": {},
   "outputs": [],
   "source": [
    "# drop the cols we don't need\n",
    "temp_df = coloc_df.drop(columns=['H0', 'H1', 'H2', 'H3', 'h4_supported'])\n",
    "# sort not sure if this will help may have to set order in plotting explicityly\n",
    "temp_df = temp_df.sort_values(by=['modality', 'day'])\n",
    "# want day/modality combo's so combine\n",
    "temp_df['day_modality'] = temp_df.day + '-' + temp_df.modality\n",
    "# wcoloc_df = pivot(temp_df, index='feature', columns='day_modality', values='H4')\n",
    "wcoloc_df = pivot(temp_df, index='feature', columns=['day', 'modality'], values='H4')\n",
    "# set precision\n",
    "wcoloc_df = wcoloc_df.round(2)\n",
    "#replace all zeros with NaN values\n",
    "wcoloc_df.replace(0, np.nan, inplace=True)\n",
    "# drop rows that are all null\n",
    "wcoloc_df.dropna(how='all', inplace=True)\n",
    "# sort by foundin DA neuron results\n",
    "wcoloc_df = wcoloc_df.sort_values(by=[('da65', 'SCRN-DA'), ('da65', 'SCRN-iDA'), \n",
    "                                      ('da65', 'RNAB'), ('da65', 'PDUI')], ascending=False)\n",
    "print(f'shape of wide reformated results {wcoloc_df.shape}')\n",
    "if DEBUG:\n",
    "    display(wcoloc_df)"
   ]
  },
  {
   "cell_type": "markdown",
   "id": "78e1a18e-abd8-4524-8d87-e01e94a5b57e",
   "metadata": {},
   "source": [
    "### visualize the reformated data as a heatmap"
   ]
  },
  {
   "cell_type": "code",
   "execution_count": null,
   "id": "d925e4f3-d28f-404e-b667-f6131a15563f",
   "metadata": {},
   "outputs": [],
   "source": [
    "\n",
    "if wcoloc_df.shape[0] > 9:\n",
    "    height = 9+ceil(wcoloc_df.shape[0]/6)\n",
    "else:\n",
    "    height = 9\n",
    "print(dx, height)        \n",
    "with rc_context({'figure.figsize': (11, height), 'figure.dpi': dpi_value}):\n",
    "    plt.style.use('seaborn-bright')    \n",
    "    heatmap(wcoloc_df, annot=True, linecolor='grey',\n",
    "            annot_kws={\"fontsize\":10}, linewidths=0.05, cmap='Blues')    \n",
    "    plt.title(f'Colocalization H4 for {dx} and QTL')\n",
    "    plt.savefig(figure_file, dpi=dpi_value, bbox_inches='tight', \n",
    "                transparent=True, pad_inches=1)\n",
    "    plt.show()"
   ]
  },
  {
   "cell_type": "code",
   "execution_count": null,
   "id": "a7248e52-d30e-4062-b44d-a3119853e00e",
   "metadata": {},
   "outputs": [],
   "source": [
    "!date"
   ]
  }
 ],
 "metadata": {
  "environment": {
   "kernel": "python3",
   "name": "pytorch-gpu.1-12.m102",
   "type": "gcloud",
   "uri": "gcr.io/deeplearning-platform-release/pytorch-gpu.1-12:m102"
  },
  "kernelspec": {
   "display_name": "Python 3 (ipykernel)",
   "language": "python",
   "name": "python3"
  },
  "language_info": {
   "codemirror_mode": {
    "name": "ipython",
    "version": 3
   },
   "file_extension": ".py",
   "mimetype": "text/x-python",
   "name": "python",
   "nbconvert_exporter": "python",
   "pygments_lexer": "ipython3",
   "version": "3.7.12"
  }
 },
 "nbformat": 4,
 "nbformat_minor": 5
}
