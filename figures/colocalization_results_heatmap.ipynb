{
 "cells": [
  {
   "cell_type": "markdown",
   "id": "c4ca983a-3eb2-4508-aa49-999141cb9073",
   "metadata": {},
   "source": [
    "## Notebook to visualize colocalization results as a heatmap"
   ]
  },
  {
   "cell_type": "code",
   "execution_count": null,
   "id": "7e23eeed-8c1d-41a9-a291-5d7324e7f1ef",
   "metadata": {},
   "outputs": [],
   "source": [
    "!date"
   ]
  },
  {
   "cell_type": "markdown",
   "id": "cb52daf5-2923-4cf4-8d1f-9d750759688d",
   "metadata": {},
   "source": [
    "#### import libraries"
   ]
  },
  {
   "cell_type": "code",
   "execution_count": null,
   "id": "483c0b6a-3846-4705-a936-4dd33998d8fc",
   "metadata": {},
   "outputs": [],
   "source": [
    "from pandas import read_csv, concat, pivot\n",
    "import matplotlib.pyplot as plt\n",
    "from matplotlib.pyplot import rc_context\n",
    "from seaborn import heatmap\n",
    "from os.path import exists\n",
    "from math import ceil\n",
    "import numpy as np\n",
    "\n",
    "%matplotlib inline\n",
    "# for white background of figures (only for docs rendering)\n",
    "%config InlineBackend.print_figure_kwargs={'facecolor' : \"w\"}\n",
    "%config InlineBackend.figure_format='retina'"
   ]
  },
  {
   "cell_type": "markdown",
   "id": "bfd3fed0-8368-47ad-8cac-06b65e738ddf",
   "metadata": {},
   "source": [
    "#### set notebook variables"
   ]
  },
  {
   "cell_type": "code",
   "execution_count": null,
   "id": "aa02a574-a086-4ac1-8ac8-497d44a92768",
   "metadata": {},
   "outputs": [],
   "source": [
    "# naming\n",
    "cohort = 'foundin'\n",
    "\n",
    "# directories\n",
    "wrk_dir = '/home/gibbsr/working/foundin/foundin_qtl'\n",
    "results_dir = f'{wrk_dir}/results'\n",
    "figures_dir = f'{wrk_dir}/figures'\n",
    "\n",
    "# out files\n",
    "figure_file = f'{figures_dir}/{cohort}.colocalization.{dx}.png'\n",
    "# rnab_features_file = ''\n",
    "# pdui_features_file = \n",
    "\n",
    "# variables\n",
    "DEBUG = True\n",
    "days = ['da0', 'da25', 'da65']\n",
    "modalities = ['ATAC', 'METH', 'PDUI', 'RNAB', 'RNAS', 'SCRN-DA', 'SCRN-ElC', \n",
    "              'SCRN-eNP', 'SCRN-iDA', 'SCRN-lNP', 'SCRN-NlC', 'SCRN-PFPP']\n",
    "dx = 'PD'\n",
    "dpi_value = 100"
   ]
  },
  {
   "cell_type": "markdown",
   "id": "24110779-56b4-4180-bde1-3e597d52d39e",
   "metadata": {},
   "source": [
    "### for each day and modality load the colocalization results"
   ]
  },
  {
   "cell_type": "code",
   "execution_count": null,
   "id": "803ddb2b-68ce-4cbc-bfbd-fe60fe7684fa",
   "metadata": {},
   "outputs": [],
   "source": [
    "coloc_df = None\n",
    "for day in days:\n",
    "    for modality in modalities:\n",
    "        print(day, modality, end=':')\n",
    "        in_file = f'{results_dir}/{cohort}_{day}_{modality}_{dx}.coloc.pp.csv'\n",
    "        if exists(in_file):\n",
    "            this_df = read_csv(in_file)\n",
    "            print(f'loaded {this_df.shape[0]} results')\n",
    "            # add day and modality\n",
    "            this_df['day'] = day\n",
    "            this_df['modality'] = modality\n",
    "            coloc_df = concat([coloc_df, this_df])\n",
    "print(f'\\ntotal results loaded {coloc_df.shape[0]}')\n",
    "if DEBUG:\n",
    "    display(coloc_df.sample(5))\n",
    "    display(coloc_df.day.value_counts())\n",
    "    display(coloc_df.modality.value_counts())        "
   ]
  },
  {
   "cell_type": "markdown",
   "id": "4c60b1ef-798c-4f82-9410-f30cff19b9ad",
   "metadata": {},
   "source": [
    "### reshape the dataframe from long to wide"
   ]
  },
  {
   "cell_type": "code",
   "execution_count": null,
   "id": "606ba723-6e23-4788-90dd-2de27799feae",
   "metadata": {},
   "outputs": [],
   "source": [
    "# drop the cols we don't need\n",
    "temp_df = coloc_df.drop(columns=['H0', 'H1', 'H2', 'H3', 'h4_supported'])\n",
    "# sort not sure if this will help may have to set order in plotting explicityly\n",
    "temp_df = temp_df.sort_values(by=['modality', 'day'])\n",
    "# want day/modality combo's so combine\n",
    "temp_df['day_modality'] = temp_df.day + '-' + temp_df.modality\n",
    "# wcoloc_df = pivot(temp_df, index='feature', columns='day_modality', values='H4')\n",
    "wcoloc_df = pivot(temp_df, index='feature', columns=['day', 'modality'], values='H4')\n",
    "# set precision\n",
    "wcoloc_df = wcoloc_df.round(2)\n",
    "#replace all zeros with NaN values\n",
    "wcoloc_df.replace(0, np.nan, inplace=True)\n",
    "# drop rows that are all null\n",
    "wcoloc_df.dropna(how='all', inplace=True)\n",
    "print(f'shape of wide reformated results {wcoloc_df.shape}')\n",
    "if DEBUG:\n",
    "    display(wcoloc_df)"
   ]
  },
  {
   "cell_type": "markdown",
   "id": "78e1a18e-abd8-4524-8d87-e01e94a5b57e",
   "metadata": {},
   "source": [
    "### visualize the reformated data as a heatmap"
   ]
  },
  {
   "cell_type": "code",
   "execution_count": null,
   "id": "d925e4f3-d28f-404e-b667-f6131a15563f",
   "metadata": {},
   "outputs": [],
   "source": [
    "\n",
    "if wcoloc_df.shape[0] > 9:\n",
    "    height = 9+ceil(wcoloc_df.shape[0]/6)\n",
    "else:\n",
    "    height = 9\n",
    "print(dx, height)        \n",
    "with rc_context({'figure.figsize': (9, height), 'figure.dpi': dpi_value}):\n",
    "    plt.style.use('seaborn-bright')    \n",
    "    heatmap(wcoloc_df, annot=True, linecolor='grey',\n",
    "            annot_kws={\"fontsize\":10}, linewidths=0.05, cmap='Blues')    \n",
    "    plt.title(f'Colocalization H4 for {dx} and QTL')\n",
    "    plt.savefig(figure_file, dpi=dpi_value, bbox_inches='tight', \n",
    "                transparent=True, pad_inches=1)\n",
    "    plt.show()"
   ]
  },
  {
   "cell_type": "code",
   "execution_count": null,
   "id": "a7248e52-d30e-4062-b44d-a3119853e00e",
   "metadata": {},
   "outputs": [],
   "source": [
    "!date"
   ]
  }
 ],
 "metadata": {
  "environment": {
   "kernel": "python3",
   "name": "pytorch-gpu.1-11.m94",
   "type": "gcloud",
   "uri": "gcr.io/deeplearning-platform-release/pytorch-gpu.1-11:m94"
  },
  "kernelspec": {
   "display_name": "Python 3 (ipykernel)",
   "language": "python",
   "name": "python3"
  },
  "language_info": {
   "codemirror_mode": {
    "name": "ipython",
    "version": 3
   },
   "file_extension": ".py",
   "mimetype": "text/x-python",
   "name": "python",
   "nbconvert_exporter": "python",
   "pygments_lexer": "ipython3",
   "version": "3.9.15"
  }
 },
 "nbformat": 4,
 "nbformat_minor": 5
}
