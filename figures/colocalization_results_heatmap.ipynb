{
 "cells": [
  {
   "cell_type": "markdown",
   "id": "c4ca983a-3eb2-4508-aa49-999141cb9073",
   "metadata": {},
   "source": [
    "## Notebook to visualize colocalization results as a heatmap"
   ]
  },
  {
   "cell_type": "code",
   "execution_count": null,
   "id": "7e23eeed-8c1d-41a9-a291-5d7324e7f1ef",
   "metadata": {},
   "outputs": [],
   "source": [
    "!date"
   ]
  },
  {
   "cell_type": "markdown",
   "id": "cb52daf5-2923-4cf4-8d1f-9d750759688d",
   "metadata": {},
   "source": [
    "#### import libraries"
   ]
  },
  {
   "cell_type": "code",
   "execution_count": null,
   "id": "483c0b6a-3846-4705-a936-4dd33998d8fc",
   "metadata": {},
   "outputs": [],
   "source": [
    "from pandas import read_csv, concat, pivot, read_pickle\n",
    "from pandas.errors import EmptyDataError\n",
    "import matplotlib.pyplot as plt\n",
    "from matplotlib.pyplot import rc_context\n",
    "from seaborn import heatmap\n",
    "from os.path import exists\n",
    "from math import ceil\n",
    "import numpy as np\n",
    "\n",
    "%matplotlib inline\n",
    "# for white background of figures (only for docs rendering)\n",
    "%config InlineBackend.print_figure_kwargs={'facecolor' : \"w\"}\n",
    "%config InlineBackend.figure_format='retina'"
   ]
  },
  {
   "cell_type": "markdown",
   "id": "bfd3fed0-8368-47ad-8cac-06b65e738ddf",
   "metadata": {},
   "source": [
    "#### set notebook variables"
   ]
  },
  {
   "cell_type": "code",
   "execution_count": null,
   "id": "aa02a574-a086-4ac1-8ac8-497d44a92768",
   "metadata": {},
   "outputs": [],
   "source": [
    "# naming\n",
    "cohort = 'foundin'\n",
    "dx = 'PD'\n",
    "\n",
    "# directories\n",
    "wrk_dir = '/labshare/raph/datasets/foundin_qtl'\n",
    "results_dir = f'{wrk_dir}/results'\n",
    "figures_dir = f'{wrk_dir}/figures'\n",
    "quants_dir = f'{wrk_dir}/quants'\n",
    "public_dir = f'{wrk_dir}/public'\n",
    "\n",
    "# in file\n",
    "rnab_features_file = f'{public_dir}/gencode_v29.lncipedia_v5_2_hc.annotation.pkl'\n",
    "pdui_features_file = f'{quants_dir}/{cohort}_PDUI.features.csv'\n",
    "\n",
    "# out files\n",
    "figure_file = f'{figures_dir}/{cohort}.colocalization.{dx}.png'\n",
    "\n",
    "# variables\n",
    "DEBUG = False\n",
    "days = ['da0', 'da25', 'da65', 'daNA', 'D52']\n",
    "modalities = ['PDUI', 'RNAB', 'RNAS', 'CIRC', 'SCRN-DA', 'SCRN-ElC', \n",
    "              'SCRN-eNP', 'SCRN-iDA', 'SCRN-lNP', 'SCRN-NlC', 'SCRN-PFPP', \n",
    "              'PDUI-DA', 'PDUI-iDA',\n",
    "              'Bryois-Astro', 'Bryois-Endo', 'Bryois-ExN', 'Bryois-InN', \n",
    "              'Bryois-Micro', 'Bryois-OPC', 'Bryois-Oligo', 'Bryois-Peri', \n",
    "              'Bulk-meta', 'DAn-meta', 'MetaBrain-basalganglia', \n",
    "              'MetaBrain-cerebellum', 'MetaBrain-cortex', \n",
    "              'MetaBrain-hippocampus', 'MetaBrain-spinalcord', \n",
    "              'hipsci-DA', 'hipsci-pseudobulk']\n",
    "dpi_value = 100\n",
    "min_h4 = 0.5"
   ]
  },
  {
   "cell_type": "markdown",
   "id": "24110779-56b4-4180-bde1-3e597d52d39e",
   "metadata": {},
   "source": [
    "### for each day and modality load the colocalization results"
   ]
  },
  {
   "cell_type": "code",
   "execution_count": null,
   "id": "803ddb2b-68ce-4cbc-bfbd-fe60fe7684fa",
   "metadata": {},
   "outputs": [],
   "source": [
    "coloc_df = None\n",
    "for day in days:\n",
    "    for modality in modalities:\n",
    "        print(day, modality, end=':')\n",
    "        in_file = f'{results_dir}/{cohort}_{day}_{modality}_{dx}.coloc.pp.csv'\n",
    "        if exists(in_file):\n",
    "            try:\n",
    "                this_df = read_csv(in_file)\n",
    "            except EmptyDataError:\n",
    "                print(f'empty file for {in_file}')\n",
    "                continue\n",
    "            print(f'loaded {this_df.shape[0]} results')\n",
    "            # add day and modality\n",
    "            this_df['day'] = day\n",
    "            this_df['modality'] = modality\n",
    "            coloc_df = concat([coloc_df, this_df])\n",
    "print(f'\\ntotal results loaded {coloc_df.shape[0]}')\n",
    "if DEBUG:\n",
    "    display(coloc_df.sample(5))\n",
    "    display(coloc_df.day.value_counts())\n",
    "    display(coloc_df.modality.value_counts())        "
   ]
  },
  {
   "cell_type": "markdown",
   "id": "50fcb0b2-444b-403b-861e-594ab8d242f7",
   "metadata": {},
   "source": [
    "### load needed feature information"
   ]
  },
  {
   "cell_type": "markdown",
   "id": "dd52d989-931a-4493-817e-763b7c93fb80",
   "metadata": {},
   "source": [
    "#### load RNAB features\n",
    "RNAB features use Ensembl IDs need to map to gene names"
   ]
  },
  {
   "cell_type": "code",
   "execution_count": null,
   "id": "4d3e0346-188a-4cbb-80c8-ddea2aa6f249",
   "metadata": {},
   "outputs": [],
   "source": [
    "%%time\n",
    "annots_df = read_pickle(rnab_features_file)\n",
    "print(f'annotations shape: {annots_df.shape}')\n",
    "\n",
    "if DEBUG:\n",
    "    display(annots_df.head())"
   ]
  },
  {
   "cell_type": "markdown",
   "id": "62bf6911-fb51-46cd-b126-ab89b59b9d20",
   "metadata": {},
   "source": [
    "##### deference feature IDs to features names"
   ]
  },
  {
   "cell_type": "code",
   "execution_count": null,
   "id": "81c1e801-b443-448e-af4f-4ef9b5858f5e",
   "metadata": {
    "tags": []
   },
   "outputs": [],
   "source": [
    "feature_annots = annots_df.loc[annots_df.gene_id.isin(coloc_df.feature)].copy()\n",
    "feature_annots = feature_annots[['gene_id', 'gene_name']]\n",
    "feature_annots = feature_annots.drop_duplicates()\n",
    "features_dict = feature_annots.set_index('gene_id').to_dict()['gene_name']\n",
    "if DEBUG:\n",
    "    display(features_dict)"
   ]
  },
  {
   "cell_type": "markdown",
   "id": "8a471576-47fd-4c89-a511-7b9a7d824135",
   "metadata": {},
   "source": [
    "#### replace the RNAB features"
   ]
  },
  {
   "cell_type": "code",
   "execution_count": null,
   "id": "1429dee9-4f38-41ba-93d6-dfced41bffcc",
   "metadata": {},
   "outputs": [],
   "source": [
    "coloc_df = coloc_df.feature.replace(features_dict)\n",
    "print(f'update df shape {coloc_df.shape}')\n",
    "if DEBUG:\n",
    "    display(coloc_df.loc[coloc_df.modality == 'RNAB'].head())"
   ]
  },
  {
   "cell_type": "markdown",
   "id": "c0b8b831-843e-47c5-b7a7-5a586f7525a2",
   "metadata": {},
   "source": [
    "### replace the HipSci DA and pseudobulk features\n",
    "they used unversioned Ensembl IDs"
   ]
  },
  {
   "cell_type": "code",
   "execution_count": null,
   "id": "f3f0fc83-aca3-4712-846e-fe322ab1a251",
   "metadata": {},
   "outputs": [],
   "source": [
    "annots_df.columns"
   ]
  },
  {
   "cell_type": "code",
   "execution_count": null,
   "id": "62866090-5b0c-4f6d-852e-bdcde00e8896",
   "metadata": {},
   "outputs": [],
   "source": [
    "temp_df = annots_df.gene_id.str.split('.', expand=True)\n",
    "annots_df['other_gene_id'] = temp_df[0]\n",
    "feature_annots = annots_df.loc[annots_df.other_gene_id.isin(coloc_df.feature)].copy()\n",
    "features_dict = feature_annots.set_index('other_gene_id').to_dict()['gene_name']\n",
    "coloc_df.feature.replace(features_dict, inplace=True)\n",
    "print(f'update df shape {coloc_df.shape}')\n",
    "if DEBUG:\n",
    "    display(features_dict)\n",
    "    display(coloc_df.loc[coloc_df.modality == 'hipsci-DA'].head())    "
   ]
  },
  {
   "cell_type": "markdown",
   "id": "644a9e27-5747-42c8-ad08-fb6c0099d773",
   "metadata": {},
   "source": [
    "#### load PDUI features"
   ]
  },
  {
   "cell_type": "code",
   "execution_count": null,
   "id": "5d8c1411-b3ef-4222-a298-132249803527",
   "metadata": {},
   "outputs": [],
   "source": [
    "%%time\n",
    "annots_df = read_csv(pdui_features_file)\n",
    "print(f'annotations shape: {annots_df.shape}')\n",
    "\n",
    "if DEBUG:\n",
    "    display(annots_df.head())"
   ]
  },
  {
   "cell_type": "markdown",
   "id": "727bc41e-15f1-4d20-afe1-bab0b610d039",
   "metadata": {},
   "source": [
    "##### deference feature IDs to features names"
   ]
  },
  {
   "cell_type": "code",
   "execution_count": null,
   "id": "1dc9be02-5711-4aa4-8566-f027197cb095",
   "metadata": {},
   "outputs": [],
   "source": [
    "feature_annots = annots_df.loc[annots_df.Loci.isin(coloc_df.feature)]\n",
    "feature_annots = feature_annots[['Loci', 'Gene']]\n",
    "# some genes have multiple PDUI features, append to handle\n",
    "multi_features = feature_annots.duplicated(subset=['Gene'], keep=False)\n",
    "feature_annots.loc[multi_features, 'Gene'] = feature_annots.Gene + ':' + feature_annots.Loci\n",
    "# feature_annots.drop_duplicates(inplace=True)\n",
    "features_dict = feature_annots.set_index('Loci').to_dict()['Gene']\n",
    "if DEBUG:\n",
    "    display(features_dict)"
   ]
  },
  {
   "cell_type": "markdown",
   "id": "1d9cdb5f-3487-47ae-8c03-88b6631e9012",
   "metadata": {},
   "source": [
    "#### replace the PDUI features"
   ]
  },
  {
   "cell_type": "code",
   "execution_count": null,
   "id": "3b758879-103f-4c49-a22c-11c143f9be79",
   "metadata": {},
   "outputs": [],
   "source": [
    "coloc_df.feature.replace(features_dict, inplace=True)\n",
    "print(f'update df shape {coloc_df.shape}')\n",
    "if DEBUG:\n",
    "    display(coloc_df.loc[coloc_df.modality == 'PDUI'].head())"
   ]
  },
  {
   "cell_type": "markdown",
   "id": "1eeef666-468f-4720-bffa-d633d4f35648",
   "metadata": {},
   "source": [
    "### subset based on the minimum H4 variable"
   ]
  },
  {
   "cell_type": "code",
   "execution_count": null,
   "id": "554b875f-cf41-47f1-889a-3c4b51b57f0f",
   "metadata": {},
   "outputs": [],
   "source": [
    "temp = coloc_df.loc[coloc_df.H4 > min_h4]\n",
    "print(f'{temp.feature.nunique()} traits will be used')\n",
    "coloc_df = coloc_df.loc[coloc_df.feature.isin(temp.feature)]\n",
    "print(f'results shape after filter on H4 {coloc_df.shape}')\n",
    "if DEBUG:\n",
    "    display(coloc_df.head())"
   ]
  },
  {
   "cell_type": "markdown",
   "id": "4c60b1ef-798c-4f82-9410-f30cff19b9ad",
   "metadata": {},
   "source": [
    "### reshape the dataframe from long to wide"
   ]
  },
  {
   "cell_type": "code",
   "execution_count": null,
   "id": "606ba723-6e23-4788-90dd-2de27799feae",
   "metadata": {},
   "outputs": [],
   "source": [
    "# drop the cols we don't need\n",
    "temp_df = coloc_df.drop(columns=['H0', 'H1', 'H2', 'H3', 'h4_supported'])\n",
    "# sort not sure if this will help may have to set order in plotting explicityly\n",
    "temp_df = temp_df.sort_values(by=['modality', 'day'])\n",
    "# want day/modality combo's so combine\n",
    "temp_df['day_modality'] = temp_df.day + '-' + temp_df.modality\n",
    "# wcoloc_df = pivot(temp_df, index='feature', columns='day_modality', values='H4')\n",
    "wcoloc_df = pivot(temp_df, index='feature', columns=['day', 'modality'], values='H4')\n",
    "# set precision\n",
    "wcoloc_df = wcoloc_df.round(2)\n",
    "#replace all zeros with NaN values\n",
    "wcoloc_df.replace(0, np.nan, inplace=True)\n",
    "# drop rows that are all null\n",
    "wcoloc_df.dropna(how='all', inplace=True)\n",
    "# # sort by foundin DA neuron results\n",
    "# wcoloc_df = wcoloc_df.sort_values(by=[('daNA', 'DAn-meta'), ('da65', 'SCRN-DA'), \n",
    "#                                       ('da65', 'SCRN-iDA'), \n",
    "#                                       ('daNA', 'Bulk-meta'), ('da65', 'RNAB'), \n",
    "#                                       ('da65', 'PDUI'),\n",
    "#                                       ('daNA', 'Bryois-ExN'), ('daNA', 'Bryois-InN'), \n",
    "#                                       ('daNA', 'Bryois-Micro'), ('daNA', 'Bryois-Astro'), \n",
    "#                                       ('daNA', 'Bryois-Oligo')], ascending=False)\n",
    "print(f'shape of wide reformated results {wcoloc_df.shape}')\n",
    "if DEBUG:\n",
    "    display(wcoloc_df)"
   ]
  },
  {
   "cell_type": "markdown",
   "id": "78e1a18e-abd8-4524-8d87-e01e94a5b57e",
   "metadata": {},
   "source": [
    "### visualize the reformated data as a heatmap"
   ]
  },
  {
   "cell_type": "code",
   "execution_count": null,
   "id": "0aeb882a-e67b-4797-95db-91376ed80321",
   "metadata": {},
   "outputs": [],
   "source": [
    "out_col_order = [\n",
    "    ('daNA', 'Bryois-Astro'), ('daNA', 'Bryois-Endo'), \n",
    "    ('daNA', 'Bryois-ExN'), ('daNA', 'Bryois-InN'), \n",
    "    ('daNA', 'Bryois-Micro'), ('daNA', 'Bryois-OPC'),\n",
    "    ('daNA', 'Bryois-Oligo'), ('daNA', 'Bryois-Peri'),    \n",
    "    ('daNA', 'MetaBrain-basalganglia'), \n",
    "    ('daNA', 'MetaBrain-cerebellum'), ('daNA', 'MetaBrain-cortex'), \n",
    "    ('daNA', 'MetaBrain-hippocampus'), ('daNA', 'MetaBrain-spinalcord'), \n",
    "    ('D52', 'hipsci-pseudobulk'), ('D52', 'hipsci-DA'),\n",
    "    ('daNA', 'Bulk-meta'), ('daNA', 'DAn-meta'), \n",
    "    ('da65', 'SCRN-DA'), ('da65', 'SCRN-ElC'), ('da65', 'SCRN-NlC'),\n",
    "    ('da65', 'SCRN-PFPP'), ('da65', 'SCRN-eNP'), ('da65', 'SCRN-iDA'), \n",
    "    ('da65', 'SCRN-lNP'), ('da65', 'PDUI-DA'),\n",
    "    ('da0', 'PDUI'), ('da25', 'PDUI'), ('da65', 'PDUI'),\n",
    "    ( 'da0', 'RNAB'), ('da25', 'RNAB'), ('da65', 'RNAB')\n",
    "]"
   ]
  },
  {
   "cell_type": "code",
   "execution_count": null,
   "id": "d925e4f3-d28f-404e-b667-f6131a15563f",
   "metadata": {},
   "outputs": [],
   "source": [
    "wcoloc_df = wcoloc_df[out_col_order]\n",
    "if wcoloc_df.shape[0] > 9:\n",
    "    height = 9+ceil(wcoloc_df.shape[0]/6)\n",
    "else:\n",
    "    height = 9\n",
    "print(dx, height)        \n",
    "with rc_context({'figure.figsize': (11, height), 'figure.dpi': dpi_value}):\n",
    "    plt.style.use('seaborn-v0_8-bright')    \n",
    "    heatmap(wcoloc_df, annot=True, linecolor='grey',\n",
    "            annot_kws={\"fontsize\":8}, linewidths=0.05, cmap='Blues')    \n",
    "    plt.title(f'Colocalization H4 for {dx} and QTL')\n",
    "    plt.savefig(figure_file, dpi=dpi_value, bbox_inches='tight', \n",
    "                transparent=True, pad_inches=1)\n",
    "    plt.show()"
   ]
  },
  {
   "cell_type": "markdown",
   "id": "845ab705-0ac8-4646-bfc9-c1abb5e22373",
   "metadata": {},
   "source": [
    "### visualize colocalization heatmap by modality and sorted"
   ]
  },
  {
   "cell_type": "code",
   "execution_count": null,
   "id": "559ea80a-a52e-49e4-adf9-3e41e9f07ecf",
   "metadata": {},
   "outputs": [],
   "source": [
    "oi_modalities = [('daNA', 'DAn-meta'), ('daNA', 'Bulk-meta'), \n",
    "                 ('da65', 'PDUI'), ('D52', 'hipsci-DA'),\n",
    "                 ('daNA', 'Bryois-ExN'), ('daNA', 'Bryois-InN'), \n",
    "                 ('daNA', 'Bryois-Micro'), ('daNA', 'Bryois-Astro'), \n",
    "                 ('daNA', 'Bryois-Oligo')]\n",
    "for modality in oi_modalities:\n",
    "    print(modality[1])\n",
    "    temp_df = wcoloc_df.loc[wcoloc_df[modality] > min_h4].sort_values(modality, ascending=False)\n",
    "    # sort by foundin DA neuron results\n",
    "    temp_df = temp_df.sort_values(by=[modality], ascending=False)\n",
    "    print(f'{temp_df.shape}')\n",
    "    sub_figure_file = f'{figures_dir}/{cohort}.colocalization.{dx}.{modality[1]}.png'\n",
    "    with rc_context({'figure.figsize': (11, 11), 'figure.dpi': dpi_value}):\n",
    "        plt.style.use('seaborn-v0_8-bright')    \n",
    "        heatmap(temp_df, annot=True, linecolor='grey',\n",
    "                annot_kws={\"fontsize\":6}, linewidths=0.05, cmap='Blues')\n",
    "        plt.yticks(rotation=0)\n",
    "        plt.title(f'Colocalization H4 for {dx} and QTL in {modality}')\n",
    "        plt.savefig(sub_figure_file, dpi=dpi_value, bbox_inches='tight', \n",
    "                    transparent=True, pad_inches=1)\n",
    "        plt.show()    "
   ]
  },
  {
   "cell_type": "markdown",
   "id": "0b88c083-4226-4acd-8ddb-8b1fe0891bc3",
   "metadata": {},
   "source": [
    "### print features with above threshold H4 by modalities of interest"
   ]
  },
  {
   "cell_type": "code",
   "execution_count": null,
   "id": "bacb06f0-ca53-4657-af83-d252e7ab68a8",
   "metadata": {},
   "outputs": [],
   "source": [
    "oi_modalities = [('daNA', 'DAn-meta'), ('daNA', 'Bulk-meta'), \n",
    "                 ('da65', 'PDUI'), ('da65', 'PDUI-DA'),\n",
    "                 ('daNA', 'Bryois-ExN'), ('daNA', 'Bryois-InN'), \n",
    "                 ('daNA', 'Bryois-Micro'), ('daNA', 'Bryois-Astro'), \n",
    "                 ('daNA', 'Bryois-Oligo'), ('daNA', 'MetaBrain-basalganglia'), \n",
    "              ('daNA', 'MetaBrain-cerebellum'), ('daNA', 'MetaBrain-cortex'), \n",
    "              ('daNA', 'MetaBrain-hippocampus'), ('daNA', 'MetaBrain-spinalcord'), \n",
    "                 ('D52', 'hipsci-DA'), ('D52', 'hipsci-pseudobulk')]\n",
    "for modality in oi_modalities:\n",
    "    print(modality)\n",
    "    temp = wcoloc_df.loc[wcoloc_df[modality] > min_h4].sort_values(modality, ascending=False)\n",
    "    print(temp.index)\n",
    "    display(temp[modality])"
   ]
  },
  {
   "cell_type": "code",
   "execution_count": null,
   "id": "a7248e52-d30e-4062-b44d-a3119853e00e",
   "metadata": {},
   "outputs": [],
   "source": [
    "!date"
   ]
  }
 ],
 "metadata": {
  "environment": {
   "kernel": "python3",
   "name": "pytorch-gpu.1-12.m102",
   "type": "gcloud",
   "uri": "gcr.io/deeplearning-platform-release/pytorch-gpu.1-12:m102"
  },
  "kernelspec": {
   "display_name": "Python 3 (ipykernel)",
   "language": "python",
   "name": "python3"
  },
  "language_info": {
   "codemirror_mode": {
    "name": "ipython",
    "version": 3
   },
   "file_extension": ".py",
   "mimetype": "text/x-python",
   "name": "python",
   "nbconvert_exporter": "python",
   "pygments_lexer": "ipython3",
   "version": "3.12.2"
  }
 },
 "nbformat": 4,
 "nbformat_minor": 5
}
