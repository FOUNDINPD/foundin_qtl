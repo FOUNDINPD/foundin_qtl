{
 "cells": [
  {
   "cell_type": "markdown",
   "id": "6ed21567-bf9e-4d22-b5ed-8ab8264d9e44",
   "metadata": {},
   "source": [
    "## Notebook to update the public Jerber et al eQTL results with dbSNP IDs and hg38 positions\n",
    "\n",
    "Jerber J, Seaton DD, Cuomo ASE et al. Population-scale single-cell RNA-seq profiling across dopaminergic neuron differentiation. Nat Genet 2021;53:304–12.\n",
    "https://pubmed.ncbi.nlm.nih.gov/33664506/\n",
    "\n",
    "[Data Access](https://zenodo.org/record/4333872#.YEEjEZNKhdA)"
   ]
  },
  {
   "cell_type": "code",
   "execution_count": 1,
   "id": "68542d10-d182-4d48-98af-f9f3213b7fca",
   "metadata": {},
   "outputs": [
    {
     "name": "stdout",
     "output_type": "stream",
     "text": [
      "Tue Jan  3 23:10:44 UTC 2023\n"
     ]
    }
   ],
   "source": [
    "!date"
   ]
  },
  {
   "cell_type": "markdown",
   "id": "a7def588-3007-4281-b326-98452932e915",
   "metadata": {},
   "source": [
    "#### import libraries"
   ]
  },
  {
   "cell_type": "code",
   "execution_count": 2,
   "id": "fed1ce4a-960c-4b83-8e6f-9e22c0516cec",
   "metadata": {},
   "outputs": [],
   "source": [
    "from pandas import read_csv, DataFrame, concat\n",
    "from os import makedirs\n",
    "import concurrent.futures\n",
    "from dask.dataframe import read_csv as dask_read_csv"
   ]
  },
  {
   "cell_type": "markdown",
   "id": "6bdcc1b2-8dd9-4df8-9f4b-f02dd4bd73ba",
   "metadata": {},
   "source": [
    "#### set notebook variables"
   ]
  },
  {
   "cell_type": "code",
   "execution_count": 3,
   "id": "d8097edc-286a-4af5-b967-42bbafe67e23",
   "metadata": {},
   "outputs": [],
   "source": [
    "# naming\n",
    "\n",
    "# directories\n",
    "wrk_dir = '/home/jupyter/foundin_qtl'\n",
    "public_dir = f'{wrk_dir}/public'\n",
    "\n",
    "# in files\n",
    "da_qtl_file = f'{public_dir}/jerber_da_neuron_eqtl/eqtl_summary_stats_renamed/D52.DA.untreated.qtl_results_all.sorted.txt.gz'\n",
    "pb_qtl_file = f'{public_dir}/jerber_da_neuron_eqtl/eqtl_summary_stats_renamed/D52.pseudobulk.untreated.qtl_results_all.sorted.txt.gz'\n",
    "\n",
    "# out files\n",
    "da_out_file = f'{public_dir}/jerber_da_neuron_eqtl/hipsci_D52_DA.untreated.qtl_results_all.hg38.parquet'\n",
    "pb_out_file = f'{public_dir}/jerber_da_neuron_eqtl/hipsci_D52_pseudobulk.untreated.qtl_results_all.hg38.parquet'\n",
    "\n",
    "# variables\n",
    "DEBUG = False\n",
    "autosomes = [str(x) for x in list(range(1,23))]"
   ]
  },
  {
   "cell_type": "markdown",
   "id": "200c5e10-53fb-4895-922c-6c9d6b71a99e",
   "metadata": {},
   "source": [
    "#### functions"
   ]
  },
  {
   "cell_type": "code",
   "execution_count": 4,
   "id": "0399a60b-77b4-40fa-9546-f7bb1e266cb4",
   "metadata": {},
   "outputs": [],
   "source": [
    "def run_bash_cmd(cmd: str):\n",
    "    !{cmd}\n",
    "\n",
    "#funciton to pull down the UCSC dbSNP files\n",
    "def pull_ucsc_dbsnp_files(version_build_name: str, chrs_list: list, \n",
    "                          out_dir: str, threaded: bool=False, verbose: bool=False):\n",
    "    snp_bed_url = f'ftp://ftp.ncbi.nih.gov/snp/organisms/{version_build_name}/BED/'\n",
    "    with concurrent.futures.ProcessPoolExecutor() as ppe:\n",
    "        for chrom in chrs_list:\n",
    "            this_chr_snp_bed = f'bed_chr_{chrom}.bed.gz'\n",
    "            snp_bed_file = snp_bed_url + this_chr_snp_bed\n",
    "            this_cmd = f'curl --silent -L {snp_bed_file} --output {out_dir}/{this_chr_snp_bed}'\n",
    "            if verbose:\n",
    "                print(this_cmd)\n",
    "            if threaded:\n",
    "                ppe.submit(run_bash_cmd, this_cmd)\n",
    "            else:\n",
    "                run_bash_cmd(this_cmd)\n",
    "                \n",
    "def load_hg19_dbsnp_chrom_subset(chrom: str, variants: set) -> DataFrame:\n",
    "    in_file = f'{public_dir}/dbsnp_hg19/bed_chr_{chrom}.bed.gz'\n",
    "    dbsnp_df = read_csv(in_file, skiprows=1, header=None, sep='\\t', usecols=[0, 2, 3])\n",
    "    dbsnp_df.columns = ['chrom', 'position', 'id']\n",
    "    # go ahead and subset chrom before making posID column\n",
    "    dbsnp_df = dbsnp_df.loc[dbsnp_df.chrom == f'chr{chrom}']\n",
    "    dbsnp_df['posID'] = dbsnp_df.chrom.astype('str') + ':' + dbsnp_df.position.astype('str')\n",
    "    if DEBUG:\n",
    "        print(f'chr{chrom} dbSNP reference shape {dbsnp_df.shape}')\n",
    "    # subset to just variants of interest\n",
    "    dbsnp_df = dbsnp_df.loc[dbsnp_df.posID.isin(variants)]\n",
    "    if DEBUG:\n",
    "        print(f'chr{chrom} kept dbSNP reference shape {dbsnp_df.shape}')    \n",
    "    return dbsnp_df\n",
    "\n",
    "def load_hg38_dbsnp_chrom_subset(chrom: str, variants: set) -> DataFrame:\n",
    "    in_file = f'{public_dir}/dbsnp_hg38/bed_chr_{chrom}.bed.gz'\n",
    "    dbsnp_df = read_csv(in_file, skiprows=1, header=None, sep='\\t', usecols=[0, 2, 3])\n",
    "    dbsnp_df.columns = ['chrom', 'position', 'id']\n",
    "    # go ahead and subset chrom\n",
    "    dbsnp_df = dbsnp_df.loc[dbsnp_df.chrom == f'chr{chrom}']\n",
    "    if DEBUG:\n",
    "        print(f'chr{chrom} dbSNP reference shape {dbsnp_df.shape}')\n",
    "    # subset to just variants of interest\n",
    "    dbsnp_df = dbsnp_df.loc[dbsnp_df.id.isin(variants)]\n",
    "    if DEBUG:\n",
    "        print(f'chr{chrom} kept dbSNP reference shape {dbsnp_df.shape}')    \n",
    "    return dbsnp_df                "
   ]
  },
  {
   "cell_type": "markdown",
   "id": "24fee40b-673e-41a0-bc85-647566e249dd",
   "metadata": {},
   "source": [
    "### load input data"
   ]
  },
  {
   "cell_type": "markdown",
   "id": "ea9850c7-4fea-4746-b16c-6037ba75a206",
   "metadata": {},
   "source": [
    "#### load the eQTL results"
   ]
  },
  {
   "cell_type": "code",
   "execution_count": 5,
   "id": "b777bbf5-5095-462b-a3d5-704400e89384",
   "metadata": {},
   "outputs": [
    {
     "name": "stdout",
     "output_type": "stream",
     "text": [
      "DA eQTL summary stats shape (25586818, 17)\n",
      "pseudobulk eQTL summary stats shape (20288045, 17)\n",
      "CPU times: user 1min 32s, sys: 5.89 s, total: 1min 38s\n",
      "Wall time: 1min 38s\n"
     ]
    }
   ],
   "source": [
    "%%time\n",
    "da_qtl_df = read_csv(da_qtl_file, sep='\\t')\n",
    "print(f'DA eQTL summary stats shape {da_qtl_df.shape}')\n",
    "pb_qtl_df = read_csv(pb_qtl_file, sep='\\t')\n",
    "print(f'pseudobulk eQTL summary stats shape {pb_qtl_df.shape}')\n",
    "\n",
    "if DEBUG:\n",
    "    display(da_qtl_df.sample(5))\n",
    "    display(pb_qtl_df.sample(5))    "
   ]
  },
  {
   "cell_type": "markdown",
   "id": "f2d24fe9-e679-4091-ac9c-c7faf4a806ad",
   "metadata": {},
   "source": [
    "#### need to pull the alleles from the 'snp_id'\n",
    "looks like assessed_allele (assuming effect allele) is 2nd allele from delimited 'snp_id'"
   ]
  },
  {
   "cell_type": "code",
   "execution_count": 6,
   "id": "01300626-6b67-481b-97ff-0096d9259ce3",
   "metadata": {},
   "outputs": [
    {
     "name": "stdout",
     "output_type": "stream",
     "text": [
      "DA eQTL summary stats shape (25586818, 18)\n",
      "pseudobulk eQTL summary stats shape (20288045, 18)\n"
     ]
    }
   ],
   "source": [
    "# DA results\n",
    "variant_info = da_qtl_df.snp_id.str.split('_', expand=True)\n",
    "variant_info.columns = ['chrom', 'position', 'A1', 'A2']\n",
    "da_qtl_df['other_allele'] = variant_info.A1\n",
    "da_qtl_df.rename(columns={'assessed_allele': 'effect_allele'}, inplace=True)\n",
    "print(f'DA eQTL summary stats shape {da_qtl_df.shape}')\n",
    "# pseudobulk results\n",
    "variant_info = pb_qtl_df.snp_id.str.split('_', expand=True)\n",
    "variant_info.columns = ['chrom', 'position', 'A1', 'A2']\n",
    "pb_qtl_df['other_allele'] = variant_info.A1\n",
    "pb_qtl_df.rename(columns={'assessed_allele': 'effect_allele'}, inplace=True)\n",
    "print(f'pseudobulk eQTL summary stats shape {pb_qtl_df.shape}')\n",
    "\n",
    "if DEBUG:\n",
    "    display(da_qtl_df.sample(5))\n",
    "    display(pb_qtl_df.sample(5))   "
   ]
  },
  {
   "cell_type": "code",
   "execution_count": 7,
   "id": "6dc34695-8434-4741-96c5-da5b088fe643",
   "metadata": {},
   "outputs": [
    {
     "name": "stdout",
     "output_type": "stream",
     "text": [
      "number of unique variants in DA results 4936061\n",
      "number of unique variants in pseudobulk results 4416814\n"
     ]
    }
   ],
   "source": [
    "print(f'number of unique variants in DA results {da_qtl_df.snp_id.nunique()}')\n",
    "print(f'number of unique variants in pseudobulk results {pb_qtl_df.snp_id.nunique()}')"
   ]
  },
  {
   "cell_type": "markdown",
   "id": "3d0c435a-f722-474e-a8af-5e64a44a4dfa",
   "metadata": {
    "tags": []
   },
   "source": [
    "#### create posID type in the eQTL results"
   ]
  },
  {
   "cell_type": "code",
   "execution_count": 8,
   "id": "633b165e-91c3-41dc-876f-564066b7282a",
   "metadata": {},
   "outputs": [
    {
     "name": "stdout",
     "output_type": "stream",
     "text": [
      "DA eQTL results shape (25586818, 19)\n",
      "pseudobulk eQTL results shape (20288045, 19)\n",
      "CPU times: user 53.3 s, sys: 65.7 ms, total: 53.4 s\n",
      "Wall time: 53.2 s\n"
     ]
    }
   ],
   "source": [
    "%%time\n",
    "da_qtl_df['posID'] = 'chr' + da_qtl_df.snp_chromosome.astype('str') + ':' + da_qtl_df.snp_position.astype('str')\n",
    "print(f'DA eQTL results shape {da_qtl_df.shape}')\n",
    "pb_qtl_df['posID'] = 'chr' + pb_qtl_df.snp_chromosome.astype('str') + ':' + pb_qtl_df.snp_position.astype('str')\n",
    "print(f'pseudobulk eQTL results shape {pb_qtl_df.shape}')\n",
    "\n",
    "if DEBUG:\n",
    "    display(da_qtl_df.sample(5))\n",
    "    display(pb_qtl_df.sample(5))    "
   ]
  },
  {
   "cell_type": "markdown",
   "id": "b3d57642-8f8a-4b91-ab9a-996385128239",
   "metadata": {},
   "source": [
    "#### get set of unique variants in either results set"
   ]
  },
  {
   "cell_type": "code",
   "execution_count": 9,
   "id": "27a9729b-ee5b-4947-8da4-f7d8c923a78e",
   "metadata": {},
   "outputs": [
    {
     "name": "stdout",
     "output_type": "stream",
     "text": [
      "4964218\n"
     ]
    }
   ],
   "source": [
    "variant_set = set(da_qtl_df.posID) | set(pb_qtl_df.posID)\n",
    "print(len(variant_set))"
   ]
  },
  {
   "cell_type": "markdown",
   "id": "8a72a69b-2a78-4ef4-91b2-c569d4489596",
   "metadata": {},
   "source": [
    "#### pull down the dbSNP annotation files"
   ]
  },
  {
   "cell_type": "code",
   "execution_count": 10,
   "id": "7369b94d-7855-4577-bd0a-2aec452b0e0d",
   "metadata": {},
   "outputs": [
    {
     "name": "stdout",
     "output_type": "stream",
     "text": [
      "CPU times: user 501 ms, sys: 4 s, total: 4.5 s\n",
      "Wall time: 34.3 s\n"
     ]
    }
   ],
   "source": [
    "%%time\n",
    "# pull down hg38 dbSNP b151\n",
    "out_dir = f'{public_dir}/dbsnp_hg38'\n",
    "makedirs(out_dir, exist_ok=True)\n",
    "\n",
    "pull_ucsc_dbsnp_files('human_9606_b151_GRCh38p7', autosomes, out_dir, \n",
    "                      threaded=True, verbose=False)"
   ]
  },
  {
   "cell_type": "code",
   "execution_count": 11,
   "id": "684cb4f1-a073-4ef0-85fe-ea2bc64db6f5",
   "metadata": {},
   "outputs": [
    {
     "name": "stdout",
     "output_type": "stream",
     "text": [
      "CPU times: user 67.9 ms, sys: 4.08 s, total: 4.15 s\n",
      "Wall time: 34 s\n"
     ]
    }
   ],
   "source": [
    "%%time\n",
    "# pull down hg19 dbSNP b151\n",
    "out_dir = f'{public_dir}/dbsnp_hg19'\n",
    "makedirs(out_dir, exist_ok=True)\n",
    "\n",
    "pull_ucsc_dbsnp_files('human_9606_b151_GRCh37p13', autosomes, out_dir, \n",
    "                      threaded=True, verbose=False)"
   ]
  },
  {
   "cell_type": "markdown",
   "id": "ec6fb6b0-40df-479b-80ab-2af02eeccf99",
   "metadata": {},
   "source": [
    "#### load the hg19 dbSNP bed files"
   ]
  },
  {
   "cell_type": "code",
   "execution_count": 12,
   "id": "bf414836-28e1-45ec-9231-4529c7922615",
   "metadata": {},
   "outputs": [
    {
     "name": "stdout",
     "output_type": "stream",
     "text": [
      "dbSNP reference shape (5373579, 4)\n",
      "CPU times: user 24min 56s, sys: 2min 30s, total: 27min 27s\n",
      "Wall time: 20min 50s\n"
     ]
    }
   ],
   "source": [
    "%%time\n",
    "fs_list = []\n",
    "lm_results = []\n",
    "with concurrent.futures.ThreadPoolExecutor() as tpe:\n",
    "    for chrom in autosomes:\n",
    "        fs_list.append(tpe.submit(load_hg19_dbsnp_chrom_subset, chrom, variant_set))\n",
    "for future in concurrent.futures.as_completed(fs_list):\n",
    "    lm_results.append(future.result())\n",
    "\n",
    "# flatten the list\n",
    "dbsnp_df = concat(lm_results)\n",
    "print(f'dbSNP reference shape {dbsnp_df.shape}')\n",
    "if DEBUG:\n",
    "    display(dbsnp_df.sample(5))\n",
    "    display(dbsnp_df.chrom.value_counts())    "
   ]
  },
  {
   "cell_type": "markdown",
   "id": "6de9b53f-925e-4629-8c02-145127cc00a2",
   "metadata": {},
   "source": [
    "#### drop duplicates from dbSNP to avoid creating duplicates and collisions on merge"
   ]
  },
  {
   "cell_type": "code",
   "execution_count": 13,
   "id": "a305332c-25e7-463d-9442-818b522382ce",
   "metadata": {},
   "outputs": [
    {
     "name": "stdout",
     "output_type": "stream",
     "text": [
      "dbSNP reference shape (4963897, 4)\n"
     ]
    }
   ],
   "source": [
    "dbsnp_df = dbsnp_df.drop_duplicates(subset=['posID'], keep='first')\n",
    "print(f'dbSNP reference shape {dbsnp_df.shape}')\n",
    "if DEBUG:\n",
    "    display(dbsnp_df.sample(5))\n",
    "    display(dbsnp_df.chrom.value_counts())  "
   ]
  },
  {
   "cell_type": "markdown",
   "id": "ce0dcc87-41f2-4d29-a1c7-95c48407859d",
   "metadata": {},
   "source": [
    "### annotate dbSNP IDs to eQTL results"
   ]
  },
  {
   "cell_type": "markdown",
   "id": "46bec098-9376-4764-8d27-447b813de024",
   "metadata": {},
   "source": [
    "#### how many of the eQTL variants are not present in dbSNP"
   ]
  },
  {
   "cell_type": "code",
   "execution_count": 14,
   "id": "7a3ea55e-38c1-4ec9-be92-f9d7a5ede8ed",
   "metadata": {},
   "outputs": [
    {
     "name": "stdout",
     "output_type": "stream",
     "text": [
      "count of posID intersect between DA eQTL results and dbSNP ref is 4935740\n",
      "count of posID in DA eQTL results but not in dbSNP ref is 321\n",
      "count of posID intersect between pseudobulk eQTL results and dbSNP ref is 4416525\n",
      "count of posID in pseudobulk eQTL results but not in dbSNP ref is 289\n"
     ]
    }
   ],
   "source": [
    "cnt = len(set(da_qtl_df.posID) & set(dbsnp_df.posID))\n",
    "print(f'count of posID intersect between DA eQTL results and dbSNP ref is {cnt}')\n",
    "missing_cnt = len(set(da_qtl_df.posID) - set(dbsnp_df.posID))\n",
    "print(f'count of posID in DA eQTL results but not in dbSNP ref is {missing_cnt}')\n",
    "\n",
    "cnt = len(set(pb_qtl_df.posID) & set(dbsnp_df.posID))\n",
    "print(f'count of posID intersect between pseudobulk eQTL results and dbSNP ref is {cnt}')\n",
    "missing_cnt = len(set(pb_qtl_df.posID) - set(dbsnp_df.posID))\n",
    "print(f'count of posID in pseudobulk eQTL results but not in dbSNP ref is {missing_cnt}')"
   ]
  },
  {
   "cell_type": "markdown",
   "id": "2c1ae85d-d660-4871-8647-4938a46cfdd0",
   "metadata": {},
   "source": [
    "### merge hg19 dbSNP columns to eQTL results based on posID"
   ]
  },
  {
   "cell_type": "code",
   "execution_count": 15,
   "id": "38181382-0404-4d74-8f56-4af0f275e732",
   "metadata": {},
   "outputs": [
    {
     "name": "stdout",
     "output_type": "stream",
     "text": [
      "DA eQTL results shape (25586818, 22)\n",
      "pseudobulk eQTL results shape (20288045, 22)\n"
     ]
    }
   ],
   "source": [
    "da_qtl_df = da_qtl_df.merge(dbsnp_df, how='left', on='posID')\n",
    "print(f'DA eQTL results shape {da_qtl_df.shape}')\n",
    "pb_qtl_df = pb_qtl_df.merge(dbsnp_df, how='left', on='posID')\n",
    "print(f'pseudobulk eQTL results shape {pb_qtl_df.shape}')\n",
    "\n",
    "if DEBUG:\n",
    "    display(da_qtl_df.head())\n",
    "    display(pb_qtl_df.head())    "
   ]
  },
  {
   "cell_type": "code",
   "execution_count": 16,
   "id": "c8d511a5-7aa4-4130-b0dc-e9f8a2a8af83",
   "metadata": {},
   "outputs": [
    {
     "name": "stdout",
     "output_type": "stream",
     "text": [
      "0.000 fraction of DA eQTL variants without dbSNP IDs\n",
      "0.000 fraction of pseudobulk eQTL variants without dbSNP IDs\n"
     ]
    }
   ],
   "source": [
    "cnt_wo_dbsnp = da_qtl_df.loc[da_qtl_df.id == '.'].shape[0]\n",
    "frac_wo_dbsnp = cnt_wo_dbsnp/da_qtl_df.shape[0]\n",
    "print(f'{frac_wo_dbsnp:.3f} fraction of DA eQTL variants without dbSNP IDs')\n",
    "\n",
    "cnt_wo_dbsnp = pb_qtl_df.loc[pb_qtl_df.id == '.'].shape[0]\n",
    "frac_wo_dbsnp = cnt_wo_dbsnp/pb_qtl_df.shape[0]\n",
    "print(f'{frac_wo_dbsnp:.3f} fraction of pseudobulk eQTL variants without dbSNP IDs')"
   ]
  },
  {
   "cell_type": "markdown",
   "id": "aac49f81-a141-45da-96bd-02b1df376e3e",
   "metadata": {},
   "source": [
    "### annotate eQTL with hg38 variant positions"
   ]
  },
  {
   "cell_type": "markdown",
   "id": "06f23e7f-cc8e-4c01-9fe2-028bc626ccb5",
   "metadata": {},
   "source": [
    "#### since annotating the hg38 positions based on dbSNP IDs drop the ones that don't have a dbSNP IDs"
   ]
  },
  {
   "cell_type": "code",
   "execution_count": 17,
   "id": "d1752282-05fd-46ef-9e7d-9cc8a91f837e",
   "metadata": {},
   "outputs": [
    {
     "name": "stdout",
     "output_type": "stream",
     "text": [
      "DA eQTL results shape (25585607, 22)\n",
      "pseudobulk eQTL results shape (20287181, 22)\n"
     ]
    }
   ],
   "source": [
    "da_qtl_df = da_qtl_df.loc[~da_qtl_df.id.isna()]\n",
    "print(f'DA eQTL results shape {da_qtl_df.shape}')\n",
    "pb_qtl_df = pb_qtl_df.loc[~pb_qtl_df.id.isna()]\n",
    "print(f'pseudobulk eQTL results shape {pb_qtl_df.shape}')\n",
    "\n",
    "if DEBUG:\n",
    "    display(da_qtl_df.head())\n",
    "    display(pb_qtl_df.head())    "
   ]
  },
  {
   "cell_type": "markdown",
   "id": "069b9545-8619-413b-8b8d-d8e7bb27ef77",
   "metadata": {},
   "source": [
    "#### get set of unique variants, based on dbSNP IDs, in either results set"
   ]
  },
  {
   "cell_type": "code",
   "execution_count": 18,
   "id": "0d4f8fa5-42d3-448b-8907-939fe3417668",
   "metadata": {},
   "outputs": [
    {
     "name": "stdout",
     "output_type": "stream",
     "text": [
      "4963897\n"
     ]
    }
   ],
   "source": [
    "variant_ids_set = set(da_qtl_df.id) | set(pb_qtl_df.id)\n",
    "print(len(variant_ids_set))"
   ]
  },
  {
   "cell_type": "markdown",
   "id": "3cd4e47d-f238-47ef-a237-f1e1b6887c99",
   "metadata": {},
   "source": [
    "#### drop the hg19 position columns from the eQTL results before merging on the hg38 ones"
   ]
  },
  {
   "cell_type": "code",
   "execution_count": 19,
   "id": "c4ac3691-dc56-402e-8279-3fd98ff3c04a",
   "metadata": {},
   "outputs": [
    {
     "name": "stdout",
     "output_type": "stream",
     "text": [
      "DA eQTL results shape (25585607, 14)\n",
      "pseudobulk eQTL results shape (20287181, 14)\n"
     ]
    }
   ],
   "source": [
    "cols_to_drop = ['chrom', 'position', 'feature_chromosome', 'feature_start', \n",
    "                'feature_end', 'snp_chromosome', 'snp_position', 'snp_id']\n",
    "da_qtl_df.drop(columns=cols_to_drop, inplace=True)\n",
    "print(f'DA eQTL results shape {da_qtl_df.shape}')\n",
    "pb_qtl_df.drop(columns=cols_to_drop, inplace=True)\n",
    "print(f'pseudobulk eQTL results shape {pb_qtl_df.shape}')\n",
    "\n",
    "if DEBUG:\n",
    "    display(da_qtl_df.head())\n",
    "    display(pb_qtl_df.head())    "
   ]
  },
  {
   "cell_type": "markdown",
   "id": "d4721e36-d455-463f-94c0-a48b0dff2fa3",
   "metadata": {},
   "source": [
    "#### load the hg38 dbSNP bed files"
   ]
  },
  {
   "cell_type": "code",
   "execution_count": 20,
   "id": "d05c8c34-6285-4c17-9331-bf367ff7eed9",
   "metadata": {},
   "outputs": [
    {
     "name": "stdout",
     "output_type": "stream",
     "text": [
      "hg38 dbSNP reference shape (4963301, 3)\n",
      "CPU times: user 16min 24s, sys: 2min 5s, total: 18min 29s\n",
      "Wall time: 11min 59s\n"
     ]
    }
   ],
   "source": [
    "%%time\n",
    "fs_list = []\n",
    "lm_results = []\n",
    "with concurrent.futures.ThreadPoolExecutor() as tpe:\n",
    "    for chrom in autosomes:\n",
    "        fs_list.append(tpe.submit(load_hg38_dbsnp_chrom_subset, chrom, variant_ids_set))\n",
    "for future in concurrent.futures.as_completed(fs_list):\n",
    "    lm_results.append(future.result())\n",
    "\n",
    "# flatten the list\n",
    "dbsnp_df = concat(lm_results)\n",
    "print(f'hg38 dbSNP reference shape {dbsnp_df.shape}')\n",
    "if DEBUG:\n",
    "    display(dbsnp_df.sample(5))\n",
    "    display(dbsnp_df.chrom.value_counts())    "
   ]
  },
  {
   "cell_type": "markdown",
   "id": "c3bdd37f-f746-4942-8d27-c375bc77fd90",
   "metadata": {},
   "source": [
    "#### merge hg38 dbSNP columns to eQTL results based on dbSNP ID"
   ]
  },
  {
   "cell_type": "code",
   "execution_count": 21,
   "id": "da19a862-0fee-400b-a3e1-e5897062feaf",
   "metadata": {},
   "outputs": [
    {
     "name": "stdout",
     "output_type": "stream",
     "text": [
      "DA eQTL results shape (25581562, 16)\n",
      "pseudobulk eQTL results shape (20284100, 16)\n"
     ]
    }
   ],
   "source": [
    "da_qtl_df = da_qtl_df.merge(dbsnp_df, how='inner', on='id')\n",
    "print(f'DA eQTL results shape {da_qtl_df.shape}')\n",
    "pb_qtl_df = pb_qtl_df.merge(dbsnp_df, how='inner', on='id')\n",
    "print(f'pseudobulk eQTL results shape {pb_qtl_df.shape}')\n",
    "\n",
    "if DEBUG:\n",
    "    display(da_qtl_df.head())\n",
    "    display(pb_qtl_df.head())    "
   ]
  },
  {
   "cell_type": "markdown",
   "id": "3f0c5b4b-a40f-41af-a504-953a2bb46c4f",
   "metadata": {},
   "source": [
    "### save the update results"
   ]
  },
  {
   "cell_type": "code",
   "execution_count": 22,
   "id": "68154c72-552b-4779-99e5-edda8e597f4b",
   "metadata": {},
   "outputs": [
    {
     "name": "stdout",
     "output_type": "stream",
     "text": [
      "CPU times: user 24.1 s, sys: 1.95 s, total: 26 s\n",
      "Wall time: 24.6 s\n"
     ]
    }
   ],
   "source": [
    "%%time\n",
    "da_qtl_df.to_parquet(da_out_file)\n",
    "pb_qtl_df.to_parquet(pb_out_file)"
   ]
  },
  {
   "cell_type": "code",
   "execution_count": 23,
   "id": "e39a4885-cd47-48a6-890e-03a42b416e8c",
   "metadata": {},
   "outputs": [
    {
     "name": "stdout",
     "output_type": "stream",
     "text": [
      "Tue Jan  3 23:51:06 UTC 2023\n"
     ]
    }
   ],
   "source": [
    "!date"
   ]
  },
  {
   "cell_type": "code",
   "execution_count": null,
   "id": "ffcc9ffd-b16d-46f1-be4a-98000336401d",
   "metadata": {},
   "outputs": [],
   "source": []
  }
 ],
 "metadata": {
  "environment": {
   "kernel": "python3",
   "name": "pytorch-gpu.1-12.m102",
   "type": "gcloud",
   "uri": "gcr.io/deeplearning-platform-release/pytorch-gpu.1-12:m102"
  },
  "kernelspec": {
   "display_name": "Python 3 (ipykernel)",
   "language": "python",
   "name": "python3"
  },
  "language_info": {
   "codemirror_mode": {
    "name": "ipython",
    "version": 3
   },
   "file_extension": ".py",
   "mimetype": "text/x-python",
   "name": "python",
   "nbconvert_exporter": "python",
   "pygments_lexer": "ipython3",
   "version": "3.7.12"
  }
 },
 "nbformat": 4,
 "nbformat_minor": 5
}
