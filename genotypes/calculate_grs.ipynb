{
 "cells": [
  {
   "cell_type": "markdown",
   "id": "1fc56167",
   "metadata": {},
   "source": [
    "## Notebook for calculating PD GRS \n",
    "assumes genome plink bfile already available (like one formatted for running tensorQTL)"
   ]
  },
  {
   "cell_type": "code",
   "execution_count": null,
   "id": "222c50dc",
   "metadata": {},
   "outputs": [],
   "source": [
    "!date"
   ]
  },
  {
   "cell_type": "markdown",
   "id": "ec718949",
   "metadata": {},
   "source": [
    "#### import libraries"
   ]
  },
  {
   "cell_type": "code",
   "execution_count": null,
   "id": "da5876b3",
   "metadata": {},
   "outputs": [],
   "source": [
    "from pandas import read_csv, read_parquet\n",
    "import concurrent.futures\n",
    "import matplotlib.pyplot as plt\n",
    "from seaborn import boxenplot, stripplot\n",
    "from sklearn.preprocessing import RobustScaler, MinMaxScaler\n",
    "from matplotlib.pyplot import rc_context\n",
    "\n",
    "%matplotlib inline\n",
    "# for white background of figures (only for docs rendering)\n",
    "%config InlineBackend.print_figure_kwargs={'facecolor' : \"w\"}\n",
    "%config InlineBackend.figure_format='retina'"
   ]
  },
  {
   "cell_type": "markdown",
   "id": "d6193599-aab9-4120-9307-a47ba99da62b",
   "metadata": {},
   "source": [
    "#### set notebook variables"
   ]
  },
  {
   "cell_type": "code",
   "execution_count": null,
   "id": "5b113c96",
   "metadata": {},
   "outputs": [],
   "source": [
    "# naming\n",
    "cohort = 'foundin'\n",
    "version = 'amppdv1'\n",
    "cohort_version = f'{cohort}.{version}'\n",
    "\n",
    "# directories\n",
    "wrk_dir = '/labshare/raph/datasets/foundin_qtl'\n",
    "geno_dir = f'{wrk_dir}/genotypes'\n",
    "info_dir = f'{wrk_dir}/sample_info'\n",
    "public_dir = f'{wrk_dir}/public'\n",
    "\n",
    "# input files\n",
    "bfile_prefix_path = f'{geno_dir}/{cohort}.{version}.bfile'\n",
    "# if agreement in place use summary stats that include 23andMe data\n",
    "gwas_sum_stats_file = f'{public_dir}/nalls_pd_gwas/pd_sumstats_23andme_buildGRCh38.tsv.gz'\n",
    "# gwas_sum_stats_file = f'{public_dir}/nalls_pd_gwas/pd_sumstats_no23andme_buildGRCh38.tsv.gz'\n",
    "index_variants_file = f'{public_dir}/nalls_pd_gwas/index_variants.list'  \n",
    "psam_file = f'{geno_dir}/{cohort}.{version}.chr1.psam'\n",
    "coloc_file = f'{wrk_dir}/results/{cohort}_daNA_DAn-meta_PD.casuals.pp.parquet'\n",
    "\n",
    "# output files\n",
    "score_file = f'{geno_dir}/PD_risk_betas.txt'\n",
    "grs_file = f'{geno_dir}/{cohort}_grs'\n",
    "grs_scaled_file = f'{info_dir}/{cohort}_grs_scaled.csv'\n",
    "\n",
    "# constants\n",
    "DEBUG = False\n",
    "dpi_value = 100\n",
    "# add variant to exclude from GRS, set to None is not\n",
    "# drop_variants = ['rs76763715', 'rs34637584']\n",
    "drop_variants = []\n",
    "limit_to_coloc = True"
   ]
  },
  {
   "cell_type": "markdown",
   "id": "d758beff",
   "metadata": {},
   "source": [
    "#### utility functions"
   ]
  },
  {
   "cell_type": "code",
   "execution_count": null,
   "id": "5661caca",
   "metadata": {},
   "outputs": [],
   "source": [
    "# function to run bash command\n",
    "def run_bash_cmd(this_cmd):\n",
    "    !{this_cmd}\n",
    "\n",
    "# function to run a list of bash commands in parallel\n",
    "def run_bash_cmds_parallel(cmd_list):\n",
    "    with concurrent.futures.ProcessPoolExecutor() as ppe:\n",
    "        for this_cmd in cmd_list:\n",
    "            ppe.submit(run_bash_cmd, this_cmd) "
   ]
  },
  {
   "cell_type": "markdown",
   "id": "6137ea45",
   "metadata": {},
   "source": [
    "### create score file from independent risk signals for calculating GRS"
   ]
  },
  {
   "cell_type": "markdown",
   "id": "a0742267-9fb5-4b58-9be8-7fbb7568622f",
   "metadata": {},
   "source": [
    "#### load GWAS results"
   ]
  },
  {
   "cell_type": "code",
   "execution_count": null,
   "id": "ceb5794e-3c47-4a4a-b43d-96baec5e4084",
   "metadata": {},
   "outputs": [],
   "source": [
    "%%time\n",
    "gwas_stats_df = read_csv(gwas_sum_stats_file, sep='\\t')\n",
    "print(gwas_stats_df.shape)\n",
    "\n",
    "if DEBUG:\n",
    "    display(gwas_stats_df.sample(5))"
   ]
  },
  {
   "cell_type": "markdown",
   "id": "a27e02e0-a8d2-4106-bbf8-679817300095",
   "metadata": {},
   "source": [
    "#### read the GWAS index variants"
   ]
  },
  {
   "cell_type": "code",
   "execution_count": null,
   "id": "83c459d3-1d26-41a8-add5-234e20a533b7",
   "metadata": {},
   "outputs": [],
   "source": [
    "%%time\n",
    "variants_oi_df = read_csv(index_variants_file)\n",
    "variants_oi_df = variants_oi_df.loc[~variants_oi_df.variant.isin(drop_variants)]\n",
    "print(variants_oi_df.shape)\n",
    "index_variants = list(variants_oi_df.variant.unique())\n",
    "if DEBUG:\n",
    "    display(variants_oi_df.head())\n",
    "    print(index_variants)"
   ]
  },
  {
   "cell_type": "markdown",
   "id": "6db64da8-6d9f-47e6-bdea-59c1ad7d753f",
   "metadata": {},
   "source": [
    "### if specified limit the index variants to those present in colocalization analysis of DAn-meta\n",
    "where to H4 Prob was at least 50%"
   ]
  },
  {
   "cell_type": "code",
   "execution_count": null,
   "id": "ca9d8e86-158e-405c-bf2e-43e884d89c23",
   "metadata": {},
   "outputs": [],
   "source": [
    "if limit_to_coloc:\n",
    "    coloc_df = read_parquet(coloc_file)\n",
    "    print(f'coloc results shape {coloc_df.shape}')\n",
    "    # subset index variant to those present in coloc results\n",
    "    coloc_df = coloc_df.loc[coloc_df.index.isin(index_variants)]\n",
    "    print(f'coloc subset shape {coloc_df.shape}')    \n",
    "    index_variants = list(coloc_df.index.values)\n",
    "    print(f'subset index_variants length is {len(index_variants)}')\n",
    "    if DEBUG:\n",
    "        display(coloc_df.head())\n",
    "        print(index_variants)"
   ]
  },
  {
   "cell_type": "markdown",
   "id": "795b39d8-8727-4c43-a50c-501d8d4b3669",
   "metadata": {},
   "source": [
    "#### subset index variant stats"
   ]
  },
  {
   "cell_type": "code",
   "execution_count": null,
   "id": "aa90c7db-a402-4c89-af55-769b6f89487f",
   "metadata": {},
   "outputs": [],
   "source": [
    "index_stats_df = gwas_stats_df.loc[gwas_stats_df.variant_id.isin(index_variants)]\n",
    "print(index_stats_df.shape)\n",
    "if DEBUG:\n",
    "    display(index_stats_df.head())"
   ]
  },
  {
   "cell_type": "markdown",
   "id": "1393f75c-e5d1-4465-80a3-4b5c90979e23",
   "metadata": {},
   "source": [
    "#### format and save score file for Plink input"
   ]
  },
  {
   "cell_type": "code",
   "execution_count": null,
   "id": "660b5723-e68d-4e0f-a8bb-ff0a68f2e048",
   "metadata": {},
   "outputs": [],
   "source": [
    "score_df = index_stats_df[['variant_id', 'effect_allele', 'beta']]\n",
    "score_df.to_csv(score_file, header=False, index=False, sep='\\t')\n",
    "print(f'score file shape is {score_df.shape}')\n",
    "if DEBUG:\n",
    "    display(score_df.head())"
   ]
  },
  {
   "cell_type": "markdown",
   "id": "00f8742b",
   "metadata": {},
   "source": [
    "### calculate the GRS for samples\n",
    "\n",
    "use the plink bfiles that were prepped for the <i>cis</i>-QTL analysis using tensorQTL"
   ]
  },
  {
   "cell_type": "code",
   "execution_count": null,
   "id": "8f1a1c65",
   "metadata": {},
   "outputs": [],
   "source": [
    "this_cmd = f'plink2 --bfile {bfile_prefix_path} --score {score_file} 1 2 3 header \\\n",
    "list-variants --silent --out {grs_file}'\n",
    "\n",
    "print(this_cmd)\n",
    "run_bash_cmd(this_cmd)"
   ]
  },
  {
   "cell_type": "code",
   "execution_count": null,
   "id": "28a3fd2b-4b38-4b1d-8324-8ce576f33571",
   "metadata": {},
   "outputs": [],
   "source": [
    "this_cmd = f'tail -n 15 {grs_file}.log'\n",
    "run_bash_cmd(this_cmd)"
   ]
  },
  {
   "cell_type": "markdown",
   "id": "a7bc632c",
   "metadata": {},
   "source": [
    "#### see if any variants weren't used in scoring"
   ]
  },
  {
   "cell_type": "code",
   "execution_count": null,
   "id": "4b79dceb",
   "metadata": {},
   "outputs": [],
   "source": [
    "scored_variants_file = f'{grs_file}.sscore.vars'\n",
    "scored_vars_df = read_csv(scored_variants_file, header=None)\n",
    "scored_vars_df.columns = ['variant']\n",
    "print(scored_vars_df.shape)\n",
    "\n",
    "missing_variants = set(index_variants) - set(scored_vars_df['variant'])\n",
    "\n",
    "display(gwas_stats_df.loc[gwas_stats_df['variant_id'].isin(missing_variants)])"
   ]
  },
  {
   "cell_type": "markdown",
   "id": "7b98254e",
   "metadata": {},
   "source": [
    "### load covariates files"
   ]
  },
  {
   "cell_type": "code",
   "execution_count": null,
   "id": "3bb06102",
   "metadata": {},
   "outputs": [],
   "source": [
    "psam_df = read_csv(psam_file, sep='\\s+')\n",
    "print(psam_df.shape)\n",
    "# rename from AMP-PD prefix PP- to FOUNDIN-PD prefix PPMI\n",
    "psam_df.IID = psam_df.IID.str.replace('PP-', 'PPMI')\n",
    "if DEBUG:\n",
    "    display(psam_df.sample(5))"
   ]
  },
  {
   "cell_type": "markdown",
   "id": "0c208c2e",
   "metadata": {},
   "source": [
    "### load grs scores, take a look at score by DX"
   ]
  },
  {
   "cell_type": "code",
   "execution_count": null,
   "id": "68a4f8c9",
   "metadata": {},
   "outputs": [],
   "source": [
    "#load grs scores, take a look at score by DX\n",
    "scored_samples_file = f'{grs_file}.sscore'\n",
    "scores_df = read_csv(scored_samples_file,sep='\\s+')\n",
    "print(scores_df.shape)\n",
    "scores_df.rename(columns={'SCORE1_AVG': 'GRS', '#IID': 'IID'}, inplace=True)\n",
    "scores_df = scores_df[['IID','GRS']]\n",
    "scores_df = scores_df.merge(psam_df,how='inner',left_on='IID',right_on='IID')\n",
    "scores_df = scores_df.drop_duplicates(subset=['IID'], keep='first')\n",
    "print(scores_df.shape)\n",
    "if DEBUG:\n",
    "    display(scores_df.head())"
   ]
  },
  {
   "cell_type": "code",
   "execution_count": null,
   "id": "ec797123",
   "metadata": {},
   "outputs": [],
   "source": [
    "scores_df['DX'].value_counts()"
   ]
  },
  {
   "cell_type": "markdown",
   "id": "c273eac0",
   "metadata": {},
   "source": [
    "#### plot raw GRS scores"
   ]
  },
  {
   "cell_type": "code",
   "execution_count": null,
   "id": "30e2c2bf",
   "metadata": {},
   "outputs": [],
   "source": [
    "# grouping = 'study_arm'\n",
    "grouping = 'DX'\n",
    "\n",
    "# plot raw GRS scores\n",
    "with rc_context({'figure.figsize': (9, 9), 'figure.dpi': dpi_value}):\n",
    "    plt.style.use('seaborn-v0_8-bright')\n",
    "    boxenplot(x=grouping,y='GRS', width_method='exponential', data=scores_df, \n",
    "              k_depth='trustworthy', color='Purple')\n",
    "\n",
    "    grsplt = stripplot(x=grouping,y='GRS',data=scores_df, alpha=0.75, \n",
    "                       jitter=True, color='darkgrey')\n",
    "    loc, labels = plt.xticks()\n",
    "    grsplt.set_xticklabels(labels, rotation=60)\n",
    "    plt.title('GRS by Group', fontsize='large') \n",
    "    plt.xlabel('Group')\n",
    "    plt.ylabel('raw GRS')\n",
    "    plt.show()"
   ]
  },
  {
   "cell_type": "markdown",
   "id": "a51d803b",
   "metadata": {},
   "source": [
    "#### standardize the GRS sample scores"
   ]
  },
  {
   "cell_type": "code",
   "execution_count": null,
   "id": "1a2e0583",
   "metadata": {},
   "outputs": [],
   "source": [
    "# standardize the GRS sample scores and re-plot\n",
    "#z-score\n",
    "scores_df['zGRS'] =  MinMaxScaler().fit_transform(RobustScaler(quantile_range=(25, 75))\n",
    "                                                  .fit_transform(scores_df[['GRS']]))\n",
    "if DEBUG:\n",
    "    display(scores_df.head())\n",
    "\n",
    "#plot\n",
    "with rc_context({'figure.figsize': (9, 9), 'figure.dpi': dpi_value}):\n",
    "    plt.style.use('seaborn-v0_8-bright')\n",
    "    boxenplot(x=grouping,y='zGRS', width_method='exponential', data=scores_df, \n",
    "              k_depth='trustworthy', color='Purple')\n",
    "\n",
    "    grsplt = stripplot(x=grouping,y='zGRS',data=scores_df, alpha=0.75, \n",
    "                       jitter=True, color='darkgrey')\n",
    "    loc, labels = plt.xticks()\n",
    "    grsplt.set_xticklabels(labels, rotation=60)\n",
    "    plt.title('GRS by Group', fontsize='large') \n",
    "    plt.xlabel('Group')\n",
    "    plt.ylabel('Scaled GRS')\n",
    "    plt.subplots_adjust(wspace=0.3)\n",
    "    plt.show()"
   ]
  },
  {
   "cell_type": "markdown",
   "id": "f7a63e25",
   "metadata": {},
   "source": [
    "#### saved to the scaled GRS file"
   ]
  },
  {
   "cell_type": "code",
   "execution_count": null,
   "id": "6e9b9b38",
   "metadata": {},
   "outputs": [],
   "source": [
    "scores_df['GRS'] = scores_df['zGRS']\n",
    "scores_df[['IID', 'DX', 'GRS']].to_csv(grs_scaled_file, index=False)"
   ]
  },
  {
   "cell_type": "code",
   "execution_count": null,
   "id": "e8af5b44",
   "metadata": {},
   "outputs": [],
   "source": [
    "!date"
   ]
  }
 ],
 "metadata": {
  "environment": {
   "kernel": "python3",
   "name": "pytorch-gpu.1-12.m102",
   "type": "gcloud",
   "uri": "gcr.io/deeplearning-platform-release/pytorch-gpu.1-12:m102"
  },
  "kernelspec": {
   "display_name": "Python 3 (ipykernel)",
   "language": "python",
   "name": "python3"
  },
  "language_info": {
   "codemirror_mode": {
    "name": "ipython",
    "version": 3
   },
   "file_extension": ".py",
   "mimetype": "text/x-python",
   "name": "python",
   "nbconvert_exporter": "python",
   "pygments_lexer": "ipython3",
   "version": "3.12.2"
  },
  "widgets": {
   "application/vnd.jupyter.widget-state+json": {
    "state": {},
    "version_major": 2,
    "version_minor": 0
   }
  }
 },
 "nbformat": 4,
 "nbformat_minor": 5
}
