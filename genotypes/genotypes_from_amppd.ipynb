{
 "cells": [
  {
   "cell_type": "markdown",
   "metadata": {},
   "source": [
    "## Notebook to subset cohort genotype callset from larger parent cohort callset"
   ]
  },
  {
   "cell_type": "markdown",
   "metadata": {},
   "source": [
    "#### import libraries and set notebook variables"
   ]
  },
  {
   "cell_type": "code",
   "execution_count": 1,
   "metadata": {},
   "outputs": [],
   "source": [
    "from pandas import read_csv\n",
    "import threading"
   ]
  },
  {
   "cell_type": "code",
   "execution_count": 7,
   "metadata": {},
   "outputs": [],
   "source": [
    "# naming\n",
    "cohort = 'foundin'\n",
    "build = 'amppdv3'\n",
    "cohort_build = f'{cohort}_{build}'\n",
    "\n",
    "# directories\n",
    "wrk_dir = f'/labshare/raph/datasets/{cohort}'\n",
    "genos_dir = f'{wrk_dir}/genotypes/2022_v3release_1115'\n",
    "info_dir = f'{wrk_dir}/sample_info'\n",
    "\n",
    "# in files\n",
    "sample_list_file = f'{genos_dir}/{cohort}.samples.list'\n",
    "source_pfiles_prefix = '/labshare/raph/datasets/amppd/genotypes/2022_v3release_1115/chr'\n",
    "cohort_psam_file = f'{info_dir}/{cohort_build}.psam'\n",
    "\n",
    "# constants \n",
    "autosomes = [str(x) for x in list(range(1,23))]\n",
    "sexomes = ['X', 'Y']\n",
    "chromosomes = autosomes + sexomes\n",
    "DEBUG = True"
   ]
  },
  {
   "cell_type": "markdown",
   "metadata": {},
   "source": [
    "#### threading related functions"
   ]
  },
  {
   "cell_type": "code",
   "execution_count": 3,
   "metadata": {},
   "outputs": [],
   "source": [
    "#### threading related function\n",
    "\n",
    "# run command line procsss with bash majic\n",
    "# make this a small function so it can be target function for threading\n",
    "def run_bash_cmd(this_cmd):\n",
    "    !{this_cmd}\n",
    "\n",
    "# for each bash command is list add to execution thread, join and wait til all done\n",
    "def run_bash_cmds_threaded(cmd_list):\n",
    "    job_threads = []\n",
    "    for this_cmd in cmd_list:\n",
    "        this_thread = threading.Thread(target=run_bash_cmd, args=(this_cmd,))\n",
    "        job_threads.append(this_thread)\n",
    "        this_thread.start()\n",
    "\n",
    "    for job_thread in job_threads:\n",
    "        job_thread.join()          "
   ]
  },
  {
   "cell_type": "markdown",
   "metadata": {},
   "source": [
    "#### read the original sample ID list, and re-prefix from old LNG to AMPPD"
   ]
  },
  {
   "cell_type": "code",
   "execution_count": 6,
   "metadata": {},
   "outputs": [
    {
     "name": "stdout",
     "output_type": "stream",
     "text": [
      "sample list shape (135, 1)\n"
     ]
    },
    {
     "data": {
      "text/html": [
       "<div>\n",
       "<style scoped>\n",
       "    .dataframe tbody tr th:only-of-type {\n",
       "        vertical-align: middle;\n",
       "    }\n",
       "\n",
       "    .dataframe tbody tr th {\n",
       "        vertical-align: top;\n",
       "    }\n",
       "\n",
       "    .dataframe thead th {\n",
       "        text-align: right;\n",
       "    }\n",
       "</style>\n",
       "<table border=\"1\" class=\"dataframe\">\n",
       "  <thead>\n",
       "    <tr style=\"text-align: right;\">\n",
       "      <th></th>\n",
       "      <th>id</th>\n",
       "    </tr>\n",
       "  </thead>\n",
       "  <tbody>\n",
       "    <tr>\n",
       "      <th>70</th>\n",
       "      <td>PP-50860</td>\n",
       "    </tr>\n",
       "    <tr>\n",
       "      <th>6</th>\n",
       "      <td>PP-3422</td>\n",
       "    </tr>\n",
       "    <tr>\n",
       "      <th>65</th>\n",
       "      <td>PP-50086</td>\n",
       "    </tr>\n",
       "    <tr>\n",
       "      <th>11</th>\n",
       "      <td>PP-3453</td>\n",
       "    </tr>\n",
       "    <tr>\n",
       "      <th>67</th>\n",
       "      <td>PP-50219</td>\n",
       "    </tr>\n",
       "  </tbody>\n",
       "</table>\n",
       "</div>"
      ],
      "text/plain": [
       "          id\n",
       "70  PP-50860\n",
       "6    PP-3422\n",
       "65  PP-50086\n",
       "11   PP-3453\n",
       "67  PP-50219"
      ]
     },
     "metadata": {},
     "output_type": "display_data"
    }
   ],
   "source": [
    "sample_ids = read_csv(sample_list_file, header=None)\n",
    "sample_ids.columns = ['id']\n",
    "print(f'sample list shape {sample_ids.shape}')\n",
    "if DEBUG:\n",
    "    display(sample_ids.sample(5))"
   ]
  },
  {
   "cell_type": "markdown",
   "metadata": {},
   "source": [
    "#### subset foundin info from parent PPMI set"
   ]
  },
  {
   "cell_type": "code",
   "execution_count": 8,
   "metadata": {},
   "outputs": [
    {
     "name": "stdout",
     "output_type": "stream",
     "text": [
      "AMP-PD chr22 psam shape (10418, 3)\n",
      "FOUNDIN-PD psam subset shape(135, 3)\n"
     ]
    },
    {
     "data": {
      "text/html": [
       "<div>\n",
       "<style scoped>\n",
       "    .dataframe tbody tr th:only-of-type {\n",
       "        vertical-align: middle;\n",
       "    }\n",
       "\n",
       "    .dataframe tbody tr th {\n",
       "        vertical-align: top;\n",
       "    }\n",
       "\n",
       "    .dataframe thead th {\n",
       "        text-align: right;\n",
       "    }\n",
       "</style>\n",
       "<table border=\"1\" class=\"dataframe\">\n",
       "  <thead>\n",
       "    <tr style=\"text-align: right;\">\n",
       "      <th></th>\n",
       "      <th>#FID</th>\n",
       "      <th>IID</th>\n",
       "      <th>SEX</th>\n",
       "    </tr>\n",
       "  </thead>\n",
       "  <tbody>\n",
       "    <tr>\n",
       "      <th>9284</th>\n",
       "      <td>PP-41471</td>\n",
       "      <td>PP-41471</td>\n",
       "      <td>NaN</td>\n",
       "    </tr>\n",
       "    <tr>\n",
       "      <th>9683</th>\n",
       "      <td>PP-54265</td>\n",
       "      <td>PP-54265</td>\n",
       "      <td>NaN</td>\n",
       "    </tr>\n",
       "    <tr>\n",
       "      <th>9586</th>\n",
       "      <td>PP-52530</td>\n",
       "      <td>PP-52530</td>\n",
       "      <td>NaN</td>\n",
       "    </tr>\n",
       "    <tr>\n",
       "      <th>8731</th>\n",
       "      <td>PP-3419</td>\n",
       "      <td>PP-3419</td>\n",
       "      <td>NaN</td>\n",
       "    </tr>\n",
       "    <tr>\n",
       "      <th>9720</th>\n",
       "      <td>PP-55380</td>\n",
       "      <td>PP-55380</td>\n",
       "      <td>NaN</td>\n",
       "    </tr>\n",
       "  </tbody>\n",
       "</table>\n",
       "</div>"
      ],
      "text/plain": [
       "          #FID       IID  SEX\n",
       "9284  PP-41471  PP-41471  NaN\n",
       "9683  PP-54265  PP-54265  NaN\n",
       "9586  PP-52530  PP-52530  NaN\n",
       "8731   PP-3419   PP-3419  NaN\n",
       "9720  PP-55380  PP-55380  NaN"
      ]
     },
     "metadata": {},
     "output_type": "display_data"
    }
   ],
   "source": [
    "# read the AMP-PD chr22 psam\n",
    "in_psam = f'{source_pfiles_prefix}22.psam'\n",
    "psam_df = read_csv(in_psam, sep='\\s+')\n",
    "print(f'AMP-PD chr22 psam shape {psam_df.shape}')\n",
    "\n",
    "# now subset to just the cohort\n",
    "psam_df = psam_df.loc[psam_df['IID'].isin(sample_ids['id'])]\n",
    "print(f'FOUNDIN-PD psam subset shape{psam_df.shape}')\n",
    "if DEBUG:\n",
    "    display(psam_df.sample(5))\n",
    "\n",
    "# now save the cohrt psam\n",
    "psam_df.to_csv(cohort_psam_file, index=False, sep='\\t')"
   ]
  },
  {
   "cell_type": "markdown",
   "metadata": {},
   "source": [
    "#### subset FOUNDIN-PD from AMP-PD plink2 pfile set"
   ]
  },
  {
   "cell_type": "code",
   "execution_count": 10,
   "metadata": {},
   "outputs": [
    {
     "name": "stdout",
     "output_type": "stream",
     "text": [
      "Error: No variants remaining after main filters.\n"
     ]
    }
   ],
   "source": [
    "def frmt_plink2_subset(in_pfiles_prefix, genos_dir, out_name, chrom, \n",
    "                       keep_file, min_mac=1):\n",
    "    in_pfiles = f'{in_pfiles_prefix}{chrom}'\n",
    "    out_pfiles = f'{genos_dir}/{out_name}.chr{chrom}'\n",
    "    if in_pfiles == out_pfiles:\n",
    "        print('in name cannot be same of out name, here')\n",
    "        plink_cmd = '#error'\n",
    "\n",
    "    filter_pass = ' --var-filter'\n",
    "    plink_cmd = f'plink2 --pfile {in_pfiles} --keep {keep_file} \\\n",
    "--mac {min_mac} --silent --make-pgen --out {out_pfiles}'\n",
    "    return plink_cmd\n",
    "\n",
    "cmds = [frmt_plink2_subset(source_pfiles_prefix, genos_dir, cohort_build, chrom, \n",
    "                           cohort_psam_file) for chrom in chromosomes] \n",
    "\n",
    "# print(cmds)\n",
    "# now run the cmds concurrently    \n",
    "run_bash_cmds_threaded(cmds)  "
   ]
  },
  {
   "cell_type": "code",
   "execution_count": null,
   "metadata": {},
   "outputs": [],
   "source": []
  }
 ],
 "metadata": {
  "kernelspec": {
   "display_name": "Python 3 (ipykernel)",
   "language": "python",
   "name": "python3"
  },
  "language_info": {
   "codemirror_mode": {
    "name": "ipython",
    "version": 3
   },
   "file_extension": ".py",
   "mimetype": "text/x-python",
   "name": "python",
   "nbconvert_exporter": "python",
   "pygments_lexer": "ipython3",
   "version": "3.9.15"
  }
 },
 "nbformat": 4,
 "nbformat_minor": 4
}
