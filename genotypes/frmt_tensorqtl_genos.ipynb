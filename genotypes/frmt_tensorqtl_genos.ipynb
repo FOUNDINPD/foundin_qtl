{
 "cells": [
  {
   "cell_type": "markdown",
   "metadata": {},
   "source": [
    "#### Notebook to format genotypes for use with tensorQTL\n",
    "\n",
    "typically store wgs genotypes by chromosome in vcf or plink2 pfiles\n",
    "tensorQTL using plink1 bfiles, so convert, also since small cohort go ahead and merge from per chromosome to genome\n",
    "\n",
    "for now still using plink bfiles with tensorQTL but probably need to figure out newer version of tensorQTL can read from vcf I think"
   ]
  },
  {
   "cell_type": "code",
   "execution_count": 1,
   "metadata": {},
   "outputs": [
    {
     "name": "stdout",
     "output_type": "stream",
     "text": [
      "Wed Dec 14 16:17:54 EST 2022\n"
     ]
    }
   ],
   "source": [
    "!date"
   ]
  },
  {
   "cell_type": "markdown",
   "metadata": {},
   "source": [
    "#### import libraries"
   ]
  },
  {
   "cell_type": "code",
   "execution_count": 2,
   "metadata": {},
   "outputs": [],
   "source": [
    "import concurrent.futures\n",
    "from os.path import exists\n",
    "from os import sched_getaffinity\n",
    "from pandas import read_csv"
   ]
  },
  {
   "cell_type": "markdown",
   "metadata": {},
   "source": [
    "#### set notebook variables"
   ]
  },
  {
   "cell_type": "code",
   "execution_count": 3,
   "metadata": {},
   "outputs": [],
   "source": [
    "# naming\n",
    "cohort = 'foundin'\n",
    "amp_abbr = 'PP'\n",
    "version = 'amppdv1'\n",
    "cohort_version = f'{cohort}.{version}'\n",
    "\n",
    "# directories\n",
    "wrk_dir = '/home/gibbsr/working/foundin/foundin_qtl'\n",
    "geno_dir = f'{wrk_dir}/genotypes'\n",
    "\n",
    "# input files\n",
    "pfiles = '{genodir}/{cohortversion}.chr{chr}'\n",
    "\n",
    "# output files\n",
    "genome_bfile = f'{geno_dir}/{cohort_version}.bfile'\n",
    "\n",
    "# constant values\n",
    "autosomes = [str(x) for x in list(range(1,23))]\n",
    "cpu_cnt = len(sched_getaffinity(0))\n",
    "DEBUG = False"
   ]
  },
  {
   "cell_type": "markdown",
   "metadata": {},
   "source": [
    "#### utility functions"
   ]
  },
  {
   "cell_type": "code",
   "execution_count": 4,
   "metadata": {},
   "outputs": [],
   "source": [
    "def run_bash_cmd(this_cmd: str, verbose: bool=False):\n",
    "    !{this_cmd}"
   ]
  },
  {
   "cell_type": "markdown",
   "metadata": {},
   "source": [
    "#### convert from plink2 pfiles to plink bfiles"
   ]
  },
  {
   "cell_type": "code",
   "execution_count": 5,
   "metadata": {},
   "outputs": [],
   "source": [
    "with concurrent.futures.ProcessPoolExecutor() as ppe:\n",
    "    for chrom in autosomes:\n",
    "        this_pfile = pfiles.format(genodir=geno_dir, cohortversion=cohort_version, chr=chrom)\n",
    "        this_cmd = f'plink2 --pfile {this_pfile} --make-bed --out {this_pfile}.bfile --silent'\n",
    "        ppe.submit(run_bash_cmd, this_cmd)    "
   ]
  },
  {
   "cell_type": "code",
   "execution_count": 6,
   "metadata": {},
   "outputs": [
    {
     "name": "stdout",
     "output_type": "stream",
     "text": [
      "Warning: First fileset to be merged contains duplicate variant ID(s).  Variants\n",
      "with matching IDs are all merged together; if this is not what you want (e.g.\n",
      "you have a bunch of novel variants, all with ID \".\"), assign distinct IDs to\n",
      "them (with e.g. --set-missing-var-ids) before rerunning this merge.\n",
      "Warning: Unusually long variant ID(s) present.  PLINK 1.9 does not scale well\n",
      "to length-80+ variant IDs; consider using a different naming scheme for long\n",
      "indels and the like.\n",
      "Error: 6239 variants with 3+ alleles present.\n",
      "* If you believe this is due to strand inconsistency, try --flip with\n",
      "  /home/gibbsr/working/foundin/foundin_qtl/genotypes/foundin.amppdv1.bfile-merge.missnp.\n",
      "  (Warning: if this seems to work, strand errors involving SNPs with A/T or C/G\n",
      "  alleles probably remain in your data.  If LD between nearby SNPs is high,\n",
      "  --flip-scan should detect them.)\n",
      "* If you are dealing with genuine multiallelic variants, we recommend exporting\n",
      "  that subset of the data to VCF (via e.g. '--recode vcf'), merging with\n",
      "  another tool/script, and then importing the result; PLINK is not yet suited\n",
      "  to handling them.\n",
      "See https://www.cog-genomics.org/plink/1.9/data#merge3 for more discussion.\n",
      "removing problem variants and retrying merge\n",
      "Warning: Unusually long variant ID(s) present.  PLINK 1.9 does not scale well\n",
      "to length-80+ variant IDs; consider using a different naming scheme for long\n",
      "indels and the like.\n",
      "Warning: Variants 'rs941806216' and 'rs201771422' have the same position.\n",
      "Warning: Variants 'rs76022438' and 'chr1:1367615:ATG:A' have the same position.\n",
      "Warning: Variants 'rs565688981' and 'rs113466973' have the same position.\n",
      "9451 more same-position warnings: see log file.\n"
     ]
    }
   ],
   "source": [
    "# merge the files into a single plink binary set\n",
    "def frmt_merge_list_file(geno_dir, cohort_version, autosomes):\n",
    "    merge_file_set = f'{geno_dir}/bfile_merge-list.txt'\n",
    "    with open(merge_file_set, 'w') as file_handler:\n",
    "        for chrom in autosomes:\n",
    "            this_pfile = pfiles.format(genodir=geno_dir, cohortversion=cohort_version, chr=chrom)\n",
    "            file_handler.write(f'{this_pfile}.bfile\\n')\n",
    "    return merge_file_set\n",
    "\n",
    "def run_plink_bfile_merge(merge_file_set, genome_bfile):\n",
    "    this_cmd = f'plink --merge-list {merge_file_set} --make-bed --allow-no-sex \\\n",
    "    --silent --out {genome_bfile} --maf 0.01 --geno 0.05 --hwe 0.000001'\n",
    "    run_bash_cmd(this_cmd, verbose=DEBUG)\n",
    "\n",
    "# merge the per chrom bfiles into a genome bfile\n",
    "merge_file_set = frmt_merge_list_file(geno_dir, cohort_version, autosomes)\n",
    "run_plink_bfile_merge(merge_file_set, genome_bfile)\n",
    "\n",
    "# if there was a missnp problem remove those variant and re-attemp merge\n",
    "if exists(f'{genome_bfile}-merge.missnp'):\n",
    "    print('removing problem variants and retrying merge')\n",
    "    with concurrent.futures.ProcessPoolExecutor() as ppe:\n",
    "        for chrom in autosomes:\n",
    "            this_pfile = pfiles.format(genodir=geno_dir, cohortversion=cohort_version, chr=chrom)\n",
    "            this_cmd = f'plink2 --pfile {this_pfile} --make-bed --out {this_pfile}.bfile \\\n",
    "--silent --exclude {genome_bfile}-merge.missnp'\n",
    "            ppe.submit(run_bash_cmd, this_cmd)           \n",
    "\n",
    "    # try the merge again\n",
    "    merge_file_set = frmt_merge_list_file(geno_dir, cohort_version, autosomes)\n",
    "    run_plink_bfile_merge(merge_file_set, genome_bfile)"
   ]
  },
  {
   "cell_type": "code",
   "execution_count": 7,
   "metadata": {},
   "outputs": [
    {
     "name": "stdout",
     "output_type": "stream",
     "text": [
      "/home/gibbsr/working/foundin/foundin_qtl/genotypes/foundin.amppdv1.bfile.bed\n",
      "/home/gibbsr/working/foundin/foundin_qtl/genotypes/foundin.amppdv1.bfile.bim\n",
      "/home/gibbsr/working/foundin/foundin_qtl/genotypes/foundin.amppdv1.bfile.fam\n",
      "/home/gibbsr/working/foundin/foundin_qtl/genotypes/foundin.amppdv1.bfile.log\n",
      "/home/gibbsr/working/foundin/foundin_qtl/genotypes/foundin.amppdv1.bfile-merge.missnp\n",
      "PLINK v1.90b6.21 64-bit (19 Oct 2020)\n",
      "Options in effect:\n",
      "  --allow-no-sex\n",
      "  --geno 0.05\n",
      "  --hwe 0.000001\n",
      "  --maf 0.01\n",
      "  --make-bed\n",
      "  --merge-list /home/gibbsr/working/foundin/foundin_qtl/genotypes/bfile_merge-list.txt\n",
      "  --out /home/gibbsr/working/foundin/foundin_qtl/genotypes/foundin.amppdv1.bfile\n",
      "  --silent\n",
      "(--maf/--max-maf/--mac/--max-mac).\n",
      "8697174 variants and 119 people pass filters and QC.\n",
      "Note: No phenotypes present.\n",
      "--make-bed to\n",
      "/home/gibbsr/working/foundin/foundin_qtl/genotypes/foundin.amppdv1.bfile.bed +\n",
      "/home/gibbsr/working/foundin/foundin_qtl/genotypes/foundin.amppdv1.bfile.bim +\n",
      "/home/gibbsr/working/foundin/foundin_qtl/genotypes/foundin.amppdv1.bfile.fam\n",
      "... done.\n",
      "\n",
      "End time: Wed Dec 14 16:20:27 2022\n"
     ]
    }
   ],
   "source": [
    "!ls {genome_bfile}*\n",
    "!head {genome_bfile}.log\n",
    "!tail {genome_bfile}.log"
   ]
  },
  {
   "cell_type": "markdown",
   "metadata": {},
   "source": [
    "#### IDs used in analysis will be prefixed 'PPMI' so change AMP-PD 'PPs'"
   ]
  },
  {
   "cell_type": "code",
   "execution_count": 8,
   "metadata": {},
   "outputs": [
    {
     "name": "stdout",
     "output_type": "stream",
     "text": [
      "(119, 6)\n",
      "(119, 6)\n"
     ]
    }
   ],
   "source": [
    "# read fam file and replace IDs\n",
    "fam_df = read_csv(f'{genome_bfile}.fam', sep='\\s+', header=None)\n",
    "print(fam_df.shape)\n",
    "if DEBUG:\n",
    "    display(fam_df.head())\n",
    "# do the replace\n",
    "fam_df[0] = fam_df[1] = fam_df[0].str.replace('PP-', 'PPMI')\n",
    "print(fam_df.shape)\n",
    "if DEBUG:\n",
    "    display(fam_df.head())\n",
    "# write corrected file\n",
    "fam_df.to_csv(f'{genome_bfile}.fam', header=False, index=False, sep=' ')"
   ]
  },
  {
   "cell_type": "code",
   "execution_count": 9,
   "metadata": {},
   "outputs": [
    {
     "name": "stdout",
     "output_type": "stream",
     "text": [
      "Wed Dec 14 16:20:27 EST 2022\n"
     ]
    }
   ],
   "source": [
    "!date"
   ]
  }
 ],
 "metadata": {
  "environment": {
   "kernel": "python3",
   "name": "pytorch-gpu.1-9.m82",
   "type": "gcloud",
   "uri": "gcr.io/deeplearning-platform-release/pytorch-gpu.1-9:m82"
  },
  "kernelspec": {
   "display_name": "Python 3 (ipykernel)",
   "language": "python",
   "name": "python3"
  },
  "language_info": {
   "codemirror_mode": {
    "name": "ipython",
    "version": 3
   },
   "file_extension": ".py",
   "mimetype": "text/x-python",
   "name": "python",
   "nbconvert_exporter": "python",
   "pygments_lexer": "ipython3",
   "version": "3.9.15"
  },
  "widgets": {
   "application/vnd.jupyter.widget-state+json": {
    "state": {},
    "version_major": 2,
    "version_minor": 0
   }
  }
 },
 "nbformat": 4,
 "nbformat_minor": 4
}
