{
 "cells": [
  {
   "cell_type": "markdown",
   "metadata": {},
   "source": [
    "## Notebook to subset cohort genotype callset from larger parent cohort callset"
   ]
  },
  {
   "cell_type": "markdown",
   "metadata": {},
   "source": [
    "#### import libraries and set notebook variables"
   ]
  },
  {
   "cell_type": "code",
   "execution_count": 1,
   "metadata": {},
   "outputs": [],
   "source": [
    "import pandas as pd\n",
    "import os\n",
    "import threading"
   ]
  },
  {
   "cell_type": "code",
   "execution_count": 2,
   "metadata": {},
   "outputs": [],
   "source": [
    "# naming\n",
    "cohort = 'foundin'\n",
    "build = 'freeze9'\n",
    "cohort_build = f'{cohort}.{build}'\n",
    "\n",
    "# directories\n",
    "wrk_dir = f'/labshare/raph/datasets/{cohort}'\n",
    "genos_dir = f'{wrk_dir}/genotypes'\n",
    "info_dir = f'{wrk_dir}/sample_info'\n",
    "\n",
    "# in files\n",
    "ori_sample_list = f'{wrk_dir}/foundin.samples.list'\n",
    "source_pfiles_prefix = '/labshare/raph/datasets/amppd/genotypes/ppmi.freeze9'\n",
    "parent_psam_file = '/labshare/raph/datasets/amppd/sample_info/ppmi.psam'\n",
    "cohort_psam_file = f'{info_dir}/{cohort}.psam'\n",
    "\n",
    "# constants \n",
    "autosomes = [str(x) for x in list(range(1,23))]\n",
    "sexomes = ['X']\n",
    "chromosomes = autosomes + sexomes"
   ]
  },
  {
   "cell_type": "markdown",
   "metadata": {},
   "source": [
    "#### threading related functions"
   ]
  },
  {
   "cell_type": "code",
   "execution_count": 3,
   "metadata": {},
   "outputs": [],
   "source": [
    "#### threading related function\n",
    "\n",
    "# run command line procsss with bash majic\n",
    "# make this a small function so it can be target function for threading\n",
    "def run_bash_cmd(this_cmd):\n",
    "    !{this_cmd}\n",
    "\n",
    "# for each bash command is list add to execution thread, join and wait til all done\n",
    "def run_bash_cmds_threaded(cmd_list):\n",
    "    job_threads = []\n",
    "    for this_cmd in cmd_list:\n",
    "        this_thread = threading.Thread(target=run_bash_cmd, args=(this_cmd,))\n",
    "        job_threads.append(this_thread)\n",
    "        this_thread.start()\n",
    "\n",
    "    for job_thread in job_threads:\n",
    "        job_thread.join()          "
   ]
  },
  {
   "cell_type": "markdown",
   "metadata": {},
   "source": [
    "#### make sure the needed output directories exist"
   ]
  },
  {
   "cell_type": "code",
   "execution_count": 4,
   "metadata": {},
   "outputs": [],
   "source": [
    "os.makedirs(genos_dir, exist_ok=True)\n",
    "os.makedirs(info_dir, exist_ok=True)"
   ]
  },
  {
   "cell_type": "markdown",
   "metadata": {},
   "source": [
    "#### read the original sample ID list, and re-prefix from old LNG to AMPPD"
   ]
  },
  {
   "cell_type": "code",
   "execution_count": 5,
   "metadata": {},
   "outputs": [
    {
     "name": "stdout",
     "output_type": "stream",
     "text": [
      "(135, 1)\n",
      "(135, 2)\n"
     ]
    },
    {
     "data": {
      "text/html": [
       "<div>\n",
       "<style scoped>\n",
       "    .dataframe tbody tr th:only-of-type {\n",
       "        vertical-align: middle;\n",
       "    }\n",
       "\n",
       "    .dataframe tbody tr th {\n",
       "        vertical-align: top;\n",
       "    }\n",
       "\n",
       "    .dataframe thead th {\n",
       "        text-align: right;\n",
       "    }\n",
       "</style>\n",
       "<table border=\"1\" class=\"dataframe\">\n",
       "  <thead>\n",
       "    <tr style=\"text-align: right;\">\n",
       "      <th></th>\n",
       "      <th>ori_id</th>\n",
       "      <th>id</th>\n",
       "    </tr>\n",
       "  </thead>\n",
       "  <tbody>\n",
       "    <tr>\n",
       "      <th>120</th>\n",
       "      <td>PPMISI57277</td>\n",
       "      <td>PP-57277</td>\n",
       "    </tr>\n",
       "    <tr>\n",
       "      <th>76</th>\n",
       "      <td>PPMISI51755</td>\n",
       "      <td>PP-51755</td>\n",
       "    </tr>\n",
       "    <tr>\n",
       "      <th>44</th>\n",
       "      <td>PPMISI4105</td>\n",
       "      <td>PP-4105</td>\n",
       "    </tr>\n",
       "    <tr>\n",
       "      <th>90</th>\n",
       "      <td>PPMISI52828</td>\n",
       "      <td>PP-52828</td>\n",
       "    </tr>\n",
       "    <tr>\n",
       "      <th>91</th>\n",
       "      <td>PPMISI52932</td>\n",
       "      <td>PP-52932</td>\n",
       "    </tr>\n",
       "  </tbody>\n",
       "</table>\n",
       "</div>"
      ],
      "text/plain": [
       "          ori_id        id\n",
       "120  PPMISI57277  PP-57277\n",
       "76   PPMISI51755  PP-51755\n",
       "44    PPMISI4105   PP-4105\n",
       "90   PPMISI52828  PP-52828\n",
       "91   PPMISI52932  PP-52932"
      ]
     },
     "execution_count": 5,
     "metadata": {},
     "output_type": "execute_result"
    }
   ],
   "source": [
    "sample_ids = pd.read_csv(ori_sample_list, header=None)\n",
    "sample_ids.columns = ['ori_id']\n",
    "print(sample_ids.shape)\n",
    "# replace the prefix\n",
    "sample_ids['id'] = sample_ids['ori_id'].str.replace('PPMISI', 'PP-')\n",
    "print(sample_ids.shape)\n",
    "sample_ids.sample(5)"
   ]
  },
  {
   "cell_type": "markdown",
   "metadata": {},
   "source": [
    "#### subset foundin info from parent PPMI set"
   ]
  },
  {
   "cell_type": "code",
   "execution_count": 6,
   "metadata": {},
   "outputs": [
    {
     "name": "stdout",
     "output_type": "stream",
     "text": [
      "(1610, 4)\n",
      "(134, 4)\n"
     ]
    }
   ],
   "source": [
    "# read the parent cohort psam\n",
    "psam_df = pd.read_csv(parent_psam_file, sep='\\s+')\n",
    "print(psam_df.shape)\n",
    "\n",
    "# now subset to just the cohort\n",
    "psam_df = psam_df.loc[psam_df['IID'].isin(sample_ids['id'])]\n",
    "print(psam_df.shape)\n",
    "psam_df.sample(5)\n",
    "\n",
    "# now save the cohrt psam\n",
    "psam_df.to_csv(cohort_psam_file, index=False, sep='\\t')"
   ]
  },
  {
   "cell_type": "markdown",
   "metadata": {},
   "source": [
    "#### for each cohort subset plink2 pfile set"
   ]
  },
  {
   "cell_type": "code",
   "execution_count": 7,
   "metadata": {},
   "outputs": [],
   "source": [
    "def frmt_plink2_subset(in_pfiles_prefix, genos_dir, out_name, chrom, \n",
    "                       keep_file, min_mac=1):\n",
    "    in_pfiles = f'{in_pfiles_prefix}.chr{chrom}'\n",
    "    out_pfiles = f'{genos_dir}/{out_name}.chr{chrom}'\n",
    "    if in_pfiles == out_pfiles:\n",
    "        print('in name cannot be same of out name, here')\n",
    "        plink_cmd = '#error'\n",
    "\n",
    "    filter_pass = ' --var-filter'\n",
    "    plink_cmd = f'plink2 --pfile {in_pfiles} --keep {keep_file} \\\n",
    "--mac {min_mac} --silent --make-pgen --out {out_pfiles}'\n",
    "    return plink_cmd\n",
    "\n",
    "cmds = [frmt_plink2_subset(source_pfiles_prefix, genos_dir, cohort_build, chrom, \n",
    "                           cohort_psam_file) for chrom in chromosomes] \n",
    "\n",
    "# print(cmds)\n",
    "# now run the cmds concurrently    \n",
    "run_bash_cmds_threaded(cmds)  "
   ]
  },
  {
   "cell_type": "code",
   "execution_count": null,
   "metadata": {},
   "outputs": [],
   "source": []
  }
 ],
 "metadata": {
  "kernelspec": {
   "display_name": "Python 3",
   "language": "python",
   "name": "python3"
  },
  "language_info": {
   "codemirror_mode": {
    "name": "ipython",
    "version": 3
   },
   "file_extension": ".py",
   "mimetype": "text/x-python",
   "name": "python",
   "nbconvert_exporter": "python",
   "pygments_lexer": "ipython3",
   "version": "3.7.7"
  }
 },
 "nbformat": 4,
 "nbformat_minor": 4
}
